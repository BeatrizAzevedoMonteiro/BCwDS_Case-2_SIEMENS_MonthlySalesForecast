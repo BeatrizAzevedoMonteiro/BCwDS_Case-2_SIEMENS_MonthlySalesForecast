{
 "cells": [
  {
   "cell_type": "markdown",
   "metadata": {},
   "source": [
    "<p align=\"center\">\n",
    "  <img src=\"header.jpg\" width=\"100%\">\n",
    "</p>\n",
    "\n",
    "\n",
    "<div style=\"text-align: center;\">\n",
    "    <strong style=\"display: block; margin-bottom: 10px;\">Group P</strong> \n",
    "    <table style=\"margin: 0 auto; border-collapse: collapse; border: 1px solid black;\">\n",
    "        <tr>\n",
    "            <th style=\"border: 1px solid white; padding: 8px;\">Name</th>\n",
    "            <th style=\"border: 1px solid white; padding: 8px;\">Student ID</th>\n",
    "        </tr>\n",
    "        <tr>\n",
    "            <td style=\"border: 1px solid white; padding: 8px;\">Beatriz Monteiro</td>\n",
    "            <td style=\"border: 1px solid white; padding: 8px;\">20240591</td>\n",
    "        </tr>\n",
    "        <tr>\n",
    "            <td style=\"border: 1px solid white; padding: 8px;\">Catarina Nunes</td>\n",
    "            <td style=\"border: 1px solid white; padding: 8px;\">20230083</td>\n",
    "        </tr>\n",
    "        <tr>\n",
    "            <td style=\"border: 1px solid white; padding: 8px;\">Margarida Raposo</td>\n",
    "            <td style=\"border: 1px solid white; padding: 8px;\">20241020</td>\n",
    "        </tr>\n",
    "        <tr>\n",
    "            <td style=\"border: 1px solid white; padding: 8px;\">Teresa Menezes</td>\n",
    "            <td style=\"border: 1px solid white; padding: 8px;\">20240333</td>\n",
    "        </tr>\n",
    "    </table>\n",
    "</div>"
   ]
  },
  {
   "cell_type": "markdown",
   "metadata": {},
   "source": [
    "### 🔗 Table of Contents <a id='table-of-contents'></a>\n",
    "1. [Introduction](#introduction)  \n",
    "2. [Business Understanding](#business-understanding)  \n",
    "3. [Data Understanding](#data-understanding)  \n",
    "4. [Data Preparation](#data-preparation)  \n",
    "5. [Modeling](#modeling)  \n",
    "6. [Evaluation](#evaluation)  \n",
    "7. [Conclusion](#conclusion)  \n",
    "\n",
    "---"
   ]
  },
  {
   "cell_type": "markdown",
   "metadata": {},
   "source": [
    "### <span style=\"background-color:#235987; padding:5px; border-radius:5px;\"> 📌 Introduction <a id='introduction'></a>\n",
    "\n",
    "This project follows the **CRISP-DM** methodology to conduct a monthly sales forecast of the smart infrastructure business unit of Siemens. \n",
    "\n",
    "\n",
    "#### Montlhy Sales Forecast\n",
    "\n",
    "<p style=\"margin-bottom: 50px;\"> This case study focuses on ... </p>\n",
    "\n",
    "**Market Data** \n",
    "| Features                                      | Feature Description |\n",
    "|-----------------------------------------------|---------------------|\n",
    "| *MAB_ELE_PRO156*                              |  |\n",
    "| *MAB_ELE_SHP156*                              |  |\n",
    "| *MAB_ELE_PRO250*                              |  |\n",
    "| *MAB_ELE_SHP250*                              |  |\n",
    "| *MAB_ELE_PRO276*                              |  |\n",
    "| *MAB_ELE_SHP276*                              |  |\n",
    "| *MAB_ELE_PRO380*                              |  |\n",
    "| *MAB_ELE_SHP380*                              |  |\n",
    "| *MAB_ELE_PRO392*                              |  |\n",
    "| *MAB_ELE_SHP392*                              |  |\n",
    "| *MAB_ELE_PRO756*                              |  |\n",
    "| *MAB_ELE_SHP756*                              |  |\n",
    "| *MAB_ELE_PRO826*                              |  |\n",
    "| *MAB_ELE_SHP826*                              |  |\n",
    "| *MAB_ELE_PRO840*                              |  |\n",
    "| *MAB_ELE_SHP840*                              |  |\n",
    "| *MAB_ELE_PRO1100*                             |  |\n",
    "| *MAB_ELE_SHP1100*                             |  |\n",
    "| *RohiBASEMET1000_org*                         |  |\n",
    "| *RohiENERGY1000_org*                          |  |\n",
    "| *RohiMETMIN1000_org*                          |  |\n",
    "| *RohiNATGAS1000_org*                          |  |\n",
    "| *RohCRUDE_PETRO1000_org*                      |  |\n",
    "| *RohCOPPER1000_org*                           |  |\n",
    "| *WKLWEUR840_org*                              |  |\n",
    "| *PRI27840_org*                                |  |\n",
    "| *PRI27826_org*                                |  |\n",
    "| *PRI27380_org*                                |  |\n",
    "| *PRI27250_org*                                |  |\n",
    "| *PRI27276_org*                                |  |\n",
    "| *PRI27156_org*                                |  |\n",
    "| *PRO28840_org*                                |  |\n",
    "| *PRO281000_org*                               |  |\n",
    "| *PRO28756_org*                                |  |\n",
    "| *PRO28826_org*                                |  |\n",
    "| *PRO28380_org*                                |  |\n",
    "| *PRO28392_org*                                |  |\n",
    "| *PRO28250_org*                                |  |\n",
    "| *PRO28276_org*                                |  |\n",
    "| *PRO27840_org*                                |  |\n",
    "| *PRO271000_org*                               |  |\n",
    "| *PRO27756_org*                                |  |\n",
    "| *PRO27826_org*                                |  |\n",
    "| *PRO27380_org*                                |  |\n",
    "| *PRO27392_org*                                |  |\n",
    "| *PRO27250_org*                                |  |\n",
    "| *PRO27276_org*                                |  |\n",
    "\n",
    "- **Production index** is an economic indicator that measures the output quantity of a country's industrial sector. In this case the base year is 2010, meaning **if the production index >100, then production decreased, compared to 2010**. \n",
    "\n",
    "\n",
    "**Sales Data**\n",
    "| Features                                      | Feature Description |\n",
    "|-----------------------------------------------|---------------------|\n",
    "| *DATE*                                       |   |\n",
    "| *Mapped_GCK*                                 |   |\n",
    "| *Sales_EUR*                                  |   |\n",
    "\n",
    "<b style=\"background-color:#A9A9A9; padding:5px; border-radius:5px; display: inline-block; margin-top: 50px;\">CRISP-DM</b>\n",
    "\n",
    "<ul style=\"margin-bottom: 30px;\">\n",
    "    <li><u>Business Understanding</u>: Defining objectives, assessing resources, and project planning.</li>\n",
    "    <li><u>Data Understanding</u>: Collecting, exploring, and verifying data quality.</li>\n",
    "    <li><u>Data Preparation</u>: Selecting, cleaning, constructing, integrating, and formatting data to ensure it is ready for analysis.</li>\n",
    "    <li><u>Modeling</u>: Selecting and applying various modeling techniques while calibrating their parameters to optimal values.</li>\n",
    "    <li><u>Evaluation</u>: Select the models which are the best performers and evaluate thoroughly if they align with the business objectives. </li>\n",
    "    <li><u>Deployment</u>: Bridge between data mining goals and the business application of the finalized model.</li>\n",
    "</ul>\n",
    "\n",
    "<hr style=\"margin-top: 30px;\">\n"
   ]
  },
  {
   "cell_type": "code",
   "execution_count": 450,
   "metadata": {},
   "outputs": [],
   "source": [
    "import pandas as pd\n",
    "import numpy as np\n",
    "\n",
    "import seaborn as sns\n",
    "import matplotlib.pyplot as plt\n",
    "import plotly.express as px\n",
    "import plotly.graph_objects as go"
   ]
  },
  {
   "cell_type": "code",
   "execution_count": 451,
   "metadata": {
    "vscode": {
     "languageId": "powershell"
    }
   },
   "outputs": [],
   "source": [
    "pd.set_option('display.max_columns', None)"
   ]
  },
  {
   "cell_type": "code",
   "execution_count": 452,
   "metadata": {
    "vscode": {
     "languageId": "powershell"
    }
   },
   "outputs": [],
   "source": [
    "#compose a pallete to use in the vizualizations\n",
    "pal_novaims = ['#003B5C','#003B5C','#003B5C','#003B5C','#003B5C']\n",
    "pastel_color = sns.utils.set_hls_values(pal_novaims[1], l=0.4, s=0.3)"
   ]
  },
  {
   "cell_type": "markdown",
   "metadata": {},
   "source": [
    "### <span style=\"background-color:#235987; padding:5px; border-radius:5px;\"> 📌 Business Understanding <a id='business-understanding'></a>\n",
    "\n",
    "##### Click [here](#table-of-contents) ⬆️ to return to the Index.\n",
    "---"
   ]
  },
  {
   "cell_type": "markdown",
   "metadata": {},
   "source": [
    "The **Business Understanding** phase of the project entails the comprehension of the background leading to the project, as well as the business goals and requirements to be achieved. \n",
    "\n",
    "<b style=\"background-color:#A9A9A9; padding:5px; border-radius:5px;\">Primary Business Objective</b> : \n",
    "\n",
    "\n",
    "<b style=\"background-color:#A9A9A9; padding:5px; border-radius:5px;\">Plan</b> : "
   ]
  },
  {
   "cell_type": "markdown",
   "metadata": {},
   "source": [
    "### <span style=\"background-color:#235987; padding:5px; border-radius:5px;\"> 📌 Data Understanding</span> <a id='data-understanding'></a>\n",
    "\n",
    "- **[Data Loading and Description](#data-loading-and-description)**  \n",
    "- **[Data Types](#Data-TypesDU)**\n",
    "- **[Univariate EDA: Descriptive Summary](#Descriptive-Summary)**\n",
    "- **[Univariate EDA: Missing values](#missing-valuesDU)**  \n",
    "- **[Inconsistencies](#inconsistenciesDU)**  \n",
    "- **[Feature Engineering](#feature-engineeringDU)**  \n",
    "- **[Univariate EDA: Data Visualization](#univariate-vizualization)**  \n",
    "    - **Numerical Variables:**  \n",
    "        - [Numeric variables: Histograms](#hist)\n",
    "        - [Outliers Analysis: Box-Plots](#box)\n",
    "    - **Categorical Variables**  \n",
    "        - [Categorical variables: Bar Plots](#bar)\n",
    "        - [Categorical variables: Geographic Map](#GeographicMap)\n",
    "- **[Bivariate EDA: Data Visualization](#Bivariate-Vizualization)**  \n",
    "   - [Numeric-Numeric: Correlations](#NNCorrelations)\n",
    "   - [Numeric-Categorical: Correlations](#NCCorrelations)\n",
    "   - [Categorical-Categorical: Cross-tabulations](#CCCross-tabulations)\n",
    "- **[Multivariate EDA: Duplicates](#Multivariate)**\n",
    "   - [Old Segmentation Vs. All](#old-segmentation)\n",
    "   - [Duplicates](#duplicatesdu)  \n",
    "- **[Market Basket Analysis](#MBA)**\n",
    "\n",
    "\n",
    "##### Click [here](#table-of-contents) ⬆️ to return to the Index.\n",
    "---"
   ]
  },
  {
   "cell_type": "markdown",
   "metadata": {},
   "source": [
    "#### <span style=\"background-color:#235987; padding:5px; border-radius:5px;\">**Data Loading and Description**</span> <a id='data-loading-and-description'></a>  \n",
    "_This section provides an overview of the dataset, including its structure, size, and general characteristics._  \n",
    "\n",
    "##### Click [here](#table-of-contents) ⬆️ to return to the Index.\n"
   ]
  },
  {
   "cell_type": "code",
   "execution_count": 453,
   "metadata": {},
   "outputs": [
    {
     "data": {
      "text/html": [
       "<div>\n",
       "<style scoped>\n",
       "    .dataframe tbody tr th:only-of-type {\n",
       "        vertical-align: middle;\n",
       "    }\n",
       "\n",
       "    .dataframe tbody tr th {\n",
       "        vertical-align: top;\n",
       "    }\n",
       "\n",
       "    .dataframe thead th {\n",
       "        text-align: right;\n",
       "    }\n",
       "</style>\n",
       "<table border=\"1\" class=\"dataframe\">\n",
       "  <thead>\n",
       "    <tr style=\"text-align: right;\">\n",
       "      <th></th>\n",
       "      <th>MAB_ELE_PRO156</th>\n",
       "      <th>MAB_ELE_SHP156</th>\n",
       "      <th>MAB_ELE_PRO250</th>\n",
       "      <th>MAB_ELE_SHP250</th>\n",
       "      <th>MAB_ELE_PRO276</th>\n",
       "      <th>MAB_ELE_SHP276</th>\n",
       "      <th>MAB_ELE_PRO380</th>\n",
       "      <th>MAB_ELE_SHP380</th>\n",
       "      <th>MAB_ELE_PRO392</th>\n",
       "      <th>MAB_ELE_SHP392</th>\n",
       "      <th>MAB_ELE_PRO756</th>\n",
       "      <th>MAB_ELE_SHP756</th>\n",
       "      <th>MAB_ELE_PRO826</th>\n",
       "      <th>MAB_ELE_SHP826</th>\n",
       "      <th>MAB_ELE_PRO840</th>\n",
       "      <th>MAB_ELE_SHP840</th>\n",
       "      <th>MAB_ELE_PRO1100</th>\n",
       "      <th>MAB_ELE_SHP1100</th>\n",
       "      <th>RohiBASEMET1000_org</th>\n",
       "      <th>RohiENERGY1000_org</th>\n",
       "      <th>RohiMETMIN1000_org</th>\n",
       "      <th>RohiNATGAS1000_org</th>\n",
       "      <th>RohCRUDE_PETRO1000_org</th>\n",
       "      <th>RohCOPPER1000_org</th>\n",
       "      <th>WKLWEUR840_org</th>\n",
       "      <th>PRI27840_org</th>\n",
       "      <th>PRI27826_org</th>\n",
       "      <th>PRI27380_org</th>\n",
       "      <th>PRI27250_org</th>\n",
       "      <th>PRI27276_org</th>\n",
       "      <th>PRI27156_org</th>\n",
       "      <th>PRO28840_org</th>\n",
       "      <th>PRO281000_org</th>\n",
       "      <th>PRO28756_org</th>\n",
       "      <th>PRO28826_org</th>\n",
       "      <th>PRO28380_org</th>\n",
       "      <th>PRO28392_org</th>\n",
       "      <th>PRO28250_org</th>\n",
       "      <th>PRO28276_org</th>\n",
       "      <th>PRO27840_org</th>\n",
       "      <th>PRO271000_org</th>\n",
       "      <th>PRO27756_org</th>\n",
       "      <th>PRO27826_org</th>\n",
       "      <th>PRO27380_org</th>\n",
       "      <th>PRO27392_org</th>\n",
       "      <th>PRO27250_org</th>\n",
       "      <th>PRO27276_org</th>\n",
       "    </tr>\n",
       "    <tr>\n",
       "      <th>date</th>\n",
       "      <th></th>\n",
       "      <th></th>\n",
       "      <th></th>\n",
       "      <th></th>\n",
       "      <th></th>\n",
       "      <th></th>\n",
       "      <th></th>\n",
       "      <th></th>\n",
       "      <th></th>\n",
       "      <th></th>\n",
       "      <th></th>\n",
       "      <th></th>\n",
       "      <th></th>\n",
       "      <th></th>\n",
       "      <th></th>\n",
       "      <th></th>\n",
       "      <th></th>\n",
       "      <th></th>\n",
       "      <th></th>\n",
       "      <th></th>\n",
       "      <th></th>\n",
       "      <th></th>\n",
       "      <th></th>\n",
       "      <th></th>\n",
       "      <th></th>\n",
       "      <th></th>\n",
       "      <th></th>\n",
       "      <th></th>\n",
       "      <th></th>\n",
       "      <th></th>\n",
       "      <th></th>\n",
       "      <th></th>\n",
       "      <th></th>\n",
       "      <th></th>\n",
       "      <th></th>\n",
       "      <th></th>\n",
       "      <th></th>\n",
       "      <th></th>\n",
       "      <th></th>\n",
       "      <th></th>\n",
       "      <th></th>\n",
       "      <th></th>\n",
       "      <th></th>\n",
       "      <th></th>\n",
       "      <th></th>\n",
       "      <th></th>\n",
       "      <th></th>\n",
       "    </tr>\n",
       "  </thead>\n",
       "  <tbody>\n",
       "    <tr>\n",
       "      <th>2004m2</th>\n",
       "      <td>16.940704</td>\n",
       "      <td>16.940704</td>\n",
       "      <td>112.091273</td>\n",
       "      <td>83.458866</td>\n",
       "      <td>82.623037</td>\n",
       "      <td>79.452532</td>\n",
       "      <td>124.289603</td>\n",
       "      <td>86.560493</td>\n",
       "      <td>109.334010</td>\n",
       "      <td>110.495272</td>\n",
       "      <td>91.221862</td>\n",
       "      <td>89.987275</td>\n",
       "      <td>111.353812</td>\n",
       "      <td>73.601265</td>\n",
       "      <td>107.601400</td>\n",
       "      <td>79.240230</td>\n",
       "      <td>97.122911</td>\n",
       "      <td>80.098530</td>\n",
       "      <td>54.039811</td>\n",
       "      <td>44.123338</td>\n",
       "      <td>48.747945</td>\n",
       "      <td>87.076974</td>\n",
       "      <td>39.639458</td>\n",
       "      <td>36.623832</td>\n",
       "      <td>1.2646</td>\n",
       "      <td>78.969864</td>\n",
       "      <td>80.757423</td>\n",
       "      <td>93.020027</td>\n",
       "      <td>NaN</td>\n",
       "      <td>93.230453</td>\n",
       "      <td>NaN</td>\n",
       "      <td>102.491722</td>\n",
       "      <td>97.597374</td>\n",
       "      <td>97.100000</td>\n",
       "      <td>106.191977</td>\n",
       "      <td>116.790276</td>\n",
       "      <td>110.890034</td>\n",
       "      <td>118.274109</td>\n",
       "      <td>80.829010</td>\n",
       "      <td>117.723991</td>\n",
       "      <td>NaN</td>\n",
       "      <td>81.100000</td>\n",
       "      <td>120.706516</td>\n",
       "      <td>141.510864</td>\n",
       "      <td>106.161262</td>\n",
       "      <td>102.077057</td>\n",
       "      <td>85.913200</td>\n",
       "    </tr>\n",
       "    <tr>\n",
       "      <th>2004m3</th>\n",
       "      <td>23.711852</td>\n",
       "      <td>23.711852</td>\n",
       "      <td>136.327976</td>\n",
       "      <td>106.168192</td>\n",
       "      <td>100.556582</td>\n",
       "      <td>97.012918</td>\n",
       "      <td>143.411662</td>\n",
       "      <td>106.344544</td>\n",
       "      <td>140.884616</td>\n",
       "      <td>144.686166</td>\n",
       "      <td>85.866287</td>\n",
       "      <td>79.883583</td>\n",
       "      <td>127.558608</td>\n",
       "      <td>84.047595</td>\n",
       "      <td>110.187364</td>\n",
       "      <td>98.619024</td>\n",
       "      <td>113.783904</td>\n",
       "      <td>96.015929</td>\n",
       "      <td>54.666162</td>\n",
       "      <td>47.588957</td>\n",
       "      <td>49.256157</td>\n",
       "      <td>87.192705</td>\n",
       "      <td>42.592034</td>\n",
       "      <td>39.931055</td>\n",
       "      <td>1.2262</td>\n",
       "      <td>79.673569</td>\n",
       "      <td>80.962135</td>\n",
       "      <td>93.540268</td>\n",
       "      <td>NaN</td>\n",
       "      <td>93.335678</td>\n",
       "      <td>NaN</td>\n",
       "      <td>105.627480</td>\n",
       "      <td>113.224892</td>\n",
       "      <td>91.195116</td>\n",
       "      <td>121.625075</td>\n",
       "      <td>139.288391</td>\n",
       "      <td>141.176853</td>\n",
       "      <td>148.121841</td>\n",
       "      <td>102.130104</td>\n",
       "      <td>119.220779</td>\n",
       "      <td>NaN</td>\n",
       "      <td>76.690307</td>\n",
       "      <td>138.309550</td>\n",
       "      <td>152.880234</td>\n",
       "      <td>140.288741</td>\n",
       "      <td>117.225685</td>\n",
       "      <td>97.670815</td>\n",
       "    </tr>\n",
       "    <tr>\n",
       "      <th>2004m4</th>\n",
       "      <td>24.435235</td>\n",
       "      <td>24.435235</td>\n",
       "      <td>117.791806</td>\n",
       "      <td>92.007646</td>\n",
       "      <td>89.653203</td>\n",
       "      <td>84.932358</td>\n",
       "      <td>129.083828</td>\n",
       "      <td>95.579673</td>\n",
       "      <td>105.853579</td>\n",
       "      <td>102.655769</td>\n",
       "      <td>85.622508</td>\n",
       "      <td>79.740802</td>\n",
       "      <td>108.732297</td>\n",
       "      <td>73.026027</td>\n",
       "      <td>108.166564</td>\n",
       "      <td>89.774031</td>\n",
       "      <td>101.715199</td>\n",
       "      <td>85.167236</td>\n",
       "      <td>54.872715</td>\n",
       "      <td>47.779013</td>\n",
       "      <td>49.423751</td>\n",
       "      <td>91.379923</td>\n",
       "      <td>42.650637</td>\n",
       "      <td>39.134854</td>\n",
       "      <td>1.1985</td>\n",
       "      <td>80.337639</td>\n",
       "      <td>80.757423</td>\n",
       "      <td>93.852425</td>\n",
       "      <td>NaN</td>\n",
       "      <td>93.440903</td>\n",
       "      <td>NaN</td>\n",
       "      <td>103.484955</td>\n",
       "      <td>100.169090</td>\n",
       "      <td>93.793535</td>\n",
       "      <td>104.965505</td>\n",
       "      <td>125.289566</td>\n",
       "      <td>105.648765</td>\n",
       "      <td>125.482231</td>\n",
       "      <td>90.961426</td>\n",
       "      <td>117.441124</td>\n",
       "      <td>NaN</td>\n",
       "      <td>71.552403</td>\n",
       "      <td>115.557330</td>\n",
       "      <td>137.796875</td>\n",
       "      <td>106.271197</td>\n",
       "      <td>105.335777</td>\n",
       "      <td>87.253983</td>\n",
       "    </tr>\n",
       "    <tr>\n",
       "      <th>2004m5</th>\n",
       "      <td>23.708115</td>\n",
       "      <td>23.708115</td>\n",
       "      <td>109.002541</td>\n",
       "      <td>85.696486</td>\n",
       "      <td>86.880571</td>\n",
       "      <td>82.372794</td>\n",
       "      <td>135.590391</td>\n",
       "      <td>100.087039</td>\n",
       "      <td>101.864777</td>\n",
       "      <td>100.305285</td>\n",
       "      <td>85.378729</td>\n",
       "      <td>79.598021</td>\n",
       "      <td>110.645200</td>\n",
       "      <td>74.591883</td>\n",
       "      <td>108.425887</td>\n",
       "      <td>87.463813</td>\n",
       "      <td>101.275727</td>\n",
       "      <td>84.485767</td>\n",
       "      <td>51.230356</td>\n",
       "      <td>53.590898</td>\n",
       "      <td>46.468392</td>\n",
       "      <td>99.044520</td>\n",
       "      <td>47.517121</td>\n",
       "      <td>36.278433</td>\n",
       "      <td>1.2007</td>\n",
       "      <td>80.798828</td>\n",
       "      <td>80.757423</td>\n",
       "      <td>93.852425</td>\n",
       "      <td>NaN</td>\n",
       "      <td>93.546127</td>\n",
       "      <td>NaN</td>\n",
       "      <td>103.643944</td>\n",
       "      <td>99.581436</td>\n",
       "      <td>96.391954</td>\n",
       "      <td>105.885359</td>\n",
       "      <td>131.988998</td>\n",
       "      <td>101.990361</td>\n",
       "      <td>116.649750</td>\n",
       "      <td>88.082901</td>\n",
       "      <td>117.899216</td>\n",
       "      <td>NaN</td>\n",
       "      <td>66.414500</td>\n",
       "      <td>119.269534</td>\n",
       "      <td>143.860535</td>\n",
       "      <td>101.608710</td>\n",
       "      <td>96.616508</td>\n",
       "      <td>84.675552</td>\n",
       "    </tr>\n",
       "    <tr>\n",
       "      <th>2004m6</th>\n",
       "      <td>27.009138</td>\n",
       "      <td>27.009138</td>\n",
       "      <td>133.785737</td>\n",
       "      <td>106.641482</td>\n",
       "      <td>99.010814</td>\n",
       "      <td>95.108740</td>\n",
       "      <td>136.424935</td>\n",
       "      <td>110.889719</td>\n",
       "      <td>120.332920</td>\n",
       "      <td>119.616380</td>\n",
       "      <td>85.134950</td>\n",
       "      <td>79.455239</td>\n",
       "      <td>122.020960</td>\n",
       "      <td>82.343346</td>\n",
       "      <td>110.569933</td>\n",
       "      <td>97.364496</td>\n",
       "      <td>112.057197</td>\n",
       "      <td>96.963294</td>\n",
       "      <td>52.876331</td>\n",
       "      <td>50.799575</td>\n",
       "      <td>47.803913</td>\n",
       "      <td>98.636267</td>\n",
       "      <td>44.967605</td>\n",
       "      <td>35.657380</td>\n",
       "      <td>1.2138</td>\n",
       "      <td>80.913490</td>\n",
       "      <td>80.552711</td>\n",
       "      <td>93.956467</td>\n",
       "      <td>NaN</td>\n",
       "      <td>93.440903</td>\n",
       "      <td>NaN</td>\n",
       "      <td>106.062668</td>\n",
       "      <td>109.277710</td>\n",
       "      <td>98.990373</td>\n",
       "      <td>118.252278</td>\n",
       "      <td>132.988922</td>\n",
       "      <td>122.136575</td>\n",
       "      <td>143.248734</td>\n",
       "      <td>100.978699</td>\n",
       "      <td>119.499107</td>\n",
       "      <td>NaN</td>\n",
       "      <td>61.276596</td>\n",
       "      <td>128.849416</td>\n",
       "      <td>144.315308</td>\n",
       "      <td>116.655248</td>\n",
       "      <td>118.458710</td>\n",
       "      <td>95.401802</td>\n",
       "    </tr>\n",
       "  </tbody>\n",
       "</table>\n",
       "</div>"
      ],
      "text/plain": [
       "         MAB_ELE_PRO156  MAB_ELE_SHP156  MAB_ELE_PRO250  MAB_ELE_SHP250  \\\n",
       "date                                                                      \n",
       " 2004m2       16.940704       16.940704      112.091273       83.458866   \n",
       " 2004m3       23.711852       23.711852      136.327976      106.168192   \n",
       " 2004m4       24.435235       24.435235      117.791806       92.007646   \n",
       " 2004m5       23.708115       23.708115      109.002541       85.696486   \n",
       " 2004m6       27.009138       27.009138      133.785737      106.641482   \n",
       "\n",
       "         MAB_ELE_PRO276  MAB_ELE_SHP276  MAB_ELE_PRO380  MAB_ELE_SHP380  \\\n",
       "date                                                                      \n",
       " 2004m2       82.623037       79.452532      124.289603       86.560493   \n",
       " 2004m3      100.556582       97.012918      143.411662      106.344544   \n",
       " 2004m4       89.653203       84.932358      129.083828       95.579673   \n",
       " 2004m5       86.880571       82.372794      135.590391      100.087039   \n",
       " 2004m6       99.010814       95.108740      136.424935      110.889719   \n",
       "\n",
       "         MAB_ELE_PRO392  MAB_ELE_SHP392  MAB_ELE_PRO756  MAB_ELE_SHP756  \\\n",
       "date                                                                      \n",
       " 2004m2      109.334010      110.495272       91.221862       89.987275   \n",
       " 2004m3      140.884616      144.686166       85.866287       79.883583   \n",
       " 2004m4      105.853579      102.655769       85.622508       79.740802   \n",
       " 2004m5      101.864777      100.305285       85.378729       79.598021   \n",
       " 2004m6      120.332920      119.616380       85.134950       79.455239   \n",
       "\n",
       "         MAB_ELE_PRO826  MAB_ELE_SHP826  MAB_ELE_PRO840  MAB_ELE_SHP840  \\\n",
       "date                                                                      \n",
       " 2004m2      111.353812       73.601265      107.601400       79.240230   \n",
       " 2004m3      127.558608       84.047595      110.187364       98.619024   \n",
       " 2004m4      108.732297       73.026027      108.166564       89.774031   \n",
       " 2004m5      110.645200       74.591883      108.425887       87.463813   \n",
       " 2004m6      122.020960       82.343346      110.569933       97.364496   \n",
       "\n",
       "         MAB_ELE_PRO1100  MAB_ELE_SHP1100  RohiBASEMET1000_org  \\\n",
       "date                                                             \n",
       " 2004m2        97.122911        80.098530            54.039811   \n",
       " 2004m3       113.783904        96.015929            54.666162   \n",
       " 2004m4       101.715199        85.167236            54.872715   \n",
       " 2004m5       101.275727        84.485767            51.230356   \n",
       " 2004m6       112.057197        96.963294            52.876331   \n",
       "\n",
       "         RohiENERGY1000_org  RohiMETMIN1000_org  RohiNATGAS1000_org  \\\n",
       "date                                                                  \n",
       " 2004m2           44.123338           48.747945           87.076974   \n",
       " 2004m3           47.588957           49.256157           87.192705   \n",
       " 2004m4           47.779013           49.423751           91.379923   \n",
       " 2004m5           53.590898           46.468392           99.044520   \n",
       " 2004m6           50.799575           47.803913           98.636267   \n",
       "\n",
       "         RohCRUDE_PETRO1000_org  RohCOPPER1000_org  WKLWEUR840_org  \\\n",
       "date                                                                 \n",
       " 2004m2               39.639458          36.623832          1.2646   \n",
       " 2004m3               42.592034          39.931055          1.2262   \n",
       " 2004m4               42.650637          39.134854          1.1985   \n",
       " 2004m5               47.517121          36.278433          1.2007   \n",
       " 2004m6               44.967605          35.657380          1.2138   \n",
       "\n",
       "         PRI27840_org  PRI27826_org  PRI27380_org  PRI27250_org  PRI27276_org  \\\n",
       "date                                                                            \n",
       " 2004m2     78.969864     80.757423     93.020027           NaN     93.230453   \n",
       " 2004m3     79.673569     80.962135     93.540268           NaN     93.335678   \n",
       " 2004m4     80.337639     80.757423     93.852425           NaN     93.440903   \n",
       " 2004m5     80.798828     80.757423     93.852425           NaN     93.546127   \n",
       " 2004m6     80.913490     80.552711     93.956467           NaN     93.440903   \n",
       "\n",
       "         PRI27156_org  PRO28840_org  PRO281000_org  PRO28756_org  \\\n",
       "date                                                               \n",
       " 2004m2           NaN    102.491722      97.597374     97.100000   \n",
       " 2004m3           NaN    105.627480     113.224892     91.195116   \n",
       " 2004m4           NaN    103.484955     100.169090     93.793535   \n",
       " 2004m5           NaN    103.643944      99.581436     96.391954   \n",
       " 2004m6           NaN    106.062668     109.277710     98.990373   \n",
       "\n",
       "         PRO28826_org  PRO28380_org  PRO28392_org  PRO28250_org  PRO28276_org  \\\n",
       "date                                                                            \n",
       " 2004m2    106.191977    116.790276    110.890034    118.274109     80.829010   \n",
       " 2004m3    121.625075    139.288391    141.176853    148.121841    102.130104   \n",
       " 2004m4    104.965505    125.289566    105.648765    125.482231     90.961426   \n",
       " 2004m5    105.885359    131.988998    101.990361    116.649750     88.082901   \n",
       " 2004m6    118.252278    132.988922    122.136575    143.248734    100.978699   \n",
       "\n",
       "         PRO27840_org  PRO271000_org  PRO27756_org  PRO27826_org  \\\n",
       "date                                                               \n",
       " 2004m2    117.723991            NaN     81.100000    120.706516   \n",
       " 2004m3    119.220779            NaN     76.690307    138.309550   \n",
       " 2004m4    117.441124            NaN     71.552403    115.557330   \n",
       " 2004m5    117.899216            NaN     66.414500    119.269534   \n",
       " 2004m6    119.499107            NaN     61.276596    128.849416   \n",
       "\n",
       "         PRO27380_org  PRO27392_org  PRO27250_org  PRO27276_org  \n",
       "date                                                             \n",
       " 2004m2    141.510864    106.161262    102.077057     85.913200  \n",
       " 2004m3    152.880234    140.288741    117.225685     97.670815  \n",
       " 2004m4    137.796875    106.271197    105.335777     87.253983  \n",
       " 2004m5    143.860535    101.608710     96.616508     84.675552  \n",
       " 2004m6    144.315308    116.655248    118.458710     95.401802  "
      ]
     },
     "execution_count": 453,
     "metadata": {},
     "output_type": "execute_result"
    }
   ],
   "source": [
    "df_market = pd.read_excel('Data/Case2_Market data.xlsx', sheet_name=\"Original Values\", index_col=0, header=2)\n",
    "df_market.head()"
   ]
  },
  {
   "cell_type": "code",
   "execution_count": 454,
   "metadata": {},
   "outputs": [
    {
     "data": {
      "text/html": [
       "<div>\n",
       "<style scoped>\n",
       "    .dataframe tbody tr th:only-of-type {\n",
       "        vertical-align: middle;\n",
       "    }\n",
       "\n",
       "    .dataframe tbody tr th {\n",
       "        vertical-align: top;\n",
       "    }\n",
       "\n",
       "    .dataframe thead th {\n",
       "        text-align: right;\n",
       "    }\n",
       "</style>\n",
       "<table border=\"1\" class=\"dataframe\">\n",
       "  <thead>\n",
       "    <tr style=\"text-align: right;\">\n",
       "      <th></th>\n",
       "      <th>MAB_ELE_PRO156</th>\n",
       "      <th>MAB_ELE_SHP156</th>\n",
       "      <th>MAB_ELE_PRO250</th>\n",
       "      <th>MAB_ELE_SHP250</th>\n",
       "      <th>MAB_ELE_PRO276</th>\n",
       "      <th>MAB_ELE_SHP276</th>\n",
       "      <th>MAB_ELE_PRO380</th>\n",
       "      <th>MAB_ELE_SHP380</th>\n",
       "      <th>MAB_ELE_PRO392</th>\n",
       "      <th>MAB_ELE_SHP392</th>\n",
       "      <th>MAB_ELE_PRO756</th>\n",
       "      <th>MAB_ELE_SHP756</th>\n",
       "      <th>MAB_ELE_PRO826</th>\n",
       "      <th>MAB_ELE_SHP826</th>\n",
       "      <th>MAB_ELE_PRO840</th>\n",
       "      <th>MAB_ELE_SHP840</th>\n",
       "      <th>MAB_ELE_PRO1100</th>\n",
       "      <th>MAB_ELE_SHP1100</th>\n",
       "      <th>RohiBASEMET1000_org</th>\n",
       "      <th>RohiENERGY1000_org</th>\n",
       "      <th>RohiMETMIN1000_org</th>\n",
       "      <th>RohiNATGAS1000_org</th>\n",
       "      <th>RohCRUDE_PETRO1000_org</th>\n",
       "      <th>RohCOPPER1000_org</th>\n",
       "      <th>WKLWEUR840_org</th>\n",
       "      <th>PRI27840_org</th>\n",
       "      <th>PRI27826_org</th>\n",
       "      <th>PRI27380_org</th>\n",
       "      <th>PRI27250_org</th>\n",
       "      <th>PRI27276_org</th>\n",
       "      <th>PRI27156_org</th>\n",
       "      <th>PRO28840_org</th>\n",
       "      <th>PRO281000_org</th>\n",
       "      <th>PRO28756_org</th>\n",
       "      <th>PRO28826_org</th>\n",
       "      <th>PRO28380_org</th>\n",
       "      <th>PRO28392_org</th>\n",
       "      <th>PRO28250_org</th>\n",
       "      <th>PRO28276_org</th>\n",
       "      <th>PRO27840_org</th>\n",
       "      <th>PRO271000_org</th>\n",
       "      <th>PRO27756_org</th>\n",
       "      <th>PRO27826_org</th>\n",
       "      <th>PRO27380_org</th>\n",
       "      <th>PRO27392_org</th>\n",
       "      <th>PRO27250_org</th>\n",
       "      <th>PRO27276_org</th>\n",
       "    </tr>\n",
       "    <tr>\n",
       "      <th>date</th>\n",
       "      <th></th>\n",
       "      <th></th>\n",
       "      <th></th>\n",
       "      <th></th>\n",
       "      <th></th>\n",
       "      <th></th>\n",
       "      <th></th>\n",
       "      <th></th>\n",
       "      <th></th>\n",
       "      <th></th>\n",
       "      <th></th>\n",
       "      <th></th>\n",
       "      <th></th>\n",
       "      <th></th>\n",
       "      <th></th>\n",
       "      <th></th>\n",
       "      <th></th>\n",
       "      <th></th>\n",
       "      <th></th>\n",
       "      <th></th>\n",
       "      <th></th>\n",
       "      <th></th>\n",
       "      <th></th>\n",
       "      <th></th>\n",
       "      <th></th>\n",
       "      <th></th>\n",
       "      <th></th>\n",
       "      <th></th>\n",
       "      <th></th>\n",
       "      <th></th>\n",
       "      <th></th>\n",
       "      <th></th>\n",
       "      <th></th>\n",
       "      <th></th>\n",
       "      <th></th>\n",
       "      <th></th>\n",
       "      <th></th>\n",
       "      <th></th>\n",
       "      <th></th>\n",
       "      <th></th>\n",
       "      <th></th>\n",
       "      <th></th>\n",
       "      <th></th>\n",
       "      <th></th>\n",
       "      <th></th>\n",
       "      <th></th>\n",
       "      <th></th>\n",
       "    </tr>\n",
       "  </thead>\n",
       "  <tbody>\n",
       "    <tr>\n",
       "      <th>2021m12</th>\n",
       "      <td>310.763183</td>\n",
       "      <td>310.763183</td>\n",
       "      <td>100.565744</td>\n",
       "      <td>134.589504</td>\n",
       "      <td>118.103281</td>\n",
       "      <td>149.364286</td>\n",
       "      <td>94.006826</td>\n",
       "      <td>150.482735</td>\n",
       "      <td>127.771735</td>\n",
       "      <td>131.029703</td>\n",
       "      <td>106.704029</td>\n",
       "      <td>104.819189</td>\n",
       "      <td>101.273544</td>\n",
       "      <td>NaN</td>\n",
       "      <td>107.040766</td>\n",
       "      <td>148.590371</td>\n",
       "      <td>123.076659</td>\n",
       "      <td>150.046922</td>\n",
       "      <td>125.207030</td>\n",
       "      <td>112.372958</td>\n",
       "      <td>116.715183</td>\n",
       "      <td>236.488368</td>\n",
       "      <td>92.188708</td>\n",
       "      <td>126.761240</td>\n",
       "      <td>1.1304</td>\n",
       "      <td>128.511261</td>\n",
       "      <td>NaN</td>\n",
       "      <td>113.309631</td>\n",
       "      <td>108.182510</td>\n",
       "      <td>115.748863</td>\n",
       "      <td>98.106200</td>\n",
       "      <td>105.736748</td>\n",
       "      <td>134.598755</td>\n",
       "      <td>102.277530</td>\n",
       "      <td>90.350055</td>\n",
       "      <td>103.191399</td>\n",
       "      <td>136.975506</td>\n",
       "      <td>112.791885</td>\n",
       "      <td>129.188248</td>\n",
       "      <td>109.624107</td>\n",
       "      <td>132.281006</td>\n",
       "      <td>114.326241</td>\n",
       "      <td>121.065762</td>\n",
       "      <td>72.915611</td>\n",
       "      <td>109.005151</td>\n",
       "      <td>80.763306</td>\n",
       "      <td>97.773956</td>\n",
       "    </tr>\n",
       "    <tr>\n",
       "      <th>2022m1</th>\n",
       "      <td>235.956129</td>\n",
       "      <td>235.956129</td>\n",
       "      <td>85.743503</td>\n",
       "      <td>108.156320</td>\n",
       "      <td>94.550610</td>\n",
       "      <td>120.353403</td>\n",
       "      <td>86.851008</td>\n",
       "      <td>101.258277</td>\n",
       "      <td>110.460181</td>\n",
       "      <td>110.823532</td>\n",
       "      <td>103.499260</td>\n",
       "      <td>101.701570</td>\n",
       "      <td>95.003541</td>\n",
       "      <td>NaN</td>\n",
       "      <td>111.052133</td>\n",
       "      <td>129.565798</td>\n",
       "      <td>103.199827</td>\n",
       "      <td>120.338095</td>\n",
       "      <td>133.219393</td>\n",
       "      <td>121.309886</td>\n",
       "      <td>125.229641</td>\n",
       "      <td>196.911140</td>\n",
       "      <td>106.173052</td>\n",
       "      <td>129.829146</td>\n",
       "      <td>1.1314</td>\n",
       "      <td>131.628510</td>\n",
       "      <td>NaN</td>\n",
       "      <td>115.390617</td>\n",
       "      <td>111.037476</td>\n",
       "      <td>117.853386</td>\n",
       "      <td>98.280171</td>\n",
       "      <td>110.894371</td>\n",
       "      <td>117.489883</td>\n",
       "      <td>100.305236</td>\n",
       "      <td>85.444170</td>\n",
       "      <td>92.292313</td>\n",
       "      <td>117.861377</td>\n",
       "      <td>90.558372</td>\n",
       "      <td>92.343117</td>\n",
       "      <td>111.364670</td>\n",
       "      <td>122.236023</td>\n",
       "      <td>108.999212</td>\n",
       "      <td>112.324119</td>\n",
       "      <td>74.355736</td>\n",
       "      <td>95.369065</td>\n",
       "      <td>77.944954</td>\n",
       "      <td>98.599052</td>\n",
       "    </tr>\n",
       "    <tr>\n",
       "      <th>2022m2</th>\n",
       "      <td>235.956129</td>\n",
       "      <td>235.956129</td>\n",
       "      <td>90.603540</td>\n",
       "      <td>117.715770</td>\n",
       "      <td>103.987916</td>\n",
       "      <td>129.383676</td>\n",
       "      <td>106.583758</td>\n",
       "      <td>120.956538</td>\n",
       "      <td>117.879631</td>\n",
       "      <td>118.300232</td>\n",
       "      <td>100.294492</td>\n",
       "      <td>98.583952</td>\n",
       "      <td>98.458412</td>\n",
       "      <td>NaN</td>\n",
       "      <td>116.336327</td>\n",
       "      <td>138.560330</td>\n",
       "      <td>113.500635</td>\n",
       "      <td>131.500126</td>\n",
       "      <td>138.905572</td>\n",
       "      <td>131.273215</td>\n",
       "      <td>131.176501</td>\n",
       "      <td>197.523679</td>\n",
       "      <td>118.348203</td>\n",
       "      <td>131.963648</td>\n",
       "      <td>1.1342</td>\n",
       "      <td>133.342178</td>\n",
       "      <td>NaN</td>\n",
       "      <td>116.431107</td>\n",
       "      <td>112.057098</td>\n",
       "      <td>118.905647</td>\n",
       "      <td>98.714158</td>\n",
       "      <td>117.168167</td>\n",
       "      <td>124.627762</td>\n",
       "      <td>98.332942</td>\n",
       "      <td>89.021378</td>\n",
       "      <td>113.290565</td>\n",
       "      <td>124.710859</td>\n",
       "      <td>97.766502</td>\n",
       "      <td>102.820961</td>\n",
       "      <td>114.688400</td>\n",
       "      <td>127.373421</td>\n",
       "      <td>103.672183</td>\n",
       "      <td>115.557330</td>\n",
       "      <td>91.182419</td>\n",
       "      <td>103.950687</td>\n",
       "      <td>79.001831</td>\n",
       "      <td>106.128059</td>\n",
       "    </tr>\n",
       "    <tr>\n",
       "      <th>2022m3</th>\n",
       "      <td>329.413367</td>\n",
       "      <td>329.413367</td>\n",
       "      <td>107.843548</td>\n",
       "      <td>136.858720</td>\n",
       "      <td>121.308119</td>\n",
       "      <td>151.201314</td>\n",
       "      <td>124.637966</td>\n",
       "      <td>153.645142</td>\n",
       "      <td>152.000561</td>\n",
       "      <td>156.400634</td>\n",
       "      <td>97.089723</td>\n",
       "      <td>95.466333</td>\n",
       "      <td>121.993915</td>\n",
       "      <td>NaN</td>\n",
       "      <td>117.654038</td>\n",
       "      <td>165.926217</td>\n",
       "      <td>133.133010</td>\n",
       "      <td>158.055622</td>\n",
       "      <td>149.890871</td>\n",
       "      <td>163.186834</td>\n",
       "      <td>141.283339</td>\n",
       "      <td>271.079906</td>\n",
       "      <td>142.200872</td>\n",
       "      <td>135.782207</td>\n",
       "      <td>1.1019</td>\n",
       "      <td>136.153778</td>\n",
       "      <td>NaN</td>\n",
       "      <td>117.471596</td>\n",
       "      <td>112.362991</td>\n",
       "      <td>119.852684</td>\n",
       "      <td>99.021554</td>\n",
       "      <td>118.910912</td>\n",
       "      <td>149.375229</td>\n",
       "      <td>96.360648</td>\n",
       "      <td>109.155949</td>\n",
       "      <td>134.288818</td>\n",
       "      <td>160.954233</td>\n",
       "      <td>114.720810</td>\n",
       "      <td>122.049515</td>\n",
       "      <td>115.164093</td>\n",
       "      <td>152.452942</td>\n",
       "      <td>98.345154</td>\n",
       "      <td>145.254965</td>\n",
       "      <td>102.475998</td>\n",
       "      <td>133.743932</td>\n",
       "      <td>96.704582</td>\n",
       "      <td>119.948433</td>\n",
       "    </tr>\n",
       "    <tr>\n",
       "      <th>2022m4</th>\n",
       "      <td>267.373145</td>\n",
       "      <td>267.373145</td>\n",
       "      <td>87.698110</td>\n",
       "      <td>116.528738</td>\n",
       "      <td>99.522205</td>\n",
       "      <td>127.022869</td>\n",
       "      <td>103.556690</td>\n",
       "      <td>128.733305</td>\n",
       "      <td>114.262328</td>\n",
       "      <td>115.012049</td>\n",
       "      <td>NaN</td>\n",
       "      <td>NaN</td>\n",
       "      <td>95.266502</td>\n",
       "      <td>NaN</td>\n",
       "      <td>116.961047</td>\n",
       "      <td>NaN</td>\n",
       "      <td>112.902215</td>\n",
       "      <td>134.935510</td>\n",
       "      <td>146.090998</td>\n",
       "      <td>153.188945</td>\n",
       "      <td>138.094143</td>\n",
       "      <td>243.436030</td>\n",
       "      <td>130.835430</td>\n",
       "      <td>134.859685</td>\n",
       "      <td>1.0819</td>\n",
       "      <td>137.531616</td>\n",
       "      <td>NaN</td>\n",
       "      <td>118.408043</td>\n",
       "      <td>113.280655</td>\n",
       "      <td>121.220627</td>\n",
       "      <td>98.857087</td>\n",
       "      <td>119.385483</td>\n",
       "      <td>128.285706</td>\n",
       "      <td>NaN</td>\n",
       "      <td>84.728728</td>\n",
       "      <td>111.090744</td>\n",
       "      <td>120.098810</td>\n",
       "      <td>91.979698</td>\n",
       "      <td>98.675873</td>\n",
       "      <td>112.158089</td>\n",
       "      <td>134.843353</td>\n",
       "      <td>NaN</td>\n",
       "      <td>114.359844</td>\n",
       "      <td>86.255684</td>\n",
       "      <td>102.361680</td>\n",
       "      <td>80.763306</td>\n",
       "      <td>101.074341</td>\n",
       "    </tr>\n",
       "  </tbody>\n",
       "</table>\n",
       "</div>"
      ],
      "text/plain": [
       "         MAB_ELE_PRO156  MAB_ELE_SHP156  MAB_ELE_PRO250  MAB_ELE_SHP250  \\\n",
       "date                                                                      \n",
       "2021m12      310.763183      310.763183      100.565744      134.589504   \n",
       " 2022m1      235.956129      235.956129       85.743503      108.156320   \n",
       " 2022m2      235.956129      235.956129       90.603540      117.715770   \n",
       " 2022m3      329.413367      329.413367      107.843548      136.858720   \n",
       " 2022m4      267.373145      267.373145       87.698110      116.528738   \n",
       "\n",
       "         MAB_ELE_PRO276  MAB_ELE_SHP276  MAB_ELE_PRO380  MAB_ELE_SHP380  \\\n",
       "date                                                                      \n",
       "2021m12      118.103281      149.364286       94.006826      150.482735   \n",
       " 2022m1       94.550610      120.353403       86.851008      101.258277   \n",
       " 2022m2      103.987916      129.383676      106.583758      120.956538   \n",
       " 2022m3      121.308119      151.201314      124.637966      153.645142   \n",
       " 2022m4       99.522205      127.022869      103.556690      128.733305   \n",
       "\n",
       "         MAB_ELE_PRO392  MAB_ELE_SHP392  MAB_ELE_PRO756  MAB_ELE_SHP756  \\\n",
       "date                                                                      \n",
       "2021m12      127.771735      131.029703      106.704029      104.819189   \n",
       " 2022m1      110.460181      110.823532      103.499260      101.701570   \n",
       " 2022m2      117.879631      118.300232      100.294492       98.583952   \n",
       " 2022m3      152.000561      156.400634       97.089723       95.466333   \n",
       " 2022m4      114.262328      115.012049             NaN             NaN   \n",
       "\n",
       "         MAB_ELE_PRO826  MAB_ELE_SHP826  MAB_ELE_PRO840  MAB_ELE_SHP840  \\\n",
       "date                                                                      \n",
       "2021m12      101.273544             NaN      107.040766      148.590371   \n",
       " 2022m1       95.003541             NaN      111.052133      129.565798   \n",
       " 2022m2       98.458412             NaN      116.336327      138.560330   \n",
       " 2022m3      121.993915             NaN      117.654038      165.926217   \n",
       " 2022m4       95.266502             NaN      116.961047             NaN   \n",
       "\n",
       "         MAB_ELE_PRO1100  MAB_ELE_SHP1100  RohiBASEMET1000_org  \\\n",
       "date                                                             \n",
       "2021m12       123.076659       150.046922           125.207030   \n",
       " 2022m1       103.199827       120.338095           133.219393   \n",
       " 2022m2       113.500635       131.500126           138.905572   \n",
       " 2022m3       133.133010       158.055622           149.890871   \n",
       " 2022m4       112.902215       134.935510           146.090998   \n",
       "\n",
       "         RohiENERGY1000_org  RohiMETMIN1000_org  RohiNATGAS1000_org  \\\n",
       "date                                                                  \n",
       "2021m12          112.372958          116.715183          236.488368   \n",
       " 2022m1          121.309886          125.229641          196.911140   \n",
       " 2022m2          131.273215          131.176501          197.523679   \n",
       " 2022m3          163.186834          141.283339          271.079906   \n",
       " 2022m4          153.188945          138.094143          243.436030   \n",
       "\n",
       "         RohCRUDE_PETRO1000_org  RohCOPPER1000_org  WKLWEUR840_org  \\\n",
       "date                                                                 \n",
       "2021m12               92.188708         126.761240          1.1304   \n",
       " 2022m1              106.173052         129.829146          1.1314   \n",
       " 2022m2              118.348203         131.963648          1.1342   \n",
       " 2022m3              142.200872         135.782207          1.1019   \n",
       " 2022m4              130.835430         134.859685          1.0819   \n",
       "\n",
       "         PRI27840_org  PRI27826_org  PRI27380_org  PRI27250_org  PRI27276_org  \\\n",
       "date                                                                            \n",
       "2021m12    128.511261           NaN    113.309631    108.182510    115.748863   \n",
       " 2022m1    131.628510           NaN    115.390617    111.037476    117.853386   \n",
       " 2022m2    133.342178           NaN    116.431107    112.057098    118.905647   \n",
       " 2022m3    136.153778           NaN    117.471596    112.362991    119.852684   \n",
       " 2022m4    137.531616           NaN    118.408043    113.280655    121.220627   \n",
       "\n",
       "         PRI27156_org  PRO28840_org  PRO281000_org  PRO28756_org  \\\n",
       "date                                                               \n",
       "2021m12     98.106200    105.736748     134.598755    102.277530   \n",
       " 2022m1     98.280171    110.894371     117.489883    100.305236   \n",
       " 2022m2     98.714158    117.168167     124.627762     98.332942   \n",
       " 2022m3     99.021554    118.910912     149.375229     96.360648   \n",
       " 2022m4     98.857087    119.385483     128.285706           NaN   \n",
       "\n",
       "         PRO28826_org  PRO28380_org  PRO28392_org  PRO28250_org  PRO28276_org  \\\n",
       "date                                                                            \n",
       "2021m12     90.350055    103.191399    136.975506    112.791885    129.188248   \n",
       " 2022m1     85.444170     92.292313    117.861377     90.558372     92.343117   \n",
       " 2022m2     89.021378    113.290565    124.710859     97.766502    102.820961   \n",
       " 2022m3    109.155949    134.288818    160.954233    114.720810    122.049515   \n",
       " 2022m4     84.728728    111.090744    120.098810     91.979698     98.675873   \n",
       "\n",
       "         PRO27840_org  PRO271000_org  PRO27756_org  PRO27826_org  \\\n",
       "date                                                               \n",
       "2021m12    109.624107     132.281006    114.326241    121.065762   \n",
       " 2022m1    111.364670     122.236023    108.999212    112.324119   \n",
       " 2022m2    114.688400     127.373421    103.672183    115.557330   \n",
       " 2022m3    115.164093     152.452942     98.345154    145.254965   \n",
       " 2022m4    112.158089     134.843353           NaN    114.359844   \n",
       "\n",
       "         PRO27380_org  PRO27392_org  PRO27250_org  PRO27276_org  \n",
       "date                                                             \n",
       "2021m12     72.915611    109.005151     80.763306     97.773956  \n",
       " 2022m1     74.355736     95.369065     77.944954     98.599052  \n",
       " 2022m2     91.182419    103.950687     79.001831    106.128059  \n",
       " 2022m3    102.475998    133.743932     96.704582    119.948433  \n",
       " 2022m4     86.255684    102.361680     80.763306    101.074341  "
      ]
     },
     "execution_count": 454,
     "metadata": {},
     "output_type": "execute_result"
    }
   ],
   "source": [
    "df_market.tail()"
   ]
  },
  {
   "cell_type": "code",
   "execution_count": 455,
   "metadata": {},
   "outputs": [
    {
     "data": {
      "text/plain": [
       "(219, 47)"
      ]
     },
     "execution_count": 455,
     "metadata": {},
     "output_type": "execute_result"
    }
   ],
   "source": [
    "df_market.shape"
   ]
  },
  {
   "cell_type": "code",
   "execution_count": 456,
   "metadata": {},
   "outputs": [
    {
     "name": "stdout",
     "output_type": "stream",
     "text": [
      "<class 'pandas.core.frame.DataFrame'>\n",
      "Index: 219 entries,  2004m2 to  2022m4\n",
      "Data columns (total 47 columns):\n",
      " #   Column                  Non-Null Count  Dtype  \n",
      "---  ------                  --------------  -----  \n",
      " 0   MAB_ELE_PRO156          219 non-null    float64\n",
      " 1   MAB_ELE_SHP156          219 non-null    float64\n",
      " 2   MAB_ELE_PRO250          219 non-null    float64\n",
      " 3   MAB_ELE_SHP250          219 non-null    float64\n",
      " 4   MAB_ELE_PRO276          219 non-null    float64\n",
      " 5   MAB_ELE_SHP276          219 non-null    float64\n",
      " 6   MAB_ELE_PRO380          219 non-null    float64\n",
      " 7   MAB_ELE_SHP380          219 non-null    float64\n",
      " 8   MAB_ELE_PRO392          219 non-null    float64\n",
      " 9   MAB_ELE_SHP392          219 non-null    float64\n",
      " 10  MAB_ELE_PRO756          218 non-null    float64\n",
      " 11  MAB_ELE_SHP756          218 non-null    float64\n",
      " 12  MAB_ELE_PRO826          219 non-null    float64\n",
      " 13  MAB_ELE_SHP826          201 non-null    float64\n",
      " 14  MAB_ELE_PRO840          219 non-null    float64\n",
      " 15  MAB_ELE_SHP840          218 non-null    float64\n",
      " 16  MAB_ELE_PRO1100         219 non-null    float64\n",
      " 17  MAB_ELE_SHP1100         219 non-null    float64\n",
      " 18  RohiBASEMET1000_org     219 non-null    float64\n",
      " 19  RohiENERGY1000_org      219 non-null    float64\n",
      " 20  RohiMETMIN1000_org      219 non-null    float64\n",
      " 21  RohiNATGAS1000_org      219 non-null    float64\n",
      " 22  RohCRUDE_PETRO1000_org  219 non-null    float64\n",
      " 23  RohCOPPER1000_org       219 non-null    float64\n",
      " 24  WKLWEUR840_org          219 non-null    float64\n",
      " 25  PRI27840_org            219 non-null    float64\n",
      " 26  PRI27826_org            201 non-null    float64\n",
      " 27  PRI27380_org            219 non-null    float64\n",
      " 28  PRI27250_org            184 non-null    float64\n",
      " 29  PRI27276_org            219 non-null    float64\n",
      " 30  PRI27156_org            196 non-null    float64\n",
      " 31  PRO28840_org            219 non-null    float64\n",
      " 32  PRO281000_org           219 non-null    float64\n",
      " 33  PRO28756_org            218 non-null    float64\n",
      " 34  PRO28826_org            219 non-null    float64\n",
      " 35  PRO28380_org            219 non-null    float64\n",
      " 36  PRO28392_org            219 non-null    float64\n",
      " 37  PRO28250_org            219 non-null    float64\n",
      " 38  PRO28276_org            219 non-null    float64\n",
      " 39  PRO27840_org            219 non-null    float64\n",
      " 40  PRO271000_org           208 non-null    float64\n",
      " 41  PRO27756_org            218 non-null    float64\n",
      " 42  PRO27826_org            219 non-null    float64\n",
      " 43  PRO27380_org            219 non-null    float64\n",
      " 44  PRO27392_org            219 non-null    float64\n",
      " 45  PRO27250_org            219 non-null    float64\n",
      " 46  PRO27276_org            219 non-null    float64\n",
      "dtypes: float64(47)\n",
      "memory usage: 82.1+ KB\n"
     ]
    }
   ],
   "source": [
    "df_market.info()"
   ]
  },
  {
   "cell_type": "code",
   "execution_count": 457,
   "metadata": {},
   "outputs": [
    {
     "data": {
      "text/plain": [
       "MAB_ELE_PRO756     1\n",
       "MAB_ELE_SHP756     1\n",
       "MAB_ELE_SHP826    18\n",
       "MAB_ELE_SHP840     1\n",
       "PRI27826_org      18\n",
       "PRI27250_org      35\n",
       "PRI27156_org      23\n",
       "PRO28756_org       1\n",
       "PRO271000_org     11\n",
       "PRO27756_org       1\n",
       "dtype: int64"
      ]
     },
     "execution_count": 457,
     "metadata": {},
     "output_type": "execute_result"
    }
   ],
   "source": [
    "missing_values = df_market.isnull().sum()\n",
    "\n",
    "features_with_missing_values = missing_values[missing_values > 0]\n",
    "\n",
    "features_with_missing_values"
   ]
  },
  {
   "cell_type": "code",
   "execution_count": 458,
   "metadata": {},
   "outputs": [
    {
     "data": {
      "text/html": [
       "<div>\n",
       "<style scoped>\n",
       "    .dataframe tbody tr th:only-of-type {\n",
       "        vertical-align: middle;\n",
       "    }\n",
       "\n",
       "    .dataframe tbody tr th {\n",
       "        vertical-align: top;\n",
       "    }\n",
       "\n",
       "    .dataframe thead th {\n",
       "        text-align: right;\n",
       "    }\n",
       "</style>\n",
       "<table border=\"1\" class=\"dataframe\">\n",
       "  <thead>\n",
       "    <tr style=\"text-align: right;\">\n",
       "      <th></th>\n",
       "      <th>count</th>\n",
       "      <th>mean</th>\n",
       "      <th>std</th>\n",
       "      <th>min</th>\n",
       "      <th>25%</th>\n",
       "      <th>50%</th>\n",
       "      <th>75%</th>\n",
       "      <th>max</th>\n",
       "    </tr>\n",
       "  </thead>\n",
       "  <tbody>\n",
       "    <tr>\n",
       "      <th>MAB_ELE_PRO156</th>\n",
       "      <td>219.0</td>\n",
       "      <td>138.303637</td>\n",
       "      <td>78.883209</td>\n",
       "      <td>16.940704</td>\n",
       "      <td>68.477740</td>\n",
       "      <td>133.507690</td>\n",
       "      <td>198.473934</td>\n",
       "      <td>329.413367</td>\n",
       "    </tr>\n",
       "    <tr>\n",
       "      <th>MAB_ELE_SHP156</th>\n",
       "      <td>219.0</td>\n",
       "      <td>138.303637</td>\n",
       "      <td>78.883209</td>\n",
       "      <td>16.940704</td>\n",
       "      <td>68.477740</td>\n",
       "      <td>133.507690</td>\n",
       "      <td>198.473934</td>\n",
       "      <td>329.413367</td>\n",
       "    </tr>\n",
       "    <tr>\n",
       "      <th>MAB_ELE_PRO250</th>\n",
       "      <td>219.0</td>\n",
       "      <td>104.431918</td>\n",
       "      <td>18.918529</td>\n",
       "      <td>50.756680</td>\n",
       "      <td>93.613505</td>\n",
       "      <td>102.736556</td>\n",
       "      <td>114.090851</td>\n",
       "      <td>152.743402</td>\n",
       "    </tr>\n",
       "    <tr>\n",
       "      <th>MAB_ELE_SHP250</th>\n",
       "      <td>219.0</td>\n",
       "      <td>105.316814</td>\n",
       "      <td>12.762209</td>\n",
       "      <td>64.420676</td>\n",
       "      <td>97.452819</td>\n",
       "      <td>106.012166</td>\n",
       "      <td>115.030479</td>\n",
       "      <td>136.858720</td>\n",
       "    </tr>\n",
       "    <tr>\n",
       "      <th>MAB_ELE_PRO276</th>\n",
       "      <td>219.0</td>\n",
       "      <td>107.499126</td>\n",
       "      <td>11.861942</td>\n",
       "      <td>74.332913</td>\n",
       "      <td>100.560897</td>\n",
       "      <td>108.992290</td>\n",
       "      <td>115.735786</td>\n",
       "      <td>130.869962</td>\n",
       "    </tr>\n",
       "    <tr>\n",
       "      <th>MAB_ELE_SHP276</th>\n",
       "      <td>219.0</td>\n",
       "      <td>114.898377</td>\n",
       "      <td>17.091571</td>\n",
       "      <td>71.787161</td>\n",
       "      <td>103.149778</td>\n",
       "      <td>117.428836</td>\n",
       "      <td>127.112220</td>\n",
       "      <td>151.297092</td>\n",
       "    </tr>\n",
       "    <tr>\n",
       "      <th>MAB_ELE_PRO380</th>\n",
       "      <td>219.0</td>\n",
       "      <td>105.228363</td>\n",
       "      <td>23.509638</td>\n",
       "      <td>34.213427</td>\n",
       "      <td>94.335162</td>\n",
       "      <td>105.088474</td>\n",
       "      <td>117.031701</td>\n",
       "      <td>153.940791</td>\n",
       "    </tr>\n",
       "    <tr>\n",
       "      <th>MAB_ELE_SHP380</th>\n",
       "      <td>219.0</td>\n",
       "      <td>105.735378</td>\n",
       "      <td>19.948183</td>\n",
       "      <td>45.191710</td>\n",
       "      <td>95.985839</td>\n",
       "      <td>107.695805</td>\n",
       "      <td>119.836360</td>\n",
       "      <td>153.645142</td>\n",
       "    </tr>\n",
       "    <tr>\n",
       "      <th>MAB_ELE_PRO392</th>\n",
       "      <td>219.0</td>\n",
       "      <td>111.948146</td>\n",
       "      <td>15.489336</td>\n",
       "      <td>67.531940</td>\n",
       "      <td>103.740049</td>\n",
       "      <td>111.683015</td>\n",
       "      <td>121.402653</td>\n",
       "      <td>153.898678</td>\n",
       "    </tr>\n",
       "    <tr>\n",
       "      <th>MAB_ELE_SHP392</th>\n",
       "      <td>219.0</td>\n",
       "      <td>112.670602</td>\n",
       "      <td>16.891947</td>\n",
       "      <td>64.372344</td>\n",
       "      <td>103.453182</td>\n",
       "      <td>112.597293</td>\n",
       "      <td>121.498141</td>\n",
       "      <td>159.495942</td>\n",
       "    </tr>\n",
       "    <tr>\n",
       "      <th>MAB_ELE_PRO756</th>\n",
       "      <td>218.0</td>\n",
       "      <td>97.834543</td>\n",
       "      <td>8.241523</td>\n",
       "      <td>77.801503</td>\n",
       "      <td>92.410183</td>\n",
       "      <td>97.573131</td>\n",
       "      <td>103.877063</td>\n",
       "      <td>116.674608</td>\n",
       "    </tr>\n",
       "    <tr>\n",
       "      <th>MAB_ELE_SHP756</th>\n",
       "      <td>218.0</td>\n",
       "      <td>94.784942</td>\n",
       "      <td>9.153899</td>\n",
       "      <td>74.639253</td>\n",
       "      <td>88.221030</td>\n",
       "      <td>94.376831</td>\n",
       "      <td>100.736473</td>\n",
       "      <td>115.321078</td>\n",
       "    </tr>\n",
       "    <tr>\n",
       "      <th>MAB_ELE_PRO826</th>\n",
       "      <td>219.0</td>\n",
       "      <td>108.752949</td>\n",
       "      <td>12.096725</td>\n",
       "      <td>61.048022</td>\n",
       "      <td>100.498418</td>\n",
       "      <td>108.911029</td>\n",
       "      <td>118.001772</td>\n",
       "      <td>137.682590</td>\n",
       "    </tr>\n",
       "    <tr>\n",
       "      <th>MAB_ELE_SHP826</th>\n",
       "      <td>201.0</td>\n",
       "      <td>95.957072</td>\n",
       "      <td>12.946170</td>\n",
       "      <td>57.462935</td>\n",
       "      <td>86.199717</td>\n",
       "      <td>97.868918</td>\n",
       "      <td>105.269576</td>\n",
       "      <td>126.338522</td>\n",
       "    </tr>\n",
       "    <tr>\n",
       "      <th>MAB_ELE_PRO840</th>\n",
       "      <td>219.0</td>\n",
       "      <td>109.418255</td>\n",
       "      <td>7.891270</td>\n",
       "      <td>85.994448</td>\n",
       "      <td>104.599964</td>\n",
       "      <td>110.153555</td>\n",
       "      <td>114.585399</td>\n",
       "      <td>126.650773</td>\n",
       "    </tr>\n",
       "    <tr>\n",
       "      <th>MAB_ELE_SHP840</th>\n",
       "      <td>218.0</td>\n",
       "      <td>114.160028</td>\n",
       "      <td>14.633380</td>\n",
       "      <td>79.240230</td>\n",
       "      <td>104.596526</td>\n",
       "      <td>115.713379</td>\n",
       "      <td>123.419976</td>\n",
       "      <td>165.926217</td>\n",
       "    </tr>\n",
       "    <tr>\n",
       "      <th>MAB_ELE_PRO1100</th>\n",
       "      <td>219.0</td>\n",
       "      <td>108.779990</td>\n",
       "      <td>11.839462</td>\n",
       "      <td>69.786633</td>\n",
       "      <td>101.729625</td>\n",
       "      <td>110.383833</td>\n",
       "      <td>115.832526</td>\n",
       "      <td>134.216163</td>\n",
       "    </tr>\n",
       "    <tr>\n",
       "      <th>MAB_ELE_SHP1100</th>\n",
       "      <td>219.0</td>\n",
       "      <td>110.551132</td>\n",
       "      <td>15.727859</td>\n",
       "      <td>71.158884</td>\n",
       "      <td>98.588003</td>\n",
       "      <td>111.954128</td>\n",
       "      <td>121.613878</td>\n",
       "      <td>158.055622</td>\n",
       "    </tr>\n",
       "    <tr>\n",
       "      <th>RohiBASEMET1000_org</th>\n",
       "      <td>219.0</td>\n",
       "      <td>89.733341</td>\n",
       "      <td>20.810149</td>\n",
       "      <td>50.822012</td>\n",
       "      <td>76.590541</td>\n",
       "      <td>88.390354</td>\n",
       "      <td>104.378371</td>\n",
       "      <td>149.890871</td>\n",
       "    </tr>\n",
       "    <tr>\n",
       "      <th>RohiENERGY1000_org</th>\n",
       "      <td>219.0</td>\n",
       "      <td>92.558006</td>\n",
       "      <td>30.615367</td>\n",
       "      <td>31.632310</td>\n",
       "      <td>69.928272</td>\n",
       "      <td>86.284861</td>\n",
       "      <td>120.720356</td>\n",
       "      <td>173.483562</td>\n",
       "    </tr>\n",
       "    <tr>\n",
       "      <th>RohiMETMIN1000_org</th>\n",
       "      <td>219.0</td>\n",
       "      <td>86.064857</td>\n",
       "      <td>21.410779</td>\n",
       "      <td>46.468392</td>\n",
       "      <td>71.956926</td>\n",
       "      <td>85.070217</td>\n",
       "      <td>100.795709</td>\n",
       "      <td>141.283339</td>\n",
       "    </tr>\n",
       "    <tr>\n",
       "      <th>RohiNATGAS1000_org</th>\n",
       "      <td>219.0</td>\n",
       "      <td>103.367773</td>\n",
       "      <td>41.747371</td>\n",
       "      <td>33.992282</td>\n",
       "      <td>72.594822</td>\n",
       "      <td>100.285408</td>\n",
       "      <td>119.173439</td>\n",
       "      <td>271.079906</td>\n",
       "    </tr>\n",
       "    <tr>\n",
       "      <th>RohCRUDE_PETRO1000_org</th>\n",
       "      <td>219.0</td>\n",
       "      <td>89.446520</td>\n",
       "      <td>30.736831</td>\n",
       "      <td>26.623391</td>\n",
       "      <td>66.703971</td>\n",
       "      <td>82.434999</td>\n",
       "      <td>116.413879</td>\n",
       "      <td>168.046416</td>\n",
       "    </tr>\n",
       "    <tr>\n",
       "      <th>RohCOPPER1000_org</th>\n",
       "      <td>219.0</td>\n",
       "      <td>86.344288</td>\n",
       "      <td>23.811521</td>\n",
       "      <td>35.657380</td>\n",
       "      <td>72.382210</td>\n",
       "      <td>88.986014</td>\n",
       "      <td>101.730879</td>\n",
       "      <td>135.782207</td>\n",
       "    </tr>\n",
       "    <tr>\n",
       "      <th>WKLWEUR840_org</th>\n",
       "      <td>219.0</td>\n",
       "      <td>1.253503</td>\n",
       "      <td>0.120190</td>\n",
       "      <td>1.054300</td>\n",
       "      <td>1.143950</td>\n",
       "      <td>1.240000</td>\n",
       "      <td>1.335950</td>\n",
       "      <td>1.577000</td>\n",
       "    </tr>\n",
       "    <tr>\n",
       "      <th>PRI27840_org</th>\n",
       "      <td>219.0</td>\n",
       "      <td>102.185734</td>\n",
       "      <td>10.524079</td>\n",
       "      <td>78.969864</td>\n",
       "      <td>97.338623</td>\n",
       "      <td>103.883636</td>\n",
       "      <td>105.592884</td>\n",
       "      <td>137.531616</td>\n",
       "    </tr>\n",
       "    <tr>\n",
       "      <th>PRI27826_org</th>\n",
       "      <td>201.0</td>\n",
       "      <td>100.151243</td>\n",
       "      <td>10.549411</td>\n",
       "      <td>80.552711</td>\n",
       "      <td>91.811668</td>\n",
       "      <td>102.251793</td>\n",
       "      <td>109.928352</td>\n",
       "      <td>116.581375</td>\n",
       "    </tr>\n",
       "    <tr>\n",
       "      <th>PRI27380_org</th>\n",
       "      <td>219.0</td>\n",
       "      <td>102.164957</td>\n",
       "      <td>4.454948</td>\n",
       "      <td>93.020027</td>\n",
       "      <td>99.054886</td>\n",
       "      <td>103.320900</td>\n",
       "      <td>104.881638</td>\n",
       "      <td>118.408043</td>\n",
       "    </tr>\n",
       "    <tr>\n",
       "      <th>PRI27250_org</th>\n",
       "      <td>184.0</td>\n",
       "      <td>101.969436</td>\n",
       "      <td>2.646863</td>\n",
       "      <td>96.864647</td>\n",
       "      <td>100.229416</td>\n",
       "      <td>102.268677</td>\n",
       "      <td>103.084373</td>\n",
       "      <td>113.280655</td>\n",
       "    </tr>\n",
       "    <tr>\n",
       "      <th>PRI27276_org</th>\n",
       "      <td>219.0</td>\n",
       "      <td>103.173606</td>\n",
       "      <td>6.076401</td>\n",
       "      <td>93.230453</td>\n",
       "      <td>98.702209</td>\n",
       "      <td>103.437393</td>\n",
       "      <td>107.120308</td>\n",
       "      <td>121.220627</td>\n",
       "    </tr>\n",
       "    <tr>\n",
       "      <th>PRI27156_org</th>\n",
       "      <td>196.0</td>\n",
       "      <td>97.681389</td>\n",
       "      <td>3.235886</td>\n",
       "      <td>90.292319</td>\n",
       "      <td>95.072836</td>\n",
       "      <td>97.853017</td>\n",
       "      <td>99.859473</td>\n",
       "      <td>104.549877</td>\n",
       "    </tr>\n",
       "    <tr>\n",
       "      <th>PRO28840_org</th>\n",
       "      <td>219.0</td>\n",
       "      <td>108.668835</td>\n",
       "      <td>9.132414</td>\n",
       "      <td>83.197311</td>\n",
       "      <td>102.844543</td>\n",
       "      <td>109.303719</td>\n",
       "      <td>114.991486</td>\n",
       "      <td>131.229752</td>\n",
       "    </tr>\n",
       "    <tr>\n",
       "      <th>PRO281000_org</th>\n",
       "      <td>219.0</td>\n",
       "      <td>112.466417</td>\n",
       "      <td>12.411183</td>\n",
       "      <td>74.760971</td>\n",
       "      <td>104.833572</td>\n",
       "      <td>113.616623</td>\n",
       "      <td>120.587734</td>\n",
       "      <td>149.375229</td>\n",
       "    </tr>\n",
       "    <tr>\n",
       "      <th>PRO28756_org</th>\n",
       "      <td>218.0</td>\n",
       "      <td>99.717112</td>\n",
       "      <td>10.467987</td>\n",
       "      <td>77.952571</td>\n",
       "      <td>92.979573</td>\n",
       "      <td>98.051186</td>\n",
       "      <td>105.001174</td>\n",
       "      <td>135.336934</td>\n",
       "    </tr>\n",
       "    <tr>\n",
       "      <th>PRO28826_org</th>\n",
       "      <td>219.0</td>\n",
       "      <td>104.384938</td>\n",
       "      <td>13.222741</td>\n",
       "      <td>51.716208</td>\n",
       "      <td>94.591602</td>\n",
       "      <td>105.374329</td>\n",
       "      <td>114.061835</td>\n",
       "      <td>133.378758</td>\n",
       "    </tr>\n",
       "    <tr>\n",
       "      <th>PRO28380_org</th>\n",
       "      <td>219.0</td>\n",
       "      <td>109.486312</td>\n",
       "      <td>22.491001</td>\n",
       "      <td>33.797184</td>\n",
       "      <td>99.741688</td>\n",
       "      <td>112.490631</td>\n",
       "      <td>123.489712</td>\n",
       "      <td>154.087173</td>\n",
       "    </tr>\n",
       "    <tr>\n",
       "      <th>PRO28392_org</th>\n",
       "      <td>219.0</td>\n",
       "      <td>115.083174</td>\n",
       "      <td>17.408257</td>\n",
       "      <td>64.082432</td>\n",
       "      <td>105.415525</td>\n",
       "      <td>115.092228</td>\n",
       "      <td>125.680601</td>\n",
       "      <td>160.954233</td>\n",
       "    </tr>\n",
       "    <tr>\n",
       "      <th>PRO28250_org</th>\n",
       "      <td>219.0</td>\n",
       "      <td>109.116660</td>\n",
       "      <td>21.050102</td>\n",
       "      <td>54.416245</td>\n",
       "      <td>96.598988</td>\n",
       "      <td>106.395935</td>\n",
       "      <td>120.558380</td>\n",
       "      <td>167.005081</td>\n",
       "    </tr>\n",
       "    <tr>\n",
       "      <th>PRO28276_org</th>\n",
       "      <td>219.0</td>\n",
       "      <td>110.429205</td>\n",
       "      <td>14.351658</td>\n",
       "      <td>71.617737</td>\n",
       "      <td>102.014969</td>\n",
       "      <td>111.341393</td>\n",
       "      <td>120.207260</td>\n",
       "      <td>147.265411</td>\n",
       "    </tr>\n",
       "    <tr>\n",
       "      <th>PRO27840_org</th>\n",
       "      <td>219.0</td>\n",
       "      <td>110.902904</td>\n",
       "      <td>8.444573</td>\n",
       "      <td>91.535751</td>\n",
       "      <td>106.617188</td>\n",
       "      <td>109.156631</td>\n",
       "      <td>116.481281</td>\n",
       "      <td>129.713318</td>\n",
       "    </tr>\n",
       "    <tr>\n",
       "      <th>PRO271000_org</th>\n",
       "      <td>208.0</td>\n",
       "      <td>111.147070</td>\n",
       "      <td>12.321223</td>\n",
       "      <td>83.310173</td>\n",
       "      <td>102.798376</td>\n",
       "      <td>110.284397</td>\n",
       "      <td>117.551489</td>\n",
       "      <td>152.452942</td>\n",
       "    </tr>\n",
       "    <tr>\n",
       "      <th>PRO27756_org</th>\n",
       "      <td>218.0</td>\n",
       "      <td>94.592852</td>\n",
       "      <td>13.465043</td>\n",
       "      <td>56.832151</td>\n",
       "      <td>90.283688</td>\n",
       "      <td>97.620173</td>\n",
       "      <td>103.238771</td>\n",
       "      <td>117.541371</td>\n",
       "    </tr>\n",
       "    <tr>\n",
       "      <th>PRO27826_org</th>\n",
       "      <td>219.0</td>\n",
       "      <td>116.667327</td>\n",
       "      <td>13.205283</td>\n",
       "      <td>77.956292</td>\n",
       "      <td>107.414430</td>\n",
       "      <td>116.994312</td>\n",
       "      <td>125.975452</td>\n",
       "      <td>154.834847</td>\n",
       "    </tr>\n",
       "    <tr>\n",
       "      <th>PRO27380_org</th>\n",
       "      <td>219.0</td>\n",
       "      <td>95.450517</td>\n",
       "      <td>29.195353</td>\n",
       "      <td>34.487114</td>\n",
       "      <td>79.168774</td>\n",
       "      <td>88.377968</td>\n",
       "      <td>110.472462</td>\n",
       "      <td>164.855988</td>\n",
       "    </tr>\n",
       "    <tr>\n",
       "      <th>PRO27392_org</th>\n",
       "      <td>219.0</td>\n",
       "      <td>105.555794</td>\n",
       "      <td>12.592527</td>\n",
       "      <td>74.565520</td>\n",
       "      <td>97.547726</td>\n",
       "      <td>104.366326</td>\n",
       "      <td>112.485105</td>\n",
       "      <td>141.977523</td>\n",
       "    </tr>\n",
       "    <tr>\n",
       "      <th>PRO27250_org</th>\n",
       "      <td>219.0</td>\n",
       "      <td>96.844134</td>\n",
       "      <td>16.857775</td>\n",
       "      <td>44.829357</td>\n",
       "      <td>84.770638</td>\n",
       "      <td>95.823845</td>\n",
       "      <td>108.154121</td>\n",
       "      <td>141.269730</td>\n",
       "    </tr>\n",
       "    <tr>\n",
       "      <th>PRO27276_org</th>\n",
       "      <td>219.0</td>\n",
       "      <td>102.125494</td>\n",
       "      <td>9.959946</td>\n",
       "      <td>76.424583</td>\n",
       "      <td>95.659645</td>\n",
       "      <td>103.549629</td>\n",
       "      <td>108.861191</td>\n",
       "      <td>121.495483</td>\n",
       "    </tr>\n",
       "  </tbody>\n",
       "</table>\n",
       "</div>"
      ],
      "text/plain": [
       "                        count        mean        std        min         25%  \\\n",
       "MAB_ELE_PRO156          219.0  138.303637  78.883209  16.940704   68.477740   \n",
       "MAB_ELE_SHP156          219.0  138.303637  78.883209  16.940704   68.477740   \n",
       "MAB_ELE_PRO250          219.0  104.431918  18.918529  50.756680   93.613505   \n",
       "MAB_ELE_SHP250          219.0  105.316814  12.762209  64.420676   97.452819   \n",
       "MAB_ELE_PRO276          219.0  107.499126  11.861942  74.332913  100.560897   \n",
       "MAB_ELE_SHP276          219.0  114.898377  17.091571  71.787161  103.149778   \n",
       "MAB_ELE_PRO380          219.0  105.228363  23.509638  34.213427   94.335162   \n",
       "MAB_ELE_SHP380          219.0  105.735378  19.948183  45.191710   95.985839   \n",
       "MAB_ELE_PRO392          219.0  111.948146  15.489336  67.531940  103.740049   \n",
       "MAB_ELE_SHP392          219.0  112.670602  16.891947  64.372344  103.453182   \n",
       "MAB_ELE_PRO756          218.0   97.834543   8.241523  77.801503   92.410183   \n",
       "MAB_ELE_SHP756          218.0   94.784942   9.153899  74.639253   88.221030   \n",
       "MAB_ELE_PRO826          219.0  108.752949  12.096725  61.048022  100.498418   \n",
       "MAB_ELE_SHP826          201.0   95.957072  12.946170  57.462935   86.199717   \n",
       "MAB_ELE_PRO840          219.0  109.418255   7.891270  85.994448  104.599964   \n",
       "MAB_ELE_SHP840          218.0  114.160028  14.633380  79.240230  104.596526   \n",
       "MAB_ELE_PRO1100         219.0  108.779990  11.839462  69.786633  101.729625   \n",
       "MAB_ELE_SHP1100         219.0  110.551132  15.727859  71.158884   98.588003   \n",
       "RohiBASEMET1000_org     219.0   89.733341  20.810149  50.822012   76.590541   \n",
       "RohiENERGY1000_org      219.0   92.558006  30.615367  31.632310   69.928272   \n",
       "RohiMETMIN1000_org      219.0   86.064857  21.410779  46.468392   71.956926   \n",
       "RohiNATGAS1000_org      219.0  103.367773  41.747371  33.992282   72.594822   \n",
       "RohCRUDE_PETRO1000_org  219.0   89.446520  30.736831  26.623391   66.703971   \n",
       "RohCOPPER1000_org       219.0   86.344288  23.811521  35.657380   72.382210   \n",
       "WKLWEUR840_org          219.0    1.253503   0.120190   1.054300    1.143950   \n",
       "PRI27840_org            219.0  102.185734  10.524079  78.969864   97.338623   \n",
       "PRI27826_org            201.0  100.151243  10.549411  80.552711   91.811668   \n",
       "PRI27380_org            219.0  102.164957   4.454948  93.020027   99.054886   \n",
       "PRI27250_org            184.0  101.969436   2.646863  96.864647  100.229416   \n",
       "PRI27276_org            219.0  103.173606   6.076401  93.230453   98.702209   \n",
       "PRI27156_org            196.0   97.681389   3.235886  90.292319   95.072836   \n",
       "PRO28840_org            219.0  108.668835   9.132414  83.197311  102.844543   \n",
       "PRO281000_org           219.0  112.466417  12.411183  74.760971  104.833572   \n",
       "PRO28756_org            218.0   99.717112  10.467987  77.952571   92.979573   \n",
       "PRO28826_org            219.0  104.384938  13.222741  51.716208   94.591602   \n",
       "PRO28380_org            219.0  109.486312  22.491001  33.797184   99.741688   \n",
       "PRO28392_org            219.0  115.083174  17.408257  64.082432  105.415525   \n",
       "PRO28250_org            219.0  109.116660  21.050102  54.416245   96.598988   \n",
       "PRO28276_org            219.0  110.429205  14.351658  71.617737  102.014969   \n",
       "PRO27840_org            219.0  110.902904   8.444573  91.535751  106.617188   \n",
       "PRO271000_org           208.0  111.147070  12.321223  83.310173  102.798376   \n",
       "PRO27756_org            218.0   94.592852  13.465043  56.832151   90.283688   \n",
       "PRO27826_org            219.0  116.667327  13.205283  77.956292  107.414430   \n",
       "PRO27380_org            219.0   95.450517  29.195353  34.487114   79.168774   \n",
       "PRO27392_org            219.0  105.555794  12.592527  74.565520   97.547726   \n",
       "PRO27250_org            219.0   96.844134  16.857775  44.829357   84.770638   \n",
       "PRO27276_org            219.0  102.125494   9.959946  76.424583   95.659645   \n",
       "\n",
       "                               50%         75%         max  \n",
       "MAB_ELE_PRO156          133.507690  198.473934  329.413367  \n",
       "MAB_ELE_SHP156          133.507690  198.473934  329.413367  \n",
       "MAB_ELE_PRO250          102.736556  114.090851  152.743402  \n",
       "MAB_ELE_SHP250          106.012166  115.030479  136.858720  \n",
       "MAB_ELE_PRO276          108.992290  115.735786  130.869962  \n",
       "MAB_ELE_SHP276          117.428836  127.112220  151.297092  \n",
       "MAB_ELE_PRO380          105.088474  117.031701  153.940791  \n",
       "MAB_ELE_SHP380          107.695805  119.836360  153.645142  \n",
       "MAB_ELE_PRO392          111.683015  121.402653  153.898678  \n",
       "MAB_ELE_SHP392          112.597293  121.498141  159.495942  \n",
       "MAB_ELE_PRO756           97.573131  103.877063  116.674608  \n",
       "MAB_ELE_SHP756           94.376831  100.736473  115.321078  \n",
       "MAB_ELE_PRO826          108.911029  118.001772  137.682590  \n",
       "MAB_ELE_SHP826           97.868918  105.269576  126.338522  \n",
       "MAB_ELE_PRO840          110.153555  114.585399  126.650773  \n",
       "MAB_ELE_SHP840          115.713379  123.419976  165.926217  \n",
       "MAB_ELE_PRO1100         110.383833  115.832526  134.216163  \n",
       "MAB_ELE_SHP1100         111.954128  121.613878  158.055622  \n",
       "RohiBASEMET1000_org      88.390354  104.378371  149.890871  \n",
       "RohiENERGY1000_org       86.284861  120.720356  173.483562  \n",
       "RohiMETMIN1000_org       85.070217  100.795709  141.283339  \n",
       "RohiNATGAS1000_org      100.285408  119.173439  271.079906  \n",
       "RohCRUDE_PETRO1000_org   82.434999  116.413879  168.046416  \n",
       "RohCOPPER1000_org        88.986014  101.730879  135.782207  \n",
       "WKLWEUR840_org            1.240000    1.335950    1.577000  \n",
       "PRI27840_org            103.883636  105.592884  137.531616  \n",
       "PRI27826_org            102.251793  109.928352  116.581375  \n",
       "PRI27380_org            103.320900  104.881638  118.408043  \n",
       "PRI27250_org            102.268677  103.084373  113.280655  \n",
       "PRI27276_org            103.437393  107.120308  121.220627  \n",
       "PRI27156_org             97.853017   99.859473  104.549877  \n",
       "PRO28840_org            109.303719  114.991486  131.229752  \n",
       "PRO281000_org           113.616623  120.587734  149.375229  \n",
       "PRO28756_org             98.051186  105.001174  135.336934  \n",
       "PRO28826_org            105.374329  114.061835  133.378758  \n",
       "PRO28380_org            112.490631  123.489712  154.087173  \n",
       "PRO28392_org            115.092228  125.680601  160.954233  \n",
       "PRO28250_org            106.395935  120.558380  167.005081  \n",
       "PRO28276_org            111.341393  120.207260  147.265411  \n",
       "PRO27840_org            109.156631  116.481281  129.713318  \n",
       "PRO271000_org           110.284397  117.551489  152.452942  \n",
       "PRO27756_org             97.620173  103.238771  117.541371  \n",
       "PRO27826_org            116.994312  125.975452  154.834847  \n",
       "PRO27380_org             88.377968  110.472462  164.855988  \n",
       "PRO27392_org            104.366326  112.485105  141.977523  \n",
       "PRO27250_org             95.823845  108.154121  141.269730  \n",
       "PRO27276_org            103.549629  108.861191  121.495483  "
      ]
     },
     "execution_count": 458,
     "metadata": {},
     "output_type": "execute_result"
    }
   ],
   "source": [
    "df_market.describe().T"
   ]
  },
  {
   "cell_type": "code",
   "execution_count": 459,
   "metadata": {},
   "outputs": [
    {
     "data": {
      "text/html": [
       "<div>\n",
       "<style scoped>\n",
       "    .dataframe tbody tr th:only-of-type {\n",
       "        vertical-align: middle;\n",
       "    }\n",
       "\n",
       "    .dataframe tbody tr th {\n",
       "        vertical-align: top;\n",
       "    }\n",
       "\n",
       "    .dataframe thead th {\n",
       "        text-align: right;\n",
       "    }\n",
       "</style>\n",
       "<table border=\"1\" class=\"dataframe\">\n",
       "  <thead>\n",
       "    <tr style=\"text-align: right;\">\n",
       "      <th></th>\n",
       "      <th>DATE</th>\n",
       "      <th>Mapped_GCK</th>\n",
       "      <th>Sales_EUR</th>\n",
       "    </tr>\n",
       "  </thead>\n",
       "  <tbody>\n",
       "    <tr>\n",
       "      <th>0</th>\n",
       "      <td>01.10.2018</td>\n",
       "      <td>#1</td>\n",
       "      <td>0</td>\n",
       "    </tr>\n",
       "    <tr>\n",
       "      <th>1</th>\n",
       "      <td>02.10.2018</td>\n",
       "      <td>#1</td>\n",
       "      <td>0</td>\n",
       "    </tr>\n",
       "    <tr>\n",
       "      <th>2</th>\n",
       "      <td>03.10.2018</td>\n",
       "      <td>#1</td>\n",
       "      <td>0</td>\n",
       "    </tr>\n",
       "    <tr>\n",
       "      <th>3</th>\n",
       "      <td>04.10.2018</td>\n",
       "      <td>#1</td>\n",
       "      <td>0</td>\n",
       "    </tr>\n",
       "    <tr>\n",
       "      <th>4</th>\n",
       "      <td>05.10.2018</td>\n",
       "      <td>#1</td>\n",
       "      <td>0</td>\n",
       "    </tr>\n",
       "  </tbody>\n",
       "</table>\n",
       "</div>"
      ],
      "text/plain": [
       "         DATE Mapped_GCK Sales_EUR\n",
       "0  01.10.2018         #1         0\n",
       "1  02.10.2018         #1         0\n",
       "2  03.10.2018         #1         0\n",
       "3  04.10.2018         #1         0\n",
       "4  05.10.2018         #1         0"
      ]
     },
     "execution_count": 459,
     "metadata": {},
     "output_type": "execute_result"
    }
   ],
   "source": [
    "df_sales = pd.read_csv('Data/Case2_Sales data.csv', delimiter=';')\n",
    "df_sales.head()"
   ]
  },
  {
   "cell_type": "code",
   "execution_count": 460,
   "metadata": {},
   "outputs": [
    {
     "data": {
      "text/html": [
       "<div>\n",
       "<style scoped>\n",
       "    .dataframe tbody tr th:only-of-type {\n",
       "        vertical-align: middle;\n",
       "    }\n",
       "\n",
       "    .dataframe tbody tr th {\n",
       "        vertical-align: top;\n",
       "    }\n",
       "\n",
       "    .dataframe thead th {\n",
       "        text-align: right;\n",
       "    }\n",
       "</style>\n",
       "<table border=\"1\" class=\"dataframe\">\n",
       "  <thead>\n",
       "    <tr style=\"text-align: right;\">\n",
       "      <th></th>\n",
       "      <th>DATE</th>\n",
       "      <th>Mapped_GCK</th>\n",
       "      <th>Sales_EUR</th>\n",
       "    </tr>\n",
       "  </thead>\n",
       "  <tbody>\n",
       "    <tr>\n",
       "      <th>9797</th>\n",
       "      <td>23.08.2019</td>\n",
       "      <td>#12</td>\n",
       "      <td>0</td>\n",
       "    </tr>\n",
       "    <tr>\n",
       "      <th>9798</th>\n",
       "      <td>23.08.2019</td>\n",
       "      <td>#36</td>\n",
       "      <td>1015</td>\n",
       "    </tr>\n",
       "    <tr>\n",
       "      <th>9799</th>\n",
       "      <td>12.08.2019</td>\n",
       "      <td>#12</td>\n",
       "      <td>0</td>\n",
       "    </tr>\n",
       "    <tr>\n",
       "      <th>9800</th>\n",
       "      <td>28.08.2019</td>\n",
       "      <td>#8</td>\n",
       "      <td>43763,91</td>\n",
       "    </tr>\n",
       "    <tr>\n",
       "      <th>9801</th>\n",
       "      <td>27.08.2019</td>\n",
       "      <td>#8</td>\n",
       "      <td>0</td>\n",
       "    </tr>\n",
       "  </tbody>\n",
       "</table>\n",
       "</div>"
      ],
      "text/plain": [
       "            DATE Mapped_GCK Sales_EUR\n",
       "9797  23.08.2019        #12         0\n",
       "9798  23.08.2019        #36      1015\n",
       "9799  12.08.2019        #12         0\n",
       "9800  28.08.2019         #8  43763,91\n",
       "9801  27.08.2019         #8         0"
      ]
     },
     "execution_count": 460,
     "metadata": {},
     "output_type": "execute_result"
    }
   ],
   "source": [
    "df_sales.tail()"
   ]
  },
  {
   "cell_type": "code",
   "execution_count": 461,
   "metadata": {},
   "outputs": [
    {
     "data": {
      "text/plain": [
       "(9802, 3)"
      ]
     },
     "execution_count": 461,
     "metadata": {},
     "output_type": "execute_result"
    }
   ],
   "source": [
    "df_sales.shape"
   ]
  },
  {
   "cell_type": "code",
   "execution_count": 462,
   "metadata": {},
   "outputs": [
    {
     "data": {
      "text/html": [
       "<div>\n",
       "<style scoped>\n",
       "    .dataframe tbody tr th:only-of-type {\n",
       "        vertical-align: middle;\n",
       "    }\n",
       "\n",
       "    .dataframe tbody tr th {\n",
       "        vertical-align: top;\n",
       "    }\n",
       "\n",
       "    .dataframe thead th {\n",
       "        text-align: right;\n",
       "    }\n",
       "</style>\n",
       "<table border=\"1\" class=\"dataframe\">\n",
       "  <thead>\n",
       "    <tr style=\"text-align: right;\">\n",
       "      <th></th>\n",
       "      <th>DATE</th>\n",
       "      <th>Mapped_GCK</th>\n",
       "      <th>Sales_EUR</th>\n",
       "    </tr>\n",
       "  </thead>\n",
       "  <tbody>\n",
       "    <tr>\n",
       "      <th>count</th>\n",
       "      <td>9802</td>\n",
       "      <td>9802</td>\n",
       "      <td>9802</td>\n",
       "    </tr>\n",
       "    <tr>\n",
       "      <th>unique</th>\n",
       "      <td>1216</td>\n",
       "      <td>14</td>\n",
       "      <td>2609</td>\n",
       "    </tr>\n",
       "    <tr>\n",
       "      <th>top</th>\n",
       "      <td>16.04.2021</td>\n",
       "      <td>#1</td>\n",
       "      <td>0</td>\n",
       "    </tr>\n",
       "    <tr>\n",
       "      <th>freq</th>\n",
       "      <td>14</td>\n",
       "      <td>1179</td>\n",
       "      <td>7134</td>\n",
       "    </tr>\n",
       "  </tbody>\n",
       "</table>\n",
       "</div>"
      ],
      "text/plain": [
       "              DATE Mapped_GCK Sales_EUR\n",
       "count         9802       9802      9802\n",
       "unique        1216         14      2609\n",
       "top     16.04.2021         #1         0\n",
       "freq            14       1179      7134"
      ]
     },
     "execution_count": 462,
     "metadata": {},
     "output_type": "execute_result"
    }
   ],
   "source": [
    "df_sales.describe()"
   ]
  },
  {
   "cell_type": "code",
   "execution_count": 463,
   "metadata": {},
   "outputs": [
    {
     "name": "stdout",
     "output_type": "stream",
     "text": [
      "<class 'pandas.core.frame.DataFrame'>\n",
      "RangeIndex: 9802 entries, 0 to 9801\n",
      "Data columns (total 3 columns):\n",
      " #   Column      Non-Null Count  Dtype \n",
      "---  ------      --------------  ----- \n",
      " 0   DATE        9802 non-null   object\n",
      " 1   Mapped_GCK  9802 non-null   object\n",
      " 2   Sales_EUR   9802 non-null   object\n",
      "dtypes: object(3)\n",
      "memory usage: 229.9+ KB\n"
     ]
    }
   ],
   "source": [
    "df_sales.info()"
   ]
  },
  {
   "cell_type": "markdown",
   "metadata": {},
   "source": [
    "#### <span style=\"background-color:#235987; padding:5px; border-radius:5px;\">**Sales Data**</span> <a id='sales-data'></a>  \n",
    "_This section provides a compreensive understanding of the Sales data and its preprocessing steps._\n",
    "\n",
    "##### Click [here](#table-of-contents) ⬆️ to return to the Index."
   ]
  },
  {
   "cell_type": "markdown",
   "metadata": {},
   "source": [
    "> Functions"
   ]
  },
  {
   "cell_type": "code",
   "execution_count": null,
   "metadata": {},
   "outputs": [],
   "source": [
    "#plot the sales data over a period of time\n",
    "def plot_sales(dataframe, x_column, y_column, title, x_label, y_label):\n",
    "    \n",
    "    fig = px.line(dataframe, \n",
    "                  x=x_column, \n",
    "                  y=y_column,\n",
    "                  title=title, \n",
    "                  labels={x_column: x_label, y_column: y_label})\n",
    "\n",
    "    fig.show()"
   ]
  },
  {
   "cell_type": "code",
   "execution_count": null,
   "metadata": {},
   "outputs": [],
   "source": [
    "#plot the sales data by product\n",
    "def plot_sales_by_product(dataframe, x_column, y_column, title, x_label, y_label):\n",
    "    \n",
    "    fig = px.bar(dataframe, \n",
    "                 x=x_column, \n",
    "                 y=y_column, \n",
    "                 title=title, \n",
    "                 labels={x_column: x_label, y_column: y_label},\n",
    "                 text=y_column)\n",
    "    \n",
    "    fig.update_traces(texttemplate='%{text:.2s}', textposition='outside')\n",
    "    fig.update_layout(xaxis=dict(type='category', tickmode='linear'))\n",
    "    fig.show()"
   ]
  },
  {
   "cell_type": "code",
   "execution_count": null,
   "metadata": {},
   "outputs": [],
   "source": [
    "#plot the sales data over a period of time by product\n",
    "def plot_sales_by_product_month(dataframe, x_column, y_column, category_column, title, x_label, y_label):\n",
    "    \n",
    "    fig = px.line(dataframe, \n",
    "                  x=x_column, \n",
    "                  y=y_column, \n",
    "                  color=category_column,  # Different lines for each product\n",
    "                  title=title, \n",
    "                  labels={x_column: x_label, y_column: y_label, category_column: \"Product\"})\n",
    "    \n",
    "    fig.update_layout(xaxis=dict(tickangle=-45))  # Rotate x-axis labels for better readability\n",
    "    fig.show()"
   ]
  },
  {
   "cell_type": "code",
   "execution_count": null,
   "metadata": {},
   "outputs": [],
   "source": [
    "def plot_sales_by_product_month_comparison(positive_sales, negative_sales, x_column, y_column, category_column, title, x_label, y_label):\n",
    "    \n",
    "    for product in positive_sales[category_column].unique():\n",
    "        # Filter data for the current product (both positive and negative sales)\n",
    "        df_pos = positive_sales[positive_sales[category_column] == product]\n",
    "        df_neg = negative_sales[negative_sales[category_column] == product]\n",
    "        \n",
    "        # Create a figure for the current product\n",
    "        fig = go.Figure()\n",
    "\n",
    "        # Plot positive sales for the current product\n",
    "        fig.add_trace(go.Scatter(x=df_pos[x_column], \n",
    "                                 y=df_pos[y_column], \n",
    "                                 mode='lines', \n",
    "                                 name=f'Positive Sales - {product}', \n",
    "                                 line=dict(color='green')))\n",
    "\n",
    "        # Plot negative sales (absolute value) for the current product\n",
    "        fig.add_trace(go.Scatter(x=df_neg[x_column], \n",
    "                                 y=df_neg[y_column],  # Negative sales as positive\n",
    "                                 mode='lines', \n",
    "                                 name=f'Negative Sales (abs) - {product}', \n",
    "                                 line=dict(color='red')))\n",
    "\n",
    "        # Update the layout of the plot\n",
    "        fig.update_layout(\n",
    "            title=f'{title} - {product}', \n",
    "            xaxis_title=x_label, \n",
    "            yaxis_title=y_label,\n",
    "            showlegend=True,\n",
    "            xaxis=dict(tickangle=-45)  # Rotate x-axis labels for readability\n",
    "        )\n",
    "\n",
    "        # Show the plot\n",
    "        fig.show()"
   ]
  },
  {
   "cell_type": "markdown",
   "metadata": {},
   "source": [
    "> Dtypes"
   ]
  },
  {
   "cell_type": "code",
   "execution_count": 468,
   "metadata": {},
   "outputs": [],
   "source": [
    "# Fixing dtypes of df_sales\n",
    "df_sales['DATE'] = pd.to_datetime(df_sales['DATE'], dayfirst=True)\n",
    "df_sales['Sales_EUR'] = df_sales['Sales_EUR'].str.replace(',', '.').astype(float)\n",
    "\n",
    "# DroppinG the # in values of the column 'Mapped_GCK'\n",
    "df_sales['Mapped_GCK'] = df_sales['Mapped_GCK'].str.replace('#', '')\n",
    "df_sales['Mapped_GCK'] = df_sales['Mapped_GCK'].astype(int)"
   ]
  },
  {
   "cell_type": "code",
   "execution_count": 469,
   "metadata": {},
   "outputs": [
    {
     "data": {
      "text/plain": [
       "Mapped_GCK\n",
       "1     1179\n",
       "3     1017\n",
       "5      959\n",
       "8      944\n",
       "4      877\n",
       "12     803\n",
       "6      794\n",
       "16     765\n",
       "11     732\n",
       "13     441\n",
       "36     434\n",
       "9      333\n",
       "20     293\n",
       "14     231\n",
       "Name: count, dtype: int64"
      ]
     },
     "execution_count": 469,
     "metadata": {},
     "output_type": "execute_result"
    }
   ],
   "source": [
    "# Mapped_GCK categories by frequecy\n",
    "df_sales['Mapped_GCK'].value_counts()"
   ]
  },
  {
   "cell_type": "code",
   "execution_count": 470,
   "metadata": {},
   "outputs": [],
   "source": [
    "# Drop rows in df_sales with Sales_EUR = 0\n",
    "df_sales = df_sales[df_sales['Sales_EUR'] != 0]"
   ]
  },
  {
   "cell_type": "code",
   "execution_count": 471,
   "metadata": {},
   "outputs": [
    {
     "data": {
      "text/plain": [
       "2668"
      ]
     },
     "execution_count": 471,
     "metadata": {},
     "output_type": "execute_result"
    }
   ],
   "source": [
    "# Rows with values for Sales\n",
    "df_sales.shape[0]"
   ]
  },
  {
   "cell_type": "code",
   "execution_count": 472,
   "metadata": {},
   "outputs": [
    {
     "data": {
      "text/plain": [
       "(41127988.02, -506381.17)"
      ]
     },
     "execution_count": 472,
     "metadata": {},
     "output_type": "execute_result"
    }
   ],
   "source": [
    "# Max and min values of Sales\n",
    "df_sales['Sales_EUR'].max(), df_sales['Sales_EUR'].min()"
   ]
  },
  {
   "cell_type": "markdown",
   "metadata": {},
   "source": [
    ">Negative Sales' values Analysis"
   ]
  },
  {
   "cell_type": "code",
   "execution_count": 473,
   "metadata": {},
   "outputs": [
    {
     "data": {
      "text/html": [
       "<div>\n",
       "<style scoped>\n",
       "    .dataframe tbody tr th:only-of-type {\n",
       "        vertical-align: middle;\n",
       "    }\n",
       "\n",
       "    .dataframe tbody tr th {\n",
       "        vertical-align: top;\n",
       "    }\n",
       "\n",
       "    .dataframe thead th {\n",
       "        text-align: right;\n",
       "    }\n",
       "</style>\n",
       "<table border=\"1\" class=\"dataframe\">\n",
       "  <thead>\n",
       "    <tr style=\"text-align: right;\">\n",
       "      <th></th>\n",
       "      <th>DATE</th>\n",
       "      <th>Mapped_GCK</th>\n",
       "      <th>Sales_EUR</th>\n",
       "    </tr>\n",
       "  </thead>\n",
       "  <tbody>\n",
       "    <tr>\n",
       "      <th>90</th>\n",
       "      <td>2022-02-02</td>\n",
       "      <td>6</td>\n",
       "      <td>-54.00</td>\n",
       "    </tr>\n",
       "    <tr>\n",
       "      <th>96</th>\n",
       "      <td>2022-04-04</td>\n",
       "      <td>11</td>\n",
       "      <td>-587.59</td>\n",
       "    </tr>\n",
       "    <tr>\n",
       "      <th>102</th>\n",
       "      <td>2021-12-02</td>\n",
       "      <td>3</td>\n",
       "      <td>-183.50</td>\n",
       "    </tr>\n",
       "    <tr>\n",
       "      <th>130</th>\n",
       "      <td>2022-03-02</td>\n",
       "      <td>6</td>\n",
       "      <td>-93.88</td>\n",
       "    </tr>\n",
       "    <tr>\n",
       "      <th>155</th>\n",
       "      <td>2021-05-03</td>\n",
       "      <td>5</td>\n",
       "      <td>-166.24</td>\n",
       "    </tr>\n",
       "    <tr>\n",
       "      <th>...</th>\n",
       "      <td>...</td>\n",
       "      <td>...</td>\n",
       "      <td>...</td>\n",
       "    </tr>\n",
       "    <tr>\n",
       "      <th>9333</th>\n",
       "      <td>2019-09-03</td>\n",
       "      <td>20</td>\n",
       "      <td>-6.60</td>\n",
       "    </tr>\n",
       "    <tr>\n",
       "      <th>9466</th>\n",
       "      <td>2018-11-05</td>\n",
       "      <td>4</td>\n",
       "      <td>-2029.91</td>\n",
       "    </tr>\n",
       "    <tr>\n",
       "      <th>9487</th>\n",
       "      <td>2019-04-30</td>\n",
       "      <td>13</td>\n",
       "      <td>-26.31</td>\n",
       "    </tr>\n",
       "    <tr>\n",
       "      <th>9681</th>\n",
       "      <td>2020-07-31</td>\n",
       "      <td>9</td>\n",
       "      <td>-35.25</td>\n",
       "    </tr>\n",
       "    <tr>\n",
       "      <th>9775</th>\n",
       "      <td>2019-03-26</td>\n",
       "      <td>8</td>\n",
       "      <td>-1000.00</td>\n",
       "    </tr>\n",
       "  </tbody>\n",
       "</table>\n",
       "<p>276 rows × 3 columns</p>\n",
       "</div>"
      ],
      "text/plain": [
       "           DATE  Mapped_GCK  Sales_EUR\n",
       "90   2022-02-02           6     -54.00\n",
       "96   2022-04-04          11    -587.59\n",
       "102  2021-12-02           3    -183.50\n",
       "130  2022-03-02           6     -93.88\n",
       "155  2021-05-03           5    -166.24\n",
       "...         ...         ...        ...\n",
       "9333 2019-09-03          20      -6.60\n",
       "9466 2018-11-05           4   -2029.91\n",
       "9487 2019-04-30          13     -26.31\n",
       "9681 2020-07-31           9     -35.25\n",
       "9775 2019-03-26           8   -1000.00\n",
       "\n",
       "[276 rows x 3 columns]"
      ]
     },
     "execution_count": 473,
     "metadata": {},
     "output_type": "execute_result"
    }
   ],
   "source": [
    "negative_sales = df_sales[df_sales['Sales_EUR'] < 0]\n",
    "negative_sales "
   ]
  },
  {
   "cell_type": "markdown",
   "metadata": {},
   "source": [
    "**Negative values for Sales** \n",
    "There seems to be no evident pattern for the negative sales values. These might be:\n",
    "- **Dataset errors**: errors that occured during the recording of sales records.\n",
    "- **Production errors**: errors that occured in the production of a certain product or product group.\n",
    "- **Returns**: customer returns are associated with a refund, creating a negative cash flow for the company to offset the positive cash flow generated at the time of purchase.\n"
   ]
  },
  {
   "cell_type": "code",
   "execution_count": 474,
   "metadata": {},
   "outputs": [
    {
     "name": "stderr",
     "output_type": "stream",
     "text": [
      "C:\\Users\\marga\\AppData\\Local\\Temp\\ipykernel_31388\\267356584.py:1: SettingWithCopyWarning:\n",
      "\n",
      "\n",
      "A value is trying to be set on a copy of a slice from a DataFrame.\n",
      "Try using .loc[row_indexer,col_indexer] = value instead\n",
      "\n",
      "See the caveats in the documentation: https://pandas.pydata.org/pandas-docs/stable/user_guide/indexing.html#returning-a-view-versus-a-copy\n",
      "\n"
     ]
    },
    {
     "data": {
      "application/vnd.plotly.v1+json": {
       "config": {
        "plotlyServerURL": "https://plot.ly"
       },
       "data": [
        {
         "hovertemplate": "Year-Month=%{x}<br>Total Sales (EUR)=%{y}<extra></extra>",
         "legendgroup": "",
         "line": {
          "color": "#636efa",
          "dash": "solid"
         },
         "marker": {
          "symbol": "circle"
         },
         "mode": "lines",
         "name": "",
         "orientation": "v",
         "showlegend": false,
         "type": "scatter",
         "x": [
          "2018-11",
          "2018-12",
          "2019-01",
          "2019-02",
          "2019-03",
          "2019-04",
          "2019-05",
          "2019-06",
          "2019-07",
          "2019-08",
          "2019-09",
          "2019-10",
          "2019-11",
          "2019-12",
          "2020-01",
          "2020-02",
          "2020-03",
          "2020-04",
          "2020-05",
          "2020-06",
          "2020-07",
          "2020-08",
          "2020-09",
          "2020-10",
          "2020-11",
          "2020-12",
          "2021-01",
          "2021-02",
          "2021-03",
          "2021-04",
          "2021-05",
          "2021-06",
          "2021-07",
          "2021-08",
          "2021-09",
          "2021-10",
          "2021-11",
          "2021-12",
          "2022-01",
          "2022-02",
          "2022-03",
          "2022-04"
         ],
         "xaxis": "x",
         "y": [
          -10326.08,
          -269525.63,
          -150764.52,
          -80067.08,
          -542921.01,
          -268913.78,
          -101034.64,
          -152573.5,
          -144452.91,
          -206842.92,
          -316458.06,
          -483286.83,
          -80639.70999999999,
          -528080.53,
          -846743.67,
          -124393.28,
          -273290.91,
          -102470.69,
          -11393.5,
          -87616.22,
          -42620.51,
          -21114.42,
          -280.9,
          -37479.64,
          -517737.64999999997,
          -35591.68,
          -2942.36,
          -10794.119999999999,
          -49612.08,
          -406769.36,
          -62606.71,
          -10410.22,
          -26530.96,
          -45969.16,
          -384558.63,
          -338614.71,
          -122317.03,
          -144557.16,
          -260462.89,
          -112345.09,
          -7713.5199999999995,
          -184288.15999999997
         ],
         "yaxis": "y"
        }
       ],
       "layout": {
        "legend": {
         "tracegroupgap": 0
        },
        "template": {
         "data": {
          "bar": [
           {
            "error_x": {
             "color": "#2a3f5f"
            },
            "error_y": {
             "color": "#2a3f5f"
            },
            "marker": {
             "line": {
              "color": "#E5ECF6",
              "width": 0.5
             },
             "pattern": {
              "fillmode": "overlay",
              "size": 10,
              "solidity": 0.2
             }
            },
            "type": "bar"
           }
          ],
          "barpolar": [
           {
            "marker": {
             "line": {
              "color": "#E5ECF6",
              "width": 0.5
             },
             "pattern": {
              "fillmode": "overlay",
              "size": 10,
              "solidity": 0.2
             }
            },
            "type": "barpolar"
           }
          ],
          "carpet": [
           {
            "aaxis": {
             "endlinecolor": "#2a3f5f",
             "gridcolor": "white",
             "linecolor": "white",
             "minorgridcolor": "white",
             "startlinecolor": "#2a3f5f"
            },
            "baxis": {
             "endlinecolor": "#2a3f5f",
             "gridcolor": "white",
             "linecolor": "white",
             "minorgridcolor": "white",
             "startlinecolor": "#2a3f5f"
            },
            "type": "carpet"
           }
          ],
          "choropleth": [
           {
            "colorbar": {
             "outlinewidth": 0,
             "ticks": ""
            },
            "type": "choropleth"
           }
          ],
          "contour": [
           {
            "colorbar": {
             "outlinewidth": 0,
             "ticks": ""
            },
            "colorscale": [
             [
              0,
              "#0d0887"
             ],
             [
              0.1111111111111111,
              "#46039f"
             ],
             [
              0.2222222222222222,
              "#7201a8"
             ],
             [
              0.3333333333333333,
              "#9c179e"
             ],
             [
              0.4444444444444444,
              "#bd3786"
             ],
             [
              0.5555555555555556,
              "#d8576b"
             ],
             [
              0.6666666666666666,
              "#ed7953"
             ],
             [
              0.7777777777777778,
              "#fb9f3a"
             ],
             [
              0.8888888888888888,
              "#fdca26"
             ],
             [
              1,
              "#f0f921"
             ]
            ],
            "type": "contour"
           }
          ],
          "contourcarpet": [
           {
            "colorbar": {
             "outlinewidth": 0,
             "ticks": ""
            },
            "type": "contourcarpet"
           }
          ],
          "heatmap": [
           {
            "colorbar": {
             "outlinewidth": 0,
             "ticks": ""
            },
            "colorscale": [
             [
              0,
              "#0d0887"
             ],
             [
              0.1111111111111111,
              "#46039f"
             ],
             [
              0.2222222222222222,
              "#7201a8"
             ],
             [
              0.3333333333333333,
              "#9c179e"
             ],
             [
              0.4444444444444444,
              "#bd3786"
             ],
             [
              0.5555555555555556,
              "#d8576b"
             ],
             [
              0.6666666666666666,
              "#ed7953"
             ],
             [
              0.7777777777777778,
              "#fb9f3a"
             ],
             [
              0.8888888888888888,
              "#fdca26"
             ],
             [
              1,
              "#f0f921"
             ]
            ],
            "type": "heatmap"
           }
          ],
          "heatmapgl": [
           {
            "colorbar": {
             "outlinewidth": 0,
             "ticks": ""
            },
            "colorscale": [
             [
              0,
              "#0d0887"
             ],
             [
              0.1111111111111111,
              "#46039f"
             ],
             [
              0.2222222222222222,
              "#7201a8"
             ],
             [
              0.3333333333333333,
              "#9c179e"
             ],
             [
              0.4444444444444444,
              "#bd3786"
             ],
             [
              0.5555555555555556,
              "#d8576b"
             ],
             [
              0.6666666666666666,
              "#ed7953"
             ],
             [
              0.7777777777777778,
              "#fb9f3a"
             ],
             [
              0.8888888888888888,
              "#fdca26"
             ],
             [
              1,
              "#f0f921"
             ]
            ],
            "type": "heatmapgl"
           }
          ],
          "histogram": [
           {
            "marker": {
             "pattern": {
              "fillmode": "overlay",
              "size": 10,
              "solidity": 0.2
             }
            },
            "type": "histogram"
           }
          ],
          "histogram2d": [
           {
            "colorbar": {
             "outlinewidth": 0,
             "ticks": ""
            },
            "colorscale": [
             [
              0,
              "#0d0887"
             ],
             [
              0.1111111111111111,
              "#46039f"
             ],
             [
              0.2222222222222222,
              "#7201a8"
             ],
             [
              0.3333333333333333,
              "#9c179e"
             ],
             [
              0.4444444444444444,
              "#bd3786"
             ],
             [
              0.5555555555555556,
              "#d8576b"
             ],
             [
              0.6666666666666666,
              "#ed7953"
             ],
             [
              0.7777777777777778,
              "#fb9f3a"
             ],
             [
              0.8888888888888888,
              "#fdca26"
             ],
             [
              1,
              "#f0f921"
             ]
            ],
            "type": "histogram2d"
           }
          ],
          "histogram2dcontour": [
           {
            "colorbar": {
             "outlinewidth": 0,
             "ticks": ""
            },
            "colorscale": [
             [
              0,
              "#0d0887"
             ],
             [
              0.1111111111111111,
              "#46039f"
             ],
             [
              0.2222222222222222,
              "#7201a8"
             ],
             [
              0.3333333333333333,
              "#9c179e"
             ],
             [
              0.4444444444444444,
              "#bd3786"
             ],
             [
              0.5555555555555556,
              "#d8576b"
             ],
             [
              0.6666666666666666,
              "#ed7953"
             ],
             [
              0.7777777777777778,
              "#fb9f3a"
             ],
             [
              0.8888888888888888,
              "#fdca26"
             ],
             [
              1,
              "#f0f921"
             ]
            ],
            "type": "histogram2dcontour"
           }
          ],
          "mesh3d": [
           {
            "colorbar": {
             "outlinewidth": 0,
             "ticks": ""
            },
            "type": "mesh3d"
           }
          ],
          "parcoords": [
           {
            "line": {
             "colorbar": {
              "outlinewidth": 0,
              "ticks": ""
             }
            },
            "type": "parcoords"
           }
          ],
          "pie": [
           {
            "automargin": true,
            "type": "pie"
           }
          ],
          "scatter": [
           {
            "fillpattern": {
             "fillmode": "overlay",
             "size": 10,
             "solidity": 0.2
            },
            "type": "scatter"
           }
          ],
          "scatter3d": [
           {
            "line": {
             "colorbar": {
              "outlinewidth": 0,
              "ticks": ""
             }
            },
            "marker": {
             "colorbar": {
              "outlinewidth": 0,
              "ticks": ""
             }
            },
            "type": "scatter3d"
           }
          ],
          "scattercarpet": [
           {
            "marker": {
             "colorbar": {
              "outlinewidth": 0,
              "ticks": ""
             }
            },
            "type": "scattercarpet"
           }
          ],
          "scattergeo": [
           {
            "marker": {
             "colorbar": {
              "outlinewidth": 0,
              "ticks": ""
             }
            },
            "type": "scattergeo"
           }
          ],
          "scattergl": [
           {
            "marker": {
             "colorbar": {
              "outlinewidth": 0,
              "ticks": ""
             }
            },
            "type": "scattergl"
           }
          ],
          "scattermapbox": [
           {
            "marker": {
             "colorbar": {
              "outlinewidth": 0,
              "ticks": ""
             }
            },
            "type": "scattermapbox"
           }
          ],
          "scatterpolar": [
           {
            "marker": {
             "colorbar": {
              "outlinewidth": 0,
              "ticks": ""
             }
            },
            "type": "scatterpolar"
           }
          ],
          "scatterpolargl": [
           {
            "marker": {
             "colorbar": {
              "outlinewidth": 0,
              "ticks": ""
             }
            },
            "type": "scatterpolargl"
           }
          ],
          "scatterternary": [
           {
            "marker": {
             "colorbar": {
              "outlinewidth": 0,
              "ticks": ""
             }
            },
            "type": "scatterternary"
           }
          ],
          "surface": [
           {
            "colorbar": {
             "outlinewidth": 0,
             "ticks": ""
            },
            "colorscale": [
             [
              0,
              "#0d0887"
             ],
             [
              0.1111111111111111,
              "#46039f"
             ],
             [
              0.2222222222222222,
              "#7201a8"
             ],
             [
              0.3333333333333333,
              "#9c179e"
             ],
             [
              0.4444444444444444,
              "#bd3786"
             ],
             [
              0.5555555555555556,
              "#d8576b"
             ],
             [
              0.6666666666666666,
              "#ed7953"
             ],
             [
              0.7777777777777778,
              "#fb9f3a"
             ],
             [
              0.8888888888888888,
              "#fdca26"
             ],
             [
              1,
              "#f0f921"
             ]
            ],
            "type": "surface"
           }
          ],
          "table": [
           {
            "cells": {
             "fill": {
              "color": "#EBF0F8"
             },
             "line": {
              "color": "white"
             }
            },
            "header": {
             "fill": {
              "color": "#C8D4E3"
             },
             "line": {
              "color": "white"
             }
            },
            "type": "table"
           }
          ]
         },
         "layout": {
          "annotationdefaults": {
           "arrowcolor": "#2a3f5f",
           "arrowhead": 0,
           "arrowwidth": 1
          },
          "autotypenumbers": "strict",
          "coloraxis": {
           "colorbar": {
            "outlinewidth": 0,
            "ticks": ""
           }
          },
          "colorscale": {
           "diverging": [
            [
             0,
             "#8e0152"
            ],
            [
             0.1,
             "#c51b7d"
            ],
            [
             0.2,
             "#de77ae"
            ],
            [
             0.3,
             "#f1b6da"
            ],
            [
             0.4,
             "#fde0ef"
            ],
            [
             0.5,
             "#f7f7f7"
            ],
            [
             0.6,
             "#e6f5d0"
            ],
            [
             0.7,
             "#b8e186"
            ],
            [
             0.8,
             "#7fbc41"
            ],
            [
             0.9,
             "#4d9221"
            ],
            [
             1,
             "#276419"
            ]
           ],
           "sequential": [
            [
             0,
             "#0d0887"
            ],
            [
             0.1111111111111111,
             "#46039f"
            ],
            [
             0.2222222222222222,
             "#7201a8"
            ],
            [
             0.3333333333333333,
             "#9c179e"
            ],
            [
             0.4444444444444444,
             "#bd3786"
            ],
            [
             0.5555555555555556,
             "#d8576b"
            ],
            [
             0.6666666666666666,
             "#ed7953"
            ],
            [
             0.7777777777777778,
             "#fb9f3a"
            ],
            [
             0.8888888888888888,
             "#fdca26"
            ],
            [
             1,
             "#f0f921"
            ]
           ],
           "sequentialminus": [
            [
             0,
             "#0d0887"
            ],
            [
             0.1111111111111111,
             "#46039f"
            ],
            [
             0.2222222222222222,
             "#7201a8"
            ],
            [
             0.3333333333333333,
             "#9c179e"
            ],
            [
             0.4444444444444444,
             "#bd3786"
            ],
            [
             0.5555555555555556,
             "#d8576b"
            ],
            [
             0.6666666666666666,
             "#ed7953"
            ],
            [
             0.7777777777777778,
             "#fb9f3a"
            ],
            [
             0.8888888888888888,
             "#fdca26"
            ],
            [
             1,
             "#f0f921"
            ]
           ]
          },
          "colorway": [
           "#636efa",
           "#EF553B",
           "#00cc96",
           "#ab63fa",
           "#FFA15A",
           "#19d3f3",
           "#FF6692",
           "#B6E880",
           "#FF97FF",
           "#FECB52"
          ],
          "font": {
           "color": "#2a3f5f"
          },
          "geo": {
           "bgcolor": "white",
           "lakecolor": "white",
           "landcolor": "#E5ECF6",
           "showlakes": true,
           "showland": true,
           "subunitcolor": "white"
          },
          "hoverlabel": {
           "align": "left"
          },
          "hovermode": "closest",
          "mapbox": {
           "style": "light"
          },
          "paper_bgcolor": "white",
          "plot_bgcolor": "#E5ECF6",
          "polar": {
           "angularaxis": {
            "gridcolor": "white",
            "linecolor": "white",
            "ticks": ""
           },
           "bgcolor": "#E5ECF6",
           "radialaxis": {
            "gridcolor": "white",
            "linecolor": "white",
            "ticks": ""
           }
          },
          "scene": {
           "xaxis": {
            "backgroundcolor": "#E5ECF6",
            "gridcolor": "white",
            "gridwidth": 2,
            "linecolor": "white",
            "showbackground": true,
            "ticks": "",
            "zerolinecolor": "white"
           },
           "yaxis": {
            "backgroundcolor": "#E5ECF6",
            "gridcolor": "white",
            "gridwidth": 2,
            "linecolor": "white",
            "showbackground": true,
            "ticks": "",
            "zerolinecolor": "white"
           },
           "zaxis": {
            "backgroundcolor": "#E5ECF6",
            "gridcolor": "white",
            "gridwidth": 2,
            "linecolor": "white",
            "showbackground": true,
            "ticks": "",
            "zerolinecolor": "white"
           }
          },
          "shapedefaults": {
           "line": {
            "color": "#2a3f5f"
           }
          },
          "ternary": {
           "aaxis": {
            "gridcolor": "white",
            "linecolor": "white",
            "ticks": ""
           },
           "baxis": {
            "gridcolor": "white",
            "linecolor": "white",
            "ticks": ""
           },
           "bgcolor": "#E5ECF6",
           "caxis": {
            "gridcolor": "white",
            "linecolor": "white",
            "ticks": ""
           }
          },
          "title": {
           "x": 0.05
          },
          "xaxis": {
           "automargin": true,
           "gridcolor": "white",
           "linecolor": "white",
           "ticks": "",
           "title": {
            "standoff": 15
           },
           "zerolinecolor": "white",
           "zerolinewidth": 2
          },
          "yaxis": {
           "automargin": true,
           "gridcolor": "white",
           "linecolor": "white",
           "ticks": "",
           "title": {
            "standoff": 15
           },
           "zerolinecolor": "white",
           "zerolinewidth": 2
          }
         }
        },
        "title": {
         "text": "Negative Sales by Month"
        },
        "xaxis": {
         "anchor": "y",
         "domain": [
          0,
          1
         ],
         "title": {
          "text": "Year-Month"
         }
        },
        "yaxis": {
         "anchor": "x",
         "domain": [
          0,
          1
         ],
         "title": {
          "text": "Total Sales (EUR)"
         }
        }
       }
      }
     },
     "metadata": {},
     "output_type": "display_data"
    }
   ],
   "source": [
    "negative_sales['Year_Month'] = negative_sales['DATE'].dt.to_period('M')\n",
    "grouped_negative_sales_month = negative_sales.groupby('Year_Month')['Sales_EUR'].sum().reset_index()\n",
    "\n",
    "grouped_negative_sales_month['Year_Month'] = grouped_negative_sales_month['Year_Month'].astype(str)\n",
    "\n",
    "plot_sales(grouped_negative_sales_month, 'Year_Month', 'Sales_EUR', 'Negative Sales by Month', 'Year-Month', 'Total Sales (EUR)')"
   ]
  },
  {
   "cell_type": "markdown",
   "metadata": {},
   "source": [
    "At first sight, no evident pattern emerged from the **Negative Sales by Month** plot. However, the analysis highlights January 2020 as a significant outlier, displaying a much lower value than other months, which may indicate production errors in a specific product group. Excluding this outlier, a subtle pattern can be observed: sales tend to drop noticeably twice a year—once in the first half and once in the second—though the exact months vary."
   ]
  },
  {
   "cell_type": "code",
   "execution_count": 475,
   "metadata": {},
   "outputs": [
    {
     "name": "stderr",
     "output_type": "stream",
     "text": [
      "C:\\Users\\marga\\AppData\\Local\\Temp\\ipykernel_31388\\812041059.py:1: SettingWithCopyWarning:\n",
      "\n",
      "\n",
      "A value is trying to be set on a copy of a slice from a DataFrame.\n",
      "Try using .loc[row_indexer,col_indexer] = value instead\n",
      "\n",
      "See the caveats in the documentation: https://pandas.pydata.org/pandas-docs/stable/user_guide/indexing.html#returning-a-view-versus-a-copy\n",
      "\n"
     ]
    },
    {
     "data": {
      "application/vnd.plotly.v1+json": {
       "config": {
        "plotlyServerURL": "https://plot.ly"
       },
       "data": [
        {
         "hovertemplate": "Day=%{x}<br>Total Sales (EUR)=%{y}<extra></extra>",
         "legendgroup": "",
         "line": {
          "color": "#636efa",
          "dash": "solid"
         },
         "marker": {
          "symbol": "circle"
         },
         "mode": "lines",
         "name": "",
         "orientation": "v",
         "showlegend": false,
         "type": "scatter",
         "x": [
          "1",
          "2",
          "3",
          "4",
          "5",
          "6",
          "7",
          "8",
          "9",
          "10",
          "11",
          "12",
          "13",
          "14",
          "15",
          "16",
          "17",
          "18",
          "19",
          "20",
          "21",
          "22",
          "23",
          "24",
          "25",
          "26",
          "27",
          "28",
          "29",
          "30",
          "31"
         ],
         "xaxis": "x",
         "y": [
          -436191.65,
          -1759335.08,
          -1515505.42,
          -1311725.85,
          -17474.380000000005,
          -501377.09,
          -161155.43,
          -205887.59,
          -7992.17,
          -6829.04,
          -52131.399999999994,
          -82682.42,
          -16785.28,
          -43472.659999999996,
          -558.8,
          -2425.8,
          -382080.44,
          -3287,
          -3793.66,
          -282905.5,
          -68454.2,
          -475987.87,
          -27202.79,
          -85388.39,
          -46398,
          -24700.739999999998,
          -50662.600000000006,
          -12005.21,
          -1221.1399999999999,
          -21397.29,
          -97.53999999999999
         ],
         "yaxis": "y"
        }
       ],
       "layout": {
        "legend": {
         "tracegroupgap": 0
        },
        "template": {
         "data": {
          "bar": [
           {
            "error_x": {
             "color": "#2a3f5f"
            },
            "error_y": {
             "color": "#2a3f5f"
            },
            "marker": {
             "line": {
              "color": "#E5ECF6",
              "width": 0.5
             },
             "pattern": {
              "fillmode": "overlay",
              "size": 10,
              "solidity": 0.2
             }
            },
            "type": "bar"
           }
          ],
          "barpolar": [
           {
            "marker": {
             "line": {
              "color": "#E5ECF6",
              "width": 0.5
             },
             "pattern": {
              "fillmode": "overlay",
              "size": 10,
              "solidity": 0.2
             }
            },
            "type": "barpolar"
           }
          ],
          "carpet": [
           {
            "aaxis": {
             "endlinecolor": "#2a3f5f",
             "gridcolor": "white",
             "linecolor": "white",
             "minorgridcolor": "white",
             "startlinecolor": "#2a3f5f"
            },
            "baxis": {
             "endlinecolor": "#2a3f5f",
             "gridcolor": "white",
             "linecolor": "white",
             "minorgridcolor": "white",
             "startlinecolor": "#2a3f5f"
            },
            "type": "carpet"
           }
          ],
          "choropleth": [
           {
            "colorbar": {
             "outlinewidth": 0,
             "ticks": ""
            },
            "type": "choropleth"
           }
          ],
          "contour": [
           {
            "colorbar": {
             "outlinewidth": 0,
             "ticks": ""
            },
            "colorscale": [
             [
              0,
              "#0d0887"
             ],
             [
              0.1111111111111111,
              "#46039f"
             ],
             [
              0.2222222222222222,
              "#7201a8"
             ],
             [
              0.3333333333333333,
              "#9c179e"
             ],
             [
              0.4444444444444444,
              "#bd3786"
             ],
             [
              0.5555555555555556,
              "#d8576b"
             ],
             [
              0.6666666666666666,
              "#ed7953"
             ],
             [
              0.7777777777777778,
              "#fb9f3a"
             ],
             [
              0.8888888888888888,
              "#fdca26"
             ],
             [
              1,
              "#f0f921"
             ]
            ],
            "type": "contour"
           }
          ],
          "contourcarpet": [
           {
            "colorbar": {
             "outlinewidth": 0,
             "ticks": ""
            },
            "type": "contourcarpet"
           }
          ],
          "heatmap": [
           {
            "colorbar": {
             "outlinewidth": 0,
             "ticks": ""
            },
            "colorscale": [
             [
              0,
              "#0d0887"
             ],
             [
              0.1111111111111111,
              "#46039f"
             ],
             [
              0.2222222222222222,
              "#7201a8"
             ],
             [
              0.3333333333333333,
              "#9c179e"
             ],
             [
              0.4444444444444444,
              "#bd3786"
             ],
             [
              0.5555555555555556,
              "#d8576b"
             ],
             [
              0.6666666666666666,
              "#ed7953"
             ],
             [
              0.7777777777777778,
              "#fb9f3a"
             ],
             [
              0.8888888888888888,
              "#fdca26"
             ],
             [
              1,
              "#f0f921"
             ]
            ],
            "type": "heatmap"
           }
          ],
          "heatmapgl": [
           {
            "colorbar": {
             "outlinewidth": 0,
             "ticks": ""
            },
            "colorscale": [
             [
              0,
              "#0d0887"
             ],
             [
              0.1111111111111111,
              "#46039f"
             ],
             [
              0.2222222222222222,
              "#7201a8"
             ],
             [
              0.3333333333333333,
              "#9c179e"
             ],
             [
              0.4444444444444444,
              "#bd3786"
             ],
             [
              0.5555555555555556,
              "#d8576b"
             ],
             [
              0.6666666666666666,
              "#ed7953"
             ],
             [
              0.7777777777777778,
              "#fb9f3a"
             ],
             [
              0.8888888888888888,
              "#fdca26"
             ],
             [
              1,
              "#f0f921"
             ]
            ],
            "type": "heatmapgl"
           }
          ],
          "histogram": [
           {
            "marker": {
             "pattern": {
              "fillmode": "overlay",
              "size": 10,
              "solidity": 0.2
             }
            },
            "type": "histogram"
           }
          ],
          "histogram2d": [
           {
            "colorbar": {
             "outlinewidth": 0,
             "ticks": ""
            },
            "colorscale": [
             [
              0,
              "#0d0887"
             ],
             [
              0.1111111111111111,
              "#46039f"
             ],
             [
              0.2222222222222222,
              "#7201a8"
             ],
             [
              0.3333333333333333,
              "#9c179e"
             ],
             [
              0.4444444444444444,
              "#bd3786"
             ],
             [
              0.5555555555555556,
              "#d8576b"
             ],
             [
              0.6666666666666666,
              "#ed7953"
             ],
             [
              0.7777777777777778,
              "#fb9f3a"
             ],
             [
              0.8888888888888888,
              "#fdca26"
             ],
             [
              1,
              "#f0f921"
             ]
            ],
            "type": "histogram2d"
           }
          ],
          "histogram2dcontour": [
           {
            "colorbar": {
             "outlinewidth": 0,
             "ticks": ""
            },
            "colorscale": [
             [
              0,
              "#0d0887"
             ],
             [
              0.1111111111111111,
              "#46039f"
             ],
             [
              0.2222222222222222,
              "#7201a8"
             ],
             [
              0.3333333333333333,
              "#9c179e"
             ],
             [
              0.4444444444444444,
              "#bd3786"
             ],
             [
              0.5555555555555556,
              "#d8576b"
             ],
             [
              0.6666666666666666,
              "#ed7953"
             ],
             [
              0.7777777777777778,
              "#fb9f3a"
             ],
             [
              0.8888888888888888,
              "#fdca26"
             ],
             [
              1,
              "#f0f921"
             ]
            ],
            "type": "histogram2dcontour"
           }
          ],
          "mesh3d": [
           {
            "colorbar": {
             "outlinewidth": 0,
             "ticks": ""
            },
            "type": "mesh3d"
           }
          ],
          "parcoords": [
           {
            "line": {
             "colorbar": {
              "outlinewidth": 0,
              "ticks": ""
             }
            },
            "type": "parcoords"
           }
          ],
          "pie": [
           {
            "automargin": true,
            "type": "pie"
           }
          ],
          "scatter": [
           {
            "fillpattern": {
             "fillmode": "overlay",
             "size": 10,
             "solidity": 0.2
            },
            "type": "scatter"
           }
          ],
          "scatter3d": [
           {
            "line": {
             "colorbar": {
              "outlinewidth": 0,
              "ticks": ""
             }
            },
            "marker": {
             "colorbar": {
              "outlinewidth": 0,
              "ticks": ""
             }
            },
            "type": "scatter3d"
           }
          ],
          "scattercarpet": [
           {
            "marker": {
             "colorbar": {
              "outlinewidth": 0,
              "ticks": ""
             }
            },
            "type": "scattercarpet"
           }
          ],
          "scattergeo": [
           {
            "marker": {
             "colorbar": {
              "outlinewidth": 0,
              "ticks": ""
             }
            },
            "type": "scattergeo"
           }
          ],
          "scattergl": [
           {
            "marker": {
             "colorbar": {
              "outlinewidth": 0,
              "ticks": ""
             }
            },
            "type": "scattergl"
           }
          ],
          "scattermapbox": [
           {
            "marker": {
             "colorbar": {
              "outlinewidth": 0,
              "ticks": ""
             }
            },
            "type": "scattermapbox"
           }
          ],
          "scatterpolar": [
           {
            "marker": {
             "colorbar": {
              "outlinewidth": 0,
              "ticks": ""
             }
            },
            "type": "scatterpolar"
           }
          ],
          "scatterpolargl": [
           {
            "marker": {
             "colorbar": {
              "outlinewidth": 0,
              "ticks": ""
             }
            },
            "type": "scatterpolargl"
           }
          ],
          "scatterternary": [
           {
            "marker": {
             "colorbar": {
              "outlinewidth": 0,
              "ticks": ""
             }
            },
            "type": "scatterternary"
           }
          ],
          "surface": [
           {
            "colorbar": {
             "outlinewidth": 0,
             "ticks": ""
            },
            "colorscale": [
             [
              0,
              "#0d0887"
             ],
             [
              0.1111111111111111,
              "#46039f"
             ],
             [
              0.2222222222222222,
              "#7201a8"
             ],
             [
              0.3333333333333333,
              "#9c179e"
             ],
             [
              0.4444444444444444,
              "#bd3786"
             ],
             [
              0.5555555555555556,
              "#d8576b"
             ],
             [
              0.6666666666666666,
              "#ed7953"
             ],
             [
              0.7777777777777778,
              "#fb9f3a"
             ],
             [
              0.8888888888888888,
              "#fdca26"
             ],
             [
              1,
              "#f0f921"
             ]
            ],
            "type": "surface"
           }
          ],
          "table": [
           {
            "cells": {
             "fill": {
              "color": "#EBF0F8"
             },
             "line": {
              "color": "white"
             }
            },
            "header": {
             "fill": {
              "color": "#C8D4E3"
             },
             "line": {
              "color": "white"
             }
            },
            "type": "table"
           }
          ]
         },
         "layout": {
          "annotationdefaults": {
           "arrowcolor": "#2a3f5f",
           "arrowhead": 0,
           "arrowwidth": 1
          },
          "autotypenumbers": "strict",
          "coloraxis": {
           "colorbar": {
            "outlinewidth": 0,
            "ticks": ""
           }
          },
          "colorscale": {
           "diverging": [
            [
             0,
             "#8e0152"
            ],
            [
             0.1,
             "#c51b7d"
            ],
            [
             0.2,
             "#de77ae"
            ],
            [
             0.3,
             "#f1b6da"
            ],
            [
             0.4,
             "#fde0ef"
            ],
            [
             0.5,
             "#f7f7f7"
            ],
            [
             0.6,
             "#e6f5d0"
            ],
            [
             0.7,
             "#b8e186"
            ],
            [
             0.8,
             "#7fbc41"
            ],
            [
             0.9,
             "#4d9221"
            ],
            [
             1,
             "#276419"
            ]
           ],
           "sequential": [
            [
             0,
             "#0d0887"
            ],
            [
             0.1111111111111111,
             "#46039f"
            ],
            [
             0.2222222222222222,
             "#7201a8"
            ],
            [
             0.3333333333333333,
             "#9c179e"
            ],
            [
             0.4444444444444444,
             "#bd3786"
            ],
            [
             0.5555555555555556,
             "#d8576b"
            ],
            [
             0.6666666666666666,
             "#ed7953"
            ],
            [
             0.7777777777777778,
             "#fb9f3a"
            ],
            [
             0.8888888888888888,
             "#fdca26"
            ],
            [
             1,
             "#f0f921"
            ]
           ],
           "sequentialminus": [
            [
             0,
             "#0d0887"
            ],
            [
             0.1111111111111111,
             "#46039f"
            ],
            [
             0.2222222222222222,
             "#7201a8"
            ],
            [
             0.3333333333333333,
             "#9c179e"
            ],
            [
             0.4444444444444444,
             "#bd3786"
            ],
            [
             0.5555555555555556,
             "#d8576b"
            ],
            [
             0.6666666666666666,
             "#ed7953"
            ],
            [
             0.7777777777777778,
             "#fb9f3a"
            ],
            [
             0.8888888888888888,
             "#fdca26"
            ],
            [
             1,
             "#f0f921"
            ]
           ]
          },
          "colorway": [
           "#636efa",
           "#EF553B",
           "#00cc96",
           "#ab63fa",
           "#FFA15A",
           "#19d3f3",
           "#FF6692",
           "#B6E880",
           "#FF97FF",
           "#FECB52"
          ],
          "font": {
           "color": "#2a3f5f"
          },
          "geo": {
           "bgcolor": "white",
           "lakecolor": "white",
           "landcolor": "#E5ECF6",
           "showlakes": true,
           "showland": true,
           "subunitcolor": "white"
          },
          "hoverlabel": {
           "align": "left"
          },
          "hovermode": "closest",
          "mapbox": {
           "style": "light"
          },
          "paper_bgcolor": "white",
          "plot_bgcolor": "#E5ECF6",
          "polar": {
           "angularaxis": {
            "gridcolor": "white",
            "linecolor": "white",
            "ticks": ""
           },
           "bgcolor": "#E5ECF6",
           "radialaxis": {
            "gridcolor": "white",
            "linecolor": "white",
            "ticks": ""
           }
          },
          "scene": {
           "xaxis": {
            "backgroundcolor": "#E5ECF6",
            "gridcolor": "white",
            "gridwidth": 2,
            "linecolor": "white",
            "showbackground": true,
            "ticks": "",
            "zerolinecolor": "white"
           },
           "yaxis": {
            "backgroundcolor": "#E5ECF6",
            "gridcolor": "white",
            "gridwidth": 2,
            "linecolor": "white",
            "showbackground": true,
            "ticks": "",
            "zerolinecolor": "white"
           },
           "zaxis": {
            "backgroundcolor": "#E5ECF6",
            "gridcolor": "white",
            "gridwidth": 2,
            "linecolor": "white",
            "showbackground": true,
            "ticks": "",
            "zerolinecolor": "white"
           }
          },
          "shapedefaults": {
           "line": {
            "color": "#2a3f5f"
           }
          },
          "ternary": {
           "aaxis": {
            "gridcolor": "white",
            "linecolor": "white",
            "ticks": ""
           },
           "baxis": {
            "gridcolor": "white",
            "linecolor": "white",
            "ticks": ""
           },
           "bgcolor": "#E5ECF6",
           "caxis": {
            "gridcolor": "white",
            "linecolor": "white",
            "ticks": ""
           }
          },
          "title": {
           "x": 0.05
          },
          "xaxis": {
           "automargin": true,
           "gridcolor": "white",
           "linecolor": "white",
           "ticks": "",
           "title": {
            "standoff": 15
           },
           "zerolinecolor": "white",
           "zerolinewidth": 2
          },
          "yaxis": {
           "automargin": true,
           "gridcolor": "white",
           "linecolor": "white",
           "ticks": "",
           "title": {
            "standoff": 15
           },
           "zerolinecolor": "white",
           "zerolinewidth": 2
          }
         }
        },
        "title": {
         "text": "Negative Sales by Day"
        },
        "xaxis": {
         "anchor": "y",
         "domain": [
          0,
          1
         ],
         "title": {
          "text": "Day"
         }
        },
        "yaxis": {
         "anchor": "x",
         "domain": [
          0,
          1
         ],
         "title": {
          "text": "Total Sales (EUR)"
         }
        }
       }
      }
     },
     "metadata": {},
     "output_type": "display_data"
    }
   ],
   "source": [
    "negative_sales['Day'] = negative_sales['DATE'].dt.day\n",
    "grouped_negative_sales_day = negative_sales.groupby('Day')['Sales_EUR'].sum().reset_index()\n",
    "\n",
    "grouped_negative_sales_day['Day'] = grouped_negative_sales_day['Day'].astype(str)\n",
    "\n",
    "plot_sales(grouped_negative_sales_day, 'Day', 'Sales_EUR', 'Negative Sales by Day', 'Day', 'Total Sales (EUR)')"
   ]
  },
  {
   "cell_type": "markdown",
   "metadata": {},
   "source": [
    "Considering the **Negative Sales by Day** plot, there seems to be a tendency of much lower values for negative sales in the first days of the month, which slows down until the last days. Besides the first days, around the 20th day of the month there is a new, but not as obvious, peak."
   ]
  },
  {
   "cell_type": "code",
   "execution_count": 476,
   "metadata": {},
   "outputs": [
    {
     "data": {
      "application/vnd.plotly.v1+json": {
       "config": {
        "plotlyServerURL": "https://plot.ly"
       },
       "data": [
        {
         "alignmentgroup": "True",
         "hovertemplate": "Product Group=%{x}<br>Total Negative Sales (EUR)=%{text}<extra></extra>",
         "legendgroup": "",
         "marker": {
          "color": "#636efa",
          "pattern": {
           "shape": ""
          }
         },
         "name": "",
         "offsetgroup": "",
         "orientation": "v",
         "showlegend": false,
         "text": [
          -2555108.71,
          -1203233,
          -114909.56,
          -2376417.57,
          -421276.71,
          -76369.76,
          -10374.71,
          -518733.38,
          -15487.76,
          -193.1,
          -13143.55,
          -288439.22,
          -39.629999999999995,
          -13385.77
         ],
         "textposition": "outside",
         "texttemplate": "%{text:.2s}",
         "type": "bar",
         "x": [
          1,
          3,
          4,
          5,
          6,
          8,
          9,
          11,
          12,
          13,
          14,
          16,
          20,
          36
         ],
         "xaxis": "x",
         "y": [
          -2555108.71,
          -1203233,
          -114909.56,
          -2376417.57,
          -421276.71,
          -76369.76,
          -10374.71,
          -518733.38,
          -15487.76,
          -193.1,
          -13143.55,
          -288439.22,
          -39.629999999999995,
          -13385.77
         ],
         "yaxis": "y"
        }
       ],
       "layout": {
        "barmode": "relative",
        "legend": {
         "tracegroupgap": 0
        },
        "template": {
         "data": {
          "bar": [
           {
            "error_x": {
             "color": "#2a3f5f"
            },
            "error_y": {
             "color": "#2a3f5f"
            },
            "marker": {
             "line": {
              "color": "#E5ECF6",
              "width": 0.5
             },
             "pattern": {
              "fillmode": "overlay",
              "size": 10,
              "solidity": 0.2
             }
            },
            "type": "bar"
           }
          ],
          "barpolar": [
           {
            "marker": {
             "line": {
              "color": "#E5ECF6",
              "width": 0.5
             },
             "pattern": {
              "fillmode": "overlay",
              "size": 10,
              "solidity": 0.2
             }
            },
            "type": "barpolar"
           }
          ],
          "carpet": [
           {
            "aaxis": {
             "endlinecolor": "#2a3f5f",
             "gridcolor": "white",
             "linecolor": "white",
             "minorgridcolor": "white",
             "startlinecolor": "#2a3f5f"
            },
            "baxis": {
             "endlinecolor": "#2a3f5f",
             "gridcolor": "white",
             "linecolor": "white",
             "minorgridcolor": "white",
             "startlinecolor": "#2a3f5f"
            },
            "type": "carpet"
           }
          ],
          "choropleth": [
           {
            "colorbar": {
             "outlinewidth": 0,
             "ticks": ""
            },
            "type": "choropleth"
           }
          ],
          "contour": [
           {
            "colorbar": {
             "outlinewidth": 0,
             "ticks": ""
            },
            "colorscale": [
             [
              0,
              "#0d0887"
             ],
             [
              0.1111111111111111,
              "#46039f"
             ],
             [
              0.2222222222222222,
              "#7201a8"
             ],
             [
              0.3333333333333333,
              "#9c179e"
             ],
             [
              0.4444444444444444,
              "#bd3786"
             ],
             [
              0.5555555555555556,
              "#d8576b"
             ],
             [
              0.6666666666666666,
              "#ed7953"
             ],
             [
              0.7777777777777778,
              "#fb9f3a"
             ],
             [
              0.8888888888888888,
              "#fdca26"
             ],
             [
              1,
              "#f0f921"
             ]
            ],
            "type": "contour"
           }
          ],
          "contourcarpet": [
           {
            "colorbar": {
             "outlinewidth": 0,
             "ticks": ""
            },
            "type": "contourcarpet"
           }
          ],
          "heatmap": [
           {
            "colorbar": {
             "outlinewidth": 0,
             "ticks": ""
            },
            "colorscale": [
             [
              0,
              "#0d0887"
             ],
             [
              0.1111111111111111,
              "#46039f"
             ],
             [
              0.2222222222222222,
              "#7201a8"
             ],
             [
              0.3333333333333333,
              "#9c179e"
             ],
             [
              0.4444444444444444,
              "#bd3786"
             ],
             [
              0.5555555555555556,
              "#d8576b"
             ],
             [
              0.6666666666666666,
              "#ed7953"
             ],
             [
              0.7777777777777778,
              "#fb9f3a"
             ],
             [
              0.8888888888888888,
              "#fdca26"
             ],
             [
              1,
              "#f0f921"
             ]
            ],
            "type": "heatmap"
           }
          ],
          "heatmapgl": [
           {
            "colorbar": {
             "outlinewidth": 0,
             "ticks": ""
            },
            "colorscale": [
             [
              0,
              "#0d0887"
             ],
             [
              0.1111111111111111,
              "#46039f"
             ],
             [
              0.2222222222222222,
              "#7201a8"
             ],
             [
              0.3333333333333333,
              "#9c179e"
             ],
             [
              0.4444444444444444,
              "#bd3786"
             ],
             [
              0.5555555555555556,
              "#d8576b"
             ],
             [
              0.6666666666666666,
              "#ed7953"
             ],
             [
              0.7777777777777778,
              "#fb9f3a"
             ],
             [
              0.8888888888888888,
              "#fdca26"
             ],
             [
              1,
              "#f0f921"
             ]
            ],
            "type": "heatmapgl"
           }
          ],
          "histogram": [
           {
            "marker": {
             "pattern": {
              "fillmode": "overlay",
              "size": 10,
              "solidity": 0.2
             }
            },
            "type": "histogram"
           }
          ],
          "histogram2d": [
           {
            "colorbar": {
             "outlinewidth": 0,
             "ticks": ""
            },
            "colorscale": [
             [
              0,
              "#0d0887"
             ],
             [
              0.1111111111111111,
              "#46039f"
             ],
             [
              0.2222222222222222,
              "#7201a8"
             ],
             [
              0.3333333333333333,
              "#9c179e"
             ],
             [
              0.4444444444444444,
              "#bd3786"
             ],
             [
              0.5555555555555556,
              "#d8576b"
             ],
             [
              0.6666666666666666,
              "#ed7953"
             ],
             [
              0.7777777777777778,
              "#fb9f3a"
             ],
             [
              0.8888888888888888,
              "#fdca26"
             ],
             [
              1,
              "#f0f921"
             ]
            ],
            "type": "histogram2d"
           }
          ],
          "histogram2dcontour": [
           {
            "colorbar": {
             "outlinewidth": 0,
             "ticks": ""
            },
            "colorscale": [
             [
              0,
              "#0d0887"
             ],
             [
              0.1111111111111111,
              "#46039f"
             ],
             [
              0.2222222222222222,
              "#7201a8"
             ],
             [
              0.3333333333333333,
              "#9c179e"
             ],
             [
              0.4444444444444444,
              "#bd3786"
             ],
             [
              0.5555555555555556,
              "#d8576b"
             ],
             [
              0.6666666666666666,
              "#ed7953"
             ],
             [
              0.7777777777777778,
              "#fb9f3a"
             ],
             [
              0.8888888888888888,
              "#fdca26"
             ],
             [
              1,
              "#f0f921"
             ]
            ],
            "type": "histogram2dcontour"
           }
          ],
          "mesh3d": [
           {
            "colorbar": {
             "outlinewidth": 0,
             "ticks": ""
            },
            "type": "mesh3d"
           }
          ],
          "parcoords": [
           {
            "line": {
             "colorbar": {
              "outlinewidth": 0,
              "ticks": ""
             }
            },
            "type": "parcoords"
           }
          ],
          "pie": [
           {
            "automargin": true,
            "type": "pie"
           }
          ],
          "scatter": [
           {
            "fillpattern": {
             "fillmode": "overlay",
             "size": 10,
             "solidity": 0.2
            },
            "type": "scatter"
           }
          ],
          "scatter3d": [
           {
            "line": {
             "colorbar": {
              "outlinewidth": 0,
              "ticks": ""
             }
            },
            "marker": {
             "colorbar": {
              "outlinewidth": 0,
              "ticks": ""
             }
            },
            "type": "scatter3d"
           }
          ],
          "scattercarpet": [
           {
            "marker": {
             "colorbar": {
              "outlinewidth": 0,
              "ticks": ""
             }
            },
            "type": "scattercarpet"
           }
          ],
          "scattergeo": [
           {
            "marker": {
             "colorbar": {
              "outlinewidth": 0,
              "ticks": ""
             }
            },
            "type": "scattergeo"
           }
          ],
          "scattergl": [
           {
            "marker": {
             "colorbar": {
              "outlinewidth": 0,
              "ticks": ""
             }
            },
            "type": "scattergl"
           }
          ],
          "scattermapbox": [
           {
            "marker": {
             "colorbar": {
              "outlinewidth": 0,
              "ticks": ""
             }
            },
            "type": "scattermapbox"
           }
          ],
          "scatterpolar": [
           {
            "marker": {
             "colorbar": {
              "outlinewidth": 0,
              "ticks": ""
             }
            },
            "type": "scatterpolar"
           }
          ],
          "scatterpolargl": [
           {
            "marker": {
             "colorbar": {
              "outlinewidth": 0,
              "ticks": ""
             }
            },
            "type": "scatterpolargl"
           }
          ],
          "scatterternary": [
           {
            "marker": {
             "colorbar": {
              "outlinewidth": 0,
              "ticks": ""
             }
            },
            "type": "scatterternary"
           }
          ],
          "surface": [
           {
            "colorbar": {
             "outlinewidth": 0,
             "ticks": ""
            },
            "colorscale": [
             [
              0,
              "#0d0887"
             ],
             [
              0.1111111111111111,
              "#46039f"
             ],
             [
              0.2222222222222222,
              "#7201a8"
             ],
             [
              0.3333333333333333,
              "#9c179e"
             ],
             [
              0.4444444444444444,
              "#bd3786"
             ],
             [
              0.5555555555555556,
              "#d8576b"
             ],
             [
              0.6666666666666666,
              "#ed7953"
             ],
             [
              0.7777777777777778,
              "#fb9f3a"
             ],
             [
              0.8888888888888888,
              "#fdca26"
             ],
             [
              1,
              "#f0f921"
             ]
            ],
            "type": "surface"
           }
          ],
          "table": [
           {
            "cells": {
             "fill": {
              "color": "#EBF0F8"
             },
             "line": {
              "color": "white"
             }
            },
            "header": {
             "fill": {
              "color": "#C8D4E3"
             },
             "line": {
              "color": "white"
             }
            },
            "type": "table"
           }
          ]
         },
         "layout": {
          "annotationdefaults": {
           "arrowcolor": "#2a3f5f",
           "arrowhead": 0,
           "arrowwidth": 1
          },
          "autotypenumbers": "strict",
          "coloraxis": {
           "colorbar": {
            "outlinewidth": 0,
            "ticks": ""
           }
          },
          "colorscale": {
           "diverging": [
            [
             0,
             "#8e0152"
            ],
            [
             0.1,
             "#c51b7d"
            ],
            [
             0.2,
             "#de77ae"
            ],
            [
             0.3,
             "#f1b6da"
            ],
            [
             0.4,
             "#fde0ef"
            ],
            [
             0.5,
             "#f7f7f7"
            ],
            [
             0.6,
             "#e6f5d0"
            ],
            [
             0.7,
             "#b8e186"
            ],
            [
             0.8,
             "#7fbc41"
            ],
            [
             0.9,
             "#4d9221"
            ],
            [
             1,
             "#276419"
            ]
           ],
           "sequential": [
            [
             0,
             "#0d0887"
            ],
            [
             0.1111111111111111,
             "#46039f"
            ],
            [
             0.2222222222222222,
             "#7201a8"
            ],
            [
             0.3333333333333333,
             "#9c179e"
            ],
            [
             0.4444444444444444,
             "#bd3786"
            ],
            [
             0.5555555555555556,
             "#d8576b"
            ],
            [
             0.6666666666666666,
             "#ed7953"
            ],
            [
             0.7777777777777778,
             "#fb9f3a"
            ],
            [
             0.8888888888888888,
             "#fdca26"
            ],
            [
             1,
             "#f0f921"
            ]
           ],
           "sequentialminus": [
            [
             0,
             "#0d0887"
            ],
            [
             0.1111111111111111,
             "#46039f"
            ],
            [
             0.2222222222222222,
             "#7201a8"
            ],
            [
             0.3333333333333333,
             "#9c179e"
            ],
            [
             0.4444444444444444,
             "#bd3786"
            ],
            [
             0.5555555555555556,
             "#d8576b"
            ],
            [
             0.6666666666666666,
             "#ed7953"
            ],
            [
             0.7777777777777778,
             "#fb9f3a"
            ],
            [
             0.8888888888888888,
             "#fdca26"
            ],
            [
             1,
             "#f0f921"
            ]
           ]
          },
          "colorway": [
           "#636efa",
           "#EF553B",
           "#00cc96",
           "#ab63fa",
           "#FFA15A",
           "#19d3f3",
           "#FF6692",
           "#B6E880",
           "#FF97FF",
           "#FECB52"
          ],
          "font": {
           "color": "#2a3f5f"
          },
          "geo": {
           "bgcolor": "white",
           "lakecolor": "white",
           "landcolor": "#E5ECF6",
           "showlakes": true,
           "showland": true,
           "subunitcolor": "white"
          },
          "hoverlabel": {
           "align": "left"
          },
          "hovermode": "closest",
          "mapbox": {
           "style": "light"
          },
          "paper_bgcolor": "white",
          "plot_bgcolor": "#E5ECF6",
          "polar": {
           "angularaxis": {
            "gridcolor": "white",
            "linecolor": "white",
            "ticks": ""
           },
           "bgcolor": "#E5ECF6",
           "radialaxis": {
            "gridcolor": "white",
            "linecolor": "white",
            "ticks": ""
           }
          },
          "scene": {
           "xaxis": {
            "backgroundcolor": "#E5ECF6",
            "gridcolor": "white",
            "gridwidth": 2,
            "linecolor": "white",
            "showbackground": true,
            "ticks": "",
            "zerolinecolor": "white"
           },
           "yaxis": {
            "backgroundcolor": "#E5ECF6",
            "gridcolor": "white",
            "gridwidth": 2,
            "linecolor": "white",
            "showbackground": true,
            "ticks": "",
            "zerolinecolor": "white"
           },
           "zaxis": {
            "backgroundcolor": "#E5ECF6",
            "gridcolor": "white",
            "gridwidth": 2,
            "linecolor": "white",
            "showbackground": true,
            "ticks": "",
            "zerolinecolor": "white"
           }
          },
          "shapedefaults": {
           "line": {
            "color": "#2a3f5f"
           }
          },
          "ternary": {
           "aaxis": {
            "gridcolor": "white",
            "linecolor": "white",
            "ticks": ""
           },
           "baxis": {
            "gridcolor": "white",
            "linecolor": "white",
            "ticks": ""
           },
           "bgcolor": "#E5ECF6",
           "caxis": {
            "gridcolor": "white",
            "linecolor": "white",
            "ticks": ""
           }
          },
          "title": {
           "x": 0.05
          },
          "xaxis": {
           "automargin": true,
           "gridcolor": "white",
           "linecolor": "white",
           "ticks": "",
           "title": {
            "standoff": 15
           },
           "zerolinecolor": "white",
           "zerolinewidth": 2
          },
          "yaxis": {
           "automargin": true,
           "gridcolor": "white",
           "linecolor": "white",
           "ticks": "",
           "title": {
            "standoff": 15
           },
           "zerolinecolor": "white",
           "zerolinewidth": 2
          }
         }
        },
        "title": {
         "text": "Negative Sales by Product"
        },
        "xaxis": {
         "anchor": "y",
         "domain": [
          0,
          1
         ],
         "tickmode": "linear",
         "title": {
          "text": "Product Group"
         },
         "type": "category"
        },
        "yaxis": {
         "anchor": "x",
         "domain": [
          0,
          1
         ],
         "title": {
          "text": "Total Negative Sales (EUR)"
         }
        }
       }
      }
     },
     "metadata": {},
     "output_type": "display_data"
    }
   ],
   "source": [
    "grouped_negative_sales_products= negative_sales.groupby('Mapped_GCK')['Sales_EUR'].sum().reset_index()\n",
    "\n",
    "plot_sales_by_product(grouped_negative_sales_products, 'Mapped_GCK', 'Sales_EUR', 'Negative Sales by Product', 'Product Group', 'Total Negative Sales (EUR)')"
   ]
  },
  {
   "cell_type": "markdown",
   "metadata": {},
   "source": [
    "Product Groups with **most negative sales**, from the lowest value: Group **1**, Group **5**, Group **3**, Group **11**, Group **6**, Group **16**.\n",
    "- Are this products with the most sales as well? Is the negative sales value proportional to the positive values?"
   ]
  },
  {
   "cell_type": "code",
   "execution_count": 477,
   "metadata": {},
   "outputs": [
    {
     "name": "stderr",
     "output_type": "stream",
     "text": [
      "C:\\Users\\marga\\AppData\\Local\\Temp\\ipykernel_31388\\499746840.py:1: SettingWithCopyWarning:\n",
      "\n",
      "\n",
      "A value is trying to be set on a copy of a slice from a DataFrame.\n",
      "Try using .loc[row_indexer,col_indexer] = value instead\n",
      "\n",
      "See the caveats in the documentation: https://pandas.pydata.org/pandas-docs/stable/user_guide/indexing.html#returning-a-view-versus-a-copy\n",
      "\n"
     ]
    },
    {
     "data": {
      "application/vnd.plotly.v1+json": {
       "config": {
        "plotlyServerURL": "https://plot.ly"
       },
       "data": [
        {
         "hovertemplate": "Product=3<br>Year-Month=%{x}<br>Total Sales (EUR)=%{y}<extra></extra>",
         "legendgroup": "3",
         "line": {
          "color": "#636efa",
          "dash": "solid"
         },
         "marker": {
          "symbol": "circle"
         },
         "mode": "lines",
         "name": "3",
         "orientation": "v",
         "showlegend": true,
         "type": "scatter",
         "x": [
          "2018-11",
          "2018-12",
          "2019-01",
          "2019-02",
          "2019-03",
          "2019-04",
          "2019-05",
          "2019-08",
          "2019-09",
          "2019-10",
          "2019-12",
          "2020-01",
          "2020-03",
          "2020-04",
          "2020-05",
          "2020-06",
          "2020-07",
          "2020-08",
          "2020-09",
          "2020-10",
          "2020-11",
          "2020-12",
          "2021-01",
          "2021-02",
          "2021-03",
          "2021-05",
          "2021-06",
          "2021-07",
          "2021-08",
          "2021-09",
          "2021-10",
          "2021-11",
          "2021-12",
          "2022-01",
          "2022-02",
          "2022-04"
         ],
         "xaxis": "x",
         "y": [
          -7268.6900000000005,
          -2448.47,
          -2774.65,
          -5029.88,
          -16710.65,
          -1745.3,
          -10961.32,
          -25705.8,
          -4503.78,
          -91856.26999999999,
          -22655.53,
          -207039.55000000002,
          -476.1,
          -25523.4,
          -178.9,
          -241.9,
          -38877,
          -20428,
          -280.9,
          -16788.760000000002,
          -507286.67,
          -13849.949999999999,
          -1675.72,
          -8962.98,
          -1972.2,
          -3888,
          -2587.6,
          -800.81,
          -1076.95,
          -1330.7,
          -2984.29,
          -11169.37,
          -633.5,
          -43474.55,
          -5722.57,
          -94322.29
         ],
         "yaxis": "y"
        },
        {
         "hovertemplate": "Product=4<br>Year-Month=%{x}<br>Total Sales (EUR)=%{y}<extra></extra>",
         "legendgroup": "4",
         "line": {
          "color": "#EF553B",
          "dash": "solid"
         },
         "marker": {
          "symbol": "circle"
         },
         "mode": "lines",
         "name": "4",
         "orientation": "v",
         "showlegend": true,
         "type": "scatter",
         "x": [
          "2018-11",
          "2018-12",
          "2019-01",
          "2019-03",
          "2019-04",
          "2019-07",
          "2019-08",
          "2019-09",
          "2019-10",
          "2020-01",
          "2020-02",
          "2020-03",
          "2020-04",
          "2020-06",
          "2020-07",
          "2020-10",
          "2020-11",
          "2020-12",
          "2021-01",
          "2021-02",
          "2021-03",
          "2021-04",
          "2021-05",
          "2021-06",
          "2021-07",
          "2021-09",
          "2021-10",
          "2021-11",
          "2021-12",
          "2022-01",
          "2022-02",
          "2022-03",
          "2022-04"
         ],
         "xaxis": "x",
         "y": [
          -2029.91,
          -6772.4,
          -261.6,
          -7123.27,
          -2037.18,
          -68.45,
          -1071.8,
          -5763.9,
          -751.93,
          -1351.41,
          -52.08,
          -91.45,
          -67753.43,
          -55.62,
          -107.4,
          -127.4,
          -3575.17,
          -156.26,
          -1266.64,
          -77.6,
          -2574.83,
          -2483.3900000000003,
          -2833.92,
          -1615.49,
          -1513.09,
          -377.28,
          -924.06,
          -64.48,
          -733.07,
          -45.92,
          -99.36,
          -428.74,
          -721.03
         ],
         "yaxis": "y"
        },
        {
         "hovertemplate": "Product=8<br>Year-Month=%{x}<br>Total Sales (EUR)=%{y}<extra></extra>",
         "legendgroup": "8",
         "line": {
          "color": "#00cc96",
          "dash": "solid"
         },
         "marker": {
          "symbol": "circle"
         },
         "mode": "lines",
         "name": "8",
         "orientation": "v",
         "showlegend": true,
         "type": "scatter",
         "x": [
          "2018-11",
          "2019-03",
          "2019-11",
          "2019-12",
          "2020-02",
          "2020-03",
          "2020-06",
          "2020-07",
          "2020-08",
          "2021-03",
          "2021-04",
          "2021-05",
          "2021-09",
          "2021-11",
          "2022-03"
         ],
         "xaxis": "x",
         "y": [
          -500,
          -1000,
          -970,
          -16665.7,
          -205.9,
          -388.02,
          -47498.2,
          -2712.86,
          -105.42,
          -659.82,
          -1201.77,
          -46.2,
          -224.97,
          -2022.65,
          -2168.25
         ],
         "yaxis": "y"
        },
        {
         "hovertemplate": "Product=13<br>Year-Month=%{x}<br>Total Sales (EUR)=%{y}<extra></extra>",
         "legendgroup": "13",
         "line": {
          "color": "#ab63fa",
          "dash": "solid"
         },
         "marker": {
          "symbol": "circle"
         },
         "mode": "lines",
         "name": "13",
         "orientation": "v",
         "showlegend": true,
         "type": "scatter",
         "x": [
          "2018-11",
          "2019-04",
          "2019-05"
         ],
         "xaxis": "x",
         "y": [
          -158.2,
          -26.31,
          -8.59
         ],
         "yaxis": "y"
        },
        {
         "hovertemplate": "Product=36<br>Year-Month=%{x}<br>Total Sales (EUR)=%{y}<extra></extra>",
         "legendgroup": "36",
         "line": {
          "color": "#FFA15A",
          "dash": "solid"
         },
         "marker": {
          "symbol": "circle"
         },
         "mode": "lines",
         "name": "36",
         "orientation": "v",
         "showlegend": true,
         "type": "scatter",
         "x": [
          "2018-11",
          "2019-04",
          "2019-06",
          "2020-01",
          "2020-05",
          "2021-03",
          "2021-07",
          "2021-11"
         ],
         "xaxis": "x",
         "y": [
          -369.28,
          -246.35,
          -1779.81,
          -5887.21,
          -426.4,
          -360,
          -6.43,
          -4310.29
         ],
         "yaxis": "y"
        },
        {
         "hovertemplate": "Product=1<br>Year-Month=%{x}<br>Total Sales (EUR)=%{y}<extra></extra>",
         "legendgroup": "1",
         "line": {
          "color": "#19d3f3",
          "dash": "solid"
         },
         "marker": {
          "symbol": "circle"
         },
         "mode": "lines",
         "name": "1",
         "orientation": "v",
         "showlegend": true,
         "type": "scatter",
         "x": [
          "2018-12",
          "2019-01",
          "2019-02",
          "2019-03",
          "2019-04",
          "2019-05",
          "2019-06",
          "2019-07",
          "2019-08",
          "2019-09",
          "2019-10",
          "2019-11",
          "2019-12",
          "2020-01",
          "2020-02",
          "2020-03",
          "2020-04",
          "2020-05",
          "2020-06",
          "2020-10",
          "2020-12",
          "2021-02",
          "2021-04",
          "2021-05",
          "2021-06",
          "2021-07",
          "2021-08",
          "2021-09",
          "2021-10",
          "2021-11",
          "2021-12",
          "2022-01",
          "2022-02",
          "2022-03",
          "2022-04"
         ],
         "xaxis": "x",
         "y": [
          -226731.5,
          -79503.43,
          -61767.57,
          -35525.85,
          -40297.54,
          -65903.14,
          -90035.31,
          -99659.26,
          -134302.24000000002,
          -156912.4,
          -269116.32,
          -42674.71,
          -159615.1,
          -129602.68,
          -58220.45,
          -153809.78,
          -5967.410000000004,
          -7.11e-15,
          -35715.91,
          -14958.1,
          -21585.47,
          -516.63,
          -61569.08,
          -28299.18,
          -5686.33,
          -21942.84,
          -100.31,
          -125560.07,
          -68013.23,
          -55771.55,
          -67062.04,
          -90102.6,
          -61910.64,
          -3677.25,
          -82992.79
         ],
         "yaxis": "y"
        },
        {
         "hovertemplate": "Product=5<br>Year-Month=%{x}<br>Total Sales (EUR)=%{y}<extra></extra>",
         "legendgroup": "5",
         "line": {
          "color": "#FF6692",
          "dash": "solid"
         },
         "marker": {
          "symbol": "circle"
         },
         "mode": "lines",
         "name": "5",
         "orientation": "v",
         "showlegend": true,
         "type": "scatter",
         "x": [
          "2018-12",
          "2019-01",
          "2019-02",
          "2019-03",
          "2019-04",
          "2019-05",
          "2019-06",
          "2019-07",
          "2019-08",
          "2019-09",
          "2019-10",
          "2019-12",
          "2020-01",
          "2020-02",
          "2020-03",
          "2020-05",
          "2020-06",
          "2020-07",
          "2020-10",
          "2020-11",
          "2021-02",
          "2021-03",
          "2021-04",
          "2021-05",
          "2021-07",
          "2021-09",
          "2021-10",
          "2021-11",
          "2021-12",
          "2022-01",
          "2022-02",
          "2022-04"
         ],
         "xaxis": "x",
         "y": [
          -33573.26,
          -68223.7,
          -13269.63,
          -19537.94,
          -223152.32,
          -24107.89,
          -56671.38,
          -44725.2,
          -17267.190000000002,
          -136550.38,
          -109557.64,
          -59996.08,
          -173783.21,
          -65914.85,
          -113729.56,
          -10788.2,
          -36.96,
          -168,
          -5568.13,
          -76.75,
          -1236.91,
          -44045.23,
          -341515.12,
          -26999.41,
          -1818.39,
          -249012.51,
          -266680.17,
          -44924.31,
          -76100.05,
          -104672.3,
          -37699.240000000005,
          -5015.66
         ],
         "yaxis": "y"
        },
        {
         "hovertemplate": "Product=20<br>Year-Month=%{x}<br>Total Sales (EUR)=%{y}<extra></extra>",
         "legendgroup": "20",
         "line": {
          "color": "#B6E880",
          "dash": "solid"
         },
         "marker": {
          "symbol": "circle"
         },
         "mode": "lines",
         "name": "20",
         "orientation": "v",
         "showlegend": true,
         "type": "scatter",
         "x": [
          "2019-01",
          "2019-04",
          "2019-05",
          "2019-09",
          "2020-11"
         ],
         "xaxis": "x",
         "y": [
          -1.14,
          -15.63,
          -5.1,
          -6.6,
          -11.16
         ],
         "yaxis": "y"
        },
        {
         "hovertemplate": "Product=11<br>Year-Month=%{x}<br>Total Sales (EUR)=%{y}<extra></extra>",
         "legendgroup": "11",
         "line": {
          "color": "#FF97FF",
          "dash": "solid"
         },
         "marker": {
          "symbol": "circle"
         },
         "mode": "lines",
         "name": "11",
         "orientation": "v",
         "showlegend": true,
         "type": "scatter",
         "x": [
          "2019-03",
          "2019-08",
          "2019-10",
          "2020-10",
          "2022-01",
          "2022-02",
          "2022-04"
         ],
         "xaxis": "x",
         "y": [
          -463023.3,
          -22775,
          -9153.22,
          -2,
          -20674.27,
          -2518,
          -587.59
         ],
         "yaxis": "y"
        },
        {
         "hovertemplate": "Product=9<br>Year-Month=%{x}<br>Total Sales (EUR)=%{y}<extra></extra>",
         "legendgroup": "9",
         "line": {
          "color": "#FECB52",
          "dash": "solid"
         },
         "marker": {
          "symbol": "circle"
         },
         "mode": "lines",
         "name": "9",
         "orientation": "v",
         "showlegend": true,
         "type": "scatter",
         "x": [
          "2019-04",
          "2020-04",
          "2020-07",
          "2020-10",
          "2020-11",
          "2021-09",
          "2021-10",
          "2021-11",
          "2021-12",
          "2022-01",
          "2022-02"
         ],
         "xaxis": "x",
         "y": [
          -31.05,
          -375,
          -35.25,
          -35.25,
          -6787.9,
          -28.8,
          -12.96,
          -2983,
          -28.5,
          -28.5,
          -28.5
         ],
         "yaxis": "y"
        },
        {
         "hovertemplate": "Product=16<br>Year-Month=%{x}<br>Total Sales (EUR)=%{y}<extra></extra>",
         "legendgroup": "16",
         "line": {
          "color": "#636efa",
          "dash": "solid"
         },
         "marker": {
          "symbol": "circle"
         },
         "mode": "lines",
         "name": "16",
         "orientation": "v",
         "showlegend": true,
         "type": "scatter",
         "x": [
          "2019-04",
          "2019-06",
          "2019-09",
          "2019-12",
          "2020-08",
          "2021-05"
         ],
         "xaxis": "x",
         "y": [
          -1362.1,
          -4087,
          -12721,
          -269148.12,
          -581,
          -540
         ],
         "yaxis": "y"
        },
        {
         "hovertemplate": "Product=14<br>Year-Month=%{x}<br>Total Sales (EUR)=%{y}<extra></extra>",
         "legendgroup": "14",
         "line": {
          "color": "#EF553B",
          "dash": "solid"
         },
         "marker": {
          "symbol": "circle"
         },
         "mode": "lines",
         "name": "14",
         "orientation": "v",
         "showlegend": true,
         "type": "scatter",
         "x": [
          "2019-05",
          "2019-10",
          "2020-04",
          "2021-09",
          "2022-04"
         ],
         "xaxis": "x",
         "y": [
          -48.6,
          -2851.45,
          -2851.45,
          -6743.25,
          -648.8
         ],
         "yaxis": "y"
        },
        {
         "hovertemplate": "Product=6<br>Year-Month=%{x}<br>Total Sales (EUR)=%{y}<extra></extra>",
         "legendgroup": "6",
         "line": {
          "color": "#00cc96",
          "dash": "solid"
         },
         "marker": {
          "symbol": "circle"
         },
         "mode": "lines",
         "name": "6",
         "orientation": "v",
         "showlegend": true,
         "type": "scatter",
         "x": [
          "2019-08",
          "2019-11",
          "2020-01",
          "2020-05",
          "2020-06",
          "2021-08",
          "2021-09",
          "2022-02",
          "2022-03"
         ],
         "xaxis": "x",
         "y": [
          -5720.89,
          -36995,
          -329079.61,
          -4.55e-13,
          -4067.63,
          -43652.65,
          -1281.05,
          -54,
          -425.88
         ],
         "yaxis": "y"
        },
        {
         "hovertemplate": "Product=12<br>Year-Month=%{x}<br>Total Sales (EUR)=%{y}<extra></extra>",
         "legendgroup": "12",
         "line": {
          "color": "#ab63fa",
          "dash": "solid"
         },
         "marker": {
          "symbol": "circle"
         },
         "mode": "lines",
         "name": "12",
         "orientation": "v",
         "showlegend": true,
         "type": "scatter",
         "x": [
          "2020-03",
          "2020-07",
          "2021-06",
          "2021-07",
          "2021-08",
          "2021-11",
          "2022-01",
          "2022-02",
          "2022-03"
         ],
         "xaxis": "x",
         "y": [
          -4796,
          -720,
          -520.8,
          -449.4,
          -1139.25,
          -1071.38,
          -1464.75,
          -4312.78,
          -1013.4
         ],
         "yaxis": "y"
        }
       ],
       "layout": {
        "legend": {
         "title": {
          "text": "Product"
         },
         "tracegroupgap": 0
        },
        "template": {
         "data": {
          "bar": [
           {
            "error_x": {
             "color": "#2a3f5f"
            },
            "error_y": {
             "color": "#2a3f5f"
            },
            "marker": {
             "line": {
              "color": "#E5ECF6",
              "width": 0.5
             },
             "pattern": {
              "fillmode": "overlay",
              "size": 10,
              "solidity": 0.2
             }
            },
            "type": "bar"
           }
          ],
          "barpolar": [
           {
            "marker": {
             "line": {
              "color": "#E5ECF6",
              "width": 0.5
             },
             "pattern": {
              "fillmode": "overlay",
              "size": 10,
              "solidity": 0.2
             }
            },
            "type": "barpolar"
           }
          ],
          "carpet": [
           {
            "aaxis": {
             "endlinecolor": "#2a3f5f",
             "gridcolor": "white",
             "linecolor": "white",
             "minorgridcolor": "white",
             "startlinecolor": "#2a3f5f"
            },
            "baxis": {
             "endlinecolor": "#2a3f5f",
             "gridcolor": "white",
             "linecolor": "white",
             "minorgridcolor": "white",
             "startlinecolor": "#2a3f5f"
            },
            "type": "carpet"
           }
          ],
          "choropleth": [
           {
            "colorbar": {
             "outlinewidth": 0,
             "ticks": ""
            },
            "type": "choropleth"
           }
          ],
          "contour": [
           {
            "colorbar": {
             "outlinewidth": 0,
             "ticks": ""
            },
            "colorscale": [
             [
              0,
              "#0d0887"
             ],
             [
              0.1111111111111111,
              "#46039f"
             ],
             [
              0.2222222222222222,
              "#7201a8"
             ],
             [
              0.3333333333333333,
              "#9c179e"
             ],
             [
              0.4444444444444444,
              "#bd3786"
             ],
             [
              0.5555555555555556,
              "#d8576b"
             ],
             [
              0.6666666666666666,
              "#ed7953"
             ],
             [
              0.7777777777777778,
              "#fb9f3a"
             ],
             [
              0.8888888888888888,
              "#fdca26"
             ],
             [
              1,
              "#f0f921"
             ]
            ],
            "type": "contour"
           }
          ],
          "contourcarpet": [
           {
            "colorbar": {
             "outlinewidth": 0,
             "ticks": ""
            },
            "type": "contourcarpet"
           }
          ],
          "heatmap": [
           {
            "colorbar": {
             "outlinewidth": 0,
             "ticks": ""
            },
            "colorscale": [
             [
              0,
              "#0d0887"
             ],
             [
              0.1111111111111111,
              "#46039f"
             ],
             [
              0.2222222222222222,
              "#7201a8"
             ],
             [
              0.3333333333333333,
              "#9c179e"
             ],
             [
              0.4444444444444444,
              "#bd3786"
             ],
             [
              0.5555555555555556,
              "#d8576b"
             ],
             [
              0.6666666666666666,
              "#ed7953"
             ],
             [
              0.7777777777777778,
              "#fb9f3a"
             ],
             [
              0.8888888888888888,
              "#fdca26"
             ],
             [
              1,
              "#f0f921"
             ]
            ],
            "type": "heatmap"
           }
          ],
          "heatmapgl": [
           {
            "colorbar": {
             "outlinewidth": 0,
             "ticks": ""
            },
            "colorscale": [
             [
              0,
              "#0d0887"
             ],
             [
              0.1111111111111111,
              "#46039f"
             ],
             [
              0.2222222222222222,
              "#7201a8"
             ],
             [
              0.3333333333333333,
              "#9c179e"
             ],
             [
              0.4444444444444444,
              "#bd3786"
             ],
             [
              0.5555555555555556,
              "#d8576b"
             ],
             [
              0.6666666666666666,
              "#ed7953"
             ],
             [
              0.7777777777777778,
              "#fb9f3a"
             ],
             [
              0.8888888888888888,
              "#fdca26"
             ],
             [
              1,
              "#f0f921"
             ]
            ],
            "type": "heatmapgl"
           }
          ],
          "histogram": [
           {
            "marker": {
             "pattern": {
              "fillmode": "overlay",
              "size": 10,
              "solidity": 0.2
             }
            },
            "type": "histogram"
           }
          ],
          "histogram2d": [
           {
            "colorbar": {
             "outlinewidth": 0,
             "ticks": ""
            },
            "colorscale": [
             [
              0,
              "#0d0887"
             ],
             [
              0.1111111111111111,
              "#46039f"
             ],
             [
              0.2222222222222222,
              "#7201a8"
             ],
             [
              0.3333333333333333,
              "#9c179e"
             ],
             [
              0.4444444444444444,
              "#bd3786"
             ],
             [
              0.5555555555555556,
              "#d8576b"
             ],
             [
              0.6666666666666666,
              "#ed7953"
             ],
             [
              0.7777777777777778,
              "#fb9f3a"
             ],
             [
              0.8888888888888888,
              "#fdca26"
             ],
             [
              1,
              "#f0f921"
             ]
            ],
            "type": "histogram2d"
           }
          ],
          "histogram2dcontour": [
           {
            "colorbar": {
             "outlinewidth": 0,
             "ticks": ""
            },
            "colorscale": [
             [
              0,
              "#0d0887"
             ],
             [
              0.1111111111111111,
              "#46039f"
             ],
             [
              0.2222222222222222,
              "#7201a8"
             ],
             [
              0.3333333333333333,
              "#9c179e"
             ],
             [
              0.4444444444444444,
              "#bd3786"
             ],
             [
              0.5555555555555556,
              "#d8576b"
             ],
             [
              0.6666666666666666,
              "#ed7953"
             ],
             [
              0.7777777777777778,
              "#fb9f3a"
             ],
             [
              0.8888888888888888,
              "#fdca26"
             ],
             [
              1,
              "#f0f921"
             ]
            ],
            "type": "histogram2dcontour"
           }
          ],
          "mesh3d": [
           {
            "colorbar": {
             "outlinewidth": 0,
             "ticks": ""
            },
            "type": "mesh3d"
           }
          ],
          "parcoords": [
           {
            "line": {
             "colorbar": {
              "outlinewidth": 0,
              "ticks": ""
             }
            },
            "type": "parcoords"
           }
          ],
          "pie": [
           {
            "automargin": true,
            "type": "pie"
           }
          ],
          "scatter": [
           {
            "fillpattern": {
             "fillmode": "overlay",
             "size": 10,
             "solidity": 0.2
            },
            "type": "scatter"
           }
          ],
          "scatter3d": [
           {
            "line": {
             "colorbar": {
              "outlinewidth": 0,
              "ticks": ""
             }
            },
            "marker": {
             "colorbar": {
              "outlinewidth": 0,
              "ticks": ""
             }
            },
            "type": "scatter3d"
           }
          ],
          "scattercarpet": [
           {
            "marker": {
             "colorbar": {
              "outlinewidth": 0,
              "ticks": ""
             }
            },
            "type": "scattercarpet"
           }
          ],
          "scattergeo": [
           {
            "marker": {
             "colorbar": {
              "outlinewidth": 0,
              "ticks": ""
             }
            },
            "type": "scattergeo"
           }
          ],
          "scattergl": [
           {
            "marker": {
             "colorbar": {
              "outlinewidth": 0,
              "ticks": ""
             }
            },
            "type": "scattergl"
           }
          ],
          "scattermapbox": [
           {
            "marker": {
             "colorbar": {
              "outlinewidth": 0,
              "ticks": ""
             }
            },
            "type": "scattermapbox"
           }
          ],
          "scatterpolar": [
           {
            "marker": {
             "colorbar": {
              "outlinewidth": 0,
              "ticks": ""
             }
            },
            "type": "scatterpolar"
           }
          ],
          "scatterpolargl": [
           {
            "marker": {
             "colorbar": {
              "outlinewidth": 0,
              "ticks": ""
             }
            },
            "type": "scatterpolargl"
           }
          ],
          "scatterternary": [
           {
            "marker": {
             "colorbar": {
              "outlinewidth": 0,
              "ticks": ""
             }
            },
            "type": "scatterternary"
           }
          ],
          "surface": [
           {
            "colorbar": {
             "outlinewidth": 0,
             "ticks": ""
            },
            "colorscale": [
             [
              0,
              "#0d0887"
             ],
             [
              0.1111111111111111,
              "#46039f"
             ],
             [
              0.2222222222222222,
              "#7201a8"
             ],
             [
              0.3333333333333333,
              "#9c179e"
             ],
             [
              0.4444444444444444,
              "#bd3786"
             ],
             [
              0.5555555555555556,
              "#d8576b"
             ],
             [
              0.6666666666666666,
              "#ed7953"
             ],
             [
              0.7777777777777778,
              "#fb9f3a"
             ],
             [
              0.8888888888888888,
              "#fdca26"
             ],
             [
              1,
              "#f0f921"
             ]
            ],
            "type": "surface"
           }
          ],
          "table": [
           {
            "cells": {
             "fill": {
              "color": "#EBF0F8"
             },
             "line": {
              "color": "white"
             }
            },
            "header": {
             "fill": {
              "color": "#C8D4E3"
             },
             "line": {
              "color": "white"
             }
            },
            "type": "table"
           }
          ]
         },
         "layout": {
          "annotationdefaults": {
           "arrowcolor": "#2a3f5f",
           "arrowhead": 0,
           "arrowwidth": 1
          },
          "autotypenumbers": "strict",
          "coloraxis": {
           "colorbar": {
            "outlinewidth": 0,
            "ticks": ""
           }
          },
          "colorscale": {
           "diverging": [
            [
             0,
             "#8e0152"
            ],
            [
             0.1,
             "#c51b7d"
            ],
            [
             0.2,
             "#de77ae"
            ],
            [
             0.3,
             "#f1b6da"
            ],
            [
             0.4,
             "#fde0ef"
            ],
            [
             0.5,
             "#f7f7f7"
            ],
            [
             0.6,
             "#e6f5d0"
            ],
            [
             0.7,
             "#b8e186"
            ],
            [
             0.8,
             "#7fbc41"
            ],
            [
             0.9,
             "#4d9221"
            ],
            [
             1,
             "#276419"
            ]
           ],
           "sequential": [
            [
             0,
             "#0d0887"
            ],
            [
             0.1111111111111111,
             "#46039f"
            ],
            [
             0.2222222222222222,
             "#7201a8"
            ],
            [
             0.3333333333333333,
             "#9c179e"
            ],
            [
             0.4444444444444444,
             "#bd3786"
            ],
            [
             0.5555555555555556,
             "#d8576b"
            ],
            [
             0.6666666666666666,
             "#ed7953"
            ],
            [
             0.7777777777777778,
             "#fb9f3a"
            ],
            [
             0.8888888888888888,
             "#fdca26"
            ],
            [
             1,
             "#f0f921"
            ]
           ],
           "sequentialminus": [
            [
             0,
             "#0d0887"
            ],
            [
             0.1111111111111111,
             "#46039f"
            ],
            [
             0.2222222222222222,
             "#7201a8"
            ],
            [
             0.3333333333333333,
             "#9c179e"
            ],
            [
             0.4444444444444444,
             "#bd3786"
            ],
            [
             0.5555555555555556,
             "#d8576b"
            ],
            [
             0.6666666666666666,
             "#ed7953"
            ],
            [
             0.7777777777777778,
             "#fb9f3a"
            ],
            [
             0.8888888888888888,
             "#fdca26"
            ],
            [
             1,
             "#f0f921"
            ]
           ]
          },
          "colorway": [
           "#636efa",
           "#EF553B",
           "#00cc96",
           "#ab63fa",
           "#FFA15A",
           "#19d3f3",
           "#FF6692",
           "#B6E880",
           "#FF97FF",
           "#FECB52"
          ],
          "font": {
           "color": "#2a3f5f"
          },
          "geo": {
           "bgcolor": "white",
           "lakecolor": "white",
           "landcolor": "#E5ECF6",
           "showlakes": true,
           "showland": true,
           "subunitcolor": "white"
          },
          "hoverlabel": {
           "align": "left"
          },
          "hovermode": "closest",
          "mapbox": {
           "style": "light"
          },
          "paper_bgcolor": "white",
          "plot_bgcolor": "#E5ECF6",
          "polar": {
           "angularaxis": {
            "gridcolor": "white",
            "linecolor": "white",
            "ticks": ""
           },
           "bgcolor": "#E5ECF6",
           "radialaxis": {
            "gridcolor": "white",
            "linecolor": "white",
            "ticks": ""
           }
          },
          "scene": {
           "xaxis": {
            "backgroundcolor": "#E5ECF6",
            "gridcolor": "white",
            "gridwidth": 2,
            "linecolor": "white",
            "showbackground": true,
            "ticks": "",
            "zerolinecolor": "white"
           },
           "yaxis": {
            "backgroundcolor": "#E5ECF6",
            "gridcolor": "white",
            "gridwidth": 2,
            "linecolor": "white",
            "showbackground": true,
            "ticks": "",
            "zerolinecolor": "white"
           },
           "zaxis": {
            "backgroundcolor": "#E5ECF6",
            "gridcolor": "white",
            "gridwidth": 2,
            "linecolor": "white",
            "showbackground": true,
            "ticks": "",
            "zerolinecolor": "white"
           }
          },
          "shapedefaults": {
           "line": {
            "color": "#2a3f5f"
           }
          },
          "ternary": {
           "aaxis": {
            "gridcolor": "white",
            "linecolor": "white",
            "ticks": ""
           },
           "baxis": {
            "gridcolor": "white",
            "linecolor": "white",
            "ticks": ""
           },
           "bgcolor": "#E5ECF6",
           "caxis": {
            "gridcolor": "white",
            "linecolor": "white",
            "ticks": ""
           }
          },
          "title": {
           "x": 0.05
          },
          "xaxis": {
           "automargin": true,
           "gridcolor": "white",
           "linecolor": "white",
           "ticks": "",
           "title": {
            "standoff": 15
           },
           "zerolinecolor": "white",
           "zerolinewidth": 2
          },
          "yaxis": {
           "automargin": true,
           "gridcolor": "white",
           "linecolor": "white",
           "ticks": "",
           "title": {
            "standoff": 15
           },
           "zerolinecolor": "white",
           "zerolinewidth": 2
          }
         }
        },
        "title": {
         "text": "Negative Sales by Product and Month"
        },
        "xaxis": {
         "anchor": "y",
         "domain": [
          0,
          1
         ],
         "tickangle": -45,
         "title": {
          "text": "Year-Month"
         }
        },
        "yaxis": {
         "anchor": "x",
         "domain": [
          0,
          1
         ],
         "title": {
          "text": "Total Sales (EUR)"
         }
        }
       }
      }
     },
     "metadata": {},
     "output_type": "display_data"
    }
   ],
   "source": [
    "negative_sales['Year_Month'] = negative_sales['DATE'].dt.to_period('M').astype(str)\n",
    "grouped_negative_sales_prod_month = negative_sales.groupby(['Year_Month', 'Mapped_GCK'])['Sales_EUR'].sum().reset_index()\n",
    "\n",
    "plot_sales_by_product_month(grouped_negative_sales_prod_month, 'Year_Month', 'Sales_EUR', 'Mapped_GCK', \n",
    "                            'Negative Sales by Product and Month', 'Year-Month', 'Total Sales (EUR)')"
   ]
  },
  {
   "cell_type": "markdown",
   "metadata": {},
   "source": [
    "The visualization of **Negative Sales by Poduct, by month** gives us an idea of the main drivers for the lower peaks in sales values. \n",
    "- **Mar 2019**: most negative sales for this month were driven by the product group **11**, making it possibly a production error. \n",
    "- **Jan 2020**: the month with the lowest value for sales resulted from a variety of product groups having a peak in negative sales, namely group **6**, group **16**, group **3**, group **5** and group **1**.\n",
    "- **Nov 2020**: while this was a month that looked within normal limits, now its possible to identify that the vast majority of negative sales for November 2020 come from the product group **3**, making it very likely a production error. \n",
    "- **Apr 20201**: most negative sales for this month were driven by the product group **5**, with a slight peak in group **1** as well, making it possibly a production error.\n",
    "- **Sep and Oct 2021**: both this months have a similar behaviour to the one of **Apr 2021**, being the main drivers of negative sales products **5** and **1**."
   ]
  },
  {
   "cell_type": "markdown",
   "metadata": {},
   "source": [
    ">Positive Sales' values Analysis"
   ]
  },
  {
   "cell_type": "code",
   "execution_count": 478,
   "metadata": {},
   "outputs": [
    {
     "data": {
      "text/html": [
       "<div>\n",
       "<style scoped>\n",
       "    .dataframe tbody tr th:only-of-type {\n",
       "        vertical-align: middle;\n",
       "    }\n",
       "\n",
       "    .dataframe tbody tr th {\n",
       "        vertical-align: top;\n",
       "    }\n",
       "\n",
       "    .dataframe thead th {\n",
       "        text-align: right;\n",
       "    }\n",
       "</style>\n",
       "<table border=\"1\" class=\"dataframe\">\n",
       "  <thead>\n",
       "    <tr style=\"text-align: right;\">\n",
       "      <th></th>\n",
       "      <th>DATE</th>\n",
       "      <th>Mapped_GCK</th>\n",
       "      <th>Sales_EUR</th>\n",
       "    </tr>\n",
       "  </thead>\n",
       "  <tbody>\n",
       "    <tr>\n",
       "      <th>26</th>\n",
       "      <td>2018-10-24</td>\n",
       "      <td>1</td>\n",
       "      <td>1702929.21</td>\n",
       "    </tr>\n",
       "    <tr>\n",
       "      <th>31</th>\n",
       "      <td>2021-08-20</td>\n",
       "      <td>16</td>\n",
       "      <td>111107.38</td>\n",
       "    </tr>\n",
       "    <tr>\n",
       "      <th>32</th>\n",
       "      <td>2021-08-17</td>\n",
       "      <td>16</td>\n",
       "      <td>3685.00</td>\n",
       "    </tr>\n",
       "    <tr>\n",
       "      <th>43</th>\n",
       "      <td>2018-10-29</td>\n",
       "      <td>1</td>\n",
       "      <td>974208.55</td>\n",
       "    </tr>\n",
       "    <tr>\n",
       "      <th>45</th>\n",
       "      <td>2018-10-31</td>\n",
       "      <td>1</td>\n",
       "      <td>33421781.03</td>\n",
       "    </tr>\n",
       "    <tr>\n",
       "      <th>...</th>\n",
       "      <td>...</td>\n",
       "      <td>...</td>\n",
       "      <td>...</td>\n",
       "    </tr>\n",
       "    <tr>\n",
       "      <th>9788</th>\n",
       "      <td>2019-08-23</td>\n",
       "      <td>3</td>\n",
       "      <td>2695566.64</td>\n",
       "    </tr>\n",
       "    <tr>\n",
       "      <th>9795</th>\n",
       "      <td>2019-08-23</td>\n",
       "      <td>13</td>\n",
       "      <td>3000.00</td>\n",
       "    </tr>\n",
       "    <tr>\n",
       "      <th>9796</th>\n",
       "      <td>2019-08-28</td>\n",
       "      <td>14</td>\n",
       "      <td>1602.00</td>\n",
       "    </tr>\n",
       "    <tr>\n",
       "      <th>9798</th>\n",
       "      <td>2019-08-23</td>\n",
       "      <td>36</td>\n",
       "      <td>1015.00</td>\n",
       "    </tr>\n",
       "    <tr>\n",
       "      <th>9800</th>\n",
       "      <td>2019-08-28</td>\n",
       "      <td>8</td>\n",
       "      <td>43763.91</td>\n",
       "    </tr>\n",
       "  </tbody>\n",
       "</table>\n",
       "<p>2392 rows × 3 columns</p>\n",
       "</div>"
      ],
      "text/plain": [
       "           DATE  Mapped_GCK    Sales_EUR\n",
       "26   2018-10-24           1   1702929.21\n",
       "31   2021-08-20          16    111107.38\n",
       "32   2021-08-17          16      3685.00\n",
       "43   2018-10-29           1    974208.55\n",
       "45   2018-10-31           1  33421781.03\n",
       "...         ...         ...          ...\n",
       "9788 2019-08-23           3   2695566.64\n",
       "9795 2019-08-23          13      3000.00\n",
       "9796 2019-08-28          14      1602.00\n",
       "9798 2019-08-23          36      1015.00\n",
       "9800 2019-08-28           8     43763.91\n",
       "\n",
       "[2392 rows x 3 columns]"
      ]
     },
     "execution_count": 478,
     "metadata": {},
     "output_type": "execute_result"
    }
   ],
   "source": [
    "positive_sales = df_sales[df_sales['Sales_EUR'] > 0]\n",
    "positive_sales"
   ]
  },
  {
   "cell_type": "code",
   "execution_count": 479,
   "metadata": {},
   "outputs": [
    {
     "name": "stderr",
     "output_type": "stream",
     "text": [
      "C:\\Users\\marga\\AppData\\Local\\Temp\\ipykernel_31388\\2664286345.py:1: SettingWithCopyWarning:\n",
      "\n",
      "\n",
      "A value is trying to be set on a copy of a slice from a DataFrame.\n",
      "Try using .loc[row_indexer,col_indexer] = value instead\n",
      "\n",
      "See the caveats in the documentation: https://pandas.pydata.org/pandas-docs/stable/user_guide/indexing.html#returning-a-view-versus-a-copy\n",
      "\n"
     ]
    },
    {
     "data": {
      "application/vnd.plotly.v1+json": {
       "config": {
        "plotlyServerURL": "https://plot.ly"
       },
       "data": [
        {
         "hovertemplate": "Year-Month=%{x}<br>Total Positive Sales (EUR)=%{y}<extra></extra>",
         "legendgroup": "",
         "line": {
          "color": "#636efa",
          "dash": "solid"
         },
         "marker": {
          "symbol": "circle"
         },
         "mode": "lines",
         "name": "",
         "orientation": "v",
         "showlegend": false,
         "type": "scatter",
         "x": [
          "2018-10",
          "2018-11",
          "2018-12",
          "2019-01",
          "2019-02",
          "2019-03",
          "2019-04",
          "2019-05",
          "2019-06",
          "2019-07",
          "2019-08",
          "2019-09",
          "2019-10",
          "2019-11",
          "2019-12",
          "2020-01",
          "2020-02",
          "2020-03",
          "2020-04",
          "2020-05",
          "2020-06",
          "2020-07",
          "2020-08",
          "2020-09",
          "2020-10",
          "2020-11",
          "2020-12",
          "2021-01",
          "2021-02",
          "2021-03",
          "2021-04",
          "2021-05",
          "2021-06",
          "2021-07",
          "2021-08",
          "2021-09",
          "2021-10",
          "2021-11",
          "2021-12",
          "2022-01",
          "2022-02",
          "2022-03",
          "2022-04"
         ],
         "xaxis": "x",
         "y": [
          49471370.83,
          30770904.55,
          61581594.42,
          51510913.75,
          54417000.75,
          61978807.29,
          60866949.22,
          65664848,
          66404505.580000006,
          65069880.82,
          61836862.06,
          79403679.06,
          63924045.19,
          62249510.89,
          66217293.440000005,
          55599564.18,
          59050691.14,
          65805919.559999995,
          60575795.64,
          55013121.129999995,
          64498342.86,
          57881224.910000004,
          64173923.309999995,
          75588672.12,
          58159471.34,
          66121610.22,
          56851276.01,
          33060585.620000005,
          72792046.36,
          63105170.58,
          66209959.779999994,
          61462465.69,
          65113761.35,
          63742759.8,
          73348997.89,
          75944508.46,
          71569870.81,
          66946423.35,
          61517591.78,
          62680650.96,
          63013414.629999995,
          74679028.6,
          65577399.17
         ],
         "yaxis": "y"
        }
       ],
       "layout": {
        "legend": {
         "tracegroupgap": 0
        },
        "template": {
         "data": {
          "bar": [
           {
            "error_x": {
             "color": "#2a3f5f"
            },
            "error_y": {
             "color": "#2a3f5f"
            },
            "marker": {
             "line": {
              "color": "#E5ECF6",
              "width": 0.5
             },
             "pattern": {
              "fillmode": "overlay",
              "size": 10,
              "solidity": 0.2
             }
            },
            "type": "bar"
           }
          ],
          "barpolar": [
           {
            "marker": {
             "line": {
              "color": "#E5ECF6",
              "width": 0.5
             },
             "pattern": {
              "fillmode": "overlay",
              "size": 10,
              "solidity": 0.2
             }
            },
            "type": "barpolar"
           }
          ],
          "carpet": [
           {
            "aaxis": {
             "endlinecolor": "#2a3f5f",
             "gridcolor": "white",
             "linecolor": "white",
             "minorgridcolor": "white",
             "startlinecolor": "#2a3f5f"
            },
            "baxis": {
             "endlinecolor": "#2a3f5f",
             "gridcolor": "white",
             "linecolor": "white",
             "minorgridcolor": "white",
             "startlinecolor": "#2a3f5f"
            },
            "type": "carpet"
           }
          ],
          "choropleth": [
           {
            "colorbar": {
             "outlinewidth": 0,
             "ticks": ""
            },
            "type": "choropleth"
           }
          ],
          "contour": [
           {
            "colorbar": {
             "outlinewidth": 0,
             "ticks": ""
            },
            "colorscale": [
             [
              0,
              "#0d0887"
             ],
             [
              0.1111111111111111,
              "#46039f"
             ],
             [
              0.2222222222222222,
              "#7201a8"
             ],
             [
              0.3333333333333333,
              "#9c179e"
             ],
             [
              0.4444444444444444,
              "#bd3786"
             ],
             [
              0.5555555555555556,
              "#d8576b"
             ],
             [
              0.6666666666666666,
              "#ed7953"
             ],
             [
              0.7777777777777778,
              "#fb9f3a"
             ],
             [
              0.8888888888888888,
              "#fdca26"
             ],
             [
              1,
              "#f0f921"
             ]
            ],
            "type": "contour"
           }
          ],
          "contourcarpet": [
           {
            "colorbar": {
             "outlinewidth": 0,
             "ticks": ""
            },
            "type": "contourcarpet"
           }
          ],
          "heatmap": [
           {
            "colorbar": {
             "outlinewidth": 0,
             "ticks": ""
            },
            "colorscale": [
             [
              0,
              "#0d0887"
             ],
             [
              0.1111111111111111,
              "#46039f"
             ],
             [
              0.2222222222222222,
              "#7201a8"
             ],
             [
              0.3333333333333333,
              "#9c179e"
             ],
             [
              0.4444444444444444,
              "#bd3786"
             ],
             [
              0.5555555555555556,
              "#d8576b"
             ],
             [
              0.6666666666666666,
              "#ed7953"
             ],
             [
              0.7777777777777778,
              "#fb9f3a"
             ],
             [
              0.8888888888888888,
              "#fdca26"
             ],
             [
              1,
              "#f0f921"
             ]
            ],
            "type": "heatmap"
           }
          ],
          "heatmapgl": [
           {
            "colorbar": {
             "outlinewidth": 0,
             "ticks": ""
            },
            "colorscale": [
             [
              0,
              "#0d0887"
             ],
             [
              0.1111111111111111,
              "#46039f"
             ],
             [
              0.2222222222222222,
              "#7201a8"
             ],
             [
              0.3333333333333333,
              "#9c179e"
             ],
             [
              0.4444444444444444,
              "#bd3786"
             ],
             [
              0.5555555555555556,
              "#d8576b"
             ],
             [
              0.6666666666666666,
              "#ed7953"
             ],
             [
              0.7777777777777778,
              "#fb9f3a"
             ],
             [
              0.8888888888888888,
              "#fdca26"
             ],
             [
              1,
              "#f0f921"
             ]
            ],
            "type": "heatmapgl"
           }
          ],
          "histogram": [
           {
            "marker": {
             "pattern": {
              "fillmode": "overlay",
              "size": 10,
              "solidity": 0.2
             }
            },
            "type": "histogram"
           }
          ],
          "histogram2d": [
           {
            "colorbar": {
             "outlinewidth": 0,
             "ticks": ""
            },
            "colorscale": [
             [
              0,
              "#0d0887"
             ],
             [
              0.1111111111111111,
              "#46039f"
             ],
             [
              0.2222222222222222,
              "#7201a8"
             ],
             [
              0.3333333333333333,
              "#9c179e"
             ],
             [
              0.4444444444444444,
              "#bd3786"
             ],
             [
              0.5555555555555556,
              "#d8576b"
             ],
             [
              0.6666666666666666,
              "#ed7953"
             ],
             [
              0.7777777777777778,
              "#fb9f3a"
             ],
             [
              0.8888888888888888,
              "#fdca26"
             ],
             [
              1,
              "#f0f921"
             ]
            ],
            "type": "histogram2d"
           }
          ],
          "histogram2dcontour": [
           {
            "colorbar": {
             "outlinewidth": 0,
             "ticks": ""
            },
            "colorscale": [
             [
              0,
              "#0d0887"
             ],
             [
              0.1111111111111111,
              "#46039f"
             ],
             [
              0.2222222222222222,
              "#7201a8"
             ],
             [
              0.3333333333333333,
              "#9c179e"
             ],
             [
              0.4444444444444444,
              "#bd3786"
             ],
             [
              0.5555555555555556,
              "#d8576b"
             ],
             [
              0.6666666666666666,
              "#ed7953"
             ],
             [
              0.7777777777777778,
              "#fb9f3a"
             ],
             [
              0.8888888888888888,
              "#fdca26"
             ],
             [
              1,
              "#f0f921"
             ]
            ],
            "type": "histogram2dcontour"
           }
          ],
          "mesh3d": [
           {
            "colorbar": {
             "outlinewidth": 0,
             "ticks": ""
            },
            "type": "mesh3d"
           }
          ],
          "parcoords": [
           {
            "line": {
             "colorbar": {
              "outlinewidth": 0,
              "ticks": ""
             }
            },
            "type": "parcoords"
           }
          ],
          "pie": [
           {
            "automargin": true,
            "type": "pie"
           }
          ],
          "scatter": [
           {
            "fillpattern": {
             "fillmode": "overlay",
             "size": 10,
             "solidity": 0.2
            },
            "type": "scatter"
           }
          ],
          "scatter3d": [
           {
            "line": {
             "colorbar": {
              "outlinewidth": 0,
              "ticks": ""
             }
            },
            "marker": {
             "colorbar": {
              "outlinewidth": 0,
              "ticks": ""
             }
            },
            "type": "scatter3d"
           }
          ],
          "scattercarpet": [
           {
            "marker": {
             "colorbar": {
              "outlinewidth": 0,
              "ticks": ""
             }
            },
            "type": "scattercarpet"
           }
          ],
          "scattergeo": [
           {
            "marker": {
             "colorbar": {
              "outlinewidth": 0,
              "ticks": ""
             }
            },
            "type": "scattergeo"
           }
          ],
          "scattergl": [
           {
            "marker": {
             "colorbar": {
              "outlinewidth": 0,
              "ticks": ""
             }
            },
            "type": "scattergl"
           }
          ],
          "scattermapbox": [
           {
            "marker": {
             "colorbar": {
              "outlinewidth": 0,
              "ticks": ""
             }
            },
            "type": "scattermapbox"
           }
          ],
          "scatterpolar": [
           {
            "marker": {
             "colorbar": {
              "outlinewidth": 0,
              "ticks": ""
             }
            },
            "type": "scatterpolar"
           }
          ],
          "scatterpolargl": [
           {
            "marker": {
             "colorbar": {
              "outlinewidth": 0,
              "ticks": ""
             }
            },
            "type": "scatterpolargl"
           }
          ],
          "scatterternary": [
           {
            "marker": {
             "colorbar": {
              "outlinewidth": 0,
              "ticks": ""
             }
            },
            "type": "scatterternary"
           }
          ],
          "surface": [
           {
            "colorbar": {
             "outlinewidth": 0,
             "ticks": ""
            },
            "colorscale": [
             [
              0,
              "#0d0887"
             ],
             [
              0.1111111111111111,
              "#46039f"
             ],
             [
              0.2222222222222222,
              "#7201a8"
             ],
             [
              0.3333333333333333,
              "#9c179e"
             ],
             [
              0.4444444444444444,
              "#bd3786"
             ],
             [
              0.5555555555555556,
              "#d8576b"
             ],
             [
              0.6666666666666666,
              "#ed7953"
             ],
             [
              0.7777777777777778,
              "#fb9f3a"
             ],
             [
              0.8888888888888888,
              "#fdca26"
             ],
             [
              1,
              "#f0f921"
             ]
            ],
            "type": "surface"
           }
          ],
          "table": [
           {
            "cells": {
             "fill": {
              "color": "#EBF0F8"
             },
             "line": {
              "color": "white"
             }
            },
            "header": {
             "fill": {
              "color": "#C8D4E3"
             },
             "line": {
              "color": "white"
             }
            },
            "type": "table"
           }
          ]
         },
         "layout": {
          "annotationdefaults": {
           "arrowcolor": "#2a3f5f",
           "arrowhead": 0,
           "arrowwidth": 1
          },
          "autotypenumbers": "strict",
          "coloraxis": {
           "colorbar": {
            "outlinewidth": 0,
            "ticks": ""
           }
          },
          "colorscale": {
           "diverging": [
            [
             0,
             "#8e0152"
            ],
            [
             0.1,
             "#c51b7d"
            ],
            [
             0.2,
             "#de77ae"
            ],
            [
             0.3,
             "#f1b6da"
            ],
            [
             0.4,
             "#fde0ef"
            ],
            [
             0.5,
             "#f7f7f7"
            ],
            [
             0.6,
             "#e6f5d0"
            ],
            [
             0.7,
             "#b8e186"
            ],
            [
             0.8,
             "#7fbc41"
            ],
            [
             0.9,
             "#4d9221"
            ],
            [
             1,
             "#276419"
            ]
           ],
           "sequential": [
            [
             0,
             "#0d0887"
            ],
            [
             0.1111111111111111,
             "#46039f"
            ],
            [
             0.2222222222222222,
             "#7201a8"
            ],
            [
             0.3333333333333333,
             "#9c179e"
            ],
            [
             0.4444444444444444,
             "#bd3786"
            ],
            [
             0.5555555555555556,
             "#d8576b"
            ],
            [
             0.6666666666666666,
             "#ed7953"
            ],
            [
             0.7777777777777778,
             "#fb9f3a"
            ],
            [
             0.8888888888888888,
             "#fdca26"
            ],
            [
             1,
             "#f0f921"
            ]
           ],
           "sequentialminus": [
            [
             0,
             "#0d0887"
            ],
            [
             0.1111111111111111,
             "#46039f"
            ],
            [
             0.2222222222222222,
             "#7201a8"
            ],
            [
             0.3333333333333333,
             "#9c179e"
            ],
            [
             0.4444444444444444,
             "#bd3786"
            ],
            [
             0.5555555555555556,
             "#d8576b"
            ],
            [
             0.6666666666666666,
             "#ed7953"
            ],
            [
             0.7777777777777778,
             "#fb9f3a"
            ],
            [
             0.8888888888888888,
             "#fdca26"
            ],
            [
             1,
             "#f0f921"
            ]
           ]
          },
          "colorway": [
           "#636efa",
           "#EF553B",
           "#00cc96",
           "#ab63fa",
           "#FFA15A",
           "#19d3f3",
           "#FF6692",
           "#B6E880",
           "#FF97FF",
           "#FECB52"
          ],
          "font": {
           "color": "#2a3f5f"
          },
          "geo": {
           "bgcolor": "white",
           "lakecolor": "white",
           "landcolor": "#E5ECF6",
           "showlakes": true,
           "showland": true,
           "subunitcolor": "white"
          },
          "hoverlabel": {
           "align": "left"
          },
          "hovermode": "closest",
          "mapbox": {
           "style": "light"
          },
          "paper_bgcolor": "white",
          "plot_bgcolor": "#E5ECF6",
          "polar": {
           "angularaxis": {
            "gridcolor": "white",
            "linecolor": "white",
            "ticks": ""
           },
           "bgcolor": "#E5ECF6",
           "radialaxis": {
            "gridcolor": "white",
            "linecolor": "white",
            "ticks": ""
           }
          },
          "scene": {
           "xaxis": {
            "backgroundcolor": "#E5ECF6",
            "gridcolor": "white",
            "gridwidth": 2,
            "linecolor": "white",
            "showbackground": true,
            "ticks": "",
            "zerolinecolor": "white"
           },
           "yaxis": {
            "backgroundcolor": "#E5ECF6",
            "gridcolor": "white",
            "gridwidth": 2,
            "linecolor": "white",
            "showbackground": true,
            "ticks": "",
            "zerolinecolor": "white"
           },
           "zaxis": {
            "backgroundcolor": "#E5ECF6",
            "gridcolor": "white",
            "gridwidth": 2,
            "linecolor": "white",
            "showbackground": true,
            "ticks": "",
            "zerolinecolor": "white"
           }
          },
          "shapedefaults": {
           "line": {
            "color": "#2a3f5f"
           }
          },
          "ternary": {
           "aaxis": {
            "gridcolor": "white",
            "linecolor": "white",
            "ticks": ""
           },
           "baxis": {
            "gridcolor": "white",
            "linecolor": "white",
            "ticks": ""
           },
           "bgcolor": "#E5ECF6",
           "caxis": {
            "gridcolor": "white",
            "linecolor": "white",
            "ticks": ""
           }
          },
          "title": {
           "x": 0.05
          },
          "xaxis": {
           "automargin": true,
           "gridcolor": "white",
           "linecolor": "white",
           "ticks": "",
           "title": {
            "standoff": 15
           },
           "zerolinecolor": "white",
           "zerolinewidth": 2
          },
          "yaxis": {
           "automargin": true,
           "gridcolor": "white",
           "linecolor": "white",
           "ticks": "",
           "title": {
            "standoff": 15
           },
           "zerolinecolor": "white",
           "zerolinewidth": 2
          }
         }
        },
        "title": {
         "text": "Positive Sales by Month"
        },
        "xaxis": {
         "anchor": "y",
         "domain": [
          0,
          1
         ],
         "title": {
          "text": "Year-Month"
         }
        },
        "yaxis": {
         "anchor": "x",
         "domain": [
          0,
          1
         ],
         "title": {
          "text": "Total Positive Sales (EUR)"
         }
        }
       }
      }
     },
     "metadata": {},
     "output_type": "display_data"
    }
   ],
   "source": [
    "positive_sales['Year_Month'] = positive_sales['DATE'].dt.to_period('M')\n",
    "grouped_positive_sales_month = positive_sales.groupby('Year_Month')['Sales_EUR'].sum().reset_index()\n",
    "\n",
    "grouped_positive_sales_month['Year_Month'] = grouped_positive_sales_month['Year_Month'].astype(str)\n",
    "\n",
    "plot_sales(grouped_positive_sales_month, 'Year_Month', 'Sales_EUR', 'Positive Sales by Month', 'Year-Month', 'Total Positive Sales (EUR)')"
   ]
  },
  {
   "cell_type": "markdown",
   "metadata": {},
   "source": [
    "**Nevative vs Positive Sales Values**\n",
    "\n",
    "- (*Outlier*) **November 2018** was a month of few activity, with the lowest overall positive sales and negative sales close to non\n",
    "\n",
    "- **September 2019** is a peak in positive sales, that is followed by a peak in negative sales (oct 2019)\n",
    "\n",
    "- **January 2020** is not only the month with highest negative values, but it is also a month categorized by the bellow average positive sales, which is likely evidence of a outside event's affect in the sales behavior\n",
    "\n",
    "- (*Outlier*) **January 2021** is a month marked by a abrupt change in sales behavior, it is also a month of few activity, with one of the lowest sales value, by far\n",
    "\n",
    "- **September 2021** is a month that peaks in both negative and positive sales values, meaning that the negative values are likely a result from the "
   ]
  },
  {
   "cell_type": "code",
   "execution_count": 480,
   "metadata": {},
   "outputs": [
    {
     "name": "stderr",
     "output_type": "stream",
     "text": [
      "C:\\Users\\marga\\AppData\\Local\\Temp\\ipykernel_31388\\3740950382.py:1: SettingWithCopyWarning:\n",
      "\n",
      "\n",
      "A value is trying to be set on a copy of a slice from a DataFrame.\n",
      "Try using .loc[row_indexer,col_indexer] = value instead\n",
      "\n",
      "See the caveats in the documentation: https://pandas.pydata.org/pandas-docs/stable/user_guide/indexing.html#returning-a-view-versus-a-copy\n",
      "\n"
     ]
    },
    {
     "data": {
      "application/vnd.plotly.v1+json": {
       "config": {
        "plotlyServerURL": "https://plot.ly"
       },
       "data": [
        {
         "hovertemplate": "Day=%{x}<br>Total Positive Sales (EUR)=%{y}<extra></extra>",
         "legendgroup": "",
         "line": {
          "color": "#636efa",
          "dash": "solid"
         },
         "marker": {
          "symbol": "circle"
         },
         "mode": "lines",
         "name": "",
         "orientation": "v",
         "showlegend": false,
         "type": "scatter",
         "x": [
          "1",
          "2",
          "3",
          "4",
          "5",
          "6",
          "7",
          "8",
          "9",
          "10",
          "11",
          "12",
          "13",
          "14",
          "15",
          "16",
          "17",
          "18",
          "19",
          "20",
          "21",
          "22",
          "23",
          "24",
          "25",
          "26",
          "27",
          "28",
          "29",
          "30",
          "31"
         ],
         "xaxis": "x",
         "y": [
          914665333.58,
          258330321.98,
          134510378.54,
          54225617.29,
          678294.96,
          497465.63,
          276043,
          13575508.149999999,
          15875220.600000001,
          21428004.75,
          33067381.43,
          35668428.46,
          62423298.27,
          33320799.63,
          24848567.32,
          24202489.84,
          33978962.31,
          61530842.34,
          31547476.46,
          29446941.26,
          33630310.04,
          38149072.730000004,
          121799168.77,
          84351736.18,
          7151498.720000001,
          91779790.01,
          95093573.91,
          135102221.96,
          112857153.14,
          79467761.94,
          97972749.9
         ],
         "yaxis": "y"
        }
       ],
       "layout": {
        "legend": {
         "tracegroupgap": 0
        },
        "template": {
         "data": {
          "bar": [
           {
            "error_x": {
             "color": "#2a3f5f"
            },
            "error_y": {
             "color": "#2a3f5f"
            },
            "marker": {
             "line": {
              "color": "#E5ECF6",
              "width": 0.5
             },
             "pattern": {
              "fillmode": "overlay",
              "size": 10,
              "solidity": 0.2
             }
            },
            "type": "bar"
           }
          ],
          "barpolar": [
           {
            "marker": {
             "line": {
              "color": "#E5ECF6",
              "width": 0.5
             },
             "pattern": {
              "fillmode": "overlay",
              "size": 10,
              "solidity": 0.2
             }
            },
            "type": "barpolar"
           }
          ],
          "carpet": [
           {
            "aaxis": {
             "endlinecolor": "#2a3f5f",
             "gridcolor": "white",
             "linecolor": "white",
             "minorgridcolor": "white",
             "startlinecolor": "#2a3f5f"
            },
            "baxis": {
             "endlinecolor": "#2a3f5f",
             "gridcolor": "white",
             "linecolor": "white",
             "minorgridcolor": "white",
             "startlinecolor": "#2a3f5f"
            },
            "type": "carpet"
           }
          ],
          "choropleth": [
           {
            "colorbar": {
             "outlinewidth": 0,
             "ticks": ""
            },
            "type": "choropleth"
           }
          ],
          "contour": [
           {
            "colorbar": {
             "outlinewidth": 0,
             "ticks": ""
            },
            "colorscale": [
             [
              0,
              "#0d0887"
             ],
             [
              0.1111111111111111,
              "#46039f"
             ],
             [
              0.2222222222222222,
              "#7201a8"
             ],
             [
              0.3333333333333333,
              "#9c179e"
             ],
             [
              0.4444444444444444,
              "#bd3786"
             ],
             [
              0.5555555555555556,
              "#d8576b"
             ],
             [
              0.6666666666666666,
              "#ed7953"
             ],
             [
              0.7777777777777778,
              "#fb9f3a"
             ],
             [
              0.8888888888888888,
              "#fdca26"
             ],
             [
              1,
              "#f0f921"
             ]
            ],
            "type": "contour"
           }
          ],
          "contourcarpet": [
           {
            "colorbar": {
             "outlinewidth": 0,
             "ticks": ""
            },
            "type": "contourcarpet"
           }
          ],
          "heatmap": [
           {
            "colorbar": {
             "outlinewidth": 0,
             "ticks": ""
            },
            "colorscale": [
             [
              0,
              "#0d0887"
             ],
             [
              0.1111111111111111,
              "#46039f"
             ],
             [
              0.2222222222222222,
              "#7201a8"
             ],
             [
              0.3333333333333333,
              "#9c179e"
             ],
             [
              0.4444444444444444,
              "#bd3786"
             ],
             [
              0.5555555555555556,
              "#d8576b"
             ],
             [
              0.6666666666666666,
              "#ed7953"
             ],
             [
              0.7777777777777778,
              "#fb9f3a"
             ],
             [
              0.8888888888888888,
              "#fdca26"
             ],
             [
              1,
              "#f0f921"
             ]
            ],
            "type": "heatmap"
           }
          ],
          "heatmapgl": [
           {
            "colorbar": {
             "outlinewidth": 0,
             "ticks": ""
            },
            "colorscale": [
             [
              0,
              "#0d0887"
             ],
             [
              0.1111111111111111,
              "#46039f"
             ],
             [
              0.2222222222222222,
              "#7201a8"
             ],
             [
              0.3333333333333333,
              "#9c179e"
             ],
             [
              0.4444444444444444,
              "#bd3786"
             ],
             [
              0.5555555555555556,
              "#d8576b"
             ],
             [
              0.6666666666666666,
              "#ed7953"
             ],
             [
              0.7777777777777778,
              "#fb9f3a"
             ],
             [
              0.8888888888888888,
              "#fdca26"
             ],
             [
              1,
              "#f0f921"
             ]
            ],
            "type": "heatmapgl"
           }
          ],
          "histogram": [
           {
            "marker": {
             "pattern": {
              "fillmode": "overlay",
              "size": 10,
              "solidity": 0.2
             }
            },
            "type": "histogram"
           }
          ],
          "histogram2d": [
           {
            "colorbar": {
             "outlinewidth": 0,
             "ticks": ""
            },
            "colorscale": [
             [
              0,
              "#0d0887"
             ],
             [
              0.1111111111111111,
              "#46039f"
             ],
             [
              0.2222222222222222,
              "#7201a8"
             ],
             [
              0.3333333333333333,
              "#9c179e"
             ],
             [
              0.4444444444444444,
              "#bd3786"
             ],
             [
              0.5555555555555556,
              "#d8576b"
             ],
             [
              0.6666666666666666,
              "#ed7953"
             ],
             [
              0.7777777777777778,
              "#fb9f3a"
             ],
             [
              0.8888888888888888,
              "#fdca26"
             ],
             [
              1,
              "#f0f921"
             ]
            ],
            "type": "histogram2d"
           }
          ],
          "histogram2dcontour": [
           {
            "colorbar": {
             "outlinewidth": 0,
             "ticks": ""
            },
            "colorscale": [
             [
              0,
              "#0d0887"
             ],
             [
              0.1111111111111111,
              "#46039f"
             ],
             [
              0.2222222222222222,
              "#7201a8"
             ],
             [
              0.3333333333333333,
              "#9c179e"
             ],
             [
              0.4444444444444444,
              "#bd3786"
             ],
             [
              0.5555555555555556,
              "#d8576b"
             ],
             [
              0.6666666666666666,
              "#ed7953"
             ],
             [
              0.7777777777777778,
              "#fb9f3a"
             ],
             [
              0.8888888888888888,
              "#fdca26"
             ],
             [
              1,
              "#f0f921"
             ]
            ],
            "type": "histogram2dcontour"
           }
          ],
          "mesh3d": [
           {
            "colorbar": {
             "outlinewidth": 0,
             "ticks": ""
            },
            "type": "mesh3d"
           }
          ],
          "parcoords": [
           {
            "line": {
             "colorbar": {
              "outlinewidth": 0,
              "ticks": ""
             }
            },
            "type": "parcoords"
           }
          ],
          "pie": [
           {
            "automargin": true,
            "type": "pie"
           }
          ],
          "scatter": [
           {
            "fillpattern": {
             "fillmode": "overlay",
             "size": 10,
             "solidity": 0.2
            },
            "type": "scatter"
           }
          ],
          "scatter3d": [
           {
            "line": {
             "colorbar": {
              "outlinewidth": 0,
              "ticks": ""
             }
            },
            "marker": {
             "colorbar": {
              "outlinewidth": 0,
              "ticks": ""
             }
            },
            "type": "scatter3d"
           }
          ],
          "scattercarpet": [
           {
            "marker": {
             "colorbar": {
              "outlinewidth": 0,
              "ticks": ""
             }
            },
            "type": "scattercarpet"
           }
          ],
          "scattergeo": [
           {
            "marker": {
             "colorbar": {
              "outlinewidth": 0,
              "ticks": ""
             }
            },
            "type": "scattergeo"
           }
          ],
          "scattergl": [
           {
            "marker": {
             "colorbar": {
              "outlinewidth": 0,
              "ticks": ""
             }
            },
            "type": "scattergl"
           }
          ],
          "scattermapbox": [
           {
            "marker": {
             "colorbar": {
              "outlinewidth": 0,
              "ticks": ""
             }
            },
            "type": "scattermapbox"
           }
          ],
          "scatterpolar": [
           {
            "marker": {
             "colorbar": {
              "outlinewidth": 0,
              "ticks": ""
             }
            },
            "type": "scatterpolar"
           }
          ],
          "scatterpolargl": [
           {
            "marker": {
             "colorbar": {
              "outlinewidth": 0,
              "ticks": ""
             }
            },
            "type": "scatterpolargl"
           }
          ],
          "scatterternary": [
           {
            "marker": {
             "colorbar": {
              "outlinewidth": 0,
              "ticks": ""
             }
            },
            "type": "scatterternary"
           }
          ],
          "surface": [
           {
            "colorbar": {
             "outlinewidth": 0,
             "ticks": ""
            },
            "colorscale": [
             [
              0,
              "#0d0887"
             ],
             [
              0.1111111111111111,
              "#46039f"
             ],
             [
              0.2222222222222222,
              "#7201a8"
             ],
             [
              0.3333333333333333,
              "#9c179e"
             ],
             [
              0.4444444444444444,
              "#bd3786"
             ],
             [
              0.5555555555555556,
              "#d8576b"
             ],
             [
              0.6666666666666666,
              "#ed7953"
             ],
             [
              0.7777777777777778,
              "#fb9f3a"
             ],
             [
              0.8888888888888888,
              "#fdca26"
             ],
             [
              1,
              "#f0f921"
             ]
            ],
            "type": "surface"
           }
          ],
          "table": [
           {
            "cells": {
             "fill": {
              "color": "#EBF0F8"
             },
             "line": {
              "color": "white"
             }
            },
            "header": {
             "fill": {
              "color": "#C8D4E3"
             },
             "line": {
              "color": "white"
             }
            },
            "type": "table"
           }
          ]
         },
         "layout": {
          "annotationdefaults": {
           "arrowcolor": "#2a3f5f",
           "arrowhead": 0,
           "arrowwidth": 1
          },
          "autotypenumbers": "strict",
          "coloraxis": {
           "colorbar": {
            "outlinewidth": 0,
            "ticks": ""
           }
          },
          "colorscale": {
           "diverging": [
            [
             0,
             "#8e0152"
            ],
            [
             0.1,
             "#c51b7d"
            ],
            [
             0.2,
             "#de77ae"
            ],
            [
             0.3,
             "#f1b6da"
            ],
            [
             0.4,
             "#fde0ef"
            ],
            [
             0.5,
             "#f7f7f7"
            ],
            [
             0.6,
             "#e6f5d0"
            ],
            [
             0.7,
             "#b8e186"
            ],
            [
             0.8,
             "#7fbc41"
            ],
            [
             0.9,
             "#4d9221"
            ],
            [
             1,
             "#276419"
            ]
           ],
           "sequential": [
            [
             0,
             "#0d0887"
            ],
            [
             0.1111111111111111,
             "#46039f"
            ],
            [
             0.2222222222222222,
             "#7201a8"
            ],
            [
             0.3333333333333333,
             "#9c179e"
            ],
            [
             0.4444444444444444,
             "#bd3786"
            ],
            [
             0.5555555555555556,
             "#d8576b"
            ],
            [
             0.6666666666666666,
             "#ed7953"
            ],
            [
             0.7777777777777778,
             "#fb9f3a"
            ],
            [
             0.8888888888888888,
             "#fdca26"
            ],
            [
             1,
             "#f0f921"
            ]
           ],
           "sequentialminus": [
            [
             0,
             "#0d0887"
            ],
            [
             0.1111111111111111,
             "#46039f"
            ],
            [
             0.2222222222222222,
             "#7201a8"
            ],
            [
             0.3333333333333333,
             "#9c179e"
            ],
            [
             0.4444444444444444,
             "#bd3786"
            ],
            [
             0.5555555555555556,
             "#d8576b"
            ],
            [
             0.6666666666666666,
             "#ed7953"
            ],
            [
             0.7777777777777778,
             "#fb9f3a"
            ],
            [
             0.8888888888888888,
             "#fdca26"
            ],
            [
             1,
             "#f0f921"
            ]
           ]
          },
          "colorway": [
           "#636efa",
           "#EF553B",
           "#00cc96",
           "#ab63fa",
           "#FFA15A",
           "#19d3f3",
           "#FF6692",
           "#B6E880",
           "#FF97FF",
           "#FECB52"
          ],
          "font": {
           "color": "#2a3f5f"
          },
          "geo": {
           "bgcolor": "white",
           "lakecolor": "white",
           "landcolor": "#E5ECF6",
           "showlakes": true,
           "showland": true,
           "subunitcolor": "white"
          },
          "hoverlabel": {
           "align": "left"
          },
          "hovermode": "closest",
          "mapbox": {
           "style": "light"
          },
          "paper_bgcolor": "white",
          "plot_bgcolor": "#E5ECF6",
          "polar": {
           "angularaxis": {
            "gridcolor": "white",
            "linecolor": "white",
            "ticks": ""
           },
           "bgcolor": "#E5ECF6",
           "radialaxis": {
            "gridcolor": "white",
            "linecolor": "white",
            "ticks": ""
           }
          },
          "scene": {
           "xaxis": {
            "backgroundcolor": "#E5ECF6",
            "gridcolor": "white",
            "gridwidth": 2,
            "linecolor": "white",
            "showbackground": true,
            "ticks": "",
            "zerolinecolor": "white"
           },
           "yaxis": {
            "backgroundcolor": "#E5ECF6",
            "gridcolor": "white",
            "gridwidth": 2,
            "linecolor": "white",
            "showbackground": true,
            "ticks": "",
            "zerolinecolor": "white"
           },
           "zaxis": {
            "backgroundcolor": "#E5ECF6",
            "gridcolor": "white",
            "gridwidth": 2,
            "linecolor": "white",
            "showbackground": true,
            "ticks": "",
            "zerolinecolor": "white"
           }
          },
          "shapedefaults": {
           "line": {
            "color": "#2a3f5f"
           }
          },
          "ternary": {
           "aaxis": {
            "gridcolor": "white",
            "linecolor": "white",
            "ticks": ""
           },
           "baxis": {
            "gridcolor": "white",
            "linecolor": "white",
            "ticks": ""
           },
           "bgcolor": "#E5ECF6",
           "caxis": {
            "gridcolor": "white",
            "linecolor": "white",
            "ticks": ""
           }
          },
          "title": {
           "x": 0.05
          },
          "xaxis": {
           "automargin": true,
           "gridcolor": "white",
           "linecolor": "white",
           "ticks": "",
           "title": {
            "standoff": 15
           },
           "zerolinecolor": "white",
           "zerolinewidth": 2
          },
          "yaxis": {
           "automargin": true,
           "gridcolor": "white",
           "linecolor": "white",
           "ticks": "",
           "title": {
            "standoff": 15
           },
           "zerolinecolor": "white",
           "zerolinewidth": 2
          }
         }
        },
        "title": {
         "text": "Positive Sales by Day"
        },
        "xaxis": {
         "anchor": "y",
         "domain": [
          0,
          1
         ],
         "title": {
          "text": "Day"
         }
        },
        "yaxis": {
         "anchor": "x",
         "domain": [
          0,
          1
         ],
         "title": {
          "text": "Total Positive Sales (EUR)"
         }
        }
       }
      }
     },
     "metadata": {},
     "output_type": "display_data"
    }
   ],
   "source": [
    "positive_sales['Day'] = positive_sales['DATE'].dt.day\n",
    "grouped_positive_sales_day = positive_sales.groupby('Day')['Sales_EUR'].sum().reset_index()\n",
    "\n",
    "grouped_positive_sales_day['Day'] = grouped_positive_sales_day['Day'].astype(str)\n",
    "\n",
    "plot_sales(grouped_positive_sales_day, 'Day', 'Sales_EUR', 'Positive Sales by Day', 'Day', 'Total Positive Sales (EUR)')"
   ]
  },
  {
   "cell_type": "markdown",
   "metadata": {},
   "source": [
    "The huge investment in the first days of the month aligns with companies behavior, "
   ]
  },
  {
   "cell_type": "code",
   "execution_count": 481,
   "metadata": {},
   "outputs": [
    {
     "data": {
      "application/vnd.plotly.v1+json": {
       "config": {
        "plotlyServerURL": "https://plot.ly"
       },
       "data": [
        {
         "alignmentgroup": "True",
         "hovertemplate": "Product Group=%{x}<br>Total Positive Sales (EUR)=%{text}<extra></extra>",
         "legendgroup": "",
         "marker": {
          "color": "#636efa",
          "pattern": {
           "shape": ""
          }
         },
         "name": "",
         "offsetgroup": "",
         "orientation": "v",
         "showlegend": false,
         "text": [
          1546761105.47,
          534646720.7,
          15742114.52,
          431971575.58,
          21063167.2,
          34947589.58,
          318821.22000000003,
          66420048.03,
          8294974.08,
          1009350.01,
          506965.61,
          18679614.93,
          78366.49,
          1011999.6799999999
         ],
         "textposition": "outside",
         "texttemplate": "%{text:.2s}",
         "type": "bar",
         "x": [
          1,
          3,
          4,
          5,
          6,
          8,
          9,
          11,
          12,
          13,
          14,
          16,
          20,
          36
         ],
         "xaxis": "x",
         "y": [
          1546761105.47,
          534646720.7,
          15742114.52,
          431971575.58,
          21063167.2,
          34947589.58,
          318821.22000000003,
          66420048.03,
          8294974.08,
          1009350.01,
          506965.61,
          18679614.93,
          78366.49,
          1011999.6799999999
         ],
         "yaxis": "y"
        }
       ],
       "layout": {
        "barmode": "relative",
        "legend": {
         "tracegroupgap": 0
        },
        "template": {
         "data": {
          "bar": [
           {
            "error_x": {
             "color": "#2a3f5f"
            },
            "error_y": {
             "color": "#2a3f5f"
            },
            "marker": {
             "line": {
              "color": "#E5ECF6",
              "width": 0.5
             },
             "pattern": {
              "fillmode": "overlay",
              "size": 10,
              "solidity": 0.2
             }
            },
            "type": "bar"
           }
          ],
          "barpolar": [
           {
            "marker": {
             "line": {
              "color": "#E5ECF6",
              "width": 0.5
             },
             "pattern": {
              "fillmode": "overlay",
              "size": 10,
              "solidity": 0.2
             }
            },
            "type": "barpolar"
           }
          ],
          "carpet": [
           {
            "aaxis": {
             "endlinecolor": "#2a3f5f",
             "gridcolor": "white",
             "linecolor": "white",
             "minorgridcolor": "white",
             "startlinecolor": "#2a3f5f"
            },
            "baxis": {
             "endlinecolor": "#2a3f5f",
             "gridcolor": "white",
             "linecolor": "white",
             "minorgridcolor": "white",
             "startlinecolor": "#2a3f5f"
            },
            "type": "carpet"
           }
          ],
          "choropleth": [
           {
            "colorbar": {
             "outlinewidth": 0,
             "ticks": ""
            },
            "type": "choropleth"
           }
          ],
          "contour": [
           {
            "colorbar": {
             "outlinewidth": 0,
             "ticks": ""
            },
            "colorscale": [
             [
              0,
              "#0d0887"
             ],
             [
              0.1111111111111111,
              "#46039f"
             ],
             [
              0.2222222222222222,
              "#7201a8"
             ],
             [
              0.3333333333333333,
              "#9c179e"
             ],
             [
              0.4444444444444444,
              "#bd3786"
             ],
             [
              0.5555555555555556,
              "#d8576b"
             ],
             [
              0.6666666666666666,
              "#ed7953"
             ],
             [
              0.7777777777777778,
              "#fb9f3a"
             ],
             [
              0.8888888888888888,
              "#fdca26"
             ],
             [
              1,
              "#f0f921"
             ]
            ],
            "type": "contour"
           }
          ],
          "contourcarpet": [
           {
            "colorbar": {
             "outlinewidth": 0,
             "ticks": ""
            },
            "type": "contourcarpet"
           }
          ],
          "heatmap": [
           {
            "colorbar": {
             "outlinewidth": 0,
             "ticks": ""
            },
            "colorscale": [
             [
              0,
              "#0d0887"
             ],
             [
              0.1111111111111111,
              "#46039f"
             ],
             [
              0.2222222222222222,
              "#7201a8"
             ],
             [
              0.3333333333333333,
              "#9c179e"
             ],
             [
              0.4444444444444444,
              "#bd3786"
             ],
             [
              0.5555555555555556,
              "#d8576b"
             ],
             [
              0.6666666666666666,
              "#ed7953"
             ],
             [
              0.7777777777777778,
              "#fb9f3a"
             ],
             [
              0.8888888888888888,
              "#fdca26"
             ],
             [
              1,
              "#f0f921"
             ]
            ],
            "type": "heatmap"
           }
          ],
          "heatmapgl": [
           {
            "colorbar": {
             "outlinewidth": 0,
             "ticks": ""
            },
            "colorscale": [
             [
              0,
              "#0d0887"
             ],
             [
              0.1111111111111111,
              "#46039f"
             ],
             [
              0.2222222222222222,
              "#7201a8"
             ],
             [
              0.3333333333333333,
              "#9c179e"
             ],
             [
              0.4444444444444444,
              "#bd3786"
             ],
             [
              0.5555555555555556,
              "#d8576b"
             ],
             [
              0.6666666666666666,
              "#ed7953"
             ],
             [
              0.7777777777777778,
              "#fb9f3a"
             ],
             [
              0.8888888888888888,
              "#fdca26"
             ],
             [
              1,
              "#f0f921"
             ]
            ],
            "type": "heatmapgl"
           }
          ],
          "histogram": [
           {
            "marker": {
             "pattern": {
              "fillmode": "overlay",
              "size": 10,
              "solidity": 0.2
             }
            },
            "type": "histogram"
           }
          ],
          "histogram2d": [
           {
            "colorbar": {
             "outlinewidth": 0,
             "ticks": ""
            },
            "colorscale": [
             [
              0,
              "#0d0887"
             ],
             [
              0.1111111111111111,
              "#46039f"
             ],
             [
              0.2222222222222222,
              "#7201a8"
             ],
             [
              0.3333333333333333,
              "#9c179e"
             ],
             [
              0.4444444444444444,
              "#bd3786"
             ],
             [
              0.5555555555555556,
              "#d8576b"
             ],
             [
              0.6666666666666666,
              "#ed7953"
             ],
             [
              0.7777777777777778,
              "#fb9f3a"
             ],
             [
              0.8888888888888888,
              "#fdca26"
             ],
             [
              1,
              "#f0f921"
             ]
            ],
            "type": "histogram2d"
           }
          ],
          "histogram2dcontour": [
           {
            "colorbar": {
             "outlinewidth": 0,
             "ticks": ""
            },
            "colorscale": [
             [
              0,
              "#0d0887"
             ],
             [
              0.1111111111111111,
              "#46039f"
             ],
             [
              0.2222222222222222,
              "#7201a8"
             ],
             [
              0.3333333333333333,
              "#9c179e"
             ],
             [
              0.4444444444444444,
              "#bd3786"
             ],
             [
              0.5555555555555556,
              "#d8576b"
             ],
             [
              0.6666666666666666,
              "#ed7953"
             ],
             [
              0.7777777777777778,
              "#fb9f3a"
             ],
             [
              0.8888888888888888,
              "#fdca26"
             ],
             [
              1,
              "#f0f921"
             ]
            ],
            "type": "histogram2dcontour"
           }
          ],
          "mesh3d": [
           {
            "colorbar": {
             "outlinewidth": 0,
             "ticks": ""
            },
            "type": "mesh3d"
           }
          ],
          "parcoords": [
           {
            "line": {
             "colorbar": {
              "outlinewidth": 0,
              "ticks": ""
             }
            },
            "type": "parcoords"
           }
          ],
          "pie": [
           {
            "automargin": true,
            "type": "pie"
           }
          ],
          "scatter": [
           {
            "fillpattern": {
             "fillmode": "overlay",
             "size": 10,
             "solidity": 0.2
            },
            "type": "scatter"
           }
          ],
          "scatter3d": [
           {
            "line": {
             "colorbar": {
              "outlinewidth": 0,
              "ticks": ""
             }
            },
            "marker": {
             "colorbar": {
              "outlinewidth": 0,
              "ticks": ""
             }
            },
            "type": "scatter3d"
           }
          ],
          "scattercarpet": [
           {
            "marker": {
             "colorbar": {
              "outlinewidth": 0,
              "ticks": ""
             }
            },
            "type": "scattercarpet"
           }
          ],
          "scattergeo": [
           {
            "marker": {
             "colorbar": {
              "outlinewidth": 0,
              "ticks": ""
             }
            },
            "type": "scattergeo"
           }
          ],
          "scattergl": [
           {
            "marker": {
             "colorbar": {
              "outlinewidth": 0,
              "ticks": ""
             }
            },
            "type": "scattergl"
           }
          ],
          "scattermapbox": [
           {
            "marker": {
             "colorbar": {
              "outlinewidth": 0,
              "ticks": ""
             }
            },
            "type": "scattermapbox"
           }
          ],
          "scatterpolar": [
           {
            "marker": {
             "colorbar": {
              "outlinewidth": 0,
              "ticks": ""
             }
            },
            "type": "scatterpolar"
           }
          ],
          "scatterpolargl": [
           {
            "marker": {
             "colorbar": {
              "outlinewidth": 0,
              "ticks": ""
             }
            },
            "type": "scatterpolargl"
           }
          ],
          "scatterternary": [
           {
            "marker": {
             "colorbar": {
              "outlinewidth": 0,
              "ticks": ""
             }
            },
            "type": "scatterternary"
           }
          ],
          "surface": [
           {
            "colorbar": {
             "outlinewidth": 0,
             "ticks": ""
            },
            "colorscale": [
             [
              0,
              "#0d0887"
             ],
             [
              0.1111111111111111,
              "#46039f"
             ],
             [
              0.2222222222222222,
              "#7201a8"
             ],
             [
              0.3333333333333333,
              "#9c179e"
             ],
             [
              0.4444444444444444,
              "#bd3786"
             ],
             [
              0.5555555555555556,
              "#d8576b"
             ],
             [
              0.6666666666666666,
              "#ed7953"
             ],
             [
              0.7777777777777778,
              "#fb9f3a"
             ],
             [
              0.8888888888888888,
              "#fdca26"
             ],
             [
              1,
              "#f0f921"
             ]
            ],
            "type": "surface"
           }
          ],
          "table": [
           {
            "cells": {
             "fill": {
              "color": "#EBF0F8"
             },
             "line": {
              "color": "white"
             }
            },
            "header": {
             "fill": {
              "color": "#C8D4E3"
             },
             "line": {
              "color": "white"
             }
            },
            "type": "table"
           }
          ]
         },
         "layout": {
          "annotationdefaults": {
           "arrowcolor": "#2a3f5f",
           "arrowhead": 0,
           "arrowwidth": 1
          },
          "autotypenumbers": "strict",
          "coloraxis": {
           "colorbar": {
            "outlinewidth": 0,
            "ticks": ""
           }
          },
          "colorscale": {
           "diverging": [
            [
             0,
             "#8e0152"
            ],
            [
             0.1,
             "#c51b7d"
            ],
            [
             0.2,
             "#de77ae"
            ],
            [
             0.3,
             "#f1b6da"
            ],
            [
             0.4,
             "#fde0ef"
            ],
            [
             0.5,
             "#f7f7f7"
            ],
            [
             0.6,
             "#e6f5d0"
            ],
            [
             0.7,
             "#b8e186"
            ],
            [
             0.8,
             "#7fbc41"
            ],
            [
             0.9,
             "#4d9221"
            ],
            [
             1,
             "#276419"
            ]
           ],
           "sequential": [
            [
             0,
             "#0d0887"
            ],
            [
             0.1111111111111111,
             "#46039f"
            ],
            [
             0.2222222222222222,
             "#7201a8"
            ],
            [
             0.3333333333333333,
             "#9c179e"
            ],
            [
             0.4444444444444444,
             "#bd3786"
            ],
            [
             0.5555555555555556,
             "#d8576b"
            ],
            [
             0.6666666666666666,
             "#ed7953"
            ],
            [
             0.7777777777777778,
             "#fb9f3a"
            ],
            [
             0.8888888888888888,
             "#fdca26"
            ],
            [
             1,
             "#f0f921"
            ]
           ],
           "sequentialminus": [
            [
             0,
             "#0d0887"
            ],
            [
             0.1111111111111111,
             "#46039f"
            ],
            [
             0.2222222222222222,
             "#7201a8"
            ],
            [
             0.3333333333333333,
             "#9c179e"
            ],
            [
             0.4444444444444444,
             "#bd3786"
            ],
            [
             0.5555555555555556,
             "#d8576b"
            ],
            [
             0.6666666666666666,
             "#ed7953"
            ],
            [
             0.7777777777777778,
             "#fb9f3a"
            ],
            [
             0.8888888888888888,
             "#fdca26"
            ],
            [
             1,
             "#f0f921"
            ]
           ]
          },
          "colorway": [
           "#636efa",
           "#EF553B",
           "#00cc96",
           "#ab63fa",
           "#FFA15A",
           "#19d3f3",
           "#FF6692",
           "#B6E880",
           "#FF97FF",
           "#FECB52"
          ],
          "font": {
           "color": "#2a3f5f"
          },
          "geo": {
           "bgcolor": "white",
           "lakecolor": "white",
           "landcolor": "#E5ECF6",
           "showlakes": true,
           "showland": true,
           "subunitcolor": "white"
          },
          "hoverlabel": {
           "align": "left"
          },
          "hovermode": "closest",
          "mapbox": {
           "style": "light"
          },
          "paper_bgcolor": "white",
          "plot_bgcolor": "#E5ECF6",
          "polar": {
           "angularaxis": {
            "gridcolor": "white",
            "linecolor": "white",
            "ticks": ""
           },
           "bgcolor": "#E5ECF6",
           "radialaxis": {
            "gridcolor": "white",
            "linecolor": "white",
            "ticks": ""
           }
          },
          "scene": {
           "xaxis": {
            "backgroundcolor": "#E5ECF6",
            "gridcolor": "white",
            "gridwidth": 2,
            "linecolor": "white",
            "showbackground": true,
            "ticks": "",
            "zerolinecolor": "white"
           },
           "yaxis": {
            "backgroundcolor": "#E5ECF6",
            "gridcolor": "white",
            "gridwidth": 2,
            "linecolor": "white",
            "showbackground": true,
            "ticks": "",
            "zerolinecolor": "white"
           },
           "zaxis": {
            "backgroundcolor": "#E5ECF6",
            "gridcolor": "white",
            "gridwidth": 2,
            "linecolor": "white",
            "showbackground": true,
            "ticks": "",
            "zerolinecolor": "white"
           }
          },
          "shapedefaults": {
           "line": {
            "color": "#2a3f5f"
           }
          },
          "ternary": {
           "aaxis": {
            "gridcolor": "white",
            "linecolor": "white",
            "ticks": ""
           },
           "baxis": {
            "gridcolor": "white",
            "linecolor": "white",
            "ticks": ""
           },
           "bgcolor": "#E5ECF6",
           "caxis": {
            "gridcolor": "white",
            "linecolor": "white",
            "ticks": ""
           }
          },
          "title": {
           "x": 0.05
          },
          "xaxis": {
           "automargin": true,
           "gridcolor": "white",
           "linecolor": "white",
           "ticks": "",
           "title": {
            "standoff": 15
           },
           "zerolinecolor": "white",
           "zerolinewidth": 2
          },
          "yaxis": {
           "automargin": true,
           "gridcolor": "white",
           "linecolor": "white",
           "ticks": "",
           "title": {
            "standoff": 15
           },
           "zerolinecolor": "white",
           "zerolinewidth": 2
          }
         }
        },
        "title": {
         "text": "Positive Sales by Product"
        },
        "xaxis": {
         "anchor": "y",
         "domain": [
          0,
          1
         ],
         "tickmode": "linear",
         "title": {
          "text": "Product Group"
         },
         "type": "category"
        },
        "yaxis": {
         "anchor": "x",
         "domain": [
          0,
          1
         ],
         "title": {
          "text": "Total Positive Sales (EUR)"
         }
        }
       }
      }
     },
     "metadata": {},
     "output_type": "display_data"
    }
   ],
   "source": [
    "grouped_positive_sales_product= positive_sales.groupby('Mapped_GCK')['Sales_EUR'].sum().reset_index()\n",
    "\n",
    "plot_sales_by_product(grouped_positive_sales_product, 'Mapped_GCK', 'Sales_EUR', 'Positive Sales by Product', 'Product Group', 'Total Positive Sales (EUR)')"
   ]
  },
  {
   "cell_type": "code",
   "execution_count": 482,
   "metadata": {},
   "outputs": [
    {
     "name": "stderr",
     "output_type": "stream",
     "text": [
      "C:\\Users\\marga\\AppData\\Local\\Temp\\ipykernel_31388\\1474112446.py:1: SettingWithCopyWarning:\n",
      "\n",
      "\n",
      "A value is trying to be set on a copy of a slice from a DataFrame.\n",
      "Try using .loc[row_indexer,col_indexer] = value instead\n",
      "\n",
      "See the caveats in the documentation: https://pandas.pydata.org/pandas-docs/stable/user_guide/indexing.html#returning-a-view-versus-a-copy\n",
      "\n"
     ]
    },
    {
     "data": {
      "application/vnd.plotly.v1+json": {
       "config": {
        "plotlyServerURL": "https://plot.ly"
       },
       "data": [
        {
         "hovertemplate": "Product=1<br>Year-Month=%{x}<br>Total Positive Sales (EUR)=%{y}<extra></extra>",
         "legendgroup": "1",
         "line": {
          "color": "#636efa",
          "dash": "solid"
         },
         "marker": {
          "symbol": "circle"
         },
         "mode": "lines",
         "name": "1",
         "orientation": "v",
         "showlegend": true,
         "type": "scatter",
         "x": [
          "2018-10",
          "2018-11",
          "2018-12",
          "2019-01",
          "2019-02",
          "2019-03",
          "2019-04",
          "2019-05",
          "2019-06",
          "2019-07",
          "2019-08",
          "2019-09",
          "2019-10",
          "2019-11",
          "2019-12",
          "2020-01",
          "2020-02",
          "2020-03",
          "2020-04",
          "2020-05",
          "2020-06",
          "2020-07",
          "2020-08",
          "2020-09",
          "2020-10",
          "2020-11",
          "2020-12",
          "2021-01",
          "2021-02",
          "2021-03",
          "2021-04",
          "2021-05",
          "2021-06",
          "2021-07",
          "2021-08",
          "2021-09",
          "2021-10",
          "2021-11",
          "2021-12",
          "2022-01",
          "2022-02",
          "2022-03",
          "2022-04"
         ],
         "xaxis": "x",
         "y": [
          36098918.79,
          5140760,
          38116343.620000005,
          27807651.78,
          34854931.1,
          33892328.89,
          39728589.550000004,
          38963877.43,
          39196785.54,
          38012231.56,
          38176979.29,
          40759693.04,
          39281415.51,
          37366577.78,
          37861124.470000006,
          34246254.15,
          33564099.71,
          39218240.660000004,
          37987498.73,
          31400212.54,
          30932519.98,
          35212730.13,
          37482085.58,
          38879360.2,
          41468812.6,
          37643611.57,
          34838544.65,
          27180432.94,
          34631039.44,
          33476138.64,
          41318966.98,
          37788314.46,
          35807084.8,
          37151947.05,
          36310917.73,
          36404446.65,
          44551027.09,
          34243167.15,
          34017131.87,
          38033044.66,
          36354986.97,
          40224084.28,
          41136195.910000004
         ],
         "yaxis": "y"
        },
        {
         "hovertemplate": "Product=3<br>Year-Month=%{x}<br>Total Positive Sales (EUR)=%{y}<extra></extra>",
         "legendgroup": "3",
         "line": {
          "color": "#EF553B",
          "dash": "solid"
         },
         "marker": {
          "symbol": "circle"
         },
         "mode": "lines",
         "name": "3",
         "orientation": "v",
         "showlegend": true,
         "type": "scatter",
         "x": [
          "2018-10",
          "2018-11",
          "2018-12",
          "2019-01",
          "2019-02",
          "2019-03",
          "2019-04",
          "2019-05",
          "2019-06",
          "2019-07",
          "2019-08",
          "2019-09",
          "2019-10",
          "2019-11",
          "2019-12",
          "2020-01",
          "2020-02",
          "2020-03",
          "2020-04",
          "2020-05",
          "2020-06",
          "2020-07",
          "2020-08",
          "2020-09",
          "2020-10",
          "2020-11",
          "2020-12",
          "2021-01",
          "2021-02",
          "2021-03",
          "2021-04",
          "2021-05",
          "2021-06",
          "2021-07",
          "2021-08",
          "2021-09",
          "2021-10",
          "2021-11",
          "2021-12",
          "2022-01",
          "2022-02",
          "2022-03",
          "2022-04"
         ],
         "xaxis": "x",
         "y": [
          8089465.960000001,
          11870270.2,
          8739307.86,
          10708075.280000001,
          10172826.74,
          11057255.219999999,
          12319225.05,
          12809906.5,
          11546452.19,
          13421550.83,
          11385124.1,
          16584171.89,
          11474630.719999999,
          13826060.48,
          11100259.09,
          11906935.89,
          10041616.85,
          12281991.559999999,
          12033590.25,
          10708811.08,
          13322084.26,
          12813823.290000001,
          11393931.08,
          15912964.07,
          10020637.2,
          15528904.46,
          9769385.94,
          3805995.46,
          16145077.36,
          14130525,
          13461271.93,
          10301967.41,
          13652981.05,
          13288996.05,
          12386832.61,
          15876042.96,
          13800028.270000001,
          18697989.22,
          12377048.080000002,
          13797765.87,
          15670940.04,
          14320304.55,
          12093696.8
         ],
         "yaxis": "y"
        },
        {
         "hovertemplate": "Product=4<br>Year-Month=%{x}<br>Total Positive Sales (EUR)=%{y}<extra></extra>",
         "legendgroup": "4",
         "line": {
          "color": "#00cc96",
          "dash": "solid"
         },
         "marker": {
          "symbol": "circle"
         },
         "mode": "lines",
         "name": "4",
         "orientation": "v",
         "showlegend": true,
         "type": "scatter",
         "x": [
          "2018-10",
          "2018-11",
          "2018-12",
          "2019-01",
          "2019-02",
          "2019-03",
          "2019-04",
          "2019-05",
          "2019-06",
          "2019-07",
          "2019-08",
          "2019-09",
          "2019-10",
          "2019-11",
          "2019-12",
          "2020-01",
          "2020-02",
          "2020-03",
          "2020-04",
          "2020-05",
          "2020-06",
          "2020-07",
          "2020-08",
          "2020-09",
          "2020-10",
          "2020-11",
          "2020-12",
          "2021-01",
          "2021-02",
          "2021-03",
          "2021-04",
          "2021-05",
          "2021-06",
          "2021-07",
          "2021-08",
          "2021-09",
          "2021-10",
          "2021-11",
          "2021-12",
          "2022-01",
          "2022-02",
          "2022-03",
          "2022-04"
         ],
         "xaxis": "x",
         "y": [
          397760.69,
          373352.33,
          436873.36,
          484435.48,
          620031.8,
          498766.86,
          428258.52,
          375671.57,
          190721.15,
          381343.41,
          303045.23,
          449113.22000000003,
          93978.25,
          298011.68,
          275968.15,
          219974.89,
          225314.22,
          197761.93,
          455693.41000000003,
          315488.98,
          329486.58,
          294401.19,
          172952.24,
          645058,
          332731.24,
          417133.31,
          303405.85,
          166532.61,
          807836.39,
          454530.24,
          298442.31,
          576541.19,
          831057.8200000001,
          436182.7,
          255407.75,
          323758.15,
          345909.79,
          290571.35,
          199921.82,
          283676.73,
          245405.49,
          406828.57,
          302778.06999999995
         ],
         "yaxis": "y"
        },
        {
         "hovertemplate": "Product=5<br>Year-Month=%{x}<br>Total Positive Sales (EUR)=%{y}<extra></extra>",
         "legendgroup": "5",
         "line": {
          "color": "#ab63fa",
          "dash": "solid"
         },
         "marker": {
          "symbol": "circle"
         },
         "mode": "lines",
         "name": "5",
         "orientation": "v",
         "showlegend": true,
         "type": "scatter",
         "x": [
          "2018-10",
          "2018-11",
          "2018-12",
          "2019-01",
          "2019-02",
          "2019-03",
          "2019-04",
          "2019-05",
          "2019-06",
          "2019-07",
          "2019-08",
          "2019-09",
          "2019-10",
          "2019-11",
          "2019-12",
          "2020-01",
          "2020-02",
          "2020-03",
          "2020-04",
          "2020-05",
          "2020-06",
          "2020-07",
          "2020-08",
          "2020-09",
          "2020-10",
          "2020-11",
          "2020-12",
          "2021-01",
          "2021-02",
          "2021-03",
          "2021-04",
          "2021-05",
          "2021-06",
          "2021-07",
          "2021-08",
          "2021-09",
          "2021-10",
          "2021-11",
          "2021-12",
          "2022-01",
          "2022-02",
          "2022-03",
          "2022-04"
         ],
         "xaxis": "x",
         "y": [
          2499061.19,
          8993944.040000001,
          6981080.57,
          8301428.77,
          6892520.619999999,
          11933851.57,
          5937614.8,
          11413781.149999999,
          13738550.540000001,
          11189764.23,
          7663012.4799999995,
          15155155.01,
          11652205.11,
          8104241.69,
          13554688.83,
          7358142.5200000005,
          12490321.48,
          9345967.24,
          7990825.32,
          9883214.77,
          15873931.87,
          5590877.71,
          11463705.639999999,
          14160091.05,
          4652772.4399999995,
          10164950.32,
          8845742.299999999,
          1405295.36,
          16652189.63,
          11146249.81,
          7426997.640000001,
          8794595.14,
          11687229.03,
          8323704.77,
          19524640.52,
          15878203.309999999,
          11739106.18,
          9651295.45,
          8732579.69,
          7836080.63,
          7713154.79,
          14739187.18,
          8889623.190000001
         ],
         "yaxis": "y"
        },
        {
         "hovertemplate": "Product=6<br>Year-Month=%{x}<br>Total Positive Sales (EUR)=%{y}<extra></extra>",
         "legendgroup": "6",
         "line": {
          "color": "#FFA15A",
          "dash": "solid"
         },
         "marker": {
          "symbol": "circle"
         },
         "mode": "lines",
         "name": "6",
         "orientation": "v",
         "showlegend": true,
         "type": "scatter",
         "x": [
          "2018-10",
          "2018-11",
          "2018-12",
          "2019-01",
          "2019-02",
          "2019-03",
          "2019-04",
          "2019-05",
          "2019-06",
          "2019-07",
          "2019-08",
          "2019-09",
          "2019-10",
          "2019-11",
          "2019-12",
          "2020-01",
          "2020-02",
          "2020-03",
          "2020-04",
          "2020-05",
          "2020-06",
          "2020-07",
          "2020-08",
          "2020-09",
          "2020-10",
          "2020-11",
          "2020-12",
          "2021-01",
          "2021-02",
          "2021-03",
          "2021-04",
          "2021-05",
          "2021-06",
          "2021-07",
          "2021-08",
          "2021-09",
          "2021-10",
          "2021-11",
          "2021-12",
          "2022-01",
          "2022-02",
          "2022-03",
          "2022-04"
         ],
         "xaxis": "x",
         "y": [
          369231.6,
          473046.95999999996,
          999472.6900000002,
          598874.1,
          542037.52,
          735604.23,
          277575.12,
          315978.77,
          282963.19,
          725411.99,
          212652.06,
          499147.73,
          581767.85,
          218154.2,
          913378.8,
          313876.65,
          724398.75,
          529808.94,
          782042.98,
          750367.7,
          530492.81,
          730187.6799999999,
          847092.87,
          316929.21,
          313535.91000000003,
          335130.74,
          332556.98,
          27472.940000000002,
          515644.63,
          625100.14,
          592478.95,
          566508.34,
          490262.94,
          499338.64,
          573378.11,
          949186.44,
          196463.81,
          386462.95999999996,
          190074.96,
          157670.31,
          391142.3,
          316558.08999999997,
          333705.61
         ],
         "yaxis": "y"
        },
        {
         "hovertemplate": "Product=8<br>Year-Month=%{x}<br>Total Positive Sales (EUR)=%{y}<extra></extra>",
         "legendgroup": "8",
         "line": {
          "color": "#19d3f3",
          "dash": "solid"
         },
         "marker": {
          "symbol": "circle"
         },
         "mode": "lines",
         "name": "8",
         "orientation": "v",
         "showlegend": true,
         "type": "scatter",
         "x": [
          "2018-10",
          "2018-11",
          "2018-12",
          "2019-01",
          "2019-02",
          "2019-03",
          "2019-04",
          "2019-05",
          "2019-06",
          "2019-07",
          "2019-08",
          "2019-09",
          "2019-10",
          "2019-11",
          "2019-12",
          "2020-01",
          "2020-02",
          "2020-03",
          "2020-04",
          "2020-05",
          "2020-06",
          "2020-07",
          "2020-08",
          "2020-09",
          "2020-10",
          "2020-11",
          "2020-12",
          "2021-01",
          "2021-02",
          "2021-03",
          "2021-04",
          "2021-05",
          "2021-06",
          "2021-07",
          "2021-08",
          "2021-09",
          "2021-10",
          "2021-11",
          "2021-12",
          "2022-01",
          "2022-02",
          "2022-03",
          "2022-04"
         ],
         "xaxis": "x",
         "y": [
          586052.74,
          526792.77,
          271490.71,
          381400.15,
          368475.57,
          592288.36,
          418899.9,
          298806.83999999997,
          420707.73,
          366980.26,
          397537.2,
          1084685.92,
          111791.34,
          543893.42,
          507998.42000000004,
          323769.2,
          327179.83999999997,
          846245.78,
          302765.68,
          712746.38,
          647330.13,
          585870.47,
          917015.1799999999,
          1337657.62,
          153873.52,
          904436.89,
          1061969.46,
          305820.25999999995,
          1615468.03,
          900269.97,
          1071688.56,
          813653.21,
          1091239.79,
          1207554.52,
          1093379.99,
          2036579.98,
          356322.55,
          1142743.17,
          2655036.7800000003,
          1208090.29,
          1239171.41,
          1875688.63,
          1336220.96
         ],
         "yaxis": "y"
        },
        {
         "hovertemplate": "Product=9<br>Year-Month=%{x}<br>Total Positive Sales (EUR)=%{y}<extra></extra>",
         "legendgroup": "9",
         "line": {
          "color": "#FF6692",
          "dash": "solid"
         },
         "marker": {
          "symbol": "circle"
         },
         "mode": "lines",
         "name": "9",
         "orientation": "v",
         "showlegend": true,
         "type": "scatter",
         "x": [
          "2018-10",
          "2018-11",
          "2019-01",
          "2019-02",
          "2019-03",
          "2019-04",
          "2019-05",
          "2019-06",
          "2019-07",
          "2019-08",
          "2019-09",
          "2019-10",
          "2019-11",
          "2019-12",
          "2020-01",
          "2020-02",
          "2020-03",
          "2020-04",
          "2020-05",
          "2020-06",
          "2020-07",
          "2020-08",
          "2020-09",
          "2020-10",
          "2020-11",
          "2020-12",
          "2021-01",
          "2021-02",
          "2021-03",
          "2021-04",
          "2021-05",
          "2021-06",
          "2021-07",
          "2021-08",
          "2021-09",
          "2021-10",
          "2021-11",
          "2021-12",
          "2022-01",
          "2022-02",
          "2022-03",
          "2022-04"
         ],
         "xaxis": "x",
         "y": [
          3219.32,
          1875.9,
          1487,
          3234.2799999999997,
          13050.61,
          9150.7,
          4614.08,
          4488.09,
          1766.4,
          6371.5,
          13930.26,
          555,
          24181.8,
          7611.36,
          7647.5,
          425.1,
          2233,
          1851.85,
          3764.12,
          7555.45,
          978.6400000000001,
          9907.2,
          2893.35,
          39546,
          2429.8,
          8606.5,
          625.5,
          10022.4,
          28108.88,
          16713.96,
          8026,
          7240.84,
          11295.75,
          432,
          9288,
          950,
          17018.58,
          14963.7,
          2093.2,
          930,
          4452.6,
          3285
         ],
         "yaxis": "y"
        },
        {
         "hovertemplate": "Product=11<br>Year-Month=%{x}<br>Total Positive Sales (EUR)=%{y}<extra></extra>",
         "legendgroup": "11",
         "line": {
          "color": "#B6E880",
          "dash": "solid"
         },
         "marker": {
          "symbol": "circle"
         },
         "mode": "lines",
         "name": "11",
         "orientation": "v",
         "showlegend": true,
         "type": "scatter",
         "x": [
          "2018-10",
          "2018-11",
          "2018-12",
          "2019-01",
          "2019-02",
          "2019-03",
          "2019-04",
          "2019-05",
          "2019-06",
          "2019-07",
          "2019-08",
          "2019-09",
          "2019-10",
          "2019-11",
          "2019-12",
          "2020-01",
          "2020-02",
          "2020-03",
          "2020-04",
          "2020-05",
          "2020-06",
          "2020-07",
          "2020-08",
          "2020-09",
          "2020-10",
          "2020-11",
          "2020-12",
          "2021-01",
          "2021-02",
          "2021-03",
          "2021-04",
          "2021-05",
          "2021-06",
          "2021-07",
          "2021-08",
          "2021-09",
          "2021-10",
          "2021-11",
          "2021-12",
          "2022-01",
          "2022-02",
          "2022-03",
          "2022-04"
         ],
         "xaxis": "x",
         "y": [
          1021303.5,
          1898844.8,
          1226122,
          2216391.74,
          610456.6,
          957023.11,
          1484281.6,
          1066063.9,
          492133.2,
          585648.14,
          2921554.87,
          3749980.46,
          228130,
          1194770.75,
          1278545.62,
          584370,
          1233609.73,
          2969948.65,
          813303.01,
          842526.1,
          2246948,
          2105975.71,
          1521580.0699999998,
          3891447.7600000002,
          973839.23,
          488891.95999999996,
          1096370.71,
          18200,
          1978335.55,
          1660211.1600000001,
          1206734.3399999999,
          1994228.4,
          991872.24,
          2253079.74,
          2715460.08,
          3795389.85,
          173771.79,
          1832753.73,
          2645689.71,
          1075255.25,
          967190.3200000001,
          2284958.4000000004,
          1126856.25
         ],
         "yaxis": "y"
        },
        {
         "hovertemplate": "Product=12<br>Year-Month=%{x}<br>Total Positive Sales (EUR)=%{y}<extra></extra>",
         "legendgroup": "12",
         "line": {
          "color": "#FF97FF",
          "dash": "solid"
         },
         "marker": {
          "symbol": "circle"
         },
         "mode": "lines",
         "name": "12",
         "orientation": "v",
         "showlegend": true,
         "type": "scatter",
         "x": [
          "2018-10",
          "2018-11",
          "2018-12",
          "2019-01",
          "2019-02",
          "2019-03",
          "2019-04",
          "2019-05",
          "2019-06",
          "2019-07",
          "2019-08",
          "2019-09",
          "2019-10",
          "2019-11",
          "2019-12",
          "2020-01",
          "2020-02",
          "2020-03",
          "2020-04",
          "2020-05",
          "2020-06",
          "2020-07",
          "2020-08",
          "2020-09",
          "2020-10",
          "2020-11",
          "2020-12",
          "2021-01",
          "2021-02",
          "2021-03",
          "2021-04",
          "2021-05",
          "2021-06",
          "2021-07",
          "2021-08",
          "2021-09",
          "2021-10",
          "2021-11",
          "2021-12",
          "2022-01",
          "2022-02",
          "2022-03",
          "2022-04"
         ],
         "xaxis": "x",
         "y": [
          28686.33,
          1070,
          17880.6,
          21484,
          34214.74,
          10118,
          21813.27,
          24468,
          44255.68,
          21318.48,
          19217,
          292490.4,
          140819.69,
          320942.27999999997,
          349515.29,
          213315.32,
          324443.35,
          190629.89,
          79632,
          153949.24,
          172712.88,
          110995.2,
          164108.2,
          168634.8,
          5395,
          445648.06000000006,
          271024.19,
          92754.01,
          287890.61,
          282688.33999999997,
          385267.16000000003,
          379881.93,
          327404.12,
          364134.84,
          144575.88,
          423432.68,
          217388.43,
          429825.32000000007,
          322647.82,
          149144.93,
          316478.3,
          344536.82,
          178141
         ],
         "yaxis": "y"
        },
        {
         "hovertemplate": "Product=13<br>Year-Month=%{x}<br>Total Positive Sales (EUR)=%{y}<extra></extra>",
         "legendgroup": "13",
         "line": {
          "color": "#FECB52",
          "dash": "solid"
         },
         "marker": {
          "symbol": "circle"
         },
         "mode": "lines",
         "name": "13",
         "orientation": "v",
         "showlegend": true,
         "type": "scatter",
         "x": [
          "2018-10",
          "2018-11",
          "2018-12",
          "2019-01",
          "2019-02",
          "2019-03",
          "2019-04",
          "2019-05",
          "2019-06",
          "2019-07",
          "2019-08",
          "2019-09",
          "2019-10",
          "2019-11",
          "2019-12",
          "2020-01",
          "2020-02",
          "2020-03",
          "2020-04",
          "2020-05",
          "2020-06",
          "2020-07",
          "2020-08",
          "2020-09",
          "2020-10",
          "2020-11",
          "2020-12",
          "2021-01",
          "2021-02",
          "2021-03",
          "2021-04",
          "2021-05",
          "2021-06",
          "2021-07",
          "2021-08",
          "2021-09",
          "2021-10",
          "2021-11",
          "2021-12",
          "2022-01",
          "2022-02",
          "2022-03",
          "2022-04"
         ],
         "xaxis": "x",
         "y": [
          27666.1,
          68338.2,
          15655.18,
          27198.29,
          32638.63,
          11890,
          7514.85,
          2558.9,
          34849.21,
          43008.350000000006,
          22497.6,
          19601.050000000003,
          65754.55,
          43190.76,
          26729.760000000002,
          19519.59,
          13747.169999999998,
          23513.59,
          30716.11,
          3762.8199999999997,
          9612.8,
          6745.2,
          25689.64,
          15314.86,
          9524.88,
          20663.64,
          31216.71,
          10118.36,
          16729.8,
          63092.75,
          38125.2,
          4130,
          6015.04,
          8419.83,
          10814.57,
          28682.589999999997,
          30506.15,
          8136.92,
          24868.86,
          37972.81,
          33449.25,
          12149.4,
          17020.04
         ],
         "yaxis": "y"
        },
        {
         "hovertemplate": "Product=14<br>Year-Month=%{x}<br>Total Positive Sales (EUR)=%{y}<extra></extra>",
         "legendgroup": "14",
         "line": {
          "color": "#636efa",
          "dash": "solid"
         },
         "marker": {
          "symbol": "circle"
         },
         "mode": "lines",
         "name": "14",
         "orientation": "v",
         "showlegend": true,
         "type": "scatter",
         "x": [
          "2018-10",
          "2018-11",
          "2019-01",
          "2019-02",
          "2019-03",
          "2019-05",
          "2019-06",
          "2019-07",
          "2019-08",
          "2019-09",
          "2019-10",
          "2019-11",
          "2020-01",
          "2020-02",
          "2020-03",
          "2020-05",
          "2020-06",
          "2020-07",
          "2020-08",
          "2020-09",
          "2020-10",
          "2020-11",
          "2020-12",
          "2021-01",
          "2021-02",
          "2021-03",
          "2021-04",
          "2021-05",
          "2021-06",
          "2021-07",
          "2021-09",
          "2021-10",
          "2021-11",
          "2021-12",
          "2022-01",
          "2022-02",
          "2022-03",
          "2022-04"
         ],
         "xaxis": "x",
         "y": [
          5770,
          17130,
          1686.4,
          19196.3,
          7535.25,
          17820,
          63017.71,
          20719.3,
          1602,
          12851.2,
          4230,
          2571.3,
          2955.22,
          10900,
          10325.15,
          32670,
          8756.45,
          14793,
          6919.4,
          2219.8,
          13799,
          1750,
          11772.45,
          3028,
          2966.82,
          15818.779999999999,
          5629,
          2183.85,
          8266.9,
          76161.44,
          6182,
          16534.2,
          5951.849999999999,
          17427.6,
          2820,
          4410,
          46100.24,
          2495
         ],
         "yaxis": "y"
        },
        {
         "hovertemplate": "Product=16<br>Year-Month=%{x}<br>Total Positive Sales (EUR)=%{y}<extra></extra>",
         "legendgroup": "16",
         "line": {
          "color": "#EF553B",
          "dash": "solid"
         },
         "marker": {
          "symbol": "circle"
         },
         "mode": "lines",
         "name": "16",
         "orientation": "v",
         "showlegend": true,
         "type": "scatter",
         "x": [
          "2018-10",
          "2018-11",
          "2018-12",
          "2019-01",
          "2019-02",
          "2019-03",
          "2019-04",
          "2019-05",
          "2019-06",
          "2019-07",
          "2019-08",
          "2019-09",
          "2019-10",
          "2019-11",
          "2019-12",
          "2020-01",
          "2020-02",
          "2020-03",
          "2020-04",
          "2020-05",
          "2020-06",
          "2020-07",
          "2020-08",
          "2020-09",
          "2020-10",
          "2020-11",
          "2020-12",
          "2021-01",
          "2021-02",
          "2021-03",
          "2021-04",
          "2021-05",
          "2021-06",
          "2021-07",
          "2021-08",
          "2021-09",
          "2021-10",
          "2021-11",
          "2021-12",
          "2022-01",
          "2022-02",
          "2022-03",
          "2022-04"
         ],
         "xaxis": "x",
         "y": [
          333196.87,
          1377694.32,
          4762524.66,
          942957.19,
          257765.04,
          2258352.2199999997,
          225864,
          353451.54,
          371512.38,
          266225.86,
          725678.3299999998,
          765605.16,
          285644.67,
          291844.03,
          335567.28,
          384800.46,
          82821.54000000001,
          160397.35,
          70530.7,
          195141.7,
          269150.4,
          409170.11,
          153870.44,
          209186.6,
          145276.08000000002,
          160941.78,
          260089.25,
          40360.08,
          117004.3,
          309564.27,
          125710.70999999999,
          219241.06,
          186607.11000000002,
          103935.84,
          323548.03,
          186586.24,
          141037.06,
          230129.08000000002,
          271111.39,
          91021.89,
          45696.76,
          98729.91,
          134071.24
         ],
         "yaxis": "y"
        },
        {
         "hovertemplate": "Product=20<br>Year-Month=%{x}<br>Total Positive Sales (EUR)=%{y}<extra></extra>",
         "legendgroup": "20",
         "line": {
          "color": "#00cc96",
          "dash": "solid"
         },
         "marker": {
          "symbol": "circle"
         },
         "mode": "lines",
         "name": "20",
         "orientation": "v",
         "showlegend": true,
         "type": "scatter",
         "x": [
          "2018-10",
          "2018-11",
          "2018-12",
          "2019-01",
          "2019-02",
          "2019-03",
          "2019-04",
          "2019-05",
          "2019-06",
          "2019-07",
          "2019-08",
          "2019-09",
          "2019-10",
          "2019-11",
          "2020-01",
          "2020-03",
          "2020-04",
          "2020-05",
          "2020-06",
          "2020-07",
          "2020-08",
          "2020-09",
          "2020-10",
          "2020-11",
          "2020-12",
          "2021-02",
          "2021-03",
          "2021-04",
          "2021-05",
          "2021-06",
          "2021-07",
          "2021-08",
          "2021-10",
          "2021-11",
          "2021-12",
          "2022-02",
          "2022-03",
          "2022-04"
         ],
         "xaxis": "x",
         "y": [
          4563.14,
          5798.139999999999,
          918.65,
          2399.18,
          620.66,
          3369.55,
          3635.26,
          944,
          772.94,
          577.6,
          284.4,
          671.1700000000001,
          1566,
          149,
          274.90999999999997,
          555,
          224,
          390,
          983.1,
          826.98,
          2688,
          2047.7,
          7355.75,
          2990.7,
          8485.6,
          1387,
          1076.6,
          8414,
          419.21,
          1766.6,
          842.9300000000001,
          377.22,
          151.49,
          928.8,
          156,
          589.5,
          2885.08,
          6280.629999999999
         ],
         "yaxis": "y"
        },
        {
         "hovertemplate": "Product=36<br>Year-Month=%{x}<br>Total Positive Sales (EUR)=%{y}<extra></extra>",
         "legendgroup": "36",
         "line": {
          "color": "#ab63fa",
          "dash": "solid"
         },
         "marker": {
          "symbol": "circle"
         },
         "mode": "lines",
         "name": "36",
         "orientation": "v",
         "showlegend": true,
         "type": "scatter",
         "x": [
          "2018-10",
          "2018-11",
          "2018-12",
          "2019-01",
          "2019-02",
          "2019-03",
          "2019-04",
          "2019-05",
          "2019-06",
          "2019-07",
          "2019-08",
          "2019-09",
          "2019-10",
          "2019-11",
          "2019-12",
          "2020-01",
          "2020-02",
          "2020-03",
          "2020-04",
          "2020-05",
          "2020-06",
          "2020-07",
          "2020-08",
          "2020-09",
          "2020-10",
          "2020-11",
          "2020-12",
          "2021-01",
          "2021-02",
          "2021-03",
          "2021-04",
          "2021-05",
          "2021-06",
          "2021-07",
          "2021-08",
          "2021-09",
          "2021-10",
          "2021-11",
          "2021-12",
          "2022-01",
          "2022-02",
          "2022-03",
          "2022-04"
         ],
         "xaxis": "x",
         "y": [
          6474.6,
          21986.89,
          13924.52,
          15444.39,
          8051.15,
          7373.419999999999,
          4526.6,
          16905.32,
          17296.03,
          33334.41,
          1306,
          16582.55,
          1556.5,
          14921.72,
          5906.37,
          17727.88,
          11813.4,
          28300.82,
          27121.6,
          10075.7,
          146778.15,
          3849.6,
          12377.77,
          44867.100000000006,
          22372.49,
          4126.99,
          12105.42,
          3950.1,
          10454.4,
          11796,
          253519.03999999998,
          12775.490000000002,
          24733.07,
          17165.7,
          9233.4,
          26729.61,
          674,
          9449.77,
          48933.5,
          6014.39,
          29869.5,
          2564.85,
          17029.47
         ],
         "yaxis": "y"
        }
       ],
       "layout": {
        "legend": {
         "title": {
          "text": "Product"
         },
         "tracegroupgap": 0
        },
        "template": {
         "data": {
          "bar": [
           {
            "error_x": {
             "color": "#2a3f5f"
            },
            "error_y": {
             "color": "#2a3f5f"
            },
            "marker": {
             "line": {
              "color": "#E5ECF6",
              "width": 0.5
             },
             "pattern": {
              "fillmode": "overlay",
              "size": 10,
              "solidity": 0.2
             }
            },
            "type": "bar"
           }
          ],
          "barpolar": [
           {
            "marker": {
             "line": {
              "color": "#E5ECF6",
              "width": 0.5
             },
             "pattern": {
              "fillmode": "overlay",
              "size": 10,
              "solidity": 0.2
             }
            },
            "type": "barpolar"
           }
          ],
          "carpet": [
           {
            "aaxis": {
             "endlinecolor": "#2a3f5f",
             "gridcolor": "white",
             "linecolor": "white",
             "minorgridcolor": "white",
             "startlinecolor": "#2a3f5f"
            },
            "baxis": {
             "endlinecolor": "#2a3f5f",
             "gridcolor": "white",
             "linecolor": "white",
             "minorgridcolor": "white",
             "startlinecolor": "#2a3f5f"
            },
            "type": "carpet"
           }
          ],
          "choropleth": [
           {
            "colorbar": {
             "outlinewidth": 0,
             "ticks": ""
            },
            "type": "choropleth"
           }
          ],
          "contour": [
           {
            "colorbar": {
             "outlinewidth": 0,
             "ticks": ""
            },
            "colorscale": [
             [
              0,
              "#0d0887"
             ],
             [
              0.1111111111111111,
              "#46039f"
             ],
             [
              0.2222222222222222,
              "#7201a8"
             ],
             [
              0.3333333333333333,
              "#9c179e"
             ],
             [
              0.4444444444444444,
              "#bd3786"
             ],
             [
              0.5555555555555556,
              "#d8576b"
             ],
             [
              0.6666666666666666,
              "#ed7953"
             ],
             [
              0.7777777777777778,
              "#fb9f3a"
             ],
             [
              0.8888888888888888,
              "#fdca26"
             ],
             [
              1,
              "#f0f921"
             ]
            ],
            "type": "contour"
           }
          ],
          "contourcarpet": [
           {
            "colorbar": {
             "outlinewidth": 0,
             "ticks": ""
            },
            "type": "contourcarpet"
           }
          ],
          "heatmap": [
           {
            "colorbar": {
             "outlinewidth": 0,
             "ticks": ""
            },
            "colorscale": [
             [
              0,
              "#0d0887"
             ],
             [
              0.1111111111111111,
              "#46039f"
             ],
             [
              0.2222222222222222,
              "#7201a8"
             ],
             [
              0.3333333333333333,
              "#9c179e"
             ],
             [
              0.4444444444444444,
              "#bd3786"
             ],
             [
              0.5555555555555556,
              "#d8576b"
             ],
             [
              0.6666666666666666,
              "#ed7953"
             ],
             [
              0.7777777777777778,
              "#fb9f3a"
             ],
             [
              0.8888888888888888,
              "#fdca26"
             ],
             [
              1,
              "#f0f921"
             ]
            ],
            "type": "heatmap"
           }
          ],
          "heatmapgl": [
           {
            "colorbar": {
             "outlinewidth": 0,
             "ticks": ""
            },
            "colorscale": [
             [
              0,
              "#0d0887"
             ],
             [
              0.1111111111111111,
              "#46039f"
             ],
             [
              0.2222222222222222,
              "#7201a8"
             ],
             [
              0.3333333333333333,
              "#9c179e"
             ],
             [
              0.4444444444444444,
              "#bd3786"
             ],
             [
              0.5555555555555556,
              "#d8576b"
             ],
             [
              0.6666666666666666,
              "#ed7953"
             ],
             [
              0.7777777777777778,
              "#fb9f3a"
             ],
             [
              0.8888888888888888,
              "#fdca26"
             ],
             [
              1,
              "#f0f921"
             ]
            ],
            "type": "heatmapgl"
           }
          ],
          "histogram": [
           {
            "marker": {
             "pattern": {
              "fillmode": "overlay",
              "size": 10,
              "solidity": 0.2
             }
            },
            "type": "histogram"
           }
          ],
          "histogram2d": [
           {
            "colorbar": {
             "outlinewidth": 0,
             "ticks": ""
            },
            "colorscale": [
             [
              0,
              "#0d0887"
             ],
             [
              0.1111111111111111,
              "#46039f"
             ],
             [
              0.2222222222222222,
              "#7201a8"
             ],
             [
              0.3333333333333333,
              "#9c179e"
             ],
             [
              0.4444444444444444,
              "#bd3786"
             ],
             [
              0.5555555555555556,
              "#d8576b"
             ],
             [
              0.6666666666666666,
              "#ed7953"
             ],
             [
              0.7777777777777778,
              "#fb9f3a"
             ],
             [
              0.8888888888888888,
              "#fdca26"
             ],
             [
              1,
              "#f0f921"
             ]
            ],
            "type": "histogram2d"
           }
          ],
          "histogram2dcontour": [
           {
            "colorbar": {
             "outlinewidth": 0,
             "ticks": ""
            },
            "colorscale": [
             [
              0,
              "#0d0887"
             ],
             [
              0.1111111111111111,
              "#46039f"
             ],
             [
              0.2222222222222222,
              "#7201a8"
             ],
             [
              0.3333333333333333,
              "#9c179e"
             ],
             [
              0.4444444444444444,
              "#bd3786"
             ],
             [
              0.5555555555555556,
              "#d8576b"
             ],
             [
              0.6666666666666666,
              "#ed7953"
             ],
             [
              0.7777777777777778,
              "#fb9f3a"
             ],
             [
              0.8888888888888888,
              "#fdca26"
             ],
             [
              1,
              "#f0f921"
             ]
            ],
            "type": "histogram2dcontour"
           }
          ],
          "mesh3d": [
           {
            "colorbar": {
             "outlinewidth": 0,
             "ticks": ""
            },
            "type": "mesh3d"
           }
          ],
          "parcoords": [
           {
            "line": {
             "colorbar": {
              "outlinewidth": 0,
              "ticks": ""
             }
            },
            "type": "parcoords"
           }
          ],
          "pie": [
           {
            "automargin": true,
            "type": "pie"
           }
          ],
          "scatter": [
           {
            "fillpattern": {
             "fillmode": "overlay",
             "size": 10,
             "solidity": 0.2
            },
            "type": "scatter"
           }
          ],
          "scatter3d": [
           {
            "line": {
             "colorbar": {
              "outlinewidth": 0,
              "ticks": ""
             }
            },
            "marker": {
             "colorbar": {
              "outlinewidth": 0,
              "ticks": ""
             }
            },
            "type": "scatter3d"
           }
          ],
          "scattercarpet": [
           {
            "marker": {
             "colorbar": {
              "outlinewidth": 0,
              "ticks": ""
             }
            },
            "type": "scattercarpet"
           }
          ],
          "scattergeo": [
           {
            "marker": {
             "colorbar": {
              "outlinewidth": 0,
              "ticks": ""
             }
            },
            "type": "scattergeo"
           }
          ],
          "scattergl": [
           {
            "marker": {
             "colorbar": {
              "outlinewidth": 0,
              "ticks": ""
             }
            },
            "type": "scattergl"
           }
          ],
          "scattermapbox": [
           {
            "marker": {
             "colorbar": {
              "outlinewidth": 0,
              "ticks": ""
             }
            },
            "type": "scattermapbox"
           }
          ],
          "scatterpolar": [
           {
            "marker": {
             "colorbar": {
              "outlinewidth": 0,
              "ticks": ""
             }
            },
            "type": "scatterpolar"
           }
          ],
          "scatterpolargl": [
           {
            "marker": {
             "colorbar": {
              "outlinewidth": 0,
              "ticks": ""
             }
            },
            "type": "scatterpolargl"
           }
          ],
          "scatterternary": [
           {
            "marker": {
             "colorbar": {
              "outlinewidth": 0,
              "ticks": ""
             }
            },
            "type": "scatterternary"
           }
          ],
          "surface": [
           {
            "colorbar": {
             "outlinewidth": 0,
             "ticks": ""
            },
            "colorscale": [
             [
              0,
              "#0d0887"
             ],
             [
              0.1111111111111111,
              "#46039f"
             ],
             [
              0.2222222222222222,
              "#7201a8"
             ],
             [
              0.3333333333333333,
              "#9c179e"
             ],
             [
              0.4444444444444444,
              "#bd3786"
             ],
             [
              0.5555555555555556,
              "#d8576b"
             ],
             [
              0.6666666666666666,
              "#ed7953"
             ],
             [
              0.7777777777777778,
              "#fb9f3a"
             ],
             [
              0.8888888888888888,
              "#fdca26"
             ],
             [
              1,
              "#f0f921"
             ]
            ],
            "type": "surface"
           }
          ],
          "table": [
           {
            "cells": {
             "fill": {
              "color": "#EBF0F8"
             },
             "line": {
              "color": "white"
             }
            },
            "header": {
             "fill": {
              "color": "#C8D4E3"
             },
             "line": {
              "color": "white"
             }
            },
            "type": "table"
           }
          ]
         },
         "layout": {
          "annotationdefaults": {
           "arrowcolor": "#2a3f5f",
           "arrowhead": 0,
           "arrowwidth": 1
          },
          "autotypenumbers": "strict",
          "coloraxis": {
           "colorbar": {
            "outlinewidth": 0,
            "ticks": ""
           }
          },
          "colorscale": {
           "diverging": [
            [
             0,
             "#8e0152"
            ],
            [
             0.1,
             "#c51b7d"
            ],
            [
             0.2,
             "#de77ae"
            ],
            [
             0.3,
             "#f1b6da"
            ],
            [
             0.4,
             "#fde0ef"
            ],
            [
             0.5,
             "#f7f7f7"
            ],
            [
             0.6,
             "#e6f5d0"
            ],
            [
             0.7,
             "#b8e186"
            ],
            [
             0.8,
             "#7fbc41"
            ],
            [
             0.9,
             "#4d9221"
            ],
            [
             1,
             "#276419"
            ]
           ],
           "sequential": [
            [
             0,
             "#0d0887"
            ],
            [
             0.1111111111111111,
             "#46039f"
            ],
            [
             0.2222222222222222,
             "#7201a8"
            ],
            [
             0.3333333333333333,
             "#9c179e"
            ],
            [
             0.4444444444444444,
             "#bd3786"
            ],
            [
             0.5555555555555556,
             "#d8576b"
            ],
            [
             0.6666666666666666,
             "#ed7953"
            ],
            [
             0.7777777777777778,
             "#fb9f3a"
            ],
            [
             0.8888888888888888,
             "#fdca26"
            ],
            [
             1,
             "#f0f921"
            ]
           ],
           "sequentialminus": [
            [
             0,
             "#0d0887"
            ],
            [
             0.1111111111111111,
             "#46039f"
            ],
            [
             0.2222222222222222,
             "#7201a8"
            ],
            [
             0.3333333333333333,
             "#9c179e"
            ],
            [
             0.4444444444444444,
             "#bd3786"
            ],
            [
             0.5555555555555556,
             "#d8576b"
            ],
            [
             0.6666666666666666,
             "#ed7953"
            ],
            [
             0.7777777777777778,
             "#fb9f3a"
            ],
            [
             0.8888888888888888,
             "#fdca26"
            ],
            [
             1,
             "#f0f921"
            ]
           ]
          },
          "colorway": [
           "#636efa",
           "#EF553B",
           "#00cc96",
           "#ab63fa",
           "#FFA15A",
           "#19d3f3",
           "#FF6692",
           "#B6E880",
           "#FF97FF",
           "#FECB52"
          ],
          "font": {
           "color": "#2a3f5f"
          },
          "geo": {
           "bgcolor": "white",
           "lakecolor": "white",
           "landcolor": "#E5ECF6",
           "showlakes": true,
           "showland": true,
           "subunitcolor": "white"
          },
          "hoverlabel": {
           "align": "left"
          },
          "hovermode": "closest",
          "mapbox": {
           "style": "light"
          },
          "paper_bgcolor": "white",
          "plot_bgcolor": "#E5ECF6",
          "polar": {
           "angularaxis": {
            "gridcolor": "white",
            "linecolor": "white",
            "ticks": ""
           },
           "bgcolor": "#E5ECF6",
           "radialaxis": {
            "gridcolor": "white",
            "linecolor": "white",
            "ticks": ""
           }
          },
          "scene": {
           "xaxis": {
            "backgroundcolor": "#E5ECF6",
            "gridcolor": "white",
            "gridwidth": 2,
            "linecolor": "white",
            "showbackground": true,
            "ticks": "",
            "zerolinecolor": "white"
           },
           "yaxis": {
            "backgroundcolor": "#E5ECF6",
            "gridcolor": "white",
            "gridwidth": 2,
            "linecolor": "white",
            "showbackground": true,
            "ticks": "",
            "zerolinecolor": "white"
           },
           "zaxis": {
            "backgroundcolor": "#E5ECF6",
            "gridcolor": "white",
            "gridwidth": 2,
            "linecolor": "white",
            "showbackground": true,
            "ticks": "",
            "zerolinecolor": "white"
           }
          },
          "shapedefaults": {
           "line": {
            "color": "#2a3f5f"
           }
          },
          "ternary": {
           "aaxis": {
            "gridcolor": "white",
            "linecolor": "white",
            "ticks": ""
           },
           "baxis": {
            "gridcolor": "white",
            "linecolor": "white",
            "ticks": ""
           },
           "bgcolor": "#E5ECF6",
           "caxis": {
            "gridcolor": "white",
            "linecolor": "white",
            "ticks": ""
           }
          },
          "title": {
           "x": 0.05
          },
          "xaxis": {
           "automargin": true,
           "gridcolor": "white",
           "linecolor": "white",
           "ticks": "",
           "title": {
            "standoff": 15
           },
           "zerolinecolor": "white",
           "zerolinewidth": 2
          },
          "yaxis": {
           "automargin": true,
           "gridcolor": "white",
           "linecolor": "white",
           "ticks": "",
           "title": {
            "standoff": 15
           },
           "zerolinecolor": "white",
           "zerolinewidth": 2
          }
         }
        },
        "title": {
         "text": "Positive Sales by Product and Month"
        },
        "xaxis": {
         "anchor": "y",
         "domain": [
          0,
          1
         ],
         "tickangle": -45,
         "title": {
          "text": "Year-Month"
         }
        },
        "yaxis": {
         "anchor": "x",
         "domain": [
          0,
          1
         ],
         "title": {
          "text": "Total Positive Sales (EUR)"
         }
        }
       }
      }
     },
     "metadata": {},
     "output_type": "display_data"
    }
   ],
   "source": [
    "positive_sales['Year_Month'] = positive_sales['DATE'].dt.to_period('M').astype(str)\n",
    "grouped_positive_sales_prod_month = positive_sales.groupby(['Year_Month', 'Mapped_GCK'])['Sales_EUR'].sum().reset_index()\n",
    "\n",
    "plot_sales_by_product_month(grouped_positive_sales_prod_month, 'Year_Month', 'Sales_EUR', 'Mapped_GCK', \n",
    "                            'Positive Sales by Product and Month', 'Year-Month', 'Total Positive Sales (EUR)')"
   ]
  },
  {
   "cell_type": "code",
   "execution_count": 483,
   "metadata": {},
   "outputs": [
    {
     "name": "stderr",
     "output_type": "stream",
     "text": [
      "C:\\Users\\marga\\AppData\\Local\\Temp\\ipykernel_31388\\1125194768.py:1: SettingWithCopyWarning:\n",
      "\n",
      "\n",
      "A value is trying to be set on a copy of a slice from a DataFrame.\n",
      "Try using .loc[row_indexer,col_indexer] = value instead\n",
      "\n",
      "See the caveats in the documentation: https://pandas.pydata.org/pandas-docs/stable/user_guide/indexing.html#returning-a-view-versus-a-copy\n",
      "\n",
      "C:\\Users\\marga\\AppData\\Local\\Temp\\ipykernel_31388\\1125194768.py:2: SettingWithCopyWarning:\n",
      "\n",
      "\n",
      "A value is trying to be set on a copy of a slice from a DataFrame.\n",
      "Try using .loc[row_indexer,col_indexer] = value instead\n",
      "\n",
      "See the caveats in the documentation: https://pandas.pydata.org/pandas-docs/stable/user_guide/indexing.html#returning-a-view-versus-a-copy\n",
      "\n"
     ]
    }
   ],
   "source": [
    "negative_sales['Sales_EUR']= negative_sales['Sales_EUR'].abs()\n",
    "negative_sales['Year_Month'] = negative_sales['DATE'].dt.to_period('M').astype(str)\n",
    "grouped_neg_abs_sales_prod_month = negative_sales.groupby(['Year_Month', 'Mapped_GCK'])['Sales_EUR'].sum().reset_index()"
   ]
  },
  {
   "cell_type": "code",
   "execution_count": 484,
   "metadata": {},
   "outputs": [
    {
     "data": {
      "application/vnd.plotly.v1+json": {
       "config": {
        "plotlyServerURL": "https://plot.ly"
       },
       "data": [
        {
         "line": {
          "color": "green"
         },
         "mode": "lines",
         "name": "Positive Sales - 1",
         "type": "scatter",
         "x": [
          "2018-10",
          "2018-11",
          "2018-12",
          "2019-01",
          "2019-02",
          "2019-03",
          "2019-04",
          "2019-05",
          "2019-06",
          "2019-07",
          "2019-08",
          "2019-09",
          "2019-10",
          "2019-11",
          "2019-12",
          "2020-01",
          "2020-02",
          "2020-03",
          "2020-04",
          "2020-05",
          "2020-06",
          "2020-07",
          "2020-08",
          "2020-09",
          "2020-10",
          "2020-11",
          "2020-12",
          "2021-01",
          "2021-02",
          "2021-03",
          "2021-04",
          "2021-05",
          "2021-06",
          "2021-07",
          "2021-08",
          "2021-09",
          "2021-10",
          "2021-11",
          "2021-12",
          "2022-01",
          "2022-02",
          "2022-03",
          "2022-04"
         ],
         "y": [
          36098918.79,
          5140760,
          38116343.620000005,
          27807651.78,
          34854931.1,
          33892328.89,
          39728589.550000004,
          38963877.43,
          39196785.54,
          38012231.56,
          38176979.29,
          40759693.04,
          39281415.51,
          37366577.78,
          37861124.470000006,
          34246254.15,
          33564099.71,
          39218240.660000004,
          37987498.73,
          31400212.54,
          30932519.98,
          35212730.13,
          37482085.58,
          38879360.2,
          41468812.6,
          37643611.57,
          34838544.65,
          27180432.94,
          34631039.44,
          33476138.64,
          41318966.98,
          37788314.46,
          35807084.8,
          37151947.05,
          36310917.73,
          36404446.65,
          44551027.09,
          34243167.15,
          34017131.87,
          38033044.66,
          36354986.97,
          40224084.28,
          41136195.910000004
         ]
        },
        {
         "line": {
          "color": "red"
         },
         "mode": "lines",
         "name": "Negative Sales (abs) - 1",
         "type": "scatter",
         "x": [
          "2018-12",
          "2019-01",
          "2019-02",
          "2019-03",
          "2019-04",
          "2019-05",
          "2019-06",
          "2019-07",
          "2019-08",
          "2019-09",
          "2019-10",
          "2019-11",
          "2019-12",
          "2020-01",
          "2020-02",
          "2020-03",
          "2020-04",
          "2020-05",
          "2020-06",
          "2020-10",
          "2020-12",
          "2021-02",
          "2021-04",
          "2021-05",
          "2021-06",
          "2021-07",
          "2021-08",
          "2021-09",
          "2021-10",
          "2021-11",
          "2021-12",
          "2022-01",
          "2022-02",
          "2022-03",
          "2022-04"
         ],
         "y": [
          226731.5,
          79503.43,
          61767.57,
          35525.85,
          40297.54,
          65903.14,
          90035.31,
          99659.26,
          134302.24000000002,
          156912.4,
          269116.32,
          42674.71,
          159615.1,
          129602.68,
          58220.45,
          153809.78,
          5967.410000000004,
          7.11e-15,
          35715.91,
          14958.1,
          21585.47,
          516.63,
          61569.08,
          28299.18,
          5686.33,
          21942.84,
          100.31,
          125560.07,
          68013.23,
          55771.55,
          67062.04,
          90102.6,
          61910.64,
          3677.25,
          82992.79
         ]
        }
       ],
       "layout": {
        "showlegend": true,
        "template": {
         "data": {
          "bar": [
           {
            "error_x": {
             "color": "#2a3f5f"
            },
            "error_y": {
             "color": "#2a3f5f"
            },
            "marker": {
             "line": {
              "color": "#E5ECF6",
              "width": 0.5
             },
             "pattern": {
              "fillmode": "overlay",
              "size": 10,
              "solidity": 0.2
             }
            },
            "type": "bar"
           }
          ],
          "barpolar": [
           {
            "marker": {
             "line": {
              "color": "#E5ECF6",
              "width": 0.5
             },
             "pattern": {
              "fillmode": "overlay",
              "size": 10,
              "solidity": 0.2
             }
            },
            "type": "barpolar"
           }
          ],
          "carpet": [
           {
            "aaxis": {
             "endlinecolor": "#2a3f5f",
             "gridcolor": "white",
             "linecolor": "white",
             "minorgridcolor": "white",
             "startlinecolor": "#2a3f5f"
            },
            "baxis": {
             "endlinecolor": "#2a3f5f",
             "gridcolor": "white",
             "linecolor": "white",
             "minorgridcolor": "white",
             "startlinecolor": "#2a3f5f"
            },
            "type": "carpet"
           }
          ],
          "choropleth": [
           {
            "colorbar": {
             "outlinewidth": 0,
             "ticks": ""
            },
            "type": "choropleth"
           }
          ],
          "contour": [
           {
            "colorbar": {
             "outlinewidth": 0,
             "ticks": ""
            },
            "colorscale": [
             [
              0,
              "#0d0887"
             ],
             [
              0.1111111111111111,
              "#46039f"
             ],
             [
              0.2222222222222222,
              "#7201a8"
             ],
             [
              0.3333333333333333,
              "#9c179e"
             ],
             [
              0.4444444444444444,
              "#bd3786"
             ],
             [
              0.5555555555555556,
              "#d8576b"
             ],
             [
              0.6666666666666666,
              "#ed7953"
             ],
             [
              0.7777777777777778,
              "#fb9f3a"
             ],
             [
              0.8888888888888888,
              "#fdca26"
             ],
             [
              1,
              "#f0f921"
             ]
            ],
            "type": "contour"
           }
          ],
          "contourcarpet": [
           {
            "colorbar": {
             "outlinewidth": 0,
             "ticks": ""
            },
            "type": "contourcarpet"
           }
          ],
          "heatmap": [
           {
            "colorbar": {
             "outlinewidth": 0,
             "ticks": ""
            },
            "colorscale": [
             [
              0,
              "#0d0887"
             ],
             [
              0.1111111111111111,
              "#46039f"
             ],
             [
              0.2222222222222222,
              "#7201a8"
             ],
             [
              0.3333333333333333,
              "#9c179e"
             ],
             [
              0.4444444444444444,
              "#bd3786"
             ],
             [
              0.5555555555555556,
              "#d8576b"
             ],
             [
              0.6666666666666666,
              "#ed7953"
             ],
             [
              0.7777777777777778,
              "#fb9f3a"
             ],
             [
              0.8888888888888888,
              "#fdca26"
             ],
             [
              1,
              "#f0f921"
             ]
            ],
            "type": "heatmap"
           }
          ],
          "heatmapgl": [
           {
            "colorbar": {
             "outlinewidth": 0,
             "ticks": ""
            },
            "colorscale": [
             [
              0,
              "#0d0887"
             ],
             [
              0.1111111111111111,
              "#46039f"
             ],
             [
              0.2222222222222222,
              "#7201a8"
             ],
             [
              0.3333333333333333,
              "#9c179e"
             ],
             [
              0.4444444444444444,
              "#bd3786"
             ],
             [
              0.5555555555555556,
              "#d8576b"
             ],
             [
              0.6666666666666666,
              "#ed7953"
             ],
             [
              0.7777777777777778,
              "#fb9f3a"
             ],
             [
              0.8888888888888888,
              "#fdca26"
             ],
             [
              1,
              "#f0f921"
             ]
            ],
            "type": "heatmapgl"
           }
          ],
          "histogram": [
           {
            "marker": {
             "pattern": {
              "fillmode": "overlay",
              "size": 10,
              "solidity": 0.2
             }
            },
            "type": "histogram"
           }
          ],
          "histogram2d": [
           {
            "colorbar": {
             "outlinewidth": 0,
             "ticks": ""
            },
            "colorscale": [
             [
              0,
              "#0d0887"
             ],
             [
              0.1111111111111111,
              "#46039f"
             ],
             [
              0.2222222222222222,
              "#7201a8"
             ],
             [
              0.3333333333333333,
              "#9c179e"
             ],
             [
              0.4444444444444444,
              "#bd3786"
             ],
             [
              0.5555555555555556,
              "#d8576b"
             ],
             [
              0.6666666666666666,
              "#ed7953"
             ],
             [
              0.7777777777777778,
              "#fb9f3a"
             ],
             [
              0.8888888888888888,
              "#fdca26"
             ],
             [
              1,
              "#f0f921"
             ]
            ],
            "type": "histogram2d"
           }
          ],
          "histogram2dcontour": [
           {
            "colorbar": {
             "outlinewidth": 0,
             "ticks": ""
            },
            "colorscale": [
             [
              0,
              "#0d0887"
             ],
             [
              0.1111111111111111,
              "#46039f"
             ],
             [
              0.2222222222222222,
              "#7201a8"
             ],
             [
              0.3333333333333333,
              "#9c179e"
             ],
             [
              0.4444444444444444,
              "#bd3786"
             ],
             [
              0.5555555555555556,
              "#d8576b"
             ],
             [
              0.6666666666666666,
              "#ed7953"
             ],
             [
              0.7777777777777778,
              "#fb9f3a"
             ],
             [
              0.8888888888888888,
              "#fdca26"
             ],
             [
              1,
              "#f0f921"
             ]
            ],
            "type": "histogram2dcontour"
           }
          ],
          "mesh3d": [
           {
            "colorbar": {
             "outlinewidth": 0,
             "ticks": ""
            },
            "type": "mesh3d"
           }
          ],
          "parcoords": [
           {
            "line": {
             "colorbar": {
              "outlinewidth": 0,
              "ticks": ""
             }
            },
            "type": "parcoords"
           }
          ],
          "pie": [
           {
            "automargin": true,
            "type": "pie"
           }
          ],
          "scatter": [
           {
            "fillpattern": {
             "fillmode": "overlay",
             "size": 10,
             "solidity": 0.2
            },
            "type": "scatter"
           }
          ],
          "scatter3d": [
           {
            "line": {
             "colorbar": {
              "outlinewidth": 0,
              "ticks": ""
             }
            },
            "marker": {
             "colorbar": {
              "outlinewidth": 0,
              "ticks": ""
             }
            },
            "type": "scatter3d"
           }
          ],
          "scattercarpet": [
           {
            "marker": {
             "colorbar": {
              "outlinewidth": 0,
              "ticks": ""
             }
            },
            "type": "scattercarpet"
           }
          ],
          "scattergeo": [
           {
            "marker": {
             "colorbar": {
              "outlinewidth": 0,
              "ticks": ""
             }
            },
            "type": "scattergeo"
           }
          ],
          "scattergl": [
           {
            "marker": {
             "colorbar": {
              "outlinewidth": 0,
              "ticks": ""
             }
            },
            "type": "scattergl"
           }
          ],
          "scattermapbox": [
           {
            "marker": {
             "colorbar": {
              "outlinewidth": 0,
              "ticks": ""
             }
            },
            "type": "scattermapbox"
           }
          ],
          "scatterpolar": [
           {
            "marker": {
             "colorbar": {
              "outlinewidth": 0,
              "ticks": ""
             }
            },
            "type": "scatterpolar"
           }
          ],
          "scatterpolargl": [
           {
            "marker": {
             "colorbar": {
              "outlinewidth": 0,
              "ticks": ""
             }
            },
            "type": "scatterpolargl"
           }
          ],
          "scatterternary": [
           {
            "marker": {
             "colorbar": {
              "outlinewidth": 0,
              "ticks": ""
             }
            },
            "type": "scatterternary"
           }
          ],
          "surface": [
           {
            "colorbar": {
             "outlinewidth": 0,
             "ticks": ""
            },
            "colorscale": [
             [
              0,
              "#0d0887"
             ],
             [
              0.1111111111111111,
              "#46039f"
             ],
             [
              0.2222222222222222,
              "#7201a8"
             ],
             [
              0.3333333333333333,
              "#9c179e"
             ],
             [
              0.4444444444444444,
              "#bd3786"
             ],
             [
              0.5555555555555556,
              "#d8576b"
             ],
             [
              0.6666666666666666,
              "#ed7953"
             ],
             [
              0.7777777777777778,
              "#fb9f3a"
             ],
             [
              0.8888888888888888,
              "#fdca26"
             ],
             [
              1,
              "#f0f921"
             ]
            ],
            "type": "surface"
           }
          ],
          "table": [
           {
            "cells": {
             "fill": {
              "color": "#EBF0F8"
             },
             "line": {
              "color": "white"
             }
            },
            "header": {
             "fill": {
              "color": "#C8D4E3"
             },
             "line": {
              "color": "white"
             }
            },
            "type": "table"
           }
          ]
         },
         "layout": {
          "annotationdefaults": {
           "arrowcolor": "#2a3f5f",
           "arrowhead": 0,
           "arrowwidth": 1
          },
          "autotypenumbers": "strict",
          "coloraxis": {
           "colorbar": {
            "outlinewidth": 0,
            "ticks": ""
           }
          },
          "colorscale": {
           "diverging": [
            [
             0,
             "#8e0152"
            ],
            [
             0.1,
             "#c51b7d"
            ],
            [
             0.2,
             "#de77ae"
            ],
            [
             0.3,
             "#f1b6da"
            ],
            [
             0.4,
             "#fde0ef"
            ],
            [
             0.5,
             "#f7f7f7"
            ],
            [
             0.6,
             "#e6f5d0"
            ],
            [
             0.7,
             "#b8e186"
            ],
            [
             0.8,
             "#7fbc41"
            ],
            [
             0.9,
             "#4d9221"
            ],
            [
             1,
             "#276419"
            ]
           ],
           "sequential": [
            [
             0,
             "#0d0887"
            ],
            [
             0.1111111111111111,
             "#46039f"
            ],
            [
             0.2222222222222222,
             "#7201a8"
            ],
            [
             0.3333333333333333,
             "#9c179e"
            ],
            [
             0.4444444444444444,
             "#bd3786"
            ],
            [
             0.5555555555555556,
             "#d8576b"
            ],
            [
             0.6666666666666666,
             "#ed7953"
            ],
            [
             0.7777777777777778,
             "#fb9f3a"
            ],
            [
             0.8888888888888888,
             "#fdca26"
            ],
            [
             1,
             "#f0f921"
            ]
           ],
           "sequentialminus": [
            [
             0,
             "#0d0887"
            ],
            [
             0.1111111111111111,
             "#46039f"
            ],
            [
             0.2222222222222222,
             "#7201a8"
            ],
            [
             0.3333333333333333,
             "#9c179e"
            ],
            [
             0.4444444444444444,
             "#bd3786"
            ],
            [
             0.5555555555555556,
             "#d8576b"
            ],
            [
             0.6666666666666666,
             "#ed7953"
            ],
            [
             0.7777777777777778,
             "#fb9f3a"
            ],
            [
             0.8888888888888888,
             "#fdca26"
            ],
            [
             1,
             "#f0f921"
            ]
           ]
          },
          "colorway": [
           "#636efa",
           "#EF553B",
           "#00cc96",
           "#ab63fa",
           "#FFA15A",
           "#19d3f3",
           "#FF6692",
           "#B6E880",
           "#FF97FF",
           "#FECB52"
          ],
          "font": {
           "color": "#2a3f5f"
          },
          "geo": {
           "bgcolor": "white",
           "lakecolor": "white",
           "landcolor": "#E5ECF6",
           "showlakes": true,
           "showland": true,
           "subunitcolor": "white"
          },
          "hoverlabel": {
           "align": "left"
          },
          "hovermode": "closest",
          "mapbox": {
           "style": "light"
          },
          "paper_bgcolor": "white",
          "plot_bgcolor": "#E5ECF6",
          "polar": {
           "angularaxis": {
            "gridcolor": "white",
            "linecolor": "white",
            "ticks": ""
           },
           "bgcolor": "#E5ECF6",
           "radialaxis": {
            "gridcolor": "white",
            "linecolor": "white",
            "ticks": ""
           }
          },
          "scene": {
           "xaxis": {
            "backgroundcolor": "#E5ECF6",
            "gridcolor": "white",
            "gridwidth": 2,
            "linecolor": "white",
            "showbackground": true,
            "ticks": "",
            "zerolinecolor": "white"
           },
           "yaxis": {
            "backgroundcolor": "#E5ECF6",
            "gridcolor": "white",
            "gridwidth": 2,
            "linecolor": "white",
            "showbackground": true,
            "ticks": "",
            "zerolinecolor": "white"
           },
           "zaxis": {
            "backgroundcolor": "#E5ECF6",
            "gridcolor": "white",
            "gridwidth": 2,
            "linecolor": "white",
            "showbackground": true,
            "ticks": "",
            "zerolinecolor": "white"
           }
          },
          "shapedefaults": {
           "line": {
            "color": "#2a3f5f"
           }
          },
          "ternary": {
           "aaxis": {
            "gridcolor": "white",
            "linecolor": "white",
            "ticks": ""
           },
           "baxis": {
            "gridcolor": "white",
            "linecolor": "white",
            "ticks": ""
           },
           "bgcolor": "#E5ECF6",
           "caxis": {
            "gridcolor": "white",
            "linecolor": "white",
            "ticks": ""
           }
          },
          "title": {
           "x": 0.05
          },
          "xaxis": {
           "automargin": true,
           "gridcolor": "white",
           "linecolor": "white",
           "ticks": "",
           "title": {
            "standoff": 15
           },
           "zerolinecolor": "white",
           "zerolinewidth": 2
          },
          "yaxis": {
           "automargin": true,
           "gridcolor": "white",
           "linecolor": "white",
           "ticks": "",
           "title": {
            "standoff": 15
           },
           "zerolinecolor": "white",
           "zerolinewidth": 2
          }
         }
        },
        "title": {
         "text": "Sales Comparison by Product and Month - 1"
        },
        "xaxis": {
         "tickangle": -45,
         "title": {
          "text": "Year-Month"
         }
        },
        "yaxis": {
         "title": {
          "text": "Sales EUR"
         }
        }
       }
      }
     },
     "metadata": {},
     "output_type": "display_data"
    },
    {
     "data": {
      "application/vnd.plotly.v1+json": {
       "config": {
        "plotlyServerURL": "https://plot.ly"
       },
       "data": [
        {
         "line": {
          "color": "green"
         },
         "mode": "lines",
         "name": "Positive Sales - 3",
         "type": "scatter",
         "x": [
          "2018-10",
          "2018-11",
          "2018-12",
          "2019-01",
          "2019-02",
          "2019-03",
          "2019-04",
          "2019-05",
          "2019-06",
          "2019-07",
          "2019-08",
          "2019-09",
          "2019-10",
          "2019-11",
          "2019-12",
          "2020-01",
          "2020-02",
          "2020-03",
          "2020-04",
          "2020-05",
          "2020-06",
          "2020-07",
          "2020-08",
          "2020-09",
          "2020-10",
          "2020-11",
          "2020-12",
          "2021-01",
          "2021-02",
          "2021-03",
          "2021-04",
          "2021-05",
          "2021-06",
          "2021-07",
          "2021-08",
          "2021-09",
          "2021-10",
          "2021-11",
          "2021-12",
          "2022-01",
          "2022-02",
          "2022-03",
          "2022-04"
         ],
         "y": [
          8089465.960000001,
          11870270.2,
          8739307.86,
          10708075.280000001,
          10172826.74,
          11057255.219999999,
          12319225.05,
          12809906.5,
          11546452.19,
          13421550.83,
          11385124.1,
          16584171.89,
          11474630.719999999,
          13826060.48,
          11100259.09,
          11906935.89,
          10041616.85,
          12281991.559999999,
          12033590.25,
          10708811.08,
          13322084.26,
          12813823.290000001,
          11393931.08,
          15912964.07,
          10020637.2,
          15528904.46,
          9769385.94,
          3805995.46,
          16145077.36,
          14130525,
          13461271.93,
          10301967.41,
          13652981.05,
          13288996.05,
          12386832.61,
          15876042.96,
          13800028.270000001,
          18697989.22,
          12377048.080000002,
          13797765.87,
          15670940.04,
          14320304.55,
          12093696.8
         ]
        },
        {
         "line": {
          "color": "red"
         },
         "mode": "lines",
         "name": "Negative Sales (abs) - 3",
         "type": "scatter",
         "x": [
          "2018-11",
          "2018-12",
          "2019-01",
          "2019-02",
          "2019-03",
          "2019-04",
          "2019-05",
          "2019-08",
          "2019-09",
          "2019-10",
          "2019-12",
          "2020-01",
          "2020-03",
          "2020-04",
          "2020-05",
          "2020-06",
          "2020-07",
          "2020-08",
          "2020-09",
          "2020-10",
          "2020-11",
          "2020-12",
          "2021-01",
          "2021-02",
          "2021-03",
          "2021-05",
          "2021-06",
          "2021-07",
          "2021-08",
          "2021-09",
          "2021-10",
          "2021-11",
          "2021-12",
          "2022-01",
          "2022-02",
          "2022-04"
         ],
         "y": [
          7268.6900000000005,
          2448.47,
          2774.65,
          5029.88,
          16710.65,
          1745.3,
          10961.32,
          25705.8,
          4503.78,
          91856.26999999999,
          22655.53,
          207039.55000000002,
          476.1,
          25523.4,
          178.9,
          241.9,
          38877,
          20428,
          280.9,
          16788.760000000002,
          507286.67,
          13849.949999999999,
          1675.72,
          8962.98,
          1972.2,
          3888,
          2587.6,
          800.81,
          1076.95,
          1330.7,
          2984.29,
          11169.37,
          633.5,
          43474.55,
          5722.57,
          94322.29
         ]
        }
       ],
       "layout": {
        "showlegend": true,
        "template": {
         "data": {
          "bar": [
           {
            "error_x": {
             "color": "#2a3f5f"
            },
            "error_y": {
             "color": "#2a3f5f"
            },
            "marker": {
             "line": {
              "color": "#E5ECF6",
              "width": 0.5
             },
             "pattern": {
              "fillmode": "overlay",
              "size": 10,
              "solidity": 0.2
             }
            },
            "type": "bar"
           }
          ],
          "barpolar": [
           {
            "marker": {
             "line": {
              "color": "#E5ECF6",
              "width": 0.5
             },
             "pattern": {
              "fillmode": "overlay",
              "size": 10,
              "solidity": 0.2
             }
            },
            "type": "barpolar"
           }
          ],
          "carpet": [
           {
            "aaxis": {
             "endlinecolor": "#2a3f5f",
             "gridcolor": "white",
             "linecolor": "white",
             "minorgridcolor": "white",
             "startlinecolor": "#2a3f5f"
            },
            "baxis": {
             "endlinecolor": "#2a3f5f",
             "gridcolor": "white",
             "linecolor": "white",
             "minorgridcolor": "white",
             "startlinecolor": "#2a3f5f"
            },
            "type": "carpet"
           }
          ],
          "choropleth": [
           {
            "colorbar": {
             "outlinewidth": 0,
             "ticks": ""
            },
            "type": "choropleth"
           }
          ],
          "contour": [
           {
            "colorbar": {
             "outlinewidth": 0,
             "ticks": ""
            },
            "colorscale": [
             [
              0,
              "#0d0887"
             ],
             [
              0.1111111111111111,
              "#46039f"
             ],
             [
              0.2222222222222222,
              "#7201a8"
             ],
             [
              0.3333333333333333,
              "#9c179e"
             ],
             [
              0.4444444444444444,
              "#bd3786"
             ],
             [
              0.5555555555555556,
              "#d8576b"
             ],
             [
              0.6666666666666666,
              "#ed7953"
             ],
             [
              0.7777777777777778,
              "#fb9f3a"
             ],
             [
              0.8888888888888888,
              "#fdca26"
             ],
             [
              1,
              "#f0f921"
             ]
            ],
            "type": "contour"
           }
          ],
          "contourcarpet": [
           {
            "colorbar": {
             "outlinewidth": 0,
             "ticks": ""
            },
            "type": "contourcarpet"
           }
          ],
          "heatmap": [
           {
            "colorbar": {
             "outlinewidth": 0,
             "ticks": ""
            },
            "colorscale": [
             [
              0,
              "#0d0887"
             ],
             [
              0.1111111111111111,
              "#46039f"
             ],
             [
              0.2222222222222222,
              "#7201a8"
             ],
             [
              0.3333333333333333,
              "#9c179e"
             ],
             [
              0.4444444444444444,
              "#bd3786"
             ],
             [
              0.5555555555555556,
              "#d8576b"
             ],
             [
              0.6666666666666666,
              "#ed7953"
             ],
             [
              0.7777777777777778,
              "#fb9f3a"
             ],
             [
              0.8888888888888888,
              "#fdca26"
             ],
             [
              1,
              "#f0f921"
             ]
            ],
            "type": "heatmap"
           }
          ],
          "heatmapgl": [
           {
            "colorbar": {
             "outlinewidth": 0,
             "ticks": ""
            },
            "colorscale": [
             [
              0,
              "#0d0887"
             ],
             [
              0.1111111111111111,
              "#46039f"
             ],
             [
              0.2222222222222222,
              "#7201a8"
             ],
             [
              0.3333333333333333,
              "#9c179e"
             ],
             [
              0.4444444444444444,
              "#bd3786"
             ],
             [
              0.5555555555555556,
              "#d8576b"
             ],
             [
              0.6666666666666666,
              "#ed7953"
             ],
             [
              0.7777777777777778,
              "#fb9f3a"
             ],
             [
              0.8888888888888888,
              "#fdca26"
             ],
             [
              1,
              "#f0f921"
             ]
            ],
            "type": "heatmapgl"
           }
          ],
          "histogram": [
           {
            "marker": {
             "pattern": {
              "fillmode": "overlay",
              "size": 10,
              "solidity": 0.2
             }
            },
            "type": "histogram"
           }
          ],
          "histogram2d": [
           {
            "colorbar": {
             "outlinewidth": 0,
             "ticks": ""
            },
            "colorscale": [
             [
              0,
              "#0d0887"
             ],
             [
              0.1111111111111111,
              "#46039f"
             ],
             [
              0.2222222222222222,
              "#7201a8"
             ],
             [
              0.3333333333333333,
              "#9c179e"
             ],
             [
              0.4444444444444444,
              "#bd3786"
             ],
             [
              0.5555555555555556,
              "#d8576b"
             ],
             [
              0.6666666666666666,
              "#ed7953"
             ],
             [
              0.7777777777777778,
              "#fb9f3a"
             ],
             [
              0.8888888888888888,
              "#fdca26"
             ],
             [
              1,
              "#f0f921"
             ]
            ],
            "type": "histogram2d"
           }
          ],
          "histogram2dcontour": [
           {
            "colorbar": {
             "outlinewidth": 0,
             "ticks": ""
            },
            "colorscale": [
             [
              0,
              "#0d0887"
             ],
             [
              0.1111111111111111,
              "#46039f"
             ],
             [
              0.2222222222222222,
              "#7201a8"
             ],
             [
              0.3333333333333333,
              "#9c179e"
             ],
             [
              0.4444444444444444,
              "#bd3786"
             ],
             [
              0.5555555555555556,
              "#d8576b"
             ],
             [
              0.6666666666666666,
              "#ed7953"
             ],
             [
              0.7777777777777778,
              "#fb9f3a"
             ],
             [
              0.8888888888888888,
              "#fdca26"
             ],
             [
              1,
              "#f0f921"
             ]
            ],
            "type": "histogram2dcontour"
           }
          ],
          "mesh3d": [
           {
            "colorbar": {
             "outlinewidth": 0,
             "ticks": ""
            },
            "type": "mesh3d"
           }
          ],
          "parcoords": [
           {
            "line": {
             "colorbar": {
              "outlinewidth": 0,
              "ticks": ""
             }
            },
            "type": "parcoords"
           }
          ],
          "pie": [
           {
            "automargin": true,
            "type": "pie"
           }
          ],
          "scatter": [
           {
            "fillpattern": {
             "fillmode": "overlay",
             "size": 10,
             "solidity": 0.2
            },
            "type": "scatter"
           }
          ],
          "scatter3d": [
           {
            "line": {
             "colorbar": {
              "outlinewidth": 0,
              "ticks": ""
             }
            },
            "marker": {
             "colorbar": {
              "outlinewidth": 0,
              "ticks": ""
             }
            },
            "type": "scatter3d"
           }
          ],
          "scattercarpet": [
           {
            "marker": {
             "colorbar": {
              "outlinewidth": 0,
              "ticks": ""
             }
            },
            "type": "scattercarpet"
           }
          ],
          "scattergeo": [
           {
            "marker": {
             "colorbar": {
              "outlinewidth": 0,
              "ticks": ""
             }
            },
            "type": "scattergeo"
           }
          ],
          "scattergl": [
           {
            "marker": {
             "colorbar": {
              "outlinewidth": 0,
              "ticks": ""
             }
            },
            "type": "scattergl"
           }
          ],
          "scattermapbox": [
           {
            "marker": {
             "colorbar": {
              "outlinewidth": 0,
              "ticks": ""
             }
            },
            "type": "scattermapbox"
           }
          ],
          "scatterpolar": [
           {
            "marker": {
             "colorbar": {
              "outlinewidth": 0,
              "ticks": ""
             }
            },
            "type": "scatterpolar"
           }
          ],
          "scatterpolargl": [
           {
            "marker": {
             "colorbar": {
              "outlinewidth": 0,
              "ticks": ""
             }
            },
            "type": "scatterpolargl"
           }
          ],
          "scatterternary": [
           {
            "marker": {
             "colorbar": {
              "outlinewidth": 0,
              "ticks": ""
             }
            },
            "type": "scatterternary"
           }
          ],
          "surface": [
           {
            "colorbar": {
             "outlinewidth": 0,
             "ticks": ""
            },
            "colorscale": [
             [
              0,
              "#0d0887"
             ],
             [
              0.1111111111111111,
              "#46039f"
             ],
             [
              0.2222222222222222,
              "#7201a8"
             ],
             [
              0.3333333333333333,
              "#9c179e"
             ],
             [
              0.4444444444444444,
              "#bd3786"
             ],
             [
              0.5555555555555556,
              "#d8576b"
             ],
             [
              0.6666666666666666,
              "#ed7953"
             ],
             [
              0.7777777777777778,
              "#fb9f3a"
             ],
             [
              0.8888888888888888,
              "#fdca26"
             ],
             [
              1,
              "#f0f921"
             ]
            ],
            "type": "surface"
           }
          ],
          "table": [
           {
            "cells": {
             "fill": {
              "color": "#EBF0F8"
             },
             "line": {
              "color": "white"
             }
            },
            "header": {
             "fill": {
              "color": "#C8D4E3"
             },
             "line": {
              "color": "white"
             }
            },
            "type": "table"
           }
          ]
         },
         "layout": {
          "annotationdefaults": {
           "arrowcolor": "#2a3f5f",
           "arrowhead": 0,
           "arrowwidth": 1
          },
          "autotypenumbers": "strict",
          "coloraxis": {
           "colorbar": {
            "outlinewidth": 0,
            "ticks": ""
           }
          },
          "colorscale": {
           "diverging": [
            [
             0,
             "#8e0152"
            ],
            [
             0.1,
             "#c51b7d"
            ],
            [
             0.2,
             "#de77ae"
            ],
            [
             0.3,
             "#f1b6da"
            ],
            [
             0.4,
             "#fde0ef"
            ],
            [
             0.5,
             "#f7f7f7"
            ],
            [
             0.6,
             "#e6f5d0"
            ],
            [
             0.7,
             "#b8e186"
            ],
            [
             0.8,
             "#7fbc41"
            ],
            [
             0.9,
             "#4d9221"
            ],
            [
             1,
             "#276419"
            ]
           ],
           "sequential": [
            [
             0,
             "#0d0887"
            ],
            [
             0.1111111111111111,
             "#46039f"
            ],
            [
             0.2222222222222222,
             "#7201a8"
            ],
            [
             0.3333333333333333,
             "#9c179e"
            ],
            [
             0.4444444444444444,
             "#bd3786"
            ],
            [
             0.5555555555555556,
             "#d8576b"
            ],
            [
             0.6666666666666666,
             "#ed7953"
            ],
            [
             0.7777777777777778,
             "#fb9f3a"
            ],
            [
             0.8888888888888888,
             "#fdca26"
            ],
            [
             1,
             "#f0f921"
            ]
           ],
           "sequentialminus": [
            [
             0,
             "#0d0887"
            ],
            [
             0.1111111111111111,
             "#46039f"
            ],
            [
             0.2222222222222222,
             "#7201a8"
            ],
            [
             0.3333333333333333,
             "#9c179e"
            ],
            [
             0.4444444444444444,
             "#bd3786"
            ],
            [
             0.5555555555555556,
             "#d8576b"
            ],
            [
             0.6666666666666666,
             "#ed7953"
            ],
            [
             0.7777777777777778,
             "#fb9f3a"
            ],
            [
             0.8888888888888888,
             "#fdca26"
            ],
            [
             1,
             "#f0f921"
            ]
           ]
          },
          "colorway": [
           "#636efa",
           "#EF553B",
           "#00cc96",
           "#ab63fa",
           "#FFA15A",
           "#19d3f3",
           "#FF6692",
           "#B6E880",
           "#FF97FF",
           "#FECB52"
          ],
          "font": {
           "color": "#2a3f5f"
          },
          "geo": {
           "bgcolor": "white",
           "lakecolor": "white",
           "landcolor": "#E5ECF6",
           "showlakes": true,
           "showland": true,
           "subunitcolor": "white"
          },
          "hoverlabel": {
           "align": "left"
          },
          "hovermode": "closest",
          "mapbox": {
           "style": "light"
          },
          "paper_bgcolor": "white",
          "plot_bgcolor": "#E5ECF6",
          "polar": {
           "angularaxis": {
            "gridcolor": "white",
            "linecolor": "white",
            "ticks": ""
           },
           "bgcolor": "#E5ECF6",
           "radialaxis": {
            "gridcolor": "white",
            "linecolor": "white",
            "ticks": ""
           }
          },
          "scene": {
           "xaxis": {
            "backgroundcolor": "#E5ECF6",
            "gridcolor": "white",
            "gridwidth": 2,
            "linecolor": "white",
            "showbackground": true,
            "ticks": "",
            "zerolinecolor": "white"
           },
           "yaxis": {
            "backgroundcolor": "#E5ECF6",
            "gridcolor": "white",
            "gridwidth": 2,
            "linecolor": "white",
            "showbackground": true,
            "ticks": "",
            "zerolinecolor": "white"
           },
           "zaxis": {
            "backgroundcolor": "#E5ECF6",
            "gridcolor": "white",
            "gridwidth": 2,
            "linecolor": "white",
            "showbackground": true,
            "ticks": "",
            "zerolinecolor": "white"
           }
          },
          "shapedefaults": {
           "line": {
            "color": "#2a3f5f"
           }
          },
          "ternary": {
           "aaxis": {
            "gridcolor": "white",
            "linecolor": "white",
            "ticks": ""
           },
           "baxis": {
            "gridcolor": "white",
            "linecolor": "white",
            "ticks": ""
           },
           "bgcolor": "#E5ECF6",
           "caxis": {
            "gridcolor": "white",
            "linecolor": "white",
            "ticks": ""
           }
          },
          "title": {
           "x": 0.05
          },
          "xaxis": {
           "automargin": true,
           "gridcolor": "white",
           "linecolor": "white",
           "ticks": "",
           "title": {
            "standoff": 15
           },
           "zerolinecolor": "white",
           "zerolinewidth": 2
          },
          "yaxis": {
           "automargin": true,
           "gridcolor": "white",
           "linecolor": "white",
           "ticks": "",
           "title": {
            "standoff": 15
           },
           "zerolinecolor": "white",
           "zerolinewidth": 2
          }
         }
        },
        "title": {
         "text": "Sales Comparison by Product and Month - 3"
        },
        "xaxis": {
         "tickangle": -45,
         "title": {
          "text": "Year-Month"
         }
        },
        "yaxis": {
         "title": {
          "text": "Sales EUR"
         }
        }
       }
      }
     },
     "metadata": {},
     "output_type": "display_data"
    },
    {
     "data": {
      "application/vnd.plotly.v1+json": {
       "config": {
        "plotlyServerURL": "https://plot.ly"
       },
       "data": [
        {
         "line": {
          "color": "green"
         },
         "mode": "lines",
         "name": "Positive Sales - 4",
         "type": "scatter",
         "x": [
          "2018-10",
          "2018-11",
          "2018-12",
          "2019-01",
          "2019-02",
          "2019-03",
          "2019-04",
          "2019-05",
          "2019-06",
          "2019-07",
          "2019-08",
          "2019-09",
          "2019-10",
          "2019-11",
          "2019-12",
          "2020-01",
          "2020-02",
          "2020-03",
          "2020-04",
          "2020-05",
          "2020-06",
          "2020-07",
          "2020-08",
          "2020-09",
          "2020-10",
          "2020-11",
          "2020-12",
          "2021-01",
          "2021-02",
          "2021-03",
          "2021-04",
          "2021-05",
          "2021-06",
          "2021-07",
          "2021-08",
          "2021-09",
          "2021-10",
          "2021-11",
          "2021-12",
          "2022-01",
          "2022-02",
          "2022-03",
          "2022-04"
         ],
         "y": [
          397760.69,
          373352.33,
          436873.36,
          484435.48,
          620031.8,
          498766.86,
          428258.52,
          375671.57,
          190721.15,
          381343.41,
          303045.23,
          449113.22000000003,
          93978.25,
          298011.68,
          275968.15,
          219974.89,
          225314.22,
          197761.93,
          455693.41000000003,
          315488.98,
          329486.58,
          294401.19,
          172952.24,
          645058,
          332731.24,
          417133.31,
          303405.85,
          166532.61,
          807836.39,
          454530.24,
          298442.31,
          576541.19,
          831057.8200000001,
          436182.7,
          255407.75,
          323758.15,
          345909.79,
          290571.35,
          199921.82,
          283676.73,
          245405.49,
          406828.57,
          302778.06999999995
         ]
        },
        {
         "line": {
          "color": "red"
         },
         "mode": "lines",
         "name": "Negative Sales (abs) - 4",
         "type": "scatter",
         "x": [
          "2018-11",
          "2018-12",
          "2019-01",
          "2019-03",
          "2019-04",
          "2019-07",
          "2019-08",
          "2019-09",
          "2019-10",
          "2020-01",
          "2020-02",
          "2020-03",
          "2020-04",
          "2020-06",
          "2020-07",
          "2020-10",
          "2020-11",
          "2020-12",
          "2021-01",
          "2021-02",
          "2021-03",
          "2021-04",
          "2021-05",
          "2021-06",
          "2021-07",
          "2021-09",
          "2021-10",
          "2021-11",
          "2021-12",
          "2022-01",
          "2022-02",
          "2022-03",
          "2022-04"
         ],
         "y": [
          2029.91,
          6772.4,
          261.6,
          7123.27,
          2037.18,
          68.45,
          1071.8,
          5763.9,
          751.93,
          1351.41,
          52.08,
          91.45,
          67753.43,
          55.62,
          107.4,
          127.4,
          3575.17,
          156.26,
          1266.64,
          77.6,
          2574.83,
          2483.3900000000003,
          2833.92,
          1615.49,
          1513.09,
          377.28,
          924.06,
          64.48,
          733.07,
          45.92,
          99.36,
          428.74,
          721.03
         ]
        }
       ],
       "layout": {
        "showlegend": true,
        "template": {
         "data": {
          "bar": [
           {
            "error_x": {
             "color": "#2a3f5f"
            },
            "error_y": {
             "color": "#2a3f5f"
            },
            "marker": {
             "line": {
              "color": "#E5ECF6",
              "width": 0.5
             },
             "pattern": {
              "fillmode": "overlay",
              "size": 10,
              "solidity": 0.2
             }
            },
            "type": "bar"
           }
          ],
          "barpolar": [
           {
            "marker": {
             "line": {
              "color": "#E5ECF6",
              "width": 0.5
             },
             "pattern": {
              "fillmode": "overlay",
              "size": 10,
              "solidity": 0.2
             }
            },
            "type": "barpolar"
           }
          ],
          "carpet": [
           {
            "aaxis": {
             "endlinecolor": "#2a3f5f",
             "gridcolor": "white",
             "linecolor": "white",
             "minorgridcolor": "white",
             "startlinecolor": "#2a3f5f"
            },
            "baxis": {
             "endlinecolor": "#2a3f5f",
             "gridcolor": "white",
             "linecolor": "white",
             "minorgridcolor": "white",
             "startlinecolor": "#2a3f5f"
            },
            "type": "carpet"
           }
          ],
          "choropleth": [
           {
            "colorbar": {
             "outlinewidth": 0,
             "ticks": ""
            },
            "type": "choropleth"
           }
          ],
          "contour": [
           {
            "colorbar": {
             "outlinewidth": 0,
             "ticks": ""
            },
            "colorscale": [
             [
              0,
              "#0d0887"
             ],
             [
              0.1111111111111111,
              "#46039f"
             ],
             [
              0.2222222222222222,
              "#7201a8"
             ],
             [
              0.3333333333333333,
              "#9c179e"
             ],
             [
              0.4444444444444444,
              "#bd3786"
             ],
             [
              0.5555555555555556,
              "#d8576b"
             ],
             [
              0.6666666666666666,
              "#ed7953"
             ],
             [
              0.7777777777777778,
              "#fb9f3a"
             ],
             [
              0.8888888888888888,
              "#fdca26"
             ],
             [
              1,
              "#f0f921"
             ]
            ],
            "type": "contour"
           }
          ],
          "contourcarpet": [
           {
            "colorbar": {
             "outlinewidth": 0,
             "ticks": ""
            },
            "type": "contourcarpet"
           }
          ],
          "heatmap": [
           {
            "colorbar": {
             "outlinewidth": 0,
             "ticks": ""
            },
            "colorscale": [
             [
              0,
              "#0d0887"
             ],
             [
              0.1111111111111111,
              "#46039f"
             ],
             [
              0.2222222222222222,
              "#7201a8"
             ],
             [
              0.3333333333333333,
              "#9c179e"
             ],
             [
              0.4444444444444444,
              "#bd3786"
             ],
             [
              0.5555555555555556,
              "#d8576b"
             ],
             [
              0.6666666666666666,
              "#ed7953"
             ],
             [
              0.7777777777777778,
              "#fb9f3a"
             ],
             [
              0.8888888888888888,
              "#fdca26"
             ],
             [
              1,
              "#f0f921"
             ]
            ],
            "type": "heatmap"
           }
          ],
          "heatmapgl": [
           {
            "colorbar": {
             "outlinewidth": 0,
             "ticks": ""
            },
            "colorscale": [
             [
              0,
              "#0d0887"
             ],
             [
              0.1111111111111111,
              "#46039f"
             ],
             [
              0.2222222222222222,
              "#7201a8"
             ],
             [
              0.3333333333333333,
              "#9c179e"
             ],
             [
              0.4444444444444444,
              "#bd3786"
             ],
             [
              0.5555555555555556,
              "#d8576b"
             ],
             [
              0.6666666666666666,
              "#ed7953"
             ],
             [
              0.7777777777777778,
              "#fb9f3a"
             ],
             [
              0.8888888888888888,
              "#fdca26"
             ],
             [
              1,
              "#f0f921"
             ]
            ],
            "type": "heatmapgl"
           }
          ],
          "histogram": [
           {
            "marker": {
             "pattern": {
              "fillmode": "overlay",
              "size": 10,
              "solidity": 0.2
             }
            },
            "type": "histogram"
           }
          ],
          "histogram2d": [
           {
            "colorbar": {
             "outlinewidth": 0,
             "ticks": ""
            },
            "colorscale": [
             [
              0,
              "#0d0887"
             ],
             [
              0.1111111111111111,
              "#46039f"
             ],
             [
              0.2222222222222222,
              "#7201a8"
             ],
             [
              0.3333333333333333,
              "#9c179e"
             ],
             [
              0.4444444444444444,
              "#bd3786"
             ],
             [
              0.5555555555555556,
              "#d8576b"
             ],
             [
              0.6666666666666666,
              "#ed7953"
             ],
             [
              0.7777777777777778,
              "#fb9f3a"
             ],
             [
              0.8888888888888888,
              "#fdca26"
             ],
             [
              1,
              "#f0f921"
             ]
            ],
            "type": "histogram2d"
           }
          ],
          "histogram2dcontour": [
           {
            "colorbar": {
             "outlinewidth": 0,
             "ticks": ""
            },
            "colorscale": [
             [
              0,
              "#0d0887"
             ],
             [
              0.1111111111111111,
              "#46039f"
             ],
             [
              0.2222222222222222,
              "#7201a8"
             ],
             [
              0.3333333333333333,
              "#9c179e"
             ],
             [
              0.4444444444444444,
              "#bd3786"
             ],
             [
              0.5555555555555556,
              "#d8576b"
             ],
             [
              0.6666666666666666,
              "#ed7953"
             ],
             [
              0.7777777777777778,
              "#fb9f3a"
             ],
             [
              0.8888888888888888,
              "#fdca26"
             ],
             [
              1,
              "#f0f921"
             ]
            ],
            "type": "histogram2dcontour"
           }
          ],
          "mesh3d": [
           {
            "colorbar": {
             "outlinewidth": 0,
             "ticks": ""
            },
            "type": "mesh3d"
           }
          ],
          "parcoords": [
           {
            "line": {
             "colorbar": {
              "outlinewidth": 0,
              "ticks": ""
             }
            },
            "type": "parcoords"
           }
          ],
          "pie": [
           {
            "automargin": true,
            "type": "pie"
           }
          ],
          "scatter": [
           {
            "fillpattern": {
             "fillmode": "overlay",
             "size": 10,
             "solidity": 0.2
            },
            "type": "scatter"
           }
          ],
          "scatter3d": [
           {
            "line": {
             "colorbar": {
              "outlinewidth": 0,
              "ticks": ""
             }
            },
            "marker": {
             "colorbar": {
              "outlinewidth": 0,
              "ticks": ""
             }
            },
            "type": "scatter3d"
           }
          ],
          "scattercarpet": [
           {
            "marker": {
             "colorbar": {
              "outlinewidth": 0,
              "ticks": ""
             }
            },
            "type": "scattercarpet"
           }
          ],
          "scattergeo": [
           {
            "marker": {
             "colorbar": {
              "outlinewidth": 0,
              "ticks": ""
             }
            },
            "type": "scattergeo"
           }
          ],
          "scattergl": [
           {
            "marker": {
             "colorbar": {
              "outlinewidth": 0,
              "ticks": ""
             }
            },
            "type": "scattergl"
           }
          ],
          "scattermapbox": [
           {
            "marker": {
             "colorbar": {
              "outlinewidth": 0,
              "ticks": ""
             }
            },
            "type": "scattermapbox"
           }
          ],
          "scatterpolar": [
           {
            "marker": {
             "colorbar": {
              "outlinewidth": 0,
              "ticks": ""
             }
            },
            "type": "scatterpolar"
           }
          ],
          "scatterpolargl": [
           {
            "marker": {
             "colorbar": {
              "outlinewidth": 0,
              "ticks": ""
             }
            },
            "type": "scatterpolargl"
           }
          ],
          "scatterternary": [
           {
            "marker": {
             "colorbar": {
              "outlinewidth": 0,
              "ticks": ""
             }
            },
            "type": "scatterternary"
           }
          ],
          "surface": [
           {
            "colorbar": {
             "outlinewidth": 0,
             "ticks": ""
            },
            "colorscale": [
             [
              0,
              "#0d0887"
             ],
             [
              0.1111111111111111,
              "#46039f"
             ],
             [
              0.2222222222222222,
              "#7201a8"
             ],
             [
              0.3333333333333333,
              "#9c179e"
             ],
             [
              0.4444444444444444,
              "#bd3786"
             ],
             [
              0.5555555555555556,
              "#d8576b"
             ],
             [
              0.6666666666666666,
              "#ed7953"
             ],
             [
              0.7777777777777778,
              "#fb9f3a"
             ],
             [
              0.8888888888888888,
              "#fdca26"
             ],
             [
              1,
              "#f0f921"
             ]
            ],
            "type": "surface"
           }
          ],
          "table": [
           {
            "cells": {
             "fill": {
              "color": "#EBF0F8"
             },
             "line": {
              "color": "white"
             }
            },
            "header": {
             "fill": {
              "color": "#C8D4E3"
             },
             "line": {
              "color": "white"
             }
            },
            "type": "table"
           }
          ]
         },
         "layout": {
          "annotationdefaults": {
           "arrowcolor": "#2a3f5f",
           "arrowhead": 0,
           "arrowwidth": 1
          },
          "autotypenumbers": "strict",
          "coloraxis": {
           "colorbar": {
            "outlinewidth": 0,
            "ticks": ""
           }
          },
          "colorscale": {
           "diverging": [
            [
             0,
             "#8e0152"
            ],
            [
             0.1,
             "#c51b7d"
            ],
            [
             0.2,
             "#de77ae"
            ],
            [
             0.3,
             "#f1b6da"
            ],
            [
             0.4,
             "#fde0ef"
            ],
            [
             0.5,
             "#f7f7f7"
            ],
            [
             0.6,
             "#e6f5d0"
            ],
            [
             0.7,
             "#b8e186"
            ],
            [
             0.8,
             "#7fbc41"
            ],
            [
             0.9,
             "#4d9221"
            ],
            [
             1,
             "#276419"
            ]
           ],
           "sequential": [
            [
             0,
             "#0d0887"
            ],
            [
             0.1111111111111111,
             "#46039f"
            ],
            [
             0.2222222222222222,
             "#7201a8"
            ],
            [
             0.3333333333333333,
             "#9c179e"
            ],
            [
             0.4444444444444444,
             "#bd3786"
            ],
            [
             0.5555555555555556,
             "#d8576b"
            ],
            [
             0.6666666666666666,
             "#ed7953"
            ],
            [
             0.7777777777777778,
             "#fb9f3a"
            ],
            [
             0.8888888888888888,
             "#fdca26"
            ],
            [
             1,
             "#f0f921"
            ]
           ],
           "sequentialminus": [
            [
             0,
             "#0d0887"
            ],
            [
             0.1111111111111111,
             "#46039f"
            ],
            [
             0.2222222222222222,
             "#7201a8"
            ],
            [
             0.3333333333333333,
             "#9c179e"
            ],
            [
             0.4444444444444444,
             "#bd3786"
            ],
            [
             0.5555555555555556,
             "#d8576b"
            ],
            [
             0.6666666666666666,
             "#ed7953"
            ],
            [
             0.7777777777777778,
             "#fb9f3a"
            ],
            [
             0.8888888888888888,
             "#fdca26"
            ],
            [
             1,
             "#f0f921"
            ]
           ]
          },
          "colorway": [
           "#636efa",
           "#EF553B",
           "#00cc96",
           "#ab63fa",
           "#FFA15A",
           "#19d3f3",
           "#FF6692",
           "#B6E880",
           "#FF97FF",
           "#FECB52"
          ],
          "font": {
           "color": "#2a3f5f"
          },
          "geo": {
           "bgcolor": "white",
           "lakecolor": "white",
           "landcolor": "#E5ECF6",
           "showlakes": true,
           "showland": true,
           "subunitcolor": "white"
          },
          "hoverlabel": {
           "align": "left"
          },
          "hovermode": "closest",
          "mapbox": {
           "style": "light"
          },
          "paper_bgcolor": "white",
          "plot_bgcolor": "#E5ECF6",
          "polar": {
           "angularaxis": {
            "gridcolor": "white",
            "linecolor": "white",
            "ticks": ""
           },
           "bgcolor": "#E5ECF6",
           "radialaxis": {
            "gridcolor": "white",
            "linecolor": "white",
            "ticks": ""
           }
          },
          "scene": {
           "xaxis": {
            "backgroundcolor": "#E5ECF6",
            "gridcolor": "white",
            "gridwidth": 2,
            "linecolor": "white",
            "showbackground": true,
            "ticks": "",
            "zerolinecolor": "white"
           },
           "yaxis": {
            "backgroundcolor": "#E5ECF6",
            "gridcolor": "white",
            "gridwidth": 2,
            "linecolor": "white",
            "showbackground": true,
            "ticks": "",
            "zerolinecolor": "white"
           },
           "zaxis": {
            "backgroundcolor": "#E5ECF6",
            "gridcolor": "white",
            "gridwidth": 2,
            "linecolor": "white",
            "showbackground": true,
            "ticks": "",
            "zerolinecolor": "white"
           }
          },
          "shapedefaults": {
           "line": {
            "color": "#2a3f5f"
           }
          },
          "ternary": {
           "aaxis": {
            "gridcolor": "white",
            "linecolor": "white",
            "ticks": ""
           },
           "baxis": {
            "gridcolor": "white",
            "linecolor": "white",
            "ticks": ""
           },
           "bgcolor": "#E5ECF6",
           "caxis": {
            "gridcolor": "white",
            "linecolor": "white",
            "ticks": ""
           }
          },
          "title": {
           "x": 0.05
          },
          "xaxis": {
           "automargin": true,
           "gridcolor": "white",
           "linecolor": "white",
           "ticks": "",
           "title": {
            "standoff": 15
           },
           "zerolinecolor": "white",
           "zerolinewidth": 2
          },
          "yaxis": {
           "automargin": true,
           "gridcolor": "white",
           "linecolor": "white",
           "ticks": "",
           "title": {
            "standoff": 15
           },
           "zerolinecolor": "white",
           "zerolinewidth": 2
          }
         }
        },
        "title": {
         "text": "Sales Comparison by Product and Month - 4"
        },
        "xaxis": {
         "tickangle": -45,
         "title": {
          "text": "Year-Month"
         }
        },
        "yaxis": {
         "title": {
          "text": "Sales EUR"
         }
        }
       }
      }
     },
     "metadata": {},
     "output_type": "display_data"
    },
    {
     "data": {
      "application/vnd.plotly.v1+json": {
       "config": {
        "plotlyServerURL": "https://plot.ly"
       },
       "data": [
        {
         "line": {
          "color": "green"
         },
         "mode": "lines",
         "name": "Positive Sales - 5",
         "type": "scatter",
         "x": [
          "2018-10",
          "2018-11",
          "2018-12",
          "2019-01",
          "2019-02",
          "2019-03",
          "2019-04",
          "2019-05",
          "2019-06",
          "2019-07",
          "2019-08",
          "2019-09",
          "2019-10",
          "2019-11",
          "2019-12",
          "2020-01",
          "2020-02",
          "2020-03",
          "2020-04",
          "2020-05",
          "2020-06",
          "2020-07",
          "2020-08",
          "2020-09",
          "2020-10",
          "2020-11",
          "2020-12",
          "2021-01",
          "2021-02",
          "2021-03",
          "2021-04",
          "2021-05",
          "2021-06",
          "2021-07",
          "2021-08",
          "2021-09",
          "2021-10",
          "2021-11",
          "2021-12",
          "2022-01",
          "2022-02",
          "2022-03",
          "2022-04"
         ],
         "y": [
          2499061.19,
          8993944.040000001,
          6981080.57,
          8301428.77,
          6892520.619999999,
          11933851.57,
          5937614.8,
          11413781.149999999,
          13738550.540000001,
          11189764.23,
          7663012.4799999995,
          15155155.01,
          11652205.11,
          8104241.69,
          13554688.83,
          7358142.5200000005,
          12490321.48,
          9345967.24,
          7990825.32,
          9883214.77,
          15873931.87,
          5590877.71,
          11463705.639999999,
          14160091.05,
          4652772.4399999995,
          10164950.32,
          8845742.299999999,
          1405295.36,
          16652189.63,
          11146249.81,
          7426997.640000001,
          8794595.14,
          11687229.03,
          8323704.77,
          19524640.52,
          15878203.309999999,
          11739106.18,
          9651295.45,
          8732579.69,
          7836080.63,
          7713154.79,
          14739187.18,
          8889623.190000001
         ]
        },
        {
         "line": {
          "color": "red"
         },
         "mode": "lines",
         "name": "Negative Sales (abs) - 5",
         "type": "scatter",
         "x": [
          "2018-12",
          "2019-01",
          "2019-02",
          "2019-03",
          "2019-04",
          "2019-05",
          "2019-06",
          "2019-07",
          "2019-08",
          "2019-09",
          "2019-10",
          "2019-12",
          "2020-01",
          "2020-02",
          "2020-03",
          "2020-05",
          "2020-06",
          "2020-07",
          "2020-10",
          "2020-11",
          "2021-02",
          "2021-03",
          "2021-04",
          "2021-05",
          "2021-07",
          "2021-09",
          "2021-10",
          "2021-11",
          "2021-12",
          "2022-01",
          "2022-02",
          "2022-04"
         ],
         "y": [
          33573.26,
          68223.7,
          13269.63,
          19537.94,
          223152.32,
          24107.89,
          56671.38,
          44725.2,
          17267.190000000002,
          136550.38,
          109557.64,
          59996.08,
          173783.21,
          65914.85,
          113729.56,
          10788.2,
          36.96,
          168,
          5568.13,
          76.75,
          1236.91,
          44045.23,
          341515.12,
          26999.41,
          1818.39,
          249012.51,
          266680.17,
          44924.31,
          76100.05,
          104672.3,
          37699.240000000005,
          5015.66
         ]
        }
       ],
       "layout": {
        "showlegend": true,
        "template": {
         "data": {
          "bar": [
           {
            "error_x": {
             "color": "#2a3f5f"
            },
            "error_y": {
             "color": "#2a3f5f"
            },
            "marker": {
             "line": {
              "color": "#E5ECF6",
              "width": 0.5
             },
             "pattern": {
              "fillmode": "overlay",
              "size": 10,
              "solidity": 0.2
             }
            },
            "type": "bar"
           }
          ],
          "barpolar": [
           {
            "marker": {
             "line": {
              "color": "#E5ECF6",
              "width": 0.5
             },
             "pattern": {
              "fillmode": "overlay",
              "size": 10,
              "solidity": 0.2
             }
            },
            "type": "barpolar"
           }
          ],
          "carpet": [
           {
            "aaxis": {
             "endlinecolor": "#2a3f5f",
             "gridcolor": "white",
             "linecolor": "white",
             "minorgridcolor": "white",
             "startlinecolor": "#2a3f5f"
            },
            "baxis": {
             "endlinecolor": "#2a3f5f",
             "gridcolor": "white",
             "linecolor": "white",
             "minorgridcolor": "white",
             "startlinecolor": "#2a3f5f"
            },
            "type": "carpet"
           }
          ],
          "choropleth": [
           {
            "colorbar": {
             "outlinewidth": 0,
             "ticks": ""
            },
            "type": "choropleth"
           }
          ],
          "contour": [
           {
            "colorbar": {
             "outlinewidth": 0,
             "ticks": ""
            },
            "colorscale": [
             [
              0,
              "#0d0887"
             ],
             [
              0.1111111111111111,
              "#46039f"
             ],
             [
              0.2222222222222222,
              "#7201a8"
             ],
             [
              0.3333333333333333,
              "#9c179e"
             ],
             [
              0.4444444444444444,
              "#bd3786"
             ],
             [
              0.5555555555555556,
              "#d8576b"
             ],
             [
              0.6666666666666666,
              "#ed7953"
             ],
             [
              0.7777777777777778,
              "#fb9f3a"
             ],
             [
              0.8888888888888888,
              "#fdca26"
             ],
             [
              1,
              "#f0f921"
             ]
            ],
            "type": "contour"
           }
          ],
          "contourcarpet": [
           {
            "colorbar": {
             "outlinewidth": 0,
             "ticks": ""
            },
            "type": "contourcarpet"
           }
          ],
          "heatmap": [
           {
            "colorbar": {
             "outlinewidth": 0,
             "ticks": ""
            },
            "colorscale": [
             [
              0,
              "#0d0887"
             ],
             [
              0.1111111111111111,
              "#46039f"
             ],
             [
              0.2222222222222222,
              "#7201a8"
             ],
             [
              0.3333333333333333,
              "#9c179e"
             ],
             [
              0.4444444444444444,
              "#bd3786"
             ],
             [
              0.5555555555555556,
              "#d8576b"
             ],
             [
              0.6666666666666666,
              "#ed7953"
             ],
             [
              0.7777777777777778,
              "#fb9f3a"
             ],
             [
              0.8888888888888888,
              "#fdca26"
             ],
             [
              1,
              "#f0f921"
             ]
            ],
            "type": "heatmap"
           }
          ],
          "heatmapgl": [
           {
            "colorbar": {
             "outlinewidth": 0,
             "ticks": ""
            },
            "colorscale": [
             [
              0,
              "#0d0887"
             ],
             [
              0.1111111111111111,
              "#46039f"
             ],
             [
              0.2222222222222222,
              "#7201a8"
             ],
             [
              0.3333333333333333,
              "#9c179e"
             ],
             [
              0.4444444444444444,
              "#bd3786"
             ],
             [
              0.5555555555555556,
              "#d8576b"
             ],
             [
              0.6666666666666666,
              "#ed7953"
             ],
             [
              0.7777777777777778,
              "#fb9f3a"
             ],
             [
              0.8888888888888888,
              "#fdca26"
             ],
             [
              1,
              "#f0f921"
             ]
            ],
            "type": "heatmapgl"
           }
          ],
          "histogram": [
           {
            "marker": {
             "pattern": {
              "fillmode": "overlay",
              "size": 10,
              "solidity": 0.2
             }
            },
            "type": "histogram"
           }
          ],
          "histogram2d": [
           {
            "colorbar": {
             "outlinewidth": 0,
             "ticks": ""
            },
            "colorscale": [
             [
              0,
              "#0d0887"
             ],
             [
              0.1111111111111111,
              "#46039f"
             ],
             [
              0.2222222222222222,
              "#7201a8"
             ],
             [
              0.3333333333333333,
              "#9c179e"
             ],
             [
              0.4444444444444444,
              "#bd3786"
             ],
             [
              0.5555555555555556,
              "#d8576b"
             ],
             [
              0.6666666666666666,
              "#ed7953"
             ],
             [
              0.7777777777777778,
              "#fb9f3a"
             ],
             [
              0.8888888888888888,
              "#fdca26"
             ],
             [
              1,
              "#f0f921"
             ]
            ],
            "type": "histogram2d"
           }
          ],
          "histogram2dcontour": [
           {
            "colorbar": {
             "outlinewidth": 0,
             "ticks": ""
            },
            "colorscale": [
             [
              0,
              "#0d0887"
             ],
             [
              0.1111111111111111,
              "#46039f"
             ],
             [
              0.2222222222222222,
              "#7201a8"
             ],
             [
              0.3333333333333333,
              "#9c179e"
             ],
             [
              0.4444444444444444,
              "#bd3786"
             ],
             [
              0.5555555555555556,
              "#d8576b"
             ],
             [
              0.6666666666666666,
              "#ed7953"
             ],
             [
              0.7777777777777778,
              "#fb9f3a"
             ],
             [
              0.8888888888888888,
              "#fdca26"
             ],
             [
              1,
              "#f0f921"
             ]
            ],
            "type": "histogram2dcontour"
           }
          ],
          "mesh3d": [
           {
            "colorbar": {
             "outlinewidth": 0,
             "ticks": ""
            },
            "type": "mesh3d"
           }
          ],
          "parcoords": [
           {
            "line": {
             "colorbar": {
              "outlinewidth": 0,
              "ticks": ""
             }
            },
            "type": "parcoords"
           }
          ],
          "pie": [
           {
            "automargin": true,
            "type": "pie"
           }
          ],
          "scatter": [
           {
            "fillpattern": {
             "fillmode": "overlay",
             "size": 10,
             "solidity": 0.2
            },
            "type": "scatter"
           }
          ],
          "scatter3d": [
           {
            "line": {
             "colorbar": {
              "outlinewidth": 0,
              "ticks": ""
             }
            },
            "marker": {
             "colorbar": {
              "outlinewidth": 0,
              "ticks": ""
             }
            },
            "type": "scatter3d"
           }
          ],
          "scattercarpet": [
           {
            "marker": {
             "colorbar": {
              "outlinewidth": 0,
              "ticks": ""
             }
            },
            "type": "scattercarpet"
           }
          ],
          "scattergeo": [
           {
            "marker": {
             "colorbar": {
              "outlinewidth": 0,
              "ticks": ""
             }
            },
            "type": "scattergeo"
           }
          ],
          "scattergl": [
           {
            "marker": {
             "colorbar": {
              "outlinewidth": 0,
              "ticks": ""
             }
            },
            "type": "scattergl"
           }
          ],
          "scattermapbox": [
           {
            "marker": {
             "colorbar": {
              "outlinewidth": 0,
              "ticks": ""
             }
            },
            "type": "scattermapbox"
           }
          ],
          "scatterpolar": [
           {
            "marker": {
             "colorbar": {
              "outlinewidth": 0,
              "ticks": ""
             }
            },
            "type": "scatterpolar"
           }
          ],
          "scatterpolargl": [
           {
            "marker": {
             "colorbar": {
              "outlinewidth": 0,
              "ticks": ""
             }
            },
            "type": "scatterpolargl"
           }
          ],
          "scatterternary": [
           {
            "marker": {
             "colorbar": {
              "outlinewidth": 0,
              "ticks": ""
             }
            },
            "type": "scatterternary"
           }
          ],
          "surface": [
           {
            "colorbar": {
             "outlinewidth": 0,
             "ticks": ""
            },
            "colorscale": [
             [
              0,
              "#0d0887"
             ],
             [
              0.1111111111111111,
              "#46039f"
             ],
             [
              0.2222222222222222,
              "#7201a8"
             ],
             [
              0.3333333333333333,
              "#9c179e"
             ],
             [
              0.4444444444444444,
              "#bd3786"
             ],
             [
              0.5555555555555556,
              "#d8576b"
             ],
             [
              0.6666666666666666,
              "#ed7953"
             ],
             [
              0.7777777777777778,
              "#fb9f3a"
             ],
             [
              0.8888888888888888,
              "#fdca26"
             ],
             [
              1,
              "#f0f921"
             ]
            ],
            "type": "surface"
           }
          ],
          "table": [
           {
            "cells": {
             "fill": {
              "color": "#EBF0F8"
             },
             "line": {
              "color": "white"
             }
            },
            "header": {
             "fill": {
              "color": "#C8D4E3"
             },
             "line": {
              "color": "white"
             }
            },
            "type": "table"
           }
          ]
         },
         "layout": {
          "annotationdefaults": {
           "arrowcolor": "#2a3f5f",
           "arrowhead": 0,
           "arrowwidth": 1
          },
          "autotypenumbers": "strict",
          "coloraxis": {
           "colorbar": {
            "outlinewidth": 0,
            "ticks": ""
           }
          },
          "colorscale": {
           "diverging": [
            [
             0,
             "#8e0152"
            ],
            [
             0.1,
             "#c51b7d"
            ],
            [
             0.2,
             "#de77ae"
            ],
            [
             0.3,
             "#f1b6da"
            ],
            [
             0.4,
             "#fde0ef"
            ],
            [
             0.5,
             "#f7f7f7"
            ],
            [
             0.6,
             "#e6f5d0"
            ],
            [
             0.7,
             "#b8e186"
            ],
            [
             0.8,
             "#7fbc41"
            ],
            [
             0.9,
             "#4d9221"
            ],
            [
             1,
             "#276419"
            ]
           ],
           "sequential": [
            [
             0,
             "#0d0887"
            ],
            [
             0.1111111111111111,
             "#46039f"
            ],
            [
             0.2222222222222222,
             "#7201a8"
            ],
            [
             0.3333333333333333,
             "#9c179e"
            ],
            [
             0.4444444444444444,
             "#bd3786"
            ],
            [
             0.5555555555555556,
             "#d8576b"
            ],
            [
             0.6666666666666666,
             "#ed7953"
            ],
            [
             0.7777777777777778,
             "#fb9f3a"
            ],
            [
             0.8888888888888888,
             "#fdca26"
            ],
            [
             1,
             "#f0f921"
            ]
           ],
           "sequentialminus": [
            [
             0,
             "#0d0887"
            ],
            [
             0.1111111111111111,
             "#46039f"
            ],
            [
             0.2222222222222222,
             "#7201a8"
            ],
            [
             0.3333333333333333,
             "#9c179e"
            ],
            [
             0.4444444444444444,
             "#bd3786"
            ],
            [
             0.5555555555555556,
             "#d8576b"
            ],
            [
             0.6666666666666666,
             "#ed7953"
            ],
            [
             0.7777777777777778,
             "#fb9f3a"
            ],
            [
             0.8888888888888888,
             "#fdca26"
            ],
            [
             1,
             "#f0f921"
            ]
           ]
          },
          "colorway": [
           "#636efa",
           "#EF553B",
           "#00cc96",
           "#ab63fa",
           "#FFA15A",
           "#19d3f3",
           "#FF6692",
           "#B6E880",
           "#FF97FF",
           "#FECB52"
          ],
          "font": {
           "color": "#2a3f5f"
          },
          "geo": {
           "bgcolor": "white",
           "lakecolor": "white",
           "landcolor": "#E5ECF6",
           "showlakes": true,
           "showland": true,
           "subunitcolor": "white"
          },
          "hoverlabel": {
           "align": "left"
          },
          "hovermode": "closest",
          "mapbox": {
           "style": "light"
          },
          "paper_bgcolor": "white",
          "plot_bgcolor": "#E5ECF6",
          "polar": {
           "angularaxis": {
            "gridcolor": "white",
            "linecolor": "white",
            "ticks": ""
           },
           "bgcolor": "#E5ECF6",
           "radialaxis": {
            "gridcolor": "white",
            "linecolor": "white",
            "ticks": ""
           }
          },
          "scene": {
           "xaxis": {
            "backgroundcolor": "#E5ECF6",
            "gridcolor": "white",
            "gridwidth": 2,
            "linecolor": "white",
            "showbackground": true,
            "ticks": "",
            "zerolinecolor": "white"
           },
           "yaxis": {
            "backgroundcolor": "#E5ECF6",
            "gridcolor": "white",
            "gridwidth": 2,
            "linecolor": "white",
            "showbackground": true,
            "ticks": "",
            "zerolinecolor": "white"
           },
           "zaxis": {
            "backgroundcolor": "#E5ECF6",
            "gridcolor": "white",
            "gridwidth": 2,
            "linecolor": "white",
            "showbackground": true,
            "ticks": "",
            "zerolinecolor": "white"
           }
          },
          "shapedefaults": {
           "line": {
            "color": "#2a3f5f"
           }
          },
          "ternary": {
           "aaxis": {
            "gridcolor": "white",
            "linecolor": "white",
            "ticks": ""
           },
           "baxis": {
            "gridcolor": "white",
            "linecolor": "white",
            "ticks": ""
           },
           "bgcolor": "#E5ECF6",
           "caxis": {
            "gridcolor": "white",
            "linecolor": "white",
            "ticks": ""
           }
          },
          "title": {
           "x": 0.05
          },
          "xaxis": {
           "automargin": true,
           "gridcolor": "white",
           "linecolor": "white",
           "ticks": "",
           "title": {
            "standoff": 15
           },
           "zerolinecolor": "white",
           "zerolinewidth": 2
          },
          "yaxis": {
           "automargin": true,
           "gridcolor": "white",
           "linecolor": "white",
           "ticks": "",
           "title": {
            "standoff": 15
           },
           "zerolinecolor": "white",
           "zerolinewidth": 2
          }
         }
        },
        "title": {
         "text": "Sales Comparison by Product and Month - 5"
        },
        "xaxis": {
         "tickangle": -45,
         "title": {
          "text": "Year-Month"
         }
        },
        "yaxis": {
         "title": {
          "text": "Sales EUR"
         }
        }
       }
      }
     },
     "metadata": {},
     "output_type": "display_data"
    },
    {
     "data": {
      "application/vnd.plotly.v1+json": {
       "config": {
        "plotlyServerURL": "https://plot.ly"
       },
       "data": [
        {
         "line": {
          "color": "green"
         },
         "mode": "lines",
         "name": "Positive Sales - 6",
         "type": "scatter",
         "x": [
          "2018-10",
          "2018-11",
          "2018-12",
          "2019-01",
          "2019-02",
          "2019-03",
          "2019-04",
          "2019-05",
          "2019-06",
          "2019-07",
          "2019-08",
          "2019-09",
          "2019-10",
          "2019-11",
          "2019-12",
          "2020-01",
          "2020-02",
          "2020-03",
          "2020-04",
          "2020-05",
          "2020-06",
          "2020-07",
          "2020-08",
          "2020-09",
          "2020-10",
          "2020-11",
          "2020-12",
          "2021-01",
          "2021-02",
          "2021-03",
          "2021-04",
          "2021-05",
          "2021-06",
          "2021-07",
          "2021-08",
          "2021-09",
          "2021-10",
          "2021-11",
          "2021-12",
          "2022-01",
          "2022-02",
          "2022-03",
          "2022-04"
         ],
         "y": [
          369231.6,
          473046.95999999996,
          999472.6900000002,
          598874.1,
          542037.52,
          735604.23,
          277575.12,
          315978.77,
          282963.19,
          725411.99,
          212652.06,
          499147.73,
          581767.85,
          218154.2,
          913378.8,
          313876.65,
          724398.75,
          529808.94,
          782042.98,
          750367.7,
          530492.81,
          730187.6799999999,
          847092.87,
          316929.21,
          313535.91000000003,
          335130.74,
          332556.98,
          27472.940000000002,
          515644.63,
          625100.14,
          592478.95,
          566508.34,
          490262.94,
          499338.64,
          573378.11,
          949186.44,
          196463.81,
          386462.95999999996,
          190074.96,
          157670.31,
          391142.3,
          316558.08999999997,
          333705.61
         ]
        },
        {
         "line": {
          "color": "red"
         },
         "mode": "lines",
         "name": "Negative Sales (abs) - 6",
         "type": "scatter",
         "x": [
          "2019-08",
          "2019-11",
          "2020-01",
          "2020-05",
          "2020-06",
          "2021-08",
          "2021-09",
          "2022-02",
          "2022-03"
         ],
         "y": [
          5720.89,
          36995,
          329079.61,
          4.55e-13,
          4067.63,
          43652.65,
          1281.05,
          54,
          425.88
         ]
        }
       ],
       "layout": {
        "showlegend": true,
        "template": {
         "data": {
          "bar": [
           {
            "error_x": {
             "color": "#2a3f5f"
            },
            "error_y": {
             "color": "#2a3f5f"
            },
            "marker": {
             "line": {
              "color": "#E5ECF6",
              "width": 0.5
             },
             "pattern": {
              "fillmode": "overlay",
              "size": 10,
              "solidity": 0.2
             }
            },
            "type": "bar"
           }
          ],
          "barpolar": [
           {
            "marker": {
             "line": {
              "color": "#E5ECF6",
              "width": 0.5
             },
             "pattern": {
              "fillmode": "overlay",
              "size": 10,
              "solidity": 0.2
             }
            },
            "type": "barpolar"
           }
          ],
          "carpet": [
           {
            "aaxis": {
             "endlinecolor": "#2a3f5f",
             "gridcolor": "white",
             "linecolor": "white",
             "minorgridcolor": "white",
             "startlinecolor": "#2a3f5f"
            },
            "baxis": {
             "endlinecolor": "#2a3f5f",
             "gridcolor": "white",
             "linecolor": "white",
             "minorgridcolor": "white",
             "startlinecolor": "#2a3f5f"
            },
            "type": "carpet"
           }
          ],
          "choropleth": [
           {
            "colorbar": {
             "outlinewidth": 0,
             "ticks": ""
            },
            "type": "choropleth"
           }
          ],
          "contour": [
           {
            "colorbar": {
             "outlinewidth": 0,
             "ticks": ""
            },
            "colorscale": [
             [
              0,
              "#0d0887"
             ],
             [
              0.1111111111111111,
              "#46039f"
             ],
             [
              0.2222222222222222,
              "#7201a8"
             ],
             [
              0.3333333333333333,
              "#9c179e"
             ],
             [
              0.4444444444444444,
              "#bd3786"
             ],
             [
              0.5555555555555556,
              "#d8576b"
             ],
             [
              0.6666666666666666,
              "#ed7953"
             ],
             [
              0.7777777777777778,
              "#fb9f3a"
             ],
             [
              0.8888888888888888,
              "#fdca26"
             ],
             [
              1,
              "#f0f921"
             ]
            ],
            "type": "contour"
           }
          ],
          "contourcarpet": [
           {
            "colorbar": {
             "outlinewidth": 0,
             "ticks": ""
            },
            "type": "contourcarpet"
           }
          ],
          "heatmap": [
           {
            "colorbar": {
             "outlinewidth": 0,
             "ticks": ""
            },
            "colorscale": [
             [
              0,
              "#0d0887"
             ],
             [
              0.1111111111111111,
              "#46039f"
             ],
             [
              0.2222222222222222,
              "#7201a8"
             ],
             [
              0.3333333333333333,
              "#9c179e"
             ],
             [
              0.4444444444444444,
              "#bd3786"
             ],
             [
              0.5555555555555556,
              "#d8576b"
             ],
             [
              0.6666666666666666,
              "#ed7953"
             ],
             [
              0.7777777777777778,
              "#fb9f3a"
             ],
             [
              0.8888888888888888,
              "#fdca26"
             ],
             [
              1,
              "#f0f921"
             ]
            ],
            "type": "heatmap"
           }
          ],
          "heatmapgl": [
           {
            "colorbar": {
             "outlinewidth": 0,
             "ticks": ""
            },
            "colorscale": [
             [
              0,
              "#0d0887"
             ],
             [
              0.1111111111111111,
              "#46039f"
             ],
             [
              0.2222222222222222,
              "#7201a8"
             ],
             [
              0.3333333333333333,
              "#9c179e"
             ],
             [
              0.4444444444444444,
              "#bd3786"
             ],
             [
              0.5555555555555556,
              "#d8576b"
             ],
             [
              0.6666666666666666,
              "#ed7953"
             ],
             [
              0.7777777777777778,
              "#fb9f3a"
             ],
             [
              0.8888888888888888,
              "#fdca26"
             ],
             [
              1,
              "#f0f921"
             ]
            ],
            "type": "heatmapgl"
           }
          ],
          "histogram": [
           {
            "marker": {
             "pattern": {
              "fillmode": "overlay",
              "size": 10,
              "solidity": 0.2
             }
            },
            "type": "histogram"
           }
          ],
          "histogram2d": [
           {
            "colorbar": {
             "outlinewidth": 0,
             "ticks": ""
            },
            "colorscale": [
             [
              0,
              "#0d0887"
             ],
             [
              0.1111111111111111,
              "#46039f"
             ],
             [
              0.2222222222222222,
              "#7201a8"
             ],
             [
              0.3333333333333333,
              "#9c179e"
             ],
             [
              0.4444444444444444,
              "#bd3786"
             ],
             [
              0.5555555555555556,
              "#d8576b"
             ],
             [
              0.6666666666666666,
              "#ed7953"
             ],
             [
              0.7777777777777778,
              "#fb9f3a"
             ],
             [
              0.8888888888888888,
              "#fdca26"
             ],
             [
              1,
              "#f0f921"
             ]
            ],
            "type": "histogram2d"
           }
          ],
          "histogram2dcontour": [
           {
            "colorbar": {
             "outlinewidth": 0,
             "ticks": ""
            },
            "colorscale": [
             [
              0,
              "#0d0887"
             ],
             [
              0.1111111111111111,
              "#46039f"
             ],
             [
              0.2222222222222222,
              "#7201a8"
             ],
             [
              0.3333333333333333,
              "#9c179e"
             ],
             [
              0.4444444444444444,
              "#bd3786"
             ],
             [
              0.5555555555555556,
              "#d8576b"
             ],
             [
              0.6666666666666666,
              "#ed7953"
             ],
             [
              0.7777777777777778,
              "#fb9f3a"
             ],
             [
              0.8888888888888888,
              "#fdca26"
             ],
             [
              1,
              "#f0f921"
             ]
            ],
            "type": "histogram2dcontour"
           }
          ],
          "mesh3d": [
           {
            "colorbar": {
             "outlinewidth": 0,
             "ticks": ""
            },
            "type": "mesh3d"
           }
          ],
          "parcoords": [
           {
            "line": {
             "colorbar": {
              "outlinewidth": 0,
              "ticks": ""
             }
            },
            "type": "parcoords"
           }
          ],
          "pie": [
           {
            "automargin": true,
            "type": "pie"
           }
          ],
          "scatter": [
           {
            "fillpattern": {
             "fillmode": "overlay",
             "size": 10,
             "solidity": 0.2
            },
            "type": "scatter"
           }
          ],
          "scatter3d": [
           {
            "line": {
             "colorbar": {
              "outlinewidth": 0,
              "ticks": ""
             }
            },
            "marker": {
             "colorbar": {
              "outlinewidth": 0,
              "ticks": ""
             }
            },
            "type": "scatter3d"
           }
          ],
          "scattercarpet": [
           {
            "marker": {
             "colorbar": {
              "outlinewidth": 0,
              "ticks": ""
             }
            },
            "type": "scattercarpet"
           }
          ],
          "scattergeo": [
           {
            "marker": {
             "colorbar": {
              "outlinewidth": 0,
              "ticks": ""
             }
            },
            "type": "scattergeo"
           }
          ],
          "scattergl": [
           {
            "marker": {
             "colorbar": {
              "outlinewidth": 0,
              "ticks": ""
             }
            },
            "type": "scattergl"
           }
          ],
          "scattermapbox": [
           {
            "marker": {
             "colorbar": {
              "outlinewidth": 0,
              "ticks": ""
             }
            },
            "type": "scattermapbox"
           }
          ],
          "scatterpolar": [
           {
            "marker": {
             "colorbar": {
              "outlinewidth": 0,
              "ticks": ""
             }
            },
            "type": "scatterpolar"
           }
          ],
          "scatterpolargl": [
           {
            "marker": {
             "colorbar": {
              "outlinewidth": 0,
              "ticks": ""
             }
            },
            "type": "scatterpolargl"
           }
          ],
          "scatterternary": [
           {
            "marker": {
             "colorbar": {
              "outlinewidth": 0,
              "ticks": ""
             }
            },
            "type": "scatterternary"
           }
          ],
          "surface": [
           {
            "colorbar": {
             "outlinewidth": 0,
             "ticks": ""
            },
            "colorscale": [
             [
              0,
              "#0d0887"
             ],
             [
              0.1111111111111111,
              "#46039f"
             ],
             [
              0.2222222222222222,
              "#7201a8"
             ],
             [
              0.3333333333333333,
              "#9c179e"
             ],
             [
              0.4444444444444444,
              "#bd3786"
             ],
             [
              0.5555555555555556,
              "#d8576b"
             ],
             [
              0.6666666666666666,
              "#ed7953"
             ],
             [
              0.7777777777777778,
              "#fb9f3a"
             ],
             [
              0.8888888888888888,
              "#fdca26"
             ],
             [
              1,
              "#f0f921"
             ]
            ],
            "type": "surface"
           }
          ],
          "table": [
           {
            "cells": {
             "fill": {
              "color": "#EBF0F8"
             },
             "line": {
              "color": "white"
             }
            },
            "header": {
             "fill": {
              "color": "#C8D4E3"
             },
             "line": {
              "color": "white"
             }
            },
            "type": "table"
           }
          ]
         },
         "layout": {
          "annotationdefaults": {
           "arrowcolor": "#2a3f5f",
           "arrowhead": 0,
           "arrowwidth": 1
          },
          "autotypenumbers": "strict",
          "coloraxis": {
           "colorbar": {
            "outlinewidth": 0,
            "ticks": ""
           }
          },
          "colorscale": {
           "diverging": [
            [
             0,
             "#8e0152"
            ],
            [
             0.1,
             "#c51b7d"
            ],
            [
             0.2,
             "#de77ae"
            ],
            [
             0.3,
             "#f1b6da"
            ],
            [
             0.4,
             "#fde0ef"
            ],
            [
             0.5,
             "#f7f7f7"
            ],
            [
             0.6,
             "#e6f5d0"
            ],
            [
             0.7,
             "#b8e186"
            ],
            [
             0.8,
             "#7fbc41"
            ],
            [
             0.9,
             "#4d9221"
            ],
            [
             1,
             "#276419"
            ]
           ],
           "sequential": [
            [
             0,
             "#0d0887"
            ],
            [
             0.1111111111111111,
             "#46039f"
            ],
            [
             0.2222222222222222,
             "#7201a8"
            ],
            [
             0.3333333333333333,
             "#9c179e"
            ],
            [
             0.4444444444444444,
             "#bd3786"
            ],
            [
             0.5555555555555556,
             "#d8576b"
            ],
            [
             0.6666666666666666,
             "#ed7953"
            ],
            [
             0.7777777777777778,
             "#fb9f3a"
            ],
            [
             0.8888888888888888,
             "#fdca26"
            ],
            [
             1,
             "#f0f921"
            ]
           ],
           "sequentialminus": [
            [
             0,
             "#0d0887"
            ],
            [
             0.1111111111111111,
             "#46039f"
            ],
            [
             0.2222222222222222,
             "#7201a8"
            ],
            [
             0.3333333333333333,
             "#9c179e"
            ],
            [
             0.4444444444444444,
             "#bd3786"
            ],
            [
             0.5555555555555556,
             "#d8576b"
            ],
            [
             0.6666666666666666,
             "#ed7953"
            ],
            [
             0.7777777777777778,
             "#fb9f3a"
            ],
            [
             0.8888888888888888,
             "#fdca26"
            ],
            [
             1,
             "#f0f921"
            ]
           ]
          },
          "colorway": [
           "#636efa",
           "#EF553B",
           "#00cc96",
           "#ab63fa",
           "#FFA15A",
           "#19d3f3",
           "#FF6692",
           "#B6E880",
           "#FF97FF",
           "#FECB52"
          ],
          "font": {
           "color": "#2a3f5f"
          },
          "geo": {
           "bgcolor": "white",
           "lakecolor": "white",
           "landcolor": "#E5ECF6",
           "showlakes": true,
           "showland": true,
           "subunitcolor": "white"
          },
          "hoverlabel": {
           "align": "left"
          },
          "hovermode": "closest",
          "mapbox": {
           "style": "light"
          },
          "paper_bgcolor": "white",
          "plot_bgcolor": "#E5ECF6",
          "polar": {
           "angularaxis": {
            "gridcolor": "white",
            "linecolor": "white",
            "ticks": ""
           },
           "bgcolor": "#E5ECF6",
           "radialaxis": {
            "gridcolor": "white",
            "linecolor": "white",
            "ticks": ""
           }
          },
          "scene": {
           "xaxis": {
            "backgroundcolor": "#E5ECF6",
            "gridcolor": "white",
            "gridwidth": 2,
            "linecolor": "white",
            "showbackground": true,
            "ticks": "",
            "zerolinecolor": "white"
           },
           "yaxis": {
            "backgroundcolor": "#E5ECF6",
            "gridcolor": "white",
            "gridwidth": 2,
            "linecolor": "white",
            "showbackground": true,
            "ticks": "",
            "zerolinecolor": "white"
           },
           "zaxis": {
            "backgroundcolor": "#E5ECF6",
            "gridcolor": "white",
            "gridwidth": 2,
            "linecolor": "white",
            "showbackground": true,
            "ticks": "",
            "zerolinecolor": "white"
           }
          },
          "shapedefaults": {
           "line": {
            "color": "#2a3f5f"
           }
          },
          "ternary": {
           "aaxis": {
            "gridcolor": "white",
            "linecolor": "white",
            "ticks": ""
           },
           "baxis": {
            "gridcolor": "white",
            "linecolor": "white",
            "ticks": ""
           },
           "bgcolor": "#E5ECF6",
           "caxis": {
            "gridcolor": "white",
            "linecolor": "white",
            "ticks": ""
           }
          },
          "title": {
           "x": 0.05
          },
          "xaxis": {
           "automargin": true,
           "gridcolor": "white",
           "linecolor": "white",
           "ticks": "",
           "title": {
            "standoff": 15
           },
           "zerolinecolor": "white",
           "zerolinewidth": 2
          },
          "yaxis": {
           "automargin": true,
           "gridcolor": "white",
           "linecolor": "white",
           "ticks": "",
           "title": {
            "standoff": 15
           },
           "zerolinecolor": "white",
           "zerolinewidth": 2
          }
         }
        },
        "title": {
         "text": "Sales Comparison by Product and Month - 6"
        },
        "xaxis": {
         "tickangle": -45,
         "title": {
          "text": "Year-Month"
         }
        },
        "yaxis": {
         "title": {
          "text": "Sales EUR"
         }
        }
       }
      }
     },
     "metadata": {},
     "output_type": "display_data"
    },
    {
     "data": {
      "application/vnd.plotly.v1+json": {
       "config": {
        "plotlyServerURL": "https://plot.ly"
       },
       "data": [
        {
         "line": {
          "color": "green"
         },
         "mode": "lines",
         "name": "Positive Sales - 8",
         "type": "scatter",
         "x": [
          "2018-10",
          "2018-11",
          "2018-12",
          "2019-01",
          "2019-02",
          "2019-03",
          "2019-04",
          "2019-05",
          "2019-06",
          "2019-07",
          "2019-08",
          "2019-09",
          "2019-10",
          "2019-11",
          "2019-12",
          "2020-01",
          "2020-02",
          "2020-03",
          "2020-04",
          "2020-05",
          "2020-06",
          "2020-07",
          "2020-08",
          "2020-09",
          "2020-10",
          "2020-11",
          "2020-12",
          "2021-01",
          "2021-02",
          "2021-03",
          "2021-04",
          "2021-05",
          "2021-06",
          "2021-07",
          "2021-08",
          "2021-09",
          "2021-10",
          "2021-11",
          "2021-12",
          "2022-01",
          "2022-02",
          "2022-03",
          "2022-04"
         ],
         "y": [
          586052.74,
          526792.77,
          271490.71,
          381400.15,
          368475.57,
          592288.36,
          418899.9,
          298806.83999999997,
          420707.73,
          366980.26,
          397537.2,
          1084685.92,
          111791.34,
          543893.42,
          507998.42000000004,
          323769.2,
          327179.83999999997,
          846245.78,
          302765.68,
          712746.38,
          647330.13,
          585870.47,
          917015.1799999999,
          1337657.62,
          153873.52,
          904436.89,
          1061969.46,
          305820.25999999995,
          1615468.03,
          900269.97,
          1071688.56,
          813653.21,
          1091239.79,
          1207554.52,
          1093379.99,
          2036579.98,
          356322.55,
          1142743.17,
          2655036.7800000003,
          1208090.29,
          1239171.41,
          1875688.63,
          1336220.96
         ]
        },
        {
         "line": {
          "color": "red"
         },
         "mode": "lines",
         "name": "Negative Sales (abs) - 8",
         "type": "scatter",
         "x": [
          "2018-11",
          "2019-03",
          "2019-11",
          "2019-12",
          "2020-02",
          "2020-03",
          "2020-06",
          "2020-07",
          "2020-08",
          "2021-03",
          "2021-04",
          "2021-05",
          "2021-09",
          "2021-11",
          "2022-03"
         ],
         "y": [
          500,
          1000,
          970,
          16665.7,
          205.9,
          388.02,
          47498.2,
          2712.86,
          105.42,
          659.82,
          1201.77,
          46.2,
          224.97,
          2022.65,
          2168.25
         ]
        }
       ],
       "layout": {
        "showlegend": true,
        "template": {
         "data": {
          "bar": [
           {
            "error_x": {
             "color": "#2a3f5f"
            },
            "error_y": {
             "color": "#2a3f5f"
            },
            "marker": {
             "line": {
              "color": "#E5ECF6",
              "width": 0.5
             },
             "pattern": {
              "fillmode": "overlay",
              "size": 10,
              "solidity": 0.2
             }
            },
            "type": "bar"
           }
          ],
          "barpolar": [
           {
            "marker": {
             "line": {
              "color": "#E5ECF6",
              "width": 0.5
             },
             "pattern": {
              "fillmode": "overlay",
              "size": 10,
              "solidity": 0.2
             }
            },
            "type": "barpolar"
           }
          ],
          "carpet": [
           {
            "aaxis": {
             "endlinecolor": "#2a3f5f",
             "gridcolor": "white",
             "linecolor": "white",
             "minorgridcolor": "white",
             "startlinecolor": "#2a3f5f"
            },
            "baxis": {
             "endlinecolor": "#2a3f5f",
             "gridcolor": "white",
             "linecolor": "white",
             "minorgridcolor": "white",
             "startlinecolor": "#2a3f5f"
            },
            "type": "carpet"
           }
          ],
          "choropleth": [
           {
            "colorbar": {
             "outlinewidth": 0,
             "ticks": ""
            },
            "type": "choropleth"
           }
          ],
          "contour": [
           {
            "colorbar": {
             "outlinewidth": 0,
             "ticks": ""
            },
            "colorscale": [
             [
              0,
              "#0d0887"
             ],
             [
              0.1111111111111111,
              "#46039f"
             ],
             [
              0.2222222222222222,
              "#7201a8"
             ],
             [
              0.3333333333333333,
              "#9c179e"
             ],
             [
              0.4444444444444444,
              "#bd3786"
             ],
             [
              0.5555555555555556,
              "#d8576b"
             ],
             [
              0.6666666666666666,
              "#ed7953"
             ],
             [
              0.7777777777777778,
              "#fb9f3a"
             ],
             [
              0.8888888888888888,
              "#fdca26"
             ],
             [
              1,
              "#f0f921"
             ]
            ],
            "type": "contour"
           }
          ],
          "contourcarpet": [
           {
            "colorbar": {
             "outlinewidth": 0,
             "ticks": ""
            },
            "type": "contourcarpet"
           }
          ],
          "heatmap": [
           {
            "colorbar": {
             "outlinewidth": 0,
             "ticks": ""
            },
            "colorscale": [
             [
              0,
              "#0d0887"
             ],
             [
              0.1111111111111111,
              "#46039f"
             ],
             [
              0.2222222222222222,
              "#7201a8"
             ],
             [
              0.3333333333333333,
              "#9c179e"
             ],
             [
              0.4444444444444444,
              "#bd3786"
             ],
             [
              0.5555555555555556,
              "#d8576b"
             ],
             [
              0.6666666666666666,
              "#ed7953"
             ],
             [
              0.7777777777777778,
              "#fb9f3a"
             ],
             [
              0.8888888888888888,
              "#fdca26"
             ],
             [
              1,
              "#f0f921"
             ]
            ],
            "type": "heatmap"
           }
          ],
          "heatmapgl": [
           {
            "colorbar": {
             "outlinewidth": 0,
             "ticks": ""
            },
            "colorscale": [
             [
              0,
              "#0d0887"
             ],
             [
              0.1111111111111111,
              "#46039f"
             ],
             [
              0.2222222222222222,
              "#7201a8"
             ],
             [
              0.3333333333333333,
              "#9c179e"
             ],
             [
              0.4444444444444444,
              "#bd3786"
             ],
             [
              0.5555555555555556,
              "#d8576b"
             ],
             [
              0.6666666666666666,
              "#ed7953"
             ],
             [
              0.7777777777777778,
              "#fb9f3a"
             ],
             [
              0.8888888888888888,
              "#fdca26"
             ],
             [
              1,
              "#f0f921"
             ]
            ],
            "type": "heatmapgl"
           }
          ],
          "histogram": [
           {
            "marker": {
             "pattern": {
              "fillmode": "overlay",
              "size": 10,
              "solidity": 0.2
             }
            },
            "type": "histogram"
           }
          ],
          "histogram2d": [
           {
            "colorbar": {
             "outlinewidth": 0,
             "ticks": ""
            },
            "colorscale": [
             [
              0,
              "#0d0887"
             ],
             [
              0.1111111111111111,
              "#46039f"
             ],
             [
              0.2222222222222222,
              "#7201a8"
             ],
             [
              0.3333333333333333,
              "#9c179e"
             ],
             [
              0.4444444444444444,
              "#bd3786"
             ],
             [
              0.5555555555555556,
              "#d8576b"
             ],
             [
              0.6666666666666666,
              "#ed7953"
             ],
             [
              0.7777777777777778,
              "#fb9f3a"
             ],
             [
              0.8888888888888888,
              "#fdca26"
             ],
             [
              1,
              "#f0f921"
             ]
            ],
            "type": "histogram2d"
           }
          ],
          "histogram2dcontour": [
           {
            "colorbar": {
             "outlinewidth": 0,
             "ticks": ""
            },
            "colorscale": [
             [
              0,
              "#0d0887"
             ],
             [
              0.1111111111111111,
              "#46039f"
             ],
             [
              0.2222222222222222,
              "#7201a8"
             ],
             [
              0.3333333333333333,
              "#9c179e"
             ],
             [
              0.4444444444444444,
              "#bd3786"
             ],
             [
              0.5555555555555556,
              "#d8576b"
             ],
             [
              0.6666666666666666,
              "#ed7953"
             ],
             [
              0.7777777777777778,
              "#fb9f3a"
             ],
             [
              0.8888888888888888,
              "#fdca26"
             ],
             [
              1,
              "#f0f921"
             ]
            ],
            "type": "histogram2dcontour"
           }
          ],
          "mesh3d": [
           {
            "colorbar": {
             "outlinewidth": 0,
             "ticks": ""
            },
            "type": "mesh3d"
           }
          ],
          "parcoords": [
           {
            "line": {
             "colorbar": {
              "outlinewidth": 0,
              "ticks": ""
             }
            },
            "type": "parcoords"
           }
          ],
          "pie": [
           {
            "automargin": true,
            "type": "pie"
           }
          ],
          "scatter": [
           {
            "fillpattern": {
             "fillmode": "overlay",
             "size": 10,
             "solidity": 0.2
            },
            "type": "scatter"
           }
          ],
          "scatter3d": [
           {
            "line": {
             "colorbar": {
              "outlinewidth": 0,
              "ticks": ""
             }
            },
            "marker": {
             "colorbar": {
              "outlinewidth": 0,
              "ticks": ""
             }
            },
            "type": "scatter3d"
           }
          ],
          "scattercarpet": [
           {
            "marker": {
             "colorbar": {
              "outlinewidth": 0,
              "ticks": ""
             }
            },
            "type": "scattercarpet"
           }
          ],
          "scattergeo": [
           {
            "marker": {
             "colorbar": {
              "outlinewidth": 0,
              "ticks": ""
             }
            },
            "type": "scattergeo"
           }
          ],
          "scattergl": [
           {
            "marker": {
             "colorbar": {
              "outlinewidth": 0,
              "ticks": ""
             }
            },
            "type": "scattergl"
           }
          ],
          "scattermapbox": [
           {
            "marker": {
             "colorbar": {
              "outlinewidth": 0,
              "ticks": ""
             }
            },
            "type": "scattermapbox"
           }
          ],
          "scatterpolar": [
           {
            "marker": {
             "colorbar": {
              "outlinewidth": 0,
              "ticks": ""
             }
            },
            "type": "scatterpolar"
           }
          ],
          "scatterpolargl": [
           {
            "marker": {
             "colorbar": {
              "outlinewidth": 0,
              "ticks": ""
             }
            },
            "type": "scatterpolargl"
           }
          ],
          "scatterternary": [
           {
            "marker": {
             "colorbar": {
              "outlinewidth": 0,
              "ticks": ""
             }
            },
            "type": "scatterternary"
           }
          ],
          "surface": [
           {
            "colorbar": {
             "outlinewidth": 0,
             "ticks": ""
            },
            "colorscale": [
             [
              0,
              "#0d0887"
             ],
             [
              0.1111111111111111,
              "#46039f"
             ],
             [
              0.2222222222222222,
              "#7201a8"
             ],
             [
              0.3333333333333333,
              "#9c179e"
             ],
             [
              0.4444444444444444,
              "#bd3786"
             ],
             [
              0.5555555555555556,
              "#d8576b"
             ],
             [
              0.6666666666666666,
              "#ed7953"
             ],
             [
              0.7777777777777778,
              "#fb9f3a"
             ],
             [
              0.8888888888888888,
              "#fdca26"
             ],
             [
              1,
              "#f0f921"
             ]
            ],
            "type": "surface"
           }
          ],
          "table": [
           {
            "cells": {
             "fill": {
              "color": "#EBF0F8"
             },
             "line": {
              "color": "white"
             }
            },
            "header": {
             "fill": {
              "color": "#C8D4E3"
             },
             "line": {
              "color": "white"
             }
            },
            "type": "table"
           }
          ]
         },
         "layout": {
          "annotationdefaults": {
           "arrowcolor": "#2a3f5f",
           "arrowhead": 0,
           "arrowwidth": 1
          },
          "autotypenumbers": "strict",
          "coloraxis": {
           "colorbar": {
            "outlinewidth": 0,
            "ticks": ""
           }
          },
          "colorscale": {
           "diverging": [
            [
             0,
             "#8e0152"
            ],
            [
             0.1,
             "#c51b7d"
            ],
            [
             0.2,
             "#de77ae"
            ],
            [
             0.3,
             "#f1b6da"
            ],
            [
             0.4,
             "#fde0ef"
            ],
            [
             0.5,
             "#f7f7f7"
            ],
            [
             0.6,
             "#e6f5d0"
            ],
            [
             0.7,
             "#b8e186"
            ],
            [
             0.8,
             "#7fbc41"
            ],
            [
             0.9,
             "#4d9221"
            ],
            [
             1,
             "#276419"
            ]
           ],
           "sequential": [
            [
             0,
             "#0d0887"
            ],
            [
             0.1111111111111111,
             "#46039f"
            ],
            [
             0.2222222222222222,
             "#7201a8"
            ],
            [
             0.3333333333333333,
             "#9c179e"
            ],
            [
             0.4444444444444444,
             "#bd3786"
            ],
            [
             0.5555555555555556,
             "#d8576b"
            ],
            [
             0.6666666666666666,
             "#ed7953"
            ],
            [
             0.7777777777777778,
             "#fb9f3a"
            ],
            [
             0.8888888888888888,
             "#fdca26"
            ],
            [
             1,
             "#f0f921"
            ]
           ],
           "sequentialminus": [
            [
             0,
             "#0d0887"
            ],
            [
             0.1111111111111111,
             "#46039f"
            ],
            [
             0.2222222222222222,
             "#7201a8"
            ],
            [
             0.3333333333333333,
             "#9c179e"
            ],
            [
             0.4444444444444444,
             "#bd3786"
            ],
            [
             0.5555555555555556,
             "#d8576b"
            ],
            [
             0.6666666666666666,
             "#ed7953"
            ],
            [
             0.7777777777777778,
             "#fb9f3a"
            ],
            [
             0.8888888888888888,
             "#fdca26"
            ],
            [
             1,
             "#f0f921"
            ]
           ]
          },
          "colorway": [
           "#636efa",
           "#EF553B",
           "#00cc96",
           "#ab63fa",
           "#FFA15A",
           "#19d3f3",
           "#FF6692",
           "#B6E880",
           "#FF97FF",
           "#FECB52"
          ],
          "font": {
           "color": "#2a3f5f"
          },
          "geo": {
           "bgcolor": "white",
           "lakecolor": "white",
           "landcolor": "#E5ECF6",
           "showlakes": true,
           "showland": true,
           "subunitcolor": "white"
          },
          "hoverlabel": {
           "align": "left"
          },
          "hovermode": "closest",
          "mapbox": {
           "style": "light"
          },
          "paper_bgcolor": "white",
          "plot_bgcolor": "#E5ECF6",
          "polar": {
           "angularaxis": {
            "gridcolor": "white",
            "linecolor": "white",
            "ticks": ""
           },
           "bgcolor": "#E5ECF6",
           "radialaxis": {
            "gridcolor": "white",
            "linecolor": "white",
            "ticks": ""
           }
          },
          "scene": {
           "xaxis": {
            "backgroundcolor": "#E5ECF6",
            "gridcolor": "white",
            "gridwidth": 2,
            "linecolor": "white",
            "showbackground": true,
            "ticks": "",
            "zerolinecolor": "white"
           },
           "yaxis": {
            "backgroundcolor": "#E5ECF6",
            "gridcolor": "white",
            "gridwidth": 2,
            "linecolor": "white",
            "showbackground": true,
            "ticks": "",
            "zerolinecolor": "white"
           },
           "zaxis": {
            "backgroundcolor": "#E5ECF6",
            "gridcolor": "white",
            "gridwidth": 2,
            "linecolor": "white",
            "showbackground": true,
            "ticks": "",
            "zerolinecolor": "white"
           }
          },
          "shapedefaults": {
           "line": {
            "color": "#2a3f5f"
           }
          },
          "ternary": {
           "aaxis": {
            "gridcolor": "white",
            "linecolor": "white",
            "ticks": ""
           },
           "baxis": {
            "gridcolor": "white",
            "linecolor": "white",
            "ticks": ""
           },
           "bgcolor": "#E5ECF6",
           "caxis": {
            "gridcolor": "white",
            "linecolor": "white",
            "ticks": ""
           }
          },
          "title": {
           "x": 0.05
          },
          "xaxis": {
           "automargin": true,
           "gridcolor": "white",
           "linecolor": "white",
           "ticks": "",
           "title": {
            "standoff": 15
           },
           "zerolinecolor": "white",
           "zerolinewidth": 2
          },
          "yaxis": {
           "automargin": true,
           "gridcolor": "white",
           "linecolor": "white",
           "ticks": "",
           "title": {
            "standoff": 15
           },
           "zerolinecolor": "white",
           "zerolinewidth": 2
          }
         }
        },
        "title": {
         "text": "Sales Comparison by Product and Month - 8"
        },
        "xaxis": {
         "tickangle": -45,
         "title": {
          "text": "Year-Month"
         }
        },
        "yaxis": {
         "title": {
          "text": "Sales EUR"
         }
        }
       }
      }
     },
     "metadata": {},
     "output_type": "display_data"
    },
    {
     "data": {
      "application/vnd.plotly.v1+json": {
       "config": {
        "plotlyServerURL": "https://plot.ly"
       },
       "data": [
        {
         "line": {
          "color": "green"
         },
         "mode": "lines",
         "name": "Positive Sales - 9",
         "type": "scatter",
         "x": [
          "2018-10",
          "2018-11",
          "2019-01",
          "2019-02",
          "2019-03",
          "2019-04",
          "2019-05",
          "2019-06",
          "2019-07",
          "2019-08",
          "2019-09",
          "2019-10",
          "2019-11",
          "2019-12",
          "2020-01",
          "2020-02",
          "2020-03",
          "2020-04",
          "2020-05",
          "2020-06",
          "2020-07",
          "2020-08",
          "2020-09",
          "2020-10",
          "2020-11",
          "2020-12",
          "2021-01",
          "2021-02",
          "2021-03",
          "2021-04",
          "2021-05",
          "2021-06",
          "2021-07",
          "2021-08",
          "2021-09",
          "2021-10",
          "2021-11",
          "2021-12",
          "2022-01",
          "2022-02",
          "2022-03",
          "2022-04"
         ],
         "y": [
          3219.32,
          1875.9,
          1487,
          3234.2799999999997,
          13050.61,
          9150.7,
          4614.08,
          4488.09,
          1766.4,
          6371.5,
          13930.26,
          555,
          24181.8,
          7611.36,
          7647.5,
          425.1,
          2233,
          1851.85,
          3764.12,
          7555.45,
          978.6400000000001,
          9907.2,
          2893.35,
          39546,
          2429.8,
          8606.5,
          625.5,
          10022.4,
          28108.88,
          16713.96,
          8026,
          7240.84,
          11295.75,
          432,
          9288,
          950,
          17018.58,
          14963.7,
          2093.2,
          930,
          4452.6,
          3285
         ]
        },
        {
         "line": {
          "color": "red"
         },
         "mode": "lines",
         "name": "Negative Sales (abs) - 9",
         "type": "scatter",
         "x": [
          "2019-04",
          "2020-04",
          "2020-07",
          "2020-10",
          "2020-11",
          "2021-09",
          "2021-10",
          "2021-11",
          "2021-12",
          "2022-01",
          "2022-02"
         ],
         "y": [
          31.05,
          375,
          35.25,
          35.25,
          6787.9,
          28.8,
          12.96,
          2983,
          28.5,
          28.5,
          28.5
         ]
        }
       ],
       "layout": {
        "showlegend": true,
        "template": {
         "data": {
          "bar": [
           {
            "error_x": {
             "color": "#2a3f5f"
            },
            "error_y": {
             "color": "#2a3f5f"
            },
            "marker": {
             "line": {
              "color": "#E5ECF6",
              "width": 0.5
             },
             "pattern": {
              "fillmode": "overlay",
              "size": 10,
              "solidity": 0.2
             }
            },
            "type": "bar"
           }
          ],
          "barpolar": [
           {
            "marker": {
             "line": {
              "color": "#E5ECF6",
              "width": 0.5
             },
             "pattern": {
              "fillmode": "overlay",
              "size": 10,
              "solidity": 0.2
             }
            },
            "type": "barpolar"
           }
          ],
          "carpet": [
           {
            "aaxis": {
             "endlinecolor": "#2a3f5f",
             "gridcolor": "white",
             "linecolor": "white",
             "minorgridcolor": "white",
             "startlinecolor": "#2a3f5f"
            },
            "baxis": {
             "endlinecolor": "#2a3f5f",
             "gridcolor": "white",
             "linecolor": "white",
             "minorgridcolor": "white",
             "startlinecolor": "#2a3f5f"
            },
            "type": "carpet"
           }
          ],
          "choropleth": [
           {
            "colorbar": {
             "outlinewidth": 0,
             "ticks": ""
            },
            "type": "choropleth"
           }
          ],
          "contour": [
           {
            "colorbar": {
             "outlinewidth": 0,
             "ticks": ""
            },
            "colorscale": [
             [
              0,
              "#0d0887"
             ],
             [
              0.1111111111111111,
              "#46039f"
             ],
             [
              0.2222222222222222,
              "#7201a8"
             ],
             [
              0.3333333333333333,
              "#9c179e"
             ],
             [
              0.4444444444444444,
              "#bd3786"
             ],
             [
              0.5555555555555556,
              "#d8576b"
             ],
             [
              0.6666666666666666,
              "#ed7953"
             ],
             [
              0.7777777777777778,
              "#fb9f3a"
             ],
             [
              0.8888888888888888,
              "#fdca26"
             ],
             [
              1,
              "#f0f921"
             ]
            ],
            "type": "contour"
           }
          ],
          "contourcarpet": [
           {
            "colorbar": {
             "outlinewidth": 0,
             "ticks": ""
            },
            "type": "contourcarpet"
           }
          ],
          "heatmap": [
           {
            "colorbar": {
             "outlinewidth": 0,
             "ticks": ""
            },
            "colorscale": [
             [
              0,
              "#0d0887"
             ],
             [
              0.1111111111111111,
              "#46039f"
             ],
             [
              0.2222222222222222,
              "#7201a8"
             ],
             [
              0.3333333333333333,
              "#9c179e"
             ],
             [
              0.4444444444444444,
              "#bd3786"
             ],
             [
              0.5555555555555556,
              "#d8576b"
             ],
             [
              0.6666666666666666,
              "#ed7953"
             ],
             [
              0.7777777777777778,
              "#fb9f3a"
             ],
             [
              0.8888888888888888,
              "#fdca26"
             ],
             [
              1,
              "#f0f921"
             ]
            ],
            "type": "heatmap"
           }
          ],
          "heatmapgl": [
           {
            "colorbar": {
             "outlinewidth": 0,
             "ticks": ""
            },
            "colorscale": [
             [
              0,
              "#0d0887"
             ],
             [
              0.1111111111111111,
              "#46039f"
             ],
             [
              0.2222222222222222,
              "#7201a8"
             ],
             [
              0.3333333333333333,
              "#9c179e"
             ],
             [
              0.4444444444444444,
              "#bd3786"
             ],
             [
              0.5555555555555556,
              "#d8576b"
             ],
             [
              0.6666666666666666,
              "#ed7953"
             ],
             [
              0.7777777777777778,
              "#fb9f3a"
             ],
             [
              0.8888888888888888,
              "#fdca26"
             ],
             [
              1,
              "#f0f921"
             ]
            ],
            "type": "heatmapgl"
           }
          ],
          "histogram": [
           {
            "marker": {
             "pattern": {
              "fillmode": "overlay",
              "size": 10,
              "solidity": 0.2
             }
            },
            "type": "histogram"
           }
          ],
          "histogram2d": [
           {
            "colorbar": {
             "outlinewidth": 0,
             "ticks": ""
            },
            "colorscale": [
             [
              0,
              "#0d0887"
             ],
             [
              0.1111111111111111,
              "#46039f"
             ],
             [
              0.2222222222222222,
              "#7201a8"
             ],
             [
              0.3333333333333333,
              "#9c179e"
             ],
             [
              0.4444444444444444,
              "#bd3786"
             ],
             [
              0.5555555555555556,
              "#d8576b"
             ],
             [
              0.6666666666666666,
              "#ed7953"
             ],
             [
              0.7777777777777778,
              "#fb9f3a"
             ],
             [
              0.8888888888888888,
              "#fdca26"
             ],
             [
              1,
              "#f0f921"
             ]
            ],
            "type": "histogram2d"
           }
          ],
          "histogram2dcontour": [
           {
            "colorbar": {
             "outlinewidth": 0,
             "ticks": ""
            },
            "colorscale": [
             [
              0,
              "#0d0887"
             ],
             [
              0.1111111111111111,
              "#46039f"
             ],
             [
              0.2222222222222222,
              "#7201a8"
             ],
             [
              0.3333333333333333,
              "#9c179e"
             ],
             [
              0.4444444444444444,
              "#bd3786"
             ],
             [
              0.5555555555555556,
              "#d8576b"
             ],
             [
              0.6666666666666666,
              "#ed7953"
             ],
             [
              0.7777777777777778,
              "#fb9f3a"
             ],
             [
              0.8888888888888888,
              "#fdca26"
             ],
             [
              1,
              "#f0f921"
             ]
            ],
            "type": "histogram2dcontour"
           }
          ],
          "mesh3d": [
           {
            "colorbar": {
             "outlinewidth": 0,
             "ticks": ""
            },
            "type": "mesh3d"
           }
          ],
          "parcoords": [
           {
            "line": {
             "colorbar": {
              "outlinewidth": 0,
              "ticks": ""
             }
            },
            "type": "parcoords"
           }
          ],
          "pie": [
           {
            "automargin": true,
            "type": "pie"
           }
          ],
          "scatter": [
           {
            "fillpattern": {
             "fillmode": "overlay",
             "size": 10,
             "solidity": 0.2
            },
            "type": "scatter"
           }
          ],
          "scatter3d": [
           {
            "line": {
             "colorbar": {
              "outlinewidth": 0,
              "ticks": ""
             }
            },
            "marker": {
             "colorbar": {
              "outlinewidth": 0,
              "ticks": ""
             }
            },
            "type": "scatter3d"
           }
          ],
          "scattercarpet": [
           {
            "marker": {
             "colorbar": {
              "outlinewidth": 0,
              "ticks": ""
             }
            },
            "type": "scattercarpet"
           }
          ],
          "scattergeo": [
           {
            "marker": {
             "colorbar": {
              "outlinewidth": 0,
              "ticks": ""
             }
            },
            "type": "scattergeo"
           }
          ],
          "scattergl": [
           {
            "marker": {
             "colorbar": {
              "outlinewidth": 0,
              "ticks": ""
             }
            },
            "type": "scattergl"
           }
          ],
          "scattermapbox": [
           {
            "marker": {
             "colorbar": {
              "outlinewidth": 0,
              "ticks": ""
             }
            },
            "type": "scattermapbox"
           }
          ],
          "scatterpolar": [
           {
            "marker": {
             "colorbar": {
              "outlinewidth": 0,
              "ticks": ""
             }
            },
            "type": "scatterpolar"
           }
          ],
          "scatterpolargl": [
           {
            "marker": {
             "colorbar": {
              "outlinewidth": 0,
              "ticks": ""
             }
            },
            "type": "scatterpolargl"
           }
          ],
          "scatterternary": [
           {
            "marker": {
             "colorbar": {
              "outlinewidth": 0,
              "ticks": ""
             }
            },
            "type": "scatterternary"
           }
          ],
          "surface": [
           {
            "colorbar": {
             "outlinewidth": 0,
             "ticks": ""
            },
            "colorscale": [
             [
              0,
              "#0d0887"
             ],
             [
              0.1111111111111111,
              "#46039f"
             ],
             [
              0.2222222222222222,
              "#7201a8"
             ],
             [
              0.3333333333333333,
              "#9c179e"
             ],
             [
              0.4444444444444444,
              "#bd3786"
             ],
             [
              0.5555555555555556,
              "#d8576b"
             ],
             [
              0.6666666666666666,
              "#ed7953"
             ],
             [
              0.7777777777777778,
              "#fb9f3a"
             ],
             [
              0.8888888888888888,
              "#fdca26"
             ],
             [
              1,
              "#f0f921"
             ]
            ],
            "type": "surface"
           }
          ],
          "table": [
           {
            "cells": {
             "fill": {
              "color": "#EBF0F8"
             },
             "line": {
              "color": "white"
             }
            },
            "header": {
             "fill": {
              "color": "#C8D4E3"
             },
             "line": {
              "color": "white"
             }
            },
            "type": "table"
           }
          ]
         },
         "layout": {
          "annotationdefaults": {
           "arrowcolor": "#2a3f5f",
           "arrowhead": 0,
           "arrowwidth": 1
          },
          "autotypenumbers": "strict",
          "coloraxis": {
           "colorbar": {
            "outlinewidth": 0,
            "ticks": ""
           }
          },
          "colorscale": {
           "diverging": [
            [
             0,
             "#8e0152"
            ],
            [
             0.1,
             "#c51b7d"
            ],
            [
             0.2,
             "#de77ae"
            ],
            [
             0.3,
             "#f1b6da"
            ],
            [
             0.4,
             "#fde0ef"
            ],
            [
             0.5,
             "#f7f7f7"
            ],
            [
             0.6,
             "#e6f5d0"
            ],
            [
             0.7,
             "#b8e186"
            ],
            [
             0.8,
             "#7fbc41"
            ],
            [
             0.9,
             "#4d9221"
            ],
            [
             1,
             "#276419"
            ]
           ],
           "sequential": [
            [
             0,
             "#0d0887"
            ],
            [
             0.1111111111111111,
             "#46039f"
            ],
            [
             0.2222222222222222,
             "#7201a8"
            ],
            [
             0.3333333333333333,
             "#9c179e"
            ],
            [
             0.4444444444444444,
             "#bd3786"
            ],
            [
             0.5555555555555556,
             "#d8576b"
            ],
            [
             0.6666666666666666,
             "#ed7953"
            ],
            [
             0.7777777777777778,
             "#fb9f3a"
            ],
            [
             0.8888888888888888,
             "#fdca26"
            ],
            [
             1,
             "#f0f921"
            ]
           ],
           "sequentialminus": [
            [
             0,
             "#0d0887"
            ],
            [
             0.1111111111111111,
             "#46039f"
            ],
            [
             0.2222222222222222,
             "#7201a8"
            ],
            [
             0.3333333333333333,
             "#9c179e"
            ],
            [
             0.4444444444444444,
             "#bd3786"
            ],
            [
             0.5555555555555556,
             "#d8576b"
            ],
            [
             0.6666666666666666,
             "#ed7953"
            ],
            [
             0.7777777777777778,
             "#fb9f3a"
            ],
            [
             0.8888888888888888,
             "#fdca26"
            ],
            [
             1,
             "#f0f921"
            ]
           ]
          },
          "colorway": [
           "#636efa",
           "#EF553B",
           "#00cc96",
           "#ab63fa",
           "#FFA15A",
           "#19d3f3",
           "#FF6692",
           "#B6E880",
           "#FF97FF",
           "#FECB52"
          ],
          "font": {
           "color": "#2a3f5f"
          },
          "geo": {
           "bgcolor": "white",
           "lakecolor": "white",
           "landcolor": "#E5ECF6",
           "showlakes": true,
           "showland": true,
           "subunitcolor": "white"
          },
          "hoverlabel": {
           "align": "left"
          },
          "hovermode": "closest",
          "mapbox": {
           "style": "light"
          },
          "paper_bgcolor": "white",
          "plot_bgcolor": "#E5ECF6",
          "polar": {
           "angularaxis": {
            "gridcolor": "white",
            "linecolor": "white",
            "ticks": ""
           },
           "bgcolor": "#E5ECF6",
           "radialaxis": {
            "gridcolor": "white",
            "linecolor": "white",
            "ticks": ""
           }
          },
          "scene": {
           "xaxis": {
            "backgroundcolor": "#E5ECF6",
            "gridcolor": "white",
            "gridwidth": 2,
            "linecolor": "white",
            "showbackground": true,
            "ticks": "",
            "zerolinecolor": "white"
           },
           "yaxis": {
            "backgroundcolor": "#E5ECF6",
            "gridcolor": "white",
            "gridwidth": 2,
            "linecolor": "white",
            "showbackground": true,
            "ticks": "",
            "zerolinecolor": "white"
           },
           "zaxis": {
            "backgroundcolor": "#E5ECF6",
            "gridcolor": "white",
            "gridwidth": 2,
            "linecolor": "white",
            "showbackground": true,
            "ticks": "",
            "zerolinecolor": "white"
           }
          },
          "shapedefaults": {
           "line": {
            "color": "#2a3f5f"
           }
          },
          "ternary": {
           "aaxis": {
            "gridcolor": "white",
            "linecolor": "white",
            "ticks": ""
           },
           "baxis": {
            "gridcolor": "white",
            "linecolor": "white",
            "ticks": ""
           },
           "bgcolor": "#E5ECF6",
           "caxis": {
            "gridcolor": "white",
            "linecolor": "white",
            "ticks": ""
           }
          },
          "title": {
           "x": 0.05
          },
          "xaxis": {
           "automargin": true,
           "gridcolor": "white",
           "linecolor": "white",
           "ticks": "",
           "title": {
            "standoff": 15
           },
           "zerolinecolor": "white",
           "zerolinewidth": 2
          },
          "yaxis": {
           "automargin": true,
           "gridcolor": "white",
           "linecolor": "white",
           "ticks": "",
           "title": {
            "standoff": 15
           },
           "zerolinecolor": "white",
           "zerolinewidth": 2
          }
         }
        },
        "title": {
         "text": "Sales Comparison by Product and Month - 9"
        },
        "xaxis": {
         "tickangle": -45,
         "title": {
          "text": "Year-Month"
         }
        },
        "yaxis": {
         "title": {
          "text": "Sales EUR"
         }
        }
       }
      }
     },
     "metadata": {},
     "output_type": "display_data"
    },
    {
     "data": {
      "application/vnd.plotly.v1+json": {
       "config": {
        "plotlyServerURL": "https://plot.ly"
       },
       "data": [
        {
         "line": {
          "color": "green"
         },
         "mode": "lines",
         "name": "Positive Sales - 11",
         "type": "scatter",
         "x": [
          "2018-10",
          "2018-11",
          "2018-12",
          "2019-01",
          "2019-02",
          "2019-03",
          "2019-04",
          "2019-05",
          "2019-06",
          "2019-07",
          "2019-08",
          "2019-09",
          "2019-10",
          "2019-11",
          "2019-12",
          "2020-01",
          "2020-02",
          "2020-03",
          "2020-04",
          "2020-05",
          "2020-06",
          "2020-07",
          "2020-08",
          "2020-09",
          "2020-10",
          "2020-11",
          "2020-12",
          "2021-01",
          "2021-02",
          "2021-03",
          "2021-04",
          "2021-05",
          "2021-06",
          "2021-07",
          "2021-08",
          "2021-09",
          "2021-10",
          "2021-11",
          "2021-12",
          "2022-01",
          "2022-02",
          "2022-03",
          "2022-04"
         ],
         "y": [
          1021303.5,
          1898844.8,
          1226122,
          2216391.74,
          610456.6,
          957023.11,
          1484281.6,
          1066063.9,
          492133.2,
          585648.14,
          2921554.87,
          3749980.46,
          228130,
          1194770.75,
          1278545.62,
          584370,
          1233609.73,
          2969948.65,
          813303.01,
          842526.1,
          2246948,
          2105975.71,
          1521580.0699999998,
          3891447.7600000002,
          973839.23,
          488891.95999999996,
          1096370.71,
          18200,
          1978335.55,
          1660211.1600000001,
          1206734.3399999999,
          1994228.4,
          991872.24,
          2253079.74,
          2715460.08,
          3795389.85,
          173771.79,
          1832753.73,
          2645689.71,
          1075255.25,
          967190.3200000001,
          2284958.4000000004,
          1126856.25
         ]
        },
        {
         "line": {
          "color": "red"
         },
         "mode": "lines",
         "name": "Negative Sales (abs) - 11",
         "type": "scatter",
         "x": [
          "2019-03",
          "2019-08",
          "2019-10",
          "2020-10",
          "2022-01",
          "2022-02",
          "2022-04"
         ],
         "y": [
          463023.3,
          22775,
          9153.22,
          2,
          20674.27,
          2518,
          587.59
         ]
        }
       ],
       "layout": {
        "showlegend": true,
        "template": {
         "data": {
          "bar": [
           {
            "error_x": {
             "color": "#2a3f5f"
            },
            "error_y": {
             "color": "#2a3f5f"
            },
            "marker": {
             "line": {
              "color": "#E5ECF6",
              "width": 0.5
             },
             "pattern": {
              "fillmode": "overlay",
              "size": 10,
              "solidity": 0.2
             }
            },
            "type": "bar"
           }
          ],
          "barpolar": [
           {
            "marker": {
             "line": {
              "color": "#E5ECF6",
              "width": 0.5
             },
             "pattern": {
              "fillmode": "overlay",
              "size": 10,
              "solidity": 0.2
             }
            },
            "type": "barpolar"
           }
          ],
          "carpet": [
           {
            "aaxis": {
             "endlinecolor": "#2a3f5f",
             "gridcolor": "white",
             "linecolor": "white",
             "minorgridcolor": "white",
             "startlinecolor": "#2a3f5f"
            },
            "baxis": {
             "endlinecolor": "#2a3f5f",
             "gridcolor": "white",
             "linecolor": "white",
             "minorgridcolor": "white",
             "startlinecolor": "#2a3f5f"
            },
            "type": "carpet"
           }
          ],
          "choropleth": [
           {
            "colorbar": {
             "outlinewidth": 0,
             "ticks": ""
            },
            "type": "choropleth"
           }
          ],
          "contour": [
           {
            "colorbar": {
             "outlinewidth": 0,
             "ticks": ""
            },
            "colorscale": [
             [
              0,
              "#0d0887"
             ],
             [
              0.1111111111111111,
              "#46039f"
             ],
             [
              0.2222222222222222,
              "#7201a8"
             ],
             [
              0.3333333333333333,
              "#9c179e"
             ],
             [
              0.4444444444444444,
              "#bd3786"
             ],
             [
              0.5555555555555556,
              "#d8576b"
             ],
             [
              0.6666666666666666,
              "#ed7953"
             ],
             [
              0.7777777777777778,
              "#fb9f3a"
             ],
             [
              0.8888888888888888,
              "#fdca26"
             ],
             [
              1,
              "#f0f921"
             ]
            ],
            "type": "contour"
           }
          ],
          "contourcarpet": [
           {
            "colorbar": {
             "outlinewidth": 0,
             "ticks": ""
            },
            "type": "contourcarpet"
           }
          ],
          "heatmap": [
           {
            "colorbar": {
             "outlinewidth": 0,
             "ticks": ""
            },
            "colorscale": [
             [
              0,
              "#0d0887"
             ],
             [
              0.1111111111111111,
              "#46039f"
             ],
             [
              0.2222222222222222,
              "#7201a8"
             ],
             [
              0.3333333333333333,
              "#9c179e"
             ],
             [
              0.4444444444444444,
              "#bd3786"
             ],
             [
              0.5555555555555556,
              "#d8576b"
             ],
             [
              0.6666666666666666,
              "#ed7953"
             ],
             [
              0.7777777777777778,
              "#fb9f3a"
             ],
             [
              0.8888888888888888,
              "#fdca26"
             ],
             [
              1,
              "#f0f921"
             ]
            ],
            "type": "heatmap"
           }
          ],
          "heatmapgl": [
           {
            "colorbar": {
             "outlinewidth": 0,
             "ticks": ""
            },
            "colorscale": [
             [
              0,
              "#0d0887"
             ],
             [
              0.1111111111111111,
              "#46039f"
             ],
             [
              0.2222222222222222,
              "#7201a8"
             ],
             [
              0.3333333333333333,
              "#9c179e"
             ],
             [
              0.4444444444444444,
              "#bd3786"
             ],
             [
              0.5555555555555556,
              "#d8576b"
             ],
             [
              0.6666666666666666,
              "#ed7953"
             ],
             [
              0.7777777777777778,
              "#fb9f3a"
             ],
             [
              0.8888888888888888,
              "#fdca26"
             ],
             [
              1,
              "#f0f921"
             ]
            ],
            "type": "heatmapgl"
           }
          ],
          "histogram": [
           {
            "marker": {
             "pattern": {
              "fillmode": "overlay",
              "size": 10,
              "solidity": 0.2
             }
            },
            "type": "histogram"
           }
          ],
          "histogram2d": [
           {
            "colorbar": {
             "outlinewidth": 0,
             "ticks": ""
            },
            "colorscale": [
             [
              0,
              "#0d0887"
             ],
             [
              0.1111111111111111,
              "#46039f"
             ],
             [
              0.2222222222222222,
              "#7201a8"
             ],
             [
              0.3333333333333333,
              "#9c179e"
             ],
             [
              0.4444444444444444,
              "#bd3786"
             ],
             [
              0.5555555555555556,
              "#d8576b"
             ],
             [
              0.6666666666666666,
              "#ed7953"
             ],
             [
              0.7777777777777778,
              "#fb9f3a"
             ],
             [
              0.8888888888888888,
              "#fdca26"
             ],
             [
              1,
              "#f0f921"
             ]
            ],
            "type": "histogram2d"
           }
          ],
          "histogram2dcontour": [
           {
            "colorbar": {
             "outlinewidth": 0,
             "ticks": ""
            },
            "colorscale": [
             [
              0,
              "#0d0887"
             ],
             [
              0.1111111111111111,
              "#46039f"
             ],
             [
              0.2222222222222222,
              "#7201a8"
             ],
             [
              0.3333333333333333,
              "#9c179e"
             ],
             [
              0.4444444444444444,
              "#bd3786"
             ],
             [
              0.5555555555555556,
              "#d8576b"
             ],
             [
              0.6666666666666666,
              "#ed7953"
             ],
             [
              0.7777777777777778,
              "#fb9f3a"
             ],
             [
              0.8888888888888888,
              "#fdca26"
             ],
             [
              1,
              "#f0f921"
             ]
            ],
            "type": "histogram2dcontour"
           }
          ],
          "mesh3d": [
           {
            "colorbar": {
             "outlinewidth": 0,
             "ticks": ""
            },
            "type": "mesh3d"
           }
          ],
          "parcoords": [
           {
            "line": {
             "colorbar": {
              "outlinewidth": 0,
              "ticks": ""
             }
            },
            "type": "parcoords"
           }
          ],
          "pie": [
           {
            "automargin": true,
            "type": "pie"
           }
          ],
          "scatter": [
           {
            "fillpattern": {
             "fillmode": "overlay",
             "size": 10,
             "solidity": 0.2
            },
            "type": "scatter"
           }
          ],
          "scatter3d": [
           {
            "line": {
             "colorbar": {
              "outlinewidth": 0,
              "ticks": ""
             }
            },
            "marker": {
             "colorbar": {
              "outlinewidth": 0,
              "ticks": ""
             }
            },
            "type": "scatter3d"
           }
          ],
          "scattercarpet": [
           {
            "marker": {
             "colorbar": {
              "outlinewidth": 0,
              "ticks": ""
             }
            },
            "type": "scattercarpet"
           }
          ],
          "scattergeo": [
           {
            "marker": {
             "colorbar": {
              "outlinewidth": 0,
              "ticks": ""
             }
            },
            "type": "scattergeo"
           }
          ],
          "scattergl": [
           {
            "marker": {
             "colorbar": {
              "outlinewidth": 0,
              "ticks": ""
             }
            },
            "type": "scattergl"
           }
          ],
          "scattermapbox": [
           {
            "marker": {
             "colorbar": {
              "outlinewidth": 0,
              "ticks": ""
             }
            },
            "type": "scattermapbox"
           }
          ],
          "scatterpolar": [
           {
            "marker": {
             "colorbar": {
              "outlinewidth": 0,
              "ticks": ""
             }
            },
            "type": "scatterpolar"
           }
          ],
          "scatterpolargl": [
           {
            "marker": {
             "colorbar": {
              "outlinewidth": 0,
              "ticks": ""
             }
            },
            "type": "scatterpolargl"
           }
          ],
          "scatterternary": [
           {
            "marker": {
             "colorbar": {
              "outlinewidth": 0,
              "ticks": ""
             }
            },
            "type": "scatterternary"
           }
          ],
          "surface": [
           {
            "colorbar": {
             "outlinewidth": 0,
             "ticks": ""
            },
            "colorscale": [
             [
              0,
              "#0d0887"
             ],
             [
              0.1111111111111111,
              "#46039f"
             ],
             [
              0.2222222222222222,
              "#7201a8"
             ],
             [
              0.3333333333333333,
              "#9c179e"
             ],
             [
              0.4444444444444444,
              "#bd3786"
             ],
             [
              0.5555555555555556,
              "#d8576b"
             ],
             [
              0.6666666666666666,
              "#ed7953"
             ],
             [
              0.7777777777777778,
              "#fb9f3a"
             ],
             [
              0.8888888888888888,
              "#fdca26"
             ],
             [
              1,
              "#f0f921"
             ]
            ],
            "type": "surface"
           }
          ],
          "table": [
           {
            "cells": {
             "fill": {
              "color": "#EBF0F8"
             },
             "line": {
              "color": "white"
             }
            },
            "header": {
             "fill": {
              "color": "#C8D4E3"
             },
             "line": {
              "color": "white"
             }
            },
            "type": "table"
           }
          ]
         },
         "layout": {
          "annotationdefaults": {
           "arrowcolor": "#2a3f5f",
           "arrowhead": 0,
           "arrowwidth": 1
          },
          "autotypenumbers": "strict",
          "coloraxis": {
           "colorbar": {
            "outlinewidth": 0,
            "ticks": ""
           }
          },
          "colorscale": {
           "diverging": [
            [
             0,
             "#8e0152"
            ],
            [
             0.1,
             "#c51b7d"
            ],
            [
             0.2,
             "#de77ae"
            ],
            [
             0.3,
             "#f1b6da"
            ],
            [
             0.4,
             "#fde0ef"
            ],
            [
             0.5,
             "#f7f7f7"
            ],
            [
             0.6,
             "#e6f5d0"
            ],
            [
             0.7,
             "#b8e186"
            ],
            [
             0.8,
             "#7fbc41"
            ],
            [
             0.9,
             "#4d9221"
            ],
            [
             1,
             "#276419"
            ]
           ],
           "sequential": [
            [
             0,
             "#0d0887"
            ],
            [
             0.1111111111111111,
             "#46039f"
            ],
            [
             0.2222222222222222,
             "#7201a8"
            ],
            [
             0.3333333333333333,
             "#9c179e"
            ],
            [
             0.4444444444444444,
             "#bd3786"
            ],
            [
             0.5555555555555556,
             "#d8576b"
            ],
            [
             0.6666666666666666,
             "#ed7953"
            ],
            [
             0.7777777777777778,
             "#fb9f3a"
            ],
            [
             0.8888888888888888,
             "#fdca26"
            ],
            [
             1,
             "#f0f921"
            ]
           ],
           "sequentialminus": [
            [
             0,
             "#0d0887"
            ],
            [
             0.1111111111111111,
             "#46039f"
            ],
            [
             0.2222222222222222,
             "#7201a8"
            ],
            [
             0.3333333333333333,
             "#9c179e"
            ],
            [
             0.4444444444444444,
             "#bd3786"
            ],
            [
             0.5555555555555556,
             "#d8576b"
            ],
            [
             0.6666666666666666,
             "#ed7953"
            ],
            [
             0.7777777777777778,
             "#fb9f3a"
            ],
            [
             0.8888888888888888,
             "#fdca26"
            ],
            [
             1,
             "#f0f921"
            ]
           ]
          },
          "colorway": [
           "#636efa",
           "#EF553B",
           "#00cc96",
           "#ab63fa",
           "#FFA15A",
           "#19d3f3",
           "#FF6692",
           "#B6E880",
           "#FF97FF",
           "#FECB52"
          ],
          "font": {
           "color": "#2a3f5f"
          },
          "geo": {
           "bgcolor": "white",
           "lakecolor": "white",
           "landcolor": "#E5ECF6",
           "showlakes": true,
           "showland": true,
           "subunitcolor": "white"
          },
          "hoverlabel": {
           "align": "left"
          },
          "hovermode": "closest",
          "mapbox": {
           "style": "light"
          },
          "paper_bgcolor": "white",
          "plot_bgcolor": "#E5ECF6",
          "polar": {
           "angularaxis": {
            "gridcolor": "white",
            "linecolor": "white",
            "ticks": ""
           },
           "bgcolor": "#E5ECF6",
           "radialaxis": {
            "gridcolor": "white",
            "linecolor": "white",
            "ticks": ""
           }
          },
          "scene": {
           "xaxis": {
            "backgroundcolor": "#E5ECF6",
            "gridcolor": "white",
            "gridwidth": 2,
            "linecolor": "white",
            "showbackground": true,
            "ticks": "",
            "zerolinecolor": "white"
           },
           "yaxis": {
            "backgroundcolor": "#E5ECF6",
            "gridcolor": "white",
            "gridwidth": 2,
            "linecolor": "white",
            "showbackground": true,
            "ticks": "",
            "zerolinecolor": "white"
           },
           "zaxis": {
            "backgroundcolor": "#E5ECF6",
            "gridcolor": "white",
            "gridwidth": 2,
            "linecolor": "white",
            "showbackground": true,
            "ticks": "",
            "zerolinecolor": "white"
           }
          },
          "shapedefaults": {
           "line": {
            "color": "#2a3f5f"
           }
          },
          "ternary": {
           "aaxis": {
            "gridcolor": "white",
            "linecolor": "white",
            "ticks": ""
           },
           "baxis": {
            "gridcolor": "white",
            "linecolor": "white",
            "ticks": ""
           },
           "bgcolor": "#E5ECF6",
           "caxis": {
            "gridcolor": "white",
            "linecolor": "white",
            "ticks": ""
           }
          },
          "title": {
           "x": 0.05
          },
          "xaxis": {
           "automargin": true,
           "gridcolor": "white",
           "linecolor": "white",
           "ticks": "",
           "title": {
            "standoff": 15
           },
           "zerolinecolor": "white",
           "zerolinewidth": 2
          },
          "yaxis": {
           "automargin": true,
           "gridcolor": "white",
           "linecolor": "white",
           "ticks": "",
           "title": {
            "standoff": 15
           },
           "zerolinecolor": "white",
           "zerolinewidth": 2
          }
         }
        },
        "title": {
         "text": "Sales Comparison by Product and Month - 11"
        },
        "xaxis": {
         "tickangle": -45,
         "title": {
          "text": "Year-Month"
         }
        },
        "yaxis": {
         "title": {
          "text": "Sales EUR"
         }
        }
       }
      }
     },
     "metadata": {},
     "output_type": "display_data"
    },
    {
     "data": {
      "application/vnd.plotly.v1+json": {
       "config": {
        "plotlyServerURL": "https://plot.ly"
       },
       "data": [
        {
         "line": {
          "color": "green"
         },
         "mode": "lines",
         "name": "Positive Sales - 12",
         "type": "scatter",
         "x": [
          "2018-10",
          "2018-11",
          "2018-12",
          "2019-01",
          "2019-02",
          "2019-03",
          "2019-04",
          "2019-05",
          "2019-06",
          "2019-07",
          "2019-08",
          "2019-09",
          "2019-10",
          "2019-11",
          "2019-12",
          "2020-01",
          "2020-02",
          "2020-03",
          "2020-04",
          "2020-05",
          "2020-06",
          "2020-07",
          "2020-08",
          "2020-09",
          "2020-10",
          "2020-11",
          "2020-12",
          "2021-01",
          "2021-02",
          "2021-03",
          "2021-04",
          "2021-05",
          "2021-06",
          "2021-07",
          "2021-08",
          "2021-09",
          "2021-10",
          "2021-11",
          "2021-12",
          "2022-01",
          "2022-02",
          "2022-03",
          "2022-04"
         ],
         "y": [
          28686.33,
          1070,
          17880.6,
          21484,
          34214.74,
          10118,
          21813.27,
          24468,
          44255.68,
          21318.48,
          19217,
          292490.4,
          140819.69,
          320942.27999999997,
          349515.29,
          213315.32,
          324443.35,
          190629.89,
          79632,
          153949.24,
          172712.88,
          110995.2,
          164108.2,
          168634.8,
          5395,
          445648.06000000006,
          271024.19,
          92754.01,
          287890.61,
          282688.33999999997,
          385267.16000000003,
          379881.93,
          327404.12,
          364134.84,
          144575.88,
          423432.68,
          217388.43,
          429825.32000000007,
          322647.82,
          149144.93,
          316478.3,
          344536.82,
          178141
         ]
        },
        {
         "line": {
          "color": "red"
         },
         "mode": "lines",
         "name": "Negative Sales (abs) - 12",
         "type": "scatter",
         "x": [
          "2020-03",
          "2020-07",
          "2021-06",
          "2021-07",
          "2021-08",
          "2021-11",
          "2022-01",
          "2022-02",
          "2022-03"
         ],
         "y": [
          4796,
          720,
          520.8,
          449.4,
          1139.25,
          1071.38,
          1464.75,
          4312.78,
          1013.4
         ]
        }
       ],
       "layout": {
        "showlegend": true,
        "template": {
         "data": {
          "bar": [
           {
            "error_x": {
             "color": "#2a3f5f"
            },
            "error_y": {
             "color": "#2a3f5f"
            },
            "marker": {
             "line": {
              "color": "#E5ECF6",
              "width": 0.5
             },
             "pattern": {
              "fillmode": "overlay",
              "size": 10,
              "solidity": 0.2
             }
            },
            "type": "bar"
           }
          ],
          "barpolar": [
           {
            "marker": {
             "line": {
              "color": "#E5ECF6",
              "width": 0.5
             },
             "pattern": {
              "fillmode": "overlay",
              "size": 10,
              "solidity": 0.2
             }
            },
            "type": "barpolar"
           }
          ],
          "carpet": [
           {
            "aaxis": {
             "endlinecolor": "#2a3f5f",
             "gridcolor": "white",
             "linecolor": "white",
             "minorgridcolor": "white",
             "startlinecolor": "#2a3f5f"
            },
            "baxis": {
             "endlinecolor": "#2a3f5f",
             "gridcolor": "white",
             "linecolor": "white",
             "minorgridcolor": "white",
             "startlinecolor": "#2a3f5f"
            },
            "type": "carpet"
           }
          ],
          "choropleth": [
           {
            "colorbar": {
             "outlinewidth": 0,
             "ticks": ""
            },
            "type": "choropleth"
           }
          ],
          "contour": [
           {
            "colorbar": {
             "outlinewidth": 0,
             "ticks": ""
            },
            "colorscale": [
             [
              0,
              "#0d0887"
             ],
             [
              0.1111111111111111,
              "#46039f"
             ],
             [
              0.2222222222222222,
              "#7201a8"
             ],
             [
              0.3333333333333333,
              "#9c179e"
             ],
             [
              0.4444444444444444,
              "#bd3786"
             ],
             [
              0.5555555555555556,
              "#d8576b"
             ],
             [
              0.6666666666666666,
              "#ed7953"
             ],
             [
              0.7777777777777778,
              "#fb9f3a"
             ],
             [
              0.8888888888888888,
              "#fdca26"
             ],
             [
              1,
              "#f0f921"
             ]
            ],
            "type": "contour"
           }
          ],
          "contourcarpet": [
           {
            "colorbar": {
             "outlinewidth": 0,
             "ticks": ""
            },
            "type": "contourcarpet"
           }
          ],
          "heatmap": [
           {
            "colorbar": {
             "outlinewidth": 0,
             "ticks": ""
            },
            "colorscale": [
             [
              0,
              "#0d0887"
             ],
             [
              0.1111111111111111,
              "#46039f"
             ],
             [
              0.2222222222222222,
              "#7201a8"
             ],
             [
              0.3333333333333333,
              "#9c179e"
             ],
             [
              0.4444444444444444,
              "#bd3786"
             ],
             [
              0.5555555555555556,
              "#d8576b"
             ],
             [
              0.6666666666666666,
              "#ed7953"
             ],
             [
              0.7777777777777778,
              "#fb9f3a"
             ],
             [
              0.8888888888888888,
              "#fdca26"
             ],
             [
              1,
              "#f0f921"
             ]
            ],
            "type": "heatmap"
           }
          ],
          "heatmapgl": [
           {
            "colorbar": {
             "outlinewidth": 0,
             "ticks": ""
            },
            "colorscale": [
             [
              0,
              "#0d0887"
             ],
             [
              0.1111111111111111,
              "#46039f"
             ],
             [
              0.2222222222222222,
              "#7201a8"
             ],
             [
              0.3333333333333333,
              "#9c179e"
             ],
             [
              0.4444444444444444,
              "#bd3786"
             ],
             [
              0.5555555555555556,
              "#d8576b"
             ],
             [
              0.6666666666666666,
              "#ed7953"
             ],
             [
              0.7777777777777778,
              "#fb9f3a"
             ],
             [
              0.8888888888888888,
              "#fdca26"
             ],
             [
              1,
              "#f0f921"
             ]
            ],
            "type": "heatmapgl"
           }
          ],
          "histogram": [
           {
            "marker": {
             "pattern": {
              "fillmode": "overlay",
              "size": 10,
              "solidity": 0.2
             }
            },
            "type": "histogram"
           }
          ],
          "histogram2d": [
           {
            "colorbar": {
             "outlinewidth": 0,
             "ticks": ""
            },
            "colorscale": [
             [
              0,
              "#0d0887"
             ],
             [
              0.1111111111111111,
              "#46039f"
             ],
             [
              0.2222222222222222,
              "#7201a8"
             ],
             [
              0.3333333333333333,
              "#9c179e"
             ],
             [
              0.4444444444444444,
              "#bd3786"
             ],
             [
              0.5555555555555556,
              "#d8576b"
             ],
             [
              0.6666666666666666,
              "#ed7953"
             ],
             [
              0.7777777777777778,
              "#fb9f3a"
             ],
             [
              0.8888888888888888,
              "#fdca26"
             ],
             [
              1,
              "#f0f921"
             ]
            ],
            "type": "histogram2d"
           }
          ],
          "histogram2dcontour": [
           {
            "colorbar": {
             "outlinewidth": 0,
             "ticks": ""
            },
            "colorscale": [
             [
              0,
              "#0d0887"
             ],
             [
              0.1111111111111111,
              "#46039f"
             ],
             [
              0.2222222222222222,
              "#7201a8"
             ],
             [
              0.3333333333333333,
              "#9c179e"
             ],
             [
              0.4444444444444444,
              "#bd3786"
             ],
             [
              0.5555555555555556,
              "#d8576b"
             ],
             [
              0.6666666666666666,
              "#ed7953"
             ],
             [
              0.7777777777777778,
              "#fb9f3a"
             ],
             [
              0.8888888888888888,
              "#fdca26"
             ],
             [
              1,
              "#f0f921"
             ]
            ],
            "type": "histogram2dcontour"
           }
          ],
          "mesh3d": [
           {
            "colorbar": {
             "outlinewidth": 0,
             "ticks": ""
            },
            "type": "mesh3d"
           }
          ],
          "parcoords": [
           {
            "line": {
             "colorbar": {
              "outlinewidth": 0,
              "ticks": ""
             }
            },
            "type": "parcoords"
           }
          ],
          "pie": [
           {
            "automargin": true,
            "type": "pie"
           }
          ],
          "scatter": [
           {
            "fillpattern": {
             "fillmode": "overlay",
             "size": 10,
             "solidity": 0.2
            },
            "type": "scatter"
           }
          ],
          "scatter3d": [
           {
            "line": {
             "colorbar": {
              "outlinewidth": 0,
              "ticks": ""
             }
            },
            "marker": {
             "colorbar": {
              "outlinewidth": 0,
              "ticks": ""
             }
            },
            "type": "scatter3d"
           }
          ],
          "scattercarpet": [
           {
            "marker": {
             "colorbar": {
              "outlinewidth": 0,
              "ticks": ""
             }
            },
            "type": "scattercarpet"
           }
          ],
          "scattergeo": [
           {
            "marker": {
             "colorbar": {
              "outlinewidth": 0,
              "ticks": ""
             }
            },
            "type": "scattergeo"
           }
          ],
          "scattergl": [
           {
            "marker": {
             "colorbar": {
              "outlinewidth": 0,
              "ticks": ""
             }
            },
            "type": "scattergl"
           }
          ],
          "scattermapbox": [
           {
            "marker": {
             "colorbar": {
              "outlinewidth": 0,
              "ticks": ""
             }
            },
            "type": "scattermapbox"
           }
          ],
          "scatterpolar": [
           {
            "marker": {
             "colorbar": {
              "outlinewidth": 0,
              "ticks": ""
             }
            },
            "type": "scatterpolar"
           }
          ],
          "scatterpolargl": [
           {
            "marker": {
             "colorbar": {
              "outlinewidth": 0,
              "ticks": ""
             }
            },
            "type": "scatterpolargl"
           }
          ],
          "scatterternary": [
           {
            "marker": {
             "colorbar": {
              "outlinewidth": 0,
              "ticks": ""
             }
            },
            "type": "scatterternary"
           }
          ],
          "surface": [
           {
            "colorbar": {
             "outlinewidth": 0,
             "ticks": ""
            },
            "colorscale": [
             [
              0,
              "#0d0887"
             ],
             [
              0.1111111111111111,
              "#46039f"
             ],
             [
              0.2222222222222222,
              "#7201a8"
             ],
             [
              0.3333333333333333,
              "#9c179e"
             ],
             [
              0.4444444444444444,
              "#bd3786"
             ],
             [
              0.5555555555555556,
              "#d8576b"
             ],
             [
              0.6666666666666666,
              "#ed7953"
             ],
             [
              0.7777777777777778,
              "#fb9f3a"
             ],
             [
              0.8888888888888888,
              "#fdca26"
             ],
             [
              1,
              "#f0f921"
             ]
            ],
            "type": "surface"
           }
          ],
          "table": [
           {
            "cells": {
             "fill": {
              "color": "#EBF0F8"
             },
             "line": {
              "color": "white"
             }
            },
            "header": {
             "fill": {
              "color": "#C8D4E3"
             },
             "line": {
              "color": "white"
             }
            },
            "type": "table"
           }
          ]
         },
         "layout": {
          "annotationdefaults": {
           "arrowcolor": "#2a3f5f",
           "arrowhead": 0,
           "arrowwidth": 1
          },
          "autotypenumbers": "strict",
          "coloraxis": {
           "colorbar": {
            "outlinewidth": 0,
            "ticks": ""
           }
          },
          "colorscale": {
           "diverging": [
            [
             0,
             "#8e0152"
            ],
            [
             0.1,
             "#c51b7d"
            ],
            [
             0.2,
             "#de77ae"
            ],
            [
             0.3,
             "#f1b6da"
            ],
            [
             0.4,
             "#fde0ef"
            ],
            [
             0.5,
             "#f7f7f7"
            ],
            [
             0.6,
             "#e6f5d0"
            ],
            [
             0.7,
             "#b8e186"
            ],
            [
             0.8,
             "#7fbc41"
            ],
            [
             0.9,
             "#4d9221"
            ],
            [
             1,
             "#276419"
            ]
           ],
           "sequential": [
            [
             0,
             "#0d0887"
            ],
            [
             0.1111111111111111,
             "#46039f"
            ],
            [
             0.2222222222222222,
             "#7201a8"
            ],
            [
             0.3333333333333333,
             "#9c179e"
            ],
            [
             0.4444444444444444,
             "#bd3786"
            ],
            [
             0.5555555555555556,
             "#d8576b"
            ],
            [
             0.6666666666666666,
             "#ed7953"
            ],
            [
             0.7777777777777778,
             "#fb9f3a"
            ],
            [
             0.8888888888888888,
             "#fdca26"
            ],
            [
             1,
             "#f0f921"
            ]
           ],
           "sequentialminus": [
            [
             0,
             "#0d0887"
            ],
            [
             0.1111111111111111,
             "#46039f"
            ],
            [
             0.2222222222222222,
             "#7201a8"
            ],
            [
             0.3333333333333333,
             "#9c179e"
            ],
            [
             0.4444444444444444,
             "#bd3786"
            ],
            [
             0.5555555555555556,
             "#d8576b"
            ],
            [
             0.6666666666666666,
             "#ed7953"
            ],
            [
             0.7777777777777778,
             "#fb9f3a"
            ],
            [
             0.8888888888888888,
             "#fdca26"
            ],
            [
             1,
             "#f0f921"
            ]
           ]
          },
          "colorway": [
           "#636efa",
           "#EF553B",
           "#00cc96",
           "#ab63fa",
           "#FFA15A",
           "#19d3f3",
           "#FF6692",
           "#B6E880",
           "#FF97FF",
           "#FECB52"
          ],
          "font": {
           "color": "#2a3f5f"
          },
          "geo": {
           "bgcolor": "white",
           "lakecolor": "white",
           "landcolor": "#E5ECF6",
           "showlakes": true,
           "showland": true,
           "subunitcolor": "white"
          },
          "hoverlabel": {
           "align": "left"
          },
          "hovermode": "closest",
          "mapbox": {
           "style": "light"
          },
          "paper_bgcolor": "white",
          "plot_bgcolor": "#E5ECF6",
          "polar": {
           "angularaxis": {
            "gridcolor": "white",
            "linecolor": "white",
            "ticks": ""
           },
           "bgcolor": "#E5ECF6",
           "radialaxis": {
            "gridcolor": "white",
            "linecolor": "white",
            "ticks": ""
           }
          },
          "scene": {
           "xaxis": {
            "backgroundcolor": "#E5ECF6",
            "gridcolor": "white",
            "gridwidth": 2,
            "linecolor": "white",
            "showbackground": true,
            "ticks": "",
            "zerolinecolor": "white"
           },
           "yaxis": {
            "backgroundcolor": "#E5ECF6",
            "gridcolor": "white",
            "gridwidth": 2,
            "linecolor": "white",
            "showbackground": true,
            "ticks": "",
            "zerolinecolor": "white"
           },
           "zaxis": {
            "backgroundcolor": "#E5ECF6",
            "gridcolor": "white",
            "gridwidth": 2,
            "linecolor": "white",
            "showbackground": true,
            "ticks": "",
            "zerolinecolor": "white"
           }
          },
          "shapedefaults": {
           "line": {
            "color": "#2a3f5f"
           }
          },
          "ternary": {
           "aaxis": {
            "gridcolor": "white",
            "linecolor": "white",
            "ticks": ""
           },
           "baxis": {
            "gridcolor": "white",
            "linecolor": "white",
            "ticks": ""
           },
           "bgcolor": "#E5ECF6",
           "caxis": {
            "gridcolor": "white",
            "linecolor": "white",
            "ticks": ""
           }
          },
          "title": {
           "x": 0.05
          },
          "xaxis": {
           "automargin": true,
           "gridcolor": "white",
           "linecolor": "white",
           "ticks": "",
           "title": {
            "standoff": 15
           },
           "zerolinecolor": "white",
           "zerolinewidth": 2
          },
          "yaxis": {
           "automargin": true,
           "gridcolor": "white",
           "linecolor": "white",
           "ticks": "",
           "title": {
            "standoff": 15
           },
           "zerolinecolor": "white",
           "zerolinewidth": 2
          }
         }
        },
        "title": {
         "text": "Sales Comparison by Product and Month - 12"
        },
        "xaxis": {
         "tickangle": -45,
         "title": {
          "text": "Year-Month"
         }
        },
        "yaxis": {
         "title": {
          "text": "Sales EUR"
         }
        }
       }
      }
     },
     "metadata": {},
     "output_type": "display_data"
    },
    {
     "data": {
      "application/vnd.plotly.v1+json": {
       "config": {
        "plotlyServerURL": "https://plot.ly"
       },
       "data": [
        {
         "line": {
          "color": "green"
         },
         "mode": "lines",
         "name": "Positive Sales - 13",
         "type": "scatter",
         "x": [
          "2018-10",
          "2018-11",
          "2018-12",
          "2019-01",
          "2019-02",
          "2019-03",
          "2019-04",
          "2019-05",
          "2019-06",
          "2019-07",
          "2019-08",
          "2019-09",
          "2019-10",
          "2019-11",
          "2019-12",
          "2020-01",
          "2020-02",
          "2020-03",
          "2020-04",
          "2020-05",
          "2020-06",
          "2020-07",
          "2020-08",
          "2020-09",
          "2020-10",
          "2020-11",
          "2020-12",
          "2021-01",
          "2021-02",
          "2021-03",
          "2021-04",
          "2021-05",
          "2021-06",
          "2021-07",
          "2021-08",
          "2021-09",
          "2021-10",
          "2021-11",
          "2021-12",
          "2022-01",
          "2022-02",
          "2022-03",
          "2022-04"
         ],
         "y": [
          27666.1,
          68338.2,
          15655.18,
          27198.29,
          32638.63,
          11890,
          7514.85,
          2558.9,
          34849.21,
          43008.350000000006,
          22497.6,
          19601.050000000003,
          65754.55,
          43190.76,
          26729.760000000002,
          19519.59,
          13747.169999999998,
          23513.59,
          30716.11,
          3762.8199999999997,
          9612.8,
          6745.2,
          25689.64,
          15314.86,
          9524.88,
          20663.64,
          31216.71,
          10118.36,
          16729.8,
          63092.75,
          38125.2,
          4130,
          6015.04,
          8419.83,
          10814.57,
          28682.589999999997,
          30506.15,
          8136.92,
          24868.86,
          37972.81,
          33449.25,
          12149.4,
          17020.04
         ]
        },
        {
         "line": {
          "color": "red"
         },
         "mode": "lines",
         "name": "Negative Sales (abs) - 13",
         "type": "scatter",
         "x": [
          "2018-11",
          "2019-04",
          "2019-05"
         ],
         "y": [
          158.2,
          26.31,
          8.59
         ]
        }
       ],
       "layout": {
        "showlegend": true,
        "template": {
         "data": {
          "bar": [
           {
            "error_x": {
             "color": "#2a3f5f"
            },
            "error_y": {
             "color": "#2a3f5f"
            },
            "marker": {
             "line": {
              "color": "#E5ECF6",
              "width": 0.5
             },
             "pattern": {
              "fillmode": "overlay",
              "size": 10,
              "solidity": 0.2
             }
            },
            "type": "bar"
           }
          ],
          "barpolar": [
           {
            "marker": {
             "line": {
              "color": "#E5ECF6",
              "width": 0.5
             },
             "pattern": {
              "fillmode": "overlay",
              "size": 10,
              "solidity": 0.2
             }
            },
            "type": "barpolar"
           }
          ],
          "carpet": [
           {
            "aaxis": {
             "endlinecolor": "#2a3f5f",
             "gridcolor": "white",
             "linecolor": "white",
             "minorgridcolor": "white",
             "startlinecolor": "#2a3f5f"
            },
            "baxis": {
             "endlinecolor": "#2a3f5f",
             "gridcolor": "white",
             "linecolor": "white",
             "minorgridcolor": "white",
             "startlinecolor": "#2a3f5f"
            },
            "type": "carpet"
           }
          ],
          "choropleth": [
           {
            "colorbar": {
             "outlinewidth": 0,
             "ticks": ""
            },
            "type": "choropleth"
           }
          ],
          "contour": [
           {
            "colorbar": {
             "outlinewidth": 0,
             "ticks": ""
            },
            "colorscale": [
             [
              0,
              "#0d0887"
             ],
             [
              0.1111111111111111,
              "#46039f"
             ],
             [
              0.2222222222222222,
              "#7201a8"
             ],
             [
              0.3333333333333333,
              "#9c179e"
             ],
             [
              0.4444444444444444,
              "#bd3786"
             ],
             [
              0.5555555555555556,
              "#d8576b"
             ],
             [
              0.6666666666666666,
              "#ed7953"
             ],
             [
              0.7777777777777778,
              "#fb9f3a"
             ],
             [
              0.8888888888888888,
              "#fdca26"
             ],
             [
              1,
              "#f0f921"
             ]
            ],
            "type": "contour"
           }
          ],
          "contourcarpet": [
           {
            "colorbar": {
             "outlinewidth": 0,
             "ticks": ""
            },
            "type": "contourcarpet"
           }
          ],
          "heatmap": [
           {
            "colorbar": {
             "outlinewidth": 0,
             "ticks": ""
            },
            "colorscale": [
             [
              0,
              "#0d0887"
             ],
             [
              0.1111111111111111,
              "#46039f"
             ],
             [
              0.2222222222222222,
              "#7201a8"
             ],
             [
              0.3333333333333333,
              "#9c179e"
             ],
             [
              0.4444444444444444,
              "#bd3786"
             ],
             [
              0.5555555555555556,
              "#d8576b"
             ],
             [
              0.6666666666666666,
              "#ed7953"
             ],
             [
              0.7777777777777778,
              "#fb9f3a"
             ],
             [
              0.8888888888888888,
              "#fdca26"
             ],
             [
              1,
              "#f0f921"
             ]
            ],
            "type": "heatmap"
           }
          ],
          "heatmapgl": [
           {
            "colorbar": {
             "outlinewidth": 0,
             "ticks": ""
            },
            "colorscale": [
             [
              0,
              "#0d0887"
             ],
             [
              0.1111111111111111,
              "#46039f"
             ],
             [
              0.2222222222222222,
              "#7201a8"
             ],
             [
              0.3333333333333333,
              "#9c179e"
             ],
             [
              0.4444444444444444,
              "#bd3786"
             ],
             [
              0.5555555555555556,
              "#d8576b"
             ],
             [
              0.6666666666666666,
              "#ed7953"
             ],
             [
              0.7777777777777778,
              "#fb9f3a"
             ],
             [
              0.8888888888888888,
              "#fdca26"
             ],
             [
              1,
              "#f0f921"
             ]
            ],
            "type": "heatmapgl"
           }
          ],
          "histogram": [
           {
            "marker": {
             "pattern": {
              "fillmode": "overlay",
              "size": 10,
              "solidity": 0.2
             }
            },
            "type": "histogram"
           }
          ],
          "histogram2d": [
           {
            "colorbar": {
             "outlinewidth": 0,
             "ticks": ""
            },
            "colorscale": [
             [
              0,
              "#0d0887"
             ],
             [
              0.1111111111111111,
              "#46039f"
             ],
             [
              0.2222222222222222,
              "#7201a8"
             ],
             [
              0.3333333333333333,
              "#9c179e"
             ],
             [
              0.4444444444444444,
              "#bd3786"
             ],
             [
              0.5555555555555556,
              "#d8576b"
             ],
             [
              0.6666666666666666,
              "#ed7953"
             ],
             [
              0.7777777777777778,
              "#fb9f3a"
             ],
             [
              0.8888888888888888,
              "#fdca26"
             ],
             [
              1,
              "#f0f921"
             ]
            ],
            "type": "histogram2d"
           }
          ],
          "histogram2dcontour": [
           {
            "colorbar": {
             "outlinewidth": 0,
             "ticks": ""
            },
            "colorscale": [
             [
              0,
              "#0d0887"
             ],
             [
              0.1111111111111111,
              "#46039f"
             ],
             [
              0.2222222222222222,
              "#7201a8"
             ],
             [
              0.3333333333333333,
              "#9c179e"
             ],
             [
              0.4444444444444444,
              "#bd3786"
             ],
             [
              0.5555555555555556,
              "#d8576b"
             ],
             [
              0.6666666666666666,
              "#ed7953"
             ],
             [
              0.7777777777777778,
              "#fb9f3a"
             ],
             [
              0.8888888888888888,
              "#fdca26"
             ],
             [
              1,
              "#f0f921"
             ]
            ],
            "type": "histogram2dcontour"
           }
          ],
          "mesh3d": [
           {
            "colorbar": {
             "outlinewidth": 0,
             "ticks": ""
            },
            "type": "mesh3d"
           }
          ],
          "parcoords": [
           {
            "line": {
             "colorbar": {
              "outlinewidth": 0,
              "ticks": ""
             }
            },
            "type": "parcoords"
           }
          ],
          "pie": [
           {
            "automargin": true,
            "type": "pie"
           }
          ],
          "scatter": [
           {
            "fillpattern": {
             "fillmode": "overlay",
             "size": 10,
             "solidity": 0.2
            },
            "type": "scatter"
           }
          ],
          "scatter3d": [
           {
            "line": {
             "colorbar": {
              "outlinewidth": 0,
              "ticks": ""
             }
            },
            "marker": {
             "colorbar": {
              "outlinewidth": 0,
              "ticks": ""
             }
            },
            "type": "scatter3d"
           }
          ],
          "scattercarpet": [
           {
            "marker": {
             "colorbar": {
              "outlinewidth": 0,
              "ticks": ""
             }
            },
            "type": "scattercarpet"
           }
          ],
          "scattergeo": [
           {
            "marker": {
             "colorbar": {
              "outlinewidth": 0,
              "ticks": ""
             }
            },
            "type": "scattergeo"
           }
          ],
          "scattergl": [
           {
            "marker": {
             "colorbar": {
              "outlinewidth": 0,
              "ticks": ""
             }
            },
            "type": "scattergl"
           }
          ],
          "scattermapbox": [
           {
            "marker": {
             "colorbar": {
              "outlinewidth": 0,
              "ticks": ""
             }
            },
            "type": "scattermapbox"
           }
          ],
          "scatterpolar": [
           {
            "marker": {
             "colorbar": {
              "outlinewidth": 0,
              "ticks": ""
             }
            },
            "type": "scatterpolar"
           }
          ],
          "scatterpolargl": [
           {
            "marker": {
             "colorbar": {
              "outlinewidth": 0,
              "ticks": ""
             }
            },
            "type": "scatterpolargl"
           }
          ],
          "scatterternary": [
           {
            "marker": {
             "colorbar": {
              "outlinewidth": 0,
              "ticks": ""
             }
            },
            "type": "scatterternary"
           }
          ],
          "surface": [
           {
            "colorbar": {
             "outlinewidth": 0,
             "ticks": ""
            },
            "colorscale": [
             [
              0,
              "#0d0887"
             ],
             [
              0.1111111111111111,
              "#46039f"
             ],
             [
              0.2222222222222222,
              "#7201a8"
             ],
             [
              0.3333333333333333,
              "#9c179e"
             ],
             [
              0.4444444444444444,
              "#bd3786"
             ],
             [
              0.5555555555555556,
              "#d8576b"
             ],
             [
              0.6666666666666666,
              "#ed7953"
             ],
             [
              0.7777777777777778,
              "#fb9f3a"
             ],
             [
              0.8888888888888888,
              "#fdca26"
             ],
             [
              1,
              "#f0f921"
             ]
            ],
            "type": "surface"
           }
          ],
          "table": [
           {
            "cells": {
             "fill": {
              "color": "#EBF0F8"
             },
             "line": {
              "color": "white"
             }
            },
            "header": {
             "fill": {
              "color": "#C8D4E3"
             },
             "line": {
              "color": "white"
             }
            },
            "type": "table"
           }
          ]
         },
         "layout": {
          "annotationdefaults": {
           "arrowcolor": "#2a3f5f",
           "arrowhead": 0,
           "arrowwidth": 1
          },
          "autotypenumbers": "strict",
          "coloraxis": {
           "colorbar": {
            "outlinewidth": 0,
            "ticks": ""
           }
          },
          "colorscale": {
           "diverging": [
            [
             0,
             "#8e0152"
            ],
            [
             0.1,
             "#c51b7d"
            ],
            [
             0.2,
             "#de77ae"
            ],
            [
             0.3,
             "#f1b6da"
            ],
            [
             0.4,
             "#fde0ef"
            ],
            [
             0.5,
             "#f7f7f7"
            ],
            [
             0.6,
             "#e6f5d0"
            ],
            [
             0.7,
             "#b8e186"
            ],
            [
             0.8,
             "#7fbc41"
            ],
            [
             0.9,
             "#4d9221"
            ],
            [
             1,
             "#276419"
            ]
           ],
           "sequential": [
            [
             0,
             "#0d0887"
            ],
            [
             0.1111111111111111,
             "#46039f"
            ],
            [
             0.2222222222222222,
             "#7201a8"
            ],
            [
             0.3333333333333333,
             "#9c179e"
            ],
            [
             0.4444444444444444,
             "#bd3786"
            ],
            [
             0.5555555555555556,
             "#d8576b"
            ],
            [
             0.6666666666666666,
             "#ed7953"
            ],
            [
             0.7777777777777778,
             "#fb9f3a"
            ],
            [
             0.8888888888888888,
             "#fdca26"
            ],
            [
             1,
             "#f0f921"
            ]
           ],
           "sequentialminus": [
            [
             0,
             "#0d0887"
            ],
            [
             0.1111111111111111,
             "#46039f"
            ],
            [
             0.2222222222222222,
             "#7201a8"
            ],
            [
             0.3333333333333333,
             "#9c179e"
            ],
            [
             0.4444444444444444,
             "#bd3786"
            ],
            [
             0.5555555555555556,
             "#d8576b"
            ],
            [
             0.6666666666666666,
             "#ed7953"
            ],
            [
             0.7777777777777778,
             "#fb9f3a"
            ],
            [
             0.8888888888888888,
             "#fdca26"
            ],
            [
             1,
             "#f0f921"
            ]
           ]
          },
          "colorway": [
           "#636efa",
           "#EF553B",
           "#00cc96",
           "#ab63fa",
           "#FFA15A",
           "#19d3f3",
           "#FF6692",
           "#B6E880",
           "#FF97FF",
           "#FECB52"
          ],
          "font": {
           "color": "#2a3f5f"
          },
          "geo": {
           "bgcolor": "white",
           "lakecolor": "white",
           "landcolor": "#E5ECF6",
           "showlakes": true,
           "showland": true,
           "subunitcolor": "white"
          },
          "hoverlabel": {
           "align": "left"
          },
          "hovermode": "closest",
          "mapbox": {
           "style": "light"
          },
          "paper_bgcolor": "white",
          "plot_bgcolor": "#E5ECF6",
          "polar": {
           "angularaxis": {
            "gridcolor": "white",
            "linecolor": "white",
            "ticks": ""
           },
           "bgcolor": "#E5ECF6",
           "radialaxis": {
            "gridcolor": "white",
            "linecolor": "white",
            "ticks": ""
           }
          },
          "scene": {
           "xaxis": {
            "backgroundcolor": "#E5ECF6",
            "gridcolor": "white",
            "gridwidth": 2,
            "linecolor": "white",
            "showbackground": true,
            "ticks": "",
            "zerolinecolor": "white"
           },
           "yaxis": {
            "backgroundcolor": "#E5ECF6",
            "gridcolor": "white",
            "gridwidth": 2,
            "linecolor": "white",
            "showbackground": true,
            "ticks": "",
            "zerolinecolor": "white"
           },
           "zaxis": {
            "backgroundcolor": "#E5ECF6",
            "gridcolor": "white",
            "gridwidth": 2,
            "linecolor": "white",
            "showbackground": true,
            "ticks": "",
            "zerolinecolor": "white"
           }
          },
          "shapedefaults": {
           "line": {
            "color": "#2a3f5f"
           }
          },
          "ternary": {
           "aaxis": {
            "gridcolor": "white",
            "linecolor": "white",
            "ticks": ""
           },
           "baxis": {
            "gridcolor": "white",
            "linecolor": "white",
            "ticks": ""
           },
           "bgcolor": "#E5ECF6",
           "caxis": {
            "gridcolor": "white",
            "linecolor": "white",
            "ticks": ""
           }
          },
          "title": {
           "x": 0.05
          },
          "xaxis": {
           "automargin": true,
           "gridcolor": "white",
           "linecolor": "white",
           "ticks": "",
           "title": {
            "standoff": 15
           },
           "zerolinecolor": "white",
           "zerolinewidth": 2
          },
          "yaxis": {
           "automargin": true,
           "gridcolor": "white",
           "linecolor": "white",
           "ticks": "",
           "title": {
            "standoff": 15
           },
           "zerolinecolor": "white",
           "zerolinewidth": 2
          }
         }
        },
        "title": {
         "text": "Sales Comparison by Product and Month - 13"
        },
        "xaxis": {
         "tickangle": -45,
         "title": {
          "text": "Year-Month"
         }
        },
        "yaxis": {
         "title": {
          "text": "Sales EUR"
         }
        }
       }
      }
     },
     "metadata": {},
     "output_type": "display_data"
    },
    {
     "data": {
      "application/vnd.plotly.v1+json": {
       "config": {
        "plotlyServerURL": "https://plot.ly"
       },
       "data": [
        {
         "line": {
          "color": "green"
         },
         "mode": "lines",
         "name": "Positive Sales - 14",
         "type": "scatter",
         "x": [
          "2018-10",
          "2018-11",
          "2019-01",
          "2019-02",
          "2019-03",
          "2019-05",
          "2019-06",
          "2019-07",
          "2019-08",
          "2019-09",
          "2019-10",
          "2019-11",
          "2020-01",
          "2020-02",
          "2020-03",
          "2020-05",
          "2020-06",
          "2020-07",
          "2020-08",
          "2020-09",
          "2020-10",
          "2020-11",
          "2020-12",
          "2021-01",
          "2021-02",
          "2021-03",
          "2021-04",
          "2021-05",
          "2021-06",
          "2021-07",
          "2021-09",
          "2021-10",
          "2021-11",
          "2021-12",
          "2022-01",
          "2022-02",
          "2022-03",
          "2022-04"
         ],
         "y": [
          5770,
          17130,
          1686.4,
          19196.3,
          7535.25,
          17820,
          63017.71,
          20719.3,
          1602,
          12851.2,
          4230,
          2571.3,
          2955.22,
          10900,
          10325.15,
          32670,
          8756.45,
          14793,
          6919.4,
          2219.8,
          13799,
          1750,
          11772.45,
          3028,
          2966.82,
          15818.779999999999,
          5629,
          2183.85,
          8266.9,
          76161.44,
          6182,
          16534.2,
          5951.849999999999,
          17427.6,
          2820,
          4410,
          46100.24,
          2495
         ]
        },
        {
         "line": {
          "color": "red"
         },
         "mode": "lines",
         "name": "Negative Sales (abs) - 14",
         "type": "scatter",
         "x": [
          "2019-05",
          "2019-10",
          "2020-04",
          "2021-09",
          "2022-04"
         ],
         "y": [
          48.6,
          2851.45,
          2851.45,
          6743.25,
          648.8
         ]
        }
       ],
       "layout": {
        "showlegend": true,
        "template": {
         "data": {
          "bar": [
           {
            "error_x": {
             "color": "#2a3f5f"
            },
            "error_y": {
             "color": "#2a3f5f"
            },
            "marker": {
             "line": {
              "color": "#E5ECF6",
              "width": 0.5
             },
             "pattern": {
              "fillmode": "overlay",
              "size": 10,
              "solidity": 0.2
             }
            },
            "type": "bar"
           }
          ],
          "barpolar": [
           {
            "marker": {
             "line": {
              "color": "#E5ECF6",
              "width": 0.5
             },
             "pattern": {
              "fillmode": "overlay",
              "size": 10,
              "solidity": 0.2
             }
            },
            "type": "barpolar"
           }
          ],
          "carpet": [
           {
            "aaxis": {
             "endlinecolor": "#2a3f5f",
             "gridcolor": "white",
             "linecolor": "white",
             "minorgridcolor": "white",
             "startlinecolor": "#2a3f5f"
            },
            "baxis": {
             "endlinecolor": "#2a3f5f",
             "gridcolor": "white",
             "linecolor": "white",
             "minorgridcolor": "white",
             "startlinecolor": "#2a3f5f"
            },
            "type": "carpet"
           }
          ],
          "choropleth": [
           {
            "colorbar": {
             "outlinewidth": 0,
             "ticks": ""
            },
            "type": "choropleth"
           }
          ],
          "contour": [
           {
            "colorbar": {
             "outlinewidth": 0,
             "ticks": ""
            },
            "colorscale": [
             [
              0,
              "#0d0887"
             ],
             [
              0.1111111111111111,
              "#46039f"
             ],
             [
              0.2222222222222222,
              "#7201a8"
             ],
             [
              0.3333333333333333,
              "#9c179e"
             ],
             [
              0.4444444444444444,
              "#bd3786"
             ],
             [
              0.5555555555555556,
              "#d8576b"
             ],
             [
              0.6666666666666666,
              "#ed7953"
             ],
             [
              0.7777777777777778,
              "#fb9f3a"
             ],
             [
              0.8888888888888888,
              "#fdca26"
             ],
             [
              1,
              "#f0f921"
             ]
            ],
            "type": "contour"
           }
          ],
          "contourcarpet": [
           {
            "colorbar": {
             "outlinewidth": 0,
             "ticks": ""
            },
            "type": "contourcarpet"
           }
          ],
          "heatmap": [
           {
            "colorbar": {
             "outlinewidth": 0,
             "ticks": ""
            },
            "colorscale": [
             [
              0,
              "#0d0887"
             ],
             [
              0.1111111111111111,
              "#46039f"
             ],
             [
              0.2222222222222222,
              "#7201a8"
             ],
             [
              0.3333333333333333,
              "#9c179e"
             ],
             [
              0.4444444444444444,
              "#bd3786"
             ],
             [
              0.5555555555555556,
              "#d8576b"
             ],
             [
              0.6666666666666666,
              "#ed7953"
             ],
             [
              0.7777777777777778,
              "#fb9f3a"
             ],
             [
              0.8888888888888888,
              "#fdca26"
             ],
             [
              1,
              "#f0f921"
             ]
            ],
            "type": "heatmap"
           }
          ],
          "heatmapgl": [
           {
            "colorbar": {
             "outlinewidth": 0,
             "ticks": ""
            },
            "colorscale": [
             [
              0,
              "#0d0887"
             ],
             [
              0.1111111111111111,
              "#46039f"
             ],
             [
              0.2222222222222222,
              "#7201a8"
             ],
             [
              0.3333333333333333,
              "#9c179e"
             ],
             [
              0.4444444444444444,
              "#bd3786"
             ],
             [
              0.5555555555555556,
              "#d8576b"
             ],
             [
              0.6666666666666666,
              "#ed7953"
             ],
             [
              0.7777777777777778,
              "#fb9f3a"
             ],
             [
              0.8888888888888888,
              "#fdca26"
             ],
             [
              1,
              "#f0f921"
             ]
            ],
            "type": "heatmapgl"
           }
          ],
          "histogram": [
           {
            "marker": {
             "pattern": {
              "fillmode": "overlay",
              "size": 10,
              "solidity": 0.2
             }
            },
            "type": "histogram"
           }
          ],
          "histogram2d": [
           {
            "colorbar": {
             "outlinewidth": 0,
             "ticks": ""
            },
            "colorscale": [
             [
              0,
              "#0d0887"
             ],
             [
              0.1111111111111111,
              "#46039f"
             ],
             [
              0.2222222222222222,
              "#7201a8"
             ],
             [
              0.3333333333333333,
              "#9c179e"
             ],
             [
              0.4444444444444444,
              "#bd3786"
             ],
             [
              0.5555555555555556,
              "#d8576b"
             ],
             [
              0.6666666666666666,
              "#ed7953"
             ],
             [
              0.7777777777777778,
              "#fb9f3a"
             ],
             [
              0.8888888888888888,
              "#fdca26"
             ],
             [
              1,
              "#f0f921"
             ]
            ],
            "type": "histogram2d"
           }
          ],
          "histogram2dcontour": [
           {
            "colorbar": {
             "outlinewidth": 0,
             "ticks": ""
            },
            "colorscale": [
             [
              0,
              "#0d0887"
             ],
             [
              0.1111111111111111,
              "#46039f"
             ],
             [
              0.2222222222222222,
              "#7201a8"
             ],
             [
              0.3333333333333333,
              "#9c179e"
             ],
             [
              0.4444444444444444,
              "#bd3786"
             ],
             [
              0.5555555555555556,
              "#d8576b"
             ],
             [
              0.6666666666666666,
              "#ed7953"
             ],
             [
              0.7777777777777778,
              "#fb9f3a"
             ],
             [
              0.8888888888888888,
              "#fdca26"
             ],
             [
              1,
              "#f0f921"
             ]
            ],
            "type": "histogram2dcontour"
           }
          ],
          "mesh3d": [
           {
            "colorbar": {
             "outlinewidth": 0,
             "ticks": ""
            },
            "type": "mesh3d"
           }
          ],
          "parcoords": [
           {
            "line": {
             "colorbar": {
              "outlinewidth": 0,
              "ticks": ""
             }
            },
            "type": "parcoords"
           }
          ],
          "pie": [
           {
            "automargin": true,
            "type": "pie"
           }
          ],
          "scatter": [
           {
            "fillpattern": {
             "fillmode": "overlay",
             "size": 10,
             "solidity": 0.2
            },
            "type": "scatter"
           }
          ],
          "scatter3d": [
           {
            "line": {
             "colorbar": {
              "outlinewidth": 0,
              "ticks": ""
             }
            },
            "marker": {
             "colorbar": {
              "outlinewidth": 0,
              "ticks": ""
             }
            },
            "type": "scatter3d"
           }
          ],
          "scattercarpet": [
           {
            "marker": {
             "colorbar": {
              "outlinewidth": 0,
              "ticks": ""
             }
            },
            "type": "scattercarpet"
           }
          ],
          "scattergeo": [
           {
            "marker": {
             "colorbar": {
              "outlinewidth": 0,
              "ticks": ""
             }
            },
            "type": "scattergeo"
           }
          ],
          "scattergl": [
           {
            "marker": {
             "colorbar": {
              "outlinewidth": 0,
              "ticks": ""
             }
            },
            "type": "scattergl"
           }
          ],
          "scattermapbox": [
           {
            "marker": {
             "colorbar": {
              "outlinewidth": 0,
              "ticks": ""
             }
            },
            "type": "scattermapbox"
           }
          ],
          "scatterpolar": [
           {
            "marker": {
             "colorbar": {
              "outlinewidth": 0,
              "ticks": ""
             }
            },
            "type": "scatterpolar"
           }
          ],
          "scatterpolargl": [
           {
            "marker": {
             "colorbar": {
              "outlinewidth": 0,
              "ticks": ""
             }
            },
            "type": "scatterpolargl"
           }
          ],
          "scatterternary": [
           {
            "marker": {
             "colorbar": {
              "outlinewidth": 0,
              "ticks": ""
             }
            },
            "type": "scatterternary"
           }
          ],
          "surface": [
           {
            "colorbar": {
             "outlinewidth": 0,
             "ticks": ""
            },
            "colorscale": [
             [
              0,
              "#0d0887"
             ],
             [
              0.1111111111111111,
              "#46039f"
             ],
             [
              0.2222222222222222,
              "#7201a8"
             ],
             [
              0.3333333333333333,
              "#9c179e"
             ],
             [
              0.4444444444444444,
              "#bd3786"
             ],
             [
              0.5555555555555556,
              "#d8576b"
             ],
             [
              0.6666666666666666,
              "#ed7953"
             ],
             [
              0.7777777777777778,
              "#fb9f3a"
             ],
             [
              0.8888888888888888,
              "#fdca26"
             ],
             [
              1,
              "#f0f921"
             ]
            ],
            "type": "surface"
           }
          ],
          "table": [
           {
            "cells": {
             "fill": {
              "color": "#EBF0F8"
             },
             "line": {
              "color": "white"
             }
            },
            "header": {
             "fill": {
              "color": "#C8D4E3"
             },
             "line": {
              "color": "white"
             }
            },
            "type": "table"
           }
          ]
         },
         "layout": {
          "annotationdefaults": {
           "arrowcolor": "#2a3f5f",
           "arrowhead": 0,
           "arrowwidth": 1
          },
          "autotypenumbers": "strict",
          "coloraxis": {
           "colorbar": {
            "outlinewidth": 0,
            "ticks": ""
           }
          },
          "colorscale": {
           "diverging": [
            [
             0,
             "#8e0152"
            ],
            [
             0.1,
             "#c51b7d"
            ],
            [
             0.2,
             "#de77ae"
            ],
            [
             0.3,
             "#f1b6da"
            ],
            [
             0.4,
             "#fde0ef"
            ],
            [
             0.5,
             "#f7f7f7"
            ],
            [
             0.6,
             "#e6f5d0"
            ],
            [
             0.7,
             "#b8e186"
            ],
            [
             0.8,
             "#7fbc41"
            ],
            [
             0.9,
             "#4d9221"
            ],
            [
             1,
             "#276419"
            ]
           ],
           "sequential": [
            [
             0,
             "#0d0887"
            ],
            [
             0.1111111111111111,
             "#46039f"
            ],
            [
             0.2222222222222222,
             "#7201a8"
            ],
            [
             0.3333333333333333,
             "#9c179e"
            ],
            [
             0.4444444444444444,
             "#bd3786"
            ],
            [
             0.5555555555555556,
             "#d8576b"
            ],
            [
             0.6666666666666666,
             "#ed7953"
            ],
            [
             0.7777777777777778,
             "#fb9f3a"
            ],
            [
             0.8888888888888888,
             "#fdca26"
            ],
            [
             1,
             "#f0f921"
            ]
           ],
           "sequentialminus": [
            [
             0,
             "#0d0887"
            ],
            [
             0.1111111111111111,
             "#46039f"
            ],
            [
             0.2222222222222222,
             "#7201a8"
            ],
            [
             0.3333333333333333,
             "#9c179e"
            ],
            [
             0.4444444444444444,
             "#bd3786"
            ],
            [
             0.5555555555555556,
             "#d8576b"
            ],
            [
             0.6666666666666666,
             "#ed7953"
            ],
            [
             0.7777777777777778,
             "#fb9f3a"
            ],
            [
             0.8888888888888888,
             "#fdca26"
            ],
            [
             1,
             "#f0f921"
            ]
           ]
          },
          "colorway": [
           "#636efa",
           "#EF553B",
           "#00cc96",
           "#ab63fa",
           "#FFA15A",
           "#19d3f3",
           "#FF6692",
           "#B6E880",
           "#FF97FF",
           "#FECB52"
          ],
          "font": {
           "color": "#2a3f5f"
          },
          "geo": {
           "bgcolor": "white",
           "lakecolor": "white",
           "landcolor": "#E5ECF6",
           "showlakes": true,
           "showland": true,
           "subunitcolor": "white"
          },
          "hoverlabel": {
           "align": "left"
          },
          "hovermode": "closest",
          "mapbox": {
           "style": "light"
          },
          "paper_bgcolor": "white",
          "plot_bgcolor": "#E5ECF6",
          "polar": {
           "angularaxis": {
            "gridcolor": "white",
            "linecolor": "white",
            "ticks": ""
           },
           "bgcolor": "#E5ECF6",
           "radialaxis": {
            "gridcolor": "white",
            "linecolor": "white",
            "ticks": ""
           }
          },
          "scene": {
           "xaxis": {
            "backgroundcolor": "#E5ECF6",
            "gridcolor": "white",
            "gridwidth": 2,
            "linecolor": "white",
            "showbackground": true,
            "ticks": "",
            "zerolinecolor": "white"
           },
           "yaxis": {
            "backgroundcolor": "#E5ECF6",
            "gridcolor": "white",
            "gridwidth": 2,
            "linecolor": "white",
            "showbackground": true,
            "ticks": "",
            "zerolinecolor": "white"
           },
           "zaxis": {
            "backgroundcolor": "#E5ECF6",
            "gridcolor": "white",
            "gridwidth": 2,
            "linecolor": "white",
            "showbackground": true,
            "ticks": "",
            "zerolinecolor": "white"
           }
          },
          "shapedefaults": {
           "line": {
            "color": "#2a3f5f"
           }
          },
          "ternary": {
           "aaxis": {
            "gridcolor": "white",
            "linecolor": "white",
            "ticks": ""
           },
           "baxis": {
            "gridcolor": "white",
            "linecolor": "white",
            "ticks": ""
           },
           "bgcolor": "#E5ECF6",
           "caxis": {
            "gridcolor": "white",
            "linecolor": "white",
            "ticks": ""
           }
          },
          "title": {
           "x": 0.05
          },
          "xaxis": {
           "automargin": true,
           "gridcolor": "white",
           "linecolor": "white",
           "ticks": "",
           "title": {
            "standoff": 15
           },
           "zerolinecolor": "white",
           "zerolinewidth": 2
          },
          "yaxis": {
           "automargin": true,
           "gridcolor": "white",
           "linecolor": "white",
           "ticks": "",
           "title": {
            "standoff": 15
           },
           "zerolinecolor": "white",
           "zerolinewidth": 2
          }
         }
        },
        "title": {
         "text": "Sales Comparison by Product and Month - 14"
        },
        "xaxis": {
         "tickangle": -45,
         "title": {
          "text": "Year-Month"
         }
        },
        "yaxis": {
         "title": {
          "text": "Sales EUR"
         }
        }
       }
      }
     },
     "metadata": {},
     "output_type": "display_data"
    },
    {
     "data": {
      "application/vnd.plotly.v1+json": {
       "config": {
        "plotlyServerURL": "https://plot.ly"
       },
       "data": [
        {
         "line": {
          "color": "green"
         },
         "mode": "lines",
         "name": "Positive Sales - 16",
         "type": "scatter",
         "x": [
          "2018-10",
          "2018-11",
          "2018-12",
          "2019-01",
          "2019-02",
          "2019-03",
          "2019-04",
          "2019-05",
          "2019-06",
          "2019-07",
          "2019-08",
          "2019-09",
          "2019-10",
          "2019-11",
          "2019-12",
          "2020-01",
          "2020-02",
          "2020-03",
          "2020-04",
          "2020-05",
          "2020-06",
          "2020-07",
          "2020-08",
          "2020-09",
          "2020-10",
          "2020-11",
          "2020-12",
          "2021-01",
          "2021-02",
          "2021-03",
          "2021-04",
          "2021-05",
          "2021-06",
          "2021-07",
          "2021-08",
          "2021-09",
          "2021-10",
          "2021-11",
          "2021-12",
          "2022-01",
          "2022-02",
          "2022-03",
          "2022-04"
         ],
         "y": [
          333196.87,
          1377694.32,
          4762524.66,
          942957.19,
          257765.04,
          2258352.2199999997,
          225864,
          353451.54,
          371512.38,
          266225.86,
          725678.3299999998,
          765605.16,
          285644.67,
          291844.03,
          335567.28,
          384800.46,
          82821.54000000001,
          160397.35,
          70530.7,
          195141.7,
          269150.4,
          409170.11,
          153870.44,
          209186.6,
          145276.08000000002,
          160941.78,
          260089.25,
          40360.08,
          117004.3,
          309564.27,
          125710.70999999999,
          219241.06,
          186607.11000000002,
          103935.84,
          323548.03,
          186586.24,
          141037.06,
          230129.08000000002,
          271111.39,
          91021.89,
          45696.76,
          98729.91,
          134071.24
         ]
        },
        {
         "line": {
          "color": "red"
         },
         "mode": "lines",
         "name": "Negative Sales (abs) - 16",
         "type": "scatter",
         "x": [
          "2019-04",
          "2019-06",
          "2019-09",
          "2019-12",
          "2020-08",
          "2021-05"
         ],
         "y": [
          1362.1,
          4087,
          12721,
          269148.12,
          581,
          540
         ]
        }
       ],
       "layout": {
        "showlegend": true,
        "template": {
         "data": {
          "bar": [
           {
            "error_x": {
             "color": "#2a3f5f"
            },
            "error_y": {
             "color": "#2a3f5f"
            },
            "marker": {
             "line": {
              "color": "#E5ECF6",
              "width": 0.5
             },
             "pattern": {
              "fillmode": "overlay",
              "size": 10,
              "solidity": 0.2
             }
            },
            "type": "bar"
           }
          ],
          "barpolar": [
           {
            "marker": {
             "line": {
              "color": "#E5ECF6",
              "width": 0.5
             },
             "pattern": {
              "fillmode": "overlay",
              "size": 10,
              "solidity": 0.2
             }
            },
            "type": "barpolar"
           }
          ],
          "carpet": [
           {
            "aaxis": {
             "endlinecolor": "#2a3f5f",
             "gridcolor": "white",
             "linecolor": "white",
             "minorgridcolor": "white",
             "startlinecolor": "#2a3f5f"
            },
            "baxis": {
             "endlinecolor": "#2a3f5f",
             "gridcolor": "white",
             "linecolor": "white",
             "minorgridcolor": "white",
             "startlinecolor": "#2a3f5f"
            },
            "type": "carpet"
           }
          ],
          "choropleth": [
           {
            "colorbar": {
             "outlinewidth": 0,
             "ticks": ""
            },
            "type": "choropleth"
           }
          ],
          "contour": [
           {
            "colorbar": {
             "outlinewidth": 0,
             "ticks": ""
            },
            "colorscale": [
             [
              0,
              "#0d0887"
             ],
             [
              0.1111111111111111,
              "#46039f"
             ],
             [
              0.2222222222222222,
              "#7201a8"
             ],
             [
              0.3333333333333333,
              "#9c179e"
             ],
             [
              0.4444444444444444,
              "#bd3786"
             ],
             [
              0.5555555555555556,
              "#d8576b"
             ],
             [
              0.6666666666666666,
              "#ed7953"
             ],
             [
              0.7777777777777778,
              "#fb9f3a"
             ],
             [
              0.8888888888888888,
              "#fdca26"
             ],
             [
              1,
              "#f0f921"
             ]
            ],
            "type": "contour"
           }
          ],
          "contourcarpet": [
           {
            "colorbar": {
             "outlinewidth": 0,
             "ticks": ""
            },
            "type": "contourcarpet"
           }
          ],
          "heatmap": [
           {
            "colorbar": {
             "outlinewidth": 0,
             "ticks": ""
            },
            "colorscale": [
             [
              0,
              "#0d0887"
             ],
             [
              0.1111111111111111,
              "#46039f"
             ],
             [
              0.2222222222222222,
              "#7201a8"
             ],
             [
              0.3333333333333333,
              "#9c179e"
             ],
             [
              0.4444444444444444,
              "#bd3786"
             ],
             [
              0.5555555555555556,
              "#d8576b"
             ],
             [
              0.6666666666666666,
              "#ed7953"
             ],
             [
              0.7777777777777778,
              "#fb9f3a"
             ],
             [
              0.8888888888888888,
              "#fdca26"
             ],
             [
              1,
              "#f0f921"
             ]
            ],
            "type": "heatmap"
           }
          ],
          "heatmapgl": [
           {
            "colorbar": {
             "outlinewidth": 0,
             "ticks": ""
            },
            "colorscale": [
             [
              0,
              "#0d0887"
             ],
             [
              0.1111111111111111,
              "#46039f"
             ],
             [
              0.2222222222222222,
              "#7201a8"
             ],
             [
              0.3333333333333333,
              "#9c179e"
             ],
             [
              0.4444444444444444,
              "#bd3786"
             ],
             [
              0.5555555555555556,
              "#d8576b"
             ],
             [
              0.6666666666666666,
              "#ed7953"
             ],
             [
              0.7777777777777778,
              "#fb9f3a"
             ],
             [
              0.8888888888888888,
              "#fdca26"
             ],
             [
              1,
              "#f0f921"
             ]
            ],
            "type": "heatmapgl"
           }
          ],
          "histogram": [
           {
            "marker": {
             "pattern": {
              "fillmode": "overlay",
              "size": 10,
              "solidity": 0.2
             }
            },
            "type": "histogram"
           }
          ],
          "histogram2d": [
           {
            "colorbar": {
             "outlinewidth": 0,
             "ticks": ""
            },
            "colorscale": [
             [
              0,
              "#0d0887"
             ],
             [
              0.1111111111111111,
              "#46039f"
             ],
             [
              0.2222222222222222,
              "#7201a8"
             ],
             [
              0.3333333333333333,
              "#9c179e"
             ],
             [
              0.4444444444444444,
              "#bd3786"
             ],
             [
              0.5555555555555556,
              "#d8576b"
             ],
             [
              0.6666666666666666,
              "#ed7953"
             ],
             [
              0.7777777777777778,
              "#fb9f3a"
             ],
             [
              0.8888888888888888,
              "#fdca26"
             ],
             [
              1,
              "#f0f921"
             ]
            ],
            "type": "histogram2d"
           }
          ],
          "histogram2dcontour": [
           {
            "colorbar": {
             "outlinewidth": 0,
             "ticks": ""
            },
            "colorscale": [
             [
              0,
              "#0d0887"
             ],
             [
              0.1111111111111111,
              "#46039f"
             ],
             [
              0.2222222222222222,
              "#7201a8"
             ],
             [
              0.3333333333333333,
              "#9c179e"
             ],
             [
              0.4444444444444444,
              "#bd3786"
             ],
             [
              0.5555555555555556,
              "#d8576b"
             ],
             [
              0.6666666666666666,
              "#ed7953"
             ],
             [
              0.7777777777777778,
              "#fb9f3a"
             ],
             [
              0.8888888888888888,
              "#fdca26"
             ],
             [
              1,
              "#f0f921"
             ]
            ],
            "type": "histogram2dcontour"
           }
          ],
          "mesh3d": [
           {
            "colorbar": {
             "outlinewidth": 0,
             "ticks": ""
            },
            "type": "mesh3d"
           }
          ],
          "parcoords": [
           {
            "line": {
             "colorbar": {
              "outlinewidth": 0,
              "ticks": ""
             }
            },
            "type": "parcoords"
           }
          ],
          "pie": [
           {
            "automargin": true,
            "type": "pie"
           }
          ],
          "scatter": [
           {
            "fillpattern": {
             "fillmode": "overlay",
             "size": 10,
             "solidity": 0.2
            },
            "type": "scatter"
           }
          ],
          "scatter3d": [
           {
            "line": {
             "colorbar": {
              "outlinewidth": 0,
              "ticks": ""
             }
            },
            "marker": {
             "colorbar": {
              "outlinewidth": 0,
              "ticks": ""
             }
            },
            "type": "scatter3d"
           }
          ],
          "scattercarpet": [
           {
            "marker": {
             "colorbar": {
              "outlinewidth": 0,
              "ticks": ""
             }
            },
            "type": "scattercarpet"
           }
          ],
          "scattergeo": [
           {
            "marker": {
             "colorbar": {
              "outlinewidth": 0,
              "ticks": ""
             }
            },
            "type": "scattergeo"
           }
          ],
          "scattergl": [
           {
            "marker": {
             "colorbar": {
              "outlinewidth": 0,
              "ticks": ""
             }
            },
            "type": "scattergl"
           }
          ],
          "scattermapbox": [
           {
            "marker": {
             "colorbar": {
              "outlinewidth": 0,
              "ticks": ""
             }
            },
            "type": "scattermapbox"
           }
          ],
          "scatterpolar": [
           {
            "marker": {
             "colorbar": {
              "outlinewidth": 0,
              "ticks": ""
             }
            },
            "type": "scatterpolar"
           }
          ],
          "scatterpolargl": [
           {
            "marker": {
             "colorbar": {
              "outlinewidth": 0,
              "ticks": ""
             }
            },
            "type": "scatterpolargl"
           }
          ],
          "scatterternary": [
           {
            "marker": {
             "colorbar": {
              "outlinewidth": 0,
              "ticks": ""
             }
            },
            "type": "scatterternary"
           }
          ],
          "surface": [
           {
            "colorbar": {
             "outlinewidth": 0,
             "ticks": ""
            },
            "colorscale": [
             [
              0,
              "#0d0887"
             ],
             [
              0.1111111111111111,
              "#46039f"
             ],
             [
              0.2222222222222222,
              "#7201a8"
             ],
             [
              0.3333333333333333,
              "#9c179e"
             ],
             [
              0.4444444444444444,
              "#bd3786"
             ],
             [
              0.5555555555555556,
              "#d8576b"
             ],
             [
              0.6666666666666666,
              "#ed7953"
             ],
             [
              0.7777777777777778,
              "#fb9f3a"
             ],
             [
              0.8888888888888888,
              "#fdca26"
             ],
             [
              1,
              "#f0f921"
             ]
            ],
            "type": "surface"
           }
          ],
          "table": [
           {
            "cells": {
             "fill": {
              "color": "#EBF0F8"
             },
             "line": {
              "color": "white"
             }
            },
            "header": {
             "fill": {
              "color": "#C8D4E3"
             },
             "line": {
              "color": "white"
             }
            },
            "type": "table"
           }
          ]
         },
         "layout": {
          "annotationdefaults": {
           "arrowcolor": "#2a3f5f",
           "arrowhead": 0,
           "arrowwidth": 1
          },
          "autotypenumbers": "strict",
          "coloraxis": {
           "colorbar": {
            "outlinewidth": 0,
            "ticks": ""
           }
          },
          "colorscale": {
           "diverging": [
            [
             0,
             "#8e0152"
            ],
            [
             0.1,
             "#c51b7d"
            ],
            [
             0.2,
             "#de77ae"
            ],
            [
             0.3,
             "#f1b6da"
            ],
            [
             0.4,
             "#fde0ef"
            ],
            [
             0.5,
             "#f7f7f7"
            ],
            [
             0.6,
             "#e6f5d0"
            ],
            [
             0.7,
             "#b8e186"
            ],
            [
             0.8,
             "#7fbc41"
            ],
            [
             0.9,
             "#4d9221"
            ],
            [
             1,
             "#276419"
            ]
           ],
           "sequential": [
            [
             0,
             "#0d0887"
            ],
            [
             0.1111111111111111,
             "#46039f"
            ],
            [
             0.2222222222222222,
             "#7201a8"
            ],
            [
             0.3333333333333333,
             "#9c179e"
            ],
            [
             0.4444444444444444,
             "#bd3786"
            ],
            [
             0.5555555555555556,
             "#d8576b"
            ],
            [
             0.6666666666666666,
             "#ed7953"
            ],
            [
             0.7777777777777778,
             "#fb9f3a"
            ],
            [
             0.8888888888888888,
             "#fdca26"
            ],
            [
             1,
             "#f0f921"
            ]
           ],
           "sequentialminus": [
            [
             0,
             "#0d0887"
            ],
            [
             0.1111111111111111,
             "#46039f"
            ],
            [
             0.2222222222222222,
             "#7201a8"
            ],
            [
             0.3333333333333333,
             "#9c179e"
            ],
            [
             0.4444444444444444,
             "#bd3786"
            ],
            [
             0.5555555555555556,
             "#d8576b"
            ],
            [
             0.6666666666666666,
             "#ed7953"
            ],
            [
             0.7777777777777778,
             "#fb9f3a"
            ],
            [
             0.8888888888888888,
             "#fdca26"
            ],
            [
             1,
             "#f0f921"
            ]
           ]
          },
          "colorway": [
           "#636efa",
           "#EF553B",
           "#00cc96",
           "#ab63fa",
           "#FFA15A",
           "#19d3f3",
           "#FF6692",
           "#B6E880",
           "#FF97FF",
           "#FECB52"
          ],
          "font": {
           "color": "#2a3f5f"
          },
          "geo": {
           "bgcolor": "white",
           "lakecolor": "white",
           "landcolor": "#E5ECF6",
           "showlakes": true,
           "showland": true,
           "subunitcolor": "white"
          },
          "hoverlabel": {
           "align": "left"
          },
          "hovermode": "closest",
          "mapbox": {
           "style": "light"
          },
          "paper_bgcolor": "white",
          "plot_bgcolor": "#E5ECF6",
          "polar": {
           "angularaxis": {
            "gridcolor": "white",
            "linecolor": "white",
            "ticks": ""
           },
           "bgcolor": "#E5ECF6",
           "radialaxis": {
            "gridcolor": "white",
            "linecolor": "white",
            "ticks": ""
           }
          },
          "scene": {
           "xaxis": {
            "backgroundcolor": "#E5ECF6",
            "gridcolor": "white",
            "gridwidth": 2,
            "linecolor": "white",
            "showbackground": true,
            "ticks": "",
            "zerolinecolor": "white"
           },
           "yaxis": {
            "backgroundcolor": "#E5ECF6",
            "gridcolor": "white",
            "gridwidth": 2,
            "linecolor": "white",
            "showbackground": true,
            "ticks": "",
            "zerolinecolor": "white"
           },
           "zaxis": {
            "backgroundcolor": "#E5ECF6",
            "gridcolor": "white",
            "gridwidth": 2,
            "linecolor": "white",
            "showbackground": true,
            "ticks": "",
            "zerolinecolor": "white"
           }
          },
          "shapedefaults": {
           "line": {
            "color": "#2a3f5f"
           }
          },
          "ternary": {
           "aaxis": {
            "gridcolor": "white",
            "linecolor": "white",
            "ticks": ""
           },
           "baxis": {
            "gridcolor": "white",
            "linecolor": "white",
            "ticks": ""
           },
           "bgcolor": "#E5ECF6",
           "caxis": {
            "gridcolor": "white",
            "linecolor": "white",
            "ticks": ""
           }
          },
          "title": {
           "x": 0.05
          },
          "xaxis": {
           "automargin": true,
           "gridcolor": "white",
           "linecolor": "white",
           "ticks": "",
           "title": {
            "standoff": 15
           },
           "zerolinecolor": "white",
           "zerolinewidth": 2
          },
          "yaxis": {
           "automargin": true,
           "gridcolor": "white",
           "linecolor": "white",
           "ticks": "",
           "title": {
            "standoff": 15
           },
           "zerolinecolor": "white",
           "zerolinewidth": 2
          }
         }
        },
        "title": {
         "text": "Sales Comparison by Product and Month - 16"
        },
        "xaxis": {
         "tickangle": -45,
         "title": {
          "text": "Year-Month"
         }
        },
        "yaxis": {
         "title": {
          "text": "Sales EUR"
         }
        }
       }
      }
     },
     "metadata": {},
     "output_type": "display_data"
    },
    {
     "data": {
      "application/vnd.plotly.v1+json": {
       "config": {
        "plotlyServerURL": "https://plot.ly"
       },
       "data": [
        {
         "line": {
          "color": "green"
         },
         "mode": "lines",
         "name": "Positive Sales - 20",
         "type": "scatter",
         "x": [
          "2018-10",
          "2018-11",
          "2018-12",
          "2019-01",
          "2019-02",
          "2019-03",
          "2019-04",
          "2019-05",
          "2019-06",
          "2019-07",
          "2019-08",
          "2019-09",
          "2019-10",
          "2019-11",
          "2020-01",
          "2020-03",
          "2020-04",
          "2020-05",
          "2020-06",
          "2020-07",
          "2020-08",
          "2020-09",
          "2020-10",
          "2020-11",
          "2020-12",
          "2021-02",
          "2021-03",
          "2021-04",
          "2021-05",
          "2021-06",
          "2021-07",
          "2021-08",
          "2021-10",
          "2021-11",
          "2021-12",
          "2022-02",
          "2022-03",
          "2022-04"
         ],
         "y": [
          4563.14,
          5798.139999999999,
          918.65,
          2399.18,
          620.66,
          3369.55,
          3635.26,
          944,
          772.94,
          577.6,
          284.4,
          671.1700000000001,
          1566,
          149,
          274.90999999999997,
          555,
          224,
          390,
          983.1,
          826.98,
          2688,
          2047.7,
          7355.75,
          2990.7,
          8485.6,
          1387,
          1076.6,
          8414,
          419.21,
          1766.6,
          842.9300000000001,
          377.22,
          151.49,
          928.8,
          156,
          589.5,
          2885.08,
          6280.629999999999
         ]
        },
        {
         "line": {
          "color": "red"
         },
         "mode": "lines",
         "name": "Negative Sales (abs) - 20",
         "type": "scatter",
         "x": [
          "2019-01",
          "2019-04",
          "2019-05",
          "2019-09",
          "2020-11"
         ],
         "y": [
          1.14,
          15.63,
          5.1,
          6.6,
          11.16
         ]
        }
       ],
       "layout": {
        "showlegend": true,
        "template": {
         "data": {
          "bar": [
           {
            "error_x": {
             "color": "#2a3f5f"
            },
            "error_y": {
             "color": "#2a3f5f"
            },
            "marker": {
             "line": {
              "color": "#E5ECF6",
              "width": 0.5
             },
             "pattern": {
              "fillmode": "overlay",
              "size": 10,
              "solidity": 0.2
             }
            },
            "type": "bar"
           }
          ],
          "barpolar": [
           {
            "marker": {
             "line": {
              "color": "#E5ECF6",
              "width": 0.5
             },
             "pattern": {
              "fillmode": "overlay",
              "size": 10,
              "solidity": 0.2
             }
            },
            "type": "barpolar"
           }
          ],
          "carpet": [
           {
            "aaxis": {
             "endlinecolor": "#2a3f5f",
             "gridcolor": "white",
             "linecolor": "white",
             "minorgridcolor": "white",
             "startlinecolor": "#2a3f5f"
            },
            "baxis": {
             "endlinecolor": "#2a3f5f",
             "gridcolor": "white",
             "linecolor": "white",
             "minorgridcolor": "white",
             "startlinecolor": "#2a3f5f"
            },
            "type": "carpet"
           }
          ],
          "choropleth": [
           {
            "colorbar": {
             "outlinewidth": 0,
             "ticks": ""
            },
            "type": "choropleth"
           }
          ],
          "contour": [
           {
            "colorbar": {
             "outlinewidth": 0,
             "ticks": ""
            },
            "colorscale": [
             [
              0,
              "#0d0887"
             ],
             [
              0.1111111111111111,
              "#46039f"
             ],
             [
              0.2222222222222222,
              "#7201a8"
             ],
             [
              0.3333333333333333,
              "#9c179e"
             ],
             [
              0.4444444444444444,
              "#bd3786"
             ],
             [
              0.5555555555555556,
              "#d8576b"
             ],
             [
              0.6666666666666666,
              "#ed7953"
             ],
             [
              0.7777777777777778,
              "#fb9f3a"
             ],
             [
              0.8888888888888888,
              "#fdca26"
             ],
             [
              1,
              "#f0f921"
             ]
            ],
            "type": "contour"
           }
          ],
          "contourcarpet": [
           {
            "colorbar": {
             "outlinewidth": 0,
             "ticks": ""
            },
            "type": "contourcarpet"
           }
          ],
          "heatmap": [
           {
            "colorbar": {
             "outlinewidth": 0,
             "ticks": ""
            },
            "colorscale": [
             [
              0,
              "#0d0887"
             ],
             [
              0.1111111111111111,
              "#46039f"
             ],
             [
              0.2222222222222222,
              "#7201a8"
             ],
             [
              0.3333333333333333,
              "#9c179e"
             ],
             [
              0.4444444444444444,
              "#bd3786"
             ],
             [
              0.5555555555555556,
              "#d8576b"
             ],
             [
              0.6666666666666666,
              "#ed7953"
             ],
             [
              0.7777777777777778,
              "#fb9f3a"
             ],
             [
              0.8888888888888888,
              "#fdca26"
             ],
             [
              1,
              "#f0f921"
             ]
            ],
            "type": "heatmap"
           }
          ],
          "heatmapgl": [
           {
            "colorbar": {
             "outlinewidth": 0,
             "ticks": ""
            },
            "colorscale": [
             [
              0,
              "#0d0887"
             ],
             [
              0.1111111111111111,
              "#46039f"
             ],
             [
              0.2222222222222222,
              "#7201a8"
             ],
             [
              0.3333333333333333,
              "#9c179e"
             ],
             [
              0.4444444444444444,
              "#bd3786"
             ],
             [
              0.5555555555555556,
              "#d8576b"
             ],
             [
              0.6666666666666666,
              "#ed7953"
             ],
             [
              0.7777777777777778,
              "#fb9f3a"
             ],
             [
              0.8888888888888888,
              "#fdca26"
             ],
             [
              1,
              "#f0f921"
             ]
            ],
            "type": "heatmapgl"
           }
          ],
          "histogram": [
           {
            "marker": {
             "pattern": {
              "fillmode": "overlay",
              "size": 10,
              "solidity": 0.2
             }
            },
            "type": "histogram"
           }
          ],
          "histogram2d": [
           {
            "colorbar": {
             "outlinewidth": 0,
             "ticks": ""
            },
            "colorscale": [
             [
              0,
              "#0d0887"
             ],
             [
              0.1111111111111111,
              "#46039f"
             ],
             [
              0.2222222222222222,
              "#7201a8"
             ],
             [
              0.3333333333333333,
              "#9c179e"
             ],
             [
              0.4444444444444444,
              "#bd3786"
             ],
             [
              0.5555555555555556,
              "#d8576b"
             ],
             [
              0.6666666666666666,
              "#ed7953"
             ],
             [
              0.7777777777777778,
              "#fb9f3a"
             ],
             [
              0.8888888888888888,
              "#fdca26"
             ],
             [
              1,
              "#f0f921"
             ]
            ],
            "type": "histogram2d"
           }
          ],
          "histogram2dcontour": [
           {
            "colorbar": {
             "outlinewidth": 0,
             "ticks": ""
            },
            "colorscale": [
             [
              0,
              "#0d0887"
             ],
             [
              0.1111111111111111,
              "#46039f"
             ],
             [
              0.2222222222222222,
              "#7201a8"
             ],
             [
              0.3333333333333333,
              "#9c179e"
             ],
             [
              0.4444444444444444,
              "#bd3786"
             ],
             [
              0.5555555555555556,
              "#d8576b"
             ],
             [
              0.6666666666666666,
              "#ed7953"
             ],
             [
              0.7777777777777778,
              "#fb9f3a"
             ],
             [
              0.8888888888888888,
              "#fdca26"
             ],
             [
              1,
              "#f0f921"
             ]
            ],
            "type": "histogram2dcontour"
           }
          ],
          "mesh3d": [
           {
            "colorbar": {
             "outlinewidth": 0,
             "ticks": ""
            },
            "type": "mesh3d"
           }
          ],
          "parcoords": [
           {
            "line": {
             "colorbar": {
              "outlinewidth": 0,
              "ticks": ""
             }
            },
            "type": "parcoords"
           }
          ],
          "pie": [
           {
            "automargin": true,
            "type": "pie"
           }
          ],
          "scatter": [
           {
            "fillpattern": {
             "fillmode": "overlay",
             "size": 10,
             "solidity": 0.2
            },
            "type": "scatter"
           }
          ],
          "scatter3d": [
           {
            "line": {
             "colorbar": {
              "outlinewidth": 0,
              "ticks": ""
             }
            },
            "marker": {
             "colorbar": {
              "outlinewidth": 0,
              "ticks": ""
             }
            },
            "type": "scatter3d"
           }
          ],
          "scattercarpet": [
           {
            "marker": {
             "colorbar": {
              "outlinewidth": 0,
              "ticks": ""
             }
            },
            "type": "scattercarpet"
           }
          ],
          "scattergeo": [
           {
            "marker": {
             "colorbar": {
              "outlinewidth": 0,
              "ticks": ""
             }
            },
            "type": "scattergeo"
           }
          ],
          "scattergl": [
           {
            "marker": {
             "colorbar": {
              "outlinewidth": 0,
              "ticks": ""
             }
            },
            "type": "scattergl"
           }
          ],
          "scattermapbox": [
           {
            "marker": {
             "colorbar": {
              "outlinewidth": 0,
              "ticks": ""
             }
            },
            "type": "scattermapbox"
           }
          ],
          "scatterpolar": [
           {
            "marker": {
             "colorbar": {
              "outlinewidth": 0,
              "ticks": ""
             }
            },
            "type": "scatterpolar"
           }
          ],
          "scatterpolargl": [
           {
            "marker": {
             "colorbar": {
              "outlinewidth": 0,
              "ticks": ""
             }
            },
            "type": "scatterpolargl"
           }
          ],
          "scatterternary": [
           {
            "marker": {
             "colorbar": {
              "outlinewidth": 0,
              "ticks": ""
             }
            },
            "type": "scatterternary"
           }
          ],
          "surface": [
           {
            "colorbar": {
             "outlinewidth": 0,
             "ticks": ""
            },
            "colorscale": [
             [
              0,
              "#0d0887"
             ],
             [
              0.1111111111111111,
              "#46039f"
             ],
             [
              0.2222222222222222,
              "#7201a8"
             ],
             [
              0.3333333333333333,
              "#9c179e"
             ],
             [
              0.4444444444444444,
              "#bd3786"
             ],
             [
              0.5555555555555556,
              "#d8576b"
             ],
             [
              0.6666666666666666,
              "#ed7953"
             ],
             [
              0.7777777777777778,
              "#fb9f3a"
             ],
             [
              0.8888888888888888,
              "#fdca26"
             ],
             [
              1,
              "#f0f921"
             ]
            ],
            "type": "surface"
           }
          ],
          "table": [
           {
            "cells": {
             "fill": {
              "color": "#EBF0F8"
             },
             "line": {
              "color": "white"
             }
            },
            "header": {
             "fill": {
              "color": "#C8D4E3"
             },
             "line": {
              "color": "white"
             }
            },
            "type": "table"
           }
          ]
         },
         "layout": {
          "annotationdefaults": {
           "arrowcolor": "#2a3f5f",
           "arrowhead": 0,
           "arrowwidth": 1
          },
          "autotypenumbers": "strict",
          "coloraxis": {
           "colorbar": {
            "outlinewidth": 0,
            "ticks": ""
           }
          },
          "colorscale": {
           "diverging": [
            [
             0,
             "#8e0152"
            ],
            [
             0.1,
             "#c51b7d"
            ],
            [
             0.2,
             "#de77ae"
            ],
            [
             0.3,
             "#f1b6da"
            ],
            [
             0.4,
             "#fde0ef"
            ],
            [
             0.5,
             "#f7f7f7"
            ],
            [
             0.6,
             "#e6f5d0"
            ],
            [
             0.7,
             "#b8e186"
            ],
            [
             0.8,
             "#7fbc41"
            ],
            [
             0.9,
             "#4d9221"
            ],
            [
             1,
             "#276419"
            ]
           ],
           "sequential": [
            [
             0,
             "#0d0887"
            ],
            [
             0.1111111111111111,
             "#46039f"
            ],
            [
             0.2222222222222222,
             "#7201a8"
            ],
            [
             0.3333333333333333,
             "#9c179e"
            ],
            [
             0.4444444444444444,
             "#bd3786"
            ],
            [
             0.5555555555555556,
             "#d8576b"
            ],
            [
             0.6666666666666666,
             "#ed7953"
            ],
            [
             0.7777777777777778,
             "#fb9f3a"
            ],
            [
             0.8888888888888888,
             "#fdca26"
            ],
            [
             1,
             "#f0f921"
            ]
           ],
           "sequentialminus": [
            [
             0,
             "#0d0887"
            ],
            [
             0.1111111111111111,
             "#46039f"
            ],
            [
             0.2222222222222222,
             "#7201a8"
            ],
            [
             0.3333333333333333,
             "#9c179e"
            ],
            [
             0.4444444444444444,
             "#bd3786"
            ],
            [
             0.5555555555555556,
             "#d8576b"
            ],
            [
             0.6666666666666666,
             "#ed7953"
            ],
            [
             0.7777777777777778,
             "#fb9f3a"
            ],
            [
             0.8888888888888888,
             "#fdca26"
            ],
            [
             1,
             "#f0f921"
            ]
           ]
          },
          "colorway": [
           "#636efa",
           "#EF553B",
           "#00cc96",
           "#ab63fa",
           "#FFA15A",
           "#19d3f3",
           "#FF6692",
           "#B6E880",
           "#FF97FF",
           "#FECB52"
          ],
          "font": {
           "color": "#2a3f5f"
          },
          "geo": {
           "bgcolor": "white",
           "lakecolor": "white",
           "landcolor": "#E5ECF6",
           "showlakes": true,
           "showland": true,
           "subunitcolor": "white"
          },
          "hoverlabel": {
           "align": "left"
          },
          "hovermode": "closest",
          "mapbox": {
           "style": "light"
          },
          "paper_bgcolor": "white",
          "plot_bgcolor": "#E5ECF6",
          "polar": {
           "angularaxis": {
            "gridcolor": "white",
            "linecolor": "white",
            "ticks": ""
           },
           "bgcolor": "#E5ECF6",
           "radialaxis": {
            "gridcolor": "white",
            "linecolor": "white",
            "ticks": ""
           }
          },
          "scene": {
           "xaxis": {
            "backgroundcolor": "#E5ECF6",
            "gridcolor": "white",
            "gridwidth": 2,
            "linecolor": "white",
            "showbackground": true,
            "ticks": "",
            "zerolinecolor": "white"
           },
           "yaxis": {
            "backgroundcolor": "#E5ECF6",
            "gridcolor": "white",
            "gridwidth": 2,
            "linecolor": "white",
            "showbackground": true,
            "ticks": "",
            "zerolinecolor": "white"
           },
           "zaxis": {
            "backgroundcolor": "#E5ECF6",
            "gridcolor": "white",
            "gridwidth": 2,
            "linecolor": "white",
            "showbackground": true,
            "ticks": "",
            "zerolinecolor": "white"
           }
          },
          "shapedefaults": {
           "line": {
            "color": "#2a3f5f"
           }
          },
          "ternary": {
           "aaxis": {
            "gridcolor": "white",
            "linecolor": "white",
            "ticks": ""
           },
           "baxis": {
            "gridcolor": "white",
            "linecolor": "white",
            "ticks": ""
           },
           "bgcolor": "#E5ECF6",
           "caxis": {
            "gridcolor": "white",
            "linecolor": "white",
            "ticks": ""
           }
          },
          "title": {
           "x": 0.05
          },
          "xaxis": {
           "automargin": true,
           "gridcolor": "white",
           "linecolor": "white",
           "ticks": "",
           "title": {
            "standoff": 15
           },
           "zerolinecolor": "white",
           "zerolinewidth": 2
          },
          "yaxis": {
           "automargin": true,
           "gridcolor": "white",
           "linecolor": "white",
           "ticks": "",
           "title": {
            "standoff": 15
           },
           "zerolinecolor": "white",
           "zerolinewidth": 2
          }
         }
        },
        "title": {
         "text": "Sales Comparison by Product and Month - 20"
        },
        "xaxis": {
         "tickangle": -45,
         "title": {
          "text": "Year-Month"
         }
        },
        "yaxis": {
         "title": {
          "text": "Sales EUR"
         }
        }
       }
      }
     },
     "metadata": {},
     "output_type": "display_data"
    },
    {
     "data": {
      "application/vnd.plotly.v1+json": {
       "config": {
        "plotlyServerURL": "https://plot.ly"
       },
       "data": [
        {
         "line": {
          "color": "green"
         },
         "mode": "lines",
         "name": "Positive Sales - 36",
         "type": "scatter",
         "x": [
          "2018-10",
          "2018-11",
          "2018-12",
          "2019-01",
          "2019-02",
          "2019-03",
          "2019-04",
          "2019-05",
          "2019-06",
          "2019-07",
          "2019-08",
          "2019-09",
          "2019-10",
          "2019-11",
          "2019-12",
          "2020-01",
          "2020-02",
          "2020-03",
          "2020-04",
          "2020-05",
          "2020-06",
          "2020-07",
          "2020-08",
          "2020-09",
          "2020-10",
          "2020-11",
          "2020-12",
          "2021-01",
          "2021-02",
          "2021-03",
          "2021-04",
          "2021-05",
          "2021-06",
          "2021-07",
          "2021-08",
          "2021-09",
          "2021-10",
          "2021-11",
          "2021-12",
          "2022-01",
          "2022-02",
          "2022-03",
          "2022-04"
         ],
         "y": [
          6474.6,
          21986.89,
          13924.52,
          15444.39,
          8051.15,
          7373.419999999999,
          4526.6,
          16905.32,
          17296.03,
          33334.41,
          1306,
          16582.55,
          1556.5,
          14921.72,
          5906.37,
          17727.88,
          11813.4,
          28300.82,
          27121.6,
          10075.7,
          146778.15,
          3849.6,
          12377.77,
          44867.100000000006,
          22372.49,
          4126.99,
          12105.42,
          3950.1,
          10454.4,
          11796,
          253519.03999999998,
          12775.490000000002,
          24733.07,
          17165.7,
          9233.4,
          26729.61,
          674,
          9449.77,
          48933.5,
          6014.39,
          29869.5,
          2564.85,
          17029.47
         ]
        },
        {
         "line": {
          "color": "red"
         },
         "mode": "lines",
         "name": "Negative Sales (abs) - 36",
         "type": "scatter",
         "x": [
          "2018-11",
          "2019-04",
          "2019-06",
          "2020-01",
          "2020-05",
          "2021-03",
          "2021-07",
          "2021-11"
         ],
         "y": [
          369.28,
          246.35,
          1779.81,
          5887.21,
          426.4,
          360,
          6.43,
          4310.29
         ]
        }
       ],
       "layout": {
        "showlegend": true,
        "template": {
         "data": {
          "bar": [
           {
            "error_x": {
             "color": "#2a3f5f"
            },
            "error_y": {
             "color": "#2a3f5f"
            },
            "marker": {
             "line": {
              "color": "#E5ECF6",
              "width": 0.5
             },
             "pattern": {
              "fillmode": "overlay",
              "size": 10,
              "solidity": 0.2
             }
            },
            "type": "bar"
           }
          ],
          "barpolar": [
           {
            "marker": {
             "line": {
              "color": "#E5ECF6",
              "width": 0.5
             },
             "pattern": {
              "fillmode": "overlay",
              "size": 10,
              "solidity": 0.2
             }
            },
            "type": "barpolar"
           }
          ],
          "carpet": [
           {
            "aaxis": {
             "endlinecolor": "#2a3f5f",
             "gridcolor": "white",
             "linecolor": "white",
             "minorgridcolor": "white",
             "startlinecolor": "#2a3f5f"
            },
            "baxis": {
             "endlinecolor": "#2a3f5f",
             "gridcolor": "white",
             "linecolor": "white",
             "minorgridcolor": "white",
             "startlinecolor": "#2a3f5f"
            },
            "type": "carpet"
           }
          ],
          "choropleth": [
           {
            "colorbar": {
             "outlinewidth": 0,
             "ticks": ""
            },
            "type": "choropleth"
           }
          ],
          "contour": [
           {
            "colorbar": {
             "outlinewidth": 0,
             "ticks": ""
            },
            "colorscale": [
             [
              0,
              "#0d0887"
             ],
             [
              0.1111111111111111,
              "#46039f"
             ],
             [
              0.2222222222222222,
              "#7201a8"
             ],
             [
              0.3333333333333333,
              "#9c179e"
             ],
             [
              0.4444444444444444,
              "#bd3786"
             ],
             [
              0.5555555555555556,
              "#d8576b"
             ],
             [
              0.6666666666666666,
              "#ed7953"
             ],
             [
              0.7777777777777778,
              "#fb9f3a"
             ],
             [
              0.8888888888888888,
              "#fdca26"
             ],
             [
              1,
              "#f0f921"
             ]
            ],
            "type": "contour"
           }
          ],
          "contourcarpet": [
           {
            "colorbar": {
             "outlinewidth": 0,
             "ticks": ""
            },
            "type": "contourcarpet"
           }
          ],
          "heatmap": [
           {
            "colorbar": {
             "outlinewidth": 0,
             "ticks": ""
            },
            "colorscale": [
             [
              0,
              "#0d0887"
             ],
             [
              0.1111111111111111,
              "#46039f"
             ],
             [
              0.2222222222222222,
              "#7201a8"
             ],
             [
              0.3333333333333333,
              "#9c179e"
             ],
             [
              0.4444444444444444,
              "#bd3786"
             ],
             [
              0.5555555555555556,
              "#d8576b"
             ],
             [
              0.6666666666666666,
              "#ed7953"
             ],
             [
              0.7777777777777778,
              "#fb9f3a"
             ],
             [
              0.8888888888888888,
              "#fdca26"
             ],
             [
              1,
              "#f0f921"
             ]
            ],
            "type": "heatmap"
           }
          ],
          "heatmapgl": [
           {
            "colorbar": {
             "outlinewidth": 0,
             "ticks": ""
            },
            "colorscale": [
             [
              0,
              "#0d0887"
             ],
             [
              0.1111111111111111,
              "#46039f"
             ],
             [
              0.2222222222222222,
              "#7201a8"
             ],
             [
              0.3333333333333333,
              "#9c179e"
             ],
             [
              0.4444444444444444,
              "#bd3786"
             ],
             [
              0.5555555555555556,
              "#d8576b"
             ],
             [
              0.6666666666666666,
              "#ed7953"
             ],
             [
              0.7777777777777778,
              "#fb9f3a"
             ],
             [
              0.8888888888888888,
              "#fdca26"
             ],
             [
              1,
              "#f0f921"
             ]
            ],
            "type": "heatmapgl"
           }
          ],
          "histogram": [
           {
            "marker": {
             "pattern": {
              "fillmode": "overlay",
              "size": 10,
              "solidity": 0.2
             }
            },
            "type": "histogram"
           }
          ],
          "histogram2d": [
           {
            "colorbar": {
             "outlinewidth": 0,
             "ticks": ""
            },
            "colorscale": [
             [
              0,
              "#0d0887"
             ],
             [
              0.1111111111111111,
              "#46039f"
             ],
             [
              0.2222222222222222,
              "#7201a8"
             ],
             [
              0.3333333333333333,
              "#9c179e"
             ],
             [
              0.4444444444444444,
              "#bd3786"
             ],
             [
              0.5555555555555556,
              "#d8576b"
             ],
             [
              0.6666666666666666,
              "#ed7953"
             ],
             [
              0.7777777777777778,
              "#fb9f3a"
             ],
             [
              0.8888888888888888,
              "#fdca26"
             ],
             [
              1,
              "#f0f921"
             ]
            ],
            "type": "histogram2d"
           }
          ],
          "histogram2dcontour": [
           {
            "colorbar": {
             "outlinewidth": 0,
             "ticks": ""
            },
            "colorscale": [
             [
              0,
              "#0d0887"
             ],
             [
              0.1111111111111111,
              "#46039f"
             ],
             [
              0.2222222222222222,
              "#7201a8"
             ],
             [
              0.3333333333333333,
              "#9c179e"
             ],
             [
              0.4444444444444444,
              "#bd3786"
             ],
             [
              0.5555555555555556,
              "#d8576b"
             ],
             [
              0.6666666666666666,
              "#ed7953"
             ],
             [
              0.7777777777777778,
              "#fb9f3a"
             ],
             [
              0.8888888888888888,
              "#fdca26"
             ],
             [
              1,
              "#f0f921"
             ]
            ],
            "type": "histogram2dcontour"
           }
          ],
          "mesh3d": [
           {
            "colorbar": {
             "outlinewidth": 0,
             "ticks": ""
            },
            "type": "mesh3d"
           }
          ],
          "parcoords": [
           {
            "line": {
             "colorbar": {
              "outlinewidth": 0,
              "ticks": ""
             }
            },
            "type": "parcoords"
           }
          ],
          "pie": [
           {
            "automargin": true,
            "type": "pie"
           }
          ],
          "scatter": [
           {
            "fillpattern": {
             "fillmode": "overlay",
             "size": 10,
             "solidity": 0.2
            },
            "type": "scatter"
           }
          ],
          "scatter3d": [
           {
            "line": {
             "colorbar": {
              "outlinewidth": 0,
              "ticks": ""
             }
            },
            "marker": {
             "colorbar": {
              "outlinewidth": 0,
              "ticks": ""
             }
            },
            "type": "scatter3d"
           }
          ],
          "scattercarpet": [
           {
            "marker": {
             "colorbar": {
              "outlinewidth": 0,
              "ticks": ""
             }
            },
            "type": "scattercarpet"
           }
          ],
          "scattergeo": [
           {
            "marker": {
             "colorbar": {
              "outlinewidth": 0,
              "ticks": ""
             }
            },
            "type": "scattergeo"
           }
          ],
          "scattergl": [
           {
            "marker": {
             "colorbar": {
              "outlinewidth": 0,
              "ticks": ""
             }
            },
            "type": "scattergl"
           }
          ],
          "scattermapbox": [
           {
            "marker": {
             "colorbar": {
              "outlinewidth": 0,
              "ticks": ""
             }
            },
            "type": "scattermapbox"
           }
          ],
          "scatterpolar": [
           {
            "marker": {
             "colorbar": {
              "outlinewidth": 0,
              "ticks": ""
             }
            },
            "type": "scatterpolar"
           }
          ],
          "scatterpolargl": [
           {
            "marker": {
             "colorbar": {
              "outlinewidth": 0,
              "ticks": ""
             }
            },
            "type": "scatterpolargl"
           }
          ],
          "scatterternary": [
           {
            "marker": {
             "colorbar": {
              "outlinewidth": 0,
              "ticks": ""
             }
            },
            "type": "scatterternary"
           }
          ],
          "surface": [
           {
            "colorbar": {
             "outlinewidth": 0,
             "ticks": ""
            },
            "colorscale": [
             [
              0,
              "#0d0887"
             ],
             [
              0.1111111111111111,
              "#46039f"
             ],
             [
              0.2222222222222222,
              "#7201a8"
             ],
             [
              0.3333333333333333,
              "#9c179e"
             ],
             [
              0.4444444444444444,
              "#bd3786"
             ],
             [
              0.5555555555555556,
              "#d8576b"
             ],
             [
              0.6666666666666666,
              "#ed7953"
             ],
             [
              0.7777777777777778,
              "#fb9f3a"
             ],
             [
              0.8888888888888888,
              "#fdca26"
             ],
             [
              1,
              "#f0f921"
             ]
            ],
            "type": "surface"
           }
          ],
          "table": [
           {
            "cells": {
             "fill": {
              "color": "#EBF0F8"
             },
             "line": {
              "color": "white"
             }
            },
            "header": {
             "fill": {
              "color": "#C8D4E3"
             },
             "line": {
              "color": "white"
             }
            },
            "type": "table"
           }
          ]
         },
         "layout": {
          "annotationdefaults": {
           "arrowcolor": "#2a3f5f",
           "arrowhead": 0,
           "arrowwidth": 1
          },
          "autotypenumbers": "strict",
          "coloraxis": {
           "colorbar": {
            "outlinewidth": 0,
            "ticks": ""
           }
          },
          "colorscale": {
           "diverging": [
            [
             0,
             "#8e0152"
            ],
            [
             0.1,
             "#c51b7d"
            ],
            [
             0.2,
             "#de77ae"
            ],
            [
             0.3,
             "#f1b6da"
            ],
            [
             0.4,
             "#fde0ef"
            ],
            [
             0.5,
             "#f7f7f7"
            ],
            [
             0.6,
             "#e6f5d0"
            ],
            [
             0.7,
             "#b8e186"
            ],
            [
             0.8,
             "#7fbc41"
            ],
            [
             0.9,
             "#4d9221"
            ],
            [
             1,
             "#276419"
            ]
           ],
           "sequential": [
            [
             0,
             "#0d0887"
            ],
            [
             0.1111111111111111,
             "#46039f"
            ],
            [
             0.2222222222222222,
             "#7201a8"
            ],
            [
             0.3333333333333333,
             "#9c179e"
            ],
            [
             0.4444444444444444,
             "#bd3786"
            ],
            [
             0.5555555555555556,
             "#d8576b"
            ],
            [
             0.6666666666666666,
             "#ed7953"
            ],
            [
             0.7777777777777778,
             "#fb9f3a"
            ],
            [
             0.8888888888888888,
             "#fdca26"
            ],
            [
             1,
             "#f0f921"
            ]
           ],
           "sequentialminus": [
            [
             0,
             "#0d0887"
            ],
            [
             0.1111111111111111,
             "#46039f"
            ],
            [
             0.2222222222222222,
             "#7201a8"
            ],
            [
             0.3333333333333333,
             "#9c179e"
            ],
            [
             0.4444444444444444,
             "#bd3786"
            ],
            [
             0.5555555555555556,
             "#d8576b"
            ],
            [
             0.6666666666666666,
             "#ed7953"
            ],
            [
             0.7777777777777778,
             "#fb9f3a"
            ],
            [
             0.8888888888888888,
             "#fdca26"
            ],
            [
             1,
             "#f0f921"
            ]
           ]
          },
          "colorway": [
           "#636efa",
           "#EF553B",
           "#00cc96",
           "#ab63fa",
           "#FFA15A",
           "#19d3f3",
           "#FF6692",
           "#B6E880",
           "#FF97FF",
           "#FECB52"
          ],
          "font": {
           "color": "#2a3f5f"
          },
          "geo": {
           "bgcolor": "white",
           "lakecolor": "white",
           "landcolor": "#E5ECF6",
           "showlakes": true,
           "showland": true,
           "subunitcolor": "white"
          },
          "hoverlabel": {
           "align": "left"
          },
          "hovermode": "closest",
          "mapbox": {
           "style": "light"
          },
          "paper_bgcolor": "white",
          "plot_bgcolor": "#E5ECF6",
          "polar": {
           "angularaxis": {
            "gridcolor": "white",
            "linecolor": "white",
            "ticks": ""
           },
           "bgcolor": "#E5ECF6",
           "radialaxis": {
            "gridcolor": "white",
            "linecolor": "white",
            "ticks": ""
           }
          },
          "scene": {
           "xaxis": {
            "backgroundcolor": "#E5ECF6",
            "gridcolor": "white",
            "gridwidth": 2,
            "linecolor": "white",
            "showbackground": true,
            "ticks": "",
            "zerolinecolor": "white"
           },
           "yaxis": {
            "backgroundcolor": "#E5ECF6",
            "gridcolor": "white",
            "gridwidth": 2,
            "linecolor": "white",
            "showbackground": true,
            "ticks": "",
            "zerolinecolor": "white"
           },
           "zaxis": {
            "backgroundcolor": "#E5ECF6",
            "gridcolor": "white",
            "gridwidth": 2,
            "linecolor": "white",
            "showbackground": true,
            "ticks": "",
            "zerolinecolor": "white"
           }
          },
          "shapedefaults": {
           "line": {
            "color": "#2a3f5f"
           }
          },
          "ternary": {
           "aaxis": {
            "gridcolor": "white",
            "linecolor": "white",
            "ticks": ""
           },
           "baxis": {
            "gridcolor": "white",
            "linecolor": "white",
            "ticks": ""
           },
           "bgcolor": "#E5ECF6",
           "caxis": {
            "gridcolor": "white",
            "linecolor": "white",
            "ticks": ""
           }
          },
          "title": {
           "x": 0.05
          },
          "xaxis": {
           "automargin": true,
           "gridcolor": "white",
           "linecolor": "white",
           "ticks": "",
           "title": {
            "standoff": 15
           },
           "zerolinecolor": "white",
           "zerolinewidth": 2
          },
          "yaxis": {
           "automargin": true,
           "gridcolor": "white",
           "linecolor": "white",
           "ticks": "",
           "title": {
            "standoff": 15
           },
           "zerolinecolor": "white",
           "zerolinewidth": 2
          }
         }
        },
        "title": {
         "text": "Sales Comparison by Product and Month - 36"
        },
        "xaxis": {
         "tickangle": -45,
         "title": {
          "text": "Year-Month"
         }
        },
        "yaxis": {
         "title": {
          "text": "Sales EUR"
         }
        }
       }
      }
     },
     "metadata": {},
     "output_type": "display_data"
    }
   ],
   "source": [
    "plot_sales_by_product_month_comparison(\n",
    "    grouped_positive_sales_prod_month, \n",
    "    grouped_neg_abs_sales_prod_month, \n",
    "    x_column='Year_Month', \n",
    "    y_column='Sales_EUR', \n",
    "    category_column='Mapped_GCK', \n",
    "    title='Sales Comparison by Product and Month', \n",
    "    x_label='Year-Month', \n",
    "    y_label='Sales EUR'\n",
    ")"
   ]
  },
  {
   "cell_type": "markdown",
   "metadata": {},
   "source": [
    "> Total Sales"
   ]
  },
  {
   "cell_type": "code",
   "execution_count": 485,
   "metadata": {},
   "outputs": [],
   "source": [
    "df_sales['Year_Month'] = df_sales['DATE'].dt.to_period('M').astype(str)\n",
    "\n",
    "df_sales = df_sales.groupby(['Year_Month', 'Mapped_GCK'])['Sales_EUR'].sum().reset_index()"
   ]
  },
  {
   "cell_type": "code",
   "execution_count": 486,
   "metadata": {},
   "outputs": [],
   "source": [
    "# Creating new columns for each product\n",
    "df_p1 = df_sales[df_sales['Mapped_GCK'] == 1]\n",
    "df_p3 = df_sales[df_sales['Mapped_GCK'] == 3]\n",
    "df_p4 = df_sales[df_sales['Mapped_GCK'] == 4]\n",
    "df_p5 = df_sales[df_sales['Mapped_GCK'] == 5]\n",
    "df_p6 = df_sales[df_sales['Mapped_GCK'] == 6]\n",
    "df_p8 = df_sales[df_sales['Mapped_GCK'] == 8]\n",
    "df_p9 = df_sales[df_sales['Mapped_GCK'] == 9]\n",
    "df_p11 = df_sales[df_sales['Mapped_GCK'] == 11]\n",
    "df_p12 = df_sales[df_sales['Mapped_GCK'] == 12]\n",
    "df_p13 = df_sales[df_sales['Mapped_GCK'] == 13]\n",
    "df_p14 = df_sales[df_sales['Mapped_GCK'] == 14]\n",
    "df_p16 = df_sales[df_sales['Mapped_GCK'] == 16]\n",
    "df_p20 = df_sales[df_sales['Mapped_GCK'] == 20]\n",
    "df_p36 = df_sales[df_sales['Mapped_GCK'] == 36]\n",
    "\n",
    "df_p1 = df_p1.groupby('Year_Month')['Sales_EUR'].sum().reset_index()\n",
    "df_p3 = df_p3.groupby('Year_Month')['Sales_EUR'].sum().reset_index()\n",
    "df_p4 = df_p4.groupby('Year_Month')['Sales_EUR'].sum().reset_index()\n",
    "df_p5 = df_p5.groupby('Year_Month')['Sales_EUR'].sum().reset_index()\n",
    "df_p6 = df_p6.groupby('Year_Month')['Sales_EUR'].sum().reset_index()\n",
    "df_p8 = df_p8.groupby('Year_Month')['Sales_EUR'].sum().reset_index()\n",
    "df_p9 = df_p9.groupby('Year_Month')['Sales_EUR'].sum().reset_index()\n",
    "df_p11 = df_p11.groupby('Year_Month')['Sales_EUR'].sum().reset_index()\n",
    "df_p12 = df_p12.groupby('Year_Month')['Sales_EUR'].sum().reset_index()\n",
    "df_p13 = df_p13.groupby('Year_Month')['Sales_EUR'].sum().reset_index()\n",
    "df_p14 = df_p14.groupby('Year_Month')['Sales_EUR'].sum().reset_index()\n",
    "df_p16 = df_p16.groupby('Year_Month')['Sales_EUR'].sum().reset_index()\n",
    "df_p20 = df_p20.groupby('Year_Month')['Sales_EUR'].sum().reset_index()\n",
    "df_p36 = df_p36.groupby('Year_Month')['Sales_EUR'].sum().reset_index()\n",
    "\n",
    "df_sales = df_sales.merge(df_p1[['Year_Month', 'Sales_EUR']].rename(columns={'Sales_EUR': 'Product 1'}), on='Year_Month')\n",
    "df_sales = df_sales.merge(df_p3[['Year_Month', 'Sales_EUR']].rename(columns={'Sales_EUR': 'Product 3'}), on='Year_Month')\n",
    "df_sales = df_sales.merge(df_p4[['Year_Month', 'Sales_EUR']].rename(columns={'Sales_EUR': 'Product 4'}), on='Year_Month')\n",
    "df_sales = df_sales.merge(df_p5[['Year_Month', 'Sales_EUR']].rename(columns={'Sales_EUR': 'Product 5'}), on='Year_Month')\n",
    "df_sales = df_sales.merge(df_p6[['Year_Month', 'Sales_EUR']].rename(columns={'Sales_EUR': 'Product 6'}), on='Year_Month')\n",
    "df_sales = df_sales.merge(df_p8[['Year_Month', 'Sales_EUR']].rename(columns={'Sales_EUR': 'Product 8'}), on='Year_Month')\n",
    "df_sales = df_sales.merge(df_p9[['Year_Month', 'Sales_EUR']].rename(columns={'Sales_EUR': 'Product 9'}), on='Year_Month')\n",
    "df_sales = df_sales.merge(df_p11[['Year_Month', 'Sales_EUR']].rename(columns={'Sales_EUR': 'Product 11'}), on='Year_Month')\n",
    "df_sales = df_sales.merge(df_p12[['Year_Month', 'Sales_EUR']].rename(columns={'Sales_EUR': 'Product 12'}), on='Year_Month')\n",
    "df_sales = df_sales.merge(df_p13[['Year_Month', 'Sales_EUR']].rename(columns={'Sales_EUR': 'Product 13'}), on='Year_Month')\n",
    "df_sales = df_sales.merge(df_p14[['Year_Month', 'Sales_EUR']].rename(columns={'Sales_EUR': 'Product 14'}), on='Year_Month')\n",
    "df_sales = df_sales.merge(df_p16[['Year_Month', 'Sales_EUR']].rename(columns={'Sales_EUR': 'Product 16'}), on='Year_Month')\n",
    "df_sales = df_sales.merge(df_p20[['Year_Month', 'Sales_EUR']].rename(columns={'Sales_EUR': 'Product 20'}), on='Year_Month')\n",
    "df_sales = df_sales.merge(df_p36[['Year_Month', 'Sales_EUR']].rename(columns={'Sales_EUR': 'Product 36'}), on='Year_Month')"
   ]
  },
  {
   "cell_type": "code",
   "execution_count": 489,
   "metadata": {},
   "outputs": [],
   "source": [
    "df_sales['Total_Sales_EUR'] = df_sales.groupby('Year_Month')['Sales_EUR'].transform('sum')\n",
    "\n",
    "df_sales.drop(columns=['Sales_EUR', 'Mapped_GCK'], inplace=True)"
   ]
  },
  {
   "cell_type": "code",
   "execution_count": 492,
   "metadata": {},
   "outputs": [],
   "source": [
    "df_sales.drop_duplicates(inplace=True)\n",
    "df_sales.reset_index(drop=True, inplace=True)"
   ]
  },
  {
   "cell_type": "code",
   "execution_count": 493,
   "metadata": {},
   "outputs": [
    {
     "data": {
      "text/html": [
       "<div>\n",
       "<style scoped>\n",
       "    .dataframe tbody tr th:only-of-type {\n",
       "        vertical-align: middle;\n",
       "    }\n",
       "\n",
       "    .dataframe tbody tr th {\n",
       "        vertical-align: top;\n",
       "    }\n",
       "\n",
       "    .dataframe thead th {\n",
       "        text-align: right;\n",
       "    }\n",
       "</style>\n",
       "<table border=\"1\" class=\"dataframe\">\n",
       "  <thead>\n",
       "    <tr style=\"text-align: right;\">\n",
       "      <th></th>\n",
       "      <th>Year_Month</th>\n",
       "      <th>Product 1</th>\n",
       "      <th>Product 3</th>\n",
       "      <th>Product 4</th>\n",
       "      <th>Product 5</th>\n",
       "      <th>Product 6</th>\n",
       "      <th>Product 8</th>\n",
       "      <th>Product 9</th>\n",
       "      <th>Product 11</th>\n",
       "      <th>Product 12</th>\n",
       "      <th>Product 13</th>\n",
       "      <th>Product 14</th>\n",
       "      <th>Product 16</th>\n",
       "      <th>Product 20</th>\n",
       "      <th>Product 36</th>\n",
       "      <th>Total_Sales_EUR</th>\n",
       "    </tr>\n",
       "  </thead>\n",
       "  <tbody>\n",
       "    <tr>\n",
       "      <th>0</th>\n",
       "      <td>2018-10</td>\n",
       "      <td>36098918.79</td>\n",
       "      <td>8089465.96</td>\n",
       "      <td>397760.69</td>\n",
       "      <td>2499061.19</td>\n",
       "      <td>369231.60</td>\n",
       "      <td>586052.74</td>\n",
       "      <td>3219.32</td>\n",
       "      <td>1021303.50</td>\n",
       "      <td>28686.33</td>\n",
       "      <td>27666.10</td>\n",
       "      <td>5770.00</td>\n",
       "      <td>333196.87</td>\n",
       "      <td>4563.14</td>\n",
       "      <td>6474.60</td>\n",
       "      <td>49471370.83</td>\n",
       "    </tr>\n",
       "    <tr>\n",
       "      <th>1</th>\n",
       "      <td>2018-11</td>\n",
       "      <td>5140760.00</td>\n",
       "      <td>11863001.51</td>\n",
       "      <td>371322.42</td>\n",
       "      <td>8993944.04</td>\n",
       "      <td>473046.96</td>\n",
       "      <td>526292.77</td>\n",
       "      <td>1875.90</td>\n",
       "      <td>1898844.80</td>\n",
       "      <td>1070.00</td>\n",
       "      <td>68180.00</td>\n",
       "      <td>17130.00</td>\n",
       "      <td>1377694.32</td>\n",
       "      <td>5798.14</td>\n",
       "      <td>21617.61</td>\n",
       "      <td>30760578.47</td>\n",
       "    </tr>\n",
       "    <tr>\n",
       "      <th>2</th>\n",
       "      <td>2019-01</td>\n",
       "      <td>27728148.35</td>\n",
       "      <td>10705300.63</td>\n",
       "      <td>484173.88</td>\n",
       "      <td>8233205.07</td>\n",
       "      <td>598874.10</td>\n",
       "      <td>381400.15</td>\n",
       "      <td>1487.00</td>\n",
       "      <td>2216391.74</td>\n",
       "      <td>21484.00</td>\n",
       "      <td>27198.29</td>\n",
       "      <td>1686.40</td>\n",
       "      <td>942957.19</td>\n",
       "      <td>2398.04</td>\n",
       "      <td>15444.39</td>\n",
       "      <td>51360149.23</td>\n",
       "    </tr>\n",
       "    <tr>\n",
       "      <th>3</th>\n",
       "      <td>2019-02</td>\n",
       "      <td>34793163.53</td>\n",
       "      <td>10167796.86</td>\n",
       "      <td>620031.80</td>\n",
       "      <td>6879250.99</td>\n",
       "      <td>542037.52</td>\n",
       "      <td>368475.57</td>\n",
       "      <td>3234.28</td>\n",
       "      <td>610456.60</td>\n",
       "      <td>34214.74</td>\n",
       "      <td>32638.63</td>\n",
       "      <td>19196.30</td>\n",
       "      <td>257765.04</td>\n",
       "      <td>620.66</td>\n",
       "      <td>8051.15</td>\n",
       "      <td>54336933.67</td>\n",
       "    </tr>\n",
       "    <tr>\n",
       "      <th>4</th>\n",
       "      <td>2019-03</td>\n",
       "      <td>33856803.04</td>\n",
       "      <td>11040544.57</td>\n",
       "      <td>491643.59</td>\n",
       "      <td>11914313.63</td>\n",
       "      <td>735604.23</td>\n",
       "      <td>591288.36</td>\n",
       "      <td>13050.61</td>\n",
       "      <td>493999.81</td>\n",
       "      <td>10118.00</td>\n",
       "      <td>11890.00</td>\n",
       "      <td>7535.25</td>\n",
       "      <td>2258352.22</td>\n",
       "      <td>3369.55</td>\n",
       "      <td>7373.42</td>\n",
       "      <td>61435886.28</td>\n",
       "    </tr>\n",
       "    <tr>\n",
       "      <th>5</th>\n",
       "      <td>2019-05</td>\n",
       "      <td>38897974.29</td>\n",
       "      <td>12798945.18</td>\n",
       "      <td>375671.57</td>\n",
       "      <td>11389673.26</td>\n",
       "      <td>315978.77</td>\n",
       "      <td>298806.84</td>\n",
       "      <td>4614.08</td>\n",
       "      <td>1066063.90</td>\n",
       "      <td>24468.00</td>\n",
       "      <td>2550.31</td>\n",
       "      <td>17771.40</td>\n",
       "      <td>353451.54</td>\n",
       "      <td>938.90</td>\n",
       "      <td>16905.32</td>\n",
       "      <td>65563813.36</td>\n",
       "    </tr>\n",
       "    <tr>\n",
       "      <th>6</th>\n",
       "      <td>2019-06</td>\n",
       "      <td>39106750.23</td>\n",
       "      <td>11546452.19</td>\n",
       "      <td>190721.15</td>\n",
       "      <td>13681879.16</td>\n",
       "      <td>282963.19</td>\n",
       "      <td>420707.73</td>\n",
       "      <td>4488.09</td>\n",
       "      <td>492133.20</td>\n",
       "      <td>44255.68</td>\n",
       "      <td>34849.21</td>\n",
       "      <td>63017.71</td>\n",
       "      <td>367425.38</td>\n",
       "      <td>772.94</td>\n",
       "      <td>15516.22</td>\n",
       "      <td>66251932.08</td>\n",
       "    </tr>\n",
       "    <tr>\n",
       "      <th>7</th>\n",
       "      <td>2019-07</td>\n",
       "      <td>37912572.30</td>\n",
       "      <td>13421550.83</td>\n",
       "      <td>381274.96</td>\n",
       "      <td>11145039.03</td>\n",
       "      <td>725411.99</td>\n",
       "      <td>366980.26</td>\n",
       "      <td>1766.40</td>\n",
       "      <td>585648.14</td>\n",
       "      <td>21318.48</td>\n",
       "      <td>43008.35</td>\n",
       "      <td>20719.30</td>\n",
       "      <td>266225.86</td>\n",
       "      <td>577.60</td>\n",
       "      <td>33334.41</td>\n",
       "      <td>64925427.91</td>\n",
       "    </tr>\n",
       "    <tr>\n",
       "      <th>8</th>\n",
       "      <td>2019-08</td>\n",
       "      <td>38042677.05</td>\n",
       "      <td>11359418.30</td>\n",
       "      <td>301973.43</td>\n",
       "      <td>7645745.29</td>\n",
       "      <td>206931.17</td>\n",
       "      <td>397537.20</td>\n",
       "      <td>6371.50</td>\n",
       "      <td>2898779.87</td>\n",
       "      <td>19217.00</td>\n",
       "      <td>22497.60</td>\n",
       "      <td>1602.00</td>\n",
       "      <td>725678.33</td>\n",
       "      <td>284.40</td>\n",
       "      <td>1306.00</td>\n",
       "      <td>61630019.14</td>\n",
       "    </tr>\n",
       "    <tr>\n",
       "      <th>9</th>\n",
       "      <td>2019-09</td>\n",
       "      <td>40602780.64</td>\n",
       "      <td>16579668.11</td>\n",
       "      <td>443349.32</td>\n",
       "      <td>15018604.63</td>\n",
       "      <td>499147.73</td>\n",
       "      <td>1084685.92</td>\n",
       "      <td>13930.26</td>\n",
       "      <td>3749980.46</td>\n",
       "      <td>292490.40</td>\n",
       "      <td>19601.05</td>\n",
       "      <td>12851.20</td>\n",
       "      <td>752884.16</td>\n",
       "      <td>664.57</td>\n",
       "      <td>16582.55</td>\n",
       "      <td>79087221.00</td>\n",
       "    </tr>\n",
       "    <tr>\n",
       "      <th>10</th>\n",
       "      <td>2019-10</td>\n",
       "      <td>39012299.19</td>\n",
       "      <td>11382774.45</td>\n",
       "      <td>93226.32</td>\n",
       "      <td>11542647.47</td>\n",
       "      <td>581767.85</td>\n",
       "      <td>111791.34</td>\n",
       "      <td>555.00</td>\n",
       "      <td>218976.78</td>\n",
       "      <td>140819.69</td>\n",
       "      <td>65754.55</td>\n",
       "      <td>1378.55</td>\n",
       "      <td>285644.67</td>\n",
       "      <td>1566.00</td>\n",
       "      <td>1556.50</td>\n",
       "      <td>63440758.36</td>\n",
       "    </tr>\n",
       "    <tr>\n",
       "      <th>11</th>\n",
       "      <td>2019-11</td>\n",
       "      <td>37323903.07</td>\n",
       "      <td>13826060.48</td>\n",
       "      <td>298011.68</td>\n",
       "      <td>8104241.69</td>\n",
       "      <td>181159.20</td>\n",
       "      <td>542923.42</td>\n",
       "      <td>24181.80</td>\n",
       "      <td>1194770.75</td>\n",
       "      <td>320942.28</td>\n",
       "      <td>43190.76</td>\n",
       "      <td>2571.30</td>\n",
       "      <td>291844.03</td>\n",
       "      <td>149.00</td>\n",
       "      <td>14921.72</td>\n",
       "      <td>62168871.18</td>\n",
       "    </tr>\n",
       "    <tr>\n",
       "      <th>12</th>\n",
       "      <td>2020-01</td>\n",
       "      <td>34116651.47</td>\n",
       "      <td>11699896.34</td>\n",
       "      <td>218623.48</td>\n",
       "      <td>7184359.31</td>\n",
       "      <td>-15202.96</td>\n",
       "      <td>323769.20</td>\n",
       "      <td>7647.50</td>\n",
       "      <td>584370.00</td>\n",
       "      <td>213315.32</td>\n",
       "      <td>19519.59</td>\n",
       "      <td>2955.22</td>\n",
       "      <td>384800.46</td>\n",
       "      <td>274.91</td>\n",
       "      <td>11840.67</td>\n",
       "      <td>54752820.51</td>\n",
       "    </tr>\n",
       "    <tr>\n",
       "      <th>13</th>\n",
       "      <td>2020-03</td>\n",
       "      <td>39064430.88</td>\n",
       "      <td>12281515.46</td>\n",
       "      <td>197670.48</td>\n",
       "      <td>9232237.68</td>\n",
       "      <td>529808.94</td>\n",
       "      <td>845857.76</td>\n",
       "      <td>2233.00</td>\n",
       "      <td>2969948.65</td>\n",
       "      <td>185833.89</td>\n",
       "      <td>23513.59</td>\n",
       "      <td>10325.15</td>\n",
       "      <td>160397.35</td>\n",
       "      <td>555.00</td>\n",
       "      <td>28300.82</td>\n",
       "      <td>65532628.65</td>\n",
       "    </tr>\n",
       "    <tr>\n",
       "      <th>14</th>\n",
       "      <td>2020-04</td>\n",
       "      <td>37981531.32</td>\n",
       "      <td>12008066.85</td>\n",
       "      <td>387939.98</td>\n",
       "      <td>7990825.32</td>\n",
       "      <td>782042.98</td>\n",
       "      <td>302765.68</td>\n",
       "      <td>1476.85</td>\n",
       "      <td>813303.01</td>\n",
       "      <td>79632.00</td>\n",
       "      <td>30716.11</td>\n",
       "      <td>-2851.45</td>\n",
       "      <td>70530.70</td>\n",
       "      <td>224.00</td>\n",
       "      <td>27121.60</td>\n",
       "      <td>60473324.95</td>\n",
       "    </tr>\n",
       "    <tr>\n",
       "      <th>15</th>\n",
       "      <td>2020-05</td>\n",
       "      <td>31400212.54</td>\n",
       "      <td>10708632.18</td>\n",
       "      <td>315488.98</td>\n",
       "      <td>9872426.57</td>\n",
       "      <td>750367.70</td>\n",
       "      <td>712746.38</td>\n",
       "      <td>3764.12</td>\n",
       "      <td>842526.10</td>\n",
       "      <td>153949.24</td>\n",
       "      <td>3762.82</td>\n",
       "      <td>32670.00</td>\n",
       "      <td>195141.70</td>\n",
       "      <td>390.00</td>\n",
       "      <td>9649.30</td>\n",
       "      <td>55001727.63</td>\n",
       "    </tr>\n",
       "    <tr>\n",
       "      <th>16</th>\n",
       "      <td>2020-06</td>\n",
       "      <td>30896804.07</td>\n",
       "      <td>13321842.36</td>\n",
       "      <td>329430.96</td>\n",
       "      <td>15873894.91</td>\n",
       "      <td>526425.18</td>\n",
       "      <td>599831.93</td>\n",
       "      <td>7555.45</td>\n",
       "      <td>2246948.00</td>\n",
       "      <td>172712.88</td>\n",
       "      <td>9612.80</td>\n",
       "      <td>8756.45</td>\n",
       "      <td>269150.40</td>\n",
       "      <td>983.10</td>\n",
       "      <td>146778.15</td>\n",
       "      <td>64410726.64</td>\n",
       "    </tr>\n",
       "    <tr>\n",
       "      <th>17</th>\n",
       "      <td>2020-07</td>\n",
       "      <td>35212730.13</td>\n",
       "      <td>12774946.29</td>\n",
       "      <td>294293.79</td>\n",
       "      <td>5590709.71</td>\n",
       "      <td>730187.68</td>\n",
       "      <td>583157.61</td>\n",
       "      <td>943.39</td>\n",
       "      <td>2105975.71</td>\n",
       "      <td>110275.20</td>\n",
       "      <td>6745.20</td>\n",
       "      <td>14793.00</td>\n",
       "      <td>409170.11</td>\n",
       "      <td>826.98</td>\n",
       "      <td>3849.60</td>\n",
       "      <td>57838604.40</td>\n",
       "    </tr>\n",
       "    <tr>\n",
       "      <th>18</th>\n",
       "      <td>2020-08</td>\n",
       "      <td>37482085.58</td>\n",
       "      <td>11373503.08</td>\n",
       "      <td>172952.24</td>\n",
       "      <td>11463705.64</td>\n",
       "      <td>847092.87</td>\n",
       "      <td>916909.76</td>\n",
       "      <td>9907.20</td>\n",
       "      <td>1521580.07</td>\n",
       "      <td>164108.20</td>\n",
       "      <td>25689.64</td>\n",
       "      <td>6919.40</td>\n",
       "      <td>153289.44</td>\n",
       "      <td>2688.00</td>\n",
       "      <td>12377.77</td>\n",
       "      <td>64152808.89</td>\n",
       "    </tr>\n",
       "    <tr>\n",
       "      <th>19</th>\n",
       "      <td>2020-09</td>\n",
       "      <td>38879360.20</td>\n",
       "      <td>15912683.17</td>\n",
       "      <td>645058.00</td>\n",
       "      <td>14160091.05</td>\n",
       "      <td>316929.21</td>\n",
       "      <td>1337657.62</td>\n",
       "      <td>2893.35</td>\n",
       "      <td>3891447.76</td>\n",
       "      <td>168634.80</td>\n",
       "      <td>15314.86</td>\n",
       "      <td>2219.80</td>\n",
       "      <td>209186.60</td>\n",
       "      <td>2047.70</td>\n",
       "      <td>44867.10</td>\n",
       "      <td>75588391.22</td>\n",
       "    </tr>\n",
       "    <tr>\n",
       "      <th>20</th>\n",
       "      <td>2020-10</td>\n",
       "      <td>41453854.50</td>\n",
       "      <td>10003848.44</td>\n",
       "      <td>332603.84</td>\n",
       "      <td>4647204.31</td>\n",
       "      <td>313535.91</td>\n",
       "      <td>153873.52</td>\n",
       "      <td>39510.75</td>\n",
       "      <td>973837.23</td>\n",
       "      <td>5395.00</td>\n",
       "      <td>9524.88</td>\n",
       "      <td>13799.00</td>\n",
       "      <td>145276.08</td>\n",
       "      <td>7355.75</td>\n",
       "      <td>22372.49</td>\n",
       "      <td>58121991.70</td>\n",
       "    </tr>\n",
       "    <tr>\n",
       "      <th>21</th>\n",
       "      <td>2020-11</td>\n",
       "      <td>37643611.57</td>\n",
       "      <td>15021617.79</td>\n",
       "      <td>413558.14</td>\n",
       "      <td>10164873.57</td>\n",
       "      <td>335130.74</td>\n",
       "      <td>904436.89</td>\n",
       "      <td>-4358.10</td>\n",
       "      <td>488891.96</td>\n",
       "      <td>445648.06</td>\n",
       "      <td>20663.64</td>\n",
       "      <td>1750.00</td>\n",
       "      <td>160941.78</td>\n",
       "      <td>2979.54</td>\n",
       "      <td>4126.99</td>\n",
       "      <td>65603872.57</td>\n",
       "    </tr>\n",
       "    <tr>\n",
       "      <th>22</th>\n",
       "      <td>2020-12</td>\n",
       "      <td>34816959.18</td>\n",
       "      <td>9755535.99</td>\n",
       "      <td>303249.59</td>\n",
       "      <td>8845742.30</td>\n",
       "      <td>332556.98</td>\n",
       "      <td>1061969.46</td>\n",
       "      <td>8606.50</td>\n",
       "      <td>1096370.71</td>\n",
       "      <td>271024.19</td>\n",
       "      <td>31216.71</td>\n",
       "      <td>11772.45</td>\n",
       "      <td>260089.25</td>\n",
       "      <td>8485.60</td>\n",
       "      <td>12105.42</td>\n",
       "      <td>56815684.33</td>\n",
       "    </tr>\n",
       "    <tr>\n",
       "      <th>23</th>\n",
       "      <td>2021-02</td>\n",
       "      <td>34630522.81</td>\n",
       "      <td>16136114.38</td>\n",
       "      <td>807758.79</td>\n",
       "      <td>16650952.72</td>\n",
       "      <td>515644.63</td>\n",
       "      <td>1615468.03</td>\n",
       "      <td>10022.40</td>\n",
       "      <td>1978335.55</td>\n",
       "      <td>287890.61</td>\n",
       "      <td>16729.80</td>\n",
       "      <td>2966.82</td>\n",
       "      <td>117004.30</td>\n",
       "      <td>1387.00</td>\n",
       "      <td>10454.40</td>\n",
       "      <td>72781252.24</td>\n",
       "    </tr>\n",
       "    <tr>\n",
       "      <th>24</th>\n",
       "      <td>2021-03</td>\n",
       "      <td>33476138.64</td>\n",
       "      <td>14128552.80</td>\n",
       "      <td>451955.41</td>\n",
       "      <td>11102204.58</td>\n",
       "      <td>625100.14</td>\n",
       "      <td>899610.15</td>\n",
       "      <td>28108.88</td>\n",
       "      <td>1660211.16</td>\n",
       "      <td>282688.34</td>\n",
       "      <td>63092.75</td>\n",
       "      <td>15818.78</td>\n",
       "      <td>309564.27</td>\n",
       "      <td>1076.60</td>\n",
       "      <td>11436.00</td>\n",
       "      <td>63055558.50</td>\n",
       "    </tr>\n",
       "    <tr>\n",
       "      <th>25</th>\n",
       "      <td>2021-04</td>\n",
       "      <td>41257397.90</td>\n",
       "      <td>13461271.93</td>\n",
       "      <td>295958.92</td>\n",
       "      <td>7085482.52</td>\n",
       "      <td>592478.95</td>\n",
       "      <td>1070486.79</td>\n",
       "      <td>16713.96</td>\n",
       "      <td>1206734.34</td>\n",
       "      <td>385267.16</td>\n",
       "      <td>38125.20</td>\n",
       "      <td>5629.00</td>\n",
       "      <td>125710.71</td>\n",
       "      <td>8414.00</td>\n",
       "      <td>253519.04</td>\n",
       "      <td>65803190.42</td>\n",
       "    </tr>\n",
       "    <tr>\n",
       "      <th>26</th>\n",
       "      <td>2021-05</td>\n",
       "      <td>37760015.28</td>\n",
       "      <td>10298079.41</td>\n",
       "      <td>573707.27</td>\n",
       "      <td>8767595.73</td>\n",
       "      <td>566508.34</td>\n",
       "      <td>813607.01</td>\n",
       "      <td>8026.00</td>\n",
       "      <td>1994228.40</td>\n",
       "      <td>379881.93</td>\n",
       "      <td>4130.00</td>\n",
       "      <td>2183.85</td>\n",
       "      <td>218701.06</td>\n",
       "      <td>419.21</td>\n",
       "      <td>12775.49</td>\n",
       "      <td>61399858.98</td>\n",
       "    </tr>\n",
       "    <tr>\n",
       "      <th>27</th>\n",
       "      <td>2021-06</td>\n",
       "      <td>35801398.47</td>\n",
       "      <td>13650393.45</td>\n",
       "      <td>829442.33</td>\n",
       "      <td>11687229.03</td>\n",
       "      <td>490262.94</td>\n",
       "      <td>1091239.79</td>\n",
       "      <td>7240.84</td>\n",
       "      <td>991872.24</td>\n",
       "      <td>326883.32</td>\n",
       "      <td>6015.04</td>\n",
       "      <td>8266.90</td>\n",
       "      <td>186607.11</td>\n",
       "      <td>1766.60</td>\n",
       "      <td>24733.07</td>\n",
       "      <td>65103351.13</td>\n",
       "    </tr>\n",
       "    <tr>\n",
       "      <th>28</th>\n",
       "      <td>2021-07</td>\n",
       "      <td>37130004.21</td>\n",
       "      <td>13288195.24</td>\n",
       "      <td>434669.61</td>\n",
       "      <td>8321886.38</td>\n",
       "      <td>499338.64</td>\n",
       "      <td>1207554.52</td>\n",
       "      <td>11295.75</td>\n",
       "      <td>2253079.74</td>\n",
       "      <td>363685.44</td>\n",
       "      <td>8419.83</td>\n",
       "      <td>76161.44</td>\n",
       "      <td>103935.84</td>\n",
       "      <td>842.93</td>\n",
       "      <td>17159.27</td>\n",
       "      <td>63716228.84</td>\n",
       "    </tr>\n",
       "    <tr>\n",
       "      <th>29</th>\n",
       "      <td>2021-10</td>\n",
       "      <td>44483013.86</td>\n",
       "      <td>13797043.98</td>\n",
       "      <td>344985.73</td>\n",
       "      <td>11472426.01</td>\n",
       "      <td>196463.81</td>\n",
       "      <td>356322.55</td>\n",
       "      <td>937.04</td>\n",
       "      <td>173771.79</td>\n",
       "      <td>217388.43</td>\n",
       "      <td>30506.15</td>\n",
       "      <td>16534.20</td>\n",
       "      <td>141037.06</td>\n",
       "      <td>151.49</td>\n",
       "      <td>674.00</td>\n",
       "      <td>71231256.10</td>\n",
       "    </tr>\n",
       "    <tr>\n",
       "      <th>30</th>\n",
       "      <td>2021-11</td>\n",
       "      <td>34187395.60</td>\n",
       "      <td>18686819.85</td>\n",
       "      <td>290506.87</td>\n",
       "      <td>9606371.14</td>\n",
       "      <td>386462.96</td>\n",
       "      <td>1140720.52</td>\n",
       "      <td>14035.58</td>\n",
       "      <td>1832753.73</td>\n",
       "      <td>428753.94</td>\n",
       "      <td>8136.92</td>\n",
       "      <td>5951.85</td>\n",
       "      <td>230129.08</td>\n",
       "      <td>928.80</td>\n",
       "      <td>5139.48</td>\n",
       "      <td>66824106.32</td>\n",
       "    </tr>\n",
       "    <tr>\n",
       "      <th>31</th>\n",
       "      <td>2021-12</td>\n",
       "      <td>33950069.83</td>\n",
       "      <td>12376414.58</td>\n",
       "      <td>199188.75</td>\n",
       "      <td>8656479.64</td>\n",
       "      <td>190074.96</td>\n",
       "      <td>2655036.78</td>\n",
       "      <td>14935.20</td>\n",
       "      <td>2645689.71</td>\n",
       "      <td>322647.82</td>\n",
       "      <td>24868.86</td>\n",
       "      <td>17427.60</td>\n",
       "      <td>271111.39</td>\n",
       "      <td>156.00</td>\n",
       "      <td>48933.50</td>\n",
       "      <td>61373034.62</td>\n",
       "    </tr>\n",
       "    <tr>\n",
       "      <th>32</th>\n",
       "      <td>2022-02</td>\n",
       "      <td>36293076.33</td>\n",
       "      <td>15665217.47</td>\n",
       "      <td>245306.13</td>\n",
       "      <td>7675455.55</td>\n",
       "      <td>391088.30</td>\n",
       "      <td>1239171.41</td>\n",
       "      <td>901.50</td>\n",
       "      <td>964672.32</td>\n",
       "      <td>312165.52</td>\n",
       "      <td>33449.25</td>\n",
       "      <td>4410.00</td>\n",
       "      <td>45696.76</td>\n",
       "      <td>589.50</td>\n",
       "      <td>29869.50</td>\n",
       "      <td>62901069.54</td>\n",
       "    </tr>\n",
       "    <tr>\n",
       "      <th>33</th>\n",
       "      <td>2022-03</td>\n",
       "      <td>40220407.03</td>\n",
       "      <td>14320304.55</td>\n",
       "      <td>406399.83</td>\n",
       "      <td>14739187.18</td>\n",
       "      <td>316132.21</td>\n",
       "      <td>1873520.38</td>\n",
       "      <td>4452.60</td>\n",
       "      <td>2284958.40</td>\n",
       "      <td>343523.42</td>\n",
       "      <td>12149.40</td>\n",
       "      <td>46100.24</td>\n",
       "      <td>98729.91</td>\n",
       "      <td>2885.08</td>\n",
       "      <td>2564.85</td>\n",
       "      <td>74671315.08</td>\n",
       "    </tr>\n",
       "    <tr>\n",
       "      <th>34</th>\n",
       "      <td>2022-04</td>\n",
       "      <td>41053203.12</td>\n",
       "      <td>11999374.51</td>\n",
       "      <td>302057.04</td>\n",
       "      <td>8884607.53</td>\n",
       "      <td>333705.61</td>\n",
       "      <td>1336220.96</td>\n",
       "      <td>3285.00</td>\n",
       "      <td>1126268.66</td>\n",
       "      <td>178141.00</td>\n",
       "      <td>17020.04</td>\n",
       "      <td>1846.20</td>\n",
       "      <td>134071.24</td>\n",
       "      <td>6280.63</td>\n",
       "      <td>17029.47</td>\n",
       "      <td>65393111.01</td>\n",
       "    </tr>\n",
       "  </tbody>\n",
       "</table>\n",
       "</div>"
      ],
      "text/plain": [
       "   Year_Month    Product 1    Product 3  Product 4    Product 5  Product 6  \\\n",
       "0     2018-10  36098918.79   8089465.96  397760.69   2499061.19  369231.60   \n",
       "1     2018-11   5140760.00  11863001.51  371322.42   8993944.04  473046.96   \n",
       "2     2019-01  27728148.35  10705300.63  484173.88   8233205.07  598874.10   \n",
       "3     2019-02  34793163.53  10167796.86  620031.80   6879250.99  542037.52   \n",
       "4     2019-03  33856803.04  11040544.57  491643.59  11914313.63  735604.23   \n",
       "5     2019-05  38897974.29  12798945.18  375671.57  11389673.26  315978.77   \n",
       "6     2019-06  39106750.23  11546452.19  190721.15  13681879.16  282963.19   \n",
       "7     2019-07  37912572.30  13421550.83  381274.96  11145039.03  725411.99   \n",
       "8     2019-08  38042677.05  11359418.30  301973.43   7645745.29  206931.17   \n",
       "9     2019-09  40602780.64  16579668.11  443349.32  15018604.63  499147.73   \n",
       "10    2019-10  39012299.19  11382774.45   93226.32  11542647.47  581767.85   \n",
       "11    2019-11  37323903.07  13826060.48  298011.68   8104241.69  181159.20   \n",
       "12    2020-01  34116651.47  11699896.34  218623.48   7184359.31  -15202.96   \n",
       "13    2020-03  39064430.88  12281515.46  197670.48   9232237.68  529808.94   \n",
       "14    2020-04  37981531.32  12008066.85  387939.98   7990825.32  782042.98   \n",
       "15    2020-05  31400212.54  10708632.18  315488.98   9872426.57  750367.70   \n",
       "16    2020-06  30896804.07  13321842.36  329430.96  15873894.91  526425.18   \n",
       "17    2020-07  35212730.13  12774946.29  294293.79   5590709.71  730187.68   \n",
       "18    2020-08  37482085.58  11373503.08  172952.24  11463705.64  847092.87   \n",
       "19    2020-09  38879360.20  15912683.17  645058.00  14160091.05  316929.21   \n",
       "20    2020-10  41453854.50  10003848.44  332603.84   4647204.31  313535.91   \n",
       "21    2020-11  37643611.57  15021617.79  413558.14  10164873.57  335130.74   \n",
       "22    2020-12  34816959.18   9755535.99  303249.59   8845742.30  332556.98   \n",
       "23    2021-02  34630522.81  16136114.38  807758.79  16650952.72  515644.63   \n",
       "24    2021-03  33476138.64  14128552.80  451955.41  11102204.58  625100.14   \n",
       "25    2021-04  41257397.90  13461271.93  295958.92   7085482.52  592478.95   \n",
       "26    2021-05  37760015.28  10298079.41  573707.27   8767595.73  566508.34   \n",
       "27    2021-06  35801398.47  13650393.45  829442.33  11687229.03  490262.94   \n",
       "28    2021-07  37130004.21  13288195.24  434669.61   8321886.38  499338.64   \n",
       "29    2021-10  44483013.86  13797043.98  344985.73  11472426.01  196463.81   \n",
       "30    2021-11  34187395.60  18686819.85  290506.87   9606371.14  386462.96   \n",
       "31    2021-12  33950069.83  12376414.58  199188.75   8656479.64  190074.96   \n",
       "32    2022-02  36293076.33  15665217.47  245306.13   7675455.55  391088.30   \n",
       "33    2022-03  40220407.03  14320304.55  406399.83  14739187.18  316132.21   \n",
       "34    2022-04  41053203.12  11999374.51  302057.04   8884607.53  333705.61   \n",
       "\n",
       "     Product 8  Product 9  Product 11  Product 12  Product 13  Product 14  \\\n",
       "0    586052.74    3219.32  1021303.50    28686.33    27666.10     5770.00   \n",
       "1    526292.77    1875.90  1898844.80     1070.00    68180.00    17130.00   \n",
       "2    381400.15    1487.00  2216391.74    21484.00    27198.29     1686.40   \n",
       "3    368475.57    3234.28   610456.60    34214.74    32638.63    19196.30   \n",
       "4    591288.36   13050.61   493999.81    10118.00    11890.00     7535.25   \n",
       "5    298806.84    4614.08  1066063.90    24468.00     2550.31    17771.40   \n",
       "6    420707.73    4488.09   492133.20    44255.68    34849.21    63017.71   \n",
       "7    366980.26    1766.40   585648.14    21318.48    43008.35    20719.30   \n",
       "8    397537.20    6371.50  2898779.87    19217.00    22497.60     1602.00   \n",
       "9   1084685.92   13930.26  3749980.46   292490.40    19601.05    12851.20   \n",
       "10   111791.34     555.00   218976.78   140819.69    65754.55     1378.55   \n",
       "11   542923.42   24181.80  1194770.75   320942.28    43190.76     2571.30   \n",
       "12   323769.20    7647.50   584370.00   213315.32    19519.59     2955.22   \n",
       "13   845857.76    2233.00  2969948.65   185833.89    23513.59    10325.15   \n",
       "14   302765.68    1476.85   813303.01    79632.00    30716.11    -2851.45   \n",
       "15   712746.38    3764.12   842526.10   153949.24     3762.82    32670.00   \n",
       "16   599831.93    7555.45  2246948.00   172712.88     9612.80     8756.45   \n",
       "17   583157.61     943.39  2105975.71   110275.20     6745.20    14793.00   \n",
       "18   916909.76    9907.20  1521580.07   164108.20    25689.64     6919.40   \n",
       "19  1337657.62    2893.35  3891447.76   168634.80    15314.86     2219.80   \n",
       "20   153873.52   39510.75   973837.23     5395.00     9524.88    13799.00   \n",
       "21   904436.89   -4358.10   488891.96   445648.06    20663.64     1750.00   \n",
       "22  1061969.46    8606.50  1096370.71   271024.19    31216.71    11772.45   \n",
       "23  1615468.03   10022.40  1978335.55   287890.61    16729.80     2966.82   \n",
       "24   899610.15   28108.88  1660211.16   282688.34    63092.75    15818.78   \n",
       "25  1070486.79   16713.96  1206734.34   385267.16    38125.20     5629.00   \n",
       "26   813607.01    8026.00  1994228.40   379881.93     4130.00     2183.85   \n",
       "27  1091239.79    7240.84   991872.24   326883.32     6015.04     8266.90   \n",
       "28  1207554.52   11295.75  2253079.74   363685.44     8419.83    76161.44   \n",
       "29   356322.55     937.04   173771.79   217388.43    30506.15    16534.20   \n",
       "30  1140720.52   14035.58  1832753.73   428753.94     8136.92     5951.85   \n",
       "31  2655036.78   14935.20  2645689.71   322647.82    24868.86    17427.60   \n",
       "32  1239171.41     901.50   964672.32   312165.52    33449.25     4410.00   \n",
       "33  1873520.38    4452.60  2284958.40   343523.42    12149.40    46100.24   \n",
       "34  1336220.96    3285.00  1126268.66   178141.00    17020.04     1846.20   \n",
       "\n",
       "    Product 16  Product 20  Product 36  Total_Sales_EUR  \n",
       "0    333196.87     4563.14     6474.60      49471370.83  \n",
       "1   1377694.32     5798.14    21617.61      30760578.47  \n",
       "2    942957.19     2398.04    15444.39      51360149.23  \n",
       "3    257765.04      620.66     8051.15      54336933.67  \n",
       "4   2258352.22     3369.55     7373.42      61435886.28  \n",
       "5    353451.54      938.90    16905.32      65563813.36  \n",
       "6    367425.38      772.94    15516.22      66251932.08  \n",
       "7    266225.86      577.60    33334.41      64925427.91  \n",
       "8    725678.33      284.40     1306.00      61630019.14  \n",
       "9    752884.16      664.57    16582.55      79087221.00  \n",
       "10   285644.67     1566.00     1556.50      63440758.36  \n",
       "11   291844.03      149.00    14921.72      62168871.18  \n",
       "12   384800.46      274.91    11840.67      54752820.51  \n",
       "13   160397.35      555.00    28300.82      65532628.65  \n",
       "14    70530.70      224.00    27121.60      60473324.95  \n",
       "15   195141.70      390.00     9649.30      55001727.63  \n",
       "16   269150.40      983.10   146778.15      64410726.64  \n",
       "17   409170.11      826.98     3849.60      57838604.40  \n",
       "18   153289.44     2688.00    12377.77      64152808.89  \n",
       "19   209186.60     2047.70    44867.10      75588391.22  \n",
       "20   145276.08     7355.75    22372.49      58121991.70  \n",
       "21   160941.78     2979.54     4126.99      65603872.57  \n",
       "22   260089.25     8485.60    12105.42      56815684.33  \n",
       "23   117004.30     1387.00    10454.40      72781252.24  \n",
       "24   309564.27     1076.60    11436.00      63055558.50  \n",
       "25   125710.71     8414.00   253519.04      65803190.42  \n",
       "26   218701.06      419.21    12775.49      61399858.98  \n",
       "27   186607.11     1766.60    24733.07      65103351.13  \n",
       "28   103935.84      842.93    17159.27      63716228.84  \n",
       "29   141037.06      151.49      674.00      71231256.10  \n",
       "30   230129.08      928.80     5139.48      66824106.32  \n",
       "31   271111.39      156.00    48933.50      61373034.62  \n",
       "32    45696.76      589.50    29869.50      62901069.54  \n",
       "33    98729.91     2885.08     2564.85      74671315.08  \n",
       "34   134071.24     6280.63    17029.47      65393111.01  "
      ]
     },
     "execution_count": 493,
     "metadata": {},
     "output_type": "execute_result"
    }
   ],
   "source": [
    "df_sales"
   ]
  },
  {
   "cell_type": "code",
   "execution_count": null,
   "metadata": {},
   "outputs": [],
   "source": []
  }
 ],
 "metadata": {
  "kernelspec": {
   "display_name": "Python 3",
   "language": "python",
   "name": "python3"
  },
  "language_info": {
   "codemirror_mode": {
    "name": "ipython",
    "version": 3
   },
   "file_extension": ".py",
   "mimetype": "text/x-python",
   "name": "python",
   "nbconvert_exporter": "python",
   "pygments_lexer": "ipython3",
   "version": "3.11.5"
  }
 },
 "nbformat": 4,
 "nbformat_minor": 2
}
