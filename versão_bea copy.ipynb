{
 "cells": [
  {
   "cell_type": "markdown",
   "metadata": {},
   "source": [
    "<p align=\"center\">\n",
    "  <img src=\"header.png\" width=\"100%\">\n",
    "</p>\n",
    "\n",
    "\n",
    "<div style=\"text-align: center;\">\n",
    "    <strong style=\"display: block; margin-bottom: 10px;\">Group P</strong> \n",
    "    <table style=\"margin: 0 auto; border-collapse: collapse; border: 1px solid black;\">\n",
    "        <tr>\n",
    "            <th style=\"border: 1px solid white; padding: 8px;\">Name</th>\n",
    "            <th style=\"border: 1px solid white; padding: 8px;\">Student ID</th>\n",
    "        </tr>\n",
    "        <tr>\n",
    "            <td style=\"border: 1px solid white; padding: 8px;\">Beatriz Monteiro</td>\n",
    "            <td style=\"border: 1px solid white; padding: 8px;\">20240591</td>\n",
    "        </tr>\n",
    "        <tr>\n",
    "            <td style=\"border: 1px solid white; padding: 8px;\">Catarina Nunes</td>\n",
    "            <td style=\"border: 1px solid white; padding: 8px;\">20230083</td>\n",
    "        </tr>\n",
    "        <tr>\n",
    "            <td style=\"border: 1px solid white; padding: 8px;\">Margarida Raposo</td>\n",
    "            <td style=\"border: 1px solid white; padding: 8px;\">20241020</td>\n",
    "        </tr>\n",
    "        <tr>\n",
    "            <td style=\"border: 1px solid white; padding: 8px;\">Teresa Menezes</td>\n",
    "            <td style=\"border: 1px solid white; padding: 8px;\">20240333</td>\n",
    "        </tr>\n",
    "    </table>\n",
    "</div>"
   ]
  },
  {
   "cell_type": "markdown",
   "metadata": {},
   "source": [
    "### 🔗 Table of Contents <a id='table-of-contents'></a>\n",
    "1. [Introduction](#introduction): Previous Notebook\n",
    "2. [Business Understanding](#business-understanding): Previous Notebook  \n",
    "3. [Data Understanding](#data-understanding): Previous Notebook\n",
    "4. [Data Preparation](#data-preparation): Previous Notebook + In this one we have the preparation pipeline  \n",
    "5. [Modeling](#modeling): \n",
    "6. [Evaluation](#evaluation)\n",
    "7. [Conclusion](#conclusion) \n",
    "\n",
    "---"
   ]
  },
  {
   "cell_type": "markdown",
   "metadata": {},
   "source": [
    "### <span style=\"background-color:#000027; padding:5px; border-radius:5px;\"> 📌 Introduction <a id='introduction'></a>"
   ]
  },
  {
   "cell_type": "markdown",
   "metadata": {},
   "source": [
    "This project follows the **CRISP-DM** methodology to conduct a monthly sales forecast of the smart infrastructure business unit of Siemens. \n",
    "\n",
    "<b style=\"background-color:#A9A9A9; padding:5px; border-radius:5px; display: inline-block;\">CRISP-DM</b>\n",
    "\n",
    "<ul style=\"margin-bottom: 30px;\">\n",
    "    <li><u>Business Understanding</u>: Defining objectives, assessing resources, and project planning.</li>\n",
    "    <li><u>Data Understanding</u>: Collecting, exploring, and verifying data quality.</li>\n",
    "    <li><u>Data Preparation</u>: Selecting, cleaning, constructing, integrating, and formatting data to ensure it is ready for analysis.</li>\n",
    "    <li><u>Modeling</u>: Selecting and applying various modeling techniques while calibrating their parameters to optimal values.</li>\n",
    "    <li><u>Evaluation</u>: Select the models which are the best performers and evaluate thoroughly if they align with the business objectives. </li>\n",
    "    <li><u>Deployment</u>: Bridge between data mining goals and the business application of the finalized model.</li>\n",
    "</ul>\n",
    "\n",
    "---\n",
    "<b style=\"background-color:#A9A9A9; padding:5px; border-radius:5px; display: inline-block;\">Montlhy Sales Forecast</b>\n",
    "\n",
    "<p style=\"margin-bottom: 50px;\"> This case study focuses on ... </p>\n",
    "\n",
    "---\n",
    "\n",
    "<b style=\"background-color:#A9A9A9; padding:5px; border-radius:5px; display: inline-block;\">Market Data</b><br>\n",
    "(https://ec.europa.eu/eurostat/statistics-explained/index.php?title=Thematic_glossaries)<br>\n",
    "Due to the lack of information about the macroeconomic indicatores used, our analysis was based on the assumption that the following definitions are correct.\n",
    "\n",
    "\n",
    "- The **Production index** measures changes in value added at factor cost of industry and construction over a month. It does this by measuring changes in the volume of output and activity monthly.\n",
    "- The **Shipment index** is a measure of the volume of goods shipped by manufacturers monthly. It is an indicator of economic trends, since it reflects production, supply chain dynamics and overall industrial performance. \n",
    "- The **World prices of materials** is monthly average global market prices for key industrial inputs, such as energy, heavy materials, etc. These are likely to fluctuate with changes in supply/demand dynamics and economic conditions. \n",
    "- The **United States: EUR in LCU** is the monthly exchange rate of the Euro, expressed in local currency units from the United States (US dollar), representing the number of US dollars per euro. It indicates currency fluctuation, which often impacts trade.\n",
    "- The **Producer prices** measures the monthly change in the trading price of products and related services, from the seller's perspective. It does not only serve as an early indicator of inflationary pressures in the economy before it reaches the consumer, but it can also record the evolution of prices over longer time periods.\n",
    "\n",
    "<br>\n",
    "\n",
    "| **Features**                                    | **Feature Description**                                                                                             |\n",
    "|-------------------------------------------------|---------------------------------------------------------------------------------------------------------------------|\n",
    "| *MAB_ELE_PRO156*                                | **Production index** for machinery and electrical equipment in China.                                                     |\n",
    "| *MAB_ELE_SHP156*                                | **Shipments index** for machinery and electrical equipment in China.                                                     |\n",
    "| *MAB_ELE_PRO250*                                | **Production index** for machinery and electrical equipment in France.                                                    |\n",
    "| *MAB_ELE_SHP250*                                | **Shipments index** for machinery and electrical equipment in France.                                                    |\n",
    "| *MAB_ELE_PRO276*                                | **Production index** for machinery and electrical equipment in Germany.                                                  |\n",
    "| *MAB_ELE_SHP276*                                | **Shipments index** for machinery and electrical equipment in Germany.                                                  |\n",
    "| *MAB_ELE_PRO380*                                | **Production index** for machinery and electrical equipment in Italy.                                                    |\n",
    "| *MAB_ELE_SHP380*                                | **Shipments index** for machinery and electrical equipment in Italy.                                                    |\n",
    "| *MAB_ELE_PRO392*                                | **Production index** for machinery and electrical equipment in Japan.                                                    |\n",
    "| *MAB_ELE_SHP392*                                | **Shipments index** for machinery and electrical equipment in Japan.                                                    |\n",
    "| *MAB_ELE_PRO756*                                | **Production index** for machinery and electrical equipment in Switzerland.                                              |\n",
    "| *MAB_ELE_SHP756*                                | **Shipments index** for machinery and electrical equipment in Switzerland.                                              |\n",
    "| *MAB_ELE_PRO826*                                | **Production index** for machinery and electrical equipment in United Kingdom.                                           |\n",
    "| *MAB_ELE_SHP826*                                | **Shipments index** for machinery and electrical equipment in United Kingdom.                                           |\n",
    "| *MAB_ELE_PRO840*                                | **Production index** for machinery and electrical equipment in the United States.                                        |\n",
    "| *MAB_ELE_SHP840*                                | **Shipments index** for machinery and electrical equipment in the United States.                                        |\n",
    "| *MAB_ELE_PRO1100*                               | **Production index** for machinery and electrical equipment in Europe.                                                   |\n",
    "| *MAB_ELE_SHP1100*                               | **Shipments index** for machinery and electrical equipment in Europe.                                                   |\n",
    "| *RohiBASEMET1000_org*                           | **World price** of base metals.                                                                                          |\n",
    "| *RohiENERGY1000_org*                            | **World price** of energy.                                                                                               |\n",
    "| *RohiMETMIN1000_org*                            | **World price** of metals and minerals.                                                                                   |\n",
    "| *RohiNATGAS1000_org*                            | **World price** of natural gas index.                                                                                     |\n",
    "| *RohCRUDE_PETRO1000_org*                        | **World price** of crude oil (average).                                                                                   |\n",
    "| *RohCOPPER1000_org*                             | **World price** of copper.                                                                                                |\n",
    "| *WKLWEUR840_org*                                | United States: **Euros in local currency units** (LCU).                                                                    |\n",
    "| *PRI27840_org*                                  | United States: Electrical equipment (**Producer Prices**).                                                                |\n",
    "| *PRI27826_org*                                  | United Kingdom: Electrical equipment (**Producer Prices**).                                                               |\n",
    "| *PRI27380_org*                                  | Italy: Electrical equipment (**Producer Prices**).                                                                        |\n",
    "| *PRI27250_org*                                  | France: Electrical equipment (**Producer Prices**).                                                                       |\n",
    "| *PRI27276_org*                                  | Germany: Electrical equipment (**Producer Prices**).                                                                      |\n",
    "| *PRI27156_org*                                  | China: Electrical equipment (**Producer Prices**).                                                                       |\n",
    "| *PRO28840_org*                                  | United States: Machinery and equipment n.e.c. (**Production index**).                                                      |\n",
    "| *PRO281000_org*                                 | World: Machinery and equipment n.e.c. (**Production index**).                                                             |\n",
    "| *PRO28756_org*                                  | Switzerland: Machinery and equipment n.e.c. (**Production index**).                                                       |\n",
    "| *PRO28826_org*                                  | United Kingdom: Machinery and equipment n.e.c. (**Production index**).                                                    |\n",
    "| *PRO28380_org*                                  | Italy: Machinery and equipment n.e.c. (**Production index**).                                                             |\n",
    "| *PRO28392_org*                                  | Japan: Machinery and equipment n.e.c. (**Production index**).                                                             |\n",
    "| *PRO28250_org*                                  | France: Machinery and equipment n.e.c. (**Production index**).                                                            |\n",
    "| *PRO28276_org*                                  | Germany: Machinery and equipment n.e.c. (**Production index**).                                                           |\n",
    "| *PRO27840_org*                                  | United States: Electrical equipment (**Production index**).                                                               |\n",
    "| *PRO271000_org*                                 | World: Electrical equipment (**Production index**).                                                                      |\n",
    "| *PRO27756_org*                                  | Switzerland: Electrical equipment (**Production index**).                                                                 |\n",
    "| *PRO27826_org*                                  | United Kingdom: Electrical equipment (**Production index**).                                                             |\n",
    "| *PRO27380_org*                                  | Italy: Electrical equipment (**Production index**).                                                                      |\n",
    "| *PRO27392_org*                                  | Japan: Electrical equipment (**Production index**).                                                                      |\n",
    "| *PRO27250_org*                                  | France: Electrical equipment (**Production index**).                                                                     |\n",
    "| *PRO27276_org*                                  | Germany: Electrical equipment (**Production index**).                                                                    |\n",
    "\n",
    "<br>\n",
    "\n",
    "---\n",
    "\n",
    "<b style=\"background-color:#A9A9A9; padding:5px; border-radius:5px; display: inline-block;\">Sales Data</b>\n",
    "| Features                                      | Feature Description |\n",
    "|-----------------------------------------------|---------------------|\n",
    "| *DATE*                                       | Day at which a sale was made, in the format *dd-mm-yyyy* |\n",
    "| *Mapped_GCK*                                 | Product group of the product sold |\n",
    "| *Sales_EUR*                                  | Monetary amount made from the sale, in Euros  |\n",
    "\n",
    "<br>\n",
    "\n",
    "---"
   ]
  },
  {
   "cell_type": "code",
   "execution_count": 55,
   "metadata": {},
   "outputs": [],
   "source": [
    "# pip install prophet == 1.1.6\n",
    "# pip install keras == 3.9.0 tensorflow == 2.19.0\n",
    "# pip install neuralprophet == 0.8.0\n",
    "# pytorch-forecasting-1.3.0\n",
    "#pip install nixtla == 0.6.6\n",
    "#pip install pmdarima == 2.0.4\n",
    "#pip install scikeras == 0.13.0\n",
    "#pip install keras-tcn == 3.1.2"
   ]
  },
  {
   "cell_type": "code",
   "execution_count": 56,
   "metadata": {},
   "outputs": [],
   "source": [
    "import os\n",
    "import pickle\n",
    "import pandas as pd\n",
    "import numpy as np\n",
    "\n",
    "import seaborn as sns\n",
    "\n",
    "from itertools import combinations\n",
    "from sklearn.model_selection import PredefinedSplit, GridSearchCV, TimeSeriesSplit\n",
    "from joblib import Parallel, delayed\n",
    "from sklearn.preprocessing import StandardScaler\n",
    "\n",
    "\n",
    "#timesgpt\n",
    "from nixtla import NixtlaClient\n",
    "#xgboost\n",
    "import xgboost as xgb\n",
    "from xgboost.callback import EarlyStopping\n",
    "from xgboost import XGBRegressor\n",
    "#tcn\n",
    "from scikeras.wrappers import KerasRegressor\n",
    "from tcn import TCN\n",
    "from tensorflow.keras.models import Model\n",
    "from tensorflow.keras.layers import Input, Dense\n",
    "from tensorflow.keras.models import Sequential\n",
    "#arima\n",
    "from statsmodels.tsa.arima.model import ARIMA\n",
    "from pmdarima import auto_arima\n",
    "from statsmodels.tsa.statespace.sarimax import SARIMAX\n",
    "import warnings\n",
    "#NeuralProphet\n",
    "from prophet import Prophet\n",
    "from neuralprophet import NeuralProphet\n",
    "\n",
    "#evaluation\n",
    "from sklearn.metrics import (\n",
    "    mean_squared_error, \n",
    "    r2_score, \n",
    "    mean_absolute_percentage_error,\n",
    "    mean_absolute_error,\n",
    "    root_mean_squared_error)\n",
    "\n",
    "from scipy.stats import shapiro\n",
    "from statsmodels.tsa.stattools import adfuller\n",
    "\n"
   ]
  },
  {
   "cell_type": "code",
   "execution_count": 57,
   "metadata": {},
   "outputs": [],
   "source": [
    "from plotly.subplots import make_subplots\n",
    "from statsmodels.tsa.stattools import acf, pacf\n",
    "import plotly.graph_objects as go"
   ]
  },
  {
   "cell_type": "raw",
   "metadata": {
    "vscode": {
     "languageId": "raw"
    }
   },
   "source": [
    "\n",
    "import plotly.graph_objects as go\n",
    "from plotly.subplots import make_subplots\n",
    "\n",
    "#Check if Y is stationary\n",
    "\n",
    "from math import sqrt\n",
    "\n",
    "import statsmodels.api as sm\n",
    "\n",
    "import itertools\n",
    "\n",
    "# Modeling Pipeline (Feature selection, Scaling, Model testing)\n",
    "from sklearn.preprocessing import StandardScaler, MinMaxScaler\n",
    "#from sklearn.model_selection import train_test_split\n",
    "\n",
    "import tensorflow as tf\n",
    "from pytorch_forecasting.data.timeseries import TimeSeriesDataSet\n",
    "import torch\n",
    "import plotly\n",
    "import plotly.graph_objects as go\n",
    "import matplotlib.pyplot as plt"
   ]
  },
  {
   "cell_type": "code",
   "execution_count": 58,
   "metadata": {},
   "outputs": [],
   "source": [
    "# Set pandas display options\n",
    "pd.set_option('display.max_columns', None)  # Show all columns\n",
    "pd.set_option('display.width', 1000)       # Set display width\n",
    "pd.set_option('display.max_colwidth', 100) # Show full feature lists\n",
    "pd.set_option('display.float_format', '{:.4f}'.format)  # 4 decimal places\n",
    "\n",
    "# If you want to force standard notation (no scientific):\n",
    "pd.set_option('display.float_format', lambda x: '%.4f' % x if abs(x) > 1e-4 else '%.4e' % x)"
   ]
  },
  {
   "cell_type": "code",
   "execution_count": 59,
   "metadata": {},
   "outputs": [],
   "source": [
    "from IPython.display import display, HTML\n",
    "\n",
    "def display_excel_sheets_side_by_side(excel_path, tablespacing=5, max_height=\"500px\"):\n",
    "    \"\"\"\n",
    "    Displays all sheets from an Excel file as tables in a scrollable horizontal div.\n",
    "    \n",
    "    Args:\n",
    "        excel_path (str): Path to the Excel file.\n",
    "        tablespacing (int): Spacing between tables (in pixels).\n",
    "        max_height (str): Maximum height of the table container (e.g., \"500px\").\n",
    "    \"\"\"\n",
    "    # Read all sheets from the Excel file\n",
    "    sheets_dict = pd.read_excel(excel_path, sheet_name=None)\n",
    "    \n",
    "    # Generate HTML for each sheet\n",
    "    html = \"\"\"\n",
    "    <div style='overflow-x: auto; white-space: nowrap; padding-bottom: 10px; border-bottom: 2px solid #ddd;'>\n",
    "    \"\"\"\n",
    "    \n",
    "    for sheet_name, df in sheets_dict.items():\n",
    "        # Convert DataFrame to HTML and style it\n",
    "        table_html = df.to_html(\n",
    "            index=False, \n",
    "            classes='dataframe', \n",
    "            border=0,\n",
    "            max_rows=10  # Limit rows for display (optional)\n",
    "        )\n",
    "        \n",
    "        # Wrap each table in a scrollable div\n",
    "        html += f\"\"\"\n",
    "        <div style='display:inline-block; margin-right:{tablespacing * 5}px; vertical-align:top;'>\n",
    "            <h4 style='text-align:center;'>{sheet_name}</h4>\n",
    "            <div style='max-height:{max_height}; overflow-y:auto; border:1px solid #ccc; padding:5px;'>\n",
    "                {table_html}\n",
    "            </div>\n",
    "        </div>\n",
    "        \"\"\"\n",
    "    \n",
    "    html += \"</div>\"\n",
    "    display(HTML(html))"
   ]
  },
  {
   "cell_type": "markdown",
   "metadata": {},
   "source": [
    "### <span style=\"background-color:#000027; padding:5px; border-radius:5px;\"> 📌 Business Understanding <a id='business-understanding'></a>\n",
    "\n",
    "##### Click [here](#table-of-contents) ⬆️ to return to the Index.\n",
    "---"
   ]
  },
  {
   "cell_type": "markdown",
   "metadata": {},
   "source": [
    "The **Business Understanding** phase of the project entails the comprehension of the background leading to the project, as well as the business goals and requirements to be achieved. \n",
    "<br><br><br>\n",
    "Siemens is a global technology company that provides multi-industry solutions, with a strong focus on automation, digitalization, and sustainability. \n",
    "\n",
    "**Smart Infrastructure** division at Siemens\n",
    "\n",
    "(https://www.siemens.com/global/en/company/about/businesses/smart-infrastructure.html\n",
    "https://www.siemens.com/global/en/company/about/history/company/2007-2018.html)\n",
    "\n",
    "In October 2018, Siemens launched its Smart Infrastructure division, as part of the implementation of an optimized corporate structure. This new division emerged from the merger of former divisions, specifically the power distribution segment of the Energy Management division, the Building Technologies’ business, and the control products business of the Digital Factory division.\n",
    "Smart Infrastructure helps customers through their digital transformation journey by leveraging cutting-edge technology that enables clients to adapt to evolving environments and to seize new opportunities. It mostly provides B2B services, focusing on energy efficiency and resource optimization, which in turn improves clients’ asset performance, availability, reliability, and operational efficiency. All in all, this division future-proofs infrastructures, fostering collaborative ecosystems.\n",
    "\n",
    "<br><br>\n",
    "**Economic Environment 2018**\n",
    "\n",
    "(Siemens. (2018). Annual report 2018. Siemens AG. https://www.siemens.com/global/en/company/investor-relations/events-publications-ad-hoc/annualreports.html)\n",
    "\n",
    "`Overall economic conditions`\n",
    "In 2018, advanced countries saw GDP growth of 2.3%, mainly due to the U.S. economy benefiting from tax cuts. In contrast, emerging countries' GDP growth fell slightly from 4.7% to 4.6%, affected by capital outflows and currency depreciation, notably in Argentina and Turkey. This decline was worsened by U.S. monetary tightening and fears of a global trade war from new tariffs. Political tensions increased in the Middle East, particularly with U.S. sanctions on Iran. In Europe, uncertainties around the U.K.'s exit from the EU and worries about Italy’s budget led to negative investment sentiment. All in all, the economic acceleration at the beginning of 2018 lost steam towards the end of the year due to these adverse effects.\n",
    "\n",
    "`Energy Management`\n",
    "The Energy Management Division offers a wide spectrum of software, products, systems, solutions, and services for transmitting, distributing and managing electrical power and for providing intelligent power infrastructure.\n",
    "This sector faces competition from large multinational companies and fast-growing firms in emerging countries. It generally benefits from major trends, in particular decarbonization, decentralization and digitalization. Although Energy Management reported a double-digit order decline, due to a sharply lower volume of large orders in the transmission solutions business, revenue grew in most Division’s businesses, led by the power distribution businesses. For the latter, on a geographic basis, higher revenue in the region Asia, Australia was partially offset by a decline in the Americas strongly influenced by currency headwinds, while revenue in the region Europe, C. I. S., Africa, Middle East was flat year-over-year.\n",
    "Under the new organizational structure, transmission solutions will be assigned to the Operating Company Gas and Power, while the businesses for power distribution will be assigned to the Operating Company Smart Infrastructure.\n",
    "\n",
    "\n",
    "`Building Technologies`\n",
    "The Building Technologies Division is a leading provider of automation technologies and digital services for safe, secure and efficient buildings and infrastructures. The Division offers products, solutions, services and software for fire safety, security, building automation and energy management.\n",
    "The Division competes with multinational companies, system integrators, local firms, and IT startups. Strong competition is causing price pressure, especially in the solutions business. Economic changes affect the Division's activities with delay, and particularly in non-residential construction markets, there is a time lag of two to four quarters. Key trends include the demand for energy efficiency and smart space solutions to improve comfort and productivity. In fiscal 2018, the Building Technologies acquired three startups to strengthen its portfolio and expertise. Revenue increased, with the Division’s revenue growing faster than the market on increases in all reporting regions, with strongest market growth contributions came from the Asia, Australia region, particularly including India. Orders grew in the region Europe, C. I. S., Africa, Middle East, driven by double-digit growth in Germany including multiple multi-year service contracts. The Division won major orders in the U. S. in both periods under review. Profit and profitability remained strong, supported by economies of scale and improved productivity. The markets are expected to grow solidly in fiscal 2019, although U.S. growth may slow slightly.\n",
    "\n",
    "\n",
    "`Digital Factory`\n",
    "The Digital Factory Division provides a wide range of automation products and solutions for manufacturing, including software, control systems, motors, and integrated systems. It also offers lifecycle services and software for design and testing. Changes in customer demand are strongly driven by macroeconomic cycles, leading to variations in profitability. Competition is mainly from large multinational firms offering a relatively broad portfolio, and companies that are only active in certain geographic or product markets. Key trends include rising interest rates, which will limit investment but at the same time make it more focused on improving efficiency, a shift towards regionalization solutions, either to protect local economies or to better adapt solutions to local needs, and an increased focus on digitalization for competitiveness. The Division reported year-over-year growth in orders and revenue, especially in software. Growth was strongest in the Americas and Asia, notably China, and customer investments grew faster than their production, underlining a clear growth momentum relating to automation and digitalization. While the market is expected to continue growing, slower demand is anticipated for 2019 due to the high investment levels of 2018 and rising global trade tensions.\n",
    "\n",
    "<br><br>\n",
    "**Economic Environment 2019**\n",
    "\n",
    "(Siemens. (2019). Annual report 2019. Siemens AG. https://www.siemens.com/global/en/company/investor-relations/events-publications-ad-hoc/annualreports.html)\n",
    "\n",
    "`Overall economic conditions`\n",
    "After GDP growth of 3.2% in 2018, it is expected to drop to 2.6% in 2019, as to the U.S.-China trade dispute and geopolitical tensions in the Middle East contributed to uncertainty, which weighed on capital investments. Global exchange of goods started to decline from October 2018, leading to near-stagnation of industrial production afterwards. The decline affected regions reliant on trade and industry, particularly Germany and Italy in Europe, Mexico and Canada in the Americas, and India in Asia. In addition, European economies suffered from continued uncertainties regarding the U. K. leaving the European Union (Brexit) and the budget clash between the European Commission and Italy’s government, both weighing especially on business investment environment. Countries dependent on commodities and raw material exporting, notably Chile, Brazil and Argentina, saw declines in commodity prices in addition to other adverse factors including domestic political and financial instability. Advanced countries are expected to grow by 1.6%, 0.7 percentage points lower than 2018, while emerging countries will see a decline from 4.6% to 4.1%.\n",
    "\n",
    "`Smart Infrastructure`\n",
    "Smart Infrastructure brings together energy supply – from intelligent control across the grid and low- and medium-voltage electrification and control products – with building technology, targeting high-growth areas like energy storage, electric vehicle infrastructure, and microgrids at the grid edge. It reaches customers through multiple channels, including global sales, distributors, OEMs, resellers, installers, and direct sales via regional branch offices. Its diverse customer base encompasses infrastructure developers, construction firms, public and commercial buildings, utilities, and heavy industries. Smart Infrastructure faces competition from large multinationals, smaller manufacturers, local integrators, and facility management firms. Economic changes impact customer demand differently, with discrete manufacturing reacting quickly and strongly with macroeconomic cycles, while other sectors - infrastructure, construction, heavy industries and the utilities – have a slower response to economic cycles. Key trends include rising population and urbanization, the need for safe and sustainable environments, and decarbonization, growing decentralization and prosumers’ influence. Orders and revenue increased across all business areas and regions in fiscal 2019.  \n",
    "\n",
    "<br><br>\n",
    "**Economic Environment 2020**\n",
    "\n",
    "(Siemens. (2020). Annual report 2020. Siemens AG. https://www.siemens.com/global/en/company/investor-relations/events-publications-ad-hoc/annualreports.html)\n",
    "\n",
    "`Overall economic conditions`\n",
    "The fiscal year 2020 was heavily affected by the coronavirus pandemic and subsequent recession, the deepest since World War II. Global GDP is expected to fall by 4.5% in 2020, following a growth of 2.6% in 2019. Economic activity was already decelerating due to the U.S.-China trade conflict, but economic sentiment indicators were starting to improve in response to calming of the conflict ( “phase one deal”). Then COVID-19 emerged and started to spread globally, resulting in strict social distancing measures that limited operations, especially in contact-heavy sectors. Many other industries were directly affected by supply chain problems or indirectly by insufficient demand and stopped production.\n",
    "\n",
    "Governments and central banks responded with strong fiscal and monetary policies to support businesses and households, leading to a brief economic rebound in the summer. However, renewed virus outbreaks hindered full recovery and restrictions in high contact industries made the economy operate only at about 90% of its full potential, with advanced economies projected to see a 5.5% decline in GDP. Siemens experienced mixed impacts across its sectors, benefiting from growth in technology-related areas, while facing challenges in customer access and sales. While the pandemic significantly slowed our sales and service activities, this also resulted in cost reductions such as lower travel and marketing expenses. Furthermore, we were able to keep our production largely stable due to the use of our own technology in our factories and our diversified value chain.\n",
    "\n",
    "\n",
    "`Smart Infrastructure`\n",
    "Smart Infrastructure’s businesses are impacted by changes in the overall economic environment to varying degrees, depending on customer segment. Particularly in its solutions and service business, it is affected by changes in the non-residential building construction markets with a time lag of two to four quarters.\n",
    "Smart Infrastructure is experiencing a decline in orders, particularly in the solutions and services business, which previously saw a higher volume of orders. The products business showed only a slight decrease, while orders in the systems and software business stayed stable. Overall, revenue for the solutions and services business and for the systems and software business remained close to the prior- year levels. The drop in orders and revenue primarily came from Europe, Africa, the Middle East, and parts of Asia and Australia, but the Americas remained stable.\n",
    "Demand in Smart Infrastructure markets declined moderately due to COVID-19, especially in the automotive, oil and gas, and machine-building sectors. However, energy performance services and the data center market grew due to the increased focus on energy efficiency, digital services and remote work. \n",
    "Market development will be affected by lower demand from building construction, leading to a slight decline in volume of markets served by Smart Infrastructure year-over-year. Asia and Australia are expected return to normal growth, while Europe and the U.S. may see declines.\n",
    "\n",
    "<br><br>\n",
    "**Economic Environment 2021**\n",
    "\n",
    "(Siemens. (2021). Annual report 2021. Siemens AG. https://www.siemens.com/global/en/company/investor-relations/events-publications-ad-hoc/annualreports.html)\n",
    "\n",
    "`Overall economic conditions`\n",
    "In fiscal 2021, the global economy was heavily influenced by the COVID-19 pandemic and its many repercussions. After a GDP contraction in 2020, a strong recovery is expected in 2021. The economy grew rapidly in the third quarter of 2020 after the first wave of COVID-19. Despite fears of a new recession due to subsequent COVID-19 waves, economic activity had already adapted, supported by significant stimulus measures in Europe and the U.S.\n",
    "Central banks gave support with expansionary measures, while short-term interest rates were at or near zero. Accordingly, the global economy continued to expand also in the fourth quarter of calendar 2020 and the first quarter of calendar 2021, despite renewed outbreaks and lockdowns. In December 2020, the first countries approved new COVID-19 vaccines.\n",
    "However, momentum weakened in early 2021 due to rising infections and the more contagious Delta variant. Vaccination efforts lagged, especially in emerging countries, while supply disruptions affected many sectors, leading to logistics bottlenecks that disrupted value chains from raw materials to high-tech goods, especially semiconductors, and caused extraordinary disruptions in global logistics systems. High demand for goods, driven by consumer savings, contributed to increased producer and energy prices,  resulting in elevated rates of inflation. \n",
    "The Chinese economy – with the world’s largest manufacturing sector –  particularly benefited from global demand. However, tensions in the property sector and energy shortages weighed on economic activity in the second half of calendar 2021. \n",
    "Overall, major economies experienced strong rebounds, and GDP is expected to grow strongly.\n",
    "\n",
    "`Smart Infrastructure`\n",
    "Smart Infrastructure is benefitting from several positive trends, including urbanization, demographic changes, climate change, and digitalization. Urbanization and demographic shifts create a demand for smarter buildings, while climate change pushes for decarbonization and the development of flexible energy infrastructures. Digitalization enables the improvement of building efficiency and electricity management with more renewable energy sources.\n",
    "Orders for Smart Infrastructure improved across all sectors, with notable growth in the products and systems businesses, driven by demand from industrial customers and contracts from U.S. semiconductor manufacturers. Revenue also grew, although the solutions and services business saw a slight decline due to negative currency translation effects. Meanwhile, supply chain challenges were managed effectively, preventing major disruptions.\n",
    "Overall, markets served by Smart Infrastructure grew moderately in fiscal 2021, experiencing a recovery from COVID-19-related effects that had a strong impact on most customer industries a year earlier.\n",
    "Smart Infrastructure also experienced a number of supply chain constraints, especially in the areas of base metals (copper, aluminum, steel), plastics, semiconductors and transportation services. Whereas the management of these constraints required additional effort, Smart Infrastructure’s supply chains have proven to be resilient, so that major interruptions could be avoided, and delivery ability was maintained.\n",
    "Market growth is expected to accelerate, primarily fueled by demand in the pharmaceutical sector, data centers, and utilities. Growth will be strongest in Asia and Australia. Growth in the region Europe, C.I.S., Africa, and the Middle East is expected to accelerate and markets in the region Americas are expected to return to growth.\n",
    "\n",
    "<br><br>\n",
    "**Economic Environment 2022**\n",
    "\n",
    "(Siemens. (2022). Annual report 2022. Siemens AG. https://www.siemens.com/global/en/company/investor-relations/events-publications-ad-hoc/annualreports.html)\n",
    "\n",
    "`Overall economic conditions`\n",
    "In fiscal 2022, global economic growth faced major disruptions from the war in Ukraine, the effects of COVID-19, and the economic slowdown in China. After a strong recovery in 2021, GDP growth is expected to decline as the economic rebound ended abruptly. In late 2021, increased vaccinations and reduced restrictions boosted consumer spending, triggering inflationary pressures, especially in the U.S. and Europe. Supply chain issues, labor shortages, and heightened energy prices contributed to this inflation, while large stimulus packages and high household savings fueled it. \n",
    "The war in Ukraine further strained economies in early 2022, causing another significant rise in energy prices, which heavily impacted Europe and industrial sectors, especially energy-intensive industries such as chemicals. The war in Ukraine put further pressure on developing economies, especially in the Middle East, Africa, and Turkey, as both Russia and Ukraine were major exporters of grain and fertilizer before the war.\n",
    "China’s zero-COVID strategy became even more strict with the emergence of the Delta variant and the highly infectious Omicron variant, which hindered economic activity, along with regulations affecting growing sectors and a recession in real estate. Consequently, China's growth was predicted to slow. \n",
    "In response to rising inflation, the U.S. Federal Reserve raised interest rates and tightened monetary policy, followed by other central banks. This led to economic disruptions, resulting in slower-than-expected GDP growth for 2022.\n",
    "\n",
    "`Smart Infrastructure`\n",
    "In fiscal 2022, Smart Infrastructure acquired Brightly Software Inc., improving its position in software for asset and maintenance management. Smart Infrastructure’s businesses are impacted by changes in the overall economic environment to varying degrees. Especially, demand for service offerings shows only limited influence from macroeconomic cycles.\n",
    "Orders and revenue grew significantly across all businesses, especially in electrical products and electrification, driven by industrial customers, data centers, and proactive purchasing. Smart Infrastructure faced supply chain challenges but avoided major disruptions. The Americas region saw the strongest growth, while Asia and Australia were hindered by COVID-19 impacts, particularly in China. Both order and revenue development included positive currency translation effects. \n",
    "Overall, markets served by Smart Infrastructure grew clearly in fiscal 2022. Market growth is anticipated to be slightly slower due to ongoing inflation and supply chain issues, with solid demand expected in data centers and power distribution despite challenges like price increases and geopolitical tensions.\n",
    "Market development is expected to continue to be influenced by supply chain constraints and effects from the war in Ukraine, including on energy prices. Further impacts could arise from potential lockdown measures in China and geopolitical tensions."
   ]
  },
  {
   "cell_type": "markdown",
   "metadata": {},
   "source": [
    "### <span style=\"background-color:#000027; padding:5px; border-radius:5px;\"> 📌 Modeling <a id='modeling'></a>\n",
    "\n",
    "[1. Data Loading](#data-loading-and-description)\n",
    "\n",
    "[2. Usefull Functions](#functions)\n",
    "\n",
    "[3. Model Selection per Product](#model-selection)\n",
    "- [3.1. TimeGPT](#timegpt)\n",
    "- [3.2. XGBoost](#xgboost)\n",
    "- [3.3. TCN](#tcn) \n",
    "- [3.4. Prophet](#prophet) \n",
    "- [3.5. ARIMA](#arima)\n",
    "- [3.6. Results Comparison](#compare) \n",
    "\n",
    "[4. Exogenous Variables Prediction](#market)\n",
    "\n",
    "[5. Final Modeling](#final)\n",
    "\n",
    "\n",
    "Click [here](#table-of-contents) ⬆️ to return to the Index.\n",
    "\n",
    "---"
   ]
  },
  {
   "cell_type": "markdown",
   "metadata": {},
   "source": [
    "#### <span style=\"background-color:#000027; padding:5px; border-radius:5px;\">**1. Data Loading**</span> <a id='data-loading-and-description'></a>  \n",
    "\n",
    "Click [here](#table-of-contents) ⬆️ to return to the Index.\n"
   ]
  },
  {
   "cell_type": "code",
   "execution_count": 60,
   "metadata": {},
   "outputs": [
    {
     "name": "stdout",
     "output_type": "stream",
     "text": [
      "Loaded P1 from product_dfs_folder\\P1.pkl\n",
      "Loaded P11 from product_dfs_folder\\P11.pkl\n",
      "Loaded P12 from product_dfs_folder\\P12.pkl\n",
      "Loaded P13 from product_dfs_folder\\P13.pkl\n",
      "Loaded P14 from product_dfs_folder\\P14.pkl\n",
      "Loaded P16 from product_dfs_folder\\P16.pkl\n",
      "Loaded P20 from product_dfs_folder\\P20.pkl\n",
      "Loaded P3 from product_dfs_folder\\P3.pkl\n",
      "Loaded P36 from product_dfs_folder\\P36.pkl\n",
      "Loaded P4 from product_dfs_folder\\P4.pkl\n",
      "Loaded P5 from product_dfs_folder\\P5.pkl\n",
      "Loaded P6 from product_dfs_folder\\P6.pkl\n",
      "Loaded P8 from product_dfs_folder\\P8.pkl\n",
      "Loaded P9 from product_dfs_folder\\P9.pkl\n",
      "Loaded Sales_CPI from product_dfs_folder\\Sales_CPI.pkl\n",
      "Loaded P1 from lagged_product_dfs_folder\\P1.pkl\n",
      "Loaded P11 from lagged_product_dfs_folder\\P11.pkl\n",
      "Loaded P12 from lagged_product_dfs_folder\\P12.pkl\n",
      "Loaded P13 from lagged_product_dfs_folder\\P13.pkl\n",
      "Loaded P16 from lagged_product_dfs_folder\\P16.pkl\n",
      "Loaded P20 from lagged_product_dfs_folder\\P20.pkl\n",
      "Loaded P3 from lagged_product_dfs_folder\\P3.pkl\n",
      "Loaded P36 from lagged_product_dfs_folder\\P36.pkl\n",
      "Loaded P4 from lagged_product_dfs_folder\\P4.pkl\n",
      "Loaded P5 from lagged_product_dfs_folder\\P5.pkl\n",
      "Loaded P8 from lagged_product_dfs_folder\\P8.pkl\n",
      "Loaded P9 from lagged_product_dfs_folder\\P9.pkl\n"
     ]
    }
   ],
   "source": [
    "def load_dfs_from_folder(folder_path):\n",
    "    \"\"\"Loads DataFrames from files in a specified folder and returns a dictionary.\"\"\"\n",
    "    dfs = {}\n",
    "    # List all files in the folder\n",
    "    for file_name in os.listdir(folder_path):\n",
    "        if file_name.endswith(\".pkl\"):\n",
    "            key = file_name.replace(\".pkl\", \"\")  # Extract key from the file name\n",
    "            file_path = os.path.join(folder_path, file_name)\n",
    "            \n",
    "            # Load the dataframe from the pickle file\n",
    "            with open(file_path, 'rb') as f:\n",
    "                dfs[key] = pickle.load(f)\n",
    "            print(f\"Loaded {key} from {file_path}\")\n",
    "    \n",
    "    return dfs\n",
    "\n",
    "# Load both product_dfs and lagged_product_dfs from their respective folders\n",
    "product_dfs = load_dfs_from_folder(\"product_dfs_folder\")\n",
    "lagged_product_dfs = load_dfs_from_folder(\"lagged_product_dfs_folder\")"
   ]
  },
  {
   "cell_type": "code",
   "execution_count": 61,
   "metadata": {},
   "outputs": [],
   "source": [
    "for product_id in product_dfs.keys():\n",
    "    product_dfs[product_id] = product_dfs[product_id].rename(columns={product_id: \"Sales\"})\n",
    "\n",
    "for product_id in lagged_product_dfs.keys():\n",
    "    lagged_product_dfs[product_id] = lagged_product_dfs[product_id].rename(columns={product_id: \"Sales\"})"
   ]
  },
  {
   "cell_type": "code",
   "execution_count": 62,
   "metadata": {},
   "outputs": [
    {
     "data": {
      "text/html": [
       "<div>\n",
       "<style scoped>\n",
       "    .dataframe tbody tr th:only-of-type {\n",
       "        vertical-align: middle;\n",
       "    }\n",
       "\n",
       "    .dataframe tbody tr th {\n",
       "        vertical-align: top;\n",
       "    }\n",
       "\n",
       "    .dataframe thead th {\n",
       "        text-align: right;\n",
       "    }\n",
       "</style>\n",
       "<table border=\"1\" class=\"dataframe\">\n",
       "  <thead>\n",
       "    <tr style=\"text-align: right;\">\n",
       "      <th></th>\n",
       "      <th>Sales</th>\n",
       "      <th>MAB_ELE_SHP840</th>\n",
       "      <th>PRI27276_org</th>\n",
       "      <th>PRO27826_org</th>\n",
       "      <th>MAB_ELE_PRO276</th>\n",
       "      <th>MAB_ELE_SHP1100</th>\n",
       "    </tr>\n",
       "    <tr>\n",
       "      <th>month_year</th>\n",
       "      <th></th>\n",
       "      <th></th>\n",
       "      <th></th>\n",
       "      <th></th>\n",
       "      <th></th>\n",
       "      <th></th>\n",
       "    </tr>\n",
       "  </thead>\n",
       "  <tbody>\n",
       "    <tr>\n",
       "      <th>2018-10-01</th>\n",
       "      <td>35774028.5209</td>\n",
       "      <td>127.8088</td>\n",
       "      <td>109.1196</td>\n",
       "      <td>118.6708</td>\n",
       "      <td>124.2279</td>\n",
       "      <td>130.9893</td>\n",
       "    </tr>\n",
       "    <tr>\n",
       "      <th>2018-11-01</th>\n",
       "      <td>5063648.6000</td>\n",
       "      <td>117.6759</td>\n",
       "      <td>109.2248</td>\n",
       "      <td>120.4670</td>\n",
       "      <td>127.4041</td>\n",
       "      <td>132.9341</td>\n",
       "    </tr>\n",
       "    <tr>\n",
       "      <th>2018-12-01</th>\n",
       "      <td>37321267.9382</td>\n",
       "      <td>123.2801</td>\n",
       "      <td>109.3301</td>\n",
       "      <td>105.3787</td>\n",
       "      <td>120.5186</td>\n",
       "      <td>131.2613</td>\n",
       "    </tr>\n",
       "    <tr>\n",
       "      <th>2019-01-01</th>\n",
       "      <td>27090400.9380</td>\n",
       "      <td>111.0438</td>\n",
       "      <td>109.7510</td>\n",
       "      <td>107.1749</td>\n",
       "      <td>104.7763</td>\n",
       "      <td>113.0576</td>\n",
       "    </tr>\n",
       "    <tr>\n",
       "      <th>2019-02-01</th>\n",
       "      <td>34132093.4229</td>\n",
       "      <td>116.7369</td>\n",
       "      <td>109.8562</td>\n",
       "      <td>110.6476</td>\n",
       "      <td>109.5970</td>\n",
       "      <td>117.7047</td>\n",
       "    </tr>\n",
       "  </tbody>\n",
       "</table>\n",
       "</div>"
      ],
      "text/plain": [
       "                   Sales  MAB_ELE_SHP840  PRI27276_org  PRO27826_org  MAB_ELE_PRO276  MAB_ELE_SHP1100\n",
       "month_year                                                                                           \n",
       "2018-10-01 35774028.5209        127.8088      109.1196      118.6708        124.2279         130.9893\n",
       "2018-11-01  5063648.6000        117.6759      109.2248      120.4670        127.4041         132.9341\n",
       "2018-12-01 37321267.9382        123.2801      109.3301      105.3787        120.5186         131.2613\n",
       "2019-01-01 27090400.9380        111.0438      109.7510      107.1749        104.7763         113.0576\n",
       "2019-02-01 34132093.4229        116.7369      109.8562      110.6476        109.5970         117.7047"
      ]
     },
     "execution_count": 62,
     "metadata": {},
     "output_type": "execute_result"
    }
   ],
   "source": [
    "product_dfs['P1'].head()"
   ]
  },
  {
   "cell_type": "code",
   "execution_count": 63,
   "metadata": {},
   "outputs": [
    {
     "data": {
      "text/html": [
       "<div>\n",
       "<style scoped>\n",
       "    .dataframe tbody tr th:only-of-type {\n",
       "        vertical-align: middle;\n",
       "    }\n",
       "\n",
       "    .dataframe tbody tr th {\n",
       "        vertical-align: top;\n",
       "    }\n",
       "\n",
       "    .dataframe thead th {\n",
       "        text-align: right;\n",
       "    }\n",
       "</style>\n",
       "<table border=\"1\" class=\"dataframe\">\n",
       "  <thead>\n",
       "    <tr style=\"text-align: right;\">\n",
       "      <th></th>\n",
       "      <th>Sales</th>\n",
       "      <th>PRI27840_org</th>\n",
       "      <th>RohCOPPER1000_org</th>\n",
       "      <th>time_idx</th>\n",
       "      <th>year</th>\n",
       "      <th>month</th>\n",
       "      <th>P8_lag_1</th>\n",
       "      <th>P8_lag_2</th>\n",
       "      <th>P8_lag_5</th>\n",
       "      <th>P8_lag_6</th>\n",
       "      <th>P8_lag_10</th>\n",
       "      <th>P8_ma_1</th>\n",
       "      <th>P8_ma_2</th>\n",
       "      <th>P8_ma_5</th>\n",
       "      <th>P8_ma_6</th>\n",
       "      <th>P8_ma_10</th>\n",
       "    </tr>\n",
       "    <tr>\n",
       "      <th>month_year</th>\n",
       "      <th></th>\n",
       "      <th></th>\n",
       "      <th></th>\n",
       "      <th></th>\n",
       "      <th></th>\n",
       "      <th></th>\n",
       "      <th></th>\n",
       "      <th></th>\n",
       "      <th></th>\n",
       "      <th></th>\n",
       "      <th></th>\n",
       "      <th></th>\n",
       "      <th></th>\n",
       "      <th></th>\n",
       "      <th></th>\n",
       "      <th></th>\n",
       "    </tr>\n",
       "  </thead>\n",
       "  <tbody>\n",
       "    <tr>\n",
       "      <th>2019-08-01</th>\n",
       "      <td>398332.2744</td>\n",
       "      <td>110.6561</td>\n",
       "      <td>75.7745</td>\n",
       "      <td>10</td>\n",
       "      <td>2019</td>\n",
       "      <td>8</td>\n",
       "      <td>368081.2008</td>\n",
       "      <td>420287.0223</td>\n",
       "      <td>582419.0346</td>\n",
       "      <td>361474.5342</td>\n",
       "      <td>580778.2653</td>\n",
       "      <td>398332.2744</td>\n",
       "      <td>383206.7376</td>\n",
       "      <td>380139.7221</td>\n",
       "      <td>413852.9409</td>\n",
       "      <td>400303.6854</td>\n",
       "    </tr>\n",
       "    <tr>\n",
       "      <th>2019-09-01</th>\n",
       "      <td>1086855.2918</td>\n",
       "      <td>111.0503</td>\n",
       "      <td>76.4355</td>\n",
       "      <td>11</td>\n",
       "      <td>2019</td>\n",
       "      <td>9</td>\n",
       "      <td>398332.2744</td>\n",
       "      <td>368081.2008</td>\n",
       "      <td>416386.5006</td>\n",
       "      <td>582419.0346</td>\n",
       "      <td>518398.3785</td>\n",
       "      <td>1086855.2918</td>\n",
       "      <td>742593.7831</td>\n",
       "      <td>514233.4804</td>\n",
       "      <td>497925.6504</td>\n",
       "      <td>457149.3767</td>\n",
       "    </tr>\n",
       "    <tr>\n",
       "      <th>2019-10-01</th>\n",
       "      <td>112014.9227</td>\n",
       "      <td>111.0322</td>\n",
       "      <td>76.4097</td>\n",
       "      <td>12</td>\n",
       "      <td>2019</td>\n",
       "      <td>10</td>\n",
       "      <td>1086855.2918</td>\n",
       "      <td>398332.2744</td>\n",
       "      <td>297611.6126</td>\n",
       "      <td>416386.5006</td>\n",
       "      <td>267418.3494</td>\n",
       "      <td>112014.9227</td>\n",
       "      <td>599435.1073</td>\n",
       "      <td>477114.1424</td>\n",
       "      <td>447197.0541</td>\n",
       "      <td>441609.0341</td>\n",
       "    </tr>\n",
       "    <tr>\n",
       "      <th>2019-11-01</th>\n",
       "      <td>540208.8029</td>\n",
       "      <td>111.0354</td>\n",
       "      <td>77.7720</td>\n",
       "      <td>13</td>\n",
       "      <td>2019</td>\n",
       "      <td>11</td>\n",
       "      <td>112014.9227</td>\n",
       "      <td>1086855.2918</td>\n",
       "      <td>420287.0223</td>\n",
       "      <td>297611.6126</td>\n",
       "      <td>372627.9465</td>\n",
       "      <td>540208.8029</td>\n",
       "      <td>326111.8628</td>\n",
       "      <td>501098.4985</td>\n",
       "      <td>487629.9191</td>\n",
       "      <td>458367.1197</td>\n",
       "    </tr>\n",
       "    <tr>\n",
       "      <th>2019-12-01</th>\n",
       "      <td>491332.7200</td>\n",
       "      <td>111.2866</td>\n",
       "      <td>80.6535</td>\n",
       "      <td>14</td>\n",
       "      <td>2019</td>\n",
       "      <td>12</td>\n",
       "      <td>540208.8029</td>\n",
       "      <td>112014.9227</td>\n",
       "      <td>368081.2008</td>\n",
       "      <td>420287.0223</td>\n",
       "      <td>361474.5342</td>\n",
       "      <td>491332.7200</td>\n",
       "      <td>515770.7614</td>\n",
       "      <td>525748.8024</td>\n",
       "      <td>499470.8688</td>\n",
       "      <td>471352.9383</td>\n",
       "    </tr>\n",
       "  </tbody>\n",
       "</table>\n",
       "</div>"
      ],
      "text/plain": [
       "                  Sales  PRI27840_org  RohCOPPER1000_org  time_idx  year  month     P8_lag_1     P8_lag_2    P8_lag_5    P8_lag_6   P8_lag_10      P8_ma_1     P8_ma_2     P8_ma_5     P8_ma_6    P8_ma_10\n",
       "month_year                                                                                                                                                                                                \n",
       "2019-08-01  398332.2744      110.6561            75.7745        10  2019      8  368081.2008  420287.0223 582419.0346 361474.5342 580778.2653  398332.2744 383206.7376 380139.7221 413852.9409 400303.6854\n",
       "2019-09-01 1086855.2918      111.0503            76.4355        11  2019      9  398332.2744  368081.2008 416386.5006 582419.0346 518398.3785 1086855.2918 742593.7831 514233.4804 497925.6504 457149.3767\n",
       "2019-10-01  112014.9227      111.0322            76.4097        12  2019     10 1086855.2918  398332.2744 297611.6126 416386.5006 267418.3494  112014.9227 599435.1073 477114.1424 447197.0541 441609.0341\n",
       "2019-11-01  540208.8029      111.0354            77.7720        13  2019     11  112014.9227 1086855.2918 420287.0223 297611.6126 372627.9465  540208.8029 326111.8628 501098.4985 487629.9191 458367.1197\n",
       "2019-12-01  491332.7200      111.2866            80.6535        14  2019     12  540208.8029  112014.9227 368081.2008 420287.0223 361474.5342  491332.7200 515770.7614 525748.8024 499470.8688 471352.9383"
      ]
     },
     "execution_count": 63,
     "metadata": {},
     "output_type": "execute_result"
    }
   ],
   "source": [
    "lagged_product_dfs['P8'].head()"
   ]
  },
  {
   "cell_type": "markdown",
   "metadata": {},
   "source": [
    "> Importing the test template"
   ]
  },
  {
   "cell_type": "code",
   "execution_count": 64,
   "metadata": {},
   "outputs": [
    {
     "data": {
      "text/html": [
       "<div>\n",
       "<style scoped>\n",
       "    .dataframe tbody tr th:only-of-type {\n",
       "        vertical-align: middle;\n",
       "    }\n",
       "\n",
       "    .dataframe tbody tr th {\n",
       "        vertical-align: top;\n",
       "    }\n",
       "\n",
       "    .dataframe thead th {\n",
       "        text-align: right;\n",
       "    }\n",
       "</style>\n",
       "<table border=\"1\" class=\"dataframe\">\n",
       "  <thead>\n",
       "    <tr style=\"text-align: right;\">\n",
       "      <th></th>\n",
       "      <th>Month Year</th>\n",
       "      <th>Mapped_GCK</th>\n",
       "      <th>Sales_EUR</th>\n",
       "    </tr>\n",
       "  </thead>\n",
       "  <tbody>\n",
       "    <tr>\n",
       "      <th>0</th>\n",
       "      <td>2022-05-01</td>\n",
       "      <td>3</td>\n",
       "      <td>NaN</td>\n",
       "    </tr>\n",
       "    <tr>\n",
       "      <th>1</th>\n",
       "      <td>2022-06-01</td>\n",
       "      <td>3</td>\n",
       "      <td>NaN</td>\n",
       "    </tr>\n",
       "    <tr>\n",
       "      <th>2</th>\n",
       "      <td>2022-07-01</td>\n",
       "      <td>3</td>\n",
       "      <td>NaN</td>\n",
       "    </tr>\n",
       "    <tr>\n",
       "      <th>3</th>\n",
       "      <td>2022-08-01</td>\n",
       "      <td>3</td>\n",
       "      <td>NaN</td>\n",
       "    </tr>\n",
       "    <tr>\n",
       "      <th>4</th>\n",
       "      <td>2022-09-01</td>\n",
       "      <td>3</td>\n",
       "      <td>NaN</td>\n",
       "    </tr>\n",
       "  </tbody>\n",
       "</table>\n",
       "</div>"
      ],
      "text/plain": [
       "  Month Year Mapped_GCK  Sales_EUR\n",
       "0 2022-05-01          3        NaN\n",
       "1 2022-06-01          3        NaN\n",
       "2 2022-07-01          3        NaN\n",
       "3 2022-08-01          3        NaN\n",
       "4 2022-09-01          3        NaN"
      ]
     },
     "execution_count": 64,
     "metadata": {},
     "output_type": "execute_result"
    }
   ],
   "source": [
    "test = pd.read_csv('Case2_Test Set Template.csv', sep =';')\n",
    "\n",
    "#some alterations\n",
    "month_map = {'Mai': 'May', 'Okt': 'Oct', 'Dez': 'Dec'}\n",
    "test['Month Year'] = test['Month Year'].replace(month_map, regex=True)\n",
    "test['Month Year'] = pd.to_datetime(test['Month Year'] + ' 1', format='%b %y %d')\n",
    "test['Mapped_GCK'] = test['Mapped_GCK'].str.replace('#', '')\n",
    "\n",
    "test.head()"
   ]
  },
  {
   "cell_type": "markdown",
   "metadata": {},
   "source": [
    "#### <span style=\"background-color:#000027; padding:5px; border-radius:5px;\">**2. Usefull Functions**</span> <a id='functions'></a>  \n",
    "\n",
    "Click [here](#table-of-contents) ⬆️ to return to the Index.\n"
   ]
  },
  {
   "cell_type": "code",
   "execution_count": 65,
   "metadata": {},
   "outputs": [],
   "source": [
    "def winsorize_function(df, cols, lower_quantile=0.01, upper_quantile=0.99):\n",
    "        \"\"\"Apply Winsorization only to the product sales column\"\"\"\n",
    "        df = df.copy()\n",
    "        bounds = {}\n",
    "        for col in cols:\n",
    "            q1 = df[col].quantile(lower_quantile)\n",
    "            q3 = df[col].quantile(upper_quantile)\n",
    "            df[col] = df[col].clip(lower=q1, upper=q3)\n",
    "            bounds[col] = (q1, q3)  # Store actual percentile values\n",
    "            print(f\"{col}: Winsorized Bounds -> Lower = {q1:.2f}, Upper = {q3:.2f}\")\n",
    "\n",
    "        return df, bounds\n",
    "\n",
    "def preprocessing_pipeline(train, val=None, test=None, outlier_treatment=True):\n",
    "\n",
    "    def process_dataset(df, cols, is_train=True, bounds=None):\n",
    "        df = df.copy() \n",
    "        if is_train:\n",
    "            if outlier_treatment:\n",
    "                df, bounds = winsorize_function(df, cols)\n",
    "            else:\n",
    "                bounds = {}  \n",
    "        else:\n",
    "            if outlier_treatment:\n",
    "                if bounds is None:\n",
    "                    raise ValueError(\"Bounds must be provided for validation and test datasets.\")\n",
    "                for col in cols: \n",
    "                    if col in bounds:\n",
    "                        lower, upper = bounds[col]\n",
    "                        df[col] = df[col].clip(lower, upper)  # Corrected clipping\n",
    "        return (df, bounds) if is_train else df\n",
    "\n",
    "    # Process the training dataset\n",
    "    train, bounds = process_dataset(train, cols = train.columns, is_train=True)\n",
    "\n",
    "    # Process validation and test datasets with correct bounds\n",
    "    if val is not None:\n",
    "        val = process_dataset(val, cols = val.columns, is_train=False, bounds=bounds)\n",
    "\n",
    "    if test is not None:\n",
    "        test = process_dataset(test, cols = test.columns, is_train=False, bounds=bounds)\n",
    "        \n",
    "    # Return the datasets \n",
    "    if test is not None and val is not None:\n",
    "        return train, val, test\n",
    "    elif val is not None:\n",
    "        return train, val\n",
    "    elif test is not None:\n",
    "        return train, test\n",
    "    else:\n",
    "        return train\n",
    "\n",
    "def time_series_train_test_split(X, y, test_size=10):\n",
    "    \"\"\"Split time series data maintaining temporal order\"\"\"\n",
    "    split_idx = len(X) - test_size\n",
    "    return (\n",
    "        X.iloc[:split_idx], X.iloc[split_idx:],\n",
    "        y.iloc[:split_idx], y.iloc[split_idx:])\n",
    "\n",
    "def prepare_time_series_data(df_train, feature_set, target_col=\"Sales\", horizon=10, winsorize=False, scaling=False):\n",
    "\n",
    "    # Extract product data\n",
    "    data = df_train.copy()\n",
    "    \n",
    "    y = data[[target_col]]  \n",
    "    X = data.drop(columns=[target_col])\n",
    "    \n",
    "    # Select features - handle empty feature_set case\n",
    "    if feature_set:\n",
    "        try:\n",
    "            # Convert feature_set to list if it's not already\n",
    "            if not isinstance(feature_set, list):\n",
    "                feature_set = [feature_set]\n",
    "            # Select only columns that exist in X\n",
    "            available_features = [f for f in feature_set if f in X.columns]\n",
    "            X = X[available_features]\n",
    "        except KeyError as e:\n",
    "            raise ValueError(f\"Some features not found in DataFrame: {e}\")\n",
    "    \n",
    "    # Train/Test Split\n",
    "    X_train, X_val, y_train, y_val = time_series_train_test_split(X, y, test_size=horizon)\n",
    "\n",
    "    # Apply preprocessing steps\n",
    "    y_train, y_val = preprocessing_pipeline(y_train, y_val, test=None, outlier_treatment=winsorize) #just for the sales\n",
    "\n",
    "    # Scaling\n",
    "    if scaling: \n",
    "        scaler_X = StandardScaler()\n",
    "        X_train_scaled = scaler_X.fit_transform(X_train)\n",
    "        X_val_scaled = scaler_X.transform(X_val)\n",
    "        \n",
    "        scaler_y = StandardScaler()\n",
    "        y_train_scaled = scaler_y.fit_transform(y_train)\n",
    "        y_val_scaled = scaler_y.transform(y_val)\n",
    "        \n",
    "        # Convert back to DataFrame for easier handling\n",
    "        X_train_scaled = pd.DataFrame(X_train_scaled, index=X_train.index, columns=X_train.columns)\n",
    "        X_val_scaled = pd.DataFrame(X_val_scaled, index=X_val.index, columns=X_val.columns)\n",
    "        y_train_scaled = pd.DataFrame(y_train_scaled, index=y_train.index, columns=y_train.columns)\n",
    "        y_val_scaled = pd.DataFrame(y_val_scaled, index=y_val.index, columns=y_val.columns)\n",
    "        \n",
    "        return X_train_scaled, X_val_scaled, y_train_scaled, y_val_scaled\n",
    "    else:\n",
    "        return X_train, X_val, y_train, y_val"
   ]
  },
  {
   "cell_type": "code",
   "execution_count": 66,
   "metadata": {},
   "outputs": [],
   "source": [
    "def generate_feature_combinations(features, max_features=None):\n",
    "    \"\"\"Generate all possible feature combinations\"\"\"\n",
    "    if max_features is None:\n",
    "        max_features = len(features)\n",
    "    \n",
    "    all_combinations = []\n",
    "    for r in range(2, max_features + 1):\n",
    "        all_combinations.extend(combinations(features, r))\n",
    "    \n",
    "    return [list(comb) for comb in all_combinations]"
   ]
  },
  {
   "cell_type": "code",
   "execution_count": 67,
   "metadata": {},
   "outputs": [],
   "source": [
    "def convert_results_to_df(results):\n",
    "    if results is None or len(results) == 0:\n",
    "        return pd.DataFrame()\n",
    "\n",
    "    data = []\n",
    "    for result in results:\n",
    "        # Assuming each item in the list is a dictionary\n",
    "        data.append({\n",
    "            'product_id': result['product_id'],\n",
    "            'winsorize': result['winsorize'],\n",
    "            'features': ', '.join(result['features']) if result['features'] else 'all',\n",
    "            'RMSE': result['metrics']['RMSE'],\n",
    "            'MAPE': result['metrics']['MAPE'],\n",
    "            'Overfit_Score': result['metrics'].get('Overfit Score', np.nan),\n",
    "            'method': result['method']\n",
    "        })\n",
    "    \n",
    "    return pd.DataFrame(data)"
   ]
  },
  {
   "cell_type": "code",
   "execution_count": 68,
   "metadata": {},
   "outputs": [],
   "source": [
    "def calculate_metrics(y_true, y_pred, y_train=None, y_train_pred=None, print_metrics=False):\n",
    "    metrics = {\n",
    "        'RMSE': np.sqrt(mean_squared_error(y_true, y_pred)),\n",
    "        'MAPE': mean_absolute_percentage_error(y_true, y_pred) * 100\n",
    "    }\n",
    "    \n",
    "    if y_train is not None and y_train_pred is not None:\n",
    "        train_rmse = np.sqrt(mean_squared_error(y_train, y_train_pred))\n",
    "        metrics['Overfit Score'] = (metrics['RMSE'] - train_rmse) / max(train_rmse, 1e-10)\n",
    "    \n",
    "    if print_metrics:\n",
    "        print(\"\\n=== Metrics ===\")\n",
    "        print(f\"RMSE: {metrics['RMSE']:.3f}\")\n",
    "        print(f\"MAPE: {metrics['MAPE']:.2f}%\")\n",
    "        if 'Overfit Score' in metrics:\n",
    "            print(f\"Overfit Score: {metrics['Overfit Score']:.3f}\")\n",
    "    \n",
    "    return metrics\n",
    "\n",
    "def convert_results_to_df(results):\n",
    "    \"\"\"Convert results to DataFrame format\"\"\"\n",
    "    if results is None:\n",
    "        return pd.DataFrame()\n",
    "    \n",
    "    return pd.DataFrame([{\n",
    "        'product_id': results['product_id'],\n",
    "        'winsorize': results['winsorize'],\n",
    "        'features': ', '.join(results['features']) if results['features'] else 'all',\n",
    "        'RMSE': results['metrics']['RMSE'],\n",
    "        'MAPE': results['metrics']['MAPE'],\n",
    "        'Overfit_Score': results['metrics'].get('Overfit Score', np.nan),\n",
    "        'method': results['method']\n",
    "    }])"
   ]
  },
  {
   "cell_type": "markdown",
   "metadata": {},
   "source": [
    "#### <span style=\"background-color:#000027; padding:5px; border-radius:5px;\">**3. Model Selection per Product**</span> <a id='model-selection'></a>  \n",
    "\n",
    "Click [here](#table-of-contents) ⬆️ to return to the Index.\n"
   ]
  },
  {
   "cell_type": "markdown",
   "metadata": {},
   "source": [
    "➡️ Our pipeline is going to use:\n",
    "\n",
    "- **Walk-Forward Validation:** One-step forecasting where the model predicts the next step, and the validation window moves forward one step at a time.\n",
    "- In the cases we needed to use **GridSearch**, we use a PredefinedSplit method to ensure no cross validation and prevent messing up with the train/validation timeline.\n",
    "\n",
    "➡️ For Feature Combinations we will iterate over:\n",
    "\n",
    "- No macro/lags features (baseline model).\n",
    "- Single-feature models.\n",
    "- Multi-feature models.\n",
    "\n",
    "`IMPORTANT:` For feature selection, we must be extremely careful because our dataset is limited—we only have 43 monthly data points per product. This small sample size restricts our modeling options. For initial validation, we’ll use a 7-month forecast horizon because TimeGPT requires at least 36 data points to perform well in a walk-forward validation setup. To ensure fair comparisons across all models, we’ll maintain this 7-month horizon, even though our final goal is to predict 10 months ahead. Given the scarcity of data, we must also limit the number of features to avoid overfitting. Including too many variables could cause the model to capture noise rather than true patterns, reducing its accuracy on unseen data.\n",
    "\n",
    "➡️ Models\n",
    "\n",
    "We will tune hyperparameters for all the models for each product, with the best features.\n",
    "\n",
    "\n",
    "**Time Series Model Comparison Table**\n",
    "\n",
    "| Feature               | TimeGPT (Zero-Shot) | XGBoost            | TCN                | ARIMA              | Prophet (Facebook)     |\n",
    "|-----------------------|---------------------|--------------------|--------------------|--------------------|--------------------|\n",
    "| **Scaling Needed?**   | ❌ No               | ❌ No              | ✅ Yes             | ❌ No (if stationary) | ❌ No (logistic/linear trends handle scaling internally)            |\n",
    "| **Handles Trends**    | ✅ Excellent        | ✅ (With features) | ✅ Excellent       | ✅ (With differencing) | ✅ Piecewise linear/logistic     |\n",
    "| **Handles Seasonality** | ✅ Automatic       | ❌ (Requires manual lags) | ✅ (With large receptive field) | ✅ (SARIMA) | ✅ Fourier terms (fixed but interpretable)      |\n",
    "| **Multivariate Support** | ✅ Yes            | ✅ Yes             | ✅ Yes             | ❌ Univariate only | Limited            |\n",
    "| **Training Speed**    | ⚡ Instant (pre-trained) | 🏎️ Fast          | 🐢 Slow (GPU helps) | 🏃 Moderate        |  🏎️ Fast          |\n",
    "| **Interpretability**  | ❌ Black box        | ✅ Feature importances | ❌ Black box     | ✅ Model coefficients | ✅ Best-in-class (clear trend/seasonality plots) |\n",
    "| **Best For**          | Zero-shot forecasting | Tabular data with temporal features | Long-range dependencies | Simple univariate series | Business-friendly forecasts with explainability |\n",
    "| **Weakness**          | Limited control     | Poor with long sequences | Computationally heavy | Linear assumptions only | Struggles with short-term dependencies (no AR terms)     |\n",
    "\n",
    "\n",
    "1. **TimeGPT** (by Nixtla):\n",
    "   - Pros: No training needed, handles any frequency, great for quick benchmarks.\n",
    "   - Cons: Proprietary, limited customization.\n",
    "\n",
    "2. **XGBoost**:\n",
    "   - Best when you have:\n",
    "     - Easy and fast. \n",
    "\n",
    "3. **TCN** (Temporal Convolutional Networks):\n",
    "   - Pros: Captures long-range patterns better than LSTMs.\n",
    "   - Cons: Needs careful tuning of and is more computationaly expensive.\n",
    "\n",
    "4. **ARIMA**:\n",
    "   - Important:\n",
    "     - Data is stationary (or differenced) \n",
    "     - Short-term forecasts (≤12 steps)\n",
    "   - Warning: Fails miserably with:\n",
    "     - Non-linear trends\n",
    "     - High-frequency data, wich is ok, bc we are dealing with months.\n",
    "\n",
    "5. **Prophet**:\n",
    "   - Faster and more interpretable than NeuralProphet.\n",
    "   - No auto-regression (unlike NeuralProphet’s AR-Net).\n",
    "   -Less flexible seasonality (fixed Fourier terms vs. NN-backed).\n",
    "\n",
    "\n",
    "➡️ Summary:\n",
    "\n",
    "- **We will Scale**: TCN, Neural Prophet\n",
    "- **Optional Scaling**: XGBoost (for extreme values)\n",
    "- **We will not Scale**: ARIMA (but difference if non-stationary!), TimeGPT\n",
    "\n",
    "1. We will start with **TimeGPT** for a baseline.\n",
    "2. Then test **XGBoost** with lag features.\n",
    "3. Then **TCN** to see he effect for more complex patterns.\n",
    "4. **Prophet** and **ARIMA** for interpretability.\n",
    "\n",
    "➡️ Evaluation Metrics: \n",
    "- RMSE → Measures error magnitude.\n",
    "- Overfit Score →  \n",
    "\n",
    "$$\n",
    "\\text{Overfit Score} = \\frac{\\text{Test RMSE} - \\text{Train RMSE}}{\\text{Train RMSE}}\n",
    "$$\n",
    "\n",
    "\n",
    "\n",
    "    - < 0.1 (Underfit)\n",
    "    - 0.1 - 0.5 (Good Fit)\n",
    "    - > 0.5 (Overfit Warning!)"
   ]
  },
  {
   "cell_type": "markdown",
   "metadata": {},
   "source": [
    "##### <span style=\"background-color:#000027; padding:5px; border-radius:5px;\">**3.1. TimeGPT**</span> <a id='timegpt'></a>  \n",
    "\n",
    "Click [here](#table-of-contents) ⬆️ to return to the Index.\n"
   ]
  },
  {
   "cell_type": "code",
   "execution_count": 69,
   "metadata": {},
   "outputs": [
    {
     "name": "stderr",
     "output_type": "stream",
     "text": [
      "INFO:nixtla.nixtla_client:Happy Forecasting! :)\n"
     ]
    },
    {
     "data": {
      "text/plain": [
       "True"
      ]
     },
     "execution_count": 69,
     "metadata": {},
     "output_type": "execute_result"
    }
   ],
   "source": [
    "nixtla_client = NixtlaClient(\n",
    "    api_key = \"nixak-CIwSKQ0cRLIuFR1TYllLFVakTGx3WCY30YPEKfxG0lDQcE0akGo3GE4aMJO9XXbkKjdFaGDP5x6uSxQ6\"\n",
    ")\n",
    "nixtla_client.validate_api_key()"
   ]
  },
  {
   "cell_type": "code",
   "execution_count": 70,
   "metadata": {},
   "outputs": [],
   "source": [
    "def choose_parameters_timegpt(product_id, df_train, feature_set, target_col=\"Sales\", \n",
    "                              nixtla_client=None, winsorize=False, \n",
    "                              horizon=7):\n",
    "    \n",
    "    # --- Input Validation ---\n",
    "    if nixtla_client is None:\n",
    "        raise ValueError(\"NixtlaClient instance is required.\")\n",
    "    if len(df_train) < 12:\n",
    "        print(f\"⚠️ Skipping {product_id} - only {len(df_train)} observations\")\n",
    "        return None\n",
    "    \n",
    "    # --- Data Preparation ---\n",
    "    print('Preparing data...')\n",
    "    try:\n",
    "        X_train, X_val, y_train, y_val = prepare_time_series_data(df_train, feature_set, target_col, horizon, winsorize)\n",
    "\n",
    "    except Exception as e:\n",
    "        print(f\"Data preparation failed: {str(e)}\")\n",
    "        return None\n",
    " \n",
    "    # --- Determine Feature Types ---\n",
    "    hist_exog = [f for f in feature_set if '_lag_' in f or '_ma_' in f] if feature_set else []\n",
    "    fut_exog = [f for f in feature_set if f not in hist_exog] if feature_set else []\n",
    "\n",
    "\n",
    "    # --- Prepare Future Exogenous Features ---\n",
    "    X_future = None\n",
    "    if fut_exog:\n",
    "        X_future = X_val[fut_exog].copy()\n",
    "        if not X_future.isnull().all().all():  \n",
    "            X_future.insert(0, 'month_year', X_val.index)\n",
    "        else:\n",
    "            X_future = None  # Avoid passing empty DataFrame\n",
    "\n",
    "    # --- Simple Forecast (12 ≤ obs < 36) ---\n",
    "    if len(X_train) < 36:\n",
    "        print(f\"Using simple forecast ({len(X_train)} < 36 obs)\")\n",
    "        try:\n",
    "            history = df_train.copy()\n",
    "            if feature_set:\n",
    "                history = history[feature_set + [target_col]]\n",
    "\n",
    "            forecast = nixtla_client.forecast(df=history.reset_index(),\n",
    "                                              time_col=\"month_year\", target_col=target_col, h=horizon,\n",
    "                                              X_df=X_future,  # Always pass X_future if available\n",
    "                                              hist_exog_list=hist_exog if hist_exog else None)\n",
    "            \n",
    "            # Get training predictions\n",
    "            train_pred = nixtla_client.forecast(df=history.reset_index(),time_col=\"month_year\",\n",
    "                                                target_col=target_col,h=1,hist_exog_list=hist_exog if hist_exog else None\n",
    "                                                ).iloc[0][\"TimeGPT\"]\n",
    "            \n",
    "            train_predictions = [train_pred] * len(history)\n",
    "            \n",
    "            return {\n",
    "                'product_id': product_id,'winsorize': winsorize,'features': feature_set,\n",
    "                'metrics': calculate_metrics(y_true=y_val,y_pred=forecast[\"TimeGPT\"],\n",
    "                                             y_train=history[target_col],y_train_pred=train_predictions),\n",
    "                'method': 'simple','validation_predictions': forecast[\"TimeGPT\"]}\n",
    "        except Exception as e:\n",
    "            print(f\"Simple forecast failed: {str(e)}\")\n",
    "            return None\n",
    "\n",
    "\n",
    "    # --- Walk-Forward (≥36 obs) ---\n",
    "    print(f\"Using walk-forward ({len(X_train)} ≥ 36 obs)\")\n",
    "    predictions = []\n",
    "    history = X_train.copy()\n",
    "    history[target_col] = y_train.values\n",
    "    history = history.reset_index()\n",
    "    \n",
    "    # Get training predictions\n",
    "    try:\n",
    "        train_fit = nixtla_client.forecast(df=history,time_col='month_year',target_col=target_col,h=1,\n",
    "                                           hist_exog_list=hist_exog if hist_exog else None)\n",
    "        train_predictions = [train_fit[\"TimeGPT\"].iloc[0]] * len(y_train)\n",
    "    except Exception as e:\n",
    "        print(f\"Training pred failed: {str(e)} - using last value\")\n",
    "        train_predictions = [y_train.iloc[-1]] * len(y_train)\n",
    "\n",
    "    for i in range(horizon):\n",
    "        try:\n",
    "            X_future_step = None\n",
    "            if fut_exog:\n",
    "                X_future_step = X_val.iloc[[i]][fut_exog].copy()\n",
    "                if not X_future_step.isnull().all().all():  \n",
    "                    X_future_step.insert(0, 'month_year', X_val.index[i])\n",
    "                else:\n",
    "                    X_future_step = None  \n",
    "\n",
    "            forecast = nixtla_client.forecast(df=history,time_col='month_year',target_col=target_col,\n",
    "                                              h=1, X_df=X_future_step if fut_exog else None, # FUTURE features (macro)\n",
    "                                              hist_exog_list=hist_exog if hist_exog else None)  # HISTORICAL features (lags, moving averages)\n",
    "            \n",
    "            pred = forecast[\"TimeGPT\"].iloc[0]\n",
    "            predictions.append(pred)\n",
    "            \n",
    "            new_row = X_val.iloc[i].copy()\n",
    "            new_row['month_year'] = X_val.index[i]\n",
    "            new_row[target_col] = pred\n",
    "            history = pd.concat([history, pd.DataFrame([new_row])])\n",
    "        \n",
    "        except Exception as e:\n",
    "            print(f\"Iteration {i+1} failed: {str(e)}\")\n",
    "            raise\n",
    "    \n",
    "    metrics = calculate_metrics(y_true=y_val,y_pred=predictions,y_train=y_train,y_train_pred=train_predictions)\n",
    "    \n",
    "    return {'product_id': product_id,'winsorize': winsorize,'features': feature_set,'metrics': metrics,\n",
    "            'method': 'walkforward','validation_predictions': predictions}\n",
    "\n",
    "\n",
    "def find_best_timegpt_config(product_id, df_train, nixtla_client, lagged_df=None, target_col=\"Sales\"):\n",
    "\n",
    "    # Validate input data\n",
    "    if not isinstance(df_train.index, pd.DatetimeIndex):\n",
    "        raise TypeError(\"❌ df_train index is not a DatetimeIndex!\")\n",
    "    if df_train.index.isnull().any():\n",
    "        raise ValueError(\"❌ Some index values could not be parsed into datetime!\")\n",
    "    \n",
    "    results = []\n",
    "    data = df_train.copy()\n",
    "    \n",
    "    # Feature groups for original data\n",
    "    normal_features = [col for col in data.columns if col != target_col]\n",
    "    normal_feature_combinations = generate_feature_combinations(normal_features, max_features=6)  \n",
    "    normal_feature_combinations = [[]] + normal_feature_combinations\n",
    "    print(normal_feature_combinations)\n",
    "    \n",
    "    # Test original data configurations\n",
    "    for winsorize in [True, False]:\n",
    "        for features in normal_feature_combinations:\n",
    "            try:\n",
    "                print(f\"\\nTesting - Winsorize: {winsorize}, Features: {features}\")\n",
    "\n",
    "                result = choose_parameters_timegpt(\n",
    "                    product_id=product_id,df_train=data, feature_set=features, target_col=target_col,\n",
    "                    nixtla_client=nixtla_client,winsorize=winsorize)\n",
    "                \n",
    "                if result:\n",
    "                    print(f\"✅ Success - RMSE: {result['metrics']['RMSE']:.2f}\")\n",
    "                    results.append(result)\n",
    "            except Exception as e:\n",
    "                print(f\"⚠️ Configuration failed: {str(e)}\")\n",
    "                continue\n",
    "    \n",
    "    # Test lagged data configurations if available\n",
    "    if lagged_df is not None:\n",
    "        lagged_data = lagged_df.copy()\n",
    "        lag_features = [col for col in lagged_data.columns if 'lag' in col]\n",
    "        ma_features = [col for col in lagged_data.columns if '_ma_' in col]\n",
    "        macro_features = [col for col in data.columns if col != target_col]\n",
    "        \n",
    "        # Generate lag feature combinations\n",
    "        lag_feature_combinations = generate_feature_combinations(lag_features, max_features=5)\n",
    "        \n",
    "        # Create combined feature sets\n",
    "        full_combinations = []\n",
    "        for lag_combo in lag_feature_combinations:\n",
    "            full_combinations.append(lag_combo)  # Just lags\n",
    "            full_combinations.append(lag_combo + macro_features)  # Lags + macros\n",
    "            full_combinations.append(lag_combo + ma_features)  # Lags + MAs\n",
    "            full_combinations.append(lag_combo + macro_features + ma_features)  # All\n",
    "        \n",
    "        # Remove duplicates\n",
    "        seen = set()\n",
    "        unique_combinations = []\n",
    "        for combo in full_combinations:\n",
    "            combo_tuple = tuple(sorted(combo))\n",
    "            if combo_tuple not in seen:\n",
    "                seen.add(combo_tuple)\n",
    "                unique_combinations.append(combo)\n",
    "        \n",
    "        # Test all unique combinations\n",
    "        for winsorize in [True, False]:\n",
    "            for features in unique_combinations:\n",
    "                try:\n",
    "                    print(f\"\\nTesting - Lagged Features: {features}\")\n",
    "\n",
    "                    result = choose_parameters_timegpt(product_id=product_id,df_train=lagged_data,feature_set=features,\n",
    "                                                       target_col=target_col,nixtla_client=nixtla_client,winsorize=winsorize)\n",
    "                    \n",
    "                    if result:\n",
    "                        print(f\"✅ Success - RMSE: {result['metrics']['RMSE']:.2f}\")\n",
    "                        results.append(result)\n",
    "                except Exception as e:\n",
    "                    print(f\"⚠️ Lagged configuration failed: {str(e)}\")\n",
    "                    continue\n",
    "    \n",
    "    if not results:\n",
    "        raise ValueError(f\"No valid configurations for {product_id}\")\n",
    "    \n",
    "    # Select best configuration by RMSE\n",
    "    best_config = min(results, key=lambda x: x['metrics']['RMSE'])\n",
    "    \n",
    "    print(f\"\\n✅ Best configuration for {product_id}:\")\n",
    "    print(f\"- Winsorize: {best_config['winsorize']}\")\n",
    "    print(f\"- Features: {best_config['features']}\")\n",
    "    print(f\"- RMSE: {best_config['metrics']['RMSE']:.2f}\")\n",
    "    print(f\"- Method: {best_config.get('method', 'walkforward')}\")\n",
    "    \n",
    "    return best_config, results\n",
    "\n",
    "def process_product_parallel(product_id):\n",
    "    try:\n",
    "        df_train = product_dfs[product_id].rename(columns={product_id: \"Sales\"})\n",
    "        \n",
    "        # Ensure DatetimeIndex\n",
    "        if not isinstance(df_train.index, pd.DatetimeIndex):\n",
    "            df_train.index = pd.to_datetime(df_train.index, errors=\"coerce\")\n",
    "        \n",
    "        if df_train.index.isnull().any():\n",
    "            raise ValueError(\"❌ Some index values could not be parsed into datetime!\")\n",
    "\n",
    "        lagged_df = lagged_product_dfs.get(product_id, None)\n",
    "\n",
    "        best_config, results = find_best_timegpt_config(product_id=product_id,df_train=df_train,lagged_df=lagged_df,\n",
    "            nixtla_client=nixtla_client,target_col=\"Sales\")\n",
    "        \n",
    "        return best_config, results\n",
    "    except Exception as e:\n",
    "        print(f\"⚠️ Failed to process {product_id}: {str(e)}\")\n",
    "        return None"
   ]
  },
  {
   "cell_type": "raw",
   "metadata": {
    "vscode": {
     "languageId": "raw"
    }
   },
   "source": [
    "all_product_ids = set(product_dfs.keys())\n",
    "\n",
    "all_results = []  # List to store all results\n",
    "best_configs = []  # List to store best configurations\n",
    "\n",
    "for product_id in all_product_ids:\n",
    "    print(f\"Processing product: {product_id}\")\n",
    "    \n",
    "    try:\n",
    "        best_config_timegpt, results_timegpt = process_product_parallel(product_id)\n",
    "        \n",
    "        if best_config_timegpt is not None:\n",
    "            best_configs.append(best_config_timegpt)  # Store best config\n",
    "        else:\n",
    "            print(f\"Warning: No best config returned for product {product_id}\")\n",
    "        \n",
    "        if results_timegpt is not None:\n",
    "            all_results.extend(results_timegpt)  # Store results\n",
    "        else:\n",
    "            print(f\"Warning: No results returned for product {product_id}\")\n",
    "            \n",
    "    except Exception as e:\n",
    "        print(f\"Error processing product {product_id}: {str(e)}\")\n",
    "\n",
    "df_all_results = convert_results_to_df(all_results) if all_results else pd.DataFrame()\n",
    "df_best_configs = pd.DataFrame(best_configs) if best_configs else pd.DataFrame()\n",
    "\n",
    "df_all_results.to_csv(\"timegpt_best_configs.csv\", index=False)\n",
    "df_best_configs.to_csv(\"timegpt_best_configs_details.csv\", index=False)\n",
    "\n",
    "print(\"Processing completed! Results saved.\")"
   ]
  },
  {
   "cell_type": "markdown",
   "metadata": {},
   "source": [
    "##### <span style=\"background-color:#000027; padding:5px; border-radius:5px;\">**3.2. XGBoost**</span> <a id='xgboost'></a>  \n",
    "\n",
    "\n",
    "Click [here](#table-of-contents) ⬆️ to return to the Index.\n"
   ]
  },
  {
   "cell_type": "code",
   "execution_count": 71,
   "metadata": {},
   "outputs": [],
   "source": [
    "def choose_parameters_xgboost(product_id, df_train, feature_set, target_col=\"Sales\", \n",
    "                            param_grid=None, n_jobs=-1, winsorize=False, horizon=7):\n",
    "    \"\"\"Optimized XGBoost forecasting with proper walk-forward validation\"\"\"\n",
    "    \n",
    "    # --- Input Validation ---\n",
    "    if len(df_train) < 12:\n",
    "        print(f\"⚠️ Skipping {product_id} - only {len(df_train)} observations\")\n",
    "        return None\n",
    "    \n",
    "    # --- Data Preparation ---\n",
    "    print('Preparing data...')\n",
    "    try:\n",
    "        X_train, X_val, y_train, y_val = prepare_time_series_data(\n",
    "            df_train, feature_set, target_col, horizon, winsorize)\n",
    "        # Verify temporal ordering\n",
    "        assert X_train.index[-1] < X_val.index[0], \"Validation data must be after training data\"\n",
    "    except Exception as e:\n",
    "        print(f\"Data preparation failed: {str(e)}\")\n",
    "        return None\n",
    "\n",
    "    # --- Optimized Parameter Grid for Small Data ---\n",
    "    if param_grid is None:\n",
    "        param_grid = {\n",
    "            'n_estimators': [50, 100],\n",
    "            'max_depth': [2, 3],\n",
    "            'learning_rate': [0.01, 0.05, 0.1],\n",
    "            'subsample': [0.9, 1.0],\n",
    "            'colsample_bytree': [0.9, 1.0],\n",
    "            'min_child_weight': [1, 3]}\n",
    "\n",
    "    # --- Efficient Model Setup ---\n",
    "    base_model = xgb.XGBRegressor(\n",
    "        objective='reg:squarederror',random_state=42,n_jobs=1,tree_method='hist',  # Faster training\n",
    "        enable_categorical=False,gamma=0,reg_alpha=0,reg_lambda=1)\n",
    "\n",
    "    # --- Strict Temporal Validation ---\n",
    "    test_fold = np.array([-1] * len(X_train) + [0] * len(X_val))\n",
    "    ps = PredefinedSplit(test_fold)\n",
    "\n",
    "    # --- Focused Grid Search ---\n",
    "    grid_search = GridSearchCV(\n",
    "        estimator=base_model,param_grid=param_grid,scoring='neg_root_mean_squared_error',cv=ps,n_jobs=n_jobs,verbose=1,refit=True)\n",
    "\n",
    "    # --- Training with Validation ---\n",
    "    X_combined = pd.concat([X_train, X_val])\n",
    "    y_combined = pd.concat([y_train, y_val])\n",
    "    \n",
    "    print(f\"Starting grid search for {product_id}...\")\n",
    "    try:\n",
    "        grid_search.fit(X_combined, y_combined)\n",
    "        best_model = grid_search.best_estimator_\n",
    "    except Exception as e:\n",
    "        print(f\"Grid search failed: {str(e)}\")\n",
    "        return None\n",
    "\n",
    "    # --- Robust Walk-forward Validation ---\n",
    "    predictions = []\n",
    "    print(f\"Using walk-forward (n_train={len(X_train)}, horizon={horizon})\")\n",
    "    \n",
    "    for i in range(horizon):\n",
    "        try:\n",
    "            # Create expanding window\n",
    "            window_X = pd.concat([X_train, X_val.iloc[:i]])\n",
    "            window_y = pd.concat([y_train, y_val.iloc[:i]])\n",
    "            \n",
    "            # Correct XGBoost 2.1.3+ fitting\n",
    "            best_model.fit(window_X, window_y, eval_set=[(X_val.iloc[[i]], y_val.iloc[[i]])], verbose=0)\n",
    "    \n",
    "            pred = best_model.predict(X_val.iloc[[i]]).item()\n",
    "            predictions.append(pred)\n",
    "            \n",
    "        except Exception as e:\n",
    "            print(f\"Iteration {i+1} failed: {str(e)} - using fallback\")\n",
    "            fallback = (predictions[-1] if len(predictions) > 0 else \n",
    "                       y_train.iloc[-1] if len(y_train) > 0 else np.nan)\n",
    "            predictions.append(fallback)\n",
    "\n",
    "    # --- Training Metrics ---\n",
    "    try:\n",
    "        train_predictions = best_model.predict(X_train).tolist()\n",
    "    except Exception as e:\n",
    "        print(f\"Training predictions failed: {str(e)} - using last value\")\n",
    "        train_predictions = [y_train.iloc[-1]] * len(y_train)\n",
    "\n",
    "    # --- Comprehensive Metrics ---\n",
    "    metrics = calculate_metrics(y_true=y_val,y_pred=predictions,y_train=y_train,y_train_pred=train_predictions)\n",
    "    \n",
    "    return {\n",
    "        'product_id': product_id,\n",
    "        'winsorize': winsorize,\n",
    "        'features': feature_set,\n",
    "        'metrics': metrics,\n",
    "        'method': 'walkforward',\n",
    "        'best_params': grid_search.best_params_,\n",
    "        'validation_predictions': predictions,\n",
    "        'feature_importances': dict(zip(feature_set, best_model.feature_importances_))}\n",
    "\n",
    "\n",
    "def find_best_xgboost_config(product_id, df_train, lagged_df=None, target_col=\"Sales\", \n",
    "                            n_jobs=-1, custom_param_grids=None):\n",
    "    # Validate input data\n",
    "    if not isinstance(df_train.index, pd.DatetimeIndex):\n",
    "        raise TypeError(\"❌ df_train index is not a DatetimeIndex!\")\n",
    "    if df_train.index.isnull().any():\n",
    "        raise ValueError(\"❌ Some index values could not be parsed into datetime!\")\n",
    "    \n",
    "    results = []\n",
    "    data = df_train.copy()\n",
    "    \n",
    "    # Feature groups for original data\n",
    "    normal_features = [col for col in data.columns if col != target_col]\n",
    "    normal_feature_combinations = generate_feature_combinations(normal_features, max_features=6)  \n",
    "    normal_feature_combinations = [[]] + normal_feature_combinations\n",
    "    \n",
    "    # Test original data configurations\n",
    "    for winsorize in [True, False]:\n",
    "        for features in normal_feature_combinations:\n",
    "            try:\n",
    "                print(f\"\\nTesting - Winsorize: {winsorize}, Features: {features}\")\n",
    "\n",
    "                # Use custom param grid if provided for this feature set\n",
    "                param_grid = None\n",
    "                if custom_param_grids and tuple(features) in custom_param_grids:\n",
    "                    param_grid = custom_param_grids[tuple(features)]\n",
    "\n",
    "                result = choose_parameters_xgboost(product_id=product_id,df_train=data,feature_set=features,\n",
    "                    target_col=target_col,winsorize=winsorize,n_jobs=n_jobs,param_grid=param_grid)\n",
    "                \n",
    "                if result:\n",
    "                    print(f\"✅ Success - RMSE: {result['metrics']['RMSE']:.2f}\")\n",
    "                    results.append(result)\n",
    "            except Exception as e:\n",
    "                print(f\"⚠️ Configuration failed: {str(e)}\")\n",
    "                continue\n",
    "    \n",
    "    # Test lagged data configurations if available\n",
    "    if lagged_df is not None:\n",
    "        lagged_data = lagged_df.copy()\n",
    "        lag_features = [col for col in lagged_data.columns if 'lag' in col]\n",
    "        ma_features = [col for col in lagged_data.columns if '_ma_' in col]\n",
    "        macro_features = [col for col in data.columns if col != target_col]\n",
    "        \n",
    "        # Generate lag feature combinations\n",
    "        lag_feature_combinations = generate_feature_combinations(lag_features, max_features=5)\n",
    "        \n",
    "        # Create combined feature sets\n",
    "        full_combinations = []\n",
    "        for lag_combo in lag_feature_combinations:\n",
    "            full_combinations.append(lag_combo)  # Just lags\n",
    "            full_combinations.append(lag_combo + macro_features)  # Lags + macros\n",
    "            full_combinations.append(lag_combo + ma_features)  # Lags + MAs\n",
    "            full_combinations.append(lag_combo + macro_features + ma_features)  # All\n",
    "        \n",
    "        # Remove duplicates\n",
    "        seen = set()\n",
    "        unique_combinations = []\n",
    "        for combo in full_combinations:\n",
    "            combo_tuple = tuple(sorted(combo))\n",
    "            if combo_tuple not in seen:\n",
    "                seen.add(combo_tuple)\n",
    "                unique_combinations.append(combo)\n",
    "        \n",
    "        # Test all unique combinations\n",
    "        for winsorize in [True, False]:\n",
    "            for features in unique_combinations:\n",
    "                try:\n",
    "                    print(f\"\\nTesting - Lagged Features: {features}\")\n",
    "\n",
    "                    # Use custom param grid if provided for this feature set\n",
    "                    param_grid = None\n",
    "                    if custom_param_grids and tuple(features) in custom_param_grids:\n",
    "                        param_grid = custom_param_grids[tuple(features)]\n",
    "\n",
    "                    result = choose_parameters_xgboost(product_id=product_id,df_train=lagged_data,feature_set=features,\n",
    "                                                       target_col=target_col,winsorize=winsorize,n_jobs=n_jobs,param_grid=param_grid)\n",
    "                    \n",
    "                    if result:\n",
    "                        print(f\"✅ Success - RMSE: {result['metrics']['RMSE']:.2f}\")\n",
    "                        results.append(result)\n",
    "                except Exception as e:\n",
    "                    print(f\"⚠️ Lagged configuration failed: {str(e)}\")\n",
    "                    continue\n",
    "    \n",
    "    if not results:\n",
    "        raise ValueError(f\"No valid configurations for {product_id}\")\n",
    "    \n",
    "    # Select best configuration by RMSE\n",
    "    best_config = min(results, key=lambda x: x['metrics']['RMSE'])\n",
    "    \n",
    "    print(f\"\\n✅ Best configuration for {product_id}:\")\n",
    "    print(f\"- Winsorize: {best_config['winsorize']}\")\n",
    "    print(f\"- Features: {best_config['features']}\")\n",
    "    print(f\"- Best params: {best_config['best_params']}\")\n",
    "    print(f\"- RMSE: {best_config['metrics']['RMSE']:.2f}\")\n",
    "    print(f\"- Method: {best_config.get('method', 'walkforward')}\")\n",
    "    \n",
    "    return best_config, results\n",
    "\n",
    "def process_product_parallel(product_id, custom_param_grids=None):\n",
    "    try:\n",
    "        df_train = product_dfs[product_id].rename(columns={product_id: \"Sales\"})\n",
    "        \n",
    "        # Ensure DatetimeIndex\n",
    "        if not isinstance(df_train.index, pd.DatetimeIndex):\n",
    "            df_train.index = pd.to_datetime(df_train.index, errors=\"coerce\")\n",
    "        \n",
    "        if df_train.index.isnull().any():\n",
    "            raise ValueError(\"❌ Some index values could not be parsed into datetime!\")\n",
    "\n",
    "        lagged_df = lagged_product_dfs.get(product_id, None)\n",
    "\n",
    "        best_config, results = find_best_xgboost_config(product_id=product_id,df_train=df_train,lagged_df=lagged_df,target_col=\"Sales\", custom_param_grids=custom_param_grids)\n",
    "        \n",
    "        return best_config, results\n",
    "    except Exception as e:\n",
    "        print(f\"⚠️ Failed to process {product_id}: {str(e)}\")\n",
    "        return None"
   ]
  },
  {
   "cell_type": "raw",
   "metadata": {
    "vscode": {
     "languageId": "raw"
    }
   },
   "source": [
    "all_product_ids = set(product_dfs.keys())\n",
    "all_results_xgboost = []  # List to store all results\n",
    "best_configs_xgboost = []  # List to store best configurations\n",
    "\n",
    "for product_id in all_product_ids:\n",
    "    print(f\"Processing product: {product_id}\")\n",
    "    \n",
    "    try:\n",
    "        best_config_xgboost, results_xgboost = process_product_parallel(product_id, custom_param_grids=None)\n",
    "        \n",
    "        if best_config_xgboost is not None:\n",
    "            best_configs_xgboost.append(best_config_xgboost)  # Store best config\n",
    "        else:\n",
    "            print(f\"Warning: No best config returned for product {product_id}\")\n",
    "        \n",
    "        if results_xgboost is not None:\n",
    "            all_results_xgboost.extend(results_xgboost)  # Store results\n",
    "        else:\n",
    "            print(f\"Warning: No results returned for product {product_id}\")\n",
    "            \n",
    "    except Exception as e:\n",
    "        print(f\"Error processing product {product_id}: {str(e)}\")\n"
   ]
  },
  {
   "cell_type": "raw",
   "metadata": {
    "vscode": {
     "languageId": "raw"
    }
   },
   "source": [
    "df_all_results_xgboost = convert_results_to_df(all_results_xgboost) if all_results_xgboost else pd.DataFrame()\n",
    "df_best_configs_xgboost = pd.DataFrame(best_configs_xgboost) if best_configs_xgboost else pd.DataFrame()\n",
    "\n",
    "df_all_results_xgboost.to_csv(\"xgboost_results.csv\", index=False)\n",
    "df_best_configs_xgboost.to_csv(\"xgboost_best_configs_details.csv\", index=False)\n",
    "\n",
    "print(\"Processing completed! Results saved.\")"
   ]
  },
  {
   "cell_type": "markdown",
   "metadata": {},
   "source": [
    "##### <span style=\"background-color:#000027; padding:5px; border-radius:5px;\">**3.3. TCN**</span> <a id='tcn'></a>  \n",
    "\n",
    "Click [here](#table-of-contents) ⬆️ to return to the Index.\n"
   ]
  },
  {
   "cell_type": "code",
   "execution_count": 72,
   "metadata": {},
   "outputs": [],
   "source": [
    "def choose_parameters_tcn(product_id, df_train, feature_set, target_col=\"Sales\", \n",
    "                         param_grid=None, n_jobs=-1, winsorize=False, horizon=7):\n",
    "    \"\"\"Optimized TCN forecasting with walk-forward validation\"\"\"\n",
    "    \n",
    "    if len(df_train) < 12:\n",
    "        print(f\"⚠️ Skipping {product_id} - only {len(df_train)} observations\")\n",
    "        return None\n",
    "    \n",
    "    print('Preparing data...')\n",
    "    try:\n",
    "        X_train, X_val, y_train, y_val = prepare_time_series_data(\n",
    "            df_train, feature_set, target_col, horizon, winsorize, scaling=True)\n",
    "        \n",
    "        assert X_train.index[-1] < X_val.index[0], \"Validation data must be after training data\"\n",
    "    except Exception as e:\n",
    "        print(f\"Data preparation failed: {str(e)}\")\n",
    "        return None\n",
    "\n",
    "    # Reshape data for TCN input (samples, timesteps, features)\n",
    "    X_train = X_train.values.reshape((X_train.shape[0], 1, X_train.shape[1]))\n",
    "    X_val = X_val.values.reshape((X_val.shape[0], 1, X_val.shape[1]))\n",
    "    y_train = y_train.values.reshape(-1, 1)\n",
    "    y_val = y_val.values.reshape(-1, 1)\n",
    "\n",
    "    if param_grid is None:\n",
    "        param_grid = {\n",
    "            'nb_filters': [16, 32],\n",
    "            'kernel_size': [2, 3],\n",
    "            'dilations': [[1, 2, 4], [1, 2, 4, 8]],\n",
    "            'dropout_rate': [0.1, 0.2],\n",
    "            'return_sequences': [False]  # single-step prediction\n",
    "}\n",
    "    \n",
    "    def build_tcn(nb_filters=32, kernel_size=2, dilations=[1, 2, 4], \n",
    "                 dropout_rate=0.1, return_sequences=False):\n",
    "        inputs = Input(shape=(1, X_train.shape[2]))\n",
    "        x = TCN(nb_filters=nb_filters, kernel_size=kernel_size, \n",
    "               dilations=dilations, dropout_rate=dropout_rate,\n",
    "               return_sequences=return_sequences)(inputs)\n",
    "        outputs = Dense(1)(x)\n",
    "        model = Model(inputs, outputs)\n",
    "        model.compile(optimizer=\"adam\", loss=\"mse\")\n",
    "        return model\n",
    "    \n",
    "    best_params = None\n",
    "    best_rmse = float('inf')\n",
    "\n",
    "    for filters in param_grid['nb_filters']:\n",
    "        for kernel in param_grid['kernel_size']:\n",
    "            for dilations in param_grid['dilations']:\n",
    "                for dropout in param_grid['dropout_rate']:\n",
    "                    for return_seq in param_grid['return_sequences']:\n",
    "                        model = build_tcn(filters, kernel, dilations, dropout, return_seq)\n",
    "                        try:\n",
    "                            model.fit(X_train, y_train, epochs=50, batch_size=16, verbose=0)\n",
    "                            \n",
    "                            # Walk-forward validation (predict one step at a time)\n",
    "                            predictions = []\n",
    "                            history_X = X_train.copy()\n",
    "                            history_y = y_train.copy()\n",
    "                            \n",
    "                            for i in range(len(X_val)):\n",
    "                                # Predict next step\n",
    "                                X_next = X_val[i].reshape(1, 1, -1)\n",
    "                                pred = model.predict(X_next, verbose=0).flatten()[0]\n",
    "                                predictions.append(pred)\n",
    "                                \n",
    "                            # Calculate RMSE\n",
    "                            if len(y_val) == len(predictions):\n",
    "                                rmse = np.sqrt(np.mean((y_val.flatten() - predictions) ** 2))\n",
    "                            else:\n",
    "                                print(f\"Shape mismatch: y_val ({y_val.shape}), preds ({len(predictions)})\")\n",
    "                                continue\n",
    "                            \n",
    "                            if rmse < best_rmse:\n",
    "                                best_rmse = rmse\n",
    "                                best_params = {\n",
    "                                    'nb_filters': filters,\n",
    "                                    'kernel_size': kernel,\n",
    "                                    'dilations': dilations,\n",
    "                                    'dropout_rate': dropout,\n",
    "                                    'return_sequences': return_seq\n",
    "                                }\n",
    "                        except Exception as e:\n",
    "                            print(f\"Hyperparameter set failed: {str(e)}\")\n",
    "\n",
    "    if best_params is None:\n",
    "        print(f\"❌ No valid models for {product_id}\")\n",
    "        return None\n",
    "\n",
    "    # Final model training and walk-forward prediction\n",
    "    final_model = build_tcn(**best_params)\n",
    "    final_model.fit(X_train, y_train, epochs=50, batch_size=16, verbose=0)\n",
    "    predictions = []\n",
    "\n",
    "    # FIXED: Create DataFrame with both features and target\n",
    "    history_data = np.column_stack([X_train[:, 0, :], y_train.flatten()])\n",
    "    history = pd.DataFrame(history_data, columns=feature_set + [target_col])\n",
    "    history.index = range(len(history))\n",
    "    \n",
    "    for i in range(horizon):\n",
    "        try:\n",
    "            X_future_step = X_val[i].reshape(1, 1, -1)\n",
    "            pred = final_model.predict(X_future_step, verbose=0).flatten()[0]\n",
    "            predictions.append(pred)\n",
    "            \n",
    "            # Update training data\n",
    "            new_row = X_val[i, 0, :].tolist()\n",
    "            new_row.append(pred)\n",
    "            new_df = pd.DataFrame([new_row], columns=feature_set + [target_col])\n",
    "            history = pd.concat([history, new_df]).reset_index(drop=True)\n",
    "            \n",
    "            # Retrain on expanded window\n",
    "            rolling_window = 36 if len(history) > 36 else len(history)\n",
    "            train_subset = history.iloc[-rolling_window:]\n",
    "            \n",
    "            X_train_update = train_subset[feature_set].values.reshape(-1, 1, len(feature_set))\n",
    "            y_train_update = train_subset[target_col].values.reshape(-1, 1)\n",
    "            \n",
    "            final_model.fit(X_train_update, y_train_update, epochs=5, batch_size=16, verbose=0)\n",
    "        \n",
    "        except Exception as e:\n",
    "            print(f\"Iteration {i+1} failed: {str(e)}\")\n",
    "            predictions.append(predictions[-1] if predictions else y_train[-1][0])\n",
    "    \n",
    "    metrics = calculate_metrics(y_true=y_val.flatten(), y_pred=predictions, y_train=y_train.flatten())\n",
    "    \n",
    "    return {\n",
    "        'product_id': product_id,\n",
    "        'winsorize': winsorize,\n",
    "        'features': feature_set,\n",
    "        'metrics': metrics,\n",
    "        'method': 'walkforward',\n",
    "        'best_params': best_params,\n",
    "        'validation_predictions': predictions\n",
    "    }\n",
    "\n",
    "def find_best_tcn_config(product_id, df_train, lagged_df=None, target_col=\"Sales\", \n",
    "                            n_jobs=-1, custom_param_grids=None):\n",
    "    # Validate input data\n",
    "    if not isinstance(df_train.index, pd.DatetimeIndex):\n",
    "        raise TypeError(\"❌ df_train index is not a DatetimeIndex!\")\n",
    "    if df_train.index.isnull().any():\n",
    "        raise ValueError(\"❌ Some index values could not be parsed into datetime!\")\n",
    "    \n",
    "    results = []\n",
    "    data = df_train.copy()\n",
    "    \n",
    "    # Feature groups for original data\n",
    "    normal_features = [col for col in data.columns if col != target_col]\n",
    "    normal_feature_combinations = generate_feature_combinations(normal_features, max_features=6)  \n",
    "    \n",
    "    # Test original data configurations\n",
    "    for winsorize in [True, False]: \n",
    "        for features in normal_feature_combinations:\n",
    "            try:\n",
    "                print(f\"\\nTesting - Winsorize: {winsorize}, Features: {features}\")\n",
    "\n",
    "                # Use custom param grid if provided for this feature set\n",
    "                param_grid = None\n",
    "                if custom_param_grids and tuple(features) in custom_param_grids:\n",
    "                    param_grid = custom_param_grids[tuple(features)]\n",
    "\n",
    "                result = choose_parameters_tcn(product_id=product_id,df_train=data,feature_set=features,\n",
    "                    target_col=target_col,winsorize=winsorize,n_jobs=n_jobs,param_grid=param_grid)\n",
    "                \n",
    "                if result:\n",
    "                    print(f\"✅ Success - RMSE: {result['metrics']['RMSE']:.2f}\")\n",
    "                    results.append(result)\n",
    "            except Exception as e:\n",
    "                print(f\"⚠️ Configuration failed: {str(e)}\")\n",
    "                continue\n",
    "    \n",
    "    # Test lagged data configurations if available\n",
    "    if lagged_df is not None:\n",
    "        lagged_data = lagged_df.copy()\n",
    "        lag_features = [col for col in lagged_data.columns if 'lag' in col]\n",
    "        ma_features = [col for col in lagged_data.columns if '_ma_' in col]\n",
    "        macro_features = [col for col in data.columns if col != target_col]\n",
    "        \n",
    "        # Generate lag feature combinations\n",
    "        lag_feature_combinations = generate_feature_combinations(lag_features, max_features=5)\n",
    "        \n",
    "        # Create combined feature sets\n",
    "        full_combinations = []\n",
    "        for lag_combo in lag_feature_combinations:\n",
    "            full_combinations.append(lag_combo)  # Just lags\n",
    "            full_combinations.append(lag_combo + macro_features)  # Lags + macros\n",
    "            full_combinations.append(lag_combo + ma_features)  # Lags + MAs\n",
    "            full_combinations.append(lag_combo + macro_features + ma_features)  # All\n",
    "        \n",
    "        # Remove duplicates\n",
    "        seen = set()\n",
    "        unique_combinations = []\n",
    "        for combo in full_combinations:\n",
    "            combo_tuple = tuple(sorted(combo))\n",
    "            if combo_tuple not in seen:\n",
    "                seen.add(combo_tuple)\n",
    "                unique_combinations.append(combo)\n",
    "        \n",
    "        # Test all unique combinations\n",
    "        for winsorize in [True, False]:\n",
    "            for features in unique_combinations:\n",
    "                try:\n",
    "                    print(f\"\\nTesting - Lagged Features: {features}\")\n",
    "\n",
    "                    # Use custom param grid if provided for this feature set\n",
    "                    param_grid = None\n",
    "                    if custom_param_grids and tuple(features) in custom_param_grids:\n",
    "                        param_grid = custom_param_grids[tuple(features)]\n",
    "\n",
    "                    result = choose_parameters_tcn(product_id=product_id,df_train=lagged_data,feature_set=features,\n",
    "                                                       target_col=target_col,winsorize=winsorize,n_jobs=n_jobs,param_grid=param_grid)\n",
    "                    \n",
    "                    if result:\n",
    "                        print(f\"✅ Success - RMSE: {result['metrics']['RMSE']:.2f}\")\n",
    "                except Exception as e:\n",
    "                    print(f\"⚠️ Lagged configuration failed: {str(e)}\")\n",
    "                    continue\n",
    "    \n",
    "    if not results:\n",
    "        raise ValueError(f\"No valid configurations for {product_id}\")\n",
    "    \n",
    "    # Select best configuration by RMSE\n",
    "    best_config = min(results, key=lambda x: x['metrics']['RMSE'])\n",
    "    \n",
    "    print(f\"\\n✅ Best configuration for {product_id}:\")\n",
    "    print(f\"- Winsorize: {best_config['winsorize']}\")\n",
    "    print(f\"- Features: {best_config['features']}\")\n",
    "    print(f\"- Best params: {best_config['best_params']}\")\n",
    "    print(f\"- RMSE: {best_config['metrics']['RMSE']:.2f}\")\n",
    "    print(f\"- Method: {best_config.get('method', 'walkforward')}\")\n",
    "    \n",
    "    return best_config, results\n",
    "\n",
    "def process_product_parallel(product_id, custom_param_grids=None):\n",
    "    try:\n",
    "        df_train = product_dfs[product_id].rename(columns={product_id: \"Sales\"})\n",
    "        \n",
    "        # Ensure DatetimeIndex\n",
    "        if not isinstance(df_train.index, pd.DatetimeIndex):\n",
    "            df_train.index = pd.to_datetime(df_train.index, errors=\"coerce\")\n",
    "        \n",
    "        if df_train.index.isnull().any():\n",
    "            raise ValueError(\"❌ Some index values could not be parsed into datetime!\")\n",
    "\n",
    "        lagged_df = lagged_product_dfs.get(product_id, None)\n",
    "        best_config, results = find_best_tcn_config(product_id=product_id,df_train=df_train,lagged_df=lagged_df,target_col=\"Sales\", custom_param_grids=custom_param_grids)\n",
    "        \n",
    "        return best_config, results\n",
    "    except Exception as e:\n",
    "        print(f\"⚠️ Failed to process {product_id}: {str(e)}\")\n",
    "        return None"
   ]
  },
  {
   "cell_type": "raw",
   "metadata": {
    "vscode": {
     "languageId": "raw"
    }
   },
   "source": [
    "all_product_ids = set(product_dfs.keys())\n",
    "all_results_tcn = []  # List to store all results\n",
    "best_configs_tcn = []  # List to store best configurations\n",
    "\n",
    "for product_id in all_product_ids:\n",
    "    print(f\"Processing product: {product_id}\")\n",
    "    \n",
    "    try:\n",
    "        best_config_tcn, results_tcn = process_product_parallel(product_id, custom_param_grids=None)\n",
    "        \n",
    "        if best_config_tcn is not None:\n",
    "            best_configs_tcn.append(best_config_tcn)  # Store best config\n",
    "        else:\n",
    "            print(f\"Warning: No best config returned for product {product_id}\")\n",
    "        \n",
    "        if results_tcn is not None:\n",
    "            all_results_tcn.extend(results_tcn)  # Store results\n",
    "        else:\n",
    "            print(f\"Warning: No results returned for product {product_id}\")\n",
    "            \n",
    "    except Exception as e:\n",
    "        print(f\"Error processing product {product_id}: {str(e)}\")"
   ]
  },
  {
   "cell_type": "raw",
   "metadata": {
    "vscode": {
     "languageId": "raw"
    }
   },
   "source": [
    "df_all_results_tcn = convert_results_to_df(all_results_tcn) if all_results_tcn else pd.DataFrame()\n",
    "df_best_configs_tcn = pd.DataFrame(best_configs_tcn) if best_configs_tcn else pd.DataFrame()\n",
    "\n",
    "df_all_results_tcn.to_csv(\"tcn_results16.csv\", index=False)\n",
    "df_all_results_tcn.to_csv(\"tcn_best_configs_details16.csv\", index=False)\n",
    "\n",
    "print(\"Processing completed! Results saved.\")"
   ]
  },
  {
   "cell_type": "markdown",
   "metadata": {},
   "source": [
    "##### <span style=\"background-color:#000027; padding:5px; border-radius:5px;\">**3.4. Prophet**</span> <a id='prophet'></a>  \n",
    "\n",
    "Click [here](#table-of-contents) ⬆️ to return to the Index."
   ]
  },
  {
   "cell_type": "markdown",
   "metadata": {
    "vscode": {
     "languageId": "raw"
    }
   },
   "source": [
    "Remember - Summary to test in modeling:\n",
    "\n",
    "| Product | Stationary? (Yes/No) | Notes | \n",
    "|---------|----------------------|--------------------|\n",
    "| P1      |        ✅ Yes       |  Tails off gradually  →   AR(1) |        \n",
    "| P3      |          ✅ Yes       |   Product 3 (P3), the presence of spikes at lag 12 in both ACF and PACF (with a stronger signal in PACF) strongly suggests seasonal behavior with a 12-period cycle (e.g., yearly patterns in monthly data)→  SARIMA(1, 0, 0)(1, 0, 0, 12)  |             \n",
    "| P4      |          ✅ Yes         |      strong negative spike at lag 6 in the PACF but a moderate negative spike in the ACF (within confidence intervals) →  SARIMA(0, 0, 0)(1, 0, 0, 6)  # Seasonal AR(1) with period 6 |             \n",
    "| P5      |          ✅ Yes          |     SARIMA(0,0,0)(1,0,1,6) →  Combines: Seasonal AR(1) (P=1) to capture the PACF spike at lag 6 & Seasonal MA(1) (Q=1) to account for ACF decay at lag 6; Ignores non-seasonal terms (p=q=0) since oscillations are weak|           \n",
    "| P6      |          ✅ Yes           |    Tails off gradually →   AR(1) |     \n",
    "| P8      |          ❌ No           |     ACF/PACF Spike at Lag 3: A dominant spike at lag 3 in both ACF and PACF suggests a strong seasonal or cyclical pattern with a 3-period cycle (e.g., quarterly data) → SARIMA(3, 0, 3)(0, 0, 0, 0)  # Pure ARMA(3,3)|            \n",
    "| P9      |          ✅ Yes            |   ACF: negative spike at lag 12 (-0.37, exceeding confidence bounds) →  yearly anti-correlation →  SARIMA(0, 0, 0)(0, 0, 1, 12)                |             \n",
    "| P11     |          ✅ Yes            |   PACF: Strong spike at lag 12 (exceeding confidence bounds) →  yearly dependency →   SARIMA(1, 0, 0)(1, 0, 0, 12)              |                     \n",
    "| P12     |          ✅ Yes           |  Strong Lags 1-3 →   ARIMA(3, 0, 0)                |                    \n",
    "| P13     |          ✅ Yes           |  The significant PACF spike at lag 17 (with insignificant ACF spike) indicates: A pure seasonal AR(1) effect at lag 17 (uncommon, but possible for long cycles) →  test standard and SARIMA(0, 0, 0)(1, 0, 0, 17) |                      \n",
    "| P14     |          ✅ Yes           |     Negative Spike at Lag 6 in PACF (Significant) and Near-CI Drop in ACF →  SARIMA(0, 0, 0)(1, 0, 0, 6)  |                      \n",
    "| P16     |          ✅ Yes          |       Both ACF and PACF show sharp cutoffs after lag 3 → Mixed ARMA(3,3) signature →    ARIMA(3, 0, 3)         |                       \n",
    "| P20     |          ✅ Yes          |    Tails off gradually  →  PACF spike at lag 13; Seasonal AR(1) → SARIMA(0, 0, 0)(1, 0, 0, 13)|                       \n",
    "| P36     |          ✅ Yes          |    BOTH ACF and PACF spike at Lag 10   →  SARIMA(0,0,0)(1,0,1,10)           |  "
   ]
  },
  {
   "cell_type": "code",
   "execution_count": 73,
   "metadata": {},
   "outputs": [],
   "source": [
    "def get_product_specific_config(product_id):\n",
    "    \"\"\"Returns Prophet configuration tailored to each product's time series characteristics\"\"\"\n",
    "    product_configs = {\n",
    "        'P1': {\n",
    "            'seasonality_mode': 'additive',\n",
    "            'yearly_seasonality': False,\n",
    "            'weekly_seasonality': False,\n",
    "            'daily_seasonality': False,\n",
    "            'changepoint_prior_scale': 0.05, # → Tails off gradually → AR(1) → Requires smooth trend changes.\n",
    "            'seasonality_prior_scale': 10.0, # → No strong seasonal effect detected, keeps seasonality influence moderate.\n",
    "            'extra_regressors': []},\n",
    "        'P3': {\n",
    "            'seasonality_mode': 'multiplicative',\n",
    "            'yearly_seasonality': True, # → Spikes at lag 12 (ACF & PACF) indicate yearly seasonality.\n",
    "            'weekly_seasonality': False,\n",
    "            'daily_seasonality': False,\n",
    "            'changepoint_prior_scale': 0.1, # → Allows flexibility for potential trend shifts in yearly patterns.\n",
    "            'seasonality_prior_scale': 15.0, # → Strong yearly dependency → Needs a higher seasonal influence.\n",
    "            'extra_regressors': []},\n",
    "        'P4': {\n",
    "            'seasonality_mode': 'additive',\n",
    "            'yearly_seasonality': False,\n",
    "            'weekly_seasonality': False,\n",
    "            'daily_seasonality': False,\n",
    "            'changepoint_prior_scale': 0.05, # → Trend is relatively stable, no abrupt changes expected.\n",
    "            'seasonality_prior_scale': 10.0,  # → Moderate seasonal influence, not overly strong.\n",
    "            'extra_seasonalities': [{\n",
    "                'name': 'semiannual',\n",
    "                'period': 6,  # → Strong negative spike at lag 6 (PACF), indicating a semiannual pattern.\n",
    "                'fourier_order': 3}]},  #→ Simpler seasonal patterns (smoother curves). Balances capturing structure vs. overfitting\n",
    "        'P5': {\n",
    "            'seasonality_mode': 'multiplicative',\n",
    "            'yearly_seasonality': False,\n",
    "            'weekly_seasonality': False,\n",
    "            'daily_seasonality': False,\n",
    "            'changepoint_prior_scale': 0.05,  # → Seasonal AR(1) at lag 6 → Trend should remain stable.\n",
    "            'seasonality_prior_scale': 10.0, # → Moderate seasonal effect since oscillations are weak.\n",
    "            'extra_seasonalities': [{\n",
    "                'name': 'semiannual',\n",
    "                'period': 6, # → PACF spike at lag 6 → Semiannual pattern.\n",
    "                'fourier_order': 3}]}, #→ Simpler seasonal patterns (smoother curves).\n",
    "        'P6': {\n",
    "            'seasonality_mode': 'additive',\n",
    "            'yearly_seasonality': False,\n",
    "            'weekly_seasonality': False,\n",
    "            'daily_seasonality': False,\n",
    "            'changepoint_prior_scale': 0.05,  # → Tails off gradually → AR(1) → Requires smooth trend changes.\n",
    "            'seasonality_prior_scale': 10.0,  # → No strong seasonal effect detected, keeps seasonality influence moderate.\n",
    "            'extra_regressors': []},\n",
    "        'P8': {\n",
    "            'seasonality_mode': 'additive',\n",
    "            'yearly_seasonality': False,\n",
    "            'weekly_seasonality': False,\n",
    "            'daily_seasonality': False,\n",
    "            'changepoint_prior_scale': 0.2, # → Strong ARMA(3,3) pattern → Needs more flexibility for short-term dependencies.\n",
    "            'seasonality_prior_scale': 15.0, # → Quarterly seasonality (lag 3) is dominant → Higher seasonal weight.\n",
    "            'extra_seasonalities': [{\n",
    "                'name': 'quarterly',\n",
    "                'period': 3, # → ACF/PACF spike at lag 3 → Strong quarterly pattern.\n",
    "                'fourier_order': 3}]}, # → Balances capturing structure vs. overfitting\n",
    "        'P9': {\n",
    "            'seasonality_mode': 'multiplicative',\n",
    "            'yearly_seasonality': True, # → Annual pattern with anti-correlation at lag 12\n",
    "            'weekly_seasonality': False,\n",
    "            'daily_seasonality': False,\n",
    "            'changepoint_prior_scale': 0.1, # → Allows some trend flexibility but not too much\n",
    "            'seasonality_prior_scale': 15.0,  # → Strong yearly anti-correlation (ACF spike at lag 12)\n",
    "            'extra_regressors': []},\n",
    "        'P11': {\n",
    "            'seasonality_mode': 'multiplicative',\n",
    "            'yearly_seasonality': True, # → Yearly seasonality detected (PACF spike at lag 12)\n",
    "            'weekly_seasonality': False,\n",
    "            'daily_seasonality': False,\n",
    "            'changepoint_prior_scale': 0.15, # → More trend flexibility than P9 (to capture variations)\n",
    "            'seasonality_prior_scale': 20.0,  # → Very strong yearly dependency (PACF spike at lag 12)\n",
    "            'extra_regressors': []},\n",
    "        'P12': {\n",
    "            'seasonality_mode': 'additive',\n",
    "            'yearly_seasonality': False,\n",
    "            'weekly_seasonality': False,\n",
    "            'daily_seasonality': False,\n",
    "            'changepoint_prior_scale': 0.3,  # → Short-term dependency detected (lags 1-3 in PACF) → needs a high changepoint_prior_scale (0.3) to adapt quickly\n",
    "            'seasonality_prior_scale': 5.0, # → Lower seasonality weight since pattern isn't dominant\n",
    "            'extra_regressors': []},\n",
    "        'P13': {\n",
    "            'seasonality_mode': 'additive',\n",
    "            'yearly_seasonality': False,\n",
    "            'weekly_seasonality': False,\n",
    "            'daily_seasonality': False,\n",
    "            'changepoint_prior_scale': 0.1, # → Moderate flexibility to capture gradual changes\n",
    "            'seasonality_prior_scale': 15.0, # → Needed for seasonal AR(1) effect at lag 17\n",
    "            'extra_seasonalities': [{\n",
    "                'name': 'custom_17',\n",
    "                'period': 17, # →  PACF spike at lag 17 (capturing uncommon long cycle)\n",
    "                'fourier_order': 3}]},  # → Balances capturing structure vs. overfitting\n",
    "        'P14': {\n",
    "            'seasonality_mode': 'additive',\n",
    "            'yearly_seasonality': False,\n",
    "            'weekly_seasonality': False,\n",
    "            'daily_seasonality': False,\n",
    "            'changepoint_prior_scale': 0.05, # → Minimal trend flexibility (stable seasonality)\n",
    "            'seasonality_prior_scale': 10.0, # → Moderate seasonality strength for lag 6 pattern\n",
    "            'extra_seasonalities': [{ \n",
    "                'name': 'semiannual',\n",
    "                'period': 6, # → Captures PACF negative spike at lag 6\n",
    "                'fourier_order': 3}]}, # → Balances capturing structure vs. overfitting\n",
    "        'P16': {\n",
    "            'seasonality_mode': 'additive',\n",
    "            'yearly_seasonality': False,\n",
    "            'weekly_seasonality': False,\n",
    "            'daily_seasonality': False,\n",
    "            'changepoint_prior_scale': 0.3,  # → High flexibility to adapt to short-term ARMA(3,3) behavior \n",
    "            'seasonality_prior_scale': 5.0, # → Seasonality isn't dominant, keeping it low\n",
    "            'extra_regressors': []},\n",
    "        'P20': {\n",
    "            'seasonality_mode': 'additive',\n",
    "            'yearly_seasonality': False,\n",
    "            'weekly_seasonality': False,\n",
    "            'daily_seasonality': False,\n",
    "            'changepoint_prior_scale': 0.1, # → Allows mild trend changes \n",
    "            'seasonality_prior_scale': 15.0, # → Strong seasonal AR(1) at lag 13\n",
    "            'extra_seasonalities': [{\n",
    "                'name': 'custom_13',\n",
    "                'period': 13, # → Captures PACF spike at lag 13\n",
    "                'fourier_order': 3}]}, # → Balances capturing structure vs. overfitting\n",
    "        'P36': {\n",
    "            'seasonality_mode': 'multiplicative',\n",
    "            'yearly_seasonality': False,\n",
    "            'weekly_seasonality': False,\n",
    "            'daily_seasonality': False,\n",
    "            'changepoint_prior_scale': 0.1,  # → Some flexibility in trend but not too much\n",
    "            'seasonality_prior_scale': 15.0, # → Strong seasonality to match ACF/PACF spikes at lag 10\n",
    "            'extra_seasonalities': [{\n",
    "                'name': 'custom_10',\n",
    "                'period': 10, # → Captures both ACF & PACF spikes at lag 10\n",
    "                'fourier_order': 3}]}}  # → Balances capturing structure vs. overfitting\n",
    "    \n",
    "    # Default configuration \n",
    "    default_config = {\n",
    "        'seasonality_mode': 'additive',\n",
    "        'yearly_seasonality': 'auto',\n",
    "        'weekly_seasonality': False,\n",
    "        'daily_seasonality': False,\n",
    "        'changepoint_prior_scale': 0.05, # → Minimal trend flexibility (stable seasonality)\n",
    "        'seasonality_prior_scale': 10.0, # → Moderate seasonality strength for lag 6 pattern \n",
    "        'extra_regressors': []}\n",
    "    \n",
    "    return product_configs.get(product_id, default_config)"
   ]
  },
  {
   "cell_type": "code",
   "execution_count": 74,
   "metadata": {},
   "outputs": [],
   "source": [
    "def choose_parameters_prophet(product_id, df_train, feature_set, target_col=\"Sales\", \n",
    "                             winsorize=False, horizon=7):\n",
    "    \n",
    "    # --- Input Validation ---\n",
    "    if len(df_train) < 12:\n",
    "        print(f\"⚠️ Skipping {product_id} - only {len(df_train)} observations\")\n",
    "        return None\n",
    "    \n",
    "    # --- Data Preparation ---\n",
    "    print('Preparing data...')\n",
    "    try:\n",
    "        X_train, X_val, y_train, y_val = prepare_time_series_data(\n",
    "            df_train, feature_set, target_col, horizon, winsorize\n",
    "        )\n",
    "\n",
    "    except Exception as e:\n",
    "        print(f\"Data preparation failed: {str(e)}\")\n",
    "        return None\n",
    "    \n",
    "    # Get product-specific configuration\n",
    "    config = get_product_specific_config(product_id)\n",
    "    \n",
    "    # Prepare Prophet-compatible DataFrames\n",
    "    train_df = pd.DataFrame({\n",
    "        'ds': X_train.index.to_numpy(),\n",
    "        'y': y_train.values.flatten()\n",
    "    })\n",
    "    \n",
    "    # Add regressors if any\n",
    "    regressors = []\n",
    "    if feature_set:\n",
    "        for feature in feature_set:\n",
    "            if feature in X_train.columns:\n",
    "                train_df[feature] = X_train[feature].values.reshape(-1)\n",
    "                regressors.append(feature)\n",
    "    \n",
    "    # --- Model Configuration Function ---\n",
    "    def create_prophet_model():\n",
    "        \"\"\"Helper to create a fresh Prophet instance with current config\"\"\"\n",
    "        model = Prophet(seasonality_mode=config['seasonality_mode'], yearly_seasonality=config['yearly_seasonality'], weekly_seasonality=config['weekly_seasonality'],\n",
    "            daily_seasonality=config['daily_seasonality'], changepoint_prior_scale=config['changepoint_prior_scale'], seasonality_prior_scale=config['seasonality_prior_scale'])\n",
    "        \n",
    "        # custom seasonalities\n",
    "        if 'extra_seasonalities' in config:\n",
    "            for seasonality in config['extra_seasonalities']:\n",
    "                model.add_seasonality(name=seasonality['name'], period=seasonality['period'], fourier_order=seasonality['fourier_order'])\n",
    "        \n",
    "        # Add regressors\n",
    "        for reg in regressors:\n",
    "            model.add_regressor(reg)\n",
    "        \n",
    "        return model\n",
    "    \n",
    "    # --- Simple Forecast (12 ≤ obs < 36) ---\n",
    "    if len(X_train) < 36:\n",
    "        print(f\"Using simple forecast ({len(X_train)} < 36 obs)\")\n",
    "        try:\n",
    "            model = create_prophet_model()\n",
    "            model.fit(train_df)\n",
    "            \n",
    "            future = model.make_future_dataframe(periods=horizon, freq='M')\n",
    "            \n",
    "            if regressors and len(X_val) >= horizon:\n",
    "                for reg in regressors:\n",
    "                    future[reg] = X_val[reg].iloc[:horizon].values.reshape(-1)\n",
    "            \n",
    "            forecast = model.predict(future)\n",
    "            val_predictions = forecast['yhat'].values[-horizon:].flatten()\n",
    "            train_predictions = forecast['yhat'].values[:-horizon].flatten() if horizon > 0 else forecast['yhat'].values.flatten()\n",
    "            \n",
    "            return {\n",
    "                'product_id': product_id,\n",
    "                'winsorize': winsorize,\n",
    "                'features': feature_set,\n",
    "                'metrics': calculate_metrics(y_true=y_val.values.flatten(), y_pred=val_predictions, y_train=y_train.values.flatten(), y_train_pred=train_predictions),\n",
    "                'method': 'simple',\n",
    "                'validation_predictions': val_predictions,\n",
    "                'model_config': config}\n",
    "        except Exception as e:\n",
    "            print(f\"Simple forecast failed: {str(e)}\")\n",
    "            return None\n",
    "    \n",
    "    # --- Walk-Forward (≥36 obs) ---\n",
    "    print(f\"Using walk-forward ({len(X_train)} ≥ 36 obs)\")\n",
    "    predictions = []\n",
    "    actuals = []\n",
    "    history = train_df.copy()\n",
    "    history = history.convert_dtypes()\n",
    "\n",
    "    # Get training predictions\n",
    "    try:\n",
    "        train_model = create_prophet_model()\n",
    "        train_model.fit(history)\n",
    "        future_train = train_model.make_future_dataframe(periods=0, freq='M')\n",
    "        if regressors:\n",
    "            for reg in regressors:\n",
    "                future_train[reg] = history[reg].values.astype(float)  # Explicit float conversion\n",
    "        train_forecast = train_model.predict(future_train)\n",
    "        train_predictions = train_forecast['yhat'].values.flatten()\n",
    "    except Exception as e:\n",
    "        print(f\"Training pred failed: {str(e)} - using last value\")\n",
    "        train_predictions = np.full(len(y_train), y_train.iloc[-1])\n",
    "\n",
    "    # Walk-forward validation\n",
    "    for i in range(horizon):\n",
    "        try:\n",
    "            # Create fresh model\n",
    "            step_model = create_prophet_model()\n",
    "            \n",
    "            # Ensure numeric types\n",
    "            history = history.infer_objects()\n",
    "            \n",
    "            # Fit model\n",
    "            step_model.fit(history)\n",
    "            \n",
    "            # Prepare one-step forecast\n",
    "            future_step = step_model.make_future_dataframe(periods=1, include_history=False, freq='M')\n",
    "            \n",
    "            # Add regressors with type checking\n",
    "            if regressors and i < len(X_val):\n",
    "                for reg in regressors:\n",
    "                    if not np.issubdtype(X_val[reg].dtype, np.number):\n",
    "                        raise TypeError(f\"Regressor {reg} contains non-numeric values\")\n",
    "                    future_step[reg] = float(X_val[reg].iloc[i])  # Explicit float conversion\n",
    "            \n",
    "            # Make prediction\n",
    "            forecast_step = step_model.predict(future_step)\n",
    "            pred = float(forecast_step['yhat'].iloc[0])  # Explicit float conversion\n",
    "            predictions.append(pred)\n",
    "            actual = float(y_val.iloc[i]) if i < len(y_val) else np.nan\n",
    "            actuals.append(actual)\n",
    "            \n",
    "            # Update history \n",
    "\n",
    "            new_row = {'ds': X_val.index[i], 'y': actual}\n",
    "            if regressors and i < len(X_val):\n",
    "                for reg in regressors:\n",
    "                    new_row[reg] = float(X_val[reg].iloc[i])\n",
    "            \n",
    "            history = pd.concat([\n",
    "                history, \n",
    "                pd.DataFrame([new_row]).infer_objects()], ignore_index=True).convert_dtypes()\n",
    "            \n",
    "        except Exception as e:\n",
    "            print(f\"Iteration {i+1} failed: {str(e)}\")\n",
    "            predictions.append(float(y_train.iloc[-1]))\n",
    "            actuals.append(float(y_val.iloc[i]) if i < len(y_val) else np.nan)\n",
    "    \n",
    "    # Calculate metrics using actual observed values\n",
    "    metrics = calculate_metrics(\n",
    "        y_true=np.array(actuals).flatten(),\n",
    "        y_pred=np.array(predictions).flatten(),\n",
    "        y_train=y_train.values.flatten(),\n",
    "        y_train_pred=train_predictions)\n",
    "    \n",
    "    return {\n",
    "        'product_id': product_id, 'winsorize': winsorize, 'features': feature_set, 'metrics': metrics, 'method': 'walkforward', 'validation_predictions': predictions, 'model_config': config}\n",
    "\n",
    "def find_best_prophet_config(product_id, df_train, lagged_df=None, target_col=\"Sales\"):\n",
    "    \"\"\"Find best Prophet configuration with improved error handling\"\"\"\n",
    "    \n",
    "    # Validate input data\n",
    "    if not isinstance(df_train.index, pd.DatetimeIndex):\n",
    "        raise TypeError(\"❌ df_train index is not a DatetimeIndex!\")\n",
    "    if df_train.index.isnull().any():\n",
    "        raise ValueError(\"❌ Some index values could not be parsed into datetime!\")\n",
    "    \n",
    "    results = []\n",
    "    data = df_train.copy()\n",
    "    \n",
    "    # Feature groups for original data\n",
    "    normal_features = [col for col in data.columns if col != target_col]\n",
    "    normal_feature_combinations = generate_feature_combinations(normal_features, max_features=6)  \n",
    "    \n",
    "    # Test original data configurations\n",
    "    for winsorize in [True, False]:\n",
    "        for features in normal_feature_combinations:\n",
    "            try:\n",
    "                print(f\"\\nTesting - Winsorize: {winsorize}, Features: {features}\")\n",
    "\n",
    "                result = choose_parameters_prophet(product_id=product_id, df_train=data, feature_set=features, target_col=target_col, winsorize=winsorize)\n",
    "                \n",
    "                if result:\n",
    "                    print(f\"✅ Success - RMSE: {result['metrics']['RMSE']:.2f}\")\n",
    "                    results.append(result)\n",
    "            except Exception as e:\n",
    "                print(f\"⚠️ Configuration failed: {str(e)}\")\n",
    "                continue\n",
    "    \n",
    "    # Test lagged data configurations if available\n",
    "    if lagged_df is not None:\n",
    "        lagged_data = lagged_df.copy()\n",
    "        lag_features = [col for col in lagged_data.columns if 'lag' in col]\n",
    "        ma_features = [col for col in lagged_data.columns if '_ma_' in col]\n",
    "        macro_features = [col for col in data.columns if col != target_col]\n",
    "        \n",
    "        # Generate lag feature combinations\n",
    "        lag_feature_combinations = generate_feature_combinations(lag_features, max_features=5)\n",
    "        \n",
    "        # Create combined feature sets\n",
    "        full_combinations = []\n",
    "        for lag_combo in lag_feature_combinations:\n",
    "            full_combinations.append(lag_combo)\n",
    "            full_combinations.append(lag_combo + macro_features)\n",
    "            full_combinations.append(lag_combo + ma_features)\n",
    "            full_combinations.append(lag_combo + macro_features + ma_features)\n",
    "        \n",
    "        # Remove duplicates\n",
    "        seen = set()\n",
    "        unique_combinations = []\n",
    "        for combo in full_combinations:\n",
    "            combo_tuple = tuple(sorted(combo))\n",
    "            if combo_tuple not in seen:\n",
    "                seen.add(combo_tuple)\n",
    "                unique_combinations.append(combo)\n",
    "        \n",
    "        # Test all unique combinations\n",
    "        for winsorize in [True, False]:\n",
    "            for features in unique_combinations:\n",
    "                try:\n",
    "                    print(f\"\\nTesting - Lagged Features: {features}\")\n",
    "\n",
    "                    result = choose_parameters_prophet(product_id=product_id, df_train=lagged_data, feature_set=features, target_col=target_col, winsorize=winsorize)\n",
    "                    \n",
    "                    if result:\n",
    "                        print(f\"✅ Success - RMSE: {result['metrics']['RMSE']:.2f}\")\n",
    "                        results.append(result)\n",
    "                except Exception as e:\n",
    "                    print(f\"⚠️ Lagged configuration failed: {str(e)}\")\n",
    "                    continue\n",
    "    \n",
    "    if not results:\n",
    "        raise ValueError(f\"No valid configurations for {product_id}\")\n",
    "    \n",
    "    # Select best configuration by RMSE\n",
    "    best_config = min(results, key=lambda x: x['metrics']['RMSE'])\n",
    "    \n",
    "    print(f\"\\n✅ Best configuration for {product_id}:\")\n",
    "    print(f\"- Winsorize: {best_config['winsorize']}\")\n",
    "    print(f\"- Features: {best_config['features']}\")\n",
    "    print(f\"- RMSE: {best_config['metrics']['RMSE']:.2f}\")\n",
    "    print(f\"- Method: {best_config.get('method', 'walkforward')}\")\n",
    "    \n",
    "    return best_config, results\n",
    "\n",
    "def process_product_prophet(product_id):\n",
    "    \"\"\"Parallel processing wrapper for NeuralProphet\"\"\"\n",
    "    try:\n",
    "        df_train = product_dfs[product_id].rename(columns={product_id: \"Sales\"})\n",
    "        \n",
    "        # Ensure DatetimeIndex\n",
    "        if not isinstance(df_train.index, pd.DatetimeIndex):\n",
    "            df_train.index = pd.to_datetime(df_train.index, errors=\"coerce\")\n",
    "        \n",
    "        if df_train.index.isnull().any():\n",
    "            raise ValueError(\"❌ Some index values could not be parsed into datetime!\")\n",
    "\n",
    "        lagged_df = lagged_product_dfs.get(product_id, None)\n",
    "        \n",
    "        best_config, results = find_best_prophet_config(\n",
    "            product_id=product_id,\n",
    "            df_train=df_train,\n",
    "            lagged_df=lagged_df,\n",
    "            target_col=\"Sales\")\n",
    "        \n",
    "        return best_config, results\n",
    "    except Exception as e:\n",
    "        print(f\"⚠️ Failed to process {product_id}: {str(e)}\")\n",
    "        return None"
   ]
  },
  {
   "cell_type": "raw",
   "metadata": {
    "vscode": {
     "languageId": "raw"
    }
   },
   "source": [
    "all_product_ids = (product_dfs.keys())\n",
    "\n",
    "all_results_prophet = []  # List to store all results\n",
    "best_configs_prophet = []  # List to store best configurations\n",
    "\n",
    "for product_id in all_product_ids:\n",
    "    print(f\"Processing product: {product_id}\")\n",
    "    \n",
    "    try:\n",
    "        best_config_prophet, results_prophet = process_product_prophet(product_id)\n",
    "        \n",
    "        if best_config_prophet is not None:\n",
    "            best_configs_prophet.append(best_config_prophet)  # Store best config\n",
    "        else:\n",
    "            print(f\"Warning: No best config returned for product {product_id}\")\n",
    "        \n",
    "        if results_prophet is not None:\n",
    "            all_results_prophet.extend(results_prophet)  # Store results\n",
    "        else:\n",
    "            print(f\"Warning: No results returned for product {product_id}\")\n",
    "            \n",
    "    except Exception as e:\n",
    "        print(f\"Error processing product {product_id}: {str(e)}\")\n",
    "\n",
    "df_all_results_prophet = convert_results_to_df(all_results_prophet) if all_results_prophet else pd.DataFrame()\n",
    "df_best_configs_prophet = pd.DataFrame(best_configs_prophet) if best_configs_prophet else pd.DataFrame()\n",
    "\n",
    "df_all_results_prophet.to_csv(\"prophet_best_configs.csv\", index=False)\n",
    "df_best_configs_prophet.to_csv(\"prophet_best_configs_details.csv\", index=False)\n",
    "\n",
    "print(\"Processing completed! Results saved.\")\n"
   ]
  },
  {
   "cell_type": "markdown",
   "metadata": {},
   "source": [
    "##### <span style=\"background-color:#000027; padding:5px; border-radius:5px;\">**3.5. ARIMA**</span> <a id='arima'></a>  \n",
    "\n",
    "Click [here](#table-of-contents) ⬆️ to return to the Index."
   ]
  },
  {
   "cell_type": "markdown",
   "metadata": {},
   "source": [
    "Remember - Summary to test in modeling:\n",
    "\n",
    "| Product | Stationary? (Yes/No) | Notes | \n",
    "|---------|----------------------|--------------------|\n",
    "| P1      |        ✅ Yes       |  Tails off gradually  →   AR(1) |        \n",
    "| P3      |          ✅ Yes       |   Product 3 (P3), the presence of spikes at lag 12 in both ACF and PACF (with a stronger signal in PACF) strongly suggests seasonal behavior with a 12-period cycle (e.g., yearly patterns in monthly data)→  SARIMA(1, 0, 0)(1, 0, 0, 12)  |             \n",
    "| P4      |          ✅ Yes         |      strong negative spike at lag 6 in the PACF but a moderate negative spike in the ACF (within confidence intervals) →  SARIMA(0, 0, 0)(1, 0, 0, 6)  # Seasonal AR(1) with period 6 |             \n",
    "| P5      |          ✅ Yes          |     SARIMA(0,0,0)(1,0,1,6) →  Combines: Seasonal AR(1) (P=1) to capture the PACF spike at lag 6 & Seasonal MA(1) (Q=1) to account for ACF decay at lag 6; Ignores non-seasonal terms (p=q=0) since oscillations are weak|           \n",
    "| P6      |          ✅ Yes           |    Tails off gradually →   AR(1) |     \n",
    "| P8      |          ❌ No           |     ACF/PACF Spike at Lag 3: A dominant spike at lag 3 in both ACF and PACF suggests a strong seasonal or cyclical pattern with a 3-period cycle (e.g., quarterly data) → SARIMA(3, 0, 3)(0, 0, 0, 0)  # Pure ARMA(3,3)|            \n",
    "| P9      |          ✅ Yes            |   ACF: negative spike at lag 12 (-0.37, exceeding confidence bounds) →  yearly anti-correlation →  SARIMA(0, 0, 0)(0, 0, 1, 12)                |             \n",
    "| P11     |          ✅ Yes            |   PACF: Strong spike at lag 12 (exceeding confidence bounds) →  yearly dependency →   SARIMA(1, 0, 0)(1, 0, 0, 12)              |                     \n",
    "| P12     |          ✅ Yes           |  Strong Lags 1-3 →   ARIMA(3, 0, 0)                |                    \n",
    "| P13     |          ✅ Yes           |  The significant PACF spike at lag 17 (with insignificant ACF spike) indicates: A pure seasonal AR(1) effect at lag 17 (uncommon, but possible for long cycles) →  test standard and SARIMA(0, 0, 0)(1, 0, 0, 17) |                      \n",
    "| P14     |          ✅ Yes           |     Negative Spike at Lag 6 in PACF (Significant) and Near-CI Drop in ACF →  SARIMA(0, 0, 0)(1, 0, 0, 6)  |                      \n",
    "| P16     |          ✅ Yes          |       Both ACF and PACF show sharp cutoffs after lag 3 → Mixed ARMA(3,3) signature →    ARIMA(3, 0, 3)         |                       \n",
    "| P20     |          ✅ Yes          |    Tails off gradually  →  PACF spike at lag 13; Seasonal AR(1) → SARIMA(0, 0, 0)(1, 0, 0, 13)|                       \n",
    "| P36     |          ✅ Yes          |    BOTH ACF and PACF spike at Lag 10   →  SARIMA(0,0,0)(1,0,1,10)           |  "
   ]
  },
  {
   "cell_type": "code",
   "execution_count": 75,
   "metadata": {},
   "outputs": [],
   "source": [
    "def choose_parameters_arima(product_id, df_train, feature_set, target_col=\"Sales\", \n",
    "                          winsorize=False, horizon=7, seasonal_period=None,\n",
    "                          manual_order=None, manual_seasonal_order=None):\n",
    "    \"\"\"\n",
    "    ARIMA/SARIMAX with:\n",
    "    - Support for both manual and auto-ARIMA\n",
    "    - Proper non-stationary handling\n",
    "    - Fixed dimensionality issues\n",
    "    \"\"\"\n",
    "    # --- Input Validation ---\n",
    "    if len(df_train) < 12:\n",
    "        print(f\"⚠️ Skipping {product_id} - only {len(df_train)} observations\")\n",
    "        return None\n",
    "    \n",
    "    # --- Data Preparation ---\n",
    "    print('Preparing data...')\n",
    "    try:\n",
    "        X_train, X_val, y_train, y_val = prepare_time_series_data(df_train, feature_set, target_col, horizon, winsorize)\n",
    "        \n",
    "        # Convert to numpy arrays and ensure correct shapes\n",
    "        y_train = np.array(y_train).ravel()\n",
    "        y_val = np.array(y_val).ravel()\n",
    "        \n",
    "    except Exception as e:\n",
    "        print(f\"Data preparation failed: {str(e)}\")\n",
    "        return None\n",
    "    \n",
    "    # --- Prepare Exogenous Data ---\n",
    "    exog_train = np.array(X_train[feature_set]) if feature_set else None\n",
    "    exog_val = np.array(X_val[feature_set]) if feature_set else None\n",
    "    \n",
    "    # --- Walk-Forward Validation ---\n",
    "    print(f\"Using walk-forward validation ({len(X_train)} observations)\")\n",
    "    predictions = []\n",
    "    history = y_train.copy()\n",
    "    exog_history = exog_train.copy() if exog_train is not None else None\n",
    "    \n",
    "    # Get training predictions\n",
    "    try:\n",
    "        if manual_order:  # Manual configuration path\n",
    "            with warnings.catch_warnings():\n",
    "                warnings.simplefilter(\"ignore\")\n",
    "\n",
    "                model = SARIMAX(history, exog=exog_history, order=manual_order,\n",
    "                              seasonal_order=manual_seasonal_order if manual_seasonal_order else (0,0,0,0),\n",
    "                              enforce_stationarity=False, enforce_invertibility=False).fit(disp=False)\n",
    "                \n",
    "                train_predictions = model.get_prediction().predicted_mean\n",
    "\n",
    "        else:  # Auto-ARIMA path\n",
    "            with warnings.catch_warnings():\n",
    "                warnings.simplefilter(\"ignore\")\n",
    "\n",
    "                train_model = auto_arima(history, X=exog_history, seasonal=seasonal_period is not None,\n",
    "                                      m=seasonal_period if seasonal_period else 1, \n",
    "                                      suppress_warnings=True, error_action='ignore',\n",
    "                                      test='adf') # Auto-detect differencing needs\n",
    "                \n",
    "                train_predictions = train_model.predict_in_sample(X=exog_history)\n",
    "\n",
    "    except Exception as e:\n",
    "        print(f\"Training pred failed: {str(e)} - using last value\")\n",
    "        train_predictions = [history[-1]] * len(history)\n",
    "    \n",
    "    for i in range(horizon):\n",
    "        try:\n",
    "            with warnings.catch_warnings():\n",
    "                warnings.simplefilter(\"ignore\")\n",
    "                current_exog = exog_val[[i]] if exog_val is not None else None\n",
    "                \n",
    "                if manual_order:  # Manual fit\n",
    "                    model = SARIMAX(history, exog=exog_history, order=manual_order,\n",
    "                                  seasonal_order=manual_seasonal_order if manual_seasonal_order else (0,0,0,0),\n",
    "                                  enforce_stationarity=False).fit(disp=False)\n",
    "                    \n",
    "                    pred = model.forecast(steps=1, exog=current_exog)[0]\n",
    "\n",
    "                else:  # Auto-ARIMA\n",
    "                    model = auto_arima(history, X=exog_history, seasonal=seasonal_period is not None,\n",
    "                                     m=seasonal_period if seasonal_period else 1, \n",
    "                                     suppress_warnings=True, error_action='ignore')\n",
    "                    \n",
    "                    pred = model.predict(n_periods=1, X=current_exog)[0]\n",
    "                \n",
    "                predictions.append(pred)\n",
    "                # Update history maintaining 1D array\n",
    "                history = np.concatenate([history, [pred]])\n",
    "                if exog_history is not None:\n",
    "                    exog_history = np.vstack([exog_history, exog_val[i]])\n",
    "                    \n",
    "        except Exception as e:\n",
    "            print(f\"Iteration {i+1} failed: {str(e)}\")\n",
    "            predictions.append(history[-1])\n",
    "            continue\n",
    "    \n",
    "    metrics = calculate_metrics(y_true=y_val, y_pred=predictions, y_train=y_train, y_train_pred=train_predictions)\n",
    "    \n",
    "    return {\n",
    "        'product_id': product_id, 'winsorize': winsorize, 'features': feature_set,  \n",
    "        'metrics': metrics, 'method': 'manual' if manual_order else 'auto',\n",
    "        'validation_predictions': predictions, 'model_order': manual_order if manual_order else model.order,\n",
    "        'seasonal_order': manual_seasonal_order if manual_seasonal_order else (model.seasonal_order if hasattr(model, 'seasonal_order') else (0,0,0,0))}\n",
    "\n",
    "def find_best_arima_config(product_id, df_train, target_col=\"Sales\"):\n",
    "    \"\"\"\n",
    "    Tests both manual (from ACF/PACF) and auto-ARIMA configurations\n",
    "    \"\"\"\n",
    "        \n",
    "    #  DatetimeIndex\n",
    "    if not isinstance(df_train.index, pd.DatetimeIndex):\n",
    "        df_train.index = pd.to_datetime(df_train.index, errors=\"coerce\")\n",
    "\n",
    "    # Validate input\n",
    "    if not isinstance(df_train.index, pd.DatetimeIndex):\n",
    "        raise TypeError(\"❌ df_train index is not a DatetimeIndex!\")\n",
    "    \n",
    "    results = []\n",
    "    data = df_train.copy()\n",
    "    \n",
    "    # --- Manual Configurations from ACF/PACF Analysis ---\n",
    "    manual_configs = {\n",
    "        'P1': [{'order': (1,0,0)}], # AR(1)\n",
    "        'P3': [{'order': (1,0,0), 'seasonal_order': (1,0,0,12)}], # SARIMA(1,0,0)(1,0,0,12)\n",
    "        'P4': [{'order': (0,0,0), 'seasonal_order': (1,0,0,6)}], # SARIMA(0,0,0)(1,0,0,6)\n",
    "        'P5': [{'order': (0,0,0), 'seasonal_order': (1,0,1,6)}], # SARIMA(0,0,0)(1,0,1,6)\n",
    "        'P6': [{'order': (1,0,0)}], # AR(1)\n",
    "        'P8': [  # Non-stationary series\n",
    "            {'order': (3,1,3)},  # ARIMA(3,1,3) - with differencing\n",
    "            {'order': (3,0,3)}], # ARIMA(3,0,3) - without differencing for comparison\n",
    "        'P9': [{'order': (0,0,0), 'seasonal_order': (0,0,1,12)}], # SARIMA(0,0,0)(0,0,1,12)\n",
    "        'P11': [{'order': (1,0,0), 'seasonal_order': (1,0,0,12)}], # SARIMA(1,0,0)(1,0,0,12)\n",
    "        'P12': [{'order': (3,0,0)}],  # AR(3)\n",
    "        'P13': [\n",
    "            {'order': (0,0,0), 'seasonal_order': (1,0,0,17)},  # SARIMA(0,0,0)(1,0,0,17)\n",
    "            {'order': (1,0,0)}], # Also test standard AR(1) as fallback\n",
    "        'P14': [{'order': (0,0,0), 'seasonal_order': (1,0,0,6)}], # SARIMA(0,0,0)(1,0,0,6)\n",
    "        'P16': [{'order': (3,0,3)}],  # ARMA(3,3)\n",
    "        'P20': [{'order': (0,0,0), 'seasonal_order': (1,0,0,13)}], # SARIMA(0,0,0)(1,0,0,13)\n",
    "        'P36': [{'order': (0,0,0), 'seasonal_order': (1,0,1,10)}]} # SARIMA(0,0,0)(1,0,1,10)\n",
    "    \n",
    "    # --- Test Manual Configurations ---\n",
    "    if product_id in manual_configs:\n",
    "        for config in manual_configs[product_id]:\n",
    "            for winsorize in [True, False]:\n",
    "                try:\n",
    "                    result = choose_parameters_arima(product_id=product_id, df_train=data,\n",
    "                                                     feature_set=[f for f in data.columns if f != target_col],\n",
    "                                                     target_col=target_col,\n",
    "                                                     winsorize=winsorize,\n",
    "                                                     manual_order=config['order'],\n",
    "                                                     manual_seasonal_order=config.get('seasonal_order'))\n",
    "                    if result:\n",
    "                        print(f\"✅ Manual Success - Order: {result['model_order']} \"\n",
    "                              f\"Seasonal: {result['seasonal_order']} \"\n",
    "                              f\"RMSE: {result['metrics']['RMSE']:.2f}\")\n",
    "                        results.append(result)\n",
    "                except Exception as e:\n",
    "                    print(f\"⚠️ Manual config failed: {str(e)}\")\n",
    "    \n",
    "    # --- Test Auto-ARIMA Configurations ---\n",
    "    seasonal_periods = {\n",
    "        'P3': 12, 'P4': 6, 'P5': 6, 'P9': 12,\n",
    "        'P11': 12, 'P13': 17, 'P14': 6, 'P20': 13, 'P36': 10}\n",
    "    \n",
    "    seasonal_period = seasonal_periods.get(product_id)\n",
    "    \n",
    "    normal_features = [col for col in data.columns if col != target_col]\n",
    "    feature_combinations = generate_feature_combinations(normal_features, max_features=6)\n",
    "    feature_combinations = [[]] + feature_combinations  # Include no-features option\n",
    "    \n",
    "    for winsorize in [True, False]:\n",
    "        for features in feature_combinations:\n",
    "            try:\n",
    "                result = choose_parameters_arima(product_id=product_id, df_train=data, feature_set=features,\n",
    "                                                 target_col=target_col, winsorize=winsorize, seasonal_period=seasonal_period)\n",
    "                if result:\n",
    "                    print(f\"✅ AutoARIMA Success - Features: {len(features)} \"\n",
    "                          f\"RMSE: {result['metrics']['RMSE']:.2f}\")\n",
    "                    results.append(result)\n",
    "            except Exception as e:\n",
    "                print(f\"⚠️ AutoARIMA failed: {str(e)}\")\n",
    "    \n",
    "    if not results:\n",
    "        raise ValueError(f\"No valid ARIMA configurations for {product_id}\")\n",
    "    \n",
    "    # Select best configuration\n",
    "    best_config = min(results, key=lambda x: x['metrics']['RMSE'])\n",
    "    \n",
    "    print(f\"\\n✅ Best ARIMA configuration for {product_id}:\")\n",
    "    print(f\"- Method: {best_config['method']}\")\n",
    "    print(f\"- Winsorize: {best_config['winsorize']}\")\n",
    "    print(f\"- Features: {best_config['features']}\")\n",
    "    print(f\"- Order: {best_config['model_order']}\")\n",
    "    print(f\"- Seasonal Order: {best_config['seasonal_order']}\")\n",
    "    print(f\"- RMSE: {best_config['metrics']['RMSE']:.2f}\")\n",
    "    \n",
    "    return best_config, results"
   ]
  },
  {
   "cell_type": "raw",
   "metadata": {
    "vscode": {
     "languageId": "raw"
    }
   },
   "source": [
    "all_product_ids = set(product_dfs.keys())\n",
    "\n",
    "all_results_arima = []  # List to store all results\n",
    "best_configs_arima = []  # List to store best configurations\n",
    "\n",
    "for product_id in all_product_ids:\n",
    "    print(f\"Processing product: {product_id}\")\n",
    "    \n",
    "    try:\n",
    "        best_config_arima, results_timegpt = find_best_arima_config(product_id, product_dfs[product_id])\n",
    "        \n",
    "        if best_config_arima is not None:\n",
    "            best_configs_arima.append(best_config_arima)  # Store best config\n",
    "        else:\n",
    "            print(f\"Warning: No best config returned for product {product_id}\")\n",
    "        \n",
    "        if results_timegpt is not None:\n",
    "            all_results_arima.extend(results_timegpt)  # Store results\n",
    "        else:\n",
    "            print(f\"Warning: No results returned for product {product_id}\")\n",
    "            \n",
    "    except Exception as e:\n",
    "        print(f\"Error processing product {product_id}: {str(e)}\")"
   ]
  },
  {
   "cell_type": "raw",
   "metadata": {
    "vscode": {
     "languageId": "raw"
    }
   },
   "source": [
    "df_all_results_arima = convert_results_to_df(all_results_arima) if all_results_arima else pd.DataFrame()\n",
    "df_best_configs_arima = pd.DataFrame(best_configs_arima) if best_configs_arima else pd.DataFrame()\n",
    "\n",
    "df_all_results_arima.to_csv(\"arima_best_configs.csv\", index=False)\n",
    "df_best_configs_arima.to_csv(\"arima_best_configs_details.csv\", index=False)\n",
    "\n",
    "print(\"Processing completed! Results saved.\")"
   ]
  },
  {
   "cell_type": "markdown",
   "metadata": {},
   "source": [
    "##### <span style=\"background-color:#000027; padding:5px; border-radius:5px;\">**3.6. Results Comparison**</span> <a id='compare'></a>  \n",
    "\n",
    "Click [here](#table-of-contents) ⬆️ to return to the Index."
   ]
  },
  {
   "cell_type": "code",
   "execution_count": 76,
   "metadata": {},
   "outputs": [
    {
     "data": {
      "text/html": [
       "\n",
       "    <div style='overflow-x: auto; white-space: nowrap; padding-bottom: 10px; border-bottom: 2px solid #ddd;'>\n",
       "    \n",
       "        <div style='display:inline-block; margin-right:25px; vertical-align:top;'>\n",
       "            <h4 style='text-align:center;'>P1</h4>\n",
       "            <div style='max-height:500px; overflow-y:auto; border:1px solid #ccc; padding:5px;'>\n",
       "                <table class=\"dataframe dataframe\">\n",
       "  <thead>\n",
       "    <tr style=\"text-align: right;\">\n",
       "      <th>Model</th>\n",
       "      <th>product_id</th>\n",
       "      <th>winsorize</th>\n",
       "      <th>features</th>\n",
       "      <th>RMSE</th>\n",
       "      <th>Overfit_Score</th>\n",
       "      <th>Parameters</th>\n",
       "      <th>Feature Importance</th>\n",
       "    </tr>\n",
       "  </thead>\n",
       "  <tbody>\n",
       "    <tr>\n",
       "      <td>TimeGPT</td>\n",
       "      <td>P1</td>\n",
       "      <td>True</td>\n",
       "      <td>PRO27826_org, MAB_ELE_SHP1100</td>\n",
       "      <td>3475393.6312</td>\n",
       "      <td>-0.3474</td>\n",
       "      <td>NaN</td>\n",
       "      <td>NaN</td>\n",
       "    </tr>\n",
       "    <tr>\n",
       "      <td>Prophet</td>\n",
       "      <td>P1</td>\n",
       "      <td>True</td>\n",
       "      <td>['MAB_ELE_SHP840', 'PRO27826_org', 'MAB_ELE_SHP1100']</td>\n",
       "      <td>2164903.6986</td>\n",
       "      <td>-0.5316</td>\n",
       "      <td>NaN</td>\n",
       "      <td>NaN</td>\n",
       "    </tr>\n",
       "    <tr>\n",
       "      <td>ARIMA</td>\n",
       "      <td>P1</td>\n",
       "      <td>True</td>\n",
       "      <td>['PRI27276_org', 'PRO27826_org', 'MAB_ELE_PRO276', 'MAB_ELE_SHP1100']</td>\n",
       "      <td>2077977.6128</td>\n",
       "      <td>-0.9453</td>\n",
       "      <td>arima: auto; model_order: (1, 0, 0); seasonal_order: (0, 0, 0, 0)</td>\n",
       "      <td>NaN</td>\n",
       "    </tr>\n",
       "    <tr>\n",
       "      <td>XGBoost</td>\n",
       "      <td>P1</td>\n",
       "      <td>True</td>\n",
       "      <td>['P1_lag_6', 'P1_lag_18', 'P1_ma_6', 'P1_ma_18']</td>\n",
       "      <td>1756694.2558</td>\n",
       "      <td>22.3548</td>\n",
       "      <td>{'colsample_bytree': 1.0, 'learning_rate': 0.1, 'max_depth': 3, 'min_child_weight': 1, 'n_estimators': 100, 'subsample': 0.9}</td>\n",
       "      <td>{'P1_lag_6': 0.30282173, 'P1_lag_18': 0.18046999, 'P1_ma_6': 0.30943987, 'P1_ma_18': 0.20726843}</td>\n",
       "    </tr>\n",
       "  </tbody>\n",
       "</table>\n",
       "            </div>\n",
       "        </div>\n",
       "        \n",
       "        <div style='display:inline-block; margin-right:25px; vertical-align:top;'>\n",
       "            <h4 style='text-align:center;'>P3</h4>\n",
       "            <div style='max-height:500px; overflow-y:auto; border:1px solid #ccc; padding:5px;'>\n",
       "                <table class=\"dataframe dataframe\">\n",
       "  <thead>\n",
       "    <tr style=\"text-align: right;\">\n",
       "      <th>Model</th>\n",
       "      <th>product_id</th>\n",
       "      <th>winsorize</th>\n",
       "      <th>features</th>\n",
       "      <th>RMSE</th>\n",
       "      <th>Overfit_Score</th>\n",
       "      <th>Parameters</th>\n",
       "      <th>Feature Importance</th>\n",
       "    </tr>\n",
       "  </thead>\n",
       "  <tbody>\n",
       "    <tr>\n",
       "      <td>TimeGPT</td>\n",
       "      <td>P3</td>\n",
       "      <td>True</td>\n",
       "      <td>PRO27826_org</td>\n",
       "      <td>1400586.7625</td>\n",
       "      <td>-0.5273</td>\n",
       "      <td>NaN</td>\n",
       "      <td>NaN</td>\n",
       "    </tr>\n",
       "    <tr>\n",
       "      <td>Prophet</td>\n",
       "      <td>P3</td>\n",
       "      <td>True</td>\n",
       "      <td>['PRI27840_org']</td>\n",
       "      <td>4038685.9300</td>\n",
       "      <td>5.8188</td>\n",
       "      <td>NaN</td>\n",
       "      <td>NaN</td>\n",
       "    </tr>\n",
       "    <tr>\n",
       "      <td>ARIMA</td>\n",
       "      <td>P3</td>\n",
       "      <td>True</td>\n",
       "      <td>['PRI27840_org']</td>\n",
       "      <td>2177873.1620</td>\n",
       "      <td>-0.3089</td>\n",
       "      <td>arima: auto; model_order: (1, 0, 1); seasonal_order: (0, 1, 1, 12)</td>\n",
       "      <td>NaN</td>\n",
       "    </tr>\n",
       "    <tr>\n",
       "      <td>XGBoost</td>\n",
       "      <td>P3</td>\n",
       "      <td>True</td>\n",
       "      <td>['P3_lag_12', 'P3_ma_12']</td>\n",
       "      <td>1142677.4785</td>\n",
       "      <td>-0.1396</td>\n",
       "      <td>{'colsample_bytree': 1.0, 'learning_rate': 0.1, 'max_depth': 2, 'min_child_weight': 3, 'n_estimators': 50, 'subsample': 0.9}</td>\n",
       "      <td>{'P3_lag_12': 0.5673661, 'P3_ma_12': 0.43263388}</td>\n",
       "    </tr>\n",
       "  </tbody>\n",
       "</table>\n",
       "            </div>\n",
       "        </div>\n",
       "        \n",
       "        <div style='display:inline-block; margin-right:25px; vertical-align:top;'>\n",
       "            <h4 style='text-align:center;'>P4</h4>\n",
       "            <div style='max-height:500px; overflow-y:auto; border:1px solid #ccc; padding:5px;'>\n",
       "                <table class=\"dataframe dataframe\">\n",
       "  <thead>\n",
       "    <tr style=\"text-align: right;\">\n",
       "      <th>Model</th>\n",
       "      <th>product_id</th>\n",
       "      <th>winsorize</th>\n",
       "      <th>features</th>\n",
       "      <th>RMSE</th>\n",
       "      <th>Overfit_Score</th>\n",
       "      <th>Parameters</th>\n",
       "      <th>Feature Importance</th>\n",
       "    </tr>\n",
       "  </thead>\n",
       "  <tbody>\n",
       "    <tr>\n",
       "      <td>TimeGPT</td>\n",
       "      <td>P4</td>\n",
       "      <td>True</td>\n",
       "      <td>P4_lag_3</td>\n",
       "      <td>101402.7610</td>\n",
       "      <td>-0.4136</td>\n",
       "      <td>NaN</td>\n",
       "      <td>NaN</td>\n",
       "    </tr>\n",
       "    <tr>\n",
       "      <td>Prophet</td>\n",
       "      <td>P4</td>\n",
       "      <td>True</td>\n",
       "      <td>['PRO27380_org']</td>\n",
       "      <td>71391.6465</td>\n",
       "      <td>-0.5762</td>\n",
       "      <td>NaN</td>\n",
       "      <td>NaN</td>\n",
       "    </tr>\n",
       "    <tr>\n",
       "      <td>ARIMA</td>\n",
       "      <td>P4</td>\n",
       "      <td>False</td>\n",
       "      <td>['PRO27380_org', 'WKLWEUR840_org', 'PRO27276_org', 'MAB_ELE_SHP380']</td>\n",
       "      <td>66180.8700</td>\n",
       "      <td>-0.5615</td>\n",
       "      <td>arima: manual; model_order: (0, 0, 0); seasonal_order: (1, 0, 0, 6)</td>\n",
       "      <td>NaN</td>\n",
       "    </tr>\n",
       "    <tr>\n",
       "      <td>XGBoost</td>\n",
       "      <td>P4</td>\n",
       "      <td>False</td>\n",
       "      <td>['PRO27276_org']</td>\n",
       "      <td>54778.4267</td>\n",
       "      <td>-0.5468</td>\n",
       "      <td>{'colsample_bytree': 0.9, 'learning_rate': 0.05, 'max_depth': 3, 'min_child_weight': 3, 'n_estimators': 50, 'subsample': 1.0}</td>\n",
       "      <td>{'PRO27276_org': 1.0}</td>\n",
       "    </tr>\n",
       "  </tbody>\n",
       "</table>\n",
       "            </div>\n",
       "        </div>\n",
       "        \n",
       "        <div style='display:inline-block; margin-right:25px; vertical-align:top;'>\n",
       "            <h4 style='text-align:center;'>P5</h4>\n",
       "            <div style='max-height:500px; overflow-y:auto; border:1px solid #ccc; padding:5px;'>\n",
       "                <table class=\"dataframe dataframe\">\n",
       "  <thead>\n",
       "    <tr style=\"text-align: right;\">\n",
       "      <th>Model</th>\n",
       "      <th>product_id</th>\n",
       "      <th>winsorize</th>\n",
       "      <th>features</th>\n",
       "      <th>RMSE</th>\n",
       "      <th>Overfit_Score</th>\n",
       "      <th>Parameters</th>\n",
       "      <th>Feature Importance</th>\n",
       "    </tr>\n",
       "  </thead>\n",
       "  <tbody>\n",
       "    <tr>\n",
       "      <td>TimeGPT</td>\n",
       "      <td>P5</td>\n",
       "      <td>True</td>\n",
       "      <td>P5_lag_17</td>\n",
       "      <td>3874843.0186</td>\n",
       "      <td>-0.0804</td>\n",
       "      <td>NaN</td>\n",
       "      <td>NaN</td>\n",
       "    </tr>\n",
       "    <tr>\n",
       "      <td>Prophet</td>\n",
       "      <td>P5</td>\n",
       "      <td>True</td>\n",
       "      <td>['PRO27826_org', 'PRO271000_org']</td>\n",
       "      <td>2499421.6161</td>\n",
       "      <td>-0.1928</td>\n",
       "      <td>NaN</td>\n",
       "      <td>NaN</td>\n",
       "    </tr>\n",
       "    <tr>\n",
       "      <td>ARIMA</td>\n",
       "      <td>P5</td>\n",
       "      <td>False</td>\n",
       "      <td>['PRO27826_org', 'PRO271000_org', 'MAB_ELE_PRO156']</td>\n",
       "      <td>2152211.6710</td>\n",
       "      <td>-0.5443</td>\n",
       "      <td>arima: auto; model_order: (0, 0, 0); seasonal_order: (0, 0, 0, 6)</td>\n",
       "      <td>NaN</td>\n",
       "    </tr>\n",
       "    <tr>\n",
       "      <td>XGBoost</td>\n",
       "      <td>P5</td>\n",
       "      <td>False</td>\n",
       "      <td>['PRO27826_org']</td>\n",
       "      <td>1331522.0653</td>\n",
       "      <td>-0.5324</td>\n",
       "      <td>{'colsample_bytree': 0.9, 'learning_rate': 0.1, 'max_depth': 3, 'min_child_weight': 3, 'n_estimators': 50, 'subsample': 0.9}</td>\n",
       "      <td>{'PRO27826_org': 1.0}</td>\n",
       "    </tr>\n",
       "  </tbody>\n",
       "</table>\n",
       "            </div>\n",
       "        </div>\n",
       "        \n",
       "        <div style='display:inline-block; margin-right:25px; vertical-align:top;'>\n",
       "            <h4 style='text-align:center;'>P6</h4>\n",
       "            <div style='max-height:500px; overflow-y:auto; border:1px solid #ccc; padding:5px;'>\n",
       "                <table class=\"dataframe dataframe\">\n",
       "  <thead>\n",
       "    <tr style=\"text-align: right;\">\n",
       "      <th>Model</th>\n",
       "      <th>product_id</th>\n",
       "      <th>winsorize</th>\n",
       "      <th>features</th>\n",
       "      <th>RMSE</th>\n",
       "      <th>Overfit_Score</th>\n",
       "      <th>Parameters</th>\n",
       "      <th>Feature Importance</th>\n",
       "    </tr>\n",
       "  </thead>\n",
       "  <tbody>\n",
       "    <tr>\n",
       "      <td>TimeGPT</td>\n",
       "      <td>P6</td>\n",
       "      <td>True</td>\n",
       "      <td>PRO27276_org, RohCRUDE_PETRO1000_org</td>\n",
       "      <td>402068.4330</td>\n",
       "      <td>0.2397</td>\n",
       "      <td>NaN</td>\n",
       "      <td>NaN</td>\n",
       "    </tr>\n",
       "    <tr>\n",
       "      <td>Prophet</td>\n",
       "      <td>P6</td>\n",
       "      <td>False</td>\n",
       "      <td>['PRO27840_org']</td>\n",
       "      <td>165017.5023</td>\n",
       "      <td>-0.2988</td>\n",
       "      <td>NaN</td>\n",
       "      <td>NaN</td>\n",
       "    </tr>\n",
       "    <tr>\n",
       "      <td>ARIMA</td>\n",
       "      <td>P6</td>\n",
       "      <td>False</td>\n",
       "      <td>['PRO27840_org', 'RohCRUDE_PETRO1000_org']</td>\n",
       "      <td>178899.4184</td>\n",
       "      <td>-0.7267</td>\n",
       "      <td>arima: auto; model_order: (1, 0, 0); seasonal_order: (0, 0, 0, 0)</td>\n",
       "      <td>NaN</td>\n",
       "    </tr>\n",
       "    <tr>\n",
       "      <td>XGBoost</td>\n",
       "      <td>P6</td>\n",
       "      <td>False</td>\n",
       "      <td>[]</td>\n",
       "      <td>113093.3087</td>\n",
       "      <td>1.0149</td>\n",
       "      <td>{'colsample_bytree': 1.0, 'learning_rate': 0.1, 'max_depth': 3, 'min_child_weight': 3, 'n_estimators': 100, 'subsample': 1.0}</td>\n",
       "      <td>{}</td>\n",
       "    </tr>\n",
       "  </tbody>\n",
       "</table>\n",
       "            </div>\n",
       "        </div>\n",
       "        \n",
       "        <div style='display:inline-block; margin-right:25px; vertical-align:top;'>\n",
       "            <h4 style='text-align:center;'>P8</h4>\n",
       "            <div style='max-height:500px; overflow-y:auto; border:1px solid #ccc; padding:5px;'>\n",
       "                <table class=\"dataframe dataframe\">\n",
       "  <thead>\n",
       "    <tr style=\"text-align: right;\">\n",
       "      <th>Model</th>\n",
       "      <th>product_id</th>\n",
       "      <th>winsorize</th>\n",
       "      <th>features</th>\n",
       "      <th>RMSE</th>\n",
       "      <th>Overfit_Score</th>\n",
       "      <th>Parameters</th>\n",
       "      <th>Feature Importance</th>\n",
       "    </tr>\n",
       "  </thead>\n",
       "  <tbody>\n",
       "    <tr>\n",
       "      <td>TimeGPT</td>\n",
       "      <td>P8</td>\n",
       "      <td>True</td>\n",
       "      <td>PRI27840_org</td>\n",
       "      <td>447712.4886</td>\n",
       "      <td>-0.3512</td>\n",
       "      <td>NaN</td>\n",
       "      <td>NaN</td>\n",
       "    </tr>\n",
       "    <tr>\n",
       "      <td>Prophet</td>\n",
       "      <td>P8</td>\n",
       "      <td>True</td>\n",
       "      <td>['RohCOPPER1000_org']</td>\n",
       "      <td>518120.0389</td>\n",
       "      <td>0.7186</td>\n",
       "      <td>NaN</td>\n",
       "      <td>NaN</td>\n",
       "    </tr>\n",
       "    <tr>\n",
       "      <td>ARIMA</td>\n",
       "      <td>P8</td>\n",
       "      <td>True</td>\n",
       "      <td>['PRI27840_org']</td>\n",
       "      <td>394832.8009</td>\n",
       "      <td>-0.7190</td>\n",
       "      <td>arima: auto; model_order: (1, 0, 2); seasonal_order: (0, 0, 0, 0)</td>\n",
       "      <td>NaN</td>\n",
       "    </tr>\n",
       "    <tr>\n",
       "      <td>XGBoost</td>\n",
       "      <td>P8</td>\n",
       "      <td>True</td>\n",
       "      <td>['P8_lag_10', 'PRI27840_org', 'RohCOPPER1000_org', 'P8_ma_1', 'P8_ma_2', 'P8_ma_5', 'P8_ma_6', 'P8_ma_10']</td>\n",
       "      <td>108604.7529</td>\n",
       "      <td>6.7598</td>\n",
       "      <td>{'colsample_bytree': 1.0, 'learning_rate': 0.05, 'max_depth': 3, 'min_child_weight': 1, 'n_estimators': 100, 'subsample': 0.9}</td>\n",
       "      <td>{'P8_lag_10': 0.01589855, 'PRI27840_org': 0.039296027, 'RohCOPPER1000_org': 0.000489684, 'P8_ma_1': 0.94431573, 'P8_ma_2': 0.0, 'P8_ma_5': 0.0, 'P8_ma_6': 0.0, 'P8_ma_10': 0.0}</td>\n",
       "    </tr>\n",
       "  </tbody>\n",
       "</table>\n",
       "            </div>\n",
       "        </div>\n",
       "        \n",
       "        <div style='display:inline-block; margin-right:25px; vertical-align:top;'>\n",
       "            <h4 style='text-align:center;'>P9</h4>\n",
       "            <div style='max-height:500px; overflow-y:auto; border:1px solid #ccc; padding:5px;'>\n",
       "                <table class=\"dataframe dataframe\">\n",
       "  <thead>\n",
       "    <tr style=\"text-align: right;\">\n",
       "      <th>Model</th>\n",
       "      <th>product_id</th>\n",
       "      <th>winsorize</th>\n",
       "      <th>features</th>\n",
       "      <th>RMSE</th>\n",
       "      <th>Overfit_Score</th>\n",
       "      <th>Parameters</th>\n",
       "      <th>Feature Importance</th>\n",
       "    </tr>\n",
       "  </thead>\n",
       "  <tbody>\n",
       "    <tr>\n",
       "      <td>TimeGPT</td>\n",
       "      <td>P9</td>\n",
       "      <td>True</td>\n",
       "      <td>P9_lag_12</td>\n",
       "      <td>5759.7658</td>\n",
       "      <td>-0.3789</td>\n",
       "      <td>NaN</td>\n",
       "      <td>NaN</td>\n",
       "    </tr>\n",
       "    <tr>\n",
       "      <td>Prophet</td>\n",
       "      <td>P9</td>\n",
       "      <td>False</td>\n",
       "      <td>['PRO27826_org', 'PRO28250_org']</td>\n",
       "      <td>16660.3161</td>\n",
       "      <td>6.3520</td>\n",
       "      <td>NaN</td>\n",
       "      <td>NaN</td>\n",
       "    </tr>\n",
       "    <tr>\n",
       "      <td>ARIMA</td>\n",
       "      <td>P9</td>\n",
       "      <td>True</td>\n",
       "      <td>['PRO27826_org', 'PRO271000_org', 'PRO28250_org', 'MAB_ELE_PRO156']</td>\n",
       "      <td>5487.0260</td>\n",
       "      <td>-0.1833</td>\n",
       "      <td>arima: auto; model_order: (0, 0, 0); seasonal_order: (0, 0, 1, 12)</td>\n",
       "      <td>NaN</td>\n",
       "    </tr>\n",
       "    <tr>\n",
       "      <td>XGBoost</td>\n",
       "      <td>P9</td>\n",
       "      <td>False</td>\n",
       "      <td>['P9_lag_12', 'PRO27826_org', 'PRO271000_org', 'PRO28250_org', 'MAB_ELE_PRO156']</td>\n",
       "      <td>4008.9303</td>\n",
       "      <td>0.0336</td>\n",
       "      <td>{'colsample_bytree': 0.9, 'learning_rate': 0.05, 'max_depth': 2, 'min_child_weight': 1, 'n_estimators': 50, 'subsample': 0.9}</td>\n",
       "      <td>{'P9_lag_12': 0.1977397, 'PRO27826_org': 0.2058079, 'PRO271000_org': 0.32995924, 'PRO28250_org': 0.17148145, 'MAB_ELE_PRO156': 0.09501167}</td>\n",
       "    </tr>\n",
       "  </tbody>\n",
       "</table>\n",
       "            </div>\n",
       "        </div>\n",
       "        \n",
       "        <div style='display:inline-block; margin-right:25px; vertical-align:top;'>\n",
       "            <h4 style='text-align:center;'>P11</h4>\n",
       "            <div style='max-height:500px; overflow-y:auto; border:1px solid #ccc; padding:5px;'>\n",
       "                <table class=\"dataframe dataframe\">\n",
       "  <thead>\n",
       "    <tr style=\"text-align: right;\">\n",
       "      <th>Model</th>\n",
       "      <th>product_id</th>\n",
       "      <th>winsorize</th>\n",
       "      <th>features</th>\n",
       "      <th>RMSE</th>\n",
       "      <th>Overfit_Score</th>\n",
       "      <th>Parameters</th>\n",
       "      <th>Feature Importance</th>\n",
       "    </tr>\n",
       "  </thead>\n",
       "  <tbody>\n",
       "    <tr>\n",
       "      <td>TimeGPT</td>\n",
       "      <td>P11</td>\n",
       "      <td>True</td>\n",
       "      <td>PRO27826_org, MAB_ELE_SHP392, MAB_ELE_SHP840</td>\n",
       "      <td>1059588.2394</td>\n",
       "      <td>-0.0451</td>\n",
       "      <td>NaN</td>\n",
       "      <td>NaN</td>\n",
       "    </tr>\n",
       "    <tr>\n",
       "      <td>Prophet</td>\n",
       "      <td>P11</td>\n",
       "      <td>True</td>\n",
       "      <td>['MAB_ELE_SHP276']</td>\n",
       "      <td>1910222.9242</td>\n",
       "      <td>3.4138</td>\n",
       "      <td>NaN</td>\n",
       "      <td>NaN</td>\n",
       "    </tr>\n",
       "    <tr>\n",
       "      <td>ARIMA</td>\n",
       "      <td>P11</td>\n",
       "      <td>True</td>\n",
       "      <td>['MAB_ELE_SHP392']</td>\n",
       "      <td>780316.8904</td>\n",
       "      <td>-0.2118</td>\n",
       "      <td>arima: auto; model_order: (0, 0, 0); seasonal_order: (1, 0, 0, 12)</td>\n",
       "      <td>NaN</td>\n",
       "    </tr>\n",
       "    <tr>\n",
       "      <td>XGBoost</td>\n",
       "      <td>P11</td>\n",
       "      <td>True</td>\n",
       "      <td>['MAB_ELE_SHP276']</td>\n",
       "      <td>626291.7346</td>\n",
       "      <td>-0.1633</td>\n",
       "      <td>{'colsample_bytree': 0.9, 'learning_rate': 0.05, 'max_depth': 2, 'min_child_weight': 3, 'n_estimators': 100, 'subsample': 0.9}</td>\n",
       "      <td>{'MAB_ELE_SHP276': 1.0}</td>\n",
       "    </tr>\n",
       "  </tbody>\n",
       "</table>\n",
       "            </div>\n",
       "        </div>\n",
       "        \n",
       "        <div style='display:inline-block; margin-right:25px; vertical-align:top;'>\n",
       "            <h4 style='text-align:center;'>P12</h4>\n",
       "            <div style='max-height:500px; overflow-y:auto; border:1px solid #ccc; padding:5px;'>\n",
       "                <table class=\"dataframe dataframe\">\n",
       "  <thead>\n",
       "    <tr style=\"text-align: right;\">\n",
       "      <th>Model</th>\n",
       "      <th>product_id</th>\n",
       "      <th>winsorize</th>\n",
       "      <th>features</th>\n",
       "      <th>RMSE</th>\n",
       "      <th>Overfit_Score</th>\n",
       "      <th>Parameters</th>\n",
       "      <th>Feature Importance</th>\n",
       "    </tr>\n",
       "  </thead>\n",
       "  <tbody>\n",
       "    <tr>\n",
       "      <td>TimeGPT</td>\n",
       "      <td>P12</td>\n",
       "      <td>True</td>\n",
       "      <td>P12_lag_1</td>\n",
       "      <td>110218.0367</td>\n",
       "      <td>-0.1264</td>\n",
       "      <td>NaN</td>\n",
       "      <td>NaN</td>\n",
       "    </tr>\n",
       "    <tr>\n",
       "      <td>Prophet</td>\n",
       "      <td>P12</td>\n",
       "      <td>True</td>\n",
       "      <td>['PRI27840_org', 'RohCOPPER1000_org']</td>\n",
       "      <td>121752.3175</td>\n",
       "      <td>0.1919</td>\n",
       "      <td>NaN</td>\n",
       "      <td>NaN</td>\n",
       "    </tr>\n",
       "    <tr>\n",
       "      <td>ARIMA</td>\n",
       "      <td>P12</td>\n",
       "      <td>True</td>\n",
       "      <td>['MAB_ELE_PRO156']</td>\n",
       "      <td>100594.6894</td>\n",
       "      <td>-0.0542</td>\n",
       "      <td>arima: auto; model_order: (2, 1, 0); seasonal_order: (0, 0, 0, 0)</td>\n",
       "      <td>NaN</td>\n",
       "    </tr>\n",
       "    <tr>\n",
       "      <td>XGBoost</td>\n",
       "      <td>P12</td>\n",
       "      <td>False</td>\n",
       "      <td>['P12_lag_12', 'P12_lag_18', 'P12_ma_1', 'P12_ma_12', 'P12_ma_18']</td>\n",
       "      <td>17858.2838</td>\n",
       "      <td>2.0481</td>\n",
       "      <td>{'colsample_bytree': 0.9, 'learning_rate': 0.1, 'max_depth': 2, 'min_child_weight': 3, 'n_estimators': 100, 'subsample': 0.9}</td>\n",
       "      <td>{'P12_lag_12': 0.018296111, 'P12_lag_18': 0.070963286, 'P12_ma_1': 0.8362892, 'P12_ma_12': 0.015341099, 'P12_ma_18': 0.059110217}</td>\n",
       "    </tr>\n",
       "  </tbody>\n",
       "</table>\n",
       "            </div>\n",
       "        </div>\n",
       "        \n",
       "        <div style='display:inline-block; margin-right:25px; vertical-align:top;'>\n",
       "            <h4 style='text-align:center;'>P13</h4>\n",
       "            <div style='max-height:500px; overflow-y:auto; border:1px solid #ccc; padding:5px;'>\n",
       "                <table class=\"dataframe dataframe\">\n",
       "  <thead>\n",
       "    <tr style=\"text-align: right;\">\n",
       "      <th>Model</th>\n",
       "      <th>product_id</th>\n",
       "      <th>winsorize</th>\n",
       "      <th>features</th>\n",
       "      <th>RMSE</th>\n",
       "      <th>Overfit_Score</th>\n",
       "      <th>Parameters</th>\n",
       "      <th>Feature Importance</th>\n",
       "    </tr>\n",
       "  </thead>\n",
       "  <tbody>\n",
       "    <tr>\n",
       "      <td>TimeGPT</td>\n",
       "      <td>P13</td>\n",
       "      <td>True</td>\n",
       "      <td>P13_lag_8, MAB_ELE_PRO756, PRO27756_org, MAB_ELE_PRO276, PRI27840_org</td>\n",
       "      <td>11790.6738</td>\n",
       "      <td>-0.2123</td>\n",
       "      <td>NaN</td>\n",
       "      <td>NaN</td>\n",
       "    </tr>\n",
       "    <tr>\n",
       "      <td>Prophet</td>\n",
       "      <td>P13</td>\n",
       "      <td>True</td>\n",
       "      <td>['PRO27756_org']</td>\n",
       "      <td>13862.3953</td>\n",
       "      <td>-0.0480</td>\n",
       "      <td>NaN</td>\n",
       "      <td>NaN</td>\n",
       "    </tr>\n",
       "    <tr>\n",
       "      <td>ARIMA</td>\n",
       "      <td>P13</td>\n",
       "      <td>True</td>\n",
       "      <td>['PRO27756_org']</td>\n",
       "      <td>10352.7444</td>\n",
       "      <td>-0.2999</td>\n",
       "      <td>arima: auto; model_order: (0, 0, 1); seasonal_order: (1, 0, 1, 17)</td>\n",
       "      <td>NaN</td>\n",
       "    </tr>\n",
       "    <tr>\n",
       "      <td>XGBoost</td>\n",
       "      <td>P13</td>\n",
       "      <td>False</td>\n",
       "      <td>['P13_lag_8', 'P13_ma_17', 'P13_ma_5', 'P13_ma_8']</td>\n",
       "      <td>10281.0456</td>\n",
       "      <td>-0.0769</td>\n",
       "      <td>{'colsample_bytree': 1.0, 'learning_rate': 0.01, 'max_depth': 2, 'min_child_weight': 3, 'n_estimators': 100, 'subsample': 1.0}</td>\n",
       "      <td>{'P13_lag_8': 0.08143915, 'P13_ma_17': 0.0, 'P13_ma_5': 0.8254354, 'P13_ma_8': 0.0931255}</td>\n",
       "    </tr>\n",
       "  </tbody>\n",
       "</table>\n",
       "            </div>\n",
       "        </div>\n",
       "        \n",
       "        <div style='display:inline-block; margin-right:25px; vertical-align:top;'>\n",
       "            <h4 style='text-align:center;'>P14</h4>\n",
       "            <div style='max-height:500px; overflow-y:auto; border:1px solid #ccc; padding:5px;'>\n",
       "                <table class=\"dataframe dataframe\">\n",
       "  <thead>\n",
       "    <tr style=\"text-align: right;\">\n",
       "      <th>Model</th>\n",
       "      <th>product_id</th>\n",
       "      <th>winsorize</th>\n",
       "      <th>features</th>\n",
       "      <th>RMSE</th>\n",
       "      <th>Overfit_Score</th>\n",
       "      <th>Parameters</th>\n",
       "      <th>Feature Importance</th>\n",
       "    </tr>\n",
       "  </thead>\n",
       "  <tbody>\n",
       "    <tr>\n",
       "      <td>TimeGPT</td>\n",
       "      <td>P14</td>\n",
       "      <td>False</td>\n",
       "      <td>PRO27392_org, PRO28380_org, PRO27756_org</td>\n",
       "      <td>13538.4500</td>\n",
       "      <td>-0.2170</td>\n",
       "      <td>NaN</td>\n",
       "      <td>NaN</td>\n",
       "    </tr>\n",
       "    <tr>\n",
       "      <td>Prophet</td>\n",
       "      <td>P14</td>\n",
       "      <td>False</td>\n",
       "      <td>['PRO27392_org', 'PRO28380_org']</td>\n",
       "      <td>10862.7748</td>\n",
       "      <td>-0.2337</td>\n",
       "      <td>NaN</td>\n",
       "      <td>NaN</td>\n",
       "    </tr>\n",
       "    <tr>\n",
       "      <td>ARIMA</td>\n",
       "      <td>P14</td>\n",
       "      <td>False</td>\n",
       "      <td>['PRO27392_org', 'PRO28380_org', 'PRO27756_org']</td>\n",
       "      <td>11245.6947</td>\n",
       "      <td>-0.2437</td>\n",
       "      <td>arima: manual; model_order: (0, 0, 0); seasonal_order: (1, 0, 0, 6)</td>\n",
       "      <td>NaN</td>\n",
       "    </tr>\n",
       "    <tr>\n",
       "      <td>XGBoost</td>\n",
       "      <td>P14</td>\n",
       "      <td>True</td>\n",
       "      <td>['PRO27392_org', 'PRO28380_org']</td>\n",
       "      <td>12716.0629</td>\n",
       "      <td>4.4095</td>\n",
       "      <td>{'colsample_bytree': 0.9, 'learning_rate': 0.1, 'max_depth': 3, 'min_child_weight': 1, 'n_estimators': 100, 'subsample': 0.9}</td>\n",
       "      <td>{'PRO27392_org': 0.46613783, 'PRO28380_org': 0.5338622}</td>\n",
       "    </tr>\n",
       "  </tbody>\n",
       "</table>\n",
       "            </div>\n",
       "        </div>\n",
       "        \n",
       "        <div style='display:inline-block; margin-right:25px; vertical-align:top;'>\n",
       "            <h4 style='text-align:center;'>P16</h4>\n",
       "            <div style='max-height:500px; overflow-y:auto; border:1px solid #ccc; padding:5px;'>\n",
       "                <table class=\"dataframe dataframe\">\n",
       "  <thead>\n",
       "    <tr style=\"text-align: right;\">\n",
       "      <th>Model</th>\n",
       "      <th>product_id</th>\n",
       "      <th>winsorize</th>\n",
       "      <th>features</th>\n",
       "      <th>RMSE</th>\n",
       "      <th>Overfit_Score</th>\n",
       "      <th>Parameters</th>\n",
       "      <th>Feature Importance</th>\n",
       "    </tr>\n",
       "  </thead>\n",
       "  <tbody>\n",
       "    <tr>\n",
       "      <td>TimeGPT</td>\n",
       "      <td>P16</td>\n",
       "      <td>True</td>\n",
       "      <td>P16_lag_3</td>\n",
       "      <td>77236.7473</td>\n",
       "      <td>-0.5404</td>\n",
       "      <td>NaN</td>\n",
       "      <td>NaN</td>\n",
       "    </tr>\n",
       "    <tr>\n",
       "      <td>Prophet</td>\n",
       "      <td>P16</td>\n",
       "      <td>True</td>\n",
       "      <td>['MAB_ELE_PRO756', 'PRO28826_org']</td>\n",
       "      <td>105075.4854</td>\n",
       "      <td>-0.8144</td>\n",
       "      <td>NaN</td>\n",
       "      <td>NaN</td>\n",
       "    </tr>\n",
       "    <tr>\n",
       "      <td>ARIMA</td>\n",
       "      <td>P16</td>\n",
       "      <td>True</td>\n",
       "      <td>[]</td>\n",
       "      <td>94194.8468</td>\n",
       "      <td>-0.8594</td>\n",
       "      <td>arima: auto; model_order: (1, 1, 0); seasonal_order: (0, 0, 0, 0)</td>\n",
       "      <td>NaN</td>\n",
       "    </tr>\n",
       "    <tr>\n",
       "      <td>XGBoost</td>\n",
       "      <td>P16</td>\n",
       "      <td>False</td>\n",
       "      <td>['P16_lag_3', 'P16_lag_8', 'P16_lag_10', 'P16_ma_3', 'P16_ma_7', 'P16_ma_8', 'P16_ma_9', 'P16_ma_10']</td>\n",
       "      <td>56763.3690</td>\n",
       "      <td>4.0353</td>\n",
       "      <td>{'colsample_bytree': 1.0, 'learning_rate': 0.1, 'max_depth': 2, 'min_child_weight': 1, 'n_estimators': 100, 'subsample': 1.0}</td>\n",
       "      <td>{'P16_lag_3': 0.03334086, 'P16_lag_8': 0.0713965, 'P16_lag_10': 0.12336791, 'P16_ma_3': 0.14022194, 'P16_ma_7': 0.59331197, 'P16_ma_8': 0.025533924, 'P16_ma_9': 0.009630987, 'P16_ma_10': 0.003195826}</td>\n",
       "    </tr>\n",
       "  </tbody>\n",
       "</table>\n",
       "            </div>\n",
       "        </div>\n",
       "        \n",
       "        <div style='display:inline-block; margin-right:25px; vertical-align:top;'>\n",
       "            <h4 style='text-align:center;'>P20</h4>\n",
       "            <div style='max-height:500px; overflow-y:auto; border:1px solid #ccc; padding:5px;'>\n",
       "                <table class=\"dataframe dataframe\">\n",
       "  <thead>\n",
       "    <tr style=\"text-align: right;\">\n",
       "      <th>Model</th>\n",
       "      <th>product_id</th>\n",
       "      <th>winsorize</th>\n",
       "      <th>features</th>\n",
       "      <th>RMSE</th>\n",
       "      <th>Overfit_Score</th>\n",
       "      <th>Parameters</th>\n",
       "      <th>Feature Importance</th>\n",
       "    </tr>\n",
       "  </thead>\n",
       "  <tbody>\n",
       "    <tr>\n",
       "      <td>TimeGPT</td>\n",
       "      <td>P20</td>\n",
       "      <td>True</td>\n",
       "      <td>MAB_ELE_SHP250</td>\n",
       "      <td>2099.7026</td>\n",
       "      <td>-0.1154</td>\n",
       "      <td>NaN</td>\n",
       "      <td>NaN</td>\n",
       "    </tr>\n",
       "    <tr>\n",
       "      <td>Prophet</td>\n",
       "      <td>P20</td>\n",
       "      <td>True</td>\n",
       "      <td>['PRO271000_org', 'PRO27250_org', 'PRO28392_org']</td>\n",
       "      <td>2203.1225</td>\n",
       "      <td>0.1744</td>\n",
       "      <td>NaN</td>\n",
       "      <td>NaN</td>\n",
       "    </tr>\n",
       "    <tr>\n",
       "      <td>ARIMA</td>\n",
       "      <td>P20</td>\n",
       "      <td>True</td>\n",
       "      <td>['PRO27250_org']</td>\n",
       "      <td>2047.9236</td>\n",
       "      <td>-0.2173</td>\n",
       "      <td>arima: auto; model_order: (2, 0, 2); seasonal_order: (0, 0, 0, 13)</td>\n",
       "      <td>NaN</td>\n",
       "    </tr>\n",
       "    <tr>\n",
       "      <td>XGBoost</td>\n",
       "      <td>P20</td>\n",
       "      <td>False</td>\n",
       "      <td>['PRO27250_org', 'PRO28392_org']</td>\n",
       "      <td>685.6289</td>\n",
       "      <td>-0.1966</td>\n",
       "      <td>{'colsample_bytree': 1.0, 'learning_rate': 0.1, 'max_depth': 3, 'min_child_weight': 3, 'n_estimators': 50, 'subsample': 0.9}</td>\n",
       "      <td>{'PRO27250_org': 0.48802555, 'PRO28392_org': 0.51197445}</td>\n",
       "    </tr>\n",
       "  </tbody>\n",
       "</table>\n",
       "            </div>\n",
       "        </div>\n",
       "        \n",
       "        <div style='display:inline-block; margin-right:25px; vertical-align:top;'>\n",
       "            <h4 style='text-align:center;'>P36</h4>\n",
       "            <div style='max-height:500px; overflow-y:auto; border:1px solid #ccc; padding:5px;'>\n",
       "                <table class=\"dataframe dataframe\">\n",
       "  <thead>\n",
       "    <tr style=\"text-align: right;\">\n",
       "      <th>Model</th>\n",
       "      <th>product_id</th>\n",
       "      <th>winsorize</th>\n",
       "      <th>features</th>\n",
       "      <th>RMSE</th>\n",
       "      <th>Overfit_Score</th>\n",
       "      <th>Parameters</th>\n",
       "      <th>Feature Importance</th>\n",
       "    </tr>\n",
       "  </thead>\n",
       "  <tbody>\n",
       "    <tr>\n",
       "      <td>TimeGPT</td>\n",
       "      <td>P36</td>\n",
       "      <td>True</td>\n",
       "      <td>P36_lag_10</td>\n",
       "      <td>23561.8490</td>\n",
       "      <td>-0.5178</td>\n",
       "      <td>NaN</td>\n",
       "      <td>NaN</td>\n",
       "    </tr>\n",
       "    <tr>\n",
       "      <td>Prophet</td>\n",
       "      <td>P36</td>\n",
       "      <td>True</td>\n",
       "      <td>['MAB_ELE_PRO156']</td>\n",
       "      <td>19721.3283</td>\n",
       "      <td>-0.4479</td>\n",
       "      <td>NaN</td>\n",
       "      <td>NaN</td>\n",
       "    </tr>\n",
       "    <tr>\n",
       "      <td>ARIMA</td>\n",
       "      <td>P36</td>\n",
       "      <td>True</td>\n",
       "      <td>['MAB_ELE_PRO756', 'PRO27756_org', 'MAB_ELE_PRO156']</td>\n",
       "      <td>69003.6010</td>\n",
       "      <td>1.3745</td>\n",
       "      <td>arima: auto; model_order: (0, 0, 1); seasonal_order: (0, 1, 0, 10)</td>\n",
       "      <td>NaN</td>\n",
       "    </tr>\n",
       "    <tr>\n",
       "      <td>XGBoost</td>\n",
       "      <td>P36</td>\n",
       "      <td>True</td>\n",
       "      <td>['PRO27756_org']</td>\n",
       "      <td>17449.4000</td>\n",
       "      <td>-0.3049</td>\n",
       "      <td>{'colsample_bytree': 0.9, 'learning_rate': 0.01, 'max_depth': 3, 'min_child_weight': 1, 'n_estimators': 100, 'subsample': 1.0}</td>\n",
       "      <td>{'PRO27756_org': 1.0}</td>\n",
       "    </tr>\n",
       "  </tbody>\n",
       "</table>\n",
       "            </div>\n",
       "        </div>\n",
       "        \n",
       "        <div style='display:inline-block; margin-right:25px; vertical-align:top;'>\n",
       "            <h4 style='text-align:center;'>Sales_Total</h4>\n",
       "            <div style='max-height:500px; overflow-y:auto; border:1px solid #ccc; padding:5px;'>\n",
       "                <table class=\"dataframe dataframe\">\n",
       "  <thead>\n",
       "    <tr style=\"text-align: right;\">\n",
       "      <th>Model</th>\n",
       "      <th>product_id</th>\n",
       "      <th>winsorize</th>\n",
       "      <th>features</th>\n",
       "      <th>RMSE</th>\n",
       "      <th>Overfit_Score</th>\n",
       "      <th>Parameters</th>\n",
       "      <th>Feature Importance</th>\n",
       "    </tr>\n",
       "  </thead>\n",
       "  <tbody>\n",
       "    <tr>\n",
       "      <td>TimeGPT</td>\n",
       "      <td>Sales_CPI</td>\n",
       "      <td>True</td>\n",
       "      <td>PRO27826_org</td>\n",
       "      <td>6050198.5830</td>\n",
       "      <td>-0.5468</td>\n",
       "      <td>NaN</td>\n",
       "      <td>NaN</td>\n",
       "    </tr>\n",
       "    <tr>\n",
       "      <td>Prophet</td>\n",
       "      <td>Sales_CPI</td>\n",
       "      <td>True</td>\n",
       "      <td>['PRI27276_org', 'PRO27826_org']</td>\n",
       "      <td>13022125.5702</td>\n",
       "      <td>1.9384</td>\n",
       "      <td>NaN</td>\n",
       "      <td>NaN</td>\n",
       "    </tr>\n",
       "    <tr>\n",
       "      <td>ARIMA</td>\n",
       "      <td>Sales_CPI</td>\n",
       "      <td>True</td>\n",
       "      <td>['PRO271000_org']</td>\n",
       "      <td>3750154.7173</td>\n",
       "      <td>-0.6474</td>\n",
       "      <td>arima: auto; model_order: (1, 0, 0); seasonal_order: (0, 0, 0, 0)</td>\n",
       "      <td>NaN</td>\n",
       "    </tr>\n",
       "    <tr>\n",
       "      <td>XGBoost</td>\n",
       "      <td>Sales_CPI</td>\n",
       "      <td>True</td>\n",
       "      <td>['PRI27276_org', 'PRO27826_org']</td>\n",
       "      <td>3708435.1689</td>\n",
       "      <td>-0.2707</td>\n",
       "      <td>{'colsample_bytree': 0.9, 'learning_rate': 0.1, 'max_depth': 2, 'min_child_weight': 3, 'n_estimators': 100, 'subsample': 1.0}</td>\n",
       "      <td>{'PRI27276_org': 0.47724086, 'PRO27826_org': 0.52275914}</td>\n",
       "    </tr>\n",
       "  </tbody>\n",
       "</table>\n",
       "            </div>\n",
       "        </div>\n",
       "        </div>"
      ],
      "text/plain": [
       "<IPython.core.display.HTML object>"
      ]
     },
     "metadata": {},
     "output_type": "display_data"
    }
   ],
   "source": [
    "display_excel_sheets_side_by_side(\"Modeling_results.xlsx\")"
   ]
  },
  {
   "cell_type": "markdown",
   "metadata": {},
   "source": [
    "Final Decisions:\n",
    "\n",
    "| Product | Model | Justification |\n",
    "|---------|-------|---------------|\n",
    "|    P1      |  ARIMA  ['PRI27276_org', 'PRO27826_org', 'MAB_ELE_PRO276', 'MAB_ELE_SHP1100']  |               |\n",
    "|    P3    |  XGBoost ['P3_lag_12', 'P3_ma_12'] |   Lowest RMSE and Overfit_Score   |\n",
    "|    P4    |  ARIMA  ['PRO27380_org', 'WKLWEUR840_org', 'PRO27276_org', 'MAB_ELE_SHP380']  |  XGBoost has the best RMSE but only 1 feature, could be risky, so we will opt for the  ARIMA since it captured the sesonality 6 we saw before - has the second lowest RMSE and also a relatively stable Overfit         |\n",
    "|    P5    |   XGBoost ['PRO27826_org'] |  P3-FALSE-PRO27826_org, PRO271000_org-3 190 655.46 Bad option Similiar case to P4 but ARIMA would be safer if the RMSE was close (like in P4), but here, the performance gap is too big to ignore here.     |         \n",
    "|    P6    |  ARIMA \t['PRO27840_org', 'RohCRUDE_PETRO1000_org']   |   Second lowest, but XGBoost has an Overfit Score of 1.0149, meaning it's unstable            |\n",
    "|    P8 !!   |  XGBoost ['P8_lag_10', 'PRI27840_org', 'RohCOPPER1000_org', 'P8_ma_1', 'P8_ma_2', 'P8_ma_5', 'P8_ma_6', 'P8_ma_10']   |   We have a lot of features so it can lead to overfit neverthless since P8 has a complex nature its best to capture that trhough lags. Remember  → The lag model is highly statistically significant.  try wiyhou some mas             |\n",
    "|    P9    |   XGBoost ['P9_lag_12', 'PRO27826_org', 'PRO271000_org', 'PRO28250_org', 'MAB_ELE_PRO156']  |   Clear winner            |\n",
    "|    P11   |  XGBoost  ['MAB_ELE_SHP276']   |  Best RMSE with a good Overfit Score   maybe add ['MAB_ELE_SHP392']  -> even if adding another feature doesn't improve RMSE, it helps the model generalize better        |\n",
    "|    P12   |   ARIMA ['MAB_ELE_PRO156']  |               |\n",
    "|    P13      |  XGBoost  ['P13_lag_8', 'P13_ma_17', 'P13_ma_5', 'P13_ma_8']   |               |\n",
    "|    P14      |   Prophet ['PRO27392_org', 'PRO28380_org']  |               |\n",
    "|    P16      |   XGBoost  ['P16_lag_3', 'P16_lag_8', 'P16_lag_10', 'P16_ma_3', 'P16_ma_7', 'P16_ma_8', 'P16_ma_9', 'P16_ma_10'] try to remove the mas of the ones that dont have lags  |               |\n",
    "|    P20      |  XGBoost  ['PRO27250_org', 'PRO28392_org']  |   lowest RMSE and a solid negative Overfit Score       |\n",
    "|    P36      |  XGBoost  ['PRO27756_org']\t  |    Not a very stable result for this product           |\n",
    "|    Sales Total      |  XGBoost ['PRI27276_org', 'PRO27826_org']   |               |\n"
   ]
  },
  {
   "cell_type": "markdown",
   "metadata": {},
   "source": [
    "> Funtions"
   ]
  },
  {
   "cell_type": "code",
   "execution_count": 77,
   "metadata": {},
   "outputs": [],
   "source": [
    "def update_lags(df, target_col, lag):\n",
    "    \"\"\"Update lag features after each prediction.\n",
    "    \"\"\"\n",
    "    updated_df = df.copy()\n",
    "    for l in range(1, lag + 1):\n",
    "        updated_df[f'{target_col}_lag_{l}'] = updated_df[target_col].shift(l)\n",
    "    return updated_df"
   ]
  },
  {
   "cell_type": "markdown",
   "metadata": {},
   "source": [
    "> TimeGPT"
   ]
  },
  {
   "cell_type": "code",
   "execution_count": 78,
   "metadata": {},
   "outputs": [],
   "source": [
    "def forecast_timegpt(df, test_dataset, product_id, feature_set, target_col='Sales', horizon=10, \n",
    "                    nixtla_client=None, winsorize=False, lag=None):\n",
    "    \"\"\"Forecast using TimeGPT with dynamic updating of lag features.\n",
    "    \"\"\"\n",
    "    if nixtla_client is None:\n",
    "        raise ValueError(\"NixtlaClient instance is required.\")\n",
    "    \n",
    "    print(f\"Processing TimeGPT for {product_id}...\")\n",
    "    \n",
    "    try:\n",
    "        # Prepare the data\n",
    "        if winsorize:\n",
    "            X, _ = winsorize_function(df, cols=[target_col], lower_quantile=0.01, upper_quantile=0.99)\n",
    "            X = X.reset_index()  # Ensure month_year is a column\n",
    "        else:\n",
    "            X = df.reset_index()\n",
    "        \n",
    "        # Separate features into historical (lags/moving avgs) and future (macros)\n",
    "        hist_exog = [f for f in feature_set if '_lag_' in f or '_ma_' in f]\n",
    "        fut_exog = [f for f in feature_set if f not in hist_exog]\n",
    "        \n",
    "        predictions = []\n",
    "        history = X.copy()\n",
    "        \n",
    "        for i in range(horizon):\n",
    "            try:\n",
    "                # Prepare future exogenous data for this step\n",
    "                if fut_exog:\n",
    "                    # Get the future values we already have (macros)\n",
    "                    X_future_step = test_dataset.iloc[[i]][fut_exog].copy()\n",
    "                    X_future_step['month_year'] = test_dataset.index[i]\n",
    "                else:\n",
    "                    X_future_step = None\n",
    "                \n",
    "                # Make the forecast\n",
    "                forecast = nixtla_client.forecast(df=history,time_col='month_year', target_col=target_col, h=1, X_df=X_future_step, hist_exog_list=hist_exog if hist_exog else None)\n",
    "                \n",
    "                pred = forecast[\"TimeGPT\"].iloc[0]\n",
    "                predictions.append(pred)\n",
    "                \n",
    "                # Create new row with this prediction to append to history\n",
    "                new_row = {'month_year': test_dataset.index[i], target_col: pred}\n",
    "                \n",
    "                # Add future exogenous features if they exist\n",
    "                if fut_exog:\n",
    "                    for f in fut_exog:\n",
    "                        new_row[f] = test_dataset.iloc[i][f]\n",
    "                \n",
    "                # Append to history and update lags if needed\n",
    "                history = pd.concat([history, pd.DataFrame([new_row])], ignore_index=True)\n",
    "                if lag is not None:\n",
    "                    history = update_lags(history, target_col, lag)\n",
    "                \n",
    "            except Exception as e:\n",
    "                print(f\"Iteration {i+1} failed: {str(e)}\")\n",
    "                predictions.append(np.nan)\n",
    "        \n",
    "        # Plotting\n",
    "        fig = go.Figure()\n",
    "        fig.add_trace(go.Scatter(x=df.index, y=df[target_col], mode='lines', name='Actual'))\n",
    "        fig.add_trace(go.Scatter(x=test_dataset.index[:horizon], y=predictions, mode='lines', name='Forecast'))\n",
    "        fig.update_layout(title=f'TimeGPT Forecast for {product_id}', xaxis_title='Date', yaxis_title='Sales')\n",
    "        fig.show()\n",
    "        \n",
    "        return predictions\n",
    "        \n",
    "    except Exception as e:\n",
    "        print(f\"Forecasting failed for {product_id}: {str(e)}\")\n",
    "        return None"
   ]
  },
  {
   "cell_type": "markdown",
   "metadata": {},
   "source": [
    "> XGBoost"
   ]
  },
  {
   "cell_type": "code",
   "execution_count": 79,
   "metadata": {},
   "outputs": [],
   "source": [
    "def forecast_xgboost(df, test_dataset, product_id, feature_set, best_params, target_col='Sales', horizon=10, winsorize=False, lag=None):\n",
    "    \n",
    "    \"\"\"Forecast using XGBoost with dynamic updating of lag features.\n",
    "    \"\"\"\n",
    "    # Base model configuration (fixed for all models)\n",
    "    base_config = {'objective': 'reg:squarederror', 'random_state': 42, 'n_jobs': 1, 'tree_method': 'hist', 'enable_categorical': False, 'gamma': 0, 'reg_alpha': 0, 'reg_lambda': 1}\n",
    "    # Merge configurations (base + defaults + user overrides)\n",
    "    final_params = {**base_config, **best_params}\n",
    "    \n",
    "    print(f\"Processing XGBoost for {product_id} with params: {final_params}\")\n",
    "    \n",
    "    try:\n",
    "        # Prepare the data\n",
    "        if winsorize:\n",
    "            X, _ = winsorize_function(df, cols=[target_col], lower_quantile=0.01, upper_quantile=0.99)\n",
    "            X = X.reset_index()  # Ensure month_year is a column\n",
    "        else:\n",
    "            X = df.reset_index()\n",
    "        \n",
    "        # Separate features into historical (lags/moving avgs) and future (macros)\n",
    "        hist_exog = [f for f in feature_set if '_lag_' in f or '_ma_' in f]\n",
    "        fut_exog = [f for f in feature_set if f not in hist_exog]\n",
    "        \n",
    "        # Prepare training data\n",
    "        X_train = X[feature_set + ['month_year', target_col]].copy()\n",
    "        y_train = X[target_col]\n",
    "        \n",
    "        # Initialize model with merged parameters\n",
    "        model = xgb.XGBRegressor(**final_params)\n",
    "        model.fit(X_train[feature_set], y_train)\n",
    "        \n",
    "        predictions = []\n",
    "        history = X_train.copy()\n",
    "        \n",
    "        for i in range(horizon):\n",
    "            try:\n",
    "                # Prepare the input features for this prediction step\n",
    "                if fut_exog:\n",
    "                    # Get future exogenous features\n",
    "                    future_features = test_dataset.iloc[[i]][fut_exog].copy()\n",
    "                    future_features['month_year'] = test_dataset.index[i]\n",
    "                    \n",
    "                    # Combine with historical features\n",
    "                    input_features = pd.concat([history.iloc[[-1]][hist_exog], future_features], axis=1)\n",
    "                else:\n",
    "                    input_features = history.iloc[[-1]][feature_set]\n",
    "                \n",
    "                # Make prediction\n",
    "                pred = model.predict(input_features[feature_set])[0]\n",
    "                predictions.append(pred)\n",
    "                \n",
    "                # Create new row with this prediction to append to history\n",
    "                new_row = {'month_year': test_dataset.index[i], target_col: pred}\n",
    "                \n",
    "                # Add future exogenous features if they exist\n",
    "                if fut_exog:\n",
    "                    for f in fut_exog:\n",
    "                        new_row[f] = test_dataset.iloc[i][f]\n",
    "                \n",
    "                # Append to history and update lags if needed\n",
    "                history = pd.concat([history, pd.DataFrame([new_row])], ignore_index=True)\n",
    "                if lag is not None:\n",
    "                    history = update_lags(history, target_col, lag)\n",
    "                    # Ensure we maintain all required features\n",
    "                    history = history[feature_set + ['month_year', target_col]]\n",
    "                \n",
    "            except Exception as e:\n",
    "                print(f\"Iteration {i+1} failed: {str(e)}\")\n",
    "                predictions.append(np.nan)\n",
    "        \n",
    "        # Plotting\n",
    "        fig = go.Figure()\n",
    "        fig.add_trace(go.Scatter(x=df.index, y=df[target_col], mode='lines', name='Actual'))\n",
    "        fig.add_trace(go.Scatter(x=test_dataset.index[:horizon], y=predictions, mode='lines', name='Forecast'))\n",
    "        fig.update_layout(title=f'XGBoost Forecast for {product_id}', xaxis_title='Date', yaxis_title='Sales')\n",
    "        fig.show()\n",
    "        \n",
    "        return predictions\n",
    "        \n",
    "    except Exception as e:\n",
    "        print(f\"Forecasting failed for {product_id}: {str(e)}\")\n",
    "        return None"
   ]
  },
  {
   "cell_type": "markdown",
   "metadata": {},
   "source": [
    "> Prophet"
   ]
  },
  {
   "cell_type": "code",
   "execution_count": 80,
   "metadata": {},
   "outputs": [],
   "source": [
    "def forecast_prophet(df, test_dataset, product_id, feature_set, target_col='Sales', horizon=10,\n",
    "                    winsorize=False, lag=None):\n",
    "    \"\"\"Forecast using Prophet with dynamic updating of lag features.\n",
    "    \"\"\"\n",
    "    print(f\"Processing Prophet for {product_id}...\")\n",
    "    \n",
    "    try:\n",
    "        # Prepare the data\n",
    "        if winsorize:\n",
    "            X, _ = winsorize_function(df, cols=[target_col], lower_quantile=0.01, upper_quantile=0.99)\n",
    "            X = X.reset_index()  # Ensure month_year is a column\n",
    "        else:\n",
    "            X = df.reset_index()\n",
    "        \n",
    "        # Get product-specific configuration\n",
    "        config = get_product_specific_config(product_id)\n",
    "        \n",
    "        # Initialize Prophet with the configuration\n",
    "        model = Prophet(\n",
    "            seasonality_mode=config['seasonality_mode'],\n",
    "            yearly_seasonality=config['yearly_seasonality'],\n",
    "            weekly_seasonality=config['weekly_seasonality'],\n",
    "            daily_seasonality=config['daily_seasonality'],\n",
    "            changepoint_prior_scale=config['changepoint_prior_scale'],\n",
    "            seasonality_prior_scale=config['seasonality_prior_scale'])\n",
    "        \n",
    "        # Add extra seasonalities if specified\n",
    "        if 'extra_seasonalities' in config:\n",
    "            for seasonality in config['extra_seasonalities']:\n",
    "                model.add_seasonality(name=seasonality['name'],period=seasonality['period'],fourier_order=seasonality['fourier_order'])\n",
    "        \n",
    "        # Separate features into regressors (macros) and historical (lags)\n",
    "        hist_exog = [f for f in feature_set if '_lag_' in f or '_ma_' in f]\n",
    "        regressors = [f for f in feature_set if f not in ['month_year', target_col] and f not in hist_exog]\n",
    "        \n",
    "        # Add regressors to the model\n",
    "        for reg in regressors:\n",
    "            model.add_regressor(reg)\n",
    "        \n",
    "        # Prepare Prophet-compatible dataframe\n",
    "        prophet_df = X[['month_year', target_col] + regressors].copy()\n",
    "        prophet_df = prophet_df.rename(columns={'month_year': 'ds', target_col: 'y'})\n",
    "        \n",
    "        # Fit the model\n",
    "        model.fit(prophet_df)\n",
    "        \n",
    "        predictions = []\n",
    "        history = X.copy()\n",
    "        \n",
    "        for i in range(horizon):\n",
    "            try:\n",
    "                # Create future dataframe for this step\n",
    "                future = pd.DataFrame({'ds': [test_dataset.index[i]]})\n",
    "                \n",
    "                # Add regressor values if they exist\n",
    "                for reg in regressors:future[reg] = test_dataset.iloc[i][reg]\n",
    "                \n",
    "                # Make prediction\n",
    "                forecast = model.predict(future)\n",
    "                pred = forecast['yhat'].iloc[0]\n",
    "                predictions.append(pred)\n",
    "                \n",
    "                # Create new row with this prediction to append to history\n",
    "                new_row = {'month_year': test_dataset.index[i], target_col: pred}\n",
    "                \n",
    "                # Add regressor values if they exist\n",
    "                for reg in regressors:\n",
    "                    new_row[reg] = test_dataset.iloc[i][reg]\n",
    "                \n",
    "                # Append to history and update lags if needed\n",
    "                history = pd.concat([history, pd.DataFrame([new_row])], ignore_index=True)\n",
    "                if lag is not None:\n",
    "                    history = update_lags(history, target_col, lag)\n",
    "                    # Ensure we maintain all required features\n",
    "                    history = history[feature_set + ['month_year', target_col]]\n",
    "                \n",
    "            except Exception as e:\n",
    "                print(f\"Iteration {i+1} failed: {str(e)}\")\n",
    "                predictions.append(np.nan)\n",
    "        \n",
    "        # Plotting\n",
    "        fig = go.Figure()\n",
    "        fig.add_trace(go.Scatter(x=df.index, y=df[target_col], mode='lines', name='Actual'))\n",
    "        fig.add_trace(go.Scatter(x=test_dataset.index[:horizon], y=predictions, mode='lines', name='Forecast'))\n",
    "        fig.update_layout(title=f'Prophet Forecast for {product_id}',xaxis_title='Date',yaxis_title='Sales')\n",
    "        fig.show()\n",
    "        \n",
    "        return predictions\n",
    "        \n",
    "    except Exception as e:\n",
    "        print(f\"Forecasting failed for {product_id}: {str(e)}\")\n",
    "        return None"
   ]
  },
  {
   "cell_type": "markdown",
   "metadata": {},
   "source": [
    "> ARIMA"
   ]
  },
  {
   "cell_type": "code",
   "execution_count": 81,
   "metadata": {},
   "outputs": [],
   "source": [
    "def forecast_arima(df, test_dataset, product_id, feature_set, target_col='Sales', horizon=10,\n",
    "                  order=(0,0,0), seasonal_order=(0,0,0,0), winsorize=False, lag=None):\n",
    "    \"\"\"Forecast using ARIMA with predetermined parameters and dynamic lag updates.\n",
    "    \"\"\"\n",
    "    print(f\"Processing ARIMA for {product_id} with order={order}, seasonal_order={seasonal_order}...\")\n",
    "    \n",
    "    try:\n",
    "        # Prepare the data\n",
    "        if winsorize:\n",
    "            X, _ = winsorize_function(df, cols=[target_col], lower_quantile=0.01, upper_quantile=0.99)\n",
    "            X = X.reset_index()  # Ensure month_year is a column\n",
    "        else:\n",
    "            X = df.reset_index()\n",
    "        \n",
    "        # Separate features into historical (lags/moving avgs) and exogenous (macros)\n",
    "        hist_exog = [f for f in feature_set if '_lag_' in f or '_ma_' in f]\n",
    "        exog_features = [f for f in feature_set if f not in ['month_year', target_col] and f not in hist_exog]\n",
    "        \n",
    "        predictions = []\n",
    "        history = X[target_col].copy()\n",
    "        exog_history = X[exog_features].copy() if exog_features else None\n",
    "        \n",
    "        for i in range(horizon):\n",
    "            try:\n",
    "                # Prepare exogenous features for this step\n",
    "                current_exog = test_dataset.iloc[[i]][exog_features] if exog_features else None\n",
    "                \n",
    "                # Fit model with current history\n",
    "                model = SARIMAX(history, exog=exog_history, order=order, seasonal_order=seasonal_order, enforce_stationarity=False).fit(disp=False)\n",
    "                \n",
    "                # Make prediction\n",
    "                pred = model.forecast(steps=1, exog=current_exog)[0]\n",
    "                predictions.append(pred)\n",
    "                \n",
    "                # Update history with new observation\n",
    "                new_value = pd.Series([pred], index=[test_dataset.index[i]], name=target_col)\n",
    "                history = pd.concat([history, new_value])\n",
    "                \n",
    "                # Update exogenous features history if they exist\n",
    "                if exog_features:\n",
    "                    new_exog = test_dataset.iloc[[i]][exog_features]\n",
    "                    exog_history = pd.concat([exog_history, new_exog])\n",
    "                \n",
    "                # Update lag features if specified\n",
    "                if lag is not None:\n",
    "                    # Convert history back to DataFrame for lag updates\n",
    "                    temp_df = history.reset_index()\n",
    "                    temp_df = temp_df.rename(columns={'index': 'month_year'})\n",
    "                    temp_df = update_lags(temp_df, target_col, lag)\n",
    "                    \n",
    "                    # Update the history with new lag values\n",
    "                    if exog_features:\n",
    "                        history = temp_df[target_col].copy()\n",
    "                    else:\n",
    "                        history = temp_df[target_col].copy()\n",
    "                \n",
    "            except Exception as e:\n",
    "                print(f\"Iteration {i+1} failed: {str(e)}\")\n",
    "                predictions.append(np.nan)\n",
    "        \n",
    "        # Plotting\n",
    "        fig = go.Figure()\n",
    "        fig.add_trace(go.Scatter(x=df.index, y=df[target_col], mode='lines', name='Actual'))\n",
    "        fig.add_trace(go.Scatter(x=test_dataset.index[:horizon], y=predictions, mode='lines', name='Forecast'))\n",
    "        fig.update_layout(title=f'ARIMA Forecast for {product_id}', xaxis_title='Date', yaxis_title='Sales')\n",
    "        fig.show()\n",
    "        \n",
    "        return predictions\n",
    "        \n",
    "    except Exception as e:\n",
    "        print(f\"Forecasting failed for {product_id}: {str(e)}\")\n",
    "        return None"
   ]
  },
  {
   "cell_type": "markdown",
   "metadata": {},
   "source": []
  },
  {
   "cell_type": "markdown",
   "metadata": {},
   "source": [
    "#### <span style=\"background-color:#000027; padding:5px; border-radius:5px;\">**4. Exogenous Variables Prediction**</span> <a id='market'></a>  \n",
    "\n",
    "Click [here](#table-of-contents) ⬆️ to return to the Index.\n"
   ]
  },
  {
   "cell_type": "markdown",
   "metadata": {},
   "source": [
    "So noe that we have the models and the features for each product we will predict every macro feature a product needs, but first we need to see the ones the products have in common so that we can reuse the predictions if we need:"
   ]
  },
  {
   "cell_type": "code",
   "execution_count": 82,
   "metadata": {},
   "outputs": [
    {
     "data": {
      "text/html": [
       "<div>\n",
       "<style scoped>\n",
       "    .dataframe tbody tr th:only-of-type {\n",
       "        vertical-align: middle;\n",
       "    }\n",
       "\n",
       "    .dataframe tbody tr th {\n",
       "        vertical-align: top;\n",
       "    }\n",
       "\n",
       "    .dataframe thead th {\n",
       "        text-align: right;\n",
       "    }\n",
       "</style>\n",
       "<table border=\"1\" class=\"dataframe\">\n",
       "  <thead>\n",
       "    <tr style=\"text-align: right;\">\n",
       "      <th></th>\n",
       "      <th>Macro</th>\n",
       "      <th>Products</th>\n",
       "    </tr>\n",
       "  </thead>\n",
       "  <tbody>\n",
       "    <tr>\n",
       "      <th>0</th>\n",
       "      <td>MAB_ELE_SHP840</td>\n",
       "      <td>P1, P11, P5, Sales_CPI</td>\n",
       "    </tr>\n",
       "    <tr>\n",
       "      <th>1</th>\n",
       "      <td>PRI27276_org</td>\n",
       "      <td>P1, P16, Sales_CPI</td>\n",
       "    </tr>\n",
       "    <tr>\n",
       "      <th>2</th>\n",
       "      <td>PRO27826_org</td>\n",
       "      <td>P1, P11, P3, P5, P9, Sales_CPI</td>\n",
       "    </tr>\n",
       "    <tr>\n",
       "      <th>3</th>\n",
       "      <td>MAB_ELE_PRO276</td>\n",
       "      <td>P1, P13</td>\n",
       "    </tr>\n",
       "    <tr>\n",
       "      <th>4</th>\n",
       "      <td>MAB_ELE_SHP1100</td>\n",
       "      <td>P1</td>\n",
       "    </tr>\n",
       "    <tr>\n",
       "      <th>5</th>\n",
       "      <td>MAB_ELE_SHP392</td>\n",
       "      <td>P11</td>\n",
       "    </tr>\n",
       "    <tr>\n",
       "      <th>6</th>\n",
       "      <td>MAB_ELE_SHP276</td>\n",
       "      <td>P11</td>\n",
       "    </tr>\n",
       "    <tr>\n",
       "      <th>7</th>\n",
       "      <td>PRI27840_org</td>\n",
       "      <td>P12, P13, P3, P8</td>\n",
       "    </tr>\n",
       "    <tr>\n",
       "      <th>8</th>\n",
       "      <td>RohCOPPER1000_org</td>\n",
       "      <td>P12, P8</td>\n",
       "    </tr>\n",
       "    <tr>\n",
       "      <th>9</th>\n",
       "      <td>MAB_ELE_PRO156</td>\n",
       "      <td>P12, P36, P5, P9</td>\n",
       "    </tr>\n",
       "    <tr>\n",
       "      <th>10</th>\n",
       "      <td>MAB_ELE_PRO756</td>\n",
       "      <td>P13, P16, P36</td>\n",
       "    </tr>\n",
       "    <tr>\n",
       "      <th>11</th>\n",
       "      <td>PRO27756_org</td>\n",
       "      <td>P13, P14, P36</td>\n",
       "    </tr>\n",
       "    <tr>\n",
       "      <th>12</th>\n",
       "      <td>PRO27392_org</td>\n",
       "      <td>P14</td>\n",
       "    </tr>\n",
       "    <tr>\n",
       "      <th>13</th>\n",
       "      <td>PRO28380_org</td>\n",
       "      <td>P14</td>\n",
       "    </tr>\n",
       "    <tr>\n",
       "      <th>14</th>\n",
       "      <td>PRO28276_org</td>\n",
       "      <td>P16</td>\n",
       "    </tr>\n",
       "    <tr>\n",
       "      <th>15</th>\n",
       "      <td>PRO28826_org</td>\n",
       "      <td>P16</td>\n",
       "    </tr>\n",
       "    <tr>\n",
       "      <th>16</th>\n",
       "      <td>MAB_ELE_SHP250</td>\n",
       "      <td>P20</td>\n",
       "    </tr>\n",
       "    <tr>\n",
       "      <th>17</th>\n",
       "      <td>PRO271000_org</td>\n",
       "      <td>P20, P3, P5, P9, Sales_CPI</td>\n",
       "    </tr>\n",
       "    <tr>\n",
       "      <th>18</th>\n",
       "      <td>PRO27250_org</td>\n",
       "      <td>P20</td>\n",
       "    </tr>\n",
       "    <tr>\n",
       "      <th>19</th>\n",
       "      <td>PRO28392_org</td>\n",
       "      <td>P20</td>\n",
       "    </tr>\n",
       "    <tr>\n",
       "      <th>20</th>\n",
       "      <td>PRO27380_org</td>\n",
       "      <td>P4</td>\n",
       "    </tr>\n",
       "    <tr>\n",
       "      <th>21</th>\n",
       "      <td>WKLWEUR840_org</td>\n",
       "      <td>P4</td>\n",
       "    </tr>\n",
       "    <tr>\n",
       "      <th>22</th>\n",
       "      <td>PRO27276_org</td>\n",
       "      <td>P4, P6</td>\n",
       "    </tr>\n",
       "    <tr>\n",
       "      <th>23</th>\n",
       "      <td>MAB_ELE_SHP380</td>\n",
       "      <td>P4</td>\n",
       "    </tr>\n",
       "    <tr>\n",
       "      <th>24</th>\n",
       "      <td>PRO27840_org</td>\n",
       "      <td>P6</td>\n",
       "    </tr>\n",
       "    <tr>\n",
       "      <th>25</th>\n",
       "      <td>RohCRUDE_PETRO1000_org</td>\n",
       "      <td>P6</td>\n",
       "    </tr>\n",
       "    <tr>\n",
       "      <th>26</th>\n",
       "      <td>PRO28250_org</td>\n",
       "      <td>P9</td>\n",
       "    </tr>\n",
       "  </tbody>\n",
       "</table>\n",
       "</div>"
      ],
      "text/plain": [
       "                     Macro                        Products\n",
       "0           MAB_ELE_SHP840          P1, P11, P5, Sales_CPI\n",
       "1             PRI27276_org              P1, P16, Sales_CPI\n",
       "2             PRO27826_org  P1, P11, P3, P5, P9, Sales_CPI\n",
       "3           MAB_ELE_PRO276                         P1, P13\n",
       "4          MAB_ELE_SHP1100                              P1\n",
       "5           MAB_ELE_SHP392                             P11\n",
       "6           MAB_ELE_SHP276                             P11\n",
       "7             PRI27840_org                P12, P13, P3, P8\n",
       "8        RohCOPPER1000_org                         P12, P8\n",
       "9           MAB_ELE_PRO156                P12, P36, P5, P9\n",
       "10          MAB_ELE_PRO756                   P13, P16, P36\n",
       "11            PRO27756_org                   P13, P14, P36\n",
       "12            PRO27392_org                             P14\n",
       "13            PRO28380_org                             P14\n",
       "14            PRO28276_org                             P16\n",
       "15            PRO28826_org                             P16\n",
       "16          MAB_ELE_SHP250                             P20\n",
       "17           PRO271000_org      P20, P3, P5, P9, Sales_CPI\n",
       "18            PRO27250_org                             P20\n",
       "19            PRO28392_org                             P20\n",
       "20            PRO27380_org                              P4\n",
       "21          WKLWEUR840_org                              P4\n",
       "22            PRO27276_org                          P4, P6\n",
       "23          MAB_ELE_SHP380                              P4\n",
       "24            PRO27840_org                              P6\n",
       "25  RohCRUDE_PETRO1000_org                              P6\n",
       "26            PRO28250_org                              P9"
      ]
     },
     "execution_count": 82,
     "metadata": {},
     "output_type": "execute_result"
    }
   ],
   "source": [
    "products = list(product_dfs.keys())\n",
    "\n",
    "# Dictionary to store macros and their corresponding products\n",
    "macro_products = {}\n",
    "for product_key, df in product_dfs.items():\n",
    "    # Iterate through columns (excluding 'Sales')\n",
    "    for col in df.columns:\n",
    "        if col != 'Sales' and col not in products:  # Ignores 'Sales' and product names in columns\n",
    "            if col not in macro_products:\n",
    "                macro_products[col] = []\n",
    "            macro_products[col].append(product_key)\n",
    "\n",
    "macro_df = pd.DataFrame(list(macro_products.items()), columns=['Macro', 'Products'])\n",
    "macro_df['Products'] = macro_df['Products'].apply(lambda x: ', '.join(sorted(x)))  \n",
    "macro_df"
   ]
  },
  {
   "cell_type": "markdown",
   "metadata": {},
   "source": [
    "Some products have macros in common wich is good for us in this next phase. "
   ]
  },
  {
   "cell_type": "code",
   "execution_count": 83,
   "metadata": {},
   "outputs": [
    {
     "name": "stdout",
     "output_type": "stream",
     "text": [
      "Final shape: (43, 27)\n"
     ]
    },
    {
     "data": {
      "text/html": [
       "<div>\n",
       "<style scoped>\n",
       "    .dataframe tbody tr th:only-of-type {\n",
       "        vertical-align: middle;\n",
       "    }\n",
       "\n",
       "    .dataframe tbody tr th {\n",
       "        vertical-align: top;\n",
       "    }\n",
       "\n",
       "    .dataframe thead th {\n",
       "        text-align: right;\n",
       "    }\n",
       "</style>\n",
       "<table border=\"1\" class=\"dataframe\">\n",
       "  <thead>\n",
       "    <tr style=\"text-align: right;\">\n",
       "      <th></th>\n",
       "      <th>MAB_ELE_SHP840</th>\n",
       "      <th>PRI27276_org</th>\n",
       "      <th>PRO27826_org</th>\n",
       "      <th>MAB_ELE_PRO276</th>\n",
       "      <th>MAB_ELE_SHP1100</th>\n",
       "      <th>MAB_ELE_SHP392</th>\n",
       "      <th>MAB_ELE_SHP276</th>\n",
       "      <th>PRI27840_org</th>\n",
       "      <th>RohCOPPER1000_org</th>\n",
       "      <th>MAB_ELE_PRO156</th>\n",
       "      <th>MAB_ELE_PRO756</th>\n",
       "      <th>PRO27756_org</th>\n",
       "      <th>PRO27392_org</th>\n",
       "      <th>PRO28380_org</th>\n",
       "      <th>PRO28276_org</th>\n",
       "      <th>PRO28826_org</th>\n",
       "      <th>MAB_ELE_SHP250</th>\n",
       "      <th>PRO271000_org</th>\n",
       "      <th>PRO27250_org</th>\n",
       "      <th>PRO28392_org</th>\n",
       "      <th>PRO27380_org</th>\n",
       "      <th>WKLWEUR840_org</th>\n",
       "      <th>PRO27276_org</th>\n",
       "      <th>MAB_ELE_SHP380</th>\n",
       "      <th>PRO27840_org</th>\n",
       "      <th>RohCRUDE_PETRO1000_org</th>\n",
       "      <th>PRO28250_org</th>\n",
       "    </tr>\n",
       "    <tr>\n",
       "      <th>month_year</th>\n",
       "      <th></th>\n",
       "      <th></th>\n",
       "      <th></th>\n",
       "      <th></th>\n",
       "      <th></th>\n",
       "      <th></th>\n",
       "      <th></th>\n",
       "      <th></th>\n",
       "      <th></th>\n",
       "      <th></th>\n",
       "      <th></th>\n",
       "      <th></th>\n",
       "      <th></th>\n",
       "      <th></th>\n",
       "      <th></th>\n",
       "      <th></th>\n",
       "      <th></th>\n",
       "      <th></th>\n",
       "      <th></th>\n",
       "      <th></th>\n",
       "      <th></th>\n",
       "      <th></th>\n",
       "      <th></th>\n",
       "      <th></th>\n",
       "      <th></th>\n",
       "      <th></th>\n",
       "      <th></th>\n",
       "    </tr>\n",
       "  </thead>\n",
       "  <tbody>\n",
       "    <tr>\n",
       "      <th>2018-10-01</th>\n",
       "      <td>127.8088</td>\n",
       "      <td>109.1196</td>\n",
       "      <td>118.6708</td>\n",
       "      <td>124.2279</td>\n",
       "      <td>130.9893</td>\n",
       "      <td>124.7933</td>\n",
       "      <td>137.7420</td>\n",
       "      <td>110.7004</td>\n",
       "      <td>82.5451</td>\n",
       "      <td>211.9558</td>\n",
       "      <td>109.0778</td>\n",
       "      <td>112.9708</td>\n",
       "      <td>112.3768</td>\n",
       "      <td>129.3892</td>\n",
       "      <td>127.4611</td>\n",
       "      <td>110.8935</td>\n",
       "      <td>122.4517</td>\n",
       "      <td>129.3258</td>\n",
       "      <td>97.8495</td>\n",
       "      <td>131.5038</td>\n",
       "      <td>93.0015</td>\n",
       "      <td>1.1484</td>\n",
       "      <td>118.2982</td>\n",
       "      <td>122.4569</td>\n",
       "      <td>112.8533</td>\n",
       "      <td>97.0723</td>\n",
       "      <td>114.7208</td>\n",
       "    </tr>\n",
       "    <tr>\n",
       "      <th>2018-11-01</th>\n",
       "      <td>117.6759</td>\n",
       "      <td>109.2248</td>\n",
       "      <td>120.4670</td>\n",
       "      <td>127.4041</td>\n",
       "      <td>132.9341</td>\n",
       "      <td>123.2899</td>\n",
       "      <td>142.7322</td>\n",
       "      <td>110.9940</td>\n",
       "      <td>82.2309</td>\n",
       "      <td>220.5197</td>\n",
       "      <td>112.2415</td>\n",
       "      <td>114.7360</td>\n",
       "      <td>111.9075</td>\n",
       "      <td>117.9902</td>\n",
       "      <td>132.9879</td>\n",
       "      <td>112.1199</td>\n",
       "      <td>115.9582</td>\n",
       "      <td>128.2362</td>\n",
       "      <td>91.1560</td>\n",
       "      <td>127.8808</td>\n",
       "      <td>84.1334</td>\n",
       "      <td>1.1367</td>\n",
       "      <td>117.1637</td>\n",
       "      <td>120.1320</td>\n",
       "      <td>113.1453</td>\n",
       "      <td>78.8412</td>\n",
       "      <td>104.8731</td>\n",
       "    </tr>\n",
       "    <tr>\n",
       "      <th>2018-12-01</th>\n",
       "      <td>123.2801</td>\n",
       "      <td>109.3301</td>\n",
       "      <td>105.3787</td>\n",
       "      <td>120.5186</td>\n",
       "      <td>131.2613</td>\n",
       "      <td>124.5084</td>\n",
       "      <td>141.4077</td>\n",
       "      <td>111.1622</td>\n",
       "      <td>80.6304</td>\n",
       "      <td>241.8469</td>\n",
       "      <td>115.4052</td>\n",
       "      <td>116.5012</td>\n",
       "      <td>112.5242</td>\n",
       "      <td>99.1917</td>\n",
       "      <td>137.3633</td>\n",
       "      <td>99.4464</td>\n",
       "      <td>115.1285</td>\n",
       "      <td>117.0435</td>\n",
       "      <td>78.0330</td>\n",
       "      <td>128.1257</td>\n",
       "      <td>64.8812</td>\n",
       "      <td>1.1384</td>\n",
       "      <td>89.6261</td>\n",
       "      <td>131.9361</td>\n",
       "      <td>111.8236</td>\n",
       "      <td>68.2686</td>\n",
       "      <td>104.9746</td>\n",
       "    </tr>\n",
       "    <tr>\n",
       "      <th>2019-01-01</th>\n",
       "      <td>111.0438</td>\n",
       "      <td>109.7510</td>\n",
       "      <td>107.1749</td>\n",
       "      <td>104.7763</td>\n",
       "      <td>113.0576</td>\n",
       "      <td>106.3039</td>\n",
       "      <td>118.7038</td>\n",
       "      <td>111.3861</td>\n",
       "      <td>78.8225</td>\n",
       "      <td>175.6681</td>\n",
       "      <td>109.6218</td>\n",
       "      <td>110.3546</td>\n",
       "      <td>95.9574</td>\n",
       "      <td>106.9911</td>\n",
       "      <td>104.4329</td>\n",
       "      <td>98.8331</td>\n",
       "      <td>108.3252</td>\n",
       "      <td>111.5222</td>\n",
       "      <td>81.9083</td>\n",
       "      <td>110.2009</td>\n",
       "      <td>81.5563</td>\n",
       "      <td>1.1416</td>\n",
       "      <td>105.4061</td>\n",
       "      <td>92.4188</td>\n",
       "      <td>109.4997</td>\n",
       "      <td>71.5875</td>\n",
       "      <td>95.2284</td>\n",
       "    </tr>\n",
       "    <tr>\n",
       "      <th>2019-02-01</th>\n",
       "      <td>116.7369</td>\n",
       "      <td>109.8562</td>\n",
       "      <td>110.6476</td>\n",
       "      <td>109.5970</td>\n",
       "      <td>117.7047</td>\n",
       "      <td>114.9963</td>\n",
       "      <td>122.6870</td>\n",
       "      <td>111.5611</td>\n",
       "      <td>83.6188</td>\n",
       "      <td>175.6681</td>\n",
       "      <td>103.8384</td>\n",
       "      <td>104.2080</td>\n",
       "      <td>107.3100</td>\n",
       "      <td>113.7905</td>\n",
       "      <td>112.8382</td>\n",
       "      <td>99.5486</td>\n",
       "      <td>108.9447</td>\n",
       "      <td>112.6667</td>\n",
       "      <td>80.3229</td>\n",
       "      <td>117.9765</td>\n",
       "      <td>83.4512</td>\n",
       "      <td>1.1351</td>\n",
       "      <td>103.6528</td>\n",
       "      <td>103.2142</td>\n",
       "      <td>110.8357</td>\n",
       "      <td>77.3440</td>\n",
       "      <td>100.1015</td>\n",
       "    </tr>\n",
       "  </tbody>\n",
       "</table>\n",
       "</div>"
      ],
      "text/plain": [
       "            MAB_ELE_SHP840  PRI27276_org  PRO27826_org  MAB_ELE_PRO276  MAB_ELE_SHP1100  MAB_ELE_SHP392  MAB_ELE_SHP276  PRI27840_org  RohCOPPER1000_org  MAB_ELE_PRO156  MAB_ELE_PRO756  PRO27756_org  PRO27392_org  PRO28380_org  PRO28276_org  PRO28826_org  MAB_ELE_SHP250  PRO271000_org  PRO27250_org  PRO28392_org  PRO27380_org  WKLWEUR840_org  PRO27276_org  MAB_ELE_SHP380  PRO27840_org  RohCRUDE_PETRO1000_org  PRO28250_org\n",
       "month_year                                                                                                                                                                                                                                                                                                                                                                                                                               \n",
       "2018-10-01        127.8088      109.1196      118.6708        124.2279         130.9893        124.7933        137.7420      110.7004            82.5451        211.9558        109.0778      112.9708      112.3768      129.3892      127.4611      110.8935        122.4517       129.3258       97.8495      131.5038       93.0015          1.1484      118.2982        122.4569      112.8533                 97.0723      114.7208\n",
       "2018-11-01        117.6759      109.2248      120.4670        127.4041         132.9341        123.2899        142.7322      110.9940            82.2309        220.5197        112.2415      114.7360      111.9075      117.9902      132.9879      112.1199        115.9582       128.2362       91.1560      127.8808       84.1334          1.1367      117.1637        120.1320      113.1453                 78.8412      104.8731\n",
       "2018-12-01        123.2801      109.3301      105.3787        120.5186         131.2613        124.5084        141.4077      111.1622            80.6304        241.8469        115.4052      116.5012      112.5242       99.1917      137.3633       99.4464        115.1285       117.0435       78.0330      128.1257       64.8812          1.1384       89.6261        131.9361      111.8236                 68.2686      104.9746\n",
       "2019-01-01        111.0438      109.7510      107.1749        104.7763         113.0576        106.3039        118.7038      111.3861            78.8225        175.6681        109.6218      110.3546       95.9574      106.9911      104.4329       98.8331        108.3252       111.5222       81.9083      110.2009       81.5563          1.1416      105.4061         92.4188      109.4997                 71.5875       95.2284\n",
       "2019-02-01        116.7369      109.8562      110.6476        109.5970         117.7047        114.9963        122.6870      111.5611            83.6188        175.6681        103.8384      104.2080      107.3100      113.7905      112.8382       99.5486        108.9447       112.6667       80.3229      117.9765       83.4512          1.1351      103.6528        103.2142      110.8357                 77.3440      100.1015"
      ]
     },
     "execution_count": 83,
     "metadata": {},
     "output_type": "execute_result"
    }
   ],
   "source": [
    "# Step 1: Combine all dataframes while keeping index\n",
    "for key in product_dfs:\n",
    "    product_dfs[key].index = pd.to_datetime(product_dfs[key].index).strftime('%Y-%m-%d')\n",
    "\n",
    "combined_macros = pd.DataFrame(index=next(iter(product_dfs.values())).index)\n",
    "# Iterate through each product DataFrame\n",
    "for product_name, df in product_dfs.items():\n",
    "    # Get only macro columns (non-Sales)\n",
    "    macros = df.drop(columns=[col for col in df.columns if 'sales' in col.lower()])\n",
    "    \n",
    "    # Add product prefix to avoid duplicate column names\n",
    "    macros = macros.add_prefix(f'{product_name}_')\n",
    "    \n",
    "    # Merge with the combined DataFrame\n",
    "    combined_macros = combined_macros.join(macros, how='left')\n",
    "\n",
    "#combined_macros = combined_macros.dropna(axis=1, how='all')\n",
    "combined_macros.columns = combined_macros.columns.str.replace(r'^(P\\d+_|Sales_CPI_)', '', regex=True)\n",
    "combined_macros = combined_macros.loc[:, ~combined_macros.columns.duplicated(keep='first')]\n",
    "\n",
    "print(f\"Final shape: {combined_macros.shape}\")\n",
    "combined_macros.head()"
   ]
  },
  {
   "cell_type": "markdown",
   "metadata": {},
   "source": [
    "##### <span style=\"background-color:#000027; padding:5px; border-radius:5px;font-size:13pt\">**4.1. Dickey-Fuller & Shapiro Test For Macro Variables**</span> <a id='Dickey-Fuller'></a> \n",
    "\n",
    "- Null Hypothesis: Time series is non-stationary\n",
    "- Alternative Hypothesis: Time series is stationary.\n",
    "\n",
    "A p-value below 0.05 indicates that we reject the null hypothesis, suggesting the time series is stationary."
   ]
  },
  {
   "cell_type": "code",
   "execution_count": 84,
   "metadata": {},
   "outputs": [
    {
     "data": {
      "text/html": [
       "<div>\n",
       "<style scoped>\n",
       "    .dataframe tbody tr th:only-of-type {\n",
       "        vertical-align: middle;\n",
       "    }\n",
       "\n",
       "    .dataframe tbody tr th {\n",
       "        vertical-align: top;\n",
       "    }\n",
       "\n",
       "    .dataframe thead th {\n",
       "        text-align: right;\n",
       "    }\n",
       "</style>\n",
       "<table border=\"1\" class=\"dataframe\">\n",
       "  <thead>\n",
       "    <tr style=\"text-align: right;\">\n",
       "      <th></th>\n",
       "      <th>Is_Normal</th>\n",
       "      <th>Is_Stationary</th>\n",
       "    </tr>\n",
       "    <tr>\n",
       "      <th>Variable</th>\n",
       "      <th></th>\n",
       "      <th></th>\n",
       "    </tr>\n",
       "  </thead>\n",
       "  <tbody>\n",
       "    <tr>\n",
       "      <th>MAB_ELE_SHP840</th>\n",
       "      <td>False</td>\n",
       "      <td>False</td>\n",
       "    </tr>\n",
       "    <tr>\n",
       "      <th>PRI27276_org</th>\n",
       "      <td>False</td>\n",
       "      <td>False</td>\n",
       "    </tr>\n",
       "    <tr>\n",
       "      <th>PRO27826_org</th>\n",
       "      <td>False</td>\n",
       "      <td>True</td>\n",
       "    </tr>\n",
       "    <tr>\n",
       "      <th>MAB_ELE_PRO276</th>\n",
       "      <td>True</td>\n",
       "      <td>False</td>\n",
       "    </tr>\n",
       "    <tr>\n",
       "      <th>MAB_ELE_SHP1100</th>\n",
       "      <td>True</td>\n",
       "      <td>False</td>\n",
       "    </tr>\n",
       "    <tr>\n",
       "      <th>MAB_ELE_SHP392</th>\n",
       "      <td>True</td>\n",
       "      <td>False</td>\n",
       "    </tr>\n",
       "    <tr>\n",
       "      <th>MAB_ELE_SHP276</th>\n",
       "      <td>True</td>\n",
       "      <td>False</td>\n",
       "    </tr>\n",
       "    <tr>\n",
       "      <th>PRI27840_org</th>\n",
       "      <td>False</td>\n",
       "      <td>False</td>\n",
       "    </tr>\n",
       "    <tr>\n",
       "      <th>RohCOPPER1000_org</th>\n",
       "      <td>False</td>\n",
       "      <td>False</td>\n",
       "    </tr>\n",
       "    <tr>\n",
       "      <th>MAB_ELE_PRO156</th>\n",
       "      <td>True</td>\n",
       "      <td>False</td>\n",
       "    </tr>\n",
       "    <tr>\n",
       "      <th>MAB_ELE_PRO756</th>\n",
       "      <td>True</td>\n",
       "      <td>False</td>\n",
       "    </tr>\n",
       "    <tr>\n",
       "      <th>PRO27756_org</th>\n",
       "      <td>True</td>\n",
       "      <td>False</td>\n",
       "    </tr>\n",
       "    <tr>\n",
       "      <th>PRO27392_org</th>\n",
       "      <td>True</td>\n",
       "      <td>False</td>\n",
       "    </tr>\n",
       "    <tr>\n",
       "      <th>PRO28380_org</th>\n",
       "      <td>False</td>\n",
       "      <td>False</td>\n",
       "    </tr>\n",
       "    <tr>\n",
       "      <th>PRO28276_org</th>\n",
       "      <td>True</td>\n",
       "      <td>True</td>\n",
       "    </tr>\n",
       "    <tr>\n",
       "      <th>PRO28826_org</th>\n",
       "      <td>False</td>\n",
       "      <td>False</td>\n",
       "    </tr>\n",
       "    <tr>\n",
       "      <th>MAB_ELE_SHP250</th>\n",
       "      <td>False</td>\n",
       "      <td>False</td>\n",
       "    </tr>\n",
       "    <tr>\n",
       "      <th>PRO271000_org</th>\n",
       "      <td>True</td>\n",
       "      <td>False</td>\n",
       "    </tr>\n",
       "    <tr>\n",
       "      <th>PRO27250_org</th>\n",
       "      <td>False</td>\n",
       "      <td>True</td>\n",
       "    </tr>\n",
       "    <tr>\n",
       "      <th>PRO28392_org</th>\n",
       "      <td>True</td>\n",
       "      <td>False</td>\n",
       "    </tr>\n",
       "    <tr>\n",
       "      <th>PRO27380_org</th>\n",
       "      <td>False</td>\n",
       "      <td>False</td>\n",
       "    </tr>\n",
       "    <tr>\n",
       "      <th>WKLWEUR840_org</th>\n",
       "      <td>False</td>\n",
       "      <td>False</td>\n",
       "    </tr>\n",
       "    <tr>\n",
       "      <th>PRO27276_org</th>\n",
       "      <td>True</td>\n",
       "      <td>False</td>\n",
       "    </tr>\n",
       "    <tr>\n",
       "      <th>MAB_ELE_SHP380</th>\n",
       "      <td>False</td>\n",
       "      <td>True</td>\n",
       "    </tr>\n",
       "    <tr>\n",
       "      <th>PRO27840_org</th>\n",
       "      <td>False</td>\n",
       "      <td>False</td>\n",
       "    </tr>\n",
       "    <tr>\n",
       "      <th>RohCRUDE_PETRO1000_org</th>\n",
       "      <td>True</td>\n",
       "      <td>False</td>\n",
       "    </tr>\n",
       "    <tr>\n",
       "      <th>PRO28250_org</th>\n",
       "      <td>False</td>\n",
       "      <td>False</td>\n",
       "    </tr>\n",
       "  </tbody>\n",
       "</table>\n",
       "</div>"
      ],
      "text/plain": [
       "                        Is_Normal  Is_Stationary\n",
       "Variable                                        \n",
       "MAB_ELE_SHP840              False          False\n",
       "PRI27276_org                False          False\n",
       "PRO27826_org                False           True\n",
       "MAB_ELE_PRO276               True          False\n",
       "MAB_ELE_SHP1100              True          False\n",
       "MAB_ELE_SHP392               True          False\n",
       "MAB_ELE_SHP276               True          False\n",
       "PRI27840_org                False          False\n",
       "RohCOPPER1000_org           False          False\n",
       "MAB_ELE_PRO156               True          False\n",
       "MAB_ELE_PRO756               True          False\n",
       "PRO27756_org                 True          False\n",
       "PRO27392_org                 True          False\n",
       "PRO28380_org                False          False\n",
       "PRO28276_org                 True           True\n",
       "PRO28826_org                False          False\n",
       "MAB_ELE_SHP250              False          False\n",
       "PRO271000_org                True          False\n",
       "PRO27250_org                False           True\n",
       "PRO28392_org                 True          False\n",
       "PRO27380_org                False          False\n",
       "WKLWEUR840_org              False          False\n",
       "PRO27276_org                 True          False\n",
       "MAB_ELE_SHP380              False           True\n",
       "PRO27840_org                False          False\n",
       "RohCRUDE_PETRO1000_org       True          False\n",
       "PRO28250_org                False          False"
      ]
     },
     "execution_count": 84,
     "metadata": {},
     "output_type": "execute_result"
    }
   ],
   "source": [
    "def classify_variable(series):\n",
    "    \"\"\"Classifies variable based on normality and stationarity tests.\"\"\"\n",
    "    clean_series = series.dropna()\n",
    "    \n",
    "    # Initialize results (default: not normal, not stationary)\n",
    "    is_normal = False\n",
    "    is_stationary = False\n",
    "    if len(clean_series) > 3:\n",
    "        # Normality test (Shapiro-Wilk)\n",
    "        _, shapiro_p = shapiro(clean_series)\n",
    "        is_normal = shapiro_p > 0.05  # p > 0.05 → normal\n",
    "        \n",
    "        # Stationarity test (ADF)\n",
    "        adf_result = adfuller(clean_series)\n",
    "        adf_p = adf_result[1]\n",
    "        is_stationary = adf_p < 0.05  # p < 0.05 → stationary\n",
    "    \n",
    "    return is_normal, is_stationary\n",
    "\n",
    "results = []\n",
    "for col in combined_macros.columns:\n",
    "    is_normal, is_stationary = classify_variable(combined_macros[col])\n",
    "    results.append({\n",
    "        \"Variable\": col,\n",
    "        \"Is_Normal\": is_normal,\n",
    "        \"Is_Stationary\": is_stationary})\n",
    "classification_results = pd.DataFrame(results).set_index(\"Variable\")\n",
    "classification_results"
   ]
  },
  {
   "cell_type": "markdown",
   "metadata": {},
   "source": [
    "##### <span style=\"background-color:#000027; padding:5px; border-radius:5px;font-size:13pt\">**4.2. Autocorrelation Function (ACF)**</span> <a id='Autocorrelation'></a> \n",
    "\n",
    "- The Autocorrelation Function (ACF) measures how correlated a time series is with itself over different time lags.\n",
    "- This helps determine the q parameter in Moving Average (MA) models.\n",
    "\n",
    "- If ACF values are near zero → The time series has no correlation (random).\n",
    "- If ACF values drop slowly → There’s some correlation over time.\n",
    "- If some lags have high ACF outside the confidence interval (blue region) → Suggests a pattern at that lag.\n",
    "\n",
    "`Since our data is random noise, we expect the ACF to be close to zero for all lags except lag = 0 (which is always 1 because a series is perfectly correlated with itself).`"
   ]
  },
  {
   "cell_type": "code",
   "execution_count": 85,
   "metadata": {},
   "outputs": [],
   "source": [
    "def plot_correlation_for_products(data, lags=30, plot_type='acf'):\n",
    "    \"\"\"\n",
    "    Plots ACF or PACF with stem-like bars and constant confidence intervals\n",
    "    \n",
    "    Parameters:\n",
    "    -----------\n",
    "    lags : int\n",
    "        Number of lags to compute\n",
    "    plot_type : str ('acf' or 'pacf')\n",
    "        Type of correlation plot to display\n",
    "    \"\"\"\n",
    "    # Validate plot_type\n",
    "    plot_type = plot_type.lower()\n",
    "    if plot_type not in ['acf', 'pacf']:\n",
    "        raise ValueError(\"plot_type must be either 'acf' or 'pacf'\")\n",
    "    \n",
    "    fig = make_subplots(\n",
    "        rows=1,\n",
    "        cols=len(data.columns[:15]),\n",
    "        subplot_titles=[f\"{plot_type.upper()}: {product}\" for product in data.columns[:15]],\n",
    "        horizontal_spacing=0.01)\n",
    "\n",
    "    for i, product in enumerate(data.columns[:15]):\n",
    "        clean_data = data[product].fillna(0)\n",
    "        \n",
    "        if plot_type == 'acf':\n",
    "            corr_values = acf(clean_data, nlags=lags, fft=True)\n",
    "            # Standard error for ACF (Bartlett's formula)\n",
    "            se = 2.24 / np.sqrt(len(clean_data)) # A 97.5% confidence interval means that (1 - 0.975) / 2 = 0.0125 (or 1.25%) of the probability is in each tail. The corresponding Z-score for 97.5% confidence is 2.24 (approximately).\n",
    "        else:\n",
    "            corr_values = pacf(clean_data, nlags=lags)\n",
    "            # Standard error for PACF (1/sqrt(n))\n",
    "            se = 2.24 / np.sqrt(len(clean_data))\n",
    "            \n",
    "        lags_range = list(range(lags+1))\n",
    "        \n",
    "        # Create stem-like effect (line + marker at top)\n",
    "        fig.add_trace(\n",
    "            go.Scatter(\n",
    "                x=lags_range,y=corr_values,mode='lines+markers',line=dict(color='blue', width=1),\n",
    "                marker=dict(color='blue', size=5),name=product,\n",
    "                hovertemplate=f\"Lag %{{x}}<br>{plot_type.upper()}: %{{y:.2f}}<extra></extra>\"),\n",
    "            row=1, col=i+1)\n",
    "        \n",
    "        # Add thin vertical lines from 0 to correlation value (stem effect)\n",
    "        for lag, val in zip(lags_range, corr_values):\n",
    "            fig.add_trace(\n",
    "                go.Scatter(\n",
    "                    x=[lag, lag],y=[0, val],mode='lines',line=dict(color='blue', width=1),\n",
    "                    showlegend=False,hoverinfo='skip'),row=1, col=i+1)\n",
    "        \n",
    "        # Add constant confidence intervals\n",
    "        fig.add_hline(y=se, line=dict(color='red', width=1, dash='dash'), \n",
    "                     row=1, col=i+1, opacity=0.7)\n",
    "        fig.add_hline(y=-se, line=dict(color='red', width=1, dash='dash'), \n",
    "                     row=1, col=i+1, opacity=0.7)\n",
    "        \n",
    "        # Shaded confidence interval area\n",
    "        fig.add_hrect(y0=-se, y1=se, \n",
    "                     line_width=0, fillcolor='rgba(100,100,100,0.2)', \n",
    "                     row=1, col=i+1)\n",
    "\n",
    "    fig.update_layout(\n",
    "        title_text=f\"{plot_type.upper()} by Product (97.5% Confidence)\",\n",
    "        height=500,\n",
    "        width=500*len(data.columns[:15]),\n",
    "        showlegend=False,\n",
    "        margin=dict(l=20, r=20))\n",
    "    \n",
    "    # Uniform axes settings\n",
    "    fig.update_yaxes(range=[-1.1, 1.1], title_text=plot_type.upper())\n",
    "    fig.update_xaxes(title_text=\"Lag\")\n",
    "    \n",
    "    fig.show()"
   ]
  },
  {
   "cell_type": "code",
   "execution_count": 86,
   "metadata": {},
   "outputs": [
    {
     "data": {
      "application/vnd.plotly.v1+json": {
       "config": {
        "plotlyServerURL": "https://plot.ly"
       },
       "data": [
        {
         "hovertemplate": "Lag %{x}<br>ACF: %{y:.2f}<extra></extra>",
         "line": {
          "color": "blue",
          "width": 1
         },
         "marker": {
          "color": "blue",
          "size": 5
         },
         "mode": "lines+markers",
         "name": "MAB_ELE_SHP840",
         "type": "scatter",
         "x": [
          0,
          1,
          2,
          3,
          4,
          5,
          6,
          7,
          8,
          9,
          10,
          11,
          12,
          13,
          14,
          15,
          16,
          17,
          18,
          19,
          20,
          21,
          22,
          23,
          24,
          25,
          26,
          27,
          28,
          29,
          30
         ],
         "xaxis": "x",
         "y": [
          1,
          0.5353837430164743,
          0.3635370964322117,
          0.48044318651293116,
          0.30749384093035403,
          0.24964140607981716,
          0.41754853985856744,
          0.2219947918137189,
          0.12444001687295345,
          0.24735595843417266,
          0.11227436945753883,
          -0.01358076139271878,
          0.20060604775902696,
          -0.06703063968185129,
          -0.19005823585963733,
          -0.09041409617854441,
          -0.18711861355456194,
          -0.21334541630485238,
          -0.06411321230960047,
          -0.1881386534090133,
          -0.2382778924212054,
          -0.12211390815198203,
          -0.17525336547245782,
          -0.2556239941707245,
          -0.057405985386596685,
          -0.11429907094623107,
          -0.20440838901603317,
          -0.15347046397245762,
          -0.1667547998474673,
          -0.174415275156148,
          -0.061482634678294595
         ],
         "yaxis": "y"
        },
        {
         "hoverinfo": "skip",
         "line": {
          "color": "blue",
          "width": 1
         },
         "mode": "lines",
         "showlegend": false,
         "type": "scatter",
         "x": [
          0,
          0
         ],
         "xaxis": "x",
         "y": [
          0,
          1
         ],
         "yaxis": "y"
        },
        {
         "hoverinfo": "skip",
         "line": {
          "color": "blue",
          "width": 1
         },
         "mode": "lines",
         "showlegend": false,
         "type": "scatter",
         "x": [
          1,
          1
         ],
         "xaxis": "x",
         "y": [
          0,
          0.5353837430164743
         ],
         "yaxis": "y"
        },
        {
         "hoverinfo": "skip",
         "line": {
          "color": "blue",
          "width": 1
         },
         "mode": "lines",
         "showlegend": false,
         "type": "scatter",
         "x": [
          2,
          2
         ],
         "xaxis": "x",
         "y": [
          0,
          0.3635370964322117
         ],
         "yaxis": "y"
        },
        {
         "hoverinfo": "skip",
         "line": {
          "color": "blue",
          "width": 1
         },
         "mode": "lines",
         "showlegend": false,
         "type": "scatter",
         "x": [
          3,
          3
         ],
         "xaxis": "x",
         "y": [
          0,
          0.48044318651293116
         ],
         "yaxis": "y"
        },
        {
         "hoverinfo": "skip",
         "line": {
          "color": "blue",
          "width": 1
         },
         "mode": "lines",
         "showlegend": false,
         "type": "scatter",
         "x": [
          4,
          4
         ],
         "xaxis": "x",
         "y": [
          0,
          0.30749384093035403
         ],
         "yaxis": "y"
        },
        {
         "hoverinfo": "skip",
         "line": {
          "color": "blue",
          "width": 1
         },
         "mode": "lines",
         "showlegend": false,
         "type": "scatter",
         "x": [
          5,
          5
         ],
         "xaxis": "x",
         "y": [
          0,
          0.24964140607981716
         ],
         "yaxis": "y"
        },
        {
         "hoverinfo": "skip",
         "line": {
          "color": "blue",
          "width": 1
         },
         "mode": "lines",
         "showlegend": false,
         "type": "scatter",
         "x": [
          6,
          6
         ],
         "xaxis": "x",
         "y": [
          0,
          0.41754853985856744
         ],
         "yaxis": "y"
        },
        {
         "hoverinfo": "skip",
         "line": {
          "color": "blue",
          "width": 1
         },
         "mode": "lines",
         "showlegend": false,
         "type": "scatter",
         "x": [
          7,
          7
         ],
         "xaxis": "x",
         "y": [
          0,
          0.2219947918137189
         ],
         "yaxis": "y"
        },
        {
         "hoverinfo": "skip",
         "line": {
          "color": "blue",
          "width": 1
         },
         "mode": "lines",
         "showlegend": false,
         "type": "scatter",
         "x": [
          8,
          8
         ],
         "xaxis": "x",
         "y": [
          0,
          0.12444001687295345
         ],
         "yaxis": "y"
        },
        {
         "hoverinfo": "skip",
         "line": {
          "color": "blue",
          "width": 1
         },
         "mode": "lines",
         "showlegend": false,
         "type": "scatter",
         "x": [
          9,
          9
         ],
         "xaxis": "x",
         "y": [
          0,
          0.24735595843417266
         ],
         "yaxis": "y"
        },
        {
         "hoverinfo": "skip",
         "line": {
          "color": "blue",
          "width": 1
         },
         "mode": "lines",
         "showlegend": false,
         "type": "scatter",
         "x": [
          10,
          10
         ],
         "xaxis": "x",
         "y": [
          0,
          0.11227436945753883
         ],
         "yaxis": "y"
        },
        {
         "hoverinfo": "skip",
         "line": {
          "color": "blue",
          "width": 1
         },
         "mode": "lines",
         "showlegend": false,
         "type": "scatter",
         "x": [
          11,
          11
         ],
         "xaxis": "x",
         "y": [
          0,
          -0.01358076139271878
         ],
         "yaxis": "y"
        },
        {
         "hoverinfo": "skip",
         "line": {
          "color": "blue",
          "width": 1
         },
         "mode": "lines",
         "showlegend": false,
         "type": "scatter",
         "x": [
          12,
          12
         ],
         "xaxis": "x",
         "y": [
          0,
          0.20060604775902696
         ],
         "yaxis": "y"
        },
        {
         "hoverinfo": "skip",
         "line": {
          "color": "blue",
          "width": 1
         },
         "mode": "lines",
         "showlegend": false,
         "type": "scatter",
         "x": [
          13,
          13
         ],
         "xaxis": "x",
         "y": [
          0,
          -0.06703063968185129
         ],
         "yaxis": "y"
        },
        {
         "hoverinfo": "skip",
         "line": {
          "color": "blue",
          "width": 1
         },
         "mode": "lines",
         "showlegend": false,
         "type": "scatter",
         "x": [
          14,
          14
         ],
         "xaxis": "x",
         "y": [
          0,
          -0.19005823585963733
         ],
         "yaxis": "y"
        },
        {
         "hoverinfo": "skip",
         "line": {
          "color": "blue",
          "width": 1
         },
         "mode": "lines",
         "showlegend": false,
         "type": "scatter",
         "x": [
          15,
          15
         ],
         "xaxis": "x",
         "y": [
          0,
          -0.09041409617854441
         ],
         "yaxis": "y"
        },
        {
         "hoverinfo": "skip",
         "line": {
          "color": "blue",
          "width": 1
         },
         "mode": "lines",
         "showlegend": false,
         "type": "scatter",
         "x": [
          16,
          16
         ],
         "xaxis": "x",
         "y": [
          0,
          -0.18711861355456194
         ],
         "yaxis": "y"
        },
        {
         "hoverinfo": "skip",
         "line": {
          "color": "blue",
          "width": 1
         },
         "mode": "lines",
         "showlegend": false,
         "type": "scatter",
         "x": [
          17,
          17
         ],
         "xaxis": "x",
         "y": [
          0,
          -0.21334541630485238
         ],
         "yaxis": "y"
        },
        {
         "hoverinfo": "skip",
         "line": {
          "color": "blue",
          "width": 1
         },
         "mode": "lines",
         "showlegend": false,
         "type": "scatter",
         "x": [
          18,
          18
         ],
         "xaxis": "x",
         "y": [
          0,
          -0.06411321230960047
         ],
         "yaxis": "y"
        },
        {
         "hoverinfo": "skip",
         "line": {
          "color": "blue",
          "width": 1
         },
         "mode": "lines",
         "showlegend": false,
         "type": "scatter",
         "x": [
          19,
          19
         ],
         "xaxis": "x",
         "y": [
          0,
          -0.1881386534090133
         ],
         "yaxis": "y"
        },
        {
         "hoverinfo": "skip",
         "line": {
          "color": "blue",
          "width": 1
         },
         "mode": "lines",
         "showlegend": false,
         "type": "scatter",
         "x": [
          20,
          20
         ],
         "xaxis": "x",
         "y": [
          0,
          -0.2382778924212054
         ],
         "yaxis": "y"
        },
        {
         "hoverinfo": "skip",
         "line": {
          "color": "blue",
          "width": 1
         },
         "mode": "lines",
         "showlegend": false,
         "type": "scatter",
         "x": [
          21,
          21
         ],
         "xaxis": "x",
         "y": [
          0,
          -0.12211390815198203
         ],
         "yaxis": "y"
        },
        {
         "hoverinfo": "skip",
         "line": {
          "color": "blue",
          "width": 1
         },
         "mode": "lines",
         "showlegend": false,
         "type": "scatter",
         "x": [
          22,
          22
         ],
         "xaxis": "x",
         "y": [
          0,
          -0.17525336547245782
         ],
         "yaxis": "y"
        },
        {
         "hoverinfo": "skip",
         "line": {
          "color": "blue",
          "width": 1
         },
         "mode": "lines",
         "showlegend": false,
         "type": "scatter",
         "x": [
          23,
          23
         ],
         "xaxis": "x",
         "y": [
          0,
          -0.2556239941707245
         ],
         "yaxis": "y"
        },
        {
         "hoverinfo": "skip",
         "line": {
          "color": "blue",
          "width": 1
         },
         "mode": "lines",
         "showlegend": false,
         "type": "scatter",
         "x": [
          24,
          24
         ],
         "xaxis": "x",
         "y": [
          0,
          -0.057405985386596685
         ],
         "yaxis": "y"
        },
        {
         "hoverinfo": "skip",
         "line": {
          "color": "blue",
          "width": 1
         },
         "mode": "lines",
         "showlegend": false,
         "type": "scatter",
         "x": [
          25,
          25
         ],
         "xaxis": "x",
         "y": [
          0,
          -0.11429907094623107
         ],
         "yaxis": "y"
        },
        {
         "hoverinfo": "skip",
         "line": {
          "color": "blue",
          "width": 1
         },
         "mode": "lines",
         "showlegend": false,
         "type": "scatter",
         "x": [
          26,
          26
         ],
         "xaxis": "x",
         "y": [
          0,
          -0.20440838901603317
         ],
         "yaxis": "y"
        },
        {
         "hoverinfo": "skip",
         "line": {
          "color": "blue",
          "width": 1
         },
         "mode": "lines",
         "showlegend": false,
         "type": "scatter",
         "x": [
          27,
          27
         ],
         "xaxis": "x",
         "y": [
          0,
          -0.15347046397245762
         ],
         "yaxis": "y"
        },
        {
         "hoverinfo": "skip",
         "line": {
          "color": "blue",
          "width": 1
         },
         "mode": "lines",
         "showlegend": false,
         "type": "scatter",
         "x": [
          28,
          28
         ],
         "xaxis": "x",
         "y": [
          0,
          -0.1667547998474673
         ],
         "yaxis": "y"
        },
        {
         "hoverinfo": "skip",
         "line": {
          "color": "blue",
          "width": 1
         },
         "mode": "lines",
         "showlegend": false,
         "type": "scatter",
         "x": [
          29,
          29
         ],
         "xaxis": "x",
         "y": [
          0,
          -0.174415275156148
         ],
         "yaxis": "y"
        },
        {
         "hoverinfo": "skip",
         "line": {
          "color": "blue",
          "width": 1
         },
         "mode": "lines",
         "showlegend": false,
         "type": "scatter",
         "x": [
          30,
          30
         ],
         "xaxis": "x",
         "y": [
          0,
          -0.061482634678294595
         ],
         "yaxis": "y"
        },
        {
         "hovertemplate": "Lag %{x}<br>ACF: %{y:.2f}<extra></extra>",
         "line": {
          "color": "blue",
          "width": 1
         },
         "marker": {
          "color": "blue",
          "size": 5
         },
         "mode": "lines+markers",
         "name": "PRI27276_org",
         "type": "scatter",
         "x": [
          0,
          1,
          2,
          3,
          4,
          5,
          6,
          7,
          8,
          9,
          10,
          11,
          12,
          13,
          14,
          15,
          16,
          17,
          18,
          19,
          20,
          21,
          22,
          23,
          24,
          25,
          26,
          27,
          28,
          29,
          30
         ],
         "xaxis": "x2",
         "y": [
          1,
          0.8539832384392126,
          0.7234166725837363,
          0.6002363468201277,
          0.48861502571445253,
          0.42142391378270994,
          0.3550281901622226,
          0.2848591818431472,
          0.22066614768312637,
          0.1587400054346835,
          0.10674582196733522,
          0.07333392398543705,
          0.04114738297123067,
          0.011814909575960333,
          -0.015157342996375632,
          -0.04338842384821295,
          -0.06750887576765705,
          -0.07832046585894664,
          -0.09210872349229657,
          -0.10071400382666408,
          -0.10833700229745442,
          -0.11550213904810393,
          -0.12463028811715736,
          -0.13391176597227064,
          -0.1496630804011535,
          -0.16612036997886692,
          -0.17883496139437524,
          -0.19875617567882523,
          -0.2158525555501488,
          -0.22500574859160039,
          -0.23851285026519167
         ],
         "yaxis": "y2"
        },
        {
         "hoverinfo": "skip",
         "line": {
          "color": "blue",
          "width": 1
         },
         "mode": "lines",
         "showlegend": false,
         "type": "scatter",
         "x": [
          0,
          0
         ],
         "xaxis": "x2",
         "y": [
          0,
          1
         ],
         "yaxis": "y2"
        },
        {
         "hoverinfo": "skip",
         "line": {
          "color": "blue",
          "width": 1
         },
         "mode": "lines",
         "showlegend": false,
         "type": "scatter",
         "x": [
          1,
          1
         ],
         "xaxis": "x2",
         "y": [
          0,
          0.8539832384392126
         ],
         "yaxis": "y2"
        },
        {
         "hoverinfo": "skip",
         "line": {
          "color": "blue",
          "width": 1
         },
         "mode": "lines",
         "showlegend": false,
         "type": "scatter",
         "x": [
          2,
          2
         ],
         "xaxis": "x2",
         "y": [
          0,
          0.7234166725837363
         ],
         "yaxis": "y2"
        },
        {
         "hoverinfo": "skip",
         "line": {
          "color": "blue",
          "width": 1
         },
         "mode": "lines",
         "showlegend": false,
         "type": "scatter",
         "x": [
          3,
          3
         ],
         "xaxis": "x2",
         "y": [
          0,
          0.6002363468201277
         ],
         "yaxis": "y2"
        },
        {
         "hoverinfo": "skip",
         "line": {
          "color": "blue",
          "width": 1
         },
         "mode": "lines",
         "showlegend": false,
         "type": "scatter",
         "x": [
          4,
          4
         ],
         "xaxis": "x2",
         "y": [
          0,
          0.48861502571445253
         ],
         "yaxis": "y2"
        },
        {
         "hoverinfo": "skip",
         "line": {
          "color": "blue",
          "width": 1
         },
         "mode": "lines",
         "showlegend": false,
         "type": "scatter",
         "x": [
          5,
          5
         ],
         "xaxis": "x2",
         "y": [
          0,
          0.42142391378270994
         ],
         "yaxis": "y2"
        },
        {
         "hoverinfo": "skip",
         "line": {
          "color": "blue",
          "width": 1
         },
         "mode": "lines",
         "showlegend": false,
         "type": "scatter",
         "x": [
          6,
          6
         ],
         "xaxis": "x2",
         "y": [
          0,
          0.3550281901622226
         ],
         "yaxis": "y2"
        },
        {
         "hoverinfo": "skip",
         "line": {
          "color": "blue",
          "width": 1
         },
         "mode": "lines",
         "showlegend": false,
         "type": "scatter",
         "x": [
          7,
          7
         ],
         "xaxis": "x2",
         "y": [
          0,
          0.2848591818431472
         ],
         "yaxis": "y2"
        },
        {
         "hoverinfo": "skip",
         "line": {
          "color": "blue",
          "width": 1
         },
         "mode": "lines",
         "showlegend": false,
         "type": "scatter",
         "x": [
          8,
          8
         ],
         "xaxis": "x2",
         "y": [
          0,
          0.22066614768312637
         ],
         "yaxis": "y2"
        },
        {
         "hoverinfo": "skip",
         "line": {
          "color": "blue",
          "width": 1
         },
         "mode": "lines",
         "showlegend": false,
         "type": "scatter",
         "x": [
          9,
          9
         ],
         "xaxis": "x2",
         "y": [
          0,
          0.1587400054346835
         ],
         "yaxis": "y2"
        },
        {
         "hoverinfo": "skip",
         "line": {
          "color": "blue",
          "width": 1
         },
         "mode": "lines",
         "showlegend": false,
         "type": "scatter",
         "x": [
          10,
          10
         ],
         "xaxis": "x2",
         "y": [
          0,
          0.10674582196733522
         ],
         "yaxis": "y2"
        },
        {
         "hoverinfo": "skip",
         "line": {
          "color": "blue",
          "width": 1
         },
         "mode": "lines",
         "showlegend": false,
         "type": "scatter",
         "x": [
          11,
          11
         ],
         "xaxis": "x2",
         "y": [
          0,
          0.07333392398543705
         ],
         "yaxis": "y2"
        },
        {
         "hoverinfo": "skip",
         "line": {
          "color": "blue",
          "width": 1
         },
         "mode": "lines",
         "showlegend": false,
         "type": "scatter",
         "x": [
          12,
          12
         ],
         "xaxis": "x2",
         "y": [
          0,
          0.04114738297123067
         ],
         "yaxis": "y2"
        },
        {
         "hoverinfo": "skip",
         "line": {
          "color": "blue",
          "width": 1
         },
         "mode": "lines",
         "showlegend": false,
         "type": "scatter",
         "x": [
          13,
          13
         ],
         "xaxis": "x2",
         "y": [
          0,
          0.011814909575960333
         ],
         "yaxis": "y2"
        },
        {
         "hoverinfo": "skip",
         "line": {
          "color": "blue",
          "width": 1
         },
         "mode": "lines",
         "showlegend": false,
         "type": "scatter",
         "x": [
          14,
          14
         ],
         "xaxis": "x2",
         "y": [
          0,
          -0.015157342996375632
         ],
         "yaxis": "y2"
        },
        {
         "hoverinfo": "skip",
         "line": {
          "color": "blue",
          "width": 1
         },
         "mode": "lines",
         "showlegend": false,
         "type": "scatter",
         "x": [
          15,
          15
         ],
         "xaxis": "x2",
         "y": [
          0,
          -0.04338842384821295
         ],
         "yaxis": "y2"
        },
        {
         "hoverinfo": "skip",
         "line": {
          "color": "blue",
          "width": 1
         },
         "mode": "lines",
         "showlegend": false,
         "type": "scatter",
         "x": [
          16,
          16
         ],
         "xaxis": "x2",
         "y": [
          0,
          -0.06750887576765705
         ],
         "yaxis": "y2"
        },
        {
         "hoverinfo": "skip",
         "line": {
          "color": "blue",
          "width": 1
         },
         "mode": "lines",
         "showlegend": false,
         "type": "scatter",
         "x": [
          17,
          17
         ],
         "xaxis": "x2",
         "y": [
          0,
          -0.07832046585894664
         ],
         "yaxis": "y2"
        },
        {
         "hoverinfo": "skip",
         "line": {
          "color": "blue",
          "width": 1
         },
         "mode": "lines",
         "showlegend": false,
         "type": "scatter",
         "x": [
          18,
          18
         ],
         "xaxis": "x2",
         "y": [
          0,
          -0.09210872349229657
         ],
         "yaxis": "y2"
        },
        {
         "hoverinfo": "skip",
         "line": {
          "color": "blue",
          "width": 1
         },
         "mode": "lines",
         "showlegend": false,
         "type": "scatter",
         "x": [
          19,
          19
         ],
         "xaxis": "x2",
         "y": [
          0,
          -0.10071400382666408
         ],
         "yaxis": "y2"
        },
        {
         "hoverinfo": "skip",
         "line": {
          "color": "blue",
          "width": 1
         },
         "mode": "lines",
         "showlegend": false,
         "type": "scatter",
         "x": [
          20,
          20
         ],
         "xaxis": "x2",
         "y": [
          0,
          -0.10833700229745442
         ],
         "yaxis": "y2"
        },
        {
         "hoverinfo": "skip",
         "line": {
          "color": "blue",
          "width": 1
         },
         "mode": "lines",
         "showlegend": false,
         "type": "scatter",
         "x": [
          21,
          21
         ],
         "xaxis": "x2",
         "y": [
          0,
          -0.11550213904810393
         ],
         "yaxis": "y2"
        },
        {
         "hoverinfo": "skip",
         "line": {
          "color": "blue",
          "width": 1
         },
         "mode": "lines",
         "showlegend": false,
         "type": "scatter",
         "x": [
          22,
          22
         ],
         "xaxis": "x2",
         "y": [
          0,
          -0.12463028811715736
         ],
         "yaxis": "y2"
        },
        {
         "hoverinfo": "skip",
         "line": {
          "color": "blue",
          "width": 1
         },
         "mode": "lines",
         "showlegend": false,
         "type": "scatter",
         "x": [
          23,
          23
         ],
         "xaxis": "x2",
         "y": [
          0,
          -0.13391176597227064
         ],
         "yaxis": "y2"
        },
        {
         "hoverinfo": "skip",
         "line": {
          "color": "blue",
          "width": 1
         },
         "mode": "lines",
         "showlegend": false,
         "type": "scatter",
         "x": [
          24,
          24
         ],
         "xaxis": "x2",
         "y": [
          0,
          -0.1496630804011535
         ],
         "yaxis": "y2"
        },
        {
         "hoverinfo": "skip",
         "line": {
          "color": "blue",
          "width": 1
         },
         "mode": "lines",
         "showlegend": false,
         "type": "scatter",
         "x": [
          25,
          25
         ],
         "xaxis": "x2",
         "y": [
          0,
          -0.16612036997886692
         ],
         "yaxis": "y2"
        },
        {
         "hoverinfo": "skip",
         "line": {
          "color": "blue",
          "width": 1
         },
         "mode": "lines",
         "showlegend": false,
         "type": "scatter",
         "x": [
          26,
          26
         ],
         "xaxis": "x2",
         "y": [
          0,
          -0.17883496139437524
         ],
         "yaxis": "y2"
        },
        {
         "hoverinfo": "skip",
         "line": {
          "color": "blue",
          "width": 1
         },
         "mode": "lines",
         "showlegend": false,
         "type": "scatter",
         "x": [
          27,
          27
         ],
         "xaxis": "x2",
         "y": [
          0,
          -0.19875617567882523
         ],
         "yaxis": "y2"
        },
        {
         "hoverinfo": "skip",
         "line": {
          "color": "blue",
          "width": 1
         },
         "mode": "lines",
         "showlegend": false,
         "type": "scatter",
         "x": [
          28,
          28
         ],
         "xaxis": "x2",
         "y": [
          0,
          -0.2158525555501488
         ],
         "yaxis": "y2"
        },
        {
         "hoverinfo": "skip",
         "line": {
          "color": "blue",
          "width": 1
         },
         "mode": "lines",
         "showlegend": false,
         "type": "scatter",
         "x": [
          29,
          29
         ],
         "xaxis": "x2",
         "y": [
          0,
          -0.22500574859160039
         ],
         "yaxis": "y2"
        },
        {
         "hoverinfo": "skip",
         "line": {
          "color": "blue",
          "width": 1
         },
         "mode": "lines",
         "showlegend": false,
         "type": "scatter",
         "x": [
          30,
          30
         ],
         "xaxis": "x2",
         "y": [
          0,
          -0.23851285026519167
         ],
         "yaxis": "y2"
        },
        {
         "hovertemplate": "Lag %{x}<br>ACF: %{y:.2f}<extra></extra>",
         "line": {
          "color": "blue",
          "width": 1
         },
         "marker": {
          "color": "blue",
          "size": 5
         },
         "mode": "lines+markers",
         "name": "PRO27826_org",
         "type": "scatter",
         "x": [
          0,
          1,
          2,
          3,
          4,
          5,
          6,
          7,
          8,
          9,
          10,
          11,
          12,
          13,
          14,
          15,
          16,
          17,
          18,
          19,
          20,
          21,
          22,
          23,
          24,
          25,
          26,
          27,
          28,
          29,
          30
         ],
         "xaxis": "x3",
         "y": [
          1,
          0.25659254582514984,
          0.0017381198324441897,
          0.08301853056625878,
          0.08625702887308286,
          -0.16180892007975375,
          -0.038358826147917746,
          -0.2006178034406212,
          0.08054172447686038,
          -0.022334048091836714,
          -0.2918142809322781,
          -0.2062967190673421,
          0.2651142800323183,
          -0.0835580545299429,
          -0.15825754097250605,
          0.0073870774071187455,
          0.17168502966834887,
          0.029310937686243023,
          0.08316818589801207,
          -0.10966591983972461,
          0.05877235337495877,
          0.0018526112308781596,
          -0.1663436500739177,
          -0.1468829143985309,
          0.18470254800902616,
          -0.023822327542705402,
          -0.05093313325841715,
          -0.04511689057086932,
          0.023522591134001573,
          0.01134413666792819,
          0.020977088109566593
         ],
         "yaxis": "y3"
        },
        {
         "hoverinfo": "skip",
         "line": {
          "color": "blue",
          "width": 1
         },
         "mode": "lines",
         "showlegend": false,
         "type": "scatter",
         "x": [
          0,
          0
         ],
         "xaxis": "x3",
         "y": [
          0,
          1
         ],
         "yaxis": "y3"
        },
        {
         "hoverinfo": "skip",
         "line": {
          "color": "blue",
          "width": 1
         },
         "mode": "lines",
         "showlegend": false,
         "type": "scatter",
         "x": [
          1,
          1
         ],
         "xaxis": "x3",
         "y": [
          0,
          0.25659254582514984
         ],
         "yaxis": "y3"
        },
        {
         "hoverinfo": "skip",
         "line": {
          "color": "blue",
          "width": 1
         },
         "mode": "lines",
         "showlegend": false,
         "type": "scatter",
         "x": [
          2,
          2
         ],
         "xaxis": "x3",
         "y": [
          0,
          0.0017381198324441897
         ],
         "yaxis": "y3"
        },
        {
         "hoverinfo": "skip",
         "line": {
          "color": "blue",
          "width": 1
         },
         "mode": "lines",
         "showlegend": false,
         "type": "scatter",
         "x": [
          3,
          3
         ],
         "xaxis": "x3",
         "y": [
          0,
          0.08301853056625878
         ],
         "yaxis": "y3"
        },
        {
         "hoverinfo": "skip",
         "line": {
          "color": "blue",
          "width": 1
         },
         "mode": "lines",
         "showlegend": false,
         "type": "scatter",
         "x": [
          4,
          4
         ],
         "xaxis": "x3",
         "y": [
          0,
          0.08625702887308286
         ],
         "yaxis": "y3"
        },
        {
         "hoverinfo": "skip",
         "line": {
          "color": "blue",
          "width": 1
         },
         "mode": "lines",
         "showlegend": false,
         "type": "scatter",
         "x": [
          5,
          5
         ],
         "xaxis": "x3",
         "y": [
          0,
          -0.16180892007975375
         ],
         "yaxis": "y3"
        },
        {
         "hoverinfo": "skip",
         "line": {
          "color": "blue",
          "width": 1
         },
         "mode": "lines",
         "showlegend": false,
         "type": "scatter",
         "x": [
          6,
          6
         ],
         "xaxis": "x3",
         "y": [
          0,
          -0.038358826147917746
         ],
         "yaxis": "y3"
        },
        {
         "hoverinfo": "skip",
         "line": {
          "color": "blue",
          "width": 1
         },
         "mode": "lines",
         "showlegend": false,
         "type": "scatter",
         "x": [
          7,
          7
         ],
         "xaxis": "x3",
         "y": [
          0,
          -0.2006178034406212
         ],
         "yaxis": "y3"
        },
        {
         "hoverinfo": "skip",
         "line": {
          "color": "blue",
          "width": 1
         },
         "mode": "lines",
         "showlegend": false,
         "type": "scatter",
         "x": [
          8,
          8
         ],
         "xaxis": "x3",
         "y": [
          0,
          0.08054172447686038
         ],
         "yaxis": "y3"
        },
        {
         "hoverinfo": "skip",
         "line": {
          "color": "blue",
          "width": 1
         },
         "mode": "lines",
         "showlegend": false,
         "type": "scatter",
         "x": [
          9,
          9
         ],
         "xaxis": "x3",
         "y": [
          0,
          -0.022334048091836714
         ],
         "yaxis": "y3"
        },
        {
         "hoverinfo": "skip",
         "line": {
          "color": "blue",
          "width": 1
         },
         "mode": "lines",
         "showlegend": false,
         "type": "scatter",
         "x": [
          10,
          10
         ],
         "xaxis": "x3",
         "y": [
          0,
          -0.2918142809322781
         ],
         "yaxis": "y3"
        },
        {
         "hoverinfo": "skip",
         "line": {
          "color": "blue",
          "width": 1
         },
         "mode": "lines",
         "showlegend": false,
         "type": "scatter",
         "x": [
          11,
          11
         ],
         "xaxis": "x3",
         "y": [
          0,
          -0.2062967190673421
         ],
         "yaxis": "y3"
        },
        {
         "hoverinfo": "skip",
         "line": {
          "color": "blue",
          "width": 1
         },
         "mode": "lines",
         "showlegend": false,
         "type": "scatter",
         "x": [
          12,
          12
         ],
         "xaxis": "x3",
         "y": [
          0,
          0.2651142800323183
         ],
         "yaxis": "y3"
        },
        {
         "hoverinfo": "skip",
         "line": {
          "color": "blue",
          "width": 1
         },
         "mode": "lines",
         "showlegend": false,
         "type": "scatter",
         "x": [
          13,
          13
         ],
         "xaxis": "x3",
         "y": [
          0,
          -0.0835580545299429
         ],
         "yaxis": "y3"
        },
        {
         "hoverinfo": "skip",
         "line": {
          "color": "blue",
          "width": 1
         },
         "mode": "lines",
         "showlegend": false,
         "type": "scatter",
         "x": [
          14,
          14
         ],
         "xaxis": "x3",
         "y": [
          0,
          -0.15825754097250605
         ],
         "yaxis": "y3"
        },
        {
         "hoverinfo": "skip",
         "line": {
          "color": "blue",
          "width": 1
         },
         "mode": "lines",
         "showlegend": false,
         "type": "scatter",
         "x": [
          15,
          15
         ],
         "xaxis": "x3",
         "y": [
          0,
          0.0073870774071187455
         ],
         "yaxis": "y3"
        },
        {
         "hoverinfo": "skip",
         "line": {
          "color": "blue",
          "width": 1
         },
         "mode": "lines",
         "showlegend": false,
         "type": "scatter",
         "x": [
          16,
          16
         ],
         "xaxis": "x3",
         "y": [
          0,
          0.17168502966834887
         ],
         "yaxis": "y3"
        },
        {
         "hoverinfo": "skip",
         "line": {
          "color": "blue",
          "width": 1
         },
         "mode": "lines",
         "showlegend": false,
         "type": "scatter",
         "x": [
          17,
          17
         ],
         "xaxis": "x3",
         "y": [
          0,
          0.029310937686243023
         ],
         "yaxis": "y3"
        },
        {
         "hoverinfo": "skip",
         "line": {
          "color": "blue",
          "width": 1
         },
         "mode": "lines",
         "showlegend": false,
         "type": "scatter",
         "x": [
          18,
          18
         ],
         "xaxis": "x3",
         "y": [
          0,
          0.08316818589801207
         ],
         "yaxis": "y3"
        },
        {
         "hoverinfo": "skip",
         "line": {
          "color": "blue",
          "width": 1
         },
         "mode": "lines",
         "showlegend": false,
         "type": "scatter",
         "x": [
          19,
          19
         ],
         "xaxis": "x3",
         "y": [
          0,
          -0.10966591983972461
         ],
         "yaxis": "y3"
        },
        {
         "hoverinfo": "skip",
         "line": {
          "color": "blue",
          "width": 1
         },
         "mode": "lines",
         "showlegend": false,
         "type": "scatter",
         "x": [
          20,
          20
         ],
         "xaxis": "x3",
         "y": [
          0,
          0.05877235337495877
         ],
         "yaxis": "y3"
        },
        {
         "hoverinfo": "skip",
         "line": {
          "color": "blue",
          "width": 1
         },
         "mode": "lines",
         "showlegend": false,
         "type": "scatter",
         "x": [
          21,
          21
         ],
         "xaxis": "x3",
         "y": [
          0,
          0.0018526112308781596
         ],
         "yaxis": "y3"
        },
        {
         "hoverinfo": "skip",
         "line": {
          "color": "blue",
          "width": 1
         },
         "mode": "lines",
         "showlegend": false,
         "type": "scatter",
         "x": [
          22,
          22
         ],
         "xaxis": "x3",
         "y": [
          0,
          -0.1663436500739177
         ],
         "yaxis": "y3"
        },
        {
         "hoverinfo": "skip",
         "line": {
          "color": "blue",
          "width": 1
         },
         "mode": "lines",
         "showlegend": false,
         "type": "scatter",
         "x": [
          23,
          23
         ],
         "xaxis": "x3",
         "y": [
          0,
          -0.1468829143985309
         ],
         "yaxis": "y3"
        },
        {
         "hoverinfo": "skip",
         "line": {
          "color": "blue",
          "width": 1
         },
         "mode": "lines",
         "showlegend": false,
         "type": "scatter",
         "x": [
          24,
          24
         ],
         "xaxis": "x3",
         "y": [
          0,
          0.18470254800902616
         ],
         "yaxis": "y3"
        },
        {
         "hoverinfo": "skip",
         "line": {
          "color": "blue",
          "width": 1
         },
         "mode": "lines",
         "showlegend": false,
         "type": "scatter",
         "x": [
          25,
          25
         ],
         "xaxis": "x3",
         "y": [
          0,
          -0.023822327542705402
         ],
         "yaxis": "y3"
        },
        {
         "hoverinfo": "skip",
         "line": {
          "color": "blue",
          "width": 1
         },
         "mode": "lines",
         "showlegend": false,
         "type": "scatter",
         "x": [
          26,
          26
         ],
         "xaxis": "x3",
         "y": [
          0,
          -0.05093313325841715
         ],
         "yaxis": "y3"
        },
        {
         "hoverinfo": "skip",
         "line": {
          "color": "blue",
          "width": 1
         },
         "mode": "lines",
         "showlegend": false,
         "type": "scatter",
         "x": [
          27,
          27
         ],
         "xaxis": "x3",
         "y": [
          0,
          -0.04511689057086932
         ],
         "yaxis": "y3"
        },
        {
         "hoverinfo": "skip",
         "line": {
          "color": "blue",
          "width": 1
         },
         "mode": "lines",
         "showlegend": false,
         "type": "scatter",
         "x": [
          28,
          28
         ],
         "xaxis": "x3",
         "y": [
          0,
          0.023522591134001573
         ],
         "yaxis": "y3"
        },
        {
         "hoverinfo": "skip",
         "line": {
          "color": "blue",
          "width": 1
         },
         "mode": "lines",
         "showlegend": false,
         "type": "scatter",
         "x": [
          29,
          29
         ],
         "xaxis": "x3",
         "y": [
          0,
          0.01134413666792819
         ],
         "yaxis": "y3"
        },
        {
         "hoverinfo": "skip",
         "line": {
          "color": "blue",
          "width": 1
         },
         "mode": "lines",
         "showlegend": false,
         "type": "scatter",
         "x": [
          30,
          30
         ],
         "xaxis": "x3",
         "y": [
          0,
          0.020977088109566593
         ],
         "yaxis": "y3"
        },
        {
         "hovertemplate": "Lag %{x}<br>ACF: %{y:.2f}<extra></extra>",
         "line": {
          "color": "blue",
          "width": 1
         },
         "marker": {
          "color": "blue",
          "size": 5
         },
         "mode": "lines+markers",
         "name": "MAB_ELE_PRO276",
         "type": "scatter",
         "x": [
          0,
          1,
          2,
          3,
          4,
          5,
          6,
          7,
          8,
          9,
          10,
          11,
          12,
          13,
          14,
          15,
          16,
          17,
          18,
          19,
          20,
          21,
          22,
          23,
          24,
          25,
          26,
          27,
          28,
          29,
          30
         ],
         "xaxis": "x4",
         "y": [
          1,
          0.23274806383261293,
          0.0012860817843069112,
          0.3559723649006653,
          0.19916409215010575,
          0.04373804709345473,
          0.12356677944202808,
          -0.10642309279760119,
          0.04498476920126192,
          0.14217858644452844,
          -0.27084875531291486,
          -0.14188447046258185,
          0.28765171941129347,
          -0.17922088842886194,
          -0.3010988878249128,
          -0.04366268239923917,
          -0.1308674146968022,
          -0.22661096588574894,
          -0.17233975084991027,
          -0.23047370141684026,
          -0.06642071089878464,
          0.010847689000762039,
          -0.18648842730605983,
          -0.04445802935957821,
          0.2157986086321736,
          -0.025973604580071846,
          -0.10762018115119373,
          -0.01779182557281162,
          0.038003120960268,
          0.027068961418586942,
          0.010611478911449505
         ],
         "yaxis": "y4"
        },
        {
         "hoverinfo": "skip",
         "line": {
          "color": "blue",
          "width": 1
         },
         "mode": "lines",
         "showlegend": false,
         "type": "scatter",
         "x": [
          0,
          0
         ],
         "xaxis": "x4",
         "y": [
          0,
          1
         ],
         "yaxis": "y4"
        },
        {
         "hoverinfo": "skip",
         "line": {
          "color": "blue",
          "width": 1
         },
         "mode": "lines",
         "showlegend": false,
         "type": "scatter",
         "x": [
          1,
          1
         ],
         "xaxis": "x4",
         "y": [
          0,
          0.23274806383261293
         ],
         "yaxis": "y4"
        },
        {
         "hoverinfo": "skip",
         "line": {
          "color": "blue",
          "width": 1
         },
         "mode": "lines",
         "showlegend": false,
         "type": "scatter",
         "x": [
          2,
          2
         ],
         "xaxis": "x4",
         "y": [
          0,
          0.0012860817843069112
         ],
         "yaxis": "y4"
        },
        {
         "hoverinfo": "skip",
         "line": {
          "color": "blue",
          "width": 1
         },
         "mode": "lines",
         "showlegend": false,
         "type": "scatter",
         "x": [
          3,
          3
         ],
         "xaxis": "x4",
         "y": [
          0,
          0.3559723649006653
         ],
         "yaxis": "y4"
        },
        {
         "hoverinfo": "skip",
         "line": {
          "color": "blue",
          "width": 1
         },
         "mode": "lines",
         "showlegend": false,
         "type": "scatter",
         "x": [
          4,
          4
         ],
         "xaxis": "x4",
         "y": [
          0,
          0.19916409215010575
         ],
         "yaxis": "y4"
        },
        {
         "hoverinfo": "skip",
         "line": {
          "color": "blue",
          "width": 1
         },
         "mode": "lines",
         "showlegend": false,
         "type": "scatter",
         "x": [
          5,
          5
         ],
         "xaxis": "x4",
         "y": [
          0,
          0.04373804709345473
         ],
         "yaxis": "y4"
        },
        {
         "hoverinfo": "skip",
         "line": {
          "color": "blue",
          "width": 1
         },
         "mode": "lines",
         "showlegend": false,
         "type": "scatter",
         "x": [
          6,
          6
         ],
         "xaxis": "x4",
         "y": [
          0,
          0.12356677944202808
         ],
         "yaxis": "y4"
        },
        {
         "hoverinfo": "skip",
         "line": {
          "color": "blue",
          "width": 1
         },
         "mode": "lines",
         "showlegend": false,
         "type": "scatter",
         "x": [
          7,
          7
         ],
         "xaxis": "x4",
         "y": [
          0,
          -0.10642309279760119
         ],
         "yaxis": "y4"
        },
        {
         "hoverinfo": "skip",
         "line": {
          "color": "blue",
          "width": 1
         },
         "mode": "lines",
         "showlegend": false,
         "type": "scatter",
         "x": [
          8,
          8
         ],
         "xaxis": "x4",
         "y": [
          0,
          0.04498476920126192
         ],
         "yaxis": "y4"
        },
        {
         "hoverinfo": "skip",
         "line": {
          "color": "blue",
          "width": 1
         },
         "mode": "lines",
         "showlegend": false,
         "type": "scatter",
         "x": [
          9,
          9
         ],
         "xaxis": "x4",
         "y": [
          0,
          0.14217858644452844
         ],
         "yaxis": "y4"
        },
        {
         "hoverinfo": "skip",
         "line": {
          "color": "blue",
          "width": 1
         },
         "mode": "lines",
         "showlegend": false,
         "type": "scatter",
         "x": [
          10,
          10
         ],
         "xaxis": "x4",
         "y": [
          0,
          -0.27084875531291486
         ],
         "yaxis": "y4"
        },
        {
         "hoverinfo": "skip",
         "line": {
          "color": "blue",
          "width": 1
         },
         "mode": "lines",
         "showlegend": false,
         "type": "scatter",
         "x": [
          11,
          11
         ],
         "xaxis": "x4",
         "y": [
          0,
          -0.14188447046258185
         ],
         "yaxis": "y4"
        },
        {
         "hoverinfo": "skip",
         "line": {
          "color": "blue",
          "width": 1
         },
         "mode": "lines",
         "showlegend": false,
         "type": "scatter",
         "x": [
          12,
          12
         ],
         "xaxis": "x4",
         "y": [
          0,
          0.28765171941129347
         ],
         "yaxis": "y4"
        },
        {
         "hoverinfo": "skip",
         "line": {
          "color": "blue",
          "width": 1
         },
         "mode": "lines",
         "showlegend": false,
         "type": "scatter",
         "x": [
          13,
          13
         ],
         "xaxis": "x4",
         "y": [
          0,
          -0.17922088842886194
         ],
         "yaxis": "y4"
        },
        {
         "hoverinfo": "skip",
         "line": {
          "color": "blue",
          "width": 1
         },
         "mode": "lines",
         "showlegend": false,
         "type": "scatter",
         "x": [
          14,
          14
         ],
         "xaxis": "x4",
         "y": [
          0,
          -0.3010988878249128
         ],
         "yaxis": "y4"
        },
        {
         "hoverinfo": "skip",
         "line": {
          "color": "blue",
          "width": 1
         },
         "mode": "lines",
         "showlegend": false,
         "type": "scatter",
         "x": [
          15,
          15
         ],
         "xaxis": "x4",
         "y": [
          0,
          -0.04366268239923917
         ],
         "yaxis": "y4"
        },
        {
         "hoverinfo": "skip",
         "line": {
          "color": "blue",
          "width": 1
         },
         "mode": "lines",
         "showlegend": false,
         "type": "scatter",
         "x": [
          16,
          16
         ],
         "xaxis": "x4",
         "y": [
          0,
          -0.1308674146968022
         ],
         "yaxis": "y4"
        },
        {
         "hoverinfo": "skip",
         "line": {
          "color": "blue",
          "width": 1
         },
         "mode": "lines",
         "showlegend": false,
         "type": "scatter",
         "x": [
          17,
          17
         ],
         "xaxis": "x4",
         "y": [
          0,
          -0.22661096588574894
         ],
         "yaxis": "y4"
        },
        {
         "hoverinfo": "skip",
         "line": {
          "color": "blue",
          "width": 1
         },
         "mode": "lines",
         "showlegend": false,
         "type": "scatter",
         "x": [
          18,
          18
         ],
         "xaxis": "x4",
         "y": [
          0,
          -0.17233975084991027
         ],
         "yaxis": "y4"
        },
        {
         "hoverinfo": "skip",
         "line": {
          "color": "blue",
          "width": 1
         },
         "mode": "lines",
         "showlegend": false,
         "type": "scatter",
         "x": [
          19,
          19
         ],
         "xaxis": "x4",
         "y": [
          0,
          -0.23047370141684026
         ],
         "yaxis": "y4"
        },
        {
         "hoverinfo": "skip",
         "line": {
          "color": "blue",
          "width": 1
         },
         "mode": "lines",
         "showlegend": false,
         "type": "scatter",
         "x": [
          20,
          20
         ],
         "xaxis": "x4",
         "y": [
          0,
          -0.06642071089878464
         ],
         "yaxis": "y4"
        },
        {
         "hoverinfo": "skip",
         "line": {
          "color": "blue",
          "width": 1
         },
         "mode": "lines",
         "showlegend": false,
         "type": "scatter",
         "x": [
          21,
          21
         ],
         "xaxis": "x4",
         "y": [
          0,
          0.010847689000762039
         ],
         "yaxis": "y4"
        },
        {
         "hoverinfo": "skip",
         "line": {
          "color": "blue",
          "width": 1
         },
         "mode": "lines",
         "showlegend": false,
         "type": "scatter",
         "x": [
          22,
          22
         ],
         "xaxis": "x4",
         "y": [
          0,
          -0.18648842730605983
         ],
         "yaxis": "y4"
        },
        {
         "hoverinfo": "skip",
         "line": {
          "color": "blue",
          "width": 1
         },
         "mode": "lines",
         "showlegend": false,
         "type": "scatter",
         "x": [
          23,
          23
         ],
         "xaxis": "x4",
         "y": [
          0,
          -0.04445802935957821
         ],
         "yaxis": "y4"
        },
        {
         "hoverinfo": "skip",
         "line": {
          "color": "blue",
          "width": 1
         },
         "mode": "lines",
         "showlegend": false,
         "type": "scatter",
         "x": [
          24,
          24
         ],
         "xaxis": "x4",
         "y": [
          0,
          0.2157986086321736
         ],
         "yaxis": "y4"
        },
        {
         "hoverinfo": "skip",
         "line": {
          "color": "blue",
          "width": 1
         },
         "mode": "lines",
         "showlegend": false,
         "type": "scatter",
         "x": [
          25,
          25
         ],
         "xaxis": "x4",
         "y": [
          0,
          -0.025973604580071846
         ],
         "yaxis": "y4"
        },
        {
         "hoverinfo": "skip",
         "line": {
          "color": "blue",
          "width": 1
         },
         "mode": "lines",
         "showlegend": false,
         "type": "scatter",
         "x": [
          26,
          26
         ],
         "xaxis": "x4",
         "y": [
          0,
          -0.10762018115119373
         ],
         "yaxis": "y4"
        },
        {
         "hoverinfo": "skip",
         "line": {
          "color": "blue",
          "width": 1
         },
         "mode": "lines",
         "showlegend": false,
         "type": "scatter",
         "x": [
          27,
          27
         ],
         "xaxis": "x4",
         "y": [
          0,
          -0.01779182557281162
         ],
         "yaxis": "y4"
        },
        {
         "hoverinfo": "skip",
         "line": {
          "color": "blue",
          "width": 1
         },
         "mode": "lines",
         "showlegend": false,
         "type": "scatter",
         "x": [
          28,
          28
         ],
         "xaxis": "x4",
         "y": [
          0,
          0.038003120960268
         ],
         "yaxis": "y4"
        },
        {
         "hoverinfo": "skip",
         "line": {
          "color": "blue",
          "width": 1
         },
         "mode": "lines",
         "showlegend": false,
         "type": "scatter",
         "x": [
          29,
          29
         ],
         "xaxis": "x4",
         "y": [
          0,
          0.027068961418586942
         ],
         "yaxis": "y4"
        },
        {
         "hoverinfo": "skip",
         "line": {
          "color": "blue",
          "width": 1
         },
         "mode": "lines",
         "showlegend": false,
         "type": "scatter",
         "x": [
          30,
          30
         ],
         "xaxis": "x4",
         "y": [
          0,
          0.010611478911449505
         ],
         "yaxis": "y4"
        },
        {
         "hovertemplate": "Lag %{x}<br>ACF: %{y:.2f}<extra></extra>",
         "line": {
          "color": "blue",
          "width": 1
         },
         "marker": {
          "color": "blue",
          "size": 5
         },
         "mode": "lines+markers",
         "name": "MAB_ELE_SHP1100",
         "type": "scatter",
         "x": [
          0,
          1,
          2,
          3,
          4,
          5,
          6,
          7,
          8,
          9,
          10,
          11,
          12,
          13,
          14,
          15,
          16,
          17,
          18,
          19,
          20,
          21,
          22,
          23,
          24,
          25,
          26,
          27,
          28,
          29,
          30
         ],
         "xaxis": "x5",
         "y": [
          1,
          0.3028456423909041,
          0.08356011655210854,
          0.45098605667012553,
          0.16724548304015158,
          0.09087498552219211,
          0.2856600340332446,
          -0.05647459182439212,
          -0.03111518096836434,
          0.22980045983310846,
          -0.1865310023517662,
          -0.15263131500597918,
          0.2854109103081652,
          -0.17253524968841516,
          -0.27026038301361655,
          0.010703804465893564,
          -0.13110732229168945,
          -0.19838588655791253,
          -0.08167401935005285,
          -0.29600560298436146,
          -0.2716652286440793,
          -0.06998148787313854,
          -0.2796511393316096,
          -0.22685885806861006,
          0.0792546882760953,
          -0.0729802680987728,
          -0.1097815408660641,
          0.00744521241414354,
          -0.013498573845970951,
          0.0014277606143646632,
          0.06584124420169997
         ],
         "yaxis": "y5"
        },
        {
         "hoverinfo": "skip",
         "line": {
          "color": "blue",
          "width": 1
         },
         "mode": "lines",
         "showlegend": false,
         "type": "scatter",
         "x": [
          0,
          0
         ],
         "xaxis": "x5",
         "y": [
          0,
          1
         ],
         "yaxis": "y5"
        },
        {
         "hoverinfo": "skip",
         "line": {
          "color": "blue",
          "width": 1
         },
         "mode": "lines",
         "showlegend": false,
         "type": "scatter",
         "x": [
          1,
          1
         ],
         "xaxis": "x5",
         "y": [
          0,
          0.3028456423909041
         ],
         "yaxis": "y5"
        },
        {
         "hoverinfo": "skip",
         "line": {
          "color": "blue",
          "width": 1
         },
         "mode": "lines",
         "showlegend": false,
         "type": "scatter",
         "x": [
          2,
          2
         ],
         "xaxis": "x5",
         "y": [
          0,
          0.08356011655210854
         ],
         "yaxis": "y5"
        },
        {
         "hoverinfo": "skip",
         "line": {
          "color": "blue",
          "width": 1
         },
         "mode": "lines",
         "showlegend": false,
         "type": "scatter",
         "x": [
          3,
          3
         ],
         "xaxis": "x5",
         "y": [
          0,
          0.45098605667012553
         ],
         "yaxis": "y5"
        },
        {
         "hoverinfo": "skip",
         "line": {
          "color": "blue",
          "width": 1
         },
         "mode": "lines",
         "showlegend": false,
         "type": "scatter",
         "x": [
          4,
          4
         ],
         "xaxis": "x5",
         "y": [
          0,
          0.16724548304015158
         ],
         "yaxis": "y5"
        },
        {
         "hoverinfo": "skip",
         "line": {
          "color": "blue",
          "width": 1
         },
         "mode": "lines",
         "showlegend": false,
         "type": "scatter",
         "x": [
          5,
          5
         ],
         "xaxis": "x5",
         "y": [
          0,
          0.09087498552219211
         ],
         "yaxis": "y5"
        },
        {
         "hoverinfo": "skip",
         "line": {
          "color": "blue",
          "width": 1
         },
         "mode": "lines",
         "showlegend": false,
         "type": "scatter",
         "x": [
          6,
          6
         ],
         "xaxis": "x5",
         "y": [
          0,
          0.2856600340332446
         ],
         "yaxis": "y5"
        },
        {
         "hoverinfo": "skip",
         "line": {
          "color": "blue",
          "width": 1
         },
         "mode": "lines",
         "showlegend": false,
         "type": "scatter",
         "x": [
          7,
          7
         ],
         "xaxis": "x5",
         "y": [
          0,
          -0.05647459182439212
         ],
         "yaxis": "y5"
        },
        {
         "hoverinfo": "skip",
         "line": {
          "color": "blue",
          "width": 1
         },
         "mode": "lines",
         "showlegend": false,
         "type": "scatter",
         "x": [
          8,
          8
         ],
         "xaxis": "x5",
         "y": [
          0,
          -0.03111518096836434
         ],
         "yaxis": "y5"
        },
        {
         "hoverinfo": "skip",
         "line": {
          "color": "blue",
          "width": 1
         },
         "mode": "lines",
         "showlegend": false,
         "type": "scatter",
         "x": [
          9,
          9
         ],
         "xaxis": "x5",
         "y": [
          0,
          0.22980045983310846
         ],
         "yaxis": "y5"
        },
        {
         "hoverinfo": "skip",
         "line": {
          "color": "blue",
          "width": 1
         },
         "mode": "lines",
         "showlegend": false,
         "type": "scatter",
         "x": [
          10,
          10
         ],
         "xaxis": "x5",
         "y": [
          0,
          -0.1865310023517662
         ],
         "yaxis": "y5"
        },
        {
         "hoverinfo": "skip",
         "line": {
          "color": "blue",
          "width": 1
         },
         "mode": "lines",
         "showlegend": false,
         "type": "scatter",
         "x": [
          11,
          11
         ],
         "xaxis": "x5",
         "y": [
          0,
          -0.15263131500597918
         ],
         "yaxis": "y5"
        },
        {
         "hoverinfo": "skip",
         "line": {
          "color": "blue",
          "width": 1
         },
         "mode": "lines",
         "showlegend": false,
         "type": "scatter",
         "x": [
          12,
          12
         ],
         "xaxis": "x5",
         "y": [
          0,
          0.2854109103081652
         ],
         "yaxis": "y5"
        },
        {
         "hoverinfo": "skip",
         "line": {
          "color": "blue",
          "width": 1
         },
         "mode": "lines",
         "showlegend": false,
         "type": "scatter",
         "x": [
          13,
          13
         ],
         "xaxis": "x5",
         "y": [
          0,
          -0.17253524968841516
         ],
         "yaxis": "y5"
        },
        {
         "hoverinfo": "skip",
         "line": {
          "color": "blue",
          "width": 1
         },
         "mode": "lines",
         "showlegend": false,
         "type": "scatter",
         "x": [
          14,
          14
         ],
         "xaxis": "x5",
         "y": [
          0,
          -0.27026038301361655
         ],
         "yaxis": "y5"
        },
        {
         "hoverinfo": "skip",
         "line": {
          "color": "blue",
          "width": 1
         },
         "mode": "lines",
         "showlegend": false,
         "type": "scatter",
         "x": [
          15,
          15
         ],
         "xaxis": "x5",
         "y": [
          0,
          0.010703804465893564
         ],
         "yaxis": "y5"
        },
        {
         "hoverinfo": "skip",
         "line": {
          "color": "blue",
          "width": 1
         },
         "mode": "lines",
         "showlegend": false,
         "type": "scatter",
         "x": [
          16,
          16
         ],
         "xaxis": "x5",
         "y": [
          0,
          -0.13110732229168945
         ],
         "yaxis": "y5"
        },
        {
         "hoverinfo": "skip",
         "line": {
          "color": "blue",
          "width": 1
         },
         "mode": "lines",
         "showlegend": false,
         "type": "scatter",
         "x": [
          17,
          17
         ],
         "xaxis": "x5",
         "y": [
          0,
          -0.19838588655791253
         ],
         "yaxis": "y5"
        },
        {
         "hoverinfo": "skip",
         "line": {
          "color": "blue",
          "width": 1
         },
         "mode": "lines",
         "showlegend": false,
         "type": "scatter",
         "x": [
          18,
          18
         ],
         "xaxis": "x5",
         "y": [
          0,
          -0.08167401935005285
         ],
         "yaxis": "y5"
        },
        {
         "hoverinfo": "skip",
         "line": {
          "color": "blue",
          "width": 1
         },
         "mode": "lines",
         "showlegend": false,
         "type": "scatter",
         "x": [
          19,
          19
         ],
         "xaxis": "x5",
         "y": [
          0,
          -0.29600560298436146
         ],
         "yaxis": "y5"
        },
        {
         "hoverinfo": "skip",
         "line": {
          "color": "blue",
          "width": 1
         },
         "mode": "lines",
         "showlegend": false,
         "type": "scatter",
         "x": [
          20,
          20
         ],
         "xaxis": "x5",
         "y": [
          0,
          -0.2716652286440793
         ],
         "yaxis": "y5"
        },
        {
         "hoverinfo": "skip",
         "line": {
          "color": "blue",
          "width": 1
         },
         "mode": "lines",
         "showlegend": false,
         "type": "scatter",
         "x": [
          21,
          21
         ],
         "xaxis": "x5",
         "y": [
          0,
          -0.06998148787313854
         ],
         "yaxis": "y5"
        },
        {
         "hoverinfo": "skip",
         "line": {
          "color": "blue",
          "width": 1
         },
         "mode": "lines",
         "showlegend": false,
         "type": "scatter",
         "x": [
          22,
          22
         ],
         "xaxis": "x5",
         "y": [
          0,
          -0.2796511393316096
         ],
         "yaxis": "y5"
        },
        {
         "hoverinfo": "skip",
         "line": {
          "color": "blue",
          "width": 1
         },
         "mode": "lines",
         "showlegend": false,
         "type": "scatter",
         "x": [
          23,
          23
         ],
         "xaxis": "x5",
         "y": [
          0,
          -0.22685885806861006
         ],
         "yaxis": "y5"
        },
        {
         "hoverinfo": "skip",
         "line": {
          "color": "blue",
          "width": 1
         },
         "mode": "lines",
         "showlegend": false,
         "type": "scatter",
         "x": [
          24,
          24
         ],
         "xaxis": "x5",
         "y": [
          0,
          0.0792546882760953
         ],
         "yaxis": "y5"
        },
        {
         "hoverinfo": "skip",
         "line": {
          "color": "blue",
          "width": 1
         },
         "mode": "lines",
         "showlegend": false,
         "type": "scatter",
         "x": [
          25,
          25
         ],
         "xaxis": "x5",
         "y": [
          0,
          -0.0729802680987728
         ],
         "yaxis": "y5"
        },
        {
         "hoverinfo": "skip",
         "line": {
          "color": "blue",
          "width": 1
         },
         "mode": "lines",
         "showlegend": false,
         "type": "scatter",
         "x": [
          26,
          26
         ],
         "xaxis": "x5",
         "y": [
          0,
          -0.1097815408660641
         ],
         "yaxis": "y5"
        },
        {
         "hoverinfo": "skip",
         "line": {
          "color": "blue",
          "width": 1
         },
         "mode": "lines",
         "showlegend": false,
         "type": "scatter",
         "x": [
          27,
          27
         ],
         "xaxis": "x5",
         "y": [
          0,
          0.00744521241414354
         ],
         "yaxis": "y5"
        },
        {
         "hoverinfo": "skip",
         "line": {
          "color": "blue",
          "width": 1
         },
         "mode": "lines",
         "showlegend": false,
         "type": "scatter",
         "x": [
          28,
          28
         ],
         "xaxis": "x5",
         "y": [
          0,
          -0.013498573845970951
         ],
         "yaxis": "y5"
        },
        {
         "hoverinfo": "skip",
         "line": {
          "color": "blue",
          "width": 1
         },
         "mode": "lines",
         "showlegend": false,
         "type": "scatter",
         "x": [
          29,
          29
         ],
         "xaxis": "x5",
         "y": [
          0,
          0.0014277606143646632
         ],
         "yaxis": "y5"
        },
        {
         "hoverinfo": "skip",
         "line": {
          "color": "blue",
          "width": 1
         },
         "mode": "lines",
         "showlegend": false,
         "type": "scatter",
         "x": [
          30,
          30
         ],
         "xaxis": "x5",
         "y": [
          0,
          0.06584124420169997
         ],
         "yaxis": "y5"
        },
        {
         "hovertemplate": "Lag %{x}<br>ACF: %{y:.2f}<extra></extra>",
         "line": {
          "color": "blue",
          "width": 1
         },
         "marker": {
          "color": "blue",
          "size": 5
         },
         "mode": "lines+markers",
         "name": "MAB_ELE_SHP392",
         "type": "scatter",
         "x": [
          0,
          1,
          2,
          3,
          4,
          5,
          6,
          7,
          8,
          9,
          10,
          11,
          12,
          13,
          14,
          15,
          16,
          17,
          18,
          19,
          20,
          21,
          22,
          23,
          24,
          25,
          26,
          27,
          28,
          29,
          30
         ],
         "xaxis": "x6",
         "y": [
          1,
          0.08268743073437997,
          -0.07823265586758466,
          0.49901241242867894,
          0.12638532481480583,
          -0.04677273690184604,
          0.3161672853839041,
          -0.14685015677674695,
          -0.0450224610808097,
          0.2833601659528431,
          -0.29264383728706284,
          -0.19455241203383392,
          0.39558375125623335,
          -0.1871873813259804,
          -0.32098232026972956,
          0.08469845627467773,
          -0.14924251457825055,
          -0.2576645824269731,
          -0.03110963037145544,
          -0.3032570417620336,
          -0.1779911515333376,
          0.025771934844712005,
          -0.29959869263301814,
          -0.1918091995321203,
          0.23178031743340488,
          -0.09050715358483664,
          -0.14166483357399814,
          0.11758420078996755,
          -0.013399456984555901,
          -0.04380781802137984,
          0.09908815861009204
         ],
         "yaxis": "y6"
        },
        {
         "hoverinfo": "skip",
         "line": {
          "color": "blue",
          "width": 1
         },
         "mode": "lines",
         "showlegend": false,
         "type": "scatter",
         "x": [
          0,
          0
         ],
         "xaxis": "x6",
         "y": [
          0,
          1
         ],
         "yaxis": "y6"
        },
        {
         "hoverinfo": "skip",
         "line": {
          "color": "blue",
          "width": 1
         },
         "mode": "lines",
         "showlegend": false,
         "type": "scatter",
         "x": [
          1,
          1
         ],
         "xaxis": "x6",
         "y": [
          0,
          0.08268743073437997
         ],
         "yaxis": "y6"
        },
        {
         "hoverinfo": "skip",
         "line": {
          "color": "blue",
          "width": 1
         },
         "mode": "lines",
         "showlegend": false,
         "type": "scatter",
         "x": [
          2,
          2
         ],
         "xaxis": "x6",
         "y": [
          0,
          -0.07823265586758466
         ],
         "yaxis": "y6"
        },
        {
         "hoverinfo": "skip",
         "line": {
          "color": "blue",
          "width": 1
         },
         "mode": "lines",
         "showlegend": false,
         "type": "scatter",
         "x": [
          3,
          3
         ],
         "xaxis": "x6",
         "y": [
          0,
          0.49901241242867894
         ],
         "yaxis": "y6"
        },
        {
         "hoverinfo": "skip",
         "line": {
          "color": "blue",
          "width": 1
         },
         "mode": "lines",
         "showlegend": false,
         "type": "scatter",
         "x": [
          4,
          4
         ],
         "xaxis": "x6",
         "y": [
          0,
          0.12638532481480583
         ],
         "yaxis": "y6"
        },
        {
         "hoverinfo": "skip",
         "line": {
          "color": "blue",
          "width": 1
         },
         "mode": "lines",
         "showlegend": false,
         "type": "scatter",
         "x": [
          5,
          5
         ],
         "xaxis": "x6",
         "y": [
          0,
          -0.04677273690184604
         ],
         "yaxis": "y6"
        },
        {
         "hoverinfo": "skip",
         "line": {
          "color": "blue",
          "width": 1
         },
         "mode": "lines",
         "showlegend": false,
         "type": "scatter",
         "x": [
          6,
          6
         ],
         "xaxis": "x6",
         "y": [
          0,
          0.3161672853839041
         ],
         "yaxis": "y6"
        },
        {
         "hoverinfo": "skip",
         "line": {
          "color": "blue",
          "width": 1
         },
         "mode": "lines",
         "showlegend": false,
         "type": "scatter",
         "x": [
          7,
          7
         ],
         "xaxis": "x6",
         "y": [
          0,
          -0.14685015677674695
         ],
         "yaxis": "y6"
        },
        {
         "hoverinfo": "skip",
         "line": {
          "color": "blue",
          "width": 1
         },
         "mode": "lines",
         "showlegend": false,
         "type": "scatter",
         "x": [
          8,
          8
         ],
         "xaxis": "x6",
         "y": [
          0,
          -0.0450224610808097
         ],
         "yaxis": "y6"
        },
        {
         "hoverinfo": "skip",
         "line": {
          "color": "blue",
          "width": 1
         },
         "mode": "lines",
         "showlegend": false,
         "type": "scatter",
         "x": [
          9,
          9
         ],
         "xaxis": "x6",
         "y": [
          0,
          0.2833601659528431
         ],
         "yaxis": "y6"
        },
        {
         "hoverinfo": "skip",
         "line": {
          "color": "blue",
          "width": 1
         },
         "mode": "lines",
         "showlegend": false,
         "type": "scatter",
         "x": [
          10,
          10
         ],
         "xaxis": "x6",
         "y": [
          0,
          -0.29264383728706284
         ],
         "yaxis": "y6"
        },
        {
         "hoverinfo": "skip",
         "line": {
          "color": "blue",
          "width": 1
         },
         "mode": "lines",
         "showlegend": false,
         "type": "scatter",
         "x": [
          11,
          11
         ],
         "xaxis": "x6",
         "y": [
          0,
          -0.19455241203383392
         ],
         "yaxis": "y6"
        },
        {
         "hoverinfo": "skip",
         "line": {
          "color": "blue",
          "width": 1
         },
         "mode": "lines",
         "showlegend": false,
         "type": "scatter",
         "x": [
          12,
          12
         ],
         "xaxis": "x6",
         "y": [
          0,
          0.39558375125623335
         ],
         "yaxis": "y6"
        },
        {
         "hoverinfo": "skip",
         "line": {
          "color": "blue",
          "width": 1
         },
         "mode": "lines",
         "showlegend": false,
         "type": "scatter",
         "x": [
          13,
          13
         ],
         "xaxis": "x6",
         "y": [
          0,
          -0.1871873813259804
         ],
         "yaxis": "y6"
        },
        {
         "hoverinfo": "skip",
         "line": {
          "color": "blue",
          "width": 1
         },
         "mode": "lines",
         "showlegend": false,
         "type": "scatter",
         "x": [
          14,
          14
         ],
         "xaxis": "x6",
         "y": [
          0,
          -0.32098232026972956
         ],
         "yaxis": "y6"
        },
        {
         "hoverinfo": "skip",
         "line": {
          "color": "blue",
          "width": 1
         },
         "mode": "lines",
         "showlegend": false,
         "type": "scatter",
         "x": [
          15,
          15
         ],
         "xaxis": "x6",
         "y": [
          0,
          0.08469845627467773
         ],
         "yaxis": "y6"
        },
        {
         "hoverinfo": "skip",
         "line": {
          "color": "blue",
          "width": 1
         },
         "mode": "lines",
         "showlegend": false,
         "type": "scatter",
         "x": [
          16,
          16
         ],
         "xaxis": "x6",
         "y": [
          0,
          -0.14924251457825055
         ],
         "yaxis": "y6"
        },
        {
         "hoverinfo": "skip",
         "line": {
          "color": "blue",
          "width": 1
         },
         "mode": "lines",
         "showlegend": false,
         "type": "scatter",
         "x": [
          17,
          17
         ],
         "xaxis": "x6",
         "y": [
          0,
          -0.2576645824269731
         ],
         "yaxis": "y6"
        },
        {
         "hoverinfo": "skip",
         "line": {
          "color": "blue",
          "width": 1
         },
         "mode": "lines",
         "showlegend": false,
         "type": "scatter",
         "x": [
          18,
          18
         ],
         "xaxis": "x6",
         "y": [
          0,
          -0.03110963037145544
         ],
         "yaxis": "y6"
        },
        {
         "hoverinfo": "skip",
         "line": {
          "color": "blue",
          "width": 1
         },
         "mode": "lines",
         "showlegend": false,
         "type": "scatter",
         "x": [
          19,
          19
         ],
         "xaxis": "x6",
         "y": [
          0,
          -0.3032570417620336
         ],
         "yaxis": "y6"
        },
        {
         "hoverinfo": "skip",
         "line": {
          "color": "blue",
          "width": 1
         },
         "mode": "lines",
         "showlegend": false,
         "type": "scatter",
         "x": [
          20,
          20
         ],
         "xaxis": "x6",
         "y": [
          0,
          -0.1779911515333376
         ],
         "yaxis": "y6"
        },
        {
         "hoverinfo": "skip",
         "line": {
          "color": "blue",
          "width": 1
         },
         "mode": "lines",
         "showlegend": false,
         "type": "scatter",
         "x": [
          21,
          21
         ],
         "xaxis": "x6",
         "y": [
          0,
          0.025771934844712005
         ],
         "yaxis": "y6"
        },
        {
         "hoverinfo": "skip",
         "line": {
          "color": "blue",
          "width": 1
         },
         "mode": "lines",
         "showlegend": false,
         "type": "scatter",
         "x": [
          22,
          22
         ],
         "xaxis": "x6",
         "y": [
          0,
          -0.29959869263301814
         ],
         "yaxis": "y6"
        },
        {
         "hoverinfo": "skip",
         "line": {
          "color": "blue",
          "width": 1
         },
         "mode": "lines",
         "showlegend": false,
         "type": "scatter",
         "x": [
          23,
          23
         ],
         "xaxis": "x6",
         "y": [
          0,
          -0.1918091995321203
         ],
         "yaxis": "y6"
        },
        {
         "hoverinfo": "skip",
         "line": {
          "color": "blue",
          "width": 1
         },
         "mode": "lines",
         "showlegend": false,
         "type": "scatter",
         "x": [
          24,
          24
         ],
         "xaxis": "x6",
         "y": [
          0,
          0.23178031743340488
         ],
         "yaxis": "y6"
        },
        {
         "hoverinfo": "skip",
         "line": {
          "color": "blue",
          "width": 1
         },
         "mode": "lines",
         "showlegend": false,
         "type": "scatter",
         "x": [
          25,
          25
         ],
         "xaxis": "x6",
         "y": [
          0,
          -0.09050715358483664
         ],
         "yaxis": "y6"
        },
        {
         "hoverinfo": "skip",
         "line": {
          "color": "blue",
          "width": 1
         },
         "mode": "lines",
         "showlegend": false,
         "type": "scatter",
         "x": [
          26,
          26
         ],
         "xaxis": "x6",
         "y": [
          0,
          -0.14166483357399814
         ],
         "yaxis": "y6"
        },
        {
         "hoverinfo": "skip",
         "line": {
          "color": "blue",
          "width": 1
         },
         "mode": "lines",
         "showlegend": false,
         "type": "scatter",
         "x": [
          27,
          27
         ],
         "xaxis": "x6",
         "y": [
          0,
          0.11758420078996755
         ],
         "yaxis": "y6"
        },
        {
         "hoverinfo": "skip",
         "line": {
          "color": "blue",
          "width": 1
         },
         "mode": "lines",
         "showlegend": false,
         "type": "scatter",
         "x": [
          28,
          28
         ],
         "xaxis": "x6",
         "y": [
          0,
          -0.013399456984555901
         ],
         "yaxis": "y6"
        },
        {
         "hoverinfo": "skip",
         "line": {
          "color": "blue",
          "width": 1
         },
         "mode": "lines",
         "showlegend": false,
         "type": "scatter",
         "x": [
          29,
          29
         ],
         "xaxis": "x6",
         "y": [
          0,
          -0.04380781802137984
         ],
         "yaxis": "y6"
        },
        {
         "hoverinfo": "skip",
         "line": {
          "color": "blue",
          "width": 1
         },
         "mode": "lines",
         "showlegend": false,
         "type": "scatter",
         "x": [
          30,
          30
         ],
         "xaxis": "x6",
         "y": [
          0,
          0.09908815861009204
         ],
         "yaxis": "y6"
        },
        {
         "hovertemplate": "Lag %{x}<br>ACF: %{y:.2f}<extra></extra>",
         "line": {
          "color": "blue",
          "width": 1
         },
         "marker": {
          "color": "blue",
          "size": 5
         },
         "mode": "lines+markers",
         "name": "MAB_ELE_SHP276",
         "type": "scatter",
         "x": [
          0,
          1,
          2,
          3,
          4,
          5,
          6,
          7,
          8,
          9,
          10,
          11,
          12,
          13,
          14,
          15,
          16,
          17,
          18,
          19,
          20,
          21,
          22,
          23,
          24,
          25,
          26,
          27,
          28,
          29,
          30
         ],
         "xaxis": "x7",
         "y": [
          1,
          0.18411169060300792,
          -0.01057105694432864,
          0.4704291934428323,
          0.14597855452458133,
          0.004708421629579463,
          0.2525179886687513,
          -0.11892847958442522,
          -0.028737309836589033,
          0.2424684171687415,
          -0.2562004419170931,
          -0.19630821190998757,
          0.3257859913330193,
          -0.22440581473603877,
          -0.33058859074915375,
          0.026662719126899583,
          -0.18868628644534222,
          -0.2927777522748976,
          -0.12030779314339406,
          -0.2888892353200434,
          -0.216179509634291,
          -0.026859100493112943,
          -0.2436062904306553,
          -0.15330149105908064,
          0.181133811560432,
          -0.06291764190438091,
          -0.11327434790942303,
          0.05141621978328559,
          0.03916167992890213,
          0.008884321638329916,
          0.06911468997565232
         ],
         "yaxis": "y7"
        },
        {
         "hoverinfo": "skip",
         "line": {
          "color": "blue",
          "width": 1
         },
         "mode": "lines",
         "showlegend": false,
         "type": "scatter",
         "x": [
          0,
          0
         ],
         "xaxis": "x7",
         "y": [
          0,
          1
         ],
         "yaxis": "y7"
        },
        {
         "hoverinfo": "skip",
         "line": {
          "color": "blue",
          "width": 1
         },
         "mode": "lines",
         "showlegend": false,
         "type": "scatter",
         "x": [
          1,
          1
         ],
         "xaxis": "x7",
         "y": [
          0,
          0.18411169060300792
         ],
         "yaxis": "y7"
        },
        {
         "hoverinfo": "skip",
         "line": {
          "color": "blue",
          "width": 1
         },
         "mode": "lines",
         "showlegend": false,
         "type": "scatter",
         "x": [
          2,
          2
         ],
         "xaxis": "x7",
         "y": [
          0,
          -0.01057105694432864
         ],
         "yaxis": "y7"
        },
        {
         "hoverinfo": "skip",
         "line": {
          "color": "blue",
          "width": 1
         },
         "mode": "lines",
         "showlegend": false,
         "type": "scatter",
         "x": [
          3,
          3
         ],
         "xaxis": "x7",
         "y": [
          0,
          0.4704291934428323
         ],
         "yaxis": "y7"
        },
        {
         "hoverinfo": "skip",
         "line": {
          "color": "blue",
          "width": 1
         },
         "mode": "lines",
         "showlegend": false,
         "type": "scatter",
         "x": [
          4,
          4
         ],
         "xaxis": "x7",
         "y": [
          0,
          0.14597855452458133
         ],
         "yaxis": "y7"
        },
        {
         "hoverinfo": "skip",
         "line": {
          "color": "blue",
          "width": 1
         },
         "mode": "lines",
         "showlegend": false,
         "type": "scatter",
         "x": [
          5,
          5
         ],
         "xaxis": "x7",
         "y": [
          0,
          0.004708421629579463
         ],
         "yaxis": "y7"
        },
        {
         "hoverinfo": "skip",
         "line": {
          "color": "blue",
          "width": 1
         },
         "mode": "lines",
         "showlegend": false,
         "type": "scatter",
         "x": [
          6,
          6
         ],
         "xaxis": "x7",
         "y": [
          0,
          0.2525179886687513
         ],
         "yaxis": "y7"
        },
        {
         "hoverinfo": "skip",
         "line": {
          "color": "blue",
          "width": 1
         },
         "mode": "lines",
         "showlegend": false,
         "type": "scatter",
         "x": [
          7,
          7
         ],
         "xaxis": "x7",
         "y": [
          0,
          -0.11892847958442522
         ],
         "yaxis": "y7"
        },
        {
         "hoverinfo": "skip",
         "line": {
          "color": "blue",
          "width": 1
         },
         "mode": "lines",
         "showlegend": false,
         "type": "scatter",
         "x": [
          8,
          8
         ],
         "xaxis": "x7",
         "y": [
          0,
          -0.028737309836589033
         ],
         "yaxis": "y7"
        },
        {
         "hoverinfo": "skip",
         "line": {
          "color": "blue",
          "width": 1
         },
         "mode": "lines",
         "showlegend": false,
         "type": "scatter",
         "x": [
          9,
          9
         ],
         "xaxis": "x7",
         "y": [
          0,
          0.2424684171687415
         ],
         "yaxis": "y7"
        },
        {
         "hoverinfo": "skip",
         "line": {
          "color": "blue",
          "width": 1
         },
         "mode": "lines",
         "showlegend": false,
         "type": "scatter",
         "x": [
          10,
          10
         ],
         "xaxis": "x7",
         "y": [
          0,
          -0.2562004419170931
         ],
         "yaxis": "y7"
        },
        {
         "hoverinfo": "skip",
         "line": {
          "color": "blue",
          "width": 1
         },
         "mode": "lines",
         "showlegend": false,
         "type": "scatter",
         "x": [
          11,
          11
         ],
         "xaxis": "x7",
         "y": [
          0,
          -0.19630821190998757
         ],
         "yaxis": "y7"
        },
        {
         "hoverinfo": "skip",
         "line": {
          "color": "blue",
          "width": 1
         },
         "mode": "lines",
         "showlegend": false,
         "type": "scatter",
         "x": [
          12,
          12
         ],
         "xaxis": "x7",
         "y": [
          0,
          0.3257859913330193
         ],
         "yaxis": "y7"
        },
        {
         "hoverinfo": "skip",
         "line": {
          "color": "blue",
          "width": 1
         },
         "mode": "lines",
         "showlegend": false,
         "type": "scatter",
         "x": [
          13,
          13
         ],
         "xaxis": "x7",
         "y": [
          0,
          -0.22440581473603877
         ],
         "yaxis": "y7"
        },
        {
         "hoverinfo": "skip",
         "line": {
          "color": "blue",
          "width": 1
         },
         "mode": "lines",
         "showlegend": false,
         "type": "scatter",
         "x": [
          14,
          14
         ],
         "xaxis": "x7",
         "y": [
          0,
          -0.33058859074915375
         ],
         "yaxis": "y7"
        },
        {
         "hoverinfo": "skip",
         "line": {
          "color": "blue",
          "width": 1
         },
         "mode": "lines",
         "showlegend": false,
         "type": "scatter",
         "x": [
          15,
          15
         ],
         "xaxis": "x7",
         "y": [
          0,
          0.026662719126899583
         ],
         "yaxis": "y7"
        },
        {
         "hoverinfo": "skip",
         "line": {
          "color": "blue",
          "width": 1
         },
         "mode": "lines",
         "showlegend": false,
         "type": "scatter",
         "x": [
          16,
          16
         ],
         "xaxis": "x7",
         "y": [
          0,
          -0.18868628644534222
         ],
         "yaxis": "y7"
        },
        {
         "hoverinfo": "skip",
         "line": {
          "color": "blue",
          "width": 1
         },
         "mode": "lines",
         "showlegend": false,
         "type": "scatter",
         "x": [
          17,
          17
         ],
         "xaxis": "x7",
         "y": [
          0,
          -0.2927777522748976
         ],
         "yaxis": "y7"
        },
        {
         "hoverinfo": "skip",
         "line": {
          "color": "blue",
          "width": 1
         },
         "mode": "lines",
         "showlegend": false,
         "type": "scatter",
         "x": [
          18,
          18
         ],
         "xaxis": "x7",
         "y": [
          0,
          -0.12030779314339406
         ],
         "yaxis": "y7"
        },
        {
         "hoverinfo": "skip",
         "line": {
          "color": "blue",
          "width": 1
         },
         "mode": "lines",
         "showlegend": false,
         "type": "scatter",
         "x": [
          19,
          19
         ],
         "xaxis": "x7",
         "y": [
          0,
          -0.2888892353200434
         ],
         "yaxis": "y7"
        },
        {
         "hoverinfo": "skip",
         "line": {
          "color": "blue",
          "width": 1
         },
         "mode": "lines",
         "showlegend": false,
         "type": "scatter",
         "x": [
          20,
          20
         ],
         "xaxis": "x7",
         "y": [
          0,
          -0.216179509634291
         ],
         "yaxis": "y7"
        },
        {
         "hoverinfo": "skip",
         "line": {
          "color": "blue",
          "width": 1
         },
         "mode": "lines",
         "showlegend": false,
         "type": "scatter",
         "x": [
          21,
          21
         ],
         "xaxis": "x7",
         "y": [
          0,
          -0.026859100493112943
         ],
         "yaxis": "y7"
        },
        {
         "hoverinfo": "skip",
         "line": {
          "color": "blue",
          "width": 1
         },
         "mode": "lines",
         "showlegend": false,
         "type": "scatter",
         "x": [
          22,
          22
         ],
         "xaxis": "x7",
         "y": [
          0,
          -0.2436062904306553
         ],
         "yaxis": "y7"
        },
        {
         "hoverinfo": "skip",
         "line": {
          "color": "blue",
          "width": 1
         },
         "mode": "lines",
         "showlegend": false,
         "type": "scatter",
         "x": [
          23,
          23
         ],
         "xaxis": "x7",
         "y": [
          0,
          -0.15330149105908064
         ],
         "yaxis": "y7"
        },
        {
         "hoverinfo": "skip",
         "line": {
          "color": "blue",
          "width": 1
         },
         "mode": "lines",
         "showlegend": false,
         "type": "scatter",
         "x": [
          24,
          24
         ],
         "xaxis": "x7",
         "y": [
          0,
          0.181133811560432
         ],
         "yaxis": "y7"
        },
        {
         "hoverinfo": "skip",
         "line": {
          "color": "blue",
          "width": 1
         },
         "mode": "lines",
         "showlegend": false,
         "type": "scatter",
         "x": [
          25,
          25
         ],
         "xaxis": "x7",
         "y": [
          0,
          -0.06291764190438091
         ],
         "yaxis": "y7"
        },
        {
         "hoverinfo": "skip",
         "line": {
          "color": "blue",
          "width": 1
         },
         "mode": "lines",
         "showlegend": false,
         "type": "scatter",
         "x": [
          26,
          26
         ],
         "xaxis": "x7",
         "y": [
          0,
          -0.11327434790942303
         ],
         "yaxis": "y7"
        },
        {
         "hoverinfo": "skip",
         "line": {
          "color": "blue",
          "width": 1
         },
         "mode": "lines",
         "showlegend": false,
         "type": "scatter",
         "x": [
          27,
          27
         ],
         "xaxis": "x7",
         "y": [
          0,
          0.05141621978328559
         ],
         "yaxis": "y7"
        },
        {
         "hoverinfo": "skip",
         "line": {
          "color": "blue",
          "width": 1
         },
         "mode": "lines",
         "showlegend": false,
         "type": "scatter",
         "x": [
          28,
          28
         ],
         "xaxis": "x7",
         "y": [
          0,
          0.03916167992890213
         ],
         "yaxis": "y7"
        },
        {
         "hoverinfo": "skip",
         "line": {
          "color": "blue",
          "width": 1
         },
         "mode": "lines",
         "showlegend": false,
         "type": "scatter",
         "x": [
          29,
          29
         ],
         "xaxis": "x7",
         "y": [
          0,
          0.008884321638329916
         ],
         "yaxis": "y7"
        },
        {
         "hoverinfo": "skip",
         "line": {
          "color": "blue",
          "width": 1
         },
         "mode": "lines",
         "showlegend": false,
         "type": "scatter",
         "x": [
          30,
          30
         ],
         "xaxis": "x7",
         "y": [
          0,
          0.06911468997565232
         ],
         "yaxis": "y7"
        },
        {
         "hovertemplate": "Lag %{x}<br>ACF: %{y:.2f}<extra></extra>",
         "line": {
          "color": "blue",
          "width": 1
         },
         "marker": {
          "color": "blue",
          "size": 5
         },
         "mode": "lines+markers",
         "name": "PRI27840_org",
         "type": "scatter",
         "x": [
          0,
          1,
          2,
          3,
          4,
          5,
          6,
          7,
          8,
          9,
          10,
          11,
          12,
          13,
          14,
          15,
          16,
          17,
          18,
          19,
          20,
          21,
          22,
          23,
          24,
          25,
          26,
          27,
          28,
          29,
          30
         ],
         "xaxis": "x8",
         "y": [
          1,
          0.8959145761584281,
          0.789466574920145,
          0.6925941512910986,
          0.5987264283662034,
          0.5201812794681826,
          0.43882639344155183,
          0.36069179409436014,
          0.28879481092969495,
          0.21992114937809043,
          0.1505895330608182,
          0.08296731422673966,
          0.026761841591805103,
          -0.020871917618939657,
          -0.05796511057766526,
          -0.08084072137115665,
          -0.10074809628686876,
          -0.12378597686228472,
          -0.14562517797288735,
          -0.16610433049975232,
          -0.18518354984733454,
          -0.20258252698340393,
          -0.21650247270526637,
          -0.22604700416302942,
          -0.2348391442373946,
          -0.24316287416843138,
          -0.2508536870785838,
          -0.25961511021754374,
          -0.2688507666875677,
          -0.2756919144702722,
          -0.27629810434730157
         ],
         "yaxis": "y8"
        },
        {
         "hoverinfo": "skip",
         "line": {
          "color": "blue",
          "width": 1
         },
         "mode": "lines",
         "showlegend": false,
         "type": "scatter",
         "x": [
          0,
          0
         ],
         "xaxis": "x8",
         "y": [
          0,
          1
         ],
         "yaxis": "y8"
        },
        {
         "hoverinfo": "skip",
         "line": {
          "color": "blue",
          "width": 1
         },
         "mode": "lines",
         "showlegend": false,
         "type": "scatter",
         "x": [
          1,
          1
         ],
         "xaxis": "x8",
         "y": [
          0,
          0.8959145761584281
         ],
         "yaxis": "y8"
        },
        {
         "hoverinfo": "skip",
         "line": {
          "color": "blue",
          "width": 1
         },
         "mode": "lines",
         "showlegend": false,
         "type": "scatter",
         "x": [
          2,
          2
         ],
         "xaxis": "x8",
         "y": [
          0,
          0.789466574920145
         ],
         "yaxis": "y8"
        },
        {
         "hoverinfo": "skip",
         "line": {
          "color": "blue",
          "width": 1
         },
         "mode": "lines",
         "showlegend": false,
         "type": "scatter",
         "x": [
          3,
          3
         ],
         "xaxis": "x8",
         "y": [
          0,
          0.6925941512910986
         ],
         "yaxis": "y8"
        },
        {
         "hoverinfo": "skip",
         "line": {
          "color": "blue",
          "width": 1
         },
         "mode": "lines",
         "showlegend": false,
         "type": "scatter",
         "x": [
          4,
          4
         ],
         "xaxis": "x8",
         "y": [
          0,
          0.5987264283662034
         ],
         "yaxis": "y8"
        },
        {
         "hoverinfo": "skip",
         "line": {
          "color": "blue",
          "width": 1
         },
         "mode": "lines",
         "showlegend": false,
         "type": "scatter",
         "x": [
          5,
          5
         ],
         "xaxis": "x8",
         "y": [
          0,
          0.5201812794681826
         ],
         "yaxis": "y8"
        },
        {
         "hoverinfo": "skip",
         "line": {
          "color": "blue",
          "width": 1
         },
         "mode": "lines",
         "showlegend": false,
         "type": "scatter",
         "x": [
          6,
          6
         ],
         "xaxis": "x8",
         "y": [
          0,
          0.43882639344155183
         ],
         "yaxis": "y8"
        },
        {
         "hoverinfo": "skip",
         "line": {
          "color": "blue",
          "width": 1
         },
         "mode": "lines",
         "showlegend": false,
         "type": "scatter",
         "x": [
          7,
          7
         ],
         "xaxis": "x8",
         "y": [
          0,
          0.36069179409436014
         ],
         "yaxis": "y8"
        },
        {
         "hoverinfo": "skip",
         "line": {
          "color": "blue",
          "width": 1
         },
         "mode": "lines",
         "showlegend": false,
         "type": "scatter",
         "x": [
          8,
          8
         ],
         "xaxis": "x8",
         "y": [
          0,
          0.28879481092969495
         ],
         "yaxis": "y8"
        },
        {
         "hoverinfo": "skip",
         "line": {
          "color": "blue",
          "width": 1
         },
         "mode": "lines",
         "showlegend": false,
         "type": "scatter",
         "x": [
          9,
          9
         ],
         "xaxis": "x8",
         "y": [
          0,
          0.21992114937809043
         ],
         "yaxis": "y8"
        },
        {
         "hoverinfo": "skip",
         "line": {
          "color": "blue",
          "width": 1
         },
         "mode": "lines",
         "showlegend": false,
         "type": "scatter",
         "x": [
          10,
          10
         ],
         "xaxis": "x8",
         "y": [
          0,
          0.1505895330608182
         ],
         "yaxis": "y8"
        },
        {
         "hoverinfo": "skip",
         "line": {
          "color": "blue",
          "width": 1
         },
         "mode": "lines",
         "showlegend": false,
         "type": "scatter",
         "x": [
          11,
          11
         ],
         "xaxis": "x8",
         "y": [
          0,
          0.08296731422673966
         ],
         "yaxis": "y8"
        },
        {
         "hoverinfo": "skip",
         "line": {
          "color": "blue",
          "width": 1
         },
         "mode": "lines",
         "showlegend": false,
         "type": "scatter",
         "x": [
          12,
          12
         ],
         "xaxis": "x8",
         "y": [
          0,
          0.026761841591805103
         ],
         "yaxis": "y8"
        },
        {
         "hoverinfo": "skip",
         "line": {
          "color": "blue",
          "width": 1
         },
         "mode": "lines",
         "showlegend": false,
         "type": "scatter",
         "x": [
          13,
          13
         ],
         "xaxis": "x8",
         "y": [
          0,
          -0.020871917618939657
         ],
         "yaxis": "y8"
        },
        {
         "hoverinfo": "skip",
         "line": {
          "color": "blue",
          "width": 1
         },
         "mode": "lines",
         "showlegend": false,
         "type": "scatter",
         "x": [
          14,
          14
         ],
         "xaxis": "x8",
         "y": [
          0,
          -0.05796511057766526
         ],
         "yaxis": "y8"
        },
        {
         "hoverinfo": "skip",
         "line": {
          "color": "blue",
          "width": 1
         },
         "mode": "lines",
         "showlegend": false,
         "type": "scatter",
         "x": [
          15,
          15
         ],
         "xaxis": "x8",
         "y": [
          0,
          -0.08084072137115665
         ],
         "yaxis": "y8"
        },
        {
         "hoverinfo": "skip",
         "line": {
          "color": "blue",
          "width": 1
         },
         "mode": "lines",
         "showlegend": false,
         "type": "scatter",
         "x": [
          16,
          16
         ],
         "xaxis": "x8",
         "y": [
          0,
          -0.10074809628686876
         ],
         "yaxis": "y8"
        },
        {
         "hoverinfo": "skip",
         "line": {
          "color": "blue",
          "width": 1
         },
         "mode": "lines",
         "showlegend": false,
         "type": "scatter",
         "x": [
          17,
          17
         ],
         "xaxis": "x8",
         "y": [
          0,
          -0.12378597686228472
         ],
         "yaxis": "y8"
        },
        {
         "hoverinfo": "skip",
         "line": {
          "color": "blue",
          "width": 1
         },
         "mode": "lines",
         "showlegend": false,
         "type": "scatter",
         "x": [
          18,
          18
         ],
         "xaxis": "x8",
         "y": [
          0,
          -0.14562517797288735
         ],
         "yaxis": "y8"
        },
        {
         "hoverinfo": "skip",
         "line": {
          "color": "blue",
          "width": 1
         },
         "mode": "lines",
         "showlegend": false,
         "type": "scatter",
         "x": [
          19,
          19
         ],
         "xaxis": "x8",
         "y": [
          0,
          -0.16610433049975232
         ],
         "yaxis": "y8"
        },
        {
         "hoverinfo": "skip",
         "line": {
          "color": "blue",
          "width": 1
         },
         "mode": "lines",
         "showlegend": false,
         "type": "scatter",
         "x": [
          20,
          20
         ],
         "xaxis": "x8",
         "y": [
          0,
          -0.18518354984733454
         ],
         "yaxis": "y8"
        },
        {
         "hoverinfo": "skip",
         "line": {
          "color": "blue",
          "width": 1
         },
         "mode": "lines",
         "showlegend": false,
         "type": "scatter",
         "x": [
          21,
          21
         ],
         "xaxis": "x8",
         "y": [
          0,
          -0.20258252698340393
         ],
         "yaxis": "y8"
        },
        {
         "hoverinfo": "skip",
         "line": {
          "color": "blue",
          "width": 1
         },
         "mode": "lines",
         "showlegend": false,
         "type": "scatter",
         "x": [
          22,
          22
         ],
         "xaxis": "x8",
         "y": [
          0,
          -0.21650247270526637
         ],
         "yaxis": "y8"
        },
        {
         "hoverinfo": "skip",
         "line": {
          "color": "blue",
          "width": 1
         },
         "mode": "lines",
         "showlegend": false,
         "type": "scatter",
         "x": [
          23,
          23
         ],
         "xaxis": "x8",
         "y": [
          0,
          -0.22604700416302942
         ],
         "yaxis": "y8"
        },
        {
         "hoverinfo": "skip",
         "line": {
          "color": "blue",
          "width": 1
         },
         "mode": "lines",
         "showlegend": false,
         "type": "scatter",
         "x": [
          24,
          24
         ],
         "xaxis": "x8",
         "y": [
          0,
          -0.2348391442373946
         ],
         "yaxis": "y8"
        },
        {
         "hoverinfo": "skip",
         "line": {
          "color": "blue",
          "width": 1
         },
         "mode": "lines",
         "showlegend": false,
         "type": "scatter",
         "x": [
          25,
          25
         ],
         "xaxis": "x8",
         "y": [
          0,
          -0.24316287416843138
         ],
         "yaxis": "y8"
        },
        {
         "hoverinfo": "skip",
         "line": {
          "color": "blue",
          "width": 1
         },
         "mode": "lines",
         "showlegend": false,
         "type": "scatter",
         "x": [
          26,
          26
         ],
         "xaxis": "x8",
         "y": [
          0,
          -0.2508536870785838
         ],
         "yaxis": "y8"
        },
        {
         "hoverinfo": "skip",
         "line": {
          "color": "blue",
          "width": 1
         },
         "mode": "lines",
         "showlegend": false,
         "type": "scatter",
         "x": [
          27,
          27
         ],
         "xaxis": "x8",
         "y": [
          0,
          -0.25961511021754374
         ],
         "yaxis": "y8"
        },
        {
         "hoverinfo": "skip",
         "line": {
          "color": "blue",
          "width": 1
         },
         "mode": "lines",
         "showlegend": false,
         "type": "scatter",
         "x": [
          28,
          28
         ],
         "xaxis": "x8",
         "y": [
          0,
          -0.2688507666875677
         ],
         "yaxis": "y8"
        },
        {
         "hoverinfo": "skip",
         "line": {
          "color": "blue",
          "width": 1
         },
         "mode": "lines",
         "showlegend": false,
         "type": "scatter",
         "x": [
          29,
          29
         ],
         "xaxis": "x8",
         "y": [
          0,
          -0.2756919144702722
         ],
         "yaxis": "y8"
        },
        {
         "hoverinfo": "skip",
         "line": {
          "color": "blue",
          "width": 1
         },
         "mode": "lines",
         "showlegend": false,
         "type": "scatter",
         "x": [
          30,
          30
         ],
         "xaxis": "x8",
         "y": [
          0,
          -0.27629810434730157
         ],
         "yaxis": "y8"
        },
        {
         "hovertemplate": "Lag %{x}<br>ACF: %{y:.2f}<extra></extra>",
         "line": {
          "color": "blue",
          "width": 1
         },
         "marker": {
          "color": "blue",
          "size": 5
         },
         "mode": "lines+markers",
         "name": "RohCOPPER1000_org",
         "type": "scatter",
         "x": [
          0,
          1,
          2,
          3,
          4,
          5,
          6,
          7,
          8,
          9,
          10,
          11,
          12,
          13,
          14,
          15,
          16,
          17,
          18,
          19,
          20,
          21,
          22,
          23,
          24,
          25,
          26,
          27,
          28,
          29,
          30
         ],
         "xaxis": "x9",
         "y": [
          1,
          0.9478967032484843,
          0.8814082771790495,
          0.8136064150819452,
          0.7459567421261228,
          0.6885090963152948,
          0.6161866394124353,
          0.5378563427119234,
          0.46402835094436085,
          0.38177648679074105,
          0.2956839402649574,
          0.19464118181731388,
          0.08330138939692043,
          -0.003898016658147282,
          -0.0771281007172429,
          -0.13446150355538092,
          -0.18697810712407217,
          -0.2435517985775564,
          -0.29279789313761845,
          -0.33302523237217974,
          -0.36733902605161606,
          -0.3926612199297899,
          -0.40909147308147686,
          -0.41246953449117707,
          -0.39973739238435924,
          -0.37996803329139783,
          -0.3625561589416914,
          -0.35087196132449144,
          -0.3469406502487875,
          -0.33674300855482386,
          -0.31442723297980263
         ],
         "yaxis": "y9"
        },
        {
         "hoverinfo": "skip",
         "line": {
          "color": "blue",
          "width": 1
         },
         "mode": "lines",
         "showlegend": false,
         "type": "scatter",
         "x": [
          0,
          0
         ],
         "xaxis": "x9",
         "y": [
          0,
          1
         ],
         "yaxis": "y9"
        },
        {
         "hoverinfo": "skip",
         "line": {
          "color": "blue",
          "width": 1
         },
         "mode": "lines",
         "showlegend": false,
         "type": "scatter",
         "x": [
          1,
          1
         ],
         "xaxis": "x9",
         "y": [
          0,
          0.9478967032484843
         ],
         "yaxis": "y9"
        },
        {
         "hoverinfo": "skip",
         "line": {
          "color": "blue",
          "width": 1
         },
         "mode": "lines",
         "showlegend": false,
         "type": "scatter",
         "x": [
          2,
          2
         ],
         "xaxis": "x9",
         "y": [
          0,
          0.8814082771790495
         ],
         "yaxis": "y9"
        },
        {
         "hoverinfo": "skip",
         "line": {
          "color": "blue",
          "width": 1
         },
         "mode": "lines",
         "showlegend": false,
         "type": "scatter",
         "x": [
          3,
          3
         ],
         "xaxis": "x9",
         "y": [
          0,
          0.8136064150819452
         ],
         "yaxis": "y9"
        },
        {
         "hoverinfo": "skip",
         "line": {
          "color": "blue",
          "width": 1
         },
         "mode": "lines",
         "showlegend": false,
         "type": "scatter",
         "x": [
          4,
          4
         ],
         "xaxis": "x9",
         "y": [
          0,
          0.7459567421261228
         ],
         "yaxis": "y9"
        },
        {
         "hoverinfo": "skip",
         "line": {
          "color": "blue",
          "width": 1
         },
         "mode": "lines",
         "showlegend": false,
         "type": "scatter",
         "x": [
          5,
          5
         ],
         "xaxis": "x9",
         "y": [
          0,
          0.6885090963152948
         ],
         "yaxis": "y9"
        },
        {
         "hoverinfo": "skip",
         "line": {
          "color": "blue",
          "width": 1
         },
         "mode": "lines",
         "showlegend": false,
         "type": "scatter",
         "x": [
          6,
          6
         ],
         "xaxis": "x9",
         "y": [
          0,
          0.6161866394124353
         ],
         "yaxis": "y9"
        },
        {
         "hoverinfo": "skip",
         "line": {
          "color": "blue",
          "width": 1
         },
         "mode": "lines",
         "showlegend": false,
         "type": "scatter",
         "x": [
          7,
          7
         ],
         "xaxis": "x9",
         "y": [
          0,
          0.5378563427119234
         ],
         "yaxis": "y9"
        },
        {
         "hoverinfo": "skip",
         "line": {
          "color": "blue",
          "width": 1
         },
         "mode": "lines",
         "showlegend": false,
         "type": "scatter",
         "x": [
          8,
          8
         ],
         "xaxis": "x9",
         "y": [
          0,
          0.46402835094436085
         ],
         "yaxis": "y9"
        },
        {
         "hoverinfo": "skip",
         "line": {
          "color": "blue",
          "width": 1
         },
         "mode": "lines",
         "showlegend": false,
         "type": "scatter",
         "x": [
          9,
          9
         ],
         "xaxis": "x9",
         "y": [
          0,
          0.38177648679074105
         ],
         "yaxis": "y9"
        },
        {
         "hoverinfo": "skip",
         "line": {
          "color": "blue",
          "width": 1
         },
         "mode": "lines",
         "showlegend": false,
         "type": "scatter",
         "x": [
          10,
          10
         ],
         "xaxis": "x9",
         "y": [
          0,
          0.2956839402649574
         ],
         "yaxis": "y9"
        },
        {
         "hoverinfo": "skip",
         "line": {
          "color": "blue",
          "width": 1
         },
         "mode": "lines",
         "showlegend": false,
         "type": "scatter",
         "x": [
          11,
          11
         ],
         "xaxis": "x9",
         "y": [
          0,
          0.19464118181731388
         ],
         "yaxis": "y9"
        },
        {
         "hoverinfo": "skip",
         "line": {
          "color": "blue",
          "width": 1
         },
         "mode": "lines",
         "showlegend": false,
         "type": "scatter",
         "x": [
          12,
          12
         ],
         "xaxis": "x9",
         "y": [
          0,
          0.08330138939692043
         ],
         "yaxis": "y9"
        },
        {
         "hoverinfo": "skip",
         "line": {
          "color": "blue",
          "width": 1
         },
         "mode": "lines",
         "showlegend": false,
         "type": "scatter",
         "x": [
          13,
          13
         ],
         "xaxis": "x9",
         "y": [
          0,
          -0.003898016658147282
         ],
         "yaxis": "y9"
        },
        {
         "hoverinfo": "skip",
         "line": {
          "color": "blue",
          "width": 1
         },
         "mode": "lines",
         "showlegend": false,
         "type": "scatter",
         "x": [
          14,
          14
         ],
         "xaxis": "x9",
         "y": [
          0,
          -0.0771281007172429
         ],
         "yaxis": "y9"
        },
        {
         "hoverinfo": "skip",
         "line": {
          "color": "blue",
          "width": 1
         },
         "mode": "lines",
         "showlegend": false,
         "type": "scatter",
         "x": [
          15,
          15
         ],
         "xaxis": "x9",
         "y": [
          0,
          -0.13446150355538092
         ],
         "yaxis": "y9"
        },
        {
         "hoverinfo": "skip",
         "line": {
          "color": "blue",
          "width": 1
         },
         "mode": "lines",
         "showlegend": false,
         "type": "scatter",
         "x": [
          16,
          16
         ],
         "xaxis": "x9",
         "y": [
          0,
          -0.18697810712407217
         ],
         "yaxis": "y9"
        },
        {
         "hoverinfo": "skip",
         "line": {
          "color": "blue",
          "width": 1
         },
         "mode": "lines",
         "showlegend": false,
         "type": "scatter",
         "x": [
          17,
          17
         ],
         "xaxis": "x9",
         "y": [
          0,
          -0.2435517985775564
         ],
         "yaxis": "y9"
        },
        {
         "hoverinfo": "skip",
         "line": {
          "color": "blue",
          "width": 1
         },
         "mode": "lines",
         "showlegend": false,
         "type": "scatter",
         "x": [
          18,
          18
         ],
         "xaxis": "x9",
         "y": [
          0,
          -0.29279789313761845
         ],
         "yaxis": "y9"
        },
        {
         "hoverinfo": "skip",
         "line": {
          "color": "blue",
          "width": 1
         },
         "mode": "lines",
         "showlegend": false,
         "type": "scatter",
         "x": [
          19,
          19
         ],
         "xaxis": "x9",
         "y": [
          0,
          -0.33302523237217974
         ],
         "yaxis": "y9"
        },
        {
         "hoverinfo": "skip",
         "line": {
          "color": "blue",
          "width": 1
         },
         "mode": "lines",
         "showlegend": false,
         "type": "scatter",
         "x": [
          20,
          20
         ],
         "xaxis": "x9",
         "y": [
          0,
          -0.36733902605161606
         ],
         "yaxis": "y9"
        },
        {
         "hoverinfo": "skip",
         "line": {
          "color": "blue",
          "width": 1
         },
         "mode": "lines",
         "showlegend": false,
         "type": "scatter",
         "x": [
          21,
          21
         ],
         "xaxis": "x9",
         "y": [
          0,
          -0.3926612199297899
         ],
         "yaxis": "y9"
        },
        {
         "hoverinfo": "skip",
         "line": {
          "color": "blue",
          "width": 1
         },
         "mode": "lines",
         "showlegend": false,
         "type": "scatter",
         "x": [
          22,
          22
         ],
         "xaxis": "x9",
         "y": [
          0,
          -0.40909147308147686
         ],
         "yaxis": "y9"
        },
        {
         "hoverinfo": "skip",
         "line": {
          "color": "blue",
          "width": 1
         },
         "mode": "lines",
         "showlegend": false,
         "type": "scatter",
         "x": [
          23,
          23
         ],
         "xaxis": "x9",
         "y": [
          0,
          -0.41246953449117707
         ],
         "yaxis": "y9"
        },
        {
         "hoverinfo": "skip",
         "line": {
          "color": "blue",
          "width": 1
         },
         "mode": "lines",
         "showlegend": false,
         "type": "scatter",
         "x": [
          24,
          24
         ],
         "xaxis": "x9",
         "y": [
          0,
          -0.39973739238435924
         ],
         "yaxis": "y9"
        },
        {
         "hoverinfo": "skip",
         "line": {
          "color": "blue",
          "width": 1
         },
         "mode": "lines",
         "showlegend": false,
         "type": "scatter",
         "x": [
          25,
          25
         ],
         "xaxis": "x9",
         "y": [
          0,
          -0.37996803329139783
         ],
         "yaxis": "y9"
        },
        {
         "hoverinfo": "skip",
         "line": {
          "color": "blue",
          "width": 1
         },
         "mode": "lines",
         "showlegend": false,
         "type": "scatter",
         "x": [
          26,
          26
         ],
         "xaxis": "x9",
         "y": [
          0,
          -0.3625561589416914
         ],
         "yaxis": "y9"
        },
        {
         "hoverinfo": "skip",
         "line": {
          "color": "blue",
          "width": 1
         },
         "mode": "lines",
         "showlegend": false,
         "type": "scatter",
         "x": [
          27,
          27
         ],
         "xaxis": "x9",
         "y": [
          0,
          -0.35087196132449144
         ],
         "yaxis": "y9"
        },
        {
         "hoverinfo": "skip",
         "line": {
          "color": "blue",
          "width": 1
         },
         "mode": "lines",
         "showlegend": false,
         "type": "scatter",
         "x": [
          28,
          28
         ],
         "xaxis": "x9",
         "y": [
          0,
          -0.3469406502487875
         ],
         "yaxis": "y9"
        },
        {
         "hoverinfo": "skip",
         "line": {
          "color": "blue",
          "width": 1
         },
         "mode": "lines",
         "showlegend": false,
         "type": "scatter",
         "x": [
          29,
          29
         ],
         "xaxis": "x9",
         "y": [
          0,
          -0.33674300855482386
         ],
         "yaxis": "y9"
        },
        {
         "hoverinfo": "skip",
         "line": {
          "color": "blue",
          "width": 1
         },
         "mode": "lines",
         "showlegend": false,
         "type": "scatter",
         "x": [
          30,
          30
         ],
         "xaxis": "x9",
         "y": [
          0,
          -0.31442723297980263
         ],
         "yaxis": "y9"
        },
        {
         "hovertemplate": "Lag %{x}<br>ACF: %{y:.2f}<extra></extra>",
         "line": {
          "color": "blue",
          "width": 1
         },
         "marker": {
          "color": "blue",
          "size": 5
         },
         "mode": "lines+markers",
         "name": "MAB_ELE_PRO156",
         "type": "scatter",
         "x": [
          0,
          1,
          2,
          3,
          4,
          5,
          6,
          7,
          8,
          9,
          10,
          11,
          12,
          13,
          14,
          15,
          16,
          17,
          18,
          19,
          20,
          21,
          22,
          23,
          24,
          25,
          26,
          27,
          28,
          29,
          30
         ],
         "xaxis": "x10",
         "y": [
          1,
          0.389420390139858,
          0.043255509141028735,
          0.28362772856741786,
          0.14432521243499952,
          0.213835029798232,
          0.4212116689202516,
          0.1875749366275505,
          0.05935394130003991,
          0.16992879280716638,
          -0.05721516079507885,
          0.12790129085341065,
          0.5193716241701294,
          0.05248906479463725,
          -0.20010888651342656,
          0.0021846974900616507,
          -0.13220291204994955,
          -0.12377068704293996,
          0.01974465268725428,
          -0.10969513525667217,
          -0.17698475907681482,
          -0.11588729153549196,
          -0.2619665384333837,
          -0.16392781688257846,
          0.07402769341287911,
          -0.2120516084796623,
          -0.3208816627013106,
          -0.10826618758597804,
          -0.15556097384165368,
          -0.15924480235128538,
          -0.08545431890808325
         ],
         "yaxis": "y10"
        },
        {
         "hoverinfo": "skip",
         "line": {
          "color": "blue",
          "width": 1
         },
         "mode": "lines",
         "showlegend": false,
         "type": "scatter",
         "x": [
          0,
          0
         ],
         "xaxis": "x10",
         "y": [
          0,
          1
         ],
         "yaxis": "y10"
        },
        {
         "hoverinfo": "skip",
         "line": {
          "color": "blue",
          "width": 1
         },
         "mode": "lines",
         "showlegend": false,
         "type": "scatter",
         "x": [
          1,
          1
         ],
         "xaxis": "x10",
         "y": [
          0,
          0.389420390139858
         ],
         "yaxis": "y10"
        },
        {
         "hoverinfo": "skip",
         "line": {
          "color": "blue",
          "width": 1
         },
         "mode": "lines",
         "showlegend": false,
         "type": "scatter",
         "x": [
          2,
          2
         ],
         "xaxis": "x10",
         "y": [
          0,
          0.043255509141028735
         ],
         "yaxis": "y10"
        },
        {
         "hoverinfo": "skip",
         "line": {
          "color": "blue",
          "width": 1
         },
         "mode": "lines",
         "showlegend": false,
         "type": "scatter",
         "x": [
          3,
          3
         ],
         "xaxis": "x10",
         "y": [
          0,
          0.28362772856741786
         ],
         "yaxis": "y10"
        },
        {
         "hoverinfo": "skip",
         "line": {
          "color": "blue",
          "width": 1
         },
         "mode": "lines",
         "showlegend": false,
         "type": "scatter",
         "x": [
          4,
          4
         ],
         "xaxis": "x10",
         "y": [
          0,
          0.14432521243499952
         ],
         "yaxis": "y10"
        },
        {
         "hoverinfo": "skip",
         "line": {
          "color": "blue",
          "width": 1
         },
         "mode": "lines",
         "showlegend": false,
         "type": "scatter",
         "x": [
          5,
          5
         ],
         "xaxis": "x10",
         "y": [
          0,
          0.213835029798232
         ],
         "yaxis": "y10"
        },
        {
         "hoverinfo": "skip",
         "line": {
          "color": "blue",
          "width": 1
         },
         "mode": "lines",
         "showlegend": false,
         "type": "scatter",
         "x": [
          6,
          6
         ],
         "xaxis": "x10",
         "y": [
          0,
          0.4212116689202516
         ],
         "yaxis": "y10"
        },
        {
         "hoverinfo": "skip",
         "line": {
          "color": "blue",
          "width": 1
         },
         "mode": "lines",
         "showlegend": false,
         "type": "scatter",
         "x": [
          7,
          7
         ],
         "xaxis": "x10",
         "y": [
          0,
          0.1875749366275505
         ],
         "yaxis": "y10"
        },
        {
         "hoverinfo": "skip",
         "line": {
          "color": "blue",
          "width": 1
         },
         "mode": "lines",
         "showlegend": false,
         "type": "scatter",
         "x": [
          8,
          8
         ],
         "xaxis": "x10",
         "y": [
          0,
          0.05935394130003991
         ],
         "yaxis": "y10"
        },
        {
         "hoverinfo": "skip",
         "line": {
          "color": "blue",
          "width": 1
         },
         "mode": "lines",
         "showlegend": false,
         "type": "scatter",
         "x": [
          9,
          9
         ],
         "xaxis": "x10",
         "y": [
          0,
          0.16992879280716638
         ],
         "yaxis": "y10"
        },
        {
         "hoverinfo": "skip",
         "line": {
          "color": "blue",
          "width": 1
         },
         "mode": "lines",
         "showlegend": false,
         "type": "scatter",
         "x": [
          10,
          10
         ],
         "xaxis": "x10",
         "y": [
          0,
          -0.05721516079507885
         ],
         "yaxis": "y10"
        },
        {
         "hoverinfo": "skip",
         "line": {
          "color": "blue",
          "width": 1
         },
         "mode": "lines",
         "showlegend": false,
         "type": "scatter",
         "x": [
          11,
          11
         ],
         "xaxis": "x10",
         "y": [
          0,
          0.12790129085341065
         ],
         "yaxis": "y10"
        },
        {
         "hoverinfo": "skip",
         "line": {
          "color": "blue",
          "width": 1
         },
         "mode": "lines",
         "showlegend": false,
         "type": "scatter",
         "x": [
          12,
          12
         ],
         "xaxis": "x10",
         "y": [
          0,
          0.5193716241701294
         ],
         "yaxis": "y10"
        },
        {
         "hoverinfo": "skip",
         "line": {
          "color": "blue",
          "width": 1
         },
         "mode": "lines",
         "showlegend": false,
         "type": "scatter",
         "x": [
          13,
          13
         ],
         "xaxis": "x10",
         "y": [
          0,
          0.05248906479463725
         ],
         "yaxis": "y10"
        },
        {
         "hoverinfo": "skip",
         "line": {
          "color": "blue",
          "width": 1
         },
         "mode": "lines",
         "showlegend": false,
         "type": "scatter",
         "x": [
          14,
          14
         ],
         "xaxis": "x10",
         "y": [
          0,
          -0.20010888651342656
         ],
         "yaxis": "y10"
        },
        {
         "hoverinfo": "skip",
         "line": {
          "color": "blue",
          "width": 1
         },
         "mode": "lines",
         "showlegend": false,
         "type": "scatter",
         "x": [
          15,
          15
         ],
         "xaxis": "x10",
         "y": [
          0,
          0.0021846974900616507
         ],
         "yaxis": "y10"
        },
        {
         "hoverinfo": "skip",
         "line": {
          "color": "blue",
          "width": 1
         },
         "mode": "lines",
         "showlegend": false,
         "type": "scatter",
         "x": [
          16,
          16
         ],
         "xaxis": "x10",
         "y": [
          0,
          -0.13220291204994955
         ],
         "yaxis": "y10"
        },
        {
         "hoverinfo": "skip",
         "line": {
          "color": "blue",
          "width": 1
         },
         "mode": "lines",
         "showlegend": false,
         "type": "scatter",
         "x": [
          17,
          17
         ],
         "xaxis": "x10",
         "y": [
          0,
          -0.12377068704293996
         ],
         "yaxis": "y10"
        },
        {
         "hoverinfo": "skip",
         "line": {
          "color": "blue",
          "width": 1
         },
         "mode": "lines",
         "showlegend": false,
         "type": "scatter",
         "x": [
          18,
          18
         ],
         "xaxis": "x10",
         "y": [
          0,
          0.01974465268725428
         ],
         "yaxis": "y10"
        },
        {
         "hoverinfo": "skip",
         "line": {
          "color": "blue",
          "width": 1
         },
         "mode": "lines",
         "showlegend": false,
         "type": "scatter",
         "x": [
          19,
          19
         ],
         "xaxis": "x10",
         "y": [
          0,
          -0.10969513525667217
         ],
         "yaxis": "y10"
        },
        {
         "hoverinfo": "skip",
         "line": {
          "color": "blue",
          "width": 1
         },
         "mode": "lines",
         "showlegend": false,
         "type": "scatter",
         "x": [
          20,
          20
         ],
         "xaxis": "x10",
         "y": [
          0,
          -0.17698475907681482
         ],
         "yaxis": "y10"
        },
        {
         "hoverinfo": "skip",
         "line": {
          "color": "blue",
          "width": 1
         },
         "mode": "lines",
         "showlegend": false,
         "type": "scatter",
         "x": [
          21,
          21
         ],
         "xaxis": "x10",
         "y": [
          0,
          -0.11588729153549196
         ],
         "yaxis": "y10"
        },
        {
         "hoverinfo": "skip",
         "line": {
          "color": "blue",
          "width": 1
         },
         "mode": "lines",
         "showlegend": false,
         "type": "scatter",
         "x": [
          22,
          22
         ],
         "xaxis": "x10",
         "y": [
          0,
          -0.2619665384333837
         ],
         "yaxis": "y10"
        },
        {
         "hoverinfo": "skip",
         "line": {
          "color": "blue",
          "width": 1
         },
         "mode": "lines",
         "showlegend": false,
         "type": "scatter",
         "x": [
          23,
          23
         ],
         "xaxis": "x10",
         "y": [
          0,
          -0.16392781688257846
         ],
         "yaxis": "y10"
        },
        {
         "hoverinfo": "skip",
         "line": {
          "color": "blue",
          "width": 1
         },
         "mode": "lines",
         "showlegend": false,
         "type": "scatter",
         "x": [
          24,
          24
         ],
         "xaxis": "x10",
         "y": [
          0,
          0.07402769341287911
         ],
         "yaxis": "y10"
        },
        {
         "hoverinfo": "skip",
         "line": {
          "color": "blue",
          "width": 1
         },
         "mode": "lines",
         "showlegend": false,
         "type": "scatter",
         "x": [
          25,
          25
         ],
         "xaxis": "x10",
         "y": [
          0,
          -0.2120516084796623
         ],
         "yaxis": "y10"
        },
        {
         "hoverinfo": "skip",
         "line": {
          "color": "blue",
          "width": 1
         },
         "mode": "lines",
         "showlegend": false,
         "type": "scatter",
         "x": [
          26,
          26
         ],
         "xaxis": "x10",
         "y": [
          0,
          -0.3208816627013106
         ],
         "yaxis": "y10"
        },
        {
         "hoverinfo": "skip",
         "line": {
          "color": "blue",
          "width": 1
         },
         "mode": "lines",
         "showlegend": false,
         "type": "scatter",
         "x": [
          27,
          27
         ],
         "xaxis": "x10",
         "y": [
          0,
          -0.10826618758597804
         ],
         "yaxis": "y10"
        },
        {
         "hoverinfo": "skip",
         "line": {
          "color": "blue",
          "width": 1
         },
         "mode": "lines",
         "showlegend": false,
         "type": "scatter",
         "x": [
          28,
          28
         ],
         "xaxis": "x10",
         "y": [
          0,
          -0.15556097384165368
         ],
         "yaxis": "y10"
        },
        {
         "hoverinfo": "skip",
         "line": {
          "color": "blue",
          "width": 1
         },
         "mode": "lines",
         "showlegend": false,
         "type": "scatter",
         "x": [
          29,
          29
         ],
         "xaxis": "x10",
         "y": [
          0,
          -0.15924480235128538
         ],
         "yaxis": "y10"
        },
        {
         "hoverinfo": "skip",
         "line": {
          "color": "blue",
          "width": 1
         },
         "mode": "lines",
         "showlegend": false,
         "type": "scatter",
         "x": [
          30,
          30
         ],
         "xaxis": "x10",
         "y": [
          0,
          -0.08545431890808325
         ],
         "yaxis": "y10"
        },
        {
         "hovertemplate": "Lag %{x}<br>ACF: %{y:.2f}<extra></extra>",
         "line": {
          "color": "blue",
          "width": 1
         },
         "marker": {
          "color": "blue",
          "size": 5
         },
         "mode": "lines+markers",
         "name": "MAB_ELE_PRO756",
         "type": "scatter",
         "x": [
          0,
          1,
          2,
          3,
          4,
          5,
          6,
          7,
          8,
          9,
          10,
          11,
          12,
          13,
          14,
          15,
          16,
          17,
          18,
          19,
          20,
          21,
          22,
          23,
          24,
          25,
          26,
          27,
          28,
          29,
          30
         ],
         "xaxis": "x11",
         "y": [
          1,
          0.8988731664635407,
          0.6866950070457987,
          0.41819292387005447,
          0.17516553209030417,
          -0.011068511814948884,
          -0.10974064334205004,
          -0.10454506076648848,
          -0.030133198020794366,
          0.07866885706609009,
          0.1757972188259454,
          0.23117547582295805,
          0.21508846053798467,
          0.1037768324181278,
          -0.06894014063707639,
          -0.26894869269404176,
          -0.44337365574260185,
          -0.5656399278800591,
          -0.6096578941855801,
          -0.5540897991329866,
          -0.4309422745369,
          -0.27244443988212275,
          -0.13509444554087316,
          -0.033615453292059956,
          0.018113251711817824,
          0.01237759690220672,
          -0.03056544758559995,
          -0.09028912783818589,
          -0.1324169949872188,
          -0.14924672691099805,
          -0.1337296304188086
         ],
         "yaxis": "y11"
        },
        {
         "hoverinfo": "skip",
         "line": {
          "color": "blue",
          "width": 1
         },
         "mode": "lines",
         "showlegend": false,
         "type": "scatter",
         "x": [
          0,
          0
         ],
         "xaxis": "x11",
         "y": [
          0,
          1
         ],
         "yaxis": "y11"
        },
        {
         "hoverinfo": "skip",
         "line": {
          "color": "blue",
          "width": 1
         },
         "mode": "lines",
         "showlegend": false,
         "type": "scatter",
         "x": [
          1,
          1
         ],
         "xaxis": "x11",
         "y": [
          0,
          0.8988731664635407
         ],
         "yaxis": "y11"
        },
        {
         "hoverinfo": "skip",
         "line": {
          "color": "blue",
          "width": 1
         },
         "mode": "lines",
         "showlegend": false,
         "type": "scatter",
         "x": [
          2,
          2
         ],
         "xaxis": "x11",
         "y": [
          0,
          0.6866950070457987
         ],
         "yaxis": "y11"
        },
        {
         "hoverinfo": "skip",
         "line": {
          "color": "blue",
          "width": 1
         },
         "mode": "lines",
         "showlegend": false,
         "type": "scatter",
         "x": [
          3,
          3
         ],
         "xaxis": "x11",
         "y": [
          0,
          0.41819292387005447
         ],
         "yaxis": "y11"
        },
        {
         "hoverinfo": "skip",
         "line": {
          "color": "blue",
          "width": 1
         },
         "mode": "lines",
         "showlegend": false,
         "type": "scatter",
         "x": [
          4,
          4
         ],
         "xaxis": "x11",
         "y": [
          0,
          0.17516553209030417
         ],
         "yaxis": "y11"
        },
        {
         "hoverinfo": "skip",
         "line": {
          "color": "blue",
          "width": 1
         },
         "mode": "lines",
         "showlegend": false,
         "type": "scatter",
         "x": [
          5,
          5
         ],
         "xaxis": "x11",
         "y": [
          0,
          -0.011068511814948884
         ],
         "yaxis": "y11"
        },
        {
         "hoverinfo": "skip",
         "line": {
          "color": "blue",
          "width": 1
         },
         "mode": "lines",
         "showlegend": false,
         "type": "scatter",
         "x": [
          6,
          6
         ],
         "xaxis": "x11",
         "y": [
          0,
          -0.10974064334205004
         ],
         "yaxis": "y11"
        },
        {
         "hoverinfo": "skip",
         "line": {
          "color": "blue",
          "width": 1
         },
         "mode": "lines",
         "showlegend": false,
         "type": "scatter",
         "x": [
          7,
          7
         ],
         "xaxis": "x11",
         "y": [
          0,
          -0.10454506076648848
         ],
         "yaxis": "y11"
        },
        {
         "hoverinfo": "skip",
         "line": {
          "color": "blue",
          "width": 1
         },
         "mode": "lines",
         "showlegend": false,
         "type": "scatter",
         "x": [
          8,
          8
         ],
         "xaxis": "x11",
         "y": [
          0,
          -0.030133198020794366
         ],
         "yaxis": "y11"
        },
        {
         "hoverinfo": "skip",
         "line": {
          "color": "blue",
          "width": 1
         },
         "mode": "lines",
         "showlegend": false,
         "type": "scatter",
         "x": [
          9,
          9
         ],
         "xaxis": "x11",
         "y": [
          0,
          0.07866885706609009
         ],
         "yaxis": "y11"
        },
        {
         "hoverinfo": "skip",
         "line": {
          "color": "blue",
          "width": 1
         },
         "mode": "lines",
         "showlegend": false,
         "type": "scatter",
         "x": [
          10,
          10
         ],
         "xaxis": "x11",
         "y": [
          0,
          0.1757972188259454
         ],
         "yaxis": "y11"
        },
        {
         "hoverinfo": "skip",
         "line": {
          "color": "blue",
          "width": 1
         },
         "mode": "lines",
         "showlegend": false,
         "type": "scatter",
         "x": [
          11,
          11
         ],
         "xaxis": "x11",
         "y": [
          0,
          0.23117547582295805
         ],
         "yaxis": "y11"
        },
        {
         "hoverinfo": "skip",
         "line": {
          "color": "blue",
          "width": 1
         },
         "mode": "lines",
         "showlegend": false,
         "type": "scatter",
         "x": [
          12,
          12
         ],
         "xaxis": "x11",
         "y": [
          0,
          0.21508846053798467
         ],
         "yaxis": "y11"
        },
        {
         "hoverinfo": "skip",
         "line": {
          "color": "blue",
          "width": 1
         },
         "mode": "lines",
         "showlegend": false,
         "type": "scatter",
         "x": [
          13,
          13
         ],
         "xaxis": "x11",
         "y": [
          0,
          0.1037768324181278
         ],
         "yaxis": "y11"
        },
        {
         "hoverinfo": "skip",
         "line": {
          "color": "blue",
          "width": 1
         },
         "mode": "lines",
         "showlegend": false,
         "type": "scatter",
         "x": [
          14,
          14
         ],
         "xaxis": "x11",
         "y": [
          0,
          -0.06894014063707639
         ],
         "yaxis": "y11"
        },
        {
         "hoverinfo": "skip",
         "line": {
          "color": "blue",
          "width": 1
         },
         "mode": "lines",
         "showlegend": false,
         "type": "scatter",
         "x": [
          15,
          15
         ],
         "xaxis": "x11",
         "y": [
          0,
          -0.26894869269404176
         ],
         "yaxis": "y11"
        },
        {
         "hoverinfo": "skip",
         "line": {
          "color": "blue",
          "width": 1
         },
         "mode": "lines",
         "showlegend": false,
         "type": "scatter",
         "x": [
          16,
          16
         ],
         "xaxis": "x11",
         "y": [
          0,
          -0.44337365574260185
         ],
         "yaxis": "y11"
        },
        {
         "hoverinfo": "skip",
         "line": {
          "color": "blue",
          "width": 1
         },
         "mode": "lines",
         "showlegend": false,
         "type": "scatter",
         "x": [
          17,
          17
         ],
         "xaxis": "x11",
         "y": [
          0,
          -0.5656399278800591
         ],
         "yaxis": "y11"
        },
        {
         "hoverinfo": "skip",
         "line": {
          "color": "blue",
          "width": 1
         },
         "mode": "lines",
         "showlegend": false,
         "type": "scatter",
         "x": [
          18,
          18
         ],
         "xaxis": "x11",
         "y": [
          0,
          -0.6096578941855801
         ],
         "yaxis": "y11"
        },
        {
         "hoverinfo": "skip",
         "line": {
          "color": "blue",
          "width": 1
         },
         "mode": "lines",
         "showlegend": false,
         "type": "scatter",
         "x": [
          19,
          19
         ],
         "xaxis": "x11",
         "y": [
          0,
          -0.5540897991329866
         ],
         "yaxis": "y11"
        },
        {
         "hoverinfo": "skip",
         "line": {
          "color": "blue",
          "width": 1
         },
         "mode": "lines",
         "showlegend": false,
         "type": "scatter",
         "x": [
          20,
          20
         ],
         "xaxis": "x11",
         "y": [
          0,
          -0.4309422745369
         ],
         "yaxis": "y11"
        },
        {
         "hoverinfo": "skip",
         "line": {
          "color": "blue",
          "width": 1
         },
         "mode": "lines",
         "showlegend": false,
         "type": "scatter",
         "x": [
          21,
          21
         ],
         "xaxis": "x11",
         "y": [
          0,
          -0.27244443988212275
         ],
         "yaxis": "y11"
        },
        {
         "hoverinfo": "skip",
         "line": {
          "color": "blue",
          "width": 1
         },
         "mode": "lines",
         "showlegend": false,
         "type": "scatter",
         "x": [
          22,
          22
         ],
         "xaxis": "x11",
         "y": [
          0,
          -0.13509444554087316
         ],
         "yaxis": "y11"
        },
        {
         "hoverinfo": "skip",
         "line": {
          "color": "blue",
          "width": 1
         },
         "mode": "lines",
         "showlegend": false,
         "type": "scatter",
         "x": [
          23,
          23
         ],
         "xaxis": "x11",
         "y": [
          0,
          -0.033615453292059956
         ],
         "yaxis": "y11"
        },
        {
         "hoverinfo": "skip",
         "line": {
          "color": "blue",
          "width": 1
         },
         "mode": "lines",
         "showlegend": false,
         "type": "scatter",
         "x": [
          24,
          24
         ],
         "xaxis": "x11",
         "y": [
          0,
          0.018113251711817824
         ],
         "yaxis": "y11"
        },
        {
         "hoverinfo": "skip",
         "line": {
          "color": "blue",
          "width": 1
         },
         "mode": "lines",
         "showlegend": false,
         "type": "scatter",
         "x": [
          25,
          25
         ],
         "xaxis": "x11",
         "y": [
          0,
          0.01237759690220672
         ],
         "yaxis": "y11"
        },
        {
         "hoverinfo": "skip",
         "line": {
          "color": "blue",
          "width": 1
         },
         "mode": "lines",
         "showlegend": false,
         "type": "scatter",
         "x": [
          26,
          26
         ],
         "xaxis": "x11",
         "y": [
          0,
          -0.03056544758559995
         ],
         "yaxis": "y11"
        },
        {
         "hoverinfo": "skip",
         "line": {
          "color": "blue",
          "width": 1
         },
         "mode": "lines",
         "showlegend": false,
         "type": "scatter",
         "x": [
          27,
          27
         ],
         "xaxis": "x11",
         "y": [
          0,
          -0.09028912783818589
         ],
         "yaxis": "y11"
        },
        {
         "hoverinfo": "skip",
         "line": {
          "color": "blue",
          "width": 1
         },
         "mode": "lines",
         "showlegend": false,
         "type": "scatter",
         "x": [
          28,
          28
         ],
         "xaxis": "x11",
         "y": [
          0,
          -0.1324169949872188
         ],
         "yaxis": "y11"
        },
        {
         "hoverinfo": "skip",
         "line": {
          "color": "blue",
          "width": 1
         },
         "mode": "lines",
         "showlegend": false,
         "type": "scatter",
         "x": [
          29,
          29
         ],
         "xaxis": "x11",
         "y": [
          0,
          -0.14924672691099805
         ],
         "yaxis": "y11"
        },
        {
         "hoverinfo": "skip",
         "line": {
          "color": "blue",
          "width": 1
         },
         "mode": "lines",
         "showlegend": false,
         "type": "scatter",
         "x": [
          30,
          30
         ],
         "xaxis": "x11",
         "y": [
          0,
          -0.1337296304188086
         ],
         "yaxis": "y11"
        },
        {
         "hovertemplate": "Lag %{x}<br>ACF: %{y:.2f}<extra></extra>",
         "line": {
          "color": "blue",
          "width": 1
         },
         "marker": {
          "color": "blue",
          "size": 5
         },
         "mode": "lines+markers",
         "name": "PRO27756_org",
         "type": "scatter",
         "x": [
          0,
          1,
          2,
          3,
          4,
          5,
          6,
          7,
          8,
          9,
          10,
          11,
          12,
          13,
          14,
          15,
          16,
          17,
          18,
          19,
          20,
          21,
          22,
          23,
          24,
          25,
          26,
          27,
          28,
          29,
          30
         ],
         "xaxis": "x12",
         "y": [
          1,
          0.8485690770479722,
          0.5174554997041984,
          0.10372047322749257,
          -0.2807189125570489,
          -0.566489745155067,
          -0.6919367897756475,
          -0.5968196936246479,
          -0.35103038459215974,
          -0.026289369257593814,
          0.284410281054448,
          0.5173528504431559,
          0.6168361002050263,
          0.5332865843700494,
          0.3223567157306965,
          0.0410434502333507,
          -0.23843298435466598,
          -0.4604569166876589,
          -0.5774530434803177,
          -0.530170874025845,
          -0.3684689907101779,
          -0.1444916992809018,
          0.05765458301393614,
          0.20682186056771726,
          0.28398991702209486,
          0.2651207917697602,
          0.17651598368355131,
          0.04302488503008339,
          -0.08651193574019594,
          -0.18569007041413976,
          -0.2339673189296506
         ],
         "yaxis": "y12"
        },
        {
         "hoverinfo": "skip",
         "line": {
          "color": "blue",
          "width": 1
         },
         "mode": "lines",
         "showlegend": false,
         "type": "scatter",
         "x": [
          0,
          0
         ],
         "xaxis": "x12",
         "y": [
          0,
          1
         ],
         "yaxis": "y12"
        },
        {
         "hoverinfo": "skip",
         "line": {
          "color": "blue",
          "width": 1
         },
         "mode": "lines",
         "showlegend": false,
         "type": "scatter",
         "x": [
          1,
          1
         ],
         "xaxis": "x12",
         "y": [
          0,
          0.8485690770479722
         ],
         "yaxis": "y12"
        },
        {
         "hoverinfo": "skip",
         "line": {
          "color": "blue",
          "width": 1
         },
         "mode": "lines",
         "showlegend": false,
         "type": "scatter",
         "x": [
          2,
          2
         ],
         "xaxis": "x12",
         "y": [
          0,
          0.5174554997041984
         ],
         "yaxis": "y12"
        },
        {
         "hoverinfo": "skip",
         "line": {
          "color": "blue",
          "width": 1
         },
         "mode": "lines",
         "showlegend": false,
         "type": "scatter",
         "x": [
          3,
          3
         ],
         "xaxis": "x12",
         "y": [
          0,
          0.10372047322749257
         ],
         "yaxis": "y12"
        },
        {
         "hoverinfo": "skip",
         "line": {
          "color": "blue",
          "width": 1
         },
         "mode": "lines",
         "showlegend": false,
         "type": "scatter",
         "x": [
          4,
          4
         ],
         "xaxis": "x12",
         "y": [
          0,
          -0.2807189125570489
         ],
         "yaxis": "y12"
        },
        {
         "hoverinfo": "skip",
         "line": {
          "color": "blue",
          "width": 1
         },
         "mode": "lines",
         "showlegend": false,
         "type": "scatter",
         "x": [
          5,
          5
         ],
         "xaxis": "x12",
         "y": [
          0,
          -0.566489745155067
         ],
         "yaxis": "y12"
        },
        {
         "hoverinfo": "skip",
         "line": {
          "color": "blue",
          "width": 1
         },
         "mode": "lines",
         "showlegend": false,
         "type": "scatter",
         "x": [
          6,
          6
         ],
         "xaxis": "x12",
         "y": [
          0,
          -0.6919367897756475
         ],
         "yaxis": "y12"
        },
        {
         "hoverinfo": "skip",
         "line": {
          "color": "blue",
          "width": 1
         },
         "mode": "lines",
         "showlegend": false,
         "type": "scatter",
         "x": [
          7,
          7
         ],
         "xaxis": "x12",
         "y": [
          0,
          -0.5968196936246479
         ],
         "yaxis": "y12"
        },
        {
         "hoverinfo": "skip",
         "line": {
          "color": "blue",
          "width": 1
         },
         "mode": "lines",
         "showlegend": false,
         "type": "scatter",
         "x": [
          8,
          8
         ],
         "xaxis": "x12",
         "y": [
          0,
          -0.35103038459215974
         ],
         "yaxis": "y12"
        },
        {
         "hoverinfo": "skip",
         "line": {
          "color": "blue",
          "width": 1
         },
         "mode": "lines",
         "showlegend": false,
         "type": "scatter",
         "x": [
          9,
          9
         ],
         "xaxis": "x12",
         "y": [
          0,
          -0.026289369257593814
         ],
         "yaxis": "y12"
        },
        {
         "hoverinfo": "skip",
         "line": {
          "color": "blue",
          "width": 1
         },
         "mode": "lines",
         "showlegend": false,
         "type": "scatter",
         "x": [
          10,
          10
         ],
         "xaxis": "x12",
         "y": [
          0,
          0.284410281054448
         ],
         "yaxis": "y12"
        },
        {
         "hoverinfo": "skip",
         "line": {
          "color": "blue",
          "width": 1
         },
         "mode": "lines",
         "showlegend": false,
         "type": "scatter",
         "x": [
          11,
          11
         ],
         "xaxis": "x12",
         "y": [
          0,
          0.5173528504431559
         ],
         "yaxis": "y12"
        },
        {
         "hoverinfo": "skip",
         "line": {
          "color": "blue",
          "width": 1
         },
         "mode": "lines",
         "showlegend": false,
         "type": "scatter",
         "x": [
          12,
          12
         ],
         "xaxis": "x12",
         "y": [
          0,
          0.6168361002050263
         ],
         "yaxis": "y12"
        },
        {
         "hoverinfo": "skip",
         "line": {
          "color": "blue",
          "width": 1
         },
         "mode": "lines",
         "showlegend": false,
         "type": "scatter",
         "x": [
          13,
          13
         ],
         "xaxis": "x12",
         "y": [
          0,
          0.5332865843700494
         ],
         "yaxis": "y12"
        },
        {
         "hoverinfo": "skip",
         "line": {
          "color": "blue",
          "width": 1
         },
         "mode": "lines",
         "showlegend": false,
         "type": "scatter",
         "x": [
          14,
          14
         ],
         "xaxis": "x12",
         "y": [
          0,
          0.3223567157306965
         ],
         "yaxis": "y12"
        },
        {
         "hoverinfo": "skip",
         "line": {
          "color": "blue",
          "width": 1
         },
         "mode": "lines",
         "showlegend": false,
         "type": "scatter",
         "x": [
          15,
          15
         ],
         "xaxis": "x12",
         "y": [
          0,
          0.0410434502333507
         ],
         "yaxis": "y12"
        },
        {
         "hoverinfo": "skip",
         "line": {
          "color": "blue",
          "width": 1
         },
         "mode": "lines",
         "showlegend": false,
         "type": "scatter",
         "x": [
          16,
          16
         ],
         "xaxis": "x12",
         "y": [
          0,
          -0.23843298435466598
         ],
         "yaxis": "y12"
        },
        {
         "hoverinfo": "skip",
         "line": {
          "color": "blue",
          "width": 1
         },
         "mode": "lines",
         "showlegend": false,
         "type": "scatter",
         "x": [
          17,
          17
         ],
         "xaxis": "x12",
         "y": [
          0,
          -0.4604569166876589
         ],
         "yaxis": "y12"
        },
        {
         "hoverinfo": "skip",
         "line": {
          "color": "blue",
          "width": 1
         },
         "mode": "lines",
         "showlegend": false,
         "type": "scatter",
         "x": [
          18,
          18
         ],
         "xaxis": "x12",
         "y": [
          0,
          -0.5774530434803177
         ],
         "yaxis": "y12"
        },
        {
         "hoverinfo": "skip",
         "line": {
          "color": "blue",
          "width": 1
         },
         "mode": "lines",
         "showlegend": false,
         "type": "scatter",
         "x": [
          19,
          19
         ],
         "xaxis": "x12",
         "y": [
          0,
          -0.530170874025845
         ],
         "yaxis": "y12"
        },
        {
         "hoverinfo": "skip",
         "line": {
          "color": "blue",
          "width": 1
         },
         "mode": "lines",
         "showlegend": false,
         "type": "scatter",
         "x": [
          20,
          20
         ],
         "xaxis": "x12",
         "y": [
          0,
          -0.3684689907101779
         ],
         "yaxis": "y12"
        },
        {
         "hoverinfo": "skip",
         "line": {
          "color": "blue",
          "width": 1
         },
         "mode": "lines",
         "showlegend": false,
         "type": "scatter",
         "x": [
          21,
          21
         ],
         "xaxis": "x12",
         "y": [
          0,
          -0.1444916992809018
         ],
         "yaxis": "y12"
        },
        {
         "hoverinfo": "skip",
         "line": {
          "color": "blue",
          "width": 1
         },
         "mode": "lines",
         "showlegend": false,
         "type": "scatter",
         "x": [
          22,
          22
         ],
         "xaxis": "x12",
         "y": [
          0,
          0.05765458301393614
         ],
         "yaxis": "y12"
        },
        {
         "hoverinfo": "skip",
         "line": {
          "color": "blue",
          "width": 1
         },
         "mode": "lines",
         "showlegend": false,
         "type": "scatter",
         "x": [
          23,
          23
         ],
         "xaxis": "x12",
         "y": [
          0,
          0.20682186056771726
         ],
         "yaxis": "y12"
        },
        {
         "hoverinfo": "skip",
         "line": {
          "color": "blue",
          "width": 1
         },
         "mode": "lines",
         "showlegend": false,
         "type": "scatter",
         "x": [
          24,
          24
         ],
         "xaxis": "x12",
         "y": [
          0,
          0.28398991702209486
         ],
         "yaxis": "y12"
        },
        {
         "hoverinfo": "skip",
         "line": {
          "color": "blue",
          "width": 1
         },
         "mode": "lines",
         "showlegend": false,
         "type": "scatter",
         "x": [
          25,
          25
         ],
         "xaxis": "x12",
         "y": [
          0,
          0.2651207917697602
         ],
         "yaxis": "y12"
        },
        {
         "hoverinfo": "skip",
         "line": {
          "color": "blue",
          "width": 1
         },
         "mode": "lines",
         "showlegend": false,
         "type": "scatter",
         "x": [
          26,
          26
         ],
         "xaxis": "x12",
         "y": [
          0,
          0.17651598368355131
         ],
         "yaxis": "y12"
        },
        {
         "hoverinfo": "skip",
         "line": {
          "color": "blue",
          "width": 1
         },
         "mode": "lines",
         "showlegend": false,
         "type": "scatter",
         "x": [
          27,
          27
         ],
         "xaxis": "x12",
         "y": [
          0,
          0.04302488503008339
         ],
         "yaxis": "y12"
        },
        {
         "hoverinfo": "skip",
         "line": {
          "color": "blue",
          "width": 1
         },
         "mode": "lines",
         "showlegend": false,
         "type": "scatter",
         "x": [
          28,
          28
         ],
         "xaxis": "x12",
         "y": [
          0,
          -0.08651193574019594
         ],
         "yaxis": "y12"
        },
        {
         "hoverinfo": "skip",
         "line": {
          "color": "blue",
          "width": 1
         },
         "mode": "lines",
         "showlegend": false,
         "type": "scatter",
         "x": [
          29,
          29
         ],
         "xaxis": "x12",
         "y": [
          0,
          -0.18569007041413976
         ],
         "yaxis": "y12"
        },
        {
         "hoverinfo": "skip",
         "line": {
          "color": "blue",
          "width": 1
         },
         "mode": "lines",
         "showlegend": false,
         "type": "scatter",
         "x": [
          30,
          30
         ],
         "xaxis": "x12",
         "y": [
          0,
          -0.2339673189296506
         ],
         "yaxis": "y12"
        },
        {
         "hovertemplate": "Lag %{x}<br>ACF: %{y:.2f}<extra></extra>",
         "line": {
          "color": "blue",
          "width": 1
         },
         "marker": {
          "color": "blue",
          "size": 5
         },
         "mode": "lines+markers",
         "name": "PRO27392_org",
         "type": "scatter",
         "x": [
          0,
          1,
          2,
          3,
          4,
          5,
          6,
          7,
          8,
          9,
          10,
          11,
          12,
          13,
          14,
          15,
          16,
          17,
          18,
          19,
          20,
          21,
          22,
          23,
          24,
          25,
          26,
          27,
          28,
          29,
          30
         ],
         "xaxis": "x13",
         "y": [
          1,
          -0.037532046571493456,
          -0.23064340752012127,
          0.4106765757391496,
          0.07697696872404146,
          -0.19017088492580544,
          0.18302075050329927,
          -0.2566784555218682,
          -0.019737099480450694,
          0.2416674067760497,
          -0.3748517536017532,
          -0.2040885015998869,
          0.5087054282716957,
          -0.1735566603022754,
          -0.30875809600521537,
          0.191170416466445,
          0.0012087995541261917,
          -0.1746660496115647,
          0.038355559564432776,
          -0.20328565117409042,
          -0.04395685349061505,
          0.10236027809618038,
          -0.24792733725718125,
          -0.12733736083769362,
          0.3316263369955016,
          -0.06424439702091708,
          -0.13526374541961797,
          0.10730067532021337,
          0.03456597574230806,
          -0.05877612350353773,
          0.0490473237345856
         ],
         "yaxis": "y13"
        },
        {
         "hoverinfo": "skip",
         "line": {
          "color": "blue",
          "width": 1
         },
         "mode": "lines",
         "showlegend": false,
         "type": "scatter",
         "x": [
          0,
          0
         ],
         "xaxis": "x13",
         "y": [
          0,
          1
         ],
         "yaxis": "y13"
        },
        {
         "hoverinfo": "skip",
         "line": {
          "color": "blue",
          "width": 1
         },
         "mode": "lines",
         "showlegend": false,
         "type": "scatter",
         "x": [
          1,
          1
         ],
         "xaxis": "x13",
         "y": [
          0,
          -0.037532046571493456
         ],
         "yaxis": "y13"
        },
        {
         "hoverinfo": "skip",
         "line": {
          "color": "blue",
          "width": 1
         },
         "mode": "lines",
         "showlegend": false,
         "type": "scatter",
         "x": [
          2,
          2
         ],
         "xaxis": "x13",
         "y": [
          0,
          -0.23064340752012127
         ],
         "yaxis": "y13"
        },
        {
         "hoverinfo": "skip",
         "line": {
          "color": "blue",
          "width": 1
         },
         "mode": "lines",
         "showlegend": false,
         "type": "scatter",
         "x": [
          3,
          3
         ],
         "xaxis": "x13",
         "y": [
          0,
          0.4106765757391496
         ],
         "yaxis": "y13"
        },
        {
         "hoverinfo": "skip",
         "line": {
          "color": "blue",
          "width": 1
         },
         "mode": "lines",
         "showlegend": false,
         "type": "scatter",
         "x": [
          4,
          4
         ],
         "xaxis": "x13",
         "y": [
          0,
          0.07697696872404146
         ],
         "yaxis": "y13"
        },
        {
         "hoverinfo": "skip",
         "line": {
          "color": "blue",
          "width": 1
         },
         "mode": "lines",
         "showlegend": false,
         "type": "scatter",
         "x": [
          5,
          5
         ],
         "xaxis": "x13",
         "y": [
          0,
          -0.19017088492580544
         ],
         "yaxis": "y13"
        },
        {
         "hoverinfo": "skip",
         "line": {
          "color": "blue",
          "width": 1
         },
         "mode": "lines",
         "showlegend": false,
         "type": "scatter",
         "x": [
          6,
          6
         ],
         "xaxis": "x13",
         "y": [
          0,
          0.18302075050329927
         ],
         "yaxis": "y13"
        },
        {
         "hoverinfo": "skip",
         "line": {
          "color": "blue",
          "width": 1
         },
         "mode": "lines",
         "showlegend": false,
         "type": "scatter",
         "x": [
          7,
          7
         ],
         "xaxis": "x13",
         "y": [
          0,
          -0.2566784555218682
         ],
         "yaxis": "y13"
        },
        {
         "hoverinfo": "skip",
         "line": {
          "color": "blue",
          "width": 1
         },
         "mode": "lines",
         "showlegend": false,
         "type": "scatter",
         "x": [
          8,
          8
         ],
         "xaxis": "x13",
         "y": [
          0,
          -0.019737099480450694
         ],
         "yaxis": "y13"
        },
        {
         "hoverinfo": "skip",
         "line": {
          "color": "blue",
          "width": 1
         },
         "mode": "lines",
         "showlegend": false,
         "type": "scatter",
         "x": [
          9,
          9
         ],
         "xaxis": "x13",
         "y": [
          0,
          0.2416674067760497
         ],
         "yaxis": "y13"
        },
        {
         "hoverinfo": "skip",
         "line": {
          "color": "blue",
          "width": 1
         },
         "mode": "lines",
         "showlegend": false,
         "type": "scatter",
         "x": [
          10,
          10
         ],
         "xaxis": "x13",
         "y": [
          0,
          -0.3748517536017532
         ],
         "yaxis": "y13"
        },
        {
         "hoverinfo": "skip",
         "line": {
          "color": "blue",
          "width": 1
         },
         "mode": "lines",
         "showlegend": false,
         "type": "scatter",
         "x": [
          11,
          11
         ],
         "xaxis": "x13",
         "y": [
          0,
          -0.2040885015998869
         ],
         "yaxis": "y13"
        },
        {
         "hoverinfo": "skip",
         "line": {
          "color": "blue",
          "width": 1
         },
         "mode": "lines",
         "showlegend": false,
         "type": "scatter",
         "x": [
          12,
          12
         ],
         "xaxis": "x13",
         "y": [
          0,
          0.5087054282716957
         ],
         "yaxis": "y13"
        },
        {
         "hoverinfo": "skip",
         "line": {
          "color": "blue",
          "width": 1
         },
         "mode": "lines",
         "showlegend": false,
         "type": "scatter",
         "x": [
          13,
          13
         ],
         "xaxis": "x13",
         "y": [
          0,
          -0.1735566603022754
         ],
         "yaxis": "y13"
        },
        {
         "hoverinfo": "skip",
         "line": {
          "color": "blue",
          "width": 1
         },
         "mode": "lines",
         "showlegend": false,
         "type": "scatter",
         "x": [
          14,
          14
         ],
         "xaxis": "x13",
         "y": [
          0,
          -0.30875809600521537
         ],
         "yaxis": "y13"
        },
        {
         "hoverinfo": "skip",
         "line": {
          "color": "blue",
          "width": 1
         },
         "mode": "lines",
         "showlegend": false,
         "type": "scatter",
         "x": [
          15,
          15
         ],
         "xaxis": "x13",
         "y": [
          0,
          0.191170416466445
         ],
         "yaxis": "y13"
        },
        {
         "hoverinfo": "skip",
         "line": {
          "color": "blue",
          "width": 1
         },
         "mode": "lines",
         "showlegend": false,
         "type": "scatter",
         "x": [
          16,
          16
         ],
         "xaxis": "x13",
         "y": [
          0,
          0.0012087995541261917
         ],
         "yaxis": "y13"
        },
        {
         "hoverinfo": "skip",
         "line": {
          "color": "blue",
          "width": 1
         },
         "mode": "lines",
         "showlegend": false,
         "type": "scatter",
         "x": [
          17,
          17
         ],
         "xaxis": "x13",
         "y": [
          0,
          -0.1746660496115647
         ],
         "yaxis": "y13"
        },
        {
         "hoverinfo": "skip",
         "line": {
          "color": "blue",
          "width": 1
         },
         "mode": "lines",
         "showlegend": false,
         "type": "scatter",
         "x": [
          18,
          18
         ],
         "xaxis": "x13",
         "y": [
          0,
          0.038355559564432776
         ],
         "yaxis": "y13"
        },
        {
         "hoverinfo": "skip",
         "line": {
          "color": "blue",
          "width": 1
         },
         "mode": "lines",
         "showlegend": false,
         "type": "scatter",
         "x": [
          19,
          19
         ],
         "xaxis": "x13",
         "y": [
          0,
          -0.20328565117409042
         ],
         "yaxis": "y13"
        },
        {
         "hoverinfo": "skip",
         "line": {
          "color": "blue",
          "width": 1
         },
         "mode": "lines",
         "showlegend": false,
         "type": "scatter",
         "x": [
          20,
          20
         ],
         "xaxis": "x13",
         "y": [
          0,
          -0.04395685349061505
         ],
         "yaxis": "y13"
        },
        {
         "hoverinfo": "skip",
         "line": {
          "color": "blue",
          "width": 1
         },
         "mode": "lines",
         "showlegend": false,
         "type": "scatter",
         "x": [
          21,
          21
         ],
         "xaxis": "x13",
         "y": [
          0,
          0.10236027809618038
         ],
         "yaxis": "y13"
        },
        {
         "hoverinfo": "skip",
         "line": {
          "color": "blue",
          "width": 1
         },
         "mode": "lines",
         "showlegend": false,
         "type": "scatter",
         "x": [
          22,
          22
         ],
         "xaxis": "x13",
         "y": [
          0,
          -0.24792733725718125
         ],
         "yaxis": "y13"
        },
        {
         "hoverinfo": "skip",
         "line": {
          "color": "blue",
          "width": 1
         },
         "mode": "lines",
         "showlegend": false,
         "type": "scatter",
         "x": [
          23,
          23
         ],
         "xaxis": "x13",
         "y": [
          0,
          -0.12733736083769362
         ],
         "yaxis": "y13"
        },
        {
         "hoverinfo": "skip",
         "line": {
          "color": "blue",
          "width": 1
         },
         "mode": "lines",
         "showlegend": false,
         "type": "scatter",
         "x": [
          24,
          24
         ],
         "xaxis": "x13",
         "y": [
          0,
          0.3316263369955016
         ],
         "yaxis": "y13"
        },
        {
         "hoverinfo": "skip",
         "line": {
          "color": "blue",
          "width": 1
         },
         "mode": "lines",
         "showlegend": false,
         "type": "scatter",
         "x": [
          25,
          25
         ],
         "xaxis": "x13",
         "y": [
          0,
          -0.06424439702091708
         ],
         "yaxis": "y13"
        },
        {
         "hoverinfo": "skip",
         "line": {
          "color": "blue",
          "width": 1
         },
         "mode": "lines",
         "showlegend": false,
         "type": "scatter",
         "x": [
          26,
          26
         ],
         "xaxis": "x13",
         "y": [
          0,
          -0.13526374541961797
         ],
         "yaxis": "y13"
        },
        {
         "hoverinfo": "skip",
         "line": {
          "color": "blue",
          "width": 1
         },
         "mode": "lines",
         "showlegend": false,
         "type": "scatter",
         "x": [
          27,
          27
         ],
         "xaxis": "x13",
         "y": [
          0,
          0.10730067532021337
         ],
         "yaxis": "y13"
        },
        {
         "hoverinfo": "skip",
         "line": {
          "color": "blue",
          "width": 1
         },
         "mode": "lines",
         "showlegend": false,
         "type": "scatter",
         "x": [
          28,
          28
         ],
         "xaxis": "x13",
         "y": [
          0,
          0.03456597574230806
         ],
         "yaxis": "y13"
        },
        {
         "hoverinfo": "skip",
         "line": {
          "color": "blue",
          "width": 1
         },
         "mode": "lines",
         "showlegend": false,
         "type": "scatter",
         "x": [
          29,
          29
         ],
         "xaxis": "x13",
         "y": [
          0,
          -0.05877612350353773
         ],
         "yaxis": "y13"
        },
        {
         "hoverinfo": "skip",
         "line": {
          "color": "blue",
          "width": 1
         },
         "mode": "lines",
         "showlegend": false,
         "type": "scatter",
         "x": [
          30,
          30
         ],
         "xaxis": "x13",
         "y": [
          0,
          0.0490473237345856
         ],
         "yaxis": "y13"
        },
        {
         "hovertemplate": "Lag %{x}<br>ACF: %{y:.2f}<extra></extra>",
         "line": {
          "color": "blue",
          "width": 1
         },
         "marker": {
          "color": "blue",
          "size": 5
         },
         "mode": "lines+markers",
         "name": "PRO28380_org",
         "type": "scatter",
         "x": [
          0,
          1,
          2,
          3,
          4,
          5,
          6,
          7,
          8,
          9,
          10,
          11,
          12,
          13,
          14,
          15,
          16,
          17,
          18,
          19,
          20,
          21,
          22,
          23,
          24,
          25,
          26,
          27,
          28,
          29,
          30
         ],
         "xaxis": "x14",
         "y": [
          1,
          0.10006174089472943,
          -0.11088702422843542,
          -0.07021887396037363,
          0.36226704848194774,
          0.12528790592954384,
          -0.14428354169883173,
          0.006675595333807574,
          0.2879166402319754,
          -0.04292885455386522,
          -0.2796653690697075,
          -0.20809137688426912,
          0.27271389017070286,
          -0.2231869793308933,
          -0.24889939601918984,
          -0.21345874788301714,
          0.1688830754216175,
          0.013218543123613676,
          -0.21721553149495654,
          -0.20222246724308235,
          0.058774878263901494,
          0.0067544929977165335,
          -0.14217977915724875,
          -0.1314529074314344,
          0.17333552760651508,
          -0.0027990084836849467,
          -0.04238196839257256,
          -0.12889965634505957,
          0.08061678938043572,
          0.08342579464603396,
          0.01816891876349251
         ],
         "yaxis": "y14"
        },
        {
         "hoverinfo": "skip",
         "line": {
          "color": "blue",
          "width": 1
         },
         "mode": "lines",
         "showlegend": false,
         "type": "scatter",
         "x": [
          0,
          0
         ],
         "xaxis": "x14",
         "y": [
          0,
          1
         ],
         "yaxis": "y14"
        },
        {
         "hoverinfo": "skip",
         "line": {
          "color": "blue",
          "width": 1
         },
         "mode": "lines",
         "showlegend": false,
         "type": "scatter",
         "x": [
          1,
          1
         ],
         "xaxis": "x14",
         "y": [
          0,
          0.10006174089472943
         ],
         "yaxis": "y14"
        },
        {
         "hoverinfo": "skip",
         "line": {
          "color": "blue",
          "width": 1
         },
         "mode": "lines",
         "showlegend": false,
         "type": "scatter",
         "x": [
          2,
          2
         ],
         "xaxis": "x14",
         "y": [
          0,
          -0.11088702422843542
         ],
         "yaxis": "y14"
        },
        {
         "hoverinfo": "skip",
         "line": {
          "color": "blue",
          "width": 1
         },
         "mode": "lines",
         "showlegend": false,
         "type": "scatter",
         "x": [
          3,
          3
         ],
         "xaxis": "x14",
         "y": [
          0,
          -0.07021887396037363
         ],
         "yaxis": "y14"
        },
        {
         "hoverinfo": "skip",
         "line": {
          "color": "blue",
          "width": 1
         },
         "mode": "lines",
         "showlegend": false,
         "type": "scatter",
         "x": [
          4,
          4
         ],
         "xaxis": "x14",
         "y": [
          0,
          0.36226704848194774
         ],
         "yaxis": "y14"
        },
        {
         "hoverinfo": "skip",
         "line": {
          "color": "blue",
          "width": 1
         },
         "mode": "lines",
         "showlegend": false,
         "type": "scatter",
         "x": [
          5,
          5
         ],
         "xaxis": "x14",
         "y": [
          0,
          0.12528790592954384
         ],
         "yaxis": "y14"
        },
        {
         "hoverinfo": "skip",
         "line": {
          "color": "blue",
          "width": 1
         },
         "mode": "lines",
         "showlegend": false,
         "type": "scatter",
         "x": [
          6,
          6
         ],
         "xaxis": "x14",
         "y": [
          0,
          -0.14428354169883173
         ],
         "yaxis": "y14"
        },
        {
         "hoverinfo": "skip",
         "line": {
          "color": "blue",
          "width": 1
         },
         "mode": "lines",
         "showlegend": false,
         "type": "scatter",
         "x": [
          7,
          7
         ],
         "xaxis": "x14",
         "y": [
          0,
          0.006675595333807574
         ],
         "yaxis": "y14"
        },
        {
         "hoverinfo": "skip",
         "line": {
          "color": "blue",
          "width": 1
         },
         "mode": "lines",
         "showlegend": false,
         "type": "scatter",
         "x": [
          8,
          8
         ],
         "xaxis": "x14",
         "y": [
          0,
          0.2879166402319754
         ],
         "yaxis": "y14"
        },
        {
         "hoverinfo": "skip",
         "line": {
          "color": "blue",
          "width": 1
         },
         "mode": "lines",
         "showlegend": false,
         "type": "scatter",
         "x": [
          9,
          9
         ],
         "xaxis": "x14",
         "y": [
          0,
          -0.04292885455386522
         ],
         "yaxis": "y14"
        },
        {
         "hoverinfo": "skip",
         "line": {
          "color": "blue",
          "width": 1
         },
         "mode": "lines",
         "showlegend": false,
         "type": "scatter",
         "x": [
          10,
          10
         ],
         "xaxis": "x14",
         "y": [
          0,
          -0.2796653690697075
         ],
         "yaxis": "y14"
        },
        {
         "hoverinfo": "skip",
         "line": {
          "color": "blue",
          "width": 1
         },
         "mode": "lines",
         "showlegend": false,
         "type": "scatter",
         "x": [
          11,
          11
         ],
         "xaxis": "x14",
         "y": [
          0,
          -0.20809137688426912
         ],
         "yaxis": "y14"
        },
        {
         "hoverinfo": "skip",
         "line": {
          "color": "blue",
          "width": 1
         },
         "mode": "lines",
         "showlegend": false,
         "type": "scatter",
         "x": [
          12,
          12
         ],
         "xaxis": "x14",
         "y": [
          0,
          0.27271389017070286
         ],
         "yaxis": "y14"
        },
        {
         "hoverinfo": "skip",
         "line": {
          "color": "blue",
          "width": 1
         },
         "mode": "lines",
         "showlegend": false,
         "type": "scatter",
         "x": [
          13,
          13
         ],
         "xaxis": "x14",
         "y": [
          0,
          -0.2231869793308933
         ],
         "yaxis": "y14"
        },
        {
         "hoverinfo": "skip",
         "line": {
          "color": "blue",
          "width": 1
         },
         "mode": "lines",
         "showlegend": false,
         "type": "scatter",
         "x": [
          14,
          14
         ],
         "xaxis": "x14",
         "y": [
          0,
          -0.24889939601918984
         ],
         "yaxis": "y14"
        },
        {
         "hoverinfo": "skip",
         "line": {
          "color": "blue",
          "width": 1
         },
         "mode": "lines",
         "showlegend": false,
         "type": "scatter",
         "x": [
          15,
          15
         ],
         "xaxis": "x14",
         "y": [
          0,
          -0.21345874788301714
         ],
         "yaxis": "y14"
        },
        {
         "hoverinfo": "skip",
         "line": {
          "color": "blue",
          "width": 1
         },
         "mode": "lines",
         "showlegend": false,
         "type": "scatter",
         "x": [
          16,
          16
         ],
         "xaxis": "x14",
         "y": [
          0,
          0.1688830754216175
         ],
         "yaxis": "y14"
        },
        {
         "hoverinfo": "skip",
         "line": {
          "color": "blue",
          "width": 1
         },
         "mode": "lines",
         "showlegend": false,
         "type": "scatter",
         "x": [
          17,
          17
         ],
         "xaxis": "x14",
         "y": [
          0,
          0.013218543123613676
         ],
         "yaxis": "y14"
        },
        {
         "hoverinfo": "skip",
         "line": {
          "color": "blue",
          "width": 1
         },
         "mode": "lines",
         "showlegend": false,
         "type": "scatter",
         "x": [
          18,
          18
         ],
         "xaxis": "x14",
         "y": [
          0,
          -0.21721553149495654
         ],
         "yaxis": "y14"
        },
        {
         "hoverinfo": "skip",
         "line": {
          "color": "blue",
          "width": 1
         },
         "mode": "lines",
         "showlegend": false,
         "type": "scatter",
         "x": [
          19,
          19
         ],
         "xaxis": "x14",
         "y": [
          0,
          -0.20222246724308235
         ],
         "yaxis": "y14"
        },
        {
         "hoverinfo": "skip",
         "line": {
          "color": "blue",
          "width": 1
         },
         "mode": "lines",
         "showlegend": false,
         "type": "scatter",
         "x": [
          20,
          20
         ],
         "xaxis": "x14",
         "y": [
          0,
          0.058774878263901494
         ],
         "yaxis": "y14"
        },
        {
         "hoverinfo": "skip",
         "line": {
          "color": "blue",
          "width": 1
         },
         "mode": "lines",
         "showlegend": false,
         "type": "scatter",
         "x": [
          21,
          21
         ],
         "xaxis": "x14",
         "y": [
          0,
          0.0067544929977165335
         ],
         "yaxis": "y14"
        },
        {
         "hoverinfo": "skip",
         "line": {
          "color": "blue",
          "width": 1
         },
         "mode": "lines",
         "showlegend": false,
         "type": "scatter",
         "x": [
          22,
          22
         ],
         "xaxis": "x14",
         "y": [
          0,
          -0.14217977915724875
         ],
         "yaxis": "y14"
        },
        {
         "hoverinfo": "skip",
         "line": {
          "color": "blue",
          "width": 1
         },
         "mode": "lines",
         "showlegend": false,
         "type": "scatter",
         "x": [
          23,
          23
         ],
         "xaxis": "x14",
         "y": [
          0,
          -0.1314529074314344
         ],
         "yaxis": "y14"
        },
        {
         "hoverinfo": "skip",
         "line": {
          "color": "blue",
          "width": 1
         },
         "mode": "lines",
         "showlegend": false,
         "type": "scatter",
         "x": [
          24,
          24
         ],
         "xaxis": "x14",
         "y": [
          0,
          0.17333552760651508
         ],
         "yaxis": "y14"
        },
        {
         "hoverinfo": "skip",
         "line": {
          "color": "blue",
          "width": 1
         },
         "mode": "lines",
         "showlegend": false,
         "type": "scatter",
         "x": [
          25,
          25
         ],
         "xaxis": "x14",
         "y": [
          0,
          -0.0027990084836849467
         ],
         "yaxis": "y14"
        },
        {
         "hoverinfo": "skip",
         "line": {
          "color": "blue",
          "width": 1
         },
         "mode": "lines",
         "showlegend": false,
         "type": "scatter",
         "x": [
          26,
          26
         ],
         "xaxis": "x14",
         "y": [
          0,
          -0.04238196839257256
         ],
         "yaxis": "y14"
        },
        {
         "hoverinfo": "skip",
         "line": {
          "color": "blue",
          "width": 1
         },
         "mode": "lines",
         "showlegend": false,
         "type": "scatter",
         "x": [
          27,
          27
         ],
         "xaxis": "x14",
         "y": [
          0,
          -0.12889965634505957
         ],
         "yaxis": "y14"
        },
        {
         "hoverinfo": "skip",
         "line": {
          "color": "blue",
          "width": 1
         },
         "mode": "lines",
         "showlegend": false,
         "type": "scatter",
         "x": [
          28,
          28
         ],
         "xaxis": "x14",
         "y": [
          0,
          0.08061678938043572
         ],
         "yaxis": "y14"
        },
        {
         "hoverinfo": "skip",
         "line": {
          "color": "blue",
          "width": 1
         },
         "mode": "lines",
         "showlegend": false,
         "type": "scatter",
         "x": [
          29,
          29
         ],
         "xaxis": "x14",
         "y": [
          0,
          0.08342579464603396
         ],
         "yaxis": "y14"
        },
        {
         "hoverinfo": "skip",
         "line": {
          "color": "blue",
          "width": 1
         },
         "mode": "lines",
         "showlegend": false,
         "type": "scatter",
         "x": [
          30,
          30
         ],
         "xaxis": "x14",
         "y": [
          0,
          0.01816891876349251
         ],
         "yaxis": "y14"
        },
        {
         "hovertemplate": "Lag %{x}<br>ACF: %{y:.2f}<extra></extra>",
         "line": {
          "color": "blue",
          "width": 1
         },
         "marker": {
          "color": "blue",
          "size": 5
         },
         "mode": "lines+markers",
         "name": "PRO28276_org",
         "type": "scatter",
         "x": [
          0,
          1,
          2,
          3,
          4,
          5,
          6,
          7,
          8,
          9,
          10,
          11,
          12,
          13,
          14,
          15,
          16,
          17,
          18,
          19,
          20,
          21,
          22,
          23,
          24,
          25,
          26,
          27,
          28,
          29,
          30
         ],
         "xaxis": "x15",
         "y": [
          1,
          0.1567592697274599,
          -0.03153740293674377,
          0.4169665153793238,
          0.0632901674570367,
          0.024667840771025476,
          0.18946244087145245,
          -0.06689503348176457,
          -0.03211844065492672,
          0.22540377019127236,
          -0.23296150968302431,
          -0.12936858695618578,
          0.392702807217288,
          -0.15673262093988485,
          -0.2592777093079271,
          0.07296378695658473,
          -0.17995923216963455,
          -0.21899054943865334,
          -0.06977841377964604,
          -0.18239741720436925,
          -0.12522114574145068,
          0.0698564360695114,
          -0.17572018322387817,
          -0.057474965605866006,
          0.2627427640766362,
          -0.07204527730590174,
          -0.1317631232509455,
          0.016962476595001004,
          -0.03896417160616993,
          -0.02432518329254497,
          0.00013076903462602075
         ],
         "yaxis": "y15"
        },
        {
         "hoverinfo": "skip",
         "line": {
          "color": "blue",
          "width": 1
         },
         "mode": "lines",
         "showlegend": false,
         "type": "scatter",
         "x": [
          0,
          0
         ],
         "xaxis": "x15",
         "y": [
          0,
          1
         ],
         "yaxis": "y15"
        },
        {
         "hoverinfo": "skip",
         "line": {
          "color": "blue",
          "width": 1
         },
         "mode": "lines",
         "showlegend": false,
         "type": "scatter",
         "x": [
          1,
          1
         ],
         "xaxis": "x15",
         "y": [
          0,
          0.1567592697274599
         ],
         "yaxis": "y15"
        },
        {
         "hoverinfo": "skip",
         "line": {
          "color": "blue",
          "width": 1
         },
         "mode": "lines",
         "showlegend": false,
         "type": "scatter",
         "x": [
          2,
          2
         ],
         "xaxis": "x15",
         "y": [
          0,
          -0.03153740293674377
         ],
         "yaxis": "y15"
        },
        {
         "hoverinfo": "skip",
         "line": {
          "color": "blue",
          "width": 1
         },
         "mode": "lines",
         "showlegend": false,
         "type": "scatter",
         "x": [
          3,
          3
         ],
         "xaxis": "x15",
         "y": [
          0,
          0.4169665153793238
         ],
         "yaxis": "y15"
        },
        {
         "hoverinfo": "skip",
         "line": {
          "color": "blue",
          "width": 1
         },
         "mode": "lines",
         "showlegend": false,
         "type": "scatter",
         "x": [
          4,
          4
         ],
         "xaxis": "x15",
         "y": [
          0,
          0.0632901674570367
         ],
         "yaxis": "y15"
        },
        {
         "hoverinfo": "skip",
         "line": {
          "color": "blue",
          "width": 1
         },
         "mode": "lines",
         "showlegend": false,
         "type": "scatter",
         "x": [
          5,
          5
         ],
         "xaxis": "x15",
         "y": [
          0,
          0.024667840771025476
         ],
         "yaxis": "y15"
        },
        {
         "hoverinfo": "skip",
         "line": {
          "color": "blue",
          "width": 1
         },
         "mode": "lines",
         "showlegend": false,
         "type": "scatter",
         "x": [
          6,
          6
         ],
         "xaxis": "x15",
         "y": [
          0,
          0.18946244087145245
         ],
         "yaxis": "y15"
        },
        {
         "hoverinfo": "skip",
         "line": {
          "color": "blue",
          "width": 1
         },
         "mode": "lines",
         "showlegend": false,
         "type": "scatter",
         "x": [
          7,
          7
         ],
         "xaxis": "x15",
         "y": [
          0,
          -0.06689503348176457
         ],
         "yaxis": "y15"
        },
        {
         "hoverinfo": "skip",
         "line": {
          "color": "blue",
          "width": 1
         },
         "mode": "lines",
         "showlegend": false,
         "type": "scatter",
         "x": [
          8,
          8
         ],
         "xaxis": "x15",
         "y": [
          0,
          -0.03211844065492672
         ],
         "yaxis": "y15"
        },
        {
         "hoverinfo": "skip",
         "line": {
          "color": "blue",
          "width": 1
         },
         "mode": "lines",
         "showlegend": false,
         "type": "scatter",
         "x": [
          9,
          9
         ],
         "xaxis": "x15",
         "y": [
          0,
          0.22540377019127236
         ],
         "yaxis": "y15"
        },
        {
         "hoverinfo": "skip",
         "line": {
          "color": "blue",
          "width": 1
         },
         "mode": "lines",
         "showlegend": false,
         "type": "scatter",
         "x": [
          10,
          10
         ],
         "xaxis": "x15",
         "y": [
          0,
          -0.23296150968302431
         ],
         "yaxis": "y15"
        },
        {
         "hoverinfo": "skip",
         "line": {
          "color": "blue",
          "width": 1
         },
         "mode": "lines",
         "showlegend": false,
         "type": "scatter",
         "x": [
          11,
          11
         ],
         "xaxis": "x15",
         "y": [
          0,
          -0.12936858695618578
         ],
         "yaxis": "y15"
        },
        {
         "hoverinfo": "skip",
         "line": {
          "color": "blue",
          "width": 1
         },
         "mode": "lines",
         "showlegend": false,
         "type": "scatter",
         "x": [
          12,
          12
         ],
         "xaxis": "x15",
         "y": [
          0,
          0.392702807217288
         ],
         "yaxis": "y15"
        },
        {
         "hoverinfo": "skip",
         "line": {
          "color": "blue",
          "width": 1
         },
         "mode": "lines",
         "showlegend": false,
         "type": "scatter",
         "x": [
          13,
          13
         ],
         "xaxis": "x15",
         "y": [
          0,
          -0.15673262093988485
         ],
         "yaxis": "y15"
        },
        {
         "hoverinfo": "skip",
         "line": {
          "color": "blue",
          "width": 1
         },
         "mode": "lines",
         "showlegend": false,
         "type": "scatter",
         "x": [
          14,
          14
         ],
         "xaxis": "x15",
         "y": [
          0,
          -0.2592777093079271
         ],
         "yaxis": "y15"
        },
        {
         "hoverinfo": "skip",
         "line": {
          "color": "blue",
          "width": 1
         },
         "mode": "lines",
         "showlegend": false,
         "type": "scatter",
         "x": [
          15,
          15
         ],
         "xaxis": "x15",
         "y": [
          0,
          0.07296378695658473
         ],
         "yaxis": "y15"
        },
        {
         "hoverinfo": "skip",
         "line": {
          "color": "blue",
          "width": 1
         },
         "mode": "lines",
         "showlegend": false,
         "type": "scatter",
         "x": [
          16,
          16
         ],
         "xaxis": "x15",
         "y": [
          0,
          -0.17995923216963455
         ],
         "yaxis": "y15"
        },
        {
         "hoverinfo": "skip",
         "line": {
          "color": "blue",
          "width": 1
         },
         "mode": "lines",
         "showlegend": false,
         "type": "scatter",
         "x": [
          17,
          17
         ],
         "xaxis": "x15",
         "y": [
          0,
          -0.21899054943865334
         ],
         "yaxis": "y15"
        },
        {
         "hoverinfo": "skip",
         "line": {
          "color": "blue",
          "width": 1
         },
         "mode": "lines",
         "showlegend": false,
         "type": "scatter",
         "x": [
          18,
          18
         ],
         "xaxis": "x15",
         "y": [
          0,
          -0.06977841377964604
         ],
         "yaxis": "y15"
        },
        {
         "hoverinfo": "skip",
         "line": {
          "color": "blue",
          "width": 1
         },
         "mode": "lines",
         "showlegend": false,
         "type": "scatter",
         "x": [
          19,
          19
         ],
         "xaxis": "x15",
         "y": [
          0,
          -0.18239741720436925
         ],
         "yaxis": "y15"
        },
        {
         "hoverinfo": "skip",
         "line": {
          "color": "blue",
          "width": 1
         },
         "mode": "lines",
         "showlegend": false,
         "type": "scatter",
         "x": [
          20,
          20
         ],
         "xaxis": "x15",
         "y": [
          0,
          -0.12522114574145068
         ],
         "yaxis": "y15"
        },
        {
         "hoverinfo": "skip",
         "line": {
          "color": "blue",
          "width": 1
         },
         "mode": "lines",
         "showlegend": false,
         "type": "scatter",
         "x": [
          21,
          21
         ],
         "xaxis": "x15",
         "y": [
          0,
          0.0698564360695114
         ],
         "yaxis": "y15"
        },
        {
         "hoverinfo": "skip",
         "line": {
          "color": "blue",
          "width": 1
         },
         "mode": "lines",
         "showlegend": false,
         "type": "scatter",
         "x": [
          22,
          22
         ],
         "xaxis": "x15",
         "y": [
          0,
          -0.17572018322387817
         ],
         "yaxis": "y15"
        },
        {
         "hoverinfo": "skip",
         "line": {
          "color": "blue",
          "width": 1
         },
         "mode": "lines",
         "showlegend": false,
         "type": "scatter",
         "x": [
          23,
          23
         ],
         "xaxis": "x15",
         "y": [
          0,
          -0.057474965605866006
         ],
         "yaxis": "y15"
        },
        {
         "hoverinfo": "skip",
         "line": {
          "color": "blue",
          "width": 1
         },
         "mode": "lines",
         "showlegend": false,
         "type": "scatter",
         "x": [
          24,
          24
         ],
         "xaxis": "x15",
         "y": [
          0,
          0.2627427640766362
         ],
         "yaxis": "y15"
        },
        {
         "hoverinfo": "skip",
         "line": {
          "color": "blue",
          "width": 1
         },
         "mode": "lines",
         "showlegend": false,
         "type": "scatter",
         "x": [
          25,
          25
         ],
         "xaxis": "x15",
         "y": [
          0,
          -0.07204527730590174
         ],
         "yaxis": "y15"
        },
        {
         "hoverinfo": "skip",
         "line": {
          "color": "blue",
          "width": 1
         },
         "mode": "lines",
         "showlegend": false,
         "type": "scatter",
         "x": [
          26,
          26
         ],
         "xaxis": "x15",
         "y": [
          0,
          -0.1317631232509455
         ],
         "yaxis": "y15"
        },
        {
         "hoverinfo": "skip",
         "line": {
          "color": "blue",
          "width": 1
         },
         "mode": "lines",
         "showlegend": false,
         "type": "scatter",
         "x": [
          27,
          27
         ],
         "xaxis": "x15",
         "y": [
          0,
          0.016962476595001004
         ],
         "yaxis": "y15"
        },
        {
         "hoverinfo": "skip",
         "line": {
          "color": "blue",
          "width": 1
         },
         "mode": "lines",
         "showlegend": false,
         "type": "scatter",
         "x": [
          28,
          28
         ],
         "xaxis": "x15",
         "y": [
          0,
          -0.03896417160616993
         ],
         "yaxis": "y15"
        },
        {
         "hoverinfo": "skip",
         "line": {
          "color": "blue",
          "width": 1
         },
         "mode": "lines",
         "showlegend": false,
         "type": "scatter",
         "x": [
          29,
          29
         ],
         "xaxis": "x15",
         "y": [
          0,
          -0.02432518329254497
         ],
         "yaxis": "y15"
        },
        {
         "hoverinfo": "skip",
         "line": {
          "color": "blue",
          "width": 1
         },
         "mode": "lines",
         "showlegend": false,
         "type": "scatter",
         "x": [
          30,
          30
         ],
         "xaxis": "x15",
         "y": [
          0,
          0.00013076903462602075
         ],
         "yaxis": "y15"
        }
       ],
       "layout": {
        "annotations": [
         {
          "font": {
           "size": 16
          },
          "showarrow": false,
          "text": "ACF: MAB_ELE_SHP840",
          "x": 0.028666666666666667,
          "xanchor": "center",
          "xref": "paper",
          "y": 1,
          "yanchor": "bottom",
          "yref": "paper"
         },
         {
          "font": {
           "size": 16
          },
          "showarrow": false,
          "text": "ACF: PRI27276_org",
          "x": 0.096,
          "xanchor": "center",
          "xref": "paper",
          "y": 1,
          "yanchor": "bottom",
          "yref": "paper"
         },
         {
          "font": {
           "size": 16
          },
          "showarrow": false,
          "text": "ACF: PRO27826_org",
          "x": 0.16333333333333333,
          "xanchor": "center",
          "xref": "paper",
          "y": 1,
          "yanchor": "bottom",
          "yref": "paper"
         },
         {
          "font": {
           "size": 16
          },
          "showarrow": false,
          "text": "ACF: MAB_ELE_PRO276",
          "x": 0.23066666666666663,
          "xanchor": "center",
          "xref": "paper",
          "y": 1,
          "yanchor": "bottom",
          "yref": "paper"
         },
         {
          "font": {
           "size": 16
          },
          "showarrow": false,
          "text": "ACF: MAB_ELE_SHP1100",
          "x": 0.298,
          "xanchor": "center",
          "xref": "paper",
          "y": 1,
          "yanchor": "bottom",
          "yref": "paper"
         },
         {
          "font": {
           "size": 16
          },
          "showarrow": false,
          "text": "ACF: MAB_ELE_SHP392",
          "x": 0.36533333333333334,
          "xanchor": "center",
          "xref": "paper",
          "y": 1,
          "yanchor": "bottom",
          "yref": "paper"
         },
         {
          "font": {
           "size": 16
          },
          "showarrow": false,
          "text": "ACF: MAB_ELE_SHP276",
          "x": 0.43266666666666664,
          "xanchor": "center",
          "xref": "paper",
          "y": 1,
          "yanchor": "bottom",
          "yref": "paper"
         },
         {
          "font": {
           "size": 16
          },
          "showarrow": false,
          "text": "ACF: PRI27840_org",
          "x": 0.5,
          "xanchor": "center",
          "xref": "paper",
          "y": 1,
          "yanchor": "bottom",
          "yref": "paper"
         },
         {
          "font": {
           "size": 16
          },
          "showarrow": false,
          "text": "ACF: RohCOPPER1000_org",
          "x": 0.5673333333333332,
          "xanchor": "center",
          "xref": "paper",
          "y": 1,
          "yanchor": "bottom",
          "yref": "paper"
         },
         {
          "font": {
           "size": 16
          },
          "showarrow": false,
          "text": "ACF: MAB_ELE_PRO156",
          "x": 0.6346666666666667,
          "xanchor": "center",
          "xref": "paper",
          "y": 1,
          "yanchor": "bottom",
          "yref": "paper"
         },
         {
          "font": {
           "size": 16
          },
          "showarrow": false,
          "text": "ACF: MAB_ELE_PRO756",
          "x": 0.702,
          "xanchor": "center",
          "xref": "paper",
          "y": 1,
          "yanchor": "bottom",
          "yref": "paper"
         },
         {
          "font": {
           "size": 16
          },
          "showarrow": false,
          "text": "ACF: PRO27756_org",
          "x": 0.7693333333333334,
          "xanchor": "center",
          "xref": "paper",
          "y": 1,
          "yanchor": "bottom",
          "yref": "paper"
         },
         {
          "font": {
           "size": 16
          },
          "showarrow": false,
          "text": "ACF: PRO27392_org",
          "x": 0.8366666666666667,
          "xanchor": "center",
          "xref": "paper",
          "y": 1,
          "yanchor": "bottom",
          "yref": "paper"
         },
         {
          "font": {
           "size": 16
          },
          "showarrow": false,
          "text": "ACF: PRO28380_org",
          "x": 0.9039999999999999,
          "xanchor": "center",
          "xref": "paper",
          "y": 1,
          "yanchor": "bottom",
          "yref": "paper"
         },
         {
          "font": {
           "size": 16
          },
          "showarrow": false,
          "text": "ACF: PRO28276_org",
          "x": 0.9713333333333334,
          "xanchor": "center",
          "xref": "paper",
          "y": 1,
          "yanchor": "bottom",
          "yref": "paper"
         }
        ],
        "height": 500,
        "margin": {
         "l": 20,
         "r": 20
        },
        "shapes": [
         {
          "line": {
           "color": "red",
           "dash": "dash",
           "width": 1
          },
          "opacity": 0.7,
          "type": "line",
          "x0": 0,
          "x1": 1,
          "xref": "x domain",
          "y0": 0.3415967975450345,
          "y1": 0.3415967975450345,
          "yref": "y"
         },
         {
          "line": {
           "color": "red",
           "dash": "dash",
           "width": 1
          },
          "opacity": 0.7,
          "type": "line",
          "x0": 0,
          "x1": 1,
          "xref": "x domain",
          "y0": -0.3415967975450345,
          "y1": -0.3415967975450345,
          "yref": "y"
         },
         {
          "fillcolor": "rgba(100,100,100,0.2)",
          "line": {
           "width": 0
          },
          "type": "rect",
          "x0": 0,
          "x1": 1,
          "xref": "x domain",
          "y0": -0.3415967975450345,
          "y1": 0.3415967975450345,
          "yref": "y"
         },
         {
          "line": {
           "color": "red",
           "dash": "dash",
           "width": 1
          },
          "opacity": 0.7,
          "type": "line",
          "x0": 0,
          "x1": 1,
          "xref": "x2 domain",
          "y0": 0.3415967975450345,
          "y1": 0.3415967975450345,
          "yref": "y2"
         },
         {
          "line": {
           "color": "red",
           "dash": "dash",
           "width": 1
          },
          "opacity": 0.7,
          "type": "line",
          "x0": 0,
          "x1": 1,
          "xref": "x2 domain",
          "y0": -0.3415967975450345,
          "y1": -0.3415967975450345,
          "yref": "y2"
         },
         {
          "fillcolor": "rgba(100,100,100,0.2)",
          "line": {
           "width": 0
          },
          "type": "rect",
          "x0": 0,
          "x1": 1,
          "xref": "x2 domain",
          "y0": -0.3415967975450345,
          "y1": 0.3415967975450345,
          "yref": "y2"
         },
         {
          "line": {
           "color": "red",
           "dash": "dash",
           "width": 1
          },
          "opacity": 0.7,
          "type": "line",
          "x0": 0,
          "x1": 1,
          "xref": "x3 domain",
          "y0": 0.3415967975450345,
          "y1": 0.3415967975450345,
          "yref": "y3"
         },
         {
          "line": {
           "color": "red",
           "dash": "dash",
           "width": 1
          },
          "opacity": 0.7,
          "type": "line",
          "x0": 0,
          "x1": 1,
          "xref": "x3 domain",
          "y0": -0.3415967975450345,
          "y1": -0.3415967975450345,
          "yref": "y3"
         },
         {
          "fillcolor": "rgba(100,100,100,0.2)",
          "line": {
           "width": 0
          },
          "type": "rect",
          "x0": 0,
          "x1": 1,
          "xref": "x3 domain",
          "y0": -0.3415967975450345,
          "y1": 0.3415967975450345,
          "yref": "y3"
         },
         {
          "line": {
           "color": "red",
           "dash": "dash",
           "width": 1
          },
          "opacity": 0.7,
          "type": "line",
          "x0": 0,
          "x1": 1,
          "xref": "x4 domain",
          "y0": 0.3415967975450345,
          "y1": 0.3415967975450345,
          "yref": "y4"
         },
         {
          "line": {
           "color": "red",
           "dash": "dash",
           "width": 1
          },
          "opacity": 0.7,
          "type": "line",
          "x0": 0,
          "x1": 1,
          "xref": "x4 domain",
          "y0": -0.3415967975450345,
          "y1": -0.3415967975450345,
          "yref": "y4"
         },
         {
          "fillcolor": "rgba(100,100,100,0.2)",
          "line": {
           "width": 0
          },
          "type": "rect",
          "x0": 0,
          "x1": 1,
          "xref": "x4 domain",
          "y0": -0.3415967975450345,
          "y1": 0.3415967975450345,
          "yref": "y4"
         },
         {
          "line": {
           "color": "red",
           "dash": "dash",
           "width": 1
          },
          "opacity": 0.7,
          "type": "line",
          "x0": 0,
          "x1": 1,
          "xref": "x5 domain",
          "y0": 0.3415967975450345,
          "y1": 0.3415967975450345,
          "yref": "y5"
         },
         {
          "line": {
           "color": "red",
           "dash": "dash",
           "width": 1
          },
          "opacity": 0.7,
          "type": "line",
          "x0": 0,
          "x1": 1,
          "xref": "x5 domain",
          "y0": -0.3415967975450345,
          "y1": -0.3415967975450345,
          "yref": "y5"
         },
         {
          "fillcolor": "rgba(100,100,100,0.2)",
          "line": {
           "width": 0
          },
          "type": "rect",
          "x0": 0,
          "x1": 1,
          "xref": "x5 domain",
          "y0": -0.3415967975450345,
          "y1": 0.3415967975450345,
          "yref": "y5"
         },
         {
          "line": {
           "color": "red",
           "dash": "dash",
           "width": 1
          },
          "opacity": 0.7,
          "type": "line",
          "x0": 0,
          "x1": 1,
          "xref": "x6 domain",
          "y0": 0.3415967975450345,
          "y1": 0.3415967975450345,
          "yref": "y6"
         },
         {
          "line": {
           "color": "red",
           "dash": "dash",
           "width": 1
          },
          "opacity": 0.7,
          "type": "line",
          "x0": 0,
          "x1": 1,
          "xref": "x6 domain",
          "y0": -0.3415967975450345,
          "y1": -0.3415967975450345,
          "yref": "y6"
         },
         {
          "fillcolor": "rgba(100,100,100,0.2)",
          "line": {
           "width": 0
          },
          "type": "rect",
          "x0": 0,
          "x1": 1,
          "xref": "x6 domain",
          "y0": -0.3415967975450345,
          "y1": 0.3415967975450345,
          "yref": "y6"
         },
         {
          "line": {
           "color": "red",
           "dash": "dash",
           "width": 1
          },
          "opacity": 0.7,
          "type": "line",
          "x0": 0,
          "x1": 1,
          "xref": "x7 domain",
          "y0": 0.3415967975450345,
          "y1": 0.3415967975450345,
          "yref": "y7"
         },
         {
          "line": {
           "color": "red",
           "dash": "dash",
           "width": 1
          },
          "opacity": 0.7,
          "type": "line",
          "x0": 0,
          "x1": 1,
          "xref": "x7 domain",
          "y0": -0.3415967975450345,
          "y1": -0.3415967975450345,
          "yref": "y7"
         },
         {
          "fillcolor": "rgba(100,100,100,0.2)",
          "line": {
           "width": 0
          },
          "type": "rect",
          "x0": 0,
          "x1": 1,
          "xref": "x7 domain",
          "y0": -0.3415967975450345,
          "y1": 0.3415967975450345,
          "yref": "y7"
         },
         {
          "line": {
           "color": "red",
           "dash": "dash",
           "width": 1
          },
          "opacity": 0.7,
          "type": "line",
          "x0": 0,
          "x1": 1,
          "xref": "x8 domain",
          "y0": 0.3415967975450345,
          "y1": 0.3415967975450345,
          "yref": "y8"
         },
         {
          "line": {
           "color": "red",
           "dash": "dash",
           "width": 1
          },
          "opacity": 0.7,
          "type": "line",
          "x0": 0,
          "x1": 1,
          "xref": "x8 domain",
          "y0": -0.3415967975450345,
          "y1": -0.3415967975450345,
          "yref": "y8"
         },
         {
          "fillcolor": "rgba(100,100,100,0.2)",
          "line": {
           "width": 0
          },
          "type": "rect",
          "x0": 0,
          "x1": 1,
          "xref": "x8 domain",
          "y0": -0.3415967975450345,
          "y1": 0.3415967975450345,
          "yref": "y8"
         },
         {
          "line": {
           "color": "red",
           "dash": "dash",
           "width": 1
          },
          "opacity": 0.7,
          "type": "line",
          "x0": 0,
          "x1": 1,
          "xref": "x9 domain",
          "y0": 0.3415967975450345,
          "y1": 0.3415967975450345,
          "yref": "y9"
         },
         {
          "line": {
           "color": "red",
           "dash": "dash",
           "width": 1
          },
          "opacity": 0.7,
          "type": "line",
          "x0": 0,
          "x1": 1,
          "xref": "x9 domain",
          "y0": -0.3415967975450345,
          "y1": -0.3415967975450345,
          "yref": "y9"
         },
         {
          "fillcolor": "rgba(100,100,100,0.2)",
          "line": {
           "width": 0
          },
          "type": "rect",
          "x0": 0,
          "x1": 1,
          "xref": "x9 domain",
          "y0": -0.3415967975450345,
          "y1": 0.3415967975450345,
          "yref": "y9"
         },
         {
          "line": {
           "color": "red",
           "dash": "dash",
           "width": 1
          },
          "opacity": 0.7,
          "type": "line",
          "x0": 0,
          "x1": 1,
          "xref": "x10 domain",
          "y0": 0.3415967975450345,
          "y1": 0.3415967975450345,
          "yref": "y10"
         },
         {
          "line": {
           "color": "red",
           "dash": "dash",
           "width": 1
          },
          "opacity": 0.7,
          "type": "line",
          "x0": 0,
          "x1": 1,
          "xref": "x10 domain",
          "y0": -0.3415967975450345,
          "y1": -0.3415967975450345,
          "yref": "y10"
         },
         {
          "fillcolor": "rgba(100,100,100,0.2)",
          "line": {
           "width": 0
          },
          "type": "rect",
          "x0": 0,
          "x1": 1,
          "xref": "x10 domain",
          "y0": -0.3415967975450345,
          "y1": 0.3415967975450345,
          "yref": "y10"
         },
         {
          "line": {
           "color": "red",
           "dash": "dash",
           "width": 1
          },
          "opacity": 0.7,
          "type": "line",
          "x0": 0,
          "x1": 1,
          "xref": "x11 domain",
          "y0": 0.3415967975450345,
          "y1": 0.3415967975450345,
          "yref": "y11"
         },
         {
          "line": {
           "color": "red",
           "dash": "dash",
           "width": 1
          },
          "opacity": 0.7,
          "type": "line",
          "x0": 0,
          "x1": 1,
          "xref": "x11 domain",
          "y0": -0.3415967975450345,
          "y1": -0.3415967975450345,
          "yref": "y11"
         },
         {
          "fillcolor": "rgba(100,100,100,0.2)",
          "line": {
           "width": 0
          },
          "type": "rect",
          "x0": 0,
          "x1": 1,
          "xref": "x11 domain",
          "y0": -0.3415967975450345,
          "y1": 0.3415967975450345,
          "yref": "y11"
         },
         {
          "line": {
           "color": "red",
           "dash": "dash",
           "width": 1
          },
          "opacity": 0.7,
          "type": "line",
          "x0": 0,
          "x1": 1,
          "xref": "x12 domain",
          "y0": 0.3415967975450345,
          "y1": 0.3415967975450345,
          "yref": "y12"
         },
         {
          "line": {
           "color": "red",
           "dash": "dash",
           "width": 1
          },
          "opacity": 0.7,
          "type": "line",
          "x0": 0,
          "x1": 1,
          "xref": "x12 domain",
          "y0": -0.3415967975450345,
          "y1": -0.3415967975450345,
          "yref": "y12"
         },
         {
          "fillcolor": "rgba(100,100,100,0.2)",
          "line": {
           "width": 0
          },
          "type": "rect",
          "x0": 0,
          "x1": 1,
          "xref": "x12 domain",
          "y0": -0.3415967975450345,
          "y1": 0.3415967975450345,
          "yref": "y12"
         },
         {
          "line": {
           "color": "red",
           "dash": "dash",
           "width": 1
          },
          "opacity": 0.7,
          "type": "line",
          "x0": 0,
          "x1": 1,
          "xref": "x13 domain",
          "y0": 0.3415967975450345,
          "y1": 0.3415967975450345,
          "yref": "y13"
         },
         {
          "line": {
           "color": "red",
           "dash": "dash",
           "width": 1
          },
          "opacity": 0.7,
          "type": "line",
          "x0": 0,
          "x1": 1,
          "xref": "x13 domain",
          "y0": -0.3415967975450345,
          "y1": -0.3415967975450345,
          "yref": "y13"
         },
         {
          "fillcolor": "rgba(100,100,100,0.2)",
          "line": {
           "width": 0
          },
          "type": "rect",
          "x0": 0,
          "x1": 1,
          "xref": "x13 domain",
          "y0": -0.3415967975450345,
          "y1": 0.3415967975450345,
          "yref": "y13"
         },
         {
          "line": {
           "color": "red",
           "dash": "dash",
           "width": 1
          },
          "opacity": 0.7,
          "type": "line",
          "x0": 0,
          "x1": 1,
          "xref": "x14 domain",
          "y0": 0.3415967975450345,
          "y1": 0.3415967975450345,
          "yref": "y14"
         },
         {
          "line": {
           "color": "red",
           "dash": "dash",
           "width": 1
          },
          "opacity": 0.7,
          "type": "line",
          "x0": 0,
          "x1": 1,
          "xref": "x14 domain",
          "y0": -0.3415967975450345,
          "y1": -0.3415967975450345,
          "yref": "y14"
         },
         {
          "fillcolor": "rgba(100,100,100,0.2)",
          "line": {
           "width": 0
          },
          "type": "rect",
          "x0": 0,
          "x1": 1,
          "xref": "x14 domain",
          "y0": -0.3415967975450345,
          "y1": 0.3415967975450345,
          "yref": "y14"
         },
         {
          "line": {
           "color": "red",
           "dash": "dash",
           "width": 1
          },
          "opacity": 0.7,
          "type": "line",
          "x0": 0,
          "x1": 1,
          "xref": "x15 domain",
          "y0": 0.3415967975450345,
          "y1": 0.3415967975450345,
          "yref": "y15"
         },
         {
          "line": {
           "color": "red",
           "dash": "dash",
           "width": 1
          },
          "opacity": 0.7,
          "type": "line",
          "x0": 0,
          "x1": 1,
          "xref": "x15 domain",
          "y0": -0.3415967975450345,
          "y1": -0.3415967975450345,
          "yref": "y15"
         },
         {
          "fillcolor": "rgba(100,100,100,0.2)",
          "line": {
           "width": 0
          },
          "type": "rect",
          "x0": 0,
          "x1": 1,
          "xref": "x15 domain",
          "y0": -0.3415967975450345,
          "y1": 0.3415967975450345,
          "yref": "y15"
         }
        ],
        "showlegend": false,
        "template": {
         "data": {
          "bar": [
           {
            "error_x": {
             "color": "#2a3f5f"
            },
            "error_y": {
             "color": "#2a3f5f"
            },
            "marker": {
             "line": {
              "color": "#E5ECF6",
              "width": 0.5
             },
             "pattern": {
              "fillmode": "overlay",
              "size": 10,
              "solidity": 0.2
             }
            },
            "type": "bar"
           }
          ],
          "barpolar": [
           {
            "marker": {
             "line": {
              "color": "#E5ECF6",
              "width": 0.5
             },
             "pattern": {
              "fillmode": "overlay",
              "size": 10,
              "solidity": 0.2
             }
            },
            "type": "barpolar"
           }
          ],
          "carpet": [
           {
            "aaxis": {
             "endlinecolor": "#2a3f5f",
             "gridcolor": "white",
             "linecolor": "white",
             "minorgridcolor": "white",
             "startlinecolor": "#2a3f5f"
            },
            "baxis": {
             "endlinecolor": "#2a3f5f",
             "gridcolor": "white",
             "linecolor": "white",
             "minorgridcolor": "white",
             "startlinecolor": "#2a3f5f"
            },
            "type": "carpet"
           }
          ],
          "choropleth": [
           {
            "colorbar": {
             "outlinewidth": 0,
             "ticks": ""
            },
            "type": "choropleth"
           }
          ],
          "contour": [
           {
            "colorbar": {
             "outlinewidth": 0,
             "ticks": ""
            },
            "colorscale": [
             [
              0,
              "#0d0887"
             ],
             [
              0.1111111111111111,
              "#46039f"
             ],
             [
              0.2222222222222222,
              "#7201a8"
             ],
             [
              0.3333333333333333,
              "#9c179e"
             ],
             [
              0.4444444444444444,
              "#bd3786"
             ],
             [
              0.5555555555555556,
              "#d8576b"
             ],
             [
              0.6666666666666666,
              "#ed7953"
             ],
             [
              0.7777777777777778,
              "#fb9f3a"
             ],
             [
              0.8888888888888888,
              "#fdca26"
             ],
             [
              1,
              "#f0f921"
             ]
            ],
            "type": "contour"
           }
          ],
          "contourcarpet": [
           {
            "colorbar": {
             "outlinewidth": 0,
             "ticks": ""
            },
            "type": "contourcarpet"
           }
          ],
          "heatmap": [
           {
            "colorbar": {
             "outlinewidth": 0,
             "ticks": ""
            },
            "colorscale": [
             [
              0,
              "#0d0887"
             ],
             [
              0.1111111111111111,
              "#46039f"
             ],
             [
              0.2222222222222222,
              "#7201a8"
             ],
             [
              0.3333333333333333,
              "#9c179e"
             ],
             [
              0.4444444444444444,
              "#bd3786"
             ],
             [
              0.5555555555555556,
              "#d8576b"
             ],
             [
              0.6666666666666666,
              "#ed7953"
             ],
             [
              0.7777777777777778,
              "#fb9f3a"
             ],
             [
              0.8888888888888888,
              "#fdca26"
             ],
             [
              1,
              "#f0f921"
             ]
            ],
            "type": "heatmap"
           }
          ],
          "heatmapgl": [
           {
            "colorbar": {
             "outlinewidth": 0,
             "ticks": ""
            },
            "colorscale": [
             [
              0,
              "#0d0887"
             ],
             [
              0.1111111111111111,
              "#46039f"
             ],
             [
              0.2222222222222222,
              "#7201a8"
             ],
             [
              0.3333333333333333,
              "#9c179e"
             ],
             [
              0.4444444444444444,
              "#bd3786"
             ],
             [
              0.5555555555555556,
              "#d8576b"
             ],
             [
              0.6666666666666666,
              "#ed7953"
             ],
             [
              0.7777777777777778,
              "#fb9f3a"
             ],
             [
              0.8888888888888888,
              "#fdca26"
             ],
             [
              1,
              "#f0f921"
             ]
            ],
            "type": "heatmapgl"
           }
          ],
          "histogram": [
           {
            "marker": {
             "pattern": {
              "fillmode": "overlay",
              "size": 10,
              "solidity": 0.2
             }
            },
            "type": "histogram"
           }
          ],
          "histogram2d": [
           {
            "colorbar": {
             "outlinewidth": 0,
             "ticks": ""
            },
            "colorscale": [
             [
              0,
              "#0d0887"
             ],
             [
              0.1111111111111111,
              "#46039f"
             ],
             [
              0.2222222222222222,
              "#7201a8"
             ],
             [
              0.3333333333333333,
              "#9c179e"
             ],
             [
              0.4444444444444444,
              "#bd3786"
             ],
             [
              0.5555555555555556,
              "#d8576b"
             ],
             [
              0.6666666666666666,
              "#ed7953"
             ],
             [
              0.7777777777777778,
              "#fb9f3a"
             ],
             [
              0.8888888888888888,
              "#fdca26"
             ],
             [
              1,
              "#f0f921"
             ]
            ],
            "type": "histogram2d"
           }
          ],
          "histogram2dcontour": [
           {
            "colorbar": {
             "outlinewidth": 0,
             "ticks": ""
            },
            "colorscale": [
             [
              0,
              "#0d0887"
             ],
             [
              0.1111111111111111,
              "#46039f"
             ],
             [
              0.2222222222222222,
              "#7201a8"
             ],
             [
              0.3333333333333333,
              "#9c179e"
             ],
             [
              0.4444444444444444,
              "#bd3786"
             ],
             [
              0.5555555555555556,
              "#d8576b"
             ],
             [
              0.6666666666666666,
              "#ed7953"
             ],
             [
              0.7777777777777778,
              "#fb9f3a"
             ],
             [
              0.8888888888888888,
              "#fdca26"
             ],
             [
              1,
              "#f0f921"
             ]
            ],
            "type": "histogram2dcontour"
           }
          ],
          "mesh3d": [
           {
            "colorbar": {
             "outlinewidth": 0,
             "ticks": ""
            },
            "type": "mesh3d"
           }
          ],
          "parcoords": [
           {
            "line": {
             "colorbar": {
              "outlinewidth": 0,
              "ticks": ""
             }
            },
            "type": "parcoords"
           }
          ],
          "pie": [
           {
            "automargin": true,
            "type": "pie"
           }
          ],
          "scatter": [
           {
            "fillpattern": {
             "fillmode": "overlay",
             "size": 10,
             "solidity": 0.2
            },
            "type": "scatter"
           }
          ],
          "scatter3d": [
           {
            "line": {
             "colorbar": {
              "outlinewidth": 0,
              "ticks": ""
             }
            },
            "marker": {
             "colorbar": {
              "outlinewidth": 0,
              "ticks": ""
             }
            },
            "type": "scatter3d"
           }
          ],
          "scattercarpet": [
           {
            "marker": {
             "colorbar": {
              "outlinewidth": 0,
              "ticks": ""
             }
            },
            "type": "scattercarpet"
           }
          ],
          "scattergeo": [
           {
            "marker": {
             "colorbar": {
              "outlinewidth": 0,
              "ticks": ""
             }
            },
            "type": "scattergeo"
           }
          ],
          "scattergl": [
           {
            "marker": {
             "colorbar": {
              "outlinewidth": 0,
              "ticks": ""
             }
            },
            "type": "scattergl"
           }
          ],
          "scattermapbox": [
           {
            "marker": {
             "colorbar": {
              "outlinewidth": 0,
              "ticks": ""
             }
            },
            "type": "scattermapbox"
           }
          ],
          "scatterpolar": [
           {
            "marker": {
             "colorbar": {
              "outlinewidth": 0,
              "ticks": ""
             }
            },
            "type": "scatterpolar"
           }
          ],
          "scatterpolargl": [
           {
            "marker": {
             "colorbar": {
              "outlinewidth": 0,
              "ticks": ""
             }
            },
            "type": "scatterpolargl"
           }
          ],
          "scatterternary": [
           {
            "marker": {
             "colorbar": {
              "outlinewidth": 0,
              "ticks": ""
             }
            },
            "type": "scatterternary"
           }
          ],
          "surface": [
           {
            "colorbar": {
             "outlinewidth": 0,
             "ticks": ""
            },
            "colorscale": [
             [
              0,
              "#0d0887"
             ],
             [
              0.1111111111111111,
              "#46039f"
             ],
             [
              0.2222222222222222,
              "#7201a8"
             ],
             [
              0.3333333333333333,
              "#9c179e"
             ],
             [
              0.4444444444444444,
              "#bd3786"
             ],
             [
              0.5555555555555556,
              "#d8576b"
             ],
             [
              0.6666666666666666,
              "#ed7953"
             ],
             [
              0.7777777777777778,
              "#fb9f3a"
             ],
             [
              0.8888888888888888,
              "#fdca26"
             ],
             [
              1,
              "#f0f921"
             ]
            ],
            "type": "surface"
           }
          ],
          "table": [
           {
            "cells": {
             "fill": {
              "color": "#EBF0F8"
             },
             "line": {
              "color": "white"
             }
            },
            "header": {
             "fill": {
              "color": "#C8D4E3"
             },
             "line": {
              "color": "white"
             }
            },
            "type": "table"
           }
          ]
         },
         "layout": {
          "annotationdefaults": {
           "arrowcolor": "#2a3f5f",
           "arrowhead": 0,
           "arrowwidth": 1
          },
          "autotypenumbers": "strict",
          "coloraxis": {
           "colorbar": {
            "outlinewidth": 0,
            "ticks": ""
           }
          },
          "colorscale": {
           "diverging": [
            [
             0,
             "#8e0152"
            ],
            [
             0.1,
             "#c51b7d"
            ],
            [
             0.2,
             "#de77ae"
            ],
            [
             0.3,
             "#f1b6da"
            ],
            [
             0.4,
             "#fde0ef"
            ],
            [
             0.5,
             "#f7f7f7"
            ],
            [
             0.6,
             "#e6f5d0"
            ],
            [
             0.7,
             "#b8e186"
            ],
            [
             0.8,
             "#7fbc41"
            ],
            [
             0.9,
             "#4d9221"
            ],
            [
             1,
             "#276419"
            ]
           ],
           "sequential": [
            [
             0,
             "#0d0887"
            ],
            [
             0.1111111111111111,
             "#46039f"
            ],
            [
             0.2222222222222222,
             "#7201a8"
            ],
            [
             0.3333333333333333,
             "#9c179e"
            ],
            [
             0.4444444444444444,
             "#bd3786"
            ],
            [
             0.5555555555555556,
             "#d8576b"
            ],
            [
             0.6666666666666666,
             "#ed7953"
            ],
            [
             0.7777777777777778,
             "#fb9f3a"
            ],
            [
             0.8888888888888888,
             "#fdca26"
            ],
            [
             1,
             "#f0f921"
            ]
           ],
           "sequentialminus": [
            [
             0,
             "#0d0887"
            ],
            [
             0.1111111111111111,
             "#46039f"
            ],
            [
             0.2222222222222222,
             "#7201a8"
            ],
            [
             0.3333333333333333,
             "#9c179e"
            ],
            [
             0.4444444444444444,
             "#bd3786"
            ],
            [
             0.5555555555555556,
             "#d8576b"
            ],
            [
             0.6666666666666666,
             "#ed7953"
            ],
            [
             0.7777777777777778,
             "#fb9f3a"
            ],
            [
             0.8888888888888888,
             "#fdca26"
            ],
            [
             1,
             "#f0f921"
            ]
           ]
          },
          "colorway": [
           "#636efa",
           "#EF553B",
           "#00cc96",
           "#ab63fa",
           "#FFA15A",
           "#19d3f3",
           "#FF6692",
           "#B6E880",
           "#FF97FF",
           "#FECB52"
          ],
          "font": {
           "color": "#2a3f5f"
          },
          "geo": {
           "bgcolor": "white",
           "lakecolor": "white",
           "landcolor": "#E5ECF6",
           "showlakes": true,
           "showland": true,
           "subunitcolor": "white"
          },
          "hoverlabel": {
           "align": "left"
          },
          "hovermode": "closest",
          "mapbox": {
           "style": "light"
          },
          "paper_bgcolor": "white",
          "plot_bgcolor": "#E5ECF6",
          "polar": {
           "angularaxis": {
            "gridcolor": "white",
            "linecolor": "white",
            "ticks": ""
           },
           "bgcolor": "#E5ECF6",
           "radialaxis": {
            "gridcolor": "white",
            "linecolor": "white",
            "ticks": ""
           }
          },
          "scene": {
           "xaxis": {
            "backgroundcolor": "#E5ECF6",
            "gridcolor": "white",
            "gridwidth": 2,
            "linecolor": "white",
            "showbackground": true,
            "ticks": "",
            "zerolinecolor": "white"
           },
           "yaxis": {
            "backgroundcolor": "#E5ECF6",
            "gridcolor": "white",
            "gridwidth": 2,
            "linecolor": "white",
            "showbackground": true,
            "ticks": "",
            "zerolinecolor": "white"
           },
           "zaxis": {
            "backgroundcolor": "#E5ECF6",
            "gridcolor": "white",
            "gridwidth": 2,
            "linecolor": "white",
            "showbackground": true,
            "ticks": "",
            "zerolinecolor": "white"
           }
          },
          "shapedefaults": {
           "line": {
            "color": "#2a3f5f"
           }
          },
          "ternary": {
           "aaxis": {
            "gridcolor": "white",
            "linecolor": "white",
            "ticks": ""
           },
           "baxis": {
            "gridcolor": "white",
            "linecolor": "white",
            "ticks": ""
           },
           "bgcolor": "#E5ECF6",
           "caxis": {
            "gridcolor": "white",
            "linecolor": "white",
            "ticks": ""
           }
          },
          "title": {
           "x": 0.05
          },
          "xaxis": {
           "automargin": true,
           "gridcolor": "white",
           "linecolor": "white",
           "ticks": "",
           "title": {
            "standoff": 15
           },
           "zerolinecolor": "white",
           "zerolinewidth": 2
          },
          "yaxis": {
           "automargin": true,
           "gridcolor": "white",
           "linecolor": "white",
           "ticks": "",
           "title": {
            "standoff": 15
           },
           "zerolinecolor": "white",
           "zerolinewidth": 2
          }
         }
        },
        "title": {
         "text": "ACF by Product (97.5% Confidence)"
        },
        "width": 7500,
        "xaxis": {
         "anchor": "y",
         "domain": [
          0,
          0.05733333333333333
         ],
         "title": {
          "text": "Lag"
         }
        },
        "xaxis10": {
         "anchor": "y10",
         "domain": [
          0.606,
          0.6633333333333333
         ],
         "title": {
          "text": "Lag"
         }
        },
        "xaxis11": {
         "anchor": "y11",
         "domain": [
          0.6733333333333333,
          0.7306666666666667
         ],
         "title": {
          "text": "Lag"
         }
        },
        "xaxis12": {
         "anchor": "y12",
         "domain": [
          0.7406666666666667,
          0.798
         ],
         "title": {
          "text": "Lag"
         }
        },
        "xaxis13": {
         "anchor": "y13",
         "domain": [
          0.8079999999999999,
          0.8653333333333333
         ],
         "title": {
          "text": "Lag"
         }
        },
        "xaxis14": {
         "anchor": "y14",
         "domain": [
          0.8753333333333333,
          0.9326666666666666
         ],
         "title": {
          "text": "Lag"
         }
        },
        "xaxis15": {
         "anchor": "y15",
         "domain": [
          0.9426666666666667,
          1
         ],
         "title": {
          "text": "Lag"
         }
        },
        "xaxis2": {
         "anchor": "y2",
         "domain": [
          0.06733333333333333,
          0.12466666666666666
         ],
         "title": {
          "text": "Lag"
         }
        },
        "xaxis3": {
         "anchor": "y3",
         "domain": [
          0.13466666666666666,
          0.192
         ],
         "title": {
          "text": "Lag"
         }
        },
        "xaxis4": {
         "anchor": "y4",
         "domain": [
          0.20199999999999999,
          0.2593333333333333
         ],
         "title": {
          "text": "Lag"
         }
        },
        "xaxis5": {
         "anchor": "y5",
         "domain": [
          0.2693333333333333,
          0.32666666666666666
         ],
         "title": {
          "text": "Lag"
         }
        },
        "xaxis6": {
         "anchor": "y6",
         "domain": [
          0.33666666666666667,
          0.394
         ],
         "title": {
          "text": "Lag"
         }
        },
        "xaxis7": {
         "anchor": "y7",
         "domain": [
          0.40399999999999997,
          0.4613333333333333
         ],
         "title": {
          "text": "Lag"
         }
        },
        "xaxis8": {
         "anchor": "y8",
         "domain": [
          0.4713333333333333,
          0.5286666666666666
         ],
         "title": {
          "text": "Lag"
         }
        },
        "xaxis9": {
         "anchor": "y9",
         "domain": [
          0.5386666666666666,
          0.596
         ],
         "title": {
          "text": "Lag"
         }
        },
        "yaxis": {
         "anchor": "x",
         "domain": [
          0,
          1
         ],
         "range": [
          -1.1,
          1.1
         ],
         "title": {
          "text": "ACF"
         }
        },
        "yaxis10": {
         "anchor": "x10",
         "domain": [
          0,
          1
         ],
         "range": [
          -1.1,
          1.1
         ],
         "title": {
          "text": "ACF"
         }
        },
        "yaxis11": {
         "anchor": "x11",
         "domain": [
          0,
          1
         ],
         "range": [
          -1.1,
          1.1
         ],
         "title": {
          "text": "ACF"
         }
        },
        "yaxis12": {
         "anchor": "x12",
         "domain": [
          0,
          1
         ],
         "range": [
          -1.1,
          1.1
         ],
         "title": {
          "text": "ACF"
         }
        },
        "yaxis13": {
         "anchor": "x13",
         "domain": [
          0,
          1
         ],
         "range": [
          -1.1,
          1.1
         ],
         "title": {
          "text": "ACF"
         }
        },
        "yaxis14": {
         "anchor": "x14",
         "domain": [
          0,
          1
         ],
         "range": [
          -1.1,
          1.1
         ],
         "title": {
          "text": "ACF"
         }
        },
        "yaxis15": {
         "anchor": "x15",
         "domain": [
          0,
          1
         ],
         "range": [
          -1.1,
          1.1
         ],
         "title": {
          "text": "ACF"
         }
        },
        "yaxis2": {
         "anchor": "x2",
         "domain": [
          0,
          1
         ],
         "range": [
          -1.1,
          1.1
         ],
         "title": {
          "text": "ACF"
         }
        },
        "yaxis3": {
         "anchor": "x3",
         "domain": [
          0,
          1
         ],
         "range": [
          -1.1,
          1.1
         ],
         "title": {
          "text": "ACF"
         }
        },
        "yaxis4": {
         "anchor": "x4",
         "domain": [
          0,
          1
         ],
         "range": [
          -1.1,
          1.1
         ],
         "title": {
          "text": "ACF"
         }
        },
        "yaxis5": {
         "anchor": "x5",
         "domain": [
          0,
          1
         ],
         "range": [
          -1.1,
          1.1
         ],
         "title": {
          "text": "ACF"
         }
        },
        "yaxis6": {
         "anchor": "x6",
         "domain": [
          0,
          1
         ],
         "range": [
          -1.1,
          1.1
         ],
         "title": {
          "text": "ACF"
         }
        },
        "yaxis7": {
         "anchor": "x7",
         "domain": [
          0,
          1
         ],
         "range": [
          -1.1,
          1.1
         ],
         "title": {
          "text": "ACF"
         }
        },
        "yaxis8": {
         "anchor": "x8",
         "domain": [
          0,
          1
         ],
         "range": [
          -1.1,
          1.1
         ],
         "title": {
          "text": "ACF"
         }
        },
        "yaxis9": {
         "anchor": "x9",
         "domain": [
          0,
          1
         ],
         "range": [
          -1.1,
          1.1
         ],
         "title": {
          "text": "ACF"
         }
        }
       }
      }
     },
     "metadata": {},
     "output_type": "display_data"
    }
   ],
   "source": [
    "plot_correlation_for_products(combined_macros, plot_type='acf')"
   ]
  },
  {
   "cell_type": "markdown",
   "metadata": {},
   "source": [
    "##### <span style=\"background-color:#000027; padding:5px; border-radius:5px;font-size:13pt\">**4.3. Partial Autocorrelation Function (PACF)**</span> <a id='PACF'></a> \n",
    "\n",
    "- PACF at Lag 0 = 1. This is always 1 because a time series is perfectly correlated with itself.\n",
    "- The first significant spike in PACF suggests the order (p) of the AR model. If PACF cuts off after lag k, then p = k. The rest of the lags should ideally fall within the confidence interval (blue shaded area).\n",
    "\n",
    "Comparison with ACF:\n",
    "\n",
    "    - ACF shows how a value is correlated with past values directly and indirectly.\n",
    "    - PACF shows how a value is correlated only with its direct past, ignoring indirect effects.\n",
    "\n",
    "- If all PACF values are within the blue region, then there is no AR structure in the data, and an AR model may not be needed.\n",
    "- Slow decay in ACF? → Data is non-stationary"
   ]
  },
  {
   "cell_type": "code",
   "execution_count": 87,
   "metadata": {},
   "outputs": [
    {
     "data": {
      "application/vnd.plotly.v1+json": {
       "config": {
        "plotlyServerURL": "https://plot.ly"
       },
       "data": [
        {
         "hovertemplate": "Lag %{x}<br>PACF: %{y:.2f}<extra></extra>",
         "line": {
          "color": "blue",
          "width": 1
         },
         "marker": {
          "color": "blue",
          "size": 5
         },
         "mode": "lines+markers",
         "name": "MAB_ELE_SHP840",
         "type": "scatter",
         "x": [
          0,
          1,
          2,
          3,
          4,
          5,
          6,
          7,
          8,
          9,
          10,
          11,
          12,
          13,
          14,
          15,
          16,
          17,
          18,
          19,
          20,
          21
         ],
         "xaxis": "x",
         "y": [
          1,
          0.548130974993057,
          0.11553536751078723,
          0.38872984374123104,
          -0.12533082093935305,
          0.10175538375339585,
          0.28764816302231255,
          -0.23188731203200857,
          -0.002798588751120742,
          0.07109709553507784,
          -0.1449919908038824,
          -0.1446813678124654,
          0.32117394919192976,
          -0.7291948626909109,
          0.38310639418859416,
          -0.8330747323636969,
          1.7161002431804377,
          1.453621359569461,
          -1.7629029045503206,
          -1.462491114079533,
          0.685513794774272,
          -0.42691320740978767
         ],
         "yaxis": "y"
        },
        {
         "hoverinfo": "skip",
         "line": {
          "color": "blue",
          "width": 1
         },
         "mode": "lines",
         "showlegend": false,
         "type": "scatter",
         "x": [
          0,
          0
         ],
         "xaxis": "x",
         "y": [
          0,
          1
         ],
         "yaxis": "y"
        },
        {
         "hoverinfo": "skip",
         "line": {
          "color": "blue",
          "width": 1
         },
         "mode": "lines",
         "showlegend": false,
         "type": "scatter",
         "x": [
          1,
          1
         ],
         "xaxis": "x",
         "y": [
          0,
          0.548130974993057
         ],
         "yaxis": "y"
        },
        {
         "hoverinfo": "skip",
         "line": {
          "color": "blue",
          "width": 1
         },
         "mode": "lines",
         "showlegend": false,
         "type": "scatter",
         "x": [
          2,
          2
         ],
         "xaxis": "x",
         "y": [
          0,
          0.11553536751078723
         ],
         "yaxis": "y"
        },
        {
         "hoverinfo": "skip",
         "line": {
          "color": "blue",
          "width": 1
         },
         "mode": "lines",
         "showlegend": false,
         "type": "scatter",
         "x": [
          3,
          3
         ],
         "xaxis": "x",
         "y": [
          0,
          0.38872984374123104
         ],
         "yaxis": "y"
        },
        {
         "hoverinfo": "skip",
         "line": {
          "color": "blue",
          "width": 1
         },
         "mode": "lines",
         "showlegend": false,
         "type": "scatter",
         "x": [
          4,
          4
         ],
         "xaxis": "x",
         "y": [
          0,
          -0.12533082093935305
         ],
         "yaxis": "y"
        },
        {
         "hoverinfo": "skip",
         "line": {
          "color": "blue",
          "width": 1
         },
         "mode": "lines",
         "showlegend": false,
         "type": "scatter",
         "x": [
          5,
          5
         ],
         "xaxis": "x",
         "y": [
          0,
          0.10175538375339585
         ],
         "yaxis": "y"
        },
        {
         "hoverinfo": "skip",
         "line": {
          "color": "blue",
          "width": 1
         },
         "mode": "lines",
         "showlegend": false,
         "type": "scatter",
         "x": [
          6,
          6
         ],
         "xaxis": "x",
         "y": [
          0,
          0.28764816302231255
         ],
         "yaxis": "y"
        },
        {
         "hoverinfo": "skip",
         "line": {
          "color": "blue",
          "width": 1
         },
         "mode": "lines",
         "showlegend": false,
         "type": "scatter",
         "x": [
          7,
          7
         ],
         "xaxis": "x",
         "y": [
          0,
          -0.23188731203200857
         ],
         "yaxis": "y"
        },
        {
         "hoverinfo": "skip",
         "line": {
          "color": "blue",
          "width": 1
         },
         "mode": "lines",
         "showlegend": false,
         "type": "scatter",
         "x": [
          8,
          8
         ],
         "xaxis": "x",
         "y": [
          0,
          -0.002798588751120742
         ],
         "yaxis": "y"
        },
        {
         "hoverinfo": "skip",
         "line": {
          "color": "blue",
          "width": 1
         },
         "mode": "lines",
         "showlegend": false,
         "type": "scatter",
         "x": [
          9,
          9
         ],
         "xaxis": "x",
         "y": [
          0,
          0.07109709553507784
         ],
         "yaxis": "y"
        },
        {
         "hoverinfo": "skip",
         "line": {
          "color": "blue",
          "width": 1
         },
         "mode": "lines",
         "showlegend": false,
         "type": "scatter",
         "x": [
          10,
          10
         ],
         "xaxis": "x",
         "y": [
          0,
          -0.1449919908038824
         ],
         "yaxis": "y"
        },
        {
         "hoverinfo": "skip",
         "line": {
          "color": "blue",
          "width": 1
         },
         "mode": "lines",
         "showlegend": false,
         "type": "scatter",
         "x": [
          11,
          11
         ],
         "xaxis": "x",
         "y": [
          0,
          -0.1446813678124654
         ],
         "yaxis": "y"
        },
        {
         "hoverinfo": "skip",
         "line": {
          "color": "blue",
          "width": 1
         },
         "mode": "lines",
         "showlegend": false,
         "type": "scatter",
         "x": [
          12,
          12
         ],
         "xaxis": "x",
         "y": [
          0,
          0.32117394919192976
         ],
         "yaxis": "y"
        },
        {
         "hoverinfo": "skip",
         "line": {
          "color": "blue",
          "width": 1
         },
         "mode": "lines",
         "showlegend": false,
         "type": "scatter",
         "x": [
          13,
          13
         ],
         "xaxis": "x",
         "y": [
          0,
          -0.7291948626909109
         ],
         "yaxis": "y"
        },
        {
         "hoverinfo": "skip",
         "line": {
          "color": "blue",
          "width": 1
         },
         "mode": "lines",
         "showlegend": false,
         "type": "scatter",
         "x": [
          14,
          14
         ],
         "xaxis": "x",
         "y": [
          0,
          0.38310639418859416
         ],
         "yaxis": "y"
        },
        {
         "hoverinfo": "skip",
         "line": {
          "color": "blue",
          "width": 1
         },
         "mode": "lines",
         "showlegend": false,
         "type": "scatter",
         "x": [
          15,
          15
         ],
         "xaxis": "x",
         "y": [
          0,
          -0.8330747323636969
         ],
         "yaxis": "y"
        },
        {
         "hoverinfo": "skip",
         "line": {
          "color": "blue",
          "width": 1
         },
         "mode": "lines",
         "showlegend": false,
         "type": "scatter",
         "x": [
          16,
          16
         ],
         "xaxis": "x",
         "y": [
          0,
          1.7161002431804377
         ],
         "yaxis": "y"
        },
        {
         "hoverinfo": "skip",
         "line": {
          "color": "blue",
          "width": 1
         },
         "mode": "lines",
         "showlegend": false,
         "type": "scatter",
         "x": [
          17,
          17
         ],
         "xaxis": "x",
         "y": [
          0,
          1.453621359569461
         ],
         "yaxis": "y"
        },
        {
         "hoverinfo": "skip",
         "line": {
          "color": "blue",
          "width": 1
         },
         "mode": "lines",
         "showlegend": false,
         "type": "scatter",
         "x": [
          18,
          18
         ],
         "xaxis": "x",
         "y": [
          0,
          -1.7629029045503206
         ],
         "yaxis": "y"
        },
        {
         "hoverinfo": "skip",
         "line": {
          "color": "blue",
          "width": 1
         },
         "mode": "lines",
         "showlegend": false,
         "type": "scatter",
         "x": [
          19,
          19
         ],
         "xaxis": "x",
         "y": [
          0,
          -1.462491114079533
         ],
         "yaxis": "y"
        },
        {
         "hoverinfo": "skip",
         "line": {
          "color": "blue",
          "width": 1
         },
         "mode": "lines",
         "showlegend": false,
         "type": "scatter",
         "x": [
          20,
          20
         ],
         "xaxis": "x",
         "y": [
          0,
          0.685513794774272
         ],
         "yaxis": "y"
        },
        {
         "hoverinfo": "skip",
         "line": {
          "color": "blue",
          "width": 1
         },
         "mode": "lines",
         "showlegend": false,
         "type": "scatter",
         "x": [
          21,
          21
         ],
         "xaxis": "x",
         "y": [
          0,
          -0.42691320740978767
         ],
         "yaxis": "y"
        },
        {
         "hovertemplate": "Lag %{x}<br>PACF: %{y:.2f}<extra></extra>",
         "line": {
          "color": "blue",
          "width": 1
         },
         "marker": {
          "color": "blue",
          "size": 5
         },
         "mode": "lines+markers",
         "name": "PRI27276_org",
         "type": "scatter",
         "x": [
          0,
          1,
          2,
          3,
          4,
          5,
          6,
          7,
          8,
          9,
          10,
          11,
          12,
          13,
          14,
          15,
          16,
          17,
          18,
          19,
          20,
          21
         ],
         "xaxis": "x2",
         "y": [
          1,
          0.8743161726877654,
          -0.02429617173768819,
          -0.055083897741422874,
          -0.038783449077529834,
          0.12327419587765574,
          -0.04394600532536774,
          -0.0827978279171876,
          -0.03603150323335162,
          -0.029239942083227596,
          -0.02371000164120341,
          0.026040221444551516,
          -0.040137700639510866,
          -0.03859313869214946,
          -0.032526748490838996,
          -0.04317632802195837,
          -0.04261528820363709,
          0.027239207491162477,
          -0.0656028778153042,
          -0.024110176417589148,
          -0.03591587418757519,
          -0.022614086330215798
         ],
         "yaxis": "y2"
        },
        {
         "hoverinfo": "skip",
         "line": {
          "color": "blue",
          "width": 1
         },
         "mode": "lines",
         "showlegend": false,
         "type": "scatter",
         "x": [
          0,
          0
         ],
         "xaxis": "x2",
         "y": [
          0,
          1
         ],
         "yaxis": "y2"
        },
        {
         "hoverinfo": "skip",
         "line": {
          "color": "blue",
          "width": 1
         },
         "mode": "lines",
         "showlegend": false,
         "type": "scatter",
         "x": [
          1,
          1
         ],
         "xaxis": "x2",
         "y": [
          0,
          0.8743161726877654
         ],
         "yaxis": "y2"
        },
        {
         "hoverinfo": "skip",
         "line": {
          "color": "blue",
          "width": 1
         },
         "mode": "lines",
         "showlegend": false,
         "type": "scatter",
         "x": [
          2,
          2
         ],
         "xaxis": "x2",
         "y": [
          0,
          -0.02429617173768819
         ],
         "yaxis": "y2"
        },
        {
         "hoverinfo": "skip",
         "line": {
          "color": "blue",
          "width": 1
         },
         "mode": "lines",
         "showlegend": false,
         "type": "scatter",
         "x": [
          3,
          3
         ],
         "xaxis": "x2",
         "y": [
          0,
          -0.055083897741422874
         ],
         "yaxis": "y2"
        },
        {
         "hoverinfo": "skip",
         "line": {
          "color": "blue",
          "width": 1
         },
         "mode": "lines",
         "showlegend": false,
         "type": "scatter",
         "x": [
          4,
          4
         ],
         "xaxis": "x2",
         "y": [
          0,
          -0.038783449077529834
         ],
         "yaxis": "y2"
        },
        {
         "hoverinfo": "skip",
         "line": {
          "color": "blue",
          "width": 1
         },
         "mode": "lines",
         "showlegend": false,
         "type": "scatter",
         "x": [
          5,
          5
         ],
         "xaxis": "x2",
         "y": [
          0,
          0.12327419587765574
         ],
         "yaxis": "y2"
        },
        {
         "hoverinfo": "skip",
         "line": {
          "color": "blue",
          "width": 1
         },
         "mode": "lines",
         "showlegend": false,
         "type": "scatter",
         "x": [
          6,
          6
         ],
         "xaxis": "x2",
         "y": [
          0,
          -0.04394600532536774
         ],
         "yaxis": "y2"
        },
        {
         "hoverinfo": "skip",
         "line": {
          "color": "blue",
          "width": 1
         },
         "mode": "lines",
         "showlegend": false,
         "type": "scatter",
         "x": [
          7,
          7
         ],
         "xaxis": "x2",
         "y": [
          0,
          -0.0827978279171876
         ],
         "yaxis": "y2"
        },
        {
         "hoverinfo": "skip",
         "line": {
          "color": "blue",
          "width": 1
         },
         "mode": "lines",
         "showlegend": false,
         "type": "scatter",
         "x": [
          8,
          8
         ],
         "xaxis": "x2",
         "y": [
          0,
          -0.03603150323335162
         ],
         "yaxis": "y2"
        },
        {
         "hoverinfo": "skip",
         "line": {
          "color": "blue",
          "width": 1
         },
         "mode": "lines",
         "showlegend": false,
         "type": "scatter",
         "x": [
          9,
          9
         ],
         "xaxis": "x2",
         "y": [
          0,
          -0.029239942083227596
         ],
         "yaxis": "y2"
        },
        {
         "hoverinfo": "skip",
         "line": {
          "color": "blue",
          "width": 1
         },
         "mode": "lines",
         "showlegend": false,
         "type": "scatter",
         "x": [
          10,
          10
         ],
         "xaxis": "x2",
         "y": [
          0,
          -0.02371000164120341
         ],
         "yaxis": "y2"
        },
        {
         "hoverinfo": "skip",
         "line": {
          "color": "blue",
          "width": 1
         },
         "mode": "lines",
         "showlegend": false,
         "type": "scatter",
         "x": [
          11,
          11
         ],
         "xaxis": "x2",
         "y": [
          0,
          0.026040221444551516
         ],
         "yaxis": "y2"
        },
        {
         "hoverinfo": "skip",
         "line": {
          "color": "blue",
          "width": 1
         },
         "mode": "lines",
         "showlegend": false,
         "type": "scatter",
         "x": [
          12,
          12
         ],
         "xaxis": "x2",
         "y": [
          0,
          -0.040137700639510866
         ],
         "yaxis": "y2"
        },
        {
         "hoverinfo": "skip",
         "line": {
          "color": "blue",
          "width": 1
         },
         "mode": "lines",
         "showlegend": false,
         "type": "scatter",
         "x": [
          13,
          13
         ],
         "xaxis": "x2",
         "y": [
          0,
          -0.03859313869214946
         ],
         "yaxis": "y2"
        },
        {
         "hoverinfo": "skip",
         "line": {
          "color": "blue",
          "width": 1
         },
         "mode": "lines",
         "showlegend": false,
         "type": "scatter",
         "x": [
          14,
          14
         ],
         "xaxis": "x2",
         "y": [
          0,
          -0.032526748490838996
         ],
         "yaxis": "y2"
        },
        {
         "hoverinfo": "skip",
         "line": {
          "color": "blue",
          "width": 1
         },
         "mode": "lines",
         "showlegend": false,
         "type": "scatter",
         "x": [
          15,
          15
         ],
         "xaxis": "x2",
         "y": [
          0,
          -0.04317632802195837
         ],
         "yaxis": "y2"
        },
        {
         "hoverinfo": "skip",
         "line": {
          "color": "blue",
          "width": 1
         },
         "mode": "lines",
         "showlegend": false,
         "type": "scatter",
         "x": [
          16,
          16
         ],
         "xaxis": "x2",
         "y": [
          0,
          -0.04261528820363709
         ],
         "yaxis": "y2"
        },
        {
         "hoverinfo": "skip",
         "line": {
          "color": "blue",
          "width": 1
         },
         "mode": "lines",
         "showlegend": false,
         "type": "scatter",
         "x": [
          17,
          17
         ],
         "xaxis": "x2",
         "y": [
          0,
          0.027239207491162477
         ],
         "yaxis": "y2"
        },
        {
         "hoverinfo": "skip",
         "line": {
          "color": "blue",
          "width": 1
         },
         "mode": "lines",
         "showlegend": false,
         "type": "scatter",
         "x": [
          18,
          18
         ],
         "xaxis": "x2",
         "y": [
          0,
          -0.0656028778153042
         ],
         "yaxis": "y2"
        },
        {
         "hoverinfo": "skip",
         "line": {
          "color": "blue",
          "width": 1
         },
         "mode": "lines",
         "showlegend": false,
         "type": "scatter",
         "x": [
          19,
          19
         ],
         "xaxis": "x2",
         "y": [
          0,
          -0.024110176417589148
         ],
         "yaxis": "y2"
        },
        {
         "hoverinfo": "skip",
         "line": {
          "color": "blue",
          "width": 1
         },
         "mode": "lines",
         "showlegend": false,
         "type": "scatter",
         "x": [
          20,
          20
         ],
         "xaxis": "x2",
         "y": [
          0,
          -0.03591587418757519
         ],
         "yaxis": "y2"
        },
        {
         "hoverinfo": "skip",
         "line": {
          "color": "blue",
          "width": 1
         },
         "mode": "lines",
         "showlegend": false,
         "type": "scatter",
         "x": [
          21,
          21
         ],
         "xaxis": "x2",
         "y": [
          0,
          -0.022614086330215798
         ],
         "yaxis": "y2"
        },
        {
         "hovertemplate": "Lag %{x}<br>PACF: %{y:.2f}<extra></extra>",
         "line": {
          "color": "blue",
          "width": 1
         },
         "marker": {
          "color": "blue",
          "size": 5
         },
         "mode": "lines+markers",
         "name": "PRO27826_org",
         "type": "scatter",
         "x": [
          0,
          1,
          2,
          3,
          4,
          5,
          6,
          7,
          8,
          9,
          10,
          11,
          12,
          13,
          14,
          15,
          16,
          17,
          18,
          19,
          20,
          21
         ],
         "xaxis": "x3",
         "y": [
          1,
          0.26270189215432,
          -0.07216999411615758,
          0.11627921112099004,
          0.04253715292975956,
          -0.23313766482650644,
          0.08180686563701274,
          -0.3263419816398692,
          0.3802999218304582,
          -0.29947453825848797,
          -0.3641296779307654,
          0.09817829520865348,
          0.3994903433428315,
          -0.4688389796726108,
          -0.20857426983883492,
          0.37665830679771717,
          0.4612132651875337,
          -0.7430464777464817,
          0.07305531492067355,
          0.6917753900020609,
          -0.9376625684141894,
          -18.96555543358314
         ],
         "yaxis": "y3"
        },
        {
         "hoverinfo": "skip",
         "line": {
          "color": "blue",
          "width": 1
         },
         "mode": "lines",
         "showlegend": false,
         "type": "scatter",
         "x": [
          0,
          0
         ],
         "xaxis": "x3",
         "y": [
          0,
          1
         ],
         "yaxis": "y3"
        },
        {
         "hoverinfo": "skip",
         "line": {
          "color": "blue",
          "width": 1
         },
         "mode": "lines",
         "showlegend": false,
         "type": "scatter",
         "x": [
          1,
          1
         ],
         "xaxis": "x3",
         "y": [
          0,
          0.26270189215432
         ],
         "yaxis": "y3"
        },
        {
         "hoverinfo": "skip",
         "line": {
          "color": "blue",
          "width": 1
         },
         "mode": "lines",
         "showlegend": false,
         "type": "scatter",
         "x": [
          2,
          2
         ],
         "xaxis": "x3",
         "y": [
          0,
          -0.07216999411615758
         ],
         "yaxis": "y3"
        },
        {
         "hoverinfo": "skip",
         "line": {
          "color": "blue",
          "width": 1
         },
         "mode": "lines",
         "showlegend": false,
         "type": "scatter",
         "x": [
          3,
          3
         ],
         "xaxis": "x3",
         "y": [
          0,
          0.11627921112099004
         ],
         "yaxis": "y3"
        },
        {
         "hoverinfo": "skip",
         "line": {
          "color": "blue",
          "width": 1
         },
         "mode": "lines",
         "showlegend": false,
         "type": "scatter",
         "x": [
          4,
          4
         ],
         "xaxis": "x3",
         "y": [
          0,
          0.04253715292975956
         ],
         "yaxis": "y3"
        },
        {
         "hoverinfo": "skip",
         "line": {
          "color": "blue",
          "width": 1
         },
         "mode": "lines",
         "showlegend": false,
         "type": "scatter",
         "x": [
          5,
          5
         ],
         "xaxis": "x3",
         "y": [
          0,
          -0.23313766482650644
         ],
         "yaxis": "y3"
        },
        {
         "hoverinfo": "skip",
         "line": {
          "color": "blue",
          "width": 1
         },
         "mode": "lines",
         "showlegend": false,
         "type": "scatter",
         "x": [
          6,
          6
         ],
         "xaxis": "x3",
         "y": [
          0,
          0.08180686563701274
         ],
         "yaxis": "y3"
        },
        {
         "hoverinfo": "skip",
         "line": {
          "color": "blue",
          "width": 1
         },
         "mode": "lines",
         "showlegend": false,
         "type": "scatter",
         "x": [
          7,
          7
         ],
         "xaxis": "x3",
         "y": [
          0,
          -0.3263419816398692
         ],
         "yaxis": "y3"
        },
        {
         "hoverinfo": "skip",
         "line": {
          "color": "blue",
          "width": 1
         },
         "mode": "lines",
         "showlegend": false,
         "type": "scatter",
         "x": [
          8,
          8
         ],
         "xaxis": "x3",
         "y": [
          0,
          0.3802999218304582
         ],
         "yaxis": "y3"
        },
        {
         "hoverinfo": "skip",
         "line": {
          "color": "blue",
          "width": 1
         },
         "mode": "lines",
         "showlegend": false,
         "type": "scatter",
         "x": [
          9,
          9
         ],
         "xaxis": "x3",
         "y": [
          0,
          -0.29947453825848797
         ],
         "yaxis": "y3"
        },
        {
         "hoverinfo": "skip",
         "line": {
          "color": "blue",
          "width": 1
         },
         "mode": "lines",
         "showlegend": false,
         "type": "scatter",
         "x": [
          10,
          10
         ],
         "xaxis": "x3",
         "y": [
          0,
          -0.3641296779307654
         ],
         "yaxis": "y3"
        },
        {
         "hoverinfo": "skip",
         "line": {
          "color": "blue",
          "width": 1
         },
         "mode": "lines",
         "showlegend": false,
         "type": "scatter",
         "x": [
          11,
          11
         ],
         "xaxis": "x3",
         "y": [
          0,
          0.09817829520865348
         ],
         "yaxis": "y3"
        },
        {
         "hoverinfo": "skip",
         "line": {
          "color": "blue",
          "width": 1
         },
         "mode": "lines",
         "showlegend": false,
         "type": "scatter",
         "x": [
          12,
          12
         ],
         "xaxis": "x3",
         "y": [
          0,
          0.3994903433428315
         ],
         "yaxis": "y3"
        },
        {
         "hoverinfo": "skip",
         "line": {
          "color": "blue",
          "width": 1
         },
         "mode": "lines",
         "showlegend": false,
         "type": "scatter",
         "x": [
          13,
          13
         ],
         "xaxis": "x3",
         "y": [
          0,
          -0.4688389796726108
         ],
         "yaxis": "y3"
        },
        {
         "hoverinfo": "skip",
         "line": {
          "color": "blue",
          "width": 1
         },
         "mode": "lines",
         "showlegend": false,
         "type": "scatter",
         "x": [
          14,
          14
         ],
         "xaxis": "x3",
         "y": [
          0,
          -0.20857426983883492
         ],
         "yaxis": "y3"
        },
        {
         "hoverinfo": "skip",
         "line": {
          "color": "blue",
          "width": 1
         },
         "mode": "lines",
         "showlegend": false,
         "type": "scatter",
         "x": [
          15,
          15
         ],
         "xaxis": "x3",
         "y": [
          0,
          0.37665830679771717
         ],
         "yaxis": "y3"
        },
        {
         "hoverinfo": "skip",
         "line": {
          "color": "blue",
          "width": 1
         },
         "mode": "lines",
         "showlegend": false,
         "type": "scatter",
         "x": [
          16,
          16
         ],
         "xaxis": "x3",
         "y": [
          0,
          0.4612132651875337
         ],
         "yaxis": "y3"
        },
        {
         "hoverinfo": "skip",
         "line": {
          "color": "blue",
          "width": 1
         },
         "mode": "lines",
         "showlegend": false,
         "type": "scatter",
         "x": [
          17,
          17
         ],
         "xaxis": "x3",
         "y": [
          0,
          -0.7430464777464817
         ],
         "yaxis": "y3"
        },
        {
         "hoverinfo": "skip",
         "line": {
          "color": "blue",
          "width": 1
         },
         "mode": "lines",
         "showlegend": false,
         "type": "scatter",
         "x": [
          18,
          18
         ],
         "xaxis": "x3",
         "y": [
          0,
          0.07305531492067355
         ],
         "yaxis": "y3"
        },
        {
         "hoverinfo": "skip",
         "line": {
          "color": "blue",
          "width": 1
         },
         "mode": "lines",
         "showlegend": false,
         "type": "scatter",
         "x": [
          19,
          19
         ],
         "xaxis": "x3",
         "y": [
          0,
          0.6917753900020609
         ],
         "yaxis": "y3"
        },
        {
         "hoverinfo": "skip",
         "line": {
          "color": "blue",
          "width": 1
         },
         "mode": "lines",
         "showlegend": false,
         "type": "scatter",
         "x": [
          20,
          20
         ],
         "xaxis": "x3",
         "y": [
          0,
          -0.9376625684141894
         ],
         "yaxis": "y3"
        },
        {
         "hoverinfo": "skip",
         "line": {
          "color": "blue",
          "width": 1
         },
         "mode": "lines",
         "showlegend": false,
         "type": "scatter",
         "x": [
          21,
          21
         ],
         "xaxis": "x3",
         "y": [
          0,
          -18.96555543358314
         ],
         "yaxis": "y3"
        },
        {
         "hovertemplate": "Lag %{x}<br>PACF: %{y:.2f}<extra></extra>",
         "line": {
          "color": "blue",
          "width": 1
         },
         "marker": {
          "color": "blue",
          "size": 5
         },
         "mode": "lines+markers",
         "name": "MAB_ELE_PRO276",
         "type": "scatter",
         "x": [
          0,
          1,
          2,
          3,
          4,
          5,
          6,
          7,
          8,
          9,
          10,
          11,
          12,
          13,
          14,
          15,
          16,
          17,
          18,
          19,
          20,
          21
         ],
         "xaxis": "x4",
         "y": [
          1,
          0.2382896844000561,
          -0.058770246819099745,
          0.4216501237971996,
          0.017223199646644767,
          0.061722452414551314,
          -0.008411928320401642,
          -0.32315238422527287,
          0.19910472998211018,
          -0.0008434776564398036,
          -0.36288895666030513,
          0.07223892371460493,
          0.4327923300408764,
          -0.5549714174164445,
          -0.2344463880540467,
          0.04930733721797514,
          -0.16075587732635674,
          -0.5407835567858598,
          -0.15908453727899602,
          0.6268112982761066,
          -0.38553660663524436,
          -1.3874269860411355
         ],
         "yaxis": "y4"
        },
        {
         "hoverinfo": "skip",
         "line": {
          "color": "blue",
          "width": 1
         },
         "mode": "lines",
         "showlegend": false,
         "type": "scatter",
         "x": [
          0,
          0
         ],
         "xaxis": "x4",
         "y": [
          0,
          1
         ],
         "yaxis": "y4"
        },
        {
         "hoverinfo": "skip",
         "line": {
          "color": "blue",
          "width": 1
         },
         "mode": "lines",
         "showlegend": false,
         "type": "scatter",
         "x": [
          1,
          1
         ],
         "xaxis": "x4",
         "y": [
          0,
          0.2382896844000561
         ],
         "yaxis": "y4"
        },
        {
         "hoverinfo": "skip",
         "line": {
          "color": "blue",
          "width": 1
         },
         "mode": "lines",
         "showlegend": false,
         "type": "scatter",
         "x": [
          2,
          2
         ],
         "xaxis": "x4",
         "y": [
          0,
          -0.058770246819099745
         ],
         "yaxis": "y4"
        },
        {
         "hoverinfo": "skip",
         "line": {
          "color": "blue",
          "width": 1
         },
         "mode": "lines",
         "showlegend": false,
         "type": "scatter",
         "x": [
          3,
          3
         ],
         "xaxis": "x4",
         "y": [
          0,
          0.4216501237971996
         ],
         "yaxis": "y4"
        },
        {
         "hoverinfo": "skip",
         "line": {
          "color": "blue",
          "width": 1
         },
         "mode": "lines",
         "showlegend": false,
         "type": "scatter",
         "x": [
          4,
          4
         ],
         "xaxis": "x4",
         "y": [
          0,
          0.017223199646644767
         ],
         "yaxis": "y4"
        },
        {
         "hoverinfo": "skip",
         "line": {
          "color": "blue",
          "width": 1
         },
         "mode": "lines",
         "showlegend": false,
         "type": "scatter",
         "x": [
          5,
          5
         ],
         "xaxis": "x4",
         "y": [
          0,
          0.061722452414551314
         ],
         "yaxis": "y4"
        },
        {
         "hoverinfo": "skip",
         "line": {
          "color": "blue",
          "width": 1
         },
         "mode": "lines",
         "showlegend": false,
         "type": "scatter",
         "x": [
          6,
          6
         ],
         "xaxis": "x4",
         "y": [
          0,
          -0.008411928320401642
         ],
         "yaxis": "y4"
        },
        {
         "hoverinfo": "skip",
         "line": {
          "color": "blue",
          "width": 1
         },
         "mode": "lines",
         "showlegend": false,
         "type": "scatter",
         "x": [
          7,
          7
         ],
         "xaxis": "x4",
         "y": [
          0,
          -0.32315238422527287
         ],
         "yaxis": "y4"
        },
        {
         "hoverinfo": "skip",
         "line": {
          "color": "blue",
          "width": 1
         },
         "mode": "lines",
         "showlegend": false,
         "type": "scatter",
         "x": [
          8,
          8
         ],
         "xaxis": "x4",
         "y": [
          0,
          0.19910472998211018
         ],
         "yaxis": "y4"
        },
        {
         "hoverinfo": "skip",
         "line": {
          "color": "blue",
          "width": 1
         },
         "mode": "lines",
         "showlegend": false,
         "type": "scatter",
         "x": [
          9,
          9
         ],
         "xaxis": "x4",
         "y": [
          0,
          -0.0008434776564398036
         ],
         "yaxis": "y4"
        },
        {
         "hoverinfo": "skip",
         "line": {
          "color": "blue",
          "width": 1
         },
         "mode": "lines",
         "showlegend": false,
         "type": "scatter",
         "x": [
          10,
          10
         ],
         "xaxis": "x4",
         "y": [
          0,
          -0.36288895666030513
         ],
         "yaxis": "y4"
        },
        {
         "hoverinfo": "skip",
         "line": {
          "color": "blue",
          "width": 1
         },
         "mode": "lines",
         "showlegend": false,
         "type": "scatter",
         "x": [
          11,
          11
         ],
         "xaxis": "x4",
         "y": [
          0,
          0.07223892371460493
         ],
         "yaxis": "y4"
        },
        {
         "hoverinfo": "skip",
         "line": {
          "color": "blue",
          "width": 1
         },
         "mode": "lines",
         "showlegend": false,
         "type": "scatter",
         "x": [
          12,
          12
         ],
         "xaxis": "x4",
         "y": [
          0,
          0.4327923300408764
         ],
         "yaxis": "y4"
        },
        {
         "hoverinfo": "skip",
         "line": {
          "color": "blue",
          "width": 1
         },
         "mode": "lines",
         "showlegend": false,
         "type": "scatter",
         "x": [
          13,
          13
         ],
         "xaxis": "x4",
         "y": [
          0,
          -0.5549714174164445
         ],
         "yaxis": "y4"
        },
        {
         "hoverinfo": "skip",
         "line": {
          "color": "blue",
          "width": 1
         },
         "mode": "lines",
         "showlegend": false,
         "type": "scatter",
         "x": [
          14,
          14
         ],
         "xaxis": "x4",
         "y": [
          0,
          -0.2344463880540467
         ],
         "yaxis": "y4"
        },
        {
         "hoverinfo": "skip",
         "line": {
          "color": "blue",
          "width": 1
         },
         "mode": "lines",
         "showlegend": false,
         "type": "scatter",
         "x": [
          15,
          15
         ],
         "xaxis": "x4",
         "y": [
          0,
          0.04930733721797514
         ],
         "yaxis": "y4"
        },
        {
         "hoverinfo": "skip",
         "line": {
          "color": "blue",
          "width": 1
         },
         "mode": "lines",
         "showlegend": false,
         "type": "scatter",
         "x": [
          16,
          16
         ],
         "xaxis": "x4",
         "y": [
          0,
          -0.16075587732635674
         ],
         "yaxis": "y4"
        },
        {
         "hoverinfo": "skip",
         "line": {
          "color": "blue",
          "width": 1
         },
         "mode": "lines",
         "showlegend": false,
         "type": "scatter",
         "x": [
          17,
          17
         ],
         "xaxis": "x4",
         "y": [
          0,
          -0.5407835567858598
         ],
         "yaxis": "y4"
        },
        {
         "hoverinfo": "skip",
         "line": {
          "color": "blue",
          "width": 1
         },
         "mode": "lines",
         "showlegend": false,
         "type": "scatter",
         "x": [
          18,
          18
         ],
         "xaxis": "x4",
         "y": [
          0,
          -0.15908453727899602
         ],
         "yaxis": "y4"
        },
        {
         "hoverinfo": "skip",
         "line": {
          "color": "blue",
          "width": 1
         },
         "mode": "lines",
         "showlegend": false,
         "type": "scatter",
         "x": [
          19,
          19
         ],
         "xaxis": "x4",
         "y": [
          0,
          0.6268112982761066
         ],
         "yaxis": "y4"
        },
        {
         "hoverinfo": "skip",
         "line": {
          "color": "blue",
          "width": 1
         },
         "mode": "lines",
         "showlegend": false,
         "type": "scatter",
         "x": [
          20,
          20
         ],
         "xaxis": "x4",
         "y": [
          0,
          -0.38553660663524436
         ],
         "yaxis": "y4"
        },
        {
         "hoverinfo": "skip",
         "line": {
          "color": "blue",
          "width": 1
         },
         "mode": "lines",
         "showlegend": false,
         "type": "scatter",
         "x": [
          21,
          21
         ],
         "xaxis": "x4",
         "y": [
          0,
          -1.3874269860411355
         ],
         "yaxis": "y4"
        },
        {
         "hovertemplate": "Lag %{x}<br>PACF: %{y:.2f}<extra></extra>",
         "line": {
          "color": "blue",
          "width": 1
         },
         "marker": {
          "color": "blue",
          "size": 5
         },
         "mode": "lines+markers",
         "name": "MAB_ELE_SHP1100",
         "type": "scatter",
         "x": [
          0,
          1,
          2,
          3,
          4,
          5,
          6,
          7,
          8,
          9,
          10,
          11,
          12,
          13,
          14,
          15,
          16,
          17,
          18,
          19,
          20,
          21
         ],
         "xaxis": "x5",
         "y": [
          1,
          0.31005625292402095,
          -0.009402575661419504,
          0.5092998719522702,
          -0.16848026911024033,
          0.19520317033666115,
          0.021327265075290248,
          -0.3113093624614416,
          0.12122378173378691,
          0.051190704292216296,
          -0.40640186316762755,
          0.19970619756778463,
          0.41296707404305394,
          -0.814487085744968,
          0.7386477941201154,
          -1.2046557222242344,
          -2.995939079805818,
          0.5951822779030291,
          -0.4475293776642944,
          0.6466648098197504,
          -3.3343069771501233,
          -0.7893666628543546
         ],
         "yaxis": "y5"
        },
        {
         "hoverinfo": "skip",
         "line": {
          "color": "blue",
          "width": 1
         },
         "mode": "lines",
         "showlegend": false,
         "type": "scatter",
         "x": [
          0,
          0
         ],
         "xaxis": "x5",
         "y": [
          0,
          1
         ],
         "yaxis": "y5"
        },
        {
         "hoverinfo": "skip",
         "line": {
          "color": "blue",
          "width": 1
         },
         "mode": "lines",
         "showlegend": false,
         "type": "scatter",
         "x": [
          1,
          1
         ],
         "xaxis": "x5",
         "y": [
          0,
          0.31005625292402095
         ],
         "yaxis": "y5"
        },
        {
         "hoverinfo": "skip",
         "line": {
          "color": "blue",
          "width": 1
         },
         "mode": "lines",
         "showlegend": false,
         "type": "scatter",
         "x": [
          2,
          2
         ],
         "xaxis": "x5",
         "y": [
          0,
          -0.009402575661419504
         ],
         "yaxis": "y5"
        },
        {
         "hoverinfo": "skip",
         "line": {
          "color": "blue",
          "width": 1
         },
         "mode": "lines",
         "showlegend": false,
         "type": "scatter",
         "x": [
          3,
          3
         ],
         "xaxis": "x5",
         "y": [
          0,
          0.5092998719522702
         ],
         "yaxis": "y5"
        },
        {
         "hoverinfo": "skip",
         "line": {
          "color": "blue",
          "width": 1
         },
         "mode": "lines",
         "showlegend": false,
         "type": "scatter",
         "x": [
          4,
          4
         ],
         "xaxis": "x5",
         "y": [
          0,
          -0.16848026911024033
         ],
         "yaxis": "y5"
        },
        {
         "hoverinfo": "skip",
         "line": {
          "color": "blue",
          "width": 1
         },
         "mode": "lines",
         "showlegend": false,
         "type": "scatter",
         "x": [
          5,
          5
         ],
         "xaxis": "x5",
         "y": [
          0,
          0.19520317033666115
         ],
         "yaxis": "y5"
        },
        {
         "hoverinfo": "skip",
         "line": {
          "color": "blue",
          "width": 1
         },
         "mode": "lines",
         "showlegend": false,
         "type": "scatter",
         "x": [
          6,
          6
         ],
         "xaxis": "x5",
         "y": [
          0,
          0.021327265075290248
         ],
         "yaxis": "y5"
        },
        {
         "hoverinfo": "skip",
         "line": {
          "color": "blue",
          "width": 1
         },
         "mode": "lines",
         "showlegend": false,
         "type": "scatter",
         "x": [
          7,
          7
         ],
         "xaxis": "x5",
         "y": [
          0,
          -0.3113093624614416
         ],
         "yaxis": "y5"
        },
        {
         "hoverinfo": "skip",
         "line": {
          "color": "blue",
          "width": 1
         },
         "mode": "lines",
         "showlegend": false,
         "type": "scatter",
         "x": [
          8,
          8
         ],
         "xaxis": "x5",
         "y": [
          0,
          0.12122378173378691
         ],
         "yaxis": "y5"
        },
        {
         "hoverinfo": "skip",
         "line": {
          "color": "blue",
          "width": 1
         },
         "mode": "lines",
         "showlegend": false,
         "type": "scatter",
         "x": [
          9,
          9
         ],
         "xaxis": "x5",
         "y": [
          0,
          0.051190704292216296
         ],
         "yaxis": "y5"
        },
        {
         "hoverinfo": "skip",
         "line": {
          "color": "blue",
          "width": 1
         },
         "mode": "lines",
         "showlegend": false,
         "type": "scatter",
         "x": [
          10,
          10
         ],
         "xaxis": "x5",
         "y": [
          0,
          -0.40640186316762755
         ],
         "yaxis": "y5"
        },
        {
         "hoverinfo": "skip",
         "line": {
          "color": "blue",
          "width": 1
         },
         "mode": "lines",
         "showlegend": false,
         "type": "scatter",
         "x": [
          11,
          11
         ],
         "xaxis": "x5",
         "y": [
          0,
          0.19970619756778463
         ],
         "yaxis": "y5"
        },
        {
         "hoverinfo": "skip",
         "line": {
          "color": "blue",
          "width": 1
         },
         "mode": "lines",
         "showlegend": false,
         "type": "scatter",
         "x": [
          12,
          12
         ],
         "xaxis": "x5",
         "y": [
          0,
          0.41296707404305394
         ],
         "yaxis": "y5"
        },
        {
         "hoverinfo": "skip",
         "line": {
          "color": "blue",
          "width": 1
         },
         "mode": "lines",
         "showlegend": false,
         "type": "scatter",
         "x": [
          13,
          13
         ],
         "xaxis": "x5",
         "y": [
          0,
          -0.814487085744968
         ],
         "yaxis": "y5"
        },
        {
         "hoverinfo": "skip",
         "line": {
          "color": "blue",
          "width": 1
         },
         "mode": "lines",
         "showlegend": false,
         "type": "scatter",
         "x": [
          14,
          14
         ],
         "xaxis": "x5",
         "y": [
          0,
          0.7386477941201154
         ],
         "yaxis": "y5"
        },
        {
         "hoverinfo": "skip",
         "line": {
          "color": "blue",
          "width": 1
         },
         "mode": "lines",
         "showlegend": false,
         "type": "scatter",
         "x": [
          15,
          15
         ],
         "xaxis": "x5",
         "y": [
          0,
          -1.2046557222242344
         ],
         "yaxis": "y5"
        },
        {
         "hoverinfo": "skip",
         "line": {
          "color": "blue",
          "width": 1
         },
         "mode": "lines",
         "showlegend": false,
         "type": "scatter",
         "x": [
          16,
          16
         ],
         "xaxis": "x5",
         "y": [
          0,
          -2.995939079805818
         ],
         "yaxis": "y5"
        },
        {
         "hoverinfo": "skip",
         "line": {
          "color": "blue",
          "width": 1
         },
         "mode": "lines",
         "showlegend": false,
         "type": "scatter",
         "x": [
          17,
          17
         ],
         "xaxis": "x5",
         "y": [
          0,
          0.5951822779030291
         ],
         "yaxis": "y5"
        },
        {
         "hoverinfo": "skip",
         "line": {
          "color": "blue",
          "width": 1
         },
         "mode": "lines",
         "showlegend": false,
         "type": "scatter",
         "x": [
          18,
          18
         ],
         "xaxis": "x5",
         "y": [
          0,
          -0.4475293776642944
         ],
         "yaxis": "y5"
        },
        {
         "hoverinfo": "skip",
         "line": {
          "color": "blue",
          "width": 1
         },
         "mode": "lines",
         "showlegend": false,
         "type": "scatter",
         "x": [
          19,
          19
         ],
         "xaxis": "x5",
         "y": [
          0,
          0.6466648098197504
         ],
         "yaxis": "y5"
        },
        {
         "hoverinfo": "skip",
         "line": {
          "color": "blue",
          "width": 1
         },
         "mode": "lines",
         "showlegend": false,
         "type": "scatter",
         "x": [
          20,
          20
         ],
         "xaxis": "x5",
         "y": [
          0,
          -3.3343069771501233
         ],
         "yaxis": "y5"
        },
        {
         "hoverinfo": "skip",
         "line": {
          "color": "blue",
          "width": 1
         },
         "mode": "lines",
         "showlegend": false,
         "type": "scatter",
         "x": [
          21,
          21
         ],
         "xaxis": "x5",
         "y": [
          0,
          -0.7893666628543546
         ],
         "yaxis": "y5"
        },
        {
         "hovertemplate": "Lag %{x}<br>PACF: %{y:.2f}<extra></extra>",
         "line": {
          "color": "blue",
          "width": 1
         },
         "marker": {
          "color": "blue",
          "size": 5
         },
         "mode": "lines+markers",
         "name": "MAB_ELE_SHP392",
         "type": "scatter",
         "x": [
          0,
          1,
          2,
          3,
          4,
          5,
          6,
          7,
          8,
          9,
          10,
          11,
          12,
          13,
          14,
          15,
          16,
          17,
          18,
          19,
          20,
          21
         ],
         "xaxis": "x6",
         "y": [
          1,
          0.0846561790851986,
          -0.08985954522671781,
          0.5601202198923043,
          0.005657433858946653,
          0.07184294902958165,
          0.1310441833294297,
          -0.482142870712131,
          0.19832338418871512,
          0.005340381859188312,
          -0.46253073630251046,
          0.1945549795766127,
          0.5037229218985326,
          -0.5393390574312227,
          -0.33684877640192473,
          -0.1888413241713472,
          -0.19885426853042407,
          -0.4546670494930003,
          -0.6826288061132826,
          -0.2746894682851316,
          0.1311567997672761,
          -1.6689125036528891
         ],
         "yaxis": "y6"
        },
        {
         "hoverinfo": "skip",
         "line": {
          "color": "blue",
          "width": 1
         },
         "mode": "lines",
         "showlegend": false,
         "type": "scatter",
         "x": [
          0,
          0
         ],
         "xaxis": "x6",
         "y": [
          0,
          1
         ],
         "yaxis": "y6"
        },
        {
         "hoverinfo": "skip",
         "line": {
          "color": "blue",
          "width": 1
         },
         "mode": "lines",
         "showlegend": false,
         "type": "scatter",
         "x": [
          1,
          1
         ],
         "xaxis": "x6",
         "y": [
          0,
          0.0846561790851986
         ],
         "yaxis": "y6"
        },
        {
         "hoverinfo": "skip",
         "line": {
          "color": "blue",
          "width": 1
         },
         "mode": "lines",
         "showlegend": false,
         "type": "scatter",
         "x": [
          2,
          2
         ],
         "xaxis": "x6",
         "y": [
          0,
          -0.08985954522671781
         ],
         "yaxis": "y6"
        },
        {
         "hoverinfo": "skip",
         "line": {
          "color": "blue",
          "width": 1
         },
         "mode": "lines",
         "showlegend": false,
         "type": "scatter",
         "x": [
          3,
          3
         ],
         "xaxis": "x6",
         "y": [
          0,
          0.5601202198923043
         ],
         "yaxis": "y6"
        },
        {
         "hoverinfo": "skip",
         "line": {
          "color": "blue",
          "width": 1
         },
         "mode": "lines",
         "showlegend": false,
         "type": "scatter",
         "x": [
          4,
          4
         ],
         "xaxis": "x6",
         "y": [
          0,
          0.005657433858946653
         ],
         "yaxis": "y6"
        },
        {
         "hoverinfo": "skip",
         "line": {
          "color": "blue",
          "width": 1
         },
         "mode": "lines",
         "showlegend": false,
         "type": "scatter",
         "x": [
          5,
          5
         ],
         "xaxis": "x6",
         "y": [
          0,
          0.07184294902958165
         ],
         "yaxis": "y6"
        },
        {
         "hoverinfo": "skip",
         "line": {
          "color": "blue",
          "width": 1
         },
         "mode": "lines",
         "showlegend": false,
         "type": "scatter",
         "x": [
          6,
          6
         ],
         "xaxis": "x6",
         "y": [
          0,
          0.1310441833294297
         ],
         "yaxis": "y6"
        },
        {
         "hoverinfo": "skip",
         "line": {
          "color": "blue",
          "width": 1
         },
         "mode": "lines",
         "showlegend": false,
         "type": "scatter",
         "x": [
          7,
          7
         ],
         "xaxis": "x6",
         "y": [
          0,
          -0.482142870712131
         ],
         "yaxis": "y6"
        },
        {
         "hoverinfo": "skip",
         "line": {
          "color": "blue",
          "width": 1
         },
         "mode": "lines",
         "showlegend": false,
         "type": "scatter",
         "x": [
          8,
          8
         ],
         "xaxis": "x6",
         "y": [
          0,
          0.19832338418871512
         ],
         "yaxis": "y6"
        },
        {
         "hoverinfo": "skip",
         "line": {
          "color": "blue",
          "width": 1
         },
         "mode": "lines",
         "showlegend": false,
         "type": "scatter",
         "x": [
          9,
          9
         ],
         "xaxis": "x6",
         "y": [
          0,
          0.005340381859188312
         ],
         "yaxis": "y6"
        },
        {
         "hoverinfo": "skip",
         "line": {
          "color": "blue",
          "width": 1
         },
         "mode": "lines",
         "showlegend": false,
         "type": "scatter",
         "x": [
          10,
          10
         ],
         "xaxis": "x6",
         "y": [
          0,
          -0.46253073630251046
         ],
         "yaxis": "y6"
        },
        {
         "hoverinfo": "skip",
         "line": {
          "color": "blue",
          "width": 1
         },
         "mode": "lines",
         "showlegend": false,
         "type": "scatter",
         "x": [
          11,
          11
         ],
         "xaxis": "x6",
         "y": [
          0,
          0.1945549795766127
         ],
         "yaxis": "y6"
        },
        {
         "hoverinfo": "skip",
         "line": {
          "color": "blue",
          "width": 1
         },
         "mode": "lines",
         "showlegend": false,
         "type": "scatter",
         "x": [
          12,
          12
         ],
         "xaxis": "x6",
         "y": [
          0,
          0.5037229218985326
         ],
         "yaxis": "y6"
        },
        {
         "hoverinfo": "skip",
         "line": {
          "color": "blue",
          "width": 1
         },
         "mode": "lines",
         "showlegend": false,
         "type": "scatter",
         "x": [
          13,
          13
         ],
         "xaxis": "x6",
         "y": [
          0,
          -0.5393390574312227
         ],
         "yaxis": "y6"
        },
        {
         "hoverinfo": "skip",
         "line": {
          "color": "blue",
          "width": 1
         },
         "mode": "lines",
         "showlegend": false,
         "type": "scatter",
         "x": [
          14,
          14
         ],
         "xaxis": "x6",
         "y": [
          0,
          -0.33684877640192473
         ],
         "yaxis": "y6"
        },
        {
         "hoverinfo": "skip",
         "line": {
          "color": "blue",
          "width": 1
         },
         "mode": "lines",
         "showlegend": false,
         "type": "scatter",
         "x": [
          15,
          15
         ],
         "xaxis": "x6",
         "y": [
          0,
          -0.1888413241713472
         ],
         "yaxis": "y6"
        },
        {
         "hoverinfo": "skip",
         "line": {
          "color": "blue",
          "width": 1
         },
         "mode": "lines",
         "showlegend": false,
         "type": "scatter",
         "x": [
          16,
          16
         ],
         "xaxis": "x6",
         "y": [
          0,
          -0.19885426853042407
         ],
         "yaxis": "y6"
        },
        {
         "hoverinfo": "skip",
         "line": {
          "color": "blue",
          "width": 1
         },
         "mode": "lines",
         "showlegend": false,
         "type": "scatter",
         "x": [
          17,
          17
         ],
         "xaxis": "x6",
         "y": [
          0,
          -0.4546670494930003
         ],
         "yaxis": "y6"
        },
        {
         "hoverinfo": "skip",
         "line": {
          "color": "blue",
          "width": 1
         },
         "mode": "lines",
         "showlegend": false,
         "type": "scatter",
         "x": [
          18,
          18
         ],
         "xaxis": "x6",
         "y": [
          0,
          -0.6826288061132826
         ],
         "yaxis": "y6"
        },
        {
         "hoverinfo": "skip",
         "line": {
          "color": "blue",
          "width": 1
         },
         "mode": "lines",
         "showlegend": false,
         "type": "scatter",
         "x": [
          19,
          19
         ],
         "xaxis": "x6",
         "y": [
          0,
          -0.2746894682851316
         ],
         "yaxis": "y6"
        },
        {
         "hoverinfo": "skip",
         "line": {
          "color": "blue",
          "width": 1
         },
         "mode": "lines",
         "showlegend": false,
         "type": "scatter",
         "x": [
          20,
          20
         ],
         "xaxis": "x6",
         "y": [
          0,
          0.1311567997672761
         ],
         "yaxis": "y6"
        },
        {
         "hoverinfo": "skip",
         "line": {
          "color": "blue",
          "width": 1
         },
         "mode": "lines",
         "showlegend": false,
         "type": "scatter",
         "x": [
          21,
          21
         ],
         "xaxis": "x6",
         "y": [
          0,
          -1.6689125036528891
         ],
         "yaxis": "y6"
        },
        {
         "hovertemplate": "Lag %{x}<br>PACF: %{y:.2f}<extra></extra>",
         "line": {
          "color": "blue",
          "width": 1
         },
         "marker": {
          "color": "blue",
          "size": 5
         },
         "mode": "lines+markers",
         "name": "MAB_ELE_SHP276",
         "type": "scatter",
         "x": [
          0,
          1,
          2,
          3,
          4,
          5,
          6,
          7,
          8,
          9,
          10,
          11,
          12,
          13,
          14,
          15,
          16,
          17,
          18,
          19,
          20,
          21
         ],
         "xaxis": "x7",
         "y": [
          1,
          0.18849530228403183,
          -0.04833454684258511,
          0.5373147613338576,
          -0.08051963386684152,
          0.1002140923149159,
          0.027423215840384405,
          -0.3914191468141054,
          0.1914640136692562,
          0.047621279014510784,
          -0.39046292764465435,
          0.06622176047293121,
          0.4625407893482058,
          -0.7698643771153507,
          0.1166283888043875,
          0.046016711367563495,
          -0.6464782498977915,
          -0.6092576466585257,
          0.061017177386688756,
          1.2138792187141811,
          6.510255301185559,
          -1.4650516027066562
         ],
         "yaxis": "y7"
        },
        {
         "hoverinfo": "skip",
         "line": {
          "color": "blue",
          "width": 1
         },
         "mode": "lines",
         "showlegend": false,
         "type": "scatter",
         "x": [
          0,
          0
         ],
         "xaxis": "x7",
         "y": [
          0,
          1
         ],
         "yaxis": "y7"
        },
        {
         "hoverinfo": "skip",
         "line": {
          "color": "blue",
          "width": 1
         },
         "mode": "lines",
         "showlegend": false,
         "type": "scatter",
         "x": [
          1,
          1
         ],
         "xaxis": "x7",
         "y": [
          0,
          0.18849530228403183
         ],
         "yaxis": "y7"
        },
        {
         "hoverinfo": "skip",
         "line": {
          "color": "blue",
          "width": 1
         },
         "mode": "lines",
         "showlegend": false,
         "type": "scatter",
         "x": [
          2,
          2
         ],
         "xaxis": "x7",
         "y": [
          0,
          -0.04833454684258511
         ],
         "yaxis": "y7"
        },
        {
         "hoverinfo": "skip",
         "line": {
          "color": "blue",
          "width": 1
         },
         "mode": "lines",
         "showlegend": false,
         "type": "scatter",
         "x": [
          3,
          3
         ],
         "xaxis": "x7",
         "y": [
          0,
          0.5373147613338576
         ],
         "yaxis": "y7"
        },
        {
         "hoverinfo": "skip",
         "line": {
          "color": "blue",
          "width": 1
         },
         "mode": "lines",
         "showlegend": false,
         "type": "scatter",
         "x": [
          4,
          4
         ],
         "xaxis": "x7",
         "y": [
          0,
          -0.08051963386684152
         ],
         "yaxis": "y7"
        },
        {
         "hoverinfo": "skip",
         "line": {
          "color": "blue",
          "width": 1
         },
         "mode": "lines",
         "showlegend": false,
         "type": "scatter",
         "x": [
          5,
          5
         ],
         "xaxis": "x7",
         "y": [
          0,
          0.1002140923149159
         ],
         "yaxis": "y7"
        },
        {
         "hoverinfo": "skip",
         "line": {
          "color": "blue",
          "width": 1
         },
         "mode": "lines",
         "showlegend": false,
         "type": "scatter",
         "x": [
          6,
          6
         ],
         "xaxis": "x7",
         "y": [
          0,
          0.027423215840384405
         ],
         "yaxis": "y7"
        },
        {
         "hoverinfo": "skip",
         "line": {
          "color": "blue",
          "width": 1
         },
         "mode": "lines",
         "showlegend": false,
         "type": "scatter",
         "x": [
          7,
          7
         ],
         "xaxis": "x7",
         "y": [
          0,
          -0.3914191468141054
         ],
         "yaxis": "y7"
        },
        {
         "hoverinfo": "skip",
         "line": {
          "color": "blue",
          "width": 1
         },
         "mode": "lines",
         "showlegend": false,
         "type": "scatter",
         "x": [
          8,
          8
         ],
         "xaxis": "x7",
         "y": [
          0,
          0.1914640136692562
         ],
         "yaxis": "y7"
        },
        {
         "hoverinfo": "skip",
         "line": {
          "color": "blue",
          "width": 1
         },
         "mode": "lines",
         "showlegend": false,
         "type": "scatter",
         "x": [
          9,
          9
         ],
         "xaxis": "x7",
         "y": [
          0,
          0.047621279014510784
         ],
         "yaxis": "y7"
        },
        {
         "hoverinfo": "skip",
         "line": {
          "color": "blue",
          "width": 1
         },
         "mode": "lines",
         "showlegend": false,
         "type": "scatter",
         "x": [
          10,
          10
         ],
         "xaxis": "x7",
         "y": [
          0,
          -0.39046292764465435
         ],
         "yaxis": "y7"
        },
        {
         "hoverinfo": "skip",
         "line": {
          "color": "blue",
          "width": 1
         },
         "mode": "lines",
         "showlegend": false,
         "type": "scatter",
         "x": [
          11,
          11
         ],
         "xaxis": "x7",
         "y": [
          0,
          0.06622176047293121
         ],
         "yaxis": "y7"
        },
        {
         "hoverinfo": "skip",
         "line": {
          "color": "blue",
          "width": 1
         },
         "mode": "lines",
         "showlegend": false,
         "type": "scatter",
         "x": [
          12,
          12
         ],
         "xaxis": "x7",
         "y": [
          0,
          0.4625407893482058
         ],
         "yaxis": "y7"
        },
        {
         "hoverinfo": "skip",
         "line": {
          "color": "blue",
          "width": 1
         },
         "mode": "lines",
         "showlegend": false,
         "type": "scatter",
         "x": [
          13,
          13
         ],
         "xaxis": "x7",
         "y": [
          0,
          -0.7698643771153507
         ],
         "yaxis": "y7"
        },
        {
         "hoverinfo": "skip",
         "line": {
          "color": "blue",
          "width": 1
         },
         "mode": "lines",
         "showlegend": false,
         "type": "scatter",
         "x": [
          14,
          14
         ],
         "xaxis": "x7",
         "y": [
          0,
          0.1166283888043875
         ],
         "yaxis": "y7"
        },
        {
         "hoverinfo": "skip",
         "line": {
          "color": "blue",
          "width": 1
         },
         "mode": "lines",
         "showlegend": false,
         "type": "scatter",
         "x": [
          15,
          15
         ],
         "xaxis": "x7",
         "y": [
          0,
          0.046016711367563495
         ],
         "yaxis": "y7"
        },
        {
         "hoverinfo": "skip",
         "line": {
          "color": "blue",
          "width": 1
         },
         "mode": "lines",
         "showlegend": false,
         "type": "scatter",
         "x": [
          16,
          16
         ],
         "xaxis": "x7",
         "y": [
          0,
          -0.6464782498977915
         ],
         "yaxis": "y7"
        },
        {
         "hoverinfo": "skip",
         "line": {
          "color": "blue",
          "width": 1
         },
         "mode": "lines",
         "showlegend": false,
         "type": "scatter",
         "x": [
          17,
          17
         ],
         "xaxis": "x7",
         "y": [
          0,
          -0.6092576466585257
         ],
         "yaxis": "y7"
        },
        {
         "hoverinfo": "skip",
         "line": {
          "color": "blue",
          "width": 1
         },
         "mode": "lines",
         "showlegend": false,
         "type": "scatter",
         "x": [
          18,
          18
         ],
         "xaxis": "x7",
         "y": [
          0,
          0.061017177386688756
         ],
         "yaxis": "y7"
        },
        {
         "hoverinfo": "skip",
         "line": {
          "color": "blue",
          "width": 1
         },
         "mode": "lines",
         "showlegend": false,
         "type": "scatter",
         "x": [
          19,
          19
         ],
         "xaxis": "x7",
         "y": [
          0,
          1.2138792187141811
         ],
         "yaxis": "y7"
        },
        {
         "hoverinfo": "skip",
         "line": {
          "color": "blue",
          "width": 1
         },
         "mode": "lines",
         "showlegend": false,
         "type": "scatter",
         "x": [
          20,
          20
         ],
         "xaxis": "x7",
         "y": [
          0,
          6.510255301185559
         ],
         "yaxis": "y7"
        },
        {
         "hoverinfo": "skip",
         "line": {
          "color": "blue",
          "width": 1
         },
         "mode": "lines",
         "showlegend": false,
         "type": "scatter",
         "x": [
          21,
          21
         ],
         "xaxis": "x7",
         "y": [
          0,
          -1.4650516027066562
         ],
         "yaxis": "y7"
        },
        {
         "hovertemplate": "Lag %{x}<br>PACF: %{y:.2f}<extra></extra>",
         "line": {
          "color": "blue",
          "width": 1
         },
         "marker": {
          "color": "blue",
          "size": 5
         },
         "mode": "lines+markers",
         "name": "PRI27840_org",
         "type": "scatter",
         "x": [
          0,
          1,
          2,
          3,
          4,
          5,
          6,
          7,
          8,
          9,
          10,
          11,
          12,
          13,
          14,
          15,
          16,
          17,
          18,
          19,
          20,
          21
         ],
         "xaxis": "x8",
         "y": [
          1,
          0.9172458755907719,
          -0.08422322214340472,
          -0.01035044315742715,
          -0.056843664952310156,
          0.033142253119028575,
          -0.09833170952422478,
          -0.045482269409129056,
          -0.0404327241159757,
          -0.054395203557781754,
          -0.10024254099463877,
          -0.08171838540763963,
          -0.006303042908642078,
          -0.03178368334806714,
          -0.0028704420976960014,
          0.047717863964640506,
          -0.03590437754564343,
          -0.10422027346182068,
          -0.06788385316105842,
          -0.06971616898199301,
          -0.09342514392736372,
          -0.10592727848852596
         ],
         "yaxis": "y8"
        },
        {
         "hoverinfo": "skip",
         "line": {
          "color": "blue",
          "width": 1
         },
         "mode": "lines",
         "showlegend": false,
         "type": "scatter",
         "x": [
          0,
          0
         ],
         "xaxis": "x8",
         "y": [
          0,
          1
         ],
         "yaxis": "y8"
        },
        {
         "hoverinfo": "skip",
         "line": {
          "color": "blue",
          "width": 1
         },
         "mode": "lines",
         "showlegend": false,
         "type": "scatter",
         "x": [
          1,
          1
         ],
         "xaxis": "x8",
         "y": [
          0,
          0.9172458755907719
         ],
         "yaxis": "y8"
        },
        {
         "hoverinfo": "skip",
         "line": {
          "color": "blue",
          "width": 1
         },
         "mode": "lines",
         "showlegend": false,
         "type": "scatter",
         "x": [
          2,
          2
         ],
         "xaxis": "x8",
         "y": [
          0,
          -0.08422322214340472
         ],
         "yaxis": "y8"
        },
        {
         "hoverinfo": "skip",
         "line": {
          "color": "blue",
          "width": 1
         },
         "mode": "lines",
         "showlegend": false,
         "type": "scatter",
         "x": [
          3,
          3
         ],
         "xaxis": "x8",
         "y": [
          0,
          -0.01035044315742715
         ],
         "yaxis": "y8"
        },
        {
         "hoverinfo": "skip",
         "line": {
          "color": "blue",
          "width": 1
         },
         "mode": "lines",
         "showlegend": false,
         "type": "scatter",
         "x": [
          4,
          4
         ],
         "xaxis": "x8",
         "y": [
          0,
          -0.056843664952310156
         ],
         "yaxis": "y8"
        },
        {
         "hoverinfo": "skip",
         "line": {
          "color": "blue",
          "width": 1
         },
         "mode": "lines",
         "showlegend": false,
         "type": "scatter",
         "x": [
          5,
          5
         ],
         "xaxis": "x8",
         "y": [
          0,
          0.033142253119028575
         ],
         "yaxis": "y8"
        },
        {
         "hoverinfo": "skip",
         "line": {
          "color": "blue",
          "width": 1
         },
         "mode": "lines",
         "showlegend": false,
         "type": "scatter",
         "x": [
          6,
          6
         ],
         "xaxis": "x8",
         "y": [
          0,
          -0.09833170952422478
         ],
         "yaxis": "y8"
        },
        {
         "hoverinfo": "skip",
         "line": {
          "color": "blue",
          "width": 1
         },
         "mode": "lines",
         "showlegend": false,
         "type": "scatter",
         "x": [
          7,
          7
         ],
         "xaxis": "x8",
         "y": [
          0,
          -0.045482269409129056
         ],
         "yaxis": "y8"
        },
        {
         "hoverinfo": "skip",
         "line": {
          "color": "blue",
          "width": 1
         },
         "mode": "lines",
         "showlegend": false,
         "type": "scatter",
         "x": [
          8,
          8
         ],
         "xaxis": "x8",
         "y": [
          0,
          -0.0404327241159757
         ],
         "yaxis": "y8"
        },
        {
         "hoverinfo": "skip",
         "line": {
          "color": "blue",
          "width": 1
         },
         "mode": "lines",
         "showlegend": false,
         "type": "scatter",
         "x": [
          9,
          9
         ],
         "xaxis": "x8",
         "y": [
          0,
          -0.054395203557781754
         ],
         "yaxis": "y8"
        },
        {
         "hoverinfo": "skip",
         "line": {
          "color": "blue",
          "width": 1
         },
         "mode": "lines",
         "showlegend": false,
         "type": "scatter",
         "x": [
          10,
          10
         ],
         "xaxis": "x8",
         "y": [
          0,
          -0.10024254099463877
         ],
         "yaxis": "y8"
        },
        {
         "hoverinfo": "skip",
         "line": {
          "color": "blue",
          "width": 1
         },
         "mode": "lines",
         "showlegend": false,
         "type": "scatter",
         "x": [
          11,
          11
         ],
         "xaxis": "x8",
         "y": [
          0,
          -0.08171838540763963
         ],
         "yaxis": "y8"
        },
        {
         "hoverinfo": "skip",
         "line": {
          "color": "blue",
          "width": 1
         },
         "mode": "lines",
         "showlegend": false,
         "type": "scatter",
         "x": [
          12,
          12
         ],
         "xaxis": "x8",
         "y": [
          0,
          -0.006303042908642078
         ],
         "yaxis": "y8"
        },
        {
         "hoverinfo": "skip",
         "line": {
          "color": "blue",
          "width": 1
         },
         "mode": "lines",
         "showlegend": false,
         "type": "scatter",
         "x": [
          13,
          13
         ],
         "xaxis": "x8",
         "y": [
          0,
          -0.03178368334806714
         ],
         "yaxis": "y8"
        },
        {
         "hoverinfo": "skip",
         "line": {
          "color": "blue",
          "width": 1
         },
         "mode": "lines",
         "showlegend": false,
         "type": "scatter",
         "x": [
          14,
          14
         ],
         "xaxis": "x8",
         "y": [
          0,
          -0.0028704420976960014
         ],
         "yaxis": "y8"
        },
        {
         "hoverinfo": "skip",
         "line": {
          "color": "blue",
          "width": 1
         },
         "mode": "lines",
         "showlegend": false,
         "type": "scatter",
         "x": [
          15,
          15
         ],
         "xaxis": "x8",
         "y": [
          0,
          0.047717863964640506
         ],
         "yaxis": "y8"
        },
        {
         "hoverinfo": "skip",
         "line": {
          "color": "blue",
          "width": 1
         },
         "mode": "lines",
         "showlegend": false,
         "type": "scatter",
         "x": [
          16,
          16
         ],
         "xaxis": "x8",
         "y": [
          0,
          -0.03590437754564343
         ],
         "yaxis": "y8"
        },
        {
         "hoverinfo": "skip",
         "line": {
          "color": "blue",
          "width": 1
         },
         "mode": "lines",
         "showlegend": false,
         "type": "scatter",
         "x": [
          17,
          17
         ],
         "xaxis": "x8",
         "y": [
          0,
          -0.10422027346182068
         ],
         "yaxis": "y8"
        },
        {
         "hoverinfo": "skip",
         "line": {
          "color": "blue",
          "width": 1
         },
         "mode": "lines",
         "showlegend": false,
         "type": "scatter",
         "x": [
          18,
          18
         ],
         "xaxis": "x8",
         "y": [
          0,
          -0.06788385316105842
         ],
         "yaxis": "y8"
        },
        {
         "hoverinfo": "skip",
         "line": {
          "color": "blue",
          "width": 1
         },
         "mode": "lines",
         "showlegend": false,
         "type": "scatter",
         "x": [
          19,
          19
         ],
         "xaxis": "x8",
         "y": [
          0,
          -0.06971616898199301
         ],
         "yaxis": "y8"
        },
        {
         "hoverinfo": "skip",
         "line": {
          "color": "blue",
          "width": 1
         },
         "mode": "lines",
         "showlegend": false,
         "type": "scatter",
         "x": [
          20,
          20
         ],
         "xaxis": "x8",
         "y": [
          0,
          -0.09342514392736372
         ],
         "yaxis": "y8"
        },
        {
         "hoverinfo": "skip",
         "line": {
          "color": "blue",
          "width": 1
         },
         "mode": "lines",
         "showlegend": false,
         "type": "scatter",
         "x": [
          21,
          21
         ],
         "xaxis": "x8",
         "y": [
          0,
          -0.10592727848852596
         ],
         "yaxis": "y8"
        },
        {
         "hovertemplate": "Lag %{x}<br>PACF: %{y:.2f}<extra></extra>",
         "line": {
          "color": "blue",
          "width": 1
         },
         "marker": {
          "color": "blue",
          "size": 5
         },
         "mode": "lines+markers",
         "name": "RohCOPPER1000_org",
         "type": "scatter",
         "x": [
          0,
          1,
          2,
          3,
          4,
          5,
          6,
          7,
          8,
          9,
          10,
          11,
          12,
          13,
          14,
          15,
          16,
          17,
          18,
          19,
          20,
          21
         ],
         "xaxis": "x9",
         "y": [
          1,
          0.9704656723734483,
          -0.2989845542875453,
          -0.010203103363296153,
          -0.05745631593038684,
          0.15724058733592766,
          -0.505485088047394,
          0.0468652808236536,
          0.008547360565861717,
          -0.3577587863047268,
          -0.3719118721054292,
          -0.5763503311222195,
          -0.7316346785938461,
          0.03479758394703697,
          -0.5509195249167897,
          -0.15515902699855633,
          -1.1589390995952247,
          0.6615541462129375,
          9.616473632722869,
          -0.5356220451683271,
          0.9394810788526338,
          0.49143006336894074
         ],
         "yaxis": "y9"
        },
        {
         "hoverinfo": "skip",
         "line": {
          "color": "blue",
          "width": 1
         },
         "mode": "lines",
         "showlegend": false,
         "type": "scatter",
         "x": [
          0,
          0
         ],
         "xaxis": "x9",
         "y": [
          0,
          1
         ],
         "yaxis": "y9"
        },
        {
         "hoverinfo": "skip",
         "line": {
          "color": "blue",
          "width": 1
         },
         "mode": "lines",
         "showlegend": false,
         "type": "scatter",
         "x": [
          1,
          1
         ],
         "xaxis": "x9",
         "y": [
          0,
          0.9704656723734483
         ],
         "yaxis": "y9"
        },
        {
         "hoverinfo": "skip",
         "line": {
          "color": "blue",
          "width": 1
         },
         "mode": "lines",
         "showlegend": false,
         "type": "scatter",
         "x": [
          2,
          2
         ],
         "xaxis": "x9",
         "y": [
          0,
          -0.2989845542875453
         ],
         "yaxis": "y9"
        },
        {
         "hoverinfo": "skip",
         "line": {
          "color": "blue",
          "width": 1
         },
         "mode": "lines",
         "showlegend": false,
         "type": "scatter",
         "x": [
          3,
          3
         ],
         "xaxis": "x9",
         "y": [
          0,
          -0.010203103363296153
         ],
         "yaxis": "y9"
        },
        {
         "hoverinfo": "skip",
         "line": {
          "color": "blue",
          "width": 1
         },
         "mode": "lines",
         "showlegend": false,
         "type": "scatter",
         "x": [
          4,
          4
         ],
         "xaxis": "x9",
         "y": [
          0,
          -0.05745631593038684
         ],
         "yaxis": "y9"
        },
        {
         "hoverinfo": "skip",
         "line": {
          "color": "blue",
          "width": 1
         },
         "mode": "lines",
         "showlegend": false,
         "type": "scatter",
         "x": [
          5,
          5
         ],
         "xaxis": "x9",
         "y": [
          0,
          0.15724058733592766
         ],
         "yaxis": "y9"
        },
        {
         "hoverinfo": "skip",
         "line": {
          "color": "blue",
          "width": 1
         },
         "mode": "lines",
         "showlegend": false,
         "type": "scatter",
         "x": [
          6,
          6
         ],
         "xaxis": "x9",
         "y": [
          0,
          -0.505485088047394
         ],
         "yaxis": "y9"
        },
        {
         "hoverinfo": "skip",
         "line": {
          "color": "blue",
          "width": 1
         },
         "mode": "lines",
         "showlegend": false,
         "type": "scatter",
         "x": [
          7,
          7
         ],
         "xaxis": "x9",
         "y": [
          0,
          0.0468652808236536
         ],
         "yaxis": "y9"
        },
        {
         "hoverinfo": "skip",
         "line": {
          "color": "blue",
          "width": 1
         },
         "mode": "lines",
         "showlegend": false,
         "type": "scatter",
         "x": [
          8,
          8
         ],
         "xaxis": "x9",
         "y": [
          0,
          0.008547360565861717
         ],
         "yaxis": "y9"
        },
        {
         "hoverinfo": "skip",
         "line": {
          "color": "blue",
          "width": 1
         },
         "mode": "lines",
         "showlegend": false,
         "type": "scatter",
         "x": [
          9,
          9
         ],
         "xaxis": "x9",
         "y": [
          0,
          -0.3577587863047268
         ],
         "yaxis": "y9"
        },
        {
         "hoverinfo": "skip",
         "line": {
          "color": "blue",
          "width": 1
         },
         "mode": "lines",
         "showlegend": false,
         "type": "scatter",
         "x": [
          10,
          10
         ],
         "xaxis": "x9",
         "y": [
          0,
          -0.3719118721054292
         ],
         "yaxis": "y9"
        },
        {
         "hoverinfo": "skip",
         "line": {
          "color": "blue",
          "width": 1
         },
         "mode": "lines",
         "showlegend": false,
         "type": "scatter",
         "x": [
          11,
          11
         ],
         "xaxis": "x9",
         "y": [
          0,
          -0.5763503311222195
         ],
         "yaxis": "y9"
        },
        {
         "hoverinfo": "skip",
         "line": {
          "color": "blue",
          "width": 1
         },
         "mode": "lines",
         "showlegend": false,
         "type": "scatter",
         "x": [
          12,
          12
         ],
         "xaxis": "x9",
         "y": [
          0,
          -0.7316346785938461
         ],
         "yaxis": "y9"
        },
        {
         "hoverinfo": "skip",
         "line": {
          "color": "blue",
          "width": 1
         },
         "mode": "lines",
         "showlegend": false,
         "type": "scatter",
         "x": [
          13,
          13
         ],
         "xaxis": "x9",
         "y": [
          0,
          0.03479758394703697
         ],
         "yaxis": "y9"
        },
        {
         "hoverinfo": "skip",
         "line": {
          "color": "blue",
          "width": 1
         },
         "mode": "lines",
         "showlegend": false,
         "type": "scatter",
         "x": [
          14,
          14
         ],
         "xaxis": "x9",
         "y": [
          0,
          -0.5509195249167897
         ],
         "yaxis": "y9"
        },
        {
         "hoverinfo": "skip",
         "line": {
          "color": "blue",
          "width": 1
         },
         "mode": "lines",
         "showlegend": false,
         "type": "scatter",
         "x": [
          15,
          15
         ],
         "xaxis": "x9",
         "y": [
          0,
          -0.15515902699855633
         ],
         "yaxis": "y9"
        },
        {
         "hoverinfo": "skip",
         "line": {
          "color": "blue",
          "width": 1
         },
         "mode": "lines",
         "showlegend": false,
         "type": "scatter",
         "x": [
          16,
          16
         ],
         "xaxis": "x9",
         "y": [
          0,
          -1.1589390995952247
         ],
         "yaxis": "y9"
        },
        {
         "hoverinfo": "skip",
         "line": {
          "color": "blue",
          "width": 1
         },
         "mode": "lines",
         "showlegend": false,
         "type": "scatter",
         "x": [
          17,
          17
         ],
         "xaxis": "x9",
         "y": [
          0,
          0.6615541462129375
         ],
         "yaxis": "y9"
        },
        {
         "hoverinfo": "skip",
         "line": {
          "color": "blue",
          "width": 1
         },
         "mode": "lines",
         "showlegend": false,
         "type": "scatter",
         "x": [
          18,
          18
         ],
         "xaxis": "x9",
         "y": [
          0,
          9.616473632722869
         ],
         "yaxis": "y9"
        },
        {
         "hoverinfo": "skip",
         "line": {
          "color": "blue",
          "width": 1
         },
         "mode": "lines",
         "showlegend": false,
         "type": "scatter",
         "x": [
          19,
          19
         ],
         "xaxis": "x9",
         "y": [
          0,
          -0.5356220451683271
         ],
         "yaxis": "y9"
        },
        {
         "hoverinfo": "skip",
         "line": {
          "color": "blue",
          "width": 1
         },
         "mode": "lines",
         "showlegend": false,
         "type": "scatter",
         "x": [
          20,
          20
         ],
         "xaxis": "x9",
         "y": [
          0,
          0.9394810788526338
         ],
         "yaxis": "y9"
        },
        {
         "hoverinfo": "skip",
         "line": {
          "color": "blue",
          "width": 1
         },
         "mode": "lines",
         "showlegend": false,
         "type": "scatter",
         "x": [
          21,
          21
         ],
         "xaxis": "x9",
         "y": [
          0,
          0.49143006336894074
         ],
         "yaxis": "y9"
        },
        {
         "hovertemplate": "Lag %{x}<br>PACF: %{y:.2f}<extra></extra>",
         "line": {
          "color": "blue",
          "width": 1
         },
         "marker": {
          "color": "blue",
          "size": 5
         },
         "mode": "lines+markers",
         "name": "MAB_ELE_PRO156",
         "type": "scatter",
         "x": [
          0,
          1,
          2,
          3,
          4,
          5,
          6,
          7,
          8,
          9,
          10,
          11,
          12,
          13,
          14,
          15,
          16,
          17,
          18,
          19,
          20,
          21
         ],
         "xaxis": "x10",
         "y": [
          1,
          0.3986923041908071,
          -0.1350582836683954,
          0.4096106735225356,
          -0.21027114907016206,
          0.4965067665225593,
          0.06434582304574524,
          0.07208413890319898,
          -0.05667982283004245,
          0.05133840360654349,
          -0.49741475233203053,
          0.940232632927831,
          -3.57757029270965,
          -0.9939276054330684,
          -11.487600567603204,
          0.9771111284548677,
          -4.644084515742381,
          -1.0183374252253448,
          -1.670715325205442,
          1.0201045610620212,
          -19.433045885443207,
          -0.9420206328886628
         ],
         "yaxis": "y10"
        },
        {
         "hoverinfo": "skip",
         "line": {
          "color": "blue",
          "width": 1
         },
         "mode": "lines",
         "showlegend": false,
         "type": "scatter",
         "x": [
          0,
          0
         ],
         "xaxis": "x10",
         "y": [
          0,
          1
         ],
         "yaxis": "y10"
        },
        {
         "hoverinfo": "skip",
         "line": {
          "color": "blue",
          "width": 1
         },
         "mode": "lines",
         "showlegend": false,
         "type": "scatter",
         "x": [
          1,
          1
         ],
         "xaxis": "x10",
         "y": [
          0,
          0.3986923041908071
         ],
         "yaxis": "y10"
        },
        {
         "hoverinfo": "skip",
         "line": {
          "color": "blue",
          "width": 1
         },
         "mode": "lines",
         "showlegend": false,
         "type": "scatter",
         "x": [
          2,
          2
         ],
         "xaxis": "x10",
         "y": [
          0,
          -0.1350582836683954
         ],
         "yaxis": "y10"
        },
        {
         "hoverinfo": "skip",
         "line": {
          "color": "blue",
          "width": 1
         },
         "mode": "lines",
         "showlegend": false,
         "type": "scatter",
         "x": [
          3,
          3
         ],
         "xaxis": "x10",
         "y": [
          0,
          0.4096106735225356
         ],
         "yaxis": "y10"
        },
        {
         "hoverinfo": "skip",
         "line": {
          "color": "blue",
          "width": 1
         },
         "mode": "lines",
         "showlegend": false,
         "type": "scatter",
         "x": [
          4,
          4
         ],
         "xaxis": "x10",
         "y": [
          0,
          -0.21027114907016206
         ],
         "yaxis": "y10"
        },
        {
         "hoverinfo": "skip",
         "line": {
          "color": "blue",
          "width": 1
         },
         "mode": "lines",
         "showlegend": false,
         "type": "scatter",
         "x": [
          5,
          5
         ],
         "xaxis": "x10",
         "y": [
          0,
          0.4965067665225593
         ],
         "yaxis": "y10"
        },
        {
         "hoverinfo": "skip",
         "line": {
          "color": "blue",
          "width": 1
         },
         "mode": "lines",
         "showlegend": false,
         "type": "scatter",
         "x": [
          6,
          6
         ],
         "xaxis": "x10",
         "y": [
          0,
          0.06434582304574524
         ],
         "yaxis": "y10"
        },
        {
         "hoverinfo": "skip",
         "line": {
          "color": "blue",
          "width": 1
         },
         "mode": "lines",
         "showlegend": false,
         "type": "scatter",
         "x": [
          7,
          7
         ],
         "xaxis": "x10",
         "y": [
          0,
          0.07208413890319898
         ],
         "yaxis": "y10"
        },
        {
         "hoverinfo": "skip",
         "line": {
          "color": "blue",
          "width": 1
         },
         "mode": "lines",
         "showlegend": false,
         "type": "scatter",
         "x": [
          8,
          8
         ],
         "xaxis": "x10",
         "y": [
          0,
          -0.05667982283004245
         ],
         "yaxis": "y10"
        },
        {
         "hoverinfo": "skip",
         "line": {
          "color": "blue",
          "width": 1
         },
         "mode": "lines",
         "showlegend": false,
         "type": "scatter",
         "x": [
          9,
          9
         ],
         "xaxis": "x10",
         "y": [
          0,
          0.05133840360654349
         ],
         "yaxis": "y10"
        },
        {
         "hoverinfo": "skip",
         "line": {
          "color": "blue",
          "width": 1
         },
         "mode": "lines",
         "showlegend": false,
         "type": "scatter",
         "x": [
          10,
          10
         ],
         "xaxis": "x10",
         "y": [
          0,
          -0.49741475233203053
         ],
         "yaxis": "y10"
        },
        {
         "hoverinfo": "skip",
         "line": {
          "color": "blue",
          "width": 1
         },
         "mode": "lines",
         "showlegend": false,
         "type": "scatter",
         "x": [
          11,
          11
         ],
         "xaxis": "x10",
         "y": [
          0,
          0.940232632927831
         ],
         "yaxis": "y10"
        },
        {
         "hoverinfo": "skip",
         "line": {
          "color": "blue",
          "width": 1
         },
         "mode": "lines",
         "showlegend": false,
         "type": "scatter",
         "x": [
          12,
          12
         ],
         "xaxis": "x10",
         "y": [
          0,
          -3.57757029270965
         ],
         "yaxis": "y10"
        },
        {
         "hoverinfo": "skip",
         "line": {
          "color": "blue",
          "width": 1
         },
         "mode": "lines",
         "showlegend": false,
         "type": "scatter",
         "x": [
          13,
          13
         ],
         "xaxis": "x10",
         "y": [
          0,
          -0.9939276054330684
         ],
         "yaxis": "y10"
        },
        {
         "hoverinfo": "skip",
         "line": {
          "color": "blue",
          "width": 1
         },
         "mode": "lines",
         "showlegend": false,
         "type": "scatter",
         "x": [
          14,
          14
         ],
         "xaxis": "x10",
         "y": [
          0,
          -11.487600567603204
         ],
         "yaxis": "y10"
        },
        {
         "hoverinfo": "skip",
         "line": {
          "color": "blue",
          "width": 1
         },
         "mode": "lines",
         "showlegend": false,
         "type": "scatter",
         "x": [
          15,
          15
         ],
         "xaxis": "x10",
         "y": [
          0,
          0.9771111284548677
         ],
         "yaxis": "y10"
        },
        {
         "hoverinfo": "skip",
         "line": {
          "color": "blue",
          "width": 1
         },
         "mode": "lines",
         "showlegend": false,
         "type": "scatter",
         "x": [
          16,
          16
         ],
         "xaxis": "x10",
         "y": [
          0,
          -4.644084515742381
         ],
         "yaxis": "y10"
        },
        {
         "hoverinfo": "skip",
         "line": {
          "color": "blue",
          "width": 1
         },
         "mode": "lines",
         "showlegend": false,
         "type": "scatter",
         "x": [
          17,
          17
         ],
         "xaxis": "x10",
         "y": [
          0,
          -1.0183374252253448
         ],
         "yaxis": "y10"
        },
        {
         "hoverinfo": "skip",
         "line": {
          "color": "blue",
          "width": 1
         },
         "mode": "lines",
         "showlegend": false,
         "type": "scatter",
         "x": [
          18,
          18
         ],
         "xaxis": "x10",
         "y": [
          0,
          -1.670715325205442
         ],
         "yaxis": "y10"
        },
        {
         "hoverinfo": "skip",
         "line": {
          "color": "blue",
          "width": 1
         },
         "mode": "lines",
         "showlegend": false,
         "type": "scatter",
         "x": [
          19,
          19
         ],
         "xaxis": "x10",
         "y": [
          0,
          1.0201045610620212
         ],
         "yaxis": "y10"
        },
        {
         "hoverinfo": "skip",
         "line": {
          "color": "blue",
          "width": 1
         },
         "mode": "lines",
         "showlegend": false,
         "type": "scatter",
         "x": [
          20,
          20
         ],
         "xaxis": "x10",
         "y": [
          0,
          -19.433045885443207
         ],
         "yaxis": "y10"
        },
        {
         "hoverinfo": "skip",
         "line": {
          "color": "blue",
          "width": 1
         },
         "mode": "lines",
         "showlegend": false,
         "type": "scatter",
         "x": [
          21,
          21
         ],
         "xaxis": "x10",
         "y": [
          0,
          -0.9420206328886628
         ],
         "yaxis": "y10"
        },
        {
         "hovertemplate": "Lag %{x}<br>PACF: %{y:.2f}<extra></extra>",
         "line": {
          "color": "blue",
          "width": 1
         },
         "marker": {
          "color": "blue",
          "size": 5
         },
         "mode": "lines+markers",
         "name": "MAB_ELE_PRO756",
         "type": "scatter",
         "x": [
          0,
          1,
          2,
          3,
          4,
          5,
          6,
          7,
          8,
          9,
          10,
          11,
          12,
          13,
          14,
          15,
          16,
          17,
          18,
          19,
          20,
          21
         ],
         "xaxis": "x11",
         "y": [
          1,
          0.9202749085221964,
          -0.827684337921347,
          -0.0018423509349865302,
          0.6891919073263766,
          -0.8267824049016631,
          1.907448641572259,
          -0.6650825423237329,
          16.680753160897115,
          0.957174732221318,
          -0.8542064418447188,
          0.5163029164995057,
          -0.4145413351168845,
          -1.4706300296241694,
          -0.44111316375608983,
          -1.1143975736269605,
          -0.9384709492985546,
          -54.19825768261972,
          1.0023694871003441,
          3.532838899847311,
          -0.4232072826688985,
          0.6043154223726019
         ],
         "yaxis": "y11"
        },
        {
         "hoverinfo": "skip",
         "line": {
          "color": "blue",
          "width": 1
         },
         "mode": "lines",
         "showlegend": false,
         "type": "scatter",
         "x": [
          0,
          0
         ],
         "xaxis": "x11",
         "y": [
          0,
          1
         ],
         "yaxis": "y11"
        },
        {
         "hoverinfo": "skip",
         "line": {
          "color": "blue",
          "width": 1
         },
         "mode": "lines",
         "showlegend": false,
         "type": "scatter",
         "x": [
          1,
          1
         ],
         "xaxis": "x11",
         "y": [
          0,
          0.9202749085221964
         ],
         "yaxis": "y11"
        },
        {
         "hoverinfo": "skip",
         "line": {
          "color": "blue",
          "width": 1
         },
         "mode": "lines",
         "showlegend": false,
         "type": "scatter",
         "x": [
          2,
          2
         ],
         "xaxis": "x11",
         "y": [
          0,
          -0.827684337921347
         ],
         "yaxis": "y11"
        },
        {
         "hoverinfo": "skip",
         "line": {
          "color": "blue",
          "width": 1
         },
         "mode": "lines",
         "showlegend": false,
         "type": "scatter",
         "x": [
          3,
          3
         ],
         "xaxis": "x11",
         "y": [
          0,
          -0.0018423509349865302
         ],
         "yaxis": "y11"
        },
        {
         "hoverinfo": "skip",
         "line": {
          "color": "blue",
          "width": 1
         },
         "mode": "lines",
         "showlegend": false,
         "type": "scatter",
         "x": [
          4,
          4
         ],
         "xaxis": "x11",
         "y": [
          0,
          0.6891919073263766
         ],
         "yaxis": "y11"
        },
        {
         "hoverinfo": "skip",
         "line": {
          "color": "blue",
          "width": 1
         },
         "mode": "lines",
         "showlegend": false,
         "type": "scatter",
         "x": [
          5,
          5
         ],
         "xaxis": "x11",
         "y": [
          0,
          -0.8267824049016631
         ],
         "yaxis": "y11"
        },
        {
         "hoverinfo": "skip",
         "line": {
          "color": "blue",
          "width": 1
         },
         "mode": "lines",
         "showlegend": false,
         "type": "scatter",
         "x": [
          6,
          6
         ],
         "xaxis": "x11",
         "y": [
          0,
          1.907448641572259
         ],
         "yaxis": "y11"
        },
        {
         "hoverinfo": "skip",
         "line": {
          "color": "blue",
          "width": 1
         },
         "mode": "lines",
         "showlegend": false,
         "type": "scatter",
         "x": [
          7,
          7
         ],
         "xaxis": "x11",
         "y": [
          0,
          -0.6650825423237329
         ],
         "yaxis": "y11"
        },
        {
         "hoverinfo": "skip",
         "line": {
          "color": "blue",
          "width": 1
         },
         "mode": "lines",
         "showlegend": false,
         "type": "scatter",
         "x": [
          8,
          8
         ],
         "xaxis": "x11",
         "y": [
          0,
          16.680753160897115
         ],
         "yaxis": "y11"
        },
        {
         "hoverinfo": "skip",
         "line": {
          "color": "blue",
          "width": 1
         },
         "mode": "lines",
         "showlegend": false,
         "type": "scatter",
         "x": [
          9,
          9
         ],
         "xaxis": "x11",
         "y": [
          0,
          0.957174732221318
         ],
         "yaxis": "y11"
        },
        {
         "hoverinfo": "skip",
         "line": {
          "color": "blue",
          "width": 1
         },
         "mode": "lines",
         "showlegend": false,
         "type": "scatter",
         "x": [
          10,
          10
         ],
         "xaxis": "x11",
         "y": [
          0,
          -0.8542064418447188
         ],
         "yaxis": "y11"
        },
        {
         "hoverinfo": "skip",
         "line": {
          "color": "blue",
          "width": 1
         },
         "mode": "lines",
         "showlegend": false,
         "type": "scatter",
         "x": [
          11,
          11
         ],
         "xaxis": "x11",
         "y": [
          0,
          0.5163029164995057
         ],
         "yaxis": "y11"
        },
        {
         "hoverinfo": "skip",
         "line": {
          "color": "blue",
          "width": 1
         },
         "mode": "lines",
         "showlegend": false,
         "type": "scatter",
         "x": [
          12,
          12
         ],
         "xaxis": "x11",
         "y": [
          0,
          -0.4145413351168845
         ],
         "yaxis": "y11"
        },
        {
         "hoverinfo": "skip",
         "line": {
          "color": "blue",
          "width": 1
         },
         "mode": "lines",
         "showlegend": false,
         "type": "scatter",
         "x": [
          13,
          13
         ],
         "xaxis": "x11",
         "y": [
          0,
          -1.4706300296241694
         ],
         "yaxis": "y11"
        },
        {
         "hoverinfo": "skip",
         "line": {
          "color": "blue",
          "width": 1
         },
         "mode": "lines",
         "showlegend": false,
         "type": "scatter",
         "x": [
          14,
          14
         ],
         "xaxis": "x11",
         "y": [
          0,
          -0.44111316375608983
         ],
         "yaxis": "y11"
        },
        {
         "hoverinfo": "skip",
         "line": {
          "color": "blue",
          "width": 1
         },
         "mode": "lines",
         "showlegend": false,
         "type": "scatter",
         "x": [
          15,
          15
         ],
         "xaxis": "x11",
         "y": [
          0,
          -1.1143975736269605
         ],
         "yaxis": "y11"
        },
        {
         "hoverinfo": "skip",
         "line": {
          "color": "blue",
          "width": 1
         },
         "mode": "lines",
         "showlegend": false,
         "type": "scatter",
         "x": [
          16,
          16
         ],
         "xaxis": "x11",
         "y": [
          0,
          -0.9384709492985546
         ],
         "yaxis": "y11"
        },
        {
         "hoverinfo": "skip",
         "line": {
          "color": "blue",
          "width": 1
         },
         "mode": "lines",
         "showlegend": false,
         "type": "scatter",
         "x": [
          17,
          17
         ],
         "xaxis": "x11",
         "y": [
          0,
          -54.19825768261972
         ],
         "yaxis": "y11"
        },
        {
         "hoverinfo": "skip",
         "line": {
          "color": "blue",
          "width": 1
         },
         "mode": "lines",
         "showlegend": false,
         "type": "scatter",
         "x": [
          18,
          18
         ],
         "xaxis": "x11",
         "y": [
          0,
          1.0023694871003441
         ],
         "yaxis": "y11"
        },
        {
         "hoverinfo": "skip",
         "line": {
          "color": "blue",
          "width": 1
         },
         "mode": "lines",
         "showlegend": false,
         "type": "scatter",
         "x": [
          19,
          19
         ],
         "xaxis": "x11",
         "y": [
          0,
          3.532838899847311
         ],
         "yaxis": "y11"
        },
        {
         "hoverinfo": "skip",
         "line": {
          "color": "blue",
          "width": 1
         },
         "mode": "lines",
         "showlegend": false,
         "type": "scatter",
         "x": [
          20,
          20
         ],
         "xaxis": "x11",
         "y": [
          0,
          -0.4232072826688985
         ],
         "yaxis": "y11"
        },
        {
         "hoverinfo": "skip",
         "line": {
          "color": "blue",
          "width": 1
         },
         "mode": "lines",
         "showlegend": false,
         "type": "scatter",
         "x": [
          21,
          21
         ],
         "xaxis": "x11",
         "y": [
          0,
          0.6043154223726019
         ],
         "yaxis": "y11"
        },
        {
         "hovertemplate": "Lag %{x}<br>PACF: %{y:.2f}<extra></extra>",
         "line": {
          "color": "blue",
          "width": 1
         },
         "marker": {
          "color": "blue",
          "size": 5
         },
         "mode": "lines+markers",
         "name": "PRO27756_org",
         "type": "scatter",
         "x": [
          0,
          1,
          2,
          3,
          4,
          5,
          6,
          7,
          8,
          9,
          10,
          11,
          12,
          13,
          14,
          15,
          16,
          17,
          18,
          19,
          20,
          21
         ],
         "xaxis": "x12",
         "y": [
          1,
          0.8687731026919717,
          -0.8647662286863921,
          -0.26545129999334877,
          0.03456145034185257,
          -0.3640396540739154,
          0.17888041552473838,
          1.244583003088598,
          1.3871915960970151,
          -3.388079155351614,
          -1.1274440009720954,
          0.8522716211887297,
          -1.4116222257181559,
          -0.6812825370447547,
          -2.9206819032861935,
          0.4736042421134487,
          0.1668539591841729,
          -1.0262394881808943,
          7.1901525338447705,
          1.2001227663550011,
          -0.22448539483677984,
          0.49570404599574835
         ],
         "yaxis": "y12"
        },
        {
         "hoverinfo": "skip",
         "line": {
          "color": "blue",
          "width": 1
         },
         "mode": "lines",
         "showlegend": false,
         "type": "scatter",
         "x": [
          0,
          0
         ],
         "xaxis": "x12",
         "y": [
          0,
          1
         ],
         "yaxis": "y12"
        },
        {
         "hoverinfo": "skip",
         "line": {
          "color": "blue",
          "width": 1
         },
         "mode": "lines",
         "showlegend": false,
         "type": "scatter",
         "x": [
          1,
          1
         ],
         "xaxis": "x12",
         "y": [
          0,
          0.8687731026919717
         ],
         "yaxis": "y12"
        },
        {
         "hoverinfo": "skip",
         "line": {
          "color": "blue",
          "width": 1
         },
         "mode": "lines",
         "showlegend": false,
         "type": "scatter",
         "x": [
          2,
          2
         ],
         "xaxis": "x12",
         "y": [
          0,
          -0.8647662286863921
         ],
         "yaxis": "y12"
        },
        {
         "hoverinfo": "skip",
         "line": {
          "color": "blue",
          "width": 1
         },
         "mode": "lines",
         "showlegend": false,
         "type": "scatter",
         "x": [
          3,
          3
         ],
         "xaxis": "x12",
         "y": [
          0,
          -0.26545129999334877
         ],
         "yaxis": "y12"
        },
        {
         "hoverinfo": "skip",
         "line": {
          "color": "blue",
          "width": 1
         },
         "mode": "lines",
         "showlegend": false,
         "type": "scatter",
         "x": [
          4,
          4
         ],
         "xaxis": "x12",
         "y": [
          0,
          0.03456145034185257
         ],
         "yaxis": "y12"
        },
        {
         "hoverinfo": "skip",
         "line": {
          "color": "blue",
          "width": 1
         },
         "mode": "lines",
         "showlegend": false,
         "type": "scatter",
         "x": [
          5,
          5
         ],
         "xaxis": "x12",
         "y": [
          0,
          -0.3640396540739154
         ],
         "yaxis": "y12"
        },
        {
         "hoverinfo": "skip",
         "line": {
          "color": "blue",
          "width": 1
         },
         "mode": "lines",
         "showlegend": false,
         "type": "scatter",
         "x": [
          6,
          6
         ],
         "xaxis": "x12",
         "y": [
          0,
          0.17888041552473838
         ],
         "yaxis": "y12"
        },
        {
         "hoverinfo": "skip",
         "line": {
          "color": "blue",
          "width": 1
         },
         "mode": "lines",
         "showlegend": false,
         "type": "scatter",
         "x": [
          7,
          7
         ],
         "xaxis": "x12",
         "y": [
          0,
          1.244583003088598
         ],
         "yaxis": "y12"
        },
        {
         "hoverinfo": "skip",
         "line": {
          "color": "blue",
          "width": 1
         },
         "mode": "lines",
         "showlegend": false,
         "type": "scatter",
         "x": [
          8,
          8
         ],
         "xaxis": "x12",
         "y": [
          0,
          1.3871915960970151
         ],
         "yaxis": "y12"
        },
        {
         "hoverinfo": "skip",
         "line": {
          "color": "blue",
          "width": 1
         },
         "mode": "lines",
         "showlegend": false,
         "type": "scatter",
         "x": [
          9,
          9
         ],
         "xaxis": "x12",
         "y": [
          0,
          -3.388079155351614
         ],
         "yaxis": "y12"
        },
        {
         "hoverinfo": "skip",
         "line": {
          "color": "blue",
          "width": 1
         },
         "mode": "lines",
         "showlegend": false,
         "type": "scatter",
         "x": [
          10,
          10
         ],
         "xaxis": "x12",
         "y": [
          0,
          -1.1274440009720954
         ],
         "yaxis": "y12"
        },
        {
         "hoverinfo": "skip",
         "line": {
          "color": "blue",
          "width": 1
         },
         "mode": "lines",
         "showlegend": false,
         "type": "scatter",
         "x": [
          11,
          11
         ],
         "xaxis": "x12",
         "y": [
          0,
          0.8522716211887297
         ],
         "yaxis": "y12"
        },
        {
         "hoverinfo": "skip",
         "line": {
          "color": "blue",
          "width": 1
         },
         "mode": "lines",
         "showlegend": false,
         "type": "scatter",
         "x": [
          12,
          12
         ],
         "xaxis": "x12",
         "y": [
          0,
          -1.4116222257181559
         ],
         "yaxis": "y12"
        },
        {
         "hoverinfo": "skip",
         "line": {
          "color": "blue",
          "width": 1
         },
         "mode": "lines",
         "showlegend": false,
         "type": "scatter",
         "x": [
          13,
          13
         ],
         "xaxis": "x12",
         "y": [
          0,
          -0.6812825370447547
         ],
         "yaxis": "y12"
        },
        {
         "hoverinfo": "skip",
         "line": {
          "color": "blue",
          "width": 1
         },
         "mode": "lines",
         "showlegend": false,
         "type": "scatter",
         "x": [
          14,
          14
         ],
         "xaxis": "x12",
         "y": [
          0,
          -2.9206819032861935
         ],
         "yaxis": "y12"
        },
        {
         "hoverinfo": "skip",
         "line": {
          "color": "blue",
          "width": 1
         },
         "mode": "lines",
         "showlegend": false,
         "type": "scatter",
         "x": [
          15,
          15
         ],
         "xaxis": "x12",
         "y": [
          0,
          0.4736042421134487
         ],
         "yaxis": "y12"
        },
        {
         "hoverinfo": "skip",
         "line": {
          "color": "blue",
          "width": 1
         },
         "mode": "lines",
         "showlegend": false,
         "type": "scatter",
         "x": [
          16,
          16
         ],
         "xaxis": "x12",
         "y": [
          0,
          0.1668539591841729
         ],
         "yaxis": "y12"
        },
        {
         "hoverinfo": "skip",
         "line": {
          "color": "blue",
          "width": 1
         },
         "mode": "lines",
         "showlegend": false,
         "type": "scatter",
         "x": [
          17,
          17
         ],
         "xaxis": "x12",
         "y": [
          0,
          -1.0262394881808943
         ],
         "yaxis": "y12"
        },
        {
         "hoverinfo": "skip",
         "line": {
          "color": "blue",
          "width": 1
         },
         "mode": "lines",
         "showlegend": false,
         "type": "scatter",
         "x": [
          18,
          18
         ],
         "xaxis": "x12",
         "y": [
          0,
          7.1901525338447705
         ],
         "yaxis": "y12"
        },
        {
         "hoverinfo": "skip",
         "line": {
          "color": "blue",
          "width": 1
         },
         "mode": "lines",
         "showlegend": false,
         "type": "scatter",
         "x": [
          19,
          19
         ],
         "xaxis": "x12",
         "y": [
          0,
          1.2001227663550011
         ],
         "yaxis": "y12"
        },
        {
         "hoverinfo": "skip",
         "line": {
          "color": "blue",
          "width": 1
         },
         "mode": "lines",
         "showlegend": false,
         "type": "scatter",
         "x": [
          20,
          20
         ],
         "xaxis": "x12",
         "y": [
          0,
          -0.22448539483677984
         ],
         "yaxis": "y12"
        },
        {
         "hoverinfo": "skip",
         "line": {
          "color": "blue",
          "width": 1
         },
         "mode": "lines",
         "showlegend": false,
         "type": "scatter",
         "x": [
          21,
          21
         ],
         "xaxis": "x12",
         "y": [
          0,
          0.49570404599574835
         ],
         "yaxis": "y12"
        },
        {
         "hovertemplate": "Lag %{x}<br>PACF: %{y:.2f}<extra></extra>",
         "line": {
          "color": "blue",
          "width": 1
         },
         "marker": {
          "color": "blue",
          "size": 5
         },
         "mode": "lines+markers",
         "name": "PRO27392_org",
         "type": "scatter",
         "x": [
          0,
          1,
          2,
          3,
          4,
          5,
          6,
          7,
          8,
          9,
          10,
          11,
          12,
          13,
          14,
          15,
          16,
          17,
          18,
          19,
          20,
          21
         ],
         "xaxis": "x13",
         "y": [
          1,
          -0.03842566672795759,
          -0.243730713475978,
          0.4477730721653005,
          0.028252985965094794,
          -0.019945445563588956,
          0.06956007299400761,
          -0.5620583316317771,
          0.3629293627562801,
          -0.035153888807806274,
          -0.44470418536552125,
          0.17650059344811184,
          0.5857131739145897,
          -0.5599412840696205,
          -0.5560478247208351,
          0.46882406805377097,
          0.694347633170689,
          -3.1666121932788918,
          -0.26832316935242134,
          -1.727809289842116,
          -0.7460593424684681,
          0.36559106661229773
         ],
         "yaxis": "y13"
        },
        {
         "hoverinfo": "skip",
         "line": {
          "color": "blue",
          "width": 1
         },
         "mode": "lines",
         "showlegend": false,
         "type": "scatter",
         "x": [
          0,
          0
         ],
         "xaxis": "x13",
         "y": [
          0,
          1
         ],
         "yaxis": "y13"
        },
        {
         "hoverinfo": "skip",
         "line": {
          "color": "blue",
          "width": 1
         },
         "mode": "lines",
         "showlegend": false,
         "type": "scatter",
         "x": [
          1,
          1
         ],
         "xaxis": "x13",
         "y": [
          0,
          -0.03842566672795759
         ],
         "yaxis": "y13"
        },
        {
         "hoverinfo": "skip",
         "line": {
          "color": "blue",
          "width": 1
         },
         "mode": "lines",
         "showlegend": false,
         "type": "scatter",
         "x": [
          2,
          2
         ],
         "xaxis": "x13",
         "y": [
          0,
          -0.243730713475978
         ],
         "yaxis": "y13"
        },
        {
         "hoverinfo": "skip",
         "line": {
          "color": "blue",
          "width": 1
         },
         "mode": "lines",
         "showlegend": false,
         "type": "scatter",
         "x": [
          3,
          3
         ],
         "xaxis": "x13",
         "y": [
          0,
          0.4477730721653005
         ],
         "yaxis": "y13"
        },
        {
         "hoverinfo": "skip",
         "line": {
          "color": "blue",
          "width": 1
         },
         "mode": "lines",
         "showlegend": false,
         "type": "scatter",
         "x": [
          4,
          4
         ],
         "xaxis": "x13",
         "y": [
          0,
          0.028252985965094794
         ],
         "yaxis": "y13"
        },
        {
         "hoverinfo": "skip",
         "line": {
          "color": "blue",
          "width": 1
         },
         "mode": "lines",
         "showlegend": false,
         "type": "scatter",
         "x": [
          5,
          5
         ],
         "xaxis": "x13",
         "y": [
          0,
          -0.019945445563588956
         ],
         "yaxis": "y13"
        },
        {
         "hoverinfo": "skip",
         "line": {
          "color": "blue",
          "width": 1
         },
         "mode": "lines",
         "showlegend": false,
         "type": "scatter",
         "x": [
          6,
          6
         ],
         "xaxis": "x13",
         "y": [
          0,
          0.06956007299400761
         ],
         "yaxis": "y13"
        },
        {
         "hoverinfo": "skip",
         "line": {
          "color": "blue",
          "width": 1
         },
         "mode": "lines",
         "showlegend": false,
         "type": "scatter",
         "x": [
          7,
          7
         ],
         "xaxis": "x13",
         "y": [
          0,
          -0.5620583316317771
         ],
         "yaxis": "y13"
        },
        {
         "hoverinfo": "skip",
         "line": {
          "color": "blue",
          "width": 1
         },
         "mode": "lines",
         "showlegend": false,
         "type": "scatter",
         "x": [
          8,
          8
         ],
         "xaxis": "x13",
         "y": [
          0,
          0.3629293627562801
         ],
         "yaxis": "y13"
        },
        {
         "hoverinfo": "skip",
         "line": {
          "color": "blue",
          "width": 1
         },
         "mode": "lines",
         "showlegend": false,
         "type": "scatter",
         "x": [
          9,
          9
         ],
         "xaxis": "x13",
         "y": [
          0,
          -0.035153888807806274
         ],
         "yaxis": "y13"
        },
        {
         "hoverinfo": "skip",
         "line": {
          "color": "blue",
          "width": 1
         },
         "mode": "lines",
         "showlegend": false,
         "type": "scatter",
         "x": [
          10,
          10
         ],
         "xaxis": "x13",
         "y": [
          0,
          -0.44470418536552125
         ],
         "yaxis": "y13"
        },
        {
         "hoverinfo": "skip",
         "line": {
          "color": "blue",
          "width": 1
         },
         "mode": "lines",
         "showlegend": false,
         "type": "scatter",
         "x": [
          11,
          11
         ],
         "xaxis": "x13",
         "y": [
          0,
          0.17650059344811184
         ],
         "yaxis": "y13"
        },
        {
         "hoverinfo": "skip",
         "line": {
          "color": "blue",
          "width": 1
         },
         "mode": "lines",
         "showlegend": false,
         "type": "scatter",
         "x": [
          12,
          12
         ],
         "xaxis": "x13",
         "y": [
          0,
          0.5857131739145897
         ],
         "yaxis": "y13"
        },
        {
         "hoverinfo": "skip",
         "line": {
          "color": "blue",
          "width": 1
         },
         "mode": "lines",
         "showlegend": false,
         "type": "scatter",
         "x": [
          13,
          13
         ],
         "xaxis": "x13",
         "y": [
          0,
          -0.5599412840696205
         ],
         "yaxis": "y13"
        },
        {
         "hoverinfo": "skip",
         "line": {
          "color": "blue",
          "width": 1
         },
         "mode": "lines",
         "showlegend": false,
         "type": "scatter",
         "x": [
          14,
          14
         ],
         "xaxis": "x13",
         "y": [
          0,
          -0.5560478247208351
         ],
         "yaxis": "y13"
        },
        {
         "hoverinfo": "skip",
         "line": {
          "color": "blue",
          "width": 1
         },
         "mode": "lines",
         "showlegend": false,
         "type": "scatter",
         "x": [
          15,
          15
         ],
         "xaxis": "x13",
         "y": [
          0,
          0.46882406805377097
         ],
         "yaxis": "y13"
        },
        {
         "hoverinfo": "skip",
         "line": {
          "color": "blue",
          "width": 1
         },
         "mode": "lines",
         "showlegend": false,
         "type": "scatter",
         "x": [
          16,
          16
         ],
         "xaxis": "x13",
         "y": [
          0,
          0.694347633170689
         ],
         "yaxis": "y13"
        },
        {
         "hoverinfo": "skip",
         "line": {
          "color": "blue",
          "width": 1
         },
         "mode": "lines",
         "showlegend": false,
         "type": "scatter",
         "x": [
          17,
          17
         ],
         "xaxis": "x13",
         "y": [
          0,
          -3.1666121932788918
         ],
         "yaxis": "y13"
        },
        {
         "hoverinfo": "skip",
         "line": {
          "color": "blue",
          "width": 1
         },
         "mode": "lines",
         "showlegend": false,
         "type": "scatter",
         "x": [
          18,
          18
         ],
         "xaxis": "x13",
         "y": [
          0,
          -0.26832316935242134
         ],
         "yaxis": "y13"
        },
        {
         "hoverinfo": "skip",
         "line": {
          "color": "blue",
          "width": 1
         },
         "mode": "lines",
         "showlegend": false,
         "type": "scatter",
         "x": [
          19,
          19
         ],
         "xaxis": "x13",
         "y": [
          0,
          -1.727809289842116
         ],
         "yaxis": "y13"
        },
        {
         "hoverinfo": "skip",
         "line": {
          "color": "blue",
          "width": 1
         },
         "mode": "lines",
         "showlegend": false,
         "type": "scatter",
         "x": [
          20,
          20
         ],
         "xaxis": "x13",
         "y": [
          0,
          -0.7460593424684681
         ],
         "yaxis": "y13"
        },
        {
         "hoverinfo": "skip",
         "line": {
          "color": "blue",
          "width": 1
         },
         "mode": "lines",
         "showlegend": false,
         "type": "scatter",
         "x": [
          21,
          21
         ],
         "xaxis": "x13",
         "y": [
          0,
          0.36559106661229773
         ],
         "yaxis": "y13"
        },
        {
         "hovertemplate": "Lag %{x}<br>PACF: %{y:.2f}<extra></extra>",
         "line": {
          "color": "blue",
          "width": 1
         },
         "marker": {
          "color": "blue",
          "size": 5
         },
         "mode": "lines+markers",
         "name": "PRO28380_org",
         "type": "scatter",
         "x": [
          0,
          1,
          2,
          3,
          4,
          5,
          6,
          7,
          8,
          9,
          10,
          11,
          12,
          13,
          14,
          15,
          16,
          17,
          18,
          19,
          20,
          21
         ],
         "xaxis": "x14",
         "y": [
          1,
          0.10244416329698479,
          -0.12813571348591926,
          -0.050262154019503576,
          0.41057201053690695,
          0.038879749758275274,
          -0.1492413316577973,
          0.15625497989280587,
          0.23134784675383974,
          -0.3127389684983872,
          -0.2788461828855208,
          -0.19689234112910875,
          0.2562788380397456,
          -0.7358299560390634,
          -0.043408086018692726,
          0.13915683582158594,
          -0.09546573318340065,
          0.054275538323734995,
          0.30133321739785995,
          -0.48251500020443844,
          -0.27117187823946826,
          0.8842293883589356
         ],
         "yaxis": "y14"
        },
        {
         "hoverinfo": "skip",
         "line": {
          "color": "blue",
          "width": 1
         },
         "mode": "lines",
         "showlegend": false,
         "type": "scatter",
         "x": [
          0,
          0
         ],
         "xaxis": "x14",
         "y": [
          0,
          1
         ],
         "yaxis": "y14"
        },
        {
         "hoverinfo": "skip",
         "line": {
          "color": "blue",
          "width": 1
         },
         "mode": "lines",
         "showlegend": false,
         "type": "scatter",
         "x": [
          1,
          1
         ],
         "xaxis": "x14",
         "y": [
          0,
          0.10244416329698479
         ],
         "yaxis": "y14"
        },
        {
         "hoverinfo": "skip",
         "line": {
          "color": "blue",
          "width": 1
         },
         "mode": "lines",
         "showlegend": false,
         "type": "scatter",
         "x": [
          2,
          2
         ],
         "xaxis": "x14",
         "y": [
          0,
          -0.12813571348591926
         ],
         "yaxis": "y14"
        },
        {
         "hoverinfo": "skip",
         "line": {
          "color": "blue",
          "width": 1
         },
         "mode": "lines",
         "showlegend": false,
         "type": "scatter",
         "x": [
          3,
          3
         ],
         "xaxis": "x14",
         "y": [
          0,
          -0.050262154019503576
         ],
         "yaxis": "y14"
        },
        {
         "hoverinfo": "skip",
         "line": {
          "color": "blue",
          "width": 1
         },
         "mode": "lines",
         "showlegend": false,
         "type": "scatter",
         "x": [
          4,
          4
         ],
         "xaxis": "x14",
         "y": [
          0,
          0.41057201053690695
         ],
         "yaxis": "y14"
        },
        {
         "hoverinfo": "skip",
         "line": {
          "color": "blue",
          "width": 1
         },
         "mode": "lines",
         "showlegend": false,
         "type": "scatter",
         "x": [
          5,
          5
         ],
         "xaxis": "x14",
         "y": [
          0,
          0.038879749758275274
         ],
         "yaxis": "y14"
        },
        {
         "hoverinfo": "skip",
         "line": {
          "color": "blue",
          "width": 1
         },
         "mode": "lines",
         "showlegend": false,
         "type": "scatter",
         "x": [
          6,
          6
         ],
         "xaxis": "x14",
         "y": [
          0,
          -0.1492413316577973
         ],
         "yaxis": "y14"
        },
        {
         "hoverinfo": "skip",
         "line": {
          "color": "blue",
          "width": 1
         },
         "mode": "lines",
         "showlegend": false,
         "type": "scatter",
         "x": [
          7,
          7
         ],
         "xaxis": "x14",
         "y": [
          0,
          0.15625497989280587
         ],
         "yaxis": "y14"
        },
        {
         "hoverinfo": "skip",
         "line": {
          "color": "blue",
          "width": 1
         },
         "mode": "lines",
         "showlegend": false,
         "type": "scatter",
         "x": [
          8,
          8
         ],
         "xaxis": "x14",
         "y": [
          0,
          0.23134784675383974
         ],
         "yaxis": "y14"
        },
        {
         "hoverinfo": "skip",
         "line": {
          "color": "blue",
          "width": 1
         },
         "mode": "lines",
         "showlegend": false,
         "type": "scatter",
         "x": [
          9,
          9
         ],
         "xaxis": "x14",
         "y": [
          0,
          -0.3127389684983872
         ],
         "yaxis": "y14"
        },
        {
         "hoverinfo": "skip",
         "line": {
          "color": "blue",
          "width": 1
         },
         "mode": "lines",
         "showlegend": false,
         "type": "scatter",
         "x": [
          10,
          10
         ],
         "xaxis": "x14",
         "y": [
          0,
          -0.2788461828855208
         ],
         "yaxis": "y14"
        },
        {
         "hoverinfo": "skip",
         "line": {
          "color": "blue",
          "width": 1
         },
         "mode": "lines",
         "showlegend": false,
         "type": "scatter",
         "x": [
          11,
          11
         ],
         "xaxis": "x14",
         "y": [
          0,
          -0.19689234112910875
         ],
         "yaxis": "y14"
        },
        {
         "hoverinfo": "skip",
         "line": {
          "color": "blue",
          "width": 1
         },
         "mode": "lines",
         "showlegend": false,
         "type": "scatter",
         "x": [
          12,
          12
         ],
         "xaxis": "x14",
         "y": [
          0,
          0.2562788380397456
         ],
         "yaxis": "y14"
        },
        {
         "hoverinfo": "skip",
         "line": {
          "color": "blue",
          "width": 1
         },
         "mode": "lines",
         "showlegend": false,
         "type": "scatter",
         "x": [
          13,
          13
         ],
         "xaxis": "x14",
         "y": [
          0,
          -0.7358299560390634
         ],
         "yaxis": "y14"
        },
        {
         "hoverinfo": "skip",
         "line": {
          "color": "blue",
          "width": 1
         },
         "mode": "lines",
         "showlegend": false,
         "type": "scatter",
         "x": [
          14,
          14
         ],
         "xaxis": "x14",
         "y": [
          0,
          -0.043408086018692726
         ],
         "yaxis": "y14"
        },
        {
         "hoverinfo": "skip",
         "line": {
          "color": "blue",
          "width": 1
         },
         "mode": "lines",
         "showlegend": false,
         "type": "scatter",
         "x": [
          15,
          15
         ],
         "xaxis": "x14",
         "y": [
          0,
          0.13915683582158594
         ],
         "yaxis": "y14"
        },
        {
         "hoverinfo": "skip",
         "line": {
          "color": "blue",
          "width": 1
         },
         "mode": "lines",
         "showlegend": false,
         "type": "scatter",
         "x": [
          16,
          16
         ],
         "xaxis": "x14",
         "y": [
          0,
          -0.09546573318340065
         ],
         "yaxis": "y14"
        },
        {
         "hoverinfo": "skip",
         "line": {
          "color": "blue",
          "width": 1
         },
         "mode": "lines",
         "showlegend": false,
         "type": "scatter",
         "x": [
          17,
          17
         ],
         "xaxis": "x14",
         "y": [
          0,
          0.054275538323734995
         ],
         "yaxis": "y14"
        },
        {
         "hoverinfo": "skip",
         "line": {
          "color": "blue",
          "width": 1
         },
         "mode": "lines",
         "showlegend": false,
         "type": "scatter",
         "x": [
          18,
          18
         ],
         "xaxis": "x14",
         "y": [
          0,
          0.30133321739785995
         ],
         "yaxis": "y14"
        },
        {
         "hoverinfo": "skip",
         "line": {
          "color": "blue",
          "width": 1
         },
         "mode": "lines",
         "showlegend": false,
         "type": "scatter",
         "x": [
          19,
          19
         ],
         "xaxis": "x14",
         "y": [
          0,
          -0.48251500020443844
         ],
         "yaxis": "y14"
        },
        {
         "hoverinfo": "skip",
         "line": {
          "color": "blue",
          "width": 1
         },
         "mode": "lines",
         "showlegend": false,
         "type": "scatter",
         "x": [
          20,
          20
         ],
         "xaxis": "x14",
         "y": [
          0,
          -0.27117187823946826
         ],
         "yaxis": "y14"
        },
        {
         "hoverinfo": "skip",
         "line": {
          "color": "blue",
          "width": 1
         },
         "mode": "lines",
         "showlegend": false,
         "type": "scatter",
         "x": [
          21,
          21
         ],
         "xaxis": "x14",
         "y": [
          0,
          0.8842293883589356
         ],
         "yaxis": "y14"
        },
        {
         "hovertemplate": "Lag %{x}<br>PACF: %{y:.2f}<extra></extra>",
         "line": {
          "color": "blue",
          "width": 1
         },
         "marker": {
          "color": "blue",
          "size": 5
         },
         "mode": "lines+markers",
         "name": "PRO28276_org",
         "type": "scatter",
         "x": [
          0,
          1,
          2,
          3,
          4,
          5,
          6,
          7,
          8,
          9,
          10,
          11,
          12,
          13,
          14,
          15,
          16,
          17,
          18,
          19,
          20,
          21
         ],
         "xaxis": "x15",
         "y": [
          1,
          0.16049163329239943,
          -0.0603888468008692,
          0.4775572836320402,
          -0.13446683054362973,
          0.16288158648880208,
          -0.056715788874038234,
          -0.10657490234113674,
          -0.03224259316276323,
          0.23569373584886466,
          -0.49423365123816776,
          0.2645068465270312,
          0.4330742408694871,
          -0.5784924543047135,
          -0.23743865659541238,
          0.11428383124791529,
          -0.33448679656361874,
          -0.5245362009367763,
          0.24646419636864975,
          0.6514939263430858,
          -1.38449243362256,
          -0.6095131713769384
         ],
         "yaxis": "y15"
        },
        {
         "hoverinfo": "skip",
         "line": {
          "color": "blue",
          "width": 1
         },
         "mode": "lines",
         "showlegend": false,
         "type": "scatter",
         "x": [
          0,
          0
         ],
         "xaxis": "x15",
         "y": [
          0,
          1
         ],
         "yaxis": "y15"
        },
        {
         "hoverinfo": "skip",
         "line": {
          "color": "blue",
          "width": 1
         },
         "mode": "lines",
         "showlegend": false,
         "type": "scatter",
         "x": [
          1,
          1
         ],
         "xaxis": "x15",
         "y": [
          0,
          0.16049163329239943
         ],
         "yaxis": "y15"
        },
        {
         "hoverinfo": "skip",
         "line": {
          "color": "blue",
          "width": 1
         },
         "mode": "lines",
         "showlegend": false,
         "type": "scatter",
         "x": [
          2,
          2
         ],
         "xaxis": "x15",
         "y": [
          0,
          -0.0603888468008692
         ],
         "yaxis": "y15"
        },
        {
         "hoverinfo": "skip",
         "line": {
          "color": "blue",
          "width": 1
         },
         "mode": "lines",
         "showlegend": false,
         "type": "scatter",
         "x": [
          3,
          3
         ],
         "xaxis": "x15",
         "y": [
          0,
          0.4775572836320402
         ],
         "yaxis": "y15"
        },
        {
         "hoverinfo": "skip",
         "line": {
          "color": "blue",
          "width": 1
         },
         "mode": "lines",
         "showlegend": false,
         "type": "scatter",
         "x": [
          4,
          4
         ],
         "xaxis": "x15",
         "y": [
          0,
          -0.13446683054362973
         ],
         "yaxis": "y15"
        },
        {
         "hoverinfo": "skip",
         "line": {
          "color": "blue",
          "width": 1
         },
         "mode": "lines",
         "showlegend": false,
         "type": "scatter",
         "x": [
          5,
          5
         ],
         "xaxis": "x15",
         "y": [
          0,
          0.16288158648880208
         ],
         "yaxis": "y15"
        },
        {
         "hoverinfo": "skip",
         "line": {
          "color": "blue",
          "width": 1
         },
         "mode": "lines",
         "showlegend": false,
         "type": "scatter",
         "x": [
          6,
          6
         ],
         "xaxis": "x15",
         "y": [
          0,
          -0.056715788874038234
         ],
         "yaxis": "y15"
        },
        {
         "hoverinfo": "skip",
         "line": {
          "color": "blue",
          "width": 1
         },
         "mode": "lines",
         "showlegend": false,
         "type": "scatter",
         "x": [
          7,
          7
         ],
         "xaxis": "x15",
         "y": [
          0,
          -0.10657490234113674
         ],
         "yaxis": "y15"
        },
        {
         "hoverinfo": "skip",
         "line": {
          "color": "blue",
          "width": 1
         },
         "mode": "lines",
         "showlegend": false,
         "type": "scatter",
         "x": [
          8,
          8
         ],
         "xaxis": "x15",
         "y": [
          0,
          -0.03224259316276323
         ],
         "yaxis": "y15"
        },
        {
         "hoverinfo": "skip",
         "line": {
          "color": "blue",
          "width": 1
         },
         "mode": "lines",
         "showlegend": false,
         "type": "scatter",
         "x": [
          9,
          9
         ],
         "xaxis": "x15",
         "y": [
          0,
          0.23569373584886466
         ],
         "yaxis": "y15"
        },
        {
         "hoverinfo": "skip",
         "line": {
          "color": "blue",
          "width": 1
         },
         "mode": "lines",
         "showlegend": false,
         "type": "scatter",
         "x": [
          10,
          10
         ],
         "xaxis": "x15",
         "y": [
          0,
          -0.49423365123816776
         ],
         "yaxis": "y15"
        },
        {
         "hoverinfo": "skip",
         "line": {
          "color": "blue",
          "width": 1
         },
         "mode": "lines",
         "showlegend": false,
         "type": "scatter",
         "x": [
          11,
          11
         ],
         "xaxis": "x15",
         "y": [
          0,
          0.2645068465270312
         ],
         "yaxis": "y15"
        },
        {
         "hoverinfo": "skip",
         "line": {
          "color": "blue",
          "width": 1
         },
         "mode": "lines",
         "showlegend": false,
         "type": "scatter",
         "x": [
          12,
          12
         ],
         "xaxis": "x15",
         "y": [
          0,
          0.4330742408694871
         ],
         "yaxis": "y15"
        },
        {
         "hoverinfo": "skip",
         "line": {
          "color": "blue",
          "width": 1
         },
         "mode": "lines",
         "showlegend": false,
         "type": "scatter",
         "x": [
          13,
          13
         ],
         "xaxis": "x15",
         "y": [
          0,
          -0.5784924543047135
         ],
         "yaxis": "y15"
        },
        {
         "hoverinfo": "skip",
         "line": {
          "color": "blue",
          "width": 1
         },
         "mode": "lines",
         "showlegend": false,
         "type": "scatter",
         "x": [
          14,
          14
         ],
         "xaxis": "x15",
         "y": [
          0,
          -0.23743865659541238
         ],
         "yaxis": "y15"
        },
        {
         "hoverinfo": "skip",
         "line": {
          "color": "blue",
          "width": 1
         },
         "mode": "lines",
         "showlegend": false,
         "type": "scatter",
         "x": [
          15,
          15
         ],
         "xaxis": "x15",
         "y": [
          0,
          0.11428383124791529
         ],
         "yaxis": "y15"
        },
        {
         "hoverinfo": "skip",
         "line": {
          "color": "blue",
          "width": 1
         },
         "mode": "lines",
         "showlegend": false,
         "type": "scatter",
         "x": [
          16,
          16
         ],
         "xaxis": "x15",
         "y": [
          0,
          -0.33448679656361874
         ],
         "yaxis": "y15"
        },
        {
         "hoverinfo": "skip",
         "line": {
          "color": "blue",
          "width": 1
         },
         "mode": "lines",
         "showlegend": false,
         "type": "scatter",
         "x": [
          17,
          17
         ],
         "xaxis": "x15",
         "y": [
          0,
          -0.5245362009367763
         ],
         "yaxis": "y15"
        },
        {
         "hoverinfo": "skip",
         "line": {
          "color": "blue",
          "width": 1
         },
         "mode": "lines",
         "showlegend": false,
         "type": "scatter",
         "x": [
          18,
          18
         ],
         "xaxis": "x15",
         "y": [
          0,
          0.24646419636864975
         ],
         "yaxis": "y15"
        },
        {
         "hoverinfo": "skip",
         "line": {
          "color": "blue",
          "width": 1
         },
         "mode": "lines",
         "showlegend": false,
         "type": "scatter",
         "x": [
          19,
          19
         ],
         "xaxis": "x15",
         "y": [
          0,
          0.6514939263430858
         ],
         "yaxis": "y15"
        },
        {
         "hoverinfo": "skip",
         "line": {
          "color": "blue",
          "width": 1
         },
         "mode": "lines",
         "showlegend": false,
         "type": "scatter",
         "x": [
          20,
          20
         ],
         "xaxis": "x15",
         "y": [
          0,
          -1.38449243362256
         ],
         "yaxis": "y15"
        },
        {
         "hoverinfo": "skip",
         "line": {
          "color": "blue",
          "width": 1
         },
         "mode": "lines",
         "showlegend": false,
         "type": "scatter",
         "x": [
          21,
          21
         ],
         "xaxis": "x15",
         "y": [
          0,
          -0.6095131713769384
         ],
         "yaxis": "y15"
        }
       ],
       "layout": {
        "annotations": [
         {
          "font": {
           "size": 16
          },
          "showarrow": false,
          "text": "PACF: MAB_ELE_SHP840",
          "x": 0.028666666666666667,
          "xanchor": "center",
          "xref": "paper",
          "y": 1,
          "yanchor": "bottom",
          "yref": "paper"
         },
         {
          "font": {
           "size": 16
          },
          "showarrow": false,
          "text": "PACF: PRI27276_org",
          "x": 0.096,
          "xanchor": "center",
          "xref": "paper",
          "y": 1,
          "yanchor": "bottom",
          "yref": "paper"
         },
         {
          "font": {
           "size": 16
          },
          "showarrow": false,
          "text": "PACF: PRO27826_org",
          "x": 0.16333333333333333,
          "xanchor": "center",
          "xref": "paper",
          "y": 1,
          "yanchor": "bottom",
          "yref": "paper"
         },
         {
          "font": {
           "size": 16
          },
          "showarrow": false,
          "text": "PACF: MAB_ELE_PRO276",
          "x": 0.23066666666666663,
          "xanchor": "center",
          "xref": "paper",
          "y": 1,
          "yanchor": "bottom",
          "yref": "paper"
         },
         {
          "font": {
           "size": 16
          },
          "showarrow": false,
          "text": "PACF: MAB_ELE_SHP1100",
          "x": 0.298,
          "xanchor": "center",
          "xref": "paper",
          "y": 1,
          "yanchor": "bottom",
          "yref": "paper"
         },
         {
          "font": {
           "size": 16
          },
          "showarrow": false,
          "text": "PACF: MAB_ELE_SHP392",
          "x": 0.36533333333333334,
          "xanchor": "center",
          "xref": "paper",
          "y": 1,
          "yanchor": "bottom",
          "yref": "paper"
         },
         {
          "font": {
           "size": 16
          },
          "showarrow": false,
          "text": "PACF: MAB_ELE_SHP276",
          "x": 0.43266666666666664,
          "xanchor": "center",
          "xref": "paper",
          "y": 1,
          "yanchor": "bottom",
          "yref": "paper"
         },
         {
          "font": {
           "size": 16
          },
          "showarrow": false,
          "text": "PACF: PRI27840_org",
          "x": 0.5,
          "xanchor": "center",
          "xref": "paper",
          "y": 1,
          "yanchor": "bottom",
          "yref": "paper"
         },
         {
          "font": {
           "size": 16
          },
          "showarrow": false,
          "text": "PACF: RohCOPPER1000_org",
          "x": 0.5673333333333332,
          "xanchor": "center",
          "xref": "paper",
          "y": 1,
          "yanchor": "bottom",
          "yref": "paper"
         },
         {
          "font": {
           "size": 16
          },
          "showarrow": false,
          "text": "PACF: MAB_ELE_PRO156",
          "x": 0.6346666666666667,
          "xanchor": "center",
          "xref": "paper",
          "y": 1,
          "yanchor": "bottom",
          "yref": "paper"
         },
         {
          "font": {
           "size": 16
          },
          "showarrow": false,
          "text": "PACF: MAB_ELE_PRO756",
          "x": 0.702,
          "xanchor": "center",
          "xref": "paper",
          "y": 1,
          "yanchor": "bottom",
          "yref": "paper"
         },
         {
          "font": {
           "size": 16
          },
          "showarrow": false,
          "text": "PACF: PRO27756_org",
          "x": 0.7693333333333334,
          "xanchor": "center",
          "xref": "paper",
          "y": 1,
          "yanchor": "bottom",
          "yref": "paper"
         },
         {
          "font": {
           "size": 16
          },
          "showarrow": false,
          "text": "PACF: PRO27392_org",
          "x": 0.8366666666666667,
          "xanchor": "center",
          "xref": "paper",
          "y": 1,
          "yanchor": "bottom",
          "yref": "paper"
         },
         {
          "font": {
           "size": 16
          },
          "showarrow": false,
          "text": "PACF: PRO28380_org",
          "x": 0.9039999999999999,
          "xanchor": "center",
          "xref": "paper",
          "y": 1,
          "yanchor": "bottom",
          "yref": "paper"
         },
         {
          "font": {
           "size": 16
          },
          "showarrow": false,
          "text": "PACF: PRO28276_org",
          "x": 0.9713333333333334,
          "xanchor": "center",
          "xref": "paper",
          "y": 1,
          "yanchor": "bottom",
          "yref": "paper"
         }
        ],
        "height": 500,
        "margin": {
         "l": 20,
         "r": 20
        },
        "shapes": [
         {
          "line": {
           "color": "red",
           "dash": "dash",
           "width": 1
          },
          "opacity": 0.7,
          "type": "line",
          "x0": 0,
          "x1": 1,
          "xref": "x domain",
          "y0": 0.3415967975450345,
          "y1": 0.3415967975450345,
          "yref": "y"
         },
         {
          "line": {
           "color": "red",
           "dash": "dash",
           "width": 1
          },
          "opacity": 0.7,
          "type": "line",
          "x0": 0,
          "x1": 1,
          "xref": "x domain",
          "y0": -0.3415967975450345,
          "y1": -0.3415967975450345,
          "yref": "y"
         },
         {
          "fillcolor": "rgba(100,100,100,0.2)",
          "line": {
           "width": 0
          },
          "type": "rect",
          "x0": 0,
          "x1": 1,
          "xref": "x domain",
          "y0": -0.3415967975450345,
          "y1": 0.3415967975450345,
          "yref": "y"
         },
         {
          "line": {
           "color": "red",
           "dash": "dash",
           "width": 1
          },
          "opacity": 0.7,
          "type": "line",
          "x0": 0,
          "x1": 1,
          "xref": "x2 domain",
          "y0": 0.3415967975450345,
          "y1": 0.3415967975450345,
          "yref": "y2"
         },
         {
          "line": {
           "color": "red",
           "dash": "dash",
           "width": 1
          },
          "opacity": 0.7,
          "type": "line",
          "x0": 0,
          "x1": 1,
          "xref": "x2 domain",
          "y0": -0.3415967975450345,
          "y1": -0.3415967975450345,
          "yref": "y2"
         },
         {
          "fillcolor": "rgba(100,100,100,0.2)",
          "line": {
           "width": 0
          },
          "type": "rect",
          "x0": 0,
          "x1": 1,
          "xref": "x2 domain",
          "y0": -0.3415967975450345,
          "y1": 0.3415967975450345,
          "yref": "y2"
         },
         {
          "line": {
           "color": "red",
           "dash": "dash",
           "width": 1
          },
          "opacity": 0.7,
          "type": "line",
          "x0": 0,
          "x1": 1,
          "xref": "x3 domain",
          "y0": 0.3415967975450345,
          "y1": 0.3415967975450345,
          "yref": "y3"
         },
         {
          "line": {
           "color": "red",
           "dash": "dash",
           "width": 1
          },
          "opacity": 0.7,
          "type": "line",
          "x0": 0,
          "x1": 1,
          "xref": "x3 domain",
          "y0": -0.3415967975450345,
          "y1": -0.3415967975450345,
          "yref": "y3"
         },
         {
          "fillcolor": "rgba(100,100,100,0.2)",
          "line": {
           "width": 0
          },
          "type": "rect",
          "x0": 0,
          "x1": 1,
          "xref": "x3 domain",
          "y0": -0.3415967975450345,
          "y1": 0.3415967975450345,
          "yref": "y3"
         },
         {
          "line": {
           "color": "red",
           "dash": "dash",
           "width": 1
          },
          "opacity": 0.7,
          "type": "line",
          "x0": 0,
          "x1": 1,
          "xref": "x4 domain",
          "y0": 0.3415967975450345,
          "y1": 0.3415967975450345,
          "yref": "y4"
         },
         {
          "line": {
           "color": "red",
           "dash": "dash",
           "width": 1
          },
          "opacity": 0.7,
          "type": "line",
          "x0": 0,
          "x1": 1,
          "xref": "x4 domain",
          "y0": -0.3415967975450345,
          "y1": -0.3415967975450345,
          "yref": "y4"
         },
         {
          "fillcolor": "rgba(100,100,100,0.2)",
          "line": {
           "width": 0
          },
          "type": "rect",
          "x0": 0,
          "x1": 1,
          "xref": "x4 domain",
          "y0": -0.3415967975450345,
          "y1": 0.3415967975450345,
          "yref": "y4"
         },
         {
          "line": {
           "color": "red",
           "dash": "dash",
           "width": 1
          },
          "opacity": 0.7,
          "type": "line",
          "x0": 0,
          "x1": 1,
          "xref": "x5 domain",
          "y0": 0.3415967975450345,
          "y1": 0.3415967975450345,
          "yref": "y5"
         },
         {
          "line": {
           "color": "red",
           "dash": "dash",
           "width": 1
          },
          "opacity": 0.7,
          "type": "line",
          "x0": 0,
          "x1": 1,
          "xref": "x5 domain",
          "y0": -0.3415967975450345,
          "y1": -0.3415967975450345,
          "yref": "y5"
         },
         {
          "fillcolor": "rgba(100,100,100,0.2)",
          "line": {
           "width": 0
          },
          "type": "rect",
          "x0": 0,
          "x1": 1,
          "xref": "x5 domain",
          "y0": -0.3415967975450345,
          "y1": 0.3415967975450345,
          "yref": "y5"
         },
         {
          "line": {
           "color": "red",
           "dash": "dash",
           "width": 1
          },
          "opacity": 0.7,
          "type": "line",
          "x0": 0,
          "x1": 1,
          "xref": "x6 domain",
          "y0": 0.3415967975450345,
          "y1": 0.3415967975450345,
          "yref": "y6"
         },
         {
          "line": {
           "color": "red",
           "dash": "dash",
           "width": 1
          },
          "opacity": 0.7,
          "type": "line",
          "x0": 0,
          "x1": 1,
          "xref": "x6 domain",
          "y0": -0.3415967975450345,
          "y1": -0.3415967975450345,
          "yref": "y6"
         },
         {
          "fillcolor": "rgba(100,100,100,0.2)",
          "line": {
           "width": 0
          },
          "type": "rect",
          "x0": 0,
          "x1": 1,
          "xref": "x6 domain",
          "y0": -0.3415967975450345,
          "y1": 0.3415967975450345,
          "yref": "y6"
         },
         {
          "line": {
           "color": "red",
           "dash": "dash",
           "width": 1
          },
          "opacity": 0.7,
          "type": "line",
          "x0": 0,
          "x1": 1,
          "xref": "x7 domain",
          "y0": 0.3415967975450345,
          "y1": 0.3415967975450345,
          "yref": "y7"
         },
         {
          "line": {
           "color": "red",
           "dash": "dash",
           "width": 1
          },
          "opacity": 0.7,
          "type": "line",
          "x0": 0,
          "x1": 1,
          "xref": "x7 domain",
          "y0": -0.3415967975450345,
          "y1": -0.3415967975450345,
          "yref": "y7"
         },
         {
          "fillcolor": "rgba(100,100,100,0.2)",
          "line": {
           "width": 0
          },
          "type": "rect",
          "x0": 0,
          "x1": 1,
          "xref": "x7 domain",
          "y0": -0.3415967975450345,
          "y1": 0.3415967975450345,
          "yref": "y7"
         },
         {
          "line": {
           "color": "red",
           "dash": "dash",
           "width": 1
          },
          "opacity": 0.7,
          "type": "line",
          "x0": 0,
          "x1": 1,
          "xref": "x8 domain",
          "y0": 0.3415967975450345,
          "y1": 0.3415967975450345,
          "yref": "y8"
         },
         {
          "line": {
           "color": "red",
           "dash": "dash",
           "width": 1
          },
          "opacity": 0.7,
          "type": "line",
          "x0": 0,
          "x1": 1,
          "xref": "x8 domain",
          "y0": -0.3415967975450345,
          "y1": -0.3415967975450345,
          "yref": "y8"
         },
         {
          "fillcolor": "rgba(100,100,100,0.2)",
          "line": {
           "width": 0
          },
          "type": "rect",
          "x0": 0,
          "x1": 1,
          "xref": "x8 domain",
          "y0": -0.3415967975450345,
          "y1": 0.3415967975450345,
          "yref": "y8"
         },
         {
          "line": {
           "color": "red",
           "dash": "dash",
           "width": 1
          },
          "opacity": 0.7,
          "type": "line",
          "x0": 0,
          "x1": 1,
          "xref": "x9 domain",
          "y0": 0.3415967975450345,
          "y1": 0.3415967975450345,
          "yref": "y9"
         },
         {
          "line": {
           "color": "red",
           "dash": "dash",
           "width": 1
          },
          "opacity": 0.7,
          "type": "line",
          "x0": 0,
          "x1": 1,
          "xref": "x9 domain",
          "y0": -0.3415967975450345,
          "y1": -0.3415967975450345,
          "yref": "y9"
         },
         {
          "fillcolor": "rgba(100,100,100,0.2)",
          "line": {
           "width": 0
          },
          "type": "rect",
          "x0": 0,
          "x1": 1,
          "xref": "x9 domain",
          "y0": -0.3415967975450345,
          "y1": 0.3415967975450345,
          "yref": "y9"
         },
         {
          "line": {
           "color": "red",
           "dash": "dash",
           "width": 1
          },
          "opacity": 0.7,
          "type": "line",
          "x0": 0,
          "x1": 1,
          "xref": "x10 domain",
          "y0": 0.3415967975450345,
          "y1": 0.3415967975450345,
          "yref": "y10"
         },
         {
          "line": {
           "color": "red",
           "dash": "dash",
           "width": 1
          },
          "opacity": 0.7,
          "type": "line",
          "x0": 0,
          "x1": 1,
          "xref": "x10 domain",
          "y0": -0.3415967975450345,
          "y1": -0.3415967975450345,
          "yref": "y10"
         },
         {
          "fillcolor": "rgba(100,100,100,0.2)",
          "line": {
           "width": 0
          },
          "type": "rect",
          "x0": 0,
          "x1": 1,
          "xref": "x10 domain",
          "y0": -0.3415967975450345,
          "y1": 0.3415967975450345,
          "yref": "y10"
         },
         {
          "line": {
           "color": "red",
           "dash": "dash",
           "width": 1
          },
          "opacity": 0.7,
          "type": "line",
          "x0": 0,
          "x1": 1,
          "xref": "x11 domain",
          "y0": 0.3415967975450345,
          "y1": 0.3415967975450345,
          "yref": "y11"
         },
         {
          "line": {
           "color": "red",
           "dash": "dash",
           "width": 1
          },
          "opacity": 0.7,
          "type": "line",
          "x0": 0,
          "x1": 1,
          "xref": "x11 domain",
          "y0": -0.3415967975450345,
          "y1": -0.3415967975450345,
          "yref": "y11"
         },
         {
          "fillcolor": "rgba(100,100,100,0.2)",
          "line": {
           "width": 0
          },
          "type": "rect",
          "x0": 0,
          "x1": 1,
          "xref": "x11 domain",
          "y0": -0.3415967975450345,
          "y1": 0.3415967975450345,
          "yref": "y11"
         },
         {
          "line": {
           "color": "red",
           "dash": "dash",
           "width": 1
          },
          "opacity": 0.7,
          "type": "line",
          "x0": 0,
          "x1": 1,
          "xref": "x12 domain",
          "y0": 0.3415967975450345,
          "y1": 0.3415967975450345,
          "yref": "y12"
         },
         {
          "line": {
           "color": "red",
           "dash": "dash",
           "width": 1
          },
          "opacity": 0.7,
          "type": "line",
          "x0": 0,
          "x1": 1,
          "xref": "x12 domain",
          "y0": -0.3415967975450345,
          "y1": -0.3415967975450345,
          "yref": "y12"
         },
         {
          "fillcolor": "rgba(100,100,100,0.2)",
          "line": {
           "width": 0
          },
          "type": "rect",
          "x0": 0,
          "x1": 1,
          "xref": "x12 domain",
          "y0": -0.3415967975450345,
          "y1": 0.3415967975450345,
          "yref": "y12"
         },
         {
          "line": {
           "color": "red",
           "dash": "dash",
           "width": 1
          },
          "opacity": 0.7,
          "type": "line",
          "x0": 0,
          "x1": 1,
          "xref": "x13 domain",
          "y0": 0.3415967975450345,
          "y1": 0.3415967975450345,
          "yref": "y13"
         },
         {
          "line": {
           "color": "red",
           "dash": "dash",
           "width": 1
          },
          "opacity": 0.7,
          "type": "line",
          "x0": 0,
          "x1": 1,
          "xref": "x13 domain",
          "y0": -0.3415967975450345,
          "y1": -0.3415967975450345,
          "yref": "y13"
         },
         {
          "fillcolor": "rgba(100,100,100,0.2)",
          "line": {
           "width": 0
          },
          "type": "rect",
          "x0": 0,
          "x1": 1,
          "xref": "x13 domain",
          "y0": -0.3415967975450345,
          "y1": 0.3415967975450345,
          "yref": "y13"
         },
         {
          "line": {
           "color": "red",
           "dash": "dash",
           "width": 1
          },
          "opacity": 0.7,
          "type": "line",
          "x0": 0,
          "x1": 1,
          "xref": "x14 domain",
          "y0": 0.3415967975450345,
          "y1": 0.3415967975450345,
          "yref": "y14"
         },
         {
          "line": {
           "color": "red",
           "dash": "dash",
           "width": 1
          },
          "opacity": 0.7,
          "type": "line",
          "x0": 0,
          "x1": 1,
          "xref": "x14 domain",
          "y0": -0.3415967975450345,
          "y1": -0.3415967975450345,
          "yref": "y14"
         },
         {
          "fillcolor": "rgba(100,100,100,0.2)",
          "line": {
           "width": 0
          },
          "type": "rect",
          "x0": 0,
          "x1": 1,
          "xref": "x14 domain",
          "y0": -0.3415967975450345,
          "y1": 0.3415967975450345,
          "yref": "y14"
         },
         {
          "line": {
           "color": "red",
           "dash": "dash",
           "width": 1
          },
          "opacity": 0.7,
          "type": "line",
          "x0": 0,
          "x1": 1,
          "xref": "x15 domain",
          "y0": 0.3415967975450345,
          "y1": 0.3415967975450345,
          "yref": "y15"
         },
         {
          "line": {
           "color": "red",
           "dash": "dash",
           "width": 1
          },
          "opacity": 0.7,
          "type": "line",
          "x0": 0,
          "x1": 1,
          "xref": "x15 domain",
          "y0": -0.3415967975450345,
          "y1": -0.3415967975450345,
          "yref": "y15"
         },
         {
          "fillcolor": "rgba(100,100,100,0.2)",
          "line": {
           "width": 0
          },
          "type": "rect",
          "x0": 0,
          "x1": 1,
          "xref": "x15 domain",
          "y0": -0.3415967975450345,
          "y1": 0.3415967975450345,
          "yref": "y15"
         }
        ],
        "showlegend": false,
        "template": {
         "data": {
          "bar": [
           {
            "error_x": {
             "color": "#2a3f5f"
            },
            "error_y": {
             "color": "#2a3f5f"
            },
            "marker": {
             "line": {
              "color": "#E5ECF6",
              "width": 0.5
             },
             "pattern": {
              "fillmode": "overlay",
              "size": 10,
              "solidity": 0.2
             }
            },
            "type": "bar"
           }
          ],
          "barpolar": [
           {
            "marker": {
             "line": {
              "color": "#E5ECF6",
              "width": 0.5
             },
             "pattern": {
              "fillmode": "overlay",
              "size": 10,
              "solidity": 0.2
             }
            },
            "type": "barpolar"
           }
          ],
          "carpet": [
           {
            "aaxis": {
             "endlinecolor": "#2a3f5f",
             "gridcolor": "white",
             "linecolor": "white",
             "minorgridcolor": "white",
             "startlinecolor": "#2a3f5f"
            },
            "baxis": {
             "endlinecolor": "#2a3f5f",
             "gridcolor": "white",
             "linecolor": "white",
             "minorgridcolor": "white",
             "startlinecolor": "#2a3f5f"
            },
            "type": "carpet"
           }
          ],
          "choropleth": [
           {
            "colorbar": {
             "outlinewidth": 0,
             "ticks": ""
            },
            "type": "choropleth"
           }
          ],
          "contour": [
           {
            "colorbar": {
             "outlinewidth": 0,
             "ticks": ""
            },
            "colorscale": [
             [
              0,
              "#0d0887"
             ],
             [
              0.1111111111111111,
              "#46039f"
             ],
             [
              0.2222222222222222,
              "#7201a8"
             ],
             [
              0.3333333333333333,
              "#9c179e"
             ],
             [
              0.4444444444444444,
              "#bd3786"
             ],
             [
              0.5555555555555556,
              "#d8576b"
             ],
             [
              0.6666666666666666,
              "#ed7953"
             ],
             [
              0.7777777777777778,
              "#fb9f3a"
             ],
             [
              0.8888888888888888,
              "#fdca26"
             ],
             [
              1,
              "#f0f921"
             ]
            ],
            "type": "contour"
           }
          ],
          "contourcarpet": [
           {
            "colorbar": {
             "outlinewidth": 0,
             "ticks": ""
            },
            "type": "contourcarpet"
           }
          ],
          "heatmap": [
           {
            "colorbar": {
             "outlinewidth": 0,
             "ticks": ""
            },
            "colorscale": [
             [
              0,
              "#0d0887"
             ],
             [
              0.1111111111111111,
              "#46039f"
             ],
             [
              0.2222222222222222,
              "#7201a8"
             ],
             [
              0.3333333333333333,
              "#9c179e"
             ],
             [
              0.4444444444444444,
              "#bd3786"
             ],
             [
              0.5555555555555556,
              "#d8576b"
             ],
             [
              0.6666666666666666,
              "#ed7953"
             ],
             [
              0.7777777777777778,
              "#fb9f3a"
             ],
             [
              0.8888888888888888,
              "#fdca26"
             ],
             [
              1,
              "#f0f921"
             ]
            ],
            "type": "heatmap"
           }
          ],
          "heatmapgl": [
           {
            "colorbar": {
             "outlinewidth": 0,
             "ticks": ""
            },
            "colorscale": [
             [
              0,
              "#0d0887"
             ],
             [
              0.1111111111111111,
              "#46039f"
             ],
             [
              0.2222222222222222,
              "#7201a8"
             ],
             [
              0.3333333333333333,
              "#9c179e"
             ],
             [
              0.4444444444444444,
              "#bd3786"
             ],
             [
              0.5555555555555556,
              "#d8576b"
             ],
             [
              0.6666666666666666,
              "#ed7953"
             ],
             [
              0.7777777777777778,
              "#fb9f3a"
             ],
             [
              0.8888888888888888,
              "#fdca26"
             ],
             [
              1,
              "#f0f921"
             ]
            ],
            "type": "heatmapgl"
           }
          ],
          "histogram": [
           {
            "marker": {
             "pattern": {
              "fillmode": "overlay",
              "size": 10,
              "solidity": 0.2
             }
            },
            "type": "histogram"
           }
          ],
          "histogram2d": [
           {
            "colorbar": {
             "outlinewidth": 0,
             "ticks": ""
            },
            "colorscale": [
             [
              0,
              "#0d0887"
             ],
             [
              0.1111111111111111,
              "#46039f"
             ],
             [
              0.2222222222222222,
              "#7201a8"
             ],
             [
              0.3333333333333333,
              "#9c179e"
             ],
             [
              0.4444444444444444,
              "#bd3786"
             ],
             [
              0.5555555555555556,
              "#d8576b"
             ],
             [
              0.6666666666666666,
              "#ed7953"
             ],
             [
              0.7777777777777778,
              "#fb9f3a"
             ],
             [
              0.8888888888888888,
              "#fdca26"
             ],
             [
              1,
              "#f0f921"
             ]
            ],
            "type": "histogram2d"
           }
          ],
          "histogram2dcontour": [
           {
            "colorbar": {
             "outlinewidth": 0,
             "ticks": ""
            },
            "colorscale": [
             [
              0,
              "#0d0887"
             ],
             [
              0.1111111111111111,
              "#46039f"
             ],
             [
              0.2222222222222222,
              "#7201a8"
             ],
             [
              0.3333333333333333,
              "#9c179e"
             ],
             [
              0.4444444444444444,
              "#bd3786"
             ],
             [
              0.5555555555555556,
              "#d8576b"
             ],
             [
              0.6666666666666666,
              "#ed7953"
             ],
             [
              0.7777777777777778,
              "#fb9f3a"
             ],
             [
              0.8888888888888888,
              "#fdca26"
             ],
             [
              1,
              "#f0f921"
             ]
            ],
            "type": "histogram2dcontour"
           }
          ],
          "mesh3d": [
           {
            "colorbar": {
             "outlinewidth": 0,
             "ticks": ""
            },
            "type": "mesh3d"
           }
          ],
          "parcoords": [
           {
            "line": {
             "colorbar": {
              "outlinewidth": 0,
              "ticks": ""
             }
            },
            "type": "parcoords"
           }
          ],
          "pie": [
           {
            "automargin": true,
            "type": "pie"
           }
          ],
          "scatter": [
           {
            "fillpattern": {
             "fillmode": "overlay",
             "size": 10,
             "solidity": 0.2
            },
            "type": "scatter"
           }
          ],
          "scatter3d": [
           {
            "line": {
             "colorbar": {
              "outlinewidth": 0,
              "ticks": ""
             }
            },
            "marker": {
             "colorbar": {
              "outlinewidth": 0,
              "ticks": ""
             }
            },
            "type": "scatter3d"
           }
          ],
          "scattercarpet": [
           {
            "marker": {
             "colorbar": {
              "outlinewidth": 0,
              "ticks": ""
             }
            },
            "type": "scattercarpet"
           }
          ],
          "scattergeo": [
           {
            "marker": {
             "colorbar": {
              "outlinewidth": 0,
              "ticks": ""
             }
            },
            "type": "scattergeo"
           }
          ],
          "scattergl": [
           {
            "marker": {
             "colorbar": {
              "outlinewidth": 0,
              "ticks": ""
             }
            },
            "type": "scattergl"
           }
          ],
          "scattermapbox": [
           {
            "marker": {
             "colorbar": {
              "outlinewidth": 0,
              "ticks": ""
             }
            },
            "type": "scattermapbox"
           }
          ],
          "scatterpolar": [
           {
            "marker": {
             "colorbar": {
              "outlinewidth": 0,
              "ticks": ""
             }
            },
            "type": "scatterpolar"
           }
          ],
          "scatterpolargl": [
           {
            "marker": {
             "colorbar": {
              "outlinewidth": 0,
              "ticks": ""
             }
            },
            "type": "scatterpolargl"
           }
          ],
          "scatterternary": [
           {
            "marker": {
             "colorbar": {
              "outlinewidth": 0,
              "ticks": ""
             }
            },
            "type": "scatterternary"
           }
          ],
          "surface": [
           {
            "colorbar": {
             "outlinewidth": 0,
             "ticks": ""
            },
            "colorscale": [
             [
              0,
              "#0d0887"
             ],
             [
              0.1111111111111111,
              "#46039f"
             ],
             [
              0.2222222222222222,
              "#7201a8"
             ],
             [
              0.3333333333333333,
              "#9c179e"
             ],
             [
              0.4444444444444444,
              "#bd3786"
             ],
             [
              0.5555555555555556,
              "#d8576b"
             ],
             [
              0.6666666666666666,
              "#ed7953"
             ],
             [
              0.7777777777777778,
              "#fb9f3a"
             ],
             [
              0.8888888888888888,
              "#fdca26"
             ],
             [
              1,
              "#f0f921"
             ]
            ],
            "type": "surface"
           }
          ],
          "table": [
           {
            "cells": {
             "fill": {
              "color": "#EBF0F8"
             },
             "line": {
              "color": "white"
             }
            },
            "header": {
             "fill": {
              "color": "#C8D4E3"
             },
             "line": {
              "color": "white"
             }
            },
            "type": "table"
           }
          ]
         },
         "layout": {
          "annotationdefaults": {
           "arrowcolor": "#2a3f5f",
           "arrowhead": 0,
           "arrowwidth": 1
          },
          "autotypenumbers": "strict",
          "coloraxis": {
           "colorbar": {
            "outlinewidth": 0,
            "ticks": ""
           }
          },
          "colorscale": {
           "diverging": [
            [
             0,
             "#8e0152"
            ],
            [
             0.1,
             "#c51b7d"
            ],
            [
             0.2,
             "#de77ae"
            ],
            [
             0.3,
             "#f1b6da"
            ],
            [
             0.4,
             "#fde0ef"
            ],
            [
             0.5,
             "#f7f7f7"
            ],
            [
             0.6,
             "#e6f5d0"
            ],
            [
             0.7,
             "#b8e186"
            ],
            [
             0.8,
             "#7fbc41"
            ],
            [
             0.9,
             "#4d9221"
            ],
            [
             1,
             "#276419"
            ]
           ],
           "sequential": [
            [
             0,
             "#0d0887"
            ],
            [
             0.1111111111111111,
             "#46039f"
            ],
            [
             0.2222222222222222,
             "#7201a8"
            ],
            [
             0.3333333333333333,
             "#9c179e"
            ],
            [
             0.4444444444444444,
             "#bd3786"
            ],
            [
             0.5555555555555556,
             "#d8576b"
            ],
            [
             0.6666666666666666,
             "#ed7953"
            ],
            [
             0.7777777777777778,
             "#fb9f3a"
            ],
            [
             0.8888888888888888,
             "#fdca26"
            ],
            [
             1,
             "#f0f921"
            ]
           ],
           "sequentialminus": [
            [
             0,
             "#0d0887"
            ],
            [
             0.1111111111111111,
             "#46039f"
            ],
            [
             0.2222222222222222,
             "#7201a8"
            ],
            [
             0.3333333333333333,
             "#9c179e"
            ],
            [
             0.4444444444444444,
             "#bd3786"
            ],
            [
             0.5555555555555556,
             "#d8576b"
            ],
            [
             0.6666666666666666,
             "#ed7953"
            ],
            [
             0.7777777777777778,
             "#fb9f3a"
            ],
            [
             0.8888888888888888,
             "#fdca26"
            ],
            [
             1,
             "#f0f921"
            ]
           ]
          },
          "colorway": [
           "#636efa",
           "#EF553B",
           "#00cc96",
           "#ab63fa",
           "#FFA15A",
           "#19d3f3",
           "#FF6692",
           "#B6E880",
           "#FF97FF",
           "#FECB52"
          ],
          "font": {
           "color": "#2a3f5f"
          },
          "geo": {
           "bgcolor": "white",
           "lakecolor": "white",
           "landcolor": "#E5ECF6",
           "showlakes": true,
           "showland": true,
           "subunitcolor": "white"
          },
          "hoverlabel": {
           "align": "left"
          },
          "hovermode": "closest",
          "mapbox": {
           "style": "light"
          },
          "paper_bgcolor": "white",
          "plot_bgcolor": "#E5ECF6",
          "polar": {
           "angularaxis": {
            "gridcolor": "white",
            "linecolor": "white",
            "ticks": ""
           },
           "bgcolor": "#E5ECF6",
           "radialaxis": {
            "gridcolor": "white",
            "linecolor": "white",
            "ticks": ""
           }
          },
          "scene": {
           "xaxis": {
            "backgroundcolor": "#E5ECF6",
            "gridcolor": "white",
            "gridwidth": 2,
            "linecolor": "white",
            "showbackground": true,
            "ticks": "",
            "zerolinecolor": "white"
           },
           "yaxis": {
            "backgroundcolor": "#E5ECF6",
            "gridcolor": "white",
            "gridwidth": 2,
            "linecolor": "white",
            "showbackground": true,
            "ticks": "",
            "zerolinecolor": "white"
           },
           "zaxis": {
            "backgroundcolor": "#E5ECF6",
            "gridcolor": "white",
            "gridwidth": 2,
            "linecolor": "white",
            "showbackground": true,
            "ticks": "",
            "zerolinecolor": "white"
           }
          },
          "shapedefaults": {
           "line": {
            "color": "#2a3f5f"
           }
          },
          "ternary": {
           "aaxis": {
            "gridcolor": "white",
            "linecolor": "white",
            "ticks": ""
           },
           "baxis": {
            "gridcolor": "white",
            "linecolor": "white",
            "ticks": ""
           },
           "bgcolor": "#E5ECF6",
           "caxis": {
            "gridcolor": "white",
            "linecolor": "white",
            "ticks": ""
           }
          },
          "title": {
           "x": 0.05
          },
          "xaxis": {
           "automargin": true,
           "gridcolor": "white",
           "linecolor": "white",
           "ticks": "",
           "title": {
            "standoff": 15
           },
           "zerolinecolor": "white",
           "zerolinewidth": 2
          },
          "yaxis": {
           "automargin": true,
           "gridcolor": "white",
           "linecolor": "white",
           "ticks": "",
           "title": {
            "standoff": 15
           },
           "zerolinecolor": "white",
           "zerolinewidth": 2
          }
         }
        },
        "title": {
         "text": "PACF by Product (97.5% Confidence)"
        },
        "width": 7500,
        "xaxis": {
         "anchor": "y",
         "domain": [
          0,
          0.05733333333333333
         ],
         "title": {
          "text": "Lag"
         }
        },
        "xaxis10": {
         "anchor": "y10",
         "domain": [
          0.606,
          0.6633333333333333
         ],
         "title": {
          "text": "Lag"
         }
        },
        "xaxis11": {
         "anchor": "y11",
         "domain": [
          0.6733333333333333,
          0.7306666666666667
         ],
         "title": {
          "text": "Lag"
         }
        },
        "xaxis12": {
         "anchor": "y12",
         "domain": [
          0.7406666666666667,
          0.798
         ],
         "title": {
          "text": "Lag"
         }
        },
        "xaxis13": {
         "anchor": "y13",
         "domain": [
          0.8079999999999999,
          0.8653333333333333
         ],
         "title": {
          "text": "Lag"
         }
        },
        "xaxis14": {
         "anchor": "y14",
         "domain": [
          0.8753333333333333,
          0.9326666666666666
         ],
         "title": {
          "text": "Lag"
         }
        },
        "xaxis15": {
         "anchor": "y15",
         "domain": [
          0.9426666666666667,
          1
         ],
         "title": {
          "text": "Lag"
         }
        },
        "xaxis2": {
         "anchor": "y2",
         "domain": [
          0.06733333333333333,
          0.12466666666666666
         ],
         "title": {
          "text": "Lag"
         }
        },
        "xaxis3": {
         "anchor": "y3",
         "domain": [
          0.13466666666666666,
          0.192
         ],
         "title": {
          "text": "Lag"
         }
        },
        "xaxis4": {
         "anchor": "y4",
         "domain": [
          0.20199999999999999,
          0.2593333333333333
         ],
         "title": {
          "text": "Lag"
         }
        },
        "xaxis5": {
         "anchor": "y5",
         "domain": [
          0.2693333333333333,
          0.32666666666666666
         ],
         "title": {
          "text": "Lag"
         }
        },
        "xaxis6": {
         "anchor": "y6",
         "domain": [
          0.33666666666666667,
          0.394
         ],
         "title": {
          "text": "Lag"
         }
        },
        "xaxis7": {
         "anchor": "y7",
         "domain": [
          0.40399999999999997,
          0.4613333333333333
         ],
         "title": {
          "text": "Lag"
         }
        },
        "xaxis8": {
         "anchor": "y8",
         "domain": [
          0.4713333333333333,
          0.5286666666666666
         ],
         "title": {
          "text": "Lag"
         }
        },
        "xaxis9": {
         "anchor": "y9",
         "domain": [
          0.5386666666666666,
          0.596
         ],
         "title": {
          "text": "Lag"
         }
        },
        "yaxis": {
         "anchor": "x",
         "domain": [
          0,
          1
         ],
         "range": [
          -1.1,
          1.1
         ],
         "title": {
          "text": "PACF"
         }
        },
        "yaxis10": {
         "anchor": "x10",
         "domain": [
          0,
          1
         ],
         "range": [
          -1.1,
          1.1
         ],
         "title": {
          "text": "PACF"
         }
        },
        "yaxis11": {
         "anchor": "x11",
         "domain": [
          0,
          1
         ],
         "range": [
          -1.1,
          1.1
         ],
         "title": {
          "text": "PACF"
         }
        },
        "yaxis12": {
         "anchor": "x12",
         "domain": [
          0,
          1
         ],
         "range": [
          -1.1,
          1.1
         ],
         "title": {
          "text": "PACF"
         }
        },
        "yaxis13": {
         "anchor": "x13",
         "domain": [
          0,
          1
         ],
         "range": [
          -1.1,
          1.1
         ],
         "title": {
          "text": "PACF"
         }
        },
        "yaxis14": {
         "anchor": "x14",
         "domain": [
          0,
          1
         ],
         "range": [
          -1.1,
          1.1
         ],
         "title": {
          "text": "PACF"
         }
        },
        "yaxis15": {
         "anchor": "x15",
         "domain": [
          0,
          1
         ],
         "range": [
          -1.1,
          1.1
         ],
         "title": {
          "text": "PACF"
         }
        },
        "yaxis2": {
         "anchor": "x2",
         "domain": [
          0,
          1
         ],
         "range": [
          -1.1,
          1.1
         ],
         "title": {
          "text": "PACF"
         }
        },
        "yaxis3": {
         "anchor": "x3",
         "domain": [
          0,
          1
         ],
         "range": [
          -1.1,
          1.1
         ],
         "title": {
          "text": "PACF"
         }
        },
        "yaxis4": {
         "anchor": "x4",
         "domain": [
          0,
          1
         ],
         "range": [
          -1.1,
          1.1
         ],
         "title": {
          "text": "PACF"
         }
        },
        "yaxis5": {
         "anchor": "x5",
         "domain": [
          0,
          1
         ],
         "range": [
          -1.1,
          1.1
         ],
         "title": {
          "text": "PACF"
         }
        },
        "yaxis6": {
         "anchor": "x6",
         "domain": [
          0,
          1
         ],
         "range": [
          -1.1,
          1.1
         ],
         "title": {
          "text": "PACF"
         }
        },
        "yaxis7": {
         "anchor": "x7",
         "domain": [
          0,
          1
         ],
         "range": [
          -1.1,
          1.1
         ],
         "title": {
          "text": "PACF"
         }
        },
        "yaxis8": {
         "anchor": "x8",
         "domain": [
          0,
          1
         ],
         "range": [
          -1.1,
          1.1
         ],
         "title": {
          "text": "PACF"
         }
        },
        "yaxis9": {
         "anchor": "x9",
         "domain": [
          0,
          1
         ],
         "range": [
          -1.1,
          1.1
         ],
         "title": {
          "text": "PACF"
         }
        }
       }
      }
     },
     "metadata": {},
     "output_type": "display_data"
    }
   ],
   "source": [
    "plot_correlation_for_products(combined_macros, lags=21, plot_type='pacf')"
   ]
  },
  {
   "cell_type": "markdown",
   "metadata": {},
   "source": [
    "We checked for **normality** and **stationarity** because many traditional time-series models, such as **ARIMA and AutoARIMA**, assume that the residuals follow a normal distribution and that the data is stationary. If these assumptions are violated, the model’s accuracy and reliability decrease significantly.  \n",
    "\n",
    "- Many variables exhibited **non-normal distributions**, meaning their error terms may not follow a Gaussian pattern. This is problematic for models like ARIMA, which rely on normally distributed residuals for optimal performance.  \n",
    "- A lot of variables were also **non-stationary**, meaning they had trends, seasonality, or structural changes that could not be directly modeled without transformations like differencing.  \n",
    "- The **Partial Autocorrelation Function (PACF) plots** were complex and difficult to interpret, making it challenging to manually determine the optimal ARIMA parameters.  \n",
    "\n",
    "Given these challenges, we decided to use **TimeGPT**:  \n",
    "\n",
    "1. **Handles Non-Normality & Non-Stationarity** – Unlike ARIMA, which requires data transformations (e.g., differencing and Box-Cox transformations), TimeGPT can work directly with raw data.  \n",
    "2. **No Need for Manual Parameter Tuning** – ARIMA requires selecting (p, d, q) values, which is difficult when dealing with complex PACF/ACF plots. TimeGPT operates in a **zero-shot** manner, meaning it **does not require manual tuning** to produce accurate forecasts.  \n",
    "3. **Better at Handling Volatility** – Many of the variables exhibit fluctuations that ARIMA struggles with, while TimeGPT is trained on **100B+ time-series points**, making it inherently more robust to volatility.  \n",
    "\n",
    "imeGPT is the **most practical and scientifically reliable choice** for this forecasting task. While traditional statistical models may work in controlled cases, the complexity of my dataset demands a more advanced AI-based approach.  "
   ]
  },
  {
   "cell_type": "markdown",
   "metadata": {},
   "source": [
    "##### <span style=\"background-color:#000027; padding:5px; border-radius:5px;font-size:13pt\">**4.4. Macro Prediction**</span> <a id='macro-prediction'></a> "
   ]
  },
  {
   "cell_type": "code",
   "execution_count": 88,
   "metadata": {},
   "outputs": [
    {
     "name": "stderr",
     "output_type": "stream",
     "text": [
      "WARNING - (py.warnings._showwarnmsg) - C:\\Users\\beatr\\AppData\\Local\\Temp\\ipykernel_25396\\2288804386.py:6: FutureWarning:\n",
      "\n",
      "Downcasting object dtype arrays on .fillna, .ffill, .bfill is deprecated and will change in a future version. Call result.infer_objects(copy=False) instead. To opt-in to the future behavior, set `pd.set_option('future.no_silent_downcasting', True)`\n",
      "\n",
      "\n",
      "WARNING:py.warnings:C:\\Users\\beatr\\AppData\\Local\\Temp\\ipykernel_25396\\2288804386.py:6: FutureWarning:\n",
      "\n",
      "Downcasting object dtype arrays on .fillna, .ffill, .bfill is deprecated and will change in a future version. Call result.infer_objects(copy=False) instead. To opt-in to the future behavior, set `pd.set_option('future.no_silent_downcasting', True)`\n",
      "\n",
      "\n"
     ]
    },
    {
     "name": "stdout",
     "output_type": "stream",
     "text": [
      "Test macros shape: (10, 27)\n"
     ]
    },
    {
     "data": {
      "text/html": [
       "<div>\n",
       "<style scoped>\n",
       "    .dataframe tbody tr th:only-of-type {\n",
       "        vertical-align: middle;\n",
       "    }\n",
       "\n",
       "    .dataframe tbody tr th {\n",
       "        vertical-align: top;\n",
       "    }\n",
       "\n",
       "    .dataframe thead th {\n",
       "        text-align: right;\n",
       "    }\n",
       "</style>\n",
       "<table border=\"1\" class=\"dataframe\">\n",
       "  <thead>\n",
       "    <tr style=\"text-align: right;\">\n",
       "      <th></th>\n",
       "      <th>MAB_ELE_SHP840</th>\n",
       "      <th>PRI27276_org</th>\n",
       "      <th>PRO27826_org</th>\n",
       "      <th>MAB_ELE_PRO276</th>\n",
       "      <th>MAB_ELE_SHP1100</th>\n",
       "      <th>MAB_ELE_SHP392</th>\n",
       "      <th>MAB_ELE_SHP276</th>\n",
       "      <th>PRI27840_org</th>\n",
       "      <th>RohCOPPER1000_org</th>\n",
       "      <th>MAB_ELE_PRO156</th>\n",
       "      <th>MAB_ELE_PRO756</th>\n",
       "      <th>PRO27756_org</th>\n",
       "      <th>PRO27392_org</th>\n",
       "      <th>PRO28380_org</th>\n",
       "      <th>PRO28276_org</th>\n",
       "      <th>PRO28826_org</th>\n",
       "      <th>MAB_ELE_SHP250</th>\n",
       "      <th>PRO271000_org</th>\n",
       "      <th>PRO27250_org</th>\n",
       "      <th>PRO28392_org</th>\n",
       "      <th>PRO27380_org</th>\n",
       "      <th>WKLWEUR840_org</th>\n",
       "      <th>PRO27276_org</th>\n",
       "      <th>MAB_ELE_SHP380</th>\n",
       "      <th>PRO27840_org</th>\n",
       "      <th>RohCRUDE_PETRO1000_org</th>\n",
       "      <th>PRO28250_org</th>\n",
       "    </tr>\n",
       "    <tr>\n",
       "      <th>Month Year</th>\n",
       "      <th></th>\n",
       "      <th></th>\n",
       "      <th></th>\n",
       "      <th></th>\n",
       "      <th></th>\n",
       "      <th></th>\n",
       "      <th></th>\n",
       "      <th></th>\n",
       "      <th></th>\n",
       "      <th></th>\n",
       "      <th></th>\n",
       "      <th></th>\n",
       "      <th></th>\n",
       "      <th></th>\n",
       "      <th></th>\n",
       "      <th></th>\n",
       "      <th></th>\n",
       "      <th></th>\n",
       "      <th></th>\n",
       "      <th></th>\n",
       "      <th></th>\n",
       "      <th></th>\n",
       "      <th></th>\n",
       "      <th></th>\n",
       "      <th></th>\n",
       "      <th></th>\n",
       "      <th></th>\n",
       "    </tr>\n",
       "  </thead>\n",
       "  <tbody>\n",
       "    <tr>\n",
       "      <th>2022-05-01</th>\n",
       "      <td>NaN</td>\n",
       "      <td>NaN</td>\n",
       "      <td>NaN</td>\n",
       "      <td>NaN</td>\n",
       "      <td>NaN</td>\n",
       "      <td>NaN</td>\n",
       "      <td>NaN</td>\n",
       "      <td>NaN</td>\n",
       "      <td>NaN</td>\n",
       "      <td>NaN</td>\n",
       "      <td>NaN</td>\n",
       "      <td>NaN</td>\n",
       "      <td>NaN</td>\n",
       "      <td>NaN</td>\n",
       "      <td>NaN</td>\n",
       "      <td>NaN</td>\n",
       "      <td>NaN</td>\n",
       "      <td>NaN</td>\n",
       "      <td>NaN</td>\n",
       "      <td>NaN</td>\n",
       "      <td>NaN</td>\n",
       "      <td>NaN</td>\n",
       "      <td>NaN</td>\n",
       "      <td>NaN</td>\n",
       "      <td>NaN</td>\n",
       "      <td>NaN</td>\n",
       "      <td>NaN</td>\n",
       "    </tr>\n",
       "    <tr>\n",
       "      <th>2022-06-01</th>\n",
       "      <td>NaN</td>\n",
       "      <td>NaN</td>\n",
       "      <td>NaN</td>\n",
       "      <td>NaN</td>\n",
       "      <td>NaN</td>\n",
       "      <td>NaN</td>\n",
       "      <td>NaN</td>\n",
       "      <td>NaN</td>\n",
       "      <td>NaN</td>\n",
       "      <td>NaN</td>\n",
       "      <td>NaN</td>\n",
       "      <td>NaN</td>\n",
       "      <td>NaN</td>\n",
       "      <td>NaN</td>\n",
       "      <td>NaN</td>\n",
       "      <td>NaN</td>\n",
       "      <td>NaN</td>\n",
       "      <td>NaN</td>\n",
       "      <td>NaN</td>\n",
       "      <td>NaN</td>\n",
       "      <td>NaN</td>\n",
       "      <td>NaN</td>\n",
       "      <td>NaN</td>\n",
       "      <td>NaN</td>\n",
       "      <td>NaN</td>\n",
       "      <td>NaN</td>\n",
       "      <td>NaN</td>\n",
       "    </tr>\n",
       "    <tr>\n",
       "      <th>2022-07-01</th>\n",
       "      <td>NaN</td>\n",
       "      <td>NaN</td>\n",
       "      <td>NaN</td>\n",
       "      <td>NaN</td>\n",
       "      <td>NaN</td>\n",
       "      <td>NaN</td>\n",
       "      <td>NaN</td>\n",
       "      <td>NaN</td>\n",
       "      <td>NaN</td>\n",
       "      <td>NaN</td>\n",
       "      <td>NaN</td>\n",
       "      <td>NaN</td>\n",
       "      <td>NaN</td>\n",
       "      <td>NaN</td>\n",
       "      <td>NaN</td>\n",
       "      <td>NaN</td>\n",
       "      <td>NaN</td>\n",
       "      <td>NaN</td>\n",
       "      <td>NaN</td>\n",
       "      <td>NaN</td>\n",
       "      <td>NaN</td>\n",
       "      <td>NaN</td>\n",
       "      <td>NaN</td>\n",
       "      <td>NaN</td>\n",
       "      <td>NaN</td>\n",
       "      <td>NaN</td>\n",
       "      <td>NaN</td>\n",
       "    </tr>\n",
       "    <tr>\n",
       "      <th>2022-08-01</th>\n",
       "      <td>NaN</td>\n",
       "      <td>NaN</td>\n",
       "      <td>NaN</td>\n",
       "      <td>NaN</td>\n",
       "      <td>NaN</td>\n",
       "      <td>NaN</td>\n",
       "      <td>NaN</td>\n",
       "      <td>NaN</td>\n",
       "      <td>NaN</td>\n",
       "      <td>NaN</td>\n",
       "      <td>NaN</td>\n",
       "      <td>NaN</td>\n",
       "      <td>NaN</td>\n",
       "      <td>NaN</td>\n",
       "      <td>NaN</td>\n",
       "      <td>NaN</td>\n",
       "      <td>NaN</td>\n",
       "      <td>NaN</td>\n",
       "      <td>NaN</td>\n",
       "      <td>NaN</td>\n",
       "      <td>NaN</td>\n",
       "      <td>NaN</td>\n",
       "      <td>NaN</td>\n",
       "      <td>NaN</td>\n",
       "      <td>NaN</td>\n",
       "      <td>NaN</td>\n",
       "      <td>NaN</td>\n",
       "    </tr>\n",
       "    <tr>\n",
       "      <th>2022-09-01</th>\n",
       "      <td>NaN</td>\n",
       "      <td>NaN</td>\n",
       "      <td>NaN</td>\n",
       "      <td>NaN</td>\n",
       "      <td>NaN</td>\n",
       "      <td>NaN</td>\n",
       "      <td>NaN</td>\n",
       "      <td>NaN</td>\n",
       "      <td>NaN</td>\n",
       "      <td>NaN</td>\n",
       "      <td>NaN</td>\n",
       "      <td>NaN</td>\n",
       "      <td>NaN</td>\n",
       "      <td>NaN</td>\n",
       "      <td>NaN</td>\n",
       "      <td>NaN</td>\n",
       "      <td>NaN</td>\n",
       "      <td>NaN</td>\n",
       "      <td>NaN</td>\n",
       "      <td>NaN</td>\n",
       "      <td>NaN</td>\n",
       "      <td>NaN</td>\n",
       "      <td>NaN</td>\n",
       "      <td>NaN</td>\n",
       "      <td>NaN</td>\n",
       "      <td>NaN</td>\n",
       "      <td>NaN</td>\n",
       "    </tr>\n",
       "    <tr>\n",
       "      <th>2022-10-01</th>\n",
       "      <td>NaN</td>\n",
       "      <td>NaN</td>\n",
       "      <td>NaN</td>\n",
       "      <td>NaN</td>\n",
       "      <td>NaN</td>\n",
       "      <td>NaN</td>\n",
       "      <td>NaN</td>\n",
       "      <td>NaN</td>\n",
       "      <td>NaN</td>\n",
       "      <td>NaN</td>\n",
       "      <td>NaN</td>\n",
       "      <td>NaN</td>\n",
       "      <td>NaN</td>\n",
       "      <td>NaN</td>\n",
       "      <td>NaN</td>\n",
       "      <td>NaN</td>\n",
       "      <td>NaN</td>\n",
       "      <td>NaN</td>\n",
       "      <td>NaN</td>\n",
       "      <td>NaN</td>\n",
       "      <td>NaN</td>\n",
       "      <td>NaN</td>\n",
       "      <td>NaN</td>\n",
       "      <td>NaN</td>\n",
       "      <td>NaN</td>\n",
       "      <td>NaN</td>\n",
       "      <td>NaN</td>\n",
       "    </tr>\n",
       "    <tr>\n",
       "      <th>2022-11-01</th>\n",
       "      <td>NaN</td>\n",
       "      <td>NaN</td>\n",
       "      <td>NaN</td>\n",
       "      <td>NaN</td>\n",
       "      <td>NaN</td>\n",
       "      <td>NaN</td>\n",
       "      <td>NaN</td>\n",
       "      <td>NaN</td>\n",
       "      <td>NaN</td>\n",
       "      <td>NaN</td>\n",
       "      <td>NaN</td>\n",
       "      <td>NaN</td>\n",
       "      <td>NaN</td>\n",
       "      <td>NaN</td>\n",
       "      <td>NaN</td>\n",
       "      <td>NaN</td>\n",
       "      <td>NaN</td>\n",
       "      <td>NaN</td>\n",
       "      <td>NaN</td>\n",
       "      <td>NaN</td>\n",
       "      <td>NaN</td>\n",
       "      <td>NaN</td>\n",
       "      <td>NaN</td>\n",
       "      <td>NaN</td>\n",
       "      <td>NaN</td>\n",
       "      <td>NaN</td>\n",
       "      <td>NaN</td>\n",
       "    </tr>\n",
       "    <tr>\n",
       "      <th>2022-12-01</th>\n",
       "      <td>NaN</td>\n",
       "      <td>NaN</td>\n",
       "      <td>NaN</td>\n",
       "      <td>NaN</td>\n",
       "      <td>NaN</td>\n",
       "      <td>NaN</td>\n",
       "      <td>NaN</td>\n",
       "      <td>NaN</td>\n",
       "      <td>NaN</td>\n",
       "      <td>NaN</td>\n",
       "      <td>NaN</td>\n",
       "      <td>NaN</td>\n",
       "      <td>NaN</td>\n",
       "      <td>NaN</td>\n",
       "      <td>NaN</td>\n",
       "      <td>NaN</td>\n",
       "      <td>NaN</td>\n",
       "      <td>NaN</td>\n",
       "      <td>NaN</td>\n",
       "      <td>NaN</td>\n",
       "      <td>NaN</td>\n",
       "      <td>NaN</td>\n",
       "      <td>NaN</td>\n",
       "      <td>NaN</td>\n",
       "      <td>NaN</td>\n",
       "      <td>NaN</td>\n",
       "      <td>NaN</td>\n",
       "    </tr>\n",
       "    <tr>\n",
       "      <th>2023-01-01</th>\n",
       "      <td>NaN</td>\n",
       "      <td>NaN</td>\n",
       "      <td>NaN</td>\n",
       "      <td>NaN</td>\n",
       "      <td>NaN</td>\n",
       "      <td>NaN</td>\n",
       "      <td>NaN</td>\n",
       "      <td>NaN</td>\n",
       "      <td>NaN</td>\n",
       "      <td>NaN</td>\n",
       "      <td>NaN</td>\n",
       "      <td>NaN</td>\n",
       "      <td>NaN</td>\n",
       "      <td>NaN</td>\n",
       "      <td>NaN</td>\n",
       "      <td>NaN</td>\n",
       "      <td>NaN</td>\n",
       "      <td>NaN</td>\n",
       "      <td>NaN</td>\n",
       "      <td>NaN</td>\n",
       "      <td>NaN</td>\n",
       "      <td>NaN</td>\n",
       "      <td>NaN</td>\n",
       "      <td>NaN</td>\n",
       "      <td>NaN</td>\n",
       "      <td>NaN</td>\n",
       "      <td>NaN</td>\n",
       "    </tr>\n",
       "    <tr>\n",
       "      <th>2023-02-01</th>\n",
       "      <td>NaN</td>\n",
       "      <td>NaN</td>\n",
       "      <td>NaN</td>\n",
       "      <td>NaN</td>\n",
       "      <td>NaN</td>\n",
       "      <td>NaN</td>\n",
       "      <td>NaN</td>\n",
       "      <td>NaN</td>\n",
       "      <td>NaN</td>\n",
       "      <td>NaN</td>\n",
       "      <td>NaN</td>\n",
       "      <td>NaN</td>\n",
       "      <td>NaN</td>\n",
       "      <td>NaN</td>\n",
       "      <td>NaN</td>\n",
       "      <td>NaN</td>\n",
       "      <td>NaN</td>\n",
       "      <td>NaN</td>\n",
       "      <td>NaN</td>\n",
       "      <td>NaN</td>\n",
       "      <td>NaN</td>\n",
       "      <td>NaN</td>\n",
       "      <td>NaN</td>\n",
       "      <td>NaN</td>\n",
       "      <td>NaN</td>\n",
       "      <td>NaN</td>\n",
       "      <td>NaN</td>\n",
       "    </tr>\n",
       "  </tbody>\n",
       "</table>\n",
       "</div>"
      ],
      "text/plain": [
       "            MAB_ELE_SHP840  PRI27276_org  PRO27826_org  MAB_ELE_PRO276  MAB_ELE_SHP1100  MAB_ELE_SHP392  MAB_ELE_SHP276  PRI27840_org  RohCOPPER1000_org  MAB_ELE_PRO156  MAB_ELE_PRO756  PRO27756_org  PRO27392_org  PRO28380_org  PRO28276_org  PRO28826_org  MAB_ELE_SHP250  PRO271000_org  PRO27250_org  PRO28392_org  PRO27380_org  WKLWEUR840_org  PRO27276_org  MAB_ELE_SHP380  PRO27840_org  RohCRUDE_PETRO1000_org  PRO28250_org\n",
       "Month Year                                                                                                                                                                                                                                                                                                                                                                                                                               \n",
       "2022-05-01             NaN           NaN           NaN             NaN              NaN             NaN             NaN           NaN                NaN             NaN             NaN           NaN           NaN           NaN           NaN           NaN             NaN            NaN           NaN           NaN           NaN             NaN           NaN             NaN           NaN                     NaN           NaN\n",
       "2022-06-01             NaN           NaN           NaN             NaN              NaN             NaN             NaN           NaN                NaN             NaN             NaN           NaN           NaN           NaN           NaN           NaN             NaN            NaN           NaN           NaN           NaN             NaN           NaN             NaN           NaN                     NaN           NaN\n",
       "2022-07-01             NaN           NaN           NaN             NaN              NaN             NaN             NaN           NaN                NaN             NaN             NaN           NaN           NaN           NaN           NaN           NaN             NaN            NaN           NaN           NaN           NaN             NaN           NaN             NaN           NaN                     NaN           NaN\n",
       "2022-08-01             NaN           NaN           NaN             NaN              NaN             NaN             NaN           NaN                NaN             NaN             NaN           NaN           NaN           NaN           NaN           NaN             NaN            NaN           NaN           NaN           NaN             NaN           NaN             NaN           NaN                     NaN           NaN\n",
       "2022-09-01             NaN           NaN           NaN             NaN              NaN             NaN             NaN           NaN                NaN             NaN             NaN           NaN           NaN           NaN           NaN           NaN             NaN            NaN           NaN           NaN           NaN             NaN           NaN             NaN           NaN                     NaN           NaN\n",
       "2022-10-01             NaN           NaN           NaN             NaN              NaN             NaN             NaN           NaN                NaN             NaN             NaN           NaN           NaN           NaN           NaN           NaN             NaN            NaN           NaN           NaN           NaN             NaN           NaN             NaN           NaN                     NaN           NaN\n",
       "2022-11-01             NaN           NaN           NaN             NaN              NaN             NaN             NaN           NaN                NaN             NaN             NaN           NaN           NaN           NaN           NaN           NaN             NaN            NaN           NaN           NaN           NaN             NaN           NaN             NaN           NaN                     NaN           NaN\n",
       "2022-12-01             NaN           NaN           NaN             NaN              NaN             NaN             NaN           NaN                NaN             NaN             NaN           NaN           NaN           NaN           NaN           NaN             NaN            NaN           NaN           NaN           NaN             NaN           NaN             NaN           NaN                     NaN           NaN\n",
       "2023-01-01             NaN           NaN           NaN             NaN              NaN             NaN             NaN           NaN                NaN             NaN             NaN           NaN           NaN           NaN           NaN           NaN             NaN            NaN           NaN           NaN           NaN             NaN           NaN             NaN           NaN                     NaN           NaN\n",
       "2023-02-01             NaN           NaN           NaN             NaN              NaN             NaN             NaN           NaN                NaN             NaN             NaN           NaN           NaN           NaN           NaN           NaN             NaN            NaN           NaN           NaN           NaN             NaN           NaN             NaN           NaN                     NaN           NaN"
      ]
     },
     "execution_count": 88,
     "metadata": {},
     "output_type": "execute_result"
    }
   ],
   "source": [
    "# Get unique dates from test set\n",
    "test_dates = test['Month Year'].unique()\n",
    "\n",
    "# Create DataFrame with test dates as index (named \"Month Year\")\n",
    "test_macros = pd.DataFrame(index=pd.Index(test_dates, name=\"Month Year\"),columns=combined_macros.columns)\n",
    "test_macros = test_macros.fillna(np.nan)\n",
    "test_macros.index = pd.to_datetime(test_macros.index)\n",
    "\n",
    "# Sort chronologically \n",
    "test_macros = test_macros.sort_index()\n",
    "\n",
    "print(f\"Test macros shape: {test_macros.shape}\")\n",
    "test_macros"
   ]
  },
  {
   "cell_type": "code",
   "execution_count": 89,
   "metadata": {},
   "outputs": [],
   "source": [
    "def forecast_macros(combined_macros, forecast_horizon=10, nixtla_client=None):\n",
    "\n",
    "    if nixtla_client is None:\n",
    "        raise ValueError(\"Initialized NixtlaClient is required\")\n",
    "    \n",
    "    # Prepare output DataFrame with future dates\n",
    "    last_date = pd.to_datetime(combined_macros.index[-1])\n",
    "    forecast_dates = pd.date_range(start=last_date + pd.offsets.MonthBegin(1), periods=forecast_horizon, freq='MS')\n",
    "    predictions = pd.DataFrame(index=forecast_dates, columns=combined_macros.columns)\n",
    "    \n",
    "    # Forecast each macro variable\n",
    "    for macro in combined_macros.columns:\n",
    "        print(f\"Forecasting {macro}...\")\n",
    "        \n",
    "        try:\n",
    "            # Prepare data (TimeGPT expects 'ds' and 'y' columns)\n",
    "            history = combined_macros[[macro]].reset_index()\n",
    "            history.columns = ['ds', 'y']\n",
    "\n",
    "            # forecast\n",
    "            forecast = nixtla_client.forecast(df=history, h=forecast_horizon, freq='MS', time_col='ds', target_col='y')\n",
    "            predictions[macro] = forecast['TimeGPT'].values\n",
    "            \n",
    "        except Exception as e:\n",
    "            print(f\"⚠️ Failed on {macro}: {str(e)}\")\n",
    "            predictions[macro] = np.nan\n",
    "    \n",
    "    predictions.index.name = 'Month Year'\n",
    "    return predictions"
   ]
  },
  {
   "cell_type": "raw",
   "metadata": {
    "vscode": {
     "languageId": "raw"
    }
   },
   "source": [
    "macro_predictionstest = forecast_macros(combined_macros, forecast_horizon=10,nixtla_client=nixtla_client)"
   ]
  },
  {
   "cell_type": "code",
   "execution_count": 90,
   "metadata": {},
   "outputs": [],
   "source": [
    "#macro_predictions.to_csv('macro_predictions.csv')\n",
    "macro_preds = pd.read_csv('macro_predictions.csv', index_col='Month Year', parse_dates=True)"
   ]
  },
  {
   "cell_type": "code",
   "execution_count": 91,
   "metadata": {},
   "outputs": [
    {
     "data": {
      "text/html": [
       "<div>\n",
       "<style scoped>\n",
       "    .dataframe tbody tr th:only-of-type {\n",
       "        vertical-align: middle;\n",
       "    }\n",
       "\n",
       "    .dataframe tbody tr th {\n",
       "        vertical-align: top;\n",
       "    }\n",
       "\n",
       "    .dataframe thead th {\n",
       "        text-align: right;\n",
       "    }\n",
       "</style>\n",
       "<table border=\"1\" class=\"dataframe\">\n",
       "  <thead>\n",
       "    <tr style=\"text-align: right;\">\n",
       "      <th></th>\n",
       "      <th>MAB_ELE_SHP840</th>\n",
       "      <th>PRI27276_org</th>\n",
       "      <th>PRO27826_org</th>\n",
       "      <th>MAB_ELE_PRO276</th>\n",
       "      <th>MAB_ELE_SHP1100</th>\n",
       "      <th>MAB_ELE_SHP392</th>\n",
       "      <th>MAB_ELE_SHP276</th>\n",
       "      <th>PRI27840_org</th>\n",
       "      <th>RohCOPPER1000_org</th>\n",
       "      <th>MAB_ELE_PRO156</th>\n",
       "      <th>MAB_ELE_PRO756</th>\n",
       "      <th>PRO27756_org</th>\n",
       "      <th>PRO27392_org</th>\n",
       "      <th>PRO28380_org</th>\n",
       "      <th>PRO28276_org</th>\n",
       "      <th>PRO28826_org</th>\n",
       "      <th>MAB_ELE_SHP250</th>\n",
       "      <th>PRO271000_org</th>\n",
       "      <th>PRO27250_org</th>\n",
       "      <th>PRO28392_org</th>\n",
       "      <th>PRO27380_org</th>\n",
       "      <th>WKLWEUR840_org</th>\n",
       "      <th>PRO27276_org</th>\n",
       "      <th>MAB_ELE_SHP380</th>\n",
       "      <th>PRO27840_org</th>\n",
       "      <th>RohCRUDE_PETRO1000_org</th>\n",
       "      <th>PRO28250_org</th>\n",
       "    </tr>\n",
       "    <tr>\n",
       "      <th>Month Year</th>\n",
       "      <th></th>\n",
       "      <th></th>\n",
       "      <th></th>\n",
       "      <th></th>\n",
       "      <th></th>\n",
       "      <th></th>\n",
       "      <th></th>\n",
       "      <th></th>\n",
       "      <th></th>\n",
       "      <th></th>\n",
       "      <th></th>\n",
       "      <th></th>\n",
       "      <th></th>\n",
       "      <th></th>\n",
       "      <th></th>\n",
       "      <th></th>\n",
       "      <th></th>\n",
       "      <th></th>\n",
       "      <th></th>\n",
       "      <th></th>\n",
       "      <th></th>\n",
       "      <th></th>\n",
       "      <th></th>\n",
       "      <th></th>\n",
       "      <th></th>\n",
       "      <th></th>\n",
       "      <th></th>\n",
       "    </tr>\n",
       "  </thead>\n",
       "  <tbody>\n",
       "    <tr>\n",
       "      <th>2022-05-01</th>\n",
       "      <td>159.8134</td>\n",
       "      <td>122.3341</td>\n",
       "      <td>115.9040</td>\n",
       "      <td>101.2446</td>\n",
       "      <td>134.5055</td>\n",
       "      <td>114.4035</td>\n",
       "      <td>129.8432</td>\n",
       "      <td>139.9015</td>\n",
       "      <td>140.0734</td>\n",
       "      <td>283.1652</td>\n",
       "      <td>96.9175</td>\n",
       "      <td>93.8987</td>\n",
       "      <td>99.8816</td>\n",
       "      <td>112.4203</td>\n",
       "      <td>101.3997</td>\n",
       "      <td>88.7580</td>\n",
       "      <td>110.5841</td>\n",
       "      <td>132.7095</td>\n",
       "      <td>77.7203</td>\n",
       "      <td>118.6531</td>\n",
       "      <td>86.0224</td>\n",
       "      <td>1.0736</td>\n",
       "      <td>102.3751</td>\n",
       "      <td>129.5264</td>\n",
       "      <td>112.9188</td>\n",
       "      <td>135.8693</td>\n",
       "      <td>92.2586</td>\n",
       "    </tr>\n",
       "    <tr>\n",
       "      <th>2022-06-01</th>\n",
       "      <td>173.6270</td>\n",
       "      <td>122.9719</td>\n",
       "      <td>125.3562</td>\n",
       "      <td>113.2584</td>\n",
       "      <td>153.1603</td>\n",
       "      <td>132.9693</td>\n",
       "      <td>145.7785</td>\n",
       "      <td>141.4168</td>\n",
       "      <td>140.2763</td>\n",
       "      <td>307.8518</td>\n",
       "      <td>96.2652</td>\n",
       "      <td>90.7787</td>\n",
       "      <td>115.7264</td>\n",
       "      <td>121.0243</td>\n",
       "      <td>116.7264</td>\n",
       "      <td>98.7261</td>\n",
       "      <td>136.3268</td>\n",
       "      <td>142.1336</td>\n",
       "      <td>91.9900</td>\n",
       "      <td>136.6734</td>\n",
       "      <td>92.8159</td>\n",
       "      <td>1.0716</td>\n",
       "      <td>107.6265</td>\n",
       "      <td>147.4014</td>\n",
       "      <td>112.9100</td>\n",
       "      <td>141.2402</td>\n",
       "      <td>111.3546</td>\n",
       "    </tr>\n",
       "    <tr>\n",
       "      <th>2022-07-01</th>\n",
       "      <td>159.8994</td>\n",
       "      <td>123.6769</td>\n",
       "      <td>123.8094</td>\n",
       "      <td>109.8021</td>\n",
       "      <td>141.9189</td>\n",
       "      <td>127.0304</td>\n",
       "      <td>140.1388</td>\n",
       "      <td>142.8848</td>\n",
       "      <td>141.9527</td>\n",
       "      <td>269.5245</td>\n",
       "      <td>99.1147</td>\n",
       "      <td>95.5829</td>\n",
       "      <td>110.5113</td>\n",
       "      <td>121.1212</td>\n",
       "      <td>111.4507</td>\n",
       "      <td>93.4788</td>\n",
       "      <td>113.9221</td>\n",
       "      <td>138.8142</td>\n",
       "      <td>84.7953</td>\n",
       "      <td>130.1510</td>\n",
       "      <td>91.9484</td>\n",
       "      <td>1.0690</td>\n",
       "      <td>107.0694</td>\n",
       "      <td>144.1310</td>\n",
       "      <td>113.3063</td>\n",
       "      <td>145.0944</td>\n",
       "      <td>102.3235</td>\n",
       "    </tr>\n",
       "    <tr>\n",
       "      <th>2022-08-01</th>\n",
       "      <td>166.3691</td>\n",
       "      <td>124.1967</td>\n",
       "      <td>122.5133</td>\n",
       "      <td>101.2170</td>\n",
       "      <td>126.8985</td>\n",
       "      <td>117.5288</td>\n",
       "      <td>129.8402</td>\n",
       "      <td>143.8159</td>\n",
       "      <td>141.9732</td>\n",
       "      <td>257.5743</td>\n",
       "      <td>102.3551</td>\n",
       "      <td>101.4852</td>\n",
       "      <td>95.5346</td>\n",
       "      <td>75.0991</td>\n",
       "      <td>101.0217</td>\n",
       "      <td>89.5251</td>\n",
       "      <td>104.7270</td>\n",
       "      <td>132.1480</td>\n",
       "      <td>66.3808</td>\n",
       "      <td>120.9310</td>\n",
       "      <td>57.2111</td>\n",
       "      <td>1.0685</td>\n",
       "      <td>103.4843</td>\n",
       "      <td>104.9816</td>\n",
       "      <td>114.0220</td>\n",
       "      <td>146.4789</td>\n",
       "      <td>72.9638</td>\n",
       "    </tr>\n",
       "    <tr>\n",
       "      <th>2022-09-01</th>\n",
       "      <td>171.0225</td>\n",
       "      <td>124.5127</td>\n",
       "      <td>130.8887</td>\n",
       "      <td>113.9225</td>\n",
       "      <td>152.2086</td>\n",
       "      <td>132.5392</td>\n",
       "      <td>147.7511</td>\n",
       "      <td>145.0316</td>\n",
       "      <td>142.4949</td>\n",
       "      <td>265.2198</td>\n",
       "      <td>104.7845</td>\n",
       "      <td>106.8750</td>\n",
       "      <td>112.9201</td>\n",
       "      <td>122.8645</td>\n",
       "      <td>115.4725</td>\n",
       "      <td>98.7456</td>\n",
       "      <td>125.4079</td>\n",
       "      <td>145.8849</td>\n",
       "      <td>91.9670</td>\n",
       "      <td>136.9477</td>\n",
       "      <td>97.7606</td>\n",
       "      <td>1.0653</td>\n",
       "      <td>110.3740</td>\n",
       "      <td>146.2103</td>\n",
       "      <td>113.4420</td>\n",
       "      <td>147.0982</td>\n",
       "      <td>108.4830</td>\n",
       "    </tr>\n",
       "    <tr>\n",
       "      <th>2022-10-01</th>\n",
       "      <td>165.1973</td>\n",
       "      <td>124.9870</td>\n",
       "      <td>125.7549</td>\n",
       "      <td>111.7053</td>\n",
       "      <td>149.1204</td>\n",
       "      <td>127.1631</td>\n",
       "      <td>142.2516</td>\n",
       "      <td>146.3284</td>\n",
       "      <td>144.2400</td>\n",
       "      <td>278.9898</td>\n",
       "      <td>106.9761</td>\n",
       "      <td>111.6346</td>\n",
       "      <td>108.5995</td>\n",
       "      <td>122.8734</td>\n",
       "      <td>112.5937</td>\n",
       "      <td>94.5848</td>\n",
       "      <td>125.1931</td>\n",
       "      <td>144.6288</td>\n",
       "      <td>91.7211</td>\n",
       "      <td>133.1175</td>\n",
       "      <td>96.1748</td>\n",
       "      <td>1.0608</td>\n",
       "      <td>109.3358</td>\n",
       "      <td>147.5842</td>\n",
       "      <td>115.5943</td>\n",
       "      <td>150.0592</td>\n",
       "      <td>107.0753</td>\n",
       "    </tr>\n",
       "    <tr>\n",
       "      <th>2022-11-01</th>\n",
       "      <td>158.8748</td>\n",
       "      <td>125.1497</td>\n",
       "      <td>130.2161</td>\n",
       "      <td>116.2251</td>\n",
       "      <td>155.0913</td>\n",
       "      <td>131.9138</td>\n",
       "      <td>148.9787</td>\n",
       "      <td>147.4518</td>\n",
       "      <td>144.7244</td>\n",
       "      <td>291.4109</td>\n",
       "      <td>108.7037</td>\n",
       "      <td>114.7831</td>\n",
       "      <td>110.3707</td>\n",
       "      <td>120.8869</td>\n",
       "      <td>119.3199</td>\n",
       "      <td>98.8176</td>\n",
       "      <td>128.0164</td>\n",
       "      <td>146.1588</td>\n",
       "      <td>89.9914</td>\n",
       "      <td>138.3113</td>\n",
       "      <td>92.9822</td>\n",
       "      <td>1.0576</td>\n",
       "      <td>110.6498</td>\n",
       "      <td>149.3881</td>\n",
       "      <td>115.5804</td>\n",
       "      <td>151.3860</td>\n",
       "      <td>104.1748</td>\n",
       "    </tr>\n",
       "    <tr>\n",
       "      <th>2022-12-01</th>\n",
       "      <td>167.0725</td>\n",
       "      <td>125.5513</td>\n",
       "      <td>124.3347</td>\n",
       "      <td>116.4987</td>\n",
       "      <td>159.5794</td>\n",
       "      <td>136.6096</td>\n",
       "      <td>152.8668</td>\n",
       "      <td>148.1660</td>\n",
       "      <td>146.2719</td>\n",
       "      <td>301.0567</td>\n",
       "      <td>109.8227</td>\n",
       "      <td>118.0444</td>\n",
       "      <td>114.6863</td>\n",
       "      <td>110.1409</td>\n",
       "      <td>124.2850</td>\n",
       "      <td>96.0815</td>\n",
       "      <td>133.9264</td>\n",
       "      <td>139.9869</td>\n",
       "      <td>84.2375</td>\n",
       "      <td>142.4281</td>\n",
       "      <td>81.2518</td>\n",
       "      <td>1.0583</td>\n",
       "      <td>101.9211</td>\n",
       "      <td>158.6928</td>\n",
       "      <td>114.2411</td>\n",
       "      <td>151.8687</td>\n",
       "      <td>108.9752</td>\n",
       "    </tr>\n",
       "    <tr>\n",
       "      <th>2023-01-01</th>\n",
       "      <td>151.9106</td>\n",
       "      <td>125.8922</td>\n",
       "      <td>121.0189</td>\n",
       "      <td>98.9604</td>\n",
       "      <td>130.6706</td>\n",
       "      <td>122.2128</td>\n",
       "      <td>128.0293</td>\n",
       "      <td>148.8286</td>\n",
       "      <td>147.2713</td>\n",
       "      <td>237.1610</td>\n",
       "      <td>107.0766</td>\n",
       "      <td>113.0140</td>\n",
       "      <td>103.1821</td>\n",
       "      <td>102.6021</td>\n",
       "      <td>96.4502</td>\n",
       "      <td>90.3143</td>\n",
       "      <td>112.2637</td>\n",
       "      <td>129.8708</td>\n",
       "      <td>81.0084</td>\n",
       "      <td>127.9608</td>\n",
       "      <td>83.8557</td>\n",
       "      <td>1.0591</td>\n",
       "      <td>102.5711</td>\n",
       "      <td>115.7837</td>\n",
       "      <td>115.5560</td>\n",
       "      <td>158.1927</td>\n",
       "      <td>91.7178</td>\n",
       "    </tr>\n",
       "    <tr>\n",
       "      <th>2023-02-01</th>\n",
       "      <td>159.0795</td>\n",
       "      <td>126.1269</td>\n",
       "      <td>122.6496</td>\n",
       "      <td>105.8861</td>\n",
       "      <td>140.4617</td>\n",
       "      <td>128.0071</td>\n",
       "      <td>136.0777</td>\n",
       "      <td>149.3251</td>\n",
       "      <td>148.5520</td>\n",
       "      <td>231.0398</td>\n",
       "      <td>104.8310</td>\n",
       "      <td>108.5793</td>\n",
       "      <td>106.8564</td>\n",
       "      <td>108.6863</td>\n",
       "      <td>104.6236</td>\n",
       "      <td>91.2331</td>\n",
       "      <td>120.1080</td>\n",
       "      <td>131.3341</td>\n",
       "      <td>79.4280</td>\n",
       "      <td>134.4960</td>\n",
       "      <td>85.3908</td>\n",
       "      <td>1.0613</td>\n",
       "      <td>106.3702</td>\n",
       "      <td>130.2779</td>\n",
       "      <td>115.8004</td>\n",
       "      <td>162.5496</td>\n",
       "      <td>93.2339</td>\n",
       "    </tr>\n",
       "  </tbody>\n",
       "</table>\n",
       "</div>"
      ],
      "text/plain": [
       "            MAB_ELE_SHP840  PRI27276_org  PRO27826_org  MAB_ELE_PRO276  MAB_ELE_SHP1100  MAB_ELE_SHP392  MAB_ELE_SHP276  PRI27840_org  RohCOPPER1000_org  MAB_ELE_PRO156  MAB_ELE_PRO756  PRO27756_org  PRO27392_org  PRO28380_org  PRO28276_org  PRO28826_org  MAB_ELE_SHP250  PRO271000_org  PRO27250_org  PRO28392_org  PRO27380_org  WKLWEUR840_org  PRO27276_org  MAB_ELE_SHP380  PRO27840_org  RohCRUDE_PETRO1000_org  PRO28250_org\n",
       "Month Year                                                                                                                                                                                                                                                                                                                                                                                                                               \n",
       "2022-05-01        159.8134      122.3341      115.9040        101.2446         134.5055        114.4035        129.8432      139.9015           140.0734        283.1652         96.9175       93.8987       99.8816      112.4203      101.3997       88.7580        110.5841       132.7095       77.7203      118.6531       86.0224          1.0736      102.3751        129.5264      112.9188                135.8693       92.2586\n",
       "2022-06-01        173.6270      122.9719      125.3562        113.2584         153.1603        132.9693        145.7785      141.4168           140.2763        307.8518         96.2652       90.7787      115.7264      121.0243      116.7264       98.7261        136.3268       142.1336       91.9900      136.6734       92.8159          1.0716      107.6265        147.4014      112.9100                141.2402      111.3546\n",
       "2022-07-01        159.8994      123.6769      123.8094        109.8021         141.9189        127.0304        140.1388      142.8848           141.9527        269.5245         99.1147       95.5829      110.5113      121.1212      111.4507       93.4788        113.9221       138.8142       84.7953      130.1510       91.9484          1.0690      107.0694        144.1310      113.3063                145.0944      102.3235\n",
       "2022-08-01        166.3691      124.1967      122.5133        101.2170         126.8985        117.5288        129.8402      143.8159           141.9732        257.5743        102.3551      101.4852       95.5346       75.0991      101.0217       89.5251        104.7270       132.1480       66.3808      120.9310       57.2111          1.0685      103.4843        104.9816      114.0220                146.4789       72.9638\n",
       "2022-09-01        171.0225      124.5127      130.8887        113.9225         152.2086        132.5392        147.7511      145.0316           142.4949        265.2198        104.7845      106.8750      112.9201      122.8645      115.4725       98.7456        125.4079       145.8849       91.9670      136.9477       97.7606          1.0653      110.3740        146.2103      113.4420                147.0982      108.4830\n",
       "2022-10-01        165.1973      124.9870      125.7549        111.7053         149.1204        127.1631        142.2516      146.3284           144.2400        278.9898        106.9761      111.6346      108.5995      122.8734      112.5937       94.5848        125.1931       144.6288       91.7211      133.1175       96.1748          1.0608      109.3358        147.5842      115.5943                150.0592      107.0753\n",
       "2022-11-01        158.8748      125.1497      130.2161        116.2251         155.0913        131.9138        148.9787      147.4518           144.7244        291.4109        108.7037      114.7831      110.3707      120.8869      119.3199       98.8176        128.0164       146.1588       89.9914      138.3113       92.9822          1.0576      110.6498        149.3881      115.5804                151.3860      104.1748\n",
       "2022-12-01        167.0725      125.5513      124.3347        116.4987         159.5794        136.6096        152.8668      148.1660           146.2719        301.0567        109.8227      118.0444      114.6863      110.1409      124.2850       96.0815        133.9264       139.9869       84.2375      142.4281       81.2518          1.0583      101.9211        158.6928      114.2411                151.8687      108.9752\n",
       "2023-01-01        151.9106      125.8922      121.0189         98.9604         130.6706        122.2128        128.0293      148.8286           147.2713        237.1610        107.0766      113.0140      103.1821      102.6021       96.4502       90.3143        112.2637       129.8708       81.0084      127.9608       83.8557          1.0591      102.5711        115.7837      115.5560                158.1927       91.7178\n",
       "2023-02-01        159.0795      126.1269      122.6496        105.8861         140.4617        128.0071        136.0777      149.3251           148.5520        231.0398        104.8310      108.5793      106.8564      108.6863      104.6236       91.2331        120.1080       131.3341       79.4280      134.4960       85.3908          1.0613      106.3702        130.2779      115.8004                162.5496       93.2339"
      ]
     },
     "execution_count": 91,
     "metadata": {},
     "output_type": "execute_result"
    }
   ],
   "source": [
    "macro_preds"
   ]
  },
  {
   "cell_type": "code",
   "execution_count": 92,
   "metadata": {},
   "outputs": [
    {
     "name": "stdout",
     "output_type": "stream",
     "text": [
      "Shape: (10, 27)\n",
      "Total NaN values: 0\n"
     ]
    }
   ],
   "source": [
    "print(f\"Shape: {macro_preds.shape}\")\n",
    "print(f\"Total NaN values: {macro_preds.isna().sum().sum()}\")"
   ]
  },
  {
   "cell_type": "markdown",
   "metadata": {},
   "source": [
    "#### <span style=\"background-color:#000027; padding:5px; border-radius:5px;\">**5. Final Modeling**</span> <a id='final'></a>  \n",
    "\n",
    "Click [here](#table-of-contents) ⬆️ to return to the Index.\n"
   ]
  },
  {
   "cell_type": "code",
   "execution_count": 93,
   "metadata": {},
   "outputs": [],
   "source": [
    "def create_time_series_features(df, lags):\n",
    "    df = df.copy()\n",
    "    df.index = pd.to_datetime(df.index)  # Ensure datetime index\n",
    "    df[\"time_idx\"] = np.arange(len(df))  # Create a simple trend feature\n",
    "\n",
    "    # Extract basic time-based features\n",
    "    df[\"year\"] = df.index.year\n",
    "    df[\"month\"] = df.index.month\n",
    "\n",
    "    # Create a dictionary to store new features for better performance\n",
    "    new_features = {}\n",
    "\n",
    "    for col in df.columns:  \n",
    "        if col.startswith(\"Sales\"):  # Only apply to product sales columns\n",
    "            # Lag features\n",
    "            for lag in lags:\n",
    "                new_features[f\"{col}_lag_{lag}\"] = df[col].shift(lag)\n",
    "            \n",
    "            # Moving Average Features\n",
    "            for window in lags:\n",
    "                new_features[f\"{col}_ma_{window}\"] = df[col].rolling(window=window).mean()\n",
    "\n",
    "    # Concatenate new features to the original DataFrame\n",
    "    df = pd.concat([df, pd.DataFrame(new_features)], axis=1)\n",
    "    \n",
    "    # Drop NaNs from lag-based features (Optional, depending on your use case)\n",
    "    df = df.dropna()\n",
    "    \n",
    "    return df"
   ]
  },
  {
   "cell_type": "markdown",
   "metadata": {},
   "source": [
    "##### <span style=\"background-color:#000027; padding:5px; border-radius:5px;font-size:13pt\">**5.1. P1: ARIMA  ['PRI27276_org', 'PRO27826_org', 'MAB_ELE_PRO276', 'MAB_ELE_SHP1100']**</span> <a id='p1'></a> "
   ]
  },
  {
   "cell_type": "code",
   "execution_count": 94,
   "metadata": {},
   "outputs": [],
   "source": [
    "test_index = pd.date_range(start=\"2022-05-01\", periods=10, freq=\"MS\")"
   ]
  },
  {
   "cell_type": "code",
   "execution_count": 107,
   "metadata": {},
   "outputs": [
    {
     "data": {
      "text/html": [
       "<div>\n",
       "<style scoped>\n",
       "    .dataframe tbody tr th:only-of-type {\n",
       "        vertical-align: middle;\n",
       "    }\n",
       "\n",
       "    .dataframe tbody tr th {\n",
       "        vertical-align: top;\n",
       "    }\n",
       "\n",
       "    .dataframe thead th {\n",
       "        text-align: right;\n",
       "    }\n",
       "</style>\n",
       "<table border=\"1\" class=\"dataframe\">\n",
       "  <thead>\n",
       "    <tr style=\"text-align: right;\">\n",
       "      <th></th>\n",
       "      <th>Sales</th>\n",
       "      <th>PRI27276_org</th>\n",
       "      <th>PRO27826_org</th>\n",
       "      <th>MAB_ELE_PRO276</th>\n",
       "      <th>MAB_ELE_SHP1100</th>\n",
       "    </tr>\n",
       "    <tr>\n",
       "      <th>Month Year</th>\n",
       "      <th></th>\n",
       "      <th></th>\n",
       "      <th></th>\n",
       "      <th></th>\n",
       "      <th></th>\n",
       "    </tr>\n",
       "  </thead>\n",
       "  <tbody>\n",
       "    <tr>\n",
       "      <th>2022-05-01</th>\n",
       "      <td>NaN</td>\n",
       "      <td>NaN</td>\n",
       "      <td>NaN</td>\n",
       "      <td>NaN</td>\n",
       "      <td>NaN</td>\n",
       "    </tr>\n",
       "    <tr>\n",
       "      <th>2022-06-01</th>\n",
       "      <td>NaN</td>\n",
       "      <td>NaN</td>\n",
       "      <td>NaN</td>\n",
       "      <td>NaN</td>\n",
       "      <td>NaN</td>\n",
       "    </tr>\n",
       "    <tr>\n",
       "      <th>2022-07-01</th>\n",
       "      <td>NaN</td>\n",
       "      <td>NaN</td>\n",
       "      <td>NaN</td>\n",
       "      <td>NaN</td>\n",
       "      <td>NaN</td>\n",
       "    </tr>\n",
       "    <tr>\n",
       "      <th>2022-08-01</th>\n",
       "      <td>NaN</td>\n",
       "      <td>NaN</td>\n",
       "      <td>NaN</td>\n",
       "      <td>NaN</td>\n",
       "      <td>NaN</td>\n",
       "    </tr>\n",
       "    <tr>\n",
       "      <th>2022-09-01</th>\n",
       "      <td>NaN</td>\n",
       "      <td>NaN</td>\n",
       "      <td>NaN</td>\n",
       "      <td>NaN</td>\n",
       "      <td>NaN</td>\n",
       "    </tr>\n",
       "    <tr>\n",
       "      <th>2022-10-01</th>\n",
       "      <td>NaN</td>\n",
       "      <td>NaN</td>\n",
       "      <td>NaN</td>\n",
       "      <td>NaN</td>\n",
       "      <td>NaN</td>\n",
       "    </tr>\n",
       "    <tr>\n",
       "      <th>2022-11-01</th>\n",
       "      <td>NaN</td>\n",
       "      <td>NaN</td>\n",
       "      <td>NaN</td>\n",
       "      <td>NaN</td>\n",
       "      <td>NaN</td>\n",
       "    </tr>\n",
       "    <tr>\n",
       "      <th>2022-12-01</th>\n",
       "      <td>NaN</td>\n",
       "      <td>NaN</td>\n",
       "      <td>NaN</td>\n",
       "      <td>NaN</td>\n",
       "      <td>NaN</td>\n",
       "    </tr>\n",
       "    <tr>\n",
       "      <th>2023-01-01</th>\n",
       "      <td>NaN</td>\n",
       "      <td>NaN</td>\n",
       "      <td>NaN</td>\n",
       "      <td>NaN</td>\n",
       "      <td>NaN</td>\n",
       "    </tr>\n",
       "    <tr>\n",
       "      <th>2023-02-01</th>\n",
       "      <td>NaN</td>\n",
       "      <td>NaN</td>\n",
       "      <td>NaN</td>\n",
       "      <td>NaN</td>\n",
       "      <td>NaN</td>\n",
       "    </tr>\n",
       "  </tbody>\n",
       "</table>\n",
       "</div>"
      ],
      "text/plain": [
       "           Sales PRI27276_org PRO27826_org MAB_ELE_PRO276 MAB_ELE_SHP1100\n",
       "Month Year                                                               \n",
       "2022-05-01   NaN          NaN          NaN            NaN             NaN\n",
       "2022-06-01   NaN          NaN          NaN            NaN             NaN\n",
       "2022-07-01   NaN          NaN          NaN            NaN             NaN\n",
       "2022-08-01   NaN          NaN          NaN            NaN             NaN\n",
       "2022-09-01   NaN          NaN          NaN            NaN             NaN\n",
       "2022-10-01   NaN          NaN          NaN            NaN             NaN\n",
       "2022-11-01   NaN          NaN          NaN            NaN             NaN\n",
       "2022-12-01   NaN          NaN          NaN            NaN             NaN\n",
       "2023-01-01   NaN          NaN          NaN            NaN             NaN\n",
       "2023-02-01   NaN          NaN          NaN            NaN             NaN"
      ]
     },
     "execution_count": 107,
     "metadata": {},
     "output_type": "execute_result"
    }
   ],
   "source": [
    "test_1 = pd.DataFrame(index=test[test['Mapped_GCK'] == '1']['Month Year'], columns=product_dfs['P1'][['Sales','PRI27276_org', 'PRO27826_org', 'MAB_ELE_PRO276', 'MAB_ELE_SHP1100']].columns) #we need the lags\n",
    "test_1"
   ]
  },
  {
   "cell_type": "code",
   "execution_count": 108,
   "metadata": {},
   "outputs": [
    {
     "data": {
      "text/html": [
       "<div>\n",
       "<style scoped>\n",
       "    .dataframe tbody tr th:only-of-type {\n",
       "        vertical-align: middle;\n",
       "    }\n",
       "\n",
       "    .dataframe tbody tr th {\n",
       "        vertical-align: top;\n",
       "    }\n",
       "\n",
       "    .dataframe thead th {\n",
       "        text-align: right;\n",
       "    }\n",
       "</style>\n",
       "<table border=\"1\" class=\"dataframe\">\n",
       "  <thead>\n",
       "    <tr style=\"text-align: right;\">\n",
       "      <th></th>\n",
       "      <th>PRI27276_org</th>\n",
       "      <th>PRO27826_org</th>\n",
       "      <th>MAB_ELE_PRO276</th>\n",
       "      <th>MAB_ELE_SHP1100</th>\n",
       "    </tr>\n",
       "    <tr>\n",
       "      <th>Month Year</th>\n",
       "      <th></th>\n",
       "      <th></th>\n",
       "      <th></th>\n",
       "      <th></th>\n",
       "    </tr>\n",
       "  </thead>\n",
       "  <tbody>\n",
       "    <tr>\n",
       "      <th>2022-05-01</th>\n",
       "      <td>122.3341</td>\n",
       "      <td>115.9040</td>\n",
       "      <td>101.2446</td>\n",
       "      <td>134.5055</td>\n",
       "    </tr>\n",
       "    <tr>\n",
       "      <th>2022-06-01</th>\n",
       "      <td>122.9719</td>\n",
       "      <td>125.3562</td>\n",
       "      <td>113.2584</td>\n",
       "      <td>153.1603</td>\n",
       "    </tr>\n",
       "    <tr>\n",
       "      <th>2022-07-01</th>\n",
       "      <td>123.6769</td>\n",
       "      <td>123.8094</td>\n",
       "      <td>109.8021</td>\n",
       "      <td>141.9189</td>\n",
       "    </tr>\n",
       "    <tr>\n",
       "      <th>2022-08-01</th>\n",
       "      <td>124.1967</td>\n",
       "      <td>122.5133</td>\n",
       "      <td>101.2170</td>\n",
       "      <td>126.8985</td>\n",
       "    </tr>\n",
       "    <tr>\n",
       "      <th>2022-09-01</th>\n",
       "      <td>124.5127</td>\n",
       "      <td>130.8887</td>\n",
       "      <td>113.9225</td>\n",
       "      <td>152.2086</td>\n",
       "    </tr>\n",
       "    <tr>\n",
       "      <th>2022-10-01</th>\n",
       "      <td>124.9870</td>\n",
       "      <td>125.7549</td>\n",
       "      <td>111.7053</td>\n",
       "      <td>149.1204</td>\n",
       "    </tr>\n",
       "    <tr>\n",
       "      <th>2022-11-01</th>\n",
       "      <td>125.1497</td>\n",
       "      <td>130.2161</td>\n",
       "      <td>116.2251</td>\n",
       "      <td>155.0913</td>\n",
       "    </tr>\n",
       "    <tr>\n",
       "      <th>2022-12-01</th>\n",
       "      <td>125.5513</td>\n",
       "      <td>124.3347</td>\n",
       "      <td>116.4987</td>\n",
       "      <td>159.5794</td>\n",
       "    </tr>\n",
       "    <tr>\n",
       "      <th>2023-01-01</th>\n",
       "      <td>125.8922</td>\n",
       "      <td>121.0189</td>\n",
       "      <td>98.9604</td>\n",
       "      <td>130.6706</td>\n",
       "    </tr>\n",
       "    <tr>\n",
       "      <th>2023-02-01</th>\n",
       "      <td>126.1269</td>\n",
       "      <td>122.6496</td>\n",
       "      <td>105.8861</td>\n",
       "      <td>140.4617</td>\n",
       "    </tr>\n",
       "  </tbody>\n",
       "</table>\n",
       "</div>"
      ],
      "text/plain": [
       "            PRI27276_org  PRO27826_org  MAB_ELE_PRO276  MAB_ELE_SHP1100\n",
       "Month Year                                                             \n",
       "2022-05-01      122.3341      115.9040        101.2446         134.5055\n",
       "2022-06-01      122.9719      125.3562        113.2584         153.1603\n",
       "2022-07-01      123.6769      123.8094        109.8021         141.9189\n",
       "2022-08-01      124.1967      122.5133        101.2170         126.8985\n",
       "2022-09-01      124.5127      130.8887        113.9225         152.2086\n",
       "2022-10-01      124.9870      125.7549        111.7053         149.1204\n",
       "2022-11-01      125.1497      130.2161        116.2251         155.0913\n",
       "2022-12-01      125.5513      124.3347        116.4987         159.5794\n",
       "2023-01-01      125.8922      121.0189         98.9604         130.6706\n",
       "2023-02-01      126.1269      122.6496        105.8861         140.4617"
      ]
     },
     "execution_count": 108,
     "metadata": {},
     "output_type": "execute_result"
    }
   ],
   "source": [
    "macro_preds[['PRI27276_org', 'PRO27826_org', 'MAB_ELE_PRO276', 'MAB_ELE_SHP1100']]"
   ]
  },
  {
   "cell_type": "code",
   "execution_count": 109,
   "metadata": {},
   "outputs": [],
   "source": [
    "test_1 = test_1.merge(macro_preds[['PRI27276_org', 'PRO27826_org', 'MAB_ELE_PRO276', 'MAB_ELE_SHP1100']], \n",
    "                       left_index=True, \n",
    "                       right_index=True, \n",
    "                       how='left')\n",
    "test_1 = test_1[['Sales', 'PRI27276_org_y', 'PRO27826_org_y', 'MAB_ELE_PRO276_y', 'MAB_ELE_SHP1100_y']]\n",
    "test_1.columns = ['Sales','PRI27276_org', 'PRO27826_org', 'MAB_ELE_PRO276', 'MAB_ELE_SHP1100'] "
   ]
  },
  {
   "cell_type": "code",
   "execution_count": 110,
   "metadata": {},
   "outputs": [
    {
     "data": {
      "text/html": [
       "<div>\n",
       "<style scoped>\n",
       "    .dataframe tbody tr th:only-of-type {\n",
       "        vertical-align: middle;\n",
       "    }\n",
       "\n",
       "    .dataframe tbody tr th {\n",
       "        vertical-align: top;\n",
       "    }\n",
       "\n",
       "    .dataframe thead th {\n",
       "        text-align: right;\n",
       "    }\n",
       "</style>\n",
       "<table border=\"1\" class=\"dataframe\">\n",
       "  <thead>\n",
       "    <tr style=\"text-align: right;\">\n",
       "      <th></th>\n",
       "      <th>Sales</th>\n",
       "      <th>PRI27276_org</th>\n",
       "      <th>PRO27826_org</th>\n",
       "      <th>MAB_ELE_PRO276</th>\n",
       "      <th>MAB_ELE_SHP1100</th>\n",
       "    </tr>\n",
       "    <tr>\n",
       "      <th>Month Year</th>\n",
       "      <th></th>\n",
       "      <th></th>\n",
       "      <th></th>\n",
       "      <th></th>\n",
       "      <th></th>\n",
       "    </tr>\n",
       "  </thead>\n",
       "  <tbody>\n",
       "    <tr>\n",
       "      <th>2022-05-01</th>\n",
       "      <td>NaN</td>\n",
       "      <td>122.3341</td>\n",
       "      <td>115.9040</td>\n",
       "      <td>101.2446</td>\n",
       "      <td>134.5055</td>\n",
       "    </tr>\n",
       "    <tr>\n",
       "      <th>2022-06-01</th>\n",
       "      <td>NaN</td>\n",
       "      <td>122.9719</td>\n",
       "      <td>125.3562</td>\n",
       "      <td>113.2584</td>\n",
       "      <td>153.1603</td>\n",
       "    </tr>\n",
       "    <tr>\n",
       "      <th>2022-07-01</th>\n",
       "      <td>NaN</td>\n",
       "      <td>123.6769</td>\n",
       "      <td>123.8094</td>\n",
       "      <td>109.8021</td>\n",
       "      <td>141.9189</td>\n",
       "    </tr>\n",
       "    <tr>\n",
       "      <th>2022-08-01</th>\n",
       "      <td>NaN</td>\n",
       "      <td>124.1967</td>\n",
       "      <td>122.5133</td>\n",
       "      <td>101.2170</td>\n",
       "      <td>126.8985</td>\n",
       "    </tr>\n",
       "    <tr>\n",
       "      <th>2022-09-01</th>\n",
       "      <td>NaN</td>\n",
       "      <td>124.5127</td>\n",
       "      <td>130.8887</td>\n",
       "      <td>113.9225</td>\n",
       "      <td>152.2086</td>\n",
       "    </tr>\n",
       "    <tr>\n",
       "      <th>2022-10-01</th>\n",
       "      <td>NaN</td>\n",
       "      <td>124.9870</td>\n",
       "      <td>125.7549</td>\n",
       "      <td>111.7053</td>\n",
       "      <td>149.1204</td>\n",
       "    </tr>\n",
       "    <tr>\n",
       "      <th>2022-11-01</th>\n",
       "      <td>NaN</td>\n",
       "      <td>125.1497</td>\n",
       "      <td>130.2161</td>\n",
       "      <td>116.2251</td>\n",
       "      <td>155.0913</td>\n",
       "    </tr>\n",
       "    <tr>\n",
       "      <th>2022-12-01</th>\n",
       "      <td>NaN</td>\n",
       "      <td>125.5513</td>\n",
       "      <td>124.3347</td>\n",
       "      <td>116.4987</td>\n",
       "      <td>159.5794</td>\n",
       "    </tr>\n",
       "    <tr>\n",
       "      <th>2023-01-01</th>\n",
       "      <td>NaN</td>\n",
       "      <td>125.8922</td>\n",
       "      <td>121.0189</td>\n",
       "      <td>98.9604</td>\n",
       "      <td>130.6706</td>\n",
       "    </tr>\n",
       "    <tr>\n",
       "      <th>2023-02-01</th>\n",
       "      <td>NaN</td>\n",
       "      <td>126.1269</td>\n",
       "      <td>122.6496</td>\n",
       "      <td>105.8861</td>\n",
       "      <td>140.4617</td>\n",
       "    </tr>\n",
       "  </tbody>\n",
       "</table>\n",
       "</div>"
      ],
      "text/plain": [
       "           Sales  PRI27276_org  PRO27826_org  MAB_ELE_PRO276  MAB_ELE_SHP1100\n",
       "Month Year                                                                   \n",
       "2022-05-01   NaN      122.3341      115.9040        101.2446         134.5055\n",
       "2022-06-01   NaN      122.9719      125.3562        113.2584         153.1603\n",
       "2022-07-01   NaN      123.6769      123.8094        109.8021         141.9189\n",
       "2022-08-01   NaN      124.1967      122.5133        101.2170         126.8985\n",
       "2022-09-01   NaN      124.5127      130.8887        113.9225         152.2086\n",
       "2022-10-01   NaN      124.9870      125.7549        111.7053         149.1204\n",
       "2022-11-01   NaN      125.1497      130.2161        116.2251         155.0913\n",
       "2022-12-01   NaN      125.5513      124.3347        116.4987         159.5794\n",
       "2023-01-01   NaN      125.8922      121.0189         98.9604         130.6706\n",
       "2023-02-01   NaN      126.1269      122.6496        105.8861         140.4617"
      ]
     },
     "execution_count": 110,
     "metadata": {},
     "output_type": "execute_result"
    }
   ],
   "source": [
    "test_1"
   ]
  },
  {
   "cell_type": "code",
   "execution_count": 111,
   "metadata": {},
   "outputs": [],
   "source": [
    "df1 = product_dfs['P1'][['Sales', 'PRI27276_org', 'PRO27826_org', 'MAB_ELE_PRO276', 'MAB_ELE_SHP1100']].copy()\n",
    "test_1 = pd.DataFrame(index=test_index, columns=['Sales'], dtype=float)\n",
    "df_extended = pd.concat([df1, test_1])"
   ]
  },
  {
   "cell_type": "code",
   "execution_count": 112,
   "metadata": {},
   "outputs": [],
   "source": [
    "feature_set = ['Sales', 'PRI27276_org', 'PRO27826_org', 'MAB_ELE_PRO276', 'MAB_ELE_SHP1100']"
   ]
  },
  {
   "cell_type": "code",
   "execution_count": 113,
   "metadata": {},
   "outputs": [
    {
     "name": "stdout",
     "output_type": "stream",
     "text": [
      "Processing ARIMA for P1 with order=(1, 0, 0), seasonal_order=(0, 0, 0, 0)...\n",
      "Sales: Winsorized Bounds -> Lower = 14314884.58, Upper = 45669226.10\n",
      "Iteration 1 failed: \"None of [Index(['PRI27276_org', 'PRO27826_org', 'MAB_ELE_PRO276', 'MAB_ELE_SHP1100'], dtype='object')] are in the [columns]\"\n",
      "Iteration 2 failed: \"None of [Index(['PRI27276_org', 'PRO27826_org', 'MAB_ELE_PRO276', 'MAB_ELE_SHP1100'], dtype='object')] are in the [columns]\"\n",
      "Iteration 3 failed: \"None of [Index(['PRI27276_org', 'PRO27826_org', 'MAB_ELE_PRO276', 'MAB_ELE_SHP1100'], dtype='object')] are in the [columns]\"\n",
      "Iteration 4 failed: \"None of [Index(['PRI27276_org', 'PRO27826_org', 'MAB_ELE_PRO276', 'MAB_ELE_SHP1100'], dtype='object')] are in the [columns]\"\n",
      "Iteration 5 failed: \"None of [Index(['PRI27276_org', 'PRO27826_org', 'MAB_ELE_PRO276', 'MAB_ELE_SHP1100'], dtype='object')] are in the [columns]\"\n",
      "Iteration 6 failed: \"None of [Index(['PRI27276_org', 'PRO27826_org', 'MAB_ELE_PRO276', 'MAB_ELE_SHP1100'], dtype='object')] are in the [columns]\"\n",
      "Iteration 7 failed: \"None of [Index(['PRI27276_org', 'PRO27826_org', 'MAB_ELE_PRO276', 'MAB_ELE_SHP1100'], dtype='object')] are in the [columns]\"\n",
      "Iteration 8 failed: \"None of [Index(['PRI27276_org', 'PRO27826_org', 'MAB_ELE_PRO276', 'MAB_ELE_SHP1100'], dtype='object')] are in the [columns]\"\n",
      "Iteration 9 failed: \"None of [Index(['PRI27276_org', 'PRO27826_org', 'MAB_ELE_PRO276', 'MAB_ELE_SHP1100'], dtype='object')] are in the [columns]\"\n",
      "Iteration 10 failed: \"None of [Index(['PRI27276_org', 'PRO27826_org', 'MAB_ELE_PRO276', 'MAB_ELE_SHP1100'], dtype='object')] are in the [columns]\"\n"
     ]
    },
    {
     "data": {
      "application/vnd.plotly.v1+json": {
       "config": {
        "plotlyServerURL": "https://plot.ly"
       },
       "data": [
        {
         "mode": "lines",
         "name": "Actual",
         "type": "scatter",
         "x": [
          "2018-10-01",
          "2018-11-01",
          "2018-12-01",
          "2019-01-01",
          "2019-02-01",
          "2019-03-01",
          "2019-04-01",
          "2019-05-01",
          "2019-06-01",
          "2019-07-01",
          "2019-08-01",
          "2019-09-01",
          "2019-10-01",
          "2019-11-01",
          "2019-12-01",
          "2020-01-01",
          "2020-02-01",
          "2020-03-01",
          "2020-04-01",
          "2020-05-01",
          "2020-06-01",
          "2020-07-01",
          "2020-08-01",
          "2020-09-01",
          "2020-10-01",
          "2020-11-01",
          "2020-12-01",
          "2021-01-01",
          "2021-02-01",
          "2021-03-01",
          "2021-04-01",
          "2021-05-01",
          "2021-06-01",
          "2021-07-01",
          "2021-08-01",
          "2021-09-01",
          "2021-10-01",
          "2021-11-01",
          "2021-12-01",
          "2022-01-01",
          "2022-02-01",
          "2022-03-01",
          "2022-04-01"
         ],
         "y": [
          35774028.52089,
          5063648.6,
          37321267.938200004,
          27090400.93795,
          34132093.42293,
          33348950.9944,
          39450162.25794001,
          38742382.39284,
          39067643.47977001,
          38026310.016899996,
          38118762.40409999,
          40683986.20127999,
          39090323.78838,
          37137283.55465,
          37701509.370000005,
          34048418.167059995,
          33539385.139259998,
          39181624.172639996,
          38133457.44527999,
          31525813.390159998,
          31051288.09035,
          35107091.939610004,
          37369639.32326,
          38762722.1194,
          41412400.645500004,
          37530680.73529,
          34747325.26164,
          27452237.2694,
          35184611.17496,
          34179137.55144,
          42247575.449599996,
          38741775.67728,
          36839639.025630005,
          38392424.353140004,
          37581696.029699996,
          37657484.27004,
          46395783.45598,
          35725828.402,
          35545723.112009995,
          39915975.047120005,
          38470660.9098,
          43478259.99943,
          44665884.99456001
         ]
        },
        {
         "mode": "lines",
         "name": "Forecast",
         "type": "scatter",
         "x": [
          "2022-05-01T00:00:00",
          "2022-06-01T00:00:00",
          "2022-07-01T00:00:00",
          "2022-08-01T00:00:00",
          "2022-09-01T00:00:00",
          "2022-10-01T00:00:00",
          "2022-11-01T00:00:00",
          "2022-12-01T00:00:00",
          "2023-01-01T00:00:00",
          "2023-02-01T00:00:00"
         ],
         "y": [
          null,
          null,
          null,
          null,
          null,
          null,
          null,
          null,
          null,
          null
         ]
        }
       ],
       "layout": {
        "template": {
         "data": {
          "bar": [
           {
            "error_x": {
             "color": "#2a3f5f"
            },
            "error_y": {
             "color": "#2a3f5f"
            },
            "marker": {
             "line": {
              "color": "#E5ECF6",
              "width": 0.5
             },
             "pattern": {
              "fillmode": "overlay",
              "size": 10,
              "solidity": 0.2
             }
            },
            "type": "bar"
           }
          ],
          "barpolar": [
           {
            "marker": {
             "line": {
              "color": "#E5ECF6",
              "width": 0.5
             },
             "pattern": {
              "fillmode": "overlay",
              "size": 10,
              "solidity": 0.2
             }
            },
            "type": "barpolar"
           }
          ],
          "carpet": [
           {
            "aaxis": {
             "endlinecolor": "#2a3f5f",
             "gridcolor": "white",
             "linecolor": "white",
             "minorgridcolor": "white",
             "startlinecolor": "#2a3f5f"
            },
            "baxis": {
             "endlinecolor": "#2a3f5f",
             "gridcolor": "white",
             "linecolor": "white",
             "minorgridcolor": "white",
             "startlinecolor": "#2a3f5f"
            },
            "type": "carpet"
           }
          ],
          "choropleth": [
           {
            "colorbar": {
             "outlinewidth": 0,
             "ticks": ""
            },
            "type": "choropleth"
           }
          ],
          "contour": [
           {
            "colorbar": {
             "outlinewidth": 0,
             "ticks": ""
            },
            "colorscale": [
             [
              0,
              "#0d0887"
             ],
             [
              0.1111111111111111,
              "#46039f"
             ],
             [
              0.2222222222222222,
              "#7201a8"
             ],
             [
              0.3333333333333333,
              "#9c179e"
             ],
             [
              0.4444444444444444,
              "#bd3786"
             ],
             [
              0.5555555555555556,
              "#d8576b"
             ],
             [
              0.6666666666666666,
              "#ed7953"
             ],
             [
              0.7777777777777778,
              "#fb9f3a"
             ],
             [
              0.8888888888888888,
              "#fdca26"
             ],
             [
              1,
              "#f0f921"
             ]
            ],
            "type": "contour"
           }
          ],
          "contourcarpet": [
           {
            "colorbar": {
             "outlinewidth": 0,
             "ticks": ""
            },
            "type": "contourcarpet"
           }
          ],
          "heatmap": [
           {
            "colorbar": {
             "outlinewidth": 0,
             "ticks": ""
            },
            "colorscale": [
             [
              0,
              "#0d0887"
             ],
             [
              0.1111111111111111,
              "#46039f"
             ],
             [
              0.2222222222222222,
              "#7201a8"
             ],
             [
              0.3333333333333333,
              "#9c179e"
             ],
             [
              0.4444444444444444,
              "#bd3786"
             ],
             [
              0.5555555555555556,
              "#d8576b"
             ],
             [
              0.6666666666666666,
              "#ed7953"
             ],
             [
              0.7777777777777778,
              "#fb9f3a"
             ],
             [
              0.8888888888888888,
              "#fdca26"
             ],
             [
              1,
              "#f0f921"
             ]
            ],
            "type": "heatmap"
           }
          ],
          "heatmapgl": [
           {
            "colorbar": {
             "outlinewidth": 0,
             "ticks": ""
            },
            "colorscale": [
             [
              0,
              "#0d0887"
             ],
             [
              0.1111111111111111,
              "#46039f"
             ],
             [
              0.2222222222222222,
              "#7201a8"
             ],
             [
              0.3333333333333333,
              "#9c179e"
             ],
             [
              0.4444444444444444,
              "#bd3786"
             ],
             [
              0.5555555555555556,
              "#d8576b"
             ],
             [
              0.6666666666666666,
              "#ed7953"
             ],
             [
              0.7777777777777778,
              "#fb9f3a"
             ],
             [
              0.8888888888888888,
              "#fdca26"
             ],
             [
              1,
              "#f0f921"
             ]
            ],
            "type": "heatmapgl"
           }
          ],
          "histogram": [
           {
            "marker": {
             "pattern": {
              "fillmode": "overlay",
              "size": 10,
              "solidity": 0.2
             }
            },
            "type": "histogram"
           }
          ],
          "histogram2d": [
           {
            "colorbar": {
             "outlinewidth": 0,
             "ticks": ""
            },
            "colorscale": [
             [
              0,
              "#0d0887"
             ],
             [
              0.1111111111111111,
              "#46039f"
             ],
             [
              0.2222222222222222,
              "#7201a8"
             ],
             [
              0.3333333333333333,
              "#9c179e"
             ],
             [
              0.4444444444444444,
              "#bd3786"
             ],
             [
              0.5555555555555556,
              "#d8576b"
             ],
             [
              0.6666666666666666,
              "#ed7953"
             ],
             [
              0.7777777777777778,
              "#fb9f3a"
             ],
             [
              0.8888888888888888,
              "#fdca26"
             ],
             [
              1,
              "#f0f921"
             ]
            ],
            "type": "histogram2d"
           }
          ],
          "histogram2dcontour": [
           {
            "colorbar": {
             "outlinewidth": 0,
             "ticks": ""
            },
            "colorscale": [
             [
              0,
              "#0d0887"
             ],
             [
              0.1111111111111111,
              "#46039f"
             ],
             [
              0.2222222222222222,
              "#7201a8"
             ],
             [
              0.3333333333333333,
              "#9c179e"
             ],
             [
              0.4444444444444444,
              "#bd3786"
             ],
             [
              0.5555555555555556,
              "#d8576b"
             ],
             [
              0.6666666666666666,
              "#ed7953"
             ],
             [
              0.7777777777777778,
              "#fb9f3a"
             ],
             [
              0.8888888888888888,
              "#fdca26"
             ],
             [
              1,
              "#f0f921"
             ]
            ],
            "type": "histogram2dcontour"
           }
          ],
          "mesh3d": [
           {
            "colorbar": {
             "outlinewidth": 0,
             "ticks": ""
            },
            "type": "mesh3d"
           }
          ],
          "parcoords": [
           {
            "line": {
             "colorbar": {
              "outlinewidth": 0,
              "ticks": ""
             }
            },
            "type": "parcoords"
           }
          ],
          "pie": [
           {
            "automargin": true,
            "type": "pie"
           }
          ],
          "scatter": [
           {
            "fillpattern": {
             "fillmode": "overlay",
             "size": 10,
             "solidity": 0.2
            },
            "type": "scatter"
           }
          ],
          "scatter3d": [
           {
            "line": {
             "colorbar": {
              "outlinewidth": 0,
              "ticks": ""
             }
            },
            "marker": {
             "colorbar": {
              "outlinewidth": 0,
              "ticks": ""
             }
            },
            "type": "scatter3d"
           }
          ],
          "scattercarpet": [
           {
            "marker": {
             "colorbar": {
              "outlinewidth": 0,
              "ticks": ""
             }
            },
            "type": "scattercarpet"
           }
          ],
          "scattergeo": [
           {
            "marker": {
             "colorbar": {
              "outlinewidth": 0,
              "ticks": ""
             }
            },
            "type": "scattergeo"
           }
          ],
          "scattergl": [
           {
            "marker": {
             "colorbar": {
              "outlinewidth": 0,
              "ticks": ""
             }
            },
            "type": "scattergl"
           }
          ],
          "scattermapbox": [
           {
            "marker": {
             "colorbar": {
              "outlinewidth": 0,
              "ticks": ""
             }
            },
            "type": "scattermapbox"
           }
          ],
          "scatterpolar": [
           {
            "marker": {
             "colorbar": {
              "outlinewidth": 0,
              "ticks": ""
             }
            },
            "type": "scatterpolar"
           }
          ],
          "scatterpolargl": [
           {
            "marker": {
             "colorbar": {
              "outlinewidth": 0,
              "ticks": ""
             }
            },
            "type": "scatterpolargl"
           }
          ],
          "scatterternary": [
           {
            "marker": {
             "colorbar": {
              "outlinewidth": 0,
              "ticks": ""
             }
            },
            "type": "scatterternary"
           }
          ],
          "surface": [
           {
            "colorbar": {
             "outlinewidth": 0,
             "ticks": ""
            },
            "colorscale": [
             [
              0,
              "#0d0887"
             ],
             [
              0.1111111111111111,
              "#46039f"
             ],
             [
              0.2222222222222222,
              "#7201a8"
             ],
             [
              0.3333333333333333,
              "#9c179e"
             ],
             [
              0.4444444444444444,
              "#bd3786"
             ],
             [
              0.5555555555555556,
              "#d8576b"
             ],
             [
              0.6666666666666666,
              "#ed7953"
             ],
             [
              0.7777777777777778,
              "#fb9f3a"
             ],
             [
              0.8888888888888888,
              "#fdca26"
             ],
             [
              1,
              "#f0f921"
             ]
            ],
            "type": "surface"
           }
          ],
          "table": [
           {
            "cells": {
             "fill": {
              "color": "#EBF0F8"
             },
             "line": {
              "color": "white"
             }
            },
            "header": {
             "fill": {
              "color": "#C8D4E3"
             },
             "line": {
              "color": "white"
             }
            },
            "type": "table"
           }
          ]
         },
         "layout": {
          "annotationdefaults": {
           "arrowcolor": "#2a3f5f",
           "arrowhead": 0,
           "arrowwidth": 1
          },
          "autotypenumbers": "strict",
          "coloraxis": {
           "colorbar": {
            "outlinewidth": 0,
            "ticks": ""
           }
          },
          "colorscale": {
           "diverging": [
            [
             0,
             "#8e0152"
            ],
            [
             0.1,
             "#c51b7d"
            ],
            [
             0.2,
             "#de77ae"
            ],
            [
             0.3,
             "#f1b6da"
            ],
            [
             0.4,
             "#fde0ef"
            ],
            [
             0.5,
             "#f7f7f7"
            ],
            [
             0.6,
             "#e6f5d0"
            ],
            [
             0.7,
             "#b8e186"
            ],
            [
             0.8,
             "#7fbc41"
            ],
            [
             0.9,
             "#4d9221"
            ],
            [
             1,
             "#276419"
            ]
           ],
           "sequential": [
            [
             0,
             "#0d0887"
            ],
            [
             0.1111111111111111,
             "#46039f"
            ],
            [
             0.2222222222222222,
             "#7201a8"
            ],
            [
             0.3333333333333333,
             "#9c179e"
            ],
            [
             0.4444444444444444,
             "#bd3786"
            ],
            [
             0.5555555555555556,
             "#d8576b"
            ],
            [
             0.6666666666666666,
             "#ed7953"
            ],
            [
             0.7777777777777778,
             "#fb9f3a"
            ],
            [
             0.8888888888888888,
             "#fdca26"
            ],
            [
             1,
             "#f0f921"
            ]
           ],
           "sequentialminus": [
            [
             0,
             "#0d0887"
            ],
            [
             0.1111111111111111,
             "#46039f"
            ],
            [
             0.2222222222222222,
             "#7201a8"
            ],
            [
             0.3333333333333333,
             "#9c179e"
            ],
            [
             0.4444444444444444,
             "#bd3786"
            ],
            [
             0.5555555555555556,
             "#d8576b"
            ],
            [
             0.6666666666666666,
             "#ed7953"
            ],
            [
             0.7777777777777778,
             "#fb9f3a"
            ],
            [
             0.8888888888888888,
             "#fdca26"
            ],
            [
             1,
             "#f0f921"
            ]
           ]
          },
          "colorway": [
           "#636efa",
           "#EF553B",
           "#00cc96",
           "#ab63fa",
           "#FFA15A",
           "#19d3f3",
           "#FF6692",
           "#B6E880",
           "#FF97FF",
           "#FECB52"
          ],
          "font": {
           "color": "#2a3f5f"
          },
          "geo": {
           "bgcolor": "white",
           "lakecolor": "white",
           "landcolor": "#E5ECF6",
           "showlakes": true,
           "showland": true,
           "subunitcolor": "white"
          },
          "hoverlabel": {
           "align": "left"
          },
          "hovermode": "closest",
          "mapbox": {
           "style": "light"
          },
          "paper_bgcolor": "white",
          "plot_bgcolor": "#E5ECF6",
          "polar": {
           "angularaxis": {
            "gridcolor": "white",
            "linecolor": "white",
            "ticks": ""
           },
           "bgcolor": "#E5ECF6",
           "radialaxis": {
            "gridcolor": "white",
            "linecolor": "white",
            "ticks": ""
           }
          },
          "scene": {
           "xaxis": {
            "backgroundcolor": "#E5ECF6",
            "gridcolor": "white",
            "gridwidth": 2,
            "linecolor": "white",
            "showbackground": true,
            "ticks": "",
            "zerolinecolor": "white"
           },
           "yaxis": {
            "backgroundcolor": "#E5ECF6",
            "gridcolor": "white",
            "gridwidth": 2,
            "linecolor": "white",
            "showbackground": true,
            "ticks": "",
            "zerolinecolor": "white"
           },
           "zaxis": {
            "backgroundcolor": "#E5ECF6",
            "gridcolor": "white",
            "gridwidth": 2,
            "linecolor": "white",
            "showbackground": true,
            "ticks": "",
            "zerolinecolor": "white"
           }
          },
          "shapedefaults": {
           "line": {
            "color": "#2a3f5f"
           }
          },
          "ternary": {
           "aaxis": {
            "gridcolor": "white",
            "linecolor": "white",
            "ticks": ""
           },
           "baxis": {
            "gridcolor": "white",
            "linecolor": "white",
            "ticks": ""
           },
           "bgcolor": "#E5ECF6",
           "caxis": {
            "gridcolor": "white",
            "linecolor": "white",
            "ticks": ""
           }
          },
          "title": {
           "x": 0.05
          },
          "xaxis": {
           "automargin": true,
           "gridcolor": "white",
           "linecolor": "white",
           "ticks": "",
           "title": {
            "standoff": 15
           },
           "zerolinecolor": "white",
           "zerolinewidth": 2
          },
          "yaxis": {
           "automargin": true,
           "gridcolor": "white",
           "linecolor": "white",
           "ticks": "",
           "title": {
            "standoff": 15
           },
           "zerolinecolor": "white",
           "zerolinewidth": 2
          }
         }
        },
        "title": {
         "text": "ARIMA Forecast for P1"
        },
        "xaxis": {
         "title": {
          "text": "Date"
         }
        },
        "yaxis": {
         "title": {
          "text": "Sales"
         }
        }
       }
      }
     },
     "metadata": {},
     "output_type": "display_data"
    },
    {
     "data": {
      "text/plain": [
       "[nan, nan, nan, nan, nan, nan, nan, nan, nan, nan]"
      ]
     },
     "execution_count": 113,
     "metadata": {},
     "output_type": "execute_result"
    }
   ],
   "source": [
    "forecast_arima(df1, test_1, 'P1', feature_set, target_col='Sales', horizon=10,\n",
    "                  order=(1,0,0), seasonal_order=(0,0,0,0), winsorize=True, lag=None)"
   ]
  },
  {
   "cell_type": "markdown",
   "metadata": {},
   "source": [
    "##### <span style=\"background-color:#000027; padding:5px; border-radius:5px;font-size:13pt\">**5.2. P3: XGBoost ['P3_lag_12', 'P3_ma_12']**</span> <a id='p3'></a> "
   ]
  },
  {
   "cell_type": "code",
   "execution_count": null,
   "metadata": {},
   "outputs": [],
   "source": []
  },
  {
   "cell_type": "code",
   "execution_count": 80,
   "metadata": {},
   "outputs": [
    {
     "data": {
      "text/html": [
       "<div>\n",
       "<style scoped>\n",
       "    .dataframe tbody tr th:only-of-type {\n",
       "        vertical-align: middle;\n",
       "    }\n",
       "\n",
       "    .dataframe tbody tr th {\n",
       "        vertical-align: top;\n",
       "    }\n",
       "\n",
       "    .dataframe thead th {\n",
       "        text-align: right;\n",
       "    }\n",
       "</style>\n",
       "<table border=\"1\" class=\"dataframe\">\n",
       "  <thead>\n",
       "    <tr style=\"text-align: right;\">\n",
       "      <th></th>\n",
       "      <th>Sales</th>\n",
       "      <th>P3_lag_12</th>\n",
       "      <th>P3_ma_12</th>\n",
       "    </tr>\n",
       "    <tr>\n",
       "      <th>Month Year</th>\n",
       "      <th></th>\n",
       "      <th></th>\n",
       "      <th></th>\n",
       "    </tr>\n",
       "  </thead>\n",
       "  <tbody>\n",
       "    <tr>\n",
       "      <th>2022-05-01</th>\n",
       "      <td>NaN</td>\n",
       "      <td>NaN</td>\n",
       "      <td>NaN</td>\n",
       "    </tr>\n",
       "    <tr>\n",
       "      <th>2022-06-01</th>\n",
       "      <td>NaN</td>\n",
       "      <td>NaN</td>\n",
       "      <td>NaN</td>\n",
       "    </tr>\n",
       "    <tr>\n",
       "      <th>2022-07-01</th>\n",
       "      <td>NaN</td>\n",
       "      <td>NaN</td>\n",
       "      <td>NaN</td>\n",
       "    </tr>\n",
       "    <tr>\n",
       "      <th>2022-08-01</th>\n",
       "      <td>NaN</td>\n",
       "      <td>NaN</td>\n",
       "      <td>NaN</td>\n",
       "    </tr>\n",
       "    <tr>\n",
       "      <th>2022-09-01</th>\n",
       "      <td>NaN</td>\n",
       "      <td>NaN</td>\n",
       "      <td>NaN</td>\n",
       "    </tr>\n",
       "    <tr>\n",
       "      <th>2022-10-01</th>\n",
       "      <td>NaN</td>\n",
       "      <td>NaN</td>\n",
       "      <td>NaN</td>\n",
       "    </tr>\n",
       "    <tr>\n",
       "      <th>2022-11-01</th>\n",
       "      <td>NaN</td>\n",
       "      <td>NaN</td>\n",
       "      <td>NaN</td>\n",
       "    </tr>\n",
       "    <tr>\n",
       "      <th>2022-12-01</th>\n",
       "      <td>NaN</td>\n",
       "      <td>NaN</td>\n",
       "      <td>NaN</td>\n",
       "    </tr>\n",
       "    <tr>\n",
       "      <th>2023-01-01</th>\n",
       "      <td>NaN</td>\n",
       "      <td>NaN</td>\n",
       "      <td>NaN</td>\n",
       "    </tr>\n",
       "    <tr>\n",
       "      <th>2023-02-01</th>\n",
       "      <td>NaN</td>\n",
       "      <td>NaN</td>\n",
       "      <td>NaN</td>\n",
       "    </tr>\n",
       "  </tbody>\n",
       "</table>\n",
       "</div>"
      ],
      "text/plain": [
       "           Sales P3_lag_12 P3_ma_12\n",
       "Month Year                         \n",
       "2022-05-01   NaN       NaN      NaN\n",
       "2022-06-01   NaN       NaN      NaN\n",
       "2022-07-01   NaN       NaN      NaN\n",
       "2022-08-01   NaN       NaN      NaN\n",
       "2022-09-01   NaN       NaN      NaN\n",
       "2022-10-01   NaN       NaN      NaN\n",
       "2022-11-01   NaN       NaN      NaN\n",
       "2022-12-01   NaN       NaN      NaN\n",
       "2023-01-01   NaN       NaN      NaN\n",
       "2023-02-01   NaN       NaN      NaN"
      ]
     },
     "execution_count": 80,
     "metadata": {},
     "output_type": "execute_result"
    }
   ],
   "source": [
    "test_3 = pd.DataFrame(index=test[test['Mapped_GCK'] == '3']['Month Year'], columns=lagged_product_dfs['P3'][['Sales','P3_lag_12', 'P3_ma_12']].columns) #we need the lags\n",
    "test_3"
   ]
  },
  {
   "cell_type": "code",
   "execution_count": 78,
   "metadata": {},
   "outputs": [],
   "source": [
    "df = lagged_product_dfs['P3'][['Sales', 'P3_lag_12', 'P3_ma_12']].copy()\n",
    "test_3 = pd.DataFrame(index=test_index, columns=['Sales'], dtype=float)\n",
    "df_extended = pd.concat([df, test_3])"
   ]
  },
  {
   "cell_type": "code",
   "execution_count": 79,
   "metadata": {},
   "outputs": [
    {
     "data": {
      "text/html": [
       "<div>\n",
       "<style scoped>\n",
       "    .dataframe tbody tr th:only-of-type {\n",
       "        vertical-align: middle;\n",
       "    }\n",
       "\n",
       "    .dataframe tbody tr th {\n",
       "        vertical-align: top;\n",
       "    }\n",
       "\n",
       "    .dataframe thead th {\n",
       "        text-align: right;\n",
       "    }\n",
       "</style>\n",
       "<table border=\"1\" class=\"dataframe\">\n",
       "  <thead>\n",
       "    <tr style=\"text-align: right;\">\n",
       "      <th></th>\n",
       "      <th>Sales</th>\n",
       "      <th>P3_lag_12</th>\n",
       "      <th>P3_ma_12</th>\n",
       "    </tr>\n",
       "  </thead>\n",
       "  <tbody>\n",
       "    <tr>\n",
       "      <th>2019-10-01</th>\n",
       "      <td>11405539.9989</td>\n",
       "      <td>8016660.7664</td>\n",
       "      <td>11749003.0747</td>\n",
       "    </tr>\n",
       "    <tr>\n",
       "      <th>2019-11-01</th>\n",
       "      <td>13756930.1776</td>\n",
       "      <td>11685056.4874</td>\n",
       "      <td>11921659.2155</td>\n",
       "    </tr>\n",
       "    <tr>\n",
       "      <th>2019-12-01</th>\n",
       "      <td>11077603.5600</td>\n",
       "      <td>8605806.4992</td>\n",
       "      <td>12127642.3039</td>\n",
       "    </tr>\n",
       "    <tr>\n",
       "      <th>2020-01-01</th>\n",
       "      <td>11676496.5473</td>\n",
       "      <td>10459078.7155</td>\n",
       "      <td>12229093.7899</td>\n",
       "    </tr>\n",
       "    <tr>\n",
       "      <th>2020-02-01</th>\n",
       "      <td>10051658.4668</td>\n",
       "      <td>9974608.7197</td>\n",
       "      <td>12235514.6022</td>\n",
       "    </tr>\n",
       "    <tr>\n",
       "      <th>2020-03-01</th>\n",
       "      <td>12318360.0064</td>\n",
       "      <td>10874936.4015</td>\n",
       "      <td>12355799.9026</td>\n",
       "    </tr>\n",
       "    <tr>\n",
       "      <th>2020-04-01</th>\n",
       "      <td>12056099.1174</td>\n",
       "      <td>12243574.8715</td>\n",
       "      <td>12340176.9231</td>\n",
       "    </tr>\n",
       "    <tr>\n",
       "      <th>2020-05-01</th>\n",
       "      <td>10751466.7087</td>\n",
       "      <td>12747749.3993</td>\n",
       "      <td>12173820.0322</td>\n",
       "    </tr>\n",
       "    <tr>\n",
       "      <th>2020-06-01</th>\n",
       "      <td>13388451.5718</td>\n",
       "      <td>11534905.7378</td>\n",
       "      <td>12328282.1850</td>\n",
       "    </tr>\n",
       "    <tr>\n",
       "      <th>2020-07-01</th>\n",
       "      <td>12736621.4511</td>\n",
       "      <td>13461815.4825</td>\n",
       "      <td>12267849.3491</td>\n",
       "    </tr>\n",
       "    <tr>\n",
       "      <th>2020-08-01</th>\n",
       "      <td>11339382.5708</td>\n",
       "      <td>11382137.1366</td>\n",
       "      <td>12264286.4686</td>\n",
       "    </tr>\n",
       "    <tr>\n",
       "      <th>2020-09-01</th>\n",
       "      <td>15864945.1205</td>\n",
       "      <td>16612827.4462</td>\n",
       "      <td>12201962.9414</td>\n",
       "    </tr>\n",
       "    <tr>\n",
       "      <th>2020-10-01</th>\n",
       "      <td>9993844.5916</td>\n",
       "      <td>11405539.9989</td>\n",
       "      <td>12084321.6575</td>\n",
       "    </tr>\n",
       "    <tr>\n",
       "      <th>2020-11-01</th>\n",
       "      <td>14976552.9366</td>\n",
       "      <td>13756930.1776</td>\n",
       "      <td>12185956.8874</td>\n",
       "    </tr>\n",
       "    <tr>\n",
       "      <th>2020-12-01</th>\n",
       "      <td>9736024.9180</td>\n",
       "      <td>11077603.5600</td>\n",
       "      <td>12074158.6673</td>\n",
       "    </tr>\n",
       "    <tr>\n",
       "      <th>2021-01-01</th>\n",
       "      <td>3842362.9374</td>\n",
       "      <td>11676496.5473</td>\n",
       "      <td>11421314.1998</td>\n",
       "    </tr>\n",
       "    <tr>\n",
       "      <th>2021-02-01</th>\n",
       "      <td>16394292.2101</td>\n",
       "      <td>10051658.4668</td>\n",
       "      <td>11949867.0117</td>\n",
       "    </tr>\n",
       "    <tr>\n",
       "      <th>2021-03-01</th>\n",
       "      <td>14425252.4088</td>\n",
       "      <td>12318360.0064</td>\n",
       "      <td>12125441.3786</td>\n",
       "    </tr>\n",
       "    <tr>\n",
       "      <th>2021-04-01</th>\n",
       "      <td>13784342.4563</td>\n",
       "      <td>12056099.1174</td>\n",
       "      <td>12269461.6568</td>\n",
       "    </tr>\n",
       "    <tr>\n",
       "      <th>2021-05-01</th>\n",
       "      <td>10565829.4747</td>\n",
       "      <td>10751466.7087</td>\n",
       "      <td>12253991.8873</td>\n",
       "    </tr>\n",
       "    <tr>\n",
       "      <th>2021-06-01</th>\n",
       "      <td>14046254.8601</td>\n",
       "      <td>13388451.5718</td>\n",
       "      <td>12308808.8280</td>\n",
       "    </tr>\n",
       "    <tr>\n",
       "      <th>2021-07-01</th>\n",
       "      <td>13739993.8782</td>\n",
       "      <td>12736621.4511</td>\n",
       "      <td>12392423.1969</td>\n",
       "    </tr>\n",
       "    <tr>\n",
       "      <th>2021-08-01</th>\n",
       "      <td>12819257.1081</td>\n",
       "      <td>11339382.5708</td>\n",
       "      <td>12515746.0750</td>\n",
       "    </tr>\n",
       "    <tr>\n",
       "      <th>2021-09-01</th>\n",
       "      <td>16477951.3259</td>\n",
       "      <td>15864945.1205</td>\n",
       "      <td>12566829.9255</td>\n",
       "    </tr>\n",
       "    <tr>\n",
       "      <th>2021-10-01</th>\n",
       "      <td>14390316.8711</td>\n",
       "      <td>9993844.5916</td>\n",
       "      <td>12933202.6154</td>\n",
       "    </tr>\n",
       "    <tr>\n",
       "      <th>2021-11-01</th>\n",
       "      <td>19527726.7433</td>\n",
       "      <td>14976552.9366</td>\n",
       "      <td>13312467.0993</td>\n",
       "    </tr>\n",
       "    <tr>\n",
       "      <th>2021-12-01</th>\n",
       "      <td>12958106.0653</td>\n",
       "      <td>9736024.9180</td>\n",
       "      <td>13580973.8616</td>\n",
       "    </tr>\n",
       "    <tr>\n",
       "      <th>2022-01-01</th>\n",
       "      <td>14469514.4686</td>\n",
       "      <td>3842362.9374</td>\n",
       "      <td>14466569.8225</td>\n",
       "    </tr>\n",
       "    <tr>\n",
       "      <th>2022-02-01</th>\n",
       "      <td>16605130.5182</td>\n",
       "      <td>16394292.2101</td>\n",
       "      <td>14484139.6815</td>\n",
       "    </tr>\n",
       "    <tr>\n",
       "      <th>2022-03-01</th>\n",
       "      <td>15480249.2186</td>\n",
       "      <td>14425252.4088</td>\n",
       "      <td>14572056.0824</td>\n",
       "    </tr>\n",
       "    <tr>\n",
       "      <th>2022-04-01</th>\n",
       "      <td>13055319.4669</td>\n",
       "      <td>13784342.4563</td>\n",
       "      <td>14511304.1666</td>\n",
       "    </tr>\n",
       "    <tr>\n",
       "      <th>2022-05-01</th>\n",
       "      <td>NaN</td>\n",
       "      <td>NaN</td>\n",
       "      <td>NaN</td>\n",
       "    </tr>\n",
       "    <tr>\n",
       "      <th>2022-06-01</th>\n",
       "      <td>NaN</td>\n",
       "      <td>NaN</td>\n",
       "      <td>NaN</td>\n",
       "    </tr>\n",
       "    <tr>\n",
       "      <th>2022-07-01</th>\n",
       "      <td>NaN</td>\n",
       "      <td>NaN</td>\n",
       "      <td>NaN</td>\n",
       "    </tr>\n",
       "    <tr>\n",
       "      <th>2022-08-01</th>\n",
       "      <td>NaN</td>\n",
       "      <td>NaN</td>\n",
       "      <td>NaN</td>\n",
       "    </tr>\n",
       "    <tr>\n",
       "      <th>2022-09-01</th>\n",
       "      <td>NaN</td>\n",
       "      <td>NaN</td>\n",
       "      <td>NaN</td>\n",
       "    </tr>\n",
       "    <tr>\n",
       "      <th>2022-10-01</th>\n",
       "      <td>NaN</td>\n",
       "      <td>NaN</td>\n",
       "      <td>NaN</td>\n",
       "    </tr>\n",
       "    <tr>\n",
       "      <th>2022-11-01</th>\n",
       "      <td>NaN</td>\n",
       "      <td>NaN</td>\n",
       "      <td>NaN</td>\n",
       "    </tr>\n",
       "    <tr>\n",
       "      <th>2022-12-01</th>\n",
       "      <td>NaN</td>\n",
       "      <td>NaN</td>\n",
       "      <td>NaN</td>\n",
       "    </tr>\n",
       "    <tr>\n",
       "      <th>2023-01-01</th>\n",
       "      <td>NaN</td>\n",
       "      <td>NaN</td>\n",
       "      <td>NaN</td>\n",
       "    </tr>\n",
       "    <tr>\n",
       "      <th>2023-02-01</th>\n",
       "      <td>NaN</td>\n",
       "      <td>NaN</td>\n",
       "      <td>NaN</td>\n",
       "    </tr>\n",
       "  </tbody>\n",
       "</table>\n",
       "</div>"
      ],
      "text/plain": [
       "                   Sales     P3_lag_12      P3_ma_12\n",
       "2019-10-01 11405539.9989  8016660.7664 11749003.0747\n",
       "2019-11-01 13756930.1776 11685056.4874 11921659.2155\n",
       "2019-12-01 11077603.5600  8605806.4992 12127642.3039\n",
       "2020-01-01 11676496.5473 10459078.7155 12229093.7899\n",
       "2020-02-01 10051658.4668  9974608.7197 12235514.6022\n",
       "2020-03-01 12318360.0064 10874936.4015 12355799.9026\n",
       "2020-04-01 12056099.1174 12243574.8715 12340176.9231\n",
       "2020-05-01 10751466.7087 12747749.3993 12173820.0322\n",
       "2020-06-01 13388451.5718 11534905.7378 12328282.1850\n",
       "2020-07-01 12736621.4511 13461815.4825 12267849.3491\n",
       "2020-08-01 11339382.5708 11382137.1366 12264286.4686\n",
       "2020-09-01 15864945.1205 16612827.4462 12201962.9414\n",
       "2020-10-01  9993844.5916 11405539.9989 12084321.6575\n",
       "2020-11-01 14976552.9366 13756930.1776 12185956.8874\n",
       "2020-12-01  9736024.9180 11077603.5600 12074158.6673\n",
       "2021-01-01  3842362.9374 11676496.5473 11421314.1998\n",
       "2021-02-01 16394292.2101 10051658.4668 11949867.0117\n",
       "2021-03-01 14425252.4088 12318360.0064 12125441.3786\n",
       "2021-04-01 13784342.4563 12056099.1174 12269461.6568\n",
       "2021-05-01 10565829.4747 10751466.7087 12253991.8873\n",
       "2021-06-01 14046254.8601 13388451.5718 12308808.8280\n",
       "2021-07-01 13739993.8782 12736621.4511 12392423.1969\n",
       "2021-08-01 12819257.1081 11339382.5708 12515746.0750\n",
       "2021-09-01 16477951.3259 15864945.1205 12566829.9255\n",
       "2021-10-01 14390316.8711  9993844.5916 12933202.6154\n",
       "2021-11-01 19527726.7433 14976552.9366 13312467.0993\n",
       "2021-12-01 12958106.0653  9736024.9180 13580973.8616\n",
       "2022-01-01 14469514.4686  3842362.9374 14466569.8225\n",
       "2022-02-01 16605130.5182 16394292.2101 14484139.6815\n",
       "2022-03-01 15480249.2186 14425252.4088 14572056.0824\n",
       "2022-04-01 13055319.4669 13784342.4563 14511304.1666\n",
       "2022-05-01           NaN           NaN           NaN\n",
       "2022-06-01           NaN           NaN           NaN\n",
       "2022-07-01           NaN           NaN           NaN\n",
       "2022-08-01           NaN           NaN           NaN\n",
       "2022-09-01           NaN           NaN           NaN\n",
       "2022-10-01           NaN           NaN           NaN\n",
       "2022-11-01           NaN           NaN           NaN\n",
       "2022-12-01           NaN           NaN           NaN\n",
       "2023-01-01           NaN           NaN           NaN\n",
       "2023-02-01           NaN           NaN           NaN"
      ]
     },
     "execution_count": 79,
     "metadata": {},
     "output_type": "execute_result"
    }
   ],
   "source": [
    "df_extended"
   ]
  },
  {
   "cell_type": "code",
   "execution_count": 76,
   "metadata": {},
   "outputs": [],
   "source": [
    "df_extended = create_time_series_features(df_extended, lags=[12])"
   ]
  },
  {
   "cell_type": "code",
   "execution_count": 77,
   "metadata": {},
   "outputs": [
    {
     "data": {
      "text/html": [
       "<div>\n",
       "<style scoped>\n",
       "    .dataframe tbody tr th:only-of-type {\n",
       "        vertical-align: middle;\n",
       "    }\n",
       "\n",
       "    .dataframe tbody tr th {\n",
       "        vertical-align: top;\n",
       "    }\n",
       "\n",
       "    .dataframe thead th {\n",
       "        text-align: right;\n",
       "    }\n",
       "</style>\n",
       "<table border=\"1\" class=\"dataframe\">\n",
       "  <thead>\n",
       "    <tr style=\"text-align: right;\">\n",
       "      <th></th>\n",
       "      <th>Sales</th>\n",
       "      <th>P3_lag_12</th>\n",
       "      <th>P3_ma_12</th>\n",
       "      <th>time_idx</th>\n",
       "      <th>year</th>\n",
       "      <th>month</th>\n",
       "      <th>Sales_lag_12</th>\n",
       "      <th>Sales_ma_12</th>\n",
       "    </tr>\n",
       "  </thead>\n",
       "  <tbody>\n",
       "    <tr>\n",
       "      <th>2020-10-01</th>\n",
       "      <td>9993844.5916</td>\n",
       "      <td>11405539.9989</td>\n",
       "      <td>12084321.6575</td>\n",
       "      <td>12</td>\n",
       "      <td>2020</td>\n",
       "      <td>10</td>\n",
       "      <td>11405539.9989</td>\n",
       "      <td>12084321.6575</td>\n",
       "    </tr>\n",
       "    <tr>\n",
       "      <th>2020-11-01</th>\n",
       "      <td>14976552.9366</td>\n",
       "      <td>13756930.1776</td>\n",
       "      <td>12185956.8874</td>\n",
       "      <td>13</td>\n",
       "      <td>2020</td>\n",
       "      <td>11</td>\n",
       "      <td>13756930.1776</td>\n",
       "      <td>12185956.8874</td>\n",
       "    </tr>\n",
       "    <tr>\n",
       "      <th>2020-12-01</th>\n",
       "      <td>9736024.9180</td>\n",
       "      <td>11077603.5600</td>\n",
       "      <td>12074158.6673</td>\n",
       "      <td>14</td>\n",
       "      <td>2020</td>\n",
       "      <td>12</td>\n",
       "      <td>11077603.5600</td>\n",
       "      <td>12074158.6673</td>\n",
       "    </tr>\n",
       "    <tr>\n",
       "      <th>2021-01-01</th>\n",
       "      <td>3842362.9374</td>\n",
       "      <td>11676496.5473</td>\n",
       "      <td>11421314.1998</td>\n",
       "      <td>15</td>\n",
       "      <td>2021</td>\n",
       "      <td>1</td>\n",
       "      <td>11676496.5473</td>\n",
       "      <td>11421314.1998</td>\n",
       "    </tr>\n",
       "    <tr>\n",
       "      <th>2021-02-01</th>\n",
       "      <td>16394292.2101</td>\n",
       "      <td>10051658.4668</td>\n",
       "      <td>11949867.0117</td>\n",
       "      <td>16</td>\n",
       "      <td>2021</td>\n",
       "      <td>2</td>\n",
       "      <td>10051658.4668</td>\n",
       "      <td>11949867.0117</td>\n",
       "    </tr>\n",
       "    <tr>\n",
       "      <th>2021-03-01</th>\n",
       "      <td>14425252.4088</td>\n",
       "      <td>12318360.0064</td>\n",
       "      <td>12125441.3786</td>\n",
       "      <td>17</td>\n",
       "      <td>2021</td>\n",
       "      <td>3</td>\n",
       "      <td>12318360.0064</td>\n",
       "      <td>12125441.3786</td>\n",
       "    </tr>\n",
       "    <tr>\n",
       "      <th>2021-04-01</th>\n",
       "      <td>13784342.4563</td>\n",
       "      <td>12056099.1174</td>\n",
       "      <td>12269461.6568</td>\n",
       "      <td>18</td>\n",
       "      <td>2021</td>\n",
       "      <td>4</td>\n",
       "      <td>12056099.1174</td>\n",
       "      <td>12269461.6568</td>\n",
       "    </tr>\n",
       "    <tr>\n",
       "      <th>2021-05-01</th>\n",
       "      <td>10565829.4747</td>\n",
       "      <td>10751466.7087</td>\n",
       "      <td>12253991.8873</td>\n",
       "      <td>19</td>\n",
       "      <td>2021</td>\n",
       "      <td>5</td>\n",
       "      <td>10751466.7087</td>\n",
       "      <td>12253991.8873</td>\n",
       "    </tr>\n",
       "    <tr>\n",
       "      <th>2021-06-01</th>\n",
       "      <td>14046254.8601</td>\n",
       "      <td>13388451.5718</td>\n",
       "      <td>12308808.8280</td>\n",
       "      <td>20</td>\n",
       "      <td>2021</td>\n",
       "      <td>6</td>\n",
       "      <td>13388451.5718</td>\n",
       "      <td>12308808.8280</td>\n",
       "    </tr>\n",
       "    <tr>\n",
       "      <th>2021-07-01</th>\n",
       "      <td>13739993.8782</td>\n",
       "      <td>12736621.4511</td>\n",
       "      <td>12392423.1969</td>\n",
       "      <td>21</td>\n",
       "      <td>2021</td>\n",
       "      <td>7</td>\n",
       "      <td>12736621.4511</td>\n",
       "      <td>12392423.1969</td>\n",
       "    </tr>\n",
       "    <tr>\n",
       "      <th>2021-08-01</th>\n",
       "      <td>12819257.1081</td>\n",
       "      <td>11339382.5708</td>\n",
       "      <td>12515746.0750</td>\n",
       "      <td>22</td>\n",
       "      <td>2021</td>\n",
       "      <td>8</td>\n",
       "      <td>11339382.5708</td>\n",
       "      <td>12515746.0750</td>\n",
       "    </tr>\n",
       "    <tr>\n",
       "      <th>2021-09-01</th>\n",
       "      <td>16477951.3259</td>\n",
       "      <td>15864945.1205</td>\n",
       "      <td>12566829.9255</td>\n",
       "      <td>23</td>\n",
       "      <td>2021</td>\n",
       "      <td>9</td>\n",
       "      <td>15864945.1205</td>\n",
       "      <td>12566829.9255</td>\n",
       "    </tr>\n",
       "    <tr>\n",
       "      <th>2021-10-01</th>\n",
       "      <td>14390316.8711</td>\n",
       "      <td>9993844.5916</td>\n",
       "      <td>12933202.6154</td>\n",
       "      <td>24</td>\n",
       "      <td>2021</td>\n",
       "      <td>10</td>\n",
       "      <td>9993844.5916</td>\n",
       "      <td>12933202.6154</td>\n",
       "    </tr>\n",
       "    <tr>\n",
       "      <th>2021-11-01</th>\n",
       "      <td>19527726.7433</td>\n",
       "      <td>14976552.9366</td>\n",
       "      <td>13312467.0993</td>\n",
       "      <td>25</td>\n",
       "      <td>2021</td>\n",
       "      <td>11</td>\n",
       "      <td>14976552.9366</td>\n",
       "      <td>13312467.0993</td>\n",
       "    </tr>\n",
       "    <tr>\n",
       "      <th>2021-12-01</th>\n",
       "      <td>12958106.0653</td>\n",
       "      <td>9736024.9180</td>\n",
       "      <td>13580973.8616</td>\n",
       "      <td>26</td>\n",
       "      <td>2021</td>\n",
       "      <td>12</td>\n",
       "      <td>9736024.9180</td>\n",
       "      <td>13580973.8616</td>\n",
       "    </tr>\n",
       "    <tr>\n",
       "      <th>2022-01-01</th>\n",
       "      <td>14469514.4686</td>\n",
       "      <td>3842362.9374</td>\n",
       "      <td>14466569.8225</td>\n",
       "      <td>27</td>\n",
       "      <td>2022</td>\n",
       "      <td>1</td>\n",
       "      <td>3842362.9374</td>\n",
       "      <td>14466569.8225</td>\n",
       "    </tr>\n",
       "    <tr>\n",
       "      <th>2022-02-01</th>\n",
       "      <td>16605130.5182</td>\n",
       "      <td>16394292.2101</td>\n",
       "      <td>14484139.6815</td>\n",
       "      <td>28</td>\n",
       "      <td>2022</td>\n",
       "      <td>2</td>\n",
       "      <td>16394292.2101</td>\n",
       "      <td>14484139.6815</td>\n",
       "    </tr>\n",
       "    <tr>\n",
       "      <th>2022-03-01</th>\n",
       "      <td>15480249.2186</td>\n",
       "      <td>14425252.4088</td>\n",
       "      <td>14572056.0824</td>\n",
       "      <td>29</td>\n",
       "      <td>2022</td>\n",
       "      <td>3</td>\n",
       "      <td>14425252.4088</td>\n",
       "      <td>14572056.0824</td>\n",
       "    </tr>\n",
       "    <tr>\n",
       "      <th>2022-04-01</th>\n",
       "      <td>13055319.4669</td>\n",
       "      <td>13784342.4563</td>\n",
       "      <td>14511304.1666</td>\n",
       "      <td>30</td>\n",
       "      <td>2022</td>\n",
       "      <td>4</td>\n",
       "      <td>13784342.4563</td>\n",
       "      <td>14511304.1666</td>\n",
       "    </tr>\n",
       "  </tbody>\n",
       "</table>\n",
       "</div>"
      ],
      "text/plain": [
       "                   Sales     P3_lag_12      P3_ma_12  time_idx  year  month  Sales_lag_12   Sales_ma_12\n",
       "2020-10-01  9993844.5916 11405539.9989 12084321.6575        12  2020     10 11405539.9989 12084321.6575\n",
       "2020-11-01 14976552.9366 13756930.1776 12185956.8874        13  2020     11 13756930.1776 12185956.8874\n",
       "2020-12-01  9736024.9180 11077603.5600 12074158.6673        14  2020     12 11077603.5600 12074158.6673\n",
       "2021-01-01  3842362.9374 11676496.5473 11421314.1998        15  2021      1 11676496.5473 11421314.1998\n",
       "2021-02-01 16394292.2101 10051658.4668 11949867.0117        16  2021      2 10051658.4668 11949867.0117\n",
       "2021-03-01 14425252.4088 12318360.0064 12125441.3786        17  2021      3 12318360.0064 12125441.3786\n",
       "2021-04-01 13784342.4563 12056099.1174 12269461.6568        18  2021      4 12056099.1174 12269461.6568\n",
       "2021-05-01 10565829.4747 10751466.7087 12253991.8873        19  2021      5 10751466.7087 12253991.8873\n",
       "2021-06-01 14046254.8601 13388451.5718 12308808.8280        20  2021      6 13388451.5718 12308808.8280\n",
       "2021-07-01 13739993.8782 12736621.4511 12392423.1969        21  2021      7 12736621.4511 12392423.1969\n",
       "2021-08-01 12819257.1081 11339382.5708 12515746.0750        22  2021      8 11339382.5708 12515746.0750\n",
       "2021-09-01 16477951.3259 15864945.1205 12566829.9255        23  2021      9 15864945.1205 12566829.9255\n",
       "2021-10-01 14390316.8711  9993844.5916 12933202.6154        24  2021     10  9993844.5916 12933202.6154\n",
       "2021-11-01 19527726.7433 14976552.9366 13312467.0993        25  2021     11 14976552.9366 13312467.0993\n",
       "2021-12-01 12958106.0653  9736024.9180 13580973.8616        26  2021     12  9736024.9180 13580973.8616\n",
       "2022-01-01 14469514.4686  3842362.9374 14466569.8225        27  2022      1  3842362.9374 14466569.8225\n",
       "2022-02-01 16605130.5182 16394292.2101 14484139.6815        28  2022      2 16394292.2101 14484139.6815\n",
       "2022-03-01 15480249.2186 14425252.4088 14572056.0824        29  2022      3 14425252.4088 14572056.0824\n",
       "2022-04-01 13055319.4669 13784342.4563 14511304.1666        30  2022      4 13784342.4563 14511304.1666"
      ]
     },
     "execution_count": 77,
     "metadata": {},
     "output_type": "execute_result"
    }
   ],
   "source": [
    "df_extended"
   ]
  },
  {
   "cell_type": "code",
   "execution_count": null,
   "metadata": {},
   "outputs": [],
   "source": [
    "test_index = pd.date_range(start=\"2022-05-01\", periods=10, freq=\"MS\")\n",
    "# Extract only the last 10 rows (test set) with recalculated lags\n",
    "test_3 = df_extended.loc[test_index, ['P3_lag_12', 'P3_ma_12']]"
   ]
  },
  {
   "cell_type": "code",
   "execution_count": null,
   "metadata": {},
   "outputs": [],
   "source": [
    "test_3"
   ]
  },
  {
   "cell_type": "markdown",
   "metadata": {},
   "source": [
    "##### <span style=\"background-color:#000027; padding:5px; border-radius:5px;font-size:13pt\">**5.3. P4: ARIMA  ['PRO27380_org', 'WKLWEUR840_org', 'PRO27276_org', 'MAB_ELE_SHP380']**</span> <a id='p4'></a> "
   ]
  },
  {
   "cell_type": "code",
   "execution_count": 125,
   "metadata": {},
   "outputs": [
    {
     "data": {
      "text/html": [
       "<div>\n",
       "<style scoped>\n",
       "    .dataframe tbody tr th:only-of-type {\n",
       "        vertical-align: middle;\n",
       "    }\n",
       "\n",
       "    .dataframe tbody tr th {\n",
       "        vertical-align: top;\n",
       "    }\n",
       "\n",
       "    .dataframe thead th {\n",
       "        text-align: right;\n",
       "    }\n",
       "</style>\n",
       "<table border=\"1\" class=\"dataframe\">\n",
       "  <thead>\n",
       "    <tr style=\"text-align: right;\">\n",
       "      <th></th>\n",
       "      <th>PRO27380_org</th>\n",
       "      <th>WKLWEUR840_org</th>\n",
       "      <th>PRO27276_org</th>\n",
       "      <th>MAB_ELE_SHP380</th>\n",
       "    </tr>\n",
       "    <tr>\n",
       "      <th>Month Year</th>\n",
       "      <th></th>\n",
       "      <th></th>\n",
       "      <th></th>\n",
       "      <th></th>\n",
       "    </tr>\n",
       "  </thead>\n",
       "  <tbody>\n",
       "    <tr>\n",
       "      <th>2022-05-01</th>\n",
       "      <td>NaN</td>\n",
       "      <td>NaN</td>\n",
       "      <td>NaN</td>\n",
       "      <td>NaN</td>\n",
       "    </tr>\n",
       "    <tr>\n",
       "      <th>2022-06-01</th>\n",
       "      <td>NaN</td>\n",
       "      <td>NaN</td>\n",
       "      <td>NaN</td>\n",
       "      <td>NaN</td>\n",
       "    </tr>\n",
       "    <tr>\n",
       "      <th>2022-07-01</th>\n",
       "      <td>NaN</td>\n",
       "      <td>NaN</td>\n",
       "      <td>NaN</td>\n",
       "      <td>NaN</td>\n",
       "    </tr>\n",
       "    <tr>\n",
       "      <th>2022-08-01</th>\n",
       "      <td>NaN</td>\n",
       "      <td>NaN</td>\n",
       "      <td>NaN</td>\n",
       "      <td>NaN</td>\n",
       "    </tr>\n",
       "    <tr>\n",
       "      <th>2022-09-01</th>\n",
       "      <td>NaN</td>\n",
       "      <td>NaN</td>\n",
       "      <td>NaN</td>\n",
       "      <td>NaN</td>\n",
       "    </tr>\n",
       "    <tr>\n",
       "      <th>2022-10-01</th>\n",
       "      <td>NaN</td>\n",
       "      <td>NaN</td>\n",
       "      <td>NaN</td>\n",
       "      <td>NaN</td>\n",
       "    </tr>\n",
       "    <tr>\n",
       "      <th>2022-11-01</th>\n",
       "      <td>NaN</td>\n",
       "      <td>NaN</td>\n",
       "      <td>NaN</td>\n",
       "      <td>NaN</td>\n",
       "    </tr>\n",
       "    <tr>\n",
       "      <th>2022-12-01</th>\n",
       "      <td>NaN</td>\n",
       "      <td>NaN</td>\n",
       "      <td>NaN</td>\n",
       "      <td>NaN</td>\n",
       "    </tr>\n",
       "    <tr>\n",
       "      <th>2023-01-01</th>\n",
       "      <td>NaN</td>\n",
       "      <td>NaN</td>\n",
       "      <td>NaN</td>\n",
       "      <td>NaN</td>\n",
       "    </tr>\n",
       "    <tr>\n",
       "      <th>2023-02-01</th>\n",
       "      <td>NaN</td>\n",
       "      <td>NaN</td>\n",
       "      <td>NaN</td>\n",
       "      <td>NaN</td>\n",
       "    </tr>\n",
       "  </tbody>\n",
       "</table>\n",
       "</div>"
      ],
      "text/plain": [
       "           PRO27380_org WKLWEUR840_org PRO27276_org MAB_ELE_SHP380\n",
       "Month Year                                                        \n",
       "2022-05-01          NaN            NaN          NaN            NaN\n",
       "2022-06-01          NaN            NaN          NaN            NaN\n",
       "2022-07-01          NaN            NaN          NaN            NaN\n",
       "2022-08-01          NaN            NaN          NaN            NaN\n",
       "2022-09-01          NaN            NaN          NaN            NaN\n",
       "2022-10-01          NaN            NaN          NaN            NaN\n",
       "2022-11-01          NaN            NaN          NaN            NaN\n",
       "2022-12-01          NaN            NaN          NaN            NaN\n",
       "2023-01-01          NaN            NaN          NaN            NaN\n",
       "2023-02-01          NaN            NaN          NaN            NaN"
      ]
     },
     "execution_count": 125,
     "metadata": {},
     "output_type": "execute_result"
    }
   ],
   "source": [
    "test_4 = pd.DataFrame(index=test[test['Mapped_GCK'] == '4']['Month Year'], columns=product_dfs['P4'][['PRO27380_org', 'WKLWEUR840_org', 'PRO27276_org', 'MAB_ELE_SHP380']].columns)\n",
    "test_4"
   ]
  },
  {
   "cell_type": "code",
   "execution_count": 126,
   "metadata": {},
   "outputs": [
    {
     "data": {
      "text/html": [
       "<div>\n",
       "<style scoped>\n",
       "    .dataframe tbody tr th:only-of-type {\n",
       "        vertical-align: middle;\n",
       "    }\n",
       "\n",
       "    .dataframe tbody tr th {\n",
       "        vertical-align: top;\n",
       "    }\n",
       "\n",
       "    .dataframe thead th {\n",
       "        text-align: right;\n",
       "    }\n",
       "</style>\n",
       "<table border=\"1\" class=\"dataframe\">\n",
       "  <thead>\n",
       "    <tr style=\"text-align: right;\">\n",
       "      <th></th>\n",
       "      <th>PRO27380_org</th>\n",
       "      <th>WKLWEUR840_org</th>\n",
       "      <th>PRO27276_org</th>\n",
       "      <th>MAB_ELE_SHP380</th>\n",
       "    </tr>\n",
       "    <tr>\n",
       "      <th>Month Year</th>\n",
       "      <th></th>\n",
       "      <th></th>\n",
       "      <th></th>\n",
       "      <th></th>\n",
       "    </tr>\n",
       "  </thead>\n",
       "  <tbody>\n",
       "    <tr>\n",
       "      <th>2022-05-01</th>\n",
       "      <td>86.0224</td>\n",
       "      <td>1.0736</td>\n",
       "      <td>102.3751</td>\n",
       "      <td>129.5264</td>\n",
       "    </tr>\n",
       "    <tr>\n",
       "      <th>2022-06-01</th>\n",
       "      <td>92.8159</td>\n",
       "      <td>1.0716</td>\n",
       "      <td>107.6265</td>\n",
       "      <td>147.4014</td>\n",
       "    </tr>\n",
       "    <tr>\n",
       "      <th>2022-07-01</th>\n",
       "      <td>91.9484</td>\n",
       "      <td>1.0690</td>\n",
       "      <td>107.0694</td>\n",
       "      <td>144.1310</td>\n",
       "    </tr>\n",
       "    <tr>\n",
       "      <th>2022-08-01</th>\n",
       "      <td>57.2111</td>\n",
       "      <td>1.0685</td>\n",
       "      <td>103.4843</td>\n",
       "      <td>104.9816</td>\n",
       "    </tr>\n",
       "    <tr>\n",
       "      <th>2022-09-01</th>\n",
       "      <td>97.7606</td>\n",
       "      <td>1.0653</td>\n",
       "      <td>110.3740</td>\n",
       "      <td>146.2103</td>\n",
       "    </tr>\n",
       "    <tr>\n",
       "      <th>2022-10-01</th>\n",
       "      <td>96.1748</td>\n",
       "      <td>1.0608</td>\n",
       "      <td>109.3358</td>\n",
       "      <td>147.5842</td>\n",
       "    </tr>\n",
       "    <tr>\n",
       "      <th>2022-11-01</th>\n",
       "      <td>92.9822</td>\n",
       "      <td>1.0576</td>\n",
       "      <td>110.6498</td>\n",
       "      <td>149.3881</td>\n",
       "    </tr>\n",
       "    <tr>\n",
       "      <th>2022-12-01</th>\n",
       "      <td>81.2518</td>\n",
       "      <td>1.0583</td>\n",
       "      <td>101.9211</td>\n",
       "      <td>158.6928</td>\n",
       "    </tr>\n",
       "    <tr>\n",
       "      <th>2023-01-01</th>\n",
       "      <td>83.8557</td>\n",
       "      <td>1.0591</td>\n",
       "      <td>102.5711</td>\n",
       "      <td>115.7837</td>\n",
       "    </tr>\n",
       "    <tr>\n",
       "      <th>2023-02-01</th>\n",
       "      <td>85.3908</td>\n",
       "      <td>1.0613</td>\n",
       "      <td>106.3702</td>\n",
       "      <td>130.2779</td>\n",
       "    </tr>\n",
       "  </tbody>\n",
       "</table>\n",
       "</div>"
      ],
      "text/plain": [
       "            PRO27380_org  WKLWEUR840_org  PRO27276_org  MAB_ELE_SHP380\n",
       "Month Year                                                            \n",
       "2022-05-01       86.0224          1.0736      102.3751        129.5264\n",
       "2022-06-01       92.8159          1.0716      107.6265        147.4014\n",
       "2022-07-01       91.9484          1.0690      107.0694        144.1310\n",
       "2022-08-01       57.2111          1.0685      103.4843        104.9816\n",
       "2022-09-01       97.7606          1.0653      110.3740        146.2103\n",
       "2022-10-01       96.1748          1.0608      109.3358        147.5842\n",
       "2022-11-01       92.9822          1.0576      110.6498        149.3881\n",
       "2022-12-01       81.2518          1.0583      101.9211        158.6928\n",
       "2023-01-01       83.8557          1.0591      102.5711        115.7837\n",
       "2023-02-01       85.3908          1.0613      106.3702        130.2779"
      ]
     },
     "execution_count": 126,
     "metadata": {},
     "output_type": "execute_result"
    }
   ],
   "source": [
    "macro_preds[['PRO27380_org', 'WKLWEUR840_org', 'PRO27276_org', 'MAB_ELE_SHP380']]"
   ]
  },
  {
   "cell_type": "code",
   "execution_count": 130,
   "metadata": {},
   "outputs": [
    {
     "ename": "MergeError",
     "evalue": "Passing 'suffixes' which cause duplicate columns {'MAB_ELE_SHP380_x', 'WKLWEUR840_org_x', 'PRO27380_org_x', 'PRO27276_org_x'} is not allowed.",
     "output_type": "error",
     "traceback": [
      "\u001b[1;31m---------------------------------------------------------------------------\u001b[0m",
      "\u001b[1;31mMergeError\u001b[0m                                Traceback (most recent call last)",
      "Cell \u001b[1;32mIn[130], line 1\u001b[0m\n\u001b[1;32m----> 1\u001b[0m test_4 \u001b[38;5;241m=\u001b[39m test_4\u001b[38;5;241m.\u001b[39mmerge(macro_preds[[\u001b[38;5;124m'\u001b[39m\u001b[38;5;124mPRO27380_org\u001b[39m\u001b[38;5;124m'\u001b[39m, \u001b[38;5;124m'\u001b[39m\u001b[38;5;124mWKLWEUR840_org\u001b[39m\u001b[38;5;124m'\u001b[39m, \u001b[38;5;124m'\u001b[39m\u001b[38;5;124mPRO27276_org\u001b[39m\u001b[38;5;124m'\u001b[39m, \u001b[38;5;124m'\u001b[39m\u001b[38;5;124mMAB_ELE_SHP380\u001b[39m\u001b[38;5;124m'\u001b[39m]], \n\u001b[0;32m      2\u001b[0m                        left_index\u001b[38;5;241m=\u001b[39m\u001b[38;5;28;01mTrue\u001b[39;00m, \n\u001b[0;32m      3\u001b[0m                        right_index\u001b[38;5;241m=\u001b[39m\u001b[38;5;28;01mTrue\u001b[39;00m, \n\u001b[0;32m      4\u001b[0m                        how\u001b[38;5;241m=\u001b[39m\u001b[38;5;124m'\u001b[39m\u001b[38;5;124mleft\u001b[39m\u001b[38;5;124m'\u001b[39m)\n\u001b[0;32m      5\u001b[0m test_4 \u001b[38;5;241m=\u001b[39m test_4[[\u001b[38;5;124m'\u001b[39m\u001b[38;5;124mSales\u001b[39m\u001b[38;5;124m'\u001b[39m, \u001b[38;5;124m'\u001b[39m\u001b[38;5;124mPRO27380_org_y\u001b[39m\u001b[38;5;124m'\u001b[39m, \u001b[38;5;124m'\u001b[39m\u001b[38;5;124mWKLWEUR840_org_y\u001b[39m\u001b[38;5;124m'\u001b[39m, \u001b[38;5;124m'\u001b[39m\u001b[38;5;124mPRO27276_org_y\u001b[39m\u001b[38;5;124m'\u001b[39m, \u001b[38;5;124m'\u001b[39m\u001b[38;5;124mMAB_ELE_SHP380_y\u001b[39m\u001b[38;5;124m'\u001b[39m]]\n\u001b[0;32m      6\u001b[0m test_4\u001b[38;5;241m.\u001b[39mcolumns \u001b[38;5;241m=\u001b[39m [\u001b[38;5;124m'\u001b[39m\u001b[38;5;124mSales\u001b[39m\u001b[38;5;124m'\u001b[39m,\u001b[38;5;124m'\u001b[39m\u001b[38;5;124mPRO27380_org\u001b[39m\u001b[38;5;124m'\u001b[39m, \u001b[38;5;124m'\u001b[39m\u001b[38;5;124mWKLWEUR840_org\u001b[39m\u001b[38;5;124m'\u001b[39m, \u001b[38;5;124m'\u001b[39m\u001b[38;5;124mPRO27276_org\u001b[39m\u001b[38;5;124m'\u001b[39m, \u001b[38;5;124m'\u001b[39m\u001b[38;5;124mMAB_ELE_SHP380\u001b[39m\u001b[38;5;124m'\u001b[39m]\n",
      "File \u001b[1;32mc:\\Users\\beatr\\anaconda3\\Lib\\site-packages\\pandas\\core\\frame.py:10832\u001b[0m, in \u001b[0;36mDataFrame.merge\u001b[1;34m(self, right, how, on, left_on, right_on, left_index, right_index, sort, suffixes, copy, indicator, validate)\u001b[0m\n\u001b[0;32m  10813\u001b[0m \u001b[38;5;129m@Substitution\u001b[39m(\u001b[38;5;124m\"\u001b[39m\u001b[38;5;124m\"\u001b[39m)\n\u001b[0;32m  10814\u001b[0m \u001b[38;5;129m@Appender\u001b[39m(_merge_doc, indents\u001b[38;5;241m=\u001b[39m\u001b[38;5;241m2\u001b[39m)\n\u001b[0;32m  10815\u001b[0m \u001b[38;5;28;01mdef\u001b[39;00m \u001b[38;5;21mmerge\u001b[39m(\n\u001b[1;32m   (...)\u001b[0m\n\u001b[0;32m  10828\u001b[0m     validate: MergeValidate \u001b[38;5;241m|\u001b[39m \u001b[38;5;28;01mNone\u001b[39;00m \u001b[38;5;241m=\u001b[39m \u001b[38;5;28;01mNone\u001b[39;00m,\n\u001b[0;32m  10829\u001b[0m ) \u001b[38;5;241m-\u001b[39m\u001b[38;5;241m>\u001b[39m DataFrame:\n\u001b[0;32m  10830\u001b[0m     \u001b[38;5;28;01mfrom\u001b[39;00m \u001b[38;5;21;01mpandas\u001b[39;00m\u001b[38;5;21;01m.\u001b[39;00m\u001b[38;5;21;01mcore\u001b[39;00m\u001b[38;5;21;01m.\u001b[39;00m\u001b[38;5;21;01mreshape\u001b[39;00m\u001b[38;5;21;01m.\u001b[39;00m\u001b[38;5;21;01mmerge\u001b[39;00m \u001b[38;5;28;01mimport\u001b[39;00m merge\n\u001b[1;32m> 10832\u001b[0m     \u001b[38;5;28;01mreturn\u001b[39;00m merge(\n\u001b[0;32m  10833\u001b[0m         \u001b[38;5;28mself\u001b[39m,\n\u001b[0;32m  10834\u001b[0m         right,\n\u001b[0;32m  10835\u001b[0m         how\u001b[38;5;241m=\u001b[39mhow,\n\u001b[0;32m  10836\u001b[0m         on\u001b[38;5;241m=\u001b[39mon,\n\u001b[0;32m  10837\u001b[0m         left_on\u001b[38;5;241m=\u001b[39mleft_on,\n\u001b[0;32m  10838\u001b[0m         right_on\u001b[38;5;241m=\u001b[39mright_on,\n\u001b[0;32m  10839\u001b[0m         left_index\u001b[38;5;241m=\u001b[39mleft_index,\n\u001b[0;32m  10840\u001b[0m         right_index\u001b[38;5;241m=\u001b[39mright_index,\n\u001b[0;32m  10841\u001b[0m         sort\u001b[38;5;241m=\u001b[39msort,\n\u001b[0;32m  10842\u001b[0m         suffixes\u001b[38;5;241m=\u001b[39msuffixes,\n\u001b[0;32m  10843\u001b[0m         copy\u001b[38;5;241m=\u001b[39mcopy,\n\u001b[0;32m  10844\u001b[0m         indicator\u001b[38;5;241m=\u001b[39mindicator,\n\u001b[0;32m  10845\u001b[0m         validate\u001b[38;5;241m=\u001b[39mvalidate,\n\u001b[0;32m  10846\u001b[0m     )\n",
      "File \u001b[1;32mc:\\Users\\beatr\\anaconda3\\Lib\\site-packages\\pandas\\core\\reshape\\merge.py:184\u001b[0m, in \u001b[0;36mmerge\u001b[1;34m(left, right, how, on, left_on, right_on, left_index, right_index, sort, suffixes, copy, indicator, validate)\u001b[0m\n\u001b[0;32m    169\u001b[0m \u001b[38;5;28;01melse\u001b[39;00m:\n\u001b[0;32m    170\u001b[0m     op \u001b[38;5;241m=\u001b[39m _MergeOperation(\n\u001b[0;32m    171\u001b[0m         left_df,\n\u001b[0;32m    172\u001b[0m         right_df,\n\u001b[1;32m   (...)\u001b[0m\n\u001b[0;32m    182\u001b[0m         validate\u001b[38;5;241m=\u001b[39mvalidate,\n\u001b[0;32m    183\u001b[0m     )\n\u001b[1;32m--> 184\u001b[0m     \u001b[38;5;28;01mreturn\u001b[39;00m op\u001b[38;5;241m.\u001b[39mget_result(copy\u001b[38;5;241m=\u001b[39mcopy)\n",
      "File \u001b[1;32mc:\\Users\\beatr\\anaconda3\\Lib\\site-packages\\pandas\\core\\reshape\\merge.py:888\u001b[0m, in \u001b[0;36m_MergeOperation.get_result\u001b[1;34m(self, copy)\u001b[0m\n\u001b[0;32m    884\u001b[0m     \u001b[38;5;28mself\u001b[39m\u001b[38;5;241m.\u001b[39mleft, \u001b[38;5;28mself\u001b[39m\u001b[38;5;241m.\u001b[39mright \u001b[38;5;241m=\u001b[39m \u001b[38;5;28mself\u001b[39m\u001b[38;5;241m.\u001b[39m_indicator_pre_merge(\u001b[38;5;28mself\u001b[39m\u001b[38;5;241m.\u001b[39mleft, \u001b[38;5;28mself\u001b[39m\u001b[38;5;241m.\u001b[39mright)\n\u001b[0;32m    886\u001b[0m join_index, left_indexer, right_indexer \u001b[38;5;241m=\u001b[39m \u001b[38;5;28mself\u001b[39m\u001b[38;5;241m.\u001b[39m_get_join_info()\n\u001b[1;32m--> 888\u001b[0m result \u001b[38;5;241m=\u001b[39m \u001b[38;5;28mself\u001b[39m\u001b[38;5;241m.\u001b[39m_reindex_and_concat(\n\u001b[0;32m    889\u001b[0m     join_index, left_indexer, right_indexer, copy\u001b[38;5;241m=\u001b[39mcopy\n\u001b[0;32m    890\u001b[0m )\n\u001b[0;32m    891\u001b[0m result \u001b[38;5;241m=\u001b[39m result\u001b[38;5;241m.\u001b[39m__finalize__(\u001b[38;5;28mself\u001b[39m, method\u001b[38;5;241m=\u001b[39m\u001b[38;5;28mself\u001b[39m\u001b[38;5;241m.\u001b[39m_merge_type)\n\u001b[0;32m    893\u001b[0m \u001b[38;5;28;01mif\u001b[39;00m \u001b[38;5;28mself\u001b[39m\u001b[38;5;241m.\u001b[39mindicator:\n",
      "File \u001b[1;32mc:\\Users\\beatr\\anaconda3\\Lib\\site-packages\\pandas\\core\\reshape\\merge.py:840\u001b[0m, in \u001b[0;36m_MergeOperation._reindex_and_concat\u001b[1;34m(self, join_index, left_indexer, right_indexer, copy)\u001b[0m\n\u001b[0;32m    837\u001b[0m left \u001b[38;5;241m=\u001b[39m \u001b[38;5;28mself\u001b[39m\u001b[38;5;241m.\u001b[39mleft[:]\n\u001b[0;32m    838\u001b[0m right \u001b[38;5;241m=\u001b[39m \u001b[38;5;28mself\u001b[39m\u001b[38;5;241m.\u001b[39mright[:]\n\u001b[1;32m--> 840\u001b[0m llabels, rlabels \u001b[38;5;241m=\u001b[39m _items_overlap_with_suffix(\n\u001b[0;32m    841\u001b[0m     \u001b[38;5;28mself\u001b[39m\u001b[38;5;241m.\u001b[39mleft\u001b[38;5;241m.\u001b[39m_info_axis, \u001b[38;5;28mself\u001b[39m\u001b[38;5;241m.\u001b[39mright\u001b[38;5;241m.\u001b[39m_info_axis, \u001b[38;5;28mself\u001b[39m\u001b[38;5;241m.\u001b[39msuffixes\n\u001b[0;32m    842\u001b[0m )\n\u001b[0;32m    844\u001b[0m \u001b[38;5;28;01mif\u001b[39;00m left_indexer \u001b[38;5;129;01mis\u001b[39;00m \u001b[38;5;129;01mnot\u001b[39;00m \u001b[38;5;28;01mNone\u001b[39;00m \u001b[38;5;129;01mand\u001b[39;00m \u001b[38;5;129;01mnot\u001b[39;00m is_range_indexer(left_indexer, \u001b[38;5;28mlen\u001b[39m(left)):\n\u001b[0;32m    845\u001b[0m     \u001b[38;5;66;03m# Pinning the index here (and in the right code just below) is not\u001b[39;00m\n\u001b[0;32m    846\u001b[0m     \u001b[38;5;66;03m#  necessary, but makes the `.take` more performant if we have e.g.\u001b[39;00m\n\u001b[0;32m    847\u001b[0m     \u001b[38;5;66;03m#  a MultiIndex for left.index.\u001b[39;00m\n\u001b[0;32m    848\u001b[0m     lmgr \u001b[38;5;241m=\u001b[39m left\u001b[38;5;241m.\u001b[39m_mgr\u001b[38;5;241m.\u001b[39mreindex_indexer(\n\u001b[0;32m    849\u001b[0m         join_index,\n\u001b[0;32m    850\u001b[0m         left_indexer,\n\u001b[1;32m   (...)\u001b[0m\n\u001b[0;32m    855\u001b[0m         use_na_proxy\u001b[38;5;241m=\u001b[39m\u001b[38;5;28;01mTrue\u001b[39;00m,\n\u001b[0;32m    856\u001b[0m     )\n",
      "File \u001b[1;32mc:\\Users\\beatr\\anaconda3\\Lib\\site-packages\\pandas\\core\\reshape\\merge.py:2757\u001b[0m, in \u001b[0;36m_items_overlap_with_suffix\u001b[1;34m(left, right, suffixes)\u001b[0m\n\u001b[0;32m   2755\u001b[0m     dups\u001b[38;5;241m.\u001b[39mextend(rlabels[(rlabels\u001b[38;5;241m.\u001b[39mduplicated()) \u001b[38;5;241m&\u001b[39m (\u001b[38;5;241m~\u001b[39mright\u001b[38;5;241m.\u001b[39mduplicated())]\u001b[38;5;241m.\u001b[39mtolist())\n\u001b[0;32m   2756\u001b[0m \u001b[38;5;28;01mif\u001b[39;00m dups:\n\u001b[1;32m-> 2757\u001b[0m     \u001b[38;5;28;01mraise\u001b[39;00m MergeError(\n\u001b[0;32m   2758\u001b[0m         \u001b[38;5;124mf\u001b[39m\u001b[38;5;124m\"\u001b[39m\u001b[38;5;124mPassing \u001b[39m\u001b[38;5;124m'\u001b[39m\u001b[38;5;124msuffixes\u001b[39m\u001b[38;5;124m'\u001b[39m\u001b[38;5;124m which cause duplicate columns \u001b[39m\u001b[38;5;132;01m{\u001b[39;00m\u001b[38;5;28mset\u001b[39m(dups)\u001b[38;5;132;01m}\u001b[39;00m\u001b[38;5;124m is \u001b[39m\u001b[38;5;124m\"\u001b[39m\n\u001b[0;32m   2759\u001b[0m         \u001b[38;5;124mf\u001b[39m\u001b[38;5;124m\"\u001b[39m\u001b[38;5;124mnot allowed.\u001b[39m\u001b[38;5;124m\"\u001b[39m,\n\u001b[0;32m   2760\u001b[0m     )\n\u001b[0;32m   2762\u001b[0m \u001b[38;5;28;01mreturn\u001b[39;00m llabels, rlabels\n",
      "\u001b[1;31mMergeError\u001b[0m: Passing 'suffixes' which cause duplicate columns {'MAB_ELE_SHP380_x', 'WKLWEUR840_org_x', 'PRO27380_org_x', 'PRO27276_org_x'} is not allowed."
     ]
    }
   ],
   "source": [
    "test_4 = test_4.merge(macro_preds[['PRO27380_org', 'WKLWEUR840_org', 'PRO27276_org', 'MAB_ELE_SHP380']], \n",
    "                       left_index=True, \n",
    "                       right_index=True, \n",
    "                       how='left')\n",
    "test_4 = test_4[['Sales', 'PRO27380_org_y', 'WKLWEUR840_org_y', 'PRO27276_org_y', 'MAB_ELE_SHP380_y']]\n",
    "test_4.columns = ['Sales','PRO27380_org', 'WKLWEUR840_org', 'PRO27276_org', 'MAB_ELE_SHP380'] "
   ]
  },
  {
   "cell_type": "markdown",
   "metadata": {},
   "source": [
    "##### <span style=\"background-color:#000027; padding:5px; border-radius:5px;font-size:13pt\">**5.4. P5: XGBoost  ['PRO27826_org']**</span> <a id='p5'></a> "
   ]
  },
  {
   "cell_type": "code",
   "execution_count": 135,
   "metadata": {},
   "outputs": [
    {
     "data": {
      "text/html": [
       "<div>\n",
       "<style scoped>\n",
       "    .dataframe tbody tr th:only-of-type {\n",
       "        vertical-align: middle;\n",
       "    }\n",
       "\n",
       "    .dataframe tbody tr th {\n",
       "        vertical-align: top;\n",
       "    }\n",
       "\n",
       "    .dataframe thead th {\n",
       "        text-align: right;\n",
       "    }\n",
       "</style>\n",
       "<table border=\"1\" class=\"dataframe\">\n",
       "  <thead>\n",
       "    <tr style=\"text-align: right;\">\n",
       "      <th></th>\n",
       "      <th>PRO27826_org</th>\n",
       "    </tr>\n",
       "    <tr>\n",
       "      <th>Month Year</th>\n",
       "      <th></th>\n",
       "    </tr>\n",
       "  </thead>\n",
       "  <tbody>\n",
       "    <tr>\n",
       "      <th>2022-05-01</th>\n",
       "      <td>NaN</td>\n",
       "    </tr>\n",
       "    <tr>\n",
       "      <th>2022-06-01</th>\n",
       "      <td>NaN</td>\n",
       "    </tr>\n",
       "    <tr>\n",
       "      <th>2022-07-01</th>\n",
       "      <td>NaN</td>\n",
       "    </tr>\n",
       "    <tr>\n",
       "      <th>2022-08-01</th>\n",
       "      <td>NaN</td>\n",
       "    </tr>\n",
       "    <tr>\n",
       "      <th>2022-09-01</th>\n",
       "      <td>NaN</td>\n",
       "    </tr>\n",
       "    <tr>\n",
       "      <th>2022-10-01</th>\n",
       "      <td>NaN</td>\n",
       "    </tr>\n",
       "    <tr>\n",
       "      <th>2022-11-01</th>\n",
       "      <td>NaN</td>\n",
       "    </tr>\n",
       "    <tr>\n",
       "      <th>2022-12-01</th>\n",
       "      <td>NaN</td>\n",
       "    </tr>\n",
       "    <tr>\n",
       "      <th>2023-01-01</th>\n",
       "      <td>NaN</td>\n",
       "    </tr>\n",
       "    <tr>\n",
       "      <th>2023-02-01</th>\n",
       "      <td>NaN</td>\n",
       "    </tr>\n",
       "  </tbody>\n",
       "</table>\n",
       "</div>"
      ],
      "text/plain": [
       "           PRO27826_org\n",
       "Month Year             \n",
       "2022-05-01          NaN\n",
       "2022-06-01          NaN\n",
       "2022-07-01          NaN\n",
       "2022-08-01          NaN\n",
       "2022-09-01          NaN\n",
       "2022-10-01          NaN\n",
       "2022-11-01          NaN\n",
       "2022-12-01          NaN\n",
       "2023-01-01          NaN\n",
       "2023-02-01          NaN"
      ]
     },
     "execution_count": 135,
     "metadata": {},
     "output_type": "execute_result"
    }
   ],
   "source": [
    "test_5 = pd.DataFrame(index=test[test['Mapped_GCK'] == '5']['Month Year'], columns=product_dfs['P5'][['PRO27826_org']].columns)\n",
    "test_5"
   ]
  },
  {
   "cell_type": "code",
   "execution_count": 136,
   "metadata": {},
   "outputs": [
    {
     "data": {
      "text/html": [
       "<div>\n",
       "<style scoped>\n",
       "    .dataframe tbody tr th:only-of-type {\n",
       "        vertical-align: middle;\n",
       "    }\n",
       "\n",
       "    .dataframe tbody tr th {\n",
       "        vertical-align: top;\n",
       "    }\n",
       "\n",
       "    .dataframe thead th {\n",
       "        text-align: right;\n",
       "    }\n",
       "</style>\n",
       "<table border=\"1\" class=\"dataframe\">\n",
       "  <thead>\n",
       "    <tr style=\"text-align: right;\">\n",
       "      <th></th>\n",
       "      <th>PRO27826_org</th>\n",
       "    </tr>\n",
       "    <tr>\n",
       "      <th>Month Year</th>\n",
       "      <th></th>\n",
       "    </tr>\n",
       "  </thead>\n",
       "  <tbody>\n",
       "    <tr>\n",
       "      <th>2022-05-01</th>\n",
       "      <td>115.9040</td>\n",
       "    </tr>\n",
       "    <tr>\n",
       "      <th>2022-06-01</th>\n",
       "      <td>125.3562</td>\n",
       "    </tr>\n",
       "    <tr>\n",
       "      <th>2022-07-01</th>\n",
       "      <td>123.8094</td>\n",
       "    </tr>\n",
       "    <tr>\n",
       "      <th>2022-08-01</th>\n",
       "      <td>122.5133</td>\n",
       "    </tr>\n",
       "    <tr>\n",
       "      <th>2022-09-01</th>\n",
       "      <td>130.8887</td>\n",
       "    </tr>\n",
       "    <tr>\n",
       "      <th>2022-10-01</th>\n",
       "      <td>125.7549</td>\n",
       "    </tr>\n",
       "    <tr>\n",
       "      <th>2022-11-01</th>\n",
       "      <td>130.2161</td>\n",
       "    </tr>\n",
       "    <tr>\n",
       "      <th>2022-12-01</th>\n",
       "      <td>124.3347</td>\n",
       "    </tr>\n",
       "    <tr>\n",
       "      <th>2023-01-01</th>\n",
       "      <td>121.0189</td>\n",
       "    </tr>\n",
       "    <tr>\n",
       "      <th>2023-02-01</th>\n",
       "      <td>122.6496</td>\n",
       "    </tr>\n",
       "  </tbody>\n",
       "</table>\n",
       "</div>"
      ],
      "text/plain": [
       "            PRO27826_org\n",
       "Month Year              \n",
       "2022-05-01      115.9040\n",
       "2022-06-01      125.3562\n",
       "2022-07-01      123.8094\n",
       "2022-08-01      122.5133\n",
       "2022-09-01      130.8887\n",
       "2022-10-01      125.7549\n",
       "2022-11-01      130.2161\n",
       "2022-12-01      124.3347\n",
       "2023-01-01      121.0189\n",
       "2023-02-01      122.6496"
      ]
     },
     "execution_count": 136,
     "metadata": {},
     "output_type": "execute_result"
    }
   ],
   "source": [
    "macro_preds[['PRO27826_org']]"
   ]
  },
  {
   "cell_type": "code",
   "execution_count": 137,
   "metadata": {},
   "outputs": [
    {
     "ename": "KeyError",
     "evalue": "\"None of [Index(['Sales', 'PRO27826_org'], dtype='object')] are in the [columns]\"",
     "output_type": "error",
     "traceback": [
      "\u001b[1;31m---------------------------------------------------------------------------\u001b[0m",
      "\u001b[1;31mKeyError\u001b[0m                                  Traceback (most recent call last)",
      "Cell \u001b[1;32mIn[137], line 5\u001b[0m\n\u001b[0;32m      1\u001b[0m test_5 \u001b[38;5;241m=\u001b[39m test_5\u001b[38;5;241m.\u001b[39mmerge(macro_preds[[\u001b[38;5;124m'\u001b[39m\u001b[38;5;124mPRO27826_org\u001b[39m\u001b[38;5;124m'\u001b[39m]], \n\u001b[0;32m      2\u001b[0m                        left_index\u001b[38;5;241m=\u001b[39m\u001b[38;5;28;01mTrue\u001b[39;00m, \n\u001b[0;32m      3\u001b[0m                        right_index\u001b[38;5;241m=\u001b[39m\u001b[38;5;28;01mTrue\u001b[39;00m, \n\u001b[0;32m      4\u001b[0m                        how\u001b[38;5;241m=\u001b[39m\u001b[38;5;124m'\u001b[39m\u001b[38;5;124mleft\u001b[39m\u001b[38;5;124m'\u001b[39m)\n\u001b[1;32m----> 5\u001b[0m test_5 \u001b[38;5;241m=\u001b[39m test_5[[\u001b[38;5;124m'\u001b[39m\u001b[38;5;124mSales\u001b[39m\u001b[38;5;124m'\u001b[39m, \u001b[38;5;124m'\u001b[39m\u001b[38;5;124mPRO27826_org\u001b[39m\u001b[38;5;124m'\u001b[39m]]\n\u001b[0;32m      6\u001b[0m test_5\u001b[38;5;241m.\u001b[39mcolumns \u001b[38;5;241m=\u001b[39m [\u001b[38;5;124m'\u001b[39m\u001b[38;5;124mSales\u001b[39m\u001b[38;5;124m'\u001b[39m,\u001b[38;5;124m'\u001b[39m\u001b[38;5;124mPRO27826_org\u001b[39m\u001b[38;5;124m'\u001b[39m]\n",
      "File \u001b[1;32mc:\\Users\\beatr\\anaconda3\\Lib\\site-packages\\pandas\\core\\frame.py:4108\u001b[0m, in \u001b[0;36mDataFrame.__getitem__\u001b[1;34m(self, key)\u001b[0m\n\u001b[0;32m   4106\u001b[0m     \u001b[38;5;28;01mif\u001b[39;00m is_iterator(key):\n\u001b[0;32m   4107\u001b[0m         key \u001b[38;5;241m=\u001b[39m \u001b[38;5;28mlist\u001b[39m(key)\n\u001b[1;32m-> 4108\u001b[0m     indexer \u001b[38;5;241m=\u001b[39m \u001b[38;5;28mself\u001b[39m\u001b[38;5;241m.\u001b[39mcolumns\u001b[38;5;241m.\u001b[39m_get_indexer_strict(key, \u001b[38;5;124m\"\u001b[39m\u001b[38;5;124mcolumns\u001b[39m\u001b[38;5;124m\"\u001b[39m)[\u001b[38;5;241m1\u001b[39m]\n\u001b[0;32m   4110\u001b[0m \u001b[38;5;66;03m# take() does not accept boolean indexers\u001b[39;00m\n\u001b[0;32m   4111\u001b[0m \u001b[38;5;28;01mif\u001b[39;00m \u001b[38;5;28mgetattr\u001b[39m(indexer, \u001b[38;5;124m\"\u001b[39m\u001b[38;5;124mdtype\u001b[39m\u001b[38;5;124m\"\u001b[39m, \u001b[38;5;28;01mNone\u001b[39;00m) \u001b[38;5;241m==\u001b[39m \u001b[38;5;28mbool\u001b[39m:\n",
      "File \u001b[1;32mc:\\Users\\beatr\\anaconda3\\Lib\\site-packages\\pandas\\core\\indexes\\base.py:6200\u001b[0m, in \u001b[0;36mIndex._get_indexer_strict\u001b[1;34m(self, key, axis_name)\u001b[0m\n\u001b[0;32m   6197\u001b[0m \u001b[38;5;28;01melse\u001b[39;00m:\n\u001b[0;32m   6198\u001b[0m     keyarr, indexer, new_indexer \u001b[38;5;241m=\u001b[39m \u001b[38;5;28mself\u001b[39m\u001b[38;5;241m.\u001b[39m_reindex_non_unique(keyarr)\n\u001b[1;32m-> 6200\u001b[0m \u001b[38;5;28mself\u001b[39m\u001b[38;5;241m.\u001b[39m_raise_if_missing(keyarr, indexer, axis_name)\n\u001b[0;32m   6202\u001b[0m keyarr \u001b[38;5;241m=\u001b[39m \u001b[38;5;28mself\u001b[39m\u001b[38;5;241m.\u001b[39mtake(indexer)\n\u001b[0;32m   6203\u001b[0m \u001b[38;5;28;01mif\u001b[39;00m \u001b[38;5;28misinstance\u001b[39m(key, Index):\n\u001b[0;32m   6204\u001b[0m     \u001b[38;5;66;03m# GH 42790 - Preserve name from an Index\u001b[39;00m\n",
      "File \u001b[1;32mc:\\Users\\beatr\\anaconda3\\Lib\\site-packages\\pandas\\core\\indexes\\base.py:6249\u001b[0m, in \u001b[0;36mIndex._raise_if_missing\u001b[1;34m(self, key, indexer, axis_name)\u001b[0m\n\u001b[0;32m   6247\u001b[0m \u001b[38;5;28;01mif\u001b[39;00m nmissing:\n\u001b[0;32m   6248\u001b[0m     \u001b[38;5;28;01mif\u001b[39;00m nmissing \u001b[38;5;241m==\u001b[39m \u001b[38;5;28mlen\u001b[39m(indexer):\n\u001b[1;32m-> 6249\u001b[0m         \u001b[38;5;28;01mraise\u001b[39;00m \u001b[38;5;167;01mKeyError\u001b[39;00m(\u001b[38;5;124mf\u001b[39m\u001b[38;5;124m\"\u001b[39m\u001b[38;5;124mNone of [\u001b[39m\u001b[38;5;132;01m{\u001b[39;00mkey\u001b[38;5;132;01m}\u001b[39;00m\u001b[38;5;124m] are in the [\u001b[39m\u001b[38;5;132;01m{\u001b[39;00maxis_name\u001b[38;5;132;01m}\u001b[39;00m\u001b[38;5;124m]\u001b[39m\u001b[38;5;124m\"\u001b[39m)\n\u001b[0;32m   6251\u001b[0m     not_found \u001b[38;5;241m=\u001b[39m \u001b[38;5;28mlist\u001b[39m(ensure_index(key)[missing_mask\u001b[38;5;241m.\u001b[39mnonzero()[\u001b[38;5;241m0\u001b[39m]]\u001b[38;5;241m.\u001b[39munique())\n\u001b[0;32m   6252\u001b[0m     \u001b[38;5;28;01mraise\u001b[39;00m \u001b[38;5;167;01mKeyError\u001b[39;00m(\u001b[38;5;124mf\u001b[39m\u001b[38;5;124m\"\u001b[39m\u001b[38;5;132;01m{\u001b[39;00mnot_found\u001b[38;5;132;01m}\u001b[39;00m\u001b[38;5;124m not in index\u001b[39m\u001b[38;5;124m\"\u001b[39m)\n",
      "\u001b[1;31mKeyError\u001b[0m: \"None of [Index(['Sales', 'PRO27826_org'], dtype='object')] are in the [columns]\""
     ]
    }
   ],
   "source": [
    "test_5 = test_5.merge(macro_preds[['PRO27826_org']], \n",
    "                       left_index=True, \n",
    "                       right_index=True, \n",
    "                       how='left')\n",
    "test_5 = test_5[['Sales', 'PRO27826_org']]\n",
    "test_5.columns = ['Sales','PRO27826_org'] "
   ]
  },
  {
   "cell_type": "markdown",
   "metadata": {},
   "source": [
    "##### <span style=\"background-color:#000027; padding:5px; border-radius:5px;font-size:13pt\">**5.5. P6: ARIMA  ['PRO27840_org', 'RohCRUDE_PETRO1000_org']**</span> <a id='p6'></a> "
   ]
  },
  {
   "cell_type": "code",
   "execution_count": 131,
   "metadata": {},
   "outputs": [
    {
     "data": {
      "text/html": [
       "<div>\n",
       "<style scoped>\n",
       "    .dataframe tbody tr th:only-of-type {\n",
       "        vertical-align: middle;\n",
       "    }\n",
       "\n",
       "    .dataframe tbody tr th {\n",
       "        vertical-align: top;\n",
       "    }\n",
       "\n",
       "    .dataframe thead th {\n",
       "        text-align: right;\n",
       "    }\n",
       "</style>\n",
       "<table border=\"1\" class=\"dataframe\">\n",
       "  <thead>\n",
       "    <tr style=\"text-align: right;\">\n",
       "      <th></th>\n",
       "      <th>PRO27840_org</th>\n",
       "      <th>RohCRUDE_PETRO1000_org</th>\n",
       "    </tr>\n",
       "    <tr>\n",
       "      <th>Month Year</th>\n",
       "      <th></th>\n",
       "      <th></th>\n",
       "    </tr>\n",
       "  </thead>\n",
       "  <tbody>\n",
       "    <tr>\n",
       "      <th>2022-05-01</th>\n",
       "      <td>NaN</td>\n",
       "      <td>NaN</td>\n",
       "    </tr>\n",
       "    <tr>\n",
       "      <th>2022-06-01</th>\n",
       "      <td>NaN</td>\n",
       "      <td>NaN</td>\n",
       "    </tr>\n",
       "    <tr>\n",
       "      <th>2022-07-01</th>\n",
       "      <td>NaN</td>\n",
       "      <td>NaN</td>\n",
       "    </tr>\n",
       "    <tr>\n",
       "      <th>2022-08-01</th>\n",
       "      <td>NaN</td>\n",
       "      <td>NaN</td>\n",
       "    </tr>\n",
       "    <tr>\n",
       "      <th>2022-09-01</th>\n",
       "      <td>NaN</td>\n",
       "      <td>NaN</td>\n",
       "    </tr>\n",
       "    <tr>\n",
       "      <th>2022-10-01</th>\n",
       "      <td>NaN</td>\n",
       "      <td>NaN</td>\n",
       "    </tr>\n",
       "    <tr>\n",
       "      <th>2022-11-01</th>\n",
       "      <td>NaN</td>\n",
       "      <td>NaN</td>\n",
       "    </tr>\n",
       "    <tr>\n",
       "      <th>2022-12-01</th>\n",
       "      <td>NaN</td>\n",
       "      <td>NaN</td>\n",
       "    </tr>\n",
       "    <tr>\n",
       "      <th>2023-01-01</th>\n",
       "      <td>NaN</td>\n",
       "      <td>NaN</td>\n",
       "    </tr>\n",
       "    <tr>\n",
       "      <th>2023-02-01</th>\n",
       "      <td>NaN</td>\n",
       "      <td>NaN</td>\n",
       "    </tr>\n",
       "  </tbody>\n",
       "</table>\n",
       "</div>"
      ],
      "text/plain": [
       "           PRO27840_org RohCRUDE_PETRO1000_org\n",
       "Month Year                                    \n",
       "2022-05-01          NaN                    NaN\n",
       "2022-06-01          NaN                    NaN\n",
       "2022-07-01          NaN                    NaN\n",
       "2022-08-01          NaN                    NaN\n",
       "2022-09-01          NaN                    NaN\n",
       "2022-10-01          NaN                    NaN\n",
       "2022-11-01          NaN                    NaN\n",
       "2022-12-01          NaN                    NaN\n",
       "2023-01-01          NaN                    NaN\n",
       "2023-02-01          NaN                    NaN"
      ]
     },
     "execution_count": 131,
     "metadata": {},
     "output_type": "execute_result"
    }
   ],
   "source": [
    "test_6 = pd.DataFrame(index=test[test['Mapped_GCK'] == '6']['Month Year'], columns=product_dfs['P6'][['PRO27840_org', 'RohCRUDE_PETRO1000_org']].columns)\n",
    "test_6"
   ]
  },
  {
   "cell_type": "code",
   "execution_count": null,
   "metadata": {},
   "outputs": [],
   "source": [
    "macro_preds[['PRO27840_org', 'RohCRUDE_PETRO1000_org']]"
   ]
  },
  {
   "cell_type": "code",
   "execution_count": 132,
   "metadata": {},
   "outputs": [
    {
     "data": {
      "text/html": [
       "<div>\n",
       "<style scoped>\n",
       "    .dataframe tbody tr th:only-of-type {\n",
       "        vertical-align: middle;\n",
       "    }\n",
       "\n",
       "    .dataframe tbody tr th {\n",
       "        vertical-align: top;\n",
       "    }\n",
       "\n",
       "    .dataframe thead th {\n",
       "        text-align: right;\n",
       "    }\n",
       "</style>\n",
       "<table border=\"1\" class=\"dataframe\">\n",
       "  <thead>\n",
       "    <tr style=\"text-align: right;\">\n",
       "      <th></th>\n",
       "      <th>PRO27840_org</th>\n",
       "      <th>RohCRUDE_PETRO1000_org</th>\n",
       "    </tr>\n",
       "    <tr>\n",
       "      <th>Month Year</th>\n",
       "      <th></th>\n",
       "      <th></th>\n",
       "    </tr>\n",
       "  </thead>\n",
       "  <tbody>\n",
       "    <tr>\n",
       "      <th>2022-05-01</th>\n",
       "      <td>112.9188</td>\n",
       "      <td>135.8693</td>\n",
       "    </tr>\n",
       "    <tr>\n",
       "      <th>2022-06-01</th>\n",
       "      <td>112.9100</td>\n",
       "      <td>141.2402</td>\n",
       "    </tr>\n",
       "    <tr>\n",
       "      <th>2022-07-01</th>\n",
       "      <td>113.3063</td>\n",
       "      <td>145.0944</td>\n",
       "    </tr>\n",
       "    <tr>\n",
       "      <th>2022-08-01</th>\n",
       "      <td>114.0220</td>\n",
       "      <td>146.4789</td>\n",
       "    </tr>\n",
       "    <tr>\n",
       "      <th>2022-09-01</th>\n",
       "      <td>113.4420</td>\n",
       "      <td>147.0982</td>\n",
       "    </tr>\n",
       "    <tr>\n",
       "      <th>2022-10-01</th>\n",
       "      <td>115.5943</td>\n",
       "      <td>150.0592</td>\n",
       "    </tr>\n",
       "    <tr>\n",
       "      <th>2022-11-01</th>\n",
       "      <td>115.5804</td>\n",
       "      <td>151.3860</td>\n",
       "    </tr>\n",
       "    <tr>\n",
       "      <th>2022-12-01</th>\n",
       "      <td>114.2411</td>\n",
       "      <td>151.8687</td>\n",
       "    </tr>\n",
       "    <tr>\n",
       "      <th>2023-01-01</th>\n",
       "      <td>115.5560</td>\n",
       "      <td>158.1927</td>\n",
       "    </tr>\n",
       "    <tr>\n",
       "      <th>2023-02-01</th>\n",
       "      <td>115.8004</td>\n",
       "      <td>162.5496</td>\n",
       "    </tr>\n",
       "  </tbody>\n",
       "</table>\n",
       "</div>"
      ],
      "text/plain": [
       "            PRO27840_org  RohCRUDE_PETRO1000_org\n",
       "Month Year                                      \n",
       "2022-05-01      112.9188                135.8693\n",
       "2022-06-01      112.9100                141.2402\n",
       "2022-07-01      113.3063                145.0944\n",
       "2022-08-01      114.0220                146.4789\n",
       "2022-09-01      113.4420                147.0982\n",
       "2022-10-01      115.5943                150.0592\n",
       "2022-11-01      115.5804                151.3860\n",
       "2022-12-01      114.2411                151.8687\n",
       "2023-01-01      115.5560                158.1927\n",
       "2023-02-01      115.8004                162.5496"
      ]
     },
     "execution_count": 132,
     "metadata": {},
     "output_type": "execute_result"
    }
   ],
   "source": [
    "macro_preds[['PRO27840_org', 'RohCRUDE_PETRO1000_org']]"
   ]
  },
  {
   "cell_type": "code",
   "execution_count": 133,
   "metadata": {},
   "outputs": [
    {
     "ename": "KeyError",
     "evalue": "\"None of [Index(['Sales', 'PRO27840_org', 'RohCRUDE_PETRO1000_org'], dtype='object')] are in the [columns]\"",
     "output_type": "error",
     "traceback": [
      "\u001b[1;31m---------------------------------------------------------------------------\u001b[0m",
      "\u001b[1;31mKeyError\u001b[0m                                  Traceback (most recent call last)",
      "Cell \u001b[1;32mIn[133], line 5\u001b[0m\n\u001b[0;32m      1\u001b[0m test_6 \u001b[38;5;241m=\u001b[39m test_6\u001b[38;5;241m.\u001b[39mmerge(macro_preds[[\u001b[38;5;124m'\u001b[39m\u001b[38;5;124mPRO27840_org\u001b[39m\u001b[38;5;124m'\u001b[39m, \u001b[38;5;124m'\u001b[39m\u001b[38;5;124mRohCRUDE_PETRO1000_org\u001b[39m\u001b[38;5;124m'\u001b[39m]], \n\u001b[0;32m      2\u001b[0m                        left_index\u001b[38;5;241m=\u001b[39m\u001b[38;5;28;01mTrue\u001b[39;00m, \n\u001b[0;32m      3\u001b[0m                        right_index\u001b[38;5;241m=\u001b[39m\u001b[38;5;28;01mTrue\u001b[39;00m, \n\u001b[0;32m      4\u001b[0m                        how\u001b[38;5;241m=\u001b[39m\u001b[38;5;124m'\u001b[39m\u001b[38;5;124mleft\u001b[39m\u001b[38;5;124m'\u001b[39m)\n\u001b[1;32m----> 5\u001b[0m test_6 \u001b[38;5;241m=\u001b[39m test_6[[\u001b[38;5;124m'\u001b[39m\u001b[38;5;124mSales\u001b[39m\u001b[38;5;124m'\u001b[39m, \u001b[38;5;124m'\u001b[39m\u001b[38;5;124mPRO27840_org\u001b[39m\u001b[38;5;124m'\u001b[39m, \u001b[38;5;124m'\u001b[39m\u001b[38;5;124mRohCRUDE_PETRO1000_org\u001b[39m\u001b[38;5;124m'\u001b[39m]]\n\u001b[0;32m      6\u001b[0m test_6\u001b[38;5;241m.\u001b[39mcolumns \u001b[38;5;241m=\u001b[39m [\u001b[38;5;124m'\u001b[39m\u001b[38;5;124mSales\u001b[39m\u001b[38;5;124m'\u001b[39m,\u001b[38;5;124m'\u001b[39m\u001b[38;5;124mPRO27840_org\u001b[39m\u001b[38;5;124m'\u001b[39m, \u001b[38;5;124m'\u001b[39m\u001b[38;5;124mRohCRUDE_PETRO1000_org\u001b[39m\u001b[38;5;124m'\u001b[39m]\n",
      "File \u001b[1;32mc:\\Users\\beatr\\anaconda3\\Lib\\site-packages\\pandas\\core\\frame.py:4108\u001b[0m, in \u001b[0;36mDataFrame.__getitem__\u001b[1;34m(self, key)\u001b[0m\n\u001b[0;32m   4106\u001b[0m     \u001b[38;5;28;01mif\u001b[39;00m is_iterator(key):\n\u001b[0;32m   4107\u001b[0m         key \u001b[38;5;241m=\u001b[39m \u001b[38;5;28mlist\u001b[39m(key)\n\u001b[1;32m-> 4108\u001b[0m     indexer \u001b[38;5;241m=\u001b[39m \u001b[38;5;28mself\u001b[39m\u001b[38;5;241m.\u001b[39mcolumns\u001b[38;5;241m.\u001b[39m_get_indexer_strict(key, \u001b[38;5;124m\"\u001b[39m\u001b[38;5;124mcolumns\u001b[39m\u001b[38;5;124m\"\u001b[39m)[\u001b[38;5;241m1\u001b[39m]\n\u001b[0;32m   4110\u001b[0m \u001b[38;5;66;03m# take() does not accept boolean indexers\u001b[39;00m\n\u001b[0;32m   4111\u001b[0m \u001b[38;5;28;01mif\u001b[39;00m \u001b[38;5;28mgetattr\u001b[39m(indexer, \u001b[38;5;124m\"\u001b[39m\u001b[38;5;124mdtype\u001b[39m\u001b[38;5;124m\"\u001b[39m, \u001b[38;5;28;01mNone\u001b[39;00m) \u001b[38;5;241m==\u001b[39m \u001b[38;5;28mbool\u001b[39m:\n",
      "File \u001b[1;32mc:\\Users\\beatr\\anaconda3\\Lib\\site-packages\\pandas\\core\\indexes\\base.py:6200\u001b[0m, in \u001b[0;36mIndex._get_indexer_strict\u001b[1;34m(self, key, axis_name)\u001b[0m\n\u001b[0;32m   6197\u001b[0m \u001b[38;5;28;01melse\u001b[39;00m:\n\u001b[0;32m   6198\u001b[0m     keyarr, indexer, new_indexer \u001b[38;5;241m=\u001b[39m \u001b[38;5;28mself\u001b[39m\u001b[38;5;241m.\u001b[39m_reindex_non_unique(keyarr)\n\u001b[1;32m-> 6200\u001b[0m \u001b[38;5;28mself\u001b[39m\u001b[38;5;241m.\u001b[39m_raise_if_missing(keyarr, indexer, axis_name)\n\u001b[0;32m   6202\u001b[0m keyarr \u001b[38;5;241m=\u001b[39m \u001b[38;5;28mself\u001b[39m\u001b[38;5;241m.\u001b[39mtake(indexer)\n\u001b[0;32m   6203\u001b[0m \u001b[38;5;28;01mif\u001b[39;00m \u001b[38;5;28misinstance\u001b[39m(key, Index):\n\u001b[0;32m   6204\u001b[0m     \u001b[38;5;66;03m# GH 42790 - Preserve name from an Index\u001b[39;00m\n",
      "File \u001b[1;32mc:\\Users\\beatr\\anaconda3\\Lib\\site-packages\\pandas\\core\\indexes\\base.py:6249\u001b[0m, in \u001b[0;36mIndex._raise_if_missing\u001b[1;34m(self, key, indexer, axis_name)\u001b[0m\n\u001b[0;32m   6247\u001b[0m \u001b[38;5;28;01mif\u001b[39;00m nmissing:\n\u001b[0;32m   6248\u001b[0m     \u001b[38;5;28;01mif\u001b[39;00m nmissing \u001b[38;5;241m==\u001b[39m \u001b[38;5;28mlen\u001b[39m(indexer):\n\u001b[1;32m-> 6249\u001b[0m         \u001b[38;5;28;01mraise\u001b[39;00m \u001b[38;5;167;01mKeyError\u001b[39;00m(\u001b[38;5;124mf\u001b[39m\u001b[38;5;124m\"\u001b[39m\u001b[38;5;124mNone of [\u001b[39m\u001b[38;5;132;01m{\u001b[39;00mkey\u001b[38;5;132;01m}\u001b[39;00m\u001b[38;5;124m] are in the [\u001b[39m\u001b[38;5;132;01m{\u001b[39;00maxis_name\u001b[38;5;132;01m}\u001b[39;00m\u001b[38;5;124m]\u001b[39m\u001b[38;5;124m\"\u001b[39m)\n\u001b[0;32m   6251\u001b[0m     not_found \u001b[38;5;241m=\u001b[39m \u001b[38;5;28mlist\u001b[39m(ensure_index(key)[missing_mask\u001b[38;5;241m.\u001b[39mnonzero()[\u001b[38;5;241m0\u001b[39m]]\u001b[38;5;241m.\u001b[39munique())\n\u001b[0;32m   6252\u001b[0m     \u001b[38;5;28;01mraise\u001b[39;00m \u001b[38;5;167;01mKeyError\u001b[39;00m(\u001b[38;5;124mf\u001b[39m\u001b[38;5;124m\"\u001b[39m\u001b[38;5;132;01m{\u001b[39;00mnot_found\u001b[38;5;132;01m}\u001b[39;00m\u001b[38;5;124m not in index\u001b[39m\u001b[38;5;124m\"\u001b[39m)\n",
      "\u001b[1;31mKeyError\u001b[0m: \"None of [Index(['Sales', 'PRO27840_org', 'RohCRUDE_PETRO1000_org'], dtype='object')] are in the [columns]\""
     ]
    }
   ],
   "source": [
    "test_6 = test_6.merge(macro_preds[['PRO27840_org', 'RohCRUDE_PETRO1000_org']], \n",
    "                       left_index=True, \n",
    "                       right_index=True, \n",
    "                       how='left')\n",
    "test_6 = test_6[['Sales', 'PRO27840_org', 'RohCRUDE_PETRO1000_org']]\n",
    "test_6.columns = ['Sales','PRO27840_org', 'RohCRUDE_PETRO1000_org'] "
   ]
  }
 ],
 "metadata": {
  "kernelspec": {
   "display_name": "base",
   "language": "python",
   "name": "python3"
  },
  "language_info": {
   "codemirror_mode": {
    "name": "ipython",
    "version": 3
   },
   "file_extension": ".py",
   "mimetype": "text/x-python",
   "name": "python",
   "nbconvert_exporter": "python",
   "pygments_lexer": "ipython3",
   "version": "3.12.7"
  }
 },
 "nbformat": 4,
 "nbformat_minor": 2
}
