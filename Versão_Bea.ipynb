{
 "cells": [
  {
   "cell_type": "markdown",
   "metadata": {},
   "source": [
    "<p align=\"center\">\n",
    "  <img src=\"header.jpg\" width=\"100%\">\n",
    "</p>\n",
    "\n",
    "\n",
    "<div style=\"text-align: center;\">\n",
    "    <strong style=\"display: block; margin-bottom: 10px;\">Group P</strong> \n",
    "    <table style=\"margin: 0 auto; border-collapse: collapse; border: 1px solid black;\">\n",
    "        <tr>\n",
    "            <th style=\"border: 1px solid white; padding: 8px;\">Name</th>\n",
    "            <th style=\"border: 1px solid white; padding: 8px;\">Student ID</th>\n",
    "        </tr>\n",
    "        <tr>\n",
    "            <td style=\"border: 1px solid white; padding: 8px;\">Beatriz Monteiro</td>\n",
    "            <td style=\"border: 1px solid white; padding: 8px;\">20240591</td>\n",
    "        </tr>\n",
    "        <tr>\n",
    "            <td style=\"border: 1px solid white; padding: 8px;\">Catarina Nunes</td>\n",
    "            <td style=\"border: 1px solid white; padding: 8px;\">20230083</td>\n",
    "        </tr>\n",
    "        <tr>\n",
    "            <td style=\"border: 1px solid white; padding: 8px;\">Margarida Raposo</td>\n",
    "            <td style=\"border: 1px solid white; padding: 8px;\">20241020</td>\n",
    "        </tr>\n",
    "        <tr>\n",
    "            <td style=\"border: 1px solid white; padding: 8px;\">Teresa Menezes</td>\n",
    "            <td style=\"border: 1px solid white; padding: 8px;\">20240333</td>\n",
    "        </tr>\n",
    "    </table>\n",
    "</div>"
   ]
  },
  {
   "cell_type": "markdown",
   "metadata": {},
   "source": [
    "### 🔗 Table of Contents <a id='table-of-contents'></a>\n",
    "1. [Introduction](#introduction)  \n",
    "2. [Business Understanding](#business-understanding)  \n",
    "3. [Data Understanding](#data-understanding)  \n",
    "4. [Data Preparation](#data-preparation)  \n",
    "5. [Modeling](#modeling)  \n",
    "6. [Evaluation](#evaluation)  \n",
    "7. [Conclusion](#conclusion)  \n",
    "\n",
    "---"
   ]
  },
  {
   "cell_type": "markdown",
   "metadata": {},
   "source": [
    "### <span style=\"background-color:#235987; padding:5px; border-radius:5px;\"> 📌 Introduction <a id='introduction'></a>\n",
    "\n",
    "This project follows the **CRISP-DM** methodology to conduct a monthly sales forecast of the smart infrastructure business unit of Siemens. \n",
    "\n",
    "\n",
    "#### Montlhy Sales Forecast\n",
    "\n",
    "<p style=\"margin-bottom: 50px;\"> This case study focuses on ... </p>\n",
    "\n",
    "**Market Data** \n",
    "\n",
    "| Features                                      | Feature Description |\n",
    "|-----------------------------------------------|---------------------|\n",
    "| *date*                                       |  |\n",
    "| *China_Production*                            |  |\n",
    "| *China_Shipment*                              |  |\n",
    "| *France_Production*                           |  |\n",
    "| *France_Shipment*                             |  |\n",
    "| *Germany_Production*                          |  |\n",
    "| *Germany_Shipment*                            |  |\n",
    "| *Italy_Production*                            |  |\n",
    "| *Italy_Shipment*                              |  |\n",
    "| *Japan_Production*                            |  |\n",
    "| *Japan_Shipment*                              |  |\n",
    "| *Switzerland_Production*                      |  |\n",
    "| *Switzerland_Shipment*                        |  |\n",
    "| *UK_Production*                               |  |\n",
    "| *UK_Shipment*                                 |  |\n",
    "| *US_Production*                               |  |\n",
    "| *US_Shipment*                                 |  |\n",
    "| *Europe_Production*                           |  |\n",
    "| *Europe_Shipment*                             |  |\n",
    "| *Base_Metal_Price*                            |  |\n",
    "| *Energy_Price*                                |  |\n",
    "| *Metal_and_Minerals_Price*                    |  |\n",
    "| *Natural_Gas_Price*                           |  |\n",
    "| *Crude_oil_avg_Price*                         |  |\n",
    "| *Copper_price*                                |  |\n",
    "| *LCU_EUR*                                     |  |\n",
    "| *US_Producer_Price_Electrical_equip*          |  |\n",
    "| *UK_Producer_Price_Electrical_equip*          |  |\n",
    "| *Italy_Producer_Price_Electrical_equip*       |  |\n",
    "| *France_Producer_Price_Electrical_equip*      |  |\n",
    "| *Germany_Producer_Price_Electrical_equip*     |  |\n",
    "| *China_Producer_Price_Electrical_equip*       |  |\n",
    "| *US_Production_Index_Machinery_and_equipment* |  |\n",
    "| *World_Production_Index_Machinery_and_equip*  |  |\n",
    "| *Switzerland_Production_Index_Machinery_and_equip* |  |\n",
    "| *UK_Production_Index_Machinery_and_equip*     |  |\n",
    "| *Italy_Production_Index_Machinery_and_equip*  |  |\n",
    "| *Japan_Production_Index_Machinery_and_equip*  |  |\n",
    "| *France_Production_Index_Machinery_and_equip* |  |\n",
    "| *Germany_Production_Index_Machinery_and_equip* |  |\n",
    "| *US_Production_Index_Electrical_equip*        |  |\n",
    "| *World_Production_Index_Electrical_equip*     |  |\n",
    "| *Switzerland_Production_Index_Electrical_equip* |  |\n",
    "| *UK_Production_Index_Electrical_equip*        |  |\n",
    "| *Italy_Production_Index_Electrical_equip*     |  |\n",
    "| *Japan_Production_Index_Electrical_equip*     |  |\n",
    "| *France_Production_Index_Electrical_equip*    |  |\n",
    "| *Germany_Production_Index_Electrical_equip*   |  |\n",
    "\n",
    "\n",
    "**Sales Data**\n",
    "| Features                                      | Feature Description |\n",
    "|-----------------------------------------------|---------------------|\n",
    "| *DATE*                                       |   |\n",
    "| *Mapped_GCK*                                 |   |\n",
    "| *Sales_EUR*                                  |   |\n",
    "\n",
    "<b style=\"background-color:#A9A9A9; padding:5px; border-radius:5px; display: inline-block; margin-top: 50px;\">CRISP-DM</b>\n",
    "\n",
    "<ul style=\"margin-bottom: 30px;\">\n",
    "    <li><u>Business Understanding</u>: Defining objectives, assessing resources, and project planning.</li>\n",
    "    <li><u>Data Understanding</u>: Collecting, exploring, and verifying data quality.</li>\n",
    "    <li><u>Data Preparation</u>: Selecting, cleaning, constructing, integrating, and formatting data to ensure it is ready for analysis.</li>\n",
    "    <li><u>Modeling</u>: Selecting and applying various modeling techniques while calibrating their parameters to optimal values.</li>\n",
    "    <li><u>Evaluation</u>: Select the models which are the best performers and evaluate thoroughly if they align with the business objectives. </li>\n",
    "    <li><u>Deployment</u>: Bridge between data mining goals and the business application of the finalized model.</li>\n",
    "</ul>\n",
    "\n",
    "<hr style=\"margin-top: 30px;\">\n"
   ]
  },
  {
   "cell_type": "code",
   "execution_count": 75,
   "metadata": {},
   "outputs": [],
   "source": [
    "import pandas as pd\n",
    "import numpy as np\n",
    "\n",
    "import seaborn as sns\n",
    "import plotly.express as px\n",
    "\n",
    "from statsmodels.tsa.stattools import adfuller"
   ]
  },
  {
   "cell_type": "code",
   "execution_count": 34,
   "metadata": {
    "vscode": {
     "languageId": "powershell"
    }
   },
   "outputs": [],
   "source": [
    "pd.set_option('display.max_columns', None)"
   ]
  },
  {
   "cell_type": "code",
   "execution_count": 35,
   "metadata": {
    "vscode": {
     "languageId": "powershell"
    }
   },
   "outputs": [],
   "source": [
    "#compose a pallete to use in the vizualizations\n",
    "pal_novaims = ['#003B5C','#003B5C','#003B5C','#003B5C','#003B5C']\n",
    "pastel_color = sns.utils.set_hls_values(pal_novaims[1], l=0.4, s=0.3)"
   ]
  },
  {
   "cell_type": "markdown",
   "metadata": {},
   "source": [
    "### <span style=\"background-color:#235987; padding:5px; border-radius:5px;\"> 📌 Business Understanding <a id='business-understanding'></a>\n",
    "\n",
    "##### Click [here](#table-of-contents) ⬆️ to return to the Index.\n",
    "---"
   ]
  },
  {
   "cell_type": "markdown",
   "metadata": {},
   "source": [
    "The **Business Understanding** phase of the project entails the comprehension of the background leading to the project, as well as the business goals and requirements to be achieved. \n",
    "\n",
    "<b style=\"background-color:#A9A9A9; padding:5px; border-radius:5px;\">Primary Business Objective</b> : \n",
    "\n",
    "\n",
    "<b style=\"background-color:#A9A9A9; padding:5px; border-radius:5px;\">Plan</b> : "
   ]
  },
  {
   "cell_type": "markdown",
   "metadata": {},
   "source": [
    "### <span style=\"background-color:#235987; padding:5px; border-radius:5px;\"> 📌 Data Understanding</span> <a id='data-understanding'></a>\n",
    "\n",
    "- **[Data Loading and Description](#data-loading-and-description)**  \n",
    "- **[Data Types](#Data-TypesDU)**\n",
    "- **[Univariate EDA: Descriptive Summary](#Descriptive-Summary)**\n",
    "- **[Univariate EDA: Missing values](#missing-valuesDU)**  \n",
    "- **[Inconsistencies](#inconsistenciesDU)**  \n",
    "- **[Feature Engineering](#feature-engineeringDU)**  \n",
    "- **[Univariate EDA: Data Visualization](#univariate-vizualization)**  \n",
    "    - **Numerical Variables:**  \n",
    "        - [Numeric variables: Histograms](#hist)\n",
    "        - [Outliers Analysis: Box-Plots](#box)\n",
    "    - **Categorical Variables**  \n",
    "        - [Categorical variables: Bar Plots](#bar)\n",
    "        - [Categorical variables: Geographic Map](#GeographicMap)\n",
    "- **[Bivariate EDA: Data Visualization](#Bivariate-Vizualization)**  \n",
    "   - [Numeric-Numeric: Correlations](#NNCorrelations)\n",
    "   - [Numeric-Categorical: Correlations](#NCCorrelations)\n",
    "   - [Categorical-Categorical: Cross-tabulations](#CCCross-tabulations)\n",
    "- **[Multivariate EDA: Duplicates](#Multivariate)**\n",
    "\n",
    "\n",
    "##### Click [here](#table-of-contents) ⬆️ to return to the Index.\n",
    "---"
   ]
  },
  {
   "cell_type": "markdown",
   "metadata": {},
   "source": [
    "#### <span style=\"background-color:#235987; padding:5px; border-radius:5px;\">**Data Loading and Description**</span> <a id='data-loading-and-description'></a>  \n",
    "_This section provides an overview of the datasets, including their structure, size, and general characteristics._  \n",
    "\n",
    "##### Click [here](#table-of-contents) ⬆️ to return to the Index.\n"
   ]
  },
  {
   "cell_type": "markdown",
   "metadata": {},
   "source": [
    "#### df_market"
   ]
  },
  {
   "cell_type": "code",
   "execution_count": 36,
   "metadata": {},
   "outputs": [
    {
     "data": {
      "text/html": [
       "<div>\n",
       "<style scoped>\n",
       "    .dataframe tbody tr th:only-of-type {\n",
       "        vertical-align: middle;\n",
       "    }\n",
       "\n",
       "    .dataframe tbody tr th {\n",
       "        vertical-align: top;\n",
       "    }\n",
       "\n",
       "    .dataframe thead th {\n",
       "        text-align: right;\n",
       "    }\n",
       "</style>\n",
       "<table border=\"1\" class=\"dataframe\">\n",
       "  <thead>\n",
       "    <tr style=\"text-align: right;\">\n",
       "      <th></th>\n",
       "      <th>date</th>\n",
       "      <th>China_Production</th>\n",
       "      <th>China_Shipment</th>\n",
       "      <th>France_Production</th>\n",
       "      <th>France_Shipment</th>\n",
       "      <th>Germany_Production</th>\n",
       "      <th>Germany_Shipment</th>\n",
       "      <th>Italy_Production</th>\n",
       "      <th>Italy_Shipment</th>\n",
       "      <th>Japan_Production</th>\n",
       "      <th>Japan_Shipment</th>\n",
       "      <th>Switzerland_Production</th>\n",
       "      <th>Switzerland_Shipment</th>\n",
       "      <th>UK_Production</th>\n",
       "      <th>UK_Shipment</th>\n",
       "      <th>US_Production</th>\n",
       "      <th>US_Shipment</th>\n",
       "      <th>Europe_Production</th>\n",
       "      <th>Europe_Shipment</th>\n",
       "      <th>Base_Metal_Price</th>\n",
       "      <th>Energy_Price</th>\n",
       "      <th>Metal_and_Minerals_Price</th>\n",
       "      <th>Natural_Gas_Price</th>\n",
       "      <th>Crude_oil_avg_Price</th>\n",
       "      <th>Copper_price</th>\n",
       "      <th>LCU_EUR</th>\n",
       "      <th>US_Producer_Price_Electrical_equip</th>\n",
       "      <th>UK_Producer_Price_Electrical_equip</th>\n",
       "      <th>Italy_Producer_Price_Electrical_equip</th>\n",
       "      <th>France_Producer_Price_Electrical_equip</th>\n",
       "      <th>Germany_Producer_Price_Electrical_equip</th>\n",
       "      <th>China_Producer_Price_Electrical_equip</th>\n",
       "      <th>US_Production_Index_Machinery_and_equip</th>\n",
       "      <th>World_Production_Index_Machinery_and_equip</th>\n",
       "      <th>Switzerland_Production_Index_Machinery_and_equip</th>\n",
       "      <th>UK_Production_Index_Machinery_and_equip</th>\n",
       "      <th>Italy_Production_Index_Machinery_and_equip</th>\n",
       "      <th>Japan_Production_Index_Machinery_and_equip</th>\n",
       "      <th>France_Production_Index_Machinery_and_equip</th>\n",
       "      <th>Germany_Production_Index_Machinery_and_equip</th>\n",
       "      <th>US_Production_Index_Electrical_equip</th>\n",
       "      <th>World_Production_Index_Electrical_equip</th>\n",
       "      <th>Switzerland_Production_Index_Electrical_equip</th>\n",
       "      <th>UK_Production_Index_Electrical_equip</th>\n",
       "      <th>Italy_Production_Index_Electrical_equip</th>\n",
       "      <th>Japan_Production_Index_Electrical_equip</th>\n",
       "      <th>France_Production_Index_Electrical_equip</th>\n",
       "      <th>Germany_Production_Index_Electrical_equip</th>\n",
       "    </tr>\n",
       "  </thead>\n",
       "  <tbody>\n",
       "    <tr>\n",
       "      <th>0</th>\n",
       "      <td>2004m2</td>\n",
       "      <td>16.940704</td>\n",
       "      <td>16.940704</td>\n",
       "      <td>112.091273</td>\n",
       "      <td>83.458866</td>\n",
       "      <td>82.623037</td>\n",
       "      <td>79.452532</td>\n",
       "      <td>124.289603</td>\n",
       "      <td>86.560493</td>\n",
       "      <td>109.334010</td>\n",
       "      <td>110.495272</td>\n",
       "      <td>91.221862</td>\n",
       "      <td>89.987275</td>\n",
       "      <td>111.353812</td>\n",
       "      <td>73.601265</td>\n",
       "      <td>107.601400</td>\n",
       "      <td>79.240230</td>\n",
       "      <td>97.122911</td>\n",
       "      <td>80.098530</td>\n",
       "      <td>54.039811</td>\n",
       "      <td>44.123338</td>\n",
       "      <td>48.747945</td>\n",
       "      <td>87.076974</td>\n",
       "      <td>39.639458</td>\n",
       "      <td>36.623832</td>\n",
       "      <td>1.2646</td>\n",
       "      <td>78.969864</td>\n",
       "      <td>80.757423</td>\n",
       "      <td>93.020027</td>\n",
       "      <td>NaN</td>\n",
       "      <td>93.230453</td>\n",
       "      <td>NaN</td>\n",
       "      <td>102.491722</td>\n",
       "      <td>97.597374</td>\n",
       "      <td>97.100000</td>\n",
       "      <td>106.191977</td>\n",
       "      <td>116.790276</td>\n",
       "      <td>110.890034</td>\n",
       "      <td>118.274109</td>\n",
       "      <td>80.829010</td>\n",
       "      <td>117.723991</td>\n",
       "      <td>NaN</td>\n",
       "      <td>81.100000</td>\n",
       "      <td>120.706516</td>\n",
       "      <td>141.510864</td>\n",
       "      <td>106.161262</td>\n",
       "      <td>102.077057</td>\n",
       "      <td>85.913200</td>\n",
       "    </tr>\n",
       "    <tr>\n",
       "      <th>1</th>\n",
       "      <td>2004m3</td>\n",
       "      <td>23.711852</td>\n",
       "      <td>23.711852</td>\n",
       "      <td>136.327976</td>\n",
       "      <td>106.168192</td>\n",
       "      <td>100.556582</td>\n",
       "      <td>97.012918</td>\n",
       "      <td>143.411662</td>\n",
       "      <td>106.344544</td>\n",
       "      <td>140.884616</td>\n",
       "      <td>144.686166</td>\n",
       "      <td>85.866287</td>\n",
       "      <td>79.883583</td>\n",
       "      <td>127.558608</td>\n",
       "      <td>84.047595</td>\n",
       "      <td>110.187364</td>\n",
       "      <td>98.619024</td>\n",
       "      <td>113.783904</td>\n",
       "      <td>96.015929</td>\n",
       "      <td>54.666162</td>\n",
       "      <td>47.588957</td>\n",
       "      <td>49.256157</td>\n",
       "      <td>87.192705</td>\n",
       "      <td>42.592034</td>\n",
       "      <td>39.931055</td>\n",
       "      <td>1.2262</td>\n",
       "      <td>79.673569</td>\n",
       "      <td>80.962135</td>\n",
       "      <td>93.540268</td>\n",
       "      <td>NaN</td>\n",
       "      <td>93.335678</td>\n",
       "      <td>NaN</td>\n",
       "      <td>105.627480</td>\n",
       "      <td>113.224892</td>\n",
       "      <td>91.195116</td>\n",
       "      <td>121.625075</td>\n",
       "      <td>139.288391</td>\n",
       "      <td>141.176853</td>\n",
       "      <td>148.121841</td>\n",
       "      <td>102.130104</td>\n",
       "      <td>119.220779</td>\n",
       "      <td>NaN</td>\n",
       "      <td>76.690307</td>\n",
       "      <td>138.309550</td>\n",
       "      <td>152.880234</td>\n",
       "      <td>140.288741</td>\n",
       "      <td>117.225685</td>\n",
       "      <td>97.670815</td>\n",
       "    </tr>\n",
       "    <tr>\n",
       "      <th>2</th>\n",
       "      <td>2004m4</td>\n",
       "      <td>24.435235</td>\n",
       "      <td>24.435235</td>\n",
       "      <td>117.791806</td>\n",
       "      <td>92.007646</td>\n",
       "      <td>89.653203</td>\n",
       "      <td>84.932358</td>\n",
       "      <td>129.083828</td>\n",
       "      <td>95.579673</td>\n",
       "      <td>105.853579</td>\n",
       "      <td>102.655769</td>\n",
       "      <td>85.622508</td>\n",
       "      <td>79.740802</td>\n",
       "      <td>108.732297</td>\n",
       "      <td>73.026027</td>\n",
       "      <td>108.166564</td>\n",
       "      <td>89.774031</td>\n",
       "      <td>101.715199</td>\n",
       "      <td>85.167236</td>\n",
       "      <td>54.872715</td>\n",
       "      <td>47.779013</td>\n",
       "      <td>49.423751</td>\n",
       "      <td>91.379923</td>\n",
       "      <td>42.650637</td>\n",
       "      <td>39.134854</td>\n",
       "      <td>1.1985</td>\n",
       "      <td>80.337639</td>\n",
       "      <td>80.757423</td>\n",
       "      <td>93.852425</td>\n",
       "      <td>NaN</td>\n",
       "      <td>93.440903</td>\n",
       "      <td>NaN</td>\n",
       "      <td>103.484955</td>\n",
       "      <td>100.169090</td>\n",
       "      <td>93.793535</td>\n",
       "      <td>104.965505</td>\n",
       "      <td>125.289566</td>\n",
       "      <td>105.648765</td>\n",
       "      <td>125.482231</td>\n",
       "      <td>90.961426</td>\n",
       "      <td>117.441124</td>\n",
       "      <td>NaN</td>\n",
       "      <td>71.552403</td>\n",
       "      <td>115.557330</td>\n",
       "      <td>137.796875</td>\n",
       "      <td>106.271197</td>\n",
       "      <td>105.335777</td>\n",
       "      <td>87.253983</td>\n",
       "    </tr>\n",
       "    <tr>\n",
       "      <th>3</th>\n",
       "      <td>2004m5</td>\n",
       "      <td>23.708115</td>\n",
       "      <td>23.708115</td>\n",
       "      <td>109.002541</td>\n",
       "      <td>85.696486</td>\n",
       "      <td>86.880571</td>\n",
       "      <td>82.372794</td>\n",
       "      <td>135.590391</td>\n",
       "      <td>100.087039</td>\n",
       "      <td>101.864777</td>\n",
       "      <td>100.305285</td>\n",
       "      <td>85.378729</td>\n",
       "      <td>79.598021</td>\n",
       "      <td>110.645200</td>\n",
       "      <td>74.591883</td>\n",
       "      <td>108.425887</td>\n",
       "      <td>87.463813</td>\n",
       "      <td>101.275727</td>\n",
       "      <td>84.485767</td>\n",
       "      <td>51.230356</td>\n",
       "      <td>53.590898</td>\n",
       "      <td>46.468392</td>\n",
       "      <td>99.044520</td>\n",
       "      <td>47.517121</td>\n",
       "      <td>36.278433</td>\n",
       "      <td>1.2007</td>\n",
       "      <td>80.798828</td>\n",
       "      <td>80.757423</td>\n",
       "      <td>93.852425</td>\n",
       "      <td>NaN</td>\n",
       "      <td>93.546127</td>\n",
       "      <td>NaN</td>\n",
       "      <td>103.643944</td>\n",
       "      <td>99.581436</td>\n",
       "      <td>96.391954</td>\n",
       "      <td>105.885359</td>\n",
       "      <td>131.988998</td>\n",
       "      <td>101.990361</td>\n",
       "      <td>116.649750</td>\n",
       "      <td>88.082901</td>\n",
       "      <td>117.899216</td>\n",
       "      <td>NaN</td>\n",
       "      <td>66.414500</td>\n",
       "      <td>119.269534</td>\n",
       "      <td>143.860535</td>\n",
       "      <td>101.608710</td>\n",
       "      <td>96.616508</td>\n",
       "      <td>84.675552</td>\n",
       "    </tr>\n",
       "    <tr>\n",
       "      <th>4</th>\n",
       "      <td>2004m6</td>\n",
       "      <td>27.009138</td>\n",
       "      <td>27.009138</td>\n",
       "      <td>133.785737</td>\n",
       "      <td>106.641482</td>\n",
       "      <td>99.010814</td>\n",
       "      <td>95.108740</td>\n",
       "      <td>136.424935</td>\n",
       "      <td>110.889719</td>\n",
       "      <td>120.332920</td>\n",
       "      <td>119.616380</td>\n",
       "      <td>85.134950</td>\n",
       "      <td>79.455239</td>\n",
       "      <td>122.020960</td>\n",
       "      <td>82.343346</td>\n",
       "      <td>110.569933</td>\n",
       "      <td>97.364496</td>\n",
       "      <td>112.057197</td>\n",
       "      <td>96.963294</td>\n",
       "      <td>52.876331</td>\n",
       "      <td>50.799575</td>\n",
       "      <td>47.803913</td>\n",
       "      <td>98.636267</td>\n",
       "      <td>44.967605</td>\n",
       "      <td>35.657380</td>\n",
       "      <td>1.2138</td>\n",
       "      <td>80.913490</td>\n",
       "      <td>80.552711</td>\n",
       "      <td>93.956467</td>\n",
       "      <td>NaN</td>\n",
       "      <td>93.440903</td>\n",
       "      <td>NaN</td>\n",
       "      <td>106.062668</td>\n",
       "      <td>109.277710</td>\n",
       "      <td>98.990373</td>\n",
       "      <td>118.252278</td>\n",
       "      <td>132.988922</td>\n",
       "      <td>122.136575</td>\n",
       "      <td>143.248734</td>\n",
       "      <td>100.978699</td>\n",
       "      <td>119.499107</td>\n",
       "      <td>NaN</td>\n",
       "      <td>61.276596</td>\n",
       "      <td>128.849416</td>\n",
       "      <td>144.315308</td>\n",
       "      <td>116.655248</td>\n",
       "      <td>118.458710</td>\n",
       "      <td>95.401802</td>\n",
       "    </tr>\n",
       "  </tbody>\n",
       "</table>\n",
       "</div>"
      ],
      "text/plain": [
       "      date  China_Production  China_Shipment  France_Production  \\\n",
       "0   2004m2         16.940704       16.940704         112.091273   \n",
       "1   2004m3         23.711852       23.711852         136.327976   \n",
       "2   2004m4         24.435235       24.435235         117.791806   \n",
       "3   2004m5         23.708115       23.708115         109.002541   \n",
       "4   2004m6         27.009138       27.009138         133.785737   \n",
       "\n",
       "   France_Shipment  Germany_Production  Germany_Shipment  Italy_Production  \\\n",
       "0        83.458866           82.623037         79.452532        124.289603   \n",
       "1       106.168192          100.556582         97.012918        143.411662   \n",
       "2        92.007646           89.653203         84.932358        129.083828   \n",
       "3        85.696486           86.880571         82.372794        135.590391   \n",
       "4       106.641482           99.010814         95.108740        136.424935   \n",
       "\n",
       "   Italy_Shipment  Japan_Production  Japan_Shipment  Switzerland_Production  \\\n",
       "0       86.560493        109.334010      110.495272               91.221862   \n",
       "1      106.344544        140.884616      144.686166               85.866287   \n",
       "2       95.579673        105.853579      102.655769               85.622508   \n",
       "3      100.087039        101.864777      100.305285               85.378729   \n",
       "4      110.889719        120.332920      119.616380               85.134950   \n",
       "\n",
       "   Switzerland_Shipment  UK_Production  UK_Shipment  US_Production  \\\n",
       "0             89.987275     111.353812    73.601265     107.601400   \n",
       "1             79.883583     127.558608    84.047595     110.187364   \n",
       "2             79.740802     108.732297    73.026027     108.166564   \n",
       "3             79.598021     110.645200    74.591883     108.425887   \n",
       "4             79.455239     122.020960    82.343346     110.569933   \n",
       "\n",
       "   US_Shipment  Europe_Production  Europe_Shipment  Base_Metal_Price  \\\n",
       "0    79.240230          97.122911        80.098530         54.039811   \n",
       "1    98.619024         113.783904        96.015929         54.666162   \n",
       "2    89.774031         101.715199        85.167236         54.872715   \n",
       "3    87.463813         101.275727        84.485767         51.230356   \n",
       "4    97.364496         112.057197        96.963294         52.876331   \n",
       "\n",
       "   Energy_Price  Metal_and_Minerals_Price  Natural_Gas_Price  \\\n",
       "0     44.123338                 48.747945          87.076974   \n",
       "1     47.588957                 49.256157          87.192705   \n",
       "2     47.779013                 49.423751          91.379923   \n",
       "3     53.590898                 46.468392          99.044520   \n",
       "4     50.799575                 47.803913          98.636267   \n",
       "\n",
       "   Crude_oil_avg_Price  Copper_price  LCU_EUR  \\\n",
       "0            39.639458     36.623832   1.2646   \n",
       "1            42.592034     39.931055   1.2262   \n",
       "2            42.650637     39.134854   1.1985   \n",
       "3            47.517121     36.278433   1.2007   \n",
       "4            44.967605     35.657380   1.2138   \n",
       "\n",
       "   US_Producer_Price_Electrical_equip  UK_Producer_Price_Electrical_equip  \\\n",
       "0                           78.969864                           80.757423   \n",
       "1                           79.673569                           80.962135   \n",
       "2                           80.337639                           80.757423   \n",
       "3                           80.798828                           80.757423   \n",
       "4                           80.913490                           80.552711   \n",
       "\n",
       "   Italy_Producer_Price_Electrical_equip  \\\n",
       "0                              93.020027   \n",
       "1                              93.540268   \n",
       "2                              93.852425   \n",
       "3                              93.852425   \n",
       "4                              93.956467   \n",
       "\n",
       "   France_Producer_Price_Electrical_equip  \\\n",
       "0                                     NaN   \n",
       "1                                     NaN   \n",
       "2                                     NaN   \n",
       "3                                     NaN   \n",
       "4                                     NaN   \n",
       "\n",
       "   Germany_Producer_Price_Electrical_equip  \\\n",
       "0                                93.230453   \n",
       "1                                93.335678   \n",
       "2                                93.440903   \n",
       "3                                93.546127   \n",
       "4                                93.440903   \n",
       "\n",
       "   China_Producer_Price_Electrical_equip  \\\n",
       "0                                    NaN   \n",
       "1                                    NaN   \n",
       "2                                    NaN   \n",
       "3                                    NaN   \n",
       "4                                    NaN   \n",
       "\n",
       "   US_Production_Index_Machinery_and_equip  \\\n",
       "0                               102.491722   \n",
       "1                               105.627480   \n",
       "2                               103.484955   \n",
       "3                               103.643944   \n",
       "4                               106.062668   \n",
       "\n",
       "   World_Production_Index_Machinery_and_equip  \\\n",
       "0                                   97.597374   \n",
       "1                                  113.224892   \n",
       "2                                  100.169090   \n",
       "3                                   99.581436   \n",
       "4                                  109.277710   \n",
       "\n",
       "   Switzerland_Production_Index_Machinery_and_equip  \\\n",
       "0                                         97.100000   \n",
       "1                                         91.195116   \n",
       "2                                         93.793535   \n",
       "3                                         96.391954   \n",
       "4                                         98.990373   \n",
       "\n",
       "   UK_Production_Index_Machinery_and_equip  \\\n",
       "0                               106.191977   \n",
       "1                               121.625075   \n",
       "2                               104.965505   \n",
       "3                               105.885359   \n",
       "4                               118.252278   \n",
       "\n",
       "   Italy_Production_Index_Machinery_and_equip  \\\n",
       "0                                  116.790276   \n",
       "1                                  139.288391   \n",
       "2                                  125.289566   \n",
       "3                                  131.988998   \n",
       "4                                  132.988922   \n",
       "\n",
       "   Japan_Production_Index_Machinery_and_equip  \\\n",
       "0                                  110.890034   \n",
       "1                                  141.176853   \n",
       "2                                  105.648765   \n",
       "3                                  101.990361   \n",
       "4                                  122.136575   \n",
       "\n",
       "   France_Production_Index_Machinery_and_equip  \\\n",
       "0                                   118.274109   \n",
       "1                                   148.121841   \n",
       "2                                   125.482231   \n",
       "3                                   116.649750   \n",
       "4                                   143.248734   \n",
       "\n",
       "   Germany_Production_Index_Machinery_and_equip  \\\n",
       "0                                     80.829010   \n",
       "1                                    102.130104   \n",
       "2                                     90.961426   \n",
       "3                                     88.082901   \n",
       "4                                    100.978699   \n",
       "\n",
       "   US_Production_Index_Electrical_equip  \\\n",
       "0                            117.723991   \n",
       "1                            119.220779   \n",
       "2                            117.441124   \n",
       "3                            117.899216   \n",
       "4                            119.499107   \n",
       "\n",
       "   World_Production_Index_Electrical_equip  \\\n",
       "0                                      NaN   \n",
       "1                                      NaN   \n",
       "2                                      NaN   \n",
       "3                                      NaN   \n",
       "4                                      NaN   \n",
       "\n",
       "   Switzerland_Production_Index_Electrical_equip  \\\n",
       "0                                      81.100000   \n",
       "1                                      76.690307   \n",
       "2                                      71.552403   \n",
       "3                                      66.414500   \n",
       "4                                      61.276596   \n",
       "\n",
       "   UK_Production_Index_Electrical_equip  \\\n",
       "0                            120.706516   \n",
       "1                            138.309550   \n",
       "2                            115.557330   \n",
       "3                            119.269534   \n",
       "4                            128.849416   \n",
       "\n",
       "   Italy_Production_Index_Electrical_equip  \\\n",
       "0                               141.510864   \n",
       "1                               152.880234   \n",
       "2                               137.796875   \n",
       "3                               143.860535   \n",
       "4                               144.315308   \n",
       "\n",
       "   Japan_Production_Index_Electrical_equip  \\\n",
       "0                               106.161262   \n",
       "1                               140.288741   \n",
       "2                               106.271197   \n",
       "3                               101.608710   \n",
       "4                               116.655248   \n",
       "\n",
       "   France_Production_Index_Electrical_equip  \\\n",
       "0                                102.077057   \n",
       "1                                117.225685   \n",
       "2                                105.335777   \n",
       "3                                 96.616508   \n",
       "4                                118.458710   \n",
       "\n",
       "   Germany_Production_Index_Electrical_equip  \n",
       "0                                  85.913200  \n",
       "1                                  97.670815  \n",
       "2                                  87.253983  \n",
       "3                                  84.675552  \n",
       "4                                  95.401802  "
      ]
     },
     "execution_count": 36,
     "metadata": {},
     "output_type": "execute_result"
    }
   ],
   "source": [
    "df_market = pd.read_excel('Data/Case2_Market data.xlsx', sheet_name=\"Adapted Features\")\n",
    "df_market.head()"
   ]
  },
  {
   "cell_type": "markdown",
   "metadata": {},
   "source": [
    "Now, we want to set the column date as the index in the dataframe df_market, as this column is supposed to identify an individual time period. However, first, to ensure we don't lose any important rows due to identifier mistakes, we will check if this column only contains unique values:"
   ]
  },
  {
   "cell_type": "code",
   "execution_count": 37,
   "metadata": {},
   "outputs": [
    {
     "name": "stdout",
     "output_type": "stream",
     "text": [
      "The date column has 219 unique values,\n",
      "and the dataframe df_market has 219 rows.\n",
      "All date values are unique.\n"
     ]
    }
   ],
   "source": [
    "unique_reservations = df_market['date'].nunique()\n",
    "total_rows = len(df_market)\n",
    "\n",
    "print(f\"The date column has {unique_reservations}\"\n",
    "      f\" unique values,\\nand the dataframe df_market has {total_rows} rows.\")\n",
    "if unique_reservations == total_rows:\n",
    "    print(\"All date values are unique.\")\n",
    "else:\n",
    "    print(\"There are duplicate date values.\")"
   ]
  },
  {
   "cell_type": "code",
   "execution_count": 38,
   "metadata": {},
   "outputs": [],
   "source": [
    "df_market.set_index('date', inplace = True)"
   ]
  },
  {
   "cell_type": "code",
   "execution_count": 39,
   "metadata": {},
   "outputs": [
    {
     "data": {
      "text/plain": [
       "(219, 47)"
      ]
     },
     "execution_count": 39,
     "metadata": {},
     "output_type": "execute_result"
    }
   ],
   "source": [
    "df_market.shape"
   ]
  },
  {
   "cell_type": "markdown",
   "metadata": {},
   "source": [
    "#### df_sales"
   ]
  },
  {
   "cell_type": "code",
   "execution_count": 40,
   "metadata": {},
   "outputs": [
    {
     "data": {
      "text/html": [
       "<div>\n",
       "<style scoped>\n",
       "    .dataframe tbody tr th:only-of-type {\n",
       "        vertical-align: middle;\n",
       "    }\n",
       "\n",
       "    .dataframe tbody tr th {\n",
       "        vertical-align: top;\n",
       "    }\n",
       "\n",
       "    .dataframe thead th {\n",
       "        text-align: right;\n",
       "    }\n",
       "</style>\n",
       "<table border=\"1\" class=\"dataframe\">\n",
       "  <thead>\n",
       "    <tr style=\"text-align: right;\">\n",
       "      <th></th>\n",
       "      <th>DATE</th>\n",
       "      <th>Mapped_GCK</th>\n",
       "      <th>Sales_EUR</th>\n",
       "    </tr>\n",
       "  </thead>\n",
       "  <tbody>\n",
       "    <tr>\n",
       "      <th>0</th>\n",
       "      <td>01.10.2018</td>\n",
       "      <td>#1</td>\n",
       "      <td>0</td>\n",
       "    </tr>\n",
       "    <tr>\n",
       "      <th>1</th>\n",
       "      <td>02.10.2018</td>\n",
       "      <td>#1</td>\n",
       "      <td>0</td>\n",
       "    </tr>\n",
       "    <tr>\n",
       "      <th>2</th>\n",
       "      <td>03.10.2018</td>\n",
       "      <td>#1</td>\n",
       "      <td>0</td>\n",
       "    </tr>\n",
       "    <tr>\n",
       "      <th>3</th>\n",
       "      <td>04.10.2018</td>\n",
       "      <td>#1</td>\n",
       "      <td>0</td>\n",
       "    </tr>\n",
       "    <tr>\n",
       "      <th>4</th>\n",
       "      <td>05.10.2018</td>\n",
       "      <td>#1</td>\n",
       "      <td>0</td>\n",
       "    </tr>\n",
       "  </tbody>\n",
       "</table>\n",
       "</div>"
      ],
      "text/plain": [
       "         DATE Mapped_GCK Sales_EUR\n",
       "0  01.10.2018         #1         0\n",
       "1  02.10.2018         #1         0\n",
       "2  03.10.2018         #1         0\n",
       "3  04.10.2018         #1         0\n",
       "4  05.10.2018         #1         0"
      ]
     },
     "execution_count": 40,
     "metadata": {},
     "output_type": "execute_result"
    }
   ],
   "source": [
    "df_sales = pd.read_csv('Data/Case2_Sales data.csv', delimiter=';')\n",
    "df_sales.head()"
   ]
  },
  {
   "cell_type": "code",
   "execution_count": 41,
   "metadata": {},
   "outputs": [
    {
     "data": {
      "text/plain": [
       "(9802, 3)"
      ]
     },
     "execution_count": 41,
     "metadata": {},
     "output_type": "execute_result"
    }
   ],
   "source": [
    "df_sales.shape"
   ]
  },
  {
   "cell_type": "markdown",
   "metadata": {},
   "source": [
    "#### df_test"
   ]
  },
  {
   "cell_type": "code",
   "execution_count": 42,
   "metadata": {},
   "outputs": [
    {
     "data": {
      "text/html": [
       "<div>\n",
       "<style scoped>\n",
       "    .dataframe tbody tr th:only-of-type {\n",
       "        vertical-align: middle;\n",
       "    }\n",
       "\n",
       "    .dataframe tbody tr th {\n",
       "        vertical-align: top;\n",
       "    }\n",
       "\n",
       "    .dataframe thead th {\n",
       "        text-align: right;\n",
       "    }\n",
       "</style>\n",
       "<table border=\"1\" class=\"dataframe\">\n",
       "  <thead>\n",
       "    <tr style=\"text-align: right;\">\n",
       "      <th></th>\n",
       "      <th>Month Year</th>\n",
       "      <th>Mapped_GCK</th>\n",
       "      <th>Sales_EUR</th>\n",
       "    </tr>\n",
       "  </thead>\n",
       "  <tbody>\n",
       "    <tr>\n",
       "      <th>0</th>\n",
       "      <td>Mai 22</td>\n",
       "      <td>#3</td>\n",
       "      <td>NaN</td>\n",
       "    </tr>\n",
       "    <tr>\n",
       "      <th>1</th>\n",
       "      <td>Jun 22</td>\n",
       "      <td>#3</td>\n",
       "      <td>NaN</td>\n",
       "    </tr>\n",
       "    <tr>\n",
       "      <th>2</th>\n",
       "      <td>Jul 22</td>\n",
       "      <td>#3</td>\n",
       "      <td>NaN</td>\n",
       "    </tr>\n",
       "    <tr>\n",
       "      <th>3</th>\n",
       "      <td>Aug 22</td>\n",
       "      <td>#3</td>\n",
       "      <td>NaN</td>\n",
       "    </tr>\n",
       "    <tr>\n",
       "      <th>4</th>\n",
       "      <td>Sep 22</td>\n",
       "      <td>#3</td>\n",
       "      <td>NaN</td>\n",
       "    </tr>\n",
       "  </tbody>\n",
       "</table>\n",
       "</div>"
      ],
      "text/plain": [
       "  Month Year Mapped_GCK  Sales_EUR\n",
       "0     Mai 22         #3        NaN\n",
       "1     Jun 22         #3        NaN\n",
       "2     Jul 22         #3        NaN\n",
       "3     Aug 22         #3        NaN\n",
       "4     Sep 22         #3        NaN"
      ]
     },
     "execution_count": 42,
     "metadata": {},
     "output_type": "execute_result"
    }
   ],
   "source": [
    "df_test = pd.read_csv('Data/Case2_Test Set Template.csv', delimiter=';')\n",
    "df_test.head()"
   ]
  },
  {
   "cell_type": "code",
   "execution_count": 43,
   "metadata": {},
   "outputs": [
    {
     "data": {
      "text/plain": [
       "(140, 3)"
      ]
     },
     "execution_count": 43,
     "metadata": {},
     "output_type": "execute_result"
    }
   ],
   "source": [
    "df_test.shape"
   ]
  },
  {
   "cell_type": "markdown",
   "metadata": {},
   "source": [
    "# <span style=\"font-size: 38px; background-color:#235987; padding:5px; border-radius:5px;\">**Sales**</span> <a id='Data-TypesDU'></a>"
   ]
  },
  {
   "cell_type": "markdown",
   "metadata": {},
   "source": [
    "---\n",
    "#### <span style=\"background-color:#235987; padding:5px; border-radius:5px;\">**Data Types**</span> <a id='Data-TypesDU'></a>  \n",
    "_By reducing memory consumption, we can enhance the performance of subsequent sections, including **feature engineering, clustering algorithms, and distance-based models**._   \n",
    "\n",
    "##### Click [here](#table-of-contents) ⬆️ to return to the Index."
   ]
  },
  {
   "cell_type": "code",
   "execution_count": 44,
   "metadata": {},
   "outputs": [
    {
     "name": "stdout",
     "output_type": "stream",
     "text": [
      "<class 'pandas.core.frame.DataFrame'>\n",
      "RangeIndex: 9802 entries, 0 to 9801\n",
      "Data columns (total 3 columns):\n",
      " #   Column      Non-Null Count  Dtype \n",
      "---  ------      --------------  ----- \n",
      " 0   DATE        9802 non-null   object\n",
      " 1   Mapped_GCK  9802 non-null   object\n",
      " 2   Sales_EUR   9802 non-null   object\n",
      "dtypes: object(3)\n",
      "memory usage: 229.9+ KB\n"
     ]
    }
   ],
   "source": [
    "df_sales.info()"
   ]
  },
  {
   "cell_type": "markdown",
   "metadata": {},
   "source": [
    "**Note:** The columns datatyes are not optimize, in data preparation is important to convert:\n",
    "- `Date` to dd-mm-yyyy (datetime format)\n",
    "- `Sales_EUR` to float\n",
    "- `Mapped_GCK` to int (removing the character #)\n",
    "\n",
    "Right now we have a memory usage of 229.9+ KB, but we can clearly see that these three columns can be optimized."
   ]
  },
  {
   "cell_type": "markdown",
   "metadata": {},
   "source": [
    "---\n",
    "#### <span style=\"background-color:#235987; padding:5px; border-radius:5px;\">**Descriptive Summary**</span> <a id='Descriptive-Summary'></a>  \n",
    "_A detailed summary of the variables, including their central tendency, dispersion, and distribution._  \n",
    "\n",
    "##### Click [here](#table-of-contents) ⬆️ to return to the Index."
   ]
  },
  {
   "cell_type": "code",
   "execution_count": 45,
   "metadata": {},
   "outputs": [
    {
     "data": {
      "text/html": [
       "<div>\n",
       "<style scoped>\n",
       "    .dataframe tbody tr th:only-of-type {\n",
       "        vertical-align: middle;\n",
       "    }\n",
       "\n",
       "    .dataframe tbody tr th {\n",
       "        vertical-align: top;\n",
       "    }\n",
       "\n",
       "    .dataframe thead th {\n",
       "        text-align: right;\n",
       "    }\n",
       "</style>\n",
       "<table border=\"1\" class=\"dataframe\">\n",
       "  <thead>\n",
       "    <tr style=\"text-align: right;\">\n",
       "      <th></th>\n",
       "      <th>count</th>\n",
       "      <th>unique</th>\n",
       "      <th>top</th>\n",
       "      <th>freq</th>\n",
       "    </tr>\n",
       "  </thead>\n",
       "  <tbody>\n",
       "    <tr>\n",
       "      <th>DATE</th>\n",
       "      <td>9802</td>\n",
       "      <td>1216</td>\n",
       "      <td>16.04.2021</td>\n",
       "      <td>14</td>\n",
       "    </tr>\n",
       "    <tr>\n",
       "      <th>Mapped_GCK</th>\n",
       "      <td>9802</td>\n",
       "      <td>14</td>\n",
       "      <td>#1</td>\n",
       "      <td>1179</td>\n",
       "    </tr>\n",
       "    <tr>\n",
       "      <th>Sales_EUR</th>\n",
       "      <td>9802</td>\n",
       "      <td>2609</td>\n",
       "      <td>0</td>\n",
       "      <td>7134</td>\n",
       "    </tr>\n",
       "  </tbody>\n",
       "</table>\n",
       "</div>"
      ],
      "text/plain": [
       "           count unique         top  freq\n",
       "DATE        9802   1216  16.04.2021    14\n",
       "Mapped_GCK  9802     14          #1  1179\n",
       "Sales_EUR   9802   2609           0  7134"
      ]
     },
     "execution_count": 45,
     "metadata": {},
     "output_type": "execute_result"
    }
   ],
   "source": [
    "# Summary statistics for numeric columns\n",
    "df_sales.describe().T"
   ]
  },
  {
   "cell_type": "code",
   "execution_count": 46,
   "metadata": {},
   "outputs": [
    {
     "name": "stdout",
     "output_type": "stream",
     "text": [
      "Unique products: ['#1', '#11', '#6', '#8', '#12', '#16', '#4', '#5', '#3', '#9', '#14', '#13', '#20', '#36']\n"
     ]
    }
   ],
   "source": [
    "# Check unique products\n",
    "print('Unique products:', list(df_sales['Mapped_GCK'].unique()))"
   ]
  },
  {
   "cell_type": "markdown",
   "metadata": {},
   "source": [
    "The columns of this dataframe don't have missing values."
   ]
  },
  {
   "cell_type": "markdown",
   "metadata": {},
   "source": [
    "---\n",
    "#### <span style=\"background-color:#235987; padding:5px; border-radius:5px;\">**Inconsistencies**</span> <a id='inconsistenciesDU'></a>  \n",
    "_Checking for inconsistencies in data, such as incorrect formats, out-of-range values, or logical errors._ \n",
    "\n",
    "##### Click [here](#table-of-contents) ⬆️ to return to the Index."
   ]
  },
  {
   "cell_type": "markdown",
   "metadata": {},
   "source": [
    "- `Sales_EUR` == 0:"
   ]
  },
  {
   "cell_type": "code",
   "execution_count": 48,
   "metadata": {},
   "outputs": [
    {
     "data": {
      "text/plain": [
       "9802"
      ]
     },
     "execution_count": 48,
     "metadata": {},
     "output_type": "execute_result"
    }
   ],
   "source": [
    "len(df_sales['Sales_EUR'] == 0)"
   ]
  },
  {
   "cell_type": "markdown",
   "metadata": {},
   "source": [
    "We have 9802 rows where sales are 0, which means 'no sales' so we should delete these cases."
   ]
  },
  {
   "cell_type": "code",
   "execution_count": 49,
   "metadata": {},
   "outputs": [],
   "source": [
    "df_sales.drop(df_sales[df_sales['Sales_EUR'] == '0'].index, inplace=True)"
   ]
  },
  {
   "cell_type": "markdown",
   "metadata": {},
   "source": [
    "- `Sales_EUR` < 0:"
   ]
  },
  {
   "cell_type": "code",
   "execution_count": 50,
   "metadata": {},
   "outputs": [],
   "source": [
    "negative_values = df_sales[pd.to_numeric(df_sales['Sales_EUR'], errors='coerce') < 0]"
   ]
  },
  {
   "cell_type": "markdown",
   "metadata": {},
   "source": [
    "This negative values can be errors but can also represent returns or discounts, so we should keep them."
   ]
  },
  {
   "cell_type": "markdown",
   "metadata": {},
   "source": [
    "# <span style=\"font-size: 27px; background-color:#235987; padding:5px; border-radius:5px;\">**Data Preparation**</span> <a id='Data-TypesDU'></a>"
   ]
  },
  {
   "cell_type": "code",
   "execution_count": 51,
   "metadata": {},
   "outputs": [],
   "source": [
    "# convert DATE to datetime format\n",
    "df_sales['month_year'] = pd.to_datetime(df_sales['DATE'], format='%d.%m.%Y').dt.to_period('M')"
   ]
  },
  {
   "cell_type": "code",
   "execution_count": 52,
   "metadata": {},
   "outputs": [],
   "source": [
    "# convert Sales_EUR to float\n",
    "df_sales['Sales_EUR'] = df_sales['Sales_EUR'].str.replace(',', '.').astype(float)"
   ]
  },
  {
   "cell_type": "code",
   "execution_count": 53,
   "metadata": {},
   "outputs": [],
   "source": [
    "# convert Mapped_GCK\n",
    "df_sales['Mapped_GCK'] = df_sales['Mapped_GCK'].str.replace(\"#\", \"\").astype(int)"
   ]
  },
  {
   "cell_type": "code",
   "execution_count": 54,
   "metadata": {},
   "outputs": [],
   "source": [
    "# Get unique values of 'Mapped_GCK'\n",
    "unique_values = df_sales['Mapped_GCK'].unique()\n",
    "\n",
    "# Create individual dataframes for each unique value of 'Mapped_GCK'\n",
    "for val in unique_values:\n",
    "    globals()['df_' + str(val)] = df_sales[df_sales['Mapped_GCK'] == val].reset_index(drop=True)"
   ]
  },
  {
   "cell_type": "markdown",
   "metadata": {},
   "source": [
    "Now we will aggregate sales by the same month and year according to each `Mapped_GCK` and for each unique combination of month_year, the total sales (Sales_EUR) are aggregated."
   ]
  },
  {
   "cell_type": "code",
   "execution_count": 55,
   "metadata": {},
   "outputs": [],
   "source": [
    "df_1['month_year'] = pd.to_datetime(df_1['DATE'], format='%d.%m.%Y').dt.to_period('M')\n",
    "df_1 = pd.DataFrame(df_1.groupby('month_year')['Sales_EUR'].sum())\n",
    "df_1 = df_1.rename(columns={'Sales_EUR': 'P1'})\n",
    "\n",
    "df_3['month_year'] = pd.to_datetime(df_3['DATE'], format='%d.%m.%Y').dt.to_period('M')\n",
    "df_3 = pd.DataFrame(df_3.groupby('month_year')['Sales_EUR'].sum())\n",
    "df_3 = df_3.rename(columns={'Sales_EUR': 'P3'})\n",
    "\n",
    "df_4['month_year'] = pd.to_datetime(df_4['DATE'], format='%d.%m.%Y').dt.to_period('M')\n",
    "df_4 = pd.DataFrame(df_4.groupby('month_year')['Sales_EUR'].sum())\n",
    "df_4 = df_4.rename(columns={'Sales_EUR': 'P4'})\n",
    "\n",
    "df_5['month_year'] = pd.to_datetime(df_5['DATE'], format='%d.%m.%Y').dt.to_period('M')\n",
    "df_5 = pd.DataFrame(df_5.groupby('month_year')['Sales_EUR'].sum())\n",
    "df_5 = df_5.rename(columns={'Sales_EUR': 'P5'})\n",
    "\n",
    "df_6['month_year'] = pd.to_datetime(df_6['DATE'], format='%d.%m.%Y').dt.to_period('M')\n",
    "df_6 = pd.DataFrame(df_6.groupby('month_year')['Sales_EUR'].sum())\n",
    "df_6 = df_6.rename(columns={'Sales_EUR': 'P6'})\n",
    "\n",
    "df_8['month_year'] = pd.to_datetime(df_8['DATE'], format='%d.%m.%Y').dt.to_period('M')\n",
    "df_8 = pd.DataFrame(df_8.groupby('month_year')['Sales_EUR'].sum())\n",
    "df_8 = df_8.rename(columns={'Sales_EUR': 'P8'})\n",
    "\n",
    "df_9['month_year'] = pd.to_datetime(df_9['DATE'], format='%d.%m.%Y').dt.to_period('M')\n",
    "df_9 = pd.DataFrame(df_9.groupby('month_year')['Sales_EUR'].sum())\n",
    "df_9 = df_9.rename(columns={'Sales_EUR': 'P9'})\n",
    "\n",
    "df_11['month_year'] = pd.to_datetime(df_11['DATE'], format='%d.%m.%Y').dt.to_period('M')\n",
    "df_11 = pd.DataFrame(df_11.groupby('month_year')['Sales_EUR'].sum())\n",
    "df_11 = df_11.rename(columns={'Sales_EUR': 'P11'})\n",
    "\n",
    "df_12['month_year'] = pd.to_datetime(df_12['DATE'], format='%d.%m.%Y').dt.to_period('M')\n",
    "df_12 = pd.DataFrame(df_12.groupby('month_year')['Sales_EUR'].sum())\n",
    "df_12 = df_12.rename(columns={'Sales_EUR': 'P12'})\n",
    "\n",
    "df_13['month_year'] = pd.to_datetime(df_13['DATE'], format='%d.%m.%Y').dt.to_period('M')\n",
    "df_13 = pd.DataFrame(df_13.groupby('month_year')['Sales_EUR'].sum())\n",
    "df_13 = df_13.rename(columns={'Sales_EUR': 'P13'})\n",
    "\n",
    "df_14['month_year'] = pd.to_datetime(df_14['DATE'], format='%d.%m.%Y').dt.to_period('M')\n",
    "df_14 = pd.DataFrame(df_14.groupby('month_year')['Sales_EUR'].sum())\n",
    "df_14 = df_14.rename(columns={'Sales_EUR': 'P14'})\n",
    "\n",
    "df_16['month_year'] = pd.to_datetime(df_16['DATE'], format='%d.%m.%Y').dt.to_period('M')\n",
    "df_16 = pd.DataFrame(df_16.groupby('month_year')['Sales_EUR'].sum())\n",
    "df_16 = df_16.rename(columns={'Sales_EUR': 'P16'})\n",
    "\n",
    "df_20['month_year'] = pd.to_datetime(df_20['DATE'], format='%d.%m.%Y').dt.to_period('M')\n",
    "df_20 = pd.DataFrame(df_20.groupby('month_year')['Sales_EUR'].sum())\n",
    "df_20 = df_20.rename(columns={'Sales_EUR': 'P20'})\n",
    "\n",
    "df_36['month_year'] = pd.to_datetime(df_36['DATE'], format='%d.%m.%Y').dt.to_period('M')\n",
    "df_36 = pd.DataFrame(df_36.groupby('month_year')['Sales_EUR'].sum())\n",
    "df_36 = df_36.rename(columns={'Sales_EUR': 'P36'})"
   ]
  },
  {
   "cell_type": "code",
   "execution_count": 57,
   "metadata": {},
   "outputs": [],
   "source": [
    "#Assign the values of each dataframe to the main dataframe\n",
    "df_sales = df_1\n",
    "df_sales['P3'] = df_3['P3']\n",
    "df_sales['P4'] = df_4['P4']\n",
    "df_sales['P5'] = df_5['P5']\n",
    "df_sales['P6'] = df_6['P6']\n",
    "df_sales['P8'] = df_8['P8']\n",
    "df_sales['P9'] = df_9['P9']\n",
    "df_sales['P11'] = df_11['P11']\n",
    "df_sales['P12'] = df_12['P12']\n",
    "df_sales['P13'] = df_13['P13']\n",
    "df_sales['P14'] = df_14['P14']\n",
    "df_sales['P16'] = df_16['P16']\n",
    "df_sales['P20'] = df_20['P20']\n",
    "df_sales['P36'] = df_36['P36']\n",
    "\n",
    "# Calculate the sum of each row in df_sales and assign it to a new column 'Sales_EUR'\n",
    "df_sales['Sales_EUR'] = df_sales.sum(axis=1)"
   ]
  },
  {
   "cell_type": "code",
   "execution_count": 58,
   "metadata": {},
   "outputs": [
    {
     "data": {
      "text/html": [
       "<div>\n",
       "<style scoped>\n",
       "    .dataframe tbody tr th:only-of-type {\n",
       "        vertical-align: middle;\n",
       "    }\n",
       "\n",
       "    .dataframe tbody tr th {\n",
       "        vertical-align: top;\n",
       "    }\n",
       "\n",
       "    .dataframe thead th {\n",
       "        text-align: right;\n",
       "    }\n",
       "</style>\n",
       "<table border=\"1\" class=\"dataframe\">\n",
       "  <thead>\n",
       "    <tr style=\"text-align: right;\">\n",
       "      <th></th>\n",
       "      <th>P1</th>\n",
       "      <th>P3</th>\n",
       "      <th>P4</th>\n",
       "      <th>P5</th>\n",
       "      <th>P6</th>\n",
       "      <th>P8</th>\n",
       "      <th>P9</th>\n",
       "      <th>P11</th>\n",
       "      <th>P12</th>\n",
       "      <th>P13</th>\n",
       "      <th>P14</th>\n",
       "      <th>P16</th>\n",
       "      <th>P20</th>\n",
       "      <th>P36</th>\n",
       "      <th>Sales_EUR</th>\n",
       "    </tr>\n",
       "    <tr>\n",
       "      <th>month_year</th>\n",
       "      <th></th>\n",
       "      <th></th>\n",
       "      <th></th>\n",
       "      <th></th>\n",
       "      <th></th>\n",
       "      <th></th>\n",
       "      <th></th>\n",
       "      <th></th>\n",
       "      <th></th>\n",
       "      <th></th>\n",
       "      <th></th>\n",
       "      <th></th>\n",
       "      <th></th>\n",
       "      <th></th>\n",
       "      <th></th>\n",
       "    </tr>\n",
       "  </thead>\n",
       "  <tbody>\n",
       "    <tr>\n",
       "      <th>2018-10</th>\n",
       "      <td>36098918.79</td>\n",
       "      <td>8089465.96</td>\n",
       "      <td>397760.69</td>\n",
       "      <td>2499061.19</td>\n",
       "      <td>369231.60</td>\n",
       "      <td>586052.74</td>\n",
       "      <td>3219.32</td>\n",
       "      <td>1021303.50</td>\n",
       "      <td>28686.33</td>\n",
       "      <td>27666.10</td>\n",
       "      <td>5770.0</td>\n",
       "      <td>333196.87</td>\n",
       "      <td>4563.14</td>\n",
       "      <td>6474.60</td>\n",
       "      <td>49471370.83</td>\n",
       "    </tr>\n",
       "    <tr>\n",
       "      <th>2018-11</th>\n",
       "      <td>5140760.00</td>\n",
       "      <td>11863001.51</td>\n",
       "      <td>371322.42</td>\n",
       "      <td>8993944.04</td>\n",
       "      <td>473046.96</td>\n",
       "      <td>526292.77</td>\n",
       "      <td>1875.90</td>\n",
       "      <td>1898844.80</td>\n",
       "      <td>1070.00</td>\n",
       "      <td>68180.00</td>\n",
       "      <td>17130.0</td>\n",
       "      <td>1377694.32</td>\n",
       "      <td>5798.14</td>\n",
       "      <td>21617.61</td>\n",
       "      <td>30760578.47</td>\n",
       "    </tr>\n",
       "    <tr>\n",
       "      <th>2018-12</th>\n",
       "      <td>37889612.12</td>\n",
       "      <td>8736859.39</td>\n",
       "      <td>430100.96</td>\n",
       "      <td>6947507.31</td>\n",
       "      <td>999472.69</td>\n",
       "      <td>271490.71</td>\n",
       "      <td>NaN</td>\n",
       "      <td>1226122.00</td>\n",
       "      <td>17880.60</td>\n",
       "      <td>15655.18</td>\n",
       "      <td>NaN</td>\n",
       "      <td>4762524.66</td>\n",
       "      <td>918.65</td>\n",
       "      <td>13924.52</td>\n",
       "      <td>61312068.79</td>\n",
       "    </tr>\n",
       "    <tr>\n",
       "      <th>2019-01</th>\n",
       "      <td>27728148.35</td>\n",
       "      <td>10705300.63</td>\n",
       "      <td>484173.88</td>\n",
       "      <td>8233205.07</td>\n",
       "      <td>598874.10</td>\n",
       "      <td>381400.15</td>\n",
       "      <td>1487.00</td>\n",
       "      <td>2216391.74</td>\n",
       "      <td>21484.00</td>\n",
       "      <td>27198.29</td>\n",
       "      <td>1686.4</td>\n",
       "      <td>942957.19</td>\n",
       "      <td>2398.04</td>\n",
       "      <td>15444.39</td>\n",
       "      <td>51360149.23</td>\n",
       "    </tr>\n",
       "    <tr>\n",
       "      <th>2019-02</th>\n",
       "      <td>34793163.53</td>\n",
       "      <td>10167796.86</td>\n",
       "      <td>620031.80</td>\n",
       "      <td>6879250.99</td>\n",
       "      <td>542037.52</td>\n",
       "      <td>368475.57</td>\n",
       "      <td>3234.28</td>\n",
       "      <td>610456.60</td>\n",
       "      <td>34214.74</td>\n",
       "      <td>32638.63</td>\n",
       "      <td>19196.3</td>\n",
       "      <td>257765.04</td>\n",
       "      <td>620.66</td>\n",
       "      <td>8051.15</td>\n",
       "      <td>54336933.67</td>\n",
       "    </tr>\n",
       "  </tbody>\n",
       "</table>\n",
       "</div>"
      ],
      "text/plain": [
       "                     P1           P3         P4          P5         P6  \\\n",
       "month_year                                                               \n",
       "2018-10     36098918.79   8089465.96  397760.69  2499061.19  369231.60   \n",
       "2018-11      5140760.00  11863001.51  371322.42  8993944.04  473046.96   \n",
       "2018-12     37889612.12   8736859.39  430100.96  6947507.31  999472.69   \n",
       "2019-01     27728148.35  10705300.63  484173.88  8233205.07  598874.10   \n",
       "2019-02     34793163.53  10167796.86  620031.80  6879250.99  542037.52   \n",
       "\n",
       "                   P8       P9         P11       P12       P13      P14  \\\n",
       "month_year                                                                \n",
       "2018-10     586052.74  3219.32  1021303.50  28686.33  27666.10   5770.0   \n",
       "2018-11     526292.77  1875.90  1898844.80   1070.00  68180.00  17130.0   \n",
       "2018-12     271490.71      NaN  1226122.00  17880.60  15655.18      NaN   \n",
       "2019-01     381400.15  1487.00  2216391.74  21484.00  27198.29   1686.4   \n",
       "2019-02     368475.57  3234.28   610456.60  34214.74  32638.63  19196.3   \n",
       "\n",
       "                   P16      P20       P36    Sales_EUR  \n",
       "month_year                                              \n",
       "2018-10      333196.87  4563.14   6474.60  49471370.83  \n",
       "2018-11     1377694.32  5798.14  21617.61  30760578.47  \n",
       "2018-12     4762524.66   918.65  13924.52  61312068.79  \n",
       "2019-01      942957.19  2398.04  15444.39  51360149.23  \n",
       "2019-02      257765.04   620.66   8051.15  54336933.67  "
      ]
     },
     "execution_count": 58,
     "metadata": {},
     "output_type": "execute_result"
    }
   ],
   "source": [
    "df_sales.head()"
   ]
  },
  {
   "cell_type": "markdown",
   "metadata": {},
   "source": [
    "Now we want to calculate the percentage change for each column and create new columns with that percentage:"
   ]
  },
  {
   "cell_type": "code",
   "execution_count": 59,
   "metadata": {},
   "outputs": [
    {
     "name": "stderr",
     "output_type": "stream",
     "text": [
      "C:\\Users\\beatr\\AppData\\Local\\Temp\\ipykernel_8028\\937700772.py:13: FutureWarning:\n",
      "\n",
      "The default fill_method='pad' in Series.pct_change is deprecated and will be removed in a future version. Either fill in any non-leading NA values prior to calling pct_change or specify 'fill_method=None' to not fill NA values.\n",
      "\n",
      "C:\\Users\\beatr\\AppData\\Local\\Temp\\ipykernel_8028\\937700772.py:13: FutureWarning:\n",
      "\n",
      "The default fill_method='pad' in Series.pct_change is deprecated and will be removed in a future version. Either fill in any non-leading NA values prior to calling pct_change or specify 'fill_method=None' to not fill NA values.\n",
      "\n",
      "C:\\Users\\beatr\\AppData\\Local\\Temp\\ipykernel_8028\\937700772.py:13: FutureWarning:\n",
      "\n",
      "The default fill_method='pad' in Series.pct_change is deprecated and will be removed in a future version. Either fill in any non-leading NA values prior to calling pct_change or specify 'fill_method=None' to not fill NA values.\n",
      "\n"
     ]
    }
   ],
   "source": [
    "# Replace all 0 values in df with 1\n",
    "df_sales = df_sales.replace(0, 1) # This ensures that there are no 0s in the DataFrame, which helps prevent division \n",
    "                                  # errors when calculating percentage changes.\n",
    "\n",
    "# Create a list of the column names of df_sales\n",
    "nominal_prod_list = list(df_sales.columns)\n",
    "\n",
    "# Initialize an empty list to store the names of the columns containing percent changes\n",
    "percent_change_prod_list = []\n",
    "\n",
    "# For each column in the DataFrame 'df', calculate the percent change and add a new column with the suffix '%Change'\n",
    "for col in df_sales.columns:\n",
    "    df_sales[col + '%Change'] = df_sales[col].pct_change()\n",
    "    \n",
    "    # Append the name of the new column to the percent_change_prod_list\n",
    "    percent_change_prod_list.append(col + '%Change')\n",
    "\n",
    "# Replace all 1 values in columns specified in 'nominal_prod_list' with 0\n",
    "df_sales[nominal_prod_list] = df_sales[nominal_prod_list].replace(1, 0)"
   ]
  },
  {
   "cell_type": "code",
   "execution_count": null,
   "metadata": {},
   "outputs": [],
   "source": [
    "#df_sales.to_csv('df_sales.csv')"
   ]
  },
  {
   "cell_type": "markdown",
   "metadata": {},
   "source": [
    "---\n",
    "#### <span style=\"background-color:#235987; padding:5px; border-radius:5px;\">**Sales Visualizations**</span> <a id='VisualizationsDU'></a>  \n",
    "\n",
    "##### Click [here](#table-of-contents) ⬆️ to return to the Index."
   ]
  },
  {
   "cell_type": "code",
   "execution_count": 73,
   "metadata": {},
   "outputs": [
    {
     "data": {
      "application/vnd.plotly.v1+json": {
       "config": {
        "plotlyServerURL": "https://plot.ly"
       },
       "data": [
        {
         "hovertemplate": "variable=P1<br>x=%{x}<br>value=%{y}<extra></extra>",
         "legendgroup": "P1",
         "line": {
          "color": "#636efa",
          "dash": "solid"
         },
         "marker": {
          "symbol": "circle"
         },
         "mode": "lines",
         "name": "P1",
         "orientation": "v",
         "showlegend": true,
         "type": "scatter",
         "x": [
          "2018-10-01T00:00:00",
          "2018-11-01T00:00:00",
          "2018-12-01T00:00:00",
          "2019-01-01T00:00:00",
          "2019-02-01T00:00:00",
          "2019-03-01T00:00:00",
          "2019-04-01T00:00:00",
          "2019-05-01T00:00:00",
          "2019-06-01T00:00:00",
          "2019-07-01T00:00:00",
          "2019-08-01T00:00:00",
          "2019-09-01T00:00:00",
          "2019-10-01T00:00:00",
          "2019-11-01T00:00:00",
          "2019-12-01T00:00:00",
          "2020-01-01T00:00:00",
          "2020-02-01T00:00:00",
          "2020-03-01T00:00:00",
          "2020-04-01T00:00:00",
          "2020-05-01T00:00:00",
          "2020-06-01T00:00:00",
          "2020-07-01T00:00:00",
          "2020-08-01T00:00:00",
          "2020-09-01T00:00:00",
          "2020-10-01T00:00:00",
          "2020-11-01T00:00:00",
          "2020-12-01T00:00:00",
          "2021-01-01T00:00:00",
          "2021-02-01T00:00:00",
          "2021-03-01T00:00:00",
          "2021-04-01T00:00:00",
          "2021-05-01T00:00:00",
          "2021-06-01T00:00:00",
          "2021-07-01T00:00:00",
          "2021-08-01T00:00:00",
          "2021-09-01T00:00:00",
          "2021-10-01T00:00:00",
          "2021-11-01T00:00:00",
          "2021-12-01T00:00:00",
          "2022-01-01T00:00:00",
          "2022-02-01T00:00:00",
          "2022-03-01T00:00:00",
          "2022-04-01T00:00:00"
         ],
         "xaxis": "x",
         "y": [
          36098918.79,
          5140760,
          37889612.120000005,
          27728148.35,
          34793163.53,
          33856803.04,
          39688292.010000005,
          38897974.29,
          39106750.230000004,
          37912572.3,
          38042677.05,
          40602780.63999999,
          39012299.19,
          37323903.07,
          37701509.370000005,
          34116651.47,
          33505879.26,
          39064430.88,
          37981531.31999999,
          31400212.54,
          30896804.07,
          35212730.13,
          37482085.58,
          38879360.2,
          41453854.5,
          37643611.57,
          34816959.18,
          27180432.94,
          34630522.81,
          33476138.64,
          41257397.9,
          37760015.28,
          35801398.47,
          37130004.21,
          36310817.42,
          36278886.58,
          44483013.86000001,
          34187395.6,
          33950069.83,
          37942942.06,
          36293076.33,
          40220407.03,
          41053203.120000005
         ],
         "yaxis": "y"
        },
        {
         "hovertemplate": "variable=P3<br>x=%{x}<br>value=%{y}<extra></extra>",
         "legendgroup": "P3",
         "line": {
          "color": "#EF553B",
          "dash": "solid"
         },
         "marker": {
          "symbol": "circle"
         },
         "mode": "lines",
         "name": "P3",
         "orientation": "v",
         "showlegend": true,
         "type": "scatter",
         "x": [
          "2018-10-01T00:00:00",
          "2018-11-01T00:00:00",
          "2018-12-01T00:00:00",
          "2019-01-01T00:00:00",
          "2019-02-01T00:00:00",
          "2019-03-01T00:00:00",
          "2019-04-01T00:00:00",
          "2019-05-01T00:00:00",
          "2019-06-01T00:00:00",
          "2019-07-01T00:00:00",
          "2019-08-01T00:00:00",
          "2019-09-01T00:00:00",
          "2019-10-01T00:00:00",
          "2019-11-01T00:00:00",
          "2019-12-01T00:00:00",
          "2020-01-01T00:00:00",
          "2020-02-01T00:00:00",
          "2020-03-01T00:00:00",
          "2020-04-01T00:00:00",
          "2020-05-01T00:00:00",
          "2020-06-01T00:00:00",
          "2020-07-01T00:00:00",
          "2020-08-01T00:00:00",
          "2020-09-01T00:00:00",
          "2020-10-01T00:00:00",
          "2020-11-01T00:00:00",
          "2020-12-01T00:00:00",
          "2021-01-01T00:00:00",
          "2021-02-01T00:00:00",
          "2021-03-01T00:00:00",
          "2021-04-01T00:00:00",
          "2021-05-01T00:00:00",
          "2021-06-01T00:00:00",
          "2021-07-01T00:00:00",
          "2021-08-01T00:00:00",
          "2021-09-01T00:00:00",
          "2021-10-01T00:00:00",
          "2021-11-01T00:00:00",
          "2021-12-01T00:00:00",
          "2022-01-01T00:00:00",
          "2022-02-01T00:00:00",
          "2022-03-01T00:00:00",
          "2022-04-01T00:00:00"
         ],
         "xaxis": "x",
         "y": [
          8089465.960000001,
          11863001.51,
          8736859.39,
          10705300.629999999,
          10167796.86,
          11040544.57,
          12317479.75,
          12798945.18,
          11546452.19,
          13421550.83,
          11359418.3,
          16579668.11,
          11382774.45,
          13826060.48,
          11077603.56,
          11699896.34,
          10041616.85,
          12281515.46,
          12008066.85,
          10708632.18,
          13321842.36,
          12774946.290000001,
          11373503.08,
          15912683.17,
          10003848.44,
          15021617.790000001,
          9755535.99,
          3804319.7399999998,
          16136114.379999999,
          14128552.8,
          13461271.93,
          10298079.41,
          13650393.45,
          13288195.239999998,
          12385755.66,
          15874712.26,
          13797043.98,
          18686819.85,
          12376414.580000002,
          13754291.32,
          15665217.47,
          14320304.55,
          11999374.51
         ],
         "yaxis": "y"
        },
        {
         "hovertemplate": "variable=P4<br>x=%{x}<br>value=%{y}<extra></extra>",
         "legendgroup": "P4",
         "line": {
          "color": "#00cc96",
          "dash": "solid"
         },
         "marker": {
          "symbol": "circle"
         },
         "mode": "lines",
         "name": "P4",
         "orientation": "v",
         "showlegend": true,
         "type": "scatter",
         "x": [
          "2018-10-01T00:00:00",
          "2018-11-01T00:00:00",
          "2018-12-01T00:00:00",
          "2019-01-01T00:00:00",
          "2019-02-01T00:00:00",
          "2019-03-01T00:00:00",
          "2019-04-01T00:00:00",
          "2019-05-01T00:00:00",
          "2019-06-01T00:00:00",
          "2019-07-01T00:00:00",
          "2019-08-01T00:00:00",
          "2019-09-01T00:00:00",
          "2019-10-01T00:00:00",
          "2019-11-01T00:00:00",
          "2019-12-01T00:00:00",
          "2020-01-01T00:00:00",
          "2020-02-01T00:00:00",
          "2020-03-01T00:00:00",
          "2020-04-01T00:00:00",
          "2020-05-01T00:00:00",
          "2020-06-01T00:00:00",
          "2020-07-01T00:00:00",
          "2020-08-01T00:00:00",
          "2020-09-01T00:00:00",
          "2020-10-01T00:00:00",
          "2020-11-01T00:00:00",
          "2020-12-01T00:00:00",
          "2021-01-01T00:00:00",
          "2021-02-01T00:00:00",
          "2021-03-01T00:00:00",
          "2021-04-01T00:00:00",
          "2021-05-01T00:00:00",
          "2021-06-01T00:00:00",
          "2021-07-01T00:00:00",
          "2021-08-01T00:00:00",
          "2021-09-01T00:00:00",
          "2021-10-01T00:00:00",
          "2021-11-01T00:00:00",
          "2021-12-01T00:00:00",
          "2022-01-01T00:00:00",
          "2022-02-01T00:00:00",
          "2022-03-01T00:00:00",
          "2022-04-01T00:00:00"
         ],
         "xaxis": "x",
         "y": [
          397760.69,
          371322.42,
          430100.96,
          484173.88,
          620031.8,
          491643.59,
          426221.33999999997,
          375671.57,
          190721.15,
          381274.95999999996,
          301973.43,
          443349.32,
          93226.31999999999,
          298011.68,
          275968.15,
          218623.48,
          225262.14,
          197670.48,
          387939.98000000004,
          315488.98,
          329430.96,
          294293.79,
          172952.24,
          645058,
          332603.83999999997,
          413558.14,
          303249.58999999997,
          165265.96999999997,
          807758.79,
          451955.41000000003,
          295958.92,
          573707.27,
          829442.33,
          434669.61,
          255407.75,
          323380.87,
          344985.73,
          290506.87,
          199188.75,
          283630.81,
          245306.13,
          406399.83,
          302057.04
         ],
         "yaxis": "y"
        },
        {
         "hovertemplate": "variable=P5<br>x=%{x}<br>value=%{y}<extra></extra>",
         "legendgroup": "P5",
         "line": {
          "color": "#ab63fa",
          "dash": "solid"
         },
         "marker": {
          "symbol": "circle"
         },
         "mode": "lines",
         "name": "P5",
         "orientation": "v",
         "showlegend": true,
         "type": "scatter",
         "x": [
          "2018-10-01T00:00:00",
          "2018-11-01T00:00:00",
          "2018-12-01T00:00:00",
          "2019-01-01T00:00:00",
          "2019-02-01T00:00:00",
          "2019-03-01T00:00:00",
          "2019-04-01T00:00:00",
          "2019-05-01T00:00:00",
          "2019-06-01T00:00:00",
          "2019-07-01T00:00:00",
          "2019-08-01T00:00:00",
          "2019-09-01T00:00:00",
          "2019-10-01T00:00:00",
          "2019-11-01T00:00:00",
          "2019-12-01T00:00:00",
          "2020-01-01T00:00:00",
          "2020-02-01T00:00:00",
          "2020-03-01T00:00:00",
          "2020-04-01T00:00:00",
          "2020-05-01T00:00:00",
          "2020-06-01T00:00:00",
          "2020-07-01T00:00:00",
          "2020-08-01T00:00:00",
          "2020-09-01T00:00:00",
          "2020-10-01T00:00:00",
          "2020-11-01T00:00:00",
          "2020-12-01T00:00:00",
          "2021-01-01T00:00:00",
          "2021-02-01T00:00:00",
          "2021-03-01T00:00:00",
          "2021-04-01T00:00:00",
          "2021-05-01T00:00:00",
          "2021-06-01T00:00:00",
          "2021-07-01T00:00:00",
          "2021-08-01T00:00:00",
          "2021-09-01T00:00:00",
          "2021-10-01T00:00:00",
          "2021-11-01T00:00:00",
          "2021-12-01T00:00:00",
          "2022-01-01T00:00:00",
          "2022-02-01T00:00:00",
          "2022-03-01T00:00:00",
          "2022-04-01T00:00:00"
         ],
         "xaxis": "x",
         "y": [
          2499061.19,
          8993944.040000001,
          6947507.3100000005,
          8233205.069999999,
          6879250.989999999,
          11914313.63,
          5714462.4799999995,
          11389673.26,
          13681879.16,
          11145039.030000001,
          7645745.289999999,
          15018604.629999999,
          11542647.469999999,
          8104241.69,
          13494692.75,
          7184359.3100000005,
          12424406.63,
          9232237.68,
          7990825.32,
          9872426.57,
          15873894.909999998,
          5590709.71,
          11463705.639999999,
          14160091.05,
          4647204.31,
          10164873.57,
          8845742.299999999,
          1405295.36,
          16650952.72,
          11102204.58,
          7085482.52,
          8767595.73,
          11687229.03,
          8321886.38,
          19524640.52,
          15629190.799999999,
          11472426.01,
          9606371.14,
          8656479.64,
          7731408.33,
          7675455.55,
          14739187.18,
          8884607.530000001
         ],
         "yaxis": "y"
        },
        {
         "hovertemplate": "variable=P6<br>x=%{x}<br>value=%{y}<extra></extra>",
         "legendgroup": "P6",
         "line": {
          "color": "#FFA15A",
          "dash": "solid"
         },
         "marker": {
          "symbol": "circle"
         },
         "mode": "lines",
         "name": "P6",
         "orientation": "v",
         "showlegend": true,
         "type": "scatter",
         "x": [
          "2018-10-01T00:00:00",
          "2018-11-01T00:00:00",
          "2018-12-01T00:00:00",
          "2019-01-01T00:00:00",
          "2019-02-01T00:00:00",
          "2019-03-01T00:00:00",
          "2019-04-01T00:00:00",
          "2019-05-01T00:00:00",
          "2019-06-01T00:00:00",
          "2019-07-01T00:00:00",
          "2019-08-01T00:00:00",
          "2019-09-01T00:00:00",
          "2019-10-01T00:00:00",
          "2019-11-01T00:00:00",
          "2019-12-01T00:00:00",
          "2020-01-01T00:00:00",
          "2020-02-01T00:00:00",
          "2020-03-01T00:00:00",
          "2020-04-01T00:00:00",
          "2020-05-01T00:00:00",
          "2020-06-01T00:00:00",
          "2020-07-01T00:00:00",
          "2020-08-01T00:00:00",
          "2020-09-01T00:00:00",
          "2020-10-01T00:00:00",
          "2020-11-01T00:00:00",
          "2020-12-01T00:00:00",
          "2021-01-01T00:00:00",
          "2021-02-01T00:00:00",
          "2021-03-01T00:00:00",
          "2021-04-01T00:00:00",
          "2021-05-01T00:00:00",
          "2021-06-01T00:00:00",
          "2021-07-01T00:00:00",
          "2021-08-01T00:00:00",
          "2021-09-01T00:00:00",
          "2021-10-01T00:00:00",
          "2021-11-01T00:00:00",
          "2021-12-01T00:00:00",
          "2022-01-01T00:00:00",
          "2022-02-01T00:00:00",
          "2022-03-01T00:00:00",
          "2022-04-01T00:00:00"
         ],
         "xaxis": "x",
         "y": [
          369231.6,
          473046.95999999996,
          999472.6900000002,
          598874.1,
          542037.52,
          735604.23,
          277575.12,
          315978.77,
          282963.19,
          725411.99,
          206931.16999999998,
          499147.73,
          581767.85,
          181159.2,
          913378.8,
          -15202.959999999977,
          724398.75,
          529808.94,
          782042.98,
          750367.7,
          526425.18,
          730187.6799999999,
          847092.87,
          316929.21,
          313535.91000000003,
          335130.74,
          332556.98,
          27472.940000000002,
          515644.63,
          625100.14,
          592478.95,
          566508.34,
          490262.94,
          499338.64,
          529725.46,
          947905.3899999999,
          196463.81,
          386462.95999999996,
          190074.96,
          157670.31,
          391088.3,
          316132.20999999996,
          333705.61
         ],
         "yaxis": "y"
        },
        {
         "hovertemplate": "variable=P8<br>x=%{x}<br>value=%{y}<extra></extra>",
         "legendgroup": "P8",
         "line": {
          "color": "#19d3f3",
          "dash": "solid"
         },
         "marker": {
          "symbol": "circle"
         },
         "mode": "lines",
         "name": "P8",
         "orientation": "v",
         "showlegend": true,
         "type": "scatter",
         "x": [
          "2018-10-01T00:00:00",
          "2018-11-01T00:00:00",
          "2018-12-01T00:00:00",
          "2019-01-01T00:00:00",
          "2019-02-01T00:00:00",
          "2019-03-01T00:00:00",
          "2019-04-01T00:00:00",
          "2019-05-01T00:00:00",
          "2019-06-01T00:00:00",
          "2019-07-01T00:00:00",
          "2019-08-01T00:00:00",
          "2019-09-01T00:00:00",
          "2019-10-01T00:00:00",
          "2019-11-01T00:00:00",
          "2019-12-01T00:00:00",
          "2020-01-01T00:00:00",
          "2020-02-01T00:00:00",
          "2020-03-01T00:00:00",
          "2020-04-01T00:00:00",
          "2020-05-01T00:00:00",
          "2020-06-01T00:00:00",
          "2020-07-01T00:00:00",
          "2020-08-01T00:00:00",
          "2020-09-01T00:00:00",
          "2020-10-01T00:00:00",
          "2020-11-01T00:00:00",
          "2020-12-01T00:00:00",
          "2021-01-01T00:00:00",
          "2021-02-01T00:00:00",
          "2021-03-01T00:00:00",
          "2021-04-01T00:00:00",
          "2021-05-01T00:00:00",
          "2021-06-01T00:00:00",
          "2021-07-01T00:00:00",
          "2021-08-01T00:00:00",
          "2021-09-01T00:00:00",
          "2021-10-01T00:00:00",
          "2021-11-01T00:00:00",
          "2021-12-01T00:00:00",
          "2022-01-01T00:00:00",
          "2022-02-01T00:00:00",
          "2022-03-01T00:00:00",
          "2022-04-01T00:00:00"
         ],
         "xaxis": "x",
         "y": [
          586052.74,
          526292.77,
          271490.71,
          381400.15,
          368475.57,
          591288.36,
          418899.9,
          298806.83999999997,
          420707.73,
          366980.26,
          397537.2,
          1084685.92,
          111791.34,
          542923.42,
          491332.72000000003,
          323769.2,
          326973.94,
          845857.76,
          302765.68,
          712746.38,
          599831.93,
          583157.61,
          916909.76,
          1337657.62,
          153873.52,
          904436.89,
          1061969.46,
          305820.25999999995,
          1615468.03,
          899610.15,
          1070486.79,
          813607.01,
          1091239.79,
          1207554.52,
          1093379.99,
          2036355.01,
          356322.55,
          1140720.52,
          2655036.7800000003,
          1208090.29,
          1239171.41,
          1873520.38,
          1336220.96
         ],
         "yaxis": "y"
        },
        {
         "hovertemplate": "variable=P9<br>x=%{x}<br>value=%{y}<extra></extra>",
         "legendgroup": "P9",
         "line": {
          "color": "#FF6692",
          "dash": "solid"
         },
         "marker": {
          "symbol": "circle"
         },
         "mode": "lines",
         "name": "P9",
         "orientation": "v",
         "showlegend": true,
         "type": "scatter",
         "x": [
          "2018-10-01T00:00:00",
          "2018-11-01T00:00:00",
          "2018-12-01T00:00:00",
          "2019-01-01T00:00:00",
          "2019-02-01T00:00:00",
          "2019-03-01T00:00:00",
          "2019-04-01T00:00:00",
          "2019-05-01T00:00:00",
          "2019-06-01T00:00:00",
          "2019-07-01T00:00:00",
          "2019-08-01T00:00:00",
          "2019-09-01T00:00:00",
          "2019-10-01T00:00:00",
          "2019-11-01T00:00:00",
          "2019-12-01T00:00:00",
          "2020-01-01T00:00:00",
          "2020-02-01T00:00:00",
          "2020-03-01T00:00:00",
          "2020-04-01T00:00:00",
          "2020-05-01T00:00:00",
          "2020-06-01T00:00:00",
          "2020-07-01T00:00:00",
          "2020-08-01T00:00:00",
          "2020-09-01T00:00:00",
          "2020-10-01T00:00:00",
          "2020-11-01T00:00:00",
          "2020-12-01T00:00:00",
          "2021-01-01T00:00:00",
          "2021-02-01T00:00:00",
          "2021-03-01T00:00:00",
          "2021-04-01T00:00:00",
          "2021-05-01T00:00:00",
          "2021-06-01T00:00:00",
          "2021-07-01T00:00:00",
          "2021-08-01T00:00:00",
          "2021-09-01T00:00:00",
          "2021-10-01T00:00:00",
          "2021-11-01T00:00:00",
          "2021-12-01T00:00:00",
          "2022-01-01T00:00:00",
          "2022-02-01T00:00:00",
          "2022-03-01T00:00:00",
          "2022-04-01T00:00:00"
         ],
         "xaxis": "x",
         "y": [
          3219.32,
          1875.9,
          null,
          1487,
          3234.2799999999997,
          13050.61,
          9119.65,
          4614.08,
          4488.09,
          1766.4,
          6371.5,
          13930.26,
          555,
          24181.8,
          7611.36,
          7647.5,
          425.1,
          2233,
          1476.85,
          3764.12,
          7555.45,
          943.3900000000001,
          9907.2,
          2893.35,
          39510.75,
          -4358.099999999999,
          8606.5,
          625.5,
          10022.4,
          28108.88,
          16713.96,
          8026,
          7240.84,
          11295.75,
          432,
          9259.2,
          937.04,
          14035.58,
          14935.2,
          2064.7,
          901.5,
          4452.6,
          3285
         ],
         "yaxis": "y"
        },
        {
         "hovertemplate": "variable=P11<br>x=%{x}<br>value=%{y}<extra></extra>",
         "legendgroup": "P11",
         "line": {
          "color": "#B6E880",
          "dash": "solid"
         },
         "marker": {
          "symbol": "circle"
         },
         "mode": "lines",
         "name": "P11",
         "orientation": "v",
         "showlegend": true,
         "type": "scatter",
         "x": [
          "2018-10-01T00:00:00",
          "2018-11-01T00:00:00",
          "2018-12-01T00:00:00",
          "2019-01-01T00:00:00",
          "2019-02-01T00:00:00",
          "2019-03-01T00:00:00",
          "2019-04-01T00:00:00",
          "2019-05-01T00:00:00",
          "2019-06-01T00:00:00",
          "2019-07-01T00:00:00",
          "2019-08-01T00:00:00",
          "2019-09-01T00:00:00",
          "2019-10-01T00:00:00",
          "2019-11-01T00:00:00",
          "2019-12-01T00:00:00",
          "2020-01-01T00:00:00",
          "2020-02-01T00:00:00",
          "2020-03-01T00:00:00",
          "2020-04-01T00:00:00",
          "2020-05-01T00:00:00",
          "2020-06-01T00:00:00",
          "2020-07-01T00:00:00",
          "2020-08-01T00:00:00",
          "2020-09-01T00:00:00",
          "2020-10-01T00:00:00",
          "2020-11-01T00:00:00",
          "2020-12-01T00:00:00",
          "2021-01-01T00:00:00",
          "2021-02-01T00:00:00",
          "2021-03-01T00:00:00",
          "2021-04-01T00:00:00",
          "2021-05-01T00:00:00",
          "2021-06-01T00:00:00",
          "2021-07-01T00:00:00",
          "2021-08-01T00:00:00",
          "2021-09-01T00:00:00",
          "2021-10-01T00:00:00",
          "2021-11-01T00:00:00",
          "2021-12-01T00:00:00",
          "2022-01-01T00:00:00",
          "2022-02-01T00:00:00",
          "2022-03-01T00:00:00",
          "2022-04-01T00:00:00"
         ],
         "xaxis": "x",
         "y": [
          1021303.5,
          1898844.8,
          1226122,
          2216391.74,
          610456.6,
          493999.81,
          1484281.6,
          1066063.9,
          492133.2,
          585648.14,
          2898779.87,
          3749980.46,
          218976.78,
          1194770.75,
          1278545.62,
          584370,
          1233609.73,
          2969948.65,
          813303.01,
          842526.1,
          2246948,
          2105975.71,
          1521580.0699999998,
          3891447.7600000002,
          973837.23,
          488891.95999999996,
          1096370.71,
          18200,
          1978335.55,
          1660211.1600000001,
          1206734.3399999999,
          1994228.4,
          991872.24,
          2253079.74,
          2715460.08,
          3795389.85,
          173771.79,
          1832753.73,
          2645689.71,
          1054580.98,
          964672.3200000001,
          2284958.4000000004,
          1126268.66
         ],
         "yaxis": "y"
        },
        {
         "hovertemplate": "variable=P12<br>x=%{x}<br>value=%{y}<extra></extra>",
         "legendgroup": "P12",
         "line": {
          "color": "#FF97FF",
          "dash": "solid"
         },
         "marker": {
          "symbol": "circle"
         },
         "mode": "lines",
         "name": "P12",
         "orientation": "v",
         "showlegend": true,
         "type": "scatter",
         "x": [
          "2018-10-01T00:00:00",
          "2018-11-01T00:00:00",
          "2018-12-01T00:00:00",
          "2019-01-01T00:00:00",
          "2019-02-01T00:00:00",
          "2019-03-01T00:00:00",
          "2019-04-01T00:00:00",
          "2019-05-01T00:00:00",
          "2019-06-01T00:00:00",
          "2019-07-01T00:00:00",
          "2019-08-01T00:00:00",
          "2019-09-01T00:00:00",
          "2019-10-01T00:00:00",
          "2019-11-01T00:00:00",
          "2019-12-01T00:00:00",
          "2020-01-01T00:00:00",
          "2020-02-01T00:00:00",
          "2020-03-01T00:00:00",
          "2020-04-01T00:00:00",
          "2020-05-01T00:00:00",
          "2020-06-01T00:00:00",
          "2020-07-01T00:00:00",
          "2020-08-01T00:00:00",
          "2020-09-01T00:00:00",
          "2020-10-01T00:00:00",
          "2020-11-01T00:00:00",
          "2020-12-01T00:00:00",
          "2021-01-01T00:00:00",
          "2021-02-01T00:00:00",
          "2021-03-01T00:00:00",
          "2021-04-01T00:00:00",
          "2021-05-01T00:00:00",
          "2021-06-01T00:00:00",
          "2021-07-01T00:00:00",
          "2021-08-01T00:00:00",
          "2021-09-01T00:00:00",
          "2021-10-01T00:00:00",
          "2021-11-01T00:00:00",
          "2021-12-01T00:00:00",
          "2022-01-01T00:00:00",
          "2022-02-01T00:00:00",
          "2022-03-01T00:00:00",
          "2022-04-01T00:00:00"
         ],
         "xaxis": "x",
         "y": [
          28686.33,
          1070,
          17880.6,
          21484,
          34214.74,
          10118,
          21813.27,
          24468,
          44255.68,
          21318.48,
          19217,
          292490.4,
          140819.69,
          320942.27999999997,
          349515.29,
          213315.32,
          324443.35,
          185833.89,
          79632,
          153949.24,
          172712.88,
          110275.2,
          164108.2,
          168634.8,
          5395,
          445648.06000000006,
          271024.19,
          92754.01,
          287890.61,
          282688.33999999997,
          385267.16000000003,
          379881.93,
          326883.32,
          363685.44,
          143436.63,
          423432.68,
          217388.43,
          428753.94000000006,
          322647.82,
          147680.18,
          312165.52,
          343523.42,
          178141
         ],
         "yaxis": "y"
        },
        {
         "hovertemplate": "variable=P13<br>x=%{x}<br>value=%{y}<extra></extra>",
         "legendgroup": "P13",
         "line": {
          "color": "#FECB52",
          "dash": "solid"
         },
         "marker": {
          "symbol": "circle"
         },
         "mode": "lines",
         "name": "P13",
         "orientation": "v",
         "showlegend": true,
         "type": "scatter",
         "x": [
          "2018-10-01T00:00:00",
          "2018-11-01T00:00:00",
          "2018-12-01T00:00:00",
          "2019-01-01T00:00:00",
          "2019-02-01T00:00:00",
          "2019-03-01T00:00:00",
          "2019-04-01T00:00:00",
          "2019-05-01T00:00:00",
          "2019-06-01T00:00:00",
          "2019-07-01T00:00:00",
          "2019-08-01T00:00:00",
          "2019-09-01T00:00:00",
          "2019-10-01T00:00:00",
          "2019-11-01T00:00:00",
          "2019-12-01T00:00:00",
          "2020-01-01T00:00:00",
          "2020-02-01T00:00:00",
          "2020-03-01T00:00:00",
          "2020-04-01T00:00:00",
          "2020-05-01T00:00:00",
          "2020-06-01T00:00:00",
          "2020-07-01T00:00:00",
          "2020-08-01T00:00:00",
          "2020-09-01T00:00:00",
          "2020-10-01T00:00:00",
          "2020-11-01T00:00:00",
          "2020-12-01T00:00:00",
          "2021-01-01T00:00:00",
          "2021-02-01T00:00:00",
          "2021-03-01T00:00:00",
          "2021-04-01T00:00:00",
          "2021-05-01T00:00:00",
          "2021-06-01T00:00:00",
          "2021-07-01T00:00:00",
          "2021-08-01T00:00:00",
          "2021-09-01T00:00:00",
          "2021-10-01T00:00:00",
          "2021-11-01T00:00:00",
          "2021-12-01T00:00:00",
          "2022-01-01T00:00:00",
          "2022-02-01T00:00:00",
          "2022-03-01T00:00:00",
          "2022-04-01T00:00:00"
         ],
         "xaxis": "x",
         "y": [
          27666.1,
          68180,
          15655.18,
          27198.29,
          32638.63,
          11890,
          7488.54,
          2550.3100000000004,
          34849.21,
          43008.350000000006,
          22497.6,
          19601.050000000003,
          65754.55,
          43190.76,
          26729.760000000002,
          19519.59,
          13747.169999999998,
          23513.59,
          30716.11,
          3762.8199999999997,
          9612.8,
          6745.2,
          25689.64,
          15314.86,
          9524.88,
          20663.64,
          31216.71,
          10118.36,
          16729.8,
          63092.75,
          38125.2,
          4130,
          6015.04,
          8419.83,
          10814.57,
          28682.589999999997,
          30506.15,
          8136.92,
          24868.86,
          37972.81,
          33449.25,
          12149.4,
          17020.04
         ],
         "yaxis": "y"
        },
        {
         "hovertemplate": "variable=P14<br>x=%{x}<br>value=%{y}<extra></extra>",
         "legendgroup": "P14",
         "line": {
          "color": "#636efa",
          "dash": "solid"
         },
         "marker": {
          "symbol": "circle"
         },
         "mode": "lines",
         "name": "P14",
         "orientation": "v",
         "showlegend": true,
         "type": "scatter",
         "x": [
          "2018-10-01T00:00:00",
          "2018-11-01T00:00:00",
          "2018-12-01T00:00:00",
          "2019-01-01T00:00:00",
          "2019-02-01T00:00:00",
          "2019-03-01T00:00:00",
          "2019-04-01T00:00:00",
          "2019-05-01T00:00:00",
          "2019-06-01T00:00:00",
          "2019-07-01T00:00:00",
          "2019-08-01T00:00:00",
          "2019-09-01T00:00:00",
          "2019-10-01T00:00:00",
          "2019-11-01T00:00:00",
          "2019-12-01T00:00:00",
          "2020-01-01T00:00:00",
          "2020-02-01T00:00:00",
          "2020-03-01T00:00:00",
          "2020-04-01T00:00:00",
          "2020-05-01T00:00:00",
          "2020-06-01T00:00:00",
          "2020-07-01T00:00:00",
          "2020-08-01T00:00:00",
          "2020-09-01T00:00:00",
          "2020-10-01T00:00:00",
          "2020-11-01T00:00:00",
          "2020-12-01T00:00:00",
          "2021-01-01T00:00:00",
          "2021-02-01T00:00:00",
          "2021-03-01T00:00:00",
          "2021-04-01T00:00:00",
          "2021-05-01T00:00:00",
          "2021-06-01T00:00:00",
          "2021-07-01T00:00:00",
          "2021-08-01T00:00:00",
          "2021-09-01T00:00:00",
          "2021-10-01T00:00:00",
          "2021-11-01T00:00:00",
          "2021-12-01T00:00:00",
          "2022-01-01T00:00:00",
          "2022-02-01T00:00:00",
          "2022-03-01T00:00:00",
          "2022-04-01T00:00:00"
         ],
         "xaxis": "x",
         "y": [
          5770,
          17130,
          null,
          1686.4,
          19196.3,
          7535.25,
          null,
          17771.4,
          63017.71,
          20719.3,
          1602,
          12851.2,
          1378.5500000000002,
          2571.3,
          null,
          2955.22,
          10900,
          10325.15,
          -2851.45,
          32670,
          8756.45,
          14793,
          6919.4,
          2219.8,
          13799,
          1750,
          11772.45,
          3028,
          2966.82,
          15818.779999999999,
          5629,
          2183.85,
          8266.9,
          76161.44,
          null,
          -561.2500000000005,
          16534.2,
          5951.849999999999,
          17427.6,
          2820,
          4410,
          46100.24,
          1846.2
         ],
         "yaxis": "y"
        },
        {
         "hovertemplate": "variable=P16<br>x=%{x}<br>value=%{y}<extra></extra>",
         "legendgroup": "P16",
         "line": {
          "color": "#EF553B",
          "dash": "solid"
         },
         "marker": {
          "symbol": "circle"
         },
         "mode": "lines",
         "name": "P16",
         "orientation": "v",
         "showlegend": true,
         "type": "scatter",
         "x": [
          "2018-10-01T00:00:00",
          "2018-11-01T00:00:00",
          "2018-12-01T00:00:00",
          "2019-01-01T00:00:00",
          "2019-02-01T00:00:00",
          "2019-03-01T00:00:00",
          "2019-04-01T00:00:00",
          "2019-05-01T00:00:00",
          "2019-06-01T00:00:00",
          "2019-07-01T00:00:00",
          "2019-08-01T00:00:00",
          "2019-09-01T00:00:00",
          "2019-10-01T00:00:00",
          "2019-11-01T00:00:00",
          "2019-12-01T00:00:00",
          "2020-01-01T00:00:00",
          "2020-02-01T00:00:00",
          "2020-03-01T00:00:00",
          "2020-04-01T00:00:00",
          "2020-05-01T00:00:00",
          "2020-06-01T00:00:00",
          "2020-07-01T00:00:00",
          "2020-08-01T00:00:00",
          "2020-09-01T00:00:00",
          "2020-10-01T00:00:00",
          "2020-11-01T00:00:00",
          "2020-12-01T00:00:00",
          "2021-01-01T00:00:00",
          "2021-02-01T00:00:00",
          "2021-03-01T00:00:00",
          "2021-04-01T00:00:00",
          "2021-05-01T00:00:00",
          "2021-06-01T00:00:00",
          "2021-07-01T00:00:00",
          "2021-08-01T00:00:00",
          "2021-09-01T00:00:00",
          "2021-10-01T00:00:00",
          "2021-11-01T00:00:00",
          "2021-12-01T00:00:00",
          "2022-01-01T00:00:00",
          "2022-02-01T00:00:00",
          "2022-03-01T00:00:00",
          "2022-04-01T00:00:00"
         ],
         "xaxis": "x",
         "y": [
          333196.87,
          1377694.32,
          4762524.66,
          942957.19,
          257765.04,
          2258352.2199999997,
          224501.9,
          353451.54,
          367425.38,
          266225.86,
          725678.3299999998,
          752884.16,
          285644.67,
          291844.03,
          66419.16000000003,
          384800.46,
          82821.54000000001,
          160397.35,
          70530.7,
          195141.7,
          269150.4,
          409170.11,
          153289.44,
          209186.6,
          145276.08000000002,
          160941.78,
          260089.25,
          40360.08,
          117004.3,
          309564.27,
          125710.70999999999,
          218701.06,
          186607.11000000002,
          103935.84,
          323548.03,
          186586.24,
          141037.06,
          230129.08000000002,
          271111.39,
          91021.89,
          45696.76,
          98729.91,
          134071.24
         ],
         "yaxis": "y"
        },
        {
         "hovertemplate": "variable=P20<br>x=%{x}<br>value=%{y}<extra></extra>",
         "legendgroup": "P20",
         "line": {
          "color": "#00cc96",
          "dash": "solid"
         },
         "marker": {
          "symbol": "circle"
         },
         "mode": "lines",
         "name": "P20",
         "orientation": "v",
         "showlegend": true,
         "type": "scatter",
         "x": [
          "2018-10-01T00:00:00",
          "2018-11-01T00:00:00",
          "2018-12-01T00:00:00",
          "2019-01-01T00:00:00",
          "2019-02-01T00:00:00",
          "2019-03-01T00:00:00",
          "2019-04-01T00:00:00",
          "2019-05-01T00:00:00",
          "2019-06-01T00:00:00",
          "2019-07-01T00:00:00",
          "2019-08-01T00:00:00",
          "2019-09-01T00:00:00",
          "2019-10-01T00:00:00",
          "2019-11-01T00:00:00",
          "2019-12-01T00:00:00",
          "2020-01-01T00:00:00",
          "2020-02-01T00:00:00",
          "2020-03-01T00:00:00",
          "2020-04-01T00:00:00",
          "2020-05-01T00:00:00",
          "2020-06-01T00:00:00",
          "2020-07-01T00:00:00",
          "2020-08-01T00:00:00",
          "2020-09-01T00:00:00",
          "2020-10-01T00:00:00",
          "2020-11-01T00:00:00",
          "2020-12-01T00:00:00",
          "2021-01-01T00:00:00",
          "2021-02-01T00:00:00",
          "2021-03-01T00:00:00",
          "2021-04-01T00:00:00",
          "2021-05-01T00:00:00",
          "2021-06-01T00:00:00",
          "2021-07-01T00:00:00",
          "2021-08-01T00:00:00",
          "2021-09-01T00:00:00",
          "2021-10-01T00:00:00",
          "2021-11-01T00:00:00",
          "2021-12-01T00:00:00",
          "2022-01-01T00:00:00",
          "2022-02-01T00:00:00",
          "2022-03-01T00:00:00",
          "2022-04-01T00:00:00"
         ],
         "xaxis": "x",
         "y": [
          4563.14,
          5798.139999999999,
          918.65,
          2398.04,
          620.66,
          3369.55,
          3619.63,
          938.9,
          772.94,
          577.6,
          284.4,
          664.57,
          1566,
          149,
          null,
          274.90999999999997,
          null,
          555,
          224,
          390,
          983.1,
          826.98,
          2688,
          2047.7,
          7355.75,
          2979.54,
          8485.6,
          null,
          1387,
          1076.6,
          8414,
          419.21,
          1766.6,
          842.9300000000001,
          377.22,
          null,
          151.49,
          928.8,
          156,
          null,
          589.5,
          2885.08,
          6280.629999999999
         ],
         "yaxis": "y"
        },
        {
         "hovertemplate": "variable=P36<br>x=%{x}<br>value=%{y}<extra></extra>",
         "legendgroup": "P36",
         "line": {
          "color": "#ab63fa",
          "dash": "solid"
         },
         "marker": {
          "symbol": "circle"
         },
         "mode": "lines",
         "name": "P36",
         "orientation": "v",
         "showlegend": true,
         "type": "scatter",
         "x": [
          "2018-10-01T00:00:00",
          "2018-11-01T00:00:00",
          "2018-12-01T00:00:00",
          "2019-01-01T00:00:00",
          "2019-02-01T00:00:00",
          "2019-03-01T00:00:00",
          "2019-04-01T00:00:00",
          "2019-05-01T00:00:00",
          "2019-06-01T00:00:00",
          "2019-07-01T00:00:00",
          "2019-08-01T00:00:00",
          "2019-09-01T00:00:00",
          "2019-10-01T00:00:00",
          "2019-11-01T00:00:00",
          "2019-12-01T00:00:00",
          "2020-01-01T00:00:00",
          "2020-02-01T00:00:00",
          "2020-03-01T00:00:00",
          "2020-04-01T00:00:00",
          "2020-05-01T00:00:00",
          "2020-06-01T00:00:00",
          "2020-07-01T00:00:00",
          "2020-08-01T00:00:00",
          "2020-09-01T00:00:00",
          "2020-10-01T00:00:00",
          "2020-11-01T00:00:00",
          "2020-12-01T00:00:00",
          "2021-01-01T00:00:00",
          "2021-02-01T00:00:00",
          "2021-03-01T00:00:00",
          "2021-04-01T00:00:00",
          "2021-05-01T00:00:00",
          "2021-06-01T00:00:00",
          "2021-07-01T00:00:00",
          "2021-08-01T00:00:00",
          "2021-09-01T00:00:00",
          "2021-10-01T00:00:00",
          "2021-11-01T00:00:00",
          "2021-12-01T00:00:00",
          "2022-01-01T00:00:00",
          "2022-02-01T00:00:00",
          "2022-03-01T00:00:00",
          "2022-04-01T00:00:00"
         ],
         "xaxis": "x",
         "y": [
          6474.6,
          21617.61,
          13924.52,
          15444.39,
          8051.15,
          7373.419999999999,
          4280.25,
          16905.32,
          15516.22,
          33334.41,
          1306,
          16582.55,
          1556.5,
          14921.72,
          5906.37,
          11840.670000000002,
          11813.4,
          28300.82,
          27121.6,
          9649.3,
          146778.15,
          3849.6,
          12377.77,
          44867.100000000006,
          22372.49,
          4126.99,
          12105.42,
          3950.1,
          10454.4,
          11436,
          253519.03999999998,
          12775.490000000002,
          24733.07,
          17159.27,
          9233.4,
          26729.61,
          674,
          5139.4800000000005,
          48933.5,
          6014.39,
          29869.5,
          2564.85,
          17029.47
         ],
         "yaxis": "y"
        },
        {
         "hovertemplate": "variable=Sales_EUR<br>x=%{x}<br>value=%{y}<extra></extra>",
         "legendgroup": "Sales_EUR",
         "line": {
          "color": "#FFA15A",
          "dash": "solid"
         },
         "marker": {
          "symbol": "circle"
         },
         "mode": "lines",
         "name": "Sales_EUR",
         "orientation": "v",
         "showlegend": true,
         "type": "scatter",
         "x": [
          "2018-10-01T00:00:00",
          "2018-11-01T00:00:00",
          "2018-12-01T00:00:00",
          "2019-01-01T00:00:00",
          "2019-02-01T00:00:00",
          "2019-03-01T00:00:00",
          "2019-04-01T00:00:00",
          "2019-05-01T00:00:00",
          "2019-06-01T00:00:00",
          "2019-07-01T00:00:00",
          "2019-08-01T00:00:00",
          "2019-09-01T00:00:00",
          "2019-10-01T00:00:00",
          "2019-11-01T00:00:00",
          "2019-12-01T00:00:00",
          "2020-01-01T00:00:00",
          "2020-02-01T00:00:00",
          "2020-03-01T00:00:00",
          "2020-04-01T00:00:00",
          "2020-05-01T00:00:00",
          "2020-06-01T00:00:00",
          "2020-07-01T00:00:00",
          "2020-08-01T00:00:00",
          "2020-09-01T00:00:00",
          "2020-10-01T00:00:00",
          "2020-11-01T00:00:00",
          "2020-12-01T00:00:00",
          "2021-01-01T00:00:00",
          "2021-02-01T00:00:00",
          "2021-03-01T00:00:00",
          "2021-04-01T00:00:00",
          "2021-05-01T00:00:00",
          "2021-06-01T00:00:00",
          "2021-07-01T00:00:00",
          "2021-08-01T00:00:00",
          "2021-09-01T00:00:00",
          "2021-10-01T00:00:00",
          "2021-11-01T00:00:00",
          "2021-12-01T00:00:00",
          "2022-01-01T00:00:00",
          "2022-02-01T00:00:00",
          "2022-03-01T00:00:00",
          "2022-04-01T00:00:00"
         ],
         "xaxis": "x",
         "y": [
          49471370.83,
          30760578.47,
          61312068.79000001,
          51360149.230000004,
          54336933.669999994,
          61435886.279999994,
          60598035.44000001,
          65563813.36,
          66251932.080000006,
          64925427.90999999,
          61630019.13999999,
          79087220.99999999,
          63440758.35999999,
          62168871.18,
          65689212.91,
          54752820.510000005,
          58926297.86000001,
          65532628.650000006,
          60473324.95,
          55001727.629999995,
          64410726.64,
          57838604.400000006,
          64152808.88999999,
          75588391.21999998,
          58121991.7,
          65603872.57000001,
          56815684.330000006,
          33057643.259999998,
          72781252.24,
          63055558.50000001,
          65803190.419999994,
          61399858.980000004,
          65103351.13,
          63716228.84,
          73303028.72999999,
          75559949.83,
          71231256.10000001,
          66824106.31999999,
          61373034.62,
          62420188.07000001,
          62901069.54,
          74671315.08,
          65393111.010000005
         ],
         "yaxis": "y"
        }
       ],
       "layout": {
        "legend": {
         "title": {
          "text": "variable"
         },
         "tracegroupgap": 0
        },
        "margin": {
         "t": 60
        },
        "template": {
         "data": {
          "bar": [
           {
            "error_x": {
             "color": "#2a3f5f"
            },
            "error_y": {
             "color": "#2a3f5f"
            },
            "marker": {
             "line": {
              "color": "#E5ECF6",
              "width": 0.5
             },
             "pattern": {
              "fillmode": "overlay",
              "size": 10,
              "solidity": 0.2
             }
            },
            "type": "bar"
           }
          ],
          "barpolar": [
           {
            "marker": {
             "line": {
              "color": "#E5ECF6",
              "width": 0.5
             },
             "pattern": {
              "fillmode": "overlay",
              "size": 10,
              "solidity": 0.2
             }
            },
            "type": "barpolar"
           }
          ],
          "carpet": [
           {
            "aaxis": {
             "endlinecolor": "#2a3f5f",
             "gridcolor": "white",
             "linecolor": "white",
             "minorgridcolor": "white",
             "startlinecolor": "#2a3f5f"
            },
            "baxis": {
             "endlinecolor": "#2a3f5f",
             "gridcolor": "white",
             "linecolor": "white",
             "minorgridcolor": "white",
             "startlinecolor": "#2a3f5f"
            },
            "type": "carpet"
           }
          ],
          "choropleth": [
           {
            "colorbar": {
             "outlinewidth": 0,
             "ticks": ""
            },
            "type": "choropleth"
           }
          ],
          "contour": [
           {
            "colorbar": {
             "outlinewidth": 0,
             "ticks": ""
            },
            "colorscale": [
             [
              0,
              "#0d0887"
             ],
             [
              0.1111111111111111,
              "#46039f"
             ],
             [
              0.2222222222222222,
              "#7201a8"
             ],
             [
              0.3333333333333333,
              "#9c179e"
             ],
             [
              0.4444444444444444,
              "#bd3786"
             ],
             [
              0.5555555555555556,
              "#d8576b"
             ],
             [
              0.6666666666666666,
              "#ed7953"
             ],
             [
              0.7777777777777778,
              "#fb9f3a"
             ],
             [
              0.8888888888888888,
              "#fdca26"
             ],
             [
              1,
              "#f0f921"
             ]
            ],
            "type": "contour"
           }
          ],
          "contourcarpet": [
           {
            "colorbar": {
             "outlinewidth": 0,
             "ticks": ""
            },
            "type": "contourcarpet"
           }
          ],
          "heatmap": [
           {
            "colorbar": {
             "outlinewidth": 0,
             "ticks": ""
            },
            "colorscale": [
             [
              0,
              "#0d0887"
             ],
             [
              0.1111111111111111,
              "#46039f"
             ],
             [
              0.2222222222222222,
              "#7201a8"
             ],
             [
              0.3333333333333333,
              "#9c179e"
             ],
             [
              0.4444444444444444,
              "#bd3786"
             ],
             [
              0.5555555555555556,
              "#d8576b"
             ],
             [
              0.6666666666666666,
              "#ed7953"
             ],
             [
              0.7777777777777778,
              "#fb9f3a"
             ],
             [
              0.8888888888888888,
              "#fdca26"
             ],
             [
              1,
              "#f0f921"
             ]
            ],
            "type": "heatmap"
           }
          ],
          "heatmapgl": [
           {
            "colorbar": {
             "outlinewidth": 0,
             "ticks": ""
            },
            "colorscale": [
             [
              0,
              "#0d0887"
             ],
             [
              0.1111111111111111,
              "#46039f"
             ],
             [
              0.2222222222222222,
              "#7201a8"
             ],
             [
              0.3333333333333333,
              "#9c179e"
             ],
             [
              0.4444444444444444,
              "#bd3786"
             ],
             [
              0.5555555555555556,
              "#d8576b"
             ],
             [
              0.6666666666666666,
              "#ed7953"
             ],
             [
              0.7777777777777778,
              "#fb9f3a"
             ],
             [
              0.8888888888888888,
              "#fdca26"
             ],
             [
              1,
              "#f0f921"
             ]
            ],
            "type": "heatmapgl"
           }
          ],
          "histogram": [
           {
            "marker": {
             "pattern": {
              "fillmode": "overlay",
              "size": 10,
              "solidity": 0.2
             }
            },
            "type": "histogram"
           }
          ],
          "histogram2d": [
           {
            "colorbar": {
             "outlinewidth": 0,
             "ticks": ""
            },
            "colorscale": [
             [
              0,
              "#0d0887"
             ],
             [
              0.1111111111111111,
              "#46039f"
             ],
             [
              0.2222222222222222,
              "#7201a8"
             ],
             [
              0.3333333333333333,
              "#9c179e"
             ],
             [
              0.4444444444444444,
              "#bd3786"
             ],
             [
              0.5555555555555556,
              "#d8576b"
             ],
             [
              0.6666666666666666,
              "#ed7953"
             ],
             [
              0.7777777777777778,
              "#fb9f3a"
             ],
             [
              0.8888888888888888,
              "#fdca26"
             ],
             [
              1,
              "#f0f921"
             ]
            ],
            "type": "histogram2d"
           }
          ],
          "histogram2dcontour": [
           {
            "colorbar": {
             "outlinewidth": 0,
             "ticks": ""
            },
            "colorscale": [
             [
              0,
              "#0d0887"
             ],
             [
              0.1111111111111111,
              "#46039f"
             ],
             [
              0.2222222222222222,
              "#7201a8"
             ],
             [
              0.3333333333333333,
              "#9c179e"
             ],
             [
              0.4444444444444444,
              "#bd3786"
             ],
             [
              0.5555555555555556,
              "#d8576b"
             ],
             [
              0.6666666666666666,
              "#ed7953"
             ],
             [
              0.7777777777777778,
              "#fb9f3a"
             ],
             [
              0.8888888888888888,
              "#fdca26"
             ],
             [
              1,
              "#f0f921"
             ]
            ],
            "type": "histogram2dcontour"
           }
          ],
          "mesh3d": [
           {
            "colorbar": {
             "outlinewidth": 0,
             "ticks": ""
            },
            "type": "mesh3d"
           }
          ],
          "parcoords": [
           {
            "line": {
             "colorbar": {
              "outlinewidth": 0,
              "ticks": ""
             }
            },
            "type": "parcoords"
           }
          ],
          "pie": [
           {
            "automargin": true,
            "type": "pie"
           }
          ],
          "scatter": [
           {
            "fillpattern": {
             "fillmode": "overlay",
             "size": 10,
             "solidity": 0.2
            },
            "type": "scatter"
           }
          ],
          "scatter3d": [
           {
            "line": {
             "colorbar": {
              "outlinewidth": 0,
              "ticks": ""
             }
            },
            "marker": {
             "colorbar": {
              "outlinewidth": 0,
              "ticks": ""
             }
            },
            "type": "scatter3d"
           }
          ],
          "scattercarpet": [
           {
            "marker": {
             "colorbar": {
              "outlinewidth": 0,
              "ticks": ""
             }
            },
            "type": "scattercarpet"
           }
          ],
          "scattergeo": [
           {
            "marker": {
             "colorbar": {
              "outlinewidth": 0,
              "ticks": ""
             }
            },
            "type": "scattergeo"
           }
          ],
          "scattergl": [
           {
            "marker": {
             "colorbar": {
              "outlinewidth": 0,
              "ticks": ""
             }
            },
            "type": "scattergl"
           }
          ],
          "scattermapbox": [
           {
            "marker": {
             "colorbar": {
              "outlinewidth": 0,
              "ticks": ""
             }
            },
            "type": "scattermapbox"
           }
          ],
          "scatterpolar": [
           {
            "marker": {
             "colorbar": {
              "outlinewidth": 0,
              "ticks": ""
             }
            },
            "type": "scatterpolar"
           }
          ],
          "scatterpolargl": [
           {
            "marker": {
             "colorbar": {
              "outlinewidth": 0,
              "ticks": ""
             }
            },
            "type": "scatterpolargl"
           }
          ],
          "scatterternary": [
           {
            "marker": {
             "colorbar": {
              "outlinewidth": 0,
              "ticks": ""
             }
            },
            "type": "scatterternary"
           }
          ],
          "surface": [
           {
            "colorbar": {
             "outlinewidth": 0,
             "ticks": ""
            },
            "colorscale": [
             [
              0,
              "#0d0887"
             ],
             [
              0.1111111111111111,
              "#46039f"
             ],
             [
              0.2222222222222222,
              "#7201a8"
             ],
             [
              0.3333333333333333,
              "#9c179e"
             ],
             [
              0.4444444444444444,
              "#bd3786"
             ],
             [
              0.5555555555555556,
              "#d8576b"
             ],
             [
              0.6666666666666666,
              "#ed7953"
             ],
             [
              0.7777777777777778,
              "#fb9f3a"
             ],
             [
              0.8888888888888888,
              "#fdca26"
             ],
             [
              1,
              "#f0f921"
             ]
            ],
            "type": "surface"
           }
          ],
          "table": [
           {
            "cells": {
             "fill": {
              "color": "#EBF0F8"
             },
             "line": {
              "color": "white"
             }
            },
            "header": {
             "fill": {
              "color": "#C8D4E3"
             },
             "line": {
              "color": "white"
             }
            },
            "type": "table"
           }
          ]
         },
         "layout": {
          "annotationdefaults": {
           "arrowcolor": "#2a3f5f",
           "arrowhead": 0,
           "arrowwidth": 1
          },
          "autotypenumbers": "strict",
          "coloraxis": {
           "colorbar": {
            "outlinewidth": 0,
            "ticks": ""
           }
          },
          "colorscale": {
           "diverging": [
            [
             0,
             "#8e0152"
            ],
            [
             0.1,
             "#c51b7d"
            ],
            [
             0.2,
             "#de77ae"
            ],
            [
             0.3,
             "#f1b6da"
            ],
            [
             0.4,
             "#fde0ef"
            ],
            [
             0.5,
             "#f7f7f7"
            ],
            [
             0.6,
             "#e6f5d0"
            ],
            [
             0.7,
             "#b8e186"
            ],
            [
             0.8,
             "#7fbc41"
            ],
            [
             0.9,
             "#4d9221"
            ],
            [
             1,
             "#276419"
            ]
           ],
           "sequential": [
            [
             0,
             "#0d0887"
            ],
            [
             0.1111111111111111,
             "#46039f"
            ],
            [
             0.2222222222222222,
             "#7201a8"
            ],
            [
             0.3333333333333333,
             "#9c179e"
            ],
            [
             0.4444444444444444,
             "#bd3786"
            ],
            [
             0.5555555555555556,
             "#d8576b"
            ],
            [
             0.6666666666666666,
             "#ed7953"
            ],
            [
             0.7777777777777778,
             "#fb9f3a"
            ],
            [
             0.8888888888888888,
             "#fdca26"
            ],
            [
             1,
             "#f0f921"
            ]
           ],
           "sequentialminus": [
            [
             0,
             "#0d0887"
            ],
            [
             0.1111111111111111,
             "#46039f"
            ],
            [
             0.2222222222222222,
             "#7201a8"
            ],
            [
             0.3333333333333333,
             "#9c179e"
            ],
            [
             0.4444444444444444,
             "#bd3786"
            ],
            [
             0.5555555555555556,
             "#d8576b"
            ],
            [
             0.6666666666666666,
             "#ed7953"
            ],
            [
             0.7777777777777778,
             "#fb9f3a"
            ],
            [
             0.8888888888888888,
             "#fdca26"
            ],
            [
             1,
             "#f0f921"
            ]
           ]
          },
          "colorway": [
           "#636efa",
           "#EF553B",
           "#00cc96",
           "#ab63fa",
           "#FFA15A",
           "#19d3f3",
           "#FF6692",
           "#B6E880",
           "#FF97FF",
           "#FECB52"
          ],
          "font": {
           "color": "#2a3f5f"
          },
          "geo": {
           "bgcolor": "white",
           "lakecolor": "white",
           "landcolor": "#E5ECF6",
           "showlakes": true,
           "showland": true,
           "subunitcolor": "white"
          },
          "hoverlabel": {
           "align": "left"
          },
          "hovermode": "closest",
          "mapbox": {
           "style": "light"
          },
          "paper_bgcolor": "white",
          "plot_bgcolor": "#E5ECF6",
          "polar": {
           "angularaxis": {
            "gridcolor": "white",
            "linecolor": "white",
            "ticks": ""
           },
           "bgcolor": "#E5ECF6",
           "radialaxis": {
            "gridcolor": "white",
            "linecolor": "white",
            "ticks": ""
           }
          },
          "scene": {
           "xaxis": {
            "backgroundcolor": "#E5ECF6",
            "gridcolor": "white",
            "gridwidth": 2,
            "linecolor": "white",
            "showbackground": true,
            "ticks": "",
            "zerolinecolor": "white"
           },
           "yaxis": {
            "backgroundcolor": "#E5ECF6",
            "gridcolor": "white",
            "gridwidth": 2,
            "linecolor": "white",
            "showbackground": true,
            "ticks": "",
            "zerolinecolor": "white"
           },
           "zaxis": {
            "backgroundcolor": "#E5ECF6",
            "gridcolor": "white",
            "gridwidth": 2,
            "linecolor": "white",
            "showbackground": true,
            "ticks": "",
            "zerolinecolor": "white"
           }
          },
          "shapedefaults": {
           "line": {
            "color": "#2a3f5f"
           }
          },
          "ternary": {
           "aaxis": {
            "gridcolor": "white",
            "linecolor": "white",
            "ticks": ""
           },
           "baxis": {
            "gridcolor": "white",
            "linecolor": "white",
            "ticks": ""
           },
           "bgcolor": "#E5ECF6",
           "caxis": {
            "gridcolor": "white",
            "linecolor": "white",
            "ticks": ""
           }
          },
          "title": {
           "x": 0.05
          },
          "xaxis": {
           "automargin": true,
           "gridcolor": "white",
           "linecolor": "white",
           "ticks": "",
           "title": {
            "standoff": 15
           },
           "zerolinecolor": "white",
           "zerolinewidth": 2
          },
          "yaxis": {
           "automargin": true,
           "gridcolor": "white",
           "linecolor": "white",
           "ticks": "",
           "title": {
            "standoff": 15
           },
           "zerolinecolor": "white",
           "zerolinewidth": 2
          }
         }
        },
        "xaxis": {
         "anchor": "y",
         "domain": [
          0,
          1
         ],
         "title": {
          "text": "x"
         }
        },
        "yaxis": {
         "anchor": "x",
         "domain": [
          0,
          1
         ],
         "title": {
          "text": "value"
         }
        }
       }
      }
     },
     "metadata": {},
     "output_type": "display_data"
    }
   ],
   "source": [
    "# Creating a lineplot to viasualize the monthly sales development of the different products\n",
    "fig = px.line(df_sales, x=df_sales.index.to_timestamp(), y=nominal_prod_list)\n",
    "# fig.add_shape(\n",
    "#     dict(\n",
    "#         type='line',\n",
    "#         x0='2021-05',  \n",
    "#         y0=0,\n",
    "#         x1='2021-05',\n",
    "#         y1=1,\n",
    "#         xref='x',\n",
    "#         yref='paper',\n",
    "#         line=dict(color='red', width=2, dash='dash')\n",
    "#     )\n",
    "# )\n",
    "fig.show()"
   ]
  },
  {
   "cell_type": "code",
   "execution_count": 74,
   "metadata": {},
   "outputs": [
    {
     "data": {
      "application/vnd.plotly.v1+json": {
       "config": {
        "plotlyServerURL": "https://plot.ly"
       },
       "data": [
        {
         "hovertemplate": "variable=P1%Change<br>x=%{x}<br>value=%{y}<extra></extra>",
         "legendgroup": "P1%Change",
         "line": {
          "color": "#636efa",
          "dash": "solid"
         },
         "marker": {
          "symbol": "circle"
         },
         "mode": "lines",
         "name": "P1%Change",
         "orientation": "v",
         "showlegend": true,
         "type": "scatter",
         "x": [
          "2018-10-01T00:00:00",
          "2018-11-01T00:00:00",
          "2018-12-01T00:00:00",
          "2019-01-01T00:00:00",
          "2019-02-01T00:00:00",
          "2019-03-01T00:00:00",
          "2019-04-01T00:00:00",
          "2019-05-01T00:00:00",
          "2019-06-01T00:00:00",
          "2019-07-01T00:00:00",
          "2019-08-01T00:00:00",
          "2019-09-01T00:00:00",
          "2019-10-01T00:00:00",
          "2019-11-01T00:00:00",
          "2019-12-01T00:00:00",
          "2020-01-01T00:00:00",
          "2020-02-01T00:00:00",
          "2020-03-01T00:00:00",
          "2020-04-01T00:00:00",
          "2020-05-01T00:00:00",
          "2020-06-01T00:00:00",
          "2020-07-01T00:00:00",
          "2020-08-01T00:00:00",
          "2020-09-01T00:00:00",
          "2020-10-01T00:00:00",
          "2020-11-01T00:00:00",
          "2020-12-01T00:00:00",
          "2021-01-01T00:00:00",
          "2021-02-01T00:00:00",
          "2021-03-01T00:00:00",
          "2021-04-01T00:00:00",
          "2021-05-01T00:00:00",
          "2021-06-01T00:00:00",
          "2021-07-01T00:00:00",
          "2021-08-01T00:00:00",
          "2021-09-01T00:00:00",
          "2021-10-01T00:00:00",
          "2021-11-01T00:00:00",
          "2021-12-01T00:00:00",
          "2022-01-01T00:00:00",
          "2022-02-01T00:00:00",
          "2022-03-01T00:00:00",
          "2022-04-01T00:00:00"
         ],
         "xaxis": "x",
         "y": [
          null,
          -0.8575924107338063,
          6.370430076486746,
          -0.2681860067033065,
          0.2547957797549796,
          -0.026912197541124283,
          0.1722397995791396,
          -0.019913119964972914,
          0.00536727024506467,
          -0.030536363235928454,
          0.0034317046327136946,
          0.06729556878016818,
          -0.0391717371305631,
          -0.04327855971208139,
          0.010117009983972247,
          -0.09508526209968038,
          -0.01790246649900773,
          0.16589779891661927,
          -0.027720858479329036,
          -0.1732768151065689,
          -0.016032008361686056,
          0.13968843024093403,
          0.06444701792851282,
          0.03727846512216426,
          0.0662175068405575,
          -0.09191528691258377,
          -0.07508982991028135,
          -0.21933352078565982,
          0.27409754239183215,
          -0.03333429807957333,
          0.23244195944099477,
          -0.08476983033387075,
          -0.05187012758009679,
          0.03711044251842055,
          -0.022062663536659977,
          -0.0008793754112077501,
          0.22614054766837355,
          -0.23145055531540826,
          -0.006941908438325206,
          0.11761013305697832,
          -0.043482809724955884,
          0.10821156807679189,
          0.020705809600057634
         ],
         "yaxis": "y"
        },
        {
         "hovertemplate": "variable=P3%Change<br>x=%{x}<br>value=%{y}<extra></extra>",
         "legendgroup": "P3%Change",
         "line": {
          "color": "#EF553B",
          "dash": "solid"
         },
         "marker": {
          "symbol": "circle"
         },
         "mode": "lines",
         "name": "P3%Change",
         "orientation": "v",
         "showlegend": true,
         "type": "scatter",
         "x": [
          "2018-10-01T00:00:00",
          "2018-11-01T00:00:00",
          "2018-12-01T00:00:00",
          "2019-01-01T00:00:00",
          "2019-02-01T00:00:00",
          "2019-03-01T00:00:00",
          "2019-04-01T00:00:00",
          "2019-05-01T00:00:00",
          "2019-06-01T00:00:00",
          "2019-07-01T00:00:00",
          "2019-08-01T00:00:00",
          "2019-09-01T00:00:00",
          "2019-10-01T00:00:00",
          "2019-11-01T00:00:00",
          "2019-12-01T00:00:00",
          "2020-01-01T00:00:00",
          "2020-02-01T00:00:00",
          "2020-03-01T00:00:00",
          "2020-04-01T00:00:00",
          "2020-05-01T00:00:00",
          "2020-06-01T00:00:00",
          "2020-07-01T00:00:00",
          "2020-08-01T00:00:00",
          "2020-09-01T00:00:00",
          "2020-10-01T00:00:00",
          "2020-11-01T00:00:00",
          "2020-12-01T00:00:00",
          "2021-01-01T00:00:00",
          "2021-02-01T00:00:00",
          "2021-03-01T00:00:00",
          "2021-04-01T00:00:00",
          "2021-05-01T00:00:00",
          "2021-06-01T00:00:00",
          "2021-07-01T00:00:00",
          "2021-08-01T00:00:00",
          "2021-09-01T00:00:00",
          "2021-10-01T00:00:00",
          "2021-11-01T00:00:00",
          "2021-12-01T00:00:00",
          "2022-01-01T00:00:00",
          "2022-02-01T00:00:00",
          "2022-03-01T00:00:00",
          "2022-04-01T00:00:00"
         ],
         "xaxis": "x",
         "y": [
          null,
          0.46647523688943227,
          -0.26352033398670616,
          0.22530306968806535,
          -0.050209124299949726,
          0.08583449512385322,
          0.11565871338174394,
          0.03908798226357946,
          -0.09785907919639991,
          0.16239608575385267,
          -0.1536433871256292,
          0.4595525644125631,
          -0.3134498004134053,
          0.2146476714207406,
          -0.19878814532713518,
          0.05617575828828447,
          -0.1417345454874347,
          0.22306154909704623,
          -0.022265054413732832,
          -0.10821347734252496,
          0.24402838159672413,
          -0.04105258531223144,
          -0.10970247374715192,
          0.39910131980199015,
          -0.3713286230156244,
          0.5015839034442631,
          -0.35056688790908186,
          -0.610034779852214,
          3.2415242363408705,
          -0.12441418873978005,
          -0.047229244172835694,
          -0.2349846683470126,
          0.32552808213390927,
          -0.02653390258139421,
          -0.06791287783637334,
          0.28169105670860617,
          -0.13087911427756482,
          0.35440750041009883,
          -0.3376928402293127,
          0.11133084877639887,
          0.1389330868120655,
          -0.08585344714017562,
          -0.1620726732379446
         ],
         "yaxis": "y"
        },
        {
         "hovertemplate": "variable=P4%Change<br>x=%{x}<br>value=%{y}<extra></extra>",
         "legendgroup": "P4%Change",
         "line": {
          "color": "#00cc96",
          "dash": "solid"
         },
         "marker": {
          "symbol": "circle"
         },
         "mode": "lines",
         "name": "P4%Change",
         "orientation": "v",
         "showlegend": true,
         "type": "scatter",
         "x": [
          "2018-10-01T00:00:00",
          "2018-11-01T00:00:00",
          "2018-12-01T00:00:00",
          "2019-01-01T00:00:00",
          "2019-02-01T00:00:00",
          "2019-03-01T00:00:00",
          "2019-04-01T00:00:00",
          "2019-05-01T00:00:00",
          "2019-06-01T00:00:00",
          "2019-07-01T00:00:00",
          "2019-08-01T00:00:00",
          "2019-09-01T00:00:00",
          "2019-10-01T00:00:00",
          "2019-11-01T00:00:00",
          "2019-12-01T00:00:00",
          "2020-01-01T00:00:00",
          "2020-02-01T00:00:00",
          "2020-03-01T00:00:00",
          "2020-04-01T00:00:00",
          "2020-05-01T00:00:00",
          "2020-06-01T00:00:00",
          "2020-07-01T00:00:00",
          "2020-08-01T00:00:00",
          "2020-09-01T00:00:00",
          "2020-10-01T00:00:00",
          "2020-11-01T00:00:00",
          "2020-12-01T00:00:00",
          "2021-01-01T00:00:00",
          "2021-02-01T00:00:00",
          "2021-03-01T00:00:00",
          "2021-04-01T00:00:00",
          "2021-05-01T00:00:00",
          "2021-06-01T00:00:00",
          "2021-07-01T00:00:00",
          "2021-08-01T00:00:00",
          "2021-09-01T00:00:00",
          "2021-10-01T00:00:00",
          "2021-11-01T00:00:00",
          "2021-12-01T00:00:00",
          "2022-01-01T00:00:00",
          "2022-02-01T00:00:00",
          "2022-03-01T00:00:00",
          "2022-04-01T00:00:00"
         ],
         "xaxis": "x",
         "y": [
          null,
          -0.06646777991057895,
          0.15829515492223734,
          0.12572145851522865,
          0.28059737547180363,
          -0.20706713752423667,
          -0.133068449036425,
          -0.11859981013620757,
          -0.49231944807534944,
          0.9991225933778187,
          -0.20799039622219084,
          0.46817327603955095,
          -0.7897226503020237,
          2.1966474703710284,
          -0.07396867800617735,
          -0.20779452266502496,
          0.03036572284001693,
          -0.12248689460199569,
          0.9625590022344257,
          -0.1867582712150474,
          0.044191654491386734,
          -0.10666019368671376,
          -0.4123143407137473,
          2.7296886123012922,
          -0.4843814974777463,
          0.24339556632899995,
          -0.2667304529418767,
          -0.455016674548513,
          3.887629256041036,
          -0.4404822137559159,
          -0.3451590279669404,
          0.9384692645857744,
          0.4457587926330442,
          -0.4759495696343349,
          -0.41240946198194073,
          0.2661356987013903,
          0.06680933228981667,
          -0.1579162709135824,
          -0.3143406556960253,
          0.4239298655170034,
          -0.13512170980296534,
          0.6567047468402034,
          -0.2567490985416998
         ],
         "yaxis": "y"
        },
        {
         "hovertemplate": "variable=P5%Change<br>x=%{x}<br>value=%{y}<extra></extra>",
         "legendgroup": "P5%Change",
         "line": {
          "color": "#ab63fa",
          "dash": "solid"
         },
         "marker": {
          "symbol": "circle"
         },
         "mode": "lines",
         "name": "P5%Change",
         "orientation": "v",
         "showlegend": true,
         "type": "scatter",
         "x": [
          "2018-10-01T00:00:00",
          "2018-11-01T00:00:00",
          "2018-12-01T00:00:00",
          "2019-01-01T00:00:00",
          "2019-02-01T00:00:00",
          "2019-03-01T00:00:00",
          "2019-04-01T00:00:00",
          "2019-05-01T00:00:00",
          "2019-06-01T00:00:00",
          "2019-07-01T00:00:00",
          "2019-08-01T00:00:00",
          "2019-09-01T00:00:00",
          "2019-10-01T00:00:00",
          "2019-11-01T00:00:00",
          "2019-12-01T00:00:00",
          "2020-01-01T00:00:00",
          "2020-02-01T00:00:00",
          "2020-03-01T00:00:00",
          "2020-04-01T00:00:00",
          "2020-05-01T00:00:00",
          "2020-06-01T00:00:00",
          "2020-07-01T00:00:00",
          "2020-08-01T00:00:00",
          "2020-09-01T00:00:00",
          "2020-10-01T00:00:00",
          "2020-11-01T00:00:00",
          "2020-12-01T00:00:00",
          "2021-01-01T00:00:00",
          "2021-02-01T00:00:00",
          "2021-03-01T00:00:00",
          "2021-04-01T00:00:00",
          "2021-05-01T00:00:00",
          "2021-06-01T00:00:00",
          "2021-07-01T00:00:00",
          "2021-08-01T00:00:00",
          "2021-09-01T00:00:00",
          "2021-10-01T00:00:00",
          "2021-11-01T00:00:00",
          "2021-12-01T00:00:00",
          "2022-01-01T00:00:00",
          "2022-02-01T00:00:00",
          "2022-03-01T00:00:00",
          "2022-04-01T00:00:00"
         ],
         "xaxis": "x",
         "y": [
          null,
          2.598929100251443,
          -0.2275349636264804,
          0.18505885674267808,
          -0.16445042586556147,
          0.7319201824906816,
          -0.5203699803897139,
          0.9931311649805425,
          0.20125299889419312,
          -0.1854160602014847,
          -0.31397770170034134,
          0.9643087835587576,
          -0.231443416058553,
          -0.29788709989944784,
          0.6651394746347945,
          -0.4676159403481046,
          0.7293687709502936,
          -0.2569272758903578,
          -0.1344649480471347,
          0.23547020171878819,
          0.6079020489488429,
          -0.6478047926046147,
          1.0504920188388747,
          0.23521062862880715,
          -0.6718097155173307,
          1.1873093782700508,
          -0.12977350489564443,
          -0.8411331336206798,
          10.84872105462584,
          -0.33323907846637624,
          -0.36179499585477826,
          0.23740277465253,
          0.3330027284458288,
          -0.28795043216501415,
          1.3461796554833523,
          -0.1995145424577579,
          -0.26596161267671004,
          -0.16265564653661246,
          -0.098881407573849,
          -0.10686460876375381,
          -0.00723707474909685,
          0.9203012881756576,
          -0.39721183933020643
         ],
         "yaxis": "y"
        },
        {
         "hovertemplate": "variable=P6%Change<br>x=%{x}<br>value=%{y}<extra></extra>",
         "legendgroup": "P6%Change",
         "line": {
          "color": "#FFA15A",
          "dash": "solid"
         },
         "marker": {
          "symbol": "circle"
         },
         "mode": "lines",
         "name": "P6%Change",
         "orientation": "v",
         "showlegend": true,
         "type": "scatter",
         "x": [
          "2018-10-01T00:00:00",
          "2018-11-01T00:00:00",
          "2018-12-01T00:00:00",
          "2019-01-01T00:00:00",
          "2019-02-01T00:00:00",
          "2019-03-01T00:00:00",
          "2019-04-01T00:00:00",
          "2019-05-01T00:00:00",
          "2019-06-01T00:00:00",
          "2019-07-01T00:00:00",
          "2019-08-01T00:00:00",
          "2019-09-01T00:00:00",
          "2019-10-01T00:00:00",
          "2019-11-01T00:00:00",
          "2019-12-01T00:00:00",
          "2020-01-01T00:00:00",
          "2020-02-01T00:00:00",
          "2020-03-01T00:00:00",
          "2020-04-01T00:00:00",
          "2020-05-01T00:00:00",
          "2020-06-01T00:00:00",
          "2020-07-01T00:00:00",
          "2020-08-01T00:00:00",
          "2020-09-01T00:00:00",
          "2020-10-01T00:00:00",
          "2020-11-01T00:00:00",
          "2020-12-01T00:00:00",
          "2021-01-01T00:00:00",
          "2021-02-01T00:00:00",
          "2021-03-01T00:00:00",
          "2021-04-01T00:00:00",
          "2021-05-01T00:00:00",
          "2021-06-01T00:00:00",
          "2021-07-01T00:00:00",
          "2021-08-01T00:00:00",
          "2021-09-01T00:00:00",
          "2021-10-01T00:00:00",
          "2021-11-01T00:00:00",
          "2021-12-01T00:00:00",
          "2022-01-01T00:00:00",
          "2022-02-01T00:00:00",
          "2022-03-01T00:00:00",
          "2022-04-01T00:00:00"
         ],
         "xaxis": "x",
         "y": [
          null,
          0.2811659673765734,
          1.1128403192782388,
          -0.4008099410900363,
          -0.09490572392427721,
          0.3571094303582527,
          -0.6226569822742862,
          0.13835407870849536,
          -0.10448670333136623,
          1.563626703529883,
          -0.714739799103679,
          1.41214375775288,
          0.1655223795167815,
          -0.6886056869591539,
          4.041857106898242,
          -1.0166447480497687,
          -48.64853357504072,
          -0.2686225093568978,
          0.4760849071365236,
          -0.04050324702102692,
          -0.29844370966394196,
          0.3870683009501936,
          0.1601029340840152,
          -0.6258624984058714,
          -0.010706807365594262,
          0.06887514096870095,
          -0.007679868459694261,
          -0.9173887734968005,
          17.769182693952665,
          0.21226927157178,
          -0.05218554262361874,
          -0.04383381046702162,
          -0.1345883098561267,
          0.01851190302085648,
          0.06085413297877351,
          0.7894276593766136,
          -0.7927390095334303,
          0.9670949066904484,
          -0.508167716771615,
          -0.17048352923499233,
          1.4804181586247913,
          -0.19166027211757553,
          0.05558876775004995
         ],
         "yaxis": "y"
        },
        {
         "hovertemplate": "variable=P8%Change<br>x=%{x}<br>value=%{y}<extra></extra>",
         "legendgroup": "P8%Change",
         "line": {
          "color": "#19d3f3",
          "dash": "solid"
         },
         "marker": {
          "symbol": "circle"
         },
         "mode": "lines",
         "name": "P8%Change",
         "orientation": "v",
         "showlegend": true,
         "type": "scatter",
         "x": [
          "2018-10-01T00:00:00",
          "2018-11-01T00:00:00",
          "2018-12-01T00:00:00",
          "2019-01-01T00:00:00",
          "2019-02-01T00:00:00",
          "2019-03-01T00:00:00",
          "2019-04-01T00:00:00",
          "2019-05-01T00:00:00",
          "2019-06-01T00:00:00",
          "2019-07-01T00:00:00",
          "2019-08-01T00:00:00",
          "2019-09-01T00:00:00",
          "2019-10-01T00:00:00",
          "2019-11-01T00:00:00",
          "2019-12-01T00:00:00",
          "2020-01-01T00:00:00",
          "2020-02-01T00:00:00",
          "2020-03-01T00:00:00",
          "2020-04-01T00:00:00",
          "2020-05-01T00:00:00",
          "2020-06-01T00:00:00",
          "2020-07-01T00:00:00",
          "2020-08-01T00:00:00",
          "2020-09-01T00:00:00",
          "2020-10-01T00:00:00",
          "2020-11-01T00:00:00",
          "2020-12-01T00:00:00",
          "2021-01-01T00:00:00",
          "2021-02-01T00:00:00",
          "2021-03-01T00:00:00",
          "2021-04-01T00:00:00",
          "2021-05-01T00:00:00",
          "2021-06-01T00:00:00",
          "2021-07-01T00:00:00",
          "2021-08-01T00:00:00",
          "2021-09-01T00:00:00",
          "2021-10-01T00:00:00",
          "2021-11-01T00:00:00",
          "2021-12-01T00:00:00",
          "2022-01-01T00:00:00",
          "2022-02-01T00:00:00",
          "2022-03-01T00:00:00",
          "2022-04-01T00:00:00"
         ],
         "xaxis": "x",
         "y": [
          null,
          -0.10197029366333132,
          -0.48414508905375997,
          0.4048368358534258,
          -0.03388719170666299,
          0.6046880937045569,
          -0.29154719027447107,
          -0.2866867717084679,
          0.40795883387408405,
          -0.12770735160963165,
          0.0832658955552541,
          1.7285142623130612,
          -0.8969366726913907,
          3.856578514936846,
          -0.0950238985822347,
          -0.3410387974975492,
          0.00989822379645755,
          1.5869271416553872,
          -0.6420607644481502,
          1.3541188023688817,
          -0.1584216394055905,
          -0.027798320106100505,
          0.5723189482171038,
          0.45887597488328624,
          -0.8849679337228311,
          4.8777942429600625,
          0.17417751502816303,
          -0.7120253721797236,
          4.282410099317816,
          -0.4431272341551693,
          0.18994521126734742,
          -0.23996538995123895,
          0.3412369566481488,
          0.10658952419614387,
          -0.09455020714095796,
          0.8624403488488939,
          -0.825019435093491,
          2.2013705559751973,
          1.327508564499217,
          -0.5449817120800866,
          0.025727481014684583,
          0.511913819896797,
          -0.28678600229584905
         ],
         "yaxis": "y"
        },
        {
         "hovertemplate": "variable=P9%Change<br>x=%{x}<br>value=%{y}<extra></extra>",
         "legendgroup": "P9%Change",
         "line": {
          "color": "#FF6692",
          "dash": "solid"
         },
         "marker": {
          "symbol": "circle"
         },
         "mode": "lines",
         "name": "P9%Change",
         "orientation": "v",
         "showlegend": true,
         "type": "scatter",
         "x": [
          "2018-10-01T00:00:00",
          "2018-11-01T00:00:00",
          "2018-12-01T00:00:00",
          "2019-01-01T00:00:00",
          "2019-02-01T00:00:00",
          "2019-03-01T00:00:00",
          "2019-04-01T00:00:00",
          "2019-05-01T00:00:00",
          "2019-06-01T00:00:00",
          "2019-07-01T00:00:00",
          "2019-08-01T00:00:00",
          "2019-09-01T00:00:00",
          "2019-10-01T00:00:00",
          "2019-11-01T00:00:00",
          "2019-12-01T00:00:00",
          "2020-01-01T00:00:00",
          "2020-02-01T00:00:00",
          "2020-03-01T00:00:00",
          "2020-04-01T00:00:00",
          "2020-05-01T00:00:00",
          "2020-06-01T00:00:00",
          "2020-07-01T00:00:00",
          "2020-08-01T00:00:00",
          "2020-09-01T00:00:00",
          "2020-10-01T00:00:00",
          "2020-11-01T00:00:00",
          "2020-12-01T00:00:00",
          "2021-01-01T00:00:00",
          "2021-02-01T00:00:00",
          "2021-03-01T00:00:00",
          "2021-04-01T00:00:00",
          "2021-05-01T00:00:00",
          "2021-06-01T00:00:00",
          "2021-07-01T00:00:00",
          "2021-08-01T00:00:00",
          "2021-09-01T00:00:00",
          "2021-10-01T00:00:00",
          "2021-11-01T00:00:00",
          "2021-12-01T00:00:00",
          "2022-01-01T00:00:00",
          "2022-02-01T00:00:00",
          "2022-03-01T00:00:00",
          "2022-04-01T00:00:00"
         ],
         "xaxis": "x",
         "y": [
          null,
          -0.41729930544338556,
          0,
          -0.20731382269843812,
          1.1750369872225956,
          3.0350897263069374,
          -0.301208909008851,
          -0.49405075852691716,
          -0.027305551702614506,
          -0.6064250048461595,
          2.607053894927536,
          1.1863391666012713,
          -0.9601586761481838,
          42.57081081081081,
          -0.6852442746197553,
          0.00474816589939242,
          -0.9444132069303695,
          4.252881674900023,
          -0.3386251679355128,
          1.5487490266445474,
          1.0072287812290788,
          -0.8751378144253485,
          9.501701311228654,
          -0.7079548207364341,
          12.65571050858002,
          -1.1103016267724606,
          -2.974828480301049,
          -0.9273223726253413,
          15.023021582733811,
          1.8046056832694766,
          -0.4053850598102806,
          -0.5198026081192009,
          -0.0978270620483429,
          0.5600054689787373,
          -0.9617555275214129,
          20.433333333333334,
          -0.8987990323138069,
          13.978634850166483,
          0.06409567684413475,
          -0.861756119770743,
          -0.5633748244296992,
          3.9391014975041605,
          -0.26222881013340527
         ],
         "yaxis": "y"
        },
        {
         "hovertemplate": "variable=P11%Change<br>x=%{x}<br>value=%{y}<extra></extra>",
         "legendgroup": "P11%Change",
         "line": {
          "color": "#B6E880",
          "dash": "solid"
         },
         "marker": {
          "symbol": "circle"
         },
         "mode": "lines",
         "name": "P11%Change",
         "orientation": "v",
         "showlegend": true,
         "type": "scatter",
         "x": [
          "2018-10-01T00:00:00",
          "2018-11-01T00:00:00",
          "2018-12-01T00:00:00",
          "2019-01-01T00:00:00",
          "2019-02-01T00:00:00",
          "2019-03-01T00:00:00",
          "2019-04-01T00:00:00",
          "2019-05-01T00:00:00",
          "2019-06-01T00:00:00",
          "2019-07-01T00:00:00",
          "2019-08-01T00:00:00",
          "2019-09-01T00:00:00",
          "2019-10-01T00:00:00",
          "2019-11-01T00:00:00",
          "2019-12-01T00:00:00",
          "2020-01-01T00:00:00",
          "2020-02-01T00:00:00",
          "2020-03-01T00:00:00",
          "2020-04-01T00:00:00",
          "2020-05-01T00:00:00",
          "2020-06-01T00:00:00",
          "2020-07-01T00:00:00",
          "2020-08-01T00:00:00",
          "2020-09-01T00:00:00",
          "2020-10-01T00:00:00",
          "2020-11-01T00:00:00",
          "2020-12-01T00:00:00",
          "2021-01-01T00:00:00",
          "2021-02-01T00:00:00",
          "2021-03-01T00:00:00",
          "2021-04-01T00:00:00",
          "2021-05-01T00:00:00",
          "2021-06-01T00:00:00",
          "2021-07-01T00:00:00",
          "2021-08-01T00:00:00",
          "2021-09-01T00:00:00",
          "2021-10-01T00:00:00",
          "2021-11-01T00:00:00",
          "2021-12-01T00:00:00",
          "2022-01-01T00:00:00",
          "2022-02-01T00:00:00",
          "2022-03-01T00:00:00",
          "2022-04-01T00:00:00"
         ],
         "xaxis": "x",
         "y": [
          null,
          0.8592365540703621,
          -0.3542800338395218,
          0.8076437255020301,
          -0.7245718845712716,
          -0.1907699744748439,
          2.0046197791047735,
          -0.2817643902612551,
          -0.5383642575271519,
          0.19001957193702834,
          3.9496953409601883,
          0.2936409897175116,
          -0.9416058877277457,
          4.456152702583352,
          0.070117945220872,
          -0.5429416120482271,
          1.1110079743997807,
          1.4075269331735898,
          -0.7261558680484257,
          0.03593136831007171,
          1.6669179744105258,
          -0.0627394536945225,
          -0.2774940077537742,
          1.55750442367453,
          -0.7497493760522691,
          -0.4979736398042618,
          1.2425623649036899,
          -0.9833997754281487,
          107.6997554945055,
          -0.16080406076714326,
          -0.273144061987874,
          0.6525827880227559,
          -0.5026285655143613,
          1.271542290567584,
          0.20522147165550386,
          0.3976967947177481,
          -0.9542150353803576,
          9.54690021895959,
          0.4435598556932141,
          -0.6013965749596539,
          -0.08525533999295143,
          1.3686368444779262,
          -0.5070944573870579
         ],
         "yaxis": "y"
        },
        {
         "hovertemplate": "variable=P12%Change<br>x=%{x}<br>value=%{y}<extra></extra>",
         "legendgroup": "P12%Change",
         "line": {
          "color": "#FF97FF",
          "dash": "solid"
         },
         "marker": {
          "symbol": "circle"
         },
         "mode": "lines",
         "name": "P12%Change",
         "orientation": "v",
         "showlegend": true,
         "type": "scatter",
         "x": [
          "2018-10-01T00:00:00",
          "2018-11-01T00:00:00",
          "2018-12-01T00:00:00",
          "2019-01-01T00:00:00",
          "2019-02-01T00:00:00",
          "2019-03-01T00:00:00",
          "2019-04-01T00:00:00",
          "2019-05-01T00:00:00",
          "2019-06-01T00:00:00",
          "2019-07-01T00:00:00",
          "2019-08-01T00:00:00",
          "2019-09-01T00:00:00",
          "2019-10-01T00:00:00",
          "2019-11-01T00:00:00",
          "2019-12-01T00:00:00",
          "2020-01-01T00:00:00",
          "2020-02-01T00:00:00",
          "2020-03-01T00:00:00",
          "2020-04-01T00:00:00",
          "2020-05-01T00:00:00",
          "2020-06-01T00:00:00",
          "2020-07-01T00:00:00",
          "2020-08-01T00:00:00",
          "2020-09-01T00:00:00",
          "2020-10-01T00:00:00",
          "2020-11-01T00:00:00",
          "2020-12-01T00:00:00",
          "2021-01-01T00:00:00",
          "2021-02-01T00:00:00",
          "2021-03-01T00:00:00",
          "2021-04-01T00:00:00",
          "2021-05-01T00:00:00",
          "2021-06-01T00:00:00",
          "2021-07-01T00:00:00",
          "2021-08-01T00:00:00",
          "2021-09-01T00:00:00",
          "2021-10-01T00:00:00",
          "2021-11-01T00:00:00",
          "2021-12-01T00:00:00",
          "2022-01-01T00:00:00",
          "2022-02-01T00:00:00",
          "2022-03-01T00:00:00",
          "2022-04-01T00:00:00"
         ],
         "xaxis": "x",
         "y": [
          null,
          -0.9627000037997192,
          15.710841121495324,
          0.2015256758721744,
          0.5925684230124744,
          -0.7042795005895119,
          1.1558875271792846,
          0.12170252328055353,
          0.8087166911884911,
          -0.5182882739571508,
          -0.09857550819758254,
          14.220398605401469,
          -0.5185493609362906,
          1.279100884258444,
          0.08902850070112289,
          -0.3896824370687759,
          0.5209566289003527,
          -0.42722237950014996,
          -0.5714882791292805,
          0.9332584890496283,
          0.12188199175260639,
          -0.3615114286786255,
          0.4881695975160327,
          0.02758302144560698,
          -0.9680077896140061,
          81.60390361445783,
          -0.39184254498942517,
          -0.6577648290361093,
          2.103807695214471,
          -0.01807030107720431,
          0.36286894606264997,
          -0.013977910808697147,
          -0.13951337458983637,
          0.11258488196950522,
          -0.6056024953872226,
          1.9520540185585786,
          -0.48660450582132675,
          0.9722942016739349,
          -0.24747555672607935,
          -0.5422867571211236,
          1.1137942816700255,
          0.10045279824626352,
          -0.4814298250756819
         ],
         "yaxis": "y"
        },
        {
         "hovertemplate": "variable=P13%Change<br>x=%{x}<br>value=%{y}<extra></extra>",
         "legendgroup": "P13%Change",
         "line": {
          "color": "#FECB52",
          "dash": "solid"
         },
         "marker": {
          "symbol": "circle"
         },
         "mode": "lines",
         "name": "P13%Change",
         "orientation": "v",
         "showlegend": true,
         "type": "scatter",
         "x": [
          "2018-10-01T00:00:00",
          "2018-11-01T00:00:00",
          "2018-12-01T00:00:00",
          "2019-01-01T00:00:00",
          "2019-02-01T00:00:00",
          "2019-03-01T00:00:00",
          "2019-04-01T00:00:00",
          "2019-05-01T00:00:00",
          "2019-06-01T00:00:00",
          "2019-07-01T00:00:00",
          "2019-08-01T00:00:00",
          "2019-09-01T00:00:00",
          "2019-10-01T00:00:00",
          "2019-11-01T00:00:00",
          "2019-12-01T00:00:00",
          "2020-01-01T00:00:00",
          "2020-02-01T00:00:00",
          "2020-03-01T00:00:00",
          "2020-04-01T00:00:00",
          "2020-05-01T00:00:00",
          "2020-06-01T00:00:00",
          "2020-07-01T00:00:00",
          "2020-08-01T00:00:00",
          "2020-09-01T00:00:00",
          "2020-10-01T00:00:00",
          "2020-11-01T00:00:00",
          "2020-12-01T00:00:00",
          "2021-01-01T00:00:00",
          "2021-02-01T00:00:00",
          "2021-03-01T00:00:00",
          "2021-04-01T00:00:00",
          "2021-05-01T00:00:00",
          "2021-06-01T00:00:00",
          "2021-07-01T00:00:00",
          "2021-08-01T00:00:00",
          "2021-09-01T00:00:00",
          "2021-10-01T00:00:00",
          "2021-11-01T00:00:00",
          "2021-12-01T00:00:00",
          "2022-01-01T00:00:00",
          "2022-02-01T00:00:00",
          "2022-03-01T00:00:00",
          "2022-04-01T00:00:00"
         ],
         "xaxis": "x",
         "y": [
          null,
          1.4643878248108697,
          -0.7703845702552068,
          0.737334862965485,
          0.20002507510582457,
          -0.6357077487627392,
          -0.37018166526492846,
          -0.6594382883712979,
          12.664695664448633,
          0.23412697160136497,
          -0.47690157841442427,
          -0.12874928881302872,
          2.354644266506131,
          -0.3431517666838264,
          -0.3811231846811679,
          -0.26974316267710596,
          -0.29572444913033535,
          0.7104313105897435,
          0.30631307256782137,
          -0.8774968575122306,
          1.5546797348796915,
          -0.298310585885486,
          2.808580916800095,
          -0.4038507351601657,
          -0.378062874880998,
          1.1694383551288836,
          0.5107072132499404,
          -0.6758671877978173,
          0.6534102364414784,
          2.7712793936568283,
          -0.3957277183194583,
          -0.8916726994219046,
          0.45642615012106535,
          0.39979617758152886,
          0.2844166687450933,
          1.652217332727977,
          0.06357724319874891,
          -0.7332695210637855,
          2.0562989435806176,
          0.5269220221594395,
          -0.11912629062742519,
          -0.6367810937464966,
          0.400895517474114
         ],
         "yaxis": "y"
        },
        {
         "hovertemplate": "variable=P14%Change<br>x=%{x}<br>value=%{y}<extra></extra>",
         "legendgroup": "P14%Change",
         "line": {
          "color": "#636efa",
          "dash": "solid"
         },
         "marker": {
          "symbol": "circle"
         },
         "mode": "lines",
         "name": "P14%Change",
         "orientation": "v",
         "showlegend": true,
         "type": "scatter",
         "x": [
          "2018-10-01T00:00:00",
          "2018-11-01T00:00:00",
          "2018-12-01T00:00:00",
          "2019-01-01T00:00:00",
          "2019-02-01T00:00:00",
          "2019-03-01T00:00:00",
          "2019-04-01T00:00:00",
          "2019-05-01T00:00:00",
          "2019-06-01T00:00:00",
          "2019-07-01T00:00:00",
          "2019-08-01T00:00:00",
          "2019-09-01T00:00:00",
          "2019-10-01T00:00:00",
          "2019-11-01T00:00:00",
          "2019-12-01T00:00:00",
          "2020-01-01T00:00:00",
          "2020-02-01T00:00:00",
          "2020-03-01T00:00:00",
          "2020-04-01T00:00:00",
          "2020-05-01T00:00:00",
          "2020-06-01T00:00:00",
          "2020-07-01T00:00:00",
          "2020-08-01T00:00:00",
          "2020-09-01T00:00:00",
          "2020-10-01T00:00:00",
          "2020-11-01T00:00:00",
          "2020-12-01T00:00:00",
          "2021-01-01T00:00:00",
          "2021-02-01T00:00:00",
          "2021-03-01T00:00:00",
          "2021-04-01T00:00:00",
          "2021-05-01T00:00:00",
          "2021-06-01T00:00:00",
          "2021-07-01T00:00:00",
          "2021-08-01T00:00:00",
          "2021-09-01T00:00:00",
          "2021-10-01T00:00:00",
          "2021-11-01T00:00:00",
          "2021-12-01T00:00:00",
          "2022-01-01T00:00:00",
          "2022-02-01T00:00:00",
          "2022-03-01T00:00:00",
          "2022-04-01T00:00:00"
         ],
         "xaxis": "x",
         "y": [
          null,
          1.968804159445407,
          0,
          -0.9015528312901343,
          10.383005218216319,
          -0.6074634174294005,
          0,
          1.3584353538369665,
          2.546018321572864,
          -0.671214647437998,
          -0.9226807855477743,
          7.021972534332086,
          -0.8927298618027888,
          0.8652207029124803,
          0,
          0.14930968770660735,
          2.6883886817225116,
          -0.05273853211009183,
          -1.2761654794361341,
          -12.457328727489523,
          -0.7319727578818488,
          0.6893832546294445,
          -0.5322517406881633,
          -0.6791918374425527,
          5.216325795116677,
          -0.8731792158852091,
          5.727114285714286,
          -0.742789308937392,
          -0.020204755614266823,
          4.331897452491219,
          -0.6441571347474331,
          -0.6120358855924676,
          2.7854706138242094,
          8.212817380154593,
          0,
          -1.007369214657706,
          -30.459599109131382,
          -0.6400279420836812,
          1.9280979863403815,
          -0.8381877022653721,
          0.5638297872340425,
          9.453569160997732,
          -0.9599524861475776
         ],
         "yaxis": "y"
        },
        {
         "hovertemplate": "variable=P16%Change<br>x=%{x}<br>value=%{y}<extra></extra>",
         "legendgroup": "P16%Change",
         "line": {
          "color": "#EF553B",
          "dash": "solid"
         },
         "marker": {
          "symbol": "circle"
         },
         "mode": "lines",
         "name": "P16%Change",
         "orientation": "v",
         "showlegend": true,
         "type": "scatter",
         "x": [
          "2018-10-01T00:00:00",
          "2018-11-01T00:00:00",
          "2018-12-01T00:00:00",
          "2019-01-01T00:00:00",
          "2019-02-01T00:00:00",
          "2019-03-01T00:00:00",
          "2019-04-01T00:00:00",
          "2019-05-01T00:00:00",
          "2019-06-01T00:00:00",
          "2019-07-01T00:00:00",
          "2019-08-01T00:00:00",
          "2019-09-01T00:00:00",
          "2019-10-01T00:00:00",
          "2019-11-01T00:00:00",
          "2019-12-01T00:00:00",
          "2020-01-01T00:00:00",
          "2020-02-01T00:00:00",
          "2020-03-01T00:00:00",
          "2020-04-01T00:00:00",
          "2020-05-01T00:00:00",
          "2020-06-01T00:00:00",
          "2020-07-01T00:00:00",
          "2020-08-01T00:00:00",
          "2020-09-01T00:00:00",
          "2020-10-01T00:00:00",
          "2020-11-01T00:00:00",
          "2020-12-01T00:00:00",
          "2021-01-01T00:00:00",
          "2021-02-01T00:00:00",
          "2021-03-01T00:00:00",
          "2021-04-01T00:00:00",
          "2021-05-01T00:00:00",
          "2021-06-01T00:00:00",
          "2021-07-01T00:00:00",
          "2021-08-01T00:00:00",
          "2021-09-01T00:00:00",
          "2021-10-01T00:00:00",
          "2021-11-01T00:00:00",
          "2021-12-01T00:00:00",
          "2022-01-01T00:00:00",
          "2022-02-01T00:00:00",
          "2022-03-01T00:00:00",
          "2022-04-01T00:00:00"
         ],
         "xaxis": "x",
         "y": [
          null,
          3.134775695822113,
          2.4568805219433583,
          -0.8020047648425195,
          -0.7266418425633936,
          7.761282057489254,
          -0.9005903959480687,
          0.5743810631446771,
          0.03953537732499357,
          -0.2754287686931154,
          1.7257995523049483,
          0.03749020588777974,
          -0.6205994425490371,
          0.02170304805617418,
          -0.7724155604622098,
          4.793515907156908,
          -0.7847675649867987,
          0.9366622499412591,
          -0.5602751541718114,
          1.7667625587155666,
          0.3792562020316519,
          0.5202285042117714,
          -0.625365010166554,
          0.36465108098770527,
          -0.3055191871754691,
          0.10783399441945285,
          0.6160455662911146,
          -0.8448221908441045,
          1.8990106065201058,
          1.6457512245276456,
          -0.5939107895106888,
          0.7397170058143814,
          -0.1467480313081243,
          -0.4430231516902009,
          2.1129592063719316,
          -0.42331208136238696,
          -0.24411864454742216,
          0.6316922658484232,
          0.1780840126767116,
          -0.6642638658597118,
          -0.49795856798842564,
          1.1605450802201296,
          0.3579597104869232
         ],
         "yaxis": "y"
        },
        {
         "hovertemplate": "variable=P20%Change<br>x=%{x}<br>value=%{y}<extra></extra>",
         "legendgroup": "P20%Change",
         "line": {
          "color": "#00cc96",
          "dash": "solid"
         },
         "marker": {
          "symbol": "circle"
         },
         "mode": "lines",
         "name": "P20%Change",
         "orientation": "v",
         "showlegend": true,
         "type": "scatter",
         "x": [
          "2018-10-01T00:00:00",
          "2018-11-01T00:00:00",
          "2018-12-01T00:00:00",
          "2019-01-01T00:00:00",
          "2019-02-01T00:00:00",
          "2019-03-01T00:00:00",
          "2019-04-01T00:00:00",
          "2019-05-01T00:00:00",
          "2019-06-01T00:00:00",
          "2019-07-01T00:00:00",
          "2019-08-01T00:00:00",
          "2019-09-01T00:00:00",
          "2019-10-01T00:00:00",
          "2019-11-01T00:00:00",
          "2019-12-01T00:00:00",
          "2020-01-01T00:00:00",
          "2020-02-01T00:00:00",
          "2020-03-01T00:00:00",
          "2020-04-01T00:00:00",
          "2020-05-01T00:00:00",
          "2020-06-01T00:00:00",
          "2020-07-01T00:00:00",
          "2020-08-01T00:00:00",
          "2020-09-01T00:00:00",
          "2020-10-01T00:00:00",
          "2020-11-01T00:00:00",
          "2020-12-01T00:00:00",
          "2021-01-01T00:00:00",
          "2021-02-01T00:00:00",
          "2021-03-01T00:00:00",
          "2021-04-01T00:00:00",
          "2021-05-01T00:00:00",
          "2021-06-01T00:00:00",
          "2021-07-01T00:00:00",
          "2021-08-01T00:00:00",
          "2021-09-01T00:00:00",
          "2021-10-01T00:00:00",
          "2021-11-01T00:00:00",
          "2021-12-01T00:00:00",
          "2022-01-01T00:00:00",
          "2022-02-01T00:00:00",
          "2022-03-01T00:00:00",
          "2022-04-01T00:00:00"
         ],
         "xaxis": "x",
         "y": [
          null,
          0.2706469667816458,
          -0.8415612593003963,
          1.6103956893267295,
          -0.7411802972427483,
          4.428978828988496,
          0.07421762549895394,
          -0.7406088467605805,
          -0.17676003834274145,
          -0.25272336791989036,
          -0.5076177285318559,
          1.3367440225035163,
          1.356410912319244,
          -0.9048531289910601,
          0,
          0.8450335570469796,
          0,
          1.018842530282638,
          -0.5963963963963964,
          0.7410714285714286,
          1.5207692307692309,
          -0.15880378394873362,
          2.250380904012189,
          -0.2382068452380952,
          2.5922010060067393,
          -0.5949372939537096,
          1.8479563959537382,
          0,
          -0.8365466201565004,
          -0.22379235760634475,
          6.815344603381015,
          -0.9501770858093653,
          3.2141170296510104,
          -0.522851805728518,
          -0.5524895305660019,
          0,
          -0.5984041143099518,
          5.13109776222853,
          -0.8320413436692506,
          0,
          2.7788461538461537,
          3.894113655640373,
          1.1769344350936541
         ],
         "yaxis": "y"
        },
        {
         "hovertemplate": "variable=P36%Change<br>x=%{x}<br>value=%{y}<extra></extra>",
         "legendgroup": "P36%Change",
         "line": {
          "color": "#ab63fa",
          "dash": "solid"
         },
         "marker": {
          "symbol": "circle"
         },
         "mode": "lines",
         "name": "P36%Change",
         "orientation": "v",
         "showlegend": true,
         "type": "scatter",
         "x": [
          "2018-10-01T00:00:00",
          "2018-11-01T00:00:00",
          "2018-12-01T00:00:00",
          "2019-01-01T00:00:00",
          "2019-02-01T00:00:00",
          "2019-03-01T00:00:00",
          "2019-04-01T00:00:00",
          "2019-05-01T00:00:00",
          "2019-06-01T00:00:00",
          "2019-07-01T00:00:00",
          "2019-08-01T00:00:00",
          "2019-09-01T00:00:00",
          "2019-10-01T00:00:00",
          "2019-11-01T00:00:00",
          "2019-12-01T00:00:00",
          "2020-01-01T00:00:00",
          "2020-02-01T00:00:00",
          "2020-03-01T00:00:00",
          "2020-04-01T00:00:00",
          "2020-05-01T00:00:00",
          "2020-06-01T00:00:00",
          "2020-07-01T00:00:00",
          "2020-08-01T00:00:00",
          "2020-09-01T00:00:00",
          "2020-10-01T00:00:00",
          "2020-11-01T00:00:00",
          "2020-12-01T00:00:00",
          "2021-01-01T00:00:00",
          "2021-02-01T00:00:00",
          "2021-03-01T00:00:00",
          "2021-04-01T00:00:00",
          "2021-05-01T00:00:00",
          "2021-06-01T00:00:00",
          "2021-07-01T00:00:00",
          "2021-08-01T00:00:00",
          "2021-09-01T00:00:00",
          "2021-10-01T00:00:00",
          "2021-11-01T00:00:00",
          "2021-12-01T00:00:00",
          "2022-01-01T00:00:00",
          "2022-02-01T00:00:00",
          "2022-03-01T00:00:00",
          "2022-04-01T00:00:00"
         ],
         "xaxis": "x",
         "y": [
          null,
          2.3388332869984243,
          -0.35587143999729853,
          0.10915062063180625,
          -0.4787006803117507,
          -0.08417803667799018,
          -0.4195027544884191,
          2.9496104199521054,
          -0.08216939992854322,
          1.1483589430930992,
          -0.9608212654731252,
          11.697205206738131,
          -0.9061362697534456,
          8.586713780918727,
          -0.6041763281980898,
          1.0047287928118291,
          -0.002303079133191166,
          1.395654087730882,
          -0.04166734391441662,
          -0.6442208424281753,
          14.211274392961148,
          -0.9737726630292043,
          2.2153392560266005,
          2.6248128701696674,
          -0.5013609081041566,
          -0.815532826252241,
          1.9332322104003161,
          -0.6736916191259783,
          1.6466165413533833,
          0.09389348025711675,
          21.168506470793982,
          -0.9496073746571461,
          0.9359781894862738,
          -0.3062215891516904,
          -0.46190018573051184,
          1.8948827084280984,
          -0.9747845179933414,
          6.625341246290802,
          8.521099410835337,
          -0.8770905412447505,
          3.9663390634794213,
          -0.9141314719027771,
          5.639557868881222
         ],
         "yaxis": "y"
        },
        {
         "hovertemplate": "variable=Sales_EUR%Change<br>x=%{x}<br>value=%{y}<extra></extra>",
         "legendgroup": "Sales_EUR%Change",
         "line": {
          "color": "#FFA15A",
          "dash": "solid"
         },
         "marker": {
          "symbol": "circle"
         },
         "mode": "lines",
         "name": "Sales_EUR%Change",
         "orientation": "v",
         "showlegend": true,
         "type": "scatter",
         "x": [
          "2018-10-01T00:00:00",
          "2018-11-01T00:00:00",
          "2018-12-01T00:00:00",
          "2019-01-01T00:00:00",
          "2019-02-01T00:00:00",
          "2019-03-01T00:00:00",
          "2019-04-01T00:00:00",
          "2019-05-01T00:00:00",
          "2019-06-01T00:00:00",
          "2019-07-01T00:00:00",
          "2019-08-01T00:00:00",
          "2019-09-01T00:00:00",
          "2019-10-01T00:00:00",
          "2019-11-01T00:00:00",
          "2019-12-01T00:00:00",
          "2020-01-01T00:00:00",
          "2020-02-01T00:00:00",
          "2020-03-01T00:00:00",
          "2020-04-01T00:00:00",
          "2020-05-01T00:00:00",
          "2020-06-01T00:00:00",
          "2020-07-01T00:00:00",
          "2020-08-01T00:00:00",
          "2020-09-01T00:00:00",
          "2020-10-01T00:00:00",
          "2020-11-01T00:00:00",
          "2020-12-01T00:00:00",
          "2021-01-01T00:00:00",
          "2021-02-01T00:00:00",
          "2021-03-01T00:00:00",
          "2021-04-01T00:00:00",
          "2021-05-01T00:00:00",
          "2021-06-01T00:00:00",
          "2021-07-01T00:00:00",
          "2021-08-01T00:00:00",
          "2021-09-01T00:00:00",
          "2021-10-01T00:00:00",
          "2021-11-01T00:00:00",
          "2021-12-01T00:00:00",
          "2022-01-01T00:00:00",
          "2022-02-01T00:00:00",
          "2022-03-01T00:00:00",
          "2022-04-01T00:00:00"
         ],
         "xaxis": "x",
         "y": [
          null,
          -0.37821455209511934,
          0.9932027237327832,
          -0.16231583367519897,
          0.057959030194196126,
          0.13064691233983639,
          -0.013637808302811694,
          0.08194618660396591,
          0.010495404167870204,
          -0.020022120538284782,
          -0.05075682788826763,
          0.2832580957072861,
          -0.19783806337056653,
          -0.02004842333035428,
          0.05662547289635378,
          -0.16648688445976378,
          0.07622397003708259,
          0.1121117570578698,
          -0.07720281948433638,
          -0.09047951844096525,
          0.17106733579888478,
          -0.10203459241707435,
          0.1091693784022214,
          0.17825536446281065,
          -0.23107251309482213,
          0.1287271934626426,
          -0.13395837617090234,
          -0.4181599033817359,
          1.201646731667223,
          -0.13362910695640418,
          0.04357477731324799,
          -0.06691668613474488,
          0.06031760026039068,
          -0.021306465272888264,
          0.1504608804465457,
          0.030788920172903245,
          -0.05728820280769087,
          -0.06187101030217568,
          -0.08157343210691814,
          0.01706210971126998,
          0.007703941382885882,
          0.18712313838344308,
          -0.12425392615704811
         ],
         "yaxis": "y"
        }
       ],
       "layout": {
        "legend": {
         "title": {
          "text": "variable"
         },
         "tracegroupgap": 0
        },
        "margin": {
         "t": 60
        },
        "template": {
         "data": {
          "bar": [
           {
            "error_x": {
             "color": "#2a3f5f"
            },
            "error_y": {
             "color": "#2a3f5f"
            },
            "marker": {
             "line": {
              "color": "#E5ECF6",
              "width": 0.5
             },
             "pattern": {
              "fillmode": "overlay",
              "size": 10,
              "solidity": 0.2
             }
            },
            "type": "bar"
           }
          ],
          "barpolar": [
           {
            "marker": {
             "line": {
              "color": "#E5ECF6",
              "width": 0.5
             },
             "pattern": {
              "fillmode": "overlay",
              "size": 10,
              "solidity": 0.2
             }
            },
            "type": "barpolar"
           }
          ],
          "carpet": [
           {
            "aaxis": {
             "endlinecolor": "#2a3f5f",
             "gridcolor": "white",
             "linecolor": "white",
             "minorgridcolor": "white",
             "startlinecolor": "#2a3f5f"
            },
            "baxis": {
             "endlinecolor": "#2a3f5f",
             "gridcolor": "white",
             "linecolor": "white",
             "minorgridcolor": "white",
             "startlinecolor": "#2a3f5f"
            },
            "type": "carpet"
           }
          ],
          "choropleth": [
           {
            "colorbar": {
             "outlinewidth": 0,
             "ticks": ""
            },
            "type": "choropleth"
           }
          ],
          "contour": [
           {
            "colorbar": {
             "outlinewidth": 0,
             "ticks": ""
            },
            "colorscale": [
             [
              0,
              "#0d0887"
             ],
             [
              0.1111111111111111,
              "#46039f"
             ],
             [
              0.2222222222222222,
              "#7201a8"
             ],
             [
              0.3333333333333333,
              "#9c179e"
             ],
             [
              0.4444444444444444,
              "#bd3786"
             ],
             [
              0.5555555555555556,
              "#d8576b"
             ],
             [
              0.6666666666666666,
              "#ed7953"
             ],
             [
              0.7777777777777778,
              "#fb9f3a"
             ],
             [
              0.8888888888888888,
              "#fdca26"
             ],
             [
              1,
              "#f0f921"
             ]
            ],
            "type": "contour"
           }
          ],
          "contourcarpet": [
           {
            "colorbar": {
             "outlinewidth": 0,
             "ticks": ""
            },
            "type": "contourcarpet"
           }
          ],
          "heatmap": [
           {
            "colorbar": {
             "outlinewidth": 0,
             "ticks": ""
            },
            "colorscale": [
             [
              0,
              "#0d0887"
             ],
             [
              0.1111111111111111,
              "#46039f"
             ],
             [
              0.2222222222222222,
              "#7201a8"
             ],
             [
              0.3333333333333333,
              "#9c179e"
             ],
             [
              0.4444444444444444,
              "#bd3786"
             ],
             [
              0.5555555555555556,
              "#d8576b"
             ],
             [
              0.6666666666666666,
              "#ed7953"
             ],
             [
              0.7777777777777778,
              "#fb9f3a"
             ],
             [
              0.8888888888888888,
              "#fdca26"
             ],
             [
              1,
              "#f0f921"
             ]
            ],
            "type": "heatmap"
           }
          ],
          "heatmapgl": [
           {
            "colorbar": {
             "outlinewidth": 0,
             "ticks": ""
            },
            "colorscale": [
             [
              0,
              "#0d0887"
             ],
             [
              0.1111111111111111,
              "#46039f"
             ],
             [
              0.2222222222222222,
              "#7201a8"
             ],
             [
              0.3333333333333333,
              "#9c179e"
             ],
             [
              0.4444444444444444,
              "#bd3786"
             ],
             [
              0.5555555555555556,
              "#d8576b"
             ],
             [
              0.6666666666666666,
              "#ed7953"
             ],
             [
              0.7777777777777778,
              "#fb9f3a"
             ],
             [
              0.8888888888888888,
              "#fdca26"
             ],
             [
              1,
              "#f0f921"
             ]
            ],
            "type": "heatmapgl"
           }
          ],
          "histogram": [
           {
            "marker": {
             "pattern": {
              "fillmode": "overlay",
              "size": 10,
              "solidity": 0.2
             }
            },
            "type": "histogram"
           }
          ],
          "histogram2d": [
           {
            "colorbar": {
             "outlinewidth": 0,
             "ticks": ""
            },
            "colorscale": [
             [
              0,
              "#0d0887"
             ],
             [
              0.1111111111111111,
              "#46039f"
             ],
             [
              0.2222222222222222,
              "#7201a8"
             ],
             [
              0.3333333333333333,
              "#9c179e"
             ],
             [
              0.4444444444444444,
              "#bd3786"
             ],
             [
              0.5555555555555556,
              "#d8576b"
             ],
             [
              0.6666666666666666,
              "#ed7953"
             ],
             [
              0.7777777777777778,
              "#fb9f3a"
             ],
             [
              0.8888888888888888,
              "#fdca26"
             ],
             [
              1,
              "#f0f921"
             ]
            ],
            "type": "histogram2d"
           }
          ],
          "histogram2dcontour": [
           {
            "colorbar": {
             "outlinewidth": 0,
             "ticks": ""
            },
            "colorscale": [
             [
              0,
              "#0d0887"
             ],
             [
              0.1111111111111111,
              "#46039f"
             ],
             [
              0.2222222222222222,
              "#7201a8"
             ],
             [
              0.3333333333333333,
              "#9c179e"
             ],
             [
              0.4444444444444444,
              "#bd3786"
             ],
             [
              0.5555555555555556,
              "#d8576b"
             ],
             [
              0.6666666666666666,
              "#ed7953"
             ],
             [
              0.7777777777777778,
              "#fb9f3a"
             ],
             [
              0.8888888888888888,
              "#fdca26"
             ],
             [
              1,
              "#f0f921"
             ]
            ],
            "type": "histogram2dcontour"
           }
          ],
          "mesh3d": [
           {
            "colorbar": {
             "outlinewidth": 0,
             "ticks": ""
            },
            "type": "mesh3d"
           }
          ],
          "parcoords": [
           {
            "line": {
             "colorbar": {
              "outlinewidth": 0,
              "ticks": ""
             }
            },
            "type": "parcoords"
           }
          ],
          "pie": [
           {
            "automargin": true,
            "type": "pie"
           }
          ],
          "scatter": [
           {
            "fillpattern": {
             "fillmode": "overlay",
             "size": 10,
             "solidity": 0.2
            },
            "type": "scatter"
           }
          ],
          "scatter3d": [
           {
            "line": {
             "colorbar": {
              "outlinewidth": 0,
              "ticks": ""
             }
            },
            "marker": {
             "colorbar": {
              "outlinewidth": 0,
              "ticks": ""
             }
            },
            "type": "scatter3d"
           }
          ],
          "scattercarpet": [
           {
            "marker": {
             "colorbar": {
              "outlinewidth": 0,
              "ticks": ""
             }
            },
            "type": "scattercarpet"
           }
          ],
          "scattergeo": [
           {
            "marker": {
             "colorbar": {
              "outlinewidth": 0,
              "ticks": ""
             }
            },
            "type": "scattergeo"
           }
          ],
          "scattergl": [
           {
            "marker": {
             "colorbar": {
              "outlinewidth": 0,
              "ticks": ""
             }
            },
            "type": "scattergl"
           }
          ],
          "scattermapbox": [
           {
            "marker": {
             "colorbar": {
              "outlinewidth": 0,
              "ticks": ""
             }
            },
            "type": "scattermapbox"
           }
          ],
          "scatterpolar": [
           {
            "marker": {
             "colorbar": {
              "outlinewidth": 0,
              "ticks": ""
             }
            },
            "type": "scatterpolar"
           }
          ],
          "scatterpolargl": [
           {
            "marker": {
             "colorbar": {
              "outlinewidth": 0,
              "ticks": ""
             }
            },
            "type": "scatterpolargl"
           }
          ],
          "scatterternary": [
           {
            "marker": {
             "colorbar": {
              "outlinewidth": 0,
              "ticks": ""
             }
            },
            "type": "scatterternary"
           }
          ],
          "surface": [
           {
            "colorbar": {
             "outlinewidth": 0,
             "ticks": ""
            },
            "colorscale": [
             [
              0,
              "#0d0887"
             ],
             [
              0.1111111111111111,
              "#46039f"
             ],
             [
              0.2222222222222222,
              "#7201a8"
             ],
             [
              0.3333333333333333,
              "#9c179e"
             ],
             [
              0.4444444444444444,
              "#bd3786"
             ],
             [
              0.5555555555555556,
              "#d8576b"
             ],
             [
              0.6666666666666666,
              "#ed7953"
             ],
             [
              0.7777777777777778,
              "#fb9f3a"
             ],
             [
              0.8888888888888888,
              "#fdca26"
             ],
             [
              1,
              "#f0f921"
             ]
            ],
            "type": "surface"
           }
          ],
          "table": [
           {
            "cells": {
             "fill": {
              "color": "#EBF0F8"
             },
             "line": {
              "color": "white"
             }
            },
            "header": {
             "fill": {
              "color": "#C8D4E3"
             },
             "line": {
              "color": "white"
             }
            },
            "type": "table"
           }
          ]
         },
         "layout": {
          "annotationdefaults": {
           "arrowcolor": "#2a3f5f",
           "arrowhead": 0,
           "arrowwidth": 1
          },
          "autotypenumbers": "strict",
          "coloraxis": {
           "colorbar": {
            "outlinewidth": 0,
            "ticks": ""
           }
          },
          "colorscale": {
           "diverging": [
            [
             0,
             "#8e0152"
            ],
            [
             0.1,
             "#c51b7d"
            ],
            [
             0.2,
             "#de77ae"
            ],
            [
             0.3,
             "#f1b6da"
            ],
            [
             0.4,
             "#fde0ef"
            ],
            [
             0.5,
             "#f7f7f7"
            ],
            [
             0.6,
             "#e6f5d0"
            ],
            [
             0.7,
             "#b8e186"
            ],
            [
             0.8,
             "#7fbc41"
            ],
            [
             0.9,
             "#4d9221"
            ],
            [
             1,
             "#276419"
            ]
           ],
           "sequential": [
            [
             0,
             "#0d0887"
            ],
            [
             0.1111111111111111,
             "#46039f"
            ],
            [
             0.2222222222222222,
             "#7201a8"
            ],
            [
             0.3333333333333333,
             "#9c179e"
            ],
            [
             0.4444444444444444,
             "#bd3786"
            ],
            [
             0.5555555555555556,
             "#d8576b"
            ],
            [
             0.6666666666666666,
             "#ed7953"
            ],
            [
             0.7777777777777778,
             "#fb9f3a"
            ],
            [
             0.8888888888888888,
             "#fdca26"
            ],
            [
             1,
             "#f0f921"
            ]
           ],
           "sequentialminus": [
            [
             0,
             "#0d0887"
            ],
            [
             0.1111111111111111,
             "#46039f"
            ],
            [
             0.2222222222222222,
             "#7201a8"
            ],
            [
             0.3333333333333333,
             "#9c179e"
            ],
            [
             0.4444444444444444,
             "#bd3786"
            ],
            [
             0.5555555555555556,
             "#d8576b"
            ],
            [
             0.6666666666666666,
             "#ed7953"
            ],
            [
             0.7777777777777778,
             "#fb9f3a"
            ],
            [
             0.8888888888888888,
             "#fdca26"
            ],
            [
             1,
             "#f0f921"
            ]
           ]
          },
          "colorway": [
           "#636efa",
           "#EF553B",
           "#00cc96",
           "#ab63fa",
           "#FFA15A",
           "#19d3f3",
           "#FF6692",
           "#B6E880",
           "#FF97FF",
           "#FECB52"
          ],
          "font": {
           "color": "#2a3f5f"
          },
          "geo": {
           "bgcolor": "white",
           "lakecolor": "white",
           "landcolor": "#E5ECF6",
           "showlakes": true,
           "showland": true,
           "subunitcolor": "white"
          },
          "hoverlabel": {
           "align": "left"
          },
          "hovermode": "closest",
          "mapbox": {
           "style": "light"
          },
          "paper_bgcolor": "white",
          "plot_bgcolor": "#E5ECF6",
          "polar": {
           "angularaxis": {
            "gridcolor": "white",
            "linecolor": "white",
            "ticks": ""
           },
           "bgcolor": "#E5ECF6",
           "radialaxis": {
            "gridcolor": "white",
            "linecolor": "white",
            "ticks": ""
           }
          },
          "scene": {
           "xaxis": {
            "backgroundcolor": "#E5ECF6",
            "gridcolor": "white",
            "gridwidth": 2,
            "linecolor": "white",
            "showbackground": true,
            "ticks": "",
            "zerolinecolor": "white"
           },
           "yaxis": {
            "backgroundcolor": "#E5ECF6",
            "gridcolor": "white",
            "gridwidth": 2,
            "linecolor": "white",
            "showbackground": true,
            "ticks": "",
            "zerolinecolor": "white"
           },
           "zaxis": {
            "backgroundcolor": "#E5ECF6",
            "gridcolor": "white",
            "gridwidth": 2,
            "linecolor": "white",
            "showbackground": true,
            "ticks": "",
            "zerolinecolor": "white"
           }
          },
          "shapedefaults": {
           "line": {
            "color": "#2a3f5f"
           }
          },
          "ternary": {
           "aaxis": {
            "gridcolor": "white",
            "linecolor": "white",
            "ticks": ""
           },
           "baxis": {
            "gridcolor": "white",
            "linecolor": "white",
            "ticks": ""
           },
           "bgcolor": "#E5ECF6",
           "caxis": {
            "gridcolor": "white",
            "linecolor": "white",
            "ticks": ""
           }
          },
          "title": {
           "x": 0.05
          },
          "xaxis": {
           "automargin": true,
           "gridcolor": "white",
           "linecolor": "white",
           "ticks": "",
           "title": {
            "standoff": 15
           },
           "zerolinecolor": "white",
           "zerolinewidth": 2
          },
          "yaxis": {
           "automargin": true,
           "gridcolor": "white",
           "linecolor": "white",
           "ticks": "",
           "title": {
            "standoff": 15
           },
           "zerolinecolor": "white",
           "zerolinewidth": 2
          }
         }
        },
        "xaxis": {
         "anchor": "y",
         "domain": [
          0,
          1
         ],
         "title": {
          "text": "x"
         }
        },
        "yaxis": {
         "anchor": "x",
         "domain": [
          0,
          1
         ],
         "title": {
          "text": "value"
         }
        }
       }
      }
     },
     "metadata": {},
     "output_type": "display_data"
    }
   ],
   "source": [
    "# Creating a lineplot to visualize the monthly percentual sales development of the different products\n",
    "fig = px.line(df_sales, x=df_sales.index.to_timestamp(), y=percent_change_prod_list)\n",
    "# fig.add_shape(\n",
    "#             dict(type='line', x0=31, y0=0, x1=31, y1=1, xref='x', yref='paper',\n",
    "#                  line=dict(color='red', width=2, dash='dash'))\n",
    "#         )\n",
    "fig.show()"
   ]
  },
  {
   "cell_type": "markdown",
   "metadata": {},
   "source": [
    "---\n",
    "#### <span style=\"background-color:#235987; padding:5px; border-radius:5px;\">**Augmented Dickey-Fuller (ADF) test**</span> <a id='Augmented Dickey-Fuller (ADF) testDU'></a>  \n",
    "\n",
    "##### Click [here](#table-of-contents) ⬆️ to return to the Index."
   ]
  },
  {
   "cell_type": "markdown",
   "metadata": {},
   "source": [
    "Now we will performe a **Augmented Dickey-Fuller (ADF) test** to check if the `Sales_EUR` time series is stationary or non-stationary.\n",
    "\n",
    "- Null Hypothesis (H₀): The series is non-stationary\n",
    "- Alternative Hypothesis (H₁): The series is stationary\n",
    "\n",
    "**result** stores multiple outputs, where:\n",
    "- result[0]: ADF test statistic.\n",
    "- result[1]: p-value (used to determine stationarity)."
   ]
  },
  {
   "cell_type": "code",
   "execution_count": 76,
   "metadata": {},
   "outputs": [
    {
     "name": "stdout",
     "output_type": "stream",
     "text": [
      "Sales_EUR is stationary (reject the null hypothesis)\n",
      "ADF Statistic: -5.329516385633666\n"
     ]
    }
   ],
   "source": [
    "result = adfuller(df_sales['Sales_EUR'])\n",
    "\n",
    "if result[1] <= 0.05:\n",
    "    print(\"Sales_EUR is stationary (reject the null hypothesis)\")\n",
    "else:\n",
    "    print(\"Sales_EUR Change is not stationary (fail to reject the null hypothesis)\")\n",
    "\n",
    "# printing the test statistic and p-value\n",
    "print('ADF Statistic:', result[0])"
   ]
  },
  {
   "cell_type": "markdown",
   "metadata": {},
   "source": [
    "We then conclude that **Sales_EUR is stationary**, which means its statistical properties (mean, variance, autocorrelation) remain constant over time."
   ]
  }
 ],
 "metadata": {
  "kernelspec": {
   "display_name": "base",
   "language": "python",
   "name": "python3"
  },
  "language_info": {
   "codemirror_mode": {
    "name": "ipython",
    "version": 3
   },
   "file_extension": ".py",
   "mimetype": "text/x-python",
   "name": "python",
   "nbconvert_exporter": "python",
   "pygments_lexer": "ipython3",
   "version": "3.12.7"
  }
 },
 "nbformat": 4,
 "nbformat_minor": 2
}
