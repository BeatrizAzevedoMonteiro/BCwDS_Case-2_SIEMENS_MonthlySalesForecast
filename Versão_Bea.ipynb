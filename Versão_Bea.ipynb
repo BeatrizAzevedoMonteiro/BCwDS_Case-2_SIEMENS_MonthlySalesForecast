{
 "cells": [
  {
   "cell_type": "markdown",
   "metadata": {},
   "source": [
    "<p align=\"center\">\n",
    "  <img src=\"header.jpg\" width=\"100%\">\n",
    "</p>\n",
    "\n",
    "\n",
    "<div style=\"text-align: center;\">\n",
    "    <strong style=\"display: block; margin-bottom: 10px;\">Group P</strong> \n",
    "    <table style=\"margin: 0 auto; border-collapse: collapse; border: 1px solid black;\">\n",
    "        <tr>\n",
    "            <th style=\"border: 1px solid white; padding: 8px;\">Name</th>\n",
    "            <th style=\"border: 1px solid white; padding: 8px;\">Student ID</th>\n",
    "        </tr>\n",
    "        <tr>\n",
    "            <td style=\"border: 1px solid white; padding: 8px;\">Beatriz Monteiro</td>\n",
    "            <td style=\"border: 1px solid white; padding: 8px;\">20240591</td>\n",
    "        </tr>\n",
    "        <tr>\n",
    "            <td style=\"border: 1px solid white; padding: 8px;\">Catarina Nunes</td>\n",
    "            <td style=\"border: 1px solid white; padding: 8px;\">20230083</td>\n",
    "        </tr>\n",
    "        <tr>\n",
    "            <td style=\"border: 1px solid white; padding: 8px;\">Margarida Raposo</td>\n",
    "            <td style=\"border: 1px solid white; padding: 8px;\">20241020</td>\n",
    "        </tr>\n",
    "        <tr>\n",
    "            <td style=\"border: 1px solid white; padding: 8px;\">Teresa Menezes</td>\n",
    "            <td style=\"border: 1px solid white; padding: 8px;\">20240333</td>\n",
    "        </tr>\n",
    "    </table>\n",
    "</div>"
   ]
  },
  {
   "cell_type": "markdown",
   "metadata": {},
   "source": [
    "### 🔗 Table of Contents <a id='table-of-contents'></a>\n",
    "1. [Introduction](#introduction)  \n",
    "2. [Business Understanding](#business-understanding)  \n",
    "3. [Data Understanding](#data-understanding)  \n",
    "4. [Data Preparation](#data-preparation)  \n",
    "5. [Modeling](#modeling)  \n",
    "6. [Evaluation](#evaluation)  \n",
    "7. [Conclusion](#conclusion)  \n",
    "\n",
    "---"
   ]
  },
  {
   "cell_type": "markdown",
   "metadata": {},
   "source": [
    "### <span style=\"background-color:#235987; padding:5px; border-radius:5px;\"> 📌 Introduction <a id='introduction'></a>\n",
    "\n",
    "This project follows the **CRISP-DM** methodology to conduct a monthly sales forecast of the smart infrastructure business unit of Siemens. \n",
    "\n",
    "\n",
    "#### Montlhy Sales Forecast\n",
    "\n",
    "<p style=\"margin-bottom: 50px;\"> This case study focuses on ... </p>\n",
    "\n",
    "**Market Data** \n",
    "\n",
    "| Features                                      | Feature Description |\n",
    "|-----------------------------------------------|---------------------|\n",
    "| *date*                                       |  |\n",
    "| *China_Production*                            |  |\n",
    "| *China_Shipment*                              |  |\n",
    "| *France_Production*                           |  |\n",
    "| *France_Shipment*                             |  |\n",
    "| *Germany_Production*                          |  |\n",
    "| *Germany_Shipment*                            |  |\n",
    "| *Italy_Production*                            |  |\n",
    "| *Italy_Shipment*                              |  |\n",
    "| *Japan_Production*                            |  |\n",
    "| *Japan_Shipment*                              |  |\n",
    "| *Switzerland_Production*                      |  |\n",
    "| *Switzerland_Shipment*                        |  |\n",
    "| *UK_Production*                               |  |\n",
    "| *UK_Shipment*                                 |  |\n",
    "| *US_Production*                               |  |\n",
    "| *US_Shipment*                                 |  |\n",
    "| *Europe_Production*                           |  |\n",
    "| *Europe_Shipment*                             |  |\n",
    "| *Base_Metal_Price*                            |  |\n",
    "| *Energy_Price*                                |  |\n",
    "| *Metal_and_Minerals_Price*                    |  |\n",
    "| *Natural_Gas_Price*                           |  |\n",
    "| *Crude_oil_avg_Price*                         |  |\n",
    "| *Copper_price*                                |  |\n",
    "| *LCU_EUR*                                     |  |\n",
    "| *US_Producer_Price_Electrical_equip*          |  |\n",
    "| *UK_Producer_Price_Electrical_equip*          |  |\n",
    "| *Italy_Producer_Price_Electrical_equip*       |  |\n",
    "| *France_Producer_Price_Electrical_equip*      |  |\n",
    "| *Germany_Producer_Price_Electrical_equip*     |  |\n",
    "| *China_Producer_Price_Electrical_equip*       |  |\n",
    "| *US_Production_Index_Machinery_and_equipment* |  |\n",
    "| *World_Production_Index_Machinery_and_equip*  |  |\n",
    "| *Switzerland_Production_Index_Machinery_and_equip* |  |\n",
    "| *UK_Production_Index_Machinery_and_equip*     |  |\n",
    "| *Italy_Production_Index_Machinery_and_equip*  |  |\n",
    "| *Japan_Production_Index_Machinery_and_equip*  |  |\n",
    "| *France_Production_Index_Machinery_and_equip* |  |\n",
    "| *Germany_Production_Index_Machinery_and_equip* |  |\n",
    "| *US_Production_Index_Electrical_equip*        |  |\n",
    "| *World_Production_Index_Electrical_equip*     |  |\n",
    "| *Switzerland_Production_Index_Electrical_equip* |  |\n",
    "| *UK_Production_Index_Electrical_equip*        |  |\n",
    "| *Italy_Production_Index_Electrical_equip*     |  |\n",
    "| *Japan_Production_Index_Electrical_equip*     |  |\n",
    "| *France_Production_Index_Electrical_equip*    |  |\n",
    "| *Germany_Production_Index_Electrical_equip*   |  |\n",
    "\n",
    "\n",
    "**Sales Data**\n",
    "| Features                                      | Feature Description |\n",
    "|-----------------------------------------------|---------------------|\n",
    "| *DATE*                                       |   |\n",
    "| *Mapped_GCK*                                 |   |\n",
    "| *Sales_EUR*                                  |   |\n",
    "\n",
    "<b style=\"background-color:#A9A9A9; padding:5px; border-radius:5px; display: inline-block; margin-top: 50px;\">CRISP-DM</b>\n",
    "\n",
    "<ul style=\"margin-bottom: 30px;\">\n",
    "    <li><u>Business Understanding</u>: Defining objectives, assessing resources, and project planning.</li>\n",
    "    <li><u>Data Understanding</u>: Collecting, exploring, and verifying data quality.</li>\n",
    "    <li><u>Data Preparation</u>: Selecting, cleaning, constructing, integrating, and formatting data to ensure it is ready for analysis.</li>\n",
    "    <li><u>Modeling</u>: Selecting and applying various modeling techniques while calibrating their parameters to optimal values.</li>\n",
    "    <li><u>Evaluation</u>: Select the models which are the best performers and evaluate thoroughly if they align with the business objectives. </li>\n",
    "    <li><u>Deployment</u>: Bridge between data mining goals and the business application of the finalized model.</li>\n",
    "</ul>\n",
    "\n",
    "<hr style=\"margin-top: 30px;\">\n"
   ]
  },
  {
   "cell_type": "code",
   "execution_count": 419,
   "metadata": {},
   "outputs": [],
   "source": [
    "import pandas as pd\n",
    "import numpy as np\n",
    "\n",
    "import seaborn as sns\n",
    "import plotly.express as px"
   ]
  },
  {
   "cell_type": "code",
   "execution_count": 420,
   "metadata": {
    "vscode": {
     "languageId": "powershell"
    }
   },
   "outputs": [],
   "source": [
    "pd.set_option('display.max_columns', None)"
   ]
  },
  {
   "cell_type": "code",
   "execution_count": 421,
   "metadata": {
    "vscode": {
     "languageId": "powershell"
    }
   },
   "outputs": [],
   "source": [
    "#compose a pallete to use in the vizualizations\n",
    "pal_novaims = ['#003B5C','#003B5C','#003B5C','#003B5C','#003B5C']\n",
    "pastel_color = sns.utils.set_hls_values(pal_novaims[1], l=0.4, s=0.3)"
   ]
  },
  {
   "cell_type": "markdown",
   "metadata": {},
   "source": [
    "### <span style=\"background-color:#235987; padding:5px; border-radius:5px;\"> 📌 Business Understanding <a id='business-understanding'></a>\n",
    "\n",
    "##### Click [here](#table-of-contents) ⬆️ to return to the Index.\n",
    "---"
   ]
  },
  {
   "cell_type": "markdown",
   "metadata": {},
   "source": [
    "The **Business Understanding** phase of the project entails the comprehension of the background leading to the project, as well as the business goals and requirements to be achieved. \n",
    "\n",
    "<b style=\"background-color:#A9A9A9; padding:5px; border-radius:5px;\">Primary Business Objective</b> : \n",
    "\n",
    "\n",
    "<b style=\"background-color:#A9A9A9; padding:5px; border-radius:5px;\">Plan</b> : "
   ]
  },
  {
   "cell_type": "markdown",
   "metadata": {},
   "source": [
    "### <span style=\"background-color:#235987; padding:5px; border-radius:5px;\"> 📌 Data Understanding</span> <a id='data-understanding'></a>\n",
    "\n",
    "- **[Data Loading and Description](#data-loading-and-description)**  \n",
    "- **[Data Types](#Data-TypesDU)**\n",
    "- **[Univariate EDA: Descriptive Summary](#Descriptive-Summary)**\n",
    "- **[Univariate EDA: Missing values](#missing-valuesDU)**  \n",
    "- **[Inconsistencies](#inconsistenciesDU)**  \n",
    "- **[Feature Engineering](#feature-engineeringDU)**  \n",
    "- **[Univariate EDA: Data Visualization](#univariate-vizualization)**  \n",
    "    - **Numerical Variables:**  \n",
    "        - [Numeric variables: Histograms](#hist)\n",
    "        - [Outliers Analysis: Box-Plots](#box)\n",
    "    - **Categorical Variables**  \n",
    "        - [Categorical variables: Bar Plots](#bar)\n",
    "        - [Categorical variables: Geographic Map](#GeographicMap)\n",
    "- **[Bivariate EDA: Data Visualization](#Bivariate-Vizualization)**  \n",
    "   - [Numeric-Numeric: Correlations](#NNCorrelations)\n",
    "   - [Numeric-Categorical: Correlations](#NCCorrelations)\n",
    "   - [Categorical-Categorical: Cross-tabulations](#CCCross-tabulations)\n",
    "- **[Multivariate EDA: Duplicates](#Multivariate)**\n",
    "\n",
    "\n",
    "##### Click [here](#table-of-contents) ⬆️ to return to the Index.\n",
    "---"
   ]
  },
  {
   "cell_type": "markdown",
   "metadata": {},
   "source": [
    "#### <span style=\"background-color:#235987; padding:5px; border-radius:5px;\">**Data Loading and Description**</span> <a id='data-loading-and-description'></a>  \n",
    "_This section provides an overview of the datasets, including their structure, size, and general characteristics._  \n",
    "\n",
    "##### Click [here](#table-of-contents) ⬆️ to return to the Index.\n"
   ]
  },
  {
   "cell_type": "markdown",
   "metadata": {},
   "source": [
    "#### df_market"
   ]
  },
  {
   "cell_type": "code",
   "execution_count": 422,
   "metadata": {},
   "outputs": [
    {
     "data": {
      "text/html": [
       "<div>\n",
       "<style scoped>\n",
       "    .dataframe tbody tr th:only-of-type {\n",
       "        vertical-align: middle;\n",
       "    }\n",
       "\n",
       "    .dataframe tbody tr th {\n",
       "        vertical-align: top;\n",
       "    }\n",
       "\n",
       "    .dataframe thead th {\n",
       "        text-align: right;\n",
       "    }\n",
       "</style>\n",
       "<table border=\"1\" class=\"dataframe\">\n",
       "  <thead>\n",
       "    <tr style=\"text-align: right;\">\n",
       "      <th></th>\n",
       "      <th>date</th>\n",
       "      <th>China_Production</th>\n",
       "      <th>China_Shipment</th>\n",
       "      <th>France_Production</th>\n",
       "      <th>France_Shipment</th>\n",
       "      <th>Germany_Production</th>\n",
       "      <th>Germany_Shipment</th>\n",
       "      <th>Italy_Production</th>\n",
       "      <th>Italy_Shipment</th>\n",
       "      <th>Japan_Production</th>\n",
       "      <th>Japan_Shipment</th>\n",
       "      <th>Switzerland_Production</th>\n",
       "      <th>Switzerland_Shipment</th>\n",
       "      <th>UK_Production</th>\n",
       "      <th>UK_Shipment</th>\n",
       "      <th>US_Production</th>\n",
       "      <th>US_Shipment</th>\n",
       "      <th>Europe_Production</th>\n",
       "      <th>Europe_Shipment</th>\n",
       "      <th>Base_Metal_Price</th>\n",
       "      <th>Energy_Price</th>\n",
       "      <th>Metal_and_Minerals_Price</th>\n",
       "      <th>Natural_Gas_Price</th>\n",
       "      <th>Crude_oil_avg_Price</th>\n",
       "      <th>Copper_price</th>\n",
       "      <th>LCU_EUR</th>\n",
       "      <th>US_Producer_Price_Electrical_equip</th>\n",
       "      <th>UK_Producer_Price_Electrical_equip</th>\n",
       "      <th>Italy_Producer_Price_Electrical_equip</th>\n",
       "      <th>France_Producer_Price_Electrical_equip</th>\n",
       "      <th>Germany_Producer_Price_Electrical_equip</th>\n",
       "      <th>China_Producer_Price_Electrical_equip</th>\n",
       "      <th>US_Production_Index_Machinery_and_equip</th>\n",
       "      <th>World_Production_Index_Machinery_and_equip</th>\n",
       "      <th>Switzerland_Production_Index_Machinery_and_equip</th>\n",
       "      <th>UK_Production_Index_Machinery_and_equip</th>\n",
       "      <th>Italy_Production_Index_Machinery_and_equip</th>\n",
       "      <th>Japan_Production_Index_Machinery_and_equip</th>\n",
       "      <th>France_Production_Index_Machinery_and_equip</th>\n",
       "      <th>Germany_Production_Index_Machinery_and_equip</th>\n",
       "      <th>US_Production_Index_Electrical_equip</th>\n",
       "      <th>World_Production_Index_Electrical_equip</th>\n",
       "      <th>Switzerland_Production_Index_Electrical_equip</th>\n",
       "      <th>UK_Production_Index_Electrical_equip</th>\n",
       "      <th>Italy_Production_Index_Electrical_equip</th>\n",
       "      <th>Japan_Production_Index_Electrical_equip</th>\n",
       "      <th>France_Production_Index_Electrical_equip</th>\n",
       "      <th>Germany_Production_Index_Electrical_equip</th>\n",
       "    </tr>\n",
       "  </thead>\n",
       "  <tbody>\n",
       "    <tr>\n",
       "      <th>0</th>\n",
       "      <td>2004m2</td>\n",
       "      <td>16.940704</td>\n",
       "      <td>16.940704</td>\n",
       "      <td>112.091273</td>\n",
       "      <td>83.458866</td>\n",
       "      <td>82.623037</td>\n",
       "      <td>79.452532</td>\n",
       "      <td>124.289603</td>\n",
       "      <td>86.560493</td>\n",
       "      <td>109.334010</td>\n",
       "      <td>110.495272</td>\n",
       "      <td>91.221862</td>\n",
       "      <td>89.987275</td>\n",
       "      <td>111.353812</td>\n",
       "      <td>73.601265</td>\n",
       "      <td>107.601400</td>\n",
       "      <td>79.240230</td>\n",
       "      <td>97.122911</td>\n",
       "      <td>80.098530</td>\n",
       "      <td>54.039811</td>\n",
       "      <td>44.123338</td>\n",
       "      <td>48.747945</td>\n",
       "      <td>87.076974</td>\n",
       "      <td>39.639458</td>\n",
       "      <td>36.623832</td>\n",
       "      <td>1.2646</td>\n",
       "      <td>78.969864</td>\n",
       "      <td>80.757423</td>\n",
       "      <td>93.020027</td>\n",
       "      <td>NaN</td>\n",
       "      <td>93.230453</td>\n",
       "      <td>NaN</td>\n",
       "      <td>102.491722</td>\n",
       "      <td>97.597374</td>\n",
       "      <td>97.100000</td>\n",
       "      <td>106.191977</td>\n",
       "      <td>116.790276</td>\n",
       "      <td>110.890034</td>\n",
       "      <td>118.274109</td>\n",
       "      <td>80.829010</td>\n",
       "      <td>117.723991</td>\n",
       "      <td>NaN</td>\n",
       "      <td>81.100000</td>\n",
       "      <td>120.706516</td>\n",
       "      <td>141.510864</td>\n",
       "      <td>106.161262</td>\n",
       "      <td>102.077057</td>\n",
       "      <td>85.913200</td>\n",
       "    </tr>\n",
       "    <tr>\n",
       "      <th>1</th>\n",
       "      <td>2004m3</td>\n",
       "      <td>23.711852</td>\n",
       "      <td>23.711852</td>\n",
       "      <td>136.327976</td>\n",
       "      <td>106.168192</td>\n",
       "      <td>100.556582</td>\n",
       "      <td>97.012918</td>\n",
       "      <td>143.411662</td>\n",
       "      <td>106.344544</td>\n",
       "      <td>140.884616</td>\n",
       "      <td>144.686166</td>\n",
       "      <td>85.866287</td>\n",
       "      <td>79.883583</td>\n",
       "      <td>127.558608</td>\n",
       "      <td>84.047595</td>\n",
       "      <td>110.187364</td>\n",
       "      <td>98.619024</td>\n",
       "      <td>113.783904</td>\n",
       "      <td>96.015929</td>\n",
       "      <td>54.666162</td>\n",
       "      <td>47.588957</td>\n",
       "      <td>49.256157</td>\n",
       "      <td>87.192705</td>\n",
       "      <td>42.592034</td>\n",
       "      <td>39.931055</td>\n",
       "      <td>1.2262</td>\n",
       "      <td>79.673569</td>\n",
       "      <td>80.962135</td>\n",
       "      <td>93.540268</td>\n",
       "      <td>NaN</td>\n",
       "      <td>93.335678</td>\n",
       "      <td>NaN</td>\n",
       "      <td>105.627480</td>\n",
       "      <td>113.224892</td>\n",
       "      <td>91.195116</td>\n",
       "      <td>121.625075</td>\n",
       "      <td>139.288391</td>\n",
       "      <td>141.176853</td>\n",
       "      <td>148.121841</td>\n",
       "      <td>102.130104</td>\n",
       "      <td>119.220779</td>\n",
       "      <td>NaN</td>\n",
       "      <td>76.690307</td>\n",
       "      <td>138.309550</td>\n",
       "      <td>152.880234</td>\n",
       "      <td>140.288741</td>\n",
       "      <td>117.225685</td>\n",
       "      <td>97.670815</td>\n",
       "    </tr>\n",
       "    <tr>\n",
       "      <th>2</th>\n",
       "      <td>2004m4</td>\n",
       "      <td>24.435235</td>\n",
       "      <td>24.435235</td>\n",
       "      <td>117.791806</td>\n",
       "      <td>92.007646</td>\n",
       "      <td>89.653203</td>\n",
       "      <td>84.932358</td>\n",
       "      <td>129.083828</td>\n",
       "      <td>95.579673</td>\n",
       "      <td>105.853579</td>\n",
       "      <td>102.655769</td>\n",
       "      <td>85.622508</td>\n",
       "      <td>79.740802</td>\n",
       "      <td>108.732297</td>\n",
       "      <td>73.026027</td>\n",
       "      <td>108.166564</td>\n",
       "      <td>89.774031</td>\n",
       "      <td>101.715199</td>\n",
       "      <td>85.167236</td>\n",
       "      <td>54.872715</td>\n",
       "      <td>47.779013</td>\n",
       "      <td>49.423751</td>\n",
       "      <td>91.379923</td>\n",
       "      <td>42.650637</td>\n",
       "      <td>39.134854</td>\n",
       "      <td>1.1985</td>\n",
       "      <td>80.337639</td>\n",
       "      <td>80.757423</td>\n",
       "      <td>93.852425</td>\n",
       "      <td>NaN</td>\n",
       "      <td>93.440903</td>\n",
       "      <td>NaN</td>\n",
       "      <td>103.484955</td>\n",
       "      <td>100.169090</td>\n",
       "      <td>93.793535</td>\n",
       "      <td>104.965505</td>\n",
       "      <td>125.289566</td>\n",
       "      <td>105.648765</td>\n",
       "      <td>125.482231</td>\n",
       "      <td>90.961426</td>\n",
       "      <td>117.441124</td>\n",
       "      <td>NaN</td>\n",
       "      <td>71.552403</td>\n",
       "      <td>115.557330</td>\n",
       "      <td>137.796875</td>\n",
       "      <td>106.271197</td>\n",
       "      <td>105.335777</td>\n",
       "      <td>87.253983</td>\n",
       "    </tr>\n",
       "    <tr>\n",
       "      <th>3</th>\n",
       "      <td>2004m5</td>\n",
       "      <td>23.708115</td>\n",
       "      <td>23.708115</td>\n",
       "      <td>109.002541</td>\n",
       "      <td>85.696486</td>\n",
       "      <td>86.880571</td>\n",
       "      <td>82.372794</td>\n",
       "      <td>135.590391</td>\n",
       "      <td>100.087039</td>\n",
       "      <td>101.864777</td>\n",
       "      <td>100.305285</td>\n",
       "      <td>85.378729</td>\n",
       "      <td>79.598021</td>\n",
       "      <td>110.645200</td>\n",
       "      <td>74.591883</td>\n",
       "      <td>108.425887</td>\n",
       "      <td>87.463813</td>\n",
       "      <td>101.275727</td>\n",
       "      <td>84.485767</td>\n",
       "      <td>51.230356</td>\n",
       "      <td>53.590898</td>\n",
       "      <td>46.468392</td>\n",
       "      <td>99.044520</td>\n",
       "      <td>47.517121</td>\n",
       "      <td>36.278433</td>\n",
       "      <td>1.2007</td>\n",
       "      <td>80.798828</td>\n",
       "      <td>80.757423</td>\n",
       "      <td>93.852425</td>\n",
       "      <td>NaN</td>\n",
       "      <td>93.546127</td>\n",
       "      <td>NaN</td>\n",
       "      <td>103.643944</td>\n",
       "      <td>99.581436</td>\n",
       "      <td>96.391954</td>\n",
       "      <td>105.885359</td>\n",
       "      <td>131.988998</td>\n",
       "      <td>101.990361</td>\n",
       "      <td>116.649750</td>\n",
       "      <td>88.082901</td>\n",
       "      <td>117.899216</td>\n",
       "      <td>NaN</td>\n",
       "      <td>66.414500</td>\n",
       "      <td>119.269534</td>\n",
       "      <td>143.860535</td>\n",
       "      <td>101.608710</td>\n",
       "      <td>96.616508</td>\n",
       "      <td>84.675552</td>\n",
       "    </tr>\n",
       "    <tr>\n",
       "      <th>4</th>\n",
       "      <td>2004m6</td>\n",
       "      <td>27.009138</td>\n",
       "      <td>27.009138</td>\n",
       "      <td>133.785737</td>\n",
       "      <td>106.641482</td>\n",
       "      <td>99.010814</td>\n",
       "      <td>95.108740</td>\n",
       "      <td>136.424935</td>\n",
       "      <td>110.889719</td>\n",
       "      <td>120.332920</td>\n",
       "      <td>119.616380</td>\n",
       "      <td>85.134950</td>\n",
       "      <td>79.455239</td>\n",
       "      <td>122.020960</td>\n",
       "      <td>82.343346</td>\n",
       "      <td>110.569933</td>\n",
       "      <td>97.364496</td>\n",
       "      <td>112.057197</td>\n",
       "      <td>96.963294</td>\n",
       "      <td>52.876331</td>\n",
       "      <td>50.799575</td>\n",
       "      <td>47.803913</td>\n",
       "      <td>98.636267</td>\n",
       "      <td>44.967605</td>\n",
       "      <td>35.657380</td>\n",
       "      <td>1.2138</td>\n",
       "      <td>80.913490</td>\n",
       "      <td>80.552711</td>\n",
       "      <td>93.956467</td>\n",
       "      <td>NaN</td>\n",
       "      <td>93.440903</td>\n",
       "      <td>NaN</td>\n",
       "      <td>106.062668</td>\n",
       "      <td>109.277710</td>\n",
       "      <td>98.990373</td>\n",
       "      <td>118.252278</td>\n",
       "      <td>132.988922</td>\n",
       "      <td>122.136575</td>\n",
       "      <td>143.248734</td>\n",
       "      <td>100.978699</td>\n",
       "      <td>119.499107</td>\n",
       "      <td>NaN</td>\n",
       "      <td>61.276596</td>\n",
       "      <td>128.849416</td>\n",
       "      <td>144.315308</td>\n",
       "      <td>116.655248</td>\n",
       "      <td>118.458710</td>\n",
       "      <td>95.401802</td>\n",
       "    </tr>\n",
       "  </tbody>\n",
       "</table>\n",
       "</div>"
      ],
      "text/plain": [
       "      date  China_Production  China_Shipment  France_Production  \\\n",
       "0   2004m2         16.940704       16.940704         112.091273   \n",
       "1   2004m3         23.711852       23.711852         136.327976   \n",
       "2   2004m4         24.435235       24.435235         117.791806   \n",
       "3   2004m5         23.708115       23.708115         109.002541   \n",
       "4   2004m6         27.009138       27.009138         133.785737   \n",
       "\n",
       "   France_Shipment  Germany_Production  Germany_Shipment  Italy_Production  \\\n",
       "0        83.458866           82.623037         79.452532        124.289603   \n",
       "1       106.168192          100.556582         97.012918        143.411662   \n",
       "2        92.007646           89.653203         84.932358        129.083828   \n",
       "3        85.696486           86.880571         82.372794        135.590391   \n",
       "4       106.641482           99.010814         95.108740        136.424935   \n",
       "\n",
       "   Italy_Shipment  Japan_Production  Japan_Shipment  Switzerland_Production  \\\n",
       "0       86.560493        109.334010      110.495272               91.221862   \n",
       "1      106.344544        140.884616      144.686166               85.866287   \n",
       "2       95.579673        105.853579      102.655769               85.622508   \n",
       "3      100.087039        101.864777      100.305285               85.378729   \n",
       "4      110.889719        120.332920      119.616380               85.134950   \n",
       "\n",
       "   Switzerland_Shipment  UK_Production  UK_Shipment  US_Production  \\\n",
       "0             89.987275     111.353812    73.601265     107.601400   \n",
       "1             79.883583     127.558608    84.047595     110.187364   \n",
       "2             79.740802     108.732297    73.026027     108.166564   \n",
       "3             79.598021     110.645200    74.591883     108.425887   \n",
       "4             79.455239     122.020960    82.343346     110.569933   \n",
       "\n",
       "   US_Shipment  Europe_Production  Europe_Shipment  Base_Metal_Price  \\\n",
       "0    79.240230          97.122911        80.098530         54.039811   \n",
       "1    98.619024         113.783904        96.015929         54.666162   \n",
       "2    89.774031         101.715199        85.167236         54.872715   \n",
       "3    87.463813         101.275727        84.485767         51.230356   \n",
       "4    97.364496         112.057197        96.963294         52.876331   \n",
       "\n",
       "   Energy_Price  Metal_and_Minerals_Price  Natural_Gas_Price  \\\n",
       "0     44.123338                 48.747945          87.076974   \n",
       "1     47.588957                 49.256157          87.192705   \n",
       "2     47.779013                 49.423751          91.379923   \n",
       "3     53.590898                 46.468392          99.044520   \n",
       "4     50.799575                 47.803913          98.636267   \n",
       "\n",
       "   Crude_oil_avg_Price  Copper_price  LCU_EUR  \\\n",
       "0            39.639458     36.623832   1.2646   \n",
       "1            42.592034     39.931055   1.2262   \n",
       "2            42.650637     39.134854   1.1985   \n",
       "3            47.517121     36.278433   1.2007   \n",
       "4            44.967605     35.657380   1.2138   \n",
       "\n",
       "   US_Producer_Price_Electrical_equip  UK_Producer_Price_Electrical_equip  \\\n",
       "0                           78.969864                           80.757423   \n",
       "1                           79.673569                           80.962135   \n",
       "2                           80.337639                           80.757423   \n",
       "3                           80.798828                           80.757423   \n",
       "4                           80.913490                           80.552711   \n",
       "\n",
       "   Italy_Producer_Price_Electrical_equip  \\\n",
       "0                              93.020027   \n",
       "1                              93.540268   \n",
       "2                              93.852425   \n",
       "3                              93.852425   \n",
       "4                              93.956467   \n",
       "\n",
       "   France_Producer_Price_Electrical_equip  \\\n",
       "0                                     NaN   \n",
       "1                                     NaN   \n",
       "2                                     NaN   \n",
       "3                                     NaN   \n",
       "4                                     NaN   \n",
       "\n",
       "   Germany_Producer_Price_Electrical_equip  \\\n",
       "0                                93.230453   \n",
       "1                                93.335678   \n",
       "2                                93.440903   \n",
       "3                                93.546127   \n",
       "4                                93.440903   \n",
       "\n",
       "   China_Producer_Price_Electrical_equip  \\\n",
       "0                                    NaN   \n",
       "1                                    NaN   \n",
       "2                                    NaN   \n",
       "3                                    NaN   \n",
       "4                                    NaN   \n",
       "\n",
       "   US_Production_Index_Machinery_and_equip  \\\n",
       "0                               102.491722   \n",
       "1                               105.627480   \n",
       "2                               103.484955   \n",
       "3                               103.643944   \n",
       "4                               106.062668   \n",
       "\n",
       "   World_Production_Index_Machinery_and_equip  \\\n",
       "0                                   97.597374   \n",
       "1                                  113.224892   \n",
       "2                                  100.169090   \n",
       "3                                   99.581436   \n",
       "4                                  109.277710   \n",
       "\n",
       "   Switzerland_Production_Index_Machinery_and_equip  \\\n",
       "0                                         97.100000   \n",
       "1                                         91.195116   \n",
       "2                                         93.793535   \n",
       "3                                         96.391954   \n",
       "4                                         98.990373   \n",
       "\n",
       "   UK_Production_Index_Machinery_and_equip  \\\n",
       "0                               106.191977   \n",
       "1                               121.625075   \n",
       "2                               104.965505   \n",
       "3                               105.885359   \n",
       "4                               118.252278   \n",
       "\n",
       "   Italy_Production_Index_Machinery_and_equip  \\\n",
       "0                                  116.790276   \n",
       "1                                  139.288391   \n",
       "2                                  125.289566   \n",
       "3                                  131.988998   \n",
       "4                                  132.988922   \n",
       "\n",
       "   Japan_Production_Index_Machinery_and_equip  \\\n",
       "0                                  110.890034   \n",
       "1                                  141.176853   \n",
       "2                                  105.648765   \n",
       "3                                  101.990361   \n",
       "4                                  122.136575   \n",
       "\n",
       "   France_Production_Index_Machinery_and_equip  \\\n",
       "0                                   118.274109   \n",
       "1                                   148.121841   \n",
       "2                                   125.482231   \n",
       "3                                   116.649750   \n",
       "4                                   143.248734   \n",
       "\n",
       "   Germany_Production_Index_Machinery_and_equip  \\\n",
       "0                                     80.829010   \n",
       "1                                    102.130104   \n",
       "2                                     90.961426   \n",
       "3                                     88.082901   \n",
       "4                                    100.978699   \n",
       "\n",
       "   US_Production_Index_Electrical_equip  \\\n",
       "0                            117.723991   \n",
       "1                            119.220779   \n",
       "2                            117.441124   \n",
       "3                            117.899216   \n",
       "4                            119.499107   \n",
       "\n",
       "   World_Production_Index_Electrical_equip  \\\n",
       "0                                      NaN   \n",
       "1                                      NaN   \n",
       "2                                      NaN   \n",
       "3                                      NaN   \n",
       "4                                      NaN   \n",
       "\n",
       "   Switzerland_Production_Index_Electrical_equip  \\\n",
       "0                                      81.100000   \n",
       "1                                      76.690307   \n",
       "2                                      71.552403   \n",
       "3                                      66.414500   \n",
       "4                                      61.276596   \n",
       "\n",
       "   UK_Production_Index_Electrical_equip  \\\n",
       "0                            120.706516   \n",
       "1                            138.309550   \n",
       "2                            115.557330   \n",
       "3                            119.269534   \n",
       "4                            128.849416   \n",
       "\n",
       "   Italy_Production_Index_Electrical_equip  \\\n",
       "0                               141.510864   \n",
       "1                               152.880234   \n",
       "2                               137.796875   \n",
       "3                               143.860535   \n",
       "4                               144.315308   \n",
       "\n",
       "   Japan_Production_Index_Electrical_equip  \\\n",
       "0                               106.161262   \n",
       "1                               140.288741   \n",
       "2                               106.271197   \n",
       "3                               101.608710   \n",
       "4                               116.655248   \n",
       "\n",
       "   France_Production_Index_Electrical_equip  \\\n",
       "0                                102.077057   \n",
       "1                                117.225685   \n",
       "2                                105.335777   \n",
       "3                                 96.616508   \n",
       "4                                118.458710   \n",
       "\n",
       "   Germany_Production_Index_Electrical_equip  \n",
       "0                                  85.913200  \n",
       "1                                  97.670815  \n",
       "2                                  87.253983  \n",
       "3                                  84.675552  \n",
       "4                                  95.401802  "
      ]
     },
     "execution_count": 422,
     "metadata": {},
     "output_type": "execute_result"
    }
   ],
   "source": [
    "df_market = pd.read_excel('Data/Case2_Market data.xlsx', sheet_name=\"Adapted Features\")\n",
    "df_market.head()"
   ]
  },
  {
   "cell_type": "markdown",
   "metadata": {},
   "source": [
    "Now, we want to set the column date as the index in the dataframe df_market, as this column is supposed to identify an individual time period. However, first, to ensure we don't lose any important rows due to identifier mistakes, we will check if this column only contains unique values:"
   ]
  },
  {
   "cell_type": "code",
   "execution_count": 423,
   "metadata": {},
   "outputs": [
    {
     "name": "stdout",
     "output_type": "stream",
     "text": [
      "The date column has 219 unique values,\n",
      "and the dataframe df_market has 219 rows.\n",
      "All date values are unique.\n"
     ]
    }
   ],
   "source": [
    "unique_reservations = df_market['date'].nunique()\n",
    "total_rows = len(df_market)\n",
    "\n",
    "print(f\"The date column has {unique_reservations}\"\n",
    "      f\" unique values,\\nand the dataframe df_market has {total_rows} rows.\")\n",
    "if unique_reservations == total_rows:\n",
    "    print(\"All date values are unique.\")\n",
    "else:\n",
    "    print(\"There are duplicate date values.\")"
   ]
  },
  {
   "cell_type": "code",
   "execution_count": 424,
   "metadata": {},
   "outputs": [],
   "source": [
    "df_market.set_index('date', inplace = True)"
   ]
  },
  {
   "cell_type": "code",
   "execution_count": 425,
   "metadata": {},
   "outputs": [
    {
     "data": {
      "text/plain": [
       "(219, 47)"
      ]
     },
     "execution_count": 425,
     "metadata": {},
     "output_type": "execute_result"
    }
   ],
   "source": [
    "df_market.shape"
   ]
  },
  {
   "cell_type": "markdown",
   "metadata": {},
   "source": [
    "#### df_sales"
   ]
  },
  {
   "cell_type": "code",
   "execution_count": 426,
   "metadata": {},
   "outputs": [
    {
     "data": {
      "text/html": [
       "<div>\n",
       "<style scoped>\n",
       "    .dataframe tbody tr th:only-of-type {\n",
       "        vertical-align: middle;\n",
       "    }\n",
       "\n",
       "    .dataframe tbody tr th {\n",
       "        vertical-align: top;\n",
       "    }\n",
       "\n",
       "    .dataframe thead th {\n",
       "        text-align: right;\n",
       "    }\n",
       "</style>\n",
       "<table border=\"1\" class=\"dataframe\">\n",
       "  <thead>\n",
       "    <tr style=\"text-align: right;\">\n",
       "      <th></th>\n",
       "      <th>DATE</th>\n",
       "      <th>Mapped_GCK</th>\n",
       "      <th>Sales_EUR</th>\n",
       "    </tr>\n",
       "  </thead>\n",
       "  <tbody>\n",
       "    <tr>\n",
       "      <th>0</th>\n",
       "      <td>01.10.2018</td>\n",
       "      <td>#1</td>\n",
       "      <td>0</td>\n",
       "    </tr>\n",
       "    <tr>\n",
       "      <th>1</th>\n",
       "      <td>02.10.2018</td>\n",
       "      <td>#1</td>\n",
       "      <td>0</td>\n",
       "    </tr>\n",
       "    <tr>\n",
       "      <th>2</th>\n",
       "      <td>03.10.2018</td>\n",
       "      <td>#1</td>\n",
       "      <td>0</td>\n",
       "    </tr>\n",
       "    <tr>\n",
       "      <th>3</th>\n",
       "      <td>04.10.2018</td>\n",
       "      <td>#1</td>\n",
       "      <td>0</td>\n",
       "    </tr>\n",
       "    <tr>\n",
       "      <th>4</th>\n",
       "      <td>05.10.2018</td>\n",
       "      <td>#1</td>\n",
       "      <td>0</td>\n",
       "    </tr>\n",
       "  </tbody>\n",
       "</table>\n",
       "</div>"
      ],
      "text/plain": [
       "         DATE Mapped_GCK Sales_EUR\n",
       "0  01.10.2018         #1         0\n",
       "1  02.10.2018         #1         0\n",
       "2  03.10.2018         #1         0\n",
       "3  04.10.2018         #1         0\n",
       "4  05.10.2018         #1         0"
      ]
     },
     "execution_count": 426,
     "metadata": {},
     "output_type": "execute_result"
    }
   ],
   "source": [
    "df_sales = pd.read_csv('Data/Case2_Sales data.csv', delimiter=';')\n",
    "df_sales.head()"
   ]
  },
  {
   "cell_type": "code",
   "execution_count": 427,
   "metadata": {},
   "outputs": [
    {
     "data": {
      "text/plain": [
       "(9802, 3)"
      ]
     },
     "execution_count": 427,
     "metadata": {},
     "output_type": "execute_result"
    }
   ],
   "source": [
    "df_sales.shape"
   ]
  },
  {
   "cell_type": "markdown",
   "metadata": {},
   "source": [
    "#### df_test"
   ]
  },
  {
   "cell_type": "code",
   "execution_count": 428,
   "metadata": {},
   "outputs": [
    {
     "data": {
      "text/html": [
       "<div>\n",
       "<style scoped>\n",
       "    .dataframe tbody tr th:only-of-type {\n",
       "        vertical-align: middle;\n",
       "    }\n",
       "\n",
       "    .dataframe tbody tr th {\n",
       "        vertical-align: top;\n",
       "    }\n",
       "\n",
       "    .dataframe thead th {\n",
       "        text-align: right;\n",
       "    }\n",
       "</style>\n",
       "<table border=\"1\" class=\"dataframe\">\n",
       "  <thead>\n",
       "    <tr style=\"text-align: right;\">\n",
       "      <th></th>\n",
       "      <th>Month Year</th>\n",
       "      <th>Mapped_GCK</th>\n",
       "      <th>Sales_EUR</th>\n",
       "    </tr>\n",
       "  </thead>\n",
       "  <tbody>\n",
       "    <tr>\n",
       "      <th>0</th>\n",
       "      <td>Mai 22</td>\n",
       "      <td>#3</td>\n",
       "      <td>NaN</td>\n",
       "    </tr>\n",
       "    <tr>\n",
       "      <th>1</th>\n",
       "      <td>Jun 22</td>\n",
       "      <td>#3</td>\n",
       "      <td>NaN</td>\n",
       "    </tr>\n",
       "    <tr>\n",
       "      <th>2</th>\n",
       "      <td>Jul 22</td>\n",
       "      <td>#3</td>\n",
       "      <td>NaN</td>\n",
       "    </tr>\n",
       "    <tr>\n",
       "      <th>3</th>\n",
       "      <td>Aug 22</td>\n",
       "      <td>#3</td>\n",
       "      <td>NaN</td>\n",
       "    </tr>\n",
       "    <tr>\n",
       "      <th>4</th>\n",
       "      <td>Sep 22</td>\n",
       "      <td>#3</td>\n",
       "      <td>NaN</td>\n",
       "    </tr>\n",
       "  </tbody>\n",
       "</table>\n",
       "</div>"
      ],
      "text/plain": [
       "  Month Year Mapped_GCK  Sales_EUR\n",
       "0     Mai 22         #3        NaN\n",
       "1     Jun 22         #3        NaN\n",
       "2     Jul 22         #3        NaN\n",
       "3     Aug 22         #3        NaN\n",
       "4     Sep 22         #3        NaN"
      ]
     },
     "execution_count": 428,
     "metadata": {},
     "output_type": "execute_result"
    }
   ],
   "source": [
    "df_test = pd.read_csv('Data/Case2_Test Set Template.csv', delimiter=';')\n",
    "df_test.head()"
   ]
  },
  {
   "cell_type": "code",
   "execution_count": 429,
   "metadata": {},
   "outputs": [
    {
     "data": {
      "text/plain": [
       "(140, 3)"
      ]
     },
     "execution_count": 429,
     "metadata": {},
     "output_type": "execute_result"
    }
   ],
   "source": [
    "df_test.shape"
   ]
  },
  {
   "cell_type": "markdown",
   "metadata": {},
   "source": [
    "# <span style=\"font-size: 38px; background-color:#235987; padding:5px; border-radius:5px;\">**Sales**</span> <a id='Data-TypesDU'></a>"
   ]
  },
  {
   "cell_type": "markdown",
   "metadata": {},
   "source": [
    "# <span style=\"font-size: 27px; background-color:#235987; padding:5px; border-radius:5px;\">**Data Exploration**</span> <a id='Data-TypesDU'></a>"
   ]
  },
  {
   "cell_type": "markdown",
   "metadata": {},
   "source": [
    "---\n",
    "#### <span style=\"background-color:#235987; padding:5px; border-radius:5px;\">**Data Types**</span> <a id='Data-TypesDU'></a>  \n",
    "_By reducing memory consumption, we can enhance the performance of subsequent sections, including **feature engineering, clustering algorithms, and distance-based models**._   \n",
    "\n",
    "##### Click [here](#table-of-contents) ⬆️ to return to the Index."
   ]
  },
  {
   "cell_type": "code",
   "execution_count": 430,
   "metadata": {},
   "outputs": [
    {
     "name": "stdout",
     "output_type": "stream",
     "text": [
      "<class 'pandas.core.frame.DataFrame'>\n",
      "RangeIndex: 9802 entries, 0 to 9801\n",
      "Data columns (total 3 columns):\n",
      " #   Column      Non-Null Count  Dtype \n",
      "---  ------      --------------  ----- \n",
      " 0   DATE        9802 non-null   object\n",
      " 1   Mapped_GCK  9802 non-null   object\n",
      " 2   Sales_EUR   9802 non-null   object\n",
      "dtypes: object(3)\n",
      "memory usage: 229.9+ KB\n"
     ]
    }
   ],
   "source": [
    "df_sales.info()"
   ]
  },
  {
   "cell_type": "markdown",
   "metadata": {},
   "source": [
    "**Note:** The columns datatyes are not optimize, in data preparation is important to convert:\n",
    "- `Date` to dd-mm-yyyy (datetime format)\n",
    "- `Sales_EUR` to float\n",
    "- `Mapped_GCK` to int (removing the character #)\n",
    "\n",
    "Right now we have a memory usage of 229.9+ KB, but we can clearly see that these three columns can be optimized."
   ]
  },
  {
   "cell_type": "markdown",
   "metadata": {},
   "source": [
    "---\n",
    "#### <span style=\"background-color:#235987; padding:5px; border-radius:5px;\">**Descriptive Summary**</span> <a id='Descriptive-Summary'></a>  \n",
    "_A detailed summary of the variables, including their central tendency, dispersion, and distribution._  \n",
    "\n",
    "##### Click [here](#table-of-contents) ⬆️ to return to the Index."
   ]
  },
  {
   "cell_type": "code",
   "execution_count": 431,
   "metadata": {},
   "outputs": [
    {
     "data": {
      "text/html": [
       "<div>\n",
       "<style scoped>\n",
       "    .dataframe tbody tr th:only-of-type {\n",
       "        vertical-align: middle;\n",
       "    }\n",
       "\n",
       "    .dataframe tbody tr th {\n",
       "        vertical-align: top;\n",
       "    }\n",
       "\n",
       "    .dataframe thead th {\n",
       "        text-align: right;\n",
       "    }\n",
       "</style>\n",
       "<table border=\"1\" class=\"dataframe\">\n",
       "  <thead>\n",
       "    <tr style=\"text-align: right;\">\n",
       "      <th></th>\n",
       "      <th>count</th>\n",
       "      <th>unique</th>\n",
       "      <th>top</th>\n",
       "      <th>freq</th>\n",
       "    </tr>\n",
       "  </thead>\n",
       "  <tbody>\n",
       "    <tr>\n",
       "      <th>DATE</th>\n",
       "      <td>9802</td>\n",
       "      <td>1216</td>\n",
       "      <td>16.04.2021</td>\n",
       "      <td>14</td>\n",
       "    </tr>\n",
       "    <tr>\n",
       "      <th>Mapped_GCK</th>\n",
       "      <td>9802</td>\n",
       "      <td>14</td>\n",
       "      <td>#1</td>\n",
       "      <td>1179</td>\n",
       "    </tr>\n",
       "    <tr>\n",
       "      <th>Sales_EUR</th>\n",
       "      <td>9802</td>\n",
       "      <td>2609</td>\n",
       "      <td>0</td>\n",
       "      <td>7134</td>\n",
       "    </tr>\n",
       "  </tbody>\n",
       "</table>\n",
       "</div>"
      ],
      "text/plain": [
       "           count unique         top  freq\n",
       "DATE        9802   1216  16.04.2021    14\n",
       "Mapped_GCK  9802     14          #1  1179\n",
       "Sales_EUR   9802   2609           0  7134"
      ]
     },
     "execution_count": 431,
     "metadata": {},
     "output_type": "execute_result"
    }
   ],
   "source": [
    "# Summary statistics for numeric columns\n",
    "df_sales.describe().T"
   ]
  },
  {
   "cell_type": "code",
   "execution_count": 432,
   "metadata": {},
   "outputs": [
    {
     "name": "stdout",
     "output_type": "stream",
     "text": [
      "Unique products: ['#1', '#11', '#6', '#8', '#12', '#16', '#4', '#5', '#3', '#9', '#14', '#13', '#20', '#36']\n"
     ]
    }
   ],
   "source": [
    "# Check unique products\n",
    "print('Unique products:', list(df_sales['Mapped_GCK'].unique()))"
   ]
  },
  {
   "cell_type": "markdown",
   "metadata": {},
   "source": [
    "---\n",
    "#### <span style=\"background-color:#235987; padding:5px; border-radius:5px;\">**Missing Values**</span> <a id='missing-valuesDU'></a>  \n",
    "_Identifying missing values and assessing their impact on data quality and analysis._\n",
    "\n",
    "##### Click [here](#table-of-contents) ⬆️ to return to the Index."
   ]
  },
  {
   "cell_type": "code",
   "execution_count": 433,
   "metadata": {},
   "outputs": [
    {
     "data": {
      "text/html": [
       "<div>\n",
       "<style scoped>\n",
       "    .dataframe tbody tr th:only-of-type {\n",
       "        vertical-align: middle;\n",
       "    }\n",
       "\n",
       "    .dataframe tbody tr th {\n",
       "        vertical-align: top;\n",
       "    }\n",
       "\n",
       "    .dataframe thead th {\n",
       "        text-align: right;\n",
       "    }\n",
       "</style>\n",
       "<table border=\"1\" class=\"dataframe\">\n",
       "  <thead>\n",
       "    <tr style=\"text-align: right;\">\n",
       "      <th></th>\n",
       "      <th>Total</th>\n",
       "      <th>Percentage</th>\n",
       "    </tr>\n",
       "  </thead>\n",
       "  <tbody>\n",
       "    <tr>\n",
       "      <th>DATE</th>\n",
       "      <td>0</td>\n",
       "      <td>0.0%</td>\n",
       "    </tr>\n",
       "    <tr>\n",
       "      <th>Mapped_GCK</th>\n",
       "      <td>0</td>\n",
       "      <td>0.0%</td>\n",
       "    </tr>\n",
       "    <tr>\n",
       "      <th>Sales_EUR</th>\n",
       "      <td>0</td>\n",
       "      <td>0.0%</td>\n",
       "    </tr>\n",
       "  </tbody>\n",
       "</table>\n",
       "</div>"
      ],
      "text/plain": [
       "            Total Percentage\n",
       "DATE            0       0.0%\n",
       "Mapped_GCK      0       0.0%\n",
       "Sales_EUR       0       0.0%"
      ]
     },
     "execution_count": 433,
     "metadata": {},
     "output_type": "execute_result"
    }
   ],
   "source": [
    "# Checking missing values - Code adapted from prev notebook\n",
    "missing_values = df_sales.isnull().sum().to_frame(name='Total')\n",
    "missing_values['Percentage'] = (missing_values['Total'] / len(df_sales) * 100).round(2).astype(str) + '%'\n",
    "missing_values.sort_values(by='Total', ascending=False, inplace=True)\n",
    "missing_values"
   ]
  },
  {
   "cell_type": "markdown",
   "metadata": {},
   "source": [
    "The columns of this dataframe don't have missing values."
   ]
  },
  {
   "cell_type": "markdown",
   "metadata": {},
   "source": [
    "---\n",
    "#### <span style=\"background-color:#235987; padding:5px; border-radius:5px;\">**Inconsistencies**</span> <a id='inconsistenciesDU'></a>  \n",
    "_Checking for inconsistencies in data, such as incorrect formats, out-of-range values, or logical errors._ \n",
    "\n",
    "##### Click [here](#table-of-contents) ⬆️ to return to the Index."
   ]
  },
  {
   "cell_type": "markdown",
   "metadata": {},
   "source": [
    "- `Sales_EUR` == 0:"
   ]
  },
  {
   "cell_type": "code",
   "execution_count": 434,
   "metadata": {},
   "outputs": [
    {
     "data": {
      "text/plain": [
       "9802"
      ]
     },
     "execution_count": 434,
     "metadata": {},
     "output_type": "execute_result"
    }
   ],
   "source": [
    "len(df_sales['Sales_EUR'] == 0)"
   ]
  },
  {
   "cell_type": "markdown",
   "metadata": {},
   "source": [
    "We have 9802 rows where sales are 0, which means 'no sales' so we should delete these cases."
   ]
  },
  {
   "cell_type": "code",
   "execution_count": 435,
   "metadata": {},
   "outputs": [],
   "source": [
    "df_sales.drop(df_sales[df_sales['Sales_EUR'] == '0'].index, inplace=True)"
   ]
  },
  {
   "cell_type": "markdown",
   "metadata": {},
   "source": [
    "- `Sales_EUR` < 0:"
   ]
  },
  {
   "cell_type": "code",
   "execution_count": 436,
   "metadata": {},
   "outputs": [],
   "source": [
    "negative_values = df_sales[pd.to_numeric(df_sales['Sales_EUR'], errors='coerce') < 0]"
   ]
  },
  {
   "cell_type": "markdown",
   "metadata": {},
   "source": [
    "This negative values can be errors but can also represent returns or discounts, so we should keep them."
   ]
  },
  {
   "cell_type": "markdown",
   "metadata": {},
   "source": [
    "# <span style=\"font-size: 27px; background-color:#235987; padding:5px; border-radius:5px;\">**Data Preparation**</span> <a id='Data-TypesDU'></a>"
   ]
  },
  {
   "cell_type": "code",
   "execution_count": 437,
   "metadata": {},
   "outputs": [],
   "source": [
    "# convert DATE to datetime format\n",
    "df_sales['month_year'] = pd.to_datetime(df_sales['DATE'], format='%d.%m.%Y').dt.to_period('M')"
   ]
  },
  {
   "cell_type": "code",
   "execution_count": 438,
   "metadata": {},
   "outputs": [],
   "source": [
    "# convert Sales_EUR to float\n",
    "df_sales['Sales_EUR'] = df_sales['Sales_EUR'].str.replace(',', '.').astype(float)"
   ]
  },
  {
   "cell_type": "code",
   "execution_count": 439,
   "metadata": {},
   "outputs": [],
   "source": [
    "# convert Mapped_GCK\n",
    "df_sales['Mapped_GCK'] = df_sales['Mapped_GCK'].str.replace(\"#\", \"\").astype(int)"
   ]
  },
  {
   "cell_type": "code",
   "execution_count": 440,
   "metadata": {},
   "outputs": [],
   "source": [
    "# Get unique values of 'Mapped_GCK'\n",
    "unique_values = df_sales['Mapped_GCK'].unique()\n",
    "\n",
    "# Create individual dataframes for each unique value of 'Mapped_GCK'\n",
    "for val in unique_values:\n",
    "    globals()['df_' + str(val)] = df_sales[df_sales['Mapped_GCK'] == val].reset_index(drop=True)"
   ]
  },
  {
   "cell_type": "markdown",
   "metadata": {},
   "source": [
    "Now we will aggregate sales by the same month and year according to each `Mapped_GCK` and for each unique combination of month_year, the total sales (Sales_EUR) are aggregated."
   ]
  },
  {
   "cell_type": "code",
   "execution_count": 441,
   "metadata": {},
   "outputs": [],
   "source": [
    "df_1['month_year'] = pd.to_datetime(df_1['DATE'], format='%d.%m.%Y').dt.to_period('M')\n",
    "df_1 = pd.DataFrame(df_1.groupby('month_year')['Sales_EUR'].sum())\n",
    "df_1 = df_1.rename(columns={'Sales_EUR': 'P1'})\n",
    "\n",
    "df_3['month_year'] = pd.to_datetime(df_3['DATE'], format='%d.%m.%Y').dt.to_period('M')\n",
    "df_3 = pd.DataFrame(df_3.groupby('month_year')['Sales_EUR'].sum())\n",
    "df_3 = df_3.rename(columns={'Sales_EUR': 'P3'})\n",
    "\n",
    "df_4['month_year'] = pd.to_datetime(df_4['DATE'], format='%d.%m.%Y').dt.to_period('M')\n",
    "df_4 = pd.DataFrame(df_4.groupby('month_year')['Sales_EUR'].sum())\n",
    "df_4 = df_4.rename(columns={'Sales_EUR': 'P4'})\n",
    "\n",
    "df_5['month_year'] = pd.to_datetime(df_5['DATE'], format='%d.%m.%Y').dt.to_period('M')\n",
    "df_5 = pd.DataFrame(df_5.groupby('month_year')['Sales_EUR'].sum())\n",
    "df_5 = df_5.rename(columns={'Sales_EUR': 'P5'})\n",
    "\n",
    "df_6['month_year'] = pd.to_datetime(df_6['DATE'], format='%d.%m.%Y').dt.to_period('M')\n",
    "df_6 = pd.DataFrame(df_6.groupby('month_year')['Sales_EUR'].sum())\n",
    "df_6 = df_6.rename(columns={'Sales_EUR': 'P6'})\n",
    "\n",
    "df_8['month_year'] = pd.to_datetime(df_8['DATE'], format='%d.%m.%Y').dt.to_period('M')\n",
    "df_8 = pd.DataFrame(df_8.groupby('month_year')['Sales_EUR'].sum())\n",
    "df_8 = df_8.rename(columns={'Sales_EUR': 'P8'})\n",
    "\n",
    "df_9['month_year'] = pd.to_datetime(df_9['DATE'], format='%d.%m.%Y').dt.to_period('M')\n",
    "df_9 = pd.DataFrame(df_9.groupby('month_year')['Sales_EUR'].sum())\n",
    "df_9 = df_9.rename(columns={'Sales_EUR': 'P9'})\n",
    "\n",
    "df_11['month_year'] = pd.to_datetime(df_11['DATE'], format='%d.%m.%Y').dt.to_period('M')\n",
    "df_11 = pd.DataFrame(df_11.groupby('month_year')['Sales_EUR'].sum())\n",
    "df_11 = df_11.rename(columns={'Sales_EUR': 'P11'})\n",
    "\n",
    "df_12['month_year'] = pd.to_datetime(df_12['DATE'], format='%d.%m.%Y').dt.to_period('M')\n",
    "df_12 = pd.DataFrame(df_12.groupby('month_year')['Sales_EUR'].sum())\n",
    "df_12 = df_12.rename(columns={'Sales_EUR': 'P12'})\n",
    "\n",
    "df_13['month_year'] = pd.to_datetime(df_13['DATE'], format='%d.%m.%Y').dt.to_period('M')\n",
    "df_13 = pd.DataFrame(df_13.groupby('month_year')['Sales_EUR'].sum())\n",
    "df_13 = df_13.rename(columns={'Sales_EUR': 'P13'})\n",
    "\n",
    "df_14['month_year'] = pd.to_datetime(df_14['DATE'], format='%d.%m.%Y').dt.to_period('M')\n",
    "df_14 = pd.DataFrame(df_14.groupby('month_year')['Sales_EUR'].sum())\n",
    "df_14 = df_14.rename(columns={'Sales_EUR': 'P14'})\n",
    "\n",
    "df_16['month_year'] = pd.to_datetime(df_16['DATE'], format='%d.%m.%Y').dt.to_period('M')\n",
    "df_16 = pd.DataFrame(df_16.groupby('month_year')['Sales_EUR'].sum())\n",
    "df_16 = df_16.rename(columns={'Sales_EUR': 'P16'})\n",
    "\n",
    "df_20['month_year'] = pd.to_datetime(df_20['DATE'], format='%d.%m.%Y').dt.to_period('M')\n",
    "df_20 = pd.DataFrame(df_20.groupby('month_year')['Sales_EUR'].sum())\n",
    "df_20 = df_20.rename(columns={'Sales_EUR': 'P20'})\n",
    "\n",
    "df_36['month_year'] = pd.to_datetime(df_36['DATE'], format='%d.%m.%Y').dt.to_period('M')\n",
    "df_36 = pd.DataFrame(df_36.groupby('month_year')['Sales_EUR'].sum())\n",
    "df_36 = df_36.rename(columns={'Sales_EUR': 'P36'})"
   ]
  },
  {
   "cell_type": "code",
   "execution_count": 442,
   "metadata": {},
   "outputs": [
    {
     "data": {
      "text/html": [
       "<div>\n",
       "<style scoped>\n",
       "    .dataframe tbody tr th:only-of-type {\n",
       "        vertical-align: middle;\n",
       "    }\n",
       "\n",
       "    .dataframe tbody tr th {\n",
       "        vertical-align: top;\n",
       "    }\n",
       "\n",
       "    .dataframe thead th {\n",
       "        text-align: right;\n",
       "    }\n",
       "</style>\n",
       "<table border=\"1\" class=\"dataframe\">\n",
       "  <thead>\n",
       "    <tr style=\"text-align: right;\">\n",
       "      <th></th>\n",
       "      <th>P1</th>\n",
       "    </tr>\n",
       "    <tr>\n",
       "      <th>month_year</th>\n",
       "      <th></th>\n",
       "    </tr>\n",
       "  </thead>\n",
       "  <tbody>\n",
       "    <tr>\n",
       "      <th>2018-10</th>\n",
       "      <td>36098918.79</td>\n",
       "    </tr>\n",
       "    <tr>\n",
       "      <th>2018-11</th>\n",
       "      <td>5140760.00</td>\n",
       "    </tr>\n",
       "    <tr>\n",
       "      <th>2018-12</th>\n",
       "      <td>37889612.12</td>\n",
       "    </tr>\n",
       "    <tr>\n",
       "      <th>2019-01</th>\n",
       "      <td>27728148.35</td>\n",
       "    </tr>\n",
       "    <tr>\n",
       "      <th>2019-02</th>\n",
       "      <td>34793163.53</td>\n",
       "    </tr>\n",
       "  </tbody>\n",
       "</table>\n",
       "</div>"
      ],
      "text/plain": [
       "                     P1\n",
       "month_year             \n",
       "2018-10     36098918.79\n",
       "2018-11      5140760.00\n",
       "2018-12     37889612.12\n",
       "2019-01     27728148.35\n",
       "2019-02     34793163.53"
      ]
     },
     "execution_count": 442,
     "metadata": {},
     "output_type": "execute_result"
    }
   ],
   "source": [
    "df_1.head()"
   ]
  },
  {
   "cell_type": "code",
   "execution_count": 443,
   "metadata": {},
   "outputs": [],
   "source": [
    "#Assign the values of each dataframe to the main dataframe\n",
    "df_sales = df_1\n",
    "df_sales['P3'] = df_3['P3']\n",
    "df_sales['P4'] = df_4['P4']\n",
    "df_sales['P5'] = df_5['P5']\n",
    "df_sales['P6'] = df_6['P6']\n",
    "df_sales['P8'] = df_8['P8']\n",
    "df_sales['P9'] = df_9['P9']\n",
    "df_sales['P11'] = df_11['P11']\n",
    "df_sales['P12'] = df_12['P12']\n",
    "df_sales['P13'] = df_13['P13']\n",
    "df_sales['P14'] = df_14['P14']\n",
    "df_sales['P16'] = df_16['P16']\n",
    "df_sales['P20'] = df_20['P20']\n",
    "df_sales['P36'] = df_36['P36']\n",
    "\n",
    "# Calculate the sum of each row in df_sales and assign it to a new column 'Sales_EUR'\n",
    "df_sales['Sales_EUR'] = df_sales.sum(axis=1)"
   ]
  },
  {
   "cell_type": "code",
   "execution_count": 444,
   "metadata": {},
   "outputs": [
    {
     "data": {
      "text/html": [
       "<div>\n",
       "<style scoped>\n",
       "    .dataframe tbody tr th:only-of-type {\n",
       "        vertical-align: middle;\n",
       "    }\n",
       "\n",
       "    .dataframe tbody tr th {\n",
       "        vertical-align: top;\n",
       "    }\n",
       "\n",
       "    .dataframe thead th {\n",
       "        text-align: right;\n",
       "    }\n",
       "</style>\n",
       "<table border=\"1\" class=\"dataframe\">\n",
       "  <thead>\n",
       "    <tr style=\"text-align: right;\">\n",
       "      <th></th>\n",
       "      <th>P1</th>\n",
       "      <th>P3</th>\n",
       "      <th>P4</th>\n",
       "      <th>P5</th>\n",
       "      <th>P6</th>\n",
       "      <th>P8</th>\n",
       "      <th>P9</th>\n",
       "      <th>P11</th>\n",
       "      <th>P12</th>\n",
       "      <th>P13</th>\n",
       "      <th>P14</th>\n",
       "      <th>P16</th>\n",
       "      <th>P20</th>\n",
       "      <th>P36</th>\n",
       "      <th>Sales_EUR</th>\n",
       "    </tr>\n",
       "    <tr>\n",
       "      <th>month_year</th>\n",
       "      <th></th>\n",
       "      <th></th>\n",
       "      <th></th>\n",
       "      <th></th>\n",
       "      <th></th>\n",
       "      <th></th>\n",
       "      <th></th>\n",
       "      <th></th>\n",
       "      <th></th>\n",
       "      <th></th>\n",
       "      <th></th>\n",
       "      <th></th>\n",
       "      <th></th>\n",
       "      <th></th>\n",
       "      <th></th>\n",
       "    </tr>\n",
       "  </thead>\n",
       "  <tbody>\n",
       "    <tr>\n",
       "      <th>2018-10</th>\n",
       "      <td>36098918.79</td>\n",
       "      <td>8089465.96</td>\n",
       "      <td>397760.69</td>\n",
       "      <td>2499061.19</td>\n",
       "      <td>369231.60</td>\n",
       "      <td>586052.74</td>\n",
       "      <td>3219.32</td>\n",
       "      <td>1021303.50</td>\n",
       "      <td>28686.33</td>\n",
       "      <td>27666.10</td>\n",
       "      <td>5770.0</td>\n",
       "      <td>333196.87</td>\n",
       "      <td>4563.14</td>\n",
       "      <td>6474.60</td>\n",
       "      <td>49471370.83</td>\n",
       "    </tr>\n",
       "    <tr>\n",
       "      <th>2018-11</th>\n",
       "      <td>5140760.00</td>\n",
       "      <td>11863001.51</td>\n",
       "      <td>371322.42</td>\n",
       "      <td>8993944.04</td>\n",
       "      <td>473046.96</td>\n",
       "      <td>526292.77</td>\n",
       "      <td>1875.90</td>\n",
       "      <td>1898844.80</td>\n",
       "      <td>1070.00</td>\n",
       "      <td>68180.00</td>\n",
       "      <td>17130.0</td>\n",
       "      <td>1377694.32</td>\n",
       "      <td>5798.14</td>\n",
       "      <td>21617.61</td>\n",
       "      <td>30760578.47</td>\n",
       "    </tr>\n",
       "    <tr>\n",
       "      <th>2018-12</th>\n",
       "      <td>37889612.12</td>\n",
       "      <td>8736859.39</td>\n",
       "      <td>430100.96</td>\n",
       "      <td>6947507.31</td>\n",
       "      <td>999472.69</td>\n",
       "      <td>271490.71</td>\n",
       "      <td>NaN</td>\n",
       "      <td>1226122.00</td>\n",
       "      <td>17880.60</td>\n",
       "      <td>15655.18</td>\n",
       "      <td>NaN</td>\n",
       "      <td>4762524.66</td>\n",
       "      <td>918.65</td>\n",
       "      <td>13924.52</td>\n",
       "      <td>61312068.79</td>\n",
       "    </tr>\n",
       "    <tr>\n",
       "      <th>2019-01</th>\n",
       "      <td>27728148.35</td>\n",
       "      <td>10705300.63</td>\n",
       "      <td>484173.88</td>\n",
       "      <td>8233205.07</td>\n",
       "      <td>598874.10</td>\n",
       "      <td>381400.15</td>\n",
       "      <td>1487.00</td>\n",
       "      <td>2216391.74</td>\n",
       "      <td>21484.00</td>\n",
       "      <td>27198.29</td>\n",
       "      <td>1686.4</td>\n",
       "      <td>942957.19</td>\n",
       "      <td>2398.04</td>\n",
       "      <td>15444.39</td>\n",
       "      <td>51360149.23</td>\n",
       "    </tr>\n",
       "    <tr>\n",
       "      <th>2019-02</th>\n",
       "      <td>34793163.53</td>\n",
       "      <td>10167796.86</td>\n",
       "      <td>620031.80</td>\n",
       "      <td>6879250.99</td>\n",
       "      <td>542037.52</td>\n",
       "      <td>368475.57</td>\n",
       "      <td>3234.28</td>\n",
       "      <td>610456.60</td>\n",
       "      <td>34214.74</td>\n",
       "      <td>32638.63</td>\n",
       "      <td>19196.3</td>\n",
       "      <td>257765.04</td>\n",
       "      <td>620.66</td>\n",
       "      <td>8051.15</td>\n",
       "      <td>54336933.67</td>\n",
       "    </tr>\n",
       "  </tbody>\n",
       "</table>\n",
       "</div>"
      ],
      "text/plain": [
       "                     P1           P3         P4          P5         P6  \\\n",
       "month_year                                                               \n",
       "2018-10     36098918.79   8089465.96  397760.69  2499061.19  369231.60   \n",
       "2018-11      5140760.00  11863001.51  371322.42  8993944.04  473046.96   \n",
       "2018-12     37889612.12   8736859.39  430100.96  6947507.31  999472.69   \n",
       "2019-01     27728148.35  10705300.63  484173.88  8233205.07  598874.10   \n",
       "2019-02     34793163.53  10167796.86  620031.80  6879250.99  542037.52   \n",
       "\n",
       "                   P8       P9         P11       P12       P13      P14  \\\n",
       "month_year                                                                \n",
       "2018-10     586052.74  3219.32  1021303.50  28686.33  27666.10   5770.0   \n",
       "2018-11     526292.77  1875.90  1898844.80   1070.00  68180.00  17130.0   \n",
       "2018-12     271490.71      NaN  1226122.00  17880.60  15655.18      NaN   \n",
       "2019-01     381400.15  1487.00  2216391.74  21484.00  27198.29   1686.4   \n",
       "2019-02     368475.57  3234.28   610456.60  34214.74  32638.63  19196.3   \n",
       "\n",
       "                   P16      P20       P36    Sales_EUR  \n",
       "month_year                                              \n",
       "2018-10      333196.87  4563.14   6474.60  49471370.83  \n",
       "2018-11     1377694.32  5798.14  21617.61  30760578.47  \n",
       "2018-12     4762524.66   918.65  13924.52  61312068.79  \n",
       "2019-01      942957.19  2398.04  15444.39  51360149.23  \n",
       "2019-02      257765.04   620.66   8051.15  54336933.67  "
      ]
     },
     "execution_count": 444,
     "metadata": {},
     "output_type": "execute_result"
    }
   ],
   "source": [
    "df_sales.head()"
   ]
  },
  {
   "cell_type": "markdown",
   "metadata": {},
   "source": [
    "Now we want to calculate the percentage change for each column and create new columns with that percentage:"
   ]
  },
  {
   "cell_type": "code",
   "execution_count": 445,
   "metadata": {},
   "outputs": [
    {
     "name": "stderr",
     "output_type": "stream",
     "text": [
      "C:\\Users\\beatr\\AppData\\Local\\Temp\\ipykernel_17412\\937700772.py:13: FutureWarning:\n",
      "\n",
      "The default fill_method='pad' in Series.pct_change is deprecated and will be removed in a future version. Either fill in any non-leading NA values prior to calling pct_change or specify 'fill_method=None' to not fill NA values.\n",
      "\n",
      "C:\\Users\\beatr\\AppData\\Local\\Temp\\ipykernel_17412\\937700772.py:13: FutureWarning:\n",
      "\n",
      "The default fill_method='pad' in Series.pct_change is deprecated and will be removed in a future version. Either fill in any non-leading NA values prior to calling pct_change or specify 'fill_method=None' to not fill NA values.\n",
      "\n",
      "C:\\Users\\beatr\\AppData\\Local\\Temp\\ipykernel_17412\\937700772.py:13: FutureWarning:\n",
      "\n",
      "The default fill_method='pad' in Series.pct_change is deprecated and will be removed in a future version. Either fill in any non-leading NA values prior to calling pct_change or specify 'fill_method=None' to not fill NA values.\n",
      "\n"
     ]
    }
   ],
   "source": [
    "# Replace all 0 values in df with 1\n",
    "df_sales = df_sales.replace(0, 1) # This ensures that there are no 0s in the DataFrame, which helps prevent division \n",
    "                                  # errors when calculating percentage changes.\n",
    "\n",
    "# Create a list of the column names of df_sales\n",
    "nominal_prod_list = list(df_sales.columns)\n",
    "\n",
    "# Initialize an empty list to store the names of the columns containing percent changes\n",
    "percent_change_prod_list = []\n",
    "\n",
    "# For each column in the DataFrame 'df', calculate the percent change and add a new column with the suffix '%Change'\n",
    "for col in df_sales.columns:\n",
    "    df_sales[col + '%Change'] = df_sales[col].pct_change()\n",
    "    \n",
    "    # Append the name of the new column to the percent_change_prod_list\n",
    "    percent_change_prod_list.append(col + '%Change')\n",
    "\n",
    "# Replace all 1 values in columns specified in 'nominal_prod_list' with 0\n",
    "df_sales[nominal_prod_list] = df_sales[nominal_prod_list].replace(1, 0)"
   ]
  },
  {
   "cell_type": "code",
   "execution_count": 446,
   "metadata": {},
   "outputs": [
    {
     "data": {
      "text/html": [
       "<div>\n",
       "<style scoped>\n",
       "    .dataframe tbody tr th:only-of-type {\n",
       "        vertical-align: middle;\n",
       "    }\n",
       "\n",
       "    .dataframe tbody tr th {\n",
       "        vertical-align: top;\n",
       "    }\n",
       "\n",
       "    .dataframe thead th {\n",
       "        text-align: right;\n",
       "    }\n",
       "</style>\n",
       "<table border=\"1\" class=\"dataframe\">\n",
       "  <thead>\n",
       "    <tr style=\"text-align: right;\">\n",
       "      <th></th>\n",
       "      <th>P1</th>\n",
       "      <th>P3</th>\n",
       "      <th>P4</th>\n",
       "      <th>P5</th>\n",
       "      <th>P6</th>\n",
       "      <th>P8</th>\n",
       "      <th>P9</th>\n",
       "      <th>P11</th>\n",
       "      <th>P12</th>\n",
       "      <th>P13</th>\n",
       "      <th>P14</th>\n",
       "      <th>P16</th>\n",
       "      <th>P20</th>\n",
       "      <th>P36</th>\n",
       "      <th>Sales_EUR</th>\n",
       "      <th>P1%Change</th>\n",
       "      <th>P3%Change</th>\n",
       "      <th>P4%Change</th>\n",
       "      <th>P5%Change</th>\n",
       "      <th>P6%Change</th>\n",
       "      <th>P8%Change</th>\n",
       "      <th>P9%Change</th>\n",
       "      <th>P11%Change</th>\n",
       "      <th>P12%Change</th>\n",
       "      <th>P13%Change</th>\n",
       "      <th>P14%Change</th>\n",
       "      <th>P16%Change</th>\n",
       "      <th>P20%Change</th>\n",
       "      <th>P36%Change</th>\n",
       "      <th>Sales_EUR%Change</th>\n",
       "    </tr>\n",
       "    <tr>\n",
       "      <th>month_year</th>\n",
       "      <th></th>\n",
       "      <th></th>\n",
       "      <th></th>\n",
       "      <th></th>\n",
       "      <th></th>\n",
       "      <th></th>\n",
       "      <th></th>\n",
       "      <th></th>\n",
       "      <th></th>\n",
       "      <th></th>\n",
       "      <th></th>\n",
       "      <th></th>\n",
       "      <th></th>\n",
       "      <th></th>\n",
       "      <th></th>\n",
       "      <th></th>\n",
       "      <th></th>\n",
       "      <th></th>\n",
       "      <th></th>\n",
       "      <th></th>\n",
       "      <th></th>\n",
       "      <th></th>\n",
       "      <th></th>\n",
       "      <th></th>\n",
       "      <th></th>\n",
       "      <th></th>\n",
       "      <th></th>\n",
       "      <th></th>\n",
       "      <th></th>\n",
       "      <th></th>\n",
       "    </tr>\n",
       "  </thead>\n",
       "  <tbody>\n",
       "    <tr>\n",
       "      <th>2018-10</th>\n",
       "      <td>36098918.79</td>\n",
       "      <td>8089465.96</td>\n",
       "      <td>397760.69</td>\n",
       "      <td>2499061.19</td>\n",
       "      <td>369231.60</td>\n",
       "      <td>586052.74</td>\n",
       "      <td>3219.32</td>\n",
       "      <td>1021303.50</td>\n",
       "      <td>28686.33</td>\n",
       "      <td>27666.10</td>\n",
       "      <td>5770.0</td>\n",
       "      <td>333196.87</td>\n",
       "      <td>4563.14</td>\n",
       "      <td>6474.60</td>\n",
       "      <td>49471370.83</td>\n",
       "      <td>NaN</td>\n",
       "      <td>NaN</td>\n",
       "      <td>NaN</td>\n",
       "      <td>NaN</td>\n",
       "      <td>NaN</td>\n",
       "      <td>NaN</td>\n",
       "      <td>NaN</td>\n",
       "      <td>NaN</td>\n",
       "      <td>NaN</td>\n",
       "      <td>NaN</td>\n",
       "      <td>NaN</td>\n",
       "      <td>NaN</td>\n",
       "      <td>NaN</td>\n",
       "      <td>NaN</td>\n",
       "      <td>NaN</td>\n",
       "    </tr>\n",
       "    <tr>\n",
       "      <th>2018-11</th>\n",
       "      <td>5140760.00</td>\n",
       "      <td>11863001.51</td>\n",
       "      <td>371322.42</td>\n",
       "      <td>8993944.04</td>\n",
       "      <td>473046.96</td>\n",
       "      <td>526292.77</td>\n",
       "      <td>1875.90</td>\n",
       "      <td>1898844.80</td>\n",
       "      <td>1070.00</td>\n",
       "      <td>68180.00</td>\n",
       "      <td>17130.0</td>\n",
       "      <td>1377694.32</td>\n",
       "      <td>5798.14</td>\n",
       "      <td>21617.61</td>\n",
       "      <td>30760578.47</td>\n",
       "      <td>-0.857592</td>\n",
       "      <td>0.466475</td>\n",
       "      <td>-0.066468</td>\n",
       "      <td>2.598929</td>\n",
       "      <td>0.281166</td>\n",
       "      <td>-0.101970</td>\n",
       "      <td>-0.417299</td>\n",
       "      <td>0.859237</td>\n",
       "      <td>-0.962700</td>\n",
       "      <td>1.464388</td>\n",
       "      <td>1.968804</td>\n",
       "      <td>3.134776</td>\n",
       "      <td>0.270647</td>\n",
       "      <td>2.338833</td>\n",
       "      <td>-0.378215</td>\n",
       "    </tr>\n",
       "    <tr>\n",
       "      <th>2018-12</th>\n",
       "      <td>37889612.12</td>\n",
       "      <td>8736859.39</td>\n",
       "      <td>430100.96</td>\n",
       "      <td>6947507.31</td>\n",
       "      <td>999472.69</td>\n",
       "      <td>271490.71</td>\n",
       "      <td>NaN</td>\n",
       "      <td>1226122.00</td>\n",
       "      <td>17880.60</td>\n",
       "      <td>15655.18</td>\n",
       "      <td>NaN</td>\n",
       "      <td>4762524.66</td>\n",
       "      <td>918.65</td>\n",
       "      <td>13924.52</td>\n",
       "      <td>61312068.79</td>\n",
       "      <td>6.370430</td>\n",
       "      <td>-0.263520</td>\n",
       "      <td>0.158295</td>\n",
       "      <td>-0.227535</td>\n",
       "      <td>1.112840</td>\n",
       "      <td>-0.484145</td>\n",
       "      <td>0.000000</td>\n",
       "      <td>-0.354280</td>\n",
       "      <td>15.710841</td>\n",
       "      <td>-0.770385</td>\n",
       "      <td>0.000000</td>\n",
       "      <td>2.456881</td>\n",
       "      <td>-0.841561</td>\n",
       "      <td>-0.355871</td>\n",
       "      <td>0.993203</td>\n",
       "    </tr>\n",
       "    <tr>\n",
       "      <th>2019-01</th>\n",
       "      <td>27728148.35</td>\n",
       "      <td>10705300.63</td>\n",
       "      <td>484173.88</td>\n",
       "      <td>8233205.07</td>\n",
       "      <td>598874.10</td>\n",
       "      <td>381400.15</td>\n",
       "      <td>1487.00</td>\n",
       "      <td>2216391.74</td>\n",
       "      <td>21484.00</td>\n",
       "      <td>27198.29</td>\n",
       "      <td>1686.4</td>\n",
       "      <td>942957.19</td>\n",
       "      <td>2398.04</td>\n",
       "      <td>15444.39</td>\n",
       "      <td>51360149.23</td>\n",
       "      <td>-0.268186</td>\n",
       "      <td>0.225303</td>\n",
       "      <td>0.125721</td>\n",
       "      <td>0.185059</td>\n",
       "      <td>-0.400810</td>\n",
       "      <td>0.404837</td>\n",
       "      <td>-0.207314</td>\n",
       "      <td>0.807644</td>\n",
       "      <td>0.201526</td>\n",
       "      <td>0.737335</td>\n",
       "      <td>-0.901553</td>\n",
       "      <td>-0.802005</td>\n",
       "      <td>1.610396</td>\n",
       "      <td>0.109151</td>\n",
       "      <td>-0.162316</td>\n",
       "    </tr>\n",
       "    <tr>\n",
       "      <th>2019-02</th>\n",
       "      <td>34793163.53</td>\n",
       "      <td>10167796.86</td>\n",
       "      <td>620031.80</td>\n",
       "      <td>6879250.99</td>\n",
       "      <td>542037.52</td>\n",
       "      <td>368475.57</td>\n",
       "      <td>3234.28</td>\n",
       "      <td>610456.60</td>\n",
       "      <td>34214.74</td>\n",
       "      <td>32638.63</td>\n",
       "      <td>19196.3</td>\n",
       "      <td>257765.04</td>\n",
       "      <td>620.66</td>\n",
       "      <td>8051.15</td>\n",
       "      <td>54336933.67</td>\n",
       "      <td>0.254796</td>\n",
       "      <td>-0.050209</td>\n",
       "      <td>0.280597</td>\n",
       "      <td>-0.164450</td>\n",
       "      <td>-0.094906</td>\n",
       "      <td>-0.033887</td>\n",
       "      <td>1.175037</td>\n",
       "      <td>-0.724572</td>\n",
       "      <td>0.592568</td>\n",
       "      <td>0.200025</td>\n",
       "      <td>10.383005</td>\n",
       "      <td>-0.726642</td>\n",
       "      <td>-0.741180</td>\n",
       "      <td>-0.478701</td>\n",
       "      <td>0.057959</td>\n",
       "    </tr>\n",
       "  </tbody>\n",
       "</table>\n",
       "</div>"
      ],
      "text/plain": [
       "                     P1           P3         P4          P5         P6  \\\n",
       "month_year                                                               \n",
       "2018-10     36098918.79   8089465.96  397760.69  2499061.19  369231.60   \n",
       "2018-11      5140760.00  11863001.51  371322.42  8993944.04  473046.96   \n",
       "2018-12     37889612.12   8736859.39  430100.96  6947507.31  999472.69   \n",
       "2019-01     27728148.35  10705300.63  484173.88  8233205.07  598874.10   \n",
       "2019-02     34793163.53  10167796.86  620031.80  6879250.99  542037.52   \n",
       "\n",
       "                   P8       P9         P11       P12       P13      P14  \\\n",
       "month_year                                                                \n",
       "2018-10     586052.74  3219.32  1021303.50  28686.33  27666.10   5770.0   \n",
       "2018-11     526292.77  1875.90  1898844.80   1070.00  68180.00  17130.0   \n",
       "2018-12     271490.71      NaN  1226122.00  17880.60  15655.18      NaN   \n",
       "2019-01     381400.15  1487.00  2216391.74  21484.00  27198.29   1686.4   \n",
       "2019-02     368475.57  3234.28   610456.60  34214.74  32638.63  19196.3   \n",
       "\n",
       "                   P16      P20       P36    Sales_EUR  P1%Change  P3%Change  \\\n",
       "month_year                                                                     \n",
       "2018-10      333196.87  4563.14   6474.60  49471370.83        NaN        NaN   \n",
       "2018-11     1377694.32  5798.14  21617.61  30760578.47  -0.857592   0.466475   \n",
       "2018-12     4762524.66   918.65  13924.52  61312068.79   6.370430  -0.263520   \n",
       "2019-01      942957.19  2398.04  15444.39  51360149.23  -0.268186   0.225303   \n",
       "2019-02      257765.04   620.66   8051.15  54336933.67   0.254796  -0.050209   \n",
       "\n",
       "            P4%Change  P5%Change  P6%Change  P8%Change  P9%Change  P11%Change  \\\n",
       "month_year                                                                      \n",
       "2018-10           NaN        NaN        NaN        NaN        NaN         NaN   \n",
       "2018-11     -0.066468   2.598929   0.281166  -0.101970  -0.417299    0.859237   \n",
       "2018-12      0.158295  -0.227535   1.112840  -0.484145   0.000000   -0.354280   \n",
       "2019-01      0.125721   0.185059  -0.400810   0.404837  -0.207314    0.807644   \n",
       "2019-02      0.280597  -0.164450  -0.094906  -0.033887   1.175037   -0.724572   \n",
       "\n",
       "            P12%Change  P13%Change  P14%Change  P16%Change  P20%Change  \\\n",
       "month_year                                                               \n",
       "2018-10            NaN         NaN         NaN         NaN         NaN   \n",
       "2018-11      -0.962700    1.464388    1.968804    3.134776    0.270647   \n",
       "2018-12      15.710841   -0.770385    0.000000    2.456881   -0.841561   \n",
       "2019-01       0.201526    0.737335   -0.901553   -0.802005    1.610396   \n",
       "2019-02       0.592568    0.200025   10.383005   -0.726642   -0.741180   \n",
       "\n",
       "            P36%Change  Sales_EUR%Change  \n",
       "month_year                                \n",
       "2018-10            NaN               NaN  \n",
       "2018-11       2.338833         -0.378215  \n",
       "2018-12      -0.355871          0.993203  \n",
       "2019-01       0.109151         -0.162316  \n",
       "2019-02      -0.478701          0.057959  "
      ]
     },
     "execution_count": 446,
     "metadata": {},
     "output_type": "execute_result"
    }
   ],
   "source": [
    "df_sales.head()"
   ]
  },
  {
   "cell_type": "code",
   "execution_count": 447,
   "metadata": {},
   "outputs": [
    {
     "data": {
      "application/vnd.plotly.v1+json": {
       "config": {
        "plotlyServerURL": "https://plot.ly"
       },
       "data": [
        {
         "hovertemplate": "variable=P1<br>x=%{x}<br>value=%{y}<extra></extra>",
         "legendgroup": "P1",
         "line": {
          "color": "#636efa",
          "dash": "solid"
         },
         "marker": {
          "symbol": "circle"
         },
         "mode": "lines",
         "name": "P1",
         "orientation": "v",
         "showlegend": true,
         "type": "scatter",
         "x": [
          0,
          1,
          2,
          3,
          4,
          5,
          6,
          7,
          8,
          9,
          10,
          11,
          12,
          13,
          14,
          15,
          16,
          17,
          18,
          19,
          20,
          21,
          22,
          23,
          24,
          25,
          26,
          27,
          28,
          29,
          30,
          31,
          32,
          33,
          34,
          35,
          36,
          37,
          38,
          39,
          40,
          41,
          42
         ],
         "xaxis": "x",
         "y": [
          36098918.79,
          5140760,
          37889612.120000005,
          27728148.35,
          34793163.53,
          33856803.04,
          39688292.010000005,
          38897974.29,
          39106750.230000004,
          37912572.3,
          38042677.05,
          40602780.63999999,
          39012299.19,
          37323903.07,
          37701509.370000005,
          34116651.47,
          33505879.26,
          39064430.88,
          37981531.31999999,
          31400212.54,
          30896804.07,
          35212730.13,
          37482085.58,
          38879360.2,
          41453854.5,
          37643611.57,
          34816959.18,
          27180432.94,
          34630522.81,
          33476138.64,
          41257397.9,
          37760015.28,
          35801398.47,
          37130004.21,
          36310817.42,
          36278886.58,
          44483013.86000001,
          34187395.6,
          33950069.83,
          37942942.06,
          36293076.33,
          40220407.03,
          41053203.120000005
         ],
         "yaxis": "y"
        },
        {
         "hovertemplate": "variable=P3<br>x=%{x}<br>value=%{y}<extra></extra>",
         "legendgroup": "P3",
         "line": {
          "color": "#EF553B",
          "dash": "solid"
         },
         "marker": {
          "symbol": "circle"
         },
         "mode": "lines",
         "name": "P3",
         "orientation": "v",
         "showlegend": true,
         "type": "scatter",
         "x": [
          0,
          1,
          2,
          3,
          4,
          5,
          6,
          7,
          8,
          9,
          10,
          11,
          12,
          13,
          14,
          15,
          16,
          17,
          18,
          19,
          20,
          21,
          22,
          23,
          24,
          25,
          26,
          27,
          28,
          29,
          30,
          31,
          32,
          33,
          34,
          35,
          36,
          37,
          38,
          39,
          40,
          41,
          42
         ],
         "xaxis": "x",
         "y": [
          8089465.960000001,
          11863001.51,
          8736859.39,
          10705300.629999999,
          10167796.86,
          11040544.57,
          12317479.75,
          12798945.18,
          11546452.19,
          13421550.83,
          11359418.3,
          16579668.11,
          11382774.45,
          13826060.48,
          11077603.56,
          11699896.34,
          10041616.85,
          12281515.46,
          12008066.85,
          10708632.18,
          13321842.36,
          12774946.290000001,
          11373503.08,
          15912683.17,
          10003848.44,
          15021617.790000001,
          9755535.99,
          3804319.7399999998,
          16136114.379999999,
          14128552.8,
          13461271.93,
          10298079.41,
          13650393.45,
          13288195.239999998,
          12385755.66,
          15874712.26,
          13797043.98,
          18686819.85,
          12376414.580000002,
          13754291.32,
          15665217.47,
          14320304.55,
          11999374.51
         ],
         "yaxis": "y"
        },
        {
         "hovertemplate": "variable=P4<br>x=%{x}<br>value=%{y}<extra></extra>",
         "legendgroup": "P4",
         "line": {
          "color": "#00cc96",
          "dash": "solid"
         },
         "marker": {
          "symbol": "circle"
         },
         "mode": "lines",
         "name": "P4",
         "orientation": "v",
         "showlegend": true,
         "type": "scatter",
         "x": [
          0,
          1,
          2,
          3,
          4,
          5,
          6,
          7,
          8,
          9,
          10,
          11,
          12,
          13,
          14,
          15,
          16,
          17,
          18,
          19,
          20,
          21,
          22,
          23,
          24,
          25,
          26,
          27,
          28,
          29,
          30,
          31,
          32,
          33,
          34,
          35,
          36,
          37,
          38,
          39,
          40,
          41,
          42
         ],
         "xaxis": "x",
         "y": [
          397760.69,
          371322.42,
          430100.96,
          484173.88,
          620031.8,
          491643.59,
          426221.33999999997,
          375671.57,
          190721.15,
          381274.95999999996,
          301973.43,
          443349.32,
          93226.31999999999,
          298011.68,
          275968.15,
          218623.48,
          225262.14,
          197670.48,
          387939.98000000004,
          315488.98,
          329430.96,
          294293.79,
          172952.24,
          645058,
          332603.83999999997,
          413558.14,
          303249.58999999997,
          165265.96999999997,
          807758.79,
          451955.41000000003,
          295958.92,
          573707.27,
          829442.33,
          434669.61,
          255407.75,
          323380.87,
          344985.73,
          290506.87,
          199188.75,
          283630.81,
          245306.13,
          406399.83,
          302057.04
         ],
         "yaxis": "y"
        },
        {
         "hovertemplate": "variable=P5<br>x=%{x}<br>value=%{y}<extra></extra>",
         "legendgroup": "P5",
         "line": {
          "color": "#ab63fa",
          "dash": "solid"
         },
         "marker": {
          "symbol": "circle"
         },
         "mode": "lines",
         "name": "P5",
         "orientation": "v",
         "showlegend": true,
         "type": "scatter",
         "x": [
          0,
          1,
          2,
          3,
          4,
          5,
          6,
          7,
          8,
          9,
          10,
          11,
          12,
          13,
          14,
          15,
          16,
          17,
          18,
          19,
          20,
          21,
          22,
          23,
          24,
          25,
          26,
          27,
          28,
          29,
          30,
          31,
          32,
          33,
          34,
          35,
          36,
          37,
          38,
          39,
          40,
          41,
          42
         ],
         "xaxis": "x",
         "y": [
          2499061.19,
          8993944.040000001,
          6947507.3100000005,
          8233205.069999999,
          6879250.989999999,
          11914313.63,
          5714462.4799999995,
          11389673.26,
          13681879.16,
          11145039.030000001,
          7645745.289999999,
          15018604.629999999,
          11542647.469999999,
          8104241.69,
          13494692.75,
          7184359.3100000005,
          12424406.63,
          9232237.68,
          7990825.32,
          9872426.57,
          15873894.909999998,
          5590709.71,
          11463705.639999999,
          14160091.05,
          4647204.31,
          10164873.57,
          8845742.299999999,
          1405295.36,
          16650952.72,
          11102204.58,
          7085482.52,
          8767595.73,
          11687229.03,
          8321886.38,
          19524640.52,
          15629190.799999999,
          11472426.01,
          9606371.14,
          8656479.64,
          7731408.33,
          7675455.55,
          14739187.18,
          8884607.530000001
         ],
         "yaxis": "y"
        },
        {
         "hovertemplate": "variable=P6<br>x=%{x}<br>value=%{y}<extra></extra>",
         "legendgroup": "P6",
         "line": {
          "color": "#FFA15A",
          "dash": "solid"
         },
         "marker": {
          "symbol": "circle"
         },
         "mode": "lines",
         "name": "P6",
         "orientation": "v",
         "showlegend": true,
         "type": "scatter",
         "x": [
          0,
          1,
          2,
          3,
          4,
          5,
          6,
          7,
          8,
          9,
          10,
          11,
          12,
          13,
          14,
          15,
          16,
          17,
          18,
          19,
          20,
          21,
          22,
          23,
          24,
          25,
          26,
          27,
          28,
          29,
          30,
          31,
          32,
          33,
          34,
          35,
          36,
          37,
          38,
          39,
          40,
          41,
          42
         ],
         "xaxis": "x",
         "y": [
          369231.6,
          473046.95999999996,
          999472.6900000002,
          598874.1,
          542037.52,
          735604.23,
          277575.12,
          315978.77,
          282963.19,
          725411.99,
          206931.16999999998,
          499147.73,
          581767.85,
          181159.2,
          913378.8,
          -15202.959999999977,
          724398.75,
          529808.94,
          782042.98,
          750367.7,
          526425.18,
          730187.6799999999,
          847092.87,
          316929.21,
          313535.91000000003,
          335130.74,
          332556.98,
          27472.940000000002,
          515644.63,
          625100.14,
          592478.95,
          566508.34,
          490262.94,
          499338.64,
          529725.46,
          947905.3899999999,
          196463.81,
          386462.95999999996,
          190074.96,
          157670.31,
          391088.3,
          316132.20999999996,
          333705.61
         ],
         "yaxis": "y"
        },
        {
         "hovertemplate": "variable=P8<br>x=%{x}<br>value=%{y}<extra></extra>",
         "legendgroup": "P8",
         "line": {
          "color": "#19d3f3",
          "dash": "solid"
         },
         "marker": {
          "symbol": "circle"
         },
         "mode": "lines",
         "name": "P8",
         "orientation": "v",
         "showlegend": true,
         "type": "scatter",
         "x": [
          0,
          1,
          2,
          3,
          4,
          5,
          6,
          7,
          8,
          9,
          10,
          11,
          12,
          13,
          14,
          15,
          16,
          17,
          18,
          19,
          20,
          21,
          22,
          23,
          24,
          25,
          26,
          27,
          28,
          29,
          30,
          31,
          32,
          33,
          34,
          35,
          36,
          37,
          38,
          39,
          40,
          41,
          42
         ],
         "xaxis": "x",
         "y": [
          586052.74,
          526292.77,
          271490.71,
          381400.15,
          368475.57,
          591288.36,
          418899.9,
          298806.83999999997,
          420707.73,
          366980.26,
          397537.2,
          1084685.92,
          111791.34,
          542923.42,
          491332.72000000003,
          323769.2,
          326973.94,
          845857.76,
          302765.68,
          712746.38,
          599831.93,
          583157.61,
          916909.76,
          1337657.62,
          153873.52,
          904436.89,
          1061969.46,
          305820.25999999995,
          1615468.03,
          899610.15,
          1070486.79,
          813607.01,
          1091239.79,
          1207554.52,
          1093379.99,
          2036355.01,
          356322.55,
          1140720.52,
          2655036.7800000003,
          1208090.29,
          1239171.41,
          1873520.38,
          1336220.96
         ],
         "yaxis": "y"
        },
        {
         "hovertemplate": "variable=P9<br>x=%{x}<br>value=%{y}<extra></extra>",
         "legendgroup": "P9",
         "line": {
          "color": "#FF6692",
          "dash": "solid"
         },
         "marker": {
          "symbol": "circle"
         },
         "mode": "lines",
         "name": "P9",
         "orientation": "v",
         "showlegend": true,
         "type": "scatter",
         "x": [
          0,
          1,
          2,
          3,
          4,
          5,
          6,
          7,
          8,
          9,
          10,
          11,
          12,
          13,
          14,
          15,
          16,
          17,
          18,
          19,
          20,
          21,
          22,
          23,
          24,
          25,
          26,
          27,
          28,
          29,
          30,
          31,
          32,
          33,
          34,
          35,
          36,
          37,
          38,
          39,
          40,
          41,
          42
         ],
         "xaxis": "x",
         "y": [
          3219.32,
          1875.9,
          null,
          1487,
          3234.2799999999997,
          13050.61,
          9119.65,
          4614.08,
          4488.09,
          1766.4,
          6371.5,
          13930.26,
          555,
          24181.8,
          7611.36,
          7647.5,
          425.1,
          2233,
          1476.85,
          3764.12,
          7555.45,
          943.3900000000001,
          9907.2,
          2893.35,
          39510.75,
          -4358.099999999999,
          8606.5,
          625.5,
          10022.4,
          28108.88,
          16713.96,
          8026,
          7240.84,
          11295.75,
          432,
          9259.2,
          937.04,
          14035.58,
          14935.2,
          2064.7,
          901.5,
          4452.6,
          3285
         ],
         "yaxis": "y"
        },
        {
         "hovertemplate": "variable=P11<br>x=%{x}<br>value=%{y}<extra></extra>",
         "legendgroup": "P11",
         "line": {
          "color": "#B6E880",
          "dash": "solid"
         },
         "marker": {
          "symbol": "circle"
         },
         "mode": "lines",
         "name": "P11",
         "orientation": "v",
         "showlegend": true,
         "type": "scatter",
         "x": [
          0,
          1,
          2,
          3,
          4,
          5,
          6,
          7,
          8,
          9,
          10,
          11,
          12,
          13,
          14,
          15,
          16,
          17,
          18,
          19,
          20,
          21,
          22,
          23,
          24,
          25,
          26,
          27,
          28,
          29,
          30,
          31,
          32,
          33,
          34,
          35,
          36,
          37,
          38,
          39,
          40,
          41,
          42
         ],
         "xaxis": "x",
         "y": [
          1021303.5,
          1898844.8,
          1226122,
          2216391.74,
          610456.6,
          493999.81,
          1484281.6,
          1066063.9,
          492133.2,
          585648.14,
          2898779.87,
          3749980.46,
          218976.78,
          1194770.75,
          1278545.62,
          584370,
          1233609.73,
          2969948.65,
          813303.01,
          842526.1,
          2246948,
          2105975.71,
          1521580.0699999998,
          3891447.7600000002,
          973837.23,
          488891.95999999996,
          1096370.71,
          18200,
          1978335.55,
          1660211.1600000001,
          1206734.3399999999,
          1994228.4,
          991872.24,
          2253079.74,
          2715460.08,
          3795389.85,
          173771.79,
          1832753.73,
          2645689.71,
          1054580.98,
          964672.3200000001,
          2284958.4000000004,
          1126268.66
         ],
         "yaxis": "y"
        },
        {
         "hovertemplate": "variable=P12<br>x=%{x}<br>value=%{y}<extra></extra>",
         "legendgroup": "P12",
         "line": {
          "color": "#FF97FF",
          "dash": "solid"
         },
         "marker": {
          "symbol": "circle"
         },
         "mode": "lines",
         "name": "P12",
         "orientation": "v",
         "showlegend": true,
         "type": "scatter",
         "x": [
          0,
          1,
          2,
          3,
          4,
          5,
          6,
          7,
          8,
          9,
          10,
          11,
          12,
          13,
          14,
          15,
          16,
          17,
          18,
          19,
          20,
          21,
          22,
          23,
          24,
          25,
          26,
          27,
          28,
          29,
          30,
          31,
          32,
          33,
          34,
          35,
          36,
          37,
          38,
          39,
          40,
          41,
          42
         ],
         "xaxis": "x",
         "y": [
          28686.33,
          1070,
          17880.6,
          21484,
          34214.74,
          10118,
          21813.27,
          24468,
          44255.68,
          21318.48,
          19217,
          292490.4,
          140819.69,
          320942.27999999997,
          349515.29,
          213315.32,
          324443.35,
          185833.89,
          79632,
          153949.24,
          172712.88,
          110275.2,
          164108.2,
          168634.8,
          5395,
          445648.06000000006,
          271024.19,
          92754.01,
          287890.61,
          282688.33999999997,
          385267.16000000003,
          379881.93,
          326883.32,
          363685.44,
          143436.63,
          423432.68,
          217388.43,
          428753.94000000006,
          322647.82,
          147680.18,
          312165.52,
          343523.42,
          178141
         ],
         "yaxis": "y"
        },
        {
         "hovertemplate": "variable=P13<br>x=%{x}<br>value=%{y}<extra></extra>",
         "legendgroup": "P13",
         "line": {
          "color": "#FECB52",
          "dash": "solid"
         },
         "marker": {
          "symbol": "circle"
         },
         "mode": "lines",
         "name": "P13",
         "orientation": "v",
         "showlegend": true,
         "type": "scatter",
         "x": [
          0,
          1,
          2,
          3,
          4,
          5,
          6,
          7,
          8,
          9,
          10,
          11,
          12,
          13,
          14,
          15,
          16,
          17,
          18,
          19,
          20,
          21,
          22,
          23,
          24,
          25,
          26,
          27,
          28,
          29,
          30,
          31,
          32,
          33,
          34,
          35,
          36,
          37,
          38,
          39,
          40,
          41,
          42
         ],
         "xaxis": "x",
         "y": [
          27666.1,
          68180,
          15655.18,
          27198.29,
          32638.63,
          11890,
          7488.54,
          2550.3100000000004,
          34849.21,
          43008.350000000006,
          22497.6,
          19601.050000000003,
          65754.55,
          43190.76,
          26729.760000000002,
          19519.59,
          13747.169999999998,
          23513.59,
          30716.11,
          3762.8199999999997,
          9612.8,
          6745.2,
          25689.64,
          15314.86,
          9524.88,
          20663.64,
          31216.71,
          10118.36,
          16729.8,
          63092.75,
          38125.2,
          4130,
          6015.04,
          8419.83,
          10814.57,
          28682.589999999997,
          30506.15,
          8136.92,
          24868.86,
          37972.81,
          33449.25,
          12149.4,
          17020.04
         ],
         "yaxis": "y"
        },
        {
         "hovertemplate": "variable=P14<br>x=%{x}<br>value=%{y}<extra></extra>",
         "legendgroup": "P14",
         "line": {
          "color": "#636efa",
          "dash": "solid"
         },
         "marker": {
          "symbol": "circle"
         },
         "mode": "lines",
         "name": "P14",
         "orientation": "v",
         "showlegend": true,
         "type": "scatter",
         "x": [
          0,
          1,
          2,
          3,
          4,
          5,
          6,
          7,
          8,
          9,
          10,
          11,
          12,
          13,
          14,
          15,
          16,
          17,
          18,
          19,
          20,
          21,
          22,
          23,
          24,
          25,
          26,
          27,
          28,
          29,
          30,
          31,
          32,
          33,
          34,
          35,
          36,
          37,
          38,
          39,
          40,
          41,
          42
         ],
         "xaxis": "x",
         "y": [
          5770,
          17130,
          null,
          1686.4,
          19196.3,
          7535.25,
          null,
          17771.4,
          63017.71,
          20719.3,
          1602,
          12851.2,
          1378.5500000000002,
          2571.3,
          null,
          2955.22,
          10900,
          10325.15,
          -2851.45,
          32670,
          8756.45,
          14793,
          6919.4,
          2219.8,
          13799,
          1750,
          11772.45,
          3028,
          2966.82,
          15818.779999999999,
          5629,
          2183.85,
          8266.9,
          76161.44,
          null,
          -561.2500000000005,
          16534.2,
          5951.849999999999,
          17427.6,
          2820,
          4410,
          46100.24,
          1846.2
         ],
         "yaxis": "y"
        },
        {
         "hovertemplate": "variable=P16<br>x=%{x}<br>value=%{y}<extra></extra>",
         "legendgroup": "P16",
         "line": {
          "color": "#EF553B",
          "dash": "solid"
         },
         "marker": {
          "symbol": "circle"
         },
         "mode": "lines",
         "name": "P16",
         "orientation": "v",
         "showlegend": true,
         "type": "scatter",
         "x": [
          0,
          1,
          2,
          3,
          4,
          5,
          6,
          7,
          8,
          9,
          10,
          11,
          12,
          13,
          14,
          15,
          16,
          17,
          18,
          19,
          20,
          21,
          22,
          23,
          24,
          25,
          26,
          27,
          28,
          29,
          30,
          31,
          32,
          33,
          34,
          35,
          36,
          37,
          38,
          39,
          40,
          41,
          42
         ],
         "xaxis": "x",
         "y": [
          333196.87,
          1377694.32,
          4762524.66,
          942957.19,
          257765.04,
          2258352.2199999997,
          224501.9,
          353451.54,
          367425.38,
          266225.86,
          725678.3299999998,
          752884.16,
          285644.67,
          291844.03,
          66419.16000000003,
          384800.46,
          82821.54000000001,
          160397.35,
          70530.7,
          195141.7,
          269150.4,
          409170.11,
          153289.44,
          209186.6,
          145276.08000000002,
          160941.78,
          260089.25,
          40360.08,
          117004.3,
          309564.27,
          125710.70999999999,
          218701.06,
          186607.11000000002,
          103935.84,
          323548.03,
          186586.24,
          141037.06,
          230129.08000000002,
          271111.39,
          91021.89,
          45696.76,
          98729.91,
          134071.24
         ],
         "yaxis": "y"
        },
        {
         "hovertemplate": "variable=P20<br>x=%{x}<br>value=%{y}<extra></extra>",
         "legendgroup": "P20",
         "line": {
          "color": "#00cc96",
          "dash": "solid"
         },
         "marker": {
          "symbol": "circle"
         },
         "mode": "lines",
         "name": "P20",
         "orientation": "v",
         "showlegend": true,
         "type": "scatter",
         "x": [
          0,
          1,
          2,
          3,
          4,
          5,
          6,
          7,
          8,
          9,
          10,
          11,
          12,
          13,
          14,
          15,
          16,
          17,
          18,
          19,
          20,
          21,
          22,
          23,
          24,
          25,
          26,
          27,
          28,
          29,
          30,
          31,
          32,
          33,
          34,
          35,
          36,
          37,
          38,
          39,
          40,
          41,
          42
         ],
         "xaxis": "x",
         "y": [
          4563.14,
          5798.139999999999,
          918.65,
          2398.04,
          620.66,
          3369.55,
          3619.63,
          938.9,
          772.94,
          577.6,
          284.4,
          664.57,
          1566,
          149,
          null,
          274.90999999999997,
          null,
          555,
          224,
          390,
          983.1,
          826.98,
          2688,
          2047.7,
          7355.75,
          2979.54,
          8485.6,
          null,
          1387,
          1076.6,
          8414,
          419.21,
          1766.6,
          842.9300000000001,
          377.22,
          null,
          151.49,
          928.8,
          156,
          null,
          589.5,
          2885.08,
          6280.629999999999
         ],
         "yaxis": "y"
        },
        {
         "hovertemplate": "variable=P36<br>x=%{x}<br>value=%{y}<extra></extra>",
         "legendgroup": "P36",
         "line": {
          "color": "#ab63fa",
          "dash": "solid"
         },
         "marker": {
          "symbol": "circle"
         },
         "mode": "lines",
         "name": "P36",
         "orientation": "v",
         "showlegend": true,
         "type": "scatter",
         "x": [
          0,
          1,
          2,
          3,
          4,
          5,
          6,
          7,
          8,
          9,
          10,
          11,
          12,
          13,
          14,
          15,
          16,
          17,
          18,
          19,
          20,
          21,
          22,
          23,
          24,
          25,
          26,
          27,
          28,
          29,
          30,
          31,
          32,
          33,
          34,
          35,
          36,
          37,
          38,
          39,
          40,
          41,
          42
         ],
         "xaxis": "x",
         "y": [
          6474.6,
          21617.61,
          13924.52,
          15444.39,
          8051.15,
          7373.419999999999,
          4280.25,
          16905.32,
          15516.22,
          33334.41,
          1306,
          16582.55,
          1556.5,
          14921.72,
          5906.37,
          11840.670000000002,
          11813.4,
          28300.82,
          27121.6,
          9649.3,
          146778.15,
          3849.6,
          12377.77,
          44867.100000000006,
          22372.49,
          4126.99,
          12105.42,
          3950.1,
          10454.4,
          11436,
          253519.03999999998,
          12775.490000000002,
          24733.07,
          17159.27,
          9233.4,
          26729.61,
          674,
          5139.4800000000005,
          48933.5,
          6014.39,
          29869.5,
          2564.85,
          17029.47
         ],
         "yaxis": "y"
        },
        {
         "hovertemplate": "variable=Sales_EUR<br>x=%{x}<br>value=%{y}<extra></extra>",
         "legendgroup": "Sales_EUR",
         "line": {
          "color": "#FFA15A",
          "dash": "solid"
         },
         "marker": {
          "symbol": "circle"
         },
         "mode": "lines",
         "name": "Sales_EUR",
         "orientation": "v",
         "showlegend": true,
         "type": "scatter",
         "x": [
          0,
          1,
          2,
          3,
          4,
          5,
          6,
          7,
          8,
          9,
          10,
          11,
          12,
          13,
          14,
          15,
          16,
          17,
          18,
          19,
          20,
          21,
          22,
          23,
          24,
          25,
          26,
          27,
          28,
          29,
          30,
          31,
          32,
          33,
          34,
          35,
          36,
          37,
          38,
          39,
          40,
          41,
          42
         ],
         "xaxis": "x",
         "y": [
          49471370.83,
          30760578.47,
          61312068.79000001,
          51360149.230000004,
          54336933.669999994,
          61435886.279999994,
          60598035.44000001,
          65563813.36,
          66251932.080000006,
          64925427.90999999,
          61630019.13999999,
          79087220.99999999,
          63440758.35999999,
          62168871.18,
          65689212.91,
          54752820.510000005,
          58926297.86000001,
          65532628.650000006,
          60473324.95,
          55001727.629999995,
          64410726.64,
          57838604.400000006,
          64152808.88999999,
          75588391.21999998,
          58121991.7,
          65603872.57000001,
          56815684.330000006,
          33057643.259999998,
          72781252.24,
          63055558.50000001,
          65803190.419999994,
          61399858.980000004,
          65103351.13,
          63716228.84,
          73303028.72999999,
          75559949.83,
          71231256.10000001,
          66824106.31999999,
          61373034.62,
          62420188.07000001,
          62901069.54,
          74671315.08,
          65393111.010000005
         ],
         "yaxis": "y"
        }
       ],
       "layout": {
        "legend": {
         "title": {
          "text": "variable"
         },
         "tracegroupgap": 0
        },
        "margin": {
         "t": 60
        },
        "shapes": [
         {
          "line": {
           "color": "red",
           "dash": "dash",
           "width": 2
          },
          "type": "line",
          "x0": 31,
          "x1": 31,
          "xref": "x",
          "y0": 0,
          "y1": 1,
          "yref": "paper"
         }
        ],
        "template": {
         "data": {
          "bar": [
           {
            "error_x": {
             "color": "#2a3f5f"
            },
            "error_y": {
             "color": "#2a3f5f"
            },
            "marker": {
             "line": {
              "color": "#E5ECF6",
              "width": 0.5
             },
             "pattern": {
              "fillmode": "overlay",
              "size": 10,
              "solidity": 0.2
             }
            },
            "type": "bar"
           }
          ],
          "barpolar": [
           {
            "marker": {
             "line": {
              "color": "#E5ECF6",
              "width": 0.5
             },
             "pattern": {
              "fillmode": "overlay",
              "size": 10,
              "solidity": 0.2
             }
            },
            "type": "barpolar"
           }
          ],
          "carpet": [
           {
            "aaxis": {
             "endlinecolor": "#2a3f5f",
             "gridcolor": "white",
             "linecolor": "white",
             "minorgridcolor": "white",
             "startlinecolor": "#2a3f5f"
            },
            "baxis": {
             "endlinecolor": "#2a3f5f",
             "gridcolor": "white",
             "linecolor": "white",
             "minorgridcolor": "white",
             "startlinecolor": "#2a3f5f"
            },
            "type": "carpet"
           }
          ],
          "choropleth": [
           {
            "colorbar": {
             "outlinewidth": 0,
             "ticks": ""
            },
            "type": "choropleth"
           }
          ],
          "contour": [
           {
            "colorbar": {
             "outlinewidth": 0,
             "ticks": ""
            },
            "colorscale": [
             [
              0,
              "#0d0887"
             ],
             [
              0.1111111111111111,
              "#46039f"
             ],
             [
              0.2222222222222222,
              "#7201a8"
             ],
             [
              0.3333333333333333,
              "#9c179e"
             ],
             [
              0.4444444444444444,
              "#bd3786"
             ],
             [
              0.5555555555555556,
              "#d8576b"
             ],
             [
              0.6666666666666666,
              "#ed7953"
             ],
             [
              0.7777777777777778,
              "#fb9f3a"
             ],
             [
              0.8888888888888888,
              "#fdca26"
             ],
             [
              1,
              "#f0f921"
             ]
            ],
            "type": "contour"
           }
          ],
          "contourcarpet": [
           {
            "colorbar": {
             "outlinewidth": 0,
             "ticks": ""
            },
            "type": "contourcarpet"
           }
          ],
          "heatmap": [
           {
            "colorbar": {
             "outlinewidth": 0,
             "ticks": ""
            },
            "colorscale": [
             [
              0,
              "#0d0887"
             ],
             [
              0.1111111111111111,
              "#46039f"
             ],
             [
              0.2222222222222222,
              "#7201a8"
             ],
             [
              0.3333333333333333,
              "#9c179e"
             ],
             [
              0.4444444444444444,
              "#bd3786"
             ],
             [
              0.5555555555555556,
              "#d8576b"
             ],
             [
              0.6666666666666666,
              "#ed7953"
             ],
             [
              0.7777777777777778,
              "#fb9f3a"
             ],
             [
              0.8888888888888888,
              "#fdca26"
             ],
             [
              1,
              "#f0f921"
             ]
            ],
            "type": "heatmap"
           }
          ],
          "heatmapgl": [
           {
            "colorbar": {
             "outlinewidth": 0,
             "ticks": ""
            },
            "colorscale": [
             [
              0,
              "#0d0887"
             ],
             [
              0.1111111111111111,
              "#46039f"
             ],
             [
              0.2222222222222222,
              "#7201a8"
             ],
             [
              0.3333333333333333,
              "#9c179e"
             ],
             [
              0.4444444444444444,
              "#bd3786"
             ],
             [
              0.5555555555555556,
              "#d8576b"
             ],
             [
              0.6666666666666666,
              "#ed7953"
             ],
             [
              0.7777777777777778,
              "#fb9f3a"
             ],
             [
              0.8888888888888888,
              "#fdca26"
             ],
             [
              1,
              "#f0f921"
             ]
            ],
            "type": "heatmapgl"
           }
          ],
          "histogram": [
           {
            "marker": {
             "pattern": {
              "fillmode": "overlay",
              "size": 10,
              "solidity": 0.2
             }
            },
            "type": "histogram"
           }
          ],
          "histogram2d": [
           {
            "colorbar": {
             "outlinewidth": 0,
             "ticks": ""
            },
            "colorscale": [
             [
              0,
              "#0d0887"
             ],
             [
              0.1111111111111111,
              "#46039f"
             ],
             [
              0.2222222222222222,
              "#7201a8"
             ],
             [
              0.3333333333333333,
              "#9c179e"
             ],
             [
              0.4444444444444444,
              "#bd3786"
             ],
             [
              0.5555555555555556,
              "#d8576b"
             ],
             [
              0.6666666666666666,
              "#ed7953"
             ],
             [
              0.7777777777777778,
              "#fb9f3a"
             ],
             [
              0.8888888888888888,
              "#fdca26"
             ],
             [
              1,
              "#f0f921"
             ]
            ],
            "type": "histogram2d"
           }
          ],
          "histogram2dcontour": [
           {
            "colorbar": {
             "outlinewidth": 0,
             "ticks": ""
            },
            "colorscale": [
             [
              0,
              "#0d0887"
             ],
             [
              0.1111111111111111,
              "#46039f"
             ],
             [
              0.2222222222222222,
              "#7201a8"
             ],
             [
              0.3333333333333333,
              "#9c179e"
             ],
             [
              0.4444444444444444,
              "#bd3786"
             ],
             [
              0.5555555555555556,
              "#d8576b"
             ],
             [
              0.6666666666666666,
              "#ed7953"
             ],
             [
              0.7777777777777778,
              "#fb9f3a"
             ],
             [
              0.8888888888888888,
              "#fdca26"
             ],
             [
              1,
              "#f0f921"
             ]
            ],
            "type": "histogram2dcontour"
           }
          ],
          "mesh3d": [
           {
            "colorbar": {
             "outlinewidth": 0,
             "ticks": ""
            },
            "type": "mesh3d"
           }
          ],
          "parcoords": [
           {
            "line": {
             "colorbar": {
              "outlinewidth": 0,
              "ticks": ""
             }
            },
            "type": "parcoords"
           }
          ],
          "pie": [
           {
            "automargin": true,
            "type": "pie"
           }
          ],
          "scatter": [
           {
            "fillpattern": {
             "fillmode": "overlay",
             "size": 10,
             "solidity": 0.2
            },
            "type": "scatter"
           }
          ],
          "scatter3d": [
           {
            "line": {
             "colorbar": {
              "outlinewidth": 0,
              "ticks": ""
             }
            },
            "marker": {
             "colorbar": {
              "outlinewidth": 0,
              "ticks": ""
             }
            },
            "type": "scatter3d"
           }
          ],
          "scattercarpet": [
           {
            "marker": {
             "colorbar": {
              "outlinewidth": 0,
              "ticks": ""
             }
            },
            "type": "scattercarpet"
           }
          ],
          "scattergeo": [
           {
            "marker": {
             "colorbar": {
              "outlinewidth": 0,
              "ticks": ""
             }
            },
            "type": "scattergeo"
           }
          ],
          "scattergl": [
           {
            "marker": {
             "colorbar": {
              "outlinewidth": 0,
              "ticks": ""
             }
            },
            "type": "scattergl"
           }
          ],
          "scattermapbox": [
           {
            "marker": {
             "colorbar": {
              "outlinewidth": 0,
              "ticks": ""
             }
            },
            "type": "scattermapbox"
           }
          ],
          "scatterpolar": [
           {
            "marker": {
             "colorbar": {
              "outlinewidth": 0,
              "ticks": ""
             }
            },
            "type": "scatterpolar"
           }
          ],
          "scatterpolargl": [
           {
            "marker": {
             "colorbar": {
              "outlinewidth": 0,
              "ticks": ""
             }
            },
            "type": "scatterpolargl"
           }
          ],
          "scatterternary": [
           {
            "marker": {
             "colorbar": {
              "outlinewidth": 0,
              "ticks": ""
             }
            },
            "type": "scatterternary"
           }
          ],
          "surface": [
           {
            "colorbar": {
             "outlinewidth": 0,
             "ticks": ""
            },
            "colorscale": [
             [
              0,
              "#0d0887"
             ],
             [
              0.1111111111111111,
              "#46039f"
             ],
             [
              0.2222222222222222,
              "#7201a8"
             ],
             [
              0.3333333333333333,
              "#9c179e"
             ],
             [
              0.4444444444444444,
              "#bd3786"
             ],
             [
              0.5555555555555556,
              "#d8576b"
             ],
             [
              0.6666666666666666,
              "#ed7953"
             ],
             [
              0.7777777777777778,
              "#fb9f3a"
             ],
             [
              0.8888888888888888,
              "#fdca26"
             ],
             [
              1,
              "#f0f921"
             ]
            ],
            "type": "surface"
           }
          ],
          "table": [
           {
            "cells": {
             "fill": {
              "color": "#EBF0F8"
             },
             "line": {
              "color": "white"
             }
            },
            "header": {
             "fill": {
              "color": "#C8D4E3"
             },
             "line": {
              "color": "white"
             }
            },
            "type": "table"
           }
          ]
         },
         "layout": {
          "annotationdefaults": {
           "arrowcolor": "#2a3f5f",
           "arrowhead": 0,
           "arrowwidth": 1
          },
          "autotypenumbers": "strict",
          "coloraxis": {
           "colorbar": {
            "outlinewidth": 0,
            "ticks": ""
           }
          },
          "colorscale": {
           "diverging": [
            [
             0,
             "#8e0152"
            ],
            [
             0.1,
             "#c51b7d"
            ],
            [
             0.2,
             "#de77ae"
            ],
            [
             0.3,
             "#f1b6da"
            ],
            [
             0.4,
             "#fde0ef"
            ],
            [
             0.5,
             "#f7f7f7"
            ],
            [
             0.6,
             "#e6f5d0"
            ],
            [
             0.7,
             "#b8e186"
            ],
            [
             0.8,
             "#7fbc41"
            ],
            [
             0.9,
             "#4d9221"
            ],
            [
             1,
             "#276419"
            ]
           ],
           "sequential": [
            [
             0,
             "#0d0887"
            ],
            [
             0.1111111111111111,
             "#46039f"
            ],
            [
             0.2222222222222222,
             "#7201a8"
            ],
            [
             0.3333333333333333,
             "#9c179e"
            ],
            [
             0.4444444444444444,
             "#bd3786"
            ],
            [
             0.5555555555555556,
             "#d8576b"
            ],
            [
             0.6666666666666666,
             "#ed7953"
            ],
            [
             0.7777777777777778,
             "#fb9f3a"
            ],
            [
             0.8888888888888888,
             "#fdca26"
            ],
            [
             1,
             "#f0f921"
            ]
           ],
           "sequentialminus": [
            [
             0,
             "#0d0887"
            ],
            [
             0.1111111111111111,
             "#46039f"
            ],
            [
             0.2222222222222222,
             "#7201a8"
            ],
            [
             0.3333333333333333,
             "#9c179e"
            ],
            [
             0.4444444444444444,
             "#bd3786"
            ],
            [
             0.5555555555555556,
             "#d8576b"
            ],
            [
             0.6666666666666666,
             "#ed7953"
            ],
            [
             0.7777777777777778,
             "#fb9f3a"
            ],
            [
             0.8888888888888888,
             "#fdca26"
            ],
            [
             1,
             "#f0f921"
            ]
           ]
          },
          "colorway": [
           "#636efa",
           "#EF553B",
           "#00cc96",
           "#ab63fa",
           "#FFA15A",
           "#19d3f3",
           "#FF6692",
           "#B6E880",
           "#FF97FF",
           "#FECB52"
          ],
          "font": {
           "color": "#2a3f5f"
          },
          "geo": {
           "bgcolor": "white",
           "lakecolor": "white",
           "landcolor": "#E5ECF6",
           "showlakes": true,
           "showland": true,
           "subunitcolor": "white"
          },
          "hoverlabel": {
           "align": "left"
          },
          "hovermode": "closest",
          "mapbox": {
           "style": "light"
          },
          "paper_bgcolor": "white",
          "plot_bgcolor": "#E5ECF6",
          "polar": {
           "angularaxis": {
            "gridcolor": "white",
            "linecolor": "white",
            "ticks": ""
           },
           "bgcolor": "#E5ECF6",
           "radialaxis": {
            "gridcolor": "white",
            "linecolor": "white",
            "ticks": ""
           }
          },
          "scene": {
           "xaxis": {
            "backgroundcolor": "#E5ECF6",
            "gridcolor": "white",
            "gridwidth": 2,
            "linecolor": "white",
            "showbackground": true,
            "ticks": "",
            "zerolinecolor": "white"
           },
           "yaxis": {
            "backgroundcolor": "#E5ECF6",
            "gridcolor": "white",
            "gridwidth": 2,
            "linecolor": "white",
            "showbackground": true,
            "ticks": "",
            "zerolinecolor": "white"
           },
           "zaxis": {
            "backgroundcolor": "#E5ECF6",
            "gridcolor": "white",
            "gridwidth": 2,
            "linecolor": "white",
            "showbackground": true,
            "ticks": "",
            "zerolinecolor": "white"
           }
          },
          "shapedefaults": {
           "line": {
            "color": "#2a3f5f"
           }
          },
          "ternary": {
           "aaxis": {
            "gridcolor": "white",
            "linecolor": "white",
            "ticks": ""
           },
           "baxis": {
            "gridcolor": "white",
            "linecolor": "white",
            "ticks": ""
           },
           "bgcolor": "#E5ECF6",
           "caxis": {
            "gridcolor": "white",
            "linecolor": "white",
            "ticks": ""
           }
          },
          "title": {
           "x": 0.05
          },
          "xaxis": {
           "automargin": true,
           "gridcolor": "white",
           "linecolor": "white",
           "ticks": "",
           "title": {
            "standoff": 15
           },
           "zerolinecolor": "white",
           "zerolinewidth": 2
          },
          "yaxis": {
           "automargin": true,
           "gridcolor": "white",
           "linecolor": "white",
           "ticks": "",
           "title": {
            "standoff": 15
           },
           "zerolinecolor": "white",
           "zerolinewidth": 2
          }
         }
        },
        "xaxis": {
         "anchor": "y",
         "domain": [
          0,
          1
         ],
         "title": {
          "text": "x"
         }
        },
        "yaxis": {
         "anchor": "x",
         "domain": [
          0,
          1
         ],
         "title": {
          "text": "value"
         }
        }
       }
      }
     },
     "metadata": {},
     "output_type": "display_data"
    }
   ],
   "source": [
    "# Creating a lineplot to viasualize the monthly sales development of the different products\n",
    "fig = px.line(df_sales, x=df_sales.reset_index().index, y=nominal_prod_list)\n",
    "fig.add_shape(\n",
    "            dict(type='line', x0=31, y0=0, x1=31, y1=1, xref='x', yref='paper',\n",
    "                 line=dict(color='red', width=2, dash='dash'))\n",
    "        )\n",
    "\n",
    "fig.show()"
   ]
  }
 ],
 "metadata": {
  "kernelspec": {
   "display_name": "base",
   "language": "python",
   "name": "python3"
  },
  "language_info": {
   "codemirror_mode": {
    "name": "ipython",
    "version": 3
   },
   "file_extension": ".py",
   "mimetype": "text/x-python",
   "name": "python",
   "nbconvert_exporter": "python",
   "pygments_lexer": "ipython3",
   "version": "3.12.7"
  }
 },
 "nbformat": 4,
 "nbformat_minor": 2
}
