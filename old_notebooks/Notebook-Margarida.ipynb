{
 "cells": [
  {
   "cell_type": "markdown",
   "metadata": {},
   "source": [
    "<p align=\"center\">\n",
    "  <img src=\"header.png\" width=\"100%\">\n",
    "</p>\n",
    "\n",
    "\n",
    "<div style=\"text-align: center;\">\n",
    "    <strong style=\"display: block; margin-bottom: 10px;\">Group P</strong> \n",
    "    <table style=\"margin: 0 auto; border-collapse: collapse; border: 1px solid black;\">\n",
    "        <tr>\n",
    "            <th style=\"border: 1px solid white; padding: 8px;\">Name</th>\n",
    "            <th style=\"border: 1px solid white; padding: 8px;\">Student ID</th>\n",
    "        </tr>\n",
    "        <tr>\n",
    "            <td style=\"border: 1px solid white; padding: 8px;\">Beatriz Monteiro</td>\n",
    "            <td style=\"border: 1px solid white; padding: 8px;\">20240591</td>\n",
    "        </tr>\n",
    "        <tr>\n",
    "            <td style=\"border: 1px solid white; padding: 8px;\">Catarina Nunes</td>\n",
    "            <td style=\"border: 1px solid white; padding: 8px;\">20230083</td>\n",
    "        </tr>\n",
    "        <tr>\n",
    "            <td style=\"border: 1px solid white; padding: 8px;\">Margarida Raposo</td>\n",
    "            <td style=\"border: 1px solid white; padding: 8px;\">20241020</td>\n",
    "        </tr>\n",
    "        <tr>\n",
    "            <td style=\"border: 1px solid white; padding: 8px;\">Teresa Menezes</td>\n",
    "            <td style=\"border: 1px solid white; padding: 8px;\">20240333</td>\n",
    "        </tr>\n",
    "    </table>\n",
    "</div>"
   ]
  },
  {
   "cell_type": "markdown",
   "metadata": {},
   "source": [
    "### 🔗 Table of Contents <a id='table-of-contents'></a>\n",
    "1. [Introduction](#introduction)  \n",
    "2. [Business Understanding](#business-understanding)  \n",
    "3. [Data Understanding](#data-understanding)  \n",
    "4. [Data Preparation](#data-preparation)  \n",
    "5. [Modeling](#modeling)  \n",
    "6. [Evaluation](#evaluation)  \n",
    "7. [Conclusion](#conclusion)  \n",
    "\n",
    "---"
   ]
  },
  {
   "cell_type": "markdown",
   "metadata": {},
   "source": [
    "### <span style=\"background-color:#000027; padding:5px; border-radius:5px;\"> 📌 Introduction <a id='introduction'></a>\n",
    "\n",
    "This project follows the **CRISP-DM** methodology to conduct a monthly sales forecast of the smart infrastructure business unit of Siemens. \n",
    "\n",
    "\n",
    "#### Montlhy Sales Forecast\n",
    "\n",
    "<p style=\"margin-bottom: 50px;\"> This case study focuses on ... </p>\n",
    "\n",
    "**Market Data** \n",
    "| Features                                      | Feature Description |\n",
    "|-----------------------------------------------|---------------------|\n",
    "| *MAB_ELE_PRO156*                              |  |\n",
    "| *MAB_ELE_SHP156*                              |  |\n",
    "| *MAB_ELE_PRO250*                              |  |\n",
    "| *MAB_ELE_SHP250*                              |  |\n",
    "| *MAB_ELE_PRO276*                              |  |\n",
    "| *MAB_ELE_SHP276*                              |  |\n",
    "| *MAB_ELE_PRO380*                              |  |\n",
    "| *MAB_ELE_SHP380*                              |  |\n",
    "| *MAB_ELE_PRO392*                              |  |\n",
    "| *MAB_ELE_SHP392*                              |  |\n",
    "| *MAB_ELE_PRO756*                              |  |\n",
    "| *MAB_ELE_SHP756*                              |  |\n",
    "| *MAB_ELE_PRO826*                              |  |\n",
    "| *MAB_ELE_SHP826*                              |  |\n",
    "| *MAB_ELE_PRO840*                              |  |\n",
    "| *MAB_ELE_SHP840*                              |  |\n",
    "| *MAB_ELE_PRO1100*                             |  |\n",
    "| *MAB_ELE_SHP1100*                             |  |\n",
    "| *RohiBASEMET1000_org*                         |  |\n",
    "| *RohiENERGY1000_org*                          |  |\n",
    "| *RohiMETMIN1000_org*                          |  |\n",
    "| *RohiNATGAS1000_org*                          |  |\n",
    "| *RohCRUDE_PETRO1000_org*                      |  |\n",
    "| *RohCOPPER1000_org*                           |  |\n",
    "| *WKLWEUR840_org*                              |  |\n",
    "| *PRI27840_org*                                |  |\n",
    "| *PRI27826_org*                                |  |\n",
    "| *PRI27380_org*                                |  |\n",
    "| *PRI27250_org*                                |  |\n",
    "| *PRI27276_org*                                |  |\n",
    "| *PRI27156_org*                                |  |\n",
    "| *PRO28840_org*                                |  |\n",
    "| *PRO281000_org*                               |  |\n",
    "| *PRO28756_org*                                |  |\n",
    "| *PRO28826_org*                                |  |\n",
    "| *PRO28380_org*                                |  |\n",
    "| *PRO28392_org*                                |  |\n",
    "| *PRO28250_org*                                |  |\n",
    "| *PRO28276_org*                                |  |\n",
    "| *PRO27840_org*                                |  |\n",
    "| *PRO271000_org*                               |  |\n",
    "| *PRO27756_org*                                |  |\n",
    "| *PRO27826_org*                                |  |\n",
    "| *PRO27380_org*                                |  |\n",
    "| *PRO27392_org*                                |  |\n",
    "| *PRO27250_org*                                |  |\n",
    "| *PRO27276_org*                                |  |\n",
    "\n",
    "- **Production index** is an economic indicator that measures the output quantity of a country's industrial sector. In this case the base year is 2010, meaning **if the production index >100, then production decreased, compared to 2010**. \n",
    "\n",
    "\n",
    "**Sales Data**\n",
    "| Features                                      | Feature Description |\n",
    "|-----------------------------------------------|---------------------|\n",
    "| *DATE*                                       |   |\n",
    "| *Mapped_GCK*                                 |   |\n",
    "| *Sales_EUR*                                  |   |\n",
    "\n",
    "<b style=\"background-color:#A9A9A9; padding:5px; border-radius:5px; display: inline-block; margin-top: 50px;\">CRISP-DM</b>\n",
    "\n",
    "<ul style=\"margin-bottom: 30px;\">\n",
    "    <li><u>Business Understanding</u>: Defining objectives, assessing resources, and project planning.</li>\n",
    "    <li><u>Data Understanding</u>: Collecting, exploring, and verifying data quality.</li>\n",
    "    <li><u>Data Preparation</u>: Selecting, cleaning, constructing, integrating, and formatting data to ensure it is ready for analysis.</li>\n",
    "    <li><u>Modeling</u>: Selecting and applying various modeling techniques while calibrating their parameters to optimal values.</li>\n",
    "    <li><u>Evaluation</u>: Select the models which are the best performers and evaluate thoroughly if they align with the business objectives. </li>\n",
    "    <li><u>Deployment</u>: Bridge between data mining goals and the business application of the finalized model.</li>\n",
    "</ul>\n",
    "\n",
    "<hr style=\"margin-top: 30px;\">\n"
   ]
  },
  {
   "cell_type": "code",
   "execution_count": 607,
   "metadata": {},
   "outputs": [],
   "source": [
    "import pandas as pd\n",
    "import numpy as np\n",
    "\n",
    "import seaborn as sns\n",
    "import matplotlib.pyplot as plt\n",
    "import plotly.express as px\n",
    "import plotly.graph_objects as go\n",
    "from sklearn.preprocessing import MinMaxScaler\n",
    "from plotly.subplots import make_subplots\n",
    "from scipy.stats import linregress"
   ]
  },
  {
   "cell_type": "code",
   "execution_count": 608,
   "metadata": {
    "vscode": {
     "languageId": "powershell"
    }
   },
   "outputs": [],
   "source": [
    "pd.set_option('display.max_columns', None)"
   ]
  },
  {
   "cell_type": "code",
   "execution_count": 609,
   "metadata": {
    "vscode": {
     "languageId": "powershell"
    }
   },
   "outputs": [],
   "source": [
    "#compose a pallete to use in the vizualizations\n",
    "pal_novaims = ['#003B5C','#003B5C','#003B5C','#003B5C','#003B5C']\n",
    "pastel_color = sns.utils.set_hls_values(pal_novaims[1], l=0.4, s=0.3)"
   ]
  },
  {
   "cell_type": "markdown",
   "metadata": {},
   "source": [
    "### <span style=\"background-color:#235987; padding:5px; border-radius:5px;\"> 📌 Business Understanding <a id='business-understanding'></a>\n",
    "\n",
    "##### Click [here](#table-of-contents) ⬆️ to return to the Index.\n",
    "---"
   ]
  },
  {
   "cell_type": "markdown",
   "metadata": {},
   "source": [
    "The **Business Understanding** phase of the project entails the comprehension of the background leading to the project, as well as the business goals and requirements to be achieved. \n",
    "\n",
    "<b style=\"background-color:#A9A9A9; padding:5px; border-radius:5px;\">Primary Business Objective</b> : \n",
    "\n",
    "\n",
    "<b style=\"background-color:#A9A9A9; padding:5px; border-radius:5px;\">Plan</b> : "
   ]
  },
  {
   "cell_type": "markdown",
   "metadata": {},
   "source": [
    "### <span style=\"background-color:#235987; padding:5px; border-radius:5px;\"> 📌 Data Understanding</span> <a id='data-understanding'></a>\n",
    "\n",
    "- **[Data Loading and Description](#data-loading-and-description)**  \n",
    "- **[Data Types](#Data-TypesDU)**\n",
    "- **[Univariate EDA: Descriptive Summary](#Descriptive-Summary)**\n",
    "- **[Univariate EDA: Missing values](#missing-valuesDU)**  \n",
    "- **[Inconsistencies](#inconsistenciesDU)**  \n",
    "- **[Feature Engineering](#feature-engineeringDU)**  \n",
    "- **[Univariate EDA: Data Visualization](#univariate-vizualization)**  \n",
    "    - **Numerical Variables:**  \n",
    "        - [Numeric variables: Histograms](#hist)\n",
    "        - [Outliers Analysis: Box-Plots](#box)\n",
    "    - **Categorical Variables**  \n",
    "        - [Categorical variables: Bar Plots](#bar)\n",
    "        - [Categorical variables: Geographic Map](#GeographicMap)\n",
    "- **[Bivariate EDA: Data Visualization](#Bivariate-Vizualization)**  \n",
    "   - [Numeric-Numeric: Correlations](#NNCorrelations)\n",
    "   - [Numeric-Categorical: Correlations](#NCCorrelations)\n",
    "   - [Categorical-Categorical: Cross-tabulations](#CCCross-tabulations)\n",
    "- **[Multivariate EDA: Duplicates](#Multivariate)**\n",
    "   - [Old Segmentation Vs. All](#old-segmentation)\n",
    "   - [Duplicates](#duplicatesdu)  \n",
    "- **[Market Basket Analysis](#MBA)**\n",
    "\n",
    "\n",
    "##### Click [here](#table-of-contents) ⬆️ to return to the Index.\n",
    "---"
   ]
  },
  {
   "cell_type": "markdown",
   "metadata": {},
   "source": [
    "#### <span style=\"background-color:#235987; padding:5px; border-radius:5px;\">**Data Loading and Description**</span> <a id='data-loading-and-description'></a>  \n",
    "_This section provides an overview of the dataset, including its structure, size, and general characteristics._  \n",
    "\n",
    "##### Click [here](#table-of-contents) ⬆️ to return to the Index.\n"
   ]
  },
  {
   "cell_type": "code",
   "execution_count": 610,
   "metadata": {},
   "outputs": [
    {
     "data": {
      "text/html": [
       "<div>\n",
       "<style scoped>\n",
       "    .dataframe tbody tr th:only-of-type {\n",
       "        vertical-align: middle;\n",
       "    }\n",
       "\n",
       "    .dataframe tbody tr th {\n",
       "        vertical-align: top;\n",
       "    }\n",
       "\n",
       "    .dataframe thead th {\n",
       "        text-align: right;\n",
       "    }\n",
       "</style>\n",
       "<table border=\"1\" class=\"dataframe\">\n",
       "  <thead>\n",
       "    <tr style=\"text-align: right;\">\n",
       "      <th></th>\n",
       "      <th>MAB_ELE_PRO156</th>\n",
       "      <th>MAB_ELE_SHP156</th>\n",
       "      <th>MAB_ELE_PRO250</th>\n",
       "      <th>MAB_ELE_SHP250</th>\n",
       "      <th>MAB_ELE_PRO276</th>\n",
       "      <th>MAB_ELE_SHP276</th>\n",
       "      <th>MAB_ELE_PRO380</th>\n",
       "      <th>MAB_ELE_SHP380</th>\n",
       "      <th>MAB_ELE_PRO392</th>\n",
       "      <th>MAB_ELE_SHP392</th>\n",
       "      <th>MAB_ELE_PRO756</th>\n",
       "      <th>MAB_ELE_SHP756</th>\n",
       "      <th>MAB_ELE_PRO826</th>\n",
       "      <th>MAB_ELE_SHP826</th>\n",
       "      <th>MAB_ELE_PRO840</th>\n",
       "      <th>MAB_ELE_SHP840</th>\n",
       "      <th>MAB_ELE_PRO1100</th>\n",
       "      <th>MAB_ELE_SHP1100</th>\n",
       "      <th>RohiBASEMET1000_org</th>\n",
       "      <th>RohiENERGY1000_org</th>\n",
       "      <th>RohiMETMIN1000_org</th>\n",
       "      <th>RohiNATGAS1000_org</th>\n",
       "      <th>RohCRUDE_PETRO1000_org</th>\n",
       "      <th>RohCOPPER1000_org</th>\n",
       "      <th>WKLWEUR840_org</th>\n",
       "      <th>PRI27840_org</th>\n",
       "      <th>PRI27826_org</th>\n",
       "      <th>PRI27380_org</th>\n",
       "      <th>PRI27250_org</th>\n",
       "      <th>PRI27276_org</th>\n",
       "      <th>PRI27156_org</th>\n",
       "      <th>PRO28840_org</th>\n",
       "      <th>PRO281000_org</th>\n",
       "      <th>PRO28756_org</th>\n",
       "      <th>PRO28826_org</th>\n",
       "      <th>PRO28380_org</th>\n",
       "      <th>PRO28392_org</th>\n",
       "      <th>PRO28250_org</th>\n",
       "      <th>PRO28276_org</th>\n",
       "      <th>PRO27840_org</th>\n",
       "      <th>PRO271000_org</th>\n",
       "      <th>PRO27756_org</th>\n",
       "      <th>PRO27826_org</th>\n",
       "      <th>PRO27380_org</th>\n",
       "      <th>PRO27392_org</th>\n",
       "      <th>PRO27250_org</th>\n",
       "      <th>PRO27276_org</th>\n",
       "    </tr>\n",
       "    <tr>\n",
       "      <th>date</th>\n",
       "      <th></th>\n",
       "      <th></th>\n",
       "      <th></th>\n",
       "      <th></th>\n",
       "      <th></th>\n",
       "      <th></th>\n",
       "      <th></th>\n",
       "      <th></th>\n",
       "      <th></th>\n",
       "      <th></th>\n",
       "      <th></th>\n",
       "      <th></th>\n",
       "      <th></th>\n",
       "      <th></th>\n",
       "      <th></th>\n",
       "      <th></th>\n",
       "      <th></th>\n",
       "      <th></th>\n",
       "      <th></th>\n",
       "      <th></th>\n",
       "      <th></th>\n",
       "      <th></th>\n",
       "      <th></th>\n",
       "      <th></th>\n",
       "      <th></th>\n",
       "      <th></th>\n",
       "      <th></th>\n",
       "      <th></th>\n",
       "      <th></th>\n",
       "      <th></th>\n",
       "      <th></th>\n",
       "      <th></th>\n",
       "      <th></th>\n",
       "      <th></th>\n",
       "      <th></th>\n",
       "      <th></th>\n",
       "      <th></th>\n",
       "      <th></th>\n",
       "      <th></th>\n",
       "      <th></th>\n",
       "      <th></th>\n",
       "      <th></th>\n",
       "      <th></th>\n",
       "      <th></th>\n",
       "      <th></th>\n",
       "      <th></th>\n",
       "      <th></th>\n",
       "    </tr>\n",
       "  </thead>\n",
       "  <tbody>\n",
       "    <tr>\n",
       "      <th>2004m2</th>\n",
       "      <td>16.9407</td>\n",
       "      <td>16.9407</td>\n",
       "      <td>112.0913</td>\n",
       "      <td>83.4589</td>\n",
       "      <td>82.6230</td>\n",
       "      <td>79.4525</td>\n",
       "      <td>124.2896</td>\n",
       "      <td>86.5605</td>\n",
       "      <td>109.3340</td>\n",
       "      <td>110.4953</td>\n",
       "      <td>91.2219</td>\n",
       "      <td>89.9873</td>\n",
       "      <td>111.3538</td>\n",
       "      <td>73.6013</td>\n",
       "      <td>107.6014</td>\n",
       "      <td>79.2402</td>\n",
       "      <td>97.1229</td>\n",
       "      <td>80.0985</td>\n",
       "      <td>54.0398</td>\n",
       "      <td>44.1233</td>\n",
       "      <td>48.7479</td>\n",
       "      <td>87.0770</td>\n",
       "      <td>39.6395</td>\n",
       "      <td>36.6238</td>\n",
       "      <td>1.2646</td>\n",
       "      <td>78.9699</td>\n",
       "      <td>80.7574</td>\n",
       "      <td>93.0200</td>\n",
       "      <td>NaN</td>\n",
       "      <td>93.2305</td>\n",
       "      <td>NaN</td>\n",
       "      <td>102.4917</td>\n",
       "      <td>97.5974</td>\n",
       "      <td>97.1000</td>\n",
       "      <td>106.1920</td>\n",
       "      <td>116.7903</td>\n",
       "      <td>110.8900</td>\n",
       "      <td>118.2741</td>\n",
       "      <td>80.8290</td>\n",
       "      <td>117.7240</td>\n",
       "      <td>NaN</td>\n",
       "      <td>81.1000</td>\n",
       "      <td>120.7065</td>\n",
       "      <td>141.5109</td>\n",
       "      <td>106.1613</td>\n",
       "      <td>102.0771</td>\n",
       "      <td>85.9132</td>\n",
       "    </tr>\n",
       "    <tr>\n",
       "      <th>2004m3</th>\n",
       "      <td>23.7119</td>\n",
       "      <td>23.7119</td>\n",
       "      <td>136.3280</td>\n",
       "      <td>106.1682</td>\n",
       "      <td>100.5566</td>\n",
       "      <td>97.0129</td>\n",
       "      <td>143.4117</td>\n",
       "      <td>106.3445</td>\n",
       "      <td>140.8846</td>\n",
       "      <td>144.6862</td>\n",
       "      <td>85.8663</td>\n",
       "      <td>79.8836</td>\n",
       "      <td>127.5586</td>\n",
       "      <td>84.0476</td>\n",
       "      <td>110.1874</td>\n",
       "      <td>98.6190</td>\n",
       "      <td>113.7839</td>\n",
       "      <td>96.0159</td>\n",
       "      <td>54.6662</td>\n",
       "      <td>47.5890</td>\n",
       "      <td>49.2562</td>\n",
       "      <td>87.1927</td>\n",
       "      <td>42.5920</td>\n",
       "      <td>39.9311</td>\n",
       "      <td>1.2262</td>\n",
       "      <td>79.6736</td>\n",
       "      <td>80.9621</td>\n",
       "      <td>93.5403</td>\n",
       "      <td>NaN</td>\n",
       "      <td>93.3357</td>\n",
       "      <td>NaN</td>\n",
       "      <td>105.6275</td>\n",
       "      <td>113.2249</td>\n",
       "      <td>91.1951</td>\n",
       "      <td>121.6251</td>\n",
       "      <td>139.2884</td>\n",
       "      <td>141.1769</td>\n",
       "      <td>148.1218</td>\n",
       "      <td>102.1301</td>\n",
       "      <td>119.2208</td>\n",
       "      <td>NaN</td>\n",
       "      <td>76.6903</td>\n",
       "      <td>138.3095</td>\n",
       "      <td>152.8802</td>\n",
       "      <td>140.2887</td>\n",
       "      <td>117.2257</td>\n",
       "      <td>97.6708</td>\n",
       "    </tr>\n",
       "    <tr>\n",
       "      <th>2004m4</th>\n",
       "      <td>24.4352</td>\n",
       "      <td>24.4352</td>\n",
       "      <td>117.7918</td>\n",
       "      <td>92.0076</td>\n",
       "      <td>89.6532</td>\n",
       "      <td>84.9324</td>\n",
       "      <td>129.0838</td>\n",
       "      <td>95.5797</td>\n",
       "      <td>105.8536</td>\n",
       "      <td>102.6558</td>\n",
       "      <td>85.6225</td>\n",
       "      <td>79.7408</td>\n",
       "      <td>108.7323</td>\n",
       "      <td>73.0260</td>\n",
       "      <td>108.1666</td>\n",
       "      <td>89.7740</td>\n",
       "      <td>101.7152</td>\n",
       "      <td>85.1672</td>\n",
       "      <td>54.8727</td>\n",
       "      <td>47.7790</td>\n",
       "      <td>49.4238</td>\n",
       "      <td>91.3799</td>\n",
       "      <td>42.6506</td>\n",
       "      <td>39.1349</td>\n",
       "      <td>1.1985</td>\n",
       "      <td>80.3376</td>\n",
       "      <td>80.7574</td>\n",
       "      <td>93.8524</td>\n",
       "      <td>NaN</td>\n",
       "      <td>93.4409</td>\n",
       "      <td>NaN</td>\n",
       "      <td>103.4850</td>\n",
       "      <td>100.1691</td>\n",
       "      <td>93.7935</td>\n",
       "      <td>104.9655</td>\n",
       "      <td>125.2896</td>\n",
       "      <td>105.6488</td>\n",
       "      <td>125.4822</td>\n",
       "      <td>90.9614</td>\n",
       "      <td>117.4411</td>\n",
       "      <td>NaN</td>\n",
       "      <td>71.5524</td>\n",
       "      <td>115.5573</td>\n",
       "      <td>137.7969</td>\n",
       "      <td>106.2712</td>\n",
       "      <td>105.3358</td>\n",
       "      <td>87.2540</td>\n",
       "    </tr>\n",
       "    <tr>\n",
       "      <th>2004m5</th>\n",
       "      <td>23.7081</td>\n",
       "      <td>23.7081</td>\n",
       "      <td>109.0025</td>\n",
       "      <td>85.6965</td>\n",
       "      <td>86.8806</td>\n",
       "      <td>82.3728</td>\n",
       "      <td>135.5904</td>\n",
       "      <td>100.0870</td>\n",
       "      <td>101.8648</td>\n",
       "      <td>100.3053</td>\n",
       "      <td>85.3787</td>\n",
       "      <td>79.5980</td>\n",
       "      <td>110.6452</td>\n",
       "      <td>74.5919</td>\n",
       "      <td>108.4259</td>\n",
       "      <td>87.4638</td>\n",
       "      <td>101.2757</td>\n",
       "      <td>84.4858</td>\n",
       "      <td>51.2304</td>\n",
       "      <td>53.5909</td>\n",
       "      <td>46.4684</td>\n",
       "      <td>99.0445</td>\n",
       "      <td>47.5171</td>\n",
       "      <td>36.2784</td>\n",
       "      <td>1.2007</td>\n",
       "      <td>80.7988</td>\n",
       "      <td>80.7574</td>\n",
       "      <td>93.8524</td>\n",
       "      <td>NaN</td>\n",
       "      <td>93.5461</td>\n",
       "      <td>NaN</td>\n",
       "      <td>103.6439</td>\n",
       "      <td>99.5814</td>\n",
       "      <td>96.3920</td>\n",
       "      <td>105.8854</td>\n",
       "      <td>131.9890</td>\n",
       "      <td>101.9904</td>\n",
       "      <td>116.6497</td>\n",
       "      <td>88.0829</td>\n",
       "      <td>117.8992</td>\n",
       "      <td>NaN</td>\n",
       "      <td>66.4145</td>\n",
       "      <td>119.2695</td>\n",
       "      <td>143.8605</td>\n",
       "      <td>101.6087</td>\n",
       "      <td>96.6165</td>\n",
       "      <td>84.6756</td>\n",
       "    </tr>\n",
       "    <tr>\n",
       "      <th>2004m6</th>\n",
       "      <td>27.0091</td>\n",
       "      <td>27.0091</td>\n",
       "      <td>133.7857</td>\n",
       "      <td>106.6415</td>\n",
       "      <td>99.0108</td>\n",
       "      <td>95.1087</td>\n",
       "      <td>136.4249</td>\n",
       "      <td>110.8897</td>\n",
       "      <td>120.3329</td>\n",
       "      <td>119.6164</td>\n",
       "      <td>85.1349</td>\n",
       "      <td>79.4552</td>\n",
       "      <td>122.0210</td>\n",
       "      <td>82.3433</td>\n",
       "      <td>110.5699</td>\n",
       "      <td>97.3645</td>\n",
       "      <td>112.0572</td>\n",
       "      <td>96.9633</td>\n",
       "      <td>52.8763</td>\n",
       "      <td>50.7996</td>\n",
       "      <td>47.8039</td>\n",
       "      <td>98.6363</td>\n",
       "      <td>44.9676</td>\n",
       "      <td>35.6574</td>\n",
       "      <td>1.2138</td>\n",
       "      <td>80.9135</td>\n",
       "      <td>80.5527</td>\n",
       "      <td>93.9565</td>\n",
       "      <td>NaN</td>\n",
       "      <td>93.4409</td>\n",
       "      <td>NaN</td>\n",
       "      <td>106.0627</td>\n",
       "      <td>109.2777</td>\n",
       "      <td>98.9904</td>\n",
       "      <td>118.2523</td>\n",
       "      <td>132.9889</td>\n",
       "      <td>122.1366</td>\n",
       "      <td>143.2487</td>\n",
       "      <td>100.9787</td>\n",
       "      <td>119.4991</td>\n",
       "      <td>NaN</td>\n",
       "      <td>61.2766</td>\n",
       "      <td>128.8494</td>\n",
       "      <td>144.3153</td>\n",
       "      <td>116.6552</td>\n",
       "      <td>118.4587</td>\n",
       "      <td>95.4018</td>\n",
       "    </tr>\n",
       "  </tbody>\n",
       "</table>\n",
       "</div>"
      ],
      "text/plain": [
       "         MAB_ELE_PRO156  MAB_ELE_SHP156  MAB_ELE_PRO250  MAB_ELE_SHP250  \\\n",
       "date                                                                      \n",
       " 2004m2         16.9407         16.9407        112.0913         83.4589   \n",
       " 2004m3         23.7119         23.7119        136.3280        106.1682   \n",
       " 2004m4         24.4352         24.4352        117.7918         92.0076   \n",
       " 2004m5         23.7081         23.7081        109.0025         85.6965   \n",
       " 2004m6         27.0091         27.0091        133.7857        106.6415   \n",
       "\n",
       "         MAB_ELE_PRO276  MAB_ELE_SHP276  MAB_ELE_PRO380  MAB_ELE_SHP380  \\\n",
       "date                                                                      \n",
       " 2004m2         82.6230         79.4525        124.2896         86.5605   \n",
       " 2004m3        100.5566         97.0129        143.4117        106.3445   \n",
       " 2004m4         89.6532         84.9324        129.0838         95.5797   \n",
       " 2004m5         86.8806         82.3728        135.5904        100.0870   \n",
       " 2004m6         99.0108         95.1087        136.4249        110.8897   \n",
       "\n",
       "         MAB_ELE_PRO392  MAB_ELE_SHP392  MAB_ELE_PRO756  MAB_ELE_SHP756  \\\n",
       "date                                                                      \n",
       " 2004m2        109.3340        110.4953         91.2219         89.9873   \n",
       " 2004m3        140.8846        144.6862         85.8663         79.8836   \n",
       " 2004m4        105.8536        102.6558         85.6225         79.7408   \n",
       " 2004m5        101.8648        100.3053         85.3787         79.5980   \n",
       " 2004m6        120.3329        119.6164         85.1349         79.4552   \n",
       "\n",
       "         MAB_ELE_PRO826  MAB_ELE_SHP826  MAB_ELE_PRO840  MAB_ELE_SHP840  \\\n",
       "date                                                                      \n",
       " 2004m2        111.3538         73.6013        107.6014         79.2402   \n",
       " 2004m3        127.5586         84.0476        110.1874         98.6190   \n",
       " 2004m4        108.7323         73.0260        108.1666         89.7740   \n",
       " 2004m5        110.6452         74.5919        108.4259         87.4638   \n",
       " 2004m6        122.0210         82.3433        110.5699         97.3645   \n",
       "\n",
       "         MAB_ELE_PRO1100  MAB_ELE_SHP1100  RohiBASEMET1000_org  \\\n",
       "date                                                             \n",
       " 2004m2          97.1229          80.0985              54.0398   \n",
       " 2004m3         113.7839          96.0159              54.6662   \n",
       " 2004m4         101.7152          85.1672              54.8727   \n",
       " 2004m5         101.2757          84.4858              51.2304   \n",
       " 2004m6         112.0572          96.9633              52.8763   \n",
       "\n",
       "         RohiENERGY1000_org  RohiMETMIN1000_org  RohiNATGAS1000_org  \\\n",
       "date                                                                  \n",
       " 2004m2             44.1233             48.7479             87.0770   \n",
       " 2004m3             47.5890             49.2562             87.1927   \n",
       " 2004m4             47.7790             49.4238             91.3799   \n",
       " 2004m5             53.5909             46.4684             99.0445   \n",
       " 2004m6             50.7996             47.8039             98.6363   \n",
       "\n",
       "         RohCRUDE_PETRO1000_org  RohCOPPER1000_org  WKLWEUR840_org  \\\n",
       "date                                                                 \n",
       " 2004m2                 39.6395            36.6238          1.2646   \n",
       " 2004m3                 42.5920            39.9311          1.2262   \n",
       " 2004m4                 42.6506            39.1349          1.1985   \n",
       " 2004m5                 47.5171            36.2784          1.2007   \n",
       " 2004m6                 44.9676            35.6574          1.2138   \n",
       "\n",
       "         PRI27840_org  PRI27826_org  PRI27380_org  PRI27250_org  PRI27276_org  \\\n",
       "date                                                                            \n",
       " 2004m2       78.9699       80.7574       93.0200           NaN       93.2305   \n",
       " 2004m3       79.6736       80.9621       93.5403           NaN       93.3357   \n",
       " 2004m4       80.3376       80.7574       93.8524           NaN       93.4409   \n",
       " 2004m5       80.7988       80.7574       93.8524           NaN       93.5461   \n",
       " 2004m6       80.9135       80.5527       93.9565           NaN       93.4409   \n",
       "\n",
       "         PRI27156_org  PRO28840_org  PRO281000_org  PRO28756_org  \\\n",
       "date                                                               \n",
       " 2004m2           NaN      102.4917        97.5974       97.1000   \n",
       " 2004m3           NaN      105.6275       113.2249       91.1951   \n",
       " 2004m4           NaN      103.4850       100.1691       93.7935   \n",
       " 2004m5           NaN      103.6439        99.5814       96.3920   \n",
       " 2004m6           NaN      106.0627       109.2777       98.9904   \n",
       "\n",
       "         PRO28826_org  PRO28380_org  PRO28392_org  PRO28250_org  PRO28276_org  \\\n",
       "date                                                                            \n",
       " 2004m2      106.1920      116.7903      110.8900      118.2741       80.8290   \n",
       " 2004m3      121.6251      139.2884      141.1769      148.1218      102.1301   \n",
       " 2004m4      104.9655      125.2896      105.6488      125.4822       90.9614   \n",
       " 2004m5      105.8854      131.9890      101.9904      116.6497       88.0829   \n",
       " 2004m6      118.2523      132.9889      122.1366      143.2487      100.9787   \n",
       "\n",
       "         PRO27840_org  PRO271000_org  PRO27756_org  PRO27826_org  \\\n",
       "date                                                               \n",
       " 2004m2      117.7240            NaN       81.1000      120.7065   \n",
       " 2004m3      119.2208            NaN       76.6903      138.3095   \n",
       " 2004m4      117.4411            NaN       71.5524      115.5573   \n",
       " 2004m5      117.8992            NaN       66.4145      119.2695   \n",
       " 2004m6      119.4991            NaN       61.2766      128.8494   \n",
       "\n",
       "         PRO27380_org  PRO27392_org  PRO27250_org  PRO27276_org  \n",
       "date                                                             \n",
       " 2004m2      141.5109      106.1613      102.0771       85.9132  \n",
       " 2004m3      152.8802      140.2887      117.2257       97.6708  \n",
       " 2004m4      137.7969      106.2712      105.3358       87.2540  \n",
       " 2004m5      143.8605      101.6087       96.6165       84.6756  \n",
       " 2004m6      144.3153      116.6552      118.4587       95.4018  "
      ]
     },
     "execution_count": 610,
     "metadata": {},
     "output_type": "execute_result"
    }
   ],
   "source": [
    "df_market = pd.read_excel('Data/Case2_Market data.xlsx', sheet_name=\"Original Values\", index_col=0, header=2)\n",
    "df_market.head()"
   ]
  },
  {
   "cell_type": "code",
   "execution_count": 611,
   "metadata": {},
   "outputs": [
    {
     "data": {
      "text/html": [
       "<div>\n",
       "<style scoped>\n",
       "    .dataframe tbody tr th:only-of-type {\n",
       "        vertical-align: middle;\n",
       "    }\n",
       "\n",
       "    .dataframe tbody tr th {\n",
       "        vertical-align: top;\n",
       "    }\n",
       "\n",
       "    .dataframe thead th {\n",
       "        text-align: right;\n",
       "    }\n",
       "</style>\n",
       "<table border=\"1\" class=\"dataframe\">\n",
       "  <thead>\n",
       "    <tr style=\"text-align: right;\">\n",
       "      <th></th>\n",
       "      <th>MAB_ELE_PRO156</th>\n",
       "      <th>MAB_ELE_SHP156</th>\n",
       "      <th>MAB_ELE_PRO250</th>\n",
       "      <th>MAB_ELE_SHP250</th>\n",
       "      <th>MAB_ELE_PRO276</th>\n",
       "      <th>MAB_ELE_SHP276</th>\n",
       "      <th>MAB_ELE_PRO380</th>\n",
       "      <th>MAB_ELE_SHP380</th>\n",
       "      <th>MAB_ELE_PRO392</th>\n",
       "      <th>MAB_ELE_SHP392</th>\n",
       "      <th>MAB_ELE_PRO756</th>\n",
       "      <th>MAB_ELE_SHP756</th>\n",
       "      <th>MAB_ELE_PRO826</th>\n",
       "      <th>MAB_ELE_SHP826</th>\n",
       "      <th>MAB_ELE_PRO840</th>\n",
       "      <th>MAB_ELE_SHP840</th>\n",
       "      <th>MAB_ELE_PRO1100</th>\n",
       "      <th>MAB_ELE_SHP1100</th>\n",
       "      <th>RohiBASEMET1000_org</th>\n",
       "      <th>RohiENERGY1000_org</th>\n",
       "      <th>RohiMETMIN1000_org</th>\n",
       "      <th>RohiNATGAS1000_org</th>\n",
       "      <th>RohCRUDE_PETRO1000_org</th>\n",
       "      <th>RohCOPPER1000_org</th>\n",
       "      <th>WKLWEUR840_org</th>\n",
       "      <th>PRI27840_org</th>\n",
       "      <th>PRI27826_org</th>\n",
       "      <th>PRI27380_org</th>\n",
       "      <th>PRI27250_org</th>\n",
       "      <th>PRI27276_org</th>\n",
       "      <th>PRI27156_org</th>\n",
       "      <th>PRO28840_org</th>\n",
       "      <th>PRO281000_org</th>\n",
       "      <th>PRO28756_org</th>\n",
       "      <th>PRO28826_org</th>\n",
       "      <th>PRO28380_org</th>\n",
       "      <th>PRO28392_org</th>\n",
       "      <th>PRO28250_org</th>\n",
       "      <th>PRO28276_org</th>\n",
       "      <th>PRO27840_org</th>\n",
       "      <th>PRO271000_org</th>\n",
       "      <th>PRO27756_org</th>\n",
       "      <th>PRO27826_org</th>\n",
       "      <th>PRO27380_org</th>\n",
       "      <th>PRO27392_org</th>\n",
       "      <th>PRO27250_org</th>\n",
       "      <th>PRO27276_org</th>\n",
       "    </tr>\n",
       "    <tr>\n",
       "      <th>date</th>\n",
       "      <th></th>\n",
       "      <th></th>\n",
       "      <th></th>\n",
       "      <th></th>\n",
       "      <th></th>\n",
       "      <th></th>\n",
       "      <th></th>\n",
       "      <th></th>\n",
       "      <th></th>\n",
       "      <th></th>\n",
       "      <th></th>\n",
       "      <th></th>\n",
       "      <th></th>\n",
       "      <th></th>\n",
       "      <th></th>\n",
       "      <th></th>\n",
       "      <th></th>\n",
       "      <th></th>\n",
       "      <th></th>\n",
       "      <th></th>\n",
       "      <th></th>\n",
       "      <th></th>\n",
       "      <th></th>\n",
       "      <th></th>\n",
       "      <th></th>\n",
       "      <th></th>\n",
       "      <th></th>\n",
       "      <th></th>\n",
       "      <th></th>\n",
       "      <th></th>\n",
       "      <th></th>\n",
       "      <th></th>\n",
       "      <th></th>\n",
       "      <th></th>\n",
       "      <th></th>\n",
       "      <th></th>\n",
       "      <th></th>\n",
       "      <th></th>\n",
       "      <th></th>\n",
       "      <th></th>\n",
       "      <th></th>\n",
       "      <th></th>\n",
       "      <th></th>\n",
       "      <th></th>\n",
       "      <th></th>\n",
       "      <th></th>\n",
       "      <th></th>\n",
       "    </tr>\n",
       "  </thead>\n",
       "  <tbody>\n",
       "    <tr>\n",
       "      <th>2021m12</th>\n",
       "      <td>310.7632</td>\n",
       "      <td>310.7632</td>\n",
       "      <td>100.5657</td>\n",
       "      <td>134.5895</td>\n",
       "      <td>118.1033</td>\n",
       "      <td>149.3643</td>\n",
       "      <td>94.0068</td>\n",
       "      <td>150.4827</td>\n",
       "      <td>127.7717</td>\n",
       "      <td>131.0297</td>\n",
       "      <td>106.7040</td>\n",
       "      <td>104.8192</td>\n",
       "      <td>101.2735</td>\n",
       "      <td>NaN</td>\n",
       "      <td>107.0408</td>\n",
       "      <td>148.5904</td>\n",
       "      <td>123.0767</td>\n",
       "      <td>150.0469</td>\n",
       "      <td>125.2070</td>\n",
       "      <td>112.3730</td>\n",
       "      <td>116.7152</td>\n",
       "      <td>236.4884</td>\n",
       "      <td>92.1887</td>\n",
       "      <td>126.7612</td>\n",
       "      <td>1.1304</td>\n",
       "      <td>128.5113</td>\n",
       "      <td>NaN</td>\n",
       "      <td>113.3096</td>\n",
       "      <td>108.1825</td>\n",
       "      <td>115.7489</td>\n",
       "      <td>98.1062</td>\n",
       "      <td>105.7367</td>\n",
       "      <td>134.5988</td>\n",
       "      <td>102.2775</td>\n",
       "      <td>90.3501</td>\n",
       "      <td>103.1914</td>\n",
       "      <td>136.9755</td>\n",
       "      <td>112.7919</td>\n",
       "      <td>129.1882</td>\n",
       "      <td>109.6241</td>\n",
       "      <td>132.2810</td>\n",
       "      <td>114.3262</td>\n",
       "      <td>121.0658</td>\n",
       "      <td>72.9156</td>\n",
       "      <td>109.0052</td>\n",
       "      <td>80.7633</td>\n",
       "      <td>97.7740</td>\n",
       "    </tr>\n",
       "    <tr>\n",
       "      <th>2022m1</th>\n",
       "      <td>235.9561</td>\n",
       "      <td>235.9561</td>\n",
       "      <td>85.7435</td>\n",
       "      <td>108.1563</td>\n",
       "      <td>94.5506</td>\n",
       "      <td>120.3534</td>\n",
       "      <td>86.8510</td>\n",
       "      <td>101.2583</td>\n",
       "      <td>110.4602</td>\n",
       "      <td>110.8235</td>\n",
       "      <td>103.4993</td>\n",
       "      <td>101.7016</td>\n",
       "      <td>95.0035</td>\n",
       "      <td>NaN</td>\n",
       "      <td>111.0521</td>\n",
       "      <td>129.5658</td>\n",
       "      <td>103.1998</td>\n",
       "      <td>120.3381</td>\n",
       "      <td>133.2194</td>\n",
       "      <td>121.3099</td>\n",
       "      <td>125.2296</td>\n",
       "      <td>196.9111</td>\n",
       "      <td>106.1731</td>\n",
       "      <td>129.8291</td>\n",
       "      <td>1.1314</td>\n",
       "      <td>131.6285</td>\n",
       "      <td>NaN</td>\n",
       "      <td>115.3906</td>\n",
       "      <td>111.0375</td>\n",
       "      <td>117.8534</td>\n",
       "      <td>98.2802</td>\n",
       "      <td>110.8944</td>\n",
       "      <td>117.4899</td>\n",
       "      <td>100.3052</td>\n",
       "      <td>85.4442</td>\n",
       "      <td>92.2923</td>\n",
       "      <td>117.8614</td>\n",
       "      <td>90.5584</td>\n",
       "      <td>92.3431</td>\n",
       "      <td>111.3647</td>\n",
       "      <td>122.2360</td>\n",
       "      <td>108.9992</td>\n",
       "      <td>112.3241</td>\n",
       "      <td>74.3557</td>\n",
       "      <td>95.3691</td>\n",
       "      <td>77.9450</td>\n",
       "      <td>98.5991</td>\n",
       "    </tr>\n",
       "    <tr>\n",
       "      <th>2022m2</th>\n",
       "      <td>235.9561</td>\n",
       "      <td>235.9561</td>\n",
       "      <td>90.6035</td>\n",
       "      <td>117.7158</td>\n",
       "      <td>103.9879</td>\n",
       "      <td>129.3837</td>\n",
       "      <td>106.5838</td>\n",
       "      <td>120.9565</td>\n",
       "      <td>117.8796</td>\n",
       "      <td>118.3002</td>\n",
       "      <td>100.2945</td>\n",
       "      <td>98.5840</td>\n",
       "      <td>98.4584</td>\n",
       "      <td>NaN</td>\n",
       "      <td>116.3363</td>\n",
       "      <td>138.5603</td>\n",
       "      <td>113.5006</td>\n",
       "      <td>131.5001</td>\n",
       "      <td>138.9056</td>\n",
       "      <td>131.2732</td>\n",
       "      <td>131.1765</td>\n",
       "      <td>197.5237</td>\n",
       "      <td>118.3482</td>\n",
       "      <td>131.9636</td>\n",
       "      <td>1.1342</td>\n",
       "      <td>133.3422</td>\n",
       "      <td>NaN</td>\n",
       "      <td>116.4311</td>\n",
       "      <td>112.0571</td>\n",
       "      <td>118.9056</td>\n",
       "      <td>98.7142</td>\n",
       "      <td>117.1682</td>\n",
       "      <td>124.6278</td>\n",
       "      <td>98.3329</td>\n",
       "      <td>89.0214</td>\n",
       "      <td>113.2906</td>\n",
       "      <td>124.7109</td>\n",
       "      <td>97.7665</td>\n",
       "      <td>102.8210</td>\n",
       "      <td>114.6884</td>\n",
       "      <td>127.3734</td>\n",
       "      <td>103.6722</td>\n",
       "      <td>115.5573</td>\n",
       "      <td>91.1824</td>\n",
       "      <td>103.9507</td>\n",
       "      <td>79.0018</td>\n",
       "      <td>106.1281</td>\n",
       "    </tr>\n",
       "    <tr>\n",
       "      <th>2022m3</th>\n",
       "      <td>329.4134</td>\n",
       "      <td>329.4134</td>\n",
       "      <td>107.8435</td>\n",
       "      <td>136.8587</td>\n",
       "      <td>121.3081</td>\n",
       "      <td>151.2013</td>\n",
       "      <td>124.6380</td>\n",
       "      <td>153.6451</td>\n",
       "      <td>152.0006</td>\n",
       "      <td>156.4006</td>\n",
       "      <td>97.0897</td>\n",
       "      <td>95.4663</td>\n",
       "      <td>121.9939</td>\n",
       "      <td>NaN</td>\n",
       "      <td>117.6540</td>\n",
       "      <td>165.9262</td>\n",
       "      <td>133.1330</td>\n",
       "      <td>158.0556</td>\n",
       "      <td>149.8909</td>\n",
       "      <td>163.1868</td>\n",
       "      <td>141.2833</td>\n",
       "      <td>271.0799</td>\n",
       "      <td>142.2009</td>\n",
       "      <td>135.7822</td>\n",
       "      <td>1.1019</td>\n",
       "      <td>136.1538</td>\n",
       "      <td>NaN</td>\n",
       "      <td>117.4716</td>\n",
       "      <td>112.3630</td>\n",
       "      <td>119.8527</td>\n",
       "      <td>99.0216</td>\n",
       "      <td>118.9109</td>\n",
       "      <td>149.3752</td>\n",
       "      <td>96.3606</td>\n",
       "      <td>109.1559</td>\n",
       "      <td>134.2888</td>\n",
       "      <td>160.9542</td>\n",
       "      <td>114.7208</td>\n",
       "      <td>122.0495</td>\n",
       "      <td>115.1641</td>\n",
       "      <td>152.4529</td>\n",
       "      <td>98.3452</td>\n",
       "      <td>145.2550</td>\n",
       "      <td>102.4760</td>\n",
       "      <td>133.7439</td>\n",
       "      <td>96.7046</td>\n",
       "      <td>119.9484</td>\n",
       "    </tr>\n",
       "    <tr>\n",
       "      <th>2022m4</th>\n",
       "      <td>267.3731</td>\n",
       "      <td>267.3731</td>\n",
       "      <td>87.6981</td>\n",
       "      <td>116.5287</td>\n",
       "      <td>99.5222</td>\n",
       "      <td>127.0229</td>\n",
       "      <td>103.5567</td>\n",
       "      <td>128.7333</td>\n",
       "      <td>114.2623</td>\n",
       "      <td>115.0120</td>\n",
       "      <td>NaN</td>\n",
       "      <td>NaN</td>\n",
       "      <td>95.2665</td>\n",
       "      <td>NaN</td>\n",
       "      <td>116.9610</td>\n",
       "      <td>NaN</td>\n",
       "      <td>112.9022</td>\n",
       "      <td>134.9355</td>\n",
       "      <td>146.0910</td>\n",
       "      <td>153.1889</td>\n",
       "      <td>138.0941</td>\n",
       "      <td>243.4360</td>\n",
       "      <td>130.8354</td>\n",
       "      <td>134.8597</td>\n",
       "      <td>1.0819</td>\n",
       "      <td>137.5316</td>\n",
       "      <td>NaN</td>\n",
       "      <td>118.4080</td>\n",
       "      <td>113.2807</td>\n",
       "      <td>121.2206</td>\n",
       "      <td>98.8571</td>\n",
       "      <td>119.3855</td>\n",
       "      <td>128.2857</td>\n",
       "      <td>NaN</td>\n",
       "      <td>84.7287</td>\n",
       "      <td>111.0907</td>\n",
       "      <td>120.0988</td>\n",
       "      <td>91.9797</td>\n",
       "      <td>98.6759</td>\n",
       "      <td>112.1581</td>\n",
       "      <td>134.8434</td>\n",
       "      <td>NaN</td>\n",
       "      <td>114.3598</td>\n",
       "      <td>86.2557</td>\n",
       "      <td>102.3617</td>\n",
       "      <td>80.7633</td>\n",
       "      <td>101.0743</td>\n",
       "    </tr>\n",
       "  </tbody>\n",
       "</table>\n",
       "</div>"
      ],
      "text/plain": [
       "         MAB_ELE_PRO156  MAB_ELE_SHP156  MAB_ELE_PRO250  MAB_ELE_SHP250  \\\n",
       "date                                                                      \n",
       "2021m12        310.7632        310.7632        100.5657        134.5895   \n",
       " 2022m1        235.9561        235.9561         85.7435        108.1563   \n",
       " 2022m2        235.9561        235.9561         90.6035        117.7158   \n",
       " 2022m3        329.4134        329.4134        107.8435        136.8587   \n",
       " 2022m4        267.3731        267.3731         87.6981        116.5287   \n",
       "\n",
       "         MAB_ELE_PRO276  MAB_ELE_SHP276  MAB_ELE_PRO380  MAB_ELE_SHP380  \\\n",
       "date                                                                      \n",
       "2021m12        118.1033        149.3643         94.0068        150.4827   \n",
       " 2022m1         94.5506        120.3534         86.8510        101.2583   \n",
       " 2022m2        103.9879        129.3837        106.5838        120.9565   \n",
       " 2022m3        121.3081        151.2013        124.6380        153.6451   \n",
       " 2022m4         99.5222        127.0229        103.5567        128.7333   \n",
       "\n",
       "         MAB_ELE_PRO392  MAB_ELE_SHP392  MAB_ELE_PRO756  MAB_ELE_SHP756  \\\n",
       "date                                                                      \n",
       "2021m12        127.7717        131.0297        106.7040        104.8192   \n",
       " 2022m1        110.4602        110.8235        103.4993        101.7016   \n",
       " 2022m2        117.8796        118.3002        100.2945         98.5840   \n",
       " 2022m3        152.0006        156.4006         97.0897         95.4663   \n",
       " 2022m4        114.2623        115.0120             NaN             NaN   \n",
       "\n",
       "         MAB_ELE_PRO826  MAB_ELE_SHP826  MAB_ELE_PRO840  MAB_ELE_SHP840  \\\n",
       "date                                                                      \n",
       "2021m12        101.2735             NaN        107.0408        148.5904   \n",
       " 2022m1         95.0035             NaN        111.0521        129.5658   \n",
       " 2022m2         98.4584             NaN        116.3363        138.5603   \n",
       " 2022m3        121.9939             NaN        117.6540        165.9262   \n",
       " 2022m4         95.2665             NaN        116.9610             NaN   \n",
       "\n",
       "         MAB_ELE_PRO1100  MAB_ELE_SHP1100  RohiBASEMET1000_org  \\\n",
       "date                                                             \n",
       "2021m12         123.0767         150.0469             125.2070   \n",
       " 2022m1         103.1998         120.3381             133.2194   \n",
       " 2022m2         113.5006         131.5001             138.9056   \n",
       " 2022m3         133.1330         158.0556             149.8909   \n",
       " 2022m4         112.9022         134.9355             146.0910   \n",
       "\n",
       "         RohiENERGY1000_org  RohiMETMIN1000_org  RohiNATGAS1000_org  \\\n",
       "date                                                                  \n",
       "2021m12            112.3730            116.7152            236.4884   \n",
       " 2022m1            121.3099            125.2296            196.9111   \n",
       " 2022m2            131.2732            131.1765            197.5237   \n",
       " 2022m3            163.1868            141.2833            271.0799   \n",
       " 2022m4            153.1889            138.0941            243.4360   \n",
       "\n",
       "         RohCRUDE_PETRO1000_org  RohCOPPER1000_org  WKLWEUR840_org  \\\n",
       "date                                                                 \n",
       "2021m12                 92.1887           126.7612          1.1304   \n",
       " 2022m1                106.1731           129.8291          1.1314   \n",
       " 2022m2                118.3482           131.9636          1.1342   \n",
       " 2022m3                142.2009           135.7822          1.1019   \n",
       " 2022m4                130.8354           134.8597          1.0819   \n",
       "\n",
       "         PRI27840_org  PRI27826_org  PRI27380_org  PRI27250_org  PRI27276_org  \\\n",
       "date                                                                            \n",
       "2021m12      128.5113           NaN      113.3096      108.1825      115.7489   \n",
       " 2022m1      131.6285           NaN      115.3906      111.0375      117.8534   \n",
       " 2022m2      133.3422           NaN      116.4311      112.0571      118.9056   \n",
       " 2022m3      136.1538           NaN      117.4716      112.3630      119.8527   \n",
       " 2022m4      137.5316           NaN      118.4080      113.2807      121.2206   \n",
       "\n",
       "         PRI27156_org  PRO28840_org  PRO281000_org  PRO28756_org  \\\n",
       "date                                                               \n",
       "2021m12       98.1062      105.7367       134.5988      102.2775   \n",
       " 2022m1       98.2802      110.8944       117.4899      100.3052   \n",
       " 2022m2       98.7142      117.1682       124.6278       98.3329   \n",
       " 2022m3       99.0216      118.9109       149.3752       96.3606   \n",
       " 2022m4       98.8571      119.3855       128.2857           NaN   \n",
       "\n",
       "         PRO28826_org  PRO28380_org  PRO28392_org  PRO28250_org  PRO28276_org  \\\n",
       "date                                                                            \n",
       "2021m12       90.3501      103.1914      136.9755      112.7919      129.1882   \n",
       " 2022m1       85.4442       92.2923      117.8614       90.5584       92.3431   \n",
       " 2022m2       89.0214      113.2906      124.7109       97.7665      102.8210   \n",
       " 2022m3      109.1559      134.2888      160.9542      114.7208      122.0495   \n",
       " 2022m4       84.7287      111.0907      120.0988       91.9797       98.6759   \n",
       "\n",
       "         PRO27840_org  PRO271000_org  PRO27756_org  PRO27826_org  \\\n",
       "date                                                               \n",
       "2021m12      109.6241       132.2810      114.3262      121.0658   \n",
       " 2022m1      111.3647       122.2360      108.9992      112.3241   \n",
       " 2022m2      114.6884       127.3734      103.6722      115.5573   \n",
       " 2022m3      115.1641       152.4529       98.3452      145.2550   \n",
       " 2022m4      112.1581       134.8434           NaN      114.3598   \n",
       "\n",
       "         PRO27380_org  PRO27392_org  PRO27250_org  PRO27276_org  \n",
       "date                                                             \n",
       "2021m12       72.9156      109.0052       80.7633       97.7740  \n",
       " 2022m1       74.3557       95.3691       77.9450       98.5991  \n",
       " 2022m2       91.1824      103.9507       79.0018      106.1281  \n",
       " 2022m3      102.4760      133.7439       96.7046      119.9484  \n",
       " 2022m4       86.2557      102.3617       80.7633      101.0743  "
      ]
     },
     "execution_count": 611,
     "metadata": {},
     "output_type": "execute_result"
    }
   ],
   "source": [
    "df_market.tail()"
   ]
  },
  {
   "cell_type": "code",
   "execution_count": 612,
   "metadata": {},
   "outputs": [
    {
     "data": {
      "text/plain": [
       "(219, 47)"
      ]
     },
     "execution_count": 612,
     "metadata": {},
     "output_type": "execute_result"
    }
   ],
   "source": [
    "df_market.shape"
   ]
  },
  {
   "cell_type": "code",
   "execution_count": 613,
   "metadata": {},
   "outputs": [
    {
     "name": "stdout",
     "output_type": "stream",
     "text": [
      "<class 'pandas.core.frame.DataFrame'>\n",
      "Index: 219 entries,  2004m2 to  2022m4\n",
      "Data columns (total 47 columns):\n",
      " #   Column                  Non-Null Count  Dtype  \n",
      "---  ------                  --------------  -----  \n",
      " 0   MAB_ELE_PRO156          219 non-null    float64\n",
      " 1   MAB_ELE_SHP156          219 non-null    float64\n",
      " 2   MAB_ELE_PRO250          219 non-null    float64\n",
      " 3   MAB_ELE_SHP250          219 non-null    float64\n",
      " 4   MAB_ELE_PRO276          219 non-null    float64\n",
      " 5   MAB_ELE_SHP276          219 non-null    float64\n",
      " 6   MAB_ELE_PRO380          219 non-null    float64\n",
      " 7   MAB_ELE_SHP380          219 non-null    float64\n",
      " 8   MAB_ELE_PRO392          219 non-null    float64\n",
      " 9   MAB_ELE_SHP392          219 non-null    float64\n",
      " 10  MAB_ELE_PRO756          218 non-null    float64\n",
      " 11  MAB_ELE_SHP756          218 non-null    float64\n",
      " 12  MAB_ELE_PRO826          219 non-null    float64\n",
      " 13  MAB_ELE_SHP826          201 non-null    float64\n",
      " 14  MAB_ELE_PRO840          219 non-null    float64\n",
      " 15  MAB_ELE_SHP840          218 non-null    float64\n",
      " 16  MAB_ELE_PRO1100         219 non-null    float64\n",
      " 17  MAB_ELE_SHP1100         219 non-null    float64\n",
      " 18  RohiBASEMET1000_org     219 non-null    float64\n",
      " 19  RohiENERGY1000_org      219 non-null    float64\n",
      " 20  RohiMETMIN1000_org      219 non-null    float64\n",
      " 21  RohiNATGAS1000_org      219 non-null    float64\n",
      " 22  RohCRUDE_PETRO1000_org  219 non-null    float64\n",
      " 23  RohCOPPER1000_org       219 non-null    float64\n",
      " 24  WKLWEUR840_org          219 non-null    float64\n",
      " 25  PRI27840_org            219 non-null    float64\n",
      " 26  PRI27826_org            201 non-null    float64\n",
      " 27  PRI27380_org            219 non-null    float64\n",
      " 28  PRI27250_org            184 non-null    float64\n",
      " 29  PRI27276_org            219 non-null    float64\n",
      " 30  PRI27156_org            196 non-null    float64\n",
      " 31  PRO28840_org            219 non-null    float64\n",
      " 32  PRO281000_org           219 non-null    float64\n",
      " 33  PRO28756_org            218 non-null    float64\n",
      " 34  PRO28826_org            219 non-null    float64\n",
      " 35  PRO28380_org            219 non-null    float64\n",
      " 36  PRO28392_org            219 non-null    float64\n",
      " 37  PRO28250_org            219 non-null    float64\n",
      " 38  PRO28276_org            219 non-null    float64\n",
      " 39  PRO27840_org            219 non-null    float64\n",
      " 40  PRO271000_org           208 non-null    float64\n",
      " 41  PRO27756_org            218 non-null    float64\n",
      " 42  PRO27826_org            219 non-null    float64\n",
      " 43  PRO27380_org            219 non-null    float64\n",
      " 44  PRO27392_org            219 non-null    float64\n",
      " 45  PRO27250_org            219 non-null    float64\n",
      " 46  PRO27276_org            219 non-null    float64\n",
      "dtypes: float64(47)\n",
      "memory usage: 82.1+ KB\n"
     ]
    }
   ],
   "source": [
    "df_market.info()"
   ]
  },
  {
   "cell_type": "code",
   "execution_count": 614,
   "metadata": {},
   "outputs": [
    {
     "data": {
      "text/plain": [
       "MAB_ELE_PRO756     1\n",
       "MAB_ELE_SHP756     1\n",
       "MAB_ELE_SHP826    18\n",
       "MAB_ELE_SHP840     1\n",
       "PRI27826_org      18\n",
       "PRI27250_org      35\n",
       "PRI27156_org      23\n",
       "PRO28756_org       1\n",
       "PRO271000_org     11\n",
       "PRO27756_org       1\n",
       "dtype: int64"
      ]
     },
     "execution_count": 614,
     "metadata": {},
     "output_type": "execute_result"
    }
   ],
   "source": [
    "missing_values = df_market.isnull().sum()\n",
    "\n",
    "features_with_missing_values = missing_values[missing_values > 0]\n",
    "\n",
    "features_with_missing_values"
   ]
  },
  {
   "cell_type": "code",
   "execution_count": 615,
   "metadata": {},
   "outputs": [
    {
     "data": {
      "text/html": [
       "<div>\n",
       "<style scoped>\n",
       "    .dataframe tbody tr th:only-of-type {\n",
       "        vertical-align: middle;\n",
       "    }\n",
       "\n",
       "    .dataframe tbody tr th {\n",
       "        vertical-align: top;\n",
       "    }\n",
       "\n",
       "    .dataframe thead th {\n",
       "        text-align: right;\n",
       "    }\n",
       "</style>\n",
       "<table border=\"1\" class=\"dataframe\">\n",
       "  <thead>\n",
       "    <tr style=\"text-align: right;\">\n",
       "      <th></th>\n",
       "      <th>count</th>\n",
       "      <th>mean</th>\n",
       "      <th>std</th>\n",
       "      <th>min</th>\n",
       "      <th>25%</th>\n",
       "      <th>50%</th>\n",
       "      <th>75%</th>\n",
       "      <th>max</th>\n",
       "    </tr>\n",
       "  </thead>\n",
       "  <tbody>\n",
       "    <tr>\n",
       "      <th>MAB_ELE_PRO156</th>\n",
       "      <td>219.0000</td>\n",
       "      <td>138.3036</td>\n",
       "      <td>78.8832</td>\n",
       "      <td>16.9407</td>\n",
       "      <td>68.4777</td>\n",
       "      <td>133.5077</td>\n",
       "      <td>198.4739</td>\n",
       "      <td>329.4134</td>\n",
       "    </tr>\n",
       "    <tr>\n",
       "      <th>MAB_ELE_SHP156</th>\n",
       "      <td>219.0000</td>\n",
       "      <td>138.3036</td>\n",
       "      <td>78.8832</td>\n",
       "      <td>16.9407</td>\n",
       "      <td>68.4777</td>\n",
       "      <td>133.5077</td>\n",
       "      <td>198.4739</td>\n",
       "      <td>329.4134</td>\n",
       "    </tr>\n",
       "    <tr>\n",
       "      <th>MAB_ELE_PRO250</th>\n",
       "      <td>219.0000</td>\n",
       "      <td>104.4319</td>\n",
       "      <td>18.9185</td>\n",
       "      <td>50.7567</td>\n",
       "      <td>93.6135</td>\n",
       "      <td>102.7366</td>\n",
       "      <td>114.0909</td>\n",
       "      <td>152.7434</td>\n",
       "    </tr>\n",
       "    <tr>\n",
       "      <th>MAB_ELE_SHP250</th>\n",
       "      <td>219.0000</td>\n",
       "      <td>105.3168</td>\n",
       "      <td>12.7622</td>\n",
       "      <td>64.4207</td>\n",
       "      <td>97.4528</td>\n",
       "      <td>106.0122</td>\n",
       "      <td>115.0305</td>\n",
       "      <td>136.8587</td>\n",
       "    </tr>\n",
       "    <tr>\n",
       "      <th>MAB_ELE_PRO276</th>\n",
       "      <td>219.0000</td>\n",
       "      <td>107.4991</td>\n",
       "      <td>11.8619</td>\n",
       "      <td>74.3329</td>\n",
       "      <td>100.5609</td>\n",
       "      <td>108.9923</td>\n",
       "      <td>115.7358</td>\n",
       "      <td>130.8700</td>\n",
       "    </tr>\n",
       "    <tr>\n",
       "      <th>MAB_ELE_SHP276</th>\n",
       "      <td>219.0000</td>\n",
       "      <td>114.8984</td>\n",
       "      <td>17.0916</td>\n",
       "      <td>71.7872</td>\n",
       "      <td>103.1498</td>\n",
       "      <td>117.4288</td>\n",
       "      <td>127.1122</td>\n",
       "      <td>151.2971</td>\n",
       "    </tr>\n",
       "    <tr>\n",
       "      <th>MAB_ELE_PRO380</th>\n",
       "      <td>219.0000</td>\n",
       "      <td>105.2284</td>\n",
       "      <td>23.5096</td>\n",
       "      <td>34.2134</td>\n",
       "      <td>94.3352</td>\n",
       "      <td>105.0885</td>\n",
       "      <td>117.0317</td>\n",
       "      <td>153.9408</td>\n",
       "    </tr>\n",
       "    <tr>\n",
       "      <th>MAB_ELE_SHP380</th>\n",
       "      <td>219.0000</td>\n",
       "      <td>105.7354</td>\n",
       "      <td>19.9482</td>\n",
       "      <td>45.1917</td>\n",
       "      <td>95.9858</td>\n",
       "      <td>107.6958</td>\n",
       "      <td>119.8364</td>\n",
       "      <td>153.6451</td>\n",
       "    </tr>\n",
       "    <tr>\n",
       "      <th>MAB_ELE_PRO392</th>\n",
       "      <td>219.0000</td>\n",
       "      <td>111.9481</td>\n",
       "      <td>15.4893</td>\n",
       "      <td>67.5319</td>\n",
       "      <td>103.7400</td>\n",
       "      <td>111.6830</td>\n",
       "      <td>121.4027</td>\n",
       "      <td>153.8987</td>\n",
       "    </tr>\n",
       "    <tr>\n",
       "      <th>MAB_ELE_SHP392</th>\n",
       "      <td>219.0000</td>\n",
       "      <td>112.6706</td>\n",
       "      <td>16.8919</td>\n",
       "      <td>64.3723</td>\n",
       "      <td>103.4532</td>\n",
       "      <td>112.5973</td>\n",
       "      <td>121.4981</td>\n",
       "      <td>159.4959</td>\n",
       "    </tr>\n",
       "    <tr>\n",
       "      <th>MAB_ELE_PRO756</th>\n",
       "      <td>218.0000</td>\n",
       "      <td>97.8345</td>\n",
       "      <td>8.2415</td>\n",
       "      <td>77.8015</td>\n",
       "      <td>92.4102</td>\n",
       "      <td>97.5731</td>\n",
       "      <td>103.8771</td>\n",
       "      <td>116.6746</td>\n",
       "    </tr>\n",
       "    <tr>\n",
       "      <th>MAB_ELE_SHP756</th>\n",
       "      <td>218.0000</td>\n",
       "      <td>94.7849</td>\n",
       "      <td>9.1539</td>\n",
       "      <td>74.6393</td>\n",
       "      <td>88.2210</td>\n",
       "      <td>94.3768</td>\n",
       "      <td>100.7365</td>\n",
       "      <td>115.3211</td>\n",
       "    </tr>\n",
       "    <tr>\n",
       "      <th>MAB_ELE_PRO826</th>\n",
       "      <td>219.0000</td>\n",
       "      <td>108.7529</td>\n",
       "      <td>12.0967</td>\n",
       "      <td>61.0480</td>\n",
       "      <td>100.4984</td>\n",
       "      <td>108.9110</td>\n",
       "      <td>118.0018</td>\n",
       "      <td>137.6826</td>\n",
       "    </tr>\n",
       "    <tr>\n",
       "      <th>MAB_ELE_SHP826</th>\n",
       "      <td>201.0000</td>\n",
       "      <td>95.9571</td>\n",
       "      <td>12.9462</td>\n",
       "      <td>57.4629</td>\n",
       "      <td>86.1997</td>\n",
       "      <td>97.8689</td>\n",
       "      <td>105.2696</td>\n",
       "      <td>126.3385</td>\n",
       "    </tr>\n",
       "    <tr>\n",
       "      <th>MAB_ELE_PRO840</th>\n",
       "      <td>219.0000</td>\n",
       "      <td>109.4183</td>\n",
       "      <td>7.8913</td>\n",
       "      <td>85.9944</td>\n",
       "      <td>104.6000</td>\n",
       "      <td>110.1536</td>\n",
       "      <td>114.5854</td>\n",
       "      <td>126.6508</td>\n",
       "    </tr>\n",
       "    <tr>\n",
       "      <th>MAB_ELE_SHP840</th>\n",
       "      <td>218.0000</td>\n",
       "      <td>114.1600</td>\n",
       "      <td>14.6334</td>\n",
       "      <td>79.2402</td>\n",
       "      <td>104.5965</td>\n",
       "      <td>115.7134</td>\n",
       "      <td>123.4200</td>\n",
       "      <td>165.9262</td>\n",
       "    </tr>\n",
       "    <tr>\n",
       "      <th>MAB_ELE_PRO1100</th>\n",
       "      <td>219.0000</td>\n",
       "      <td>108.7800</td>\n",
       "      <td>11.8395</td>\n",
       "      <td>69.7866</td>\n",
       "      <td>101.7296</td>\n",
       "      <td>110.3838</td>\n",
       "      <td>115.8325</td>\n",
       "      <td>134.2162</td>\n",
       "    </tr>\n",
       "    <tr>\n",
       "      <th>MAB_ELE_SHP1100</th>\n",
       "      <td>219.0000</td>\n",
       "      <td>110.5511</td>\n",
       "      <td>15.7279</td>\n",
       "      <td>71.1589</td>\n",
       "      <td>98.5880</td>\n",
       "      <td>111.9541</td>\n",
       "      <td>121.6139</td>\n",
       "      <td>158.0556</td>\n",
       "    </tr>\n",
       "    <tr>\n",
       "      <th>RohiBASEMET1000_org</th>\n",
       "      <td>219.0000</td>\n",
       "      <td>89.7333</td>\n",
       "      <td>20.8101</td>\n",
       "      <td>50.8220</td>\n",
       "      <td>76.5905</td>\n",
       "      <td>88.3904</td>\n",
       "      <td>104.3784</td>\n",
       "      <td>149.8909</td>\n",
       "    </tr>\n",
       "    <tr>\n",
       "      <th>RohiENERGY1000_org</th>\n",
       "      <td>219.0000</td>\n",
       "      <td>92.5580</td>\n",
       "      <td>30.6154</td>\n",
       "      <td>31.6323</td>\n",
       "      <td>69.9283</td>\n",
       "      <td>86.2849</td>\n",
       "      <td>120.7204</td>\n",
       "      <td>173.4836</td>\n",
       "    </tr>\n",
       "    <tr>\n",
       "      <th>RohiMETMIN1000_org</th>\n",
       "      <td>219.0000</td>\n",
       "      <td>86.0649</td>\n",
       "      <td>21.4108</td>\n",
       "      <td>46.4684</td>\n",
       "      <td>71.9569</td>\n",
       "      <td>85.0702</td>\n",
       "      <td>100.7957</td>\n",
       "      <td>141.2833</td>\n",
       "    </tr>\n",
       "    <tr>\n",
       "      <th>RohiNATGAS1000_org</th>\n",
       "      <td>219.0000</td>\n",
       "      <td>103.3678</td>\n",
       "      <td>41.7474</td>\n",
       "      <td>33.9923</td>\n",
       "      <td>72.5948</td>\n",
       "      <td>100.2854</td>\n",
       "      <td>119.1734</td>\n",
       "      <td>271.0799</td>\n",
       "    </tr>\n",
       "    <tr>\n",
       "      <th>RohCRUDE_PETRO1000_org</th>\n",
       "      <td>219.0000</td>\n",
       "      <td>89.4465</td>\n",
       "      <td>30.7368</td>\n",
       "      <td>26.6234</td>\n",
       "      <td>66.7040</td>\n",
       "      <td>82.4350</td>\n",
       "      <td>116.4139</td>\n",
       "      <td>168.0464</td>\n",
       "    </tr>\n",
       "    <tr>\n",
       "      <th>RohCOPPER1000_org</th>\n",
       "      <td>219.0000</td>\n",
       "      <td>86.3443</td>\n",
       "      <td>23.8115</td>\n",
       "      <td>35.6574</td>\n",
       "      <td>72.3822</td>\n",
       "      <td>88.9860</td>\n",
       "      <td>101.7309</td>\n",
       "      <td>135.7822</td>\n",
       "    </tr>\n",
       "    <tr>\n",
       "      <th>WKLWEUR840_org</th>\n",
       "      <td>219.0000</td>\n",
       "      <td>1.2535</td>\n",
       "      <td>0.1202</td>\n",
       "      <td>1.0543</td>\n",
       "      <td>1.1439</td>\n",
       "      <td>1.2400</td>\n",
       "      <td>1.3359</td>\n",
       "      <td>1.5770</td>\n",
       "    </tr>\n",
       "    <tr>\n",
       "      <th>PRI27840_org</th>\n",
       "      <td>219.0000</td>\n",
       "      <td>102.1857</td>\n",
       "      <td>10.5241</td>\n",
       "      <td>78.9699</td>\n",
       "      <td>97.3386</td>\n",
       "      <td>103.8836</td>\n",
       "      <td>105.5929</td>\n",
       "      <td>137.5316</td>\n",
       "    </tr>\n",
       "    <tr>\n",
       "      <th>PRI27826_org</th>\n",
       "      <td>201.0000</td>\n",
       "      <td>100.1512</td>\n",
       "      <td>10.5494</td>\n",
       "      <td>80.5527</td>\n",
       "      <td>91.8117</td>\n",
       "      <td>102.2518</td>\n",
       "      <td>109.9284</td>\n",
       "      <td>116.5814</td>\n",
       "    </tr>\n",
       "    <tr>\n",
       "      <th>PRI27380_org</th>\n",
       "      <td>219.0000</td>\n",
       "      <td>102.1650</td>\n",
       "      <td>4.4549</td>\n",
       "      <td>93.0200</td>\n",
       "      <td>99.0549</td>\n",
       "      <td>103.3209</td>\n",
       "      <td>104.8816</td>\n",
       "      <td>118.4080</td>\n",
       "    </tr>\n",
       "    <tr>\n",
       "      <th>PRI27250_org</th>\n",
       "      <td>184.0000</td>\n",
       "      <td>101.9694</td>\n",
       "      <td>2.6469</td>\n",
       "      <td>96.8646</td>\n",
       "      <td>100.2294</td>\n",
       "      <td>102.2687</td>\n",
       "      <td>103.0844</td>\n",
       "      <td>113.2807</td>\n",
       "    </tr>\n",
       "    <tr>\n",
       "      <th>PRI27276_org</th>\n",
       "      <td>219.0000</td>\n",
       "      <td>103.1736</td>\n",
       "      <td>6.0764</td>\n",
       "      <td>93.2305</td>\n",
       "      <td>98.7022</td>\n",
       "      <td>103.4374</td>\n",
       "      <td>107.1203</td>\n",
       "      <td>121.2206</td>\n",
       "    </tr>\n",
       "    <tr>\n",
       "      <th>PRI27156_org</th>\n",
       "      <td>196.0000</td>\n",
       "      <td>97.6814</td>\n",
       "      <td>3.2359</td>\n",
       "      <td>90.2923</td>\n",
       "      <td>95.0728</td>\n",
       "      <td>97.8530</td>\n",
       "      <td>99.8595</td>\n",
       "      <td>104.5499</td>\n",
       "    </tr>\n",
       "    <tr>\n",
       "      <th>PRO28840_org</th>\n",
       "      <td>219.0000</td>\n",
       "      <td>108.6688</td>\n",
       "      <td>9.1324</td>\n",
       "      <td>83.1973</td>\n",
       "      <td>102.8445</td>\n",
       "      <td>109.3037</td>\n",
       "      <td>114.9915</td>\n",
       "      <td>131.2298</td>\n",
       "    </tr>\n",
       "    <tr>\n",
       "      <th>PRO281000_org</th>\n",
       "      <td>219.0000</td>\n",
       "      <td>112.4664</td>\n",
       "      <td>12.4112</td>\n",
       "      <td>74.7610</td>\n",
       "      <td>104.8336</td>\n",
       "      <td>113.6166</td>\n",
       "      <td>120.5877</td>\n",
       "      <td>149.3752</td>\n",
       "    </tr>\n",
       "    <tr>\n",
       "      <th>PRO28756_org</th>\n",
       "      <td>218.0000</td>\n",
       "      <td>99.7171</td>\n",
       "      <td>10.4680</td>\n",
       "      <td>77.9526</td>\n",
       "      <td>92.9796</td>\n",
       "      <td>98.0512</td>\n",
       "      <td>105.0012</td>\n",
       "      <td>135.3369</td>\n",
       "    </tr>\n",
       "    <tr>\n",
       "      <th>PRO28826_org</th>\n",
       "      <td>219.0000</td>\n",
       "      <td>104.3849</td>\n",
       "      <td>13.2227</td>\n",
       "      <td>51.7162</td>\n",
       "      <td>94.5916</td>\n",
       "      <td>105.3743</td>\n",
       "      <td>114.0618</td>\n",
       "      <td>133.3788</td>\n",
       "    </tr>\n",
       "    <tr>\n",
       "      <th>PRO28380_org</th>\n",
       "      <td>219.0000</td>\n",
       "      <td>109.4863</td>\n",
       "      <td>22.4910</td>\n",
       "      <td>33.7972</td>\n",
       "      <td>99.7417</td>\n",
       "      <td>112.4906</td>\n",
       "      <td>123.4897</td>\n",
       "      <td>154.0872</td>\n",
       "    </tr>\n",
       "    <tr>\n",
       "      <th>PRO28392_org</th>\n",
       "      <td>219.0000</td>\n",
       "      <td>115.0832</td>\n",
       "      <td>17.4083</td>\n",
       "      <td>64.0824</td>\n",
       "      <td>105.4155</td>\n",
       "      <td>115.0922</td>\n",
       "      <td>125.6806</td>\n",
       "      <td>160.9542</td>\n",
       "    </tr>\n",
       "    <tr>\n",
       "      <th>PRO28250_org</th>\n",
       "      <td>219.0000</td>\n",
       "      <td>109.1167</td>\n",
       "      <td>21.0501</td>\n",
       "      <td>54.4162</td>\n",
       "      <td>96.5990</td>\n",
       "      <td>106.3959</td>\n",
       "      <td>120.5584</td>\n",
       "      <td>167.0051</td>\n",
       "    </tr>\n",
       "    <tr>\n",
       "      <th>PRO28276_org</th>\n",
       "      <td>219.0000</td>\n",
       "      <td>110.4292</td>\n",
       "      <td>14.3517</td>\n",
       "      <td>71.6177</td>\n",
       "      <td>102.0150</td>\n",
       "      <td>111.3414</td>\n",
       "      <td>120.2073</td>\n",
       "      <td>147.2654</td>\n",
       "    </tr>\n",
       "    <tr>\n",
       "      <th>PRO27840_org</th>\n",
       "      <td>219.0000</td>\n",
       "      <td>110.9029</td>\n",
       "      <td>8.4446</td>\n",
       "      <td>91.5358</td>\n",
       "      <td>106.6172</td>\n",
       "      <td>109.1566</td>\n",
       "      <td>116.4813</td>\n",
       "      <td>129.7133</td>\n",
       "    </tr>\n",
       "    <tr>\n",
       "      <th>PRO271000_org</th>\n",
       "      <td>208.0000</td>\n",
       "      <td>111.1471</td>\n",
       "      <td>12.3212</td>\n",
       "      <td>83.3102</td>\n",
       "      <td>102.7984</td>\n",
       "      <td>110.2844</td>\n",
       "      <td>117.5515</td>\n",
       "      <td>152.4529</td>\n",
       "    </tr>\n",
       "    <tr>\n",
       "      <th>PRO27756_org</th>\n",
       "      <td>218.0000</td>\n",
       "      <td>94.5929</td>\n",
       "      <td>13.4650</td>\n",
       "      <td>56.8322</td>\n",
       "      <td>90.2837</td>\n",
       "      <td>97.6202</td>\n",
       "      <td>103.2388</td>\n",
       "      <td>117.5414</td>\n",
       "    </tr>\n",
       "    <tr>\n",
       "      <th>PRO27826_org</th>\n",
       "      <td>219.0000</td>\n",
       "      <td>116.6673</td>\n",
       "      <td>13.2053</td>\n",
       "      <td>77.9563</td>\n",
       "      <td>107.4144</td>\n",
       "      <td>116.9943</td>\n",
       "      <td>125.9755</td>\n",
       "      <td>154.8348</td>\n",
       "    </tr>\n",
       "    <tr>\n",
       "      <th>PRO27380_org</th>\n",
       "      <td>219.0000</td>\n",
       "      <td>95.4505</td>\n",
       "      <td>29.1954</td>\n",
       "      <td>34.4871</td>\n",
       "      <td>79.1688</td>\n",
       "      <td>88.3780</td>\n",
       "      <td>110.4725</td>\n",
       "      <td>164.8560</td>\n",
       "    </tr>\n",
       "    <tr>\n",
       "      <th>PRO27392_org</th>\n",
       "      <td>219.0000</td>\n",
       "      <td>105.5558</td>\n",
       "      <td>12.5925</td>\n",
       "      <td>74.5655</td>\n",
       "      <td>97.5477</td>\n",
       "      <td>104.3663</td>\n",
       "      <td>112.4851</td>\n",
       "      <td>141.9775</td>\n",
       "    </tr>\n",
       "    <tr>\n",
       "      <th>PRO27250_org</th>\n",
       "      <td>219.0000</td>\n",
       "      <td>96.8441</td>\n",
       "      <td>16.8578</td>\n",
       "      <td>44.8294</td>\n",
       "      <td>84.7706</td>\n",
       "      <td>95.8238</td>\n",
       "      <td>108.1541</td>\n",
       "      <td>141.2697</td>\n",
       "    </tr>\n",
       "    <tr>\n",
       "      <th>PRO27276_org</th>\n",
       "      <td>219.0000</td>\n",
       "      <td>102.1255</td>\n",
       "      <td>9.9599</td>\n",
       "      <td>76.4246</td>\n",
       "      <td>95.6596</td>\n",
       "      <td>103.5496</td>\n",
       "      <td>108.8612</td>\n",
       "      <td>121.4955</td>\n",
       "    </tr>\n",
       "  </tbody>\n",
       "</table>\n",
       "</div>"
      ],
      "text/plain": [
       "                          count     mean     std     min      25%      50%  \\\n",
       "MAB_ELE_PRO156         219.0000 138.3036 78.8832 16.9407  68.4777 133.5077   \n",
       "MAB_ELE_SHP156         219.0000 138.3036 78.8832 16.9407  68.4777 133.5077   \n",
       "MAB_ELE_PRO250         219.0000 104.4319 18.9185 50.7567  93.6135 102.7366   \n",
       "MAB_ELE_SHP250         219.0000 105.3168 12.7622 64.4207  97.4528 106.0122   \n",
       "MAB_ELE_PRO276         219.0000 107.4991 11.8619 74.3329 100.5609 108.9923   \n",
       "MAB_ELE_SHP276         219.0000 114.8984 17.0916 71.7872 103.1498 117.4288   \n",
       "MAB_ELE_PRO380         219.0000 105.2284 23.5096 34.2134  94.3352 105.0885   \n",
       "MAB_ELE_SHP380         219.0000 105.7354 19.9482 45.1917  95.9858 107.6958   \n",
       "MAB_ELE_PRO392         219.0000 111.9481 15.4893 67.5319 103.7400 111.6830   \n",
       "MAB_ELE_SHP392         219.0000 112.6706 16.8919 64.3723 103.4532 112.5973   \n",
       "MAB_ELE_PRO756         218.0000  97.8345  8.2415 77.8015  92.4102  97.5731   \n",
       "MAB_ELE_SHP756         218.0000  94.7849  9.1539 74.6393  88.2210  94.3768   \n",
       "MAB_ELE_PRO826         219.0000 108.7529 12.0967 61.0480 100.4984 108.9110   \n",
       "MAB_ELE_SHP826         201.0000  95.9571 12.9462 57.4629  86.1997  97.8689   \n",
       "MAB_ELE_PRO840         219.0000 109.4183  7.8913 85.9944 104.6000 110.1536   \n",
       "MAB_ELE_SHP840         218.0000 114.1600 14.6334 79.2402 104.5965 115.7134   \n",
       "MAB_ELE_PRO1100        219.0000 108.7800 11.8395 69.7866 101.7296 110.3838   \n",
       "MAB_ELE_SHP1100        219.0000 110.5511 15.7279 71.1589  98.5880 111.9541   \n",
       "RohiBASEMET1000_org    219.0000  89.7333 20.8101 50.8220  76.5905  88.3904   \n",
       "RohiENERGY1000_org     219.0000  92.5580 30.6154 31.6323  69.9283  86.2849   \n",
       "RohiMETMIN1000_org     219.0000  86.0649 21.4108 46.4684  71.9569  85.0702   \n",
       "RohiNATGAS1000_org     219.0000 103.3678 41.7474 33.9923  72.5948 100.2854   \n",
       "RohCRUDE_PETRO1000_org 219.0000  89.4465 30.7368 26.6234  66.7040  82.4350   \n",
       "RohCOPPER1000_org      219.0000  86.3443 23.8115 35.6574  72.3822  88.9860   \n",
       "WKLWEUR840_org         219.0000   1.2535  0.1202  1.0543   1.1439   1.2400   \n",
       "PRI27840_org           219.0000 102.1857 10.5241 78.9699  97.3386 103.8836   \n",
       "PRI27826_org           201.0000 100.1512 10.5494 80.5527  91.8117 102.2518   \n",
       "PRI27380_org           219.0000 102.1650  4.4549 93.0200  99.0549 103.3209   \n",
       "PRI27250_org           184.0000 101.9694  2.6469 96.8646 100.2294 102.2687   \n",
       "PRI27276_org           219.0000 103.1736  6.0764 93.2305  98.7022 103.4374   \n",
       "PRI27156_org           196.0000  97.6814  3.2359 90.2923  95.0728  97.8530   \n",
       "PRO28840_org           219.0000 108.6688  9.1324 83.1973 102.8445 109.3037   \n",
       "PRO281000_org          219.0000 112.4664 12.4112 74.7610 104.8336 113.6166   \n",
       "PRO28756_org           218.0000  99.7171 10.4680 77.9526  92.9796  98.0512   \n",
       "PRO28826_org           219.0000 104.3849 13.2227 51.7162  94.5916 105.3743   \n",
       "PRO28380_org           219.0000 109.4863 22.4910 33.7972  99.7417 112.4906   \n",
       "PRO28392_org           219.0000 115.0832 17.4083 64.0824 105.4155 115.0922   \n",
       "PRO28250_org           219.0000 109.1167 21.0501 54.4162  96.5990 106.3959   \n",
       "PRO28276_org           219.0000 110.4292 14.3517 71.6177 102.0150 111.3414   \n",
       "PRO27840_org           219.0000 110.9029  8.4446 91.5358 106.6172 109.1566   \n",
       "PRO271000_org          208.0000 111.1471 12.3212 83.3102 102.7984 110.2844   \n",
       "PRO27756_org           218.0000  94.5929 13.4650 56.8322  90.2837  97.6202   \n",
       "PRO27826_org           219.0000 116.6673 13.2053 77.9563 107.4144 116.9943   \n",
       "PRO27380_org           219.0000  95.4505 29.1954 34.4871  79.1688  88.3780   \n",
       "PRO27392_org           219.0000 105.5558 12.5925 74.5655  97.5477 104.3663   \n",
       "PRO27250_org           219.0000  96.8441 16.8578 44.8294  84.7706  95.8238   \n",
       "PRO27276_org           219.0000 102.1255  9.9599 76.4246  95.6596 103.5496   \n",
       "\n",
       "                            75%      max  \n",
       "MAB_ELE_PRO156         198.4739 329.4134  \n",
       "MAB_ELE_SHP156         198.4739 329.4134  \n",
       "MAB_ELE_PRO250         114.0909 152.7434  \n",
       "MAB_ELE_SHP250         115.0305 136.8587  \n",
       "MAB_ELE_PRO276         115.7358 130.8700  \n",
       "MAB_ELE_SHP276         127.1122 151.2971  \n",
       "MAB_ELE_PRO380         117.0317 153.9408  \n",
       "MAB_ELE_SHP380         119.8364 153.6451  \n",
       "MAB_ELE_PRO392         121.4027 153.8987  \n",
       "MAB_ELE_SHP392         121.4981 159.4959  \n",
       "MAB_ELE_PRO756         103.8771 116.6746  \n",
       "MAB_ELE_SHP756         100.7365 115.3211  \n",
       "MAB_ELE_PRO826         118.0018 137.6826  \n",
       "MAB_ELE_SHP826         105.2696 126.3385  \n",
       "MAB_ELE_PRO840         114.5854 126.6508  \n",
       "MAB_ELE_SHP840         123.4200 165.9262  \n",
       "MAB_ELE_PRO1100        115.8325 134.2162  \n",
       "MAB_ELE_SHP1100        121.6139 158.0556  \n",
       "RohiBASEMET1000_org    104.3784 149.8909  \n",
       "RohiENERGY1000_org     120.7204 173.4836  \n",
       "RohiMETMIN1000_org     100.7957 141.2833  \n",
       "RohiNATGAS1000_org     119.1734 271.0799  \n",
       "RohCRUDE_PETRO1000_org 116.4139 168.0464  \n",
       "RohCOPPER1000_org      101.7309 135.7822  \n",
       "WKLWEUR840_org           1.3359   1.5770  \n",
       "PRI27840_org           105.5929 137.5316  \n",
       "PRI27826_org           109.9284 116.5814  \n",
       "PRI27380_org           104.8816 118.4080  \n",
       "PRI27250_org           103.0844 113.2807  \n",
       "PRI27276_org           107.1203 121.2206  \n",
       "PRI27156_org            99.8595 104.5499  \n",
       "PRO28840_org           114.9915 131.2298  \n",
       "PRO281000_org          120.5877 149.3752  \n",
       "PRO28756_org           105.0012 135.3369  \n",
       "PRO28826_org           114.0618 133.3788  \n",
       "PRO28380_org           123.4897 154.0872  \n",
       "PRO28392_org           125.6806 160.9542  \n",
       "PRO28250_org           120.5584 167.0051  \n",
       "PRO28276_org           120.2073 147.2654  \n",
       "PRO27840_org           116.4813 129.7133  \n",
       "PRO271000_org          117.5515 152.4529  \n",
       "PRO27756_org           103.2388 117.5414  \n",
       "PRO27826_org           125.9755 154.8348  \n",
       "PRO27380_org           110.4725 164.8560  \n",
       "PRO27392_org           112.4851 141.9775  \n",
       "PRO27250_org           108.1541 141.2697  \n",
       "PRO27276_org           108.8612 121.4955  "
      ]
     },
     "execution_count": 615,
     "metadata": {},
     "output_type": "execute_result"
    }
   ],
   "source": [
    "df_market.describe().T"
   ]
  },
  {
   "cell_type": "code",
   "execution_count": 616,
   "metadata": {},
   "outputs": [
    {
     "data": {
      "text/html": [
       "<div>\n",
       "<style scoped>\n",
       "    .dataframe tbody tr th:only-of-type {\n",
       "        vertical-align: middle;\n",
       "    }\n",
       "\n",
       "    .dataframe tbody tr th {\n",
       "        vertical-align: top;\n",
       "    }\n",
       "\n",
       "    .dataframe thead th {\n",
       "        text-align: right;\n",
       "    }\n",
       "</style>\n",
       "<table border=\"1\" class=\"dataframe\">\n",
       "  <thead>\n",
       "    <tr style=\"text-align: right;\">\n",
       "      <th></th>\n",
       "      <th>DATE</th>\n",
       "      <th>Mapped_GCK</th>\n",
       "      <th>Sales_EUR</th>\n",
       "    </tr>\n",
       "  </thead>\n",
       "  <tbody>\n",
       "    <tr>\n",
       "      <th>0</th>\n",
       "      <td>01.10.2018</td>\n",
       "      <td>#1</td>\n",
       "      <td>0</td>\n",
       "    </tr>\n",
       "    <tr>\n",
       "      <th>1</th>\n",
       "      <td>02.10.2018</td>\n",
       "      <td>#1</td>\n",
       "      <td>0</td>\n",
       "    </tr>\n",
       "    <tr>\n",
       "      <th>2</th>\n",
       "      <td>03.10.2018</td>\n",
       "      <td>#1</td>\n",
       "      <td>0</td>\n",
       "    </tr>\n",
       "    <tr>\n",
       "      <th>3</th>\n",
       "      <td>04.10.2018</td>\n",
       "      <td>#1</td>\n",
       "      <td>0</td>\n",
       "    </tr>\n",
       "    <tr>\n",
       "      <th>4</th>\n",
       "      <td>05.10.2018</td>\n",
       "      <td>#1</td>\n",
       "      <td>0</td>\n",
       "    </tr>\n",
       "  </tbody>\n",
       "</table>\n",
       "</div>"
      ],
      "text/plain": [
       "         DATE Mapped_GCK Sales_EUR\n",
       "0  01.10.2018         #1         0\n",
       "1  02.10.2018         #1         0\n",
       "2  03.10.2018         #1         0\n",
       "3  04.10.2018         #1         0\n",
       "4  05.10.2018         #1         0"
      ]
     },
     "execution_count": 616,
     "metadata": {},
     "output_type": "execute_result"
    }
   ],
   "source": [
    "df_sales = pd.read_csv('Data/Case2_Sales data.csv', delimiter=';')\n",
    "df_sales.head()"
   ]
  },
  {
   "cell_type": "code",
   "execution_count": 617,
   "metadata": {},
   "outputs": [
    {
     "data": {
      "text/html": [
       "<div>\n",
       "<style scoped>\n",
       "    .dataframe tbody tr th:only-of-type {\n",
       "        vertical-align: middle;\n",
       "    }\n",
       "\n",
       "    .dataframe tbody tr th {\n",
       "        vertical-align: top;\n",
       "    }\n",
       "\n",
       "    .dataframe thead th {\n",
       "        text-align: right;\n",
       "    }\n",
       "</style>\n",
       "<table border=\"1\" class=\"dataframe\">\n",
       "  <thead>\n",
       "    <tr style=\"text-align: right;\">\n",
       "      <th></th>\n",
       "      <th>DATE</th>\n",
       "      <th>Mapped_GCK</th>\n",
       "      <th>Sales_EUR</th>\n",
       "    </tr>\n",
       "  </thead>\n",
       "  <tbody>\n",
       "    <tr>\n",
       "      <th>9797</th>\n",
       "      <td>23.08.2019</td>\n",
       "      <td>#12</td>\n",
       "      <td>0</td>\n",
       "    </tr>\n",
       "    <tr>\n",
       "      <th>9798</th>\n",
       "      <td>23.08.2019</td>\n",
       "      <td>#36</td>\n",
       "      <td>1015</td>\n",
       "    </tr>\n",
       "    <tr>\n",
       "      <th>9799</th>\n",
       "      <td>12.08.2019</td>\n",
       "      <td>#12</td>\n",
       "      <td>0</td>\n",
       "    </tr>\n",
       "    <tr>\n",
       "      <th>9800</th>\n",
       "      <td>28.08.2019</td>\n",
       "      <td>#8</td>\n",
       "      <td>43763,91</td>\n",
       "    </tr>\n",
       "    <tr>\n",
       "      <th>9801</th>\n",
       "      <td>27.08.2019</td>\n",
       "      <td>#8</td>\n",
       "      <td>0</td>\n",
       "    </tr>\n",
       "  </tbody>\n",
       "</table>\n",
       "</div>"
      ],
      "text/plain": [
       "            DATE Mapped_GCK Sales_EUR\n",
       "9797  23.08.2019        #12         0\n",
       "9798  23.08.2019        #36      1015\n",
       "9799  12.08.2019        #12         0\n",
       "9800  28.08.2019         #8  43763,91\n",
       "9801  27.08.2019         #8         0"
      ]
     },
     "execution_count": 617,
     "metadata": {},
     "output_type": "execute_result"
    }
   ],
   "source": [
    "df_sales.tail()"
   ]
  },
  {
   "cell_type": "code",
   "execution_count": 618,
   "metadata": {},
   "outputs": [
    {
     "data": {
      "text/plain": [
       "(9802, 3)"
      ]
     },
     "execution_count": 618,
     "metadata": {},
     "output_type": "execute_result"
    }
   ],
   "source": [
    "df_sales.shape"
   ]
  },
  {
   "cell_type": "code",
   "execution_count": 619,
   "metadata": {},
   "outputs": [
    {
     "data": {
      "text/html": [
       "<div>\n",
       "<style scoped>\n",
       "    .dataframe tbody tr th:only-of-type {\n",
       "        vertical-align: middle;\n",
       "    }\n",
       "\n",
       "    .dataframe tbody tr th {\n",
       "        vertical-align: top;\n",
       "    }\n",
       "\n",
       "    .dataframe thead th {\n",
       "        text-align: right;\n",
       "    }\n",
       "</style>\n",
       "<table border=\"1\" class=\"dataframe\">\n",
       "  <thead>\n",
       "    <tr style=\"text-align: right;\">\n",
       "      <th></th>\n",
       "      <th>DATE</th>\n",
       "      <th>Mapped_GCK</th>\n",
       "      <th>Sales_EUR</th>\n",
       "    </tr>\n",
       "  </thead>\n",
       "  <tbody>\n",
       "    <tr>\n",
       "      <th>count</th>\n",
       "      <td>9802</td>\n",
       "      <td>9802</td>\n",
       "      <td>9802</td>\n",
       "    </tr>\n",
       "    <tr>\n",
       "      <th>unique</th>\n",
       "      <td>1216</td>\n",
       "      <td>14</td>\n",
       "      <td>2609</td>\n",
       "    </tr>\n",
       "    <tr>\n",
       "      <th>top</th>\n",
       "      <td>16.04.2021</td>\n",
       "      <td>#1</td>\n",
       "      <td>0</td>\n",
       "    </tr>\n",
       "    <tr>\n",
       "      <th>freq</th>\n",
       "      <td>14</td>\n",
       "      <td>1179</td>\n",
       "      <td>7134</td>\n",
       "    </tr>\n",
       "  </tbody>\n",
       "</table>\n",
       "</div>"
      ],
      "text/plain": [
       "              DATE Mapped_GCK Sales_EUR\n",
       "count         9802       9802      9802\n",
       "unique        1216         14      2609\n",
       "top     16.04.2021         #1         0\n",
       "freq            14       1179      7134"
      ]
     },
     "execution_count": 619,
     "metadata": {},
     "output_type": "execute_result"
    }
   ],
   "source": [
    "df_sales.describe()"
   ]
  },
  {
   "cell_type": "code",
   "execution_count": 620,
   "metadata": {},
   "outputs": [
    {
     "name": "stdout",
     "output_type": "stream",
     "text": [
      "<class 'pandas.core.frame.DataFrame'>\n",
      "RangeIndex: 9802 entries, 0 to 9801\n",
      "Data columns (total 3 columns):\n",
      " #   Column      Non-Null Count  Dtype \n",
      "---  ------      --------------  ----- \n",
      " 0   DATE        9802 non-null   object\n",
      " 1   Mapped_GCK  9802 non-null   object\n",
      " 2   Sales_EUR   9802 non-null   object\n",
      "dtypes: object(3)\n",
      "memory usage: 229.9+ KB\n"
     ]
    }
   ],
   "source": [
    "df_sales.info()"
   ]
  },
  {
   "cell_type": "markdown",
   "metadata": {},
   "source": [
    "#### <span style=\"background-color:#235987; padding:5px; border-radius:5px;\">**Sales Data**</span> <a id='sales-data'></a>  \n",
    "_This section provides a compreensive understanding of the Sales data and its preprocessing steps._\n",
    "\n",
    "##### Click [here](#table-of-contents) ⬆️ to return to the Index."
   ]
  },
  {
   "cell_type": "markdown",
   "metadata": {},
   "source": [
    "> Functions"
   ]
  },
  {
   "cell_type": "code",
   "execution_count": 621,
   "metadata": {},
   "outputs": [],
   "source": [
    "#plot the sales data over a period of time\n",
    "def plot_sales(dataframe, x_column, y_column, title, x_label, y_label):\n",
    "    \n",
    "    fig = px.line(dataframe, \n",
    "                  x=x_column, \n",
    "                  y=y_column,\n",
    "                  title=title, \n",
    "                  labels={x_column: x_label, y_column: y_label})\n",
    "\n",
    "    fig.show()"
   ]
  },
  {
   "cell_type": "code",
   "execution_count": 622,
   "metadata": {},
   "outputs": [],
   "source": [
    "#plot the sales data by product\n",
    "def plot_sales_by_product(dataframe, x_column, y_column, title, x_label, y_label):\n",
    "    \n",
    "    fig = px.bar(dataframe, \n",
    "                 x=x_column, \n",
    "                 y=y_column, \n",
    "                 title=title, \n",
    "                 labels={x_column: x_label, y_column: y_label},\n",
    "                 text=y_column)\n",
    "    \n",
    "    fig.update_traces(texttemplate='%{text:.2s}', textposition='outside')\n",
    "    fig.update_layout(xaxis=dict(type='category', tickmode='linear'))\n",
    "    fig.show()"
   ]
  },
  {
   "cell_type": "code",
   "execution_count": 623,
   "metadata": {},
   "outputs": [],
   "source": [
    "#plot the sales data over a period of time by product\n",
    "def plot_sales_by_product_month(dataframe, x_column, y_column, category_column, title, x_label, y_label):\n",
    "    \n",
    "    fig = px.line(dataframe, \n",
    "                  x=x_column, \n",
    "                  y=y_column, \n",
    "                  color=category_column,  # Different lines for each product\n",
    "                  title=title, \n",
    "                  labels={x_column: x_label, y_column: y_label, category_column: \"Product\"})\n",
    "    \n",
    "    fig.update_layout(xaxis=dict(tickangle=-45))  # Rotate x-axis labels for better readability\n",
    "    fig.show()"
   ]
  },
  {
   "cell_type": "code",
   "execution_count": 624,
   "metadata": {},
   "outputs": [],
   "source": [
    "def plot_sales_by_product_month_comparison(positive_sales, negative_sales, x_column, y_column, category_column, title, x_label, y_label):\n",
    "    \n",
    "    for product in positive_sales[category_column].unique():\n",
    "        # Filter data for the current product (both positive and negative sales)\n",
    "        df_pos = positive_sales[positive_sales[category_column] == product]\n",
    "        df_neg = negative_sales[negative_sales[category_column] == product]\n",
    "        \n",
    "        # Create a figure for the current product\n",
    "        fig = go.Figure()\n",
    "\n",
    "        # Plot positive sales for the current product\n",
    "        fig.add_trace(go.Scatter(x=df_pos[x_column], \n",
    "                                 y=df_pos[y_column], \n",
    "                                 mode='lines', \n",
    "                                 name=f'Positive Sales - {product}', \n",
    "                                 line=dict(color='green')))\n",
    "\n",
    "        # Plot negative sales (absolute value) for the current product\n",
    "        fig.add_trace(go.Scatter(x=df_neg[x_column], \n",
    "                                 y=df_neg[y_column],  # Negative sales as positive\n",
    "                                 mode='lines', \n",
    "                                 name=f'Negative Sales (abs) - {product}', \n",
    "                                 line=dict(color='red')))\n",
    "\n",
    "        # Update the layout of the plot\n",
    "        fig.update_layout(\n",
    "            title=f'{title} - {product}', \n",
    "            xaxis_title=x_label, \n",
    "            yaxis_title=y_label,\n",
    "            showlegend=True,\n",
    "            xaxis=dict(tickangle=-45)  # Rotate x-axis labels for readability\n",
    "        )\n",
    "\n",
    "        # Show the plot\n",
    "        fig.show()"
   ]
  },
  {
   "cell_type": "markdown",
   "metadata": {},
   "source": [
    "> Dtypes"
   ]
  },
  {
   "cell_type": "code",
   "execution_count": 625,
   "metadata": {},
   "outputs": [],
   "source": [
    "# Fixing dtypes of df_sales\n",
    "df_sales['DATE'] = pd.to_datetime(df_sales['DATE'], dayfirst=True)\n",
    "df_sales['Sales_EUR'] = df_sales['Sales_EUR'].str.replace(',', '.').astype(float)\n",
    "\n",
    "# DroppinG the # in values of the column 'Mapped_GCK'\n",
    "df_sales['Mapped_GCK'] = df_sales['Mapped_GCK'].str.replace('#', '')\n",
    "df_sales['Mapped_GCK'] = df_sales['Mapped_GCK'].astype(int)"
   ]
  },
  {
   "cell_type": "code",
   "execution_count": 626,
   "metadata": {},
   "outputs": [
    {
     "data": {
      "text/plain": [
       "Mapped_GCK\n",
       "1     1179\n",
       "3     1017\n",
       "5      959\n",
       "8      944\n",
       "4      877\n",
       "12     803\n",
       "6      794\n",
       "16     765\n",
       "11     732\n",
       "13     441\n",
       "36     434\n",
       "9      333\n",
       "20     293\n",
       "14     231\n",
       "Name: count, dtype: int64"
      ]
     },
     "execution_count": 626,
     "metadata": {},
     "output_type": "execute_result"
    }
   ],
   "source": [
    "# Mapped_GCK categories by frequecy\n",
    "df_sales['Mapped_GCK'].value_counts()"
   ]
  },
  {
   "cell_type": "code",
   "execution_count": 627,
   "metadata": {},
   "outputs": [],
   "source": [
    "# Drop rows in df_sales with Sales_EUR = 0\n",
    "df_sales = df_sales[df_sales['Sales_EUR'] != 0]"
   ]
  },
  {
   "cell_type": "code",
   "execution_count": 628,
   "metadata": {},
   "outputs": [
    {
     "data": {
      "text/plain": [
       "2668"
      ]
     },
     "execution_count": 628,
     "metadata": {},
     "output_type": "execute_result"
    }
   ],
   "source": [
    "# Rows with values for Sales\n",
    "df_sales.shape[0]"
   ]
  },
  {
   "cell_type": "code",
   "execution_count": 629,
   "metadata": {},
   "outputs": [
    {
     "data": {
      "text/plain": [
       "(41127988.02, -506381.17)"
      ]
     },
     "execution_count": 629,
     "metadata": {},
     "output_type": "execute_result"
    }
   ],
   "source": [
    "# Max and min values of Sales\n",
    "df_sales['Sales_EUR'].max(), df_sales['Sales_EUR'].min()"
   ]
  },
  {
   "cell_type": "markdown",
   "metadata": {},
   "source": [
    ">Negative Sales' values Analysis"
   ]
  },
  {
   "cell_type": "code",
   "execution_count": 630,
   "metadata": {},
   "outputs": [
    {
     "data": {
      "text/html": [
       "<div>\n",
       "<style scoped>\n",
       "    .dataframe tbody tr th:only-of-type {\n",
       "        vertical-align: middle;\n",
       "    }\n",
       "\n",
       "    .dataframe tbody tr th {\n",
       "        vertical-align: top;\n",
       "    }\n",
       "\n",
       "    .dataframe thead th {\n",
       "        text-align: right;\n",
       "    }\n",
       "</style>\n",
       "<table border=\"1\" class=\"dataframe\">\n",
       "  <thead>\n",
       "    <tr style=\"text-align: right;\">\n",
       "      <th></th>\n",
       "      <th>DATE</th>\n",
       "      <th>Mapped_GCK</th>\n",
       "      <th>Sales_EUR</th>\n",
       "    </tr>\n",
       "  </thead>\n",
       "  <tbody>\n",
       "    <tr>\n",
       "      <th>90</th>\n",
       "      <td>2022-02-02</td>\n",
       "      <td>6</td>\n",
       "      <td>-54.0000</td>\n",
       "    </tr>\n",
       "    <tr>\n",
       "      <th>96</th>\n",
       "      <td>2022-04-04</td>\n",
       "      <td>11</td>\n",
       "      <td>-587.5900</td>\n",
       "    </tr>\n",
       "    <tr>\n",
       "      <th>102</th>\n",
       "      <td>2021-12-02</td>\n",
       "      <td>3</td>\n",
       "      <td>-183.5000</td>\n",
       "    </tr>\n",
       "    <tr>\n",
       "      <th>130</th>\n",
       "      <td>2022-03-02</td>\n",
       "      <td>6</td>\n",
       "      <td>-93.8800</td>\n",
       "    </tr>\n",
       "    <tr>\n",
       "      <th>155</th>\n",
       "      <td>2021-05-03</td>\n",
       "      <td>5</td>\n",
       "      <td>-166.2400</td>\n",
       "    </tr>\n",
       "    <tr>\n",
       "      <th>...</th>\n",
       "      <td>...</td>\n",
       "      <td>...</td>\n",
       "      <td>...</td>\n",
       "    </tr>\n",
       "    <tr>\n",
       "      <th>9333</th>\n",
       "      <td>2019-09-03</td>\n",
       "      <td>20</td>\n",
       "      <td>-6.6000</td>\n",
       "    </tr>\n",
       "    <tr>\n",
       "      <th>9466</th>\n",
       "      <td>2018-11-05</td>\n",
       "      <td>4</td>\n",
       "      <td>-2029.9100</td>\n",
       "    </tr>\n",
       "    <tr>\n",
       "      <th>9487</th>\n",
       "      <td>2019-04-30</td>\n",
       "      <td>13</td>\n",
       "      <td>-26.3100</td>\n",
       "    </tr>\n",
       "    <tr>\n",
       "      <th>9681</th>\n",
       "      <td>2020-07-31</td>\n",
       "      <td>9</td>\n",
       "      <td>-35.2500</td>\n",
       "    </tr>\n",
       "    <tr>\n",
       "      <th>9775</th>\n",
       "      <td>2019-03-26</td>\n",
       "      <td>8</td>\n",
       "      <td>-1000.0000</td>\n",
       "    </tr>\n",
       "  </tbody>\n",
       "</table>\n",
       "<p>276 rows × 3 columns</p>\n",
       "</div>"
      ],
      "text/plain": [
       "           DATE  Mapped_GCK  Sales_EUR\n",
       "90   2022-02-02           6   -54.0000\n",
       "96   2022-04-04          11  -587.5900\n",
       "102  2021-12-02           3  -183.5000\n",
       "130  2022-03-02           6   -93.8800\n",
       "155  2021-05-03           5  -166.2400\n",
       "...         ...         ...        ...\n",
       "9333 2019-09-03          20    -6.6000\n",
       "9466 2018-11-05           4 -2029.9100\n",
       "9487 2019-04-30          13   -26.3100\n",
       "9681 2020-07-31           9   -35.2500\n",
       "9775 2019-03-26           8 -1000.0000\n",
       "\n",
       "[276 rows x 3 columns]"
      ]
     },
     "execution_count": 630,
     "metadata": {},
     "output_type": "execute_result"
    }
   ],
   "source": [
    "negative_sales = df_sales[df_sales['Sales_EUR'] < 0]\n",
    "negative_sales "
   ]
  },
  {
   "cell_type": "markdown",
   "metadata": {},
   "source": [
    "<span style=\"background-color:#235987; padding:5px; border-radius:5px;\">**Remarks**</span> <a id='sales-data'></a>\n",
    "\n",
    "**Negative values for Sales** \n",
    "There seems to be no evident pattern for the negative sales values. These might be:\n",
    "- **Dataset errors**: errors that occured during the recording of sales records.\n",
    "- **Production errors**: errors that occured in the production of a certain product or product group.\n",
    "- **Returns**: customer returns are associated with a refund, creating a negative cash flow for the company to offset the positive cash flow generated at the time of purchase.\n"
   ]
  },
  {
   "cell_type": "code",
   "execution_count": 631,
   "metadata": {},
   "outputs": [
    {
     "name": "stderr",
     "output_type": "stream",
     "text": [
      "C:\\Users\\marga\\AppData\\Local\\Temp\\ipykernel_15752\\267356584.py:1: SettingWithCopyWarning:\n",
      "\n",
      "\n",
      "A value is trying to be set on a copy of a slice from a DataFrame.\n",
      "Try using .loc[row_indexer,col_indexer] = value instead\n",
      "\n",
      "See the caveats in the documentation: https://pandas.pydata.org/pandas-docs/stable/user_guide/indexing.html#returning-a-view-versus-a-copy\n",
      "\n"
     ]
    },
    {
     "data": {
      "application/vnd.plotly.v1+json": {
       "config": {
        "plotlyServerURL": "https://plot.ly"
       },
       "data": [
        {
         "hovertemplate": "Year-Month=%{x}<br>Total Sales (EUR)=%{y}<extra></extra>",
         "legendgroup": "",
         "line": {
          "color": "#636efa",
          "dash": "solid"
         },
         "marker": {
          "symbol": "circle"
         },
         "mode": "lines",
         "name": "",
         "orientation": "v",
         "showlegend": false,
         "type": "scatter",
         "x": [
          "2018-11",
          "2018-12",
          "2019-01",
          "2019-02",
          "2019-03",
          "2019-04",
          "2019-05",
          "2019-06",
          "2019-07",
          "2019-08",
          "2019-09",
          "2019-10",
          "2019-11",
          "2019-12",
          "2020-01",
          "2020-02",
          "2020-03",
          "2020-04",
          "2020-05",
          "2020-06",
          "2020-07",
          "2020-08",
          "2020-09",
          "2020-10",
          "2020-11",
          "2020-12",
          "2021-01",
          "2021-02",
          "2021-03",
          "2021-04",
          "2021-05",
          "2021-06",
          "2021-07",
          "2021-08",
          "2021-09",
          "2021-10",
          "2021-11",
          "2021-12",
          "2022-01",
          "2022-02",
          "2022-03",
          "2022-04"
         ],
         "xaxis": "x",
         "y": [
          -10326.08,
          -269525.63,
          -150764.52,
          -80067.08,
          -542921.01,
          -268913.78,
          -101034.64,
          -152573.5,
          -144452.91,
          -206842.92,
          -316458.06,
          -483286.83,
          -80639.70999999999,
          -528080.53,
          -846743.67,
          -124393.28,
          -273290.91,
          -102470.69,
          -11393.5,
          -87616.22,
          -42620.51,
          -21114.42,
          -280.9,
          -37479.64,
          -517737.64999999997,
          -35591.68,
          -2942.36,
          -10794.119999999999,
          -49612.08,
          -406769.36,
          -62606.71,
          -10410.22,
          -26530.96,
          -45969.16,
          -384558.63,
          -338614.71,
          -122317.03,
          -144557.16,
          -260462.89,
          -112345.09,
          -7713.5199999999995,
          -184288.15999999997
         ],
         "yaxis": "y"
        }
       ],
       "layout": {
        "legend": {
         "tracegroupgap": 0
        },
        "template": {
         "data": {
          "bar": [
           {
            "error_x": {
             "color": "#2a3f5f"
            },
            "error_y": {
             "color": "#2a3f5f"
            },
            "marker": {
             "line": {
              "color": "#E5ECF6",
              "width": 0.5
             },
             "pattern": {
              "fillmode": "overlay",
              "size": 10,
              "solidity": 0.2
             }
            },
            "type": "bar"
           }
          ],
          "barpolar": [
           {
            "marker": {
             "line": {
              "color": "#E5ECF6",
              "width": 0.5
             },
             "pattern": {
              "fillmode": "overlay",
              "size": 10,
              "solidity": 0.2
             }
            },
            "type": "barpolar"
           }
          ],
          "carpet": [
           {
            "aaxis": {
             "endlinecolor": "#2a3f5f",
             "gridcolor": "white",
             "linecolor": "white",
             "minorgridcolor": "white",
             "startlinecolor": "#2a3f5f"
            },
            "baxis": {
             "endlinecolor": "#2a3f5f",
             "gridcolor": "white",
             "linecolor": "white",
             "minorgridcolor": "white",
             "startlinecolor": "#2a3f5f"
            },
            "type": "carpet"
           }
          ],
          "choropleth": [
           {
            "colorbar": {
             "outlinewidth": 0,
             "ticks": ""
            },
            "type": "choropleth"
           }
          ],
          "contour": [
           {
            "colorbar": {
             "outlinewidth": 0,
             "ticks": ""
            },
            "colorscale": [
             [
              0,
              "#0d0887"
             ],
             [
              0.1111111111111111,
              "#46039f"
             ],
             [
              0.2222222222222222,
              "#7201a8"
             ],
             [
              0.3333333333333333,
              "#9c179e"
             ],
             [
              0.4444444444444444,
              "#bd3786"
             ],
             [
              0.5555555555555556,
              "#d8576b"
             ],
             [
              0.6666666666666666,
              "#ed7953"
             ],
             [
              0.7777777777777778,
              "#fb9f3a"
             ],
             [
              0.8888888888888888,
              "#fdca26"
             ],
             [
              1,
              "#f0f921"
             ]
            ],
            "type": "contour"
           }
          ],
          "contourcarpet": [
           {
            "colorbar": {
             "outlinewidth": 0,
             "ticks": ""
            },
            "type": "contourcarpet"
           }
          ],
          "heatmap": [
           {
            "colorbar": {
             "outlinewidth": 0,
             "ticks": ""
            },
            "colorscale": [
             [
              0,
              "#0d0887"
             ],
             [
              0.1111111111111111,
              "#46039f"
             ],
             [
              0.2222222222222222,
              "#7201a8"
             ],
             [
              0.3333333333333333,
              "#9c179e"
             ],
             [
              0.4444444444444444,
              "#bd3786"
             ],
             [
              0.5555555555555556,
              "#d8576b"
             ],
             [
              0.6666666666666666,
              "#ed7953"
             ],
             [
              0.7777777777777778,
              "#fb9f3a"
             ],
             [
              0.8888888888888888,
              "#fdca26"
             ],
             [
              1,
              "#f0f921"
             ]
            ],
            "type": "heatmap"
           }
          ],
          "heatmapgl": [
           {
            "colorbar": {
             "outlinewidth": 0,
             "ticks": ""
            },
            "colorscale": [
             [
              0,
              "#0d0887"
             ],
             [
              0.1111111111111111,
              "#46039f"
             ],
             [
              0.2222222222222222,
              "#7201a8"
             ],
             [
              0.3333333333333333,
              "#9c179e"
             ],
             [
              0.4444444444444444,
              "#bd3786"
             ],
             [
              0.5555555555555556,
              "#d8576b"
             ],
             [
              0.6666666666666666,
              "#ed7953"
             ],
             [
              0.7777777777777778,
              "#fb9f3a"
             ],
             [
              0.8888888888888888,
              "#fdca26"
             ],
             [
              1,
              "#f0f921"
             ]
            ],
            "type": "heatmapgl"
           }
          ],
          "histogram": [
           {
            "marker": {
             "pattern": {
              "fillmode": "overlay",
              "size": 10,
              "solidity": 0.2
             }
            },
            "type": "histogram"
           }
          ],
          "histogram2d": [
           {
            "colorbar": {
             "outlinewidth": 0,
             "ticks": ""
            },
            "colorscale": [
             [
              0,
              "#0d0887"
             ],
             [
              0.1111111111111111,
              "#46039f"
             ],
             [
              0.2222222222222222,
              "#7201a8"
             ],
             [
              0.3333333333333333,
              "#9c179e"
             ],
             [
              0.4444444444444444,
              "#bd3786"
             ],
             [
              0.5555555555555556,
              "#d8576b"
             ],
             [
              0.6666666666666666,
              "#ed7953"
             ],
             [
              0.7777777777777778,
              "#fb9f3a"
             ],
             [
              0.8888888888888888,
              "#fdca26"
             ],
             [
              1,
              "#f0f921"
             ]
            ],
            "type": "histogram2d"
           }
          ],
          "histogram2dcontour": [
           {
            "colorbar": {
             "outlinewidth": 0,
             "ticks": ""
            },
            "colorscale": [
             [
              0,
              "#0d0887"
             ],
             [
              0.1111111111111111,
              "#46039f"
             ],
             [
              0.2222222222222222,
              "#7201a8"
             ],
             [
              0.3333333333333333,
              "#9c179e"
             ],
             [
              0.4444444444444444,
              "#bd3786"
             ],
             [
              0.5555555555555556,
              "#d8576b"
             ],
             [
              0.6666666666666666,
              "#ed7953"
             ],
             [
              0.7777777777777778,
              "#fb9f3a"
             ],
             [
              0.8888888888888888,
              "#fdca26"
             ],
             [
              1,
              "#f0f921"
             ]
            ],
            "type": "histogram2dcontour"
           }
          ],
          "mesh3d": [
           {
            "colorbar": {
             "outlinewidth": 0,
             "ticks": ""
            },
            "type": "mesh3d"
           }
          ],
          "parcoords": [
           {
            "line": {
             "colorbar": {
              "outlinewidth": 0,
              "ticks": ""
             }
            },
            "type": "parcoords"
           }
          ],
          "pie": [
           {
            "automargin": true,
            "type": "pie"
           }
          ],
          "scatter": [
           {
            "fillpattern": {
             "fillmode": "overlay",
             "size": 10,
             "solidity": 0.2
            },
            "type": "scatter"
           }
          ],
          "scatter3d": [
           {
            "line": {
             "colorbar": {
              "outlinewidth": 0,
              "ticks": ""
             }
            },
            "marker": {
             "colorbar": {
              "outlinewidth": 0,
              "ticks": ""
             }
            },
            "type": "scatter3d"
           }
          ],
          "scattercarpet": [
           {
            "marker": {
             "colorbar": {
              "outlinewidth": 0,
              "ticks": ""
             }
            },
            "type": "scattercarpet"
           }
          ],
          "scattergeo": [
           {
            "marker": {
             "colorbar": {
              "outlinewidth": 0,
              "ticks": ""
             }
            },
            "type": "scattergeo"
           }
          ],
          "scattergl": [
           {
            "marker": {
             "colorbar": {
              "outlinewidth": 0,
              "ticks": ""
             }
            },
            "type": "scattergl"
           }
          ],
          "scattermapbox": [
           {
            "marker": {
             "colorbar": {
              "outlinewidth": 0,
              "ticks": ""
             }
            },
            "type": "scattermapbox"
           }
          ],
          "scatterpolar": [
           {
            "marker": {
             "colorbar": {
              "outlinewidth": 0,
              "ticks": ""
             }
            },
            "type": "scatterpolar"
           }
          ],
          "scatterpolargl": [
           {
            "marker": {
             "colorbar": {
              "outlinewidth": 0,
              "ticks": ""
             }
            },
            "type": "scatterpolargl"
           }
          ],
          "scatterternary": [
           {
            "marker": {
             "colorbar": {
              "outlinewidth": 0,
              "ticks": ""
             }
            },
            "type": "scatterternary"
           }
          ],
          "surface": [
           {
            "colorbar": {
             "outlinewidth": 0,
             "ticks": ""
            },
            "colorscale": [
             [
              0,
              "#0d0887"
             ],
             [
              0.1111111111111111,
              "#46039f"
             ],
             [
              0.2222222222222222,
              "#7201a8"
             ],
             [
              0.3333333333333333,
              "#9c179e"
             ],
             [
              0.4444444444444444,
              "#bd3786"
             ],
             [
              0.5555555555555556,
              "#d8576b"
             ],
             [
              0.6666666666666666,
              "#ed7953"
             ],
             [
              0.7777777777777778,
              "#fb9f3a"
             ],
             [
              0.8888888888888888,
              "#fdca26"
             ],
             [
              1,
              "#f0f921"
             ]
            ],
            "type": "surface"
           }
          ],
          "table": [
           {
            "cells": {
             "fill": {
              "color": "#EBF0F8"
             },
             "line": {
              "color": "white"
             }
            },
            "header": {
             "fill": {
              "color": "#C8D4E3"
             },
             "line": {
              "color": "white"
             }
            },
            "type": "table"
           }
          ]
         },
         "layout": {
          "annotationdefaults": {
           "arrowcolor": "#2a3f5f",
           "arrowhead": 0,
           "arrowwidth": 1
          },
          "autotypenumbers": "strict",
          "coloraxis": {
           "colorbar": {
            "outlinewidth": 0,
            "ticks": ""
           }
          },
          "colorscale": {
           "diverging": [
            [
             0,
             "#8e0152"
            ],
            [
             0.1,
             "#c51b7d"
            ],
            [
             0.2,
             "#de77ae"
            ],
            [
             0.3,
             "#f1b6da"
            ],
            [
             0.4,
             "#fde0ef"
            ],
            [
             0.5,
             "#f7f7f7"
            ],
            [
             0.6,
             "#e6f5d0"
            ],
            [
             0.7,
             "#b8e186"
            ],
            [
             0.8,
             "#7fbc41"
            ],
            [
             0.9,
             "#4d9221"
            ],
            [
             1,
             "#276419"
            ]
           ],
           "sequential": [
            [
             0,
             "#0d0887"
            ],
            [
             0.1111111111111111,
             "#46039f"
            ],
            [
             0.2222222222222222,
             "#7201a8"
            ],
            [
             0.3333333333333333,
             "#9c179e"
            ],
            [
             0.4444444444444444,
             "#bd3786"
            ],
            [
             0.5555555555555556,
             "#d8576b"
            ],
            [
             0.6666666666666666,
             "#ed7953"
            ],
            [
             0.7777777777777778,
             "#fb9f3a"
            ],
            [
             0.8888888888888888,
             "#fdca26"
            ],
            [
             1,
             "#f0f921"
            ]
           ],
           "sequentialminus": [
            [
             0,
             "#0d0887"
            ],
            [
             0.1111111111111111,
             "#46039f"
            ],
            [
             0.2222222222222222,
             "#7201a8"
            ],
            [
             0.3333333333333333,
             "#9c179e"
            ],
            [
             0.4444444444444444,
             "#bd3786"
            ],
            [
             0.5555555555555556,
             "#d8576b"
            ],
            [
             0.6666666666666666,
             "#ed7953"
            ],
            [
             0.7777777777777778,
             "#fb9f3a"
            ],
            [
             0.8888888888888888,
             "#fdca26"
            ],
            [
             1,
             "#f0f921"
            ]
           ]
          },
          "colorway": [
           "#636efa",
           "#EF553B",
           "#00cc96",
           "#ab63fa",
           "#FFA15A",
           "#19d3f3",
           "#FF6692",
           "#B6E880",
           "#FF97FF",
           "#FECB52"
          ],
          "font": {
           "color": "#2a3f5f"
          },
          "geo": {
           "bgcolor": "white",
           "lakecolor": "white",
           "landcolor": "#E5ECF6",
           "showlakes": true,
           "showland": true,
           "subunitcolor": "white"
          },
          "hoverlabel": {
           "align": "left"
          },
          "hovermode": "closest",
          "mapbox": {
           "style": "light"
          },
          "paper_bgcolor": "white",
          "plot_bgcolor": "#E5ECF6",
          "polar": {
           "angularaxis": {
            "gridcolor": "white",
            "linecolor": "white",
            "ticks": ""
           },
           "bgcolor": "#E5ECF6",
           "radialaxis": {
            "gridcolor": "white",
            "linecolor": "white",
            "ticks": ""
           }
          },
          "scene": {
           "xaxis": {
            "backgroundcolor": "#E5ECF6",
            "gridcolor": "white",
            "gridwidth": 2,
            "linecolor": "white",
            "showbackground": true,
            "ticks": "",
            "zerolinecolor": "white"
           },
           "yaxis": {
            "backgroundcolor": "#E5ECF6",
            "gridcolor": "white",
            "gridwidth": 2,
            "linecolor": "white",
            "showbackground": true,
            "ticks": "",
            "zerolinecolor": "white"
           },
           "zaxis": {
            "backgroundcolor": "#E5ECF6",
            "gridcolor": "white",
            "gridwidth": 2,
            "linecolor": "white",
            "showbackground": true,
            "ticks": "",
            "zerolinecolor": "white"
           }
          },
          "shapedefaults": {
           "line": {
            "color": "#2a3f5f"
           }
          },
          "ternary": {
           "aaxis": {
            "gridcolor": "white",
            "linecolor": "white",
            "ticks": ""
           },
           "baxis": {
            "gridcolor": "white",
            "linecolor": "white",
            "ticks": ""
           },
           "bgcolor": "#E5ECF6",
           "caxis": {
            "gridcolor": "white",
            "linecolor": "white",
            "ticks": ""
           }
          },
          "title": {
           "x": 0.05
          },
          "xaxis": {
           "automargin": true,
           "gridcolor": "white",
           "linecolor": "white",
           "ticks": "",
           "title": {
            "standoff": 15
           },
           "zerolinecolor": "white",
           "zerolinewidth": 2
          },
          "yaxis": {
           "automargin": true,
           "gridcolor": "white",
           "linecolor": "white",
           "ticks": "",
           "title": {
            "standoff": 15
           },
           "zerolinecolor": "white",
           "zerolinewidth": 2
          }
         }
        },
        "title": {
         "text": "Negative Sales by Month"
        },
        "xaxis": {
         "anchor": "y",
         "domain": [
          0,
          1
         ],
         "title": {
          "text": "Year-Month"
         }
        },
        "yaxis": {
         "anchor": "x",
         "domain": [
          0,
          1
         ],
         "title": {
          "text": "Total Sales (EUR)"
         }
        }
       }
      }
     },
     "metadata": {},
     "output_type": "display_data"
    }
   ],
   "source": [
    "negative_sales['Year_Month'] = negative_sales['DATE'].dt.to_period('M')\n",
    "grouped_negative_sales_month = negative_sales.groupby('Year_Month')['Sales_EUR'].sum().reset_index()\n",
    "\n",
    "grouped_negative_sales_month['Year_Month'] = grouped_negative_sales_month['Year_Month'].astype(str)\n",
    "\n",
    "plot_sales(grouped_negative_sales_month, 'Year_Month', 'Sales_EUR', 'Negative Sales by Month', 'Year-Month', 'Total Sales (EUR)')"
   ]
  },
  {
   "cell_type": "markdown",
   "metadata": {},
   "source": [
    "<span style=\"background-color:#235987; padding:5px; border-radius:5px;\">**Remarks**</span> <a id='sales-data'></a>\n",
    "\n",
    "At first sight, no evident pattern emerged from the **Negative Sales by Month** plot. However, the analysis highlights January 2020 as a significant outlier, displaying a much lower value than other months, which may indicate production errors in a specific product group. Excluding this outlier, a subtle pattern can be observed: sales tend to drop noticeably twice a year—once in the first half and once in the second—though the exact months vary."
   ]
  },
  {
   "cell_type": "code",
   "execution_count": 632,
   "metadata": {},
   "outputs": [
    {
     "name": "stderr",
     "output_type": "stream",
     "text": [
      "C:\\Users\\marga\\AppData\\Local\\Temp\\ipykernel_15752\\812041059.py:1: SettingWithCopyWarning:\n",
      "\n",
      "\n",
      "A value is trying to be set on a copy of a slice from a DataFrame.\n",
      "Try using .loc[row_indexer,col_indexer] = value instead\n",
      "\n",
      "See the caveats in the documentation: https://pandas.pydata.org/pandas-docs/stable/user_guide/indexing.html#returning-a-view-versus-a-copy\n",
      "\n"
     ]
    },
    {
     "data": {
      "application/vnd.plotly.v1+json": {
       "config": {
        "plotlyServerURL": "https://plot.ly"
       },
       "data": [
        {
         "hovertemplate": "Day=%{x}<br>Total Sales (EUR)=%{y}<extra></extra>",
         "legendgroup": "",
         "line": {
          "color": "#636efa",
          "dash": "solid"
         },
         "marker": {
          "symbol": "circle"
         },
         "mode": "lines",
         "name": "",
         "orientation": "v",
         "showlegend": false,
         "type": "scatter",
         "x": [
          "1",
          "2",
          "3",
          "4",
          "5",
          "6",
          "7",
          "8",
          "9",
          "10",
          "11",
          "12",
          "13",
          "14",
          "15",
          "16",
          "17",
          "18",
          "19",
          "20",
          "21",
          "22",
          "23",
          "24",
          "25",
          "26",
          "27",
          "28",
          "29",
          "30",
          "31"
         ],
         "xaxis": "x",
         "y": [
          -436191.65,
          -1759335.08,
          -1515505.42,
          -1311725.85,
          -17474.380000000005,
          -501377.09,
          -161155.43,
          -205887.59,
          -7992.17,
          -6829.04,
          -52131.399999999994,
          -82682.42,
          -16785.28,
          -43472.659999999996,
          -558.8,
          -2425.8,
          -382080.44,
          -3287,
          -3793.66,
          -282905.5,
          -68454.2,
          -475987.87,
          -27202.79,
          -85388.39,
          -46398,
          -24700.739999999998,
          -50662.600000000006,
          -12005.21,
          -1221.1399999999999,
          -21397.29,
          -97.53999999999999
         ],
         "yaxis": "y"
        }
       ],
       "layout": {
        "legend": {
         "tracegroupgap": 0
        },
        "template": {
         "data": {
          "bar": [
           {
            "error_x": {
             "color": "#2a3f5f"
            },
            "error_y": {
             "color": "#2a3f5f"
            },
            "marker": {
             "line": {
              "color": "#E5ECF6",
              "width": 0.5
             },
             "pattern": {
              "fillmode": "overlay",
              "size": 10,
              "solidity": 0.2
             }
            },
            "type": "bar"
           }
          ],
          "barpolar": [
           {
            "marker": {
             "line": {
              "color": "#E5ECF6",
              "width": 0.5
             },
             "pattern": {
              "fillmode": "overlay",
              "size": 10,
              "solidity": 0.2
             }
            },
            "type": "barpolar"
           }
          ],
          "carpet": [
           {
            "aaxis": {
             "endlinecolor": "#2a3f5f",
             "gridcolor": "white",
             "linecolor": "white",
             "minorgridcolor": "white",
             "startlinecolor": "#2a3f5f"
            },
            "baxis": {
             "endlinecolor": "#2a3f5f",
             "gridcolor": "white",
             "linecolor": "white",
             "minorgridcolor": "white",
             "startlinecolor": "#2a3f5f"
            },
            "type": "carpet"
           }
          ],
          "choropleth": [
           {
            "colorbar": {
             "outlinewidth": 0,
             "ticks": ""
            },
            "type": "choropleth"
           }
          ],
          "contour": [
           {
            "colorbar": {
             "outlinewidth": 0,
             "ticks": ""
            },
            "colorscale": [
             [
              0,
              "#0d0887"
             ],
             [
              0.1111111111111111,
              "#46039f"
             ],
             [
              0.2222222222222222,
              "#7201a8"
             ],
             [
              0.3333333333333333,
              "#9c179e"
             ],
             [
              0.4444444444444444,
              "#bd3786"
             ],
             [
              0.5555555555555556,
              "#d8576b"
             ],
             [
              0.6666666666666666,
              "#ed7953"
             ],
             [
              0.7777777777777778,
              "#fb9f3a"
             ],
             [
              0.8888888888888888,
              "#fdca26"
             ],
             [
              1,
              "#f0f921"
             ]
            ],
            "type": "contour"
           }
          ],
          "contourcarpet": [
           {
            "colorbar": {
             "outlinewidth": 0,
             "ticks": ""
            },
            "type": "contourcarpet"
           }
          ],
          "heatmap": [
           {
            "colorbar": {
             "outlinewidth": 0,
             "ticks": ""
            },
            "colorscale": [
             [
              0,
              "#0d0887"
             ],
             [
              0.1111111111111111,
              "#46039f"
             ],
             [
              0.2222222222222222,
              "#7201a8"
             ],
             [
              0.3333333333333333,
              "#9c179e"
             ],
             [
              0.4444444444444444,
              "#bd3786"
             ],
             [
              0.5555555555555556,
              "#d8576b"
             ],
             [
              0.6666666666666666,
              "#ed7953"
             ],
             [
              0.7777777777777778,
              "#fb9f3a"
             ],
             [
              0.8888888888888888,
              "#fdca26"
             ],
             [
              1,
              "#f0f921"
             ]
            ],
            "type": "heatmap"
           }
          ],
          "heatmapgl": [
           {
            "colorbar": {
             "outlinewidth": 0,
             "ticks": ""
            },
            "colorscale": [
             [
              0,
              "#0d0887"
             ],
             [
              0.1111111111111111,
              "#46039f"
             ],
             [
              0.2222222222222222,
              "#7201a8"
             ],
             [
              0.3333333333333333,
              "#9c179e"
             ],
             [
              0.4444444444444444,
              "#bd3786"
             ],
             [
              0.5555555555555556,
              "#d8576b"
             ],
             [
              0.6666666666666666,
              "#ed7953"
             ],
             [
              0.7777777777777778,
              "#fb9f3a"
             ],
             [
              0.8888888888888888,
              "#fdca26"
             ],
             [
              1,
              "#f0f921"
             ]
            ],
            "type": "heatmapgl"
           }
          ],
          "histogram": [
           {
            "marker": {
             "pattern": {
              "fillmode": "overlay",
              "size": 10,
              "solidity": 0.2
             }
            },
            "type": "histogram"
           }
          ],
          "histogram2d": [
           {
            "colorbar": {
             "outlinewidth": 0,
             "ticks": ""
            },
            "colorscale": [
             [
              0,
              "#0d0887"
             ],
             [
              0.1111111111111111,
              "#46039f"
             ],
             [
              0.2222222222222222,
              "#7201a8"
             ],
             [
              0.3333333333333333,
              "#9c179e"
             ],
             [
              0.4444444444444444,
              "#bd3786"
             ],
             [
              0.5555555555555556,
              "#d8576b"
             ],
             [
              0.6666666666666666,
              "#ed7953"
             ],
             [
              0.7777777777777778,
              "#fb9f3a"
             ],
             [
              0.8888888888888888,
              "#fdca26"
             ],
             [
              1,
              "#f0f921"
             ]
            ],
            "type": "histogram2d"
           }
          ],
          "histogram2dcontour": [
           {
            "colorbar": {
             "outlinewidth": 0,
             "ticks": ""
            },
            "colorscale": [
             [
              0,
              "#0d0887"
             ],
             [
              0.1111111111111111,
              "#46039f"
             ],
             [
              0.2222222222222222,
              "#7201a8"
             ],
             [
              0.3333333333333333,
              "#9c179e"
             ],
             [
              0.4444444444444444,
              "#bd3786"
             ],
             [
              0.5555555555555556,
              "#d8576b"
             ],
             [
              0.6666666666666666,
              "#ed7953"
             ],
             [
              0.7777777777777778,
              "#fb9f3a"
             ],
             [
              0.8888888888888888,
              "#fdca26"
             ],
             [
              1,
              "#f0f921"
             ]
            ],
            "type": "histogram2dcontour"
           }
          ],
          "mesh3d": [
           {
            "colorbar": {
             "outlinewidth": 0,
             "ticks": ""
            },
            "type": "mesh3d"
           }
          ],
          "parcoords": [
           {
            "line": {
             "colorbar": {
              "outlinewidth": 0,
              "ticks": ""
             }
            },
            "type": "parcoords"
           }
          ],
          "pie": [
           {
            "automargin": true,
            "type": "pie"
           }
          ],
          "scatter": [
           {
            "fillpattern": {
             "fillmode": "overlay",
             "size": 10,
             "solidity": 0.2
            },
            "type": "scatter"
           }
          ],
          "scatter3d": [
           {
            "line": {
             "colorbar": {
              "outlinewidth": 0,
              "ticks": ""
             }
            },
            "marker": {
             "colorbar": {
              "outlinewidth": 0,
              "ticks": ""
             }
            },
            "type": "scatter3d"
           }
          ],
          "scattercarpet": [
           {
            "marker": {
             "colorbar": {
              "outlinewidth": 0,
              "ticks": ""
             }
            },
            "type": "scattercarpet"
           }
          ],
          "scattergeo": [
           {
            "marker": {
             "colorbar": {
              "outlinewidth": 0,
              "ticks": ""
             }
            },
            "type": "scattergeo"
           }
          ],
          "scattergl": [
           {
            "marker": {
             "colorbar": {
              "outlinewidth": 0,
              "ticks": ""
             }
            },
            "type": "scattergl"
           }
          ],
          "scattermapbox": [
           {
            "marker": {
             "colorbar": {
              "outlinewidth": 0,
              "ticks": ""
             }
            },
            "type": "scattermapbox"
           }
          ],
          "scatterpolar": [
           {
            "marker": {
             "colorbar": {
              "outlinewidth": 0,
              "ticks": ""
             }
            },
            "type": "scatterpolar"
           }
          ],
          "scatterpolargl": [
           {
            "marker": {
             "colorbar": {
              "outlinewidth": 0,
              "ticks": ""
             }
            },
            "type": "scatterpolargl"
           }
          ],
          "scatterternary": [
           {
            "marker": {
             "colorbar": {
              "outlinewidth": 0,
              "ticks": ""
             }
            },
            "type": "scatterternary"
           }
          ],
          "surface": [
           {
            "colorbar": {
             "outlinewidth": 0,
             "ticks": ""
            },
            "colorscale": [
             [
              0,
              "#0d0887"
             ],
             [
              0.1111111111111111,
              "#46039f"
             ],
             [
              0.2222222222222222,
              "#7201a8"
             ],
             [
              0.3333333333333333,
              "#9c179e"
             ],
             [
              0.4444444444444444,
              "#bd3786"
             ],
             [
              0.5555555555555556,
              "#d8576b"
             ],
             [
              0.6666666666666666,
              "#ed7953"
             ],
             [
              0.7777777777777778,
              "#fb9f3a"
             ],
             [
              0.8888888888888888,
              "#fdca26"
             ],
             [
              1,
              "#f0f921"
             ]
            ],
            "type": "surface"
           }
          ],
          "table": [
           {
            "cells": {
             "fill": {
              "color": "#EBF0F8"
             },
             "line": {
              "color": "white"
             }
            },
            "header": {
             "fill": {
              "color": "#C8D4E3"
             },
             "line": {
              "color": "white"
             }
            },
            "type": "table"
           }
          ]
         },
         "layout": {
          "annotationdefaults": {
           "arrowcolor": "#2a3f5f",
           "arrowhead": 0,
           "arrowwidth": 1
          },
          "autotypenumbers": "strict",
          "coloraxis": {
           "colorbar": {
            "outlinewidth": 0,
            "ticks": ""
           }
          },
          "colorscale": {
           "diverging": [
            [
             0,
             "#8e0152"
            ],
            [
             0.1,
             "#c51b7d"
            ],
            [
             0.2,
             "#de77ae"
            ],
            [
             0.3,
             "#f1b6da"
            ],
            [
             0.4,
             "#fde0ef"
            ],
            [
             0.5,
             "#f7f7f7"
            ],
            [
             0.6,
             "#e6f5d0"
            ],
            [
             0.7,
             "#b8e186"
            ],
            [
             0.8,
             "#7fbc41"
            ],
            [
             0.9,
             "#4d9221"
            ],
            [
             1,
             "#276419"
            ]
           ],
           "sequential": [
            [
             0,
             "#0d0887"
            ],
            [
             0.1111111111111111,
             "#46039f"
            ],
            [
             0.2222222222222222,
             "#7201a8"
            ],
            [
             0.3333333333333333,
             "#9c179e"
            ],
            [
             0.4444444444444444,
             "#bd3786"
            ],
            [
             0.5555555555555556,
             "#d8576b"
            ],
            [
             0.6666666666666666,
             "#ed7953"
            ],
            [
             0.7777777777777778,
             "#fb9f3a"
            ],
            [
             0.8888888888888888,
             "#fdca26"
            ],
            [
             1,
             "#f0f921"
            ]
           ],
           "sequentialminus": [
            [
             0,
             "#0d0887"
            ],
            [
             0.1111111111111111,
             "#46039f"
            ],
            [
             0.2222222222222222,
             "#7201a8"
            ],
            [
             0.3333333333333333,
             "#9c179e"
            ],
            [
             0.4444444444444444,
             "#bd3786"
            ],
            [
             0.5555555555555556,
             "#d8576b"
            ],
            [
             0.6666666666666666,
             "#ed7953"
            ],
            [
             0.7777777777777778,
             "#fb9f3a"
            ],
            [
             0.8888888888888888,
             "#fdca26"
            ],
            [
             1,
             "#f0f921"
            ]
           ]
          },
          "colorway": [
           "#636efa",
           "#EF553B",
           "#00cc96",
           "#ab63fa",
           "#FFA15A",
           "#19d3f3",
           "#FF6692",
           "#B6E880",
           "#FF97FF",
           "#FECB52"
          ],
          "font": {
           "color": "#2a3f5f"
          },
          "geo": {
           "bgcolor": "white",
           "lakecolor": "white",
           "landcolor": "#E5ECF6",
           "showlakes": true,
           "showland": true,
           "subunitcolor": "white"
          },
          "hoverlabel": {
           "align": "left"
          },
          "hovermode": "closest",
          "mapbox": {
           "style": "light"
          },
          "paper_bgcolor": "white",
          "plot_bgcolor": "#E5ECF6",
          "polar": {
           "angularaxis": {
            "gridcolor": "white",
            "linecolor": "white",
            "ticks": ""
           },
           "bgcolor": "#E5ECF6",
           "radialaxis": {
            "gridcolor": "white",
            "linecolor": "white",
            "ticks": ""
           }
          },
          "scene": {
           "xaxis": {
            "backgroundcolor": "#E5ECF6",
            "gridcolor": "white",
            "gridwidth": 2,
            "linecolor": "white",
            "showbackground": true,
            "ticks": "",
            "zerolinecolor": "white"
           },
           "yaxis": {
            "backgroundcolor": "#E5ECF6",
            "gridcolor": "white",
            "gridwidth": 2,
            "linecolor": "white",
            "showbackground": true,
            "ticks": "",
            "zerolinecolor": "white"
           },
           "zaxis": {
            "backgroundcolor": "#E5ECF6",
            "gridcolor": "white",
            "gridwidth": 2,
            "linecolor": "white",
            "showbackground": true,
            "ticks": "",
            "zerolinecolor": "white"
           }
          },
          "shapedefaults": {
           "line": {
            "color": "#2a3f5f"
           }
          },
          "ternary": {
           "aaxis": {
            "gridcolor": "white",
            "linecolor": "white",
            "ticks": ""
           },
           "baxis": {
            "gridcolor": "white",
            "linecolor": "white",
            "ticks": ""
           },
           "bgcolor": "#E5ECF6",
           "caxis": {
            "gridcolor": "white",
            "linecolor": "white",
            "ticks": ""
           }
          },
          "title": {
           "x": 0.05
          },
          "xaxis": {
           "automargin": true,
           "gridcolor": "white",
           "linecolor": "white",
           "ticks": "",
           "title": {
            "standoff": 15
           },
           "zerolinecolor": "white",
           "zerolinewidth": 2
          },
          "yaxis": {
           "automargin": true,
           "gridcolor": "white",
           "linecolor": "white",
           "ticks": "",
           "title": {
            "standoff": 15
           },
           "zerolinecolor": "white",
           "zerolinewidth": 2
          }
         }
        },
        "title": {
         "text": "Negative Sales by Day"
        },
        "xaxis": {
         "anchor": "y",
         "domain": [
          0,
          1
         ],
         "title": {
          "text": "Day"
         }
        },
        "yaxis": {
         "anchor": "x",
         "domain": [
          0,
          1
         ],
         "title": {
          "text": "Total Sales (EUR)"
         }
        }
       }
      }
     },
     "metadata": {},
     "output_type": "display_data"
    }
   ],
   "source": [
    "negative_sales['Day'] = negative_sales['DATE'].dt.day\n",
    "grouped_negative_sales_day = negative_sales.groupby('Day')['Sales_EUR'].sum().reset_index()\n",
    "\n",
    "grouped_negative_sales_day['Day'] = grouped_negative_sales_day['Day'].astype(str)\n",
    "\n",
    "plot_sales(grouped_negative_sales_day, 'Day', 'Sales_EUR', 'Negative Sales by Day', 'Day', 'Total Sales (EUR)')"
   ]
  },
  {
   "cell_type": "markdown",
   "metadata": {},
   "source": [
    "<span style=\"background-color:#235987; padding:5px; border-radius:5px;\">**Remarks**</span> <a id='sales-data'></a>\n",
    "\n",
    "Considering the **Negative Sales by Day** plot, there seems to be a tendency of much lower values for negative sales in the first days of the month, which slows down until the last days. Besides the first days, around the 20th day of the month there is a new, but not as obvious, peak."
   ]
  },
  {
   "cell_type": "code",
   "execution_count": 633,
   "metadata": {},
   "outputs": [
    {
     "data": {
      "application/vnd.plotly.v1+json": {
       "config": {
        "plotlyServerURL": "https://plot.ly"
       },
       "data": [
        {
         "alignmentgroup": "True",
         "hovertemplate": "Product Group=%{x}<br>Total Negative Sales (EUR)=%{text}<extra></extra>",
         "legendgroup": "",
         "marker": {
          "color": "#636efa",
          "pattern": {
           "shape": ""
          }
         },
         "name": "",
         "offsetgroup": "",
         "orientation": "v",
         "showlegend": false,
         "text": [
          -2555108.71,
          -1203233,
          -114909.56,
          -2376417.57,
          -421276.71,
          -76369.76,
          -10374.71,
          -518733.38,
          -15487.76,
          -193.1,
          -13143.55,
          -288439.22,
          -39.629999999999995,
          -13385.77
         ],
         "textposition": "outside",
         "texttemplate": "%{text:.2s}",
         "type": "bar",
         "x": [
          1,
          3,
          4,
          5,
          6,
          8,
          9,
          11,
          12,
          13,
          14,
          16,
          20,
          36
         ],
         "xaxis": "x",
         "y": [
          -2555108.71,
          -1203233,
          -114909.56,
          -2376417.57,
          -421276.71,
          -76369.76,
          -10374.71,
          -518733.38,
          -15487.76,
          -193.1,
          -13143.55,
          -288439.22,
          -39.629999999999995,
          -13385.77
         ],
         "yaxis": "y"
        }
       ],
       "layout": {
        "barmode": "relative",
        "legend": {
         "tracegroupgap": 0
        },
        "template": {
         "data": {
          "bar": [
           {
            "error_x": {
             "color": "#2a3f5f"
            },
            "error_y": {
             "color": "#2a3f5f"
            },
            "marker": {
             "line": {
              "color": "#E5ECF6",
              "width": 0.5
             },
             "pattern": {
              "fillmode": "overlay",
              "size": 10,
              "solidity": 0.2
             }
            },
            "type": "bar"
           }
          ],
          "barpolar": [
           {
            "marker": {
             "line": {
              "color": "#E5ECF6",
              "width": 0.5
             },
             "pattern": {
              "fillmode": "overlay",
              "size": 10,
              "solidity": 0.2
             }
            },
            "type": "barpolar"
           }
          ],
          "carpet": [
           {
            "aaxis": {
             "endlinecolor": "#2a3f5f",
             "gridcolor": "white",
             "linecolor": "white",
             "minorgridcolor": "white",
             "startlinecolor": "#2a3f5f"
            },
            "baxis": {
             "endlinecolor": "#2a3f5f",
             "gridcolor": "white",
             "linecolor": "white",
             "minorgridcolor": "white",
             "startlinecolor": "#2a3f5f"
            },
            "type": "carpet"
           }
          ],
          "choropleth": [
           {
            "colorbar": {
             "outlinewidth": 0,
             "ticks": ""
            },
            "type": "choropleth"
           }
          ],
          "contour": [
           {
            "colorbar": {
             "outlinewidth": 0,
             "ticks": ""
            },
            "colorscale": [
             [
              0,
              "#0d0887"
             ],
             [
              0.1111111111111111,
              "#46039f"
             ],
             [
              0.2222222222222222,
              "#7201a8"
             ],
             [
              0.3333333333333333,
              "#9c179e"
             ],
             [
              0.4444444444444444,
              "#bd3786"
             ],
             [
              0.5555555555555556,
              "#d8576b"
             ],
             [
              0.6666666666666666,
              "#ed7953"
             ],
             [
              0.7777777777777778,
              "#fb9f3a"
             ],
             [
              0.8888888888888888,
              "#fdca26"
             ],
             [
              1,
              "#f0f921"
             ]
            ],
            "type": "contour"
           }
          ],
          "contourcarpet": [
           {
            "colorbar": {
             "outlinewidth": 0,
             "ticks": ""
            },
            "type": "contourcarpet"
           }
          ],
          "heatmap": [
           {
            "colorbar": {
             "outlinewidth": 0,
             "ticks": ""
            },
            "colorscale": [
             [
              0,
              "#0d0887"
             ],
             [
              0.1111111111111111,
              "#46039f"
             ],
             [
              0.2222222222222222,
              "#7201a8"
             ],
             [
              0.3333333333333333,
              "#9c179e"
             ],
             [
              0.4444444444444444,
              "#bd3786"
             ],
             [
              0.5555555555555556,
              "#d8576b"
             ],
             [
              0.6666666666666666,
              "#ed7953"
             ],
             [
              0.7777777777777778,
              "#fb9f3a"
             ],
             [
              0.8888888888888888,
              "#fdca26"
             ],
             [
              1,
              "#f0f921"
             ]
            ],
            "type": "heatmap"
           }
          ],
          "heatmapgl": [
           {
            "colorbar": {
             "outlinewidth": 0,
             "ticks": ""
            },
            "colorscale": [
             [
              0,
              "#0d0887"
             ],
             [
              0.1111111111111111,
              "#46039f"
             ],
             [
              0.2222222222222222,
              "#7201a8"
             ],
             [
              0.3333333333333333,
              "#9c179e"
             ],
             [
              0.4444444444444444,
              "#bd3786"
             ],
             [
              0.5555555555555556,
              "#d8576b"
             ],
             [
              0.6666666666666666,
              "#ed7953"
             ],
             [
              0.7777777777777778,
              "#fb9f3a"
             ],
             [
              0.8888888888888888,
              "#fdca26"
             ],
             [
              1,
              "#f0f921"
             ]
            ],
            "type": "heatmapgl"
           }
          ],
          "histogram": [
           {
            "marker": {
             "pattern": {
              "fillmode": "overlay",
              "size": 10,
              "solidity": 0.2
             }
            },
            "type": "histogram"
           }
          ],
          "histogram2d": [
           {
            "colorbar": {
             "outlinewidth": 0,
             "ticks": ""
            },
            "colorscale": [
             [
              0,
              "#0d0887"
             ],
             [
              0.1111111111111111,
              "#46039f"
             ],
             [
              0.2222222222222222,
              "#7201a8"
             ],
             [
              0.3333333333333333,
              "#9c179e"
             ],
             [
              0.4444444444444444,
              "#bd3786"
             ],
             [
              0.5555555555555556,
              "#d8576b"
             ],
             [
              0.6666666666666666,
              "#ed7953"
             ],
             [
              0.7777777777777778,
              "#fb9f3a"
             ],
             [
              0.8888888888888888,
              "#fdca26"
             ],
             [
              1,
              "#f0f921"
             ]
            ],
            "type": "histogram2d"
           }
          ],
          "histogram2dcontour": [
           {
            "colorbar": {
             "outlinewidth": 0,
             "ticks": ""
            },
            "colorscale": [
             [
              0,
              "#0d0887"
             ],
             [
              0.1111111111111111,
              "#46039f"
             ],
             [
              0.2222222222222222,
              "#7201a8"
             ],
             [
              0.3333333333333333,
              "#9c179e"
             ],
             [
              0.4444444444444444,
              "#bd3786"
             ],
             [
              0.5555555555555556,
              "#d8576b"
             ],
             [
              0.6666666666666666,
              "#ed7953"
             ],
             [
              0.7777777777777778,
              "#fb9f3a"
             ],
             [
              0.8888888888888888,
              "#fdca26"
             ],
             [
              1,
              "#f0f921"
             ]
            ],
            "type": "histogram2dcontour"
           }
          ],
          "mesh3d": [
           {
            "colorbar": {
             "outlinewidth": 0,
             "ticks": ""
            },
            "type": "mesh3d"
           }
          ],
          "parcoords": [
           {
            "line": {
             "colorbar": {
              "outlinewidth": 0,
              "ticks": ""
             }
            },
            "type": "parcoords"
           }
          ],
          "pie": [
           {
            "automargin": true,
            "type": "pie"
           }
          ],
          "scatter": [
           {
            "fillpattern": {
             "fillmode": "overlay",
             "size": 10,
             "solidity": 0.2
            },
            "type": "scatter"
           }
          ],
          "scatter3d": [
           {
            "line": {
             "colorbar": {
              "outlinewidth": 0,
              "ticks": ""
             }
            },
            "marker": {
             "colorbar": {
              "outlinewidth": 0,
              "ticks": ""
             }
            },
            "type": "scatter3d"
           }
          ],
          "scattercarpet": [
           {
            "marker": {
             "colorbar": {
              "outlinewidth": 0,
              "ticks": ""
             }
            },
            "type": "scattercarpet"
           }
          ],
          "scattergeo": [
           {
            "marker": {
             "colorbar": {
              "outlinewidth": 0,
              "ticks": ""
             }
            },
            "type": "scattergeo"
           }
          ],
          "scattergl": [
           {
            "marker": {
             "colorbar": {
              "outlinewidth": 0,
              "ticks": ""
             }
            },
            "type": "scattergl"
           }
          ],
          "scattermapbox": [
           {
            "marker": {
             "colorbar": {
              "outlinewidth": 0,
              "ticks": ""
             }
            },
            "type": "scattermapbox"
           }
          ],
          "scatterpolar": [
           {
            "marker": {
             "colorbar": {
              "outlinewidth": 0,
              "ticks": ""
             }
            },
            "type": "scatterpolar"
           }
          ],
          "scatterpolargl": [
           {
            "marker": {
             "colorbar": {
              "outlinewidth": 0,
              "ticks": ""
             }
            },
            "type": "scatterpolargl"
           }
          ],
          "scatterternary": [
           {
            "marker": {
             "colorbar": {
              "outlinewidth": 0,
              "ticks": ""
             }
            },
            "type": "scatterternary"
           }
          ],
          "surface": [
           {
            "colorbar": {
             "outlinewidth": 0,
             "ticks": ""
            },
            "colorscale": [
             [
              0,
              "#0d0887"
             ],
             [
              0.1111111111111111,
              "#46039f"
             ],
             [
              0.2222222222222222,
              "#7201a8"
             ],
             [
              0.3333333333333333,
              "#9c179e"
             ],
             [
              0.4444444444444444,
              "#bd3786"
             ],
             [
              0.5555555555555556,
              "#d8576b"
             ],
             [
              0.6666666666666666,
              "#ed7953"
             ],
             [
              0.7777777777777778,
              "#fb9f3a"
             ],
             [
              0.8888888888888888,
              "#fdca26"
             ],
             [
              1,
              "#f0f921"
             ]
            ],
            "type": "surface"
           }
          ],
          "table": [
           {
            "cells": {
             "fill": {
              "color": "#EBF0F8"
             },
             "line": {
              "color": "white"
             }
            },
            "header": {
             "fill": {
              "color": "#C8D4E3"
             },
             "line": {
              "color": "white"
             }
            },
            "type": "table"
           }
          ]
         },
         "layout": {
          "annotationdefaults": {
           "arrowcolor": "#2a3f5f",
           "arrowhead": 0,
           "arrowwidth": 1
          },
          "autotypenumbers": "strict",
          "coloraxis": {
           "colorbar": {
            "outlinewidth": 0,
            "ticks": ""
           }
          },
          "colorscale": {
           "diverging": [
            [
             0,
             "#8e0152"
            ],
            [
             0.1,
             "#c51b7d"
            ],
            [
             0.2,
             "#de77ae"
            ],
            [
             0.3,
             "#f1b6da"
            ],
            [
             0.4,
             "#fde0ef"
            ],
            [
             0.5,
             "#f7f7f7"
            ],
            [
             0.6,
             "#e6f5d0"
            ],
            [
             0.7,
             "#b8e186"
            ],
            [
             0.8,
             "#7fbc41"
            ],
            [
             0.9,
             "#4d9221"
            ],
            [
             1,
             "#276419"
            ]
           ],
           "sequential": [
            [
             0,
             "#0d0887"
            ],
            [
             0.1111111111111111,
             "#46039f"
            ],
            [
             0.2222222222222222,
             "#7201a8"
            ],
            [
             0.3333333333333333,
             "#9c179e"
            ],
            [
             0.4444444444444444,
             "#bd3786"
            ],
            [
             0.5555555555555556,
             "#d8576b"
            ],
            [
             0.6666666666666666,
             "#ed7953"
            ],
            [
             0.7777777777777778,
             "#fb9f3a"
            ],
            [
             0.8888888888888888,
             "#fdca26"
            ],
            [
             1,
             "#f0f921"
            ]
           ],
           "sequentialminus": [
            [
             0,
             "#0d0887"
            ],
            [
             0.1111111111111111,
             "#46039f"
            ],
            [
             0.2222222222222222,
             "#7201a8"
            ],
            [
             0.3333333333333333,
             "#9c179e"
            ],
            [
             0.4444444444444444,
             "#bd3786"
            ],
            [
             0.5555555555555556,
             "#d8576b"
            ],
            [
             0.6666666666666666,
             "#ed7953"
            ],
            [
             0.7777777777777778,
             "#fb9f3a"
            ],
            [
             0.8888888888888888,
             "#fdca26"
            ],
            [
             1,
             "#f0f921"
            ]
           ]
          },
          "colorway": [
           "#636efa",
           "#EF553B",
           "#00cc96",
           "#ab63fa",
           "#FFA15A",
           "#19d3f3",
           "#FF6692",
           "#B6E880",
           "#FF97FF",
           "#FECB52"
          ],
          "font": {
           "color": "#2a3f5f"
          },
          "geo": {
           "bgcolor": "white",
           "lakecolor": "white",
           "landcolor": "#E5ECF6",
           "showlakes": true,
           "showland": true,
           "subunitcolor": "white"
          },
          "hoverlabel": {
           "align": "left"
          },
          "hovermode": "closest",
          "mapbox": {
           "style": "light"
          },
          "paper_bgcolor": "white",
          "plot_bgcolor": "#E5ECF6",
          "polar": {
           "angularaxis": {
            "gridcolor": "white",
            "linecolor": "white",
            "ticks": ""
           },
           "bgcolor": "#E5ECF6",
           "radialaxis": {
            "gridcolor": "white",
            "linecolor": "white",
            "ticks": ""
           }
          },
          "scene": {
           "xaxis": {
            "backgroundcolor": "#E5ECF6",
            "gridcolor": "white",
            "gridwidth": 2,
            "linecolor": "white",
            "showbackground": true,
            "ticks": "",
            "zerolinecolor": "white"
           },
           "yaxis": {
            "backgroundcolor": "#E5ECF6",
            "gridcolor": "white",
            "gridwidth": 2,
            "linecolor": "white",
            "showbackground": true,
            "ticks": "",
            "zerolinecolor": "white"
           },
           "zaxis": {
            "backgroundcolor": "#E5ECF6",
            "gridcolor": "white",
            "gridwidth": 2,
            "linecolor": "white",
            "showbackground": true,
            "ticks": "",
            "zerolinecolor": "white"
           }
          },
          "shapedefaults": {
           "line": {
            "color": "#2a3f5f"
           }
          },
          "ternary": {
           "aaxis": {
            "gridcolor": "white",
            "linecolor": "white",
            "ticks": ""
           },
           "baxis": {
            "gridcolor": "white",
            "linecolor": "white",
            "ticks": ""
           },
           "bgcolor": "#E5ECF6",
           "caxis": {
            "gridcolor": "white",
            "linecolor": "white",
            "ticks": ""
           }
          },
          "title": {
           "x": 0.05
          },
          "xaxis": {
           "automargin": true,
           "gridcolor": "white",
           "linecolor": "white",
           "ticks": "",
           "title": {
            "standoff": 15
           },
           "zerolinecolor": "white",
           "zerolinewidth": 2
          },
          "yaxis": {
           "automargin": true,
           "gridcolor": "white",
           "linecolor": "white",
           "ticks": "",
           "title": {
            "standoff": 15
           },
           "zerolinecolor": "white",
           "zerolinewidth": 2
          }
         }
        },
        "title": {
         "text": "Negative Sales by Product"
        },
        "xaxis": {
         "anchor": "y",
         "domain": [
          0,
          1
         ],
         "tickmode": "linear",
         "title": {
          "text": "Product Group"
         },
         "type": "category"
        },
        "yaxis": {
         "anchor": "x",
         "domain": [
          0,
          1
         ],
         "title": {
          "text": "Total Negative Sales (EUR)"
         }
        }
       }
      }
     },
     "metadata": {},
     "output_type": "display_data"
    }
   ],
   "source": [
    "grouped_negative_sales_products= negative_sales.groupby('Mapped_GCK')['Sales_EUR'].sum().reset_index()\n",
    "\n",
    "plot_sales_by_product(grouped_negative_sales_products, 'Mapped_GCK', 'Sales_EUR', 'Negative Sales by Product', 'Product Group', 'Total Negative Sales (EUR)')"
   ]
  },
  {
   "cell_type": "markdown",
   "metadata": {},
   "source": [
    "<span style=\"background-color:#235987; padding:5px; border-radius:5px;\">**Remarks**</span> <a id='sales-data'></a>\n",
    "\n",
    "Product Groups with **most negative sales**, from the lowest value: Group **1**, Group **5**, Group **3**, Group **11**, Group **6**, Group **16**.\n",
    "- Are this products with the most sales as well? Is the negative sales value proportional to the positive values?"
   ]
  },
  {
   "cell_type": "code",
   "execution_count": 634,
   "metadata": {},
   "outputs": [
    {
     "name": "stderr",
     "output_type": "stream",
     "text": [
      "C:\\Users\\marga\\AppData\\Local\\Temp\\ipykernel_15752\\499746840.py:1: SettingWithCopyWarning:\n",
      "\n",
      "\n",
      "A value is trying to be set on a copy of a slice from a DataFrame.\n",
      "Try using .loc[row_indexer,col_indexer] = value instead\n",
      "\n",
      "See the caveats in the documentation: https://pandas.pydata.org/pandas-docs/stable/user_guide/indexing.html#returning-a-view-versus-a-copy\n",
      "\n"
     ]
    },
    {
     "data": {
      "application/vnd.plotly.v1+json": {
       "config": {
        "plotlyServerURL": "https://plot.ly"
       },
       "data": [
        {
         "hovertemplate": "Product=3<br>Year-Month=%{x}<br>Total Sales (EUR)=%{y}<extra></extra>",
         "legendgroup": "3",
         "line": {
          "color": "#636efa",
          "dash": "solid"
         },
         "marker": {
          "symbol": "circle"
         },
         "mode": "lines",
         "name": "3",
         "orientation": "v",
         "showlegend": true,
         "type": "scatter",
         "x": [
          "2018-11",
          "2018-12",
          "2019-01",
          "2019-02",
          "2019-03",
          "2019-04",
          "2019-05",
          "2019-08",
          "2019-09",
          "2019-10",
          "2019-12",
          "2020-01",
          "2020-03",
          "2020-04",
          "2020-05",
          "2020-06",
          "2020-07",
          "2020-08",
          "2020-09",
          "2020-10",
          "2020-11",
          "2020-12",
          "2021-01",
          "2021-02",
          "2021-03",
          "2021-05",
          "2021-06",
          "2021-07",
          "2021-08",
          "2021-09",
          "2021-10",
          "2021-11",
          "2021-12",
          "2022-01",
          "2022-02",
          "2022-04"
         ],
         "xaxis": "x",
         "y": [
          -7268.6900000000005,
          -2448.47,
          -2774.65,
          -5029.88,
          -16710.65,
          -1745.3,
          -10961.32,
          -25705.8,
          -4503.78,
          -91856.26999999999,
          -22655.53,
          -207039.55000000002,
          -476.1,
          -25523.4,
          -178.9,
          -241.9,
          -38877,
          -20428,
          -280.9,
          -16788.760000000002,
          -507286.67,
          -13849.949999999999,
          -1675.72,
          -8962.98,
          -1972.2,
          -3888,
          -2587.6,
          -800.81,
          -1076.95,
          -1330.7,
          -2984.29,
          -11169.37,
          -633.5,
          -43474.55,
          -5722.57,
          -94322.29
         ],
         "yaxis": "y"
        },
        {
         "hovertemplate": "Product=4<br>Year-Month=%{x}<br>Total Sales (EUR)=%{y}<extra></extra>",
         "legendgroup": "4",
         "line": {
          "color": "#EF553B",
          "dash": "solid"
         },
         "marker": {
          "symbol": "circle"
         },
         "mode": "lines",
         "name": "4",
         "orientation": "v",
         "showlegend": true,
         "type": "scatter",
         "x": [
          "2018-11",
          "2018-12",
          "2019-01",
          "2019-03",
          "2019-04",
          "2019-07",
          "2019-08",
          "2019-09",
          "2019-10",
          "2020-01",
          "2020-02",
          "2020-03",
          "2020-04",
          "2020-06",
          "2020-07",
          "2020-10",
          "2020-11",
          "2020-12",
          "2021-01",
          "2021-02",
          "2021-03",
          "2021-04",
          "2021-05",
          "2021-06",
          "2021-07",
          "2021-09",
          "2021-10",
          "2021-11",
          "2021-12",
          "2022-01",
          "2022-02",
          "2022-03",
          "2022-04"
         ],
         "xaxis": "x",
         "y": [
          -2029.91,
          -6772.4,
          -261.6,
          -7123.27,
          -2037.18,
          -68.45,
          -1071.8,
          -5763.9,
          -751.93,
          -1351.41,
          -52.08,
          -91.45,
          -67753.43,
          -55.62,
          -107.4,
          -127.4,
          -3575.17,
          -156.26,
          -1266.64,
          -77.6,
          -2574.83,
          -2483.3900000000003,
          -2833.92,
          -1615.49,
          -1513.09,
          -377.28,
          -924.06,
          -64.48,
          -733.07,
          -45.92,
          -99.36,
          -428.74,
          -721.03
         ],
         "yaxis": "y"
        },
        {
         "hovertemplate": "Product=8<br>Year-Month=%{x}<br>Total Sales (EUR)=%{y}<extra></extra>",
         "legendgroup": "8",
         "line": {
          "color": "#00cc96",
          "dash": "solid"
         },
         "marker": {
          "symbol": "circle"
         },
         "mode": "lines",
         "name": "8",
         "orientation": "v",
         "showlegend": true,
         "type": "scatter",
         "x": [
          "2018-11",
          "2019-03",
          "2019-11",
          "2019-12",
          "2020-02",
          "2020-03",
          "2020-06",
          "2020-07",
          "2020-08",
          "2021-03",
          "2021-04",
          "2021-05",
          "2021-09",
          "2021-11",
          "2022-03"
         ],
         "xaxis": "x",
         "y": [
          -500,
          -1000,
          -970,
          -16665.7,
          -205.9,
          -388.02,
          -47498.2,
          -2712.86,
          -105.42,
          -659.82,
          -1201.77,
          -46.2,
          -224.97,
          -2022.65,
          -2168.25
         ],
         "yaxis": "y"
        },
        {
         "hovertemplate": "Product=13<br>Year-Month=%{x}<br>Total Sales (EUR)=%{y}<extra></extra>",
         "legendgroup": "13",
         "line": {
          "color": "#ab63fa",
          "dash": "solid"
         },
         "marker": {
          "symbol": "circle"
         },
         "mode": "lines",
         "name": "13",
         "orientation": "v",
         "showlegend": true,
         "type": "scatter",
         "x": [
          "2018-11",
          "2019-04",
          "2019-05"
         ],
         "xaxis": "x",
         "y": [
          -158.2,
          -26.31,
          -8.59
         ],
         "yaxis": "y"
        },
        {
         "hovertemplate": "Product=36<br>Year-Month=%{x}<br>Total Sales (EUR)=%{y}<extra></extra>",
         "legendgroup": "36",
         "line": {
          "color": "#FFA15A",
          "dash": "solid"
         },
         "marker": {
          "symbol": "circle"
         },
         "mode": "lines",
         "name": "36",
         "orientation": "v",
         "showlegend": true,
         "type": "scatter",
         "x": [
          "2018-11",
          "2019-04",
          "2019-06",
          "2020-01",
          "2020-05",
          "2021-03",
          "2021-07",
          "2021-11"
         ],
         "xaxis": "x",
         "y": [
          -369.28,
          -246.35,
          -1779.81,
          -5887.21,
          -426.4,
          -360,
          -6.43,
          -4310.29
         ],
         "yaxis": "y"
        },
        {
         "hovertemplate": "Product=1<br>Year-Month=%{x}<br>Total Sales (EUR)=%{y}<extra></extra>",
         "legendgroup": "1",
         "line": {
          "color": "#19d3f3",
          "dash": "solid"
         },
         "marker": {
          "symbol": "circle"
         },
         "mode": "lines",
         "name": "1",
         "orientation": "v",
         "showlegend": true,
         "type": "scatter",
         "x": [
          "2018-12",
          "2019-01",
          "2019-02",
          "2019-03",
          "2019-04",
          "2019-05",
          "2019-06",
          "2019-07",
          "2019-08",
          "2019-09",
          "2019-10",
          "2019-11",
          "2019-12",
          "2020-01",
          "2020-02",
          "2020-03",
          "2020-04",
          "2020-05",
          "2020-06",
          "2020-10",
          "2020-12",
          "2021-02",
          "2021-04",
          "2021-05",
          "2021-06",
          "2021-07",
          "2021-08",
          "2021-09",
          "2021-10",
          "2021-11",
          "2021-12",
          "2022-01",
          "2022-02",
          "2022-03",
          "2022-04"
         ],
         "xaxis": "x",
         "y": [
          -226731.5,
          -79503.43,
          -61767.57,
          -35525.85,
          -40297.54,
          -65903.14,
          -90035.31,
          -99659.26,
          -134302.24000000002,
          -156912.4,
          -269116.32,
          -42674.71,
          -159615.1,
          -129602.68,
          -58220.45,
          -153809.78,
          -5967.410000000004,
          -7.11e-15,
          -35715.91,
          -14958.1,
          -21585.47,
          -516.63,
          -61569.08,
          -28299.18,
          -5686.33,
          -21942.84,
          -100.31,
          -125560.07,
          -68013.23,
          -55771.55,
          -67062.04,
          -90102.6,
          -61910.64,
          -3677.25,
          -82992.79
         ],
         "yaxis": "y"
        },
        {
         "hovertemplate": "Product=5<br>Year-Month=%{x}<br>Total Sales (EUR)=%{y}<extra></extra>",
         "legendgroup": "5",
         "line": {
          "color": "#FF6692",
          "dash": "solid"
         },
         "marker": {
          "symbol": "circle"
         },
         "mode": "lines",
         "name": "5",
         "orientation": "v",
         "showlegend": true,
         "type": "scatter",
         "x": [
          "2018-12",
          "2019-01",
          "2019-02",
          "2019-03",
          "2019-04",
          "2019-05",
          "2019-06",
          "2019-07",
          "2019-08",
          "2019-09",
          "2019-10",
          "2019-12",
          "2020-01",
          "2020-02",
          "2020-03",
          "2020-05",
          "2020-06",
          "2020-07",
          "2020-10",
          "2020-11",
          "2021-02",
          "2021-03",
          "2021-04",
          "2021-05",
          "2021-07",
          "2021-09",
          "2021-10",
          "2021-11",
          "2021-12",
          "2022-01",
          "2022-02",
          "2022-04"
         ],
         "xaxis": "x",
         "y": [
          -33573.26,
          -68223.7,
          -13269.63,
          -19537.94,
          -223152.32,
          -24107.89,
          -56671.38,
          -44725.2,
          -17267.190000000002,
          -136550.38,
          -109557.64,
          -59996.08,
          -173783.21,
          -65914.85,
          -113729.56,
          -10788.2,
          -36.96,
          -168,
          -5568.13,
          -76.75,
          -1236.91,
          -44045.23,
          -341515.12,
          -26999.41,
          -1818.39,
          -249012.51,
          -266680.17,
          -44924.31,
          -76100.05,
          -104672.3,
          -37699.240000000005,
          -5015.66
         ],
         "yaxis": "y"
        },
        {
         "hovertemplate": "Product=20<br>Year-Month=%{x}<br>Total Sales (EUR)=%{y}<extra></extra>",
         "legendgroup": "20",
         "line": {
          "color": "#B6E880",
          "dash": "solid"
         },
         "marker": {
          "symbol": "circle"
         },
         "mode": "lines",
         "name": "20",
         "orientation": "v",
         "showlegend": true,
         "type": "scatter",
         "x": [
          "2019-01",
          "2019-04",
          "2019-05",
          "2019-09",
          "2020-11"
         ],
         "xaxis": "x",
         "y": [
          -1.14,
          -15.63,
          -5.1,
          -6.6,
          -11.16
         ],
         "yaxis": "y"
        },
        {
         "hovertemplate": "Product=11<br>Year-Month=%{x}<br>Total Sales (EUR)=%{y}<extra></extra>",
         "legendgroup": "11",
         "line": {
          "color": "#FF97FF",
          "dash": "solid"
         },
         "marker": {
          "symbol": "circle"
         },
         "mode": "lines",
         "name": "11",
         "orientation": "v",
         "showlegend": true,
         "type": "scatter",
         "x": [
          "2019-03",
          "2019-08",
          "2019-10",
          "2020-10",
          "2022-01",
          "2022-02",
          "2022-04"
         ],
         "xaxis": "x",
         "y": [
          -463023.3,
          -22775,
          -9153.22,
          -2,
          -20674.27,
          -2518,
          -587.59
         ],
         "yaxis": "y"
        },
        {
         "hovertemplate": "Product=9<br>Year-Month=%{x}<br>Total Sales (EUR)=%{y}<extra></extra>",
         "legendgroup": "9",
         "line": {
          "color": "#FECB52",
          "dash": "solid"
         },
         "marker": {
          "symbol": "circle"
         },
         "mode": "lines",
         "name": "9",
         "orientation": "v",
         "showlegend": true,
         "type": "scatter",
         "x": [
          "2019-04",
          "2020-04",
          "2020-07",
          "2020-10",
          "2020-11",
          "2021-09",
          "2021-10",
          "2021-11",
          "2021-12",
          "2022-01",
          "2022-02"
         ],
         "xaxis": "x",
         "y": [
          -31.05,
          -375,
          -35.25,
          -35.25,
          -6787.9,
          -28.8,
          -12.96,
          -2983,
          -28.5,
          -28.5,
          -28.5
         ],
         "yaxis": "y"
        },
        {
         "hovertemplate": "Product=16<br>Year-Month=%{x}<br>Total Sales (EUR)=%{y}<extra></extra>",
         "legendgroup": "16",
         "line": {
          "color": "#636efa",
          "dash": "solid"
         },
         "marker": {
          "symbol": "circle"
         },
         "mode": "lines",
         "name": "16",
         "orientation": "v",
         "showlegend": true,
         "type": "scatter",
         "x": [
          "2019-04",
          "2019-06",
          "2019-09",
          "2019-12",
          "2020-08",
          "2021-05"
         ],
         "xaxis": "x",
         "y": [
          -1362.1,
          -4087,
          -12721,
          -269148.12,
          -581,
          -540
         ],
         "yaxis": "y"
        },
        {
         "hovertemplate": "Product=14<br>Year-Month=%{x}<br>Total Sales (EUR)=%{y}<extra></extra>",
         "legendgroup": "14",
         "line": {
          "color": "#EF553B",
          "dash": "solid"
         },
         "marker": {
          "symbol": "circle"
         },
         "mode": "lines",
         "name": "14",
         "orientation": "v",
         "showlegend": true,
         "type": "scatter",
         "x": [
          "2019-05",
          "2019-10",
          "2020-04",
          "2021-09",
          "2022-04"
         ],
         "xaxis": "x",
         "y": [
          -48.6,
          -2851.45,
          -2851.45,
          -6743.25,
          -648.8
         ],
         "yaxis": "y"
        },
        {
         "hovertemplate": "Product=6<br>Year-Month=%{x}<br>Total Sales (EUR)=%{y}<extra></extra>",
         "legendgroup": "6",
         "line": {
          "color": "#00cc96",
          "dash": "solid"
         },
         "marker": {
          "symbol": "circle"
         },
         "mode": "lines",
         "name": "6",
         "orientation": "v",
         "showlegend": true,
         "type": "scatter",
         "x": [
          "2019-08",
          "2019-11",
          "2020-01",
          "2020-05",
          "2020-06",
          "2021-08",
          "2021-09",
          "2022-02",
          "2022-03"
         ],
         "xaxis": "x",
         "y": [
          -5720.89,
          -36995,
          -329079.61,
          -4.55e-13,
          -4067.63,
          -43652.65,
          -1281.05,
          -54,
          -425.88
         ],
         "yaxis": "y"
        },
        {
         "hovertemplate": "Product=12<br>Year-Month=%{x}<br>Total Sales (EUR)=%{y}<extra></extra>",
         "legendgroup": "12",
         "line": {
          "color": "#ab63fa",
          "dash": "solid"
         },
         "marker": {
          "symbol": "circle"
         },
         "mode": "lines",
         "name": "12",
         "orientation": "v",
         "showlegend": true,
         "type": "scatter",
         "x": [
          "2020-03",
          "2020-07",
          "2021-06",
          "2021-07",
          "2021-08",
          "2021-11",
          "2022-01",
          "2022-02",
          "2022-03"
         ],
         "xaxis": "x",
         "y": [
          -4796,
          -720,
          -520.8,
          -449.4,
          -1139.25,
          -1071.38,
          -1464.75,
          -4312.78,
          -1013.4
         ],
         "yaxis": "y"
        }
       ],
       "layout": {
        "legend": {
         "title": {
          "text": "Product"
         },
         "tracegroupgap": 0
        },
        "template": {
         "data": {
          "bar": [
           {
            "error_x": {
             "color": "#2a3f5f"
            },
            "error_y": {
             "color": "#2a3f5f"
            },
            "marker": {
             "line": {
              "color": "#E5ECF6",
              "width": 0.5
             },
             "pattern": {
              "fillmode": "overlay",
              "size": 10,
              "solidity": 0.2
             }
            },
            "type": "bar"
           }
          ],
          "barpolar": [
           {
            "marker": {
             "line": {
              "color": "#E5ECF6",
              "width": 0.5
             },
             "pattern": {
              "fillmode": "overlay",
              "size": 10,
              "solidity": 0.2
             }
            },
            "type": "barpolar"
           }
          ],
          "carpet": [
           {
            "aaxis": {
             "endlinecolor": "#2a3f5f",
             "gridcolor": "white",
             "linecolor": "white",
             "minorgridcolor": "white",
             "startlinecolor": "#2a3f5f"
            },
            "baxis": {
             "endlinecolor": "#2a3f5f",
             "gridcolor": "white",
             "linecolor": "white",
             "minorgridcolor": "white",
             "startlinecolor": "#2a3f5f"
            },
            "type": "carpet"
           }
          ],
          "choropleth": [
           {
            "colorbar": {
             "outlinewidth": 0,
             "ticks": ""
            },
            "type": "choropleth"
           }
          ],
          "contour": [
           {
            "colorbar": {
             "outlinewidth": 0,
             "ticks": ""
            },
            "colorscale": [
             [
              0,
              "#0d0887"
             ],
             [
              0.1111111111111111,
              "#46039f"
             ],
             [
              0.2222222222222222,
              "#7201a8"
             ],
             [
              0.3333333333333333,
              "#9c179e"
             ],
             [
              0.4444444444444444,
              "#bd3786"
             ],
             [
              0.5555555555555556,
              "#d8576b"
             ],
             [
              0.6666666666666666,
              "#ed7953"
             ],
             [
              0.7777777777777778,
              "#fb9f3a"
             ],
             [
              0.8888888888888888,
              "#fdca26"
             ],
             [
              1,
              "#f0f921"
             ]
            ],
            "type": "contour"
           }
          ],
          "contourcarpet": [
           {
            "colorbar": {
             "outlinewidth": 0,
             "ticks": ""
            },
            "type": "contourcarpet"
           }
          ],
          "heatmap": [
           {
            "colorbar": {
             "outlinewidth": 0,
             "ticks": ""
            },
            "colorscale": [
             [
              0,
              "#0d0887"
             ],
             [
              0.1111111111111111,
              "#46039f"
             ],
             [
              0.2222222222222222,
              "#7201a8"
             ],
             [
              0.3333333333333333,
              "#9c179e"
             ],
             [
              0.4444444444444444,
              "#bd3786"
             ],
             [
              0.5555555555555556,
              "#d8576b"
             ],
             [
              0.6666666666666666,
              "#ed7953"
             ],
             [
              0.7777777777777778,
              "#fb9f3a"
             ],
             [
              0.8888888888888888,
              "#fdca26"
             ],
             [
              1,
              "#f0f921"
             ]
            ],
            "type": "heatmap"
           }
          ],
          "heatmapgl": [
           {
            "colorbar": {
             "outlinewidth": 0,
             "ticks": ""
            },
            "colorscale": [
             [
              0,
              "#0d0887"
             ],
             [
              0.1111111111111111,
              "#46039f"
             ],
             [
              0.2222222222222222,
              "#7201a8"
             ],
             [
              0.3333333333333333,
              "#9c179e"
             ],
             [
              0.4444444444444444,
              "#bd3786"
             ],
             [
              0.5555555555555556,
              "#d8576b"
             ],
             [
              0.6666666666666666,
              "#ed7953"
             ],
             [
              0.7777777777777778,
              "#fb9f3a"
             ],
             [
              0.8888888888888888,
              "#fdca26"
             ],
             [
              1,
              "#f0f921"
             ]
            ],
            "type": "heatmapgl"
           }
          ],
          "histogram": [
           {
            "marker": {
             "pattern": {
              "fillmode": "overlay",
              "size": 10,
              "solidity": 0.2
             }
            },
            "type": "histogram"
           }
          ],
          "histogram2d": [
           {
            "colorbar": {
             "outlinewidth": 0,
             "ticks": ""
            },
            "colorscale": [
             [
              0,
              "#0d0887"
             ],
             [
              0.1111111111111111,
              "#46039f"
             ],
             [
              0.2222222222222222,
              "#7201a8"
             ],
             [
              0.3333333333333333,
              "#9c179e"
             ],
             [
              0.4444444444444444,
              "#bd3786"
             ],
             [
              0.5555555555555556,
              "#d8576b"
             ],
             [
              0.6666666666666666,
              "#ed7953"
             ],
             [
              0.7777777777777778,
              "#fb9f3a"
             ],
             [
              0.8888888888888888,
              "#fdca26"
             ],
             [
              1,
              "#f0f921"
             ]
            ],
            "type": "histogram2d"
           }
          ],
          "histogram2dcontour": [
           {
            "colorbar": {
             "outlinewidth": 0,
             "ticks": ""
            },
            "colorscale": [
             [
              0,
              "#0d0887"
             ],
             [
              0.1111111111111111,
              "#46039f"
             ],
             [
              0.2222222222222222,
              "#7201a8"
             ],
             [
              0.3333333333333333,
              "#9c179e"
             ],
             [
              0.4444444444444444,
              "#bd3786"
             ],
             [
              0.5555555555555556,
              "#d8576b"
             ],
             [
              0.6666666666666666,
              "#ed7953"
             ],
             [
              0.7777777777777778,
              "#fb9f3a"
             ],
             [
              0.8888888888888888,
              "#fdca26"
             ],
             [
              1,
              "#f0f921"
             ]
            ],
            "type": "histogram2dcontour"
           }
          ],
          "mesh3d": [
           {
            "colorbar": {
             "outlinewidth": 0,
             "ticks": ""
            },
            "type": "mesh3d"
           }
          ],
          "parcoords": [
           {
            "line": {
             "colorbar": {
              "outlinewidth": 0,
              "ticks": ""
             }
            },
            "type": "parcoords"
           }
          ],
          "pie": [
           {
            "automargin": true,
            "type": "pie"
           }
          ],
          "scatter": [
           {
            "fillpattern": {
             "fillmode": "overlay",
             "size": 10,
             "solidity": 0.2
            },
            "type": "scatter"
           }
          ],
          "scatter3d": [
           {
            "line": {
             "colorbar": {
              "outlinewidth": 0,
              "ticks": ""
             }
            },
            "marker": {
             "colorbar": {
              "outlinewidth": 0,
              "ticks": ""
             }
            },
            "type": "scatter3d"
           }
          ],
          "scattercarpet": [
           {
            "marker": {
             "colorbar": {
              "outlinewidth": 0,
              "ticks": ""
             }
            },
            "type": "scattercarpet"
           }
          ],
          "scattergeo": [
           {
            "marker": {
             "colorbar": {
              "outlinewidth": 0,
              "ticks": ""
             }
            },
            "type": "scattergeo"
           }
          ],
          "scattergl": [
           {
            "marker": {
             "colorbar": {
              "outlinewidth": 0,
              "ticks": ""
             }
            },
            "type": "scattergl"
           }
          ],
          "scattermapbox": [
           {
            "marker": {
             "colorbar": {
              "outlinewidth": 0,
              "ticks": ""
             }
            },
            "type": "scattermapbox"
           }
          ],
          "scatterpolar": [
           {
            "marker": {
             "colorbar": {
              "outlinewidth": 0,
              "ticks": ""
             }
            },
            "type": "scatterpolar"
           }
          ],
          "scatterpolargl": [
           {
            "marker": {
             "colorbar": {
              "outlinewidth": 0,
              "ticks": ""
             }
            },
            "type": "scatterpolargl"
           }
          ],
          "scatterternary": [
           {
            "marker": {
             "colorbar": {
              "outlinewidth": 0,
              "ticks": ""
             }
            },
            "type": "scatterternary"
           }
          ],
          "surface": [
           {
            "colorbar": {
             "outlinewidth": 0,
             "ticks": ""
            },
            "colorscale": [
             [
              0,
              "#0d0887"
             ],
             [
              0.1111111111111111,
              "#46039f"
             ],
             [
              0.2222222222222222,
              "#7201a8"
             ],
             [
              0.3333333333333333,
              "#9c179e"
             ],
             [
              0.4444444444444444,
              "#bd3786"
             ],
             [
              0.5555555555555556,
              "#d8576b"
             ],
             [
              0.6666666666666666,
              "#ed7953"
             ],
             [
              0.7777777777777778,
              "#fb9f3a"
             ],
             [
              0.8888888888888888,
              "#fdca26"
             ],
             [
              1,
              "#f0f921"
             ]
            ],
            "type": "surface"
           }
          ],
          "table": [
           {
            "cells": {
             "fill": {
              "color": "#EBF0F8"
             },
             "line": {
              "color": "white"
             }
            },
            "header": {
             "fill": {
              "color": "#C8D4E3"
             },
             "line": {
              "color": "white"
             }
            },
            "type": "table"
           }
          ]
         },
         "layout": {
          "annotationdefaults": {
           "arrowcolor": "#2a3f5f",
           "arrowhead": 0,
           "arrowwidth": 1
          },
          "autotypenumbers": "strict",
          "coloraxis": {
           "colorbar": {
            "outlinewidth": 0,
            "ticks": ""
           }
          },
          "colorscale": {
           "diverging": [
            [
             0,
             "#8e0152"
            ],
            [
             0.1,
             "#c51b7d"
            ],
            [
             0.2,
             "#de77ae"
            ],
            [
             0.3,
             "#f1b6da"
            ],
            [
             0.4,
             "#fde0ef"
            ],
            [
             0.5,
             "#f7f7f7"
            ],
            [
             0.6,
             "#e6f5d0"
            ],
            [
             0.7,
             "#b8e186"
            ],
            [
             0.8,
             "#7fbc41"
            ],
            [
             0.9,
             "#4d9221"
            ],
            [
             1,
             "#276419"
            ]
           ],
           "sequential": [
            [
             0,
             "#0d0887"
            ],
            [
             0.1111111111111111,
             "#46039f"
            ],
            [
             0.2222222222222222,
             "#7201a8"
            ],
            [
             0.3333333333333333,
             "#9c179e"
            ],
            [
             0.4444444444444444,
             "#bd3786"
            ],
            [
             0.5555555555555556,
             "#d8576b"
            ],
            [
             0.6666666666666666,
             "#ed7953"
            ],
            [
             0.7777777777777778,
             "#fb9f3a"
            ],
            [
             0.8888888888888888,
             "#fdca26"
            ],
            [
             1,
             "#f0f921"
            ]
           ],
           "sequentialminus": [
            [
             0,
             "#0d0887"
            ],
            [
             0.1111111111111111,
             "#46039f"
            ],
            [
             0.2222222222222222,
             "#7201a8"
            ],
            [
             0.3333333333333333,
             "#9c179e"
            ],
            [
             0.4444444444444444,
             "#bd3786"
            ],
            [
             0.5555555555555556,
             "#d8576b"
            ],
            [
             0.6666666666666666,
             "#ed7953"
            ],
            [
             0.7777777777777778,
             "#fb9f3a"
            ],
            [
             0.8888888888888888,
             "#fdca26"
            ],
            [
             1,
             "#f0f921"
            ]
           ]
          },
          "colorway": [
           "#636efa",
           "#EF553B",
           "#00cc96",
           "#ab63fa",
           "#FFA15A",
           "#19d3f3",
           "#FF6692",
           "#B6E880",
           "#FF97FF",
           "#FECB52"
          ],
          "font": {
           "color": "#2a3f5f"
          },
          "geo": {
           "bgcolor": "white",
           "lakecolor": "white",
           "landcolor": "#E5ECF6",
           "showlakes": true,
           "showland": true,
           "subunitcolor": "white"
          },
          "hoverlabel": {
           "align": "left"
          },
          "hovermode": "closest",
          "mapbox": {
           "style": "light"
          },
          "paper_bgcolor": "white",
          "plot_bgcolor": "#E5ECF6",
          "polar": {
           "angularaxis": {
            "gridcolor": "white",
            "linecolor": "white",
            "ticks": ""
           },
           "bgcolor": "#E5ECF6",
           "radialaxis": {
            "gridcolor": "white",
            "linecolor": "white",
            "ticks": ""
           }
          },
          "scene": {
           "xaxis": {
            "backgroundcolor": "#E5ECF6",
            "gridcolor": "white",
            "gridwidth": 2,
            "linecolor": "white",
            "showbackground": true,
            "ticks": "",
            "zerolinecolor": "white"
           },
           "yaxis": {
            "backgroundcolor": "#E5ECF6",
            "gridcolor": "white",
            "gridwidth": 2,
            "linecolor": "white",
            "showbackground": true,
            "ticks": "",
            "zerolinecolor": "white"
           },
           "zaxis": {
            "backgroundcolor": "#E5ECF6",
            "gridcolor": "white",
            "gridwidth": 2,
            "linecolor": "white",
            "showbackground": true,
            "ticks": "",
            "zerolinecolor": "white"
           }
          },
          "shapedefaults": {
           "line": {
            "color": "#2a3f5f"
           }
          },
          "ternary": {
           "aaxis": {
            "gridcolor": "white",
            "linecolor": "white",
            "ticks": ""
           },
           "baxis": {
            "gridcolor": "white",
            "linecolor": "white",
            "ticks": ""
           },
           "bgcolor": "#E5ECF6",
           "caxis": {
            "gridcolor": "white",
            "linecolor": "white",
            "ticks": ""
           }
          },
          "title": {
           "x": 0.05
          },
          "xaxis": {
           "automargin": true,
           "gridcolor": "white",
           "linecolor": "white",
           "ticks": "",
           "title": {
            "standoff": 15
           },
           "zerolinecolor": "white",
           "zerolinewidth": 2
          },
          "yaxis": {
           "automargin": true,
           "gridcolor": "white",
           "linecolor": "white",
           "ticks": "",
           "title": {
            "standoff": 15
           },
           "zerolinecolor": "white",
           "zerolinewidth": 2
          }
         }
        },
        "title": {
         "text": "Negative Sales by Product and Month"
        },
        "xaxis": {
         "anchor": "y",
         "domain": [
          0,
          1
         ],
         "tickangle": -45,
         "title": {
          "text": "Year-Month"
         }
        },
        "yaxis": {
         "anchor": "x",
         "domain": [
          0,
          1
         ],
         "title": {
          "text": "Total Sales (EUR)"
         }
        }
       }
      }
     },
     "metadata": {},
     "output_type": "display_data"
    }
   ],
   "source": [
    "negative_sales['Year_Month'] = negative_sales['DATE'].dt.to_period('M').astype(str)\n",
    "grouped_negative_sales_prod_month = negative_sales.groupby(['Year_Month', 'Mapped_GCK'])['Sales_EUR'].sum().reset_index()\n",
    "\n",
    "plot_sales_by_product_month(grouped_negative_sales_prod_month, 'Year_Month', 'Sales_EUR', 'Mapped_GCK', \n",
    "                            'Negative Sales by Product and Month', 'Year-Month', 'Total Sales (EUR)')"
   ]
  },
  {
   "cell_type": "markdown",
   "metadata": {},
   "source": [
    "<span style=\"background-color:#235987; padding:5px; border-radius:5px;\">**Remarks**</span> <a id='sales-data'></a>\n",
    "\n",
    "The visualization of **Negative Sales by Poduct, by month** gives us an idea of the main drivers for the lower peaks in sales values. \n",
    "- **Mar 2019**: most negative sales for this month were driven by the product group **11**, making it possibly a production error. \n",
    "- **Jan 2020**: the month with the lowest value for sales resulted from a variety of product groups having a peak in negative sales, namely group **6**, group **16**, group **3**, group **5** and group **1**.\n",
    "- **Nov 2020**: while this was a month that looked within normal limits, now its possible to identify that the vast majority of negative sales for November 2020 come from the product group **3**, making it very likely a production error. \n",
    "- **Apr 20201**: most negative sales for this month were driven by the product group **5**, with a slight peak in group **1** as well, making it possibly a production error.\n",
    "- **Sep and Oct 2021**: both this months have a similar behaviour to the one of **Apr 2021**, being the main drivers of negative sales products **5** and **1**."
   ]
  },
  {
   "cell_type": "markdown",
   "metadata": {},
   "source": [
    ">Positive Sales' values Analysis"
   ]
  },
  {
   "cell_type": "code",
   "execution_count": 635,
   "metadata": {},
   "outputs": [
    {
     "data": {
      "text/html": [
       "<div>\n",
       "<style scoped>\n",
       "    .dataframe tbody tr th:only-of-type {\n",
       "        vertical-align: middle;\n",
       "    }\n",
       "\n",
       "    .dataframe tbody tr th {\n",
       "        vertical-align: top;\n",
       "    }\n",
       "\n",
       "    .dataframe thead th {\n",
       "        text-align: right;\n",
       "    }\n",
       "</style>\n",
       "<table border=\"1\" class=\"dataframe\">\n",
       "  <thead>\n",
       "    <tr style=\"text-align: right;\">\n",
       "      <th></th>\n",
       "      <th>DATE</th>\n",
       "      <th>Mapped_GCK</th>\n",
       "      <th>Sales_EUR</th>\n",
       "    </tr>\n",
       "  </thead>\n",
       "  <tbody>\n",
       "    <tr>\n",
       "      <th>26</th>\n",
       "      <td>2018-10-24</td>\n",
       "      <td>1</td>\n",
       "      <td>1702929.2100</td>\n",
       "    </tr>\n",
       "    <tr>\n",
       "      <th>31</th>\n",
       "      <td>2021-08-20</td>\n",
       "      <td>16</td>\n",
       "      <td>111107.3800</td>\n",
       "    </tr>\n",
       "    <tr>\n",
       "      <th>32</th>\n",
       "      <td>2021-08-17</td>\n",
       "      <td>16</td>\n",
       "      <td>3685.0000</td>\n",
       "    </tr>\n",
       "    <tr>\n",
       "      <th>43</th>\n",
       "      <td>2018-10-29</td>\n",
       "      <td>1</td>\n",
       "      <td>974208.5500</td>\n",
       "    </tr>\n",
       "    <tr>\n",
       "      <th>45</th>\n",
       "      <td>2018-10-31</td>\n",
       "      <td>1</td>\n",
       "      <td>33421781.0300</td>\n",
       "    </tr>\n",
       "    <tr>\n",
       "      <th>...</th>\n",
       "      <td>...</td>\n",
       "      <td>...</td>\n",
       "      <td>...</td>\n",
       "    </tr>\n",
       "    <tr>\n",
       "      <th>9788</th>\n",
       "      <td>2019-08-23</td>\n",
       "      <td>3</td>\n",
       "      <td>2695566.6400</td>\n",
       "    </tr>\n",
       "    <tr>\n",
       "      <th>9795</th>\n",
       "      <td>2019-08-23</td>\n",
       "      <td>13</td>\n",
       "      <td>3000.0000</td>\n",
       "    </tr>\n",
       "    <tr>\n",
       "      <th>9796</th>\n",
       "      <td>2019-08-28</td>\n",
       "      <td>14</td>\n",
       "      <td>1602.0000</td>\n",
       "    </tr>\n",
       "    <tr>\n",
       "      <th>9798</th>\n",
       "      <td>2019-08-23</td>\n",
       "      <td>36</td>\n",
       "      <td>1015.0000</td>\n",
       "    </tr>\n",
       "    <tr>\n",
       "      <th>9800</th>\n",
       "      <td>2019-08-28</td>\n",
       "      <td>8</td>\n",
       "      <td>43763.9100</td>\n",
       "    </tr>\n",
       "  </tbody>\n",
       "</table>\n",
       "<p>2392 rows × 3 columns</p>\n",
       "</div>"
      ],
      "text/plain": [
       "           DATE  Mapped_GCK     Sales_EUR\n",
       "26   2018-10-24           1  1702929.2100\n",
       "31   2021-08-20          16   111107.3800\n",
       "32   2021-08-17          16     3685.0000\n",
       "43   2018-10-29           1   974208.5500\n",
       "45   2018-10-31           1 33421781.0300\n",
       "...         ...         ...           ...\n",
       "9788 2019-08-23           3  2695566.6400\n",
       "9795 2019-08-23          13     3000.0000\n",
       "9796 2019-08-28          14     1602.0000\n",
       "9798 2019-08-23          36     1015.0000\n",
       "9800 2019-08-28           8    43763.9100\n",
       "\n",
       "[2392 rows x 3 columns]"
      ]
     },
     "execution_count": 635,
     "metadata": {},
     "output_type": "execute_result"
    }
   ],
   "source": [
    "positive_sales = df_sales[df_sales['Sales_EUR'] > 0]\n",
    "positive_sales"
   ]
  },
  {
   "cell_type": "code",
   "execution_count": 636,
   "metadata": {},
   "outputs": [
    {
     "name": "stderr",
     "output_type": "stream",
     "text": [
      "C:\\Users\\marga\\AppData\\Local\\Temp\\ipykernel_15752\\2664286345.py:1: SettingWithCopyWarning:\n",
      "\n",
      "\n",
      "A value is trying to be set on a copy of a slice from a DataFrame.\n",
      "Try using .loc[row_indexer,col_indexer] = value instead\n",
      "\n",
      "See the caveats in the documentation: https://pandas.pydata.org/pandas-docs/stable/user_guide/indexing.html#returning-a-view-versus-a-copy\n",
      "\n"
     ]
    },
    {
     "data": {
      "application/vnd.plotly.v1+json": {
       "config": {
        "plotlyServerURL": "https://plot.ly"
       },
       "data": [
        {
         "hovertemplate": "Year-Month=%{x}<br>Total Positive Sales (EUR)=%{y}<extra></extra>",
         "legendgroup": "",
         "line": {
          "color": "#636efa",
          "dash": "solid"
         },
         "marker": {
          "symbol": "circle"
         },
         "mode": "lines",
         "name": "",
         "orientation": "v",
         "showlegend": false,
         "type": "scatter",
         "x": [
          "2018-10",
          "2018-11",
          "2018-12",
          "2019-01",
          "2019-02",
          "2019-03",
          "2019-04",
          "2019-05",
          "2019-06",
          "2019-07",
          "2019-08",
          "2019-09",
          "2019-10",
          "2019-11",
          "2019-12",
          "2020-01",
          "2020-02",
          "2020-03",
          "2020-04",
          "2020-05",
          "2020-06",
          "2020-07",
          "2020-08",
          "2020-09",
          "2020-10",
          "2020-11",
          "2020-12",
          "2021-01",
          "2021-02",
          "2021-03",
          "2021-04",
          "2021-05",
          "2021-06",
          "2021-07",
          "2021-08",
          "2021-09",
          "2021-10",
          "2021-11",
          "2021-12",
          "2022-01",
          "2022-02",
          "2022-03",
          "2022-04"
         ],
         "xaxis": "x",
         "y": [
          49471370.83,
          30770904.55,
          61581594.42,
          51510913.75,
          54417000.75,
          61978807.29,
          60866949.22,
          65664848,
          66404505.580000006,
          65069880.82,
          61836862.06,
          79403679.06,
          63924045.19,
          62249510.89,
          66217293.440000005,
          55599564.18,
          59050691.14,
          65805919.559999995,
          60575795.64,
          55013121.129999995,
          64498342.86,
          57881224.910000004,
          64173923.309999995,
          75588672.12,
          58159471.34,
          66121610.22,
          56851276.01,
          33060585.620000005,
          72792046.36,
          63105170.58,
          66209959.779999994,
          61462465.69,
          65113761.35,
          63742759.8,
          73348997.89,
          75944508.46,
          71569870.81,
          66946423.35,
          61517591.78,
          62680650.96,
          63013414.629999995,
          74679028.6,
          65577399.17
         ],
         "yaxis": "y"
        }
       ],
       "layout": {
        "legend": {
         "tracegroupgap": 0
        },
        "template": {
         "data": {
          "bar": [
           {
            "error_x": {
             "color": "#2a3f5f"
            },
            "error_y": {
             "color": "#2a3f5f"
            },
            "marker": {
             "line": {
              "color": "#E5ECF6",
              "width": 0.5
             },
             "pattern": {
              "fillmode": "overlay",
              "size": 10,
              "solidity": 0.2
             }
            },
            "type": "bar"
           }
          ],
          "barpolar": [
           {
            "marker": {
             "line": {
              "color": "#E5ECF6",
              "width": 0.5
             },
             "pattern": {
              "fillmode": "overlay",
              "size": 10,
              "solidity": 0.2
             }
            },
            "type": "barpolar"
           }
          ],
          "carpet": [
           {
            "aaxis": {
             "endlinecolor": "#2a3f5f",
             "gridcolor": "white",
             "linecolor": "white",
             "minorgridcolor": "white",
             "startlinecolor": "#2a3f5f"
            },
            "baxis": {
             "endlinecolor": "#2a3f5f",
             "gridcolor": "white",
             "linecolor": "white",
             "minorgridcolor": "white",
             "startlinecolor": "#2a3f5f"
            },
            "type": "carpet"
           }
          ],
          "choropleth": [
           {
            "colorbar": {
             "outlinewidth": 0,
             "ticks": ""
            },
            "type": "choropleth"
           }
          ],
          "contour": [
           {
            "colorbar": {
             "outlinewidth": 0,
             "ticks": ""
            },
            "colorscale": [
             [
              0,
              "#0d0887"
             ],
             [
              0.1111111111111111,
              "#46039f"
             ],
             [
              0.2222222222222222,
              "#7201a8"
             ],
             [
              0.3333333333333333,
              "#9c179e"
             ],
             [
              0.4444444444444444,
              "#bd3786"
             ],
             [
              0.5555555555555556,
              "#d8576b"
             ],
             [
              0.6666666666666666,
              "#ed7953"
             ],
             [
              0.7777777777777778,
              "#fb9f3a"
             ],
             [
              0.8888888888888888,
              "#fdca26"
             ],
             [
              1,
              "#f0f921"
             ]
            ],
            "type": "contour"
           }
          ],
          "contourcarpet": [
           {
            "colorbar": {
             "outlinewidth": 0,
             "ticks": ""
            },
            "type": "contourcarpet"
           }
          ],
          "heatmap": [
           {
            "colorbar": {
             "outlinewidth": 0,
             "ticks": ""
            },
            "colorscale": [
             [
              0,
              "#0d0887"
             ],
             [
              0.1111111111111111,
              "#46039f"
             ],
             [
              0.2222222222222222,
              "#7201a8"
             ],
             [
              0.3333333333333333,
              "#9c179e"
             ],
             [
              0.4444444444444444,
              "#bd3786"
             ],
             [
              0.5555555555555556,
              "#d8576b"
             ],
             [
              0.6666666666666666,
              "#ed7953"
             ],
             [
              0.7777777777777778,
              "#fb9f3a"
             ],
             [
              0.8888888888888888,
              "#fdca26"
             ],
             [
              1,
              "#f0f921"
             ]
            ],
            "type": "heatmap"
           }
          ],
          "heatmapgl": [
           {
            "colorbar": {
             "outlinewidth": 0,
             "ticks": ""
            },
            "colorscale": [
             [
              0,
              "#0d0887"
             ],
             [
              0.1111111111111111,
              "#46039f"
             ],
             [
              0.2222222222222222,
              "#7201a8"
             ],
             [
              0.3333333333333333,
              "#9c179e"
             ],
             [
              0.4444444444444444,
              "#bd3786"
             ],
             [
              0.5555555555555556,
              "#d8576b"
             ],
             [
              0.6666666666666666,
              "#ed7953"
             ],
             [
              0.7777777777777778,
              "#fb9f3a"
             ],
             [
              0.8888888888888888,
              "#fdca26"
             ],
             [
              1,
              "#f0f921"
             ]
            ],
            "type": "heatmapgl"
           }
          ],
          "histogram": [
           {
            "marker": {
             "pattern": {
              "fillmode": "overlay",
              "size": 10,
              "solidity": 0.2
             }
            },
            "type": "histogram"
           }
          ],
          "histogram2d": [
           {
            "colorbar": {
             "outlinewidth": 0,
             "ticks": ""
            },
            "colorscale": [
             [
              0,
              "#0d0887"
             ],
             [
              0.1111111111111111,
              "#46039f"
             ],
             [
              0.2222222222222222,
              "#7201a8"
             ],
             [
              0.3333333333333333,
              "#9c179e"
             ],
             [
              0.4444444444444444,
              "#bd3786"
             ],
             [
              0.5555555555555556,
              "#d8576b"
             ],
             [
              0.6666666666666666,
              "#ed7953"
             ],
             [
              0.7777777777777778,
              "#fb9f3a"
             ],
             [
              0.8888888888888888,
              "#fdca26"
             ],
             [
              1,
              "#f0f921"
             ]
            ],
            "type": "histogram2d"
           }
          ],
          "histogram2dcontour": [
           {
            "colorbar": {
             "outlinewidth": 0,
             "ticks": ""
            },
            "colorscale": [
             [
              0,
              "#0d0887"
             ],
             [
              0.1111111111111111,
              "#46039f"
             ],
             [
              0.2222222222222222,
              "#7201a8"
             ],
             [
              0.3333333333333333,
              "#9c179e"
             ],
             [
              0.4444444444444444,
              "#bd3786"
             ],
             [
              0.5555555555555556,
              "#d8576b"
             ],
             [
              0.6666666666666666,
              "#ed7953"
             ],
             [
              0.7777777777777778,
              "#fb9f3a"
             ],
             [
              0.8888888888888888,
              "#fdca26"
             ],
             [
              1,
              "#f0f921"
             ]
            ],
            "type": "histogram2dcontour"
           }
          ],
          "mesh3d": [
           {
            "colorbar": {
             "outlinewidth": 0,
             "ticks": ""
            },
            "type": "mesh3d"
           }
          ],
          "parcoords": [
           {
            "line": {
             "colorbar": {
              "outlinewidth": 0,
              "ticks": ""
             }
            },
            "type": "parcoords"
           }
          ],
          "pie": [
           {
            "automargin": true,
            "type": "pie"
           }
          ],
          "scatter": [
           {
            "fillpattern": {
             "fillmode": "overlay",
             "size": 10,
             "solidity": 0.2
            },
            "type": "scatter"
           }
          ],
          "scatter3d": [
           {
            "line": {
             "colorbar": {
              "outlinewidth": 0,
              "ticks": ""
             }
            },
            "marker": {
             "colorbar": {
              "outlinewidth": 0,
              "ticks": ""
             }
            },
            "type": "scatter3d"
           }
          ],
          "scattercarpet": [
           {
            "marker": {
             "colorbar": {
              "outlinewidth": 0,
              "ticks": ""
             }
            },
            "type": "scattercarpet"
           }
          ],
          "scattergeo": [
           {
            "marker": {
             "colorbar": {
              "outlinewidth": 0,
              "ticks": ""
             }
            },
            "type": "scattergeo"
           }
          ],
          "scattergl": [
           {
            "marker": {
             "colorbar": {
              "outlinewidth": 0,
              "ticks": ""
             }
            },
            "type": "scattergl"
           }
          ],
          "scattermapbox": [
           {
            "marker": {
             "colorbar": {
              "outlinewidth": 0,
              "ticks": ""
             }
            },
            "type": "scattermapbox"
           }
          ],
          "scatterpolar": [
           {
            "marker": {
             "colorbar": {
              "outlinewidth": 0,
              "ticks": ""
             }
            },
            "type": "scatterpolar"
           }
          ],
          "scatterpolargl": [
           {
            "marker": {
             "colorbar": {
              "outlinewidth": 0,
              "ticks": ""
             }
            },
            "type": "scatterpolargl"
           }
          ],
          "scatterternary": [
           {
            "marker": {
             "colorbar": {
              "outlinewidth": 0,
              "ticks": ""
             }
            },
            "type": "scatterternary"
           }
          ],
          "surface": [
           {
            "colorbar": {
             "outlinewidth": 0,
             "ticks": ""
            },
            "colorscale": [
             [
              0,
              "#0d0887"
             ],
             [
              0.1111111111111111,
              "#46039f"
             ],
             [
              0.2222222222222222,
              "#7201a8"
             ],
             [
              0.3333333333333333,
              "#9c179e"
             ],
             [
              0.4444444444444444,
              "#bd3786"
             ],
             [
              0.5555555555555556,
              "#d8576b"
             ],
             [
              0.6666666666666666,
              "#ed7953"
             ],
             [
              0.7777777777777778,
              "#fb9f3a"
             ],
             [
              0.8888888888888888,
              "#fdca26"
             ],
             [
              1,
              "#f0f921"
             ]
            ],
            "type": "surface"
           }
          ],
          "table": [
           {
            "cells": {
             "fill": {
              "color": "#EBF0F8"
             },
             "line": {
              "color": "white"
             }
            },
            "header": {
             "fill": {
              "color": "#C8D4E3"
             },
             "line": {
              "color": "white"
             }
            },
            "type": "table"
           }
          ]
         },
         "layout": {
          "annotationdefaults": {
           "arrowcolor": "#2a3f5f",
           "arrowhead": 0,
           "arrowwidth": 1
          },
          "autotypenumbers": "strict",
          "coloraxis": {
           "colorbar": {
            "outlinewidth": 0,
            "ticks": ""
           }
          },
          "colorscale": {
           "diverging": [
            [
             0,
             "#8e0152"
            ],
            [
             0.1,
             "#c51b7d"
            ],
            [
             0.2,
             "#de77ae"
            ],
            [
             0.3,
             "#f1b6da"
            ],
            [
             0.4,
             "#fde0ef"
            ],
            [
             0.5,
             "#f7f7f7"
            ],
            [
             0.6,
             "#e6f5d0"
            ],
            [
             0.7,
             "#b8e186"
            ],
            [
             0.8,
             "#7fbc41"
            ],
            [
             0.9,
             "#4d9221"
            ],
            [
             1,
             "#276419"
            ]
           ],
           "sequential": [
            [
             0,
             "#0d0887"
            ],
            [
             0.1111111111111111,
             "#46039f"
            ],
            [
             0.2222222222222222,
             "#7201a8"
            ],
            [
             0.3333333333333333,
             "#9c179e"
            ],
            [
             0.4444444444444444,
             "#bd3786"
            ],
            [
             0.5555555555555556,
             "#d8576b"
            ],
            [
             0.6666666666666666,
             "#ed7953"
            ],
            [
             0.7777777777777778,
             "#fb9f3a"
            ],
            [
             0.8888888888888888,
             "#fdca26"
            ],
            [
             1,
             "#f0f921"
            ]
           ],
           "sequentialminus": [
            [
             0,
             "#0d0887"
            ],
            [
             0.1111111111111111,
             "#46039f"
            ],
            [
             0.2222222222222222,
             "#7201a8"
            ],
            [
             0.3333333333333333,
             "#9c179e"
            ],
            [
             0.4444444444444444,
             "#bd3786"
            ],
            [
             0.5555555555555556,
             "#d8576b"
            ],
            [
             0.6666666666666666,
             "#ed7953"
            ],
            [
             0.7777777777777778,
             "#fb9f3a"
            ],
            [
             0.8888888888888888,
             "#fdca26"
            ],
            [
             1,
             "#f0f921"
            ]
           ]
          },
          "colorway": [
           "#636efa",
           "#EF553B",
           "#00cc96",
           "#ab63fa",
           "#FFA15A",
           "#19d3f3",
           "#FF6692",
           "#B6E880",
           "#FF97FF",
           "#FECB52"
          ],
          "font": {
           "color": "#2a3f5f"
          },
          "geo": {
           "bgcolor": "white",
           "lakecolor": "white",
           "landcolor": "#E5ECF6",
           "showlakes": true,
           "showland": true,
           "subunitcolor": "white"
          },
          "hoverlabel": {
           "align": "left"
          },
          "hovermode": "closest",
          "mapbox": {
           "style": "light"
          },
          "paper_bgcolor": "white",
          "plot_bgcolor": "#E5ECF6",
          "polar": {
           "angularaxis": {
            "gridcolor": "white",
            "linecolor": "white",
            "ticks": ""
           },
           "bgcolor": "#E5ECF6",
           "radialaxis": {
            "gridcolor": "white",
            "linecolor": "white",
            "ticks": ""
           }
          },
          "scene": {
           "xaxis": {
            "backgroundcolor": "#E5ECF6",
            "gridcolor": "white",
            "gridwidth": 2,
            "linecolor": "white",
            "showbackground": true,
            "ticks": "",
            "zerolinecolor": "white"
           },
           "yaxis": {
            "backgroundcolor": "#E5ECF6",
            "gridcolor": "white",
            "gridwidth": 2,
            "linecolor": "white",
            "showbackground": true,
            "ticks": "",
            "zerolinecolor": "white"
           },
           "zaxis": {
            "backgroundcolor": "#E5ECF6",
            "gridcolor": "white",
            "gridwidth": 2,
            "linecolor": "white",
            "showbackground": true,
            "ticks": "",
            "zerolinecolor": "white"
           }
          },
          "shapedefaults": {
           "line": {
            "color": "#2a3f5f"
           }
          },
          "ternary": {
           "aaxis": {
            "gridcolor": "white",
            "linecolor": "white",
            "ticks": ""
           },
           "baxis": {
            "gridcolor": "white",
            "linecolor": "white",
            "ticks": ""
           },
           "bgcolor": "#E5ECF6",
           "caxis": {
            "gridcolor": "white",
            "linecolor": "white",
            "ticks": ""
           }
          },
          "title": {
           "x": 0.05
          },
          "xaxis": {
           "automargin": true,
           "gridcolor": "white",
           "linecolor": "white",
           "ticks": "",
           "title": {
            "standoff": 15
           },
           "zerolinecolor": "white",
           "zerolinewidth": 2
          },
          "yaxis": {
           "automargin": true,
           "gridcolor": "white",
           "linecolor": "white",
           "ticks": "",
           "title": {
            "standoff": 15
           },
           "zerolinecolor": "white",
           "zerolinewidth": 2
          }
         }
        },
        "title": {
         "text": "Positive Sales by Month"
        },
        "xaxis": {
         "anchor": "y",
         "domain": [
          0,
          1
         ],
         "title": {
          "text": "Year-Month"
         }
        },
        "yaxis": {
         "anchor": "x",
         "domain": [
          0,
          1
         ],
         "title": {
          "text": "Total Positive Sales (EUR)"
         }
        }
       }
      }
     },
     "metadata": {},
     "output_type": "display_data"
    }
   ],
   "source": [
    "positive_sales['Year_Month'] = positive_sales['DATE'].dt.to_period('M')\n",
    "grouped_positive_sales_month = positive_sales.groupby('Year_Month')['Sales_EUR'].sum().reset_index()\n",
    "\n",
    "grouped_positive_sales_month['Year_Month'] = grouped_positive_sales_month['Year_Month'].astype(str)\n",
    "\n",
    "plot_sales(grouped_positive_sales_month, 'Year_Month', 'Sales_EUR', 'Positive Sales by Month', 'Year-Month', 'Total Positive Sales (EUR)')"
   ]
  },
  {
   "cell_type": "code",
   "execution_count": 637,
   "metadata": {},
   "outputs": [
    {
     "data": {
      "text/html": [
       "<div>\n",
       "<style scoped>\n",
       "    .dataframe tbody tr th:only-of-type {\n",
       "        vertical-align: middle;\n",
       "    }\n",
       "\n",
       "    .dataframe tbody tr th {\n",
       "        vertical-align: top;\n",
       "    }\n",
       "\n",
       "    .dataframe thead th {\n",
       "        text-align: right;\n",
       "    }\n",
       "</style>\n",
       "<table border=\"1\" class=\"dataframe\">\n",
       "  <thead>\n",
       "    <tr style=\"text-align: right;\">\n",
       "      <th>Year_Month</th>\n",
       "      <th>2018-11</th>\n",
       "      <th>2018-12</th>\n",
       "      <th>2019-01</th>\n",
       "      <th>2019-02</th>\n",
       "      <th>2019-03</th>\n",
       "      <th>2019-04</th>\n",
       "      <th>2019-05</th>\n",
       "      <th>2019-06</th>\n",
       "      <th>2019-07</th>\n",
       "      <th>2019-08</th>\n",
       "      <th>2019-09</th>\n",
       "      <th>2019-10</th>\n",
       "      <th>2019-11</th>\n",
       "      <th>2019-12</th>\n",
       "      <th>2020-01</th>\n",
       "      <th>2020-02</th>\n",
       "      <th>2020-03</th>\n",
       "      <th>2020-04</th>\n",
       "      <th>2020-05</th>\n",
       "      <th>2020-06</th>\n",
       "      <th>2020-07</th>\n",
       "      <th>2020-08</th>\n",
       "      <th>2020-09</th>\n",
       "      <th>2020-10</th>\n",
       "      <th>2020-11</th>\n",
       "      <th>2020-12</th>\n",
       "      <th>2021-01</th>\n",
       "      <th>2021-02</th>\n",
       "      <th>2021-03</th>\n",
       "      <th>2021-04</th>\n",
       "      <th>2021-05</th>\n",
       "      <th>2021-06</th>\n",
       "      <th>2021-07</th>\n",
       "      <th>2021-08</th>\n",
       "      <th>2021-09</th>\n",
       "      <th>2021-10</th>\n",
       "      <th>2021-11</th>\n",
       "      <th>2021-12</th>\n",
       "      <th>2022-01</th>\n",
       "      <th>2022-02</th>\n",
       "      <th>2022-03</th>\n",
       "      <th>2022-04</th>\n",
       "    </tr>\n",
       "  </thead>\n",
       "  <tbody>\n",
       "    <tr>\n",
       "      <th>Sales_EUR_pct_change_positive</th>\n",
       "      <td>-37.8000</td>\n",
       "      <td>100.1300</td>\n",
       "      <td>-16.3500</td>\n",
       "      <td>5.6400</td>\n",
       "      <td>13.9000</td>\n",
       "      <td>-1.7900</td>\n",
       "      <td>7.8800</td>\n",
       "      <td>1.1300</td>\n",
       "      <td>-2.0100</td>\n",
       "      <td>-4.9700</td>\n",
       "      <td>28.4100</td>\n",
       "      <td>-19.4900</td>\n",
       "      <td>-2.6200</td>\n",
       "      <td>6.3700</td>\n",
       "      <td>-16.0300</td>\n",
       "      <td>6.2100</td>\n",
       "      <td>11.4400</td>\n",
       "      <td>-7.9500</td>\n",
       "      <td>-9.1800</td>\n",
       "      <td>17.2400</td>\n",
       "      <td>-10.2600</td>\n",
       "      <td>10.8700</td>\n",
       "      <td>17.7900</td>\n",
       "      <td>-23.0600</td>\n",
       "      <td>13.6900</td>\n",
       "      <td>-14.0200</td>\n",
       "      <td>-41.8500</td>\n",
       "      <td>120.1800</td>\n",
       "      <td>-13.3100</td>\n",
       "      <td>4.9200</td>\n",
       "      <td>-7.1700</td>\n",
       "      <td>5.9400</td>\n",
       "      <td>-2.1100</td>\n",
       "      <td>15.0700</td>\n",
       "      <td>3.5400</td>\n",
       "      <td>-5.7600</td>\n",
       "      <td>-6.4600</td>\n",
       "      <td>-8.1100</td>\n",
       "      <td>1.8900</td>\n",
       "      <td>0.5300</td>\n",
       "      <td>18.5100</td>\n",
       "      <td>-12.1900</td>\n",
       "    </tr>\n",
       "    <tr>\n",
       "      <th>Sales_EUR_pct_change_negative</th>\n",
       "      <td>NaN</td>\n",
       "      <td>2510.1400</td>\n",
       "      <td>-44.0600</td>\n",
       "      <td>-46.8900</td>\n",
       "      <td>578.0800</td>\n",
       "      <td>-50.4700</td>\n",
       "      <td>-62.4300</td>\n",
       "      <td>51.0100</td>\n",
       "      <td>-5.3200</td>\n",
       "      <td>43.1900</td>\n",
       "      <td>52.9900</td>\n",
       "      <td>52.7200</td>\n",
       "      <td>-83.3100</td>\n",
       "      <td>554.8600</td>\n",
       "      <td>60.3400</td>\n",
       "      <td>-85.3100</td>\n",
       "      <td>119.7000</td>\n",
       "      <td>-62.5000</td>\n",
       "      <td>-88.8800</td>\n",
       "      <td>669.0000</td>\n",
       "      <td>-51.3600</td>\n",
       "      <td>-50.4600</td>\n",
       "      <td>-98.6700</td>\n",
       "      <td>13242.7000</td>\n",
       "      <td>1281.3800</td>\n",
       "      <td>-93.1300</td>\n",
       "      <td>-91.7300</td>\n",
       "      <td>266.8500</td>\n",
       "      <td>359.6200</td>\n",
       "      <td>719.9000</td>\n",
       "      <td>-84.6100</td>\n",
       "      <td>-83.3700</td>\n",
       "      <td>154.8500</td>\n",
       "      <td>73.2700</td>\n",
       "      <td>736.5600</td>\n",
       "      <td>-11.9500</td>\n",
       "      <td>-63.8800</td>\n",
       "      <td>18.1800</td>\n",
       "      <td>80.1800</td>\n",
       "      <td>-56.8700</td>\n",
       "      <td>-93.1300</td>\n",
       "      <td>2289.1600</td>\n",
       "    </tr>\n",
       "  </tbody>\n",
       "</table>\n",
       "</div>"
      ],
      "text/plain": [
       "Year_Month                     2018-11   2018-12  2019-01  2019-02  2019-03  \\\n",
       "Sales_EUR_pct_change_positive -37.8000  100.1300 -16.3500   5.6400  13.9000   \n",
       "Sales_EUR_pct_change_negative      NaN 2510.1400 -44.0600 -46.8900 578.0800   \n",
       "\n",
       "Year_Month                     2019-04  2019-05  2019-06  2019-07  2019-08  \\\n",
       "Sales_EUR_pct_change_positive  -1.7900   7.8800   1.1300  -2.0100  -4.9700   \n",
       "Sales_EUR_pct_change_negative -50.4700 -62.4300  51.0100  -5.3200  43.1900   \n",
       "\n",
       "Year_Month                     2019-09  2019-10  2019-11  2019-12  2020-01  \\\n",
       "Sales_EUR_pct_change_positive  28.4100 -19.4900  -2.6200   6.3700 -16.0300   \n",
       "Sales_EUR_pct_change_negative  52.9900  52.7200 -83.3100 554.8600  60.3400   \n",
       "\n",
       "Year_Month                     2020-02  2020-03  2020-04  2020-05  2020-06  \\\n",
       "Sales_EUR_pct_change_positive   6.2100  11.4400  -7.9500  -9.1800  17.2400   \n",
       "Sales_EUR_pct_change_negative -85.3100 119.7000 -62.5000 -88.8800 669.0000   \n",
       "\n",
       "Year_Month                     2020-07  2020-08  2020-09    2020-10   2020-11  \\\n",
       "Sales_EUR_pct_change_positive -10.2600  10.8700  17.7900   -23.0600   13.6900   \n",
       "Sales_EUR_pct_change_negative -51.3600 -50.4600 -98.6700 13242.7000 1281.3800   \n",
       "\n",
       "Year_Month                     2020-12  2021-01  2021-02  2021-03  2021-04  \\\n",
       "Sales_EUR_pct_change_positive -14.0200 -41.8500 120.1800 -13.3100   4.9200   \n",
       "Sales_EUR_pct_change_negative -93.1300 -91.7300 266.8500 359.6200 719.9000   \n",
       "\n",
       "Year_Month                     2021-05  2021-06  2021-07  2021-08  2021-09  \\\n",
       "Sales_EUR_pct_change_positive  -7.1700   5.9400  -2.1100  15.0700   3.5400   \n",
       "Sales_EUR_pct_change_negative -84.6100 -83.3700 154.8500  73.2700 736.5600   \n",
       "\n",
       "Year_Month                     2021-10  2021-11  2021-12  2022-01  2022-02  \\\n",
       "Sales_EUR_pct_change_positive  -5.7600  -6.4600  -8.1100   1.8900   0.5300   \n",
       "Sales_EUR_pct_change_negative -11.9500 -63.8800  18.1800  80.1800 -56.8700   \n",
       "\n",
       "Year_Month                     2022-03   2022-04  \n",
       "Sales_EUR_pct_change_positive  18.5100  -12.1900  \n",
       "Sales_EUR_pct_change_negative -93.1300 2289.1600  "
      ]
     },
     "execution_count": 637,
     "metadata": {},
     "output_type": "execute_result"
    }
   ],
   "source": [
    "# comparing the percentage change in sales for positive and negative sales\n",
    "grouped_positive_sales_month['Sales_EUR_pct_change'] = round(grouped_positive_sales_month['Sales_EUR'].pct_change() * 100,2)\n",
    "grouped_negative_sales_month['Sales_EUR_pct_change'] = round(grouped_negative_sales_month['Sales_EUR'].pct_change() * 100,2)\n",
    "\n",
    "merged_sales = pd.merge(grouped_positive_sales_month[['Year_Month', 'Sales_EUR_pct_change']], \n",
    "                        grouped_negative_sales_month[['Year_Month', 'Sales_EUR_pct_change']], \n",
    "                        on='Year_Month', \n",
    "                        suffixes=('_positive', '_negative'))\n",
    "\n",
    "merged_sales['Year_Month'] = merged_sales['Year_Month'].astype(str)\n",
    "\n",
    "table = merged_sales.set_index('Year_Month').T\n",
    "\n",
    "table\n"
   ]
  },
  {
   "cell_type": "markdown",
   "metadata": {},
   "source": [
    "<span style=\"background-color:#235987; padding:5px; border-radius:5px;\">**Remarks**</span> <a id='sales-data'></a>\n",
    "\n",
    "**Nevative vs Positive Sales Values**\n",
    "\n",
    "- (*Outlier*) **November 2018** was a month of few activity, with the lowest overall positive sales and negative sales close to non.\n",
    "\n",
    "- **September 2019** is a peak in positive sales, that is followed by a peak in negative sales, in **October 2019** - which might come has a consequence of the high sales in the previous month. \n",
    "\n",
    "- **January 2020** is not only the month with highest negative values, but it is also a month categorized by the bellow average positive sales, which is likely evidence of a outside event's affect in the sales behavior.\n",
    "\n",
    "- (*Outlier*) **January 2021** is a month marked by a abrupt change in sales behavior, it is also a month of few activity, with one of the lowest sales value, by far.\n",
    "\n",
    "- **September 2021** is a month that peaks in both negative and positive sales values - this kind of situation can be taken as a proportional increase in positive and negative (absolute) sales."
   ]
  },
  {
   "cell_type": "code",
   "execution_count": 638,
   "metadata": {},
   "outputs": [
    {
     "name": "stderr",
     "output_type": "stream",
     "text": [
      "C:\\Users\\marga\\AppData\\Local\\Temp\\ipykernel_15752\\3740950382.py:1: SettingWithCopyWarning:\n",
      "\n",
      "\n",
      "A value is trying to be set on a copy of a slice from a DataFrame.\n",
      "Try using .loc[row_indexer,col_indexer] = value instead\n",
      "\n",
      "See the caveats in the documentation: https://pandas.pydata.org/pandas-docs/stable/user_guide/indexing.html#returning-a-view-versus-a-copy\n",
      "\n"
     ]
    },
    {
     "data": {
      "application/vnd.plotly.v1+json": {
       "config": {
        "plotlyServerURL": "https://plot.ly"
       },
       "data": [
        {
         "hovertemplate": "Day=%{x}<br>Total Positive Sales (EUR)=%{y}<extra></extra>",
         "legendgroup": "",
         "line": {
          "color": "#636efa",
          "dash": "solid"
         },
         "marker": {
          "symbol": "circle"
         },
         "mode": "lines",
         "name": "",
         "orientation": "v",
         "showlegend": false,
         "type": "scatter",
         "x": [
          "1",
          "2",
          "3",
          "4",
          "5",
          "6",
          "7",
          "8",
          "9",
          "10",
          "11",
          "12",
          "13",
          "14",
          "15",
          "16",
          "17",
          "18",
          "19",
          "20",
          "21",
          "22",
          "23",
          "24",
          "25",
          "26",
          "27",
          "28",
          "29",
          "30",
          "31"
         ],
         "xaxis": "x",
         "y": [
          914665333.58,
          258330321.98,
          134510378.54,
          54225617.29,
          678294.96,
          497465.63,
          276043,
          13575508.149999999,
          15875220.600000001,
          21428004.75,
          33067381.43,
          35668428.46,
          62423298.27,
          33320799.63,
          24848567.32,
          24202489.84,
          33978962.31,
          61530842.34,
          31547476.46,
          29446941.26,
          33630310.04,
          38149072.730000004,
          121799168.77,
          84351736.18,
          7151498.720000001,
          91779790.01,
          95093573.91,
          135102221.96,
          112857153.14,
          79467761.94,
          97972749.9
         ],
         "yaxis": "y"
        }
       ],
       "layout": {
        "legend": {
         "tracegroupgap": 0
        },
        "template": {
         "data": {
          "bar": [
           {
            "error_x": {
             "color": "#2a3f5f"
            },
            "error_y": {
             "color": "#2a3f5f"
            },
            "marker": {
             "line": {
              "color": "#E5ECF6",
              "width": 0.5
             },
             "pattern": {
              "fillmode": "overlay",
              "size": 10,
              "solidity": 0.2
             }
            },
            "type": "bar"
           }
          ],
          "barpolar": [
           {
            "marker": {
             "line": {
              "color": "#E5ECF6",
              "width": 0.5
             },
             "pattern": {
              "fillmode": "overlay",
              "size": 10,
              "solidity": 0.2
             }
            },
            "type": "barpolar"
           }
          ],
          "carpet": [
           {
            "aaxis": {
             "endlinecolor": "#2a3f5f",
             "gridcolor": "white",
             "linecolor": "white",
             "minorgridcolor": "white",
             "startlinecolor": "#2a3f5f"
            },
            "baxis": {
             "endlinecolor": "#2a3f5f",
             "gridcolor": "white",
             "linecolor": "white",
             "minorgridcolor": "white",
             "startlinecolor": "#2a3f5f"
            },
            "type": "carpet"
           }
          ],
          "choropleth": [
           {
            "colorbar": {
             "outlinewidth": 0,
             "ticks": ""
            },
            "type": "choropleth"
           }
          ],
          "contour": [
           {
            "colorbar": {
             "outlinewidth": 0,
             "ticks": ""
            },
            "colorscale": [
             [
              0,
              "#0d0887"
             ],
             [
              0.1111111111111111,
              "#46039f"
             ],
             [
              0.2222222222222222,
              "#7201a8"
             ],
             [
              0.3333333333333333,
              "#9c179e"
             ],
             [
              0.4444444444444444,
              "#bd3786"
             ],
             [
              0.5555555555555556,
              "#d8576b"
             ],
             [
              0.6666666666666666,
              "#ed7953"
             ],
             [
              0.7777777777777778,
              "#fb9f3a"
             ],
             [
              0.8888888888888888,
              "#fdca26"
             ],
             [
              1,
              "#f0f921"
             ]
            ],
            "type": "contour"
           }
          ],
          "contourcarpet": [
           {
            "colorbar": {
             "outlinewidth": 0,
             "ticks": ""
            },
            "type": "contourcarpet"
           }
          ],
          "heatmap": [
           {
            "colorbar": {
             "outlinewidth": 0,
             "ticks": ""
            },
            "colorscale": [
             [
              0,
              "#0d0887"
             ],
             [
              0.1111111111111111,
              "#46039f"
             ],
             [
              0.2222222222222222,
              "#7201a8"
             ],
             [
              0.3333333333333333,
              "#9c179e"
             ],
             [
              0.4444444444444444,
              "#bd3786"
             ],
             [
              0.5555555555555556,
              "#d8576b"
             ],
             [
              0.6666666666666666,
              "#ed7953"
             ],
             [
              0.7777777777777778,
              "#fb9f3a"
             ],
             [
              0.8888888888888888,
              "#fdca26"
             ],
             [
              1,
              "#f0f921"
             ]
            ],
            "type": "heatmap"
           }
          ],
          "heatmapgl": [
           {
            "colorbar": {
             "outlinewidth": 0,
             "ticks": ""
            },
            "colorscale": [
             [
              0,
              "#0d0887"
             ],
             [
              0.1111111111111111,
              "#46039f"
             ],
             [
              0.2222222222222222,
              "#7201a8"
             ],
             [
              0.3333333333333333,
              "#9c179e"
             ],
             [
              0.4444444444444444,
              "#bd3786"
             ],
             [
              0.5555555555555556,
              "#d8576b"
             ],
             [
              0.6666666666666666,
              "#ed7953"
             ],
             [
              0.7777777777777778,
              "#fb9f3a"
             ],
             [
              0.8888888888888888,
              "#fdca26"
             ],
             [
              1,
              "#f0f921"
             ]
            ],
            "type": "heatmapgl"
           }
          ],
          "histogram": [
           {
            "marker": {
             "pattern": {
              "fillmode": "overlay",
              "size": 10,
              "solidity": 0.2
             }
            },
            "type": "histogram"
           }
          ],
          "histogram2d": [
           {
            "colorbar": {
             "outlinewidth": 0,
             "ticks": ""
            },
            "colorscale": [
             [
              0,
              "#0d0887"
             ],
             [
              0.1111111111111111,
              "#46039f"
             ],
             [
              0.2222222222222222,
              "#7201a8"
             ],
             [
              0.3333333333333333,
              "#9c179e"
             ],
             [
              0.4444444444444444,
              "#bd3786"
             ],
             [
              0.5555555555555556,
              "#d8576b"
             ],
             [
              0.6666666666666666,
              "#ed7953"
             ],
             [
              0.7777777777777778,
              "#fb9f3a"
             ],
             [
              0.8888888888888888,
              "#fdca26"
             ],
             [
              1,
              "#f0f921"
             ]
            ],
            "type": "histogram2d"
           }
          ],
          "histogram2dcontour": [
           {
            "colorbar": {
             "outlinewidth": 0,
             "ticks": ""
            },
            "colorscale": [
             [
              0,
              "#0d0887"
             ],
             [
              0.1111111111111111,
              "#46039f"
             ],
             [
              0.2222222222222222,
              "#7201a8"
             ],
             [
              0.3333333333333333,
              "#9c179e"
             ],
             [
              0.4444444444444444,
              "#bd3786"
             ],
             [
              0.5555555555555556,
              "#d8576b"
             ],
             [
              0.6666666666666666,
              "#ed7953"
             ],
             [
              0.7777777777777778,
              "#fb9f3a"
             ],
             [
              0.8888888888888888,
              "#fdca26"
             ],
             [
              1,
              "#f0f921"
             ]
            ],
            "type": "histogram2dcontour"
           }
          ],
          "mesh3d": [
           {
            "colorbar": {
             "outlinewidth": 0,
             "ticks": ""
            },
            "type": "mesh3d"
           }
          ],
          "parcoords": [
           {
            "line": {
             "colorbar": {
              "outlinewidth": 0,
              "ticks": ""
             }
            },
            "type": "parcoords"
           }
          ],
          "pie": [
           {
            "automargin": true,
            "type": "pie"
           }
          ],
          "scatter": [
           {
            "fillpattern": {
             "fillmode": "overlay",
             "size": 10,
             "solidity": 0.2
            },
            "type": "scatter"
           }
          ],
          "scatter3d": [
           {
            "line": {
             "colorbar": {
              "outlinewidth": 0,
              "ticks": ""
             }
            },
            "marker": {
             "colorbar": {
              "outlinewidth": 0,
              "ticks": ""
             }
            },
            "type": "scatter3d"
           }
          ],
          "scattercarpet": [
           {
            "marker": {
             "colorbar": {
              "outlinewidth": 0,
              "ticks": ""
             }
            },
            "type": "scattercarpet"
           }
          ],
          "scattergeo": [
           {
            "marker": {
             "colorbar": {
              "outlinewidth": 0,
              "ticks": ""
             }
            },
            "type": "scattergeo"
           }
          ],
          "scattergl": [
           {
            "marker": {
             "colorbar": {
              "outlinewidth": 0,
              "ticks": ""
             }
            },
            "type": "scattergl"
           }
          ],
          "scattermapbox": [
           {
            "marker": {
             "colorbar": {
              "outlinewidth": 0,
              "ticks": ""
             }
            },
            "type": "scattermapbox"
           }
          ],
          "scatterpolar": [
           {
            "marker": {
             "colorbar": {
              "outlinewidth": 0,
              "ticks": ""
             }
            },
            "type": "scatterpolar"
           }
          ],
          "scatterpolargl": [
           {
            "marker": {
             "colorbar": {
              "outlinewidth": 0,
              "ticks": ""
             }
            },
            "type": "scatterpolargl"
           }
          ],
          "scatterternary": [
           {
            "marker": {
             "colorbar": {
              "outlinewidth": 0,
              "ticks": ""
             }
            },
            "type": "scatterternary"
           }
          ],
          "surface": [
           {
            "colorbar": {
             "outlinewidth": 0,
             "ticks": ""
            },
            "colorscale": [
             [
              0,
              "#0d0887"
             ],
             [
              0.1111111111111111,
              "#46039f"
             ],
             [
              0.2222222222222222,
              "#7201a8"
             ],
             [
              0.3333333333333333,
              "#9c179e"
             ],
             [
              0.4444444444444444,
              "#bd3786"
             ],
             [
              0.5555555555555556,
              "#d8576b"
             ],
             [
              0.6666666666666666,
              "#ed7953"
             ],
             [
              0.7777777777777778,
              "#fb9f3a"
             ],
             [
              0.8888888888888888,
              "#fdca26"
             ],
             [
              1,
              "#f0f921"
             ]
            ],
            "type": "surface"
           }
          ],
          "table": [
           {
            "cells": {
             "fill": {
              "color": "#EBF0F8"
             },
             "line": {
              "color": "white"
             }
            },
            "header": {
             "fill": {
              "color": "#C8D4E3"
             },
             "line": {
              "color": "white"
             }
            },
            "type": "table"
           }
          ]
         },
         "layout": {
          "annotationdefaults": {
           "arrowcolor": "#2a3f5f",
           "arrowhead": 0,
           "arrowwidth": 1
          },
          "autotypenumbers": "strict",
          "coloraxis": {
           "colorbar": {
            "outlinewidth": 0,
            "ticks": ""
           }
          },
          "colorscale": {
           "diverging": [
            [
             0,
             "#8e0152"
            ],
            [
             0.1,
             "#c51b7d"
            ],
            [
             0.2,
             "#de77ae"
            ],
            [
             0.3,
             "#f1b6da"
            ],
            [
             0.4,
             "#fde0ef"
            ],
            [
             0.5,
             "#f7f7f7"
            ],
            [
             0.6,
             "#e6f5d0"
            ],
            [
             0.7,
             "#b8e186"
            ],
            [
             0.8,
             "#7fbc41"
            ],
            [
             0.9,
             "#4d9221"
            ],
            [
             1,
             "#276419"
            ]
           ],
           "sequential": [
            [
             0,
             "#0d0887"
            ],
            [
             0.1111111111111111,
             "#46039f"
            ],
            [
             0.2222222222222222,
             "#7201a8"
            ],
            [
             0.3333333333333333,
             "#9c179e"
            ],
            [
             0.4444444444444444,
             "#bd3786"
            ],
            [
             0.5555555555555556,
             "#d8576b"
            ],
            [
             0.6666666666666666,
             "#ed7953"
            ],
            [
             0.7777777777777778,
             "#fb9f3a"
            ],
            [
             0.8888888888888888,
             "#fdca26"
            ],
            [
             1,
             "#f0f921"
            ]
           ],
           "sequentialminus": [
            [
             0,
             "#0d0887"
            ],
            [
             0.1111111111111111,
             "#46039f"
            ],
            [
             0.2222222222222222,
             "#7201a8"
            ],
            [
             0.3333333333333333,
             "#9c179e"
            ],
            [
             0.4444444444444444,
             "#bd3786"
            ],
            [
             0.5555555555555556,
             "#d8576b"
            ],
            [
             0.6666666666666666,
             "#ed7953"
            ],
            [
             0.7777777777777778,
             "#fb9f3a"
            ],
            [
             0.8888888888888888,
             "#fdca26"
            ],
            [
             1,
             "#f0f921"
            ]
           ]
          },
          "colorway": [
           "#636efa",
           "#EF553B",
           "#00cc96",
           "#ab63fa",
           "#FFA15A",
           "#19d3f3",
           "#FF6692",
           "#B6E880",
           "#FF97FF",
           "#FECB52"
          ],
          "font": {
           "color": "#2a3f5f"
          },
          "geo": {
           "bgcolor": "white",
           "lakecolor": "white",
           "landcolor": "#E5ECF6",
           "showlakes": true,
           "showland": true,
           "subunitcolor": "white"
          },
          "hoverlabel": {
           "align": "left"
          },
          "hovermode": "closest",
          "mapbox": {
           "style": "light"
          },
          "paper_bgcolor": "white",
          "plot_bgcolor": "#E5ECF6",
          "polar": {
           "angularaxis": {
            "gridcolor": "white",
            "linecolor": "white",
            "ticks": ""
           },
           "bgcolor": "#E5ECF6",
           "radialaxis": {
            "gridcolor": "white",
            "linecolor": "white",
            "ticks": ""
           }
          },
          "scene": {
           "xaxis": {
            "backgroundcolor": "#E5ECF6",
            "gridcolor": "white",
            "gridwidth": 2,
            "linecolor": "white",
            "showbackground": true,
            "ticks": "",
            "zerolinecolor": "white"
           },
           "yaxis": {
            "backgroundcolor": "#E5ECF6",
            "gridcolor": "white",
            "gridwidth": 2,
            "linecolor": "white",
            "showbackground": true,
            "ticks": "",
            "zerolinecolor": "white"
           },
           "zaxis": {
            "backgroundcolor": "#E5ECF6",
            "gridcolor": "white",
            "gridwidth": 2,
            "linecolor": "white",
            "showbackground": true,
            "ticks": "",
            "zerolinecolor": "white"
           }
          },
          "shapedefaults": {
           "line": {
            "color": "#2a3f5f"
           }
          },
          "ternary": {
           "aaxis": {
            "gridcolor": "white",
            "linecolor": "white",
            "ticks": ""
           },
           "baxis": {
            "gridcolor": "white",
            "linecolor": "white",
            "ticks": ""
           },
           "bgcolor": "#E5ECF6",
           "caxis": {
            "gridcolor": "white",
            "linecolor": "white",
            "ticks": ""
           }
          },
          "title": {
           "x": 0.05
          },
          "xaxis": {
           "automargin": true,
           "gridcolor": "white",
           "linecolor": "white",
           "ticks": "",
           "title": {
            "standoff": 15
           },
           "zerolinecolor": "white",
           "zerolinewidth": 2
          },
          "yaxis": {
           "automargin": true,
           "gridcolor": "white",
           "linecolor": "white",
           "ticks": "",
           "title": {
            "standoff": 15
           },
           "zerolinecolor": "white",
           "zerolinewidth": 2
          }
         }
        },
        "title": {
         "text": "Positive Sales by Day"
        },
        "xaxis": {
         "anchor": "y",
         "domain": [
          0,
          1
         ],
         "title": {
          "text": "Day"
         }
        },
        "yaxis": {
         "anchor": "x",
         "domain": [
          0,
          1
         ],
         "title": {
          "text": "Total Positive Sales (EUR)"
         }
        }
       }
      }
     },
     "metadata": {},
     "output_type": "display_data"
    }
   ],
   "source": [
    "positive_sales['Day'] = positive_sales['DATE'].dt.day\n",
    "grouped_positive_sales_day = positive_sales.groupby('Day')['Sales_EUR'].sum().reset_index()\n",
    "\n",
    "grouped_positive_sales_day['Day'] = grouped_positive_sales_day['Day'].astype(str)\n",
    "\n",
    "plot_sales(grouped_positive_sales_day, 'Day', 'Sales_EUR', 'Positive Sales by Day', 'Day', 'Total Positive Sales (EUR)')"
   ]
  },
  {
   "cell_type": "markdown",
   "metadata": {},
   "source": [
    "<span style=\"background-color:#235987; padding:5px; border-radius:5px;\">**Remarks**</span> <a id='sales-data'></a>\n",
    "\n",
    "Similar to Negative sales values, the positive sales peaks at the beginning of the month. This aligns with the expected spending behavior coming from enterprises, due to budgeting/cash flow management, payroll and other expenses settlement at the end of the month, between others. "
   ]
  },
  {
   "cell_type": "code",
   "execution_count": 639,
   "metadata": {},
   "outputs": [
    {
     "data": {
      "application/vnd.plotly.v1+json": {
       "config": {
        "plotlyServerURL": "https://plot.ly"
       },
       "data": [
        {
         "alignmentgroup": "True",
         "hovertemplate": "Product Group=%{x}<br>Total Positive Sales (EUR)=%{text}<extra></extra>",
         "legendgroup": "",
         "marker": {
          "color": "#636efa",
          "pattern": {
           "shape": ""
          }
         },
         "name": "",
         "offsetgroup": "",
         "orientation": "v",
         "showlegend": false,
         "text": [
          1546761105.47,
          534646720.7,
          15742114.52,
          431971575.58,
          21063167.2,
          34947589.58,
          318821.22000000003,
          66420048.03,
          8294974.08,
          1009350.01,
          506965.61,
          18679614.93,
          78366.49,
          1011999.6799999999
         ],
         "textposition": "outside",
         "texttemplate": "%{text:.2s}",
         "type": "bar",
         "x": [
          1,
          3,
          4,
          5,
          6,
          8,
          9,
          11,
          12,
          13,
          14,
          16,
          20,
          36
         ],
         "xaxis": "x",
         "y": [
          1546761105.47,
          534646720.7,
          15742114.52,
          431971575.58,
          21063167.2,
          34947589.58,
          318821.22000000003,
          66420048.03,
          8294974.08,
          1009350.01,
          506965.61,
          18679614.93,
          78366.49,
          1011999.6799999999
         ],
         "yaxis": "y"
        }
       ],
       "layout": {
        "barmode": "relative",
        "legend": {
         "tracegroupgap": 0
        },
        "template": {
         "data": {
          "bar": [
           {
            "error_x": {
             "color": "#2a3f5f"
            },
            "error_y": {
             "color": "#2a3f5f"
            },
            "marker": {
             "line": {
              "color": "#E5ECF6",
              "width": 0.5
             },
             "pattern": {
              "fillmode": "overlay",
              "size": 10,
              "solidity": 0.2
             }
            },
            "type": "bar"
           }
          ],
          "barpolar": [
           {
            "marker": {
             "line": {
              "color": "#E5ECF6",
              "width": 0.5
             },
             "pattern": {
              "fillmode": "overlay",
              "size": 10,
              "solidity": 0.2
             }
            },
            "type": "barpolar"
           }
          ],
          "carpet": [
           {
            "aaxis": {
             "endlinecolor": "#2a3f5f",
             "gridcolor": "white",
             "linecolor": "white",
             "minorgridcolor": "white",
             "startlinecolor": "#2a3f5f"
            },
            "baxis": {
             "endlinecolor": "#2a3f5f",
             "gridcolor": "white",
             "linecolor": "white",
             "minorgridcolor": "white",
             "startlinecolor": "#2a3f5f"
            },
            "type": "carpet"
           }
          ],
          "choropleth": [
           {
            "colorbar": {
             "outlinewidth": 0,
             "ticks": ""
            },
            "type": "choropleth"
           }
          ],
          "contour": [
           {
            "colorbar": {
             "outlinewidth": 0,
             "ticks": ""
            },
            "colorscale": [
             [
              0,
              "#0d0887"
             ],
             [
              0.1111111111111111,
              "#46039f"
             ],
             [
              0.2222222222222222,
              "#7201a8"
             ],
             [
              0.3333333333333333,
              "#9c179e"
             ],
             [
              0.4444444444444444,
              "#bd3786"
             ],
             [
              0.5555555555555556,
              "#d8576b"
             ],
             [
              0.6666666666666666,
              "#ed7953"
             ],
             [
              0.7777777777777778,
              "#fb9f3a"
             ],
             [
              0.8888888888888888,
              "#fdca26"
             ],
             [
              1,
              "#f0f921"
             ]
            ],
            "type": "contour"
           }
          ],
          "contourcarpet": [
           {
            "colorbar": {
             "outlinewidth": 0,
             "ticks": ""
            },
            "type": "contourcarpet"
           }
          ],
          "heatmap": [
           {
            "colorbar": {
             "outlinewidth": 0,
             "ticks": ""
            },
            "colorscale": [
             [
              0,
              "#0d0887"
             ],
             [
              0.1111111111111111,
              "#46039f"
             ],
             [
              0.2222222222222222,
              "#7201a8"
             ],
             [
              0.3333333333333333,
              "#9c179e"
             ],
             [
              0.4444444444444444,
              "#bd3786"
             ],
             [
              0.5555555555555556,
              "#d8576b"
             ],
             [
              0.6666666666666666,
              "#ed7953"
             ],
             [
              0.7777777777777778,
              "#fb9f3a"
             ],
             [
              0.8888888888888888,
              "#fdca26"
             ],
             [
              1,
              "#f0f921"
             ]
            ],
            "type": "heatmap"
           }
          ],
          "heatmapgl": [
           {
            "colorbar": {
             "outlinewidth": 0,
             "ticks": ""
            },
            "colorscale": [
             [
              0,
              "#0d0887"
             ],
             [
              0.1111111111111111,
              "#46039f"
             ],
             [
              0.2222222222222222,
              "#7201a8"
             ],
             [
              0.3333333333333333,
              "#9c179e"
             ],
             [
              0.4444444444444444,
              "#bd3786"
             ],
             [
              0.5555555555555556,
              "#d8576b"
             ],
             [
              0.6666666666666666,
              "#ed7953"
             ],
             [
              0.7777777777777778,
              "#fb9f3a"
             ],
             [
              0.8888888888888888,
              "#fdca26"
             ],
             [
              1,
              "#f0f921"
             ]
            ],
            "type": "heatmapgl"
           }
          ],
          "histogram": [
           {
            "marker": {
             "pattern": {
              "fillmode": "overlay",
              "size": 10,
              "solidity": 0.2
             }
            },
            "type": "histogram"
           }
          ],
          "histogram2d": [
           {
            "colorbar": {
             "outlinewidth": 0,
             "ticks": ""
            },
            "colorscale": [
             [
              0,
              "#0d0887"
             ],
             [
              0.1111111111111111,
              "#46039f"
             ],
             [
              0.2222222222222222,
              "#7201a8"
             ],
             [
              0.3333333333333333,
              "#9c179e"
             ],
             [
              0.4444444444444444,
              "#bd3786"
             ],
             [
              0.5555555555555556,
              "#d8576b"
             ],
             [
              0.6666666666666666,
              "#ed7953"
             ],
             [
              0.7777777777777778,
              "#fb9f3a"
             ],
             [
              0.8888888888888888,
              "#fdca26"
             ],
             [
              1,
              "#f0f921"
             ]
            ],
            "type": "histogram2d"
           }
          ],
          "histogram2dcontour": [
           {
            "colorbar": {
             "outlinewidth": 0,
             "ticks": ""
            },
            "colorscale": [
             [
              0,
              "#0d0887"
             ],
             [
              0.1111111111111111,
              "#46039f"
             ],
             [
              0.2222222222222222,
              "#7201a8"
             ],
             [
              0.3333333333333333,
              "#9c179e"
             ],
             [
              0.4444444444444444,
              "#bd3786"
             ],
             [
              0.5555555555555556,
              "#d8576b"
             ],
             [
              0.6666666666666666,
              "#ed7953"
             ],
             [
              0.7777777777777778,
              "#fb9f3a"
             ],
             [
              0.8888888888888888,
              "#fdca26"
             ],
             [
              1,
              "#f0f921"
             ]
            ],
            "type": "histogram2dcontour"
           }
          ],
          "mesh3d": [
           {
            "colorbar": {
             "outlinewidth": 0,
             "ticks": ""
            },
            "type": "mesh3d"
           }
          ],
          "parcoords": [
           {
            "line": {
             "colorbar": {
              "outlinewidth": 0,
              "ticks": ""
             }
            },
            "type": "parcoords"
           }
          ],
          "pie": [
           {
            "automargin": true,
            "type": "pie"
           }
          ],
          "scatter": [
           {
            "fillpattern": {
             "fillmode": "overlay",
             "size": 10,
             "solidity": 0.2
            },
            "type": "scatter"
           }
          ],
          "scatter3d": [
           {
            "line": {
             "colorbar": {
              "outlinewidth": 0,
              "ticks": ""
             }
            },
            "marker": {
             "colorbar": {
              "outlinewidth": 0,
              "ticks": ""
             }
            },
            "type": "scatter3d"
           }
          ],
          "scattercarpet": [
           {
            "marker": {
             "colorbar": {
              "outlinewidth": 0,
              "ticks": ""
             }
            },
            "type": "scattercarpet"
           }
          ],
          "scattergeo": [
           {
            "marker": {
             "colorbar": {
              "outlinewidth": 0,
              "ticks": ""
             }
            },
            "type": "scattergeo"
           }
          ],
          "scattergl": [
           {
            "marker": {
             "colorbar": {
              "outlinewidth": 0,
              "ticks": ""
             }
            },
            "type": "scattergl"
           }
          ],
          "scattermapbox": [
           {
            "marker": {
             "colorbar": {
              "outlinewidth": 0,
              "ticks": ""
             }
            },
            "type": "scattermapbox"
           }
          ],
          "scatterpolar": [
           {
            "marker": {
             "colorbar": {
              "outlinewidth": 0,
              "ticks": ""
             }
            },
            "type": "scatterpolar"
           }
          ],
          "scatterpolargl": [
           {
            "marker": {
             "colorbar": {
              "outlinewidth": 0,
              "ticks": ""
             }
            },
            "type": "scatterpolargl"
           }
          ],
          "scatterternary": [
           {
            "marker": {
             "colorbar": {
              "outlinewidth": 0,
              "ticks": ""
             }
            },
            "type": "scatterternary"
           }
          ],
          "surface": [
           {
            "colorbar": {
             "outlinewidth": 0,
             "ticks": ""
            },
            "colorscale": [
             [
              0,
              "#0d0887"
             ],
             [
              0.1111111111111111,
              "#46039f"
             ],
             [
              0.2222222222222222,
              "#7201a8"
             ],
             [
              0.3333333333333333,
              "#9c179e"
             ],
             [
              0.4444444444444444,
              "#bd3786"
             ],
             [
              0.5555555555555556,
              "#d8576b"
             ],
             [
              0.6666666666666666,
              "#ed7953"
             ],
             [
              0.7777777777777778,
              "#fb9f3a"
             ],
             [
              0.8888888888888888,
              "#fdca26"
             ],
             [
              1,
              "#f0f921"
             ]
            ],
            "type": "surface"
           }
          ],
          "table": [
           {
            "cells": {
             "fill": {
              "color": "#EBF0F8"
             },
             "line": {
              "color": "white"
             }
            },
            "header": {
             "fill": {
              "color": "#C8D4E3"
             },
             "line": {
              "color": "white"
             }
            },
            "type": "table"
           }
          ]
         },
         "layout": {
          "annotationdefaults": {
           "arrowcolor": "#2a3f5f",
           "arrowhead": 0,
           "arrowwidth": 1
          },
          "autotypenumbers": "strict",
          "coloraxis": {
           "colorbar": {
            "outlinewidth": 0,
            "ticks": ""
           }
          },
          "colorscale": {
           "diverging": [
            [
             0,
             "#8e0152"
            ],
            [
             0.1,
             "#c51b7d"
            ],
            [
             0.2,
             "#de77ae"
            ],
            [
             0.3,
             "#f1b6da"
            ],
            [
             0.4,
             "#fde0ef"
            ],
            [
             0.5,
             "#f7f7f7"
            ],
            [
             0.6,
             "#e6f5d0"
            ],
            [
             0.7,
             "#b8e186"
            ],
            [
             0.8,
             "#7fbc41"
            ],
            [
             0.9,
             "#4d9221"
            ],
            [
             1,
             "#276419"
            ]
           ],
           "sequential": [
            [
             0,
             "#0d0887"
            ],
            [
             0.1111111111111111,
             "#46039f"
            ],
            [
             0.2222222222222222,
             "#7201a8"
            ],
            [
             0.3333333333333333,
             "#9c179e"
            ],
            [
             0.4444444444444444,
             "#bd3786"
            ],
            [
             0.5555555555555556,
             "#d8576b"
            ],
            [
             0.6666666666666666,
             "#ed7953"
            ],
            [
             0.7777777777777778,
             "#fb9f3a"
            ],
            [
             0.8888888888888888,
             "#fdca26"
            ],
            [
             1,
             "#f0f921"
            ]
           ],
           "sequentialminus": [
            [
             0,
             "#0d0887"
            ],
            [
             0.1111111111111111,
             "#46039f"
            ],
            [
             0.2222222222222222,
             "#7201a8"
            ],
            [
             0.3333333333333333,
             "#9c179e"
            ],
            [
             0.4444444444444444,
             "#bd3786"
            ],
            [
             0.5555555555555556,
             "#d8576b"
            ],
            [
             0.6666666666666666,
             "#ed7953"
            ],
            [
             0.7777777777777778,
             "#fb9f3a"
            ],
            [
             0.8888888888888888,
             "#fdca26"
            ],
            [
             1,
             "#f0f921"
            ]
           ]
          },
          "colorway": [
           "#636efa",
           "#EF553B",
           "#00cc96",
           "#ab63fa",
           "#FFA15A",
           "#19d3f3",
           "#FF6692",
           "#B6E880",
           "#FF97FF",
           "#FECB52"
          ],
          "font": {
           "color": "#2a3f5f"
          },
          "geo": {
           "bgcolor": "white",
           "lakecolor": "white",
           "landcolor": "#E5ECF6",
           "showlakes": true,
           "showland": true,
           "subunitcolor": "white"
          },
          "hoverlabel": {
           "align": "left"
          },
          "hovermode": "closest",
          "mapbox": {
           "style": "light"
          },
          "paper_bgcolor": "white",
          "plot_bgcolor": "#E5ECF6",
          "polar": {
           "angularaxis": {
            "gridcolor": "white",
            "linecolor": "white",
            "ticks": ""
           },
           "bgcolor": "#E5ECF6",
           "radialaxis": {
            "gridcolor": "white",
            "linecolor": "white",
            "ticks": ""
           }
          },
          "scene": {
           "xaxis": {
            "backgroundcolor": "#E5ECF6",
            "gridcolor": "white",
            "gridwidth": 2,
            "linecolor": "white",
            "showbackground": true,
            "ticks": "",
            "zerolinecolor": "white"
           },
           "yaxis": {
            "backgroundcolor": "#E5ECF6",
            "gridcolor": "white",
            "gridwidth": 2,
            "linecolor": "white",
            "showbackground": true,
            "ticks": "",
            "zerolinecolor": "white"
           },
           "zaxis": {
            "backgroundcolor": "#E5ECF6",
            "gridcolor": "white",
            "gridwidth": 2,
            "linecolor": "white",
            "showbackground": true,
            "ticks": "",
            "zerolinecolor": "white"
           }
          },
          "shapedefaults": {
           "line": {
            "color": "#2a3f5f"
           }
          },
          "ternary": {
           "aaxis": {
            "gridcolor": "white",
            "linecolor": "white",
            "ticks": ""
           },
           "baxis": {
            "gridcolor": "white",
            "linecolor": "white",
            "ticks": ""
           },
           "bgcolor": "#E5ECF6",
           "caxis": {
            "gridcolor": "white",
            "linecolor": "white",
            "ticks": ""
           }
          },
          "title": {
           "x": 0.05
          },
          "xaxis": {
           "automargin": true,
           "gridcolor": "white",
           "linecolor": "white",
           "ticks": "",
           "title": {
            "standoff": 15
           },
           "zerolinecolor": "white",
           "zerolinewidth": 2
          },
          "yaxis": {
           "automargin": true,
           "gridcolor": "white",
           "linecolor": "white",
           "ticks": "",
           "title": {
            "standoff": 15
           },
           "zerolinecolor": "white",
           "zerolinewidth": 2
          }
         }
        },
        "title": {
         "text": "Positive Sales by Product"
        },
        "xaxis": {
         "anchor": "y",
         "domain": [
          0,
          1
         ],
         "tickmode": "linear",
         "title": {
          "text": "Product Group"
         },
         "type": "category"
        },
        "yaxis": {
         "anchor": "x",
         "domain": [
          0,
          1
         ],
         "title": {
          "text": "Total Positive Sales (EUR)"
         }
        }
       }
      }
     },
     "metadata": {},
     "output_type": "display_data"
    }
   ],
   "source": [
    "grouped_positive_sales_product= positive_sales.groupby('Mapped_GCK')['Sales_EUR'].sum().reset_index()\n",
    "\n",
    "plot_sales_by_product(grouped_positive_sales_product, 'Mapped_GCK', 'Sales_EUR', 'Positive Sales by Product', 'Product Group', 'Total Positive Sales (EUR)')"
   ]
  },
  {
   "cell_type": "markdown",
   "metadata": {},
   "source": [
    "<span style=\"background-color:#235987; padding:5px; border-radius:5px;\">**Remarks**</span> <a id='sales-data'></a>\n",
    "\n",
    "Products positive sales values, by order:\n",
    "\n",
    "**1.** Product 1\n",
    "\n",
    "**2.** Product 3\n",
    "\n",
    "**3.** Product 5\n",
    "\n",
    "**4.** Product 11\n",
    "\n",
    "**5.** Product 8\n",
    "\n",
    "**6.** Product 6\n",
    "\n",
    "**7.** Product 16\n",
    "\n",
    "**8.** Product 4\n",
    "\n",
    "**9.** Product 12\n",
    "\n",
    "**10.** Product 36\n",
    "\n",
    "**11.** Product 13\n",
    "\n",
    "**12.** Product 14\n",
    "\n",
    "**13.** Product 9\n",
    "\n",
    "**14.** Product 20"
   ]
  },
  {
   "cell_type": "code",
   "execution_count": 640,
   "metadata": {},
   "outputs": [
    {
     "name": "stderr",
     "output_type": "stream",
     "text": [
      "C:\\Users\\marga\\AppData\\Local\\Temp\\ipykernel_15752\\1474112446.py:1: SettingWithCopyWarning:\n",
      "\n",
      "\n",
      "A value is trying to be set on a copy of a slice from a DataFrame.\n",
      "Try using .loc[row_indexer,col_indexer] = value instead\n",
      "\n",
      "See the caveats in the documentation: https://pandas.pydata.org/pandas-docs/stable/user_guide/indexing.html#returning-a-view-versus-a-copy\n",
      "\n"
     ]
    },
    {
     "data": {
      "application/vnd.plotly.v1+json": {
       "config": {
        "plotlyServerURL": "https://plot.ly"
       },
       "data": [
        {
         "hovertemplate": "Product=1<br>Year-Month=%{x}<br>Total Positive Sales (EUR)=%{y}<extra></extra>",
         "legendgroup": "1",
         "line": {
          "color": "#636efa",
          "dash": "solid"
         },
         "marker": {
          "symbol": "circle"
         },
         "mode": "lines",
         "name": "1",
         "orientation": "v",
         "showlegend": true,
         "type": "scatter",
         "x": [
          "2018-10",
          "2018-11",
          "2018-12",
          "2019-01",
          "2019-02",
          "2019-03",
          "2019-04",
          "2019-05",
          "2019-06",
          "2019-07",
          "2019-08",
          "2019-09",
          "2019-10",
          "2019-11",
          "2019-12",
          "2020-01",
          "2020-02",
          "2020-03",
          "2020-04",
          "2020-05",
          "2020-06",
          "2020-07",
          "2020-08",
          "2020-09",
          "2020-10",
          "2020-11",
          "2020-12",
          "2021-01",
          "2021-02",
          "2021-03",
          "2021-04",
          "2021-05",
          "2021-06",
          "2021-07",
          "2021-08",
          "2021-09",
          "2021-10",
          "2021-11",
          "2021-12",
          "2022-01",
          "2022-02",
          "2022-03",
          "2022-04"
         ],
         "xaxis": "x",
         "y": [
          36098918.79,
          5140760,
          38116343.620000005,
          27807651.78,
          34854931.1,
          33892328.89,
          39728589.550000004,
          38963877.43,
          39196785.54,
          38012231.56,
          38176979.29,
          40759693.04,
          39281415.51,
          37366577.78,
          37861124.470000006,
          34246254.15,
          33564099.71,
          39218240.660000004,
          37987498.73,
          31400212.54,
          30932519.98,
          35212730.13,
          37482085.58,
          38879360.2,
          41468812.6,
          37643611.57,
          34838544.65,
          27180432.94,
          34631039.44,
          33476138.64,
          41318966.98,
          37788314.46,
          35807084.8,
          37151947.05,
          36310917.73,
          36404446.65,
          44551027.09,
          34243167.15,
          34017131.87,
          38033044.66,
          36354986.97,
          40224084.28,
          41136195.910000004
         ],
         "yaxis": "y"
        },
        {
         "hovertemplate": "Product=3<br>Year-Month=%{x}<br>Total Positive Sales (EUR)=%{y}<extra></extra>",
         "legendgroup": "3",
         "line": {
          "color": "#EF553B",
          "dash": "solid"
         },
         "marker": {
          "symbol": "circle"
         },
         "mode": "lines",
         "name": "3",
         "orientation": "v",
         "showlegend": true,
         "type": "scatter",
         "x": [
          "2018-10",
          "2018-11",
          "2018-12",
          "2019-01",
          "2019-02",
          "2019-03",
          "2019-04",
          "2019-05",
          "2019-06",
          "2019-07",
          "2019-08",
          "2019-09",
          "2019-10",
          "2019-11",
          "2019-12",
          "2020-01",
          "2020-02",
          "2020-03",
          "2020-04",
          "2020-05",
          "2020-06",
          "2020-07",
          "2020-08",
          "2020-09",
          "2020-10",
          "2020-11",
          "2020-12",
          "2021-01",
          "2021-02",
          "2021-03",
          "2021-04",
          "2021-05",
          "2021-06",
          "2021-07",
          "2021-08",
          "2021-09",
          "2021-10",
          "2021-11",
          "2021-12",
          "2022-01",
          "2022-02",
          "2022-03",
          "2022-04"
         ],
         "xaxis": "x",
         "y": [
          8089465.960000001,
          11870270.2,
          8739307.86,
          10708075.280000001,
          10172826.74,
          11057255.219999999,
          12319225.05,
          12809906.5,
          11546452.19,
          13421550.83,
          11385124.1,
          16584171.89,
          11474630.719999999,
          13826060.48,
          11100259.09,
          11906935.89,
          10041616.85,
          12281991.559999999,
          12033590.25,
          10708811.08,
          13322084.26,
          12813823.290000001,
          11393931.08,
          15912964.07,
          10020637.2,
          15528904.46,
          9769385.94,
          3805995.46,
          16145077.36,
          14130525,
          13461271.93,
          10301967.41,
          13652981.05,
          13288996.05,
          12386832.61,
          15876042.96,
          13800028.270000001,
          18697989.22,
          12377048.080000002,
          13797765.87,
          15670940.04,
          14320304.55,
          12093696.8
         ],
         "yaxis": "y"
        },
        {
         "hovertemplate": "Product=4<br>Year-Month=%{x}<br>Total Positive Sales (EUR)=%{y}<extra></extra>",
         "legendgroup": "4",
         "line": {
          "color": "#00cc96",
          "dash": "solid"
         },
         "marker": {
          "symbol": "circle"
         },
         "mode": "lines",
         "name": "4",
         "orientation": "v",
         "showlegend": true,
         "type": "scatter",
         "x": [
          "2018-10",
          "2018-11",
          "2018-12",
          "2019-01",
          "2019-02",
          "2019-03",
          "2019-04",
          "2019-05",
          "2019-06",
          "2019-07",
          "2019-08",
          "2019-09",
          "2019-10",
          "2019-11",
          "2019-12",
          "2020-01",
          "2020-02",
          "2020-03",
          "2020-04",
          "2020-05",
          "2020-06",
          "2020-07",
          "2020-08",
          "2020-09",
          "2020-10",
          "2020-11",
          "2020-12",
          "2021-01",
          "2021-02",
          "2021-03",
          "2021-04",
          "2021-05",
          "2021-06",
          "2021-07",
          "2021-08",
          "2021-09",
          "2021-10",
          "2021-11",
          "2021-12",
          "2022-01",
          "2022-02",
          "2022-03",
          "2022-04"
         ],
         "xaxis": "x",
         "y": [
          397760.69,
          373352.33,
          436873.36,
          484435.48,
          620031.8,
          498766.86,
          428258.52,
          375671.57,
          190721.15,
          381343.41,
          303045.23,
          449113.22000000003,
          93978.25,
          298011.68,
          275968.15,
          219974.89,
          225314.22,
          197761.93,
          455693.41000000003,
          315488.98,
          329486.58,
          294401.19,
          172952.24,
          645058,
          332731.24,
          417133.31,
          303405.85,
          166532.61,
          807836.39,
          454530.24,
          298442.31,
          576541.19,
          831057.8200000001,
          436182.7,
          255407.75,
          323758.15,
          345909.79,
          290571.35,
          199921.82,
          283676.73,
          245405.49,
          406828.57,
          302778.06999999995
         ],
         "yaxis": "y"
        },
        {
         "hovertemplate": "Product=5<br>Year-Month=%{x}<br>Total Positive Sales (EUR)=%{y}<extra></extra>",
         "legendgroup": "5",
         "line": {
          "color": "#ab63fa",
          "dash": "solid"
         },
         "marker": {
          "symbol": "circle"
         },
         "mode": "lines",
         "name": "5",
         "orientation": "v",
         "showlegend": true,
         "type": "scatter",
         "x": [
          "2018-10",
          "2018-11",
          "2018-12",
          "2019-01",
          "2019-02",
          "2019-03",
          "2019-04",
          "2019-05",
          "2019-06",
          "2019-07",
          "2019-08",
          "2019-09",
          "2019-10",
          "2019-11",
          "2019-12",
          "2020-01",
          "2020-02",
          "2020-03",
          "2020-04",
          "2020-05",
          "2020-06",
          "2020-07",
          "2020-08",
          "2020-09",
          "2020-10",
          "2020-11",
          "2020-12",
          "2021-01",
          "2021-02",
          "2021-03",
          "2021-04",
          "2021-05",
          "2021-06",
          "2021-07",
          "2021-08",
          "2021-09",
          "2021-10",
          "2021-11",
          "2021-12",
          "2022-01",
          "2022-02",
          "2022-03",
          "2022-04"
         ],
         "xaxis": "x",
         "y": [
          2499061.19,
          8993944.040000001,
          6981080.57,
          8301428.77,
          6892520.619999999,
          11933851.57,
          5937614.8,
          11413781.149999999,
          13738550.540000001,
          11189764.23,
          7663012.4799999995,
          15155155.01,
          11652205.11,
          8104241.69,
          13554688.83,
          7358142.5200000005,
          12490321.48,
          9345967.24,
          7990825.32,
          9883214.77,
          15873931.87,
          5590877.71,
          11463705.639999999,
          14160091.05,
          4652772.4399999995,
          10164950.32,
          8845742.299999999,
          1405295.36,
          16652189.63,
          11146249.81,
          7426997.640000001,
          8794595.14,
          11687229.03,
          8323704.77,
          19524640.52,
          15878203.309999999,
          11739106.18,
          9651295.45,
          8732579.69,
          7836080.63,
          7713154.79,
          14739187.18,
          8889623.190000001
         ],
         "yaxis": "y"
        },
        {
         "hovertemplate": "Product=6<br>Year-Month=%{x}<br>Total Positive Sales (EUR)=%{y}<extra></extra>",
         "legendgroup": "6",
         "line": {
          "color": "#FFA15A",
          "dash": "solid"
         },
         "marker": {
          "symbol": "circle"
         },
         "mode": "lines",
         "name": "6",
         "orientation": "v",
         "showlegend": true,
         "type": "scatter",
         "x": [
          "2018-10",
          "2018-11",
          "2018-12",
          "2019-01",
          "2019-02",
          "2019-03",
          "2019-04",
          "2019-05",
          "2019-06",
          "2019-07",
          "2019-08",
          "2019-09",
          "2019-10",
          "2019-11",
          "2019-12",
          "2020-01",
          "2020-02",
          "2020-03",
          "2020-04",
          "2020-05",
          "2020-06",
          "2020-07",
          "2020-08",
          "2020-09",
          "2020-10",
          "2020-11",
          "2020-12",
          "2021-01",
          "2021-02",
          "2021-03",
          "2021-04",
          "2021-05",
          "2021-06",
          "2021-07",
          "2021-08",
          "2021-09",
          "2021-10",
          "2021-11",
          "2021-12",
          "2022-01",
          "2022-02",
          "2022-03",
          "2022-04"
         ],
         "xaxis": "x",
         "y": [
          369231.6,
          473046.95999999996,
          999472.6900000002,
          598874.1,
          542037.52,
          735604.23,
          277575.12,
          315978.77,
          282963.19,
          725411.99,
          212652.06,
          499147.73,
          581767.85,
          218154.2,
          913378.8,
          313876.65,
          724398.75,
          529808.94,
          782042.98,
          750367.7,
          530492.81,
          730187.6799999999,
          847092.87,
          316929.21,
          313535.91000000003,
          335130.74,
          332556.98,
          27472.940000000002,
          515644.63,
          625100.14,
          592478.95,
          566508.34,
          490262.94,
          499338.64,
          573378.11,
          949186.44,
          196463.81,
          386462.95999999996,
          190074.96,
          157670.31,
          391142.3,
          316558.08999999997,
          333705.61
         ],
         "yaxis": "y"
        },
        {
         "hovertemplate": "Product=8<br>Year-Month=%{x}<br>Total Positive Sales (EUR)=%{y}<extra></extra>",
         "legendgroup": "8",
         "line": {
          "color": "#19d3f3",
          "dash": "solid"
         },
         "marker": {
          "symbol": "circle"
         },
         "mode": "lines",
         "name": "8",
         "orientation": "v",
         "showlegend": true,
         "type": "scatter",
         "x": [
          "2018-10",
          "2018-11",
          "2018-12",
          "2019-01",
          "2019-02",
          "2019-03",
          "2019-04",
          "2019-05",
          "2019-06",
          "2019-07",
          "2019-08",
          "2019-09",
          "2019-10",
          "2019-11",
          "2019-12",
          "2020-01",
          "2020-02",
          "2020-03",
          "2020-04",
          "2020-05",
          "2020-06",
          "2020-07",
          "2020-08",
          "2020-09",
          "2020-10",
          "2020-11",
          "2020-12",
          "2021-01",
          "2021-02",
          "2021-03",
          "2021-04",
          "2021-05",
          "2021-06",
          "2021-07",
          "2021-08",
          "2021-09",
          "2021-10",
          "2021-11",
          "2021-12",
          "2022-01",
          "2022-02",
          "2022-03",
          "2022-04"
         ],
         "xaxis": "x",
         "y": [
          586052.74,
          526792.77,
          271490.71,
          381400.15,
          368475.57,
          592288.36,
          418899.9,
          298806.83999999997,
          420707.73,
          366980.26,
          397537.2,
          1084685.92,
          111791.34,
          543893.42,
          507998.42000000004,
          323769.2,
          327179.83999999997,
          846245.78,
          302765.68,
          712746.38,
          647330.13,
          585870.47,
          917015.1799999999,
          1337657.62,
          153873.52,
          904436.89,
          1061969.46,
          305820.25999999995,
          1615468.03,
          900269.97,
          1071688.56,
          813653.21,
          1091239.79,
          1207554.52,
          1093379.99,
          2036579.98,
          356322.55,
          1142743.17,
          2655036.7800000003,
          1208090.29,
          1239171.41,
          1875688.63,
          1336220.96
         ],
         "yaxis": "y"
        },
        {
         "hovertemplate": "Product=9<br>Year-Month=%{x}<br>Total Positive Sales (EUR)=%{y}<extra></extra>",
         "legendgroup": "9",
         "line": {
          "color": "#FF6692",
          "dash": "solid"
         },
         "marker": {
          "symbol": "circle"
         },
         "mode": "lines",
         "name": "9",
         "orientation": "v",
         "showlegend": true,
         "type": "scatter",
         "x": [
          "2018-10",
          "2018-11",
          "2019-01",
          "2019-02",
          "2019-03",
          "2019-04",
          "2019-05",
          "2019-06",
          "2019-07",
          "2019-08",
          "2019-09",
          "2019-10",
          "2019-11",
          "2019-12",
          "2020-01",
          "2020-02",
          "2020-03",
          "2020-04",
          "2020-05",
          "2020-06",
          "2020-07",
          "2020-08",
          "2020-09",
          "2020-10",
          "2020-11",
          "2020-12",
          "2021-01",
          "2021-02",
          "2021-03",
          "2021-04",
          "2021-05",
          "2021-06",
          "2021-07",
          "2021-08",
          "2021-09",
          "2021-10",
          "2021-11",
          "2021-12",
          "2022-01",
          "2022-02",
          "2022-03",
          "2022-04"
         ],
         "xaxis": "x",
         "y": [
          3219.32,
          1875.9,
          1487,
          3234.2799999999997,
          13050.61,
          9150.7,
          4614.08,
          4488.09,
          1766.4,
          6371.5,
          13930.26,
          555,
          24181.8,
          7611.36,
          7647.5,
          425.1,
          2233,
          1851.85,
          3764.12,
          7555.45,
          978.6400000000001,
          9907.2,
          2893.35,
          39546,
          2429.8,
          8606.5,
          625.5,
          10022.4,
          28108.88,
          16713.96,
          8026,
          7240.84,
          11295.75,
          432,
          9288,
          950,
          17018.58,
          14963.7,
          2093.2,
          930,
          4452.6,
          3285
         ],
         "yaxis": "y"
        },
        {
         "hovertemplate": "Product=11<br>Year-Month=%{x}<br>Total Positive Sales (EUR)=%{y}<extra></extra>",
         "legendgroup": "11",
         "line": {
          "color": "#B6E880",
          "dash": "solid"
         },
         "marker": {
          "symbol": "circle"
         },
         "mode": "lines",
         "name": "11",
         "orientation": "v",
         "showlegend": true,
         "type": "scatter",
         "x": [
          "2018-10",
          "2018-11",
          "2018-12",
          "2019-01",
          "2019-02",
          "2019-03",
          "2019-04",
          "2019-05",
          "2019-06",
          "2019-07",
          "2019-08",
          "2019-09",
          "2019-10",
          "2019-11",
          "2019-12",
          "2020-01",
          "2020-02",
          "2020-03",
          "2020-04",
          "2020-05",
          "2020-06",
          "2020-07",
          "2020-08",
          "2020-09",
          "2020-10",
          "2020-11",
          "2020-12",
          "2021-01",
          "2021-02",
          "2021-03",
          "2021-04",
          "2021-05",
          "2021-06",
          "2021-07",
          "2021-08",
          "2021-09",
          "2021-10",
          "2021-11",
          "2021-12",
          "2022-01",
          "2022-02",
          "2022-03",
          "2022-04"
         ],
         "xaxis": "x",
         "y": [
          1021303.5,
          1898844.8,
          1226122,
          2216391.74,
          610456.6,
          957023.11,
          1484281.6,
          1066063.9,
          492133.2,
          585648.14,
          2921554.87,
          3749980.46,
          228130,
          1194770.75,
          1278545.62,
          584370,
          1233609.73,
          2969948.65,
          813303.01,
          842526.1,
          2246948,
          2105975.71,
          1521580.0699999998,
          3891447.7600000002,
          973839.23,
          488891.95999999996,
          1096370.71,
          18200,
          1978335.55,
          1660211.1600000001,
          1206734.3399999999,
          1994228.4,
          991872.24,
          2253079.74,
          2715460.08,
          3795389.85,
          173771.79,
          1832753.73,
          2645689.71,
          1075255.25,
          967190.3200000001,
          2284958.4000000004,
          1126856.25
         ],
         "yaxis": "y"
        },
        {
         "hovertemplate": "Product=12<br>Year-Month=%{x}<br>Total Positive Sales (EUR)=%{y}<extra></extra>",
         "legendgroup": "12",
         "line": {
          "color": "#FF97FF",
          "dash": "solid"
         },
         "marker": {
          "symbol": "circle"
         },
         "mode": "lines",
         "name": "12",
         "orientation": "v",
         "showlegend": true,
         "type": "scatter",
         "x": [
          "2018-10",
          "2018-11",
          "2018-12",
          "2019-01",
          "2019-02",
          "2019-03",
          "2019-04",
          "2019-05",
          "2019-06",
          "2019-07",
          "2019-08",
          "2019-09",
          "2019-10",
          "2019-11",
          "2019-12",
          "2020-01",
          "2020-02",
          "2020-03",
          "2020-04",
          "2020-05",
          "2020-06",
          "2020-07",
          "2020-08",
          "2020-09",
          "2020-10",
          "2020-11",
          "2020-12",
          "2021-01",
          "2021-02",
          "2021-03",
          "2021-04",
          "2021-05",
          "2021-06",
          "2021-07",
          "2021-08",
          "2021-09",
          "2021-10",
          "2021-11",
          "2021-12",
          "2022-01",
          "2022-02",
          "2022-03",
          "2022-04"
         ],
         "xaxis": "x",
         "y": [
          28686.33,
          1070,
          17880.6,
          21484,
          34214.74,
          10118,
          21813.27,
          24468,
          44255.68,
          21318.48,
          19217,
          292490.4,
          140819.69,
          320942.27999999997,
          349515.29,
          213315.32,
          324443.35,
          190629.89,
          79632,
          153949.24,
          172712.88,
          110995.2,
          164108.2,
          168634.8,
          5395,
          445648.06000000006,
          271024.19,
          92754.01,
          287890.61,
          282688.33999999997,
          385267.16000000003,
          379881.93,
          327404.12,
          364134.84,
          144575.88,
          423432.68,
          217388.43,
          429825.32000000007,
          322647.82,
          149144.93,
          316478.3,
          344536.82,
          178141
         ],
         "yaxis": "y"
        },
        {
         "hovertemplate": "Product=13<br>Year-Month=%{x}<br>Total Positive Sales (EUR)=%{y}<extra></extra>",
         "legendgroup": "13",
         "line": {
          "color": "#FECB52",
          "dash": "solid"
         },
         "marker": {
          "symbol": "circle"
         },
         "mode": "lines",
         "name": "13",
         "orientation": "v",
         "showlegend": true,
         "type": "scatter",
         "x": [
          "2018-10",
          "2018-11",
          "2018-12",
          "2019-01",
          "2019-02",
          "2019-03",
          "2019-04",
          "2019-05",
          "2019-06",
          "2019-07",
          "2019-08",
          "2019-09",
          "2019-10",
          "2019-11",
          "2019-12",
          "2020-01",
          "2020-02",
          "2020-03",
          "2020-04",
          "2020-05",
          "2020-06",
          "2020-07",
          "2020-08",
          "2020-09",
          "2020-10",
          "2020-11",
          "2020-12",
          "2021-01",
          "2021-02",
          "2021-03",
          "2021-04",
          "2021-05",
          "2021-06",
          "2021-07",
          "2021-08",
          "2021-09",
          "2021-10",
          "2021-11",
          "2021-12",
          "2022-01",
          "2022-02",
          "2022-03",
          "2022-04"
         ],
         "xaxis": "x",
         "y": [
          27666.1,
          68338.2,
          15655.18,
          27198.29,
          32638.63,
          11890,
          7514.85,
          2558.9,
          34849.21,
          43008.350000000006,
          22497.6,
          19601.050000000003,
          65754.55,
          43190.76,
          26729.760000000002,
          19519.59,
          13747.169999999998,
          23513.59,
          30716.11,
          3762.8199999999997,
          9612.8,
          6745.2,
          25689.64,
          15314.86,
          9524.88,
          20663.64,
          31216.71,
          10118.36,
          16729.8,
          63092.75,
          38125.2,
          4130,
          6015.04,
          8419.83,
          10814.57,
          28682.589999999997,
          30506.15,
          8136.92,
          24868.86,
          37972.81,
          33449.25,
          12149.4,
          17020.04
         ],
         "yaxis": "y"
        },
        {
         "hovertemplate": "Product=14<br>Year-Month=%{x}<br>Total Positive Sales (EUR)=%{y}<extra></extra>",
         "legendgroup": "14",
         "line": {
          "color": "#636efa",
          "dash": "solid"
         },
         "marker": {
          "symbol": "circle"
         },
         "mode": "lines",
         "name": "14",
         "orientation": "v",
         "showlegend": true,
         "type": "scatter",
         "x": [
          "2018-10",
          "2018-11",
          "2019-01",
          "2019-02",
          "2019-03",
          "2019-05",
          "2019-06",
          "2019-07",
          "2019-08",
          "2019-09",
          "2019-10",
          "2019-11",
          "2020-01",
          "2020-02",
          "2020-03",
          "2020-05",
          "2020-06",
          "2020-07",
          "2020-08",
          "2020-09",
          "2020-10",
          "2020-11",
          "2020-12",
          "2021-01",
          "2021-02",
          "2021-03",
          "2021-04",
          "2021-05",
          "2021-06",
          "2021-07",
          "2021-09",
          "2021-10",
          "2021-11",
          "2021-12",
          "2022-01",
          "2022-02",
          "2022-03",
          "2022-04"
         ],
         "xaxis": "x",
         "y": [
          5770,
          17130,
          1686.4,
          19196.3,
          7535.25,
          17820,
          63017.71,
          20719.3,
          1602,
          12851.2,
          4230,
          2571.3,
          2955.22,
          10900,
          10325.15,
          32670,
          8756.45,
          14793,
          6919.4,
          2219.8,
          13799,
          1750,
          11772.45,
          3028,
          2966.82,
          15818.779999999999,
          5629,
          2183.85,
          8266.9,
          76161.44,
          6182,
          16534.2,
          5951.849999999999,
          17427.6,
          2820,
          4410,
          46100.24,
          2495
         ],
         "yaxis": "y"
        },
        {
         "hovertemplate": "Product=16<br>Year-Month=%{x}<br>Total Positive Sales (EUR)=%{y}<extra></extra>",
         "legendgroup": "16",
         "line": {
          "color": "#EF553B",
          "dash": "solid"
         },
         "marker": {
          "symbol": "circle"
         },
         "mode": "lines",
         "name": "16",
         "orientation": "v",
         "showlegend": true,
         "type": "scatter",
         "x": [
          "2018-10",
          "2018-11",
          "2018-12",
          "2019-01",
          "2019-02",
          "2019-03",
          "2019-04",
          "2019-05",
          "2019-06",
          "2019-07",
          "2019-08",
          "2019-09",
          "2019-10",
          "2019-11",
          "2019-12",
          "2020-01",
          "2020-02",
          "2020-03",
          "2020-04",
          "2020-05",
          "2020-06",
          "2020-07",
          "2020-08",
          "2020-09",
          "2020-10",
          "2020-11",
          "2020-12",
          "2021-01",
          "2021-02",
          "2021-03",
          "2021-04",
          "2021-05",
          "2021-06",
          "2021-07",
          "2021-08",
          "2021-09",
          "2021-10",
          "2021-11",
          "2021-12",
          "2022-01",
          "2022-02",
          "2022-03",
          "2022-04"
         ],
         "xaxis": "x",
         "y": [
          333196.87,
          1377694.32,
          4762524.66,
          942957.19,
          257765.04,
          2258352.2199999997,
          225864,
          353451.54,
          371512.38,
          266225.86,
          725678.3299999998,
          765605.16,
          285644.67,
          291844.03,
          335567.28,
          384800.46,
          82821.54000000001,
          160397.35,
          70530.7,
          195141.7,
          269150.4,
          409170.11,
          153870.44,
          209186.6,
          145276.08000000002,
          160941.78,
          260089.25,
          40360.08,
          117004.3,
          309564.27,
          125710.70999999999,
          219241.06,
          186607.11000000002,
          103935.84,
          323548.03,
          186586.24,
          141037.06,
          230129.08000000002,
          271111.39,
          91021.89,
          45696.76,
          98729.91,
          134071.24
         ],
         "yaxis": "y"
        },
        {
         "hovertemplate": "Product=20<br>Year-Month=%{x}<br>Total Positive Sales (EUR)=%{y}<extra></extra>",
         "legendgroup": "20",
         "line": {
          "color": "#00cc96",
          "dash": "solid"
         },
         "marker": {
          "symbol": "circle"
         },
         "mode": "lines",
         "name": "20",
         "orientation": "v",
         "showlegend": true,
         "type": "scatter",
         "x": [
          "2018-10",
          "2018-11",
          "2018-12",
          "2019-01",
          "2019-02",
          "2019-03",
          "2019-04",
          "2019-05",
          "2019-06",
          "2019-07",
          "2019-08",
          "2019-09",
          "2019-10",
          "2019-11",
          "2020-01",
          "2020-03",
          "2020-04",
          "2020-05",
          "2020-06",
          "2020-07",
          "2020-08",
          "2020-09",
          "2020-10",
          "2020-11",
          "2020-12",
          "2021-02",
          "2021-03",
          "2021-04",
          "2021-05",
          "2021-06",
          "2021-07",
          "2021-08",
          "2021-10",
          "2021-11",
          "2021-12",
          "2022-02",
          "2022-03",
          "2022-04"
         ],
         "xaxis": "x",
         "y": [
          4563.14,
          5798.139999999999,
          918.65,
          2399.18,
          620.66,
          3369.55,
          3635.26,
          944,
          772.94,
          577.6,
          284.4,
          671.1700000000001,
          1566,
          149,
          274.90999999999997,
          555,
          224,
          390,
          983.1,
          826.98,
          2688,
          2047.7,
          7355.75,
          2990.7,
          8485.6,
          1387,
          1076.6,
          8414,
          419.21,
          1766.6,
          842.9300000000001,
          377.22,
          151.49,
          928.8,
          156,
          589.5,
          2885.08,
          6280.629999999999
         ],
         "yaxis": "y"
        },
        {
         "hovertemplate": "Product=36<br>Year-Month=%{x}<br>Total Positive Sales (EUR)=%{y}<extra></extra>",
         "legendgroup": "36",
         "line": {
          "color": "#ab63fa",
          "dash": "solid"
         },
         "marker": {
          "symbol": "circle"
         },
         "mode": "lines",
         "name": "36",
         "orientation": "v",
         "showlegend": true,
         "type": "scatter",
         "x": [
          "2018-10",
          "2018-11",
          "2018-12",
          "2019-01",
          "2019-02",
          "2019-03",
          "2019-04",
          "2019-05",
          "2019-06",
          "2019-07",
          "2019-08",
          "2019-09",
          "2019-10",
          "2019-11",
          "2019-12",
          "2020-01",
          "2020-02",
          "2020-03",
          "2020-04",
          "2020-05",
          "2020-06",
          "2020-07",
          "2020-08",
          "2020-09",
          "2020-10",
          "2020-11",
          "2020-12",
          "2021-01",
          "2021-02",
          "2021-03",
          "2021-04",
          "2021-05",
          "2021-06",
          "2021-07",
          "2021-08",
          "2021-09",
          "2021-10",
          "2021-11",
          "2021-12",
          "2022-01",
          "2022-02",
          "2022-03",
          "2022-04"
         ],
         "xaxis": "x",
         "y": [
          6474.6,
          21986.89,
          13924.52,
          15444.39,
          8051.15,
          7373.419999999999,
          4526.6,
          16905.32,
          17296.03,
          33334.41,
          1306,
          16582.55,
          1556.5,
          14921.72,
          5906.37,
          17727.88,
          11813.4,
          28300.82,
          27121.6,
          10075.7,
          146778.15,
          3849.6,
          12377.77,
          44867.100000000006,
          22372.49,
          4126.99,
          12105.42,
          3950.1,
          10454.4,
          11796,
          253519.03999999998,
          12775.490000000002,
          24733.07,
          17165.7,
          9233.4,
          26729.61,
          674,
          9449.77,
          48933.5,
          6014.39,
          29869.5,
          2564.85,
          17029.47
         ],
         "yaxis": "y"
        }
       ],
       "layout": {
        "legend": {
         "title": {
          "text": "Product"
         },
         "tracegroupgap": 0
        },
        "template": {
         "data": {
          "bar": [
           {
            "error_x": {
             "color": "#2a3f5f"
            },
            "error_y": {
             "color": "#2a3f5f"
            },
            "marker": {
             "line": {
              "color": "#E5ECF6",
              "width": 0.5
             },
             "pattern": {
              "fillmode": "overlay",
              "size": 10,
              "solidity": 0.2
             }
            },
            "type": "bar"
           }
          ],
          "barpolar": [
           {
            "marker": {
             "line": {
              "color": "#E5ECF6",
              "width": 0.5
             },
             "pattern": {
              "fillmode": "overlay",
              "size": 10,
              "solidity": 0.2
             }
            },
            "type": "barpolar"
           }
          ],
          "carpet": [
           {
            "aaxis": {
             "endlinecolor": "#2a3f5f",
             "gridcolor": "white",
             "linecolor": "white",
             "minorgridcolor": "white",
             "startlinecolor": "#2a3f5f"
            },
            "baxis": {
             "endlinecolor": "#2a3f5f",
             "gridcolor": "white",
             "linecolor": "white",
             "minorgridcolor": "white",
             "startlinecolor": "#2a3f5f"
            },
            "type": "carpet"
           }
          ],
          "choropleth": [
           {
            "colorbar": {
             "outlinewidth": 0,
             "ticks": ""
            },
            "type": "choropleth"
           }
          ],
          "contour": [
           {
            "colorbar": {
             "outlinewidth": 0,
             "ticks": ""
            },
            "colorscale": [
             [
              0,
              "#0d0887"
             ],
             [
              0.1111111111111111,
              "#46039f"
             ],
             [
              0.2222222222222222,
              "#7201a8"
             ],
             [
              0.3333333333333333,
              "#9c179e"
             ],
             [
              0.4444444444444444,
              "#bd3786"
             ],
             [
              0.5555555555555556,
              "#d8576b"
             ],
             [
              0.6666666666666666,
              "#ed7953"
             ],
             [
              0.7777777777777778,
              "#fb9f3a"
             ],
             [
              0.8888888888888888,
              "#fdca26"
             ],
             [
              1,
              "#f0f921"
             ]
            ],
            "type": "contour"
           }
          ],
          "contourcarpet": [
           {
            "colorbar": {
             "outlinewidth": 0,
             "ticks": ""
            },
            "type": "contourcarpet"
           }
          ],
          "heatmap": [
           {
            "colorbar": {
             "outlinewidth": 0,
             "ticks": ""
            },
            "colorscale": [
             [
              0,
              "#0d0887"
             ],
             [
              0.1111111111111111,
              "#46039f"
             ],
             [
              0.2222222222222222,
              "#7201a8"
             ],
             [
              0.3333333333333333,
              "#9c179e"
             ],
             [
              0.4444444444444444,
              "#bd3786"
             ],
             [
              0.5555555555555556,
              "#d8576b"
             ],
             [
              0.6666666666666666,
              "#ed7953"
             ],
             [
              0.7777777777777778,
              "#fb9f3a"
             ],
             [
              0.8888888888888888,
              "#fdca26"
             ],
             [
              1,
              "#f0f921"
             ]
            ],
            "type": "heatmap"
           }
          ],
          "heatmapgl": [
           {
            "colorbar": {
             "outlinewidth": 0,
             "ticks": ""
            },
            "colorscale": [
             [
              0,
              "#0d0887"
             ],
             [
              0.1111111111111111,
              "#46039f"
             ],
             [
              0.2222222222222222,
              "#7201a8"
             ],
             [
              0.3333333333333333,
              "#9c179e"
             ],
             [
              0.4444444444444444,
              "#bd3786"
             ],
             [
              0.5555555555555556,
              "#d8576b"
             ],
             [
              0.6666666666666666,
              "#ed7953"
             ],
             [
              0.7777777777777778,
              "#fb9f3a"
             ],
             [
              0.8888888888888888,
              "#fdca26"
             ],
             [
              1,
              "#f0f921"
             ]
            ],
            "type": "heatmapgl"
           }
          ],
          "histogram": [
           {
            "marker": {
             "pattern": {
              "fillmode": "overlay",
              "size": 10,
              "solidity": 0.2
             }
            },
            "type": "histogram"
           }
          ],
          "histogram2d": [
           {
            "colorbar": {
             "outlinewidth": 0,
             "ticks": ""
            },
            "colorscale": [
             [
              0,
              "#0d0887"
             ],
             [
              0.1111111111111111,
              "#46039f"
             ],
             [
              0.2222222222222222,
              "#7201a8"
             ],
             [
              0.3333333333333333,
              "#9c179e"
             ],
             [
              0.4444444444444444,
              "#bd3786"
             ],
             [
              0.5555555555555556,
              "#d8576b"
             ],
             [
              0.6666666666666666,
              "#ed7953"
             ],
             [
              0.7777777777777778,
              "#fb9f3a"
             ],
             [
              0.8888888888888888,
              "#fdca26"
             ],
             [
              1,
              "#f0f921"
             ]
            ],
            "type": "histogram2d"
           }
          ],
          "histogram2dcontour": [
           {
            "colorbar": {
             "outlinewidth": 0,
             "ticks": ""
            },
            "colorscale": [
             [
              0,
              "#0d0887"
             ],
             [
              0.1111111111111111,
              "#46039f"
             ],
             [
              0.2222222222222222,
              "#7201a8"
             ],
             [
              0.3333333333333333,
              "#9c179e"
             ],
             [
              0.4444444444444444,
              "#bd3786"
             ],
             [
              0.5555555555555556,
              "#d8576b"
             ],
             [
              0.6666666666666666,
              "#ed7953"
             ],
             [
              0.7777777777777778,
              "#fb9f3a"
             ],
             [
              0.8888888888888888,
              "#fdca26"
             ],
             [
              1,
              "#f0f921"
             ]
            ],
            "type": "histogram2dcontour"
           }
          ],
          "mesh3d": [
           {
            "colorbar": {
             "outlinewidth": 0,
             "ticks": ""
            },
            "type": "mesh3d"
           }
          ],
          "parcoords": [
           {
            "line": {
             "colorbar": {
              "outlinewidth": 0,
              "ticks": ""
             }
            },
            "type": "parcoords"
           }
          ],
          "pie": [
           {
            "automargin": true,
            "type": "pie"
           }
          ],
          "scatter": [
           {
            "fillpattern": {
             "fillmode": "overlay",
             "size": 10,
             "solidity": 0.2
            },
            "type": "scatter"
           }
          ],
          "scatter3d": [
           {
            "line": {
             "colorbar": {
              "outlinewidth": 0,
              "ticks": ""
             }
            },
            "marker": {
             "colorbar": {
              "outlinewidth": 0,
              "ticks": ""
             }
            },
            "type": "scatter3d"
           }
          ],
          "scattercarpet": [
           {
            "marker": {
             "colorbar": {
              "outlinewidth": 0,
              "ticks": ""
             }
            },
            "type": "scattercarpet"
           }
          ],
          "scattergeo": [
           {
            "marker": {
             "colorbar": {
              "outlinewidth": 0,
              "ticks": ""
             }
            },
            "type": "scattergeo"
           }
          ],
          "scattergl": [
           {
            "marker": {
             "colorbar": {
              "outlinewidth": 0,
              "ticks": ""
             }
            },
            "type": "scattergl"
           }
          ],
          "scattermapbox": [
           {
            "marker": {
             "colorbar": {
              "outlinewidth": 0,
              "ticks": ""
             }
            },
            "type": "scattermapbox"
           }
          ],
          "scatterpolar": [
           {
            "marker": {
             "colorbar": {
              "outlinewidth": 0,
              "ticks": ""
             }
            },
            "type": "scatterpolar"
           }
          ],
          "scatterpolargl": [
           {
            "marker": {
             "colorbar": {
              "outlinewidth": 0,
              "ticks": ""
             }
            },
            "type": "scatterpolargl"
           }
          ],
          "scatterternary": [
           {
            "marker": {
             "colorbar": {
              "outlinewidth": 0,
              "ticks": ""
             }
            },
            "type": "scatterternary"
           }
          ],
          "surface": [
           {
            "colorbar": {
             "outlinewidth": 0,
             "ticks": ""
            },
            "colorscale": [
             [
              0,
              "#0d0887"
             ],
             [
              0.1111111111111111,
              "#46039f"
             ],
             [
              0.2222222222222222,
              "#7201a8"
             ],
             [
              0.3333333333333333,
              "#9c179e"
             ],
             [
              0.4444444444444444,
              "#bd3786"
             ],
             [
              0.5555555555555556,
              "#d8576b"
             ],
             [
              0.6666666666666666,
              "#ed7953"
             ],
             [
              0.7777777777777778,
              "#fb9f3a"
             ],
             [
              0.8888888888888888,
              "#fdca26"
             ],
             [
              1,
              "#f0f921"
             ]
            ],
            "type": "surface"
           }
          ],
          "table": [
           {
            "cells": {
             "fill": {
              "color": "#EBF0F8"
             },
             "line": {
              "color": "white"
             }
            },
            "header": {
             "fill": {
              "color": "#C8D4E3"
             },
             "line": {
              "color": "white"
             }
            },
            "type": "table"
           }
          ]
         },
         "layout": {
          "annotationdefaults": {
           "arrowcolor": "#2a3f5f",
           "arrowhead": 0,
           "arrowwidth": 1
          },
          "autotypenumbers": "strict",
          "coloraxis": {
           "colorbar": {
            "outlinewidth": 0,
            "ticks": ""
           }
          },
          "colorscale": {
           "diverging": [
            [
             0,
             "#8e0152"
            ],
            [
             0.1,
             "#c51b7d"
            ],
            [
             0.2,
             "#de77ae"
            ],
            [
             0.3,
             "#f1b6da"
            ],
            [
             0.4,
             "#fde0ef"
            ],
            [
             0.5,
             "#f7f7f7"
            ],
            [
             0.6,
             "#e6f5d0"
            ],
            [
             0.7,
             "#b8e186"
            ],
            [
             0.8,
             "#7fbc41"
            ],
            [
             0.9,
             "#4d9221"
            ],
            [
             1,
             "#276419"
            ]
           ],
           "sequential": [
            [
             0,
             "#0d0887"
            ],
            [
             0.1111111111111111,
             "#46039f"
            ],
            [
             0.2222222222222222,
             "#7201a8"
            ],
            [
             0.3333333333333333,
             "#9c179e"
            ],
            [
             0.4444444444444444,
             "#bd3786"
            ],
            [
             0.5555555555555556,
             "#d8576b"
            ],
            [
             0.6666666666666666,
             "#ed7953"
            ],
            [
             0.7777777777777778,
             "#fb9f3a"
            ],
            [
             0.8888888888888888,
             "#fdca26"
            ],
            [
             1,
             "#f0f921"
            ]
           ],
           "sequentialminus": [
            [
             0,
             "#0d0887"
            ],
            [
             0.1111111111111111,
             "#46039f"
            ],
            [
             0.2222222222222222,
             "#7201a8"
            ],
            [
             0.3333333333333333,
             "#9c179e"
            ],
            [
             0.4444444444444444,
             "#bd3786"
            ],
            [
             0.5555555555555556,
             "#d8576b"
            ],
            [
             0.6666666666666666,
             "#ed7953"
            ],
            [
             0.7777777777777778,
             "#fb9f3a"
            ],
            [
             0.8888888888888888,
             "#fdca26"
            ],
            [
             1,
             "#f0f921"
            ]
           ]
          },
          "colorway": [
           "#636efa",
           "#EF553B",
           "#00cc96",
           "#ab63fa",
           "#FFA15A",
           "#19d3f3",
           "#FF6692",
           "#B6E880",
           "#FF97FF",
           "#FECB52"
          ],
          "font": {
           "color": "#2a3f5f"
          },
          "geo": {
           "bgcolor": "white",
           "lakecolor": "white",
           "landcolor": "#E5ECF6",
           "showlakes": true,
           "showland": true,
           "subunitcolor": "white"
          },
          "hoverlabel": {
           "align": "left"
          },
          "hovermode": "closest",
          "mapbox": {
           "style": "light"
          },
          "paper_bgcolor": "white",
          "plot_bgcolor": "#E5ECF6",
          "polar": {
           "angularaxis": {
            "gridcolor": "white",
            "linecolor": "white",
            "ticks": ""
           },
           "bgcolor": "#E5ECF6",
           "radialaxis": {
            "gridcolor": "white",
            "linecolor": "white",
            "ticks": ""
           }
          },
          "scene": {
           "xaxis": {
            "backgroundcolor": "#E5ECF6",
            "gridcolor": "white",
            "gridwidth": 2,
            "linecolor": "white",
            "showbackground": true,
            "ticks": "",
            "zerolinecolor": "white"
           },
           "yaxis": {
            "backgroundcolor": "#E5ECF6",
            "gridcolor": "white",
            "gridwidth": 2,
            "linecolor": "white",
            "showbackground": true,
            "ticks": "",
            "zerolinecolor": "white"
           },
           "zaxis": {
            "backgroundcolor": "#E5ECF6",
            "gridcolor": "white",
            "gridwidth": 2,
            "linecolor": "white",
            "showbackground": true,
            "ticks": "",
            "zerolinecolor": "white"
           }
          },
          "shapedefaults": {
           "line": {
            "color": "#2a3f5f"
           }
          },
          "ternary": {
           "aaxis": {
            "gridcolor": "white",
            "linecolor": "white",
            "ticks": ""
           },
           "baxis": {
            "gridcolor": "white",
            "linecolor": "white",
            "ticks": ""
           },
           "bgcolor": "#E5ECF6",
           "caxis": {
            "gridcolor": "white",
            "linecolor": "white",
            "ticks": ""
           }
          },
          "title": {
           "x": 0.05
          },
          "xaxis": {
           "automargin": true,
           "gridcolor": "white",
           "linecolor": "white",
           "ticks": "",
           "title": {
            "standoff": 15
           },
           "zerolinecolor": "white",
           "zerolinewidth": 2
          },
          "yaxis": {
           "automargin": true,
           "gridcolor": "white",
           "linecolor": "white",
           "ticks": "",
           "title": {
            "standoff": 15
           },
           "zerolinecolor": "white",
           "zerolinewidth": 2
          }
         }
        },
        "title": {
         "text": "Positive Sales by Product and Month"
        },
        "xaxis": {
         "anchor": "y",
         "domain": [
          0,
          1
         ],
         "tickangle": -45,
         "title": {
          "text": "Year-Month"
         }
        },
        "yaxis": {
         "anchor": "x",
         "domain": [
          0,
          1
         ],
         "title": {
          "text": "Total Positive Sales (EUR)"
         }
        }
       }
      }
     },
     "metadata": {},
     "output_type": "display_data"
    }
   ],
   "source": [
    "positive_sales['Year_Month'] = positive_sales['DATE'].dt.to_period('M').astype(str)\n",
    "grouped_positive_sales_prod_month = positive_sales.groupby(['Year_Month', 'Mapped_GCK'])['Sales_EUR'].sum().reset_index()\n",
    "\n",
    "plot_sales_by_product_month(grouped_positive_sales_prod_month, 'Year_Month', 'Sales_EUR', 'Mapped_GCK', \n",
    "                            'Positive Sales by Product and Month', 'Year-Month', 'Total Positive Sales (EUR)')"
   ]
  },
  {
   "cell_type": "code",
   "execution_count": 641,
   "metadata": {},
   "outputs": [
    {
     "name": "stderr",
     "output_type": "stream",
     "text": [
      "C:\\Users\\marga\\AppData\\Local\\Temp\\ipykernel_15752\\1125194768.py:1: SettingWithCopyWarning:\n",
      "\n",
      "\n",
      "A value is trying to be set on a copy of a slice from a DataFrame.\n",
      "Try using .loc[row_indexer,col_indexer] = value instead\n",
      "\n",
      "See the caveats in the documentation: https://pandas.pydata.org/pandas-docs/stable/user_guide/indexing.html#returning-a-view-versus-a-copy\n",
      "\n",
      "C:\\Users\\marga\\AppData\\Local\\Temp\\ipykernel_15752\\1125194768.py:2: SettingWithCopyWarning:\n",
      "\n",
      "\n",
      "A value is trying to be set on a copy of a slice from a DataFrame.\n",
      "Try using .loc[row_indexer,col_indexer] = value instead\n",
      "\n",
      "See the caveats in the documentation: https://pandas.pydata.org/pandas-docs/stable/user_guide/indexing.html#returning-a-view-versus-a-copy\n",
      "\n"
     ]
    }
   ],
   "source": [
    "negative_sales['Sales_EUR']= negative_sales['Sales_EUR'].abs()\n",
    "negative_sales['Year_Month'] = negative_sales['DATE'].dt.to_period('M').astype(str)\n",
    "grouped_neg_abs_sales_prod_month = negative_sales.groupby(['Year_Month', 'Mapped_GCK'])['Sales_EUR'].sum().reset_index()"
   ]
  },
  {
   "cell_type": "markdown",
   "metadata": {},
   "source": [
    "> Total Sales"
   ]
  },
  {
   "cell_type": "code",
   "execution_count": 642,
   "metadata": {},
   "outputs": [],
   "source": [
    "df_sales['Year_Month'] = df_sales['DATE'].dt.to_period('M').astype(str)\n",
    "\n",
    "df_sales = df_sales.groupby(['Year_Month', 'Mapped_GCK'])['Sales_EUR'].sum().reset_index()"
   ]
  },
  {
   "cell_type": "code",
   "execution_count": 643,
   "metadata": {},
   "outputs": [],
   "source": [
    "# Creating new columns for each product\n",
    "df_p1 = df_sales[df_sales['Mapped_GCK'] == 1]\n",
    "df_p3 = df_sales[df_sales['Mapped_GCK'] == 3]\n",
    "df_p4 = df_sales[df_sales['Mapped_GCK'] == 4]\n",
    "df_p5 = df_sales[df_sales['Mapped_GCK'] == 5]\n",
    "df_p6 = df_sales[df_sales['Mapped_GCK'] == 6]\n",
    "df_p8 = df_sales[df_sales['Mapped_GCK'] == 8]\n",
    "df_p9 = df_sales[df_sales['Mapped_GCK'] == 9]\n",
    "df_p11 = df_sales[df_sales['Mapped_GCK'] == 11]\n",
    "df_p12 = df_sales[df_sales['Mapped_GCK'] == 12]\n",
    "df_p13 = df_sales[df_sales['Mapped_GCK'] == 13]\n",
    "df_p14 = df_sales[df_sales['Mapped_GCK'] == 14]\n",
    "df_p16 = df_sales[df_sales['Mapped_GCK'] == 16]\n",
    "df_p20 = df_sales[df_sales['Mapped_GCK'] == 20]\n",
    "df_p36 = df_sales[df_sales['Mapped_GCK'] == 36]\n",
    "\n",
    "df_p1 = df_p1.groupby('Year_Month')['Sales_EUR'].sum().reset_index()\n",
    "df_p3 = df_p3.groupby('Year_Month')['Sales_EUR'].sum().reset_index()\n",
    "df_p4 = df_p4.groupby('Year_Month')['Sales_EUR'].sum().reset_index()\n",
    "df_p5 = df_p5.groupby('Year_Month')['Sales_EUR'].sum().reset_index()\n",
    "df_p6 = df_p6.groupby('Year_Month')['Sales_EUR'].sum().reset_index()\n",
    "df_p8 = df_p8.groupby('Year_Month')['Sales_EUR'].sum().reset_index()\n",
    "df_p9 = df_p9.groupby('Year_Month')['Sales_EUR'].sum().reset_index()\n",
    "df_p11 = df_p11.groupby('Year_Month')['Sales_EUR'].sum().reset_index()\n",
    "df_p12 = df_p12.groupby('Year_Month')['Sales_EUR'].sum().reset_index()\n",
    "df_p13 = df_p13.groupby('Year_Month')['Sales_EUR'].sum().reset_index()\n",
    "df_p14 = df_p14.groupby('Year_Month')['Sales_EUR'].sum().reset_index()\n",
    "df_p16 = df_p16.groupby('Year_Month')['Sales_EUR'].sum().reset_index()\n",
    "df_p20 = df_p20.groupby('Year_Month')['Sales_EUR'].sum().reset_index()\n",
    "df_p36 = df_p36.groupby('Year_Month')['Sales_EUR'].sum().reset_index()\n",
    "\n",
    "df_sales = df_sales.merge(df_p1[['Year_Month', 'Sales_EUR']].rename(columns={'Sales_EUR': 'Product 1'}), on='Year_Month')\n",
    "df_sales = df_sales.merge(df_p3[['Year_Month', 'Sales_EUR']].rename(columns={'Sales_EUR': 'Product 3'}), on='Year_Month')\n",
    "df_sales = df_sales.merge(df_p4[['Year_Month', 'Sales_EUR']].rename(columns={'Sales_EUR': 'Product 4'}), on='Year_Month')\n",
    "df_sales = df_sales.merge(df_p5[['Year_Month', 'Sales_EUR']].rename(columns={'Sales_EUR': 'Product 5'}), on='Year_Month')\n",
    "df_sales = df_sales.merge(df_p6[['Year_Month', 'Sales_EUR']].rename(columns={'Sales_EUR': 'Product 6'}), on='Year_Month')\n",
    "df_sales = df_sales.merge(df_p8[['Year_Month', 'Sales_EUR']].rename(columns={'Sales_EUR': 'Product 8'}), on='Year_Month')\n",
    "df_sales = df_sales.merge(df_p9[['Year_Month', 'Sales_EUR']].rename(columns={'Sales_EUR': 'Product 9'}), on='Year_Month')\n",
    "df_sales = df_sales.merge(df_p11[['Year_Month', 'Sales_EUR']].rename(columns={'Sales_EUR': 'Product 11'}), on='Year_Month')\n",
    "df_sales = df_sales.merge(df_p12[['Year_Month', 'Sales_EUR']].rename(columns={'Sales_EUR': 'Product 12'}), on='Year_Month')\n",
    "df_sales = df_sales.merge(df_p13[['Year_Month', 'Sales_EUR']].rename(columns={'Sales_EUR': 'Product 13'}), on='Year_Month')\n",
    "df_sales = df_sales.merge(df_p14[['Year_Month', 'Sales_EUR']].rename(columns={'Sales_EUR': 'Product 14'}), on='Year_Month')\n",
    "df_sales = df_sales.merge(df_p16[['Year_Month', 'Sales_EUR']].rename(columns={'Sales_EUR': 'Product 16'}), on='Year_Month')\n",
    "df_sales = df_sales.merge(df_p20[['Year_Month', 'Sales_EUR']].rename(columns={'Sales_EUR': 'Product 20'}), on='Year_Month')\n",
    "df_sales = df_sales.merge(df_p36[['Year_Month', 'Sales_EUR']].rename(columns={'Sales_EUR': 'Product 36'}), on='Year_Month')"
   ]
  },
  {
   "cell_type": "code",
   "execution_count": 644,
   "metadata": {},
   "outputs": [],
   "source": [
    "df_sales['Total_Sales_EUR'] = df_sales.groupby('Year_Month')['Sales_EUR'].transform('sum')\n",
    "\n",
    "df_sales.drop(columns=['Sales_EUR', 'Mapped_GCK'], inplace=True)"
   ]
  },
  {
   "cell_type": "code",
   "execution_count": 645,
   "metadata": {},
   "outputs": [],
   "source": [
    "df_sales.drop_duplicates(inplace=True)\n",
    "df_sales.reset_index(drop=True, inplace=True)"
   ]
  },
  {
   "cell_type": "code",
   "execution_count": 646,
   "metadata": {},
   "outputs": [
    {
     "data": {
      "text/html": [
       "<div>\n",
       "<style scoped>\n",
       "    .dataframe tbody tr th:only-of-type {\n",
       "        vertical-align: middle;\n",
       "    }\n",
       "\n",
       "    .dataframe tbody tr th {\n",
       "        vertical-align: top;\n",
       "    }\n",
       "\n",
       "    .dataframe thead th {\n",
       "        text-align: right;\n",
       "    }\n",
       "</style>\n",
       "<table border=\"1\" class=\"dataframe\">\n",
       "  <thead>\n",
       "    <tr style=\"text-align: right;\">\n",
       "      <th></th>\n",
       "      <th>Year_Month</th>\n",
       "      <th>Product 1</th>\n",
       "      <th>Product 3</th>\n",
       "      <th>Product 4</th>\n",
       "      <th>Product 5</th>\n",
       "      <th>Product 6</th>\n",
       "      <th>Product 8</th>\n",
       "      <th>Product 9</th>\n",
       "      <th>Product 11</th>\n",
       "      <th>Product 12</th>\n",
       "      <th>Product 13</th>\n",
       "      <th>Product 14</th>\n",
       "      <th>Product 16</th>\n",
       "      <th>Product 20</th>\n",
       "      <th>Product 36</th>\n",
       "      <th>Total_Sales_EUR</th>\n",
       "    </tr>\n",
       "  </thead>\n",
       "  <tbody>\n",
       "    <tr>\n",
       "      <th>0</th>\n",
       "      <td>2018-10</td>\n",
       "      <td>36098918.7900</td>\n",
       "      <td>8089465.9600</td>\n",
       "      <td>397760.6900</td>\n",
       "      <td>2499061.1900</td>\n",
       "      <td>369231.6000</td>\n",
       "      <td>586052.7400</td>\n",
       "      <td>3219.3200</td>\n",
       "      <td>1021303.5000</td>\n",
       "      <td>28686.3300</td>\n",
       "      <td>27666.1000</td>\n",
       "      <td>5770.0000</td>\n",
       "      <td>333196.8700</td>\n",
       "      <td>4563.1400</td>\n",
       "      <td>6474.6000</td>\n",
       "      <td>49471370.8300</td>\n",
       "    </tr>\n",
       "    <tr>\n",
       "      <th>1</th>\n",
       "      <td>2018-11</td>\n",
       "      <td>5140760.0000</td>\n",
       "      <td>11863001.5100</td>\n",
       "      <td>371322.4200</td>\n",
       "      <td>8993944.0400</td>\n",
       "      <td>473046.9600</td>\n",
       "      <td>526292.7700</td>\n",
       "      <td>1875.9000</td>\n",
       "      <td>1898844.8000</td>\n",
       "      <td>1070.0000</td>\n",
       "      <td>68180.0000</td>\n",
       "      <td>17130.0000</td>\n",
       "      <td>1377694.3200</td>\n",
       "      <td>5798.1400</td>\n",
       "      <td>21617.6100</td>\n",
       "      <td>30760578.4700</td>\n",
       "    </tr>\n",
       "    <tr>\n",
       "      <th>2</th>\n",
       "      <td>2019-01</td>\n",
       "      <td>27728148.3500</td>\n",
       "      <td>10705300.6300</td>\n",
       "      <td>484173.8800</td>\n",
       "      <td>8233205.0700</td>\n",
       "      <td>598874.1000</td>\n",
       "      <td>381400.1500</td>\n",
       "      <td>1487.0000</td>\n",
       "      <td>2216391.7400</td>\n",
       "      <td>21484.0000</td>\n",
       "      <td>27198.2900</td>\n",
       "      <td>1686.4000</td>\n",
       "      <td>942957.1900</td>\n",
       "      <td>2398.0400</td>\n",
       "      <td>15444.3900</td>\n",
       "      <td>51360149.2300</td>\n",
       "    </tr>\n",
       "    <tr>\n",
       "      <th>3</th>\n",
       "      <td>2019-02</td>\n",
       "      <td>34793163.5300</td>\n",
       "      <td>10167796.8600</td>\n",
       "      <td>620031.8000</td>\n",
       "      <td>6879250.9900</td>\n",
       "      <td>542037.5200</td>\n",
       "      <td>368475.5700</td>\n",
       "      <td>3234.2800</td>\n",
       "      <td>610456.6000</td>\n",
       "      <td>34214.7400</td>\n",
       "      <td>32638.6300</td>\n",
       "      <td>19196.3000</td>\n",
       "      <td>257765.0400</td>\n",
       "      <td>620.6600</td>\n",
       "      <td>8051.1500</td>\n",
       "      <td>54336933.6700</td>\n",
       "    </tr>\n",
       "    <tr>\n",
       "      <th>4</th>\n",
       "      <td>2019-03</td>\n",
       "      <td>33856803.0400</td>\n",
       "      <td>11040544.5700</td>\n",
       "      <td>491643.5900</td>\n",
       "      <td>11914313.6300</td>\n",
       "      <td>735604.2300</td>\n",
       "      <td>591288.3600</td>\n",
       "      <td>13050.6100</td>\n",
       "      <td>493999.8100</td>\n",
       "      <td>10118.0000</td>\n",
       "      <td>11890.0000</td>\n",
       "      <td>7535.2500</td>\n",
       "      <td>2258352.2200</td>\n",
       "      <td>3369.5500</td>\n",
       "      <td>7373.4200</td>\n",
       "      <td>61435886.2800</td>\n",
       "    </tr>\n",
       "    <tr>\n",
       "      <th>5</th>\n",
       "      <td>2019-05</td>\n",
       "      <td>38897974.2900</td>\n",
       "      <td>12798945.1800</td>\n",
       "      <td>375671.5700</td>\n",
       "      <td>11389673.2600</td>\n",
       "      <td>315978.7700</td>\n",
       "      <td>298806.8400</td>\n",
       "      <td>4614.0800</td>\n",
       "      <td>1066063.9000</td>\n",
       "      <td>24468.0000</td>\n",
       "      <td>2550.3100</td>\n",
       "      <td>17771.4000</td>\n",
       "      <td>353451.5400</td>\n",
       "      <td>938.9000</td>\n",
       "      <td>16905.3200</td>\n",
       "      <td>65563813.3600</td>\n",
       "    </tr>\n",
       "    <tr>\n",
       "      <th>6</th>\n",
       "      <td>2019-06</td>\n",
       "      <td>39106750.2300</td>\n",
       "      <td>11546452.1900</td>\n",
       "      <td>190721.1500</td>\n",
       "      <td>13681879.1600</td>\n",
       "      <td>282963.1900</td>\n",
       "      <td>420707.7300</td>\n",
       "      <td>4488.0900</td>\n",
       "      <td>492133.2000</td>\n",
       "      <td>44255.6800</td>\n",
       "      <td>34849.2100</td>\n",
       "      <td>63017.7100</td>\n",
       "      <td>367425.3800</td>\n",
       "      <td>772.9400</td>\n",
       "      <td>15516.2200</td>\n",
       "      <td>66251932.0800</td>\n",
       "    </tr>\n",
       "    <tr>\n",
       "      <th>7</th>\n",
       "      <td>2019-07</td>\n",
       "      <td>37912572.3000</td>\n",
       "      <td>13421550.8300</td>\n",
       "      <td>381274.9600</td>\n",
       "      <td>11145039.0300</td>\n",
       "      <td>725411.9900</td>\n",
       "      <td>366980.2600</td>\n",
       "      <td>1766.4000</td>\n",
       "      <td>585648.1400</td>\n",
       "      <td>21318.4800</td>\n",
       "      <td>43008.3500</td>\n",
       "      <td>20719.3000</td>\n",
       "      <td>266225.8600</td>\n",
       "      <td>577.6000</td>\n",
       "      <td>33334.4100</td>\n",
       "      <td>64925427.9100</td>\n",
       "    </tr>\n",
       "    <tr>\n",
       "      <th>8</th>\n",
       "      <td>2019-08</td>\n",
       "      <td>38042677.0500</td>\n",
       "      <td>11359418.3000</td>\n",
       "      <td>301973.4300</td>\n",
       "      <td>7645745.2900</td>\n",
       "      <td>206931.1700</td>\n",
       "      <td>397537.2000</td>\n",
       "      <td>6371.5000</td>\n",
       "      <td>2898779.8700</td>\n",
       "      <td>19217.0000</td>\n",
       "      <td>22497.6000</td>\n",
       "      <td>1602.0000</td>\n",
       "      <td>725678.3300</td>\n",
       "      <td>284.4000</td>\n",
       "      <td>1306.0000</td>\n",
       "      <td>61630019.1400</td>\n",
       "    </tr>\n",
       "    <tr>\n",
       "      <th>9</th>\n",
       "      <td>2019-09</td>\n",
       "      <td>40602780.6400</td>\n",
       "      <td>16579668.1100</td>\n",
       "      <td>443349.3200</td>\n",
       "      <td>15018604.6300</td>\n",
       "      <td>499147.7300</td>\n",
       "      <td>1084685.9200</td>\n",
       "      <td>13930.2600</td>\n",
       "      <td>3749980.4600</td>\n",
       "      <td>292490.4000</td>\n",
       "      <td>19601.0500</td>\n",
       "      <td>12851.2000</td>\n",
       "      <td>752884.1600</td>\n",
       "      <td>664.5700</td>\n",
       "      <td>16582.5500</td>\n",
       "      <td>79087221.0000</td>\n",
       "    </tr>\n",
       "    <tr>\n",
       "      <th>10</th>\n",
       "      <td>2019-10</td>\n",
       "      <td>39012299.1900</td>\n",
       "      <td>11382774.4500</td>\n",
       "      <td>93226.3200</td>\n",
       "      <td>11542647.4700</td>\n",
       "      <td>581767.8500</td>\n",
       "      <td>111791.3400</td>\n",
       "      <td>555.0000</td>\n",
       "      <td>218976.7800</td>\n",
       "      <td>140819.6900</td>\n",
       "      <td>65754.5500</td>\n",
       "      <td>1378.5500</td>\n",
       "      <td>285644.6700</td>\n",
       "      <td>1566.0000</td>\n",
       "      <td>1556.5000</td>\n",
       "      <td>63440758.3600</td>\n",
       "    </tr>\n",
       "    <tr>\n",
       "      <th>11</th>\n",
       "      <td>2019-11</td>\n",
       "      <td>37323903.0700</td>\n",
       "      <td>13826060.4800</td>\n",
       "      <td>298011.6800</td>\n",
       "      <td>8104241.6900</td>\n",
       "      <td>181159.2000</td>\n",
       "      <td>542923.4200</td>\n",
       "      <td>24181.8000</td>\n",
       "      <td>1194770.7500</td>\n",
       "      <td>320942.2800</td>\n",
       "      <td>43190.7600</td>\n",
       "      <td>2571.3000</td>\n",
       "      <td>291844.0300</td>\n",
       "      <td>149.0000</td>\n",
       "      <td>14921.7200</td>\n",
       "      <td>62168871.1800</td>\n",
       "    </tr>\n",
       "    <tr>\n",
       "      <th>12</th>\n",
       "      <td>2020-01</td>\n",
       "      <td>34116651.4700</td>\n",
       "      <td>11699896.3400</td>\n",
       "      <td>218623.4800</td>\n",
       "      <td>7184359.3100</td>\n",
       "      <td>-15202.9600</td>\n",
       "      <td>323769.2000</td>\n",
       "      <td>7647.5000</td>\n",
       "      <td>584370.0000</td>\n",
       "      <td>213315.3200</td>\n",
       "      <td>19519.5900</td>\n",
       "      <td>2955.2200</td>\n",
       "      <td>384800.4600</td>\n",
       "      <td>274.9100</td>\n",
       "      <td>11840.6700</td>\n",
       "      <td>54752820.5100</td>\n",
       "    </tr>\n",
       "    <tr>\n",
       "      <th>13</th>\n",
       "      <td>2020-03</td>\n",
       "      <td>39064430.8800</td>\n",
       "      <td>12281515.4600</td>\n",
       "      <td>197670.4800</td>\n",
       "      <td>9232237.6800</td>\n",
       "      <td>529808.9400</td>\n",
       "      <td>845857.7600</td>\n",
       "      <td>2233.0000</td>\n",
       "      <td>2969948.6500</td>\n",
       "      <td>185833.8900</td>\n",
       "      <td>23513.5900</td>\n",
       "      <td>10325.1500</td>\n",
       "      <td>160397.3500</td>\n",
       "      <td>555.0000</td>\n",
       "      <td>28300.8200</td>\n",
       "      <td>65532628.6500</td>\n",
       "    </tr>\n",
       "    <tr>\n",
       "      <th>14</th>\n",
       "      <td>2020-04</td>\n",
       "      <td>37981531.3200</td>\n",
       "      <td>12008066.8500</td>\n",
       "      <td>387939.9800</td>\n",
       "      <td>7990825.3200</td>\n",
       "      <td>782042.9800</td>\n",
       "      <td>302765.6800</td>\n",
       "      <td>1476.8500</td>\n",
       "      <td>813303.0100</td>\n",
       "      <td>79632.0000</td>\n",
       "      <td>30716.1100</td>\n",
       "      <td>-2851.4500</td>\n",
       "      <td>70530.7000</td>\n",
       "      <td>224.0000</td>\n",
       "      <td>27121.6000</td>\n",
       "      <td>60473324.9500</td>\n",
       "    </tr>\n",
       "    <tr>\n",
       "      <th>15</th>\n",
       "      <td>2020-05</td>\n",
       "      <td>31400212.5400</td>\n",
       "      <td>10708632.1800</td>\n",
       "      <td>315488.9800</td>\n",
       "      <td>9872426.5700</td>\n",
       "      <td>750367.7000</td>\n",
       "      <td>712746.3800</td>\n",
       "      <td>3764.1200</td>\n",
       "      <td>842526.1000</td>\n",
       "      <td>153949.2400</td>\n",
       "      <td>3762.8200</td>\n",
       "      <td>32670.0000</td>\n",
       "      <td>195141.7000</td>\n",
       "      <td>390.0000</td>\n",
       "      <td>9649.3000</td>\n",
       "      <td>55001727.6300</td>\n",
       "    </tr>\n",
       "    <tr>\n",
       "      <th>16</th>\n",
       "      <td>2020-06</td>\n",
       "      <td>30896804.0700</td>\n",
       "      <td>13321842.3600</td>\n",
       "      <td>329430.9600</td>\n",
       "      <td>15873894.9100</td>\n",
       "      <td>526425.1800</td>\n",
       "      <td>599831.9300</td>\n",
       "      <td>7555.4500</td>\n",
       "      <td>2246948.0000</td>\n",
       "      <td>172712.8800</td>\n",
       "      <td>9612.8000</td>\n",
       "      <td>8756.4500</td>\n",
       "      <td>269150.4000</td>\n",
       "      <td>983.1000</td>\n",
       "      <td>146778.1500</td>\n",
       "      <td>64410726.6400</td>\n",
       "    </tr>\n",
       "    <tr>\n",
       "      <th>17</th>\n",
       "      <td>2020-07</td>\n",
       "      <td>35212730.1300</td>\n",
       "      <td>12774946.2900</td>\n",
       "      <td>294293.7900</td>\n",
       "      <td>5590709.7100</td>\n",
       "      <td>730187.6800</td>\n",
       "      <td>583157.6100</td>\n",
       "      <td>943.3900</td>\n",
       "      <td>2105975.7100</td>\n",
       "      <td>110275.2000</td>\n",
       "      <td>6745.2000</td>\n",
       "      <td>14793.0000</td>\n",
       "      <td>409170.1100</td>\n",
       "      <td>826.9800</td>\n",
       "      <td>3849.6000</td>\n",
       "      <td>57838604.4000</td>\n",
       "    </tr>\n",
       "    <tr>\n",
       "      <th>18</th>\n",
       "      <td>2020-08</td>\n",
       "      <td>37482085.5800</td>\n",
       "      <td>11373503.0800</td>\n",
       "      <td>172952.2400</td>\n",
       "      <td>11463705.6400</td>\n",
       "      <td>847092.8700</td>\n",
       "      <td>916909.7600</td>\n",
       "      <td>9907.2000</td>\n",
       "      <td>1521580.0700</td>\n",
       "      <td>164108.2000</td>\n",
       "      <td>25689.6400</td>\n",
       "      <td>6919.4000</td>\n",
       "      <td>153289.4400</td>\n",
       "      <td>2688.0000</td>\n",
       "      <td>12377.7700</td>\n",
       "      <td>64152808.8900</td>\n",
       "    </tr>\n",
       "    <tr>\n",
       "      <th>19</th>\n",
       "      <td>2020-09</td>\n",
       "      <td>38879360.2000</td>\n",
       "      <td>15912683.1700</td>\n",
       "      <td>645058.0000</td>\n",
       "      <td>14160091.0500</td>\n",
       "      <td>316929.2100</td>\n",
       "      <td>1337657.6200</td>\n",
       "      <td>2893.3500</td>\n",
       "      <td>3891447.7600</td>\n",
       "      <td>168634.8000</td>\n",
       "      <td>15314.8600</td>\n",
       "      <td>2219.8000</td>\n",
       "      <td>209186.6000</td>\n",
       "      <td>2047.7000</td>\n",
       "      <td>44867.1000</td>\n",
       "      <td>75588391.2200</td>\n",
       "    </tr>\n",
       "    <tr>\n",
       "      <th>20</th>\n",
       "      <td>2020-10</td>\n",
       "      <td>41453854.5000</td>\n",
       "      <td>10003848.4400</td>\n",
       "      <td>332603.8400</td>\n",
       "      <td>4647204.3100</td>\n",
       "      <td>313535.9100</td>\n",
       "      <td>153873.5200</td>\n",
       "      <td>39510.7500</td>\n",
       "      <td>973837.2300</td>\n",
       "      <td>5395.0000</td>\n",
       "      <td>9524.8800</td>\n",
       "      <td>13799.0000</td>\n",
       "      <td>145276.0800</td>\n",
       "      <td>7355.7500</td>\n",
       "      <td>22372.4900</td>\n",
       "      <td>58121991.7000</td>\n",
       "    </tr>\n",
       "    <tr>\n",
       "      <th>21</th>\n",
       "      <td>2020-11</td>\n",
       "      <td>37643611.5700</td>\n",
       "      <td>15021617.7900</td>\n",
       "      <td>413558.1400</td>\n",
       "      <td>10164873.5700</td>\n",
       "      <td>335130.7400</td>\n",
       "      <td>904436.8900</td>\n",
       "      <td>-4358.1000</td>\n",
       "      <td>488891.9600</td>\n",
       "      <td>445648.0600</td>\n",
       "      <td>20663.6400</td>\n",
       "      <td>1750.0000</td>\n",
       "      <td>160941.7800</td>\n",
       "      <td>2979.5400</td>\n",
       "      <td>4126.9900</td>\n",
       "      <td>65603872.5700</td>\n",
       "    </tr>\n",
       "    <tr>\n",
       "      <th>22</th>\n",
       "      <td>2020-12</td>\n",
       "      <td>34816959.1800</td>\n",
       "      <td>9755535.9900</td>\n",
       "      <td>303249.5900</td>\n",
       "      <td>8845742.3000</td>\n",
       "      <td>332556.9800</td>\n",
       "      <td>1061969.4600</td>\n",
       "      <td>8606.5000</td>\n",
       "      <td>1096370.7100</td>\n",
       "      <td>271024.1900</td>\n",
       "      <td>31216.7100</td>\n",
       "      <td>11772.4500</td>\n",
       "      <td>260089.2500</td>\n",
       "      <td>8485.6000</td>\n",
       "      <td>12105.4200</td>\n",
       "      <td>56815684.3300</td>\n",
       "    </tr>\n",
       "    <tr>\n",
       "      <th>23</th>\n",
       "      <td>2021-02</td>\n",
       "      <td>34630522.8100</td>\n",
       "      <td>16136114.3800</td>\n",
       "      <td>807758.7900</td>\n",
       "      <td>16650952.7200</td>\n",
       "      <td>515644.6300</td>\n",
       "      <td>1615468.0300</td>\n",
       "      <td>10022.4000</td>\n",
       "      <td>1978335.5500</td>\n",
       "      <td>287890.6100</td>\n",
       "      <td>16729.8000</td>\n",
       "      <td>2966.8200</td>\n",
       "      <td>117004.3000</td>\n",
       "      <td>1387.0000</td>\n",
       "      <td>10454.4000</td>\n",
       "      <td>72781252.2400</td>\n",
       "    </tr>\n",
       "    <tr>\n",
       "      <th>24</th>\n",
       "      <td>2021-03</td>\n",
       "      <td>33476138.6400</td>\n",
       "      <td>14128552.8000</td>\n",
       "      <td>451955.4100</td>\n",
       "      <td>11102204.5800</td>\n",
       "      <td>625100.1400</td>\n",
       "      <td>899610.1500</td>\n",
       "      <td>28108.8800</td>\n",
       "      <td>1660211.1600</td>\n",
       "      <td>282688.3400</td>\n",
       "      <td>63092.7500</td>\n",
       "      <td>15818.7800</td>\n",
       "      <td>309564.2700</td>\n",
       "      <td>1076.6000</td>\n",
       "      <td>11436.0000</td>\n",
       "      <td>63055558.5000</td>\n",
       "    </tr>\n",
       "    <tr>\n",
       "      <th>25</th>\n",
       "      <td>2021-04</td>\n",
       "      <td>41257397.9000</td>\n",
       "      <td>13461271.9300</td>\n",
       "      <td>295958.9200</td>\n",
       "      <td>7085482.5200</td>\n",
       "      <td>592478.9500</td>\n",
       "      <td>1070486.7900</td>\n",
       "      <td>16713.9600</td>\n",
       "      <td>1206734.3400</td>\n",
       "      <td>385267.1600</td>\n",
       "      <td>38125.2000</td>\n",
       "      <td>5629.0000</td>\n",
       "      <td>125710.7100</td>\n",
       "      <td>8414.0000</td>\n",
       "      <td>253519.0400</td>\n",
       "      <td>65803190.4200</td>\n",
       "    </tr>\n",
       "    <tr>\n",
       "      <th>26</th>\n",
       "      <td>2021-05</td>\n",
       "      <td>37760015.2800</td>\n",
       "      <td>10298079.4100</td>\n",
       "      <td>573707.2700</td>\n",
       "      <td>8767595.7300</td>\n",
       "      <td>566508.3400</td>\n",
       "      <td>813607.0100</td>\n",
       "      <td>8026.0000</td>\n",
       "      <td>1994228.4000</td>\n",
       "      <td>379881.9300</td>\n",
       "      <td>4130.0000</td>\n",
       "      <td>2183.8500</td>\n",
       "      <td>218701.0600</td>\n",
       "      <td>419.2100</td>\n",
       "      <td>12775.4900</td>\n",
       "      <td>61399858.9800</td>\n",
       "    </tr>\n",
       "    <tr>\n",
       "      <th>27</th>\n",
       "      <td>2021-06</td>\n",
       "      <td>35801398.4700</td>\n",
       "      <td>13650393.4500</td>\n",
       "      <td>829442.3300</td>\n",
       "      <td>11687229.0300</td>\n",
       "      <td>490262.9400</td>\n",
       "      <td>1091239.7900</td>\n",
       "      <td>7240.8400</td>\n",
       "      <td>991872.2400</td>\n",
       "      <td>326883.3200</td>\n",
       "      <td>6015.0400</td>\n",
       "      <td>8266.9000</td>\n",
       "      <td>186607.1100</td>\n",
       "      <td>1766.6000</td>\n",
       "      <td>24733.0700</td>\n",
       "      <td>65103351.1300</td>\n",
       "    </tr>\n",
       "    <tr>\n",
       "      <th>28</th>\n",
       "      <td>2021-07</td>\n",
       "      <td>37130004.2100</td>\n",
       "      <td>13288195.2400</td>\n",
       "      <td>434669.6100</td>\n",
       "      <td>8321886.3800</td>\n",
       "      <td>499338.6400</td>\n",
       "      <td>1207554.5200</td>\n",
       "      <td>11295.7500</td>\n",
       "      <td>2253079.7400</td>\n",
       "      <td>363685.4400</td>\n",
       "      <td>8419.8300</td>\n",
       "      <td>76161.4400</td>\n",
       "      <td>103935.8400</td>\n",
       "      <td>842.9300</td>\n",
       "      <td>17159.2700</td>\n",
       "      <td>63716228.8400</td>\n",
       "    </tr>\n",
       "    <tr>\n",
       "      <th>29</th>\n",
       "      <td>2021-10</td>\n",
       "      <td>44483013.8600</td>\n",
       "      <td>13797043.9800</td>\n",
       "      <td>344985.7300</td>\n",
       "      <td>11472426.0100</td>\n",
       "      <td>196463.8100</td>\n",
       "      <td>356322.5500</td>\n",
       "      <td>937.0400</td>\n",
       "      <td>173771.7900</td>\n",
       "      <td>217388.4300</td>\n",
       "      <td>30506.1500</td>\n",
       "      <td>16534.2000</td>\n",
       "      <td>141037.0600</td>\n",
       "      <td>151.4900</td>\n",
       "      <td>674.0000</td>\n",
       "      <td>71231256.1000</td>\n",
       "    </tr>\n",
       "    <tr>\n",
       "      <th>30</th>\n",
       "      <td>2021-11</td>\n",
       "      <td>34187395.6000</td>\n",
       "      <td>18686819.8500</td>\n",
       "      <td>290506.8700</td>\n",
       "      <td>9606371.1400</td>\n",
       "      <td>386462.9600</td>\n",
       "      <td>1140720.5200</td>\n",
       "      <td>14035.5800</td>\n",
       "      <td>1832753.7300</td>\n",
       "      <td>428753.9400</td>\n",
       "      <td>8136.9200</td>\n",
       "      <td>5951.8500</td>\n",
       "      <td>230129.0800</td>\n",
       "      <td>928.8000</td>\n",
       "      <td>5139.4800</td>\n",
       "      <td>66824106.3200</td>\n",
       "    </tr>\n",
       "    <tr>\n",
       "      <th>31</th>\n",
       "      <td>2021-12</td>\n",
       "      <td>33950069.8300</td>\n",
       "      <td>12376414.5800</td>\n",
       "      <td>199188.7500</td>\n",
       "      <td>8656479.6400</td>\n",
       "      <td>190074.9600</td>\n",
       "      <td>2655036.7800</td>\n",
       "      <td>14935.2000</td>\n",
       "      <td>2645689.7100</td>\n",
       "      <td>322647.8200</td>\n",
       "      <td>24868.8600</td>\n",
       "      <td>17427.6000</td>\n",
       "      <td>271111.3900</td>\n",
       "      <td>156.0000</td>\n",
       "      <td>48933.5000</td>\n",
       "      <td>61373034.6200</td>\n",
       "    </tr>\n",
       "    <tr>\n",
       "      <th>32</th>\n",
       "      <td>2022-02</td>\n",
       "      <td>36293076.3300</td>\n",
       "      <td>15665217.4700</td>\n",
       "      <td>245306.1300</td>\n",
       "      <td>7675455.5500</td>\n",
       "      <td>391088.3000</td>\n",
       "      <td>1239171.4100</td>\n",
       "      <td>901.5000</td>\n",
       "      <td>964672.3200</td>\n",
       "      <td>312165.5200</td>\n",
       "      <td>33449.2500</td>\n",
       "      <td>4410.0000</td>\n",
       "      <td>45696.7600</td>\n",
       "      <td>589.5000</td>\n",
       "      <td>29869.5000</td>\n",
       "      <td>62901069.5400</td>\n",
       "    </tr>\n",
       "    <tr>\n",
       "      <th>33</th>\n",
       "      <td>2022-03</td>\n",
       "      <td>40220407.0300</td>\n",
       "      <td>14320304.5500</td>\n",
       "      <td>406399.8300</td>\n",
       "      <td>14739187.1800</td>\n",
       "      <td>316132.2100</td>\n",
       "      <td>1873520.3800</td>\n",
       "      <td>4452.6000</td>\n",
       "      <td>2284958.4000</td>\n",
       "      <td>343523.4200</td>\n",
       "      <td>12149.4000</td>\n",
       "      <td>46100.2400</td>\n",
       "      <td>98729.9100</td>\n",
       "      <td>2885.0800</td>\n",
       "      <td>2564.8500</td>\n",
       "      <td>74671315.0800</td>\n",
       "    </tr>\n",
       "    <tr>\n",
       "      <th>34</th>\n",
       "      <td>2022-04</td>\n",
       "      <td>41053203.1200</td>\n",
       "      <td>11999374.5100</td>\n",
       "      <td>302057.0400</td>\n",
       "      <td>8884607.5300</td>\n",
       "      <td>333705.6100</td>\n",
       "      <td>1336220.9600</td>\n",
       "      <td>3285.0000</td>\n",
       "      <td>1126268.6600</td>\n",
       "      <td>178141.0000</td>\n",
       "      <td>17020.0400</td>\n",
       "      <td>1846.2000</td>\n",
       "      <td>134071.2400</td>\n",
       "      <td>6280.6300</td>\n",
       "      <td>17029.4700</td>\n",
       "      <td>65393111.0100</td>\n",
       "    </tr>\n",
       "  </tbody>\n",
       "</table>\n",
       "</div>"
      ],
      "text/plain": [
       "   Year_Month     Product 1     Product 3   Product 4     Product 5  \\\n",
       "0     2018-10 36098918.7900  8089465.9600 397760.6900  2499061.1900   \n",
       "1     2018-11  5140760.0000 11863001.5100 371322.4200  8993944.0400   \n",
       "2     2019-01 27728148.3500 10705300.6300 484173.8800  8233205.0700   \n",
       "3     2019-02 34793163.5300 10167796.8600 620031.8000  6879250.9900   \n",
       "4     2019-03 33856803.0400 11040544.5700 491643.5900 11914313.6300   \n",
       "5     2019-05 38897974.2900 12798945.1800 375671.5700 11389673.2600   \n",
       "6     2019-06 39106750.2300 11546452.1900 190721.1500 13681879.1600   \n",
       "7     2019-07 37912572.3000 13421550.8300 381274.9600 11145039.0300   \n",
       "8     2019-08 38042677.0500 11359418.3000 301973.4300  7645745.2900   \n",
       "9     2019-09 40602780.6400 16579668.1100 443349.3200 15018604.6300   \n",
       "10    2019-10 39012299.1900 11382774.4500  93226.3200 11542647.4700   \n",
       "11    2019-11 37323903.0700 13826060.4800 298011.6800  8104241.6900   \n",
       "12    2020-01 34116651.4700 11699896.3400 218623.4800  7184359.3100   \n",
       "13    2020-03 39064430.8800 12281515.4600 197670.4800  9232237.6800   \n",
       "14    2020-04 37981531.3200 12008066.8500 387939.9800  7990825.3200   \n",
       "15    2020-05 31400212.5400 10708632.1800 315488.9800  9872426.5700   \n",
       "16    2020-06 30896804.0700 13321842.3600 329430.9600 15873894.9100   \n",
       "17    2020-07 35212730.1300 12774946.2900 294293.7900  5590709.7100   \n",
       "18    2020-08 37482085.5800 11373503.0800 172952.2400 11463705.6400   \n",
       "19    2020-09 38879360.2000 15912683.1700 645058.0000 14160091.0500   \n",
       "20    2020-10 41453854.5000 10003848.4400 332603.8400  4647204.3100   \n",
       "21    2020-11 37643611.5700 15021617.7900 413558.1400 10164873.5700   \n",
       "22    2020-12 34816959.1800  9755535.9900 303249.5900  8845742.3000   \n",
       "23    2021-02 34630522.8100 16136114.3800 807758.7900 16650952.7200   \n",
       "24    2021-03 33476138.6400 14128552.8000 451955.4100 11102204.5800   \n",
       "25    2021-04 41257397.9000 13461271.9300 295958.9200  7085482.5200   \n",
       "26    2021-05 37760015.2800 10298079.4100 573707.2700  8767595.7300   \n",
       "27    2021-06 35801398.4700 13650393.4500 829442.3300 11687229.0300   \n",
       "28    2021-07 37130004.2100 13288195.2400 434669.6100  8321886.3800   \n",
       "29    2021-10 44483013.8600 13797043.9800 344985.7300 11472426.0100   \n",
       "30    2021-11 34187395.6000 18686819.8500 290506.8700  9606371.1400   \n",
       "31    2021-12 33950069.8300 12376414.5800 199188.7500  8656479.6400   \n",
       "32    2022-02 36293076.3300 15665217.4700 245306.1300  7675455.5500   \n",
       "33    2022-03 40220407.0300 14320304.5500 406399.8300 14739187.1800   \n",
       "34    2022-04 41053203.1200 11999374.5100 302057.0400  8884607.5300   \n",
       "\n",
       "     Product 6    Product 8  Product 9   Product 11  Product 12  Product 13  \\\n",
       "0  369231.6000  586052.7400  3219.3200 1021303.5000  28686.3300  27666.1000   \n",
       "1  473046.9600  526292.7700  1875.9000 1898844.8000   1070.0000  68180.0000   \n",
       "2  598874.1000  381400.1500  1487.0000 2216391.7400  21484.0000  27198.2900   \n",
       "3  542037.5200  368475.5700  3234.2800  610456.6000  34214.7400  32638.6300   \n",
       "4  735604.2300  591288.3600 13050.6100  493999.8100  10118.0000  11890.0000   \n",
       "5  315978.7700  298806.8400  4614.0800 1066063.9000  24468.0000   2550.3100   \n",
       "6  282963.1900  420707.7300  4488.0900  492133.2000  44255.6800  34849.2100   \n",
       "7  725411.9900  366980.2600  1766.4000  585648.1400  21318.4800  43008.3500   \n",
       "8  206931.1700  397537.2000  6371.5000 2898779.8700  19217.0000  22497.6000   \n",
       "9  499147.7300 1084685.9200 13930.2600 3749980.4600 292490.4000  19601.0500   \n",
       "10 581767.8500  111791.3400   555.0000  218976.7800 140819.6900  65754.5500   \n",
       "11 181159.2000  542923.4200 24181.8000 1194770.7500 320942.2800  43190.7600   \n",
       "12 -15202.9600  323769.2000  7647.5000  584370.0000 213315.3200  19519.5900   \n",
       "13 529808.9400  845857.7600  2233.0000 2969948.6500 185833.8900  23513.5900   \n",
       "14 782042.9800  302765.6800  1476.8500  813303.0100  79632.0000  30716.1100   \n",
       "15 750367.7000  712746.3800  3764.1200  842526.1000 153949.2400   3762.8200   \n",
       "16 526425.1800  599831.9300  7555.4500 2246948.0000 172712.8800   9612.8000   \n",
       "17 730187.6800  583157.6100   943.3900 2105975.7100 110275.2000   6745.2000   \n",
       "18 847092.8700  916909.7600  9907.2000 1521580.0700 164108.2000  25689.6400   \n",
       "19 316929.2100 1337657.6200  2893.3500 3891447.7600 168634.8000  15314.8600   \n",
       "20 313535.9100  153873.5200 39510.7500  973837.2300   5395.0000   9524.8800   \n",
       "21 335130.7400  904436.8900 -4358.1000  488891.9600 445648.0600  20663.6400   \n",
       "22 332556.9800 1061969.4600  8606.5000 1096370.7100 271024.1900  31216.7100   \n",
       "23 515644.6300 1615468.0300 10022.4000 1978335.5500 287890.6100  16729.8000   \n",
       "24 625100.1400  899610.1500 28108.8800 1660211.1600 282688.3400  63092.7500   \n",
       "25 592478.9500 1070486.7900 16713.9600 1206734.3400 385267.1600  38125.2000   \n",
       "26 566508.3400  813607.0100  8026.0000 1994228.4000 379881.9300   4130.0000   \n",
       "27 490262.9400 1091239.7900  7240.8400  991872.2400 326883.3200   6015.0400   \n",
       "28 499338.6400 1207554.5200 11295.7500 2253079.7400 363685.4400   8419.8300   \n",
       "29 196463.8100  356322.5500   937.0400  173771.7900 217388.4300  30506.1500   \n",
       "30 386462.9600 1140720.5200 14035.5800 1832753.7300 428753.9400   8136.9200   \n",
       "31 190074.9600 2655036.7800 14935.2000 2645689.7100 322647.8200  24868.8600   \n",
       "32 391088.3000 1239171.4100   901.5000  964672.3200 312165.5200  33449.2500   \n",
       "33 316132.2100 1873520.3800  4452.6000 2284958.4000 343523.4200  12149.4000   \n",
       "34 333705.6100 1336220.9600  3285.0000 1126268.6600 178141.0000  17020.0400   \n",
       "\n",
       "    Product 14   Product 16  Product 20  Product 36  Total_Sales_EUR  \n",
       "0    5770.0000  333196.8700   4563.1400   6474.6000    49471370.8300  \n",
       "1   17130.0000 1377694.3200   5798.1400  21617.6100    30760578.4700  \n",
       "2    1686.4000  942957.1900   2398.0400  15444.3900    51360149.2300  \n",
       "3   19196.3000  257765.0400    620.6600   8051.1500    54336933.6700  \n",
       "4    7535.2500 2258352.2200   3369.5500   7373.4200    61435886.2800  \n",
       "5   17771.4000  353451.5400    938.9000  16905.3200    65563813.3600  \n",
       "6   63017.7100  367425.3800    772.9400  15516.2200    66251932.0800  \n",
       "7   20719.3000  266225.8600    577.6000  33334.4100    64925427.9100  \n",
       "8    1602.0000  725678.3300    284.4000   1306.0000    61630019.1400  \n",
       "9   12851.2000  752884.1600    664.5700  16582.5500    79087221.0000  \n",
       "10   1378.5500  285644.6700   1566.0000   1556.5000    63440758.3600  \n",
       "11   2571.3000  291844.0300    149.0000  14921.7200    62168871.1800  \n",
       "12   2955.2200  384800.4600    274.9100  11840.6700    54752820.5100  \n",
       "13  10325.1500  160397.3500    555.0000  28300.8200    65532628.6500  \n",
       "14  -2851.4500   70530.7000    224.0000  27121.6000    60473324.9500  \n",
       "15  32670.0000  195141.7000    390.0000   9649.3000    55001727.6300  \n",
       "16   8756.4500  269150.4000    983.1000 146778.1500    64410726.6400  \n",
       "17  14793.0000  409170.1100    826.9800   3849.6000    57838604.4000  \n",
       "18   6919.4000  153289.4400   2688.0000  12377.7700    64152808.8900  \n",
       "19   2219.8000  209186.6000   2047.7000  44867.1000    75588391.2200  \n",
       "20  13799.0000  145276.0800   7355.7500  22372.4900    58121991.7000  \n",
       "21   1750.0000  160941.7800   2979.5400   4126.9900    65603872.5700  \n",
       "22  11772.4500  260089.2500   8485.6000  12105.4200    56815684.3300  \n",
       "23   2966.8200  117004.3000   1387.0000  10454.4000    72781252.2400  \n",
       "24  15818.7800  309564.2700   1076.6000  11436.0000    63055558.5000  \n",
       "25   5629.0000  125710.7100   8414.0000 253519.0400    65803190.4200  \n",
       "26   2183.8500  218701.0600    419.2100  12775.4900    61399858.9800  \n",
       "27   8266.9000  186607.1100   1766.6000  24733.0700    65103351.1300  \n",
       "28  76161.4400  103935.8400    842.9300  17159.2700    63716228.8400  \n",
       "29  16534.2000  141037.0600    151.4900    674.0000    71231256.1000  \n",
       "30   5951.8500  230129.0800    928.8000   5139.4800    66824106.3200  \n",
       "31  17427.6000  271111.3900    156.0000  48933.5000    61373034.6200  \n",
       "32   4410.0000   45696.7600    589.5000  29869.5000    62901069.5400  \n",
       "33  46100.2400   98729.9100   2885.0800   2564.8500    74671315.0800  \n",
       "34   1846.2000  134071.2400   6280.6300  17029.4700    65393111.0100  "
      ]
     },
     "execution_count": 646,
     "metadata": {},
     "output_type": "execute_result"
    }
   ],
   "source": [
    "df_sales"
   ]
  },
  {
   "cell_type": "markdown",
   "metadata": {},
   "source": [
    "#### <span style=\"background-color:#000027; padding:5px; border-radius:5px;\">**1. Data Loading and Description**</span> <a id='data-loading-and-description'></a>  \n",
    "_This section provides an overview of the datasets, including their structure, size, and general characteristics._  \n",
    "\n",
    "Click [here](#table-of-contents) ⬆️ to return to the Index.\n"
   ]
  },
  {
   "cell_type": "markdown",
   "metadata": {},
   "source": [
    "##### <span style=\"background-color:#000027; padding:5px; border-radius:5px;\">**1.1. Sales Dataset**</span> <a id='sales-dataset'></a>"
   ]
  },
  {
   "cell_type": "code",
   "execution_count": 647,
   "metadata": {},
   "outputs": [
    {
     "data": {
      "text/html": [
       "<div>\n",
       "<style scoped>\n",
       "    .dataframe tbody tr th:only-of-type {\n",
       "        vertical-align: middle;\n",
       "    }\n",
       "\n",
       "    .dataframe tbody tr th {\n",
       "        vertical-align: top;\n",
       "    }\n",
       "\n",
       "    .dataframe thead th {\n",
       "        text-align: right;\n",
       "    }\n",
       "</style>\n",
       "<table border=\"1\" class=\"dataframe\">\n",
       "  <thead>\n",
       "    <tr style=\"text-align: right;\">\n",
       "      <th></th>\n",
       "      <th>DATE</th>\n",
       "      <th>Mapped_GCK</th>\n",
       "      <th>Sales_EUR</th>\n",
       "    </tr>\n",
       "  </thead>\n",
       "  <tbody>\n",
       "    <tr>\n",
       "      <th>0</th>\n",
       "      <td>01.10.2018</td>\n",
       "      <td>#1</td>\n",
       "      <td>0</td>\n",
       "    </tr>\n",
       "    <tr>\n",
       "      <th>1</th>\n",
       "      <td>02.10.2018</td>\n",
       "      <td>#1</td>\n",
       "      <td>0</td>\n",
       "    </tr>\n",
       "    <tr>\n",
       "      <th>2</th>\n",
       "      <td>03.10.2018</td>\n",
       "      <td>#1</td>\n",
       "      <td>0</td>\n",
       "    </tr>\n",
       "    <tr>\n",
       "      <th>3</th>\n",
       "      <td>04.10.2018</td>\n",
       "      <td>#1</td>\n",
       "      <td>0</td>\n",
       "    </tr>\n",
       "    <tr>\n",
       "      <th>4</th>\n",
       "      <td>05.10.2018</td>\n",
       "      <td>#1</td>\n",
       "      <td>0</td>\n",
       "    </tr>\n",
       "  </tbody>\n",
       "</table>\n",
       "</div>"
      ],
      "text/plain": [
       "         DATE Mapped_GCK Sales_EUR\n",
       "0  01.10.2018         #1         0\n",
       "1  02.10.2018         #1         0\n",
       "2  03.10.2018         #1         0\n",
       "3  04.10.2018         #1         0\n",
       "4  05.10.2018         #1         0"
      ]
     },
     "execution_count": 647,
     "metadata": {},
     "output_type": "execute_result"
    }
   ],
   "source": [
    "df_sales = pd.read_csv('Data/Case2_Sales data.csv', delimiter=';')\n",
    "df_sales.head()"
   ]
  },
  {
   "cell_type": "markdown",
   "metadata": {},
   "source": [
    "First thing: we got the daily sales, so we will need to group this into monthly sales per product."
   ]
  },
  {
   "cell_type": "code",
   "execution_count": 648,
   "metadata": {},
   "outputs": [
    {
     "data": {
      "text/plain": [
       "(9802, 3)"
      ]
     },
     "execution_count": 648,
     "metadata": {},
     "output_type": "execute_result"
    }
   ],
   "source": [
    "df_sales.shape"
   ]
  },
  {
   "cell_type": "markdown",
   "metadata": {},
   "source": [
    "##### <span style=\"background-color:#000027; padding:5px; border-radius:5px;\">**1.2. Consumer Index Prices Dataset**</span> <a id='cpi-dataset'></a>"
   ]
  },
  {
   "cell_type": "code",
   "execution_count": 649,
   "metadata": {},
   "outputs": [
    {
     "name": "stderr",
     "output_type": "stream",
     "text": [
      "c:\\Users\\marga\\Documents\\anaconda\\Lib\\site-packages\\openpyxl\\styles\\stylesheet.py:226: UserWarning:\n",
      "\n",
      "Workbook contains no default style, apply openpyxl's default\n",
      "\n"
     ]
    },
    {
     "data": {
      "text/html": [
       "<div>\n",
       "<style scoped>\n",
       "    .dataframe tbody tr th:only-of-type {\n",
       "        vertical-align: middle;\n",
       "    }\n",
       "\n",
       "    .dataframe tbody tr th {\n",
       "        vertical-align: top;\n",
       "    }\n",
       "\n",
       "    .dataframe thead th {\n",
       "        text-align: right;\n",
       "    }\n",
       "</style>\n",
       "<table border=\"1\" class=\"dataframe\">\n",
       "  <thead>\n",
       "    <tr style=\"text-align: right;\">\n",
       "      <th></th>\n",
       "      <th>Consumer price index: Germany, months</th>\n",
       "      <th>Unnamed: 1</th>\n",
       "      <th>Unnamed: 2</th>\n",
       "      <th>Unnamed: 3</th>\n",
       "      <th>Unnamed: 4</th>\n",
       "      <th>Unnamed: 5</th>\n",
       "      <th>Unnamed: 6</th>\n",
       "      <th>Unnamed: 7</th>\n",
       "    </tr>\n",
       "  </thead>\n",
       "  <tbody>\n",
       "    <tr>\n",
       "      <th>0</th>\n",
       "      <td>Consumer price index for Germany</td>\n",
       "      <td>NaN</td>\n",
       "      <td>NaN</td>\n",
       "      <td>NaN</td>\n",
       "      <td>NaN</td>\n",
       "      <td>NaN</td>\n",
       "      <td>NaN</td>\n",
       "      <td>NaN</td>\n",
       "    </tr>\n",
       "    <tr>\n",
       "      <th>1</th>\n",
       "      <td>Germany</td>\n",
       "      <td>NaN</td>\n",
       "      <td>NaN</td>\n",
       "      <td>NaN</td>\n",
       "      <td>NaN</td>\n",
       "      <td>NaN</td>\n",
       "      <td>NaN</td>\n",
       "      <td>NaN</td>\n",
       "    </tr>\n",
       "    <tr>\n",
       "      <th>2</th>\n",
       "      <td>Year\\nMonths</td>\n",
       "      <td>NaN</td>\n",
       "      <td>Consumer price index</td>\n",
       "      <td>NaN</td>\n",
       "      <td>Change on previous year's month</td>\n",
       "      <td>NaN</td>\n",
       "      <td>Change on previous month</td>\n",
       "      <td>NaN</td>\n",
       "    </tr>\n",
       "    <tr>\n",
       "      <th>3</th>\n",
       "      <td>NaN</td>\n",
       "      <td>NaN</td>\n",
       "      <td>2020=100</td>\n",
       "      <td>NaN</td>\n",
       "      <td>in (%)</td>\n",
       "      <td>NaN</td>\n",
       "      <td>in (%)</td>\n",
       "      <td>NaN</td>\n",
       "    </tr>\n",
       "    <tr>\n",
       "      <th>4</th>\n",
       "      <td>2018</td>\n",
       "      <td>January</td>\n",
       "      <td>96.4000</td>\n",
       "      <td>e</td>\n",
       "      <td>1.4000</td>\n",
       "      <td>e</td>\n",
       "      <td>-0.5000</td>\n",
       "      <td>e</td>\n",
       "    </tr>\n",
       "  </tbody>\n",
       "</table>\n",
       "</div>"
      ],
      "text/plain": [
       "  Consumer price index: Germany, months Unnamed: 1            Unnamed: 2  \\\n",
       "0      Consumer price index for Germany        NaN                   NaN   \n",
       "1                               Germany        NaN                   NaN   \n",
       "2                          Year\\nMonths        NaN  Consumer price index   \n",
       "3                                   NaN        NaN              2020=100   \n",
       "4                                  2018    January               96.4000   \n",
       "\n",
       "  Unnamed: 3                       Unnamed: 4 Unnamed: 5  \\\n",
       "0        NaN                              NaN        NaN   \n",
       "1        NaN                              NaN        NaN   \n",
       "2        NaN  Change on previous year's month        NaN   \n",
       "3        NaN                           in (%)        NaN   \n",
       "4          e                           1.4000          e   \n",
       "\n",
       "                 Unnamed: 6 Unnamed: 7  \n",
       "0                       NaN        NaN  \n",
       "1                       NaN        NaN  \n",
       "2  Change on previous month        NaN  \n",
       "3                    in (%)        NaN  \n",
       "4                   -0.5000          e  "
      ]
     },
     "execution_count": 649,
     "metadata": {},
     "output_type": "execute_result"
    }
   ],
   "source": [
    "df_cpi = pd.read_excel('Data/CPI.xlsx')\n",
    "df_cpi.head()"
   ]
  },
  {
   "cell_type": "markdown",
   "metadata": {},
   "source": [
    "##### <span style=\"background-color:#000027; padding:5px; border-radius:5px;\">**1.3. Market Dataset**</span> <a id='market-dataset'></a>"
   ]
  },
  {
   "cell_type": "code",
   "execution_count": 650,
   "metadata": {},
   "outputs": [
    {
     "data": {
      "text/html": [
       "<div>\n",
       "<style scoped>\n",
       "    .dataframe tbody tr th:only-of-type {\n",
       "        vertical-align: middle;\n",
       "    }\n",
       "\n",
       "    .dataframe tbody tr th {\n",
       "        vertical-align: top;\n",
       "    }\n",
       "\n",
       "    .dataframe thead th {\n",
       "        text-align: right;\n",
       "    }\n",
       "</style>\n",
       "<table border=\"1\" class=\"dataframe\">\n",
       "  <thead>\n",
       "    <tr style=\"text-align: right;\">\n",
       "      <th></th>\n",
       "      <th>MAB_ELE_PRO156</th>\n",
       "      <th>MAB_ELE_SHP156</th>\n",
       "      <th>MAB_ELE_PRO250</th>\n",
       "      <th>MAB_ELE_SHP250</th>\n",
       "      <th>MAB_ELE_PRO276</th>\n",
       "      <th>MAB_ELE_SHP276</th>\n",
       "      <th>MAB_ELE_PRO380</th>\n",
       "      <th>MAB_ELE_SHP380</th>\n",
       "      <th>MAB_ELE_PRO392</th>\n",
       "      <th>MAB_ELE_SHP392</th>\n",
       "      <th>MAB_ELE_PRO756</th>\n",
       "      <th>MAB_ELE_SHP756</th>\n",
       "      <th>MAB_ELE_PRO826</th>\n",
       "      <th>MAB_ELE_SHP826</th>\n",
       "      <th>MAB_ELE_PRO840</th>\n",
       "      <th>MAB_ELE_SHP840</th>\n",
       "      <th>MAB_ELE_PRO1100</th>\n",
       "      <th>MAB_ELE_SHP1100</th>\n",
       "      <th>RohiBASEMET1000_org</th>\n",
       "      <th>RohiENERGY1000_org</th>\n",
       "      <th>RohiMETMIN1000_org</th>\n",
       "      <th>RohiNATGAS1000_org</th>\n",
       "      <th>RohCRUDE_PETRO1000_org</th>\n",
       "      <th>RohCOPPER1000_org</th>\n",
       "      <th>WKLWEUR840_org</th>\n",
       "      <th>PRI27840_org</th>\n",
       "      <th>PRI27826_org</th>\n",
       "      <th>PRI27380_org</th>\n",
       "      <th>PRI27250_org</th>\n",
       "      <th>PRI27276_org</th>\n",
       "      <th>PRI27156_org</th>\n",
       "      <th>PRO28840_org</th>\n",
       "      <th>PRO281000_org</th>\n",
       "      <th>PRO28756_org</th>\n",
       "      <th>PRO28826_org</th>\n",
       "      <th>PRO28380_org</th>\n",
       "      <th>PRO28392_org</th>\n",
       "      <th>PRO28250_org</th>\n",
       "      <th>PRO28276_org</th>\n",
       "      <th>PRO27840_org</th>\n",
       "      <th>PRO271000_org</th>\n",
       "      <th>PRO27756_org</th>\n",
       "      <th>PRO27826_org</th>\n",
       "      <th>PRO27380_org</th>\n",
       "      <th>PRO27392_org</th>\n",
       "      <th>PRO27250_org</th>\n",
       "      <th>PRO27276_org</th>\n",
       "    </tr>\n",
       "    <tr>\n",
       "      <th>date</th>\n",
       "      <th></th>\n",
       "      <th></th>\n",
       "      <th></th>\n",
       "      <th></th>\n",
       "      <th></th>\n",
       "      <th></th>\n",
       "      <th></th>\n",
       "      <th></th>\n",
       "      <th></th>\n",
       "      <th></th>\n",
       "      <th></th>\n",
       "      <th></th>\n",
       "      <th></th>\n",
       "      <th></th>\n",
       "      <th></th>\n",
       "      <th></th>\n",
       "      <th></th>\n",
       "      <th></th>\n",
       "      <th></th>\n",
       "      <th></th>\n",
       "      <th></th>\n",
       "      <th></th>\n",
       "      <th></th>\n",
       "      <th></th>\n",
       "      <th></th>\n",
       "      <th></th>\n",
       "      <th></th>\n",
       "      <th></th>\n",
       "      <th></th>\n",
       "      <th></th>\n",
       "      <th></th>\n",
       "      <th></th>\n",
       "      <th></th>\n",
       "      <th></th>\n",
       "      <th></th>\n",
       "      <th></th>\n",
       "      <th></th>\n",
       "      <th></th>\n",
       "      <th></th>\n",
       "      <th></th>\n",
       "      <th></th>\n",
       "      <th></th>\n",
       "      <th></th>\n",
       "      <th></th>\n",
       "      <th></th>\n",
       "      <th></th>\n",
       "      <th></th>\n",
       "    </tr>\n",
       "  </thead>\n",
       "  <tbody>\n",
       "    <tr>\n",
       "      <th>2004m2</th>\n",
       "      <td>16.9407</td>\n",
       "      <td>16.9407</td>\n",
       "      <td>112.0913</td>\n",
       "      <td>83.4589</td>\n",
       "      <td>82.6230</td>\n",
       "      <td>79.4525</td>\n",
       "      <td>124.2896</td>\n",
       "      <td>86.5605</td>\n",
       "      <td>109.3340</td>\n",
       "      <td>110.4953</td>\n",
       "      <td>91.2219</td>\n",
       "      <td>89.9873</td>\n",
       "      <td>111.3538</td>\n",
       "      <td>73.6013</td>\n",
       "      <td>107.6014</td>\n",
       "      <td>79.2402</td>\n",
       "      <td>97.1229</td>\n",
       "      <td>80.0985</td>\n",
       "      <td>54.0398</td>\n",
       "      <td>44.1233</td>\n",
       "      <td>48.7479</td>\n",
       "      <td>87.0770</td>\n",
       "      <td>39.6395</td>\n",
       "      <td>36.6238</td>\n",
       "      <td>1.2646</td>\n",
       "      <td>78.9699</td>\n",
       "      <td>80.7574</td>\n",
       "      <td>93.0200</td>\n",
       "      <td>NaN</td>\n",
       "      <td>93.2305</td>\n",
       "      <td>NaN</td>\n",
       "      <td>102.4917</td>\n",
       "      <td>97.5974</td>\n",
       "      <td>97.1000</td>\n",
       "      <td>106.1920</td>\n",
       "      <td>116.7903</td>\n",
       "      <td>110.8900</td>\n",
       "      <td>118.2741</td>\n",
       "      <td>80.8290</td>\n",
       "      <td>117.7240</td>\n",
       "      <td>NaN</td>\n",
       "      <td>81.1000</td>\n",
       "      <td>120.7065</td>\n",
       "      <td>141.5109</td>\n",
       "      <td>106.1613</td>\n",
       "      <td>102.0771</td>\n",
       "      <td>85.9132</td>\n",
       "    </tr>\n",
       "    <tr>\n",
       "      <th>2004m3</th>\n",
       "      <td>23.7119</td>\n",
       "      <td>23.7119</td>\n",
       "      <td>136.3280</td>\n",
       "      <td>106.1682</td>\n",
       "      <td>100.5566</td>\n",
       "      <td>97.0129</td>\n",
       "      <td>143.4117</td>\n",
       "      <td>106.3445</td>\n",
       "      <td>140.8846</td>\n",
       "      <td>144.6862</td>\n",
       "      <td>85.8663</td>\n",
       "      <td>79.8836</td>\n",
       "      <td>127.5586</td>\n",
       "      <td>84.0476</td>\n",
       "      <td>110.1874</td>\n",
       "      <td>98.6190</td>\n",
       "      <td>113.7839</td>\n",
       "      <td>96.0159</td>\n",
       "      <td>54.6662</td>\n",
       "      <td>47.5890</td>\n",
       "      <td>49.2562</td>\n",
       "      <td>87.1927</td>\n",
       "      <td>42.5920</td>\n",
       "      <td>39.9311</td>\n",
       "      <td>1.2262</td>\n",
       "      <td>79.6736</td>\n",
       "      <td>80.9621</td>\n",
       "      <td>93.5403</td>\n",
       "      <td>NaN</td>\n",
       "      <td>93.3357</td>\n",
       "      <td>NaN</td>\n",
       "      <td>105.6275</td>\n",
       "      <td>113.2249</td>\n",
       "      <td>91.1951</td>\n",
       "      <td>121.6251</td>\n",
       "      <td>139.2884</td>\n",
       "      <td>141.1769</td>\n",
       "      <td>148.1218</td>\n",
       "      <td>102.1301</td>\n",
       "      <td>119.2208</td>\n",
       "      <td>NaN</td>\n",
       "      <td>76.6903</td>\n",
       "      <td>138.3095</td>\n",
       "      <td>152.8802</td>\n",
       "      <td>140.2887</td>\n",
       "      <td>117.2257</td>\n",
       "      <td>97.6708</td>\n",
       "    </tr>\n",
       "    <tr>\n",
       "      <th>2004m4</th>\n",
       "      <td>24.4352</td>\n",
       "      <td>24.4352</td>\n",
       "      <td>117.7918</td>\n",
       "      <td>92.0076</td>\n",
       "      <td>89.6532</td>\n",
       "      <td>84.9324</td>\n",
       "      <td>129.0838</td>\n",
       "      <td>95.5797</td>\n",
       "      <td>105.8536</td>\n",
       "      <td>102.6558</td>\n",
       "      <td>85.6225</td>\n",
       "      <td>79.7408</td>\n",
       "      <td>108.7323</td>\n",
       "      <td>73.0260</td>\n",
       "      <td>108.1666</td>\n",
       "      <td>89.7740</td>\n",
       "      <td>101.7152</td>\n",
       "      <td>85.1672</td>\n",
       "      <td>54.8727</td>\n",
       "      <td>47.7790</td>\n",
       "      <td>49.4238</td>\n",
       "      <td>91.3799</td>\n",
       "      <td>42.6506</td>\n",
       "      <td>39.1349</td>\n",
       "      <td>1.1985</td>\n",
       "      <td>80.3376</td>\n",
       "      <td>80.7574</td>\n",
       "      <td>93.8524</td>\n",
       "      <td>NaN</td>\n",
       "      <td>93.4409</td>\n",
       "      <td>NaN</td>\n",
       "      <td>103.4850</td>\n",
       "      <td>100.1691</td>\n",
       "      <td>93.7935</td>\n",
       "      <td>104.9655</td>\n",
       "      <td>125.2896</td>\n",
       "      <td>105.6488</td>\n",
       "      <td>125.4822</td>\n",
       "      <td>90.9614</td>\n",
       "      <td>117.4411</td>\n",
       "      <td>NaN</td>\n",
       "      <td>71.5524</td>\n",
       "      <td>115.5573</td>\n",
       "      <td>137.7969</td>\n",
       "      <td>106.2712</td>\n",
       "      <td>105.3358</td>\n",
       "      <td>87.2540</td>\n",
       "    </tr>\n",
       "    <tr>\n",
       "      <th>2004m5</th>\n",
       "      <td>23.7081</td>\n",
       "      <td>23.7081</td>\n",
       "      <td>109.0025</td>\n",
       "      <td>85.6965</td>\n",
       "      <td>86.8806</td>\n",
       "      <td>82.3728</td>\n",
       "      <td>135.5904</td>\n",
       "      <td>100.0870</td>\n",
       "      <td>101.8648</td>\n",
       "      <td>100.3053</td>\n",
       "      <td>85.3787</td>\n",
       "      <td>79.5980</td>\n",
       "      <td>110.6452</td>\n",
       "      <td>74.5919</td>\n",
       "      <td>108.4259</td>\n",
       "      <td>87.4638</td>\n",
       "      <td>101.2757</td>\n",
       "      <td>84.4858</td>\n",
       "      <td>51.2304</td>\n",
       "      <td>53.5909</td>\n",
       "      <td>46.4684</td>\n",
       "      <td>99.0445</td>\n",
       "      <td>47.5171</td>\n",
       "      <td>36.2784</td>\n",
       "      <td>1.2007</td>\n",
       "      <td>80.7988</td>\n",
       "      <td>80.7574</td>\n",
       "      <td>93.8524</td>\n",
       "      <td>NaN</td>\n",
       "      <td>93.5461</td>\n",
       "      <td>NaN</td>\n",
       "      <td>103.6439</td>\n",
       "      <td>99.5814</td>\n",
       "      <td>96.3920</td>\n",
       "      <td>105.8854</td>\n",
       "      <td>131.9890</td>\n",
       "      <td>101.9904</td>\n",
       "      <td>116.6497</td>\n",
       "      <td>88.0829</td>\n",
       "      <td>117.8992</td>\n",
       "      <td>NaN</td>\n",
       "      <td>66.4145</td>\n",
       "      <td>119.2695</td>\n",
       "      <td>143.8605</td>\n",
       "      <td>101.6087</td>\n",
       "      <td>96.6165</td>\n",
       "      <td>84.6756</td>\n",
       "    </tr>\n",
       "    <tr>\n",
       "      <th>2004m6</th>\n",
       "      <td>27.0091</td>\n",
       "      <td>27.0091</td>\n",
       "      <td>133.7857</td>\n",
       "      <td>106.6415</td>\n",
       "      <td>99.0108</td>\n",
       "      <td>95.1087</td>\n",
       "      <td>136.4249</td>\n",
       "      <td>110.8897</td>\n",
       "      <td>120.3329</td>\n",
       "      <td>119.6164</td>\n",
       "      <td>85.1349</td>\n",
       "      <td>79.4552</td>\n",
       "      <td>122.0210</td>\n",
       "      <td>82.3433</td>\n",
       "      <td>110.5699</td>\n",
       "      <td>97.3645</td>\n",
       "      <td>112.0572</td>\n",
       "      <td>96.9633</td>\n",
       "      <td>52.8763</td>\n",
       "      <td>50.7996</td>\n",
       "      <td>47.8039</td>\n",
       "      <td>98.6363</td>\n",
       "      <td>44.9676</td>\n",
       "      <td>35.6574</td>\n",
       "      <td>1.2138</td>\n",
       "      <td>80.9135</td>\n",
       "      <td>80.5527</td>\n",
       "      <td>93.9565</td>\n",
       "      <td>NaN</td>\n",
       "      <td>93.4409</td>\n",
       "      <td>NaN</td>\n",
       "      <td>106.0627</td>\n",
       "      <td>109.2777</td>\n",
       "      <td>98.9904</td>\n",
       "      <td>118.2523</td>\n",
       "      <td>132.9889</td>\n",
       "      <td>122.1366</td>\n",
       "      <td>143.2487</td>\n",
       "      <td>100.9787</td>\n",
       "      <td>119.4991</td>\n",
       "      <td>NaN</td>\n",
       "      <td>61.2766</td>\n",
       "      <td>128.8494</td>\n",
       "      <td>144.3153</td>\n",
       "      <td>116.6552</td>\n",
       "      <td>118.4587</td>\n",
       "      <td>95.4018</td>\n",
       "    </tr>\n",
       "  </tbody>\n",
       "</table>\n",
       "</div>"
      ],
      "text/plain": [
       "         MAB_ELE_PRO156  MAB_ELE_SHP156  MAB_ELE_PRO250  MAB_ELE_SHP250  \\\n",
       "date                                                                      \n",
       " 2004m2         16.9407         16.9407        112.0913         83.4589   \n",
       " 2004m3         23.7119         23.7119        136.3280        106.1682   \n",
       " 2004m4         24.4352         24.4352        117.7918         92.0076   \n",
       " 2004m5         23.7081         23.7081        109.0025         85.6965   \n",
       " 2004m6         27.0091         27.0091        133.7857        106.6415   \n",
       "\n",
       "         MAB_ELE_PRO276  MAB_ELE_SHP276  MAB_ELE_PRO380  MAB_ELE_SHP380  \\\n",
       "date                                                                      \n",
       " 2004m2         82.6230         79.4525        124.2896         86.5605   \n",
       " 2004m3        100.5566         97.0129        143.4117        106.3445   \n",
       " 2004m4         89.6532         84.9324        129.0838         95.5797   \n",
       " 2004m5         86.8806         82.3728        135.5904        100.0870   \n",
       " 2004m6         99.0108         95.1087        136.4249        110.8897   \n",
       "\n",
       "         MAB_ELE_PRO392  MAB_ELE_SHP392  MAB_ELE_PRO756  MAB_ELE_SHP756  \\\n",
       "date                                                                      \n",
       " 2004m2        109.3340        110.4953         91.2219         89.9873   \n",
       " 2004m3        140.8846        144.6862         85.8663         79.8836   \n",
       " 2004m4        105.8536        102.6558         85.6225         79.7408   \n",
       " 2004m5        101.8648        100.3053         85.3787         79.5980   \n",
       " 2004m6        120.3329        119.6164         85.1349         79.4552   \n",
       "\n",
       "         MAB_ELE_PRO826  MAB_ELE_SHP826  MAB_ELE_PRO840  MAB_ELE_SHP840  \\\n",
       "date                                                                      \n",
       " 2004m2        111.3538         73.6013        107.6014         79.2402   \n",
       " 2004m3        127.5586         84.0476        110.1874         98.6190   \n",
       " 2004m4        108.7323         73.0260        108.1666         89.7740   \n",
       " 2004m5        110.6452         74.5919        108.4259         87.4638   \n",
       " 2004m6        122.0210         82.3433        110.5699         97.3645   \n",
       "\n",
       "         MAB_ELE_PRO1100  MAB_ELE_SHP1100  RohiBASEMET1000_org  \\\n",
       "date                                                             \n",
       " 2004m2          97.1229          80.0985              54.0398   \n",
       " 2004m3         113.7839          96.0159              54.6662   \n",
       " 2004m4         101.7152          85.1672              54.8727   \n",
       " 2004m5         101.2757          84.4858              51.2304   \n",
       " 2004m6         112.0572          96.9633              52.8763   \n",
       "\n",
       "         RohiENERGY1000_org  RohiMETMIN1000_org  RohiNATGAS1000_org  \\\n",
       "date                                                                  \n",
       " 2004m2             44.1233             48.7479             87.0770   \n",
       " 2004m3             47.5890             49.2562             87.1927   \n",
       " 2004m4             47.7790             49.4238             91.3799   \n",
       " 2004m5             53.5909             46.4684             99.0445   \n",
       " 2004m6             50.7996             47.8039             98.6363   \n",
       "\n",
       "         RohCRUDE_PETRO1000_org  RohCOPPER1000_org  WKLWEUR840_org  \\\n",
       "date                                                                 \n",
       " 2004m2                 39.6395            36.6238          1.2646   \n",
       " 2004m3                 42.5920            39.9311          1.2262   \n",
       " 2004m4                 42.6506            39.1349          1.1985   \n",
       " 2004m5                 47.5171            36.2784          1.2007   \n",
       " 2004m6                 44.9676            35.6574          1.2138   \n",
       "\n",
       "         PRI27840_org  PRI27826_org  PRI27380_org  PRI27250_org  PRI27276_org  \\\n",
       "date                                                                            \n",
       " 2004m2       78.9699       80.7574       93.0200           NaN       93.2305   \n",
       " 2004m3       79.6736       80.9621       93.5403           NaN       93.3357   \n",
       " 2004m4       80.3376       80.7574       93.8524           NaN       93.4409   \n",
       " 2004m5       80.7988       80.7574       93.8524           NaN       93.5461   \n",
       " 2004m6       80.9135       80.5527       93.9565           NaN       93.4409   \n",
       "\n",
       "         PRI27156_org  PRO28840_org  PRO281000_org  PRO28756_org  \\\n",
       "date                                                               \n",
       " 2004m2           NaN      102.4917        97.5974       97.1000   \n",
       " 2004m3           NaN      105.6275       113.2249       91.1951   \n",
       " 2004m4           NaN      103.4850       100.1691       93.7935   \n",
       " 2004m5           NaN      103.6439        99.5814       96.3920   \n",
       " 2004m6           NaN      106.0627       109.2777       98.9904   \n",
       "\n",
       "         PRO28826_org  PRO28380_org  PRO28392_org  PRO28250_org  PRO28276_org  \\\n",
       "date                                                                            \n",
       " 2004m2      106.1920      116.7903      110.8900      118.2741       80.8290   \n",
       " 2004m3      121.6251      139.2884      141.1769      148.1218      102.1301   \n",
       " 2004m4      104.9655      125.2896      105.6488      125.4822       90.9614   \n",
       " 2004m5      105.8854      131.9890      101.9904      116.6497       88.0829   \n",
       " 2004m6      118.2523      132.9889      122.1366      143.2487      100.9787   \n",
       "\n",
       "         PRO27840_org  PRO271000_org  PRO27756_org  PRO27826_org  \\\n",
       "date                                                               \n",
       " 2004m2      117.7240            NaN       81.1000      120.7065   \n",
       " 2004m3      119.2208            NaN       76.6903      138.3095   \n",
       " 2004m4      117.4411            NaN       71.5524      115.5573   \n",
       " 2004m5      117.8992            NaN       66.4145      119.2695   \n",
       " 2004m6      119.4991            NaN       61.2766      128.8494   \n",
       "\n",
       "         PRO27380_org  PRO27392_org  PRO27250_org  PRO27276_org  \n",
       "date                                                             \n",
       " 2004m2      141.5109      106.1613      102.0771       85.9132  \n",
       " 2004m3      152.8802      140.2887      117.2257       97.6708  \n",
       " 2004m4      137.7969      106.2712      105.3358       87.2540  \n",
       " 2004m5      143.8605      101.6087       96.6165       84.6756  \n",
       " 2004m6      144.3153      116.6552      118.4587       95.4018  "
      ]
     },
     "execution_count": 650,
     "metadata": {},
     "output_type": "execute_result"
    }
   ],
   "source": [
    "df_market = pd.read_excel('Data/Case2_Market data.xlsx', sheet_name=\"Original Values\", index_col=0, header=2)\n",
    "df_market.head()"
   ]
  },
  {
   "cell_type": "markdown",
   "metadata": {},
   "source": [
    "#### <span style=\"background-color:#000027; padding:5px; border-radius:5px;\">**2. Sales Data Analysis**</span> <a id='sales'></a>  \n",
    "_This section provides an overview of the datasets, including their structure, size, and general characteristics._  \n",
    "\n",
    "Click [here](#table-of-contents) ⬆️ to return to the Index."
   ]
  },
  {
   "cell_type": "markdown",
   "metadata": {},
   "source": [
    "---"
   ]
  },
  {
   "cell_type": "markdown",
   "metadata": {},
   "source": [
    "##### <span style=\"background-color:#000027; padding:5px; border-radius:5px;\">**2.1. Data Types**</span> <a id='Data-Types'></a>  \n",
    "_By reducing memory consumption, we can enhance the performance of subsequent sections, including **feature engineering and modeling algorithms**._   \n",
    "\n",
    "Click [here](#table-of-contents) ⬆️ to return to the Index."
   ]
  },
  {
   "cell_type": "code",
   "execution_count": 651,
   "metadata": {},
   "outputs": [
    {
     "data": {
      "text/plain": [
       "DATE          object\n",
       "Mapped_GCK    object\n",
       "Sales_EUR     object\n",
       "dtype: object"
      ]
     },
     "execution_count": 651,
     "metadata": {},
     "output_type": "execute_result"
    }
   ],
   "source": [
    "df_sales.dtypes"
   ]
  },
  {
   "cell_type": "markdown",
   "metadata": {},
   "source": [
    "**Note:** The columns datatyes are not optimize, in data preparation is important to convert:\n",
    "- `Date` to dd-mm-yyyy (datetime format)\n",
    "- `Sales_EUR` to float\n",
    "- `Mapped_GCK` to int (removing the character #)\n",
    "\n",
    "Right now we have a memory usage of 229.9+ KB, but we can clearly see that these three columns can be optimized."
   ]
  },
  {
   "cell_type": "markdown",
   "metadata": {},
   "source": [
    "In order to facilitate the understanding of the data, **dtypes are going to be fixed** at this stage."
   ]
  },
  {
   "cell_type": "code",
   "execution_count": 652,
   "metadata": {},
   "outputs": [],
   "source": [
    "# convert DATE to datetime format\n",
    "df_sales['DATE'] = pd.to_datetime(df_sales['DATE'], dayfirst=True)"
   ]
  },
  {
   "cell_type": "code",
   "execution_count": 653,
   "metadata": {},
   "outputs": [],
   "source": [
    "# create the feature 'month_year', that stores the month and year of the corresponding date value\n",
    "df_sales['month_year'] = pd.to_datetime(df_sales['DATE'], format='%d.%m.%Y').dt.to_period('M')"
   ]
  },
  {
   "cell_type": "code",
   "execution_count": 654,
   "metadata": {},
   "outputs": [],
   "source": [
    "# convert Sales_EUR to float\n",
    "df_sales['Sales_EUR'] = df_sales['Sales_EUR'].str.replace(',', '.').astype(float)"
   ]
  },
  {
   "cell_type": "code",
   "execution_count": 655,
   "metadata": {},
   "outputs": [],
   "source": [
    "# convert Mapped_GCK\n",
    "df_sales['Mapped_GCK'] = df_sales['Mapped_GCK'].str.replace(\"#\", \"\").astype(int)"
   ]
  },
  {
   "cell_type": "code",
   "execution_count": 656,
   "metadata": {},
   "outputs": [
    {
     "data": {
      "text/plain": [
       "DATE          datetime64[ns]\n",
       "Mapped_GCK             int32\n",
       "Sales_EUR            float64\n",
       "month_year         period[M]\n",
       "dtype: object"
      ]
     },
     "execution_count": 656,
     "metadata": {},
     "output_type": "execute_result"
    }
   ],
   "source": [
    "df_sales.dtypes"
   ]
  },
  {
   "cell_type": "markdown",
   "metadata": {},
   "source": [
    "`Note`: The optimization function, which optimizes the specific bytes of the data type, will be applied in the preparation pipeline."
   ]
  },
  {
   "cell_type": "markdown",
   "metadata": {},
   "source": [
    "---\n",
    "\n",
    "##### <span style=\"background-color:#000027; padding:5px; border-radius:5px;\">**2.2. Descriptive Summary**</span> <a id='Descriptive-Summary'></a>  \n",
    "_A detailed summary of the variables, including their central tendency, dispersion, and distribution._  \n",
    "\n",
    "Click [here](#table-of-contents) ⬆️ to return to the Index."
   ]
  },
  {
   "cell_type": "code",
   "execution_count": 657,
   "metadata": {},
   "outputs": [
    {
     "data": {
      "text/html": [
       "<div>\n",
       "<style scoped>\n",
       "    .dataframe tbody tr th:only-of-type {\n",
       "        vertical-align: middle;\n",
       "    }\n",
       "\n",
       "    .dataframe tbody tr th {\n",
       "        vertical-align: top;\n",
       "    }\n",
       "\n",
       "    .dataframe thead th {\n",
       "        text-align: right;\n",
       "    }\n",
       "</style>\n",
       "<table border=\"1\" class=\"dataframe\">\n",
       "  <thead>\n",
       "    <tr style=\"text-align: right;\">\n",
       "      <th></th>\n",
       "      <th>DATE</th>\n",
       "      <th>Mapped_GCK</th>\n",
       "      <th>Sales_EUR</th>\n",
       "    </tr>\n",
       "  </thead>\n",
       "  <tbody>\n",
       "    <tr>\n",
       "      <th>count</th>\n",
       "      <td>9802</td>\n",
       "      <td>9802.0000</td>\n",
       "      <td>9802.0000</td>\n",
       "    </tr>\n",
       "    <tr>\n",
       "      <th>mean</th>\n",
       "      <td>2020-07-19 17:55:48.785961984</td>\n",
       "      <td>9.0007</td>\n",
       "      <td>272785.6867</td>\n",
       "    </tr>\n",
       "    <tr>\n",
       "      <th>min</th>\n",
       "      <td>2018-10-01 00:00:00</td>\n",
       "      <td>1.0000</td>\n",
       "      <td>-506381.1700</td>\n",
       "    </tr>\n",
       "    <tr>\n",
       "      <th>25%</th>\n",
       "      <td>2019-08-30 00:00:00</td>\n",
       "      <td>4.0000</td>\n",
       "      <td>0.0000</td>\n",
       "    </tr>\n",
       "    <tr>\n",
       "      <th>50%</th>\n",
       "      <td>2020-07-26 12:00:00</td>\n",
       "      <td>8.0000</td>\n",
       "      <td>0.0000</td>\n",
       "    </tr>\n",
       "    <tr>\n",
       "      <th>75%</th>\n",
       "      <td>2021-06-09 00:00:00</td>\n",
       "      <td>12.0000</td>\n",
       "      <td>0.0000</td>\n",
       "    </tr>\n",
       "    <tr>\n",
       "      <th>max</th>\n",
       "      <td>2022-04-30 00:00:00</td>\n",
       "      <td>36.0000</td>\n",
       "      <td>41127988.0200</td>\n",
       "    </tr>\n",
       "    <tr>\n",
       "      <th>std</th>\n",
       "      <td>NaN</td>\n",
       "      <td>7.6243</td>\n",
       "      <td>2230789.1619</td>\n",
       "    </tr>\n",
       "  </tbody>\n",
       "</table>\n",
       "</div>"
      ],
      "text/plain": [
       "                                DATE  Mapped_GCK     Sales_EUR\n",
       "count                           9802   9802.0000     9802.0000\n",
       "mean   2020-07-19 17:55:48.785961984      9.0007   272785.6867\n",
       "min              2018-10-01 00:00:00      1.0000  -506381.1700\n",
       "25%              2019-08-30 00:00:00      4.0000        0.0000\n",
       "50%              2020-07-26 12:00:00      8.0000        0.0000\n",
       "75%              2021-06-09 00:00:00     12.0000        0.0000\n",
       "max              2022-04-30 00:00:00     36.0000 41127988.0200\n",
       "std                              NaN      7.6243  2230789.1619"
      ]
     },
     "execution_count": 657,
     "metadata": {},
     "output_type": "execute_result"
    }
   ],
   "source": [
    "# Summary statistics for numeric columns\n",
    "pd.set_option('display.float_format', lambda x: f'{x:.4f}')\n",
    "df_sales.describe()"
   ]
  },
  {
   "cell_type": "code",
   "execution_count": 658,
   "metadata": {},
   "outputs": [
    {
     "name": "stdout",
     "output_type": "stream",
     "text": [
      "Unique products: [1, 11, 6, 8, 12, 16, 4, 5, 3, 9, 14, 13, 20, 36]\n"
     ]
    }
   ],
   "source": [
    "# Check unique products\n",
    "print('Unique products:', list(df_sales['Mapped_GCK'].unique()))"
   ]
  },
  {
   "cell_type": "markdown",
   "metadata": {},
   "source": [
    "- We have a total of 14 different products, and our approach will involve individual treatment for each, including different feature selection and modeling.\n",
    "\n",
    "- There is a negative minimum value for sales, which may indicate refunds or adjustments. We will investigate this further.\n",
    "\n",
    "- Considering the minimum and maximum values of the sales column, we observe a precision of two decimal places and a maximum value of 40M. This suggests that the float64 data type can be optimized.\n",
    "\n",
    "- The columns in this dataframe do not contain any missing values."
   ]
  },
  {
   "cell_type": "markdown",
   "metadata": {},
   "source": [
    "---\n",
    "##### <span style=\"background-color:#000027; padding:5px; border-radius:5px;\">**2.3. Inconsistencies**</span> <a id='inconsistenciesDU'></a>  \n",
    "_Checking for inconsistencies in data, such as incorrect formats, out-of-range values, or logical errors._ \n",
    "\n",
    "Click [here](#table-of-contents) ⬆️ to return to the Index."
   ]
  },
  {
   "cell_type": "markdown",
   "metadata": {},
   "source": [
    "- `Sales_EUR` == 0:"
   ]
  },
  {
   "cell_type": "code",
   "execution_count": 659,
   "metadata": {},
   "outputs": [
    {
     "data": {
      "text/plain": [
       "9802"
      ]
     },
     "execution_count": 659,
     "metadata": {},
     "output_type": "execute_result"
    }
   ],
   "source": [
    "len(df_sales['Sales_EUR'] == 0)"
   ]
  },
  {
   "cell_type": "markdown",
   "metadata": {},
   "source": [
    "We have 9,802 rows where sales are 0, indicating 'no sales' on those days. Since we will be grouping by month, this won't have a significant impact. However, for now, we will drop these rows to make the dataframe more manageable."
   ]
  },
  {
   "cell_type": "code",
   "execution_count": 660,
   "metadata": {},
   "outputs": [],
   "source": [
    "df_sales.drop(df_sales[df_sales['Sales_EUR'] == 0].index, inplace=True)"
   ]
  },
  {
   "cell_type": "markdown",
   "metadata": {},
   "source": [
    "- `Sales_EUR` Negative Values: Sales_EUR has entries that are negative values. How do they behave? Are they impactful?"
   ]
  },
  {
   "cell_type": "code",
   "execution_count": 661,
   "metadata": {},
   "outputs": [
    {
     "data": {
      "text/plain": [
       "(-506381.17, 41127988.02)"
      ]
     },
     "execution_count": 661,
     "metadata": {},
     "output_type": "execute_result"
    }
   ],
   "source": [
    "# Min and max values of Sales_EUR\n",
    "df_sales['Sales_EUR'].min(), df_sales['Sales_EUR'].max()"
   ]
  },
  {
   "cell_type": "markdown",
   "metadata": {},
   "source": [
    "##### <span style=\"background-color:#000027; padding:5px; border-radius:5px;\">**2.4. Negative Values Analysis**</span> <a id='negative-values'></a> "
   ]
  },
  {
   "cell_type": "markdown",
   "metadata": {},
   "source": [
    ">**Functions**"
   ]
  },
  {
   "cell_type": "code",
   "execution_count": 662,
   "metadata": {},
   "outputs": [],
   "source": [
    "#plot the sales data over a period of time\n",
    "def plot_sales(dataframe, x_column, y_column, title, x_label, y_label):\n",
    "    fig = px.line(dataframe, x=x_column, y=y_column,title=title, \n",
    "                  labels={x_column: x_label, y_column: y_label})\n",
    "\n",
    "    fig.show()"
   ]
  },
  {
   "cell_type": "code",
   "execution_count": 663,
   "metadata": {},
   "outputs": [],
   "source": [
    "#plot the sales data by product\n",
    "def plot_sales_by_product(dataframe, x_column, y_column, title, x_label, y_label):\n",
    "    fig = px.bar(dataframe, x=x_column, y=y_column, title=title, \n",
    "                labels={x_column: x_label, y_column: y_label},\n",
    "                text=y_column)\n",
    "    \n",
    "    fig.update_traces(texttemplate='%{text:.2s}', textposition='outside')\n",
    "    fig.update_layout(xaxis=dict(type='category', tickmode='linear'))\n",
    "    fig.show()"
   ]
  },
  {
   "cell_type": "code",
   "execution_count": 664,
   "metadata": {},
   "outputs": [],
   "source": [
    "#plot the sales data over a period of time by product\n",
    "def plot_sales_by_product_month(dataframe, x_column, y_column, category_column, title, x_label, y_label):\n",
    "    \n",
    "    fig = px.line(dataframe, \n",
    "                  x=x_column, \n",
    "                  y=y_column, \n",
    "                  color=category_column,  # Different lines for each product\n",
    "                  title=title, \n",
    "                  labels={x_column: x_label, y_column: y_label, category_column: \"Product\"})\n",
    "    \n",
    "    fig.update_layout(xaxis=dict(tickangle=-45))  # Rotate x-axis labels for better readability\n",
    "    fig.show()"
   ]
  },
  {
   "cell_type": "code",
   "execution_count": 665,
   "metadata": {},
   "outputs": [],
   "source": [
    "def plot_sales_trends(data, trend_type='linear'):\n",
    "\n",
    "    data['month_year'] = pd.to_datetime(data['month_year'])\n",
    "    unique_products = data['Mapped_GCK'].unique()\n",
    "    \n",
    "    fig = make_subplots(\n",
    "        rows=1, cols=len(unique_products),\n",
    "        subplot_titles=[f'Product {p}' for p in unique_products],\n",
    "        horizontal_spacing=0.02\n",
    "    )\n",
    "    \n",
    "    for i, product in enumerate(unique_products):\n",
    "        product_data = data[data['Mapped_GCK'] == product].copy()\n",
    "        product_data = product_data.sort_values(by='month_year')\n",
    "        \n",
    "        if trend_type == 'linear':\n",
    "            product_data['month_numeric'] = product_data['month_year'].map(pd.Timestamp.toordinal)\n",
    "            slope, intercept, _, _, _ = linregress(product_data['month_numeric'], product_data['Sales_EUR'])\n",
    "            product_data['Trend'] = intercept + slope * product_data['month_numeric']\n",
    "        else:  # Rolling mean trend\n",
    "            product_data['Trend'] = product_data['Sales_EUR'].rolling(window=3, min_periods=1).mean()\n",
    "        \n",
    "        fig.add_trace(\n",
    "            go.Scatter(x=product_data['month_year'], y=product_data['Sales_EUR'],\n",
    "                       mode='lines+markers', name=f'Product {product} Sales',\n",
    "                       line=dict(color='blue')),\n",
    "            row=1, col=i+1)\n",
    "        \n",
    "        fig.add_trace(\n",
    "            go.Scatter(x=product_data['month_year'], y=product_data['Trend'],\n",
    "                       mode='lines', name=f'Product {product} Trend',\n",
    "                       line=dict(color='red', dash='dot')),\n",
    "            row=1, col=i+1)\n",
    "    \n",
    "    fig.update_layout(\n",
    "        title=\"Positive Sales Trends by Product (Monthly)\",\n",
    "        xaxis_title=\"Year-Month\",\n",
    "        yaxis_title=\"Total Positive Sales (EUR)\",\n",
    "        showlegend=False,\n",
    "        height=500, width=500 * len(unique_products),\n",
    "        xaxis=dict(tickangle=-45)\n",
    "    )\n",
    "    \n",
    "    fig.show()"
   ]
  },
  {
   "cell_type": "markdown",
   "metadata": {},
   "source": [
    "> Vizualizations"
   ]
  },
  {
   "cell_type": "code",
   "execution_count": 666,
   "metadata": {},
   "outputs": [],
   "source": [
    "negative_sales = df_sales[df_sales['Sales_EUR'] < 0]"
   ]
  },
  {
   "cell_type": "markdown",
   "metadata": {},
   "source": [
    "`Remarks`  \n",
    "\n",
    "**Negative Values for Sales**  \n",
    "There seems to be no evident pattern for the negative sales values. These might be due to:  \n",
    "\n",
    "- **Dataset Errors**: Errors that occurred during the recording of sales records, such as mistakenly imputing a \"-\", could be a possibility. However, since we have evidence that the system is automated — for instance, all days are recorded even when there are no sales — we can likely exclude human errors.  \n",
    "\n",
    "- **Production Errors Leading to Returns**: Products in the infrastructure sector often involve large, complex systems. Customers might return products due to:\n",
    "\n",
    "    - Defective Components discovered upon installation.\n",
    "    - Wrong Specifications delivered for projects.\n",
    "\n",
    "Returns are typically associated with Refunds or Credit Notes issued after validating customer complaints or issues, resulting in a negative cash flow for the company to offset the positive cash flow generated at the time of purchase.  \n",
    "\n",
    "- **Inventory Reconciliations** where incorrect sales entries are adjusted.\n",
    "\n",
    "---\n"
   ]
  },
  {
   "cell_type": "code",
   "execution_count": 667,
   "metadata": {},
   "outputs": [
    {
     "data": {
      "application/vnd.plotly.v1+json": {
       "config": {
        "plotlyServerURL": "https://plot.ly"
       },
       "data": [
        {
         "hovertemplate": "month_year=%{x}<br>Total Sales (EUR)=%{y}<extra></extra>",
         "legendgroup": "",
         "line": {
          "color": "#636efa",
          "dash": "solid"
         },
         "marker": {
          "symbol": "circle"
         },
         "mode": "lines",
         "name": "",
         "orientation": "v",
         "showlegend": false,
         "type": "scatter",
         "x": [
          "2018-11",
          "2018-12",
          "2019-01",
          "2019-02",
          "2019-03",
          "2019-04",
          "2019-05",
          "2019-06",
          "2019-07",
          "2019-08",
          "2019-09",
          "2019-10",
          "2019-11",
          "2019-12",
          "2020-01",
          "2020-02",
          "2020-03",
          "2020-04",
          "2020-05",
          "2020-06",
          "2020-07",
          "2020-08",
          "2020-09",
          "2020-10",
          "2020-11",
          "2020-12",
          "2021-01",
          "2021-02",
          "2021-03",
          "2021-04",
          "2021-05",
          "2021-06",
          "2021-07",
          "2021-08",
          "2021-09",
          "2021-10",
          "2021-11",
          "2021-12",
          "2022-01",
          "2022-02",
          "2022-03",
          "2022-04"
         ],
         "xaxis": "x",
         "y": [
          -10326.08,
          -269525.63,
          -150764.52,
          -80067.08,
          -542921.01,
          -268913.78,
          -101034.64,
          -152573.5,
          -144452.91,
          -206842.92,
          -316458.06,
          -483286.83,
          -80639.70999999999,
          -528080.53,
          -846743.67,
          -124393.28,
          -273290.91,
          -102470.69,
          -11393.5,
          -87616.22,
          -42620.51,
          -21114.42,
          -280.9,
          -37479.64,
          -517737.64999999997,
          -35591.68,
          -2942.36,
          -10794.119999999999,
          -49612.08,
          -406769.36,
          -62606.71,
          -10410.22,
          -26530.96,
          -45969.16,
          -384558.63,
          -338614.71,
          -122317.03,
          -144557.16,
          -260462.89,
          -112345.09,
          -7713.5199999999995,
          -184288.15999999997
         ],
         "yaxis": "y"
        }
       ],
       "layout": {
        "legend": {
         "tracegroupgap": 0
        },
        "template": {
         "data": {
          "bar": [
           {
            "error_x": {
             "color": "#2a3f5f"
            },
            "error_y": {
             "color": "#2a3f5f"
            },
            "marker": {
             "line": {
              "color": "#E5ECF6",
              "width": 0.5
             },
             "pattern": {
              "fillmode": "overlay",
              "size": 10,
              "solidity": 0.2
             }
            },
            "type": "bar"
           }
          ],
          "barpolar": [
           {
            "marker": {
             "line": {
              "color": "#E5ECF6",
              "width": 0.5
             },
             "pattern": {
              "fillmode": "overlay",
              "size": 10,
              "solidity": 0.2
             }
            },
            "type": "barpolar"
           }
          ],
          "carpet": [
           {
            "aaxis": {
             "endlinecolor": "#2a3f5f",
             "gridcolor": "white",
             "linecolor": "white",
             "minorgridcolor": "white",
             "startlinecolor": "#2a3f5f"
            },
            "baxis": {
             "endlinecolor": "#2a3f5f",
             "gridcolor": "white",
             "linecolor": "white",
             "minorgridcolor": "white",
             "startlinecolor": "#2a3f5f"
            },
            "type": "carpet"
           }
          ],
          "choropleth": [
           {
            "colorbar": {
             "outlinewidth": 0,
             "ticks": ""
            },
            "type": "choropleth"
           }
          ],
          "contour": [
           {
            "colorbar": {
             "outlinewidth": 0,
             "ticks": ""
            },
            "colorscale": [
             [
              0,
              "#0d0887"
             ],
             [
              0.1111111111111111,
              "#46039f"
             ],
             [
              0.2222222222222222,
              "#7201a8"
             ],
             [
              0.3333333333333333,
              "#9c179e"
             ],
             [
              0.4444444444444444,
              "#bd3786"
             ],
             [
              0.5555555555555556,
              "#d8576b"
             ],
             [
              0.6666666666666666,
              "#ed7953"
             ],
             [
              0.7777777777777778,
              "#fb9f3a"
             ],
             [
              0.8888888888888888,
              "#fdca26"
             ],
             [
              1,
              "#f0f921"
             ]
            ],
            "type": "contour"
           }
          ],
          "contourcarpet": [
           {
            "colorbar": {
             "outlinewidth": 0,
             "ticks": ""
            },
            "type": "contourcarpet"
           }
          ],
          "heatmap": [
           {
            "colorbar": {
             "outlinewidth": 0,
             "ticks": ""
            },
            "colorscale": [
             [
              0,
              "#0d0887"
             ],
             [
              0.1111111111111111,
              "#46039f"
             ],
             [
              0.2222222222222222,
              "#7201a8"
             ],
             [
              0.3333333333333333,
              "#9c179e"
             ],
             [
              0.4444444444444444,
              "#bd3786"
             ],
             [
              0.5555555555555556,
              "#d8576b"
             ],
             [
              0.6666666666666666,
              "#ed7953"
             ],
             [
              0.7777777777777778,
              "#fb9f3a"
             ],
             [
              0.8888888888888888,
              "#fdca26"
             ],
             [
              1,
              "#f0f921"
             ]
            ],
            "type": "heatmap"
           }
          ],
          "heatmapgl": [
           {
            "colorbar": {
             "outlinewidth": 0,
             "ticks": ""
            },
            "colorscale": [
             [
              0,
              "#0d0887"
             ],
             [
              0.1111111111111111,
              "#46039f"
             ],
             [
              0.2222222222222222,
              "#7201a8"
             ],
             [
              0.3333333333333333,
              "#9c179e"
             ],
             [
              0.4444444444444444,
              "#bd3786"
             ],
             [
              0.5555555555555556,
              "#d8576b"
             ],
             [
              0.6666666666666666,
              "#ed7953"
             ],
             [
              0.7777777777777778,
              "#fb9f3a"
             ],
             [
              0.8888888888888888,
              "#fdca26"
             ],
             [
              1,
              "#f0f921"
             ]
            ],
            "type": "heatmapgl"
           }
          ],
          "histogram": [
           {
            "marker": {
             "pattern": {
              "fillmode": "overlay",
              "size": 10,
              "solidity": 0.2
             }
            },
            "type": "histogram"
           }
          ],
          "histogram2d": [
           {
            "colorbar": {
             "outlinewidth": 0,
             "ticks": ""
            },
            "colorscale": [
             [
              0,
              "#0d0887"
             ],
             [
              0.1111111111111111,
              "#46039f"
             ],
             [
              0.2222222222222222,
              "#7201a8"
             ],
             [
              0.3333333333333333,
              "#9c179e"
             ],
             [
              0.4444444444444444,
              "#bd3786"
             ],
             [
              0.5555555555555556,
              "#d8576b"
             ],
             [
              0.6666666666666666,
              "#ed7953"
             ],
             [
              0.7777777777777778,
              "#fb9f3a"
             ],
             [
              0.8888888888888888,
              "#fdca26"
             ],
             [
              1,
              "#f0f921"
             ]
            ],
            "type": "histogram2d"
           }
          ],
          "histogram2dcontour": [
           {
            "colorbar": {
             "outlinewidth": 0,
             "ticks": ""
            },
            "colorscale": [
             [
              0,
              "#0d0887"
             ],
             [
              0.1111111111111111,
              "#46039f"
             ],
             [
              0.2222222222222222,
              "#7201a8"
             ],
             [
              0.3333333333333333,
              "#9c179e"
             ],
             [
              0.4444444444444444,
              "#bd3786"
             ],
             [
              0.5555555555555556,
              "#d8576b"
             ],
             [
              0.6666666666666666,
              "#ed7953"
             ],
             [
              0.7777777777777778,
              "#fb9f3a"
             ],
             [
              0.8888888888888888,
              "#fdca26"
             ],
             [
              1,
              "#f0f921"
             ]
            ],
            "type": "histogram2dcontour"
           }
          ],
          "mesh3d": [
           {
            "colorbar": {
             "outlinewidth": 0,
             "ticks": ""
            },
            "type": "mesh3d"
           }
          ],
          "parcoords": [
           {
            "line": {
             "colorbar": {
              "outlinewidth": 0,
              "ticks": ""
             }
            },
            "type": "parcoords"
           }
          ],
          "pie": [
           {
            "automargin": true,
            "type": "pie"
           }
          ],
          "scatter": [
           {
            "fillpattern": {
             "fillmode": "overlay",
             "size": 10,
             "solidity": 0.2
            },
            "type": "scatter"
           }
          ],
          "scatter3d": [
           {
            "line": {
             "colorbar": {
              "outlinewidth": 0,
              "ticks": ""
             }
            },
            "marker": {
             "colorbar": {
              "outlinewidth": 0,
              "ticks": ""
             }
            },
            "type": "scatter3d"
           }
          ],
          "scattercarpet": [
           {
            "marker": {
             "colorbar": {
              "outlinewidth": 0,
              "ticks": ""
             }
            },
            "type": "scattercarpet"
           }
          ],
          "scattergeo": [
           {
            "marker": {
             "colorbar": {
              "outlinewidth": 0,
              "ticks": ""
             }
            },
            "type": "scattergeo"
           }
          ],
          "scattergl": [
           {
            "marker": {
             "colorbar": {
              "outlinewidth": 0,
              "ticks": ""
             }
            },
            "type": "scattergl"
           }
          ],
          "scattermapbox": [
           {
            "marker": {
             "colorbar": {
              "outlinewidth": 0,
              "ticks": ""
             }
            },
            "type": "scattermapbox"
           }
          ],
          "scatterpolar": [
           {
            "marker": {
             "colorbar": {
              "outlinewidth": 0,
              "ticks": ""
             }
            },
            "type": "scatterpolar"
           }
          ],
          "scatterpolargl": [
           {
            "marker": {
             "colorbar": {
              "outlinewidth": 0,
              "ticks": ""
             }
            },
            "type": "scatterpolargl"
           }
          ],
          "scatterternary": [
           {
            "marker": {
             "colorbar": {
              "outlinewidth": 0,
              "ticks": ""
             }
            },
            "type": "scatterternary"
           }
          ],
          "surface": [
           {
            "colorbar": {
             "outlinewidth": 0,
             "ticks": ""
            },
            "colorscale": [
             [
              0,
              "#0d0887"
             ],
             [
              0.1111111111111111,
              "#46039f"
             ],
             [
              0.2222222222222222,
              "#7201a8"
             ],
             [
              0.3333333333333333,
              "#9c179e"
             ],
             [
              0.4444444444444444,
              "#bd3786"
             ],
             [
              0.5555555555555556,
              "#d8576b"
             ],
             [
              0.6666666666666666,
              "#ed7953"
             ],
             [
              0.7777777777777778,
              "#fb9f3a"
             ],
             [
              0.8888888888888888,
              "#fdca26"
             ],
             [
              1,
              "#f0f921"
             ]
            ],
            "type": "surface"
           }
          ],
          "table": [
           {
            "cells": {
             "fill": {
              "color": "#EBF0F8"
             },
             "line": {
              "color": "white"
             }
            },
            "header": {
             "fill": {
              "color": "#C8D4E3"
             },
             "line": {
              "color": "white"
             }
            },
            "type": "table"
           }
          ]
         },
         "layout": {
          "annotationdefaults": {
           "arrowcolor": "#2a3f5f",
           "arrowhead": 0,
           "arrowwidth": 1
          },
          "autotypenumbers": "strict",
          "coloraxis": {
           "colorbar": {
            "outlinewidth": 0,
            "ticks": ""
           }
          },
          "colorscale": {
           "diverging": [
            [
             0,
             "#8e0152"
            ],
            [
             0.1,
             "#c51b7d"
            ],
            [
             0.2,
             "#de77ae"
            ],
            [
             0.3,
             "#f1b6da"
            ],
            [
             0.4,
             "#fde0ef"
            ],
            [
             0.5,
             "#f7f7f7"
            ],
            [
             0.6,
             "#e6f5d0"
            ],
            [
             0.7,
             "#b8e186"
            ],
            [
             0.8,
             "#7fbc41"
            ],
            [
             0.9,
             "#4d9221"
            ],
            [
             1,
             "#276419"
            ]
           ],
           "sequential": [
            [
             0,
             "#0d0887"
            ],
            [
             0.1111111111111111,
             "#46039f"
            ],
            [
             0.2222222222222222,
             "#7201a8"
            ],
            [
             0.3333333333333333,
             "#9c179e"
            ],
            [
             0.4444444444444444,
             "#bd3786"
            ],
            [
             0.5555555555555556,
             "#d8576b"
            ],
            [
             0.6666666666666666,
             "#ed7953"
            ],
            [
             0.7777777777777778,
             "#fb9f3a"
            ],
            [
             0.8888888888888888,
             "#fdca26"
            ],
            [
             1,
             "#f0f921"
            ]
           ],
           "sequentialminus": [
            [
             0,
             "#0d0887"
            ],
            [
             0.1111111111111111,
             "#46039f"
            ],
            [
             0.2222222222222222,
             "#7201a8"
            ],
            [
             0.3333333333333333,
             "#9c179e"
            ],
            [
             0.4444444444444444,
             "#bd3786"
            ],
            [
             0.5555555555555556,
             "#d8576b"
            ],
            [
             0.6666666666666666,
             "#ed7953"
            ],
            [
             0.7777777777777778,
             "#fb9f3a"
            ],
            [
             0.8888888888888888,
             "#fdca26"
            ],
            [
             1,
             "#f0f921"
            ]
           ]
          },
          "colorway": [
           "#636efa",
           "#EF553B",
           "#00cc96",
           "#ab63fa",
           "#FFA15A",
           "#19d3f3",
           "#FF6692",
           "#B6E880",
           "#FF97FF",
           "#FECB52"
          ],
          "font": {
           "color": "#2a3f5f"
          },
          "geo": {
           "bgcolor": "white",
           "lakecolor": "white",
           "landcolor": "#E5ECF6",
           "showlakes": true,
           "showland": true,
           "subunitcolor": "white"
          },
          "hoverlabel": {
           "align": "left"
          },
          "hovermode": "closest",
          "mapbox": {
           "style": "light"
          },
          "paper_bgcolor": "white",
          "plot_bgcolor": "#E5ECF6",
          "polar": {
           "angularaxis": {
            "gridcolor": "white",
            "linecolor": "white",
            "ticks": ""
           },
           "bgcolor": "#E5ECF6",
           "radialaxis": {
            "gridcolor": "white",
            "linecolor": "white",
            "ticks": ""
           }
          },
          "scene": {
           "xaxis": {
            "backgroundcolor": "#E5ECF6",
            "gridcolor": "white",
            "gridwidth": 2,
            "linecolor": "white",
            "showbackground": true,
            "ticks": "",
            "zerolinecolor": "white"
           },
           "yaxis": {
            "backgroundcolor": "#E5ECF6",
            "gridcolor": "white",
            "gridwidth": 2,
            "linecolor": "white",
            "showbackground": true,
            "ticks": "",
            "zerolinecolor": "white"
           },
           "zaxis": {
            "backgroundcolor": "#E5ECF6",
            "gridcolor": "white",
            "gridwidth": 2,
            "linecolor": "white",
            "showbackground": true,
            "ticks": "",
            "zerolinecolor": "white"
           }
          },
          "shapedefaults": {
           "line": {
            "color": "#2a3f5f"
           }
          },
          "ternary": {
           "aaxis": {
            "gridcolor": "white",
            "linecolor": "white",
            "ticks": ""
           },
           "baxis": {
            "gridcolor": "white",
            "linecolor": "white",
            "ticks": ""
           },
           "bgcolor": "#E5ECF6",
           "caxis": {
            "gridcolor": "white",
            "linecolor": "white",
            "ticks": ""
           }
          },
          "title": {
           "x": 0.05
          },
          "xaxis": {
           "automargin": true,
           "gridcolor": "white",
           "linecolor": "white",
           "ticks": "",
           "title": {
            "standoff": 15
           },
           "zerolinecolor": "white",
           "zerolinewidth": 2
          },
          "yaxis": {
           "automargin": true,
           "gridcolor": "white",
           "linecolor": "white",
           "ticks": "",
           "title": {
            "standoff": 15
           },
           "zerolinecolor": "white",
           "zerolinewidth": 2
          }
         }
        },
        "title": {
         "text": "Negative Sales by Month"
        },
        "xaxis": {
         "anchor": "y",
         "domain": [
          0,
          1
         ],
         "title": {
          "text": "month_year"
         }
        },
        "yaxis": {
         "anchor": "x",
         "domain": [
          0,
          1
         ],
         "title": {
          "text": "Total Sales (EUR)"
         }
        }
       }
      }
     },
     "metadata": {},
     "output_type": "display_data"
    }
   ],
   "source": [
    "grouped_negative_sales_month = negative_sales.groupby('month_year')['Sales_EUR'].sum().reset_index()\n",
    "\n",
    "grouped_negative_sales_month['month_year'] = grouped_negative_sales_month['month_year'].astype(str)\n",
    "\n",
    "plot_sales(grouped_negative_sales_month, \n",
    "    'month_year', 'Sales_EUR', 'Negative Sales by Month', \n",
    "    'month_year', 'Total Sales (EUR)')"
   ]
  },
  {
   "cell_type": "markdown",
   "metadata": {},
   "source": [
    "- At first glance, no evident pattern emerged from the Negative Sales by Month plot. However, the analysis highlights January 2020 as a significant negative month, with a much higher volume of negative sales compared to other months, potentially indicating production errors in a specific product group.\n",
    "\n",
    "- Excluding this outlier, a subtle pattern can be observed: sales tend to drop noticeably twice a year — once in the first half and once in the second — although the exact months vary.\n",
    "\n",
    "- This analysis is particularly important because our task involves forecasting product sales based on these values BUT a key part of our role is to uncover patterns that may help prevent future quality issues. If we identify a consistent pattern of returns, we could, with supplementary information, trace the affected product lot and detect potential operational issues that need to be addressed."
   ]
  },
  {
   "cell_type": "code",
   "execution_count": 668,
   "metadata": {},
   "outputs": [
    {
     "name": "stderr",
     "output_type": "stream",
     "text": [
      "C:\\Users\\marga\\AppData\\Local\\Temp\\ipykernel_15752\\3183730899.py:1: SettingWithCopyWarning:\n",
      "\n",
      "\n",
      "A value is trying to be set on a copy of a slice from a DataFrame.\n",
      "Try using .loc[row_indexer,col_indexer] = value instead\n",
      "\n",
      "See the caveats in the documentation: https://pandas.pydata.org/pandas-docs/stable/user_guide/indexing.html#returning-a-view-versus-a-copy\n",
      "\n"
     ]
    },
    {
     "data": {
      "application/vnd.plotly.v1+json": {
       "config": {
        "plotlyServerURL": "https://plot.ly"
       },
       "data": [
        {
         "hovertemplate": "Day=%{x}<br>Total Sales (EUR)=%{y}<extra></extra>",
         "legendgroup": "",
         "line": {
          "color": "#636efa",
          "dash": "solid"
         },
         "marker": {
          "symbol": "circle"
         },
         "mode": "lines",
         "name": "",
         "orientation": "v",
         "showlegend": false,
         "type": "scatter",
         "x": [
          "1",
          "2",
          "3",
          "4",
          "5",
          "6",
          "7",
          "8",
          "9",
          "10",
          "11",
          "12",
          "13",
          "14",
          "15",
          "16",
          "17",
          "18",
          "19",
          "20",
          "21",
          "22",
          "23",
          "24",
          "25",
          "26",
          "27",
          "28",
          "29",
          "30",
          "31"
         ],
         "xaxis": "x",
         "y": [
          -436191.65,
          -1759335.08,
          -1515505.42,
          -1311725.85,
          -17474.380000000005,
          -501377.09,
          -161155.43,
          -205887.59,
          -7992.17,
          -6829.04,
          -52131.399999999994,
          -82682.42,
          -16785.28,
          -43472.659999999996,
          -558.8,
          -2425.8,
          -382080.44,
          -3287,
          -3793.66,
          -282905.5,
          -68454.2,
          -475987.87,
          -27202.79,
          -85388.39,
          -46398,
          -24700.739999999998,
          -50662.600000000006,
          -12005.21,
          -1221.1399999999999,
          -21397.29,
          -97.53999999999999
         ],
         "yaxis": "y"
        }
       ],
       "layout": {
        "legend": {
         "tracegroupgap": 0
        },
        "template": {
         "data": {
          "bar": [
           {
            "error_x": {
             "color": "#2a3f5f"
            },
            "error_y": {
             "color": "#2a3f5f"
            },
            "marker": {
             "line": {
              "color": "#E5ECF6",
              "width": 0.5
             },
             "pattern": {
              "fillmode": "overlay",
              "size": 10,
              "solidity": 0.2
             }
            },
            "type": "bar"
           }
          ],
          "barpolar": [
           {
            "marker": {
             "line": {
              "color": "#E5ECF6",
              "width": 0.5
             },
             "pattern": {
              "fillmode": "overlay",
              "size": 10,
              "solidity": 0.2
             }
            },
            "type": "barpolar"
           }
          ],
          "carpet": [
           {
            "aaxis": {
             "endlinecolor": "#2a3f5f",
             "gridcolor": "white",
             "linecolor": "white",
             "minorgridcolor": "white",
             "startlinecolor": "#2a3f5f"
            },
            "baxis": {
             "endlinecolor": "#2a3f5f",
             "gridcolor": "white",
             "linecolor": "white",
             "minorgridcolor": "white",
             "startlinecolor": "#2a3f5f"
            },
            "type": "carpet"
           }
          ],
          "choropleth": [
           {
            "colorbar": {
             "outlinewidth": 0,
             "ticks": ""
            },
            "type": "choropleth"
           }
          ],
          "contour": [
           {
            "colorbar": {
             "outlinewidth": 0,
             "ticks": ""
            },
            "colorscale": [
             [
              0,
              "#0d0887"
             ],
             [
              0.1111111111111111,
              "#46039f"
             ],
             [
              0.2222222222222222,
              "#7201a8"
             ],
             [
              0.3333333333333333,
              "#9c179e"
             ],
             [
              0.4444444444444444,
              "#bd3786"
             ],
             [
              0.5555555555555556,
              "#d8576b"
             ],
             [
              0.6666666666666666,
              "#ed7953"
             ],
             [
              0.7777777777777778,
              "#fb9f3a"
             ],
             [
              0.8888888888888888,
              "#fdca26"
             ],
             [
              1,
              "#f0f921"
             ]
            ],
            "type": "contour"
           }
          ],
          "contourcarpet": [
           {
            "colorbar": {
             "outlinewidth": 0,
             "ticks": ""
            },
            "type": "contourcarpet"
           }
          ],
          "heatmap": [
           {
            "colorbar": {
             "outlinewidth": 0,
             "ticks": ""
            },
            "colorscale": [
             [
              0,
              "#0d0887"
             ],
             [
              0.1111111111111111,
              "#46039f"
             ],
             [
              0.2222222222222222,
              "#7201a8"
             ],
             [
              0.3333333333333333,
              "#9c179e"
             ],
             [
              0.4444444444444444,
              "#bd3786"
             ],
             [
              0.5555555555555556,
              "#d8576b"
             ],
             [
              0.6666666666666666,
              "#ed7953"
             ],
             [
              0.7777777777777778,
              "#fb9f3a"
             ],
             [
              0.8888888888888888,
              "#fdca26"
             ],
             [
              1,
              "#f0f921"
             ]
            ],
            "type": "heatmap"
           }
          ],
          "heatmapgl": [
           {
            "colorbar": {
             "outlinewidth": 0,
             "ticks": ""
            },
            "colorscale": [
             [
              0,
              "#0d0887"
             ],
             [
              0.1111111111111111,
              "#46039f"
             ],
             [
              0.2222222222222222,
              "#7201a8"
             ],
             [
              0.3333333333333333,
              "#9c179e"
             ],
             [
              0.4444444444444444,
              "#bd3786"
             ],
             [
              0.5555555555555556,
              "#d8576b"
             ],
             [
              0.6666666666666666,
              "#ed7953"
             ],
             [
              0.7777777777777778,
              "#fb9f3a"
             ],
             [
              0.8888888888888888,
              "#fdca26"
             ],
             [
              1,
              "#f0f921"
             ]
            ],
            "type": "heatmapgl"
           }
          ],
          "histogram": [
           {
            "marker": {
             "pattern": {
              "fillmode": "overlay",
              "size": 10,
              "solidity": 0.2
             }
            },
            "type": "histogram"
           }
          ],
          "histogram2d": [
           {
            "colorbar": {
             "outlinewidth": 0,
             "ticks": ""
            },
            "colorscale": [
             [
              0,
              "#0d0887"
             ],
             [
              0.1111111111111111,
              "#46039f"
             ],
             [
              0.2222222222222222,
              "#7201a8"
             ],
             [
              0.3333333333333333,
              "#9c179e"
             ],
             [
              0.4444444444444444,
              "#bd3786"
             ],
             [
              0.5555555555555556,
              "#d8576b"
             ],
             [
              0.6666666666666666,
              "#ed7953"
             ],
             [
              0.7777777777777778,
              "#fb9f3a"
             ],
             [
              0.8888888888888888,
              "#fdca26"
             ],
             [
              1,
              "#f0f921"
             ]
            ],
            "type": "histogram2d"
           }
          ],
          "histogram2dcontour": [
           {
            "colorbar": {
             "outlinewidth": 0,
             "ticks": ""
            },
            "colorscale": [
             [
              0,
              "#0d0887"
             ],
             [
              0.1111111111111111,
              "#46039f"
             ],
             [
              0.2222222222222222,
              "#7201a8"
             ],
             [
              0.3333333333333333,
              "#9c179e"
             ],
             [
              0.4444444444444444,
              "#bd3786"
             ],
             [
              0.5555555555555556,
              "#d8576b"
             ],
             [
              0.6666666666666666,
              "#ed7953"
             ],
             [
              0.7777777777777778,
              "#fb9f3a"
             ],
             [
              0.8888888888888888,
              "#fdca26"
             ],
             [
              1,
              "#f0f921"
             ]
            ],
            "type": "histogram2dcontour"
           }
          ],
          "mesh3d": [
           {
            "colorbar": {
             "outlinewidth": 0,
             "ticks": ""
            },
            "type": "mesh3d"
           }
          ],
          "parcoords": [
           {
            "line": {
             "colorbar": {
              "outlinewidth": 0,
              "ticks": ""
             }
            },
            "type": "parcoords"
           }
          ],
          "pie": [
           {
            "automargin": true,
            "type": "pie"
           }
          ],
          "scatter": [
           {
            "fillpattern": {
             "fillmode": "overlay",
             "size": 10,
             "solidity": 0.2
            },
            "type": "scatter"
           }
          ],
          "scatter3d": [
           {
            "line": {
             "colorbar": {
              "outlinewidth": 0,
              "ticks": ""
             }
            },
            "marker": {
             "colorbar": {
              "outlinewidth": 0,
              "ticks": ""
             }
            },
            "type": "scatter3d"
           }
          ],
          "scattercarpet": [
           {
            "marker": {
             "colorbar": {
              "outlinewidth": 0,
              "ticks": ""
             }
            },
            "type": "scattercarpet"
           }
          ],
          "scattergeo": [
           {
            "marker": {
             "colorbar": {
              "outlinewidth": 0,
              "ticks": ""
             }
            },
            "type": "scattergeo"
           }
          ],
          "scattergl": [
           {
            "marker": {
             "colorbar": {
              "outlinewidth": 0,
              "ticks": ""
             }
            },
            "type": "scattergl"
           }
          ],
          "scattermapbox": [
           {
            "marker": {
             "colorbar": {
              "outlinewidth": 0,
              "ticks": ""
             }
            },
            "type": "scattermapbox"
           }
          ],
          "scatterpolar": [
           {
            "marker": {
             "colorbar": {
              "outlinewidth": 0,
              "ticks": ""
             }
            },
            "type": "scatterpolar"
           }
          ],
          "scatterpolargl": [
           {
            "marker": {
             "colorbar": {
              "outlinewidth": 0,
              "ticks": ""
             }
            },
            "type": "scatterpolargl"
           }
          ],
          "scatterternary": [
           {
            "marker": {
             "colorbar": {
              "outlinewidth": 0,
              "ticks": ""
             }
            },
            "type": "scatterternary"
           }
          ],
          "surface": [
           {
            "colorbar": {
             "outlinewidth": 0,
             "ticks": ""
            },
            "colorscale": [
             [
              0,
              "#0d0887"
             ],
             [
              0.1111111111111111,
              "#46039f"
             ],
             [
              0.2222222222222222,
              "#7201a8"
             ],
             [
              0.3333333333333333,
              "#9c179e"
             ],
             [
              0.4444444444444444,
              "#bd3786"
             ],
             [
              0.5555555555555556,
              "#d8576b"
             ],
             [
              0.6666666666666666,
              "#ed7953"
             ],
             [
              0.7777777777777778,
              "#fb9f3a"
             ],
             [
              0.8888888888888888,
              "#fdca26"
             ],
             [
              1,
              "#f0f921"
             ]
            ],
            "type": "surface"
           }
          ],
          "table": [
           {
            "cells": {
             "fill": {
              "color": "#EBF0F8"
             },
             "line": {
              "color": "white"
             }
            },
            "header": {
             "fill": {
              "color": "#C8D4E3"
             },
             "line": {
              "color": "white"
             }
            },
            "type": "table"
           }
          ]
         },
         "layout": {
          "annotationdefaults": {
           "arrowcolor": "#2a3f5f",
           "arrowhead": 0,
           "arrowwidth": 1
          },
          "autotypenumbers": "strict",
          "coloraxis": {
           "colorbar": {
            "outlinewidth": 0,
            "ticks": ""
           }
          },
          "colorscale": {
           "diverging": [
            [
             0,
             "#8e0152"
            ],
            [
             0.1,
             "#c51b7d"
            ],
            [
             0.2,
             "#de77ae"
            ],
            [
             0.3,
             "#f1b6da"
            ],
            [
             0.4,
             "#fde0ef"
            ],
            [
             0.5,
             "#f7f7f7"
            ],
            [
             0.6,
             "#e6f5d0"
            ],
            [
             0.7,
             "#b8e186"
            ],
            [
             0.8,
             "#7fbc41"
            ],
            [
             0.9,
             "#4d9221"
            ],
            [
             1,
             "#276419"
            ]
           ],
           "sequential": [
            [
             0,
             "#0d0887"
            ],
            [
             0.1111111111111111,
             "#46039f"
            ],
            [
             0.2222222222222222,
             "#7201a8"
            ],
            [
             0.3333333333333333,
             "#9c179e"
            ],
            [
             0.4444444444444444,
             "#bd3786"
            ],
            [
             0.5555555555555556,
             "#d8576b"
            ],
            [
             0.6666666666666666,
             "#ed7953"
            ],
            [
             0.7777777777777778,
             "#fb9f3a"
            ],
            [
             0.8888888888888888,
             "#fdca26"
            ],
            [
             1,
             "#f0f921"
            ]
           ],
           "sequentialminus": [
            [
             0,
             "#0d0887"
            ],
            [
             0.1111111111111111,
             "#46039f"
            ],
            [
             0.2222222222222222,
             "#7201a8"
            ],
            [
             0.3333333333333333,
             "#9c179e"
            ],
            [
             0.4444444444444444,
             "#bd3786"
            ],
            [
             0.5555555555555556,
             "#d8576b"
            ],
            [
             0.6666666666666666,
             "#ed7953"
            ],
            [
             0.7777777777777778,
             "#fb9f3a"
            ],
            [
             0.8888888888888888,
             "#fdca26"
            ],
            [
             1,
             "#f0f921"
            ]
           ]
          },
          "colorway": [
           "#636efa",
           "#EF553B",
           "#00cc96",
           "#ab63fa",
           "#FFA15A",
           "#19d3f3",
           "#FF6692",
           "#B6E880",
           "#FF97FF",
           "#FECB52"
          ],
          "font": {
           "color": "#2a3f5f"
          },
          "geo": {
           "bgcolor": "white",
           "lakecolor": "white",
           "landcolor": "#E5ECF6",
           "showlakes": true,
           "showland": true,
           "subunitcolor": "white"
          },
          "hoverlabel": {
           "align": "left"
          },
          "hovermode": "closest",
          "mapbox": {
           "style": "light"
          },
          "paper_bgcolor": "white",
          "plot_bgcolor": "#E5ECF6",
          "polar": {
           "angularaxis": {
            "gridcolor": "white",
            "linecolor": "white",
            "ticks": ""
           },
           "bgcolor": "#E5ECF6",
           "radialaxis": {
            "gridcolor": "white",
            "linecolor": "white",
            "ticks": ""
           }
          },
          "scene": {
           "xaxis": {
            "backgroundcolor": "#E5ECF6",
            "gridcolor": "white",
            "gridwidth": 2,
            "linecolor": "white",
            "showbackground": true,
            "ticks": "",
            "zerolinecolor": "white"
           },
           "yaxis": {
            "backgroundcolor": "#E5ECF6",
            "gridcolor": "white",
            "gridwidth": 2,
            "linecolor": "white",
            "showbackground": true,
            "ticks": "",
            "zerolinecolor": "white"
           },
           "zaxis": {
            "backgroundcolor": "#E5ECF6",
            "gridcolor": "white",
            "gridwidth": 2,
            "linecolor": "white",
            "showbackground": true,
            "ticks": "",
            "zerolinecolor": "white"
           }
          },
          "shapedefaults": {
           "line": {
            "color": "#2a3f5f"
           }
          },
          "ternary": {
           "aaxis": {
            "gridcolor": "white",
            "linecolor": "white",
            "ticks": ""
           },
           "baxis": {
            "gridcolor": "white",
            "linecolor": "white",
            "ticks": ""
           },
           "bgcolor": "#E5ECF6",
           "caxis": {
            "gridcolor": "white",
            "linecolor": "white",
            "ticks": ""
           }
          },
          "title": {
           "x": 0.05
          },
          "xaxis": {
           "automargin": true,
           "gridcolor": "white",
           "linecolor": "white",
           "ticks": "",
           "title": {
            "standoff": 15
           },
           "zerolinecolor": "white",
           "zerolinewidth": 2
          },
          "yaxis": {
           "automargin": true,
           "gridcolor": "white",
           "linecolor": "white",
           "ticks": "",
           "title": {
            "standoff": 15
           },
           "zerolinecolor": "white",
           "zerolinewidth": 2
          }
         }
        },
        "title": {
         "text": "Negative Sales by Day"
        },
        "xaxis": {
         "anchor": "y",
         "domain": [
          0,
          1
         ],
         "title": {
          "text": "Day"
         }
        },
        "yaxis": {
         "anchor": "x",
         "domain": [
          0,
          1
         ],
         "title": {
          "text": "Total Sales (EUR)"
         }
        }
       }
      }
     },
     "metadata": {},
     "output_type": "display_data"
    }
   ],
   "source": [
    "negative_sales.loc[:, 'Day'] = negative_sales['DATE'].dt.day\n",
    "grouped_negative_sales_day = negative_sales.groupby('Day')['Sales_EUR'].sum().reset_index()\n",
    "\n",
    "grouped_negative_sales_day['Day'] = grouped_negative_sales_day['Day'].astype(str)\n",
    "\n",
    "plot_sales(grouped_negative_sales_day, 'Day', 'Sales_EUR', 'Negative Sales by Day', 'Day', 'Total Sales (EUR)')"
   ]
  },
  {
   "cell_type": "markdown",
   "metadata": {},
   "source": [
    "**Observations from the Negative Sales by Day Plot**\n",
    "\n",
    "The plot reveals a tendency for higher negative sales at the start of the month, which gradually decrease as the month progresses. A secondary peak is also observed around the 20th day. These trends might be explained by:\n",
    "\n",
    "- Return Logistics: The returns are frequently processed in batches on specific days, especially around the end or beginning of a financial cycle. It is possible that Siemens, as a large manufacturer, may also have centralized financial processes that generate bulk adjustments at the beginning of each month, contributing to the observed spikes."
   ]
  },
  {
   "cell_type": "markdown",
   "metadata": {},
   "source": [
    "> Negative sales by Product:"
   ]
  },
  {
   "cell_type": "code",
   "execution_count": 669,
   "metadata": {},
   "outputs": [
    {
     "data": {
      "application/vnd.plotly.v1+json": {
       "config": {
        "plotlyServerURL": "https://plot.ly"
       },
       "data": [
        {
         "alignmentgroup": "True",
         "hovertemplate": "Product Group=%{x}<br>Total Negative Sales (EUR)=%{text}<extra></extra>",
         "legendgroup": "",
         "marker": {
          "color": "#636efa",
          "pattern": {
           "shape": ""
          }
         },
         "name": "",
         "offsetgroup": "",
         "orientation": "v",
         "showlegend": false,
         "text": [
          -2555108.71,
          -1203233,
          -114909.56,
          -2376417.57,
          -421276.71,
          -76369.76,
          -10374.71,
          -518733.38,
          -15487.76,
          -193.1,
          -13143.55,
          -288439.22,
          -39.629999999999995,
          -13385.77
         ],
         "textposition": "outside",
         "texttemplate": "%{text:.2s}",
         "type": "bar",
         "x": [
          1,
          3,
          4,
          5,
          6,
          8,
          9,
          11,
          12,
          13,
          14,
          16,
          20,
          36
         ],
         "xaxis": "x",
         "y": [
          -2555108.71,
          -1203233,
          -114909.56,
          -2376417.57,
          -421276.71,
          -76369.76,
          -10374.71,
          -518733.38,
          -15487.76,
          -193.1,
          -13143.55,
          -288439.22,
          -39.629999999999995,
          -13385.77
         ],
         "yaxis": "y"
        }
       ],
       "layout": {
        "barmode": "relative",
        "legend": {
         "tracegroupgap": 0
        },
        "template": {
         "data": {
          "bar": [
           {
            "error_x": {
             "color": "#2a3f5f"
            },
            "error_y": {
             "color": "#2a3f5f"
            },
            "marker": {
             "line": {
              "color": "#E5ECF6",
              "width": 0.5
             },
             "pattern": {
              "fillmode": "overlay",
              "size": 10,
              "solidity": 0.2
             }
            },
            "type": "bar"
           }
          ],
          "barpolar": [
           {
            "marker": {
             "line": {
              "color": "#E5ECF6",
              "width": 0.5
             },
             "pattern": {
              "fillmode": "overlay",
              "size": 10,
              "solidity": 0.2
             }
            },
            "type": "barpolar"
           }
          ],
          "carpet": [
           {
            "aaxis": {
             "endlinecolor": "#2a3f5f",
             "gridcolor": "white",
             "linecolor": "white",
             "minorgridcolor": "white",
             "startlinecolor": "#2a3f5f"
            },
            "baxis": {
             "endlinecolor": "#2a3f5f",
             "gridcolor": "white",
             "linecolor": "white",
             "minorgridcolor": "white",
             "startlinecolor": "#2a3f5f"
            },
            "type": "carpet"
           }
          ],
          "choropleth": [
           {
            "colorbar": {
             "outlinewidth": 0,
             "ticks": ""
            },
            "type": "choropleth"
           }
          ],
          "contour": [
           {
            "colorbar": {
             "outlinewidth": 0,
             "ticks": ""
            },
            "colorscale": [
             [
              0,
              "#0d0887"
             ],
             [
              0.1111111111111111,
              "#46039f"
             ],
             [
              0.2222222222222222,
              "#7201a8"
             ],
             [
              0.3333333333333333,
              "#9c179e"
             ],
             [
              0.4444444444444444,
              "#bd3786"
             ],
             [
              0.5555555555555556,
              "#d8576b"
             ],
             [
              0.6666666666666666,
              "#ed7953"
             ],
             [
              0.7777777777777778,
              "#fb9f3a"
             ],
             [
              0.8888888888888888,
              "#fdca26"
             ],
             [
              1,
              "#f0f921"
             ]
            ],
            "type": "contour"
           }
          ],
          "contourcarpet": [
           {
            "colorbar": {
             "outlinewidth": 0,
             "ticks": ""
            },
            "type": "contourcarpet"
           }
          ],
          "heatmap": [
           {
            "colorbar": {
             "outlinewidth": 0,
             "ticks": ""
            },
            "colorscale": [
             [
              0,
              "#0d0887"
             ],
             [
              0.1111111111111111,
              "#46039f"
             ],
             [
              0.2222222222222222,
              "#7201a8"
             ],
             [
              0.3333333333333333,
              "#9c179e"
             ],
             [
              0.4444444444444444,
              "#bd3786"
             ],
             [
              0.5555555555555556,
              "#d8576b"
             ],
             [
              0.6666666666666666,
              "#ed7953"
             ],
             [
              0.7777777777777778,
              "#fb9f3a"
             ],
             [
              0.8888888888888888,
              "#fdca26"
             ],
             [
              1,
              "#f0f921"
             ]
            ],
            "type": "heatmap"
           }
          ],
          "heatmapgl": [
           {
            "colorbar": {
             "outlinewidth": 0,
             "ticks": ""
            },
            "colorscale": [
             [
              0,
              "#0d0887"
             ],
             [
              0.1111111111111111,
              "#46039f"
             ],
             [
              0.2222222222222222,
              "#7201a8"
             ],
             [
              0.3333333333333333,
              "#9c179e"
             ],
             [
              0.4444444444444444,
              "#bd3786"
             ],
             [
              0.5555555555555556,
              "#d8576b"
             ],
             [
              0.6666666666666666,
              "#ed7953"
             ],
             [
              0.7777777777777778,
              "#fb9f3a"
             ],
             [
              0.8888888888888888,
              "#fdca26"
             ],
             [
              1,
              "#f0f921"
             ]
            ],
            "type": "heatmapgl"
           }
          ],
          "histogram": [
           {
            "marker": {
             "pattern": {
              "fillmode": "overlay",
              "size": 10,
              "solidity": 0.2
             }
            },
            "type": "histogram"
           }
          ],
          "histogram2d": [
           {
            "colorbar": {
             "outlinewidth": 0,
             "ticks": ""
            },
            "colorscale": [
             [
              0,
              "#0d0887"
             ],
             [
              0.1111111111111111,
              "#46039f"
             ],
             [
              0.2222222222222222,
              "#7201a8"
             ],
             [
              0.3333333333333333,
              "#9c179e"
             ],
             [
              0.4444444444444444,
              "#bd3786"
             ],
             [
              0.5555555555555556,
              "#d8576b"
             ],
             [
              0.6666666666666666,
              "#ed7953"
             ],
             [
              0.7777777777777778,
              "#fb9f3a"
             ],
             [
              0.8888888888888888,
              "#fdca26"
             ],
             [
              1,
              "#f0f921"
             ]
            ],
            "type": "histogram2d"
           }
          ],
          "histogram2dcontour": [
           {
            "colorbar": {
             "outlinewidth": 0,
             "ticks": ""
            },
            "colorscale": [
             [
              0,
              "#0d0887"
             ],
             [
              0.1111111111111111,
              "#46039f"
             ],
             [
              0.2222222222222222,
              "#7201a8"
             ],
             [
              0.3333333333333333,
              "#9c179e"
             ],
             [
              0.4444444444444444,
              "#bd3786"
             ],
             [
              0.5555555555555556,
              "#d8576b"
             ],
             [
              0.6666666666666666,
              "#ed7953"
             ],
             [
              0.7777777777777778,
              "#fb9f3a"
             ],
             [
              0.8888888888888888,
              "#fdca26"
             ],
             [
              1,
              "#f0f921"
             ]
            ],
            "type": "histogram2dcontour"
           }
          ],
          "mesh3d": [
           {
            "colorbar": {
             "outlinewidth": 0,
             "ticks": ""
            },
            "type": "mesh3d"
           }
          ],
          "parcoords": [
           {
            "line": {
             "colorbar": {
              "outlinewidth": 0,
              "ticks": ""
             }
            },
            "type": "parcoords"
           }
          ],
          "pie": [
           {
            "automargin": true,
            "type": "pie"
           }
          ],
          "scatter": [
           {
            "fillpattern": {
             "fillmode": "overlay",
             "size": 10,
             "solidity": 0.2
            },
            "type": "scatter"
           }
          ],
          "scatter3d": [
           {
            "line": {
             "colorbar": {
              "outlinewidth": 0,
              "ticks": ""
             }
            },
            "marker": {
             "colorbar": {
              "outlinewidth": 0,
              "ticks": ""
             }
            },
            "type": "scatter3d"
           }
          ],
          "scattercarpet": [
           {
            "marker": {
             "colorbar": {
              "outlinewidth": 0,
              "ticks": ""
             }
            },
            "type": "scattercarpet"
           }
          ],
          "scattergeo": [
           {
            "marker": {
             "colorbar": {
              "outlinewidth": 0,
              "ticks": ""
             }
            },
            "type": "scattergeo"
           }
          ],
          "scattergl": [
           {
            "marker": {
             "colorbar": {
              "outlinewidth": 0,
              "ticks": ""
             }
            },
            "type": "scattergl"
           }
          ],
          "scattermapbox": [
           {
            "marker": {
             "colorbar": {
              "outlinewidth": 0,
              "ticks": ""
             }
            },
            "type": "scattermapbox"
           }
          ],
          "scatterpolar": [
           {
            "marker": {
             "colorbar": {
              "outlinewidth": 0,
              "ticks": ""
             }
            },
            "type": "scatterpolar"
           }
          ],
          "scatterpolargl": [
           {
            "marker": {
             "colorbar": {
              "outlinewidth": 0,
              "ticks": ""
             }
            },
            "type": "scatterpolargl"
           }
          ],
          "scatterternary": [
           {
            "marker": {
             "colorbar": {
              "outlinewidth": 0,
              "ticks": ""
             }
            },
            "type": "scatterternary"
           }
          ],
          "surface": [
           {
            "colorbar": {
             "outlinewidth": 0,
             "ticks": ""
            },
            "colorscale": [
             [
              0,
              "#0d0887"
             ],
             [
              0.1111111111111111,
              "#46039f"
             ],
             [
              0.2222222222222222,
              "#7201a8"
             ],
             [
              0.3333333333333333,
              "#9c179e"
             ],
             [
              0.4444444444444444,
              "#bd3786"
             ],
             [
              0.5555555555555556,
              "#d8576b"
             ],
             [
              0.6666666666666666,
              "#ed7953"
             ],
             [
              0.7777777777777778,
              "#fb9f3a"
             ],
             [
              0.8888888888888888,
              "#fdca26"
             ],
             [
              1,
              "#f0f921"
             ]
            ],
            "type": "surface"
           }
          ],
          "table": [
           {
            "cells": {
             "fill": {
              "color": "#EBF0F8"
             },
             "line": {
              "color": "white"
             }
            },
            "header": {
             "fill": {
              "color": "#C8D4E3"
             },
             "line": {
              "color": "white"
             }
            },
            "type": "table"
           }
          ]
         },
         "layout": {
          "annotationdefaults": {
           "arrowcolor": "#2a3f5f",
           "arrowhead": 0,
           "arrowwidth": 1
          },
          "autotypenumbers": "strict",
          "coloraxis": {
           "colorbar": {
            "outlinewidth": 0,
            "ticks": ""
           }
          },
          "colorscale": {
           "diverging": [
            [
             0,
             "#8e0152"
            ],
            [
             0.1,
             "#c51b7d"
            ],
            [
             0.2,
             "#de77ae"
            ],
            [
             0.3,
             "#f1b6da"
            ],
            [
             0.4,
             "#fde0ef"
            ],
            [
             0.5,
             "#f7f7f7"
            ],
            [
             0.6,
             "#e6f5d0"
            ],
            [
             0.7,
             "#b8e186"
            ],
            [
             0.8,
             "#7fbc41"
            ],
            [
             0.9,
             "#4d9221"
            ],
            [
             1,
             "#276419"
            ]
           ],
           "sequential": [
            [
             0,
             "#0d0887"
            ],
            [
             0.1111111111111111,
             "#46039f"
            ],
            [
             0.2222222222222222,
             "#7201a8"
            ],
            [
             0.3333333333333333,
             "#9c179e"
            ],
            [
             0.4444444444444444,
             "#bd3786"
            ],
            [
             0.5555555555555556,
             "#d8576b"
            ],
            [
             0.6666666666666666,
             "#ed7953"
            ],
            [
             0.7777777777777778,
             "#fb9f3a"
            ],
            [
             0.8888888888888888,
             "#fdca26"
            ],
            [
             1,
             "#f0f921"
            ]
           ],
           "sequentialminus": [
            [
             0,
             "#0d0887"
            ],
            [
             0.1111111111111111,
             "#46039f"
            ],
            [
             0.2222222222222222,
             "#7201a8"
            ],
            [
             0.3333333333333333,
             "#9c179e"
            ],
            [
             0.4444444444444444,
             "#bd3786"
            ],
            [
             0.5555555555555556,
             "#d8576b"
            ],
            [
             0.6666666666666666,
             "#ed7953"
            ],
            [
             0.7777777777777778,
             "#fb9f3a"
            ],
            [
             0.8888888888888888,
             "#fdca26"
            ],
            [
             1,
             "#f0f921"
            ]
           ]
          },
          "colorway": [
           "#636efa",
           "#EF553B",
           "#00cc96",
           "#ab63fa",
           "#FFA15A",
           "#19d3f3",
           "#FF6692",
           "#B6E880",
           "#FF97FF",
           "#FECB52"
          ],
          "font": {
           "color": "#2a3f5f"
          },
          "geo": {
           "bgcolor": "white",
           "lakecolor": "white",
           "landcolor": "#E5ECF6",
           "showlakes": true,
           "showland": true,
           "subunitcolor": "white"
          },
          "hoverlabel": {
           "align": "left"
          },
          "hovermode": "closest",
          "mapbox": {
           "style": "light"
          },
          "paper_bgcolor": "white",
          "plot_bgcolor": "#E5ECF6",
          "polar": {
           "angularaxis": {
            "gridcolor": "white",
            "linecolor": "white",
            "ticks": ""
           },
           "bgcolor": "#E5ECF6",
           "radialaxis": {
            "gridcolor": "white",
            "linecolor": "white",
            "ticks": ""
           }
          },
          "scene": {
           "xaxis": {
            "backgroundcolor": "#E5ECF6",
            "gridcolor": "white",
            "gridwidth": 2,
            "linecolor": "white",
            "showbackground": true,
            "ticks": "",
            "zerolinecolor": "white"
           },
           "yaxis": {
            "backgroundcolor": "#E5ECF6",
            "gridcolor": "white",
            "gridwidth": 2,
            "linecolor": "white",
            "showbackground": true,
            "ticks": "",
            "zerolinecolor": "white"
           },
           "zaxis": {
            "backgroundcolor": "#E5ECF6",
            "gridcolor": "white",
            "gridwidth": 2,
            "linecolor": "white",
            "showbackground": true,
            "ticks": "",
            "zerolinecolor": "white"
           }
          },
          "shapedefaults": {
           "line": {
            "color": "#2a3f5f"
           }
          },
          "ternary": {
           "aaxis": {
            "gridcolor": "white",
            "linecolor": "white",
            "ticks": ""
           },
           "baxis": {
            "gridcolor": "white",
            "linecolor": "white",
            "ticks": ""
           },
           "bgcolor": "#E5ECF6",
           "caxis": {
            "gridcolor": "white",
            "linecolor": "white",
            "ticks": ""
           }
          },
          "title": {
           "x": 0.05
          },
          "xaxis": {
           "automargin": true,
           "gridcolor": "white",
           "linecolor": "white",
           "ticks": "",
           "title": {
            "standoff": 15
           },
           "zerolinecolor": "white",
           "zerolinewidth": 2
          },
          "yaxis": {
           "automargin": true,
           "gridcolor": "white",
           "linecolor": "white",
           "ticks": "",
           "title": {
            "standoff": 15
           },
           "zerolinecolor": "white",
           "zerolinewidth": 2
          }
         }
        },
        "title": {
         "text": "Negative Sales by Product"
        },
        "xaxis": {
         "anchor": "y",
         "domain": [
          0,
          1
         ],
         "tickmode": "linear",
         "title": {
          "text": "Product Group"
         },
         "type": "category"
        },
        "yaxis": {
         "anchor": "x",
         "domain": [
          0,
          1
         ],
         "title": {
          "text": "Total Negative Sales (EUR)"
         }
        }
       }
      }
     },
     "metadata": {},
     "output_type": "display_data"
    }
   ],
   "source": [
    "grouped_negative_sales_products= negative_sales.groupby('Mapped_GCK')['Sales_EUR'].sum().reset_index()\n",
    "\n",
    "plot_sales_by_product(grouped_negative_sales_products, 'Mapped_GCK', 'Sales_EUR', 'Negative Sales by Product', 'Product Group', 'Total Negative Sales (EUR)')"
   ]
  },
  {
   "cell_type": "markdown",
   "metadata": {},
   "source": [
    "The product groups with the most negative sales, ranked by the highest negative value, are `Group 1 (€2.6M)`, `Group 5 (€2.4M)`, `Group 3 (€1.2M)`, followed by `Group 11 (€520K)`, `Group 6 (€420K)`, and `Group 16 (€290K)`.\n",
    "\n",
    "This raises some important questions:\n",
    "\n",
    "- Are these the same products with the highest sales volumes? Is there a proportional relationship between negative sales and positive sales values?\n",
    "\n",
    "- Considering the frequency of sales (i.e., how many times each product appears every month), are these negative sales values justified? Some products may be significantly more expensive than others, and their returns could lead to greater losses. We will analyze this further:"
   ]
  },
  {
   "cell_type": "code",
   "execution_count": 670,
   "metadata": {},
   "outputs": [
    {
     "data": {
      "application/vnd.plotly.v1+json": {
       "config": {
        "plotlyServerURL": "https://plot.ly"
       },
       "data": [
        {
         "alignmentgroup": "True",
         "hovertemplate": "Product Group=%{x}<br>Number of Sales=%{text}<extra></extra>",
         "legendgroup": "",
         "marker": {
          "color": "#636efa",
          "pattern": {
           "shape": ""
          }
         },
         "name": "",
         "offsetgroup": "",
         "orientation": "v",
         "showlegend": false,
         "text": [
          51,
          56,
          40,
          43,
          10,
          19,
          11,
          7,
          10,
          3,
          7,
          6,
          5,
          8
         ],
         "textposition": "outside",
         "texttemplate": "%{text:.2s}",
         "type": "bar",
         "x": [
          1,
          3,
          4,
          5,
          6,
          8,
          9,
          11,
          12,
          13,
          14,
          16,
          20,
          36
         ],
         "xaxis": "x",
         "y": [
          51,
          56,
          40,
          43,
          10,
          19,
          11,
          7,
          10,
          3,
          7,
          6,
          5,
          8
         ],
         "yaxis": "y"
        }
       ],
       "layout": {
        "barmode": "relative",
        "legend": {
         "tracegroupgap": 0
        },
        "template": {
         "data": {
          "bar": [
           {
            "error_x": {
             "color": "#2a3f5f"
            },
            "error_y": {
             "color": "#2a3f5f"
            },
            "marker": {
             "line": {
              "color": "#E5ECF6",
              "width": 0.5
             },
             "pattern": {
              "fillmode": "overlay",
              "size": 10,
              "solidity": 0.2
             }
            },
            "type": "bar"
           }
          ],
          "barpolar": [
           {
            "marker": {
             "line": {
              "color": "#E5ECF6",
              "width": 0.5
             },
             "pattern": {
              "fillmode": "overlay",
              "size": 10,
              "solidity": 0.2
             }
            },
            "type": "barpolar"
           }
          ],
          "carpet": [
           {
            "aaxis": {
             "endlinecolor": "#2a3f5f",
             "gridcolor": "white",
             "linecolor": "white",
             "minorgridcolor": "white",
             "startlinecolor": "#2a3f5f"
            },
            "baxis": {
             "endlinecolor": "#2a3f5f",
             "gridcolor": "white",
             "linecolor": "white",
             "minorgridcolor": "white",
             "startlinecolor": "#2a3f5f"
            },
            "type": "carpet"
           }
          ],
          "choropleth": [
           {
            "colorbar": {
             "outlinewidth": 0,
             "ticks": ""
            },
            "type": "choropleth"
           }
          ],
          "contour": [
           {
            "colorbar": {
             "outlinewidth": 0,
             "ticks": ""
            },
            "colorscale": [
             [
              0,
              "#0d0887"
             ],
             [
              0.1111111111111111,
              "#46039f"
             ],
             [
              0.2222222222222222,
              "#7201a8"
             ],
             [
              0.3333333333333333,
              "#9c179e"
             ],
             [
              0.4444444444444444,
              "#bd3786"
             ],
             [
              0.5555555555555556,
              "#d8576b"
             ],
             [
              0.6666666666666666,
              "#ed7953"
             ],
             [
              0.7777777777777778,
              "#fb9f3a"
             ],
             [
              0.8888888888888888,
              "#fdca26"
             ],
             [
              1,
              "#f0f921"
             ]
            ],
            "type": "contour"
           }
          ],
          "contourcarpet": [
           {
            "colorbar": {
             "outlinewidth": 0,
             "ticks": ""
            },
            "type": "contourcarpet"
           }
          ],
          "heatmap": [
           {
            "colorbar": {
             "outlinewidth": 0,
             "ticks": ""
            },
            "colorscale": [
             [
              0,
              "#0d0887"
             ],
             [
              0.1111111111111111,
              "#46039f"
             ],
             [
              0.2222222222222222,
              "#7201a8"
             ],
             [
              0.3333333333333333,
              "#9c179e"
             ],
             [
              0.4444444444444444,
              "#bd3786"
             ],
             [
              0.5555555555555556,
              "#d8576b"
             ],
             [
              0.6666666666666666,
              "#ed7953"
             ],
             [
              0.7777777777777778,
              "#fb9f3a"
             ],
             [
              0.8888888888888888,
              "#fdca26"
             ],
             [
              1,
              "#f0f921"
             ]
            ],
            "type": "heatmap"
           }
          ],
          "heatmapgl": [
           {
            "colorbar": {
             "outlinewidth": 0,
             "ticks": ""
            },
            "colorscale": [
             [
              0,
              "#0d0887"
             ],
             [
              0.1111111111111111,
              "#46039f"
             ],
             [
              0.2222222222222222,
              "#7201a8"
             ],
             [
              0.3333333333333333,
              "#9c179e"
             ],
             [
              0.4444444444444444,
              "#bd3786"
             ],
             [
              0.5555555555555556,
              "#d8576b"
             ],
             [
              0.6666666666666666,
              "#ed7953"
             ],
             [
              0.7777777777777778,
              "#fb9f3a"
             ],
             [
              0.8888888888888888,
              "#fdca26"
             ],
             [
              1,
              "#f0f921"
             ]
            ],
            "type": "heatmapgl"
           }
          ],
          "histogram": [
           {
            "marker": {
             "pattern": {
              "fillmode": "overlay",
              "size": 10,
              "solidity": 0.2
             }
            },
            "type": "histogram"
           }
          ],
          "histogram2d": [
           {
            "colorbar": {
             "outlinewidth": 0,
             "ticks": ""
            },
            "colorscale": [
             [
              0,
              "#0d0887"
             ],
             [
              0.1111111111111111,
              "#46039f"
             ],
             [
              0.2222222222222222,
              "#7201a8"
             ],
             [
              0.3333333333333333,
              "#9c179e"
             ],
             [
              0.4444444444444444,
              "#bd3786"
             ],
             [
              0.5555555555555556,
              "#d8576b"
             ],
             [
              0.6666666666666666,
              "#ed7953"
             ],
             [
              0.7777777777777778,
              "#fb9f3a"
             ],
             [
              0.8888888888888888,
              "#fdca26"
             ],
             [
              1,
              "#f0f921"
             ]
            ],
            "type": "histogram2d"
           }
          ],
          "histogram2dcontour": [
           {
            "colorbar": {
             "outlinewidth": 0,
             "ticks": ""
            },
            "colorscale": [
             [
              0,
              "#0d0887"
             ],
             [
              0.1111111111111111,
              "#46039f"
             ],
             [
              0.2222222222222222,
              "#7201a8"
             ],
             [
              0.3333333333333333,
              "#9c179e"
             ],
             [
              0.4444444444444444,
              "#bd3786"
             ],
             [
              0.5555555555555556,
              "#d8576b"
             ],
             [
              0.6666666666666666,
              "#ed7953"
             ],
             [
              0.7777777777777778,
              "#fb9f3a"
             ],
             [
              0.8888888888888888,
              "#fdca26"
             ],
             [
              1,
              "#f0f921"
             ]
            ],
            "type": "histogram2dcontour"
           }
          ],
          "mesh3d": [
           {
            "colorbar": {
             "outlinewidth": 0,
             "ticks": ""
            },
            "type": "mesh3d"
           }
          ],
          "parcoords": [
           {
            "line": {
             "colorbar": {
              "outlinewidth": 0,
              "ticks": ""
             }
            },
            "type": "parcoords"
           }
          ],
          "pie": [
           {
            "automargin": true,
            "type": "pie"
           }
          ],
          "scatter": [
           {
            "fillpattern": {
             "fillmode": "overlay",
             "size": 10,
             "solidity": 0.2
            },
            "type": "scatter"
           }
          ],
          "scatter3d": [
           {
            "line": {
             "colorbar": {
              "outlinewidth": 0,
              "ticks": ""
             }
            },
            "marker": {
             "colorbar": {
              "outlinewidth": 0,
              "ticks": ""
             }
            },
            "type": "scatter3d"
           }
          ],
          "scattercarpet": [
           {
            "marker": {
             "colorbar": {
              "outlinewidth": 0,
              "ticks": ""
             }
            },
            "type": "scattercarpet"
           }
          ],
          "scattergeo": [
           {
            "marker": {
             "colorbar": {
              "outlinewidth": 0,
              "ticks": ""
             }
            },
            "type": "scattergeo"
           }
          ],
          "scattergl": [
           {
            "marker": {
             "colorbar": {
              "outlinewidth": 0,
              "ticks": ""
             }
            },
            "type": "scattergl"
           }
          ],
          "scattermapbox": [
           {
            "marker": {
             "colorbar": {
              "outlinewidth": 0,
              "ticks": ""
             }
            },
            "type": "scattermapbox"
           }
          ],
          "scatterpolar": [
           {
            "marker": {
             "colorbar": {
              "outlinewidth": 0,
              "ticks": ""
             }
            },
            "type": "scatterpolar"
           }
          ],
          "scatterpolargl": [
           {
            "marker": {
             "colorbar": {
              "outlinewidth": 0,
              "ticks": ""
             }
            },
            "type": "scatterpolargl"
           }
          ],
          "scatterternary": [
           {
            "marker": {
             "colorbar": {
              "outlinewidth": 0,
              "ticks": ""
             }
            },
            "type": "scatterternary"
           }
          ],
          "surface": [
           {
            "colorbar": {
             "outlinewidth": 0,
             "ticks": ""
            },
            "colorscale": [
             [
              0,
              "#0d0887"
             ],
             [
              0.1111111111111111,
              "#46039f"
             ],
             [
              0.2222222222222222,
              "#7201a8"
             ],
             [
              0.3333333333333333,
              "#9c179e"
             ],
             [
              0.4444444444444444,
              "#bd3786"
             ],
             [
              0.5555555555555556,
              "#d8576b"
             ],
             [
              0.6666666666666666,
              "#ed7953"
             ],
             [
              0.7777777777777778,
              "#fb9f3a"
             ],
             [
              0.8888888888888888,
              "#fdca26"
             ],
             [
              1,
              "#f0f921"
             ]
            ],
            "type": "surface"
           }
          ],
          "table": [
           {
            "cells": {
             "fill": {
              "color": "#EBF0F8"
             },
             "line": {
              "color": "white"
             }
            },
            "header": {
             "fill": {
              "color": "#C8D4E3"
             },
             "line": {
              "color": "white"
             }
            },
            "type": "table"
           }
          ]
         },
         "layout": {
          "annotationdefaults": {
           "arrowcolor": "#2a3f5f",
           "arrowhead": 0,
           "arrowwidth": 1
          },
          "autotypenumbers": "strict",
          "coloraxis": {
           "colorbar": {
            "outlinewidth": 0,
            "ticks": ""
           }
          },
          "colorscale": {
           "diverging": [
            [
             0,
             "#8e0152"
            ],
            [
             0.1,
             "#c51b7d"
            ],
            [
             0.2,
             "#de77ae"
            ],
            [
             0.3,
             "#f1b6da"
            ],
            [
             0.4,
             "#fde0ef"
            ],
            [
             0.5,
             "#f7f7f7"
            ],
            [
             0.6,
             "#e6f5d0"
            ],
            [
             0.7,
             "#b8e186"
            ],
            [
             0.8,
             "#7fbc41"
            ],
            [
             0.9,
             "#4d9221"
            ],
            [
             1,
             "#276419"
            ]
           ],
           "sequential": [
            [
             0,
             "#0d0887"
            ],
            [
             0.1111111111111111,
             "#46039f"
            ],
            [
             0.2222222222222222,
             "#7201a8"
            ],
            [
             0.3333333333333333,
             "#9c179e"
            ],
            [
             0.4444444444444444,
             "#bd3786"
            ],
            [
             0.5555555555555556,
             "#d8576b"
            ],
            [
             0.6666666666666666,
             "#ed7953"
            ],
            [
             0.7777777777777778,
             "#fb9f3a"
            ],
            [
             0.8888888888888888,
             "#fdca26"
            ],
            [
             1,
             "#f0f921"
            ]
           ],
           "sequentialminus": [
            [
             0,
             "#0d0887"
            ],
            [
             0.1111111111111111,
             "#46039f"
            ],
            [
             0.2222222222222222,
             "#7201a8"
            ],
            [
             0.3333333333333333,
             "#9c179e"
            ],
            [
             0.4444444444444444,
             "#bd3786"
            ],
            [
             0.5555555555555556,
             "#d8576b"
            ],
            [
             0.6666666666666666,
             "#ed7953"
            ],
            [
             0.7777777777777778,
             "#fb9f3a"
            ],
            [
             0.8888888888888888,
             "#fdca26"
            ],
            [
             1,
             "#f0f921"
            ]
           ]
          },
          "colorway": [
           "#636efa",
           "#EF553B",
           "#00cc96",
           "#ab63fa",
           "#FFA15A",
           "#19d3f3",
           "#FF6692",
           "#B6E880",
           "#FF97FF",
           "#FECB52"
          ],
          "font": {
           "color": "#2a3f5f"
          },
          "geo": {
           "bgcolor": "white",
           "lakecolor": "white",
           "landcolor": "#E5ECF6",
           "showlakes": true,
           "showland": true,
           "subunitcolor": "white"
          },
          "hoverlabel": {
           "align": "left"
          },
          "hovermode": "closest",
          "mapbox": {
           "style": "light"
          },
          "paper_bgcolor": "white",
          "plot_bgcolor": "#E5ECF6",
          "polar": {
           "angularaxis": {
            "gridcolor": "white",
            "linecolor": "white",
            "ticks": ""
           },
           "bgcolor": "#E5ECF6",
           "radialaxis": {
            "gridcolor": "white",
            "linecolor": "white",
            "ticks": ""
           }
          },
          "scene": {
           "xaxis": {
            "backgroundcolor": "#E5ECF6",
            "gridcolor": "white",
            "gridwidth": 2,
            "linecolor": "white",
            "showbackground": true,
            "ticks": "",
            "zerolinecolor": "white"
           },
           "yaxis": {
            "backgroundcolor": "#E5ECF6",
            "gridcolor": "white",
            "gridwidth": 2,
            "linecolor": "white",
            "showbackground": true,
            "ticks": "",
            "zerolinecolor": "white"
           },
           "zaxis": {
            "backgroundcolor": "#E5ECF6",
            "gridcolor": "white",
            "gridwidth": 2,
            "linecolor": "white",
            "showbackground": true,
            "ticks": "",
            "zerolinecolor": "white"
           }
          },
          "shapedefaults": {
           "line": {
            "color": "#2a3f5f"
           }
          },
          "ternary": {
           "aaxis": {
            "gridcolor": "white",
            "linecolor": "white",
            "ticks": ""
           },
           "baxis": {
            "gridcolor": "white",
            "linecolor": "white",
            "ticks": ""
           },
           "bgcolor": "#E5ECF6",
           "caxis": {
            "gridcolor": "white",
            "linecolor": "white",
            "ticks": ""
           }
          },
          "title": {
           "x": 0.05
          },
          "xaxis": {
           "automargin": true,
           "gridcolor": "white",
           "linecolor": "white",
           "ticks": "",
           "title": {
            "standoff": 15
           },
           "zerolinecolor": "white",
           "zerolinewidth": 2
          },
          "yaxis": {
           "automargin": true,
           "gridcolor": "white",
           "linecolor": "white",
           "ticks": "",
           "title": {
            "standoff": 15
           },
           "zerolinecolor": "white",
           "zerolinewidth": 2
          }
         }
        },
        "title": {
         "text": "Sales Count by Product"
        },
        "xaxis": {
         "anchor": "y",
         "domain": [
          0,
          1
         ],
         "tickmode": "linear",
         "title": {
          "text": "Product Group"
         },
         "type": "category"
        },
        "yaxis": {
         "anchor": "x",
         "domain": [
          0,
          1
         ],
         "title": {
          "text": "Number of Sales"
         }
        }
       }
      }
     },
     "metadata": {},
     "output_type": "display_data"
    }
   ],
   "source": [
    "# Count the number of occurrences (sales) for each product\n",
    "grouped_sales_count_negative = negative_sales.groupby('Mapped_GCK').size().reset_index(name='Sales_Count')\n",
    "plot_sales_by_product(grouped_sales_count_negative, 'Mapped_GCK', 'Sales_Count', 'Sales Count by Product', 'Product Group', 'Number of Sales')"
   ]
  },
  {
   "cell_type": "markdown",
   "metadata": {},
   "source": [
    "- Although Product 1 and Product 5 have the highest values for negative sales, they don’t actually have the highest number of returns, with 51 and 43 returns, respectively. This suggests that these products are likely more expensive, or their returns could involve a large number of components or incur high logistical costs, which would contribute to a higher negative value.\n",
    "\n",
    "- Product 3 has the most returns in terms of quantity, with 56 sales returned, but its negative sales value is only the third largest, indicating that it may be less expensive. For example, Product 4 has 40 returns and a negative sales value of only €110K, suggesting it is relatively inexpensive.\n",
    "\n",
    "Analysing the average:\n",
    "\n",
    "\n",
    "- Product 1: 51 returns, aprox 2.6M negative sales ➡️ 50,980 per return\n",
    "\n",
    "- Product 5: 43 returns, aprox 2.4M negative sales ➡️ 55,814 per return\n",
    "\n",
    "- Product 3: 56 returns, aprox 1.2M negative sales ➡️ 21,429 per return\n",
    "\n",
    "- Product 11: 7 returns, aprox 520K negative sales ➡️ 74,286 per return\n",
    "\n",
    "- Product 6: 10 returns, aprox 420K negative sales ➡️ 42,000 per return\n",
    "\n",
    "- Product 16: 6 returns, aprox 290K negative sales ➡️ 48,333 per return\n",
    "\n",
    "- Product 4: 40 returns, aprox 110K negative sales ➡️ 2,750 per return\n",
    "\n",
    "As we can see, Product 1, Product 5, and especially Product 11 have significantly higher negative sales per return, which suggests that these products are either more expensive or involve complex components or high logistical costs. Regardless of the reason, these high negative impacts are concerning for the company. We need to investigate whether this issue is localized to specific periods or is more widespread."
   ]
  },
  {
   "cell_type": "code",
   "execution_count": 671,
   "metadata": {},
   "outputs": [
    {
     "name": "stderr",
     "output_type": "stream",
     "text": [
      "C:\\Users\\marga\\AppData\\Local\\Temp\\ipykernel_15752\\4208296278.py:1: SettingWithCopyWarning:\n",
      "\n",
      "\n",
      "A value is trying to be set on a copy of a slice from a DataFrame.\n",
      "Try using .loc[row_indexer,col_indexer] = value instead\n",
      "\n",
      "See the caveats in the documentation: https://pandas.pydata.org/pandas-docs/stable/user_guide/indexing.html#returning-a-view-versus-a-copy\n",
      "\n"
     ]
    },
    {
     "data": {
      "application/vnd.plotly.v1+json": {
       "config": {
        "plotlyServerURL": "https://plot.ly"
       },
       "data": [
        {
         "hovertemplate": "Product=1<br>Year=%{x}<br>Total Negative Sales (EUR)=%{y}<extra></extra>",
         "legendgroup": "1",
         "line": {
          "color": "#636efa",
          "dash": "solid"
         },
         "marker": {
          "symbol": "circle"
         },
         "mode": "lines",
         "name": "1",
         "orientation": "v",
         "showlegend": true,
         "type": "scatter",
         "x": [
          2018,
          2019,
          2020,
          2021,
          2022
         ],
         "xaxis": "x",
         "y": [
          -226731.5,
          -1235312.87,
          -419859.8,
          -434521.26,
          -238683.28
         ],
         "yaxis": "y"
        },
        {
         "hovertemplate": "Product=3<br>Year=%{x}<br>Total Negative Sales (EUR)=%{y}<extra></extra>",
         "legendgroup": "3",
         "line": {
          "color": "#EF553B",
          "dash": "solid"
         },
         "marker": {
          "symbol": "circle"
         },
         "mode": "lines",
         "name": "3",
         "orientation": "v",
         "showlegend": true,
         "type": "scatter",
         "x": [
          2018,
          2019,
          2020,
          2021,
          2022
         ],
         "xaxis": "x",
         "y": [
          -9717.16,
          -181943.18,
          -830971.13,
          -37082.12,
          -143519.41
         ],
         "yaxis": "y"
        },
        {
         "hovertemplate": "Product=4<br>Year=%{x}<br>Total Negative Sales (EUR)=%{y}<extra></extra>",
         "legendgroup": "4",
         "line": {
          "color": "#00cc96",
          "dash": "solid"
         },
         "marker": {
          "symbol": "circle"
         },
         "mode": "lines",
         "name": "4",
         "orientation": "v",
         "showlegend": true,
         "type": "scatter",
         "x": [
          2018,
          2019,
          2020,
          2021,
          2022
         ],
         "xaxis": "x",
         "y": [
          -8802.31,
          -17078.13,
          -73270.22,
          -14463.85,
          -1295.05
         ],
         "yaxis": "y"
        },
        {
         "hovertemplate": "Product=5<br>Year=%{x}<br>Total Negative Sales (EUR)=%{y}<extra></extra>",
         "legendgroup": "5",
         "line": {
          "color": "#ab63fa",
          "dash": "solid"
         },
         "marker": {
          "symbol": "circle"
         },
         "mode": "lines",
         "name": "5",
         "orientation": "v",
         "showlegend": true,
         "type": "scatter",
         "x": [
          2018,
          2019,
          2020,
          2021,
          2022
         ],
         "xaxis": "x",
         "y": [
          -33573.26,
          -773059.35,
          -370065.66000000003,
          -1052332.1,
          -147387.2
         ],
         "yaxis": "y"
        },
        {
         "hovertemplate": "Product=6<br>Year=%{x}<br>Total Negative Sales (EUR)=%{y}<extra></extra>",
         "legendgroup": "6",
         "line": {
          "color": "#FFA15A",
          "dash": "solid"
         },
         "marker": {
          "symbol": "circle"
         },
         "mode": "lines",
         "name": "6",
         "orientation": "v",
         "showlegend": true,
         "type": "scatter",
         "x": [
          2019,
          2020,
          2021,
          2022
         ],
         "xaxis": "x",
         "y": [
          -42715.89,
          -333147.24,
          -44933.700000000004,
          -479.88
         ],
         "yaxis": "y"
        },
        {
         "hovertemplate": "Product=8<br>Year=%{x}<br>Total Negative Sales (EUR)=%{y}<extra></extra>",
         "legendgroup": "8",
         "line": {
          "color": "#19d3f3",
          "dash": "solid"
         },
         "marker": {
          "symbol": "circle"
         },
         "mode": "lines",
         "name": "8",
         "orientation": "v",
         "showlegend": true,
         "type": "scatter",
         "x": [
          2018,
          2019,
          2020,
          2021,
          2022
         ],
         "xaxis": "x",
         "y": [
          -500,
          -18635.7,
          -50910.399999999994,
          -4155.41,
          -2168.25
         ],
         "yaxis": "y"
        },
        {
         "hovertemplate": "Product=9<br>Year=%{x}<br>Total Negative Sales (EUR)=%{y}<extra></extra>",
         "legendgroup": "9",
         "line": {
          "color": "#FF6692",
          "dash": "solid"
         },
         "marker": {
          "symbol": "circle"
         },
         "mode": "lines",
         "name": "9",
         "orientation": "v",
         "showlegend": true,
         "type": "scatter",
         "x": [
          2019,
          2020,
          2021,
          2022
         ],
         "xaxis": "x",
         "y": [
          -31.05,
          -7233.4,
          -3053.26,
          -57
         ],
         "yaxis": "y"
        },
        {
         "hovertemplate": "Product=11<br>Year=%{x}<br>Total Negative Sales (EUR)=%{y}<extra></extra>",
         "legendgroup": "11",
         "line": {
          "color": "#B6E880",
          "dash": "solid"
         },
         "marker": {
          "symbol": "circle"
         },
         "mode": "lines",
         "name": "11",
         "orientation": "v",
         "showlegend": true,
         "type": "scatter",
         "x": [
          2019,
          2020,
          2022
         ],
         "xaxis": "x",
         "y": [
          -494951.52,
          -2,
          -23779.86
         ],
         "yaxis": "y"
        },
        {
         "hovertemplate": "Product=12<br>Year=%{x}<br>Total Negative Sales (EUR)=%{y}<extra></extra>",
         "legendgroup": "12",
         "line": {
          "color": "#FF97FF",
          "dash": "solid"
         },
         "marker": {
          "symbol": "circle"
         },
         "mode": "lines",
         "name": "12",
         "orientation": "v",
         "showlegend": true,
         "type": "scatter",
         "x": [
          2020,
          2021,
          2022
         ],
         "xaxis": "x",
         "y": [
          -5516,
          -3180.83,
          -6790.93
         ],
         "yaxis": "y"
        },
        {
         "hovertemplate": "Product=13<br>Year=%{x}<br>Total Negative Sales (EUR)=%{y}<extra></extra>",
         "legendgroup": "13",
         "line": {
          "color": "#FECB52",
          "dash": "solid"
         },
         "marker": {
          "symbol": "circle"
         },
         "mode": "lines",
         "name": "13",
         "orientation": "v",
         "showlegend": true,
         "type": "scatter",
         "x": [
          2018,
          2019
         ],
         "xaxis": "x",
         "y": [
          -158.2,
          -34.9
         ],
         "yaxis": "y"
        },
        {
         "hovertemplate": "Product=14<br>Year=%{x}<br>Total Negative Sales (EUR)=%{y}<extra></extra>",
         "legendgroup": "14",
         "line": {
          "color": "#636efa",
          "dash": "solid"
         },
         "marker": {
          "symbol": "circle"
         },
         "mode": "lines",
         "name": "14",
         "orientation": "v",
         "showlegend": true,
         "type": "scatter",
         "x": [
          2019,
          2020,
          2021,
          2022
         ],
         "xaxis": "x",
         "y": [
          -2900.0499999999997,
          -2851.45,
          -6743.25,
          -648.8
         ],
         "yaxis": "y"
        },
        {
         "hovertemplate": "Product=16<br>Year=%{x}<br>Total Negative Sales (EUR)=%{y}<extra></extra>",
         "legendgroup": "16",
         "line": {
          "color": "#EF553B",
          "dash": "solid"
         },
         "marker": {
          "symbol": "circle"
         },
         "mode": "lines",
         "name": "16",
         "orientation": "v",
         "showlegend": true,
         "type": "scatter",
         "x": [
          2019,
          2020,
          2021
         ],
         "xaxis": "x",
         "y": [
          -287318.22,
          -581,
          -540
         ],
         "yaxis": "y"
        },
        {
         "hovertemplate": "Product=20<br>Year=%{x}<br>Total Negative Sales (EUR)=%{y}<extra></extra>",
         "legendgroup": "20",
         "line": {
          "color": "#00cc96",
          "dash": "solid"
         },
         "marker": {
          "symbol": "circle"
         },
         "mode": "lines",
         "name": "20",
         "orientation": "v",
         "showlegend": true,
         "type": "scatter",
         "x": [
          2019,
          2020
         ],
         "xaxis": "x",
         "y": [
          -28.47,
          -11.16
         ],
         "yaxis": "y"
        },
        {
         "hovertemplate": "Product=36<br>Year=%{x}<br>Total Negative Sales (EUR)=%{y}<extra></extra>",
         "legendgroup": "36",
         "line": {
          "color": "#ab63fa",
          "dash": "solid"
         },
         "marker": {
          "symbol": "circle"
         },
         "mode": "lines",
         "name": "36",
         "orientation": "v",
         "showlegend": true,
         "type": "scatter",
         "x": [
          2018,
          2019,
          2020,
          2021
         ],
         "xaxis": "x",
         "y": [
          -369.28,
          -2026.1599999999999,
          -6313.61,
          -4676.72
         ],
         "yaxis": "y"
        }
       ],
       "layout": {
        "legend": {
         "title": {
          "text": "Product"
         },
         "tracegroupgap": 0
        },
        "template": {
         "data": {
          "bar": [
           {
            "error_x": {
             "color": "#2a3f5f"
            },
            "error_y": {
             "color": "#2a3f5f"
            },
            "marker": {
             "line": {
              "color": "#E5ECF6",
              "width": 0.5
             },
             "pattern": {
              "fillmode": "overlay",
              "size": 10,
              "solidity": 0.2
             }
            },
            "type": "bar"
           }
          ],
          "barpolar": [
           {
            "marker": {
             "line": {
              "color": "#E5ECF6",
              "width": 0.5
             },
             "pattern": {
              "fillmode": "overlay",
              "size": 10,
              "solidity": 0.2
             }
            },
            "type": "barpolar"
           }
          ],
          "carpet": [
           {
            "aaxis": {
             "endlinecolor": "#2a3f5f",
             "gridcolor": "white",
             "linecolor": "white",
             "minorgridcolor": "white",
             "startlinecolor": "#2a3f5f"
            },
            "baxis": {
             "endlinecolor": "#2a3f5f",
             "gridcolor": "white",
             "linecolor": "white",
             "minorgridcolor": "white",
             "startlinecolor": "#2a3f5f"
            },
            "type": "carpet"
           }
          ],
          "choropleth": [
           {
            "colorbar": {
             "outlinewidth": 0,
             "ticks": ""
            },
            "type": "choropleth"
           }
          ],
          "contour": [
           {
            "colorbar": {
             "outlinewidth": 0,
             "ticks": ""
            },
            "colorscale": [
             [
              0,
              "#0d0887"
             ],
             [
              0.1111111111111111,
              "#46039f"
             ],
             [
              0.2222222222222222,
              "#7201a8"
             ],
             [
              0.3333333333333333,
              "#9c179e"
             ],
             [
              0.4444444444444444,
              "#bd3786"
             ],
             [
              0.5555555555555556,
              "#d8576b"
             ],
             [
              0.6666666666666666,
              "#ed7953"
             ],
             [
              0.7777777777777778,
              "#fb9f3a"
             ],
             [
              0.8888888888888888,
              "#fdca26"
             ],
             [
              1,
              "#f0f921"
             ]
            ],
            "type": "contour"
           }
          ],
          "contourcarpet": [
           {
            "colorbar": {
             "outlinewidth": 0,
             "ticks": ""
            },
            "type": "contourcarpet"
           }
          ],
          "heatmap": [
           {
            "colorbar": {
             "outlinewidth": 0,
             "ticks": ""
            },
            "colorscale": [
             [
              0,
              "#0d0887"
             ],
             [
              0.1111111111111111,
              "#46039f"
             ],
             [
              0.2222222222222222,
              "#7201a8"
             ],
             [
              0.3333333333333333,
              "#9c179e"
             ],
             [
              0.4444444444444444,
              "#bd3786"
             ],
             [
              0.5555555555555556,
              "#d8576b"
             ],
             [
              0.6666666666666666,
              "#ed7953"
             ],
             [
              0.7777777777777778,
              "#fb9f3a"
             ],
             [
              0.8888888888888888,
              "#fdca26"
             ],
             [
              1,
              "#f0f921"
             ]
            ],
            "type": "heatmap"
           }
          ],
          "heatmapgl": [
           {
            "colorbar": {
             "outlinewidth": 0,
             "ticks": ""
            },
            "colorscale": [
             [
              0,
              "#0d0887"
             ],
             [
              0.1111111111111111,
              "#46039f"
             ],
             [
              0.2222222222222222,
              "#7201a8"
             ],
             [
              0.3333333333333333,
              "#9c179e"
             ],
             [
              0.4444444444444444,
              "#bd3786"
             ],
             [
              0.5555555555555556,
              "#d8576b"
             ],
             [
              0.6666666666666666,
              "#ed7953"
             ],
             [
              0.7777777777777778,
              "#fb9f3a"
             ],
             [
              0.8888888888888888,
              "#fdca26"
             ],
             [
              1,
              "#f0f921"
             ]
            ],
            "type": "heatmapgl"
           }
          ],
          "histogram": [
           {
            "marker": {
             "pattern": {
              "fillmode": "overlay",
              "size": 10,
              "solidity": 0.2
             }
            },
            "type": "histogram"
           }
          ],
          "histogram2d": [
           {
            "colorbar": {
             "outlinewidth": 0,
             "ticks": ""
            },
            "colorscale": [
             [
              0,
              "#0d0887"
             ],
             [
              0.1111111111111111,
              "#46039f"
             ],
             [
              0.2222222222222222,
              "#7201a8"
             ],
             [
              0.3333333333333333,
              "#9c179e"
             ],
             [
              0.4444444444444444,
              "#bd3786"
             ],
             [
              0.5555555555555556,
              "#d8576b"
             ],
             [
              0.6666666666666666,
              "#ed7953"
             ],
             [
              0.7777777777777778,
              "#fb9f3a"
             ],
             [
              0.8888888888888888,
              "#fdca26"
             ],
             [
              1,
              "#f0f921"
             ]
            ],
            "type": "histogram2d"
           }
          ],
          "histogram2dcontour": [
           {
            "colorbar": {
             "outlinewidth": 0,
             "ticks": ""
            },
            "colorscale": [
             [
              0,
              "#0d0887"
             ],
             [
              0.1111111111111111,
              "#46039f"
             ],
             [
              0.2222222222222222,
              "#7201a8"
             ],
             [
              0.3333333333333333,
              "#9c179e"
             ],
             [
              0.4444444444444444,
              "#bd3786"
             ],
             [
              0.5555555555555556,
              "#d8576b"
             ],
             [
              0.6666666666666666,
              "#ed7953"
             ],
             [
              0.7777777777777778,
              "#fb9f3a"
             ],
             [
              0.8888888888888888,
              "#fdca26"
             ],
             [
              1,
              "#f0f921"
             ]
            ],
            "type": "histogram2dcontour"
           }
          ],
          "mesh3d": [
           {
            "colorbar": {
             "outlinewidth": 0,
             "ticks": ""
            },
            "type": "mesh3d"
           }
          ],
          "parcoords": [
           {
            "line": {
             "colorbar": {
              "outlinewidth": 0,
              "ticks": ""
             }
            },
            "type": "parcoords"
           }
          ],
          "pie": [
           {
            "automargin": true,
            "type": "pie"
           }
          ],
          "scatter": [
           {
            "fillpattern": {
             "fillmode": "overlay",
             "size": 10,
             "solidity": 0.2
            },
            "type": "scatter"
           }
          ],
          "scatter3d": [
           {
            "line": {
             "colorbar": {
              "outlinewidth": 0,
              "ticks": ""
             }
            },
            "marker": {
             "colorbar": {
              "outlinewidth": 0,
              "ticks": ""
             }
            },
            "type": "scatter3d"
           }
          ],
          "scattercarpet": [
           {
            "marker": {
             "colorbar": {
              "outlinewidth": 0,
              "ticks": ""
             }
            },
            "type": "scattercarpet"
           }
          ],
          "scattergeo": [
           {
            "marker": {
             "colorbar": {
              "outlinewidth": 0,
              "ticks": ""
             }
            },
            "type": "scattergeo"
           }
          ],
          "scattergl": [
           {
            "marker": {
             "colorbar": {
              "outlinewidth": 0,
              "ticks": ""
             }
            },
            "type": "scattergl"
           }
          ],
          "scattermapbox": [
           {
            "marker": {
             "colorbar": {
              "outlinewidth": 0,
              "ticks": ""
             }
            },
            "type": "scattermapbox"
           }
          ],
          "scatterpolar": [
           {
            "marker": {
             "colorbar": {
              "outlinewidth": 0,
              "ticks": ""
             }
            },
            "type": "scatterpolar"
           }
          ],
          "scatterpolargl": [
           {
            "marker": {
             "colorbar": {
              "outlinewidth": 0,
              "ticks": ""
             }
            },
            "type": "scatterpolargl"
           }
          ],
          "scatterternary": [
           {
            "marker": {
             "colorbar": {
              "outlinewidth": 0,
              "ticks": ""
             }
            },
            "type": "scatterternary"
           }
          ],
          "surface": [
           {
            "colorbar": {
             "outlinewidth": 0,
             "ticks": ""
            },
            "colorscale": [
             [
              0,
              "#0d0887"
             ],
             [
              0.1111111111111111,
              "#46039f"
             ],
             [
              0.2222222222222222,
              "#7201a8"
             ],
             [
              0.3333333333333333,
              "#9c179e"
             ],
             [
              0.4444444444444444,
              "#bd3786"
             ],
             [
              0.5555555555555556,
              "#d8576b"
             ],
             [
              0.6666666666666666,
              "#ed7953"
             ],
             [
              0.7777777777777778,
              "#fb9f3a"
             ],
             [
              0.8888888888888888,
              "#fdca26"
             ],
             [
              1,
              "#f0f921"
             ]
            ],
            "type": "surface"
           }
          ],
          "table": [
           {
            "cells": {
             "fill": {
              "color": "#EBF0F8"
             },
             "line": {
              "color": "white"
             }
            },
            "header": {
             "fill": {
              "color": "#C8D4E3"
             },
             "line": {
              "color": "white"
             }
            },
            "type": "table"
           }
          ]
         },
         "layout": {
          "annotationdefaults": {
           "arrowcolor": "#2a3f5f",
           "arrowhead": 0,
           "arrowwidth": 1
          },
          "autotypenumbers": "strict",
          "coloraxis": {
           "colorbar": {
            "outlinewidth": 0,
            "ticks": ""
           }
          },
          "colorscale": {
           "diverging": [
            [
             0,
             "#8e0152"
            ],
            [
             0.1,
             "#c51b7d"
            ],
            [
             0.2,
             "#de77ae"
            ],
            [
             0.3,
             "#f1b6da"
            ],
            [
             0.4,
             "#fde0ef"
            ],
            [
             0.5,
             "#f7f7f7"
            ],
            [
             0.6,
             "#e6f5d0"
            ],
            [
             0.7,
             "#b8e186"
            ],
            [
             0.8,
             "#7fbc41"
            ],
            [
             0.9,
             "#4d9221"
            ],
            [
             1,
             "#276419"
            ]
           ],
           "sequential": [
            [
             0,
             "#0d0887"
            ],
            [
             0.1111111111111111,
             "#46039f"
            ],
            [
             0.2222222222222222,
             "#7201a8"
            ],
            [
             0.3333333333333333,
             "#9c179e"
            ],
            [
             0.4444444444444444,
             "#bd3786"
            ],
            [
             0.5555555555555556,
             "#d8576b"
            ],
            [
             0.6666666666666666,
             "#ed7953"
            ],
            [
             0.7777777777777778,
             "#fb9f3a"
            ],
            [
             0.8888888888888888,
             "#fdca26"
            ],
            [
             1,
             "#f0f921"
            ]
           ],
           "sequentialminus": [
            [
             0,
             "#0d0887"
            ],
            [
             0.1111111111111111,
             "#46039f"
            ],
            [
             0.2222222222222222,
             "#7201a8"
            ],
            [
             0.3333333333333333,
             "#9c179e"
            ],
            [
             0.4444444444444444,
             "#bd3786"
            ],
            [
             0.5555555555555556,
             "#d8576b"
            ],
            [
             0.6666666666666666,
             "#ed7953"
            ],
            [
             0.7777777777777778,
             "#fb9f3a"
            ],
            [
             0.8888888888888888,
             "#fdca26"
            ],
            [
             1,
             "#f0f921"
            ]
           ]
          },
          "colorway": [
           "#636efa",
           "#EF553B",
           "#00cc96",
           "#ab63fa",
           "#FFA15A",
           "#19d3f3",
           "#FF6692",
           "#B6E880",
           "#FF97FF",
           "#FECB52"
          ],
          "font": {
           "color": "#2a3f5f"
          },
          "geo": {
           "bgcolor": "white",
           "lakecolor": "white",
           "landcolor": "#E5ECF6",
           "showlakes": true,
           "showland": true,
           "subunitcolor": "white"
          },
          "hoverlabel": {
           "align": "left"
          },
          "hovermode": "closest",
          "mapbox": {
           "style": "light"
          },
          "paper_bgcolor": "white",
          "plot_bgcolor": "#E5ECF6",
          "polar": {
           "angularaxis": {
            "gridcolor": "white",
            "linecolor": "white",
            "ticks": ""
           },
           "bgcolor": "#E5ECF6",
           "radialaxis": {
            "gridcolor": "white",
            "linecolor": "white",
            "ticks": ""
           }
          },
          "scene": {
           "xaxis": {
            "backgroundcolor": "#E5ECF6",
            "gridcolor": "white",
            "gridwidth": 2,
            "linecolor": "white",
            "showbackground": true,
            "ticks": "",
            "zerolinecolor": "white"
           },
           "yaxis": {
            "backgroundcolor": "#E5ECF6",
            "gridcolor": "white",
            "gridwidth": 2,
            "linecolor": "white",
            "showbackground": true,
            "ticks": "",
            "zerolinecolor": "white"
           },
           "zaxis": {
            "backgroundcolor": "#E5ECF6",
            "gridcolor": "white",
            "gridwidth": 2,
            "linecolor": "white",
            "showbackground": true,
            "ticks": "",
            "zerolinecolor": "white"
           }
          },
          "shapedefaults": {
           "line": {
            "color": "#2a3f5f"
           }
          },
          "ternary": {
           "aaxis": {
            "gridcolor": "white",
            "linecolor": "white",
            "ticks": ""
           },
           "baxis": {
            "gridcolor": "white",
            "linecolor": "white",
            "ticks": ""
           },
           "bgcolor": "#E5ECF6",
           "caxis": {
            "gridcolor": "white",
            "linecolor": "white",
            "ticks": ""
           }
          },
          "title": {
           "x": 0.05
          },
          "xaxis": {
           "automargin": true,
           "gridcolor": "white",
           "linecolor": "white",
           "ticks": "",
           "title": {
            "standoff": 15
           },
           "zerolinecolor": "white",
           "zerolinewidth": 2
          },
          "yaxis": {
           "automargin": true,
           "gridcolor": "white",
           "linecolor": "white",
           "ticks": "",
           "title": {
            "standoff": 15
           },
           "zerolinecolor": "white",
           "zerolinewidth": 2
          }
         }
        },
        "title": {
         "text": "Negative Sales Trends by Product and Year"
        },
        "xaxis": {
         "anchor": "y",
         "domain": [
          0,
          1
         ],
         "tickangle": -45,
         "title": {
          "text": "Year"
         }
        },
        "yaxis": {
         "anchor": "x",
         "domain": [
          0,
          1
         ],
         "title": {
          "text": "Total Negative Sales (EUR)"
         }
        }
       }
      }
     },
     "metadata": {},
     "output_type": "display_data"
    }
   ],
   "source": [
    "negative_sales.loc[:, 'Year'] = negative_sales['DATE'].dt.year\n",
    "\n",
    "# Group by 'Mapped_GCK' (Product) and 'Year' to calculate the sum of 'Sales_EUR' and count the occurrences\n",
    "grouped_negative_sales_year = negative_sales.groupby(['Mapped_GCK', 'Year']).agg(\n",
    "    Sales_Sum=('Sales_EUR', 'sum'),\n",
    "    Sales_Count=('Sales_EUR', 'size')\n",
    ").reset_index()\n",
    "\n",
    "plot_sales_by_product_month(grouped_negative_sales_year, 'Year', 'Sales_Sum', 'Mapped_GCK', 'Negative Sales Trends by Product and Year', 'Year', 'Total Negative Sales (EUR)')"
   ]
  },
  {
   "cell_type": "markdown",
   "metadata": {},
   "source": [
    "- **2019** was a challenging year for some products. **Product 1** experienced its lowest negative sales (€1.2M), followed by **Product 5**, which also had a significant amount (€770K). Additionally, **Products 11** and **16** saw the majority of their returns in this year. This is somewhat reassuring, as **Product 11** is one of the more expensive items, so it’s good to see that the issues appear to be contained.\n",
    "\n",
    "- In **2020**, while **Product 1** (€420K) and **Product 5** (€370K) continued to have large returns, **Product 3** saw a notable increase in negative sales (€830K), along with **Product 6** (€333K). This combination of returns had a substantial impact. In **2021**, **Product 5** experienced a significant spike in negative sales (€1M), reinforcing the pattern that **Products 1** and **5** consistently face issues— which is concerning given that these are costly products. In contrast, the other products likely experienced negative sales due to more localized production problems, which may have been minimized over time."
   ]
  },
  {
   "cell_type": "code",
   "execution_count": 672,
   "metadata": {},
   "outputs": [
    {
     "data": {
      "application/vnd.plotly.v1+json": {
       "config": {
        "plotlyServerURL": "https://plot.ly"
       },
       "data": [
        {
         "hovertemplate": "Product=3<br>month_year=%{x}<br>Total Sales (EUR)=%{y}<extra></extra>",
         "legendgroup": "3",
         "line": {
          "color": "#636efa",
          "dash": "solid"
         },
         "marker": {
          "symbol": "circle"
         },
         "mode": "lines",
         "name": "3",
         "orientation": "v",
         "showlegend": true,
         "type": "scatter",
         "x": [
          "2018-11",
          "2018-12",
          "2019-01",
          "2019-02",
          "2019-03",
          "2019-04",
          "2019-05",
          "2019-08",
          "2019-09",
          "2019-10",
          "2019-12",
          "2020-01",
          "2020-03",
          "2020-04",
          "2020-05",
          "2020-06",
          "2020-07",
          "2020-08",
          "2020-09",
          "2020-10",
          "2020-11",
          "2020-12",
          "2021-01",
          "2021-02",
          "2021-03",
          "2021-05",
          "2021-06",
          "2021-07",
          "2021-08",
          "2021-09",
          "2021-10",
          "2021-11",
          "2021-12",
          "2022-01",
          "2022-02",
          "2022-04"
         ],
         "xaxis": "x",
         "y": [
          -7268.6900000000005,
          -2448.47,
          -2774.65,
          -5029.88,
          -16710.65,
          -1745.3,
          -10961.32,
          -25705.8,
          -4503.78,
          -91856.26999999999,
          -22655.53,
          -207039.55000000002,
          -476.1,
          -25523.4,
          -178.9,
          -241.9,
          -38877,
          -20428,
          -280.9,
          -16788.760000000002,
          -507286.67,
          -13849.949999999999,
          -1675.72,
          -8962.98,
          -1972.2,
          -3888,
          -2587.6,
          -800.81,
          -1076.95,
          -1330.7,
          -2984.29,
          -11169.37,
          -633.5,
          -43474.55,
          -5722.57,
          -94322.29
         ],
         "yaxis": "y"
        },
        {
         "hovertemplate": "Product=4<br>month_year=%{x}<br>Total Sales (EUR)=%{y}<extra></extra>",
         "legendgroup": "4",
         "line": {
          "color": "#EF553B",
          "dash": "solid"
         },
         "marker": {
          "symbol": "circle"
         },
         "mode": "lines",
         "name": "4",
         "orientation": "v",
         "showlegend": true,
         "type": "scatter",
         "x": [
          "2018-11",
          "2018-12",
          "2019-01",
          "2019-03",
          "2019-04",
          "2019-07",
          "2019-08",
          "2019-09",
          "2019-10",
          "2020-01",
          "2020-02",
          "2020-03",
          "2020-04",
          "2020-06",
          "2020-07",
          "2020-10",
          "2020-11",
          "2020-12",
          "2021-01",
          "2021-02",
          "2021-03",
          "2021-04",
          "2021-05",
          "2021-06",
          "2021-07",
          "2021-09",
          "2021-10",
          "2021-11",
          "2021-12",
          "2022-01",
          "2022-02",
          "2022-03",
          "2022-04"
         ],
         "xaxis": "x",
         "y": [
          -2029.91,
          -6772.4,
          -261.6,
          -7123.27,
          -2037.18,
          -68.45,
          -1071.8,
          -5763.9,
          -751.93,
          -1351.41,
          -52.08,
          -91.45,
          -67753.43,
          -55.62,
          -107.4,
          -127.4,
          -3575.17,
          -156.26,
          -1266.64,
          -77.6,
          -2574.83,
          -2483.3900000000003,
          -2833.92,
          -1615.49,
          -1513.09,
          -377.28,
          -924.06,
          -64.48,
          -733.07,
          -45.92,
          -99.36,
          -428.74,
          -721.03
         ],
         "yaxis": "y"
        },
        {
         "hovertemplate": "Product=8<br>month_year=%{x}<br>Total Sales (EUR)=%{y}<extra></extra>",
         "legendgroup": "8",
         "line": {
          "color": "#00cc96",
          "dash": "solid"
         },
         "marker": {
          "symbol": "circle"
         },
         "mode": "lines",
         "name": "8",
         "orientation": "v",
         "showlegend": true,
         "type": "scatter",
         "x": [
          "2018-11",
          "2019-03",
          "2019-11",
          "2019-12",
          "2020-02",
          "2020-03",
          "2020-06",
          "2020-07",
          "2020-08",
          "2021-03",
          "2021-04",
          "2021-05",
          "2021-09",
          "2021-11",
          "2022-03"
         ],
         "xaxis": "x",
         "y": [
          -500,
          -1000,
          -970,
          -16665.7,
          -205.9,
          -388.02,
          -47498.2,
          -2712.86,
          -105.42,
          -659.82,
          -1201.77,
          -46.2,
          -224.97,
          -2022.65,
          -2168.25
         ],
         "yaxis": "y"
        },
        {
         "hovertemplate": "Product=13<br>month_year=%{x}<br>Total Sales (EUR)=%{y}<extra></extra>",
         "legendgroup": "13",
         "line": {
          "color": "#ab63fa",
          "dash": "solid"
         },
         "marker": {
          "symbol": "circle"
         },
         "mode": "lines",
         "name": "13",
         "orientation": "v",
         "showlegend": true,
         "type": "scatter",
         "x": [
          "2018-11",
          "2019-04",
          "2019-05"
         ],
         "xaxis": "x",
         "y": [
          -158.2,
          -26.31,
          -8.59
         ],
         "yaxis": "y"
        },
        {
         "hovertemplate": "Product=36<br>month_year=%{x}<br>Total Sales (EUR)=%{y}<extra></extra>",
         "legendgroup": "36",
         "line": {
          "color": "#FFA15A",
          "dash": "solid"
         },
         "marker": {
          "symbol": "circle"
         },
         "mode": "lines",
         "name": "36",
         "orientation": "v",
         "showlegend": true,
         "type": "scatter",
         "x": [
          "2018-11",
          "2019-04",
          "2019-06",
          "2020-01",
          "2020-05",
          "2021-03",
          "2021-07",
          "2021-11"
         ],
         "xaxis": "x",
         "y": [
          -369.28,
          -246.35,
          -1779.81,
          -5887.21,
          -426.4,
          -360,
          -6.43,
          -4310.29
         ],
         "yaxis": "y"
        },
        {
         "hovertemplate": "Product=1<br>month_year=%{x}<br>Total Sales (EUR)=%{y}<extra></extra>",
         "legendgroup": "1",
         "line": {
          "color": "#19d3f3",
          "dash": "solid"
         },
         "marker": {
          "symbol": "circle"
         },
         "mode": "lines",
         "name": "1",
         "orientation": "v",
         "showlegend": true,
         "type": "scatter",
         "x": [
          "2018-12",
          "2019-01",
          "2019-02",
          "2019-03",
          "2019-04",
          "2019-05",
          "2019-06",
          "2019-07",
          "2019-08",
          "2019-09",
          "2019-10",
          "2019-11",
          "2019-12",
          "2020-01",
          "2020-02",
          "2020-03",
          "2020-04",
          "2020-05",
          "2020-06",
          "2020-10",
          "2020-12",
          "2021-02",
          "2021-04",
          "2021-05",
          "2021-06",
          "2021-07",
          "2021-08",
          "2021-09",
          "2021-10",
          "2021-11",
          "2021-12",
          "2022-01",
          "2022-02",
          "2022-03",
          "2022-04"
         ],
         "xaxis": "x",
         "y": [
          -226731.5,
          -79503.43,
          -61767.57,
          -35525.85,
          -40297.54,
          -65903.14,
          -90035.31,
          -99659.26,
          -134302.24000000002,
          -156912.4,
          -269116.32,
          -42674.71,
          -159615.1,
          -129602.68,
          -58220.45,
          -153809.78,
          -5967.410000000004,
          -7.11e-15,
          -35715.91,
          -14958.1,
          -21585.47,
          -516.63,
          -61569.08,
          -28299.18,
          -5686.33,
          -21942.84,
          -100.31,
          -125560.07,
          -68013.23,
          -55771.55,
          -67062.04,
          -90102.6,
          -61910.64,
          -3677.25,
          -82992.79
         ],
         "yaxis": "y"
        },
        {
         "hovertemplate": "Product=5<br>month_year=%{x}<br>Total Sales (EUR)=%{y}<extra></extra>",
         "legendgroup": "5",
         "line": {
          "color": "#FF6692",
          "dash": "solid"
         },
         "marker": {
          "symbol": "circle"
         },
         "mode": "lines",
         "name": "5",
         "orientation": "v",
         "showlegend": true,
         "type": "scatter",
         "x": [
          "2018-12",
          "2019-01",
          "2019-02",
          "2019-03",
          "2019-04",
          "2019-05",
          "2019-06",
          "2019-07",
          "2019-08",
          "2019-09",
          "2019-10",
          "2019-12",
          "2020-01",
          "2020-02",
          "2020-03",
          "2020-05",
          "2020-06",
          "2020-07",
          "2020-10",
          "2020-11",
          "2021-02",
          "2021-03",
          "2021-04",
          "2021-05",
          "2021-07",
          "2021-09",
          "2021-10",
          "2021-11",
          "2021-12",
          "2022-01",
          "2022-02",
          "2022-04"
         ],
         "xaxis": "x",
         "y": [
          -33573.26,
          -68223.7,
          -13269.63,
          -19537.94,
          -223152.32,
          -24107.89,
          -56671.38,
          -44725.2,
          -17267.190000000002,
          -136550.38,
          -109557.64,
          -59996.08,
          -173783.21,
          -65914.85,
          -113729.56,
          -10788.2,
          -36.96,
          -168,
          -5568.13,
          -76.75,
          -1236.91,
          -44045.23,
          -341515.12,
          -26999.41,
          -1818.39,
          -249012.51,
          -266680.17,
          -44924.31,
          -76100.05,
          -104672.3,
          -37699.240000000005,
          -5015.66
         ],
         "yaxis": "y"
        },
        {
         "hovertemplate": "Product=20<br>month_year=%{x}<br>Total Sales (EUR)=%{y}<extra></extra>",
         "legendgroup": "20",
         "line": {
          "color": "#B6E880",
          "dash": "solid"
         },
         "marker": {
          "symbol": "circle"
         },
         "mode": "lines",
         "name": "20",
         "orientation": "v",
         "showlegend": true,
         "type": "scatter",
         "x": [
          "2019-01",
          "2019-04",
          "2019-05",
          "2019-09",
          "2020-11"
         ],
         "xaxis": "x",
         "y": [
          -1.14,
          -15.63,
          -5.1,
          -6.6,
          -11.16
         ],
         "yaxis": "y"
        },
        {
         "hovertemplate": "Product=11<br>month_year=%{x}<br>Total Sales (EUR)=%{y}<extra></extra>",
         "legendgroup": "11",
         "line": {
          "color": "#FF97FF",
          "dash": "solid"
         },
         "marker": {
          "symbol": "circle"
         },
         "mode": "lines",
         "name": "11",
         "orientation": "v",
         "showlegend": true,
         "type": "scatter",
         "x": [
          "2019-03",
          "2019-08",
          "2019-10",
          "2020-10",
          "2022-01",
          "2022-02",
          "2022-04"
         ],
         "xaxis": "x",
         "y": [
          -463023.3,
          -22775,
          -9153.22,
          -2,
          -20674.27,
          -2518,
          -587.59
         ],
         "yaxis": "y"
        },
        {
         "hovertemplate": "Product=9<br>month_year=%{x}<br>Total Sales (EUR)=%{y}<extra></extra>",
         "legendgroup": "9",
         "line": {
          "color": "#FECB52",
          "dash": "solid"
         },
         "marker": {
          "symbol": "circle"
         },
         "mode": "lines",
         "name": "9",
         "orientation": "v",
         "showlegend": true,
         "type": "scatter",
         "x": [
          "2019-04",
          "2020-04",
          "2020-07",
          "2020-10",
          "2020-11",
          "2021-09",
          "2021-10",
          "2021-11",
          "2021-12",
          "2022-01",
          "2022-02"
         ],
         "xaxis": "x",
         "y": [
          -31.05,
          -375,
          -35.25,
          -35.25,
          -6787.9,
          -28.8,
          -12.96,
          -2983,
          -28.5,
          -28.5,
          -28.5
         ],
         "yaxis": "y"
        },
        {
         "hovertemplate": "Product=16<br>month_year=%{x}<br>Total Sales (EUR)=%{y}<extra></extra>",
         "legendgroup": "16",
         "line": {
          "color": "#636efa",
          "dash": "solid"
         },
         "marker": {
          "symbol": "circle"
         },
         "mode": "lines",
         "name": "16",
         "orientation": "v",
         "showlegend": true,
         "type": "scatter",
         "x": [
          "2019-04",
          "2019-06",
          "2019-09",
          "2019-12",
          "2020-08",
          "2021-05"
         ],
         "xaxis": "x",
         "y": [
          -1362.1,
          -4087,
          -12721,
          -269148.12,
          -581,
          -540
         ],
         "yaxis": "y"
        },
        {
         "hovertemplate": "Product=14<br>month_year=%{x}<br>Total Sales (EUR)=%{y}<extra></extra>",
         "legendgroup": "14",
         "line": {
          "color": "#EF553B",
          "dash": "solid"
         },
         "marker": {
          "symbol": "circle"
         },
         "mode": "lines",
         "name": "14",
         "orientation": "v",
         "showlegend": true,
         "type": "scatter",
         "x": [
          "2019-05",
          "2019-10",
          "2020-04",
          "2021-09",
          "2022-04"
         ],
         "xaxis": "x",
         "y": [
          -48.6,
          -2851.45,
          -2851.45,
          -6743.25,
          -648.8
         ],
         "yaxis": "y"
        },
        {
         "hovertemplate": "Product=6<br>month_year=%{x}<br>Total Sales (EUR)=%{y}<extra></extra>",
         "legendgroup": "6",
         "line": {
          "color": "#00cc96",
          "dash": "solid"
         },
         "marker": {
          "symbol": "circle"
         },
         "mode": "lines",
         "name": "6",
         "orientation": "v",
         "showlegend": true,
         "type": "scatter",
         "x": [
          "2019-08",
          "2019-11",
          "2020-01",
          "2020-05",
          "2020-06",
          "2021-08",
          "2021-09",
          "2022-02",
          "2022-03"
         ],
         "xaxis": "x",
         "y": [
          -5720.89,
          -36995,
          -329079.61,
          -4.55e-13,
          -4067.63,
          -43652.65,
          -1281.05,
          -54,
          -425.88
         ],
         "yaxis": "y"
        },
        {
         "hovertemplate": "Product=12<br>month_year=%{x}<br>Total Sales (EUR)=%{y}<extra></extra>",
         "legendgroup": "12",
         "line": {
          "color": "#ab63fa",
          "dash": "solid"
         },
         "marker": {
          "symbol": "circle"
         },
         "mode": "lines",
         "name": "12",
         "orientation": "v",
         "showlegend": true,
         "type": "scatter",
         "x": [
          "2020-03",
          "2020-07",
          "2021-06",
          "2021-07",
          "2021-08",
          "2021-11",
          "2022-01",
          "2022-02",
          "2022-03"
         ],
         "xaxis": "x",
         "y": [
          -4796,
          -720,
          -520.8,
          -449.4,
          -1139.25,
          -1071.38,
          -1464.75,
          -4312.78,
          -1013.4
         ],
         "yaxis": "y"
        }
       ],
       "layout": {
        "legend": {
         "title": {
          "text": "Product"
         },
         "tracegroupgap": 0
        },
        "template": {
         "data": {
          "bar": [
           {
            "error_x": {
             "color": "#2a3f5f"
            },
            "error_y": {
             "color": "#2a3f5f"
            },
            "marker": {
             "line": {
              "color": "#E5ECF6",
              "width": 0.5
             },
             "pattern": {
              "fillmode": "overlay",
              "size": 10,
              "solidity": 0.2
             }
            },
            "type": "bar"
           }
          ],
          "barpolar": [
           {
            "marker": {
             "line": {
              "color": "#E5ECF6",
              "width": 0.5
             },
             "pattern": {
              "fillmode": "overlay",
              "size": 10,
              "solidity": 0.2
             }
            },
            "type": "barpolar"
           }
          ],
          "carpet": [
           {
            "aaxis": {
             "endlinecolor": "#2a3f5f",
             "gridcolor": "white",
             "linecolor": "white",
             "minorgridcolor": "white",
             "startlinecolor": "#2a3f5f"
            },
            "baxis": {
             "endlinecolor": "#2a3f5f",
             "gridcolor": "white",
             "linecolor": "white",
             "minorgridcolor": "white",
             "startlinecolor": "#2a3f5f"
            },
            "type": "carpet"
           }
          ],
          "choropleth": [
           {
            "colorbar": {
             "outlinewidth": 0,
             "ticks": ""
            },
            "type": "choropleth"
           }
          ],
          "contour": [
           {
            "colorbar": {
             "outlinewidth": 0,
             "ticks": ""
            },
            "colorscale": [
             [
              0,
              "#0d0887"
             ],
             [
              0.1111111111111111,
              "#46039f"
             ],
             [
              0.2222222222222222,
              "#7201a8"
             ],
             [
              0.3333333333333333,
              "#9c179e"
             ],
             [
              0.4444444444444444,
              "#bd3786"
             ],
             [
              0.5555555555555556,
              "#d8576b"
             ],
             [
              0.6666666666666666,
              "#ed7953"
             ],
             [
              0.7777777777777778,
              "#fb9f3a"
             ],
             [
              0.8888888888888888,
              "#fdca26"
             ],
             [
              1,
              "#f0f921"
             ]
            ],
            "type": "contour"
           }
          ],
          "contourcarpet": [
           {
            "colorbar": {
             "outlinewidth": 0,
             "ticks": ""
            },
            "type": "contourcarpet"
           }
          ],
          "heatmap": [
           {
            "colorbar": {
             "outlinewidth": 0,
             "ticks": ""
            },
            "colorscale": [
             [
              0,
              "#0d0887"
             ],
             [
              0.1111111111111111,
              "#46039f"
             ],
             [
              0.2222222222222222,
              "#7201a8"
             ],
             [
              0.3333333333333333,
              "#9c179e"
             ],
             [
              0.4444444444444444,
              "#bd3786"
             ],
             [
              0.5555555555555556,
              "#d8576b"
             ],
             [
              0.6666666666666666,
              "#ed7953"
             ],
             [
              0.7777777777777778,
              "#fb9f3a"
             ],
             [
              0.8888888888888888,
              "#fdca26"
             ],
             [
              1,
              "#f0f921"
             ]
            ],
            "type": "heatmap"
           }
          ],
          "heatmapgl": [
           {
            "colorbar": {
             "outlinewidth": 0,
             "ticks": ""
            },
            "colorscale": [
             [
              0,
              "#0d0887"
             ],
             [
              0.1111111111111111,
              "#46039f"
             ],
             [
              0.2222222222222222,
              "#7201a8"
             ],
             [
              0.3333333333333333,
              "#9c179e"
             ],
             [
              0.4444444444444444,
              "#bd3786"
             ],
             [
              0.5555555555555556,
              "#d8576b"
             ],
             [
              0.6666666666666666,
              "#ed7953"
             ],
             [
              0.7777777777777778,
              "#fb9f3a"
             ],
             [
              0.8888888888888888,
              "#fdca26"
             ],
             [
              1,
              "#f0f921"
             ]
            ],
            "type": "heatmapgl"
           }
          ],
          "histogram": [
           {
            "marker": {
             "pattern": {
              "fillmode": "overlay",
              "size": 10,
              "solidity": 0.2
             }
            },
            "type": "histogram"
           }
          ],
          "histogram2d": [
           {
            "colorbar": {
             "outlinewidth": 0,
             "ticks": ""
            },
            "colorscale": [
             [
              0,
              "#0d0887"
             ],
             [
              0.1111111111111111,
              "#46039f"
             ],
             [
              0.2222222222222222,
              "#7201a8"
             ],
             [
              0.3333333333333333,
              "#9c179e"
             ],
             [
              0.4444444444444444,
              "#bd3786"
             ],
             [
              0.5555555555555556,
              "#d8576b"
             ],
             [
              0.6666666666666666,
              "#ed7953"
             ],
             [
              0.7777777777777778,
              "#fb9f3a"
             ],
             [
              0.8888888888888888,
              "#fdca26"
             ],
             [
              1,
              "#f0f921"
             ]
            ],
            "type": "histogram2d"
           }
          ],
          "histogram2dcontour": [
           {
            "colorbar": {
             "outlinewidth": 0,
             "ticks": ""
            },
            "colorscale": [
             [
              0,
              "#0d0887"
             ],
             [
              0.1111111111111111,
              "#46039f"
             ],
             [
              0.2222222222222222,
              "#7201a8"
             ],
             [
              0.3333333333333333,
              "#9c179e"
             ],
             [
              0.4444444444444444,
              "#bd3786"
             ],
             [
              0.5555555555555556,
              "#d8576b"
             ],
             [
              0.6666666666666666,
              "#ed7953"
             ],
             [
              0.7777777777777778,
              "#fb9f3a"
             ],
             [
              0.8888888888888888,
              "#fdca26"
             ],
             [
              1,
              "#f0f921"
             ]
            ],
            "type": "histogram2dcontour"
           }
          ],
          "mesh3d": [
           {
            "colorbar": {
             "outlinewidth": 0,
             "ticks": ""
            },
            "type": "mesh3d"
           }
          ],
          "parcoords": [
           {
            "line": {
             "colorbar": {
              "outlinewidth": 0,
              "ticks": ""
             }
            },
            "type": "parcoords"
           }
          ],
          "pie": [
           {
            "automargin": true,
            "type": "pie"
           }
          ],
          "scatter": [
           {
            "fillpattern": {
             "fillmode": "overlay",
             "size": 10,
             "solidity": 0.2
            },
            "type": "scatter"
           }
          ],
          "scatter3d": [
           {
            "line": {
             "colorbar": {
              "outlinewidth": 0,
              "ticks": ""
             }
            },
            "marker": {
             "colorbar": {
              "outlinewidth": 0,
              "ticks": ""
             }
            },
            "type": "scatter3d"
           }
          ],
          "scattercarpet": [
           {
            "marker": {
             "colorbar": {
              "outlinewidth": 0,
              "ticks": ""
             }
            },
            "type": "scattercarpet"
           }
          ],
          "scattergeo": [
           {
            "marker": {
             "colorbar": {
              "outlinewidth": 0,
              "ticks": ""
             }
            },
            "type": "scattergeo"
           }
          ],
          "scattergl": [
           {
            "marker": {
             "colorbar": {
              "outlinewidth": 0,
              "ticks": ""
             }
            },
            "type": "scattergl"
           }
          ],
          "scattermapbox": [
           {
            "marker": {
             "colorbar": {
              "outlinewidth": 0,
              "ticks": ""
             }
            },
            "type": "scattermapbox"
           }
          ],
          "scatterpolar": [
           {
            "marker": {
             "colorbar": {
              "outlinewidth": 0,
              "ticks": ""
             }
            },
            "type": "scatterpolar"
           }
          ],
          "scatterpolargl": [
           {
            "marker": {
             "colorbar": {
              "outlinewidth": 0,
              "ticks": ""
             }
            },
            "type": "scatterpolargl"
           }
          ],
          "scatterternary": [
           {
            "marker": {
             "colorbar": {
              "outlinewidth": 0,
              "ticks": ""
             }
            },
            "type": "scatterternary"
           }
          ],
          "surface": [
           {
            "colorbar": {
             "outlinewidth": 0,
             "ticks": ""
            },
            "colorscale": [
             [
              0,
              "#0d0887"
             ],
             [
              0.1111111111111111,
              "#46039f"
             ],
             [
              0.2222222222222222,
              "#7201a8"
             ],
             [
              0.3333333333333333,
              "#9c179e"
             ],
             [
              0.4444444444444444,
              "#bd3786"
             ],
             [
              0.5555555555555556,
              "#d8576b"
             ],
             [
              0.6666666666666666,
              "#ed7953"
             ],
             [
              0.7777777777777778,
              "#fb9f3a"
             ],
             [
              0.8888888888888888,
              "#fdca26"
             ],
             [
              1,
              "#f0f921"
             ]
            ],
            "type": "surface"
           }
          ],
          "table": [
           {
            "cells": {
             "fill": {
              "color": "#EBF0F8"
             },
             "line": {
              "color": "white"
             }
            },
            "header": {
             "fill": {
              "color": "#C8D4E3"
             },
             "line": {
              "color": "white"
             }
            },
            "type": "table"
           }
          ]
         },
         "layout": {
          "annotationdefaults": {
           "arrowcolor": "#2a3f5f",
           "arrowhead": 0,
           "arrowwidth": 1
          },
          "autotypenumbers": "strict",
          "coloraxis": {
           "colorbar": {
            "outlinewidth": 0,
            "ticks": ""
           }
          },
          "colorscale": {
           "diverging": [
            [
             0,
             "#8e0152"
            ],
            [
             0.1,
             "#c51b7d"
            ],
            [
             0.2,
             "#de77ae"
            ],
            [
             0.3,
             "#f1b6da"
            ],
            [
             0.4,
             "#fde0ef"
            ],
            [
             0.5,
             "#f7f7f7"
            ],
            [
             0.6,
             "#e6f5d0"
            ],
            [
             0.7,
             "#b8e186"
            ],
            [
             0.8,
             "#7fbc41"
            ],
            [
             0.9,
             "#4d9221"
            ],
            [
             1,
             "#276419"
            ]
           ],
           "sequential": [
            [
             0,
             "#0d0887"
            ],
            [
             0.1111111111111111,
             "#46039f"
            ],
            [
             0.2222222222222222,
             "#7201a8"
            ],
            [
             0.3333333333333333,
             "#9c179e"
            ],
            [
             0.4444444444444444,
             "#bd3786"
            ],
            [
             0.5555555555555556,
             "#d8576b"
            ],
            [
             0.6666666666666666,
             "#ed7953"
            ],
            [
             0.7777777777777778,
             "#fb9f3a"
            ],
            [
             0.8888888888888888,
             "#fdca26"
            ],
            [
             1,
             "#f0f921"
            ]
           ],
           "sequentialminus": [
            [
             0,
             "#0d0887"
            ],
            [
             0.1111111111111111,
             "#46039f"
            ],
            [
             0.2222222222222222,
             "#7201a8"
            ],
            [
             0.3333333333333333,
             "#9c179e"
            ],
            [
             0.4444444444444444,
             "#bd3786"
            ],
            [
             0.5555555555555556,
             "#d8576b"
            ],
            [
             0.6666666666666666,
             "#ed7953"
            ],
            [
             0.7777777777777778,
             "#fb9f3a"
            ],
            [
             0.8888888888888888,
             "#fdca26"
            ],
            [
             1,
             "#f0f921"
            ]
           ]
          },
          "colorway": [
           "#636efa",
           "#EF553B",
           "#00cc96",
           "#ab63fa",
           "#FFA15A",
           "#19d3f3",
           "#FF6692",
           "#B6E880",
           "#FF97FF",
           "#FECB52"
          ],
          "font": {
           "color": "#2a3f5f"
          },
          "geo": {
           "bgcolor": "white",
           "lakecolor": "white",
           "landcolor": "#E5ECF6",
           "showlakes": true,
           "showland": true,
           "subunitcolor": "white"
          },
          "hoverlabel": {
           "align": "left"
          },
          "hovermode": "closest",
          "mapbox": {
           "style": "light"
          },
          "paper_bgcolor": "white",
          "plot_bgcolor": "#E5ECF6",
          "polar": {
           "angularaxis": {
            "gridcolor": "white",
            "linecolor": "white",
            "ticks": ""
           },
           "bgcolor": "#E5ECF6",
           "radialaxis": {
            "gridcolor": "white",
            "linecolor": "white",
            "ticks": ""
           }
          },
          "scene": {
           "xaxis": {
            "backgroundcolor": "#E5ECF6",
            "gridcolor": "white",
            "gridwidth": 2,
            "linecolor": "white",
            "showbackground": true,
            "ticks": "",
            "zerolinecolor": "white"
           },
           "yaxis": {
            "backgroundcolor": "#E5ECF6",
            "gridcolor": "white",
            "gridwidth": 2,
            "linecolor": "white",
            "showbackground": true,
            "ticks": "",
            "zerolinecolor": "white"
           },
           "zaxis": {
            "backgroundcolor": "#E5ECF6",
            "gridcolor": "white",
            "gridwidth": 2,
            "linecolor": "white",
            "showbackground": true,
            "ticks": "",
            "zerolinecolor": "white"
           }
          },
          "shapedefaults": {
           "line": {
            "color": "#2a3f5f"
           }
          },
          "ternary": {
           "aaxis": {
            "gridcolor": "white",
            "linecolor": "white",
            "ticks": ""
           },
           "baxis": {
            "gridcolor": "white",
            "linecolor": "white",
            "ticks": ""
           },
           "bgcolor": "#E5ECF6",
           "caxis": {
            "gridcolor": "white",
            "linecolor": "white",
            "ticks": ""
           }
          },
          "title": {
           "x": 0.05
          },
          "xaxis": {
           "automargin": true,
           "gridcolor": "white",
           "linecolor": "white",
           "ticks": "",
           "title": {
            "standoff": 15
           },
           "zerolinecolor": "white",
           "zerolinewidth": 2
          },
          "yaxis": {
           "automargin": true,
           "gridcolor": "white",
           "linecolor": "white",
           "ticks": "",
           "title": {
            "standoff": 15
           },
           "zerolinecolor": "white",
           "zerolinewidth": 2
          }
         }
        },
        "title": {
         "text": "Negative Sales by Product and Month"
        },
        "xaxis": {
         "anchor": "y",
         "domain": [
          0,
          1
         ],
         "tickangle": -45,
         "title": {
          "text": "month_year"
         }
        },
        "yaxis": {
         "anchor": "x",
         "domain": [
          0,
          1
         ],
         "title": {
          "text": "Total Sales (EUR)"
         }
        }
       }
      }
     },
     "metadata": {},
     "output_type": "display_data"
    }
   ],
   "source": [
    "grouped_negative_sales_prod_month = negative_sales.groupby(['month_year', 'Mapped_GCK'])['Sales_EUR'].sum().reset_index()\n",
    "grouped_negative_sales_prod_month['month_year'] = grouped_negative_sales_prod_month['month_year'].astype(str)\n",
    "\n",
    "plot_sales_by_product_month(grouped_negative_sales_prod_month, 'month_year', 'Sales_EUR', 'Mapped_GCK', \n",
    "                            'Negative Sales by Product and Month', 'month_year', 'Total Sales (EUR)')"
   ]
  },
  {
   "cell_type": "markdown",
   "metadata": {},
   "source": [
    "The visualization of **Negative Sales by Poduct, by month** gives us an idea of the main drivers for the lower peaks in sales values:\n",
    " \n",
    "- **Mar 2019**: most negative sales for this month were driven by the product group **11**, making it possibly a production error. \n",
    "- **Jan 2020**: the month with the lowest value for sales resulted from a variety of product groups having a peak in negative sales, namely group **6**, group **16**, group **3**, group **5** and group **1**.\n",
    "- **Nov 2020**: while this was a month that looked within normal limits, now its possible to identify that the vast majority of negative sales for November 2020 come from the product group **3**, making it very likely a production error. \n",
    "- **Apr 20201**: most negative sales for this month were driven by the product group **5**, with a slight peak in group **1** as well, making it possibly a production error.\n",
    "- **Sep and Oct 2021**: both this months have a similar behaviour to the one of **Apr 2021**, being the main drivers of negative sales products **5** and **1**."
   ]
  },
  {
   "cell_type": "markdown",
   "metadata": {},
   "source": [
    "##### <span style=\"background-color:#000027; padding:5px; border-radius:5px;\">**2.5. Positive Values Analysis**</span> <a id='positive-values'></a> "
   ]
  },
  {
   "cell_type": "code",
   "execution_count": 673,
   "metadata": {},
   "outputs": [],
   "source": [
    "positive_sales = df_sales[df_sales['Sales_EUR'] > 0].copy()"
   ]
  },
  {
   "cell_type": "code",
   "execution_count": 674,
   "metadata": {},
   "outputs": [
    {
     "data": {
      "application/vnd.plotly.v1+json": {
       "config": {
        "plotlyServerURL": "https://plot.ly"
       },
       "data": [
        {
         "hovertemplate": "Year-Month=%{x}<br>Total Positive Sales (EUR)=%{y}<extra></extra>",
         "legendgroup": "",
         "line": {
          "color": "#636efa",
          "dash": "solid"
         },
         "marker": {
          "symbol": "circle"
         },
         "mode": "lines",
         "name": "",
         "orientation": "v",
         "showlegend": false,
         "type": "scatter",
         "x": [
          "2018-10",
          "2018-11",
          "2018-12",
          "2019-01",
          "2019-02",
          "2019-03",
          "2019-04",
          "2019-05",
          "2019-06",
          "2019-07",
          "2019-08",
          "2019-09",
          "2019-10",
          "2019-11",
          "2019-12",
          "2020-01",
          "2020-02",
          "2020-03",
          "2020-04",
          "2020-05",
          "2020-06",
          "2020-07",
          "2020-08",
          "2020-09",
          "2020-10",
          "2020-11",
          "2020-12",
          "2021-01",
          "2021-02",
          "2021-03",
          "2021-04",
          "2021-05",
          "2021-06",
          "2021-07",
          "2021-08",
          "2021-09",
          "2021-10",
          "2021-11",
          "2021-12",
          "2022-01",
          "2022-02",
          "2022-03",
          "2022-04"
         ],
         "xaxis": "x",
         "y": [
          49471370.83,
          30770904.55,
          61581594.42,
          51510913.75,
          54417000.75,
          61978807.29,
          60866949.22,
          65664848,
          66404505.580000006,
          65069880.82,
          61836862.06,
          79403679.06,
          63924045.19,
          62249510.89,
          66217293.440000005,
          55599564.18,
          59050691.14,
          65805919.559999995,
          60575795.64,
          55013121.129999995,
          64498342.86,
          57881224.910000004,
          64173923.309999995,
          75588672.12,
          58159471.34,
          66121610.22,
          56851276.01,
          33060585.620000005,
          72792046.36,
          63105170.58,
          66209959.779999994,
          61462465.69,
          65113761.35,
          63742759.8,
          73348997.89,
          75944508.46,
          71569870.81,
          66946423.35,
          61517591.78,
          62680650.96,
          63013414.629999995,
          74679028.6,
          65577399.17
         ],
         "yaxis": "y"
        }
       ],
       "layout": {
        "legend": {
         "tracegroupgap": 0
        },
        "template": {
         "data": {
          "bar": [
           {
            "error_x": {
             "color": "#2a3f5f"
            },
            "error_y": {
             "color": "#2a3f5f"
            },
            "marker": {
             "line": {
              "color": "#E5ECF6",
              "width": 0.5
             },
             "pattern": {
              "fillmode": "overlay",
              "size": 10,
              "solidity": 0.2
             }
            },
            "type": "bar"
           }
          ],
          "barpolar": [
           {
            "marker": {
             "line": {
              "color": "#E5ECF6",
              "width": 0.5
             },
             "pattern": {
              "fillmode": "overlay",
              "size": 10,
              "solidity": 0.2
             }
            },
            "type": "barpolar"
           }
          ],
          "carpet": [
           {
            "aaxis": {
             "endlinecolor": "#2a3f5f",
             "gridcolor": "white",
             "linecolor": "white",
             "minorgridcolor": "white",
             "startlinecolor": "#2a3f5f"
            },
            "baxis": {
             "endlinecolor": "#2a3f5f",
             "gridcolor": "white",
             "linecolor": "white",
             "minorgridcolor": "white",
             "startlinecolor": "#2a3f5f"
            },
            "type": "carpet"
           }
          ],
          "choropleth": [
           {
            "colorbar": {
             "outlinewidth": 0,
             "ticks": ""
            },
            "type": "choropleth"
           }
          ],
          "contour": [
           {
            "colorbar": {
             "outlinewidth": 0,
             "ticks": ""
            },
            "colorscale": [
             [
              0,
              "#0d0887"
             ],
             [
              0.1111111111111111,
              "#46039f"
             ],
             [
              0.2222222222222222,
              "#7201a8"
             ],
             [
              0.3333333333333333,
              "#9c179e"
             ],
             [
              0.4444444444444444,
              "#bd3786"
             ],
             [
              0.5555555555555556,
              "#d8576b"
             ],
             [
              0.6666666666666666,
              "#ed7953"
             ],
             [
              0.7777777777777778,
              "#fb9f3a"
             ],
             [
              0.8888888888888888,
              "#fdca26"
             ],
             [
              1,
              "#f0f921"
             ]
            ],
            "type": "contour"
           }
          ],
          "contourcarpet": [
           {
            "colorbar": {
             "outlinewidth": 0,
             "ticks": ""
            },
            "type": "contourcarpet"
           }
          ],
          "heatmap": [
           {
            "colorbar": {
             "outlinewidth": 0,
             "ticks": ""
            },
            "colorscale": [
             [
              0,
              "#0d0887"
             ],
             [
              0.1111111111111111,
              "#46039f"
             ],
             [
              0.2222222222222222,
              "#7201a8"
             ],
             [
              0.3333333333333333,
              "#9c179e"
             ],
             [
              0.4444444444444444,
              "#bd3786"
             ],
             [
              0.5555555555555556,
              "#d8576b"
             ],
             [
              0.6666666666666666,
              "#ed7953"
             ],
             [
              0.7777777777777778,
              "#fb9f3a"
             ],
             [
              0.8888888888888888,
              "#fdca26"
             ],
             [
              1,
              "#f0f921"
             ]
            ],
            "type": "heatmap"
           }
          ],
          "heatmapgl": [
           {
            "colorbar": {
             "outlinewidth": 0,
             "ticks": ""
            },
            "colorscale": [
             [
              0,
              "#0d0887"
             ],
             [
              0.1111111111111111,
              "#46039f"
             ],
             [
              0.2222222222222222,
              "#7201a8"
             ],
             [
              0.3333333333333333,
              "#9c179e"
             ],
             [
              0.4444444444444444,
              "#bd3786"
             ],
             [
              0.5555555555555556,
              "#d8576b"
             ],
             [
              0.6666666666666666,
              "#ed7953"
             ],
             [
              0.7777777777777778,
              "#fb9f3a"
             ],
             [
              0.8888888888888888,
              "#fdca26"
             ],
             [
              1,
              "#f0f921"
             ]
            ],
            "type": "heatmapgl"
           }
          ],
          "histogram": [
           {
            "marker": {
             "pattern": {
              "fillmode": "overlay",
              "size": 10,
              "solidity": 0.2
             }
            },
            "type": "histogram"
           }
          ],
          "histogram2d": [
           {
            "colorbar": {
             "outlinewidth": 0,
             "ticks": ""
            },
            "colorscale": [
             [
              0,
              "#0d0887"
             ],
             [
              0.1111111111111111,
              "#46039f"
             ],
             [
              0.2222222222222222,
              "#7201a8"
             ],
             [
              0.3333333333333333,
              "#9c179e"
             ],
             [
              0.4444444444444444,
              "#bd3786"
             ],
             [
              0.5555555555555556,
              "#d8576b"
             ],
             [
              0.6666666666666666,
              "#ed7953"
             ],
             [
              0.7777777777777778,
              "#fb9f3a"
             ],
             [
              0.8888888888888888,
              "#fdca26"
             ],
             [
              1,
              "#f0f921"
             ]
            ],
            "type": "histogram2d"
           }
          ],
          "histogram2dcontour": [
           {
            "colorbar": {
             "outlinewidth": 0,
             "ticks": ""
            },
            "colorscale": [
             [
              0,
              "#0d0887"
             ],
             [
              0.1111111111111111,
              "#46039f"
             ],
             [
              0.2222222222222222,
              "#7201a8"
             ],
             [
              0.3333333333333333,
              "#9c179e"
             ],
             [
              0.4444444444444444,
              "#bd3786"
             ],
             [
              0.5555555555555556,
              "#d8576b"
             ],
             [
              0.6666666666666666,
              "#ed7953"
             ],
             [
              0.7777777777777778,
              "#fb9f3a"
             ],
             [
              0.8888888888888888,
              "#fdca26"
             ],
             [
              1,
              "#f0f921"
             ]
            ],
            "type": "histogram2dcontour"
           }
          ],
          "mesh3d": [
           {
            "colorbar": {
             "outlinewidth": 0,
             "ticks": ""
            },
            "type": "mesh3d"
           }
          ],
          "parcoords": [
           {
            "line": {
             "colorbar": {
              "outlinewidth": 0,
              "ticks": ""
             }
            },
            "type": "parcoords"
           }
          ],
          "pie": [
           {
            "automargin": true,
            "type": "pie"
           }
          ],
          "scatter": [
           {
            "fillpattern": {
             "fillmode": "overlay",
             "size": 10,
             "solidity": 0.2
            },
            "type": "scatter"
           }
          ],
          "scatter3d": [
           {
            "line": {
             "colorbar": {
              "outlinewidth": 0,
              "ticks": ""
             }
            },
            "marker": {
             "colorbar": {
              "outlinewidth": 0,
              "ticks": ""
             }
            },
            "type": "scatter3d"
           }
          ],
          "scattercarpet": [
           {
            "marker": {
             "colorbar": {
              "outlinewidth": 0,
              "ticks": ""
             }
            },
            "type": "scattercarpet"
           }
          ],
          "scattergeo": [
           {
            "marker": {
             "colorbar": {
              "outlinewidth": 0,
              "ticks": ""
             }
            },
            "type": "scattergeo"
           }
          ],
          "scattergl": [
           {
            "marker": {
             "colorbar": {
              "outlinewidth": 0,
              "ticks": ""
             }
            },
            "type": "scattergl"
           }
          ],
          "scattermapbox": [
           {
            "marker": {
             "colorbar": {
              "outlinewidth": 0,
              "ticks": ""
             }
            },
            "type": "scattermapbox"
           }
          ],
          "scatterpolar": [
           {
            "marker": {
             "colorbar": {
              "outlinewidth": 0,
              "ticks": ""
             }
            },
            "type": "scatterpolar"
           }
          ],
          "scatterpolargl": [
           {
            "marker": {
             "colorbar": {
              "outlinewidth": 0,
              "ticks": ""
             }
            },
            "type": "scatterpolargl"
           }
          ],
          "scatterternary": [
           {
            "marker": {
             "colorbar": {
              "outlinewidth": 0,
              "ticks": ""
             }
            },
            "type": "scatterternary"
           }
          ],
          "surface": [
           {
            "colorbar": {
             "outlinewidth": 0,
             "ticks": ""
            },
            "colorscale": [
             [
              0,
              "#0d0887"
             ],
             [
              0.1111111111111111,
              "#46039f"
             ],
             [
              0.2222222222222222,
              "#7201a8"
             ],
             [
              0.3333333333333333,
              "#9c179e"
             ],
             [
              0.4444444444444444,
              "#bd3786"
             ],
             [
              0.5555555555555556,
              "#d8576b"
             ],
             [
              0.6666666666666666,
              "#ed7953"
             ],
             [
              0.7777777777777778,
              "#fb9f3a"
             ],
             [
              0.8888888888888888,
              "#fdca26"
             ],
             [
              1,
              "#f0f921"
             ]
            ],
            "type": "surface"
           }
          ],
          "table": [
           {
            "cells": {
             "fill": {
              "color": "#EBF0F8"
             },
             "line": {
              "color": "white"
             }
            },
            "header": {
             "fill": {
              "color": "#C8D4E3"
             },
             "line": {
              "color": "white"
             }
            },
            "type": "table"
           }
          ]
         },
         "layout": {
          "annotationdefaults": {
           "arrowcolor": "#2a3f5f",
           "arrowhead": 0,
           "arrowwidth": 1
          },
          "autotypenumbers": "strict",
          "coloraxis": {
           "colorbar": {
            "outlinewidth": 0,
            "ticks": ""
           }
          },
          "colorscale": {
           "diverging": [
            [
             0,
             "#8e0152"
            ],
            [
             0.1,
             "#c51b7d"
            ],
            [
             0.2,
             "#de77ae"
            ],
            [
             0.3,
             "#f1b6da"
            ],
            [
             0.4,
             "#fde0ef"
            ],
            [
             0.5,
             "#f7f7f7"
            ],
            [
             0.6,
             "#e6f5d0"
            ],
            [
             0.7,
             "#b8e186"
            ],
            [
             0.8,
             "#7fbc41"
            ],
            [
             0.9,
             "#4d9221"
            ],
            [
             1,
             "#276419"
            ]
           ],
           "sequential": [
            [
             0,
             "#0d0887"
            ],
            [
             0.1111111111111111,
             "#46039f"
            ],
            [
             0.2222222222222222,
             "#7201a8"
            ],
            [
             0.3333333333333333,
             "#9c179e"
            ],
            [
             0.4444444444444444,
             "#bd3786"
            ],
            [
             0.5555555555555556,
             "#d8576b"
            ],
            [
             0.6666666666666666,
             "#ed7953"
            ],
            [
             0.7777777777777778,
             "#fb9f3a"
            ],
            [
             0.8888888888888888,
             "#fdca26"
            ],
            [
             1,
             "#f0f921"
            ]
           ],
           "sequentialminus": [
            [
             0,
             "#0d0887"
            ],
            [
             0.1111111111111111,
             "#46039f"
            ],
            [
             0.2222222222222222,
             "#7201a8"
            ],
            [
             0.3333333333333333,
             "#9c179e"
            ],
            [
             0.4444444444444444,
             "#bd3786"
            ],
            [
             0.5555555555555556,
             "#d8576b"
            ],
            [
             0.6666666666666666,
             "#ed7953"
            ],
            [
             0.7777777777777778,
             "#fb9f3a"
            ],
            [
             0.8888888888888888,
             "#fdca26"
            ],
            [
             1,
             "#f0f921"
            ]
           ]
          },
          "colorway": [
           "#636efa",
           "#EF553B",
           "#00cc96",
           "#ab63fa",
           "#FFA15A",
           "#19d3f3",
           "#FF6692",
           "#B6E880",
           "#FF97FF",
           "#FECB52"
          ],
          "font": {
           "color": "#2a3f5f"
          },
          "geo": {
           "bgcolor": "white",
           "lakecolor": "white",
           "landcolor": "#E5ECF6",
           "showlakes": true,
           "showland": true,
           "subunitcolor": "white"
          },
          "hoverlabel": {
           "align": "left"
          },
          "hovermode": "closest",
          "mapbox": {
           "style": "light"
          },
          "paper_bgcolor": "white",
          "plot_bgcolor": "#E5ECF6",
          "polar": {
           "angularaxis": {
            "gridcolor": "white",
            "linecolor": "white",
            "ticks": ""
           },
           "bgcolor": "#E5ECF6",
           "radialaxis": {
            "gridcolor": "white",
            "linecolor": "white",
            "ticks": ""
           }
          },
          "scene": {
           "xaxis": {
            "backgroundcolor": "#E5ECF6",
            "gridcolor": "white",
            "gridwidth": 2,
            "linecolor": "white",
            "showbackground": true,
            "ticks": "",
            "zerolinecolor": "white"
           },
           "yaxis": {
            "backgroundcolor": "#E5ECF6",
            "gridcolor": "white",
            "gridwidth": 2,
            "linecolor": "white",
            "showbackground": true,
            "ticks": "",
            "zerolinecolor": "white"
           },
           "zaxis": {
            "backgroundcolor": "#E5ECF6",
            "gridcolor": "white",
            "gridwidth": 2,
            "linecolor": "white",
            "showbackground": true,
            "ticks": "",
            "zerolinecolor": "white"
           }
          },
          "shapedefaults": {
           "line": {
            "color": "#2a3f5f"
           }
          },
          "ternary": {
           "aaxis": {
            "gridcolor": "white",
            "linecolor": "white",
            "ticks": ""
           },
           "baxis": {
            "gridcolor": "white",
            "linecolor": "white",
            "ticks": ""
           },
           "bgcolor": "#E5ECF6",
           "caxis": {
            "gridcolor": "white",
            "linecolor": "white",
            "ticks": ""
           }
          },
          "title": {
           "x": 0.05
          },
          "xaxis": {
           "automargin": true,
           "gridcolor": "white",
           "linecolor": "white",
           "ticks": "",
           "title": {
            "standoff": 15
           },
           "zerolinecolor": "white",
           "zerolinewidth": 2
          },
          "yaxis": {
           "automargin": true,
           "gridcolor": "white",
           "linecolor": "white",
           "ticks": "",
           "title": {
            "standoff": 15
           },
           "zerolinecolor": "white",
           "zerolinewidth": 2
          }
         }
        },
        "title": {
         "text": "Positive Sales by Month"
        },
        "xaxis": {
         "anchor": "y",
         "domain": [
          0,
          1
         ],
         "title": {
          "text": "Year-Month"
         }
        },
        "yaxis": {
         "anchor": "x",
         "domain": [
          0,
          1
         ],
         "title": {
          "text": "Total Positive Sales (EUR)"
         }
        }
       }
      }
     },
     "metadata": {},
     "output_type": "display_data"
    }
   ],
   "source": [
    "grouped_positive_sales_month = positive_sales.groupby('month_year')['Sales_EUR'].sum().reset_index()\n",
    "\n",
    "grouped_positive_sales_month['month_year'] = grouped_positive_sales_month['month_year'].astype(str)\n",
    "\n",
    "plot_sales(grouped_positive_sales_month, 'month_year', 'Sales_EUR', 'Positive Sales by Month', 'Year-Month', 'Total Positive Sales (EUR)')"
   ]
  },
  {
   "cell_type": "code",
   "execution_count": 675,
   "metadata": {},
   "outputs": [
    {
     "data": {
      "text/html": [
       "<div>\n",
       "<style scoped>\n",
       "    .dataframe tbody tr th:only-of-type {\n",
       "        vertical-align: middle;\n",
       "    }\n",
       "\n",
       "    .dataframe tbody tr th {\n",
       "        vertical-align: top;\n",
       "    }\n",
       "\n",
       "    .dataframe thead th {\n",
       "        text-align: right;\n",
       "    }\n",
       "</style>\n",
       "<table border=\"1\" class=\"dataframe\">\n",
       "  <thead>\n",
       "    <tr style=\"text-align: right;\">\n",
       "      <th>month_year</th>\n",
       "      <th>2018-11</th>\n",
       "      <th>2018-12</th>\n",
       "      <th>2019-01</th>\n",
       "      <th>2019-02</th>\n",
       "      <th>2019-03</th>\n",
       "      <th>2019-04</th>\n",
       "      <th>2019-05</th>\n",
       "      <th>2019-06</th>\n",
       "      <th>2019-07</th>\n",
       "      <th>2019-08</th>\n",
       "      <th>2019-09</th>\n",
       "      <th>2019-10</th>\n",
       "      <th>2019-11</th>\n",
       "      <th>2019-12</th>\n",
       "      <th>2020-01</th>\n",
       "      <th>2020-02</th>\n",
       "      <th>2020-03</th>\n",
       "      <th>2020-04</th>\n",
       "      <th>2020-05</th>\n",
       "      <th>2020-06</th>\n",
       "      <th>2020-07</th>\n",
       "      <th>2020-08</th>\n",
       "      <th>2020-09</th>\n",
       "      <th>2020-10</th>\n",
       "      <th>2020-11</th>\n",
       "      <th>2020-12</th>\n",
       "      <th>2021-01</th>\n",
       "      <th>2021-02</th>\n",
       "      <th>2021-03</th>\n",
       "      <th>2021-04</th>\n",
       "      <th>2021-05</th>\n",
       "      <th>2021-06</th>\n",
       "      <th>2021-07</th>\n",
       "      <th>2021-08</th>\n",
       "      <th>2021-09</th>\n",
       "      <th>2021-10</th>\n",
       "      <th>2021-11</th>\n",
       "      <th>2021-12</th>\n",
       "      <th>2022-01</th>\n",
       "      <th>2022-02</th>\n",
       "      <th>2022-03</th>\n",
       "      <th>2022-04</th>\n",
       "    </tr>\n",
       "  </thead>\n",
       "  <tbody>\n",
       "    <tr>\n",
       "      <th>Sales_EUR_pct_change_positive</th>\n",
       "      <td>-37.8000</td>\n",
       "      <td>100.1300</td>\n",
       "      <td>-16.3500</td>\n",
       "      <td>5.6400</td>\n",
       "      <td>13.9000</td>\n",
       "      <td>-1.7900</td>\n",
       "      <td>7.8800</td>\n",
       "      <td>1.1300</td>\n",
       "      <td>-2.0100</td>\n",
       "      <td>-4.9700</td>\n",
       "      <td>28.4100</td>\n",
       "      <td>-19.4900</td>\n",
       "      <td>-2.6200</td>\n",
       "      <td>6.3700</td>\n",
       "      <td>-16.0300</td>\n",
       "      <td>6.2100</td>\n",
       "      <td>11.4400</td>\n",
       "      <td>-7.9500</td>\n",
       "      <td>-9.1800</td>\n",
       "      <td>17.2400</td>\n",
       "      <td>-10.2600</td>\n",
       "      <td>10.8700</td>\n",
       "      <td>17.7900</td>\n",
       "      <td>-23.0600</td>\n",
       "      <td>13.6900</td>\n",
       "      <td>-14.0200</td>\n",
       "      <td>-41.8500</td>\n",
       "      <td>120.1800</td>\n",
       "      <td>-13.3100</td>\n",
       "      <td>4.9200</td>\n",
       "      <td>-7.1700</td>\n",
       "      <td>5.9400</td>\n",
       "      <td>-2.1100</td>\n",
       "      <td>15.0700</td>\n",
       "      <td>3.5400</td>\n",
       "      <td>-5.7600</td>\n",
       "      <td>-6.4600</td>\n",
       "      <td>-8.1100</td>\n",
       "      <td>1.8900</td>\n",
       "      <td>0.5300</td>\n",
       "      <td>18.5100</td>\n",
       "      <td>-12.1900</td>\n",
       "    </tr>\n",
       "    <tr>\n",
       "      <th>Sales_EUR_pct_change_negative</th>\n",
       "      <td>NaN</td>\n",
       "      <td>2510.1400</td>\n",
       "      <td>-44.0600</td>\n",
       "      <td>-46.8900</td>\n",
       "      <td>578.0800</td>\n",
       "      <td>-50.4700</td>\n",
       "      <td>-62.4300</td>\n",
       "      <td>51.0100</td>\n",
       "      <td>-5.3200</td>\n",
       "      <td>43.1900</td>\n",
       "      <td>52.9900</td>\n",
       "      <td>52.7200</td>\n",
       "      <td>-83.3100</td>\n",
       "      <td>554.8600</td>\n",
       "      <td>60.3400</td>\n",
       "      <td>-85.3100</td>\n",
       "      <td>119.7000</td>\n",
       "      <td>-62.5000</td>\n",
       "      <td>-88.8800</td>\n",
       "      <td>669.0000</td>\n",
       "      <td>-51.3600</td>\n",
       "      <td>-50.4600</td>\n",
       "      <td>-98.6700</td>\n",
       "      <td>13242.7000</td>\n",
       "      <td>1281.3800</td>\n",
       "      <td>-93.1300</td>\n",
       "      <td>-91.7300</td>\n",
       "      <td>266.8500</td>\n",
       "      <td>359.6200</td>\n",
       "      <td>719.9000</td>\n",
       "      <td>-84.6100</td>\n",
       "      <td>-83.3700</td>\n",
       "      <td>154.8500</td>\n",
       "      <td>73.2700</td>\n",
       "      <td>736.5600</td>\n",
       "      <td>-11.9500</td>\n",
       "      <td>-63.8800</td>\n",
       "      <td>18.1800</td>\n",
       "      <td>80.1800</td>\n",
       "      <td>-56.8700</td>\n",
       "      <td>-93.1300</td>\n",
       "      <td>2289.1600</td>\n",
       "    </tr>\n",
       "  </tbody>\n",
       "</table>\n",
       "</div>"
      ],
      "text/plain": [
       "month_year                     2018-11   2018-12  2019-01  2019-02  2019-03  \\\n",
       "Sales_EUR_pct_change_positive -37.8000  100.1300 -16.3500   5.6400  13.9000   \n",
       "Sales_EUR_pct_change_negative      NaN 2510.1400 -44.0600 -46.8900 578.0800   \n",
       "\n",
       "month_year                     2019-04  2019-05  2019-06  2019-07  2019-08  \\\n",
       "Sales_EUR_pct_change_positive  -1.7900   7.8800   1.1300  -2.0100  -4.9700   \n",
       "Sales_EUR_pct_change_negative -50.4700 -62.4300  51.0100  -5.3200  43.1900   \n",
       "\n",
       "month_year                     2019-09  2019-10  2019-11  2019-12  2020-01  \\\n",
       "Sales_EUR_pct_change_positive  28.4100 -19.4900  -2.6200   6.3700 -16.0300   \n",
       "Sales_EUR_pct_change_negative  52.9900  52.7200 -83.3100 554.8600  60.3400   \n",
       "\n",
       "month_year                     2020-02  2020-03  2020-04  2020-05  2020-06  \\\n",
       "Sales_EUR_pct_change_positive   6.2100  11.4400  -7.9500  -9.1800  17.2400   \n",
       "Sales_EUR_pct_change_negative -85.3100 119.7000 -62.5000 -88.8800 669.0000   \n",
       "\n",
       "month_year                     2020-07  2020-08  2020-09    2020-10   2020-11  \\\n",
       "Sales_EUR_pct_change_positive -10.2600  10.8700  17.7900   -23.0600   13.6900   \n",
       "Sales_EUR_pct_change_negative -51.3600 -50.4600 -98.6700 13242.7000 1281.3800   \n",
       "\n",
       "month_year                     2020-12  2021-01  2021-02  2021-03  2021-04  \\\n",
       "Sales_EUR_pct_change_positive -14.0200 -41.8500 120.1800 -13.3100   4.9200   \n",
       "Sales_EUR_pct_change_negative -93.1300 -91.7300 266.8500 359.6200 719.9000   \n",
       "\n",
       "month_year                     2021-05  2021-06  2021-07  2021-08  2021-09  \\\n",
       "Sales_EUR_pct_change_positive  -7.1700   5.9400  -2.1100  15.0700   3.5400   \n",
       "Sales_EUR_pct_change_negative -84.6100 -83.3700 154.8500  73.2700 736.5600   \n",
       "\n",
       "month_year                     2021-10  2021-11  2021-12  2022-01  2022-02  \\\n",
       "Sales_EUR_pct_change_positive  -5.7600  -6.4600  -8.1100   1.8900   0.5300   \n",
       "Sales_EUR_pct_change_negative -11.9500 -63.8800  18.1800  80.1800 -56.8700   \n",
       "\n",
       "month_year                     2022-03   2022-04  \n",
       "Sales_EUR_pct_change_positive  18.5100  -12.1900  \n",
       "Sales_EUR_pct_change_negative -93.1300 2289.1600  "
      ]
     },
     "execution_count": 675,
     "metadata": {},
     "output_type": "execute_result"
    }
   ],
   "source": [
    "# comparing the percentage change in sales for positive and negative sales\n",
    "grouped_positive_sales_month['Sales_EUR_pct_change'] = round(grouped_positive_sales_month['Sales_EUR'].pct_change() * 100,2)\n",
    "grouped_negative_sales_month['Sales_EUR_pct_change'] = round(grouped_negative_sales_month['Sales_EUR'].pct_change() * 100,2)\n",
    "\n",
    "merged_sales = pd.merge(grouped_positive_sales_month[['month_year', 'Sales_EUR_pct_change']], \n",
    "                        grouped_negative_sales_month[['month_year', 'Sales_EUR_pct_change']], \n",
    "                        on='month_year', \n",
    "                        suffixes=('_positive', '_negative'))\n",
    "\n",
    "merged_sales['month_year'] = merged_sales['month_year'].astype(str)\n",
    "\n",
    "table = merged_sales.set_index('month_year').T\n",
    "table"
   ]
  },
  {
   "cell_type": "markdown",
   "metadata": {},
   "source": [
    "**Nevative vs Positive Sales Values**\n",
    "\n",
    "- (*Outlier*) **November 2018** was a month of few activity, with the lowest overall positive sales and negative sales close to non.\n",
    "\n",
    "- **September 2019** is a peak in positive sales, that is followed by a peak in negative sales, in **October 2019** - which might come has a consequence of the high sales in the previous month. \n",
    "\n",
    "- **January 2020** is not only the month with highest negative values, but it is also a month categorized by the bellow average positive sales, which is likely evidence of a outside event's affect in the sales behavior.\n",
    "\n",
    "- (*Outlier*) **January 2021** is a month marked by a abrupt change in sales behavior, it is also a month of few activity, with one of the lowest sales value, by far.\n",
    "\n",
    "- **September 2021** is a month that peaks in both negative and positive sales values - this kind of situation can be taken as a proportional increase in positive and negative (absolute) sales."
   ]
  },
  {
   "cell_type": "code",
   "execution_count": 676,
   "metadata": {},
   "outputs": [
    {
     "data": {
      "application/vnd.plotly.v1+json": {
       "config": {
        "plotlyServerURL": "https://plot.ly"
       },
       "data": [
        {
         "hovertemplate": "Day=%{x}<br>Total Positive Sales (EUR)=%{y}<extra></extra>",
         "legendgroup": "",
         "line": {
          "color": "#636efa",
          "dash": "solid"
         },
         "marker": {
          "symbol": "circle"
         },
         "mode": "lines",
         "name": "",
         "orientation": "v",
         "showlegend": false,
         "type": "scatter",
         "x": [
          "1",
          "2",
          "3",
          "4",
          "5",
          "6",
          "7",
          "8",
          "9",
          "10",
          "11",
          "12",
          "13",
          "14",
          "15",
          "16",
          "17",
          "18",
          "19",
          "20",
          "21",
          "22",
          "23",
          "24",
          "25",
          "26",
          "27",
          "28",
          "29",
          "30",
          "31"
         ],
         "xaxis": "x",
         "y": [
          914665333.58,
          258330321.98,
          134510378.54,
          54225617.29,
          678294.96,
          497465.63,
          276043,
          13575508.149999999,
          15875220.600000001,
          21428004.75,
          33067381.43,
          35668428.46,
          62423298.27,
          33320799.63,
          24848567.32,
          24202489.84,
          33978962.31,
          61530842.34,
          31547476.46,
          29446941.26,
          33630310.04,
          38149072.730000004,
          121799168.77,
          84351736.18,
          7151498.720000001,
          91779790.01,
          95093573.91,
          135102221.96,
          112857153.14,
          79467761.94,
          97972749.9
         ],
         "yaxis": "y"
        }
       ],
       "layout": {
        "legend": {
         "tracegroupgap": 0
        },
        "template": {
         "data": {
          "bar": [
           {
            "error_x": {
             "color": "#2a3f5f"
            },
            "error_y": {
             "color": "#2a3f5f"
            },
            "marker": {
             "line": {
              "color": "#E5ECF6",
              "width": 0.5
             },
             "pattern": {
              "fillmode": "overlay",
              "size": 10,
              "solidity": 0.2
             }
            },
            "type": "bar"
           }
          ],
          "barpolar": [
           {
            "marker": {
             "line": {
              "color": "#E5ECF6",
              "width": 0.5
             },
             "pattern": {
              "fillmode": "overlay",
              "size": 10,
              "solidity": 0.2
             }
            },
            "type": "barpolar"
           }
          ],
          "carpet": [
           {
            "aaxis": {
             "endlinecolor": "#2a3f5f",
             "gridcolor": "white",
             "linecolor": "white",
             "minorgridcolor": "white",
             "startlinecolor": "#2a3f5f"
            },
            "baxis": {
             "endlinecolor": "#2a3f5f",
             "gridcolor": "white",
             "linecolor": "white",
             "minorgridcolor": "white",
             "startlinecolor": "#2a3f5f"
            },
            "type": "carpet"
           }
          ],
          "choropleth": [
           {
            "colorbar": {
             "outlinewidth": 0,
             "ticks": ""
            },
            "type": "choropleth"
           }
          ],
          "contour": [
           {
            "colorbar": {
             "outlinewidth": 0,
             "ticks": ""
            },
            "colorscale": [
             [
              0,
              "#0d0887"
             ],
             [
              0.1111111111111111,
              "#46039f"
             ],
             [
              0.2222222222222222,
              "#7201a8"
             ],
             [
              0.3333333333333333,
              "#9c179e"
             ],
             [
              0.4444444444444444,
              "#bd3786"
             ],
             [
              0.5555555555555556,
              "#d8576b"
             ],
             [
              0.6666666666666666,
              "#ed7953"
             ],
             [
              0.7777777777777778,
              "#fb9f3a"
             ],
             [
              0.8888888888888888,
              "#fdca26"
             ],
             [
              1,
              "#f0f921"
             ]
            ],
            "type": "contour"
           }
          ],
          "contourcarpet": [
           {
            "colorbar": {
             "outlinewidth": 0,
             "ticks": ""
            },
            "type": "contourcarpet"
           }
          ],
          "heatmap": [
           {
            "colorbar": {
             "outlinewidth": 0,
             "ticks": ""
            },
            "colorscale": [
             [
              0,
              "#0d0887"
             ],
             [
              0.1111111111111111,
              "#46039f"
             ],
             [
              0.2222222222222222,
              "#7201a8"
             ],
             [
              0.3333333333333333,
              "#9c179e"
             ],
             [
              0.4444444444444444,
              "#bd3786"
             ],
             [
              0.5555555555555556,
              "#d8576b"
             ],
             [
              0.6666666666666666,
              "#ed7953"
             ],
             [
              0.7777777777777778,
              "#fb9f3a"
             ],
             [
              0.8888888888888888,
              "#fdca26"
             ],
             [
              1,
              "#f0f921"
             ]
            ],
            "type": "heatmap"
           }
          ],
          "heatmapgl": [
           {
            "colorbar": {
             "outlinewidth": 0,
             "ticks": ""
            },
            "colorscale": [
             [
              0,
              "#0d0887"
             ],
             [
              0.1111111111111111,
              "#46039f"
             ],
             [
              0.2222222222222222,
              "#7201a8"
             ],
             [
              0.3333333333333333,
              "#9c179e"
             ],
             [
              0.4444444444444444,
              "#bd3786"
             ],
             [
              0.5555555555555556,
              "#d8576b"
             ],
             [
              0.6666666666666666,
              "#ed7953"
             ],
             [
              0.7777777777777778,
              "#fb9f3a"
             ],
             [
              0.8888888888888888,
              "#fdca26"
             ],
             [
              1,
              "#f0f921"
             ]
            ],
            "type": "heatmapgl"
           }
          ],
          "histogram": [
           {
            "marker": {
             "pattern": {
              "fillmode": "overlay",
              "size": 10,
              "solidity": 0.2
             }
            },
            "type": "histogram"
           }
          ],
          "histogram2d": [
           {
            "colorbar": {
             "outlinewidth": 0,
             "ticks": ""
            },
            "colorscale": [
             [
              0,
              "#0d0887"
             ],
             [
              0.1111111111111111,
              "#46039f"
             ],
             [
              0.2222222222222222,
              "#7201a8"
             ],
             [
              0.3333333333333333,
              "#9c179e"
             ],
             [
              0.4444444444444444,
              "#bd3786"
             ],
             [
              0.5555555555555556,
              "#d8576b"
             ],
             [
              0.6666666666666666,
              "#ed7953"
             ],
             [
              0.7777777777777778,
              "#fb9f3a"
             ],
             [
              0.8888888888888888,
              "#fdca26"
             ],
             [
              1,
              "#f0f921"
             ]
            ],
            "type": "histogram2d"
           }
          ],
          "histogram2dcontour": [
           {
            "colorbar": {
             "outlinewidth": 0,
             "ticks": ""
            },
            "colorscale": [
             [
              0,
              "#0d0887"
             ],
             [
              0.1111111111111111,
              "#46039f"
             ],
             [
              0.2222222222222222,
              "#7201a8"
             ],
             [
              0.3333333333333333,
              "#9c179e"
             ],
             [
              0.4444444444444444,
              "#bd3786"
             ],
             [
              0.5555555555555556,
              "#d8576b"
             ],
             [
              0.6666666666666666,
              "#ed7953"
             ],
             [
              0.7777777777777778,
              "#fb9f3a"
             ],
             [
              0.8888888888888888,
              "#fdca26"
             ],
             [
              1,
              "#f0f921"
             ]
            ],
            "type": "histogram2dcontour"
           }
          ],
          "mesh3d": [
           {
            "colorbar": {
             "outlinewidth": 0,
             "ticks": ""
            },
            "type": "mesh3d"
           }
          ],
          "parcoords": [
           {
            "line": {
             "colorbar": {
              "outlinewidth": 0,
              "ticks": ""
             }
            },
            "type": "parcoords"
           }
          ],
          "pie": [
           {
            "automargin": true,
            "type": "pie"
           }
          ],
          "scatter": [
           {
            "fillpattern": {
             "fillmode": "overlay",
             "size": 10,
             "solidity": 0.2
            },
            "type": "scatter"
           }
          ],
          "scatter3d": [
           {
            "line": {
             "colorbar": {
              "outlinewidth": 0,
              "ticks": ""
             }
            },
            "marker": {
             "colorbar": {
              "outlinewidth": 0,
              "ticks": ""
             }
            },
            "type": "scatter3d"
           }
          ],
          "scattercarpet": [
           {
            "marker": {
             "colorbar": {
              "outlinewidth": 0,
              "ticks": ""
             }
            },
            "type": "scattercarpet"
           }
          ],
          "scattergeo": [
           {
            "marker": {
             "colorbar": {
              "outlinewidth": 0,
              "ticks": ""
             }
            },
            "type": "scattergeo"
           }
          ],
          "scattergl": [
           {
            "marker": {
             "colorbar": {
              "outlinewidth": 0,
              "ticks": ""
             }
            },
            "type": "scattergl"
           }
          ],
          "scattermapbox": [
           {
            "marker": {
             "colorbar": {
              "outlinewidth": 0,
              "ticks": ""
             }
            },
            "type": "scattermapbox"
           }
          ],
          "scatterpolar": [
           {
            "marker": {
             "colorbar": {
              "outlinewidth": 0,
              "ticks": ""
             }
            },
            "type": "scatterpolar"
           }
          ],
          "scatterpolargl": [
           {
            "marker": {
             "colorbar": {
              "outlinewidth": 0,
              "ticks": ""
             }
            },
            "type": "scatterpolargl"
           }
          ],
          "scatterternary": [
           {
            "marker": {
             "colorbar": {
              "outlinewidth": 0,
              "ticks": ""
             }
            },
            "type": "scatterternary"
           }
          ],
          "surface": [
           {
            "colorbar": {
             "outlinewidth": 0,
             "ticks": ""
            },
            "colorscale": [
             [
              0,
              "#0d0887"
             ],
             [
              0.1111111111111111,
              "#46039f"
             ],
             [
              0.2222222222222222,
              "#7201a8"
             ],
             [
              0.3333333333333333,
              "#9c179e"
             ],
             [
              0.4444444444444444,
              "#bd3786"
             ],
             [
              0.5555555555555556,
              "#d8576b"
             ],
             [
              0.6666666666666666,
              "#ed7953"
             ],
             [
              0.7777777777777778,
              "#fb9f3a"
             ],
             [
              0.8888888888888888,
              "#fdca26"
             ],
             [
              1,
              "#f0f921"
             ]
            ],
            "type": "surface"
           }
          ],
          "table": [
           {
            "cells": {
             "fill": {
              "color": "#EBF0F8"
             },
             "line": {
              "color": "white"
             }
            },
            "header": {
             "fill": {
              "color": "#C8D4E3"
             },
             "line": {
              "color": "white"
             }
            },
            "type": "table"
           }
          ]
         },
         "layout": {
          "annotationdefaults": {
           "arrowcolor": "#2a3f5f",
           "arrowhead": 0,
           "arrowwidth": 1
          },
          "autotypenumbers": "strict",
          "coloraxis": {
           "colorbar": {
            "outlinewidth": 0,
            "ticks": ""
           }
          },
          "colorscale": {
           "diverging": [
            [
             0,
             "#8e0152"
            ],
            [
             0.1,
             "#c51b7d"
            ],
            [
             0.2,
             "#de77ae"
            ],
            [
             0.3,
             "#f1b6da"
            ],
            [
             0.4,
             "#fde0ef"
            ],
            [
             0.5,
             "#f7f7f7"
            ],
            [
             0.6,
             "#e6f5d0"
            ],
            [
             0.7,
             "#b8e186"
            ],
            [
             0.8,
             "#7fbc41"
            ],
            [
             0.9,
             "#4d9221"
            ],
            [
             1,
             "#276419"
            ]
           ],
           "sequential": [
            [
             0,
             "#0d0887"
            ],
            [
             0.1111111111111111,
             "#46039f"
            ],
            [
             0.2222222222222222,
             "#7201a8"
            ],
            [
             0.3333333333333333,
             "#9c179e"
            ],
            [
             0.4444444444444444,
             "#bd3786"
            ],
            [
             0.5555555555555556,
             "#d8576b"
            ],
            [
             0.6666666666666666,
             "#ed7953"
            ],
            [
             0.7777777777777778,
             "#fb9f3a"
            ],
            [
             0.8888888888888888,
             "#fdca26"
            ],
            [
             1,
             "#f0f921"
            ]
           ],
           "sequentialminus": [
            [
             0,
             "#0d0887"
            ],
            [
             0.1111111111111111,
             "#46039f"
            ],
            [
             0.2222222222222222,
             "#7201a8"
            ],
            [
             0.3333333333333333,
             "#9c179e"
            ],
            [
             0.4444444444444444,
             "#bd3786"
            ],
            [
             0.5555555555555556,
             "#d8576b"
            ],
            [
             0.6666666666666666,
             "#ed7953"
            ],
            [
             0.7777777777777778,
             "#fb9f3a"
            ],
            [
             0.8888888888888888,
             "#fdca26"
            ],
            [
             1,
             "#f0f921"
            ]
           ]
          },
          "colorway": [
           "#636efa",
           "#EF553B",
           "#00cc96",
           "#ab63fa",
           "#FFA15A",
           "#19d3f3",
           "#FF6692",
           "#B6E880",
           "#FF97FF",
           "#FECB52"
          ],
          "font": {
           "color": "#2a3f5f"
          },
          "geo": {
           "bgcolor": "white",
           "lakecolor": "white",
           "landcolor": "#E5ECF6",
           "showlakes": true,
           "showland": true,
           "subunitcolor": "white"
          },
          "hoverlabel": {
           "align": "left"
          },
          "hovermode": "closest",
          "mapbox": {
           "style": "light"
          },
          "paper_bgcolor": "white",
          "plot_bgcolor": "#E5ECF6",
          "polar": {
           "angularaxis": {
            "gridcolor": "white",
            "linecolor": "white",
            "ticks": ""
           },
           "bgcolor": "#E5ECF6",
           "radialaxis": {
            "gridcolor": "white",
            "linecolor": "white",
            "ticks": ""
           }
          },
          "scene": {
           "xaxis": {
            "backgroundcolor": "#E5ECF6",
            "gridcolor": "white",
            "gridwidth": 2,
            "linecolor": "white",
            "showbackground": true,
            "ticks": "",
            "zerolinecolor": "white"
           },
           "yaxis": {
            "backgroundcolor": "#E5ECF6",
            "gridcolor": "white",
            "gridwidth": 2,
            "linecolor": "white",
            "showbackground": true,
            "ticks": "",
            "zerolinecolor": "white"
           },
           "zaxis": {
            "backgroundcolor": "#E5ECF6",
            "gridcolor": "white",
            "gridwidth": 2,
            "linecolor": "white",
            "showbackground": true,
            "ticks": "",
            "zerolinecolor": "white"
           }
          },
          "shapedefaults": {
           "line": {
            "color": "#2a3f5f"
           }
          },
          "ternary": {
           "aaxis": {
            "gridcolor": "white",
            "linecolor": "white",
            "ticks": ""
           },
           "baxis": {
            "gridcolor": "white",
            "linecolor": "white",
            "ticks": ""
           },
           "bgcolor": "#E5ECF6",
           "caxis": {
            "gridcolor": "white",
            "linecolor": "white",
            "ticks": ""
           }
          },
          "title": {
           "x": 0.05
          },
          "xaxis": {
           "automargin": true,
           "gridcolor": "white",
           "linecolor": "white",
           "ticks": "",
           "title": {
            "standoff": 15
           },
           "zerolinecolor": "white",
           "zerolinewidth": 2
          },
          "yaxis": {
           "automargin": true,
           "gridcolor": "white",
           "linecolor": "white",
           "ticks": "",
           "title": {
            "standoff": 15
           },
           "zerolinecolor": "white",
           "zerolinewidth": 2
          }
         }
        },
        "title": {
         "text": "Positive Sales by Day"
        },
        "xaxis": {
         "anchor": "y",
         "domain": [
          0,
          1
         ],
         "title": {
          "text": "Day"
         }
        },
        "yaxis": {
         "anchor": "x",
         "domain": [
          0,
          1
         ],
         "title": {
          "text": "Total Positive Sales (EUR)"
         }
        }
       }
      }
     },
     "metadata": {},
     "output_type": "display_data"
    }
   ],
   "source": [
    "positive_sales['Day'] = positive_sales['DATE'].dt.day\n",
    "grouped_positive_sales_day = positive_sales.groupby('Day')['Sales_EUR'].sum().reset_index()\n",
    "\n",
    "grouped_positive_sales_day['Day'] = grouped_positive_sales_day['Day'].astype(str)\n",
    "\n",
    "plot_sales(grouped_positive_sales_day, 'Day', 'Sales_EUR', 'Positive Sales by Day', 'Day', 'Total Positive Sales (EUR)')"
   ]
  },
  {
   "cell_type": "markdown",
   "metadata": {},
   "source": [
    "Similar to Negative sales values, the positive sales peaks at the beginning of the month. This aligns with the expected spending behavior coming from enterprises, due to budgeting/cash flow management, payroll and other expenses settlement at the end of the month, between others. "
   ]
  },
  {
   "cell_type": "code",
   "execution_count": 677,
   "metadata": {},
   "outputs": [
    {
     "data": {
      "application/vnd.plotly.v1+json": {
       "config": {
        "plotlyServerURL": "https://plot.ly"
       },
       "data": [
        {
         "alignmentgroup": "True",
         "hovertemplate": "Product Group=%{x}<br>Total Positive Sales (EUR)=%{text}<extra></extra>",
         "legendgroup": "",
         "marker": {
          "color": "#636efa",
          "pattern": {
           "shape": ""
          }
         },
         "name": "",
         "offsetgroup": "",
         "orientation": "v",
         "showlegend": false,
         "text": [
          1546761105.47,
          534646720.7,
          15742114.52,
          431971575.58,
          21063167.2,
          34947589.58,
          318821.22000000003,
          66420048.03,
          8294974.08,
          1009350.01,
          506965.61,
          18679614.93,
          78366.49,
          1011999.6799999999
         ],
         "textposition": "outside",
         "texttemplate": "%{text:.2s}",
         "type": "bar",
         "x": [
          1,
          3,
          4,
          5,
          6,
          8,
          9,
          11,
          12,
          13,
          14,
          16,
          20,
          36
         ],
         "xaxis": "x",
         "y": [
          1546761105.47,
          534646720.7,
          15742114.52,
          431971575.58,
          21063167.2,
          34947589.58,
          318821.22000000003,
          66420048.03,
          8294974.08,
          1009350.01,
          506965.61,
          18679614.93,
          78366.49,
          1011999.6799999999
         ],
         "yaxis": "y"
        }
       ],
       "layout": {
        "barmode": "relative",
        "legend": {
         "tracegroupgap": 0
        },
        "template": {
         "data": {
          "bar": [
           {
            "error_x": {
             "color": "#2a3f5f"
            },
            "error_y": {
             "color": "#2a3f5f"
            },
            "marker": {
             "line": {
              "color": "#E5ECF6",
              "width": 0.5
             },
             "pattern": {
              "fillmode": "overlay",
              "size": 10,
              "solidity": 0.2
             }
            },
            "type": "bar"
           }
          ],
          "barpolar": [
           {
            "marker": {
             "line": {
              "color": "#E5ECF6",
              "width": 0.5
             },
             "pattern": {
              "fillmode": "overlay",
              "size": 10,
              "solidity": 0.2
             }
            },
            "type": "barpolar"
           }
          ],
          "carpet": [
           {
            "aaxis": {
             "endlinecolor": "#2a3f5f",
             "gridcolor": "white",
             "linecolor": "white",
             "minorgridcolor": "white",
             "startlinecolor": "#2a3f5f"
            },
            "baxis": {
             "endlinecolor": "#2a3f5f",
             "gridcolor": "white",
             "linecolor": "white",
             "minorgridcolor": "white",
             "startlinecolor": "#2a3f5f"
            },
            "type": "carpet"
           }
          ],
          "choropleth": [
           {
            "colorbar": {
             "outlinewidth": 0,
             "ticks": ""
            },
            "type": "choropleth"
           }
          ],
          "contour": [
           {
            "colorbar": {
             "outlinewidth": 0,
             "ticks": ""
            },
            "colorscale": [
             [
              0,
              "#0d0887"
             ],
             [
              0.1111111111111111,
              "#46039f"
             ],
             [
              0.2222222222222222,
              "#7201a8"
             ],
             [
              0.3333333333333333,
              "#9c179e"
             ],
             [
              0.4444444444444444,
              "#bd3786"
             ],
             [
              0.5555555555555556,
              "#d8576b"
             ],
             [
              0.6666666666666666,
              "#ed7953"
             ],
             [
              0.7777777777777778,
              "#fb9f3a"
             ],
             [
              0.8888888888888888,
              "#fdca26"
             ],
             [
              1,
              "#f0f921"
             ]
            ],
            "type": "contour"
           }
          ],
          "contourcarpet": [
           {
            "colorbar": {
             "outlinewidth": 0,
             "ticks": ""
            },
            "type": "contourcarpet"
           }
          ],
          "heatmap": [
           {
            "colorbar": {
             "outlinewidth": 0,
             "ticks": ""
            },
            "colorscale": [
             [
              0,
              "#0d0887"
             ],
             [
              0.1111111111111111,
              "#46039f"
             ],
             [
              0.2222222222222222,
              "#7201a8"
             ],
             [
              0.3333333333333333,
              "#9c179e"
             ],
             [
              0.4444444444444444,
              "#bd3786"
             ],
             [
              0.5555555555555556,
              "#d8576b"
             ],
             [
              0.6666666666666666,
              "#ed7953"
             ],
             [
              0.7777777777777778,
              "#fb9f3a"
             ],
             [
              0.8888888888888888,
              "#fdca26"
             ],
             [
              1,
              "#f0f921"
             ]
            ],
            "type": "heatmap"
           }
          ],
          "heatmapgl": [
           {
            "colorbar": {
             "outlinewidth": 0,
             "ticks": ""
            },
            "colorscale": [
             [
              0,
              "#0d0887"
             ],
             [
              0.1111111111111111,
              "#46039f"
             ],
             [
              0.2222222222222222,
              "#7201a8"
             ],
             [
              0.3333333333333333,
              "#9c179e"
             ],
             [
              0.4444444444444444,
              "#bd3786"
             ],
             [
              0.5555555555555556,
              "#d8576b"
             ],
             [
              0.6666666666666666,
              "#ed7953"
             ],
             [
              0.7777777777777778,
              "#fb9f3a"
             ],
             [
              0.8888888888888888,
              "#fdca26"
             ],
             [
              1,
              "#f0f921"
             ]
            ],
            "type": "heatmapgl"
           }
          ],
          "histogram": [
           {
            "marker": {
             "pattern": {
              "fillmode": "overlay",
              "size": 10,
              "solidity": 0.2
             }
            },
            "type": "histogram"
           }
          ],
          "histogram2d": [
           {
            "colorbar": {
             "outlinewidth": 0,
             "ticks": ""
            },
            "colorscale": [
             [
              0,
              "#0d0887"
             ],
             [
              0.1111111111111111,
              "#46039f"
             ],
             [
              0.2222222222222222,
              "#7201a8"
             ],
             [
              0.3333333333333333,
              "#9c179e"
             ],
             [
              0.4444444444444444,
              "#bd3786"
             ],
             [
              0.5555555555555556,
              "#d8576b"
             ],
             [
              0.6666666666666666,
              "#ed7953"
             ],
             [
              0.7777777777777778,
              "#fb9f3a"
             ],
             [
              0.8888888888888888,
              "#fdca26"
             ],
             [
              1,
              "#f0f921"
             ]
            ],
            "type": "histogram2d"
           }
          ],
          "histogram2dcontour": [
           {
            "colorbar": {
             "outlinewidth": 0,
             "ticks": ""
            },
            "colorscale": [
             [
              0,
              "#0d0887"
             ],
             [
              0.1111111111111111,
              "#46039f"
             ],
             [
              0.2222222222222222,
              "#7201a8"
             ],
             [
              0.3333333333333333,
              "#9c179e"
             ],
             [
              0.4444444444444444,
              "#bd3786"
             ],
             [
              0.5555555555555556,
              "#d8576b"
             ],
             [
              0.6666666666666666,
              "#ed7953"
             ],
             [
              0.7777777777777778,
              "#fb9f3a"
             ],
             [
              0.8888888888888888,
              "#fdca26"
             ],
             [
              1,
              "#f0f921"
             ]
            ],
            "type": "histogram2dcontour"
           }
          ],
          "mesh3d": [
           {
            "colorbar": {
             "outlinewidth": 0,
             "ticks": ""
            },
            "type": "mesh3d"
           }
          ],
          "parcoords": [
           {
            "line": {
             "colorbar": {
              "outlinewidth": 0,
              "ticks": ""
             }
            },
            "type": "parcoords"
           }
          ],
          "pie": [
           {
            "automargin": true,
            "type": "pie"
           }
          ],
          "scatter": [
           {
            "fillpattern": {
             "fillmode": "overlay",
             "size": 10,
             "solidity": 0.2
            },
            "type": "scatter"
           }
          ],
          "scatter3d": [
           {
            "line": {
             "colorbar": {
              "outlinewidth": 0,
              "ticks": ""
             }
            },
            "marker": {
             "colorbar": {
              "outlinewidth": 0,
              "ticks": ""
             }
            },
            "type": "scatter3d"
           }
          ],
          "scattercarpet": [
           {
            "marker": {
             "colorbar": {
              "outlinewidth": 0,
              "ticks": ""
             }
            },
            "type": "scattercarpet"
           }
          ],
          "scattergeo": [
           {
            "marker": {
             "colorbar": {
              "outlinewidth": 0,
              "ticks": ""
             }
            },
            "type": "scattergeo"
           }
          ],
          "scattergl": [
           {
            "marker": {
             "colorbar": {
              "outlinewidth": 0,
              "ticks": ""
             }
            },
            "type": "scattergl"
           }
          ],
          "scattermapbox": [
           {
            "marker": {
             "colorbar": {
              "outlinewidth": 0,
              "ticks": ""
             }
            },
            "type": "scattermapbox"
           }
          ],
          "scatterpolar": [
           {
            "marker": {
             "colorbar": {
              "outlinewidth": 0,
              "ticks": ""
             }
            },
            "type": "scatterpolar"
           }
          ],
          "scatterpolargl": [
           {
            "marker": {
             "colorbar": {
              "outlinewidth": 0,
              "ticks": ""
             }
            },
            "type": "scatterpolargl"
           }
          ],
          "scatterternary": [
           {
            "marker": {
             "colorbar": {
              "outlinewidth": 0,
              "ticks": ""
             }
            },
            "type": "scatterternary"
           }
          ],
          "surface": [
           {
            "colorbar": {
             "outlinewidth": 0,
             "ticks": ""
            },
            "colorscale": [
             [
              0,
              "#0d0887"
             ],
             [
              0.1111111111111111,
              "#46039f"
             ],
             [
              0.2222222222222222,
              "#7201a8"
             ],
             [
              0.3333333333333333,
              "#9c179e"
             ],
             [
              0.4444444444444444,
              "#bd3786"
             ],
             [
              0.5555555555555556,
              "#d8576b"
             ],
             [
              0.6666666666666666,
              "#ed7953"
             ],
             [
              0.7777777777777778,
              "#fb9f3a"
             ],
             [
              0.8888888888888888,
              "#fdca26"
             ],
             [
              1,
              "#f0f921"
             ]
            ],
            "type": "surface"
           }
          ],
          "table": [
           {
            "cells": {
             "fill": {
              "color": "#EBF0F8"
             },
             "line": {
              "color": "white"
             }
            },
            "header": {
             "fill": {
              "color": "#C8D4E3"
             },
             "line": {
              "color": "white"
             }
            },
            "type": "table"
           }
          ]
         },
         "layout": {
          "annotationdefaults": {
           "arrowcolor": "#2a3f5f",
           "arrowhead": 0,
           "arrowwidth": 1
          },
          "autotypenumbers": "strict",
          "coloraxis": {
           "colorbar": {
            "outlinewidth": 0,
            "ticks": ""
           }
          },
          "colorscale": {
           "diverging": [
            [
             0,
             "#8e0152"
            ],
            [
             0.1,
             "#c51b7d"
            ],
            [
             0.2,
             "#de77ae"
            ],
            [
             0.3,
             "#f1b6da"
            ],
            [
             0.4,
             "#fde0ef"
            ],
            [
             0.5,
             "#f7f7f7"
            ],
            [
             0.6,
             "#e6f5d0"
            ],
            [
             0.7,
             "#b8e186"
            ],
            [
             0.8,
             "#7fbc41"
            ],
            [
             0.9,
             "#4d9221"
            ],
            [
             1,
             "#276419"
            ]
           ],
           "sequential": [
            [
             0,
             "#0d0887"
            ],
            [
             0.1111111111111111,
             "#46039f"
            ],
            [
             0.2222222222222222,
             "#7201a8"
            ],
            [
             0.3333333333333333,
             "#9c179e"
            ],
            [
             0.4444444444444444,
             "#bd3786"
            ],
            [
             0.5555555555555556,
             "#d8576b"
            ],
            [
             0.6666666666666666,
             "#ed7953"
            ],
            [
             0.7777777777777778,
             "#fb9f3a"
            ],
            [
             0.8888888888888888,
             "#fdca26"
            ],
            [
             1,
             "#f0f921"
            ]
           ],
           "sequentialminus": [
            [
             0,
             "#0d0887"
            ],
            [
             0.1111111111111111,
             "#46039f"
            ],
            [
             0.2222222222222222,
             "#7201a8"
            ],
            [
             0.3333333333333333,
             "#9c179e"
            ],
            [
             0.4444444444444444,
             "#bd3786"
            ],
            [
             0.5555555555555556,
             "#d8576b"
            ],
            [
             0.6666666666666666,
             "#ed7953"
            ],
            [
             0.7777777777777778,
             "#fb9f3a"
            ],
            [
             0.8888888888888888,
             "#fdca26"
            ],
            [
             1,
             "#f0f921"
            ]
           ]
          },
          "colorway": [
           "#636efa",
           "#EF553B",
           "#00cc96",
           "#ab63fa",
           "#FFA15A",
           "#19d3f3",
           "#FF6692",
           "#B6E880",
           "#FF97FF",
           "#FECB52"
          ],
          "font": {
           "color": "#2a3f5f"
          },
          "geo": {
           "bgcolor": "white",
           "lakecolor": "white",
           "landcolor": "#E5ECF6",
           "showlakes": true,
           "showland": true,
           "subunitcolor": "white"
          },
          "hoverlabel": {
           "align": "left"
          },
          "hovermode": "closest",
          "mapbox": {
           "style": "light"
          },
          "paper_bgcolor": "white",
          "plot_bgcolor": "#E5ECF6",
          "polar": {
           "angularaxis": {
            "gridcolor": "white",
            "linecolor": "white",
            "ticks": ""
           },
           "bgcolor": "#E5ECF6",
           "radialaxis": {
            "gridcolor": "white",
            "linecolor": "white",
            "ticks": ""
           }
          },
          "scene": {
           "xaxis": {
            "backgroundcolor": "#E5ECF6",
            "gridcolor": "white",
            "gridwidth": 2,
            "linecolor": "white",
            "showbackground": true,
            "ticks": "",
            "zerolinecolor": "white"
           },
           "yaxis": {
            "backgroundcolor": "#E5ECF6",
            "gridcolor": "white",
            "gridwidth": 2,
            "linecolor": "white",
            "showbackground": true,
            "ticks": "",
            "zerolinecolor": "white"
           },
           "zaxis": {
            "backgroundcolor": "#E5ECF6",
            "gridcolor": "white",
            "gridwidth": 2,
            "linecolor": "white",
            "showbackground": true,
            "ticks": "",
            "zerolinecolor": "white"
           }
          },
          "shapedefaults": {
           "line": {
            "color": "#2a3f5f"
           }
          },
          "ternary": {
           "aaxis": {
            "gridcolor": "white",
            "linecolor": "white",
            "ticks": ""
           },
           "baxis": {
            "gridcolor": "white",
            "linecolor": "white",
            "ticks": ""
           },
           "bgcolor": "#E5ECF6",
           "caxis": {
            "gridcolor": "white",
            "linecolor": "white",
            "ticks": ""
           }
          },
          "title": {
           "x": 0.05
          },
          "xaxis": {
           "automargin": true,
           "gridcolor": "white",
           "linecolor": "white",
           "ticks": "",
           "title": {
            "standoff": 15
           },
           "zerolinecolor": "white",
           "zerolinewidth": 2
          },
          "yaxis": {
           "automargin": true,
           "gridcolor": "white",
           "linecolor": "white",
           "ticks": "",
           "title": {
            "standoff": 15
           },
           "zerolinecolor": "white",
           "zerolinewidth": 2
          }
         }
        },
        "title": {
         "text": "Positive Sales by Product"
        },
        "xaxis": {
         "anchor": "y",
         "domain": [
          0,
          1
         ],
         "tickmode": "linear",
         "title": {
          "text": "Product Group"
         },
         "type": "category"
        },
        "yaxis": {
         "anchor": "x",
         "domain": [
          0,
          1
         ],
         "title": {
          "text": "Total Positive Sales (EUR)"
         }
        }
       }
      }
     },
     "metadata": {},
     "output_type": "display_data"
    }
   ],
   "source": [
    "grouped_positive_sales_product= positive_sales.groupby('Mapped_GCK')['Sales_EUR'].sum().reset_index()\n",
    "\n",
    "plot_sales_by_product(grouped_positive_sales_product, 'Mapped_GCK', 'Sales_EUR', 'Positive Sales by Product', 'Product Group', 'Total Positive Sales (EUR)')"
   ]
  },
  {
   "cell_type": "code",
   "execution_count": 678,
   "metadata": {},
   "outputs": [
    {
     "data": {
      "application/vnd.plotly.v1+json": {
       "config": {
        "plotlyServerURL": "https://plot.ly"
       },
       "data": [
        {
         "alignmentgroup": "True",
         "hovertemplate": "Product Group=%{x}<br>Number of Sales=%{text}<extra></extra>",
         "legendgroup": "",
         "marker": {
          "color": "#636efa",
          "pattern": {
           "shape": ""
          }
         },
         "name": "",
         "offsetgroup": "",
         "orientation": "v",
         "showlegend": false,
         "text": [
          254,
          209,
          194,
          216,
          185,
          205,
          94,
          145,
          165,
          138,
          63,
          315,
          81,
          128
         ],
         "textposition": "outside",
         "texttemplate": "%{text:.2s}",
         "type": "bar",
         "x": [
          1,
          3,
          4,
          5,
          6,
          8,
          9,
          11,
          12,
          13,
          14,
          16,
          20,
          36
         ],
         "xaxis": "x",
         "y": [
          254,
          209,
          194,
          216,
          185,
          205,
          94,
          145,
          165,
          138,
          63,
          315,
          81,
          128
         ],
         "yaxis": "y"
        }
       ],
       "layout": {
        "barmode": "relative",
        "legend": {
         "tracegroupgap": 0
        },
        "template": {
         "data": {
          "bar": [
           {
            "error_x": {
             "color": "#2a3f5f"
            },
            "error_y": {
             "color": "#2a3f5f"
            },
            "marker": {
             "line": {
              "color": "#E5ECF6",
              "width": 0.5
             },
             "pattern": {
              "fillmode": "overlay",
              "size": 10,
              "solidity": 0.2
             }
            },
            "type": "bar"
           }
          ],
          "barpolar": [
           {
            "marker": {
             "line": {
              "color": "#E5ECF6",
              "width": 0.5
             },
             "pattern": {
              "fillmode": "overlay",
              "size": 10,
              "solidity": 0.2
             }
            },
            "type": "barpolar"
           }
          ],
          "carpet": [
           {
            "aaxis": {
             "endlinecolor": "#2a3f5f",
             "gridcolor": "white",
             "linecolor": "white",
             "minorgridcolor": "white",
             "startlinecolor": "#2a3f5f"
            },
            "baxis": {
             "endlinecolor": "#2a3f5f",
             "gridcolor": "white",
             "linecolor": "white",
             "minorgridcolor": "white",
             "startlinecolor": "#2a3f5f"
            },
            "type": "carpet"
           }
          ],
          "choropleth": [
           {
            "colorbar": {
             "outlinewidth": 0,
             "ticks": ""
            },
            "type": "choropleth"
           }
          ],
          "contour": [
           {
            "colorbar": {
             "outlinewidth": 0,
             "ticks": ""
            },
            "colorscale": [
             [
              0,
              "#0d0887"
             ],
             [
              0.1111111111111111,
              "#46039f"
             ],
             [
              0.2222222222222222,
              "#7201a8"
             ],
             [
              0.3333333333333333,
              "#9c179e"
             ],
             [
              0.4444444444444444,
              "#bd3786"
             ],
             [
              0.5555555555555556,
              "#d8576b"
             ],
             [
              0.6666666666666666,
              "#ed7953"
             ],
             [
              0.7777777777777778,
              "#fb9f3a"
             ],
             [
              0.8888888888888888,
              "#fdca26"
             ],
             [
              1,
              "#f0f921"
             ]
            ],
            "type": "contour"
           }
          ],
          "contourcarpet": [
           {
            "colorbar": {
             "outlinewidth": 0,
             "ticks": ""
            },
            "type": "contourcarpet"
           }
          ],
          "heatmap": [
           {
            "colorbar": {
             "outlinewidth": 0,
             "ticks": ""
            },
            "colorscale": [
             [
              0,
              "#0d0887"
             ],
             [
              0.1111111111111111,
              "#46039f"
             ],
             [
              0.2222222222222222,
              "#7201a8"
             ],
             [
              0.3333333333333333,
              "#9c179e"
             ],
             [
              0.4444444444444444,
              "#bd3786"
             ],
             [
              0.5555555555555556,
              "#d8576b"
             ],
             [
              0.6666666666666666,
              "#ed7953"
             ],
             [
              0.7777777777777778,
              "#fb9f3a"
             ],
             [
              0.8888888888888888,
              "#fdca26"
             ],
             [
              1,
              "#f0f921"
             ]
            ],
            "type": "heatmap"
           }
          ],
          "heatmapgl": [
           {
            "colorbar": {
             "outlinewidth": 0,
             "ticks": ""
            },
            "colorscale": [
             [
              0,
              "#0d0887"
             ],
             [
              0.1111111111111111,
              "#46039f"
             ],
             [
              0.2222222222222222,
              "#7201a8"
             ],
             [
              0.3333333333333333,
              "#9c179e"
             ],
             [
              0.4444444444444444,
              "#bd3786"
             ],
             [
              0.5555555555555556,
              "#d8576b"
             ],
             [
              0.6666666666666666,
              "#ed7953"
             ],
             [
              0.7777777777777778,
              "#fb9f3a"
             ],
             [
              0.8888888888888888,
              "#fdca26"
             ],
             [
              1,
              "#f0f921"
             ]
            ],
            "type": "heatmapgl"
           }
          ],
          "histogram": [
           {
            "marker": {
             "pattern": {
              "fillmode": "overlay",
              "size": 10,
              "solidity": 0.2
             }
            },
            "type": "histogram"
           }
          ],
          "histogram2d": [
           {
            "colorbar": {
             "outlinewidth": 0,
             "ticks": ""
            },
            "colorscale": [
             [
              0,
              "#0d0887"
             ],
             [
              0.1111111111111111,
              "#46039f"
             ],
             [
              0.2222222222222222,
              "#7201a8"
             ],
             [
              0.3333333333333333,
              "#9c179e"
             ],
             [
              0.4444444444444444,
              "#bd3786"
             ],
             [
              0.5555555555555556,
              "#d8576b"
             ],
             [
              0.6666666666666666,
              "#ed7953"
             ],
             [
              0.7777777777777778,
              "#fb9f3a"
             ],
             [
              0.8888888888888888,
              "#fdca26"
             ],
             [
              1,
              "#f0f921"
             ]
            ],
            "type": "histogram2d"
           }
          ],
          "histogram2dcontour": [
           {
            "colorbar": {
             "outlinewidth": 0,
             "ticks": ""
            },
            "colorscale": [
             [
              0,
              "#0d0887"
             ],
             [
              0.1111111111111111,
              "#46039f"
             ],
             [
              0.2222222222222222,
              "#7201a8"
             ],
             [
              0.3333333333333333,
              "#9c179e"
             ],
             [
              0.4444444444444444,
              "#bd3786"
             ],
             [
              0.5555555555555556,
              "#d8576b"
             ],
             [
              0.6666666666666666,
              "#ed7953"
             ],
             [
              0.7777777777777778,
              "#fb9f3a"
             ],
             [
              0.8888888888888888,
              "#fdca26"
             ],
             [
              1,
              "#f0f921"
             ]
            ],
            "type": "histogram2dcontour"
           }
          ],
          "mesh3d": [
           {
            "colorbar": {
             "outlinewidth": 0,
             "ticks": ""
            },
            "type": "mesh3d"
           }
          ],
          "parcoords": [
           {
            "line": {
             "colorbar": {
              "outlinewidth": 0,
              "ticks": ""
             }
            },
            "type": "parcoords"
           }
          ],
          "pie": [
           {
            "automargin": true,
            "type": "pie"
           }
          ],
          "scatter": [
           {
            "fillpattern": {
             "fillmode": "overlay",
             "size": 10,
             "solidity": 0.2
            },
            "type": "scatter"
           }
          ],
          "scatter3d": [
           {
            "line": {
             "colorbar": {
              "outlinewidth": 0,
              "ticks": ""
             }
            },
            "marker": {
             "colorbar": {
              "outlinewidth": 0,
              "ticks": ""
             }
            },
            "type": "scatter3d"
           }
          ],
          "scattercarpet": [
           {
            "marker": {
             "colorbar": {
              "outlinewidth": 0,
              "ticks": ""
             }
            },
            "type": "scattercarpet"
           }
          ],
          "scattergeo": [
           {
            "marker": {
             "colorbar": {
              "outlinewidth": 0,
              "ticks": ""
             }
            },
            "type": "scattergeo"
           }
          ],
          "scattergl": [
           {
            "marker": {
             "colorbar": {
              "outlinewidth": 0,
              "ticks": ""
             }
            },
            "type": "scattergl"
           }
          ],
          "scattermapbox": [
           {
            "marker": {
             "colorbar": {
              "outlinewidth": 0,
              "ticks": ""
             }
            },
            "type": "scattermapbox"
           }
          ],
          "scatterpolar": [
           {
            "marker": {
             "colorbar": {
              "outlinewidth": 0,
              "ticks": ""
             }
            },
            "type": "scatterpolar"
           }
          ],
          "scatterpolargl": [
           {
            "marker": {
             "colorbar": {
              "outlinewidth": 0,
              "ticks": ""
             }
            },
            "type": "scatterpolargl"
           }
          ],
          "scatterternary": [
           {
            "marker": {
             "colorbar": {
              "outlinewidth": 0,
              "ticks": ""
             }
            },
            "type": "scatterternary"
           }
          ],
          "surface": [
           {
            "colorbar": {
             "outlinewidth": 0,
             "ticks": ""
            },
            "colorscale": [
             [
              0,
              "#0d0887"
             ],
             [
              0.1111111111111111,
              "#46039f"
             ],
             [
              0.2222222222222222,
              "#7201a8"
             ],
             [
              0.3333333333333333,
              "#9c179e"
             ],
             [
              0.4444444444444444,
              "#bd3786"
             ],
             [
              0.5555555555555556,
              "#d8576b"
             ],
             [
              0.6666666666666666,
              "#ed7953"
             ],
             [
              0.7777777777777778,
              "#fb9f3a"
             ],
             [
              0.8888888888888888,
              "#fdca26"
             ],
             [
              1,
              "#f0f921"
             ]
            ],
            "type": "surface"
           }
          ],
          "table": [
           {
            "cells": {
             "fill": {
              "color": "#EBF0F8"
             },
             "line": {
              "color": "white"
             }
            },
            "header": {
             "fill": {
              "color": "#C8D4E3"
             },
             "line": {
              "color": "white"
             }
            },
            "type": "table"
           }
          ]
         },
         "layout": {
          "annotationdefaults": {
           "arrowcolor": "#2a3f5f",
           "arrowhead": 0,
           "arrowwidth": 1
          },
          "autotypenumbers": "strict",
          "coloraxis": {
           "colorbar": {
            "outlinewidth": 0,
            "ticks": ""
           }
          },
          "colorscale": {
           "diverging": [
            [
             0,
             "#8e0152"
            ],
            [
             0.1,
             "#c51b7d"
            ],
            [
             0.2,
             "#de77ae"
            ],
            [
             0.3,
             "#f1b6da"
            ],
            [
             0.4,
             "#fde0ef"
            ],
            [
             0.5,
             "#f7f7f7"
            ],
            [
             0.6,
             "#e6f5d0"
            ],
            [
             0.7,
             "#b8e186"
            ],
            [
             0.8,
             "#7fbc41"
            ],
            [
             0.9,
             "#4d9221"
            ],
            [
             1,
             "#276419"
            ]
           ],
           "sequential": [
            [
             0,
             "#0d0887"
            ],
            [
             0.1111111111111111,
             "#46039f"
            ],
            [
             0.2222222222222222,
             "#7201a8"
            ],
            [
             0.3333333333333333,
             "#9c179e"
            ],
            [
             0.4444444444444444,
             "#bd3786"
            ],
            [
             0.5555555555555556,
             "#d8576b"
            ],
            [
             0.6666666666666666,
             "#ed7953"
            ],
            [
             0.7777777777777778,
             "#fb9f3a"
            ],
            [
             0.8888888888888888,
             "#fdca26"
            ],
            [
             1,
             "#f0f921"
            ]
           ],
           "sequentialminus": [
            [
             0,
             "#0d0887"
            ],
            [
             0.1111111111111111,
             "#46039f"
            ],
            [
             0.2222222222222222,
             "#7201a8"
            ],
            [
             0.3333333333333333,
             "#9c179e"
            ],
            [
             0.4444444444444444,
             "#bd3786"
            ],
            [
             0.5555555555555556,
             "#d8576b"
            ],
            [
             0.6666666666666666,
             "#ed7953"
            ],
            [
             0.7777777777777778,
             "#fb9f3a"
            ],
            [
             0.8888888888888888,
             "#fdca26"
            ],
            [
             1,
             "#f0f921"
            ]
           ]
          },
          "colorway": [
           "#636efa",
           "#EF553B",
           "#00cc96",
           "#ab63fa",
           "#FFA15A",
           "#19d3f3",
           "#FF6692",
           "#B6E880",
           "#FF97FF",
           "#FECB52"
          ],
          "font": {
           "color": "#2a3f5f"
          },
          "geo": {
           "bgcolor": "white",
           "lakecolor": "white",
           "landcolor": "#E5ECF6",
           "showlakes": true,
           "showland": true,
           "subunitcolor": "white"
          },
          "hoverlabel": {
           "align": "left"
          },
          "hovermode": "closest",
          "mapbox": {
           "style": "light"
          },
          "paper_bgcolor": "white",
          "plot_bgcolor": "#E5ECF6",
          "polar": {
           "angularaxis": {
            "gridcolor": "white",
            "linecolor": "white",
            "ticks": ""
           },
           "bgcolor": "#E5ECF6",
           "radialaxis": {
            "gridcolor": "white",
            "linecolor": "white",
            "ticks": ""
           }
          },
          "scene": {
           "xaxis": {
            "backgroundcolor": "#E5ECF6",
            "gridcolor": "white",
            "gridwidth": 2,
            "linecolor": "white",
            "showbackground": true,
            "ticks": "",
            "zerolinecolor": "white"
           },
           "yaxis": {
            "backgroundcolor": "#E5ECF6",
            "gridcolor": "white",
            "gridwidth": 2,
            "linecolor": "white",
            "showbackground": true,
            "ticks": "",
            "zerolinecolor": "white"
           },
           "zaxis": {
            "backgroundcolor": "#E5ECF6",
            "gridcolor": "white",
            "gridwidth": 2,
            "linecolor": "white",
            "showbackground": true,
            "ticks": "",
            "zerolinecolor": "white"
           }
          },
          "shapedefaults": {
           "line": {
            "color": "#2a3f5f"
           }
          },
          "ternary": {
           "aaxis": {
            "gridcolor": "white",
            "linecolor": "white",
            "ticks": ""
           },
           "baxis": {
            "gridcolor": "white",
            "linecolor": "white",
            "ticks": ""
           },
           "bgcolor": "#E5ECF6",
           "caxis": {
            "gridcolor": "white",
            "linecolor": "white",
            "ticks": ""
           }
          },
          "title": {
           "x": 0.05
          },
          "xaxis": {
           "automargin": true,
           "gridcolor": "white",
           "linecolor": "white",
           "ticks": "",
           "title": {
            "standoff": 15
           },
           "zerolinecolor": "white",
           "zerolinewidth": 2
          },
          "yaxis": {
           "automargin": true,
           "gridcolor": "white",
           "linecolor": "white",
           "ticks": "",
           "title": {
            "standoff": 15
           },
           "zerolinecolor": "white",
           "zerolinewidth": 2
          }
         }
        },
        "title": {
         "text": "Sales Count by Product"
        },
        "xaxis": {
         "anchor": "y",
         "domain": [
          0,
          1
         ],
         "tickmode": "linear",
         "title": {
          "text": "Product Group"
         },
         "type": "category"
        },
        "yaxis": {
         "anchor": "x",
         "domain": [
          0,
          1
         ],
         "title": {
          "text": "Number of Sales"
         }
        }
       }
      }
     },
     "metadata": {},
     "output_type": "display_data"
    }
   ],
   "source": [
    "# Count the number of occurrences (sales) for each product\n",
    "grouped_sales_count_positive = positive_sales.groupby('Mapped_GCK').size().reset_index(name='Sales_Count')\n",
    "plot_sales_by_product(grouped_sales_count_positive, 'Mapped_GCK', 'Sales_Count', 'Sales Count by Product', 'Product Group', 'Number of Sales')"
   ]
  },
  {
   "cell_type": "code",
   "execution_count": 679,
   "metadata": {},
   "outputs": [
    {
     "data": {
      "text/html": [
       "<div>\n",
       "<style scoped>\n",
       "    .dataframe tbody tr th:only-of-type {\n",
       "        vertical-align: middle;\n",
       "    }\n",
       "\n",
       "    .dataframe tbody tr th {\n",
       "        vertical-align: top;\n",
       "    }\n",
       "\n",
       "    .dataframe thead th {\n",
       "        text-align: right;\n",
       "    }\n",
       "</style>\n",
       "<table border=\"1\" class=\"dataframe\">\n",
       "  <thead>\n",
       "    <tr style=\"text-align: right;\">\n",
       "      <th></th>\n",
       "      <th>Mapped_GCK</th>\n",
       "      <th>Avg_Price_Per_Sale</th>\n",
       "    </tr>\n",
       "  </thead>\n",
       "  <tbody>\n",
       "    <tr>\n",
       "      <th>0</th>\n",
       "      <td>1</td>\n",
       "      <td>6089610.6515</td>\n",
       "    </tr>\n",
       "    <tr>\n",
       "      <th>1</th>\n",
       "      <td>3</td>\n",
       "      <td>2558118.2809</td>\n",
       "    </tr>\n",
       "    <tr>\n",
       "      <th>3</th>\n",
       "      <td>5</td>\n",
       "      <td>1999868.4055</td>\n",
       "    </tr>\n",
       "    <tr>\n",
       "      <th>7</th>\n",
       "      <td>11</td>\n",
       "      <td>458069.2968</td>\n",
       "    </tr>\n",
       "    <tr>\n",
       "      <th>5</th>\n",
       "      <td>8</td>\n",
       "      <td>170476.0467</td>\n",
       "    </tr>\n",
       "    <tr>\n",
       "      <th>4</th>\n",
       "      <td>6</td>\n",
       "      <td>113854.9578</td>\n",
       "    </tr>\n",
       "    <tr>\n",
       "      <th>2</th>\n",
       "      <td>4</td>\n",
       "      <td>81144.9202</td>\n",
       "    </tr>\n",
       "    <tr>\n",
       "      <th>11</th>\n",
       "      <td>16</td>\n",
       "      <td>59300.3649</td>\n",
       "    </tr>\n",
       "    <tr>\n",
       "      <th>8</th>\n",
       "      <td>12</td>\n",
       "      <td>50272.5702</td>\n",
       "    </tr>\n",
       "    <tr>\n",
       "      <th>10</th>\n",
       "      <td>14</td>\n",
       "      <td>8047.0732</td>\n",
       "    </tr>\n",
       "    <tr>\n",
       "      <th>13</th>\n",
       "      <td>36</td>\n",
       "      <td>7906.2475</td>\n",
       "    </tr>\n",
       "    <tr>\n",
       "      <th>9</th>\n",
       "      <td>13</td>\n",
       "      <td>7314.1305</td>\n",
       "    </tr>\n",
       "    <tr>\n",
       "      <th>6</th>\n",
       "      <td>9</td>\n",
       "      <td>3391.7151</td>\n",
       "    </tr>\n",
       "    <tr>\n",
       "      <th>12</th>\n",
       "      <td>20</td>\n",
       "      <td>967.4875</td>\n",
       "    </tr>\n",
       "  </tbody>\n",
       "</table>\n",
       "</div>"
      ],
      "text/plain": [
       "    Mapped_GCK  Avg_Price_Per_Sale\n",
       "0            1        6089610.6515\n",
       "1            3        2558118.2809\n",
       "3            5        1999868.4055\n",
       "7           11         458069.2968\n",
       "5            8         170476.0467\n",
       "4            6         113854.9578\n",
       "2            4          81144.9202\n",
       "11          16          59300.3649\n",
       "8           12          50272.5702\n",
       "10          14           8047.0732\n",
       "13          36           7906.2475\n",
       "9           13           7314.1305\n",
       "6            9           3391.7151\n",
       "12          20            967.4875"
      ]
     },
     "execution_count": 679,
     "metadata": {},
     "output_type": "execute_result"
    }
   ],
   "source": [
    "grouped_positive_sales_product['Avg_Price_Per_Sale'] = (\n",
    "    grouped_positive_sales_product['Sales_EUR'] / grouped_sales_count_positive['Sales_Count'])\n",
    "\n",
    "grouped_positive_sales_product[['Mapped_GCK', 'Avg_Price_Per_Sale']].sort_values(\n",
    "    by='Avg_Price_Per_Sale', ascending=False)"
   ]
  },
  {
   "cell_type": "markdown",
   "metadata": {},
   "source": [
    "The fact that **Product 11 has a higher negative impact per return** could suggest that its **return process involves higher infrastructure or logistical costs**. This might not be evident in positive sales because **Products 1, 3, and 5 dominate in average sale price**, meaning their revenue contribution is clearer: \n",
    "\n",
    " - **Product 11 might be more expensive to return**  \n",
    "   - Unlike **Products 1, 3, and 5, which have the highest positive sales values**, Product 11 does not stand out as much in positive sales but has a **very high cost per return (74K per return)**.  \n",
    "   - This suggests that **the cost of reversing a sale (e.g., logistics, dismantling, restocking) is exceptionally high**, even if the original sale price is lower than Products 1, 3, or 5.  \n",
    "\n",
    "- **Product 1 could involve multiple components**  \n",
    "   - While **Product 1 has the highest average sale price (6M per sale)**, its negative cost per return (~50K per return) is **not as extreme as Product 11**.  \n",
    "   - This could indicate that **Product 1 is expensive but might involve multiple sub-components**, meaning that a return does not necessarily affect the entire unit, but only parts of it.  \n",
    "   - The impact of a return might be spread across different elements rather than being concentrated in a single high-cost process.  \n",
    "\n",
    "- **Returns might not mirror the original sales structure**  \n",
    "   - In **positive sales**, the highest values are from **Products 1, 3, and 5**, meaning they generate the most revenue.  \n",
    "   - However, in **negative sales per return**, Product 11 stands out. This discrepancy suggests that **some products may be far more expensive to handle during returns than they are to sell**.  \n",
    "   - This could be due to **handling complexity, dismantling costs, or high depreciation upon return**.  "
   ]
  },
  {
   "cell_type": "code",
   "execution_count": 680,
   "metadata": {},
   "outputs": [
    {
     "data": {
      "text/html": [
       "<div>\n",
       "<style scoped>\n",
       "    .dataframe tbody tr th:only-of-type {\n",
       "        vertical-align: middle;\n",
       "    }\n",
       "\n",
       "    .dataframe tbody tr th {\n",
       "        vertical-align: top;\n",
       "    }\n",
       "\n",
       "    .dataframe thead th {\n",
       "        text-align: right;\n",
       "    }\n",
       "</style>\n",
       "<table border=\"1\" class=\"dataframe\">\n",
       "  <thead>\n",
       "    <tr style=\"text-align: right;\">\n",
       "      <th></th>\n",
       "      <th>Mapped_GCK</th>\n",
       "      <th>Sales_Count_positive</th>\n",
       "      <th>Sales_Count_negative</th>\n",
       "      <th>Return_Percentage</th>\n",
       "    </tr>\n",
       "  </thead>\n",
       "  <tbody>\n",
       "    <tr>\n",
       "      <th>0</th>\n",
       "      <td>1</td>\n",
       "      <td>254</td>\n",
       "      <td>51</td>\n",
       "      <td>20.0787</td>\n",
       "    </tr>\n",
       "    <tr>\n",
       "      <th>1</th>\n",
       "      <td>3</td>\n",
       "      <td>209</td>\n",
       "      <td>56</td>\n",
       "      <td>26.7943</td>\n",
       "    </tr>\n",
       "    <tr>\n",
       "      <th>2</th>\n",
       "      <td>4</td>\n",
       "      <td>194</td>\n",
       "      <td>40</td>\n",
       "      <td>20.6186</td>\n",
       "    </tr>\n",
       "    <tr>\n",
       "      <th>3</th>\n",
       "      <td>5</td>\n",
       "      <td>216</td>\n",
       "      <td>43</td>\n",
       "      <td>19.9074</td>\n",
       "    </tr>\n",
       "    <tr>\n",
       "      <th>4</th>\n",
       "      <td>6</td>\n",
       "      <td>185</td>\n",
       "      <td>10</td>\n",
       "      <td>5.4054</td>\n",
       "    </tr>\n",
       "    <tr>\n",
       "      <th>5</th>\n",
       "      <td>8</td>\n",
       "      <td>205</td>\n",
       "      <td>19</td>\n",
       "      <td>9.2683</td>\n",
       "    </tr>\n",
       "    <tr>\n",
       "      <th>6</th>\n",
       "      <td>9</td>\n",
       "      <td>94</td>\n",
       "      <td>11</td>\n",
       "      <td>11.7021</td>\n",
       "    </tr>\n",
       "    <tr>\n",
       "      <th>7</th>\n",
       "      <td>11</td>\n",
       "      <td>145</td>\n",
       "      <td>7</td>\n",
       "      <td>4.8276</td>\n",
       "    </tr>\n",
       "    <tr>\n",
       "      <th>8</th>\n",
       "      <td>12</td>\n",
       "      <td>165</td>\n",
       "      <td>10</td>\n",
       "      <td>6.0606</td>\n",
       "    </tr>\n",
       "    <tr>\n",
       "      <th>9</th>\n",
       "      <td>13</td>\n",
       "      <td>138</td>\n",
       "      <td>3</td>\n",
       "      <td>2.1739</td>\n",
       "    </tr>\n",
       "    <tr>\n",
       "      <th>10</th>\n",
       "      <td>14</td>\n",
       "      <td>63</td>\n",
       "      <td>7</td>\n",
       "      <td>11.1111</td>\n",
       "    </tr>\n",
       "    <tr>\n",
       "      <th>11</th>\n",
       "      <td>16</td>\n",
       "      <td>315</td>\n",
       "      <td>6</td>\n",
       "      <td>1.9048</td>\n",
       "    </tr>\n",
       "    <tr>\n",
       "      <th>12</th>\n",
       "      <td>20</td>\n",
       "      <td>81</td>\n",
       "      <td>5</td>\n",
       "      <td>6.1728</td>\n",
       "    </tr>\n",
       "    <tr>\n",
       "      <th>13</th>\n",
       "      <td>36</td>\n",
       "      <td>128</td>\n",
       "      <td>8</td>\n",
       "      <td>6.2500</td>\n",
       "    </tr>\n",
       "  </tbody>\n",
       "</table>\n",
       "</div>"
      ],
      "text/plain": [
       "    Mapped_GCK  Sales_Count_positive  Sales_Count_negative  Return_Percentage\n",
       "0            1                   254                    51            20.0787\n",
       "1            3                   209                    56            26.7943\n",
       "2            4                   194                    40            20.6186\n",
       "3            5                   216                    43            19.9074\n",
       "4            6                   185                    10             5.4054\n",
       "5            8                   205                    19             9.2683\n",
       "6            9                    94                    11            11.7021\n",
       "7           11                   145                     7             4.8276\n",
       "8           12                   165                    10             6.0606\n",
       "9           13                   138                     3             2.1739\n",
       "10          14                    63                     7            11.1111\n",
       "11          16                   315                     6             1.9048\n",
       "12          20                    81                     5             6.1728\n",
       "13          36                   128                     8             6.2500"
      ]
     },
     "execution_count": 680,
     "metadata": {},
     "output_type": "execute_result"
    }
   ],
   "source": [
    "# Merge positive sales count with negative sales count\n",
    "comparison_df = grouped_sales_count_positive.merge(\n",
    "    grouped_sales_count_negative, on='Mapped_GCK', how='left', suffixes=('_positive', '_negative'))\n",
    "\n",
    "# Compute percentage of returns per product\n",
    "comparison_df['Return_Percentage'] = (\n",
    "    comparison_df['Sales_Count_negative'] / comparison_df['Sales_Count_positive']) * 100\n",
    "\n",
    "# Merge with average price per sale\n",
    "comparison_df = comparison_df.merge(\n",
    "    grouped_positive_sales_product[['Mapped_GCK', 'Avg_Price_Per_Sale']],on='Mapped_GCK',how='left')\n",
    "comparison_df[['Mapped_GCK', 'Sales_Count_positive', 'Sales_Count_negative', 'Return_Percentage']]\n"
   ]
  },
  {
   "cell_type": "markdown",
   "metadata": {},
   "source": [
    "- Product 3 has the highest number of returns (56) and the highest return rate (26.8%), suggesting either a quality issue or a mismatch in customer expectations. However, we observed that this was mostly localized in November 2020, so the underlying issue may have already been resolved.\n",
    "\n",
    "- Product 1 and Product 5 are high-value products, and a 20% return rate is financially significant. However, their return rates remain bad across different years.\n",
    "\n",
    "- Product 4 has a low per-sale value but still a high return percentage, suggesting that it might be a lower-cost product that is frequently returned."
   ]
  },
  {
   "cell_type": "code",
   "execution_count": 681,
   "metadata": {},
   "outputs": [],
   "source": [
    "grouped_positive_sales_prod_month = positive_sales.groupby(['month_year', 'Mapped_GCK'])['Sales_EUR'].sum().reset_index()\n",
    "grouped_positive_sales_prod_month['month_year'] = grouped_positive_sales_prod_month['month_year'].astype(str)"
   ]
  },
  {
   "cell_type": "code",
   "execution_count": 682,
   "metadata": {},
   "outputs": [
    {
     "data": {
      "application/vnd.plotly.v1+json": {
       "config": {
        "plotlyServerURL": "https://plot.ly"
       },
       "data": [
        {
         "line": {
          "color": "blue"
         },
         "mode": "lines+markers",
         "name": "Product 1 Sales",
         "type": "scatter",
         "x": [
          "2018-10-01T00:00:00",
          "2018-11-01T00:00:00",
          "2018-12-01T00:00:00",
          "2019-01-01T00:00:00",
          "2019-02-01T00:00:00",
          "2019-03-01T00:00:00",
          "2019-04-01T00:00:00",
          "2019-05-01T00:00:00",
          "2019-06-01T00:00:00",
          "2019-07-01T00:00:00",
          "2019-08-01T00:00:00",
          "2019-09-01T00:00:00",
          "2019-10-01T00:00:00",
          "2019-11-01T00:00:00",
          "2019-12-01T00:00:00",
          "2020-01-01T00:00:00",
          "2020-02-01T00:00:00",
          "2020-03-01T00:00:00",
          "2020-04-01T00:00:00",
          "2020-05-01T00:00:00",
          "2020-06-01T00:00:00",
          "2020-07-01T00:00:00",
          "2020-08-01T00:00:00",
          "2020-09-01T00:00:00",
          "2020-10-01T00:00:00",
          "2020-11-01T00:00:00",
          "2020-12-01T00:00:00",
          "2021-01-01T00:00:00",
          "2021-02-01T00:00:00",
          "2021-03-01T00:00:00",
          "2021-04-01T00:00:00",
          "2021-05-01T00:00:00",
          "2021-06-01T00:00:00",
          "2021-07-01T00:00:00",
          "2021-08-01T00:00:00",
          "2021-09-01T00:00:00",
          "2021-10-01T00:00:00",
          "2021-11-01T00:00:00",
          "2021-12-01T00:00:00",
          "2022-01-01T00:00:00",
          "2022-02-01T00:00:00",
          "2022-03-01T00:00:00",
          "2022-04-01T00:00:00"
         ],
         "xaxis": "x",
         "y": [
          36098918.79,
          5140760,
          38116343.620000005,
          27807651.78,
          34854931.1,
          33892328.89,
          39728589.550000004,
          38963877.43,
          39196785.54,
          38012231.56,
          38176979.29,
          40759693.04,
          39281415.51,
          37366577.78,
          37861124.470000006,
          34246254.15,
          33564099.71,
          39218240.660000004,
          37987498.73,
          31400212.54,
          30932519.98,
          35212730.13,
          37482085.58,
          38879360.2,
          41468812.6,
          37643611.57,
          34838544.65,
          27180432.94,
          34631039.44,
          33476138.64,
          41318966.98,
          37788314.46,
          35807084.8,
          37151947.05,
          36310917.73,
          36404446.65,
          44551027.09,
          34243167.15,
          34017131.87,
          38033044.66,
          36354986.97,
          40224084.28,
          41136195.910000004
         ],
         "yaxis": "y"
        },
        {
         "line": {
          "color": "red",
          "dash": "dot"
         },
         "mode": "lines",
         "name": "Product 1 Trend",
         "type": "scatter",
         "x": [
          "2018-10-01T00:00:00",
          "2018-11-01T00:00:00",
          "2018-12-01T00:00:00",
          "2019-01-01T00:00:00",
          "2019-02-01T00:00:00",
          "2019-03-01T00:00:00",
          "2019-04-01T00:00:00",
          "2019-05-01T00:00:00",
          "2019-06-01T00:00:00",
          "2019-07-01T00:00:00",
          "2019-08-01T00:00:00",
          "2019-09-01T00:00:00",
          "2019-10-01T00:00:00",
          "2019-11-01T00:00:00",
          "2019-12-01T00:00:00",
          "2020-01-01T00:00:00",
          "2020-02-01T00:00:00",
          "2020-03-01T00:00:00",
          "2020-04-01T00:00:00",
          "2020-05-01T00:00:00",
          "2020-06-01T00:00:00",
          "2020-07-01T00:00:00",
          "2020-08-01T00:00:00",
          "2020-09-01T00:00:00",
          "2020-10-01T00:00:00",
          "2020-11-01T00:00:00",
          "2020-12-01T00:00:00",
          "2021-01-01T00:00:00",
          "2021-02-01T00:00:00",
          "2021-03-01T00:00:00",
          "2021-04-01T00:00:00",
          "2021-05-01T00:00:00",
          "2021-06-01T00:00:00",
          "2021-07-01T00:00:00",
          "2021-08-01T00:00:00",
          "2021-09-01T00:00:00",
          "2021-10-01T00:00:00",
          "2021-11-01T00:00:00",
          "2021-12-01T00:00:00",
          "2022-01-01T00:00:00",
          "2022-02-01T00:00:00",
          "2022-03-01T00:00:00",
          "2022-04-01T00:00:00"
         ],
         "xaxis": "x",
         "y": [
          33324344.614650726,
          33452681.690826893,
          33576878.861320496,
          33705215.93749666,
          33833553.013673306,
          33949470.37279987,
          34077807.44897652,
          34202004.61946964,
          34330341.695646286,
          34454538.86613941,
          34582875.94231558,
          34711213.01849222,
          34835410.18898535,
          34963747.265161514,
          35087944.43565512,
          35216281.51183128,
          35344618.58800745,
          35464675.852817535,
          35593012.92899418,
          35717210.099487305,
          35845547.17566395,
          35969744.346157074,
          36098081.42233324,
          36226418.498509884,
          36350615.66900301,
          36478952.74517918,
          36603149.91567278,
          36731486.991848946,
          36859824.06802511,
          36975741.42715216,
          37104078.5033288,
          37228275.673821926,
          37356612.74999809,
          37480809.920491695,
          37609146.99666786,
          37737484.07284403,
          37861681.24333763,
          37990018.3195138,
          38114215.49000692,
          38242552.56618357,
          38370889.64235973,
          38486807.00148678,
          38615144.07766342
         ],
         "yaxis": "y"
        },
        {
         "line": {
          "color": "blue"
         },
         "mode": "lines+markers",
         "name": "Product 3 Sales",
         "type": "scatter",
         "x": [
          "2018-10-01T00:00:00",
          "2018-11-01T00:00:00",
          "2018-12-01T00:00:00",
          "2019-01-01T00:00:00",
          "2019-02-01T00:00:00",
          "2019-03-01T00:00:00",
          "2019-04-01T00:00:00",
          "2019-05-01T00:00:00",
          "2019-06-01T00:00:00",
          "2019-07-01T00:00:00",
          "2019-08-01T00:00:00",
          "2019-09-01T00:00:00",
          "2019-10-01T00:00:00",
          "2019-11-01T00:00:00",
          "2019-12-01T00:00:00",
          "2020-01-01T00:00:00",
          "2020-02-01T00:00:00",
          "2020-03-01T00:00:00",
          "2020-04-01T00:00:00",
          "2020-05-01T00:00:00",
          "2020-06-01T00:00:00",
          "2020-07-01T00:00:00",
          "2020-08-01T00:00:00",
          "2020-09-01T00:00:00",
          "2020-10-01T00:00:00",
          "2020-11-01T00:00:00",
          "2020-12-01T00:00:00",
          "2021-01-01T00:00:00",
          "2021-02-01T00:00:00",
          "2021-03-01T00:00:00",
          "2021-04-01T00:00:00",
          "2021-05-01T00:00:00",
          "2021-06-01T00:00:00",
          "2021-07-01T00:00:00",
          "2021-08-01T00:00:00",
          "2021-09-01T00:00:00",
          "2021-10-01T00:00:00",
          "2021-11-01T00:00:00",
          "2021-12-01T00:00:00",
          "2022-01-01T00:00:00",
          "2022-02-01T00:00:00",
          "2022-03-01T00:00:00",
          "2022-04-01T00:00:00"
         ],
         "xaxis": "x2",
         "y": [
          8089465.960000001,
          11870270.2,
          8739307.86,
          10708075.280000001,
          10172826.74,
          11057255.219999999,
          12319225.05,
          12809906.5,
          11546452.19,
          13421550.83,
          11385124.1,
          16584171.89,
          11474630.719999999,
          13826060.48,
          11100259.09,
          11906935.89,
          10041616.85,
          12281991.559999999,
          12033590.25,
          10708811.08,
          13322084.26,
          12813823.290000001,
          11393931.08,
          15912964.07,
          10020637.2,
          15528904.46,
          9769385.94,
          3805995.46,
          16145077.36,
          14130525,
          13461271.93,
          10301967.41,
          13652981.05,
          13288996.05,
          12386832.61,
          15876042.96,
          13800028.270000001,
          18697989.22,
          12377048.080000002,
          13797765.87,
          15670940.04,
          14320304.55,
          12093696.8
         ],
         "yaxis": "y2"
        },
        {
         "line": {
          "color": "red",
          "dash": "dot"
         },
         "mode": "lines",
         "name": "Product 3 Trend",
         "type": "scatter",
         "x": [
          "2018-10-01T00:00:00",
          "2018-11-01T00:00:00",
          "2018-12-01T00:00:00",
          "2019-01-01T00:00:00",
          "2019-02-01T00:00:00",
          "2019-03-01T00:00:00",
          "2019-04-01T00:00:00",
          "2019-05-01T00:00:00",
          "2019-06-01T00:00:00",
          "2019-07-01T00:00:00",
          "2019-08-01T00:00:00",
          "2019-09-01T00:00:00",
          "2019-10-01T00:00:00",
          "2019-11-01T00:00:00",
          "2019-12-01T00:00:00",
          "2020-01-01T00:00:00",
          "2020-02-01T00:00:00",
          "2020-03-01T00:00:00",
          "2020-04-01T00:00:00",
          "2020-05-01T00:00:00",
          "2020-06-01T00:00:00",
          "2020-07-01T00:00:00",
          "2020-08-01T00:00:00",
          "2020-09-01T00:00:00",
          "2020-10-01T00:00:00",
          "2020-11-01T00:00:00",
          "2020-12-01T00:00:00",
          "2021-01-01T00:00:00",
          "2021-02-01T00:00:00",
          "2021-03-01T00:00:00",
          "2021-04-01T00:00:00",
          "2021-05-01T00:00:00",
          "2021-06-01T00:00:00",
          "2021-07-01T00:00:00",
          "2021-08-01T00:00:00",
          "2021-09-01T00:00:00",
          "2021-10-01T00:00:00",
          "2021-11-01T00:00:00",
          "2021-12-01T00:00:00",
          "2022-01-01T00:00:00",
          "2022-02-01T00:00:00",
          "2022-03-01T00:00:00",
          "2022-04-01T00:00:00"
         ],
         "xaxis": "x2",
         "y": [
          10728194.191818953,
          10810886.083424091,
          10890910.494654655,
          10973602.386259794,
          11056294.277864695,
          11130983.728346586,
          11213675.619951725,
          11293700.03118229,
          11376391.922787428,
          11456416.334017992,
          11539108.22562313,
          11621800.117228031,
          11701824.528458834,
          11784516.420063734,
          11864540.831294537,
          11947232.722899437,
          12029924.614504576,
          12107281.545360804,
          12189973.436965942,
          12269997.848196507,
          12352689.739801645,
          12432714.15103221,
          12515406.042637348,
          12598097.934242249,
          12678122.345473051,
          12760814.237077951,
          12840838.648308754,
          12923530.539913654,
          13006222.431518793,
          13080911.882000685,
          13163603.773605824,
          13243628.184836388,
          13326320.076441526,
          13406344.48767209,
          13489036.37927723,
          13571728.27088213,
          13651752.682112694,
          13734444.573717833,
          13814468.984948397,
          13897160.876553535,
          13979852.768158674,
          14054542.218640566,
          14137234.110245466
         ],
         "yaxis": "y2"
        },
        {
         "line": {
          "color": "blue"
         },
         "mode": "lines+markers",
         "name": "Product 4 Sales",
         "type": "scatter",
         "x": [
          "2018-10-01T00:00:00",
          "2018-11-01T00:00:00",
          "2018-12-01T00:00:00",
          "2019-01-01T00:00:00",
          "2019-02-01T00:00:00",
          "2019-03-01T00:00:00",
          "2019-04-01T00:00:00",
          "2019-05-01T00:00:00",
          "2019-06-01T00:00:00",
          "2019-07-01T00:00:00",
          "2019-08-01T00:00:00",
          "2019-09-01T00:00:00",
          "2019-10-01T00:00:00",
          "2019-11-01T00:00:00",
          "2019-12-01T00:00:00",
          "2020-01-01T00:00:00",
          "2020-02-01T00:00:00",
          "2020-03-01T00:00:00",
          "2020-04-01T00:00:00",
          "2020-05-01T00:00:00",
          "2020-06-01T00:00:00",
          "2020-07-01T00:00:00",
          "2020-08-01T00:00:00",
          "2020-09-01T00:00:00",
          "2020-10-01T00:00:00",
          "2020-11-01T00:00:00",
          "2020-12-01T00:00:00",
          "2021-01-01T00:00:00",
          "2021-02-01T00:00:00",
          "2021-03-01T00:00:00",
          "2021-04-01T00:00:00",
          "2021-05-01T00:00:00",
          "2021-06-01T00:00:00",
          "2021-07-01T00:00:00",
          "2021-08-01T00:00:00",
          "2021-09-01T00:00:00",
          "2021-10-01T00:00:00",
          "2021-11-01T00:00:00",
          "2021-12-01T00:00:00",
          "2022-01-01T00:00:00",
          "2022-02-01T00:00:00",
          "2022-03-01T00:00:00",
          "2022-04-01T00:00:00"
         ],
         "xaxis": "x3",
         "y": [
          397760.69,
          373352.33,
          436873.36,
          484435.48,
          620031.8,
          498766.86,
          428258.52,
          375671.57,
          190721.15,
          381343.41,
          303045.23,
          449113.22000000003,
          93978.25,
          298011.68,
          275968.15,
          219974.89,
          225314.22,
          197761.93,
          455693.41000000003,
          315488.98,
          329486.58,
          294401.19,
          172952.24,
          645058,
          332731.24,
          417133.31,
          303405.85,
          166532.61,
          807836.39,
          454530.24,
          298442.31,
          576541.19,
          831057.8200000001,
          436182.7,
          255407.75,
          323758.15,
          345909.79,
          290571.35,
          199921.82,
          283676.73,
          245405.49,
          406828.57,
          302778.06999999995
         ],
         "yaxis": "y3"
        },
        {
         "line": {
          "color": "red",
          "dash": "dot"
         },
         "mode": "lines",
         "name": "Product 4 Trend",
         "type": "scatter",
         "x": [
          "2018-10-01T00:00:00",
          "2018-11-01T00:00:00",
          "2018-12-01T00:00:00",
          "2019-01-01T00:00:00",
          "2019-02-01T00:00:00",
          "2019-03-01T00:00:00",
          "2019-04-01T00:00:00",
          "2019-05-01T00:00:00",
          "2019-06-01T00:00:00",
          "2019-07-01T00:00:00",
          "2019-08-01T00:00:00",
          "2019-09-01T00:00:00",
          "2019-10-01T00:00:00",
          "2019-11-01T00:00:00",
          "2019-12-01T00:00:00",
          "2020-01-01T00:00:00",
          "2020-02-01T00:00:00",
          "2020-03-01T00:00:00",
          "2020-04-01T00:00:00",
          "2020-05-01T00:00:00",
          "2020-06-01T00:00:00",
          "2020-07-01T00:00:00",
          "2020-08-01T00:00:00",
          "2020-09-01T00:00:00",
          "2020-10-01T00:00:00",
          "2020-11-01T00:00:00",
          "2020-12-01T00:00:00",
          "2021-01-01T00:00:00",
          "2021-02-01T00:00:00",
          "2021-03-01T00:00:00",
          "2021-04-01T00:00:00",
          "2021-05-01T00:00:00",
          "2021-06-01T00:00:00",
          "2021-07-01T00:00:00",
          "2021-08-01T00:00:00",
          "2021-09-01T00:00:00",
          "2021-10-01T00:00:00",
          "2021-11-01T00:00:00",
          "2021-12-01T00:00:00",
          "2022-01-01T00:00:00",
          "2022-02-01T00:00:00",
          "2022-03-01T00:00:00",
          "2022-04-01T00:00:00"
         ],
         "xaxis": "x3",
         "y": [
          380429.4238534048,
          379734.42633134127,
          379061.84808418155,
          378366.850562118,
          377671.85304005444,
          377044.1133427061,
          376349.1158206407,
          375676.53757348284,
          374981.5400514193,
          374308.96180425957,
          373613.964282196,
          372918.9667601306,
          372246.38851297274,
          371551.3909909073,
          370878.81274374947,
          370183.81522168405,
          369488.8176996205,
          368838.6587273665,
          368143.6612053029,
          367471.0829581432,
          366776.08543607965,
          366103.5071889218,
          365408.5096668564,
          364713.5121447928,
          364040.9338976331,
          363345.93637556955,
          362673.35812840983,
          361978.3606063463,
          361283.3630842827,
          360655.6233869344,
          359960.625864869,
          359288.0476177111,
          358593.0500956457,
          357920.47184848785,
          357225.4743264243,
          356530.4768043589,
          355857.898557201,
          355162.9010351356,
          354490.32278797776,
          353795.32526591234,
          353100.3277438488,
          352472.58804650046,
          351777.5905244369
         ],
         "yaxis": "y3"
        },
        {
         "line": {
          "color": "blue"
         },
         "mode": "lines+markers",
         "name": "Product 5 Sales",
         "type": "scatter",
         "x": [
          "2018-10-01T00:00:00",
          "2018-11-01T00:00:00",
          "2018-12-01T00:00:00",
          "2019-01-01T00:00:00",
          "2019-02-01T00:00:00",
          "2019-03-01T00:00:00",
          "2019-04-01T00:00:00",
          "2019-05-01T00:00:00",
          "2019-06-01T00:00:00",
          "2019-07-01T00:00:00",
          "2019-08-01T00:00:00",
          "2019-09-01T00:00:00",
          "2019-10-01T00:00:00",
          "2019-11-01T00:00:00",
          "2019-12-01T00:00:00",
          "2020-01-01T00:00:00",
          "2020-02-01T00:00:00",
          "2020-03-01T00:00:00",
          "2020-04-01T00:00:00",
          "2020-05-01T00:00:00",
          "2020-06-01T00:00:00",
          "2020-07-01T00:00:00",
          "2020-08-01T00:00:00",
          "2020-09-01T00:00:00",
          "2020-10-01T00:00:00",
          "2020-11-01T00:00:00",
          "2020-12-01T00:00:00",
          "2021-01-01T00:00:00",
          "2021-02-01T00:00:00",
          "2021-03-01T00:00:00",
          "2021-04-01T00:00:00",
          "2021-05-01T00:00:00",
          "2021-06-01T00:00:00",
          "2021-07-01T00:00:00",
          "2021-08-01T00:00:00",
          "2021-09-01T00:00:00",
          "2021-10-01T00:00:00",
          "2021-11-01T00:00:00",
          "2021-12-01T00:00:00",
          "2022-01-01T00:00:00",
          "2022-02-01T00:00:00",
          "2022-03-01T00:00:00",
          "2022-04-01T00:00:00"
         ],
         "xaxis": "x4",
         "y": [
          2499061.19,
          8993944.040000001,
          6981080.57,
          8301428.77,
          6892520.619999999,
          11933851.57,
          5937614.8,
          11413781.149999999,
          13738550.540000001,
          11189764.23,
          7663012.4799999995,
          15155155.01,
          11652205.11,
          8104241.69,
          13554688.83,
          7358142.5200000005,
          12490321.48,
          9345967.24,
          7990825.32,
          9883214.77,
          15873931.87,
          5590877.71,
          11463705.639999999,
          14160091.05,
          4652772.4399999995,
          10164950.32,
          8845742.299999999,
          1405295.36,
          16652189.63,
          11146249.81,
          7426997.640000001,
          8794595.14,
          11687229.03,
          8323704.77,
          19524640.52,
          15878203.309999999,
          11739106.18,
          9651295.45,
          8732579.69,
          7836080.63,
          7713154.79,
          14739187.18,
          8889623.190000001
         ],
         "yaxis": "y4"
        },
        {
         "line": {
          "color": "red",
          "dash": "dot"
         },
         "mode": "lines",
         "name": "Product 5 Trend",
         "type": "scatter",
         "x": [
          "2018-10-01T00:00:00",
          "2018-11-01T00:00:00",
          "2018-12-01T00:00:00",
          "2019-01-01T00:00:00",
          "2019-02-01T00:00:00",
          "2019-03-01T00:00:00",
          "2019-04-01T00:00:00",
          "2019-05-01T00:00:00",
          "2019-06-01T00:00:00",
          "2019-07-01T00:00:00",
          "2019-08-01T00:00:00",
          "2019-09-01T00:00:00",
          "2019-10-01T00:00:00",
          "2019-11-01T00:00:00",
          "2019-12-01T00:00:00",
          "2020-01-01T00:00:00",
          "2020-02-01T00:00:00",
          "2020-03-01T00:00:00",
          "2020-04-01T00:00:00",
          "2020-05-01T00:00:00",
          "2020-06-01T00:00:00",
          "2020-07-01T00:00:00",
          "2020-08-01T00:00:00",
          "2020-09-01T00:00:00",
          "2020-10-01T00:00:00",
          "2020-11-01T00:00:00",
          "2020-12-01T00:00:00",
          "2021-01-01T00:00:00",
          "2021-02-01T00:00:00",
          "2021-03-01T00:00:00",
          "2021-04-01T00:00:00",
          "2021-05-01T00:00:00",
          "2021-06-01T00:00:00",
          "2021-07-01T00:00:00",
          "2021-08-01T00:00:00",
          "2021-09-01T00:00:00",
          "2021-10-01T00:00:00",
          "2021-11-01T00:00:00",
          "2021-12-01T00:00:00",
          "2022-01-01T00:00:00",
          "2022-02-01T00:00:00",
          "2022-03-01T00:00:00",
          "2022-04-01T00:00:00"
         ],
         "xaxis": "x4",
         "y": [
          8867943.102115393,
          8925056.10545659,
          8980326.753851414,
          9037439.75719285,
          9094552.760534286,
          9146138.699036121,
          9203251.70237732,
          9258522.35077238,
          9315635.354113579,
          9370906.002508402,
          9428019.005849838,
          9485132.009191275,
          9540402.657586098,
          9597515.660927296,
          9652786.309322119,
          9709899.312663555,
          9767012.316004992,
          9820440.609453201,
          9877553.612794638,
          9932824.26118946,
          9989937.264530897,
          10045207.91292572,
          10102320.916266918,
          10159433.919608355,
          10214704.568003178,
          10271817.571344614,
          10327088.219739437,
          10384201.223080873,
          10441314.226422071,
          10492900.164923906,
          10550013.168265343,
          10605283.816660166,
          10662396.820001602,
          10717667.468396425,
          10774780.471737623,
          10831893.47507906,
          10887164.123473883,
          10944277.126815319,
          10999547.775210142,
          11056660.778551579,
          11113773.781892776,
          11165359.720394611,
          11222472.723736048
         ],
         "yaxis": "y4"
        },
        {
         "line": {
          "color": "blue"
         },
         "mode": "lines+markers",
         "name": "Product 6 Sales",
         "type": "scatter",
         "x": [
          "2018-10-01T00:00:00",
          "2018-11-01T00:00:00",
          "2018-12-01T00:00:00",
          "2019-01-01T00:00:00",
          "2019-02-01T00:00:00",
          "2019-03-01T00:00:00",
          "2019-04-01T00:00:00",
          "2019-05-01T00:00:00",
          "2019-06-01T00:00:00",
          "2019-07-01T00:00:00",
          "2019-08-01T00:00:00",
          "2019-09-01T00:00:00",
          "2019-10-01T00:00:00",
          "2019-11-01T00:00:00",
          "2019-12-01T00:00:00",
          "2020-01-01T00:00:00",
          "2020-02-01T00:00:00",
          "2020-03-01T00:00:00",
          "2020-04-01T00:00:00",
          "2020-05-01T00:00:00",
          "2020-06-01T00:00:00",
          "2020-07-01T00:00:00",
          "2020-08-01T00:00:00",
          "2020-09-01T00:00:00",
          "2020-10-01T00:00:00",
          "2020-11-01T00:00:00",
          "2020-12-01T00:00:00",
          "2021-01-01T00:00:00",
          "2021-02-01T00:00:00",
          "2021-03-01T00:00:00",
          "2021-04-01T00:00:00",
          "2021-05-01T00:00:00",
          "2021-06-01T00:00:00",
          "2021-07-01T00:00:00",
          "2021-08-01T00:00:00",
          "2021-09-01T00:00:00",
          "2021-10-01T00:00:00",
          "2021-11-01T00:00:00",
          "2021-12-01T00:00:00",
          "2022-01-01T00:00:00",
          "2022-02-01T00:00:00",
          "2022-03-01T00:00:00",
          "2022-04-01T00:00:00"
         ],
         "xaxis": "x5",
         "y": [
          369231.6,
          473046.95999999996,
          999472.6900000002,
          598874.1,
          542037.52,
          735604.23,
          277575.12,
          315978.77,
          282963.19,
          725411.99,
          212652.06,
          499147.73,
          581767.85,
          218154.2,
          913378.8,
          313876.65,
          724398.75,
          529808.94,
          782042.98,
          750367.7,
          530492.81,
          730187.6799999999,
          847092.87,
          316929.21,
          313535.91000000003,
          335130.74,
          332556.98,
          27472.940000000002,
          515644.63,
          625100.14,
          592478.95,
          566508.34,
          490262.94,
          499338.64,
          573378.11,
          949186.44,
          196463.81,
          386462.95999999996,
          190074.96,
          157670.31,
          391142.3,
          316558.08999999997,
          333705.61
         ],
         "yaxis": "y5"
        },
        {
         "line": {
          "color": "red",
          "dash": "dot"
         },
         "mode": "lines",
         "name": "Product 6 Trend",
         "type": "scatter",
         "x": [
          "2018-10-01T00:00:00",
          "2018-11-01T00:00:00",
          "2018-12-01T00:00:00",
          "2019-01-01T00:00:00",
          "2019-02-01T00:00:00",
          "2019-03-01T00:00:00",
          "2019-04-01T00:00:00",
          "2019-05-01T00:00:00",
          "2019-06-01T00:00:00",
          "2019-07-01T00:00:00",
          "2019-08-01T00:00:00",
          "2019-09-01T00:00:00",
          "2019-10-01T00:00:00",
          "2019-11-01T00:00:00",
          "2019-12-01T00:00:00",
          "2020-01-01T00:00:00",
          "2020-02-01T00:00:00",
          "2020-03-01T00:00:00",
          "2020-04-01T00:00:00",
          "2020-05-01T00:00:00",
          "2020-06-01T00:00:00",
          "2020-07-01T00:00:00",
          "2020-08-01T00:00:00",
          "2020-09-01T00:00:00",
          "2020-10-01T00:00:00",
          "2020-11-01T00:00:00",
          "2020-12-01T00:00:00",
          "2021-01-01T00:00:00",
          "2021-02-01T00:00:00",
          "2021-03-01T00:00:00",
          "2021-04-01T00:00:00",
          "2021-05-01T00:00:00",
          "2021-06-01T00:00:00",
          "2021-07-01T00:00:00",
          "2021-08-01T00:00:00",
          "2021-09-01T00:00:00",
          "2021-10-01T00:00:00",
          "2021-11-01T00:00:00",
          "2021-12-01T00:00:00",
          "2022-01-01T00:00:00",
          "2022-02-01T00:00:00",
          "2022-03-01T00:00:00",
          "2022-04-01T00:00:00"
         ],
         "xaxis": "x5",
         "y": [
          579820.5725743771,
          575457.7528434843,
          571235.6692329496,
          566872.8495020568,
          562510.0297711641,
          558569.4184013307,
          554206.5986704379,
          549984.5150599033,
          545621.6953290105,
          541399.6117184609,
          537036.7919875681,
          532673.9722566903,
          528451.8886461407,
          524089.0689152479,
          519866.98530471325,
          515504.1655738205,
          511141.3458429277,
          507059.99835275114,
          502697.17862185836,
          498475.0950113088,
          494112.2752804309,
          489890.19166988134,
          485527.37193898857,
          481164.5522081107,
          476942.4685975611,
          472579.64886666834,
          468357.5652561337,
          463994.7455252409,
          459631.9257943481,
          455691.31442451477,
          451328.494693622,
          447106.4110830873,
          442743.59135219455,
          438521.5077416599,
          434158.6880107671,
          429795.8682798743,
          425573.78466933966,
          421210.9649384469,
          416988.8813278973,
          412626.06159701943,
          408263.24186612666,
          404322.6304962933,
          399959.8107654005
         ],
         "yaxis": "y5"
        },
        {
         "line": {
          "color": "blue"
         },
         "mode": "lines+markers",
         "name": "Product 8 Sales",
         "type": "scatter",
         "x": [
          "2018-10-01T00:00:00",
          "2018-11-01T00:00:00",
          "2018-12-01T00:00:00",
          "2019-01-01T00:00:00",
          "2019-02-01T00:00:00",
          "2019-03-01T00:00:00",
          "2019-04-01T00:00:00",
          "2019-05-01T00:00:00",
          "2019-06-01T00:00:00",
          "2019-07-01T00:00:00",
          "2019-08-01T00:00:00",
          "2019-09-01T00:00:00",
          "2019-10-01T00:00:00",
          "2019-11-01T00:00:00",
          "2019-12-01T00:00:00",
          "2020-01-01T00:00:00",
          "2020-02-01T00:00:00",
          "2020-03-01T00:00:00",
          "2020-04-01T00:00:00",
          "2020-05-01T00:00:00",
          "2020-06-01T00:00:00",
          "2020-07-01T00:00:00",
          "2020-08-01T00:00:00",
          "2020-09-01T00:00:00",
          "2020-10-01T00:00:00",
          "2020-11-01T00:00:00",
          "2020-12-01T00:00:00",
          "2021-01-01T00:00:00",
          "2021-02-01T00:00:00",
          "2021-03-01T00:00:00",
          "2021-04-01T00:00:00",
          "2021-05-01T00:00:00",
          "2021-06-01T00:00:00",
          "2021-07-01T00:00:00",
          "2021-08-01T00:00:00",
          "2021-09-01T00:00:00",
          "2021-10-01T00:00:00",
          "2021-11-01T00:00:00",
          "2021-12-01T00:00:00",
          "2022-01-01T00:00:00",
          "2022-02-01T00:00:00",
          "2022-03-01T00:00:00",
          "2022-04-01T00:00:00"
         ],
         "xaxis": "x6",
         "y": [
          586052.74,
          526792.77,
          271490.71,
          381400.15,
          368475.57,
          592288.36,
          418899.9,
          298806.83999999997,
          420707.73,
          366980.26,
          397537.2,
          1084685.92,
          111791.34,
          543893.42,
          507998.42000000004,
          323769.2,
          327179.83999999997,
          846245.78,
          302765.68,
          712746.38,
          647330.13,
          585870.47,
          917015.1799999999,
          1337657.62,
          153873.52,
          904436.89,
          1061969.46,
          305820.25999999995,
          1615468.03,
          900269.97,
          1071688.56,
          813653.21,
          1091239.79,
          1207554.52,
          1093379.99,
          2036579.98,
          356322.55,
          1142743.17,
          2655036.7800000003,
          1208090.29,
          1239171.41,
          1875688.63,
          1336220.96
         ],
         "yaxis": "y6"
        },
        {
         "line": {
          "color": "red",
          "dash": "dot"
         },
         "mode": "lines",
         "name": "Product 8 Trend",
         "type": "scatter",
         "x": [
          "2018-10-01T00:00:00",
          "2018-11-01T00:00:00",
          "2018-12-01T00:00:00",
          "2019-01-01T00:00:00",
          "2019-02-01T00:00:00",
          "2019-03-01T00:00:00",
          "2019-04-01T00:00:00",
          "2019-05-01T00:00:00",
          "2019-06-01T00:00:00",
          "2019-07-01T00:00:00",
          "2019-08-01T00:00:00",
          "2019-09-01T00:00:00",
          "2019-10-01T00:00:00",
          "2019-11-01T00:00:00",
          "2019-12-01T00:00:00",
          "2020-01-01T00:00:00",
          "2020-02-01T00:00:00",
          "2020-03-01T00:00:00",
          "2020-04-01T00:00:00",
          "2020-05-01T00:00:00",
          "2020-06-01T00:00:00",
          "2020-07-01T00:00:00",
          "2020-08-01T00:00:00",
          "2020-09-01T00:00:00",
          "2020-10-01T00:00:00",
          "2020-11-01T00:00:00",
          "2020-12-01T00:00:00",
          "2021-01-01T00:00:00",
          "2021-02-01T00:00:00",
          "2021-03-01T00:00:00",
          "2021-04-01T00:00:00",
          "2021-05-01T00:00:00",
          "2021-06-01T00:00:00",
          "2021-07-01T00:00:00",
          "2021-08-01T00:00:00",
          "2021-09-01T00:00:00",
          "2021-10-01T00:00:00",
          "2021-11-01T00:00:00",
          "2021-12-01T00:00:00",
          "2022-01-01T00:00:00",
          "2022-02-01T00:00:00",
          "2022-03-01T00:00:00",
          "2022-04-01T00:00:00"
         ],
         "xaxis": "x6",
         "y": [
          194589.0415034294,
          224560.96368646622,
          253566.0496701002,
          283537.971853137,
          313509.8940361738,
          340581.3076207638,
          370553.2298038006,
          399558.3157874346,
          429530.2379704714,
          458535.32395398617,
          488507.246137023,
          518479.1683200598,
          547484.2543036938,
          577456.1764867306,
          606461.2624702454,
          636433.1846532822,
          666405.106836319,
          694443.356620431,
          724415.2788034678,
          753420.3647871017,
          783392.2869701385,
          812397.3729536533,
          842369.2951366901,
          872341.217319727,
          901346.3033033609,
          931318.2254863977,
          960323.3114699125,
          990295.2336529493,
          1020267.1558359861,
          1047338.5694206953,
          1077310.491603732,
          1106315.577587247,
          1136287.4997702837,
          1165292.5857539177,
          1195264.5079369545,
          1225236.4301199913,
          1254241.516103506,
          1284213.438286543,
          1313218.524270177,
          1343190.4464532137,
          1373162.3686362505,
          1400233.7822209597,
          1430205.7044039965
         ],
         "yaxis": "y6"
        },
        {
         "line": {
          "color": "blue"
         },
         "mode": "lines+markers",
         "name": "Product 9 Sales",
         "type": "scatter",
         "x": [
          "2018-10-01T00:00:00",
          "2018-11-01T00:00:00",
          "2019-01-01T00:00:00",
          "2019-02-01T00:00:00",
          "2019-03-01T00:00:00",
          "2019-04-01T00:00:00",
          "2019-05-01T00:00:00",
          "2019-06-01T00:00:00",
          "2019-07-01T00:00:00",
          "2019-08-01T00:00:00",
          "2019-09-01T00:00:00",
          "2019-10-01T00:00:00",
          "2019-11-01T00:00:00",
          "2019-12-01T00:00:00",
          "2020-01-01T00:00:00",
          "2020-02-01T00:00:00",
          "2020-03-01T00:00:00",
          "2020-04-01T00:00:00",
          "2020-05-01T00:00:00",
          "2020-06-01T00:00:00",
          "2020-07-01T00:00:00",
          "2020-08-01T00:00:00",
          "2020-09-01T00:00:00",
          "2020-10-01T00:00:00",
          "2020-11-01T00:00:00",
          "2020-12-01T00:00:00",
          "2021-01-01T00:00:00",
          "2021-02-01T00:00:00",
          "2021-03-01T00:00:00",
          "2021-04-01T00:00:00",
          "2021-05-01T00:00:00",
          "2021-06-01T00:00:00",
          "2021-07-01T00:00:00",
          "2021-08-01T00:00:00",
          "2021-09-01T00:00:00",
          "2021-10-01T00:00:00",
          "2021-11-01T00:00:00",
          "2021-12-01T00:00:00",
          "2022-01-01T00:00:00",
          "2022-02-01T00:00:00",
          "2022-03-01T00:00:00",
          "2022-04-01T00:00:00"
         ],
         "xaxis": "x7",
         "y": [
          3219.32,
          1875.9,
          1487,
          3234.2799999999997,
          13050.61,
          9150.7,
          4614.08,
          4488.09,
          1766.4,
          6371.5,
          13930.26,
          555,
          24181.8,
          7611.36,
          7647.5,
          425.1,
          2233,
          1851.85,
          3764.12,
          7555.45,
          978.6400000000001,
          9907.2,
          2893.35,
          39546,
          2429.8,
          8606.5,
          625.5,
          10022.4,
          28108.88,
          16713.96,
          8026,
          7240.84,
          11295.75,
          432,
          9288,
          950,
          17018.58,
          14963.7,
          2093.2,
          930,
          4452.6,
          3285
         ],
         "yaxis": "y7"
        },
        {
         "line": {
          "color": "red",
          "dash": "dot"
         },
         "mode": "lines",
         "name": "Product 9 Trend",
         "type": "scatter",
         "x": [
          "2018-10-01T00:00:00",
          "2018-11-01T00:00:00",
          "2019-01-01T00:00:00",
          "2019-02-01T00:00:00",
          "2019-03-01T00:00:00",
          "2019-04-01T00:00:00",
          "2019-05-01T00:00:00",
          "2019-06-01T00:00:00",
          "2019-07-01T00:00:00",
          "2019-08-01T00:00:00",
          "2019-09-01T00:00:00",
          "2019-10-01T00:00:00",
          "2019-11-01T00:00:00",
          "2019-12-01T00:00:00",
          "2020-01-01T00:00:00",
          "2020-02-01T00:00:00",
          "2020-03-01T00:00:00",
          "2020-04-01T00:00:00",
          "2020-05-01T00:00:00",
          "2020-06-01T00:00:00",
          "2020-07-01T00:00:00",
          "2020-08-01T00:00:00",
          "2020-09-01T00:00:00",
          "2020-10-01T00:00:00",
          "2020-11-01T00:00:00",
          "2020-12-01T00:00:00",
          "2021-01-01T00:00:00",
          "2021-02-01T00:00:00",
          "2021-03-01T00:00:00",
          "2021-04-01T00:00:00",
          "2021-05-01T00:00:00",
          "2021-06-01T00:00:00",
          "2021-07-01T00:00:00",
          "2021-08-01T00:00:00",
          "2021-09-01T00:00:00",
          "2021-10-01T00:00:00",
          "2021-11-01T00:00:00",
          "2021-12-01T00:00:00",
          "2022-01-01T00:00:00",
          "2022-02-01T00:00:00",
          "2022-03-01T00:00:00",
          "2022-04-01T00:00:00"
         ],
         "xaxis": "x7",
         "y": [
          6009.959950048709,
          6085.002418972086,
          6232.666632015025,
          6307.709100938169,
          6375.4893954496365,
          6450.531864373013,
          6523.153608492343,
          6598.19607741572,
          6670.817821535282,
          6745.860290458426,
          6820.902759381803,
          6893.524503501365,
          6968.566972424742,
          7041.188716544071,
          7116.231185467448,
          7191.273654390825,
          7261.474673706107,
          7336.517142629484,
          7409.138886748813,
          7484.18135567219,
          7556.803099791519,
          7631.845568714896,
          7706.888037638273,
          7779.5097817576025,
          7854.552250680979,
          7927.173994800542,
          8002.216463723686,
          8077.2589326470625,
          8145.03922715853,
          8220.081696081907,
          8292.703440201236,
          8367.745909124613,
          8440.367653244175,
          8515.410122167319,
          8590.452591090696,
          8663.074335210258,
          8738.116804133402,
          8810.738548252964,
          8885.781017176341,
          8960.823486099718,
          9028.603780610953,
          9103.64624953433
         ],
         "yaxis": "y7"
        },
        {
         "line": {
          "color": "blue"
         },
         "mode": "lines+markers",
         "name": "Product 11 Sales",
         "type": "scatter",
         "x": [
          "2018-10-01T00:00:00",
          "2018-11-01T00:00:00",
          "2018-12-01T00:00:00",
          "2019-01-01T00:00:00",
          "2019-02-01T00:00:00",
          "2019-03-01T00:00:00",
          "2019-04-01T00:00:00",
          "2019-05-01T00:00:00",
          "2019-06-01T00:00:00",
          "2019-07-01T00:00:00",
          "2019-08-01T00:00:00",
          "2019-09-01T00:00:00",
          "2019-10-01T00:00:00",
          "2019-11-01T00:00:00",
          "2019-12-01T00:00:00",
          "2020-01-01T00:00:00",
          "2020-02-01T00:00:00",
          "2020-03-01T00:00:00",
          "2020-04-01T00:00:00",
          "2020-05-01T00:00:00",
          "2020-06-01T00:00:00",
          "2020-07-01T00:00:00",
          "2020-08-01T00:00:00",
          "2020-09-01T00:00:00",
          "2020-10-01T00:00:00",
          "2020-11-01T00:00:00",
          "2020-12-01T00:00:00",
          "2021-01-01T00:00:00",
          "2021-02-01T00:00:00",
          "2021-03-01T00:00:00",
          "2021-04-01T00:00:00",
          "2021-05-01T00:00:00",
          "2021-06-01T00:00:00",
          "2021-07-01T00:00:00",
          "2021-08-01T00:00:00",
          "2021-09-01T00:00:00",
          "2021-10-01T00:00:00",
          "2021-11-01T00:00:00",
          "2021-12-01T00:00:00",
          "2022-01-01T00:00:00",
          "2022-02-01T00:00:00",
          "2022-03-01T00:00:00",
          "2022-04-01T00:00:00"
         ],
         "xaxis": "x8",
         "y": [
          1021303.5,
          1898844.8,
          1226122,
          2216391.74,
          610456.6,
          957023.11,
          1484281.6,
          1066063.9,
          492133.2,
          585648.14,
          2921554.87,
          3749980.46,
          228130,
          1194770.75,
          1278545.62,
          584370,
          1233609.73,
          2969948.65,
          813303.01,
          842526.1,
          2246948,
          2105975.71,
          1521580.0699999998,
          3891447.7600000002,
          973839.23,
          488891.95999999996,
          1096370.71,
          18200,
          1978335.55,
          1660211.1600000001,
          1206734.3399999999,
          1994228.4,
          991872.24,
          2253079.74,
          2715460.08,
          3795389.85,
          173771.79,
          1832753.73,
          2645689.71,
          1075255.25,
          967190.3200000001,
          2284958.4000000004,
          1126856.25
         ],
         "yaxis": "y8"
        },
        {
         "line": {
          "color": "red",
          "dash": "dot"
         },
         "mode": "lines",
         "name": "Product 11 Trend",
         "type": "scatter",
         "x": [
          "2018-10-01T00:00:00",
          "2018-11-01T00:00:00",
          "2018-12-01T00:00:00",
          "2019-01-01T00:00:00",
          "2019-02-01T00:00:00",
          "2019-03-01T00:00:00",
          "2019-04-01T00:00:00",
          "2019-05-01T00:00:00",
          "2019-06-01T00:00:00",
          "2019-07-01T00:00:00",
          "2019-08-01T00:00:00",
          "2019-09-01T00:00:00",
          "2019-10-01T00:00:00",
          "2019-11-01T00:00:00",
          "2019-12-01T00:00:00",
          "2020-01-01T00:00:00",
          "2020-02-01T00:00:00",
          "2020-03-01T00:00:00",
          "2020-04-01T00:00:00",
          "2020-05-01T00:00:00",
          "2020-06-01T00:00:00",
          "2020-07-01T00:00:00",
          "2020-08-01T00:00:00",
          "2020-09-01T00:00:00",
          "2020-10-01T00:00:00",
          "2020-11-01T00:00:00",
          "2020-12-01T00:00:00",
          "2021-01-01T00:00:00",
          "2021-02-01T00:00:00",
          "2021-03-01T00:00:00",
          "2021-04-01T00:00:00",
          "2021-05-01T00:00:00",
          "2021-06-01T00:00:00",
          "2021-07-01T00:00:00",
          "2021-08-01T00:00:00",
          "2021-09-01T00:00:00",
          "2021-10-01T00:00:00",
          "2021-11-01T00:00:00",
          "2021-12-01T00:00:00",
          "2022-01-01T00:00:00",
          "2022-02-01T00:00:00",
          "2022-03-01T00:00:00",
          "2022-04-01T00:00:00"
         ],
         "xaxis": "x8",
         "y": [
          1319448.2647963762,
          1330367.6941560507,
          1340934.8838589787,
          1351854.3132186532,
          1362773.7425783575,
          1372636.4529677331,
          1383555.8823274374,
          1394123.0720303357,
          1405042.50139004,
          1415609.6910929382,
          1426529.1204526424,
          1437448.549812317,
          1448015.739515245,
          1458935.1688749194,
          1469502.3585778475,
          1480421.787937522,
          1491341.2172971964,
          1501556.167343378,
          1512475.5967030525,
          1523042.7864059806,
          1533962.215765655,
          1544529.405468583,
          1555448.8348282576,
          1566368.264187932,
          1576935.45389086,
          1587854.8832505345,
          1598422.0729534626,
          1609341.5023131669,
          1620260.9316728413,
          1630123.642062217,
          1641043.0714219213,
          1651610.2611248195,
          1662529.6904845238,
          1673096.8801874518,
          1684016.3095471263,
          1694935.7389068007,
          1705502.9286097288,
          1716422.3579694033,
          1726989.5476723313,
          1737908.9770320058,
          1748828.40639171,
          1758691.1167810857,
          1769610.54614079
         ],
         "yaxis": "y8"
        },
        {
         "line": {
          "color": "blue"
         },
         "mode": "lines+markers",
         "name": "Product 12 Sales",
         "type": "scatter",
         "x": [
          "2018-10-01T00:00:00",
          "2018-11-01T00:00:00",
          "2018-12-01T00:00:00",
          "2019-01-01T00:00:00",
          "2019-02-01T00:00:00",
          "2019-03-01T00:00:00",
          "2019-04-01T00:00:00",
          "2019-05-01T00:00:00",
          "2019-06-01T00:00:00",
          "2019-07-01T00:00:00",
          "2019-08-01T00:00:00",
          "2019-09-01T00:00:00",
          "2019-10-01T00:00:00",
          "2019-11-01T00:00:00",
          "2019-12-01T00:00:00",
          "2020-01-01T00:00:00",
          "2020-02-01T00:00:00",
          "2020-03-01T00:00:00",
          "2020-04-01T00:00:00",
          "2020-05-01T00:00:00",
          "2020-06-01T00:00:00",
          "2020-07-01T00:00:00",
          "2020-08-01T00:00:00",
          "2020-09-01T00:00:00",
          "2020-10-01T00:00:00",
          "2020-11-01T00:00:00",
          "2020-12-01T00:00:00",
          "2021-01-01T00:00:00",
          "2021-02-01T00:00:00",
          "2021-03-01T00:00:00",
          "2021-04-01T00:00:00",
          "2021-05-01T00:00:00",
          "2021-06-01T00:00:00",
          "2021-07-01T00:00:00",
          "2021-08-01T00:00:00",
          "2021-09-01T00:00:00",
          "2021-10-01T00:00:00",
          "2021-11-01T00:00:00",
          "2021-12-01T00:00:00",
          "2022-01-01T00:00:00",
          "2022-02-01T00:00:00",
          "2022-03-01T00:00:00",
          "2022-04-01T00:00:00"
         ],
         "xaxis": "x9",
         "y": [
          28686.33,
          1070,
          17880.6,
          21484,
          34214.74,
          10118,
          21813.27,
          24468,
          44255.68,
          21318.48,
          19217,
          292490.4,
          140819.69,
          320942.27999999997,
          349515.29,
          213315.32,
          324443.35,
          190629.89,
          79632,
          153949.24,
          172712.88,
          110995.2,
          164108.2,
          168634.8,
          5395,
          445648.06000000006,
          271024.19,
          92754.01,
          287890.61,
          282688.33999999997,
          385267.16000000003,
          379881.93,
          327404.12,
          364134.84,
          144575.88,
          423432.68,
          217388.43,
          429825.32000000007,
          322647.82,
          149144.93,
          316478.3,
          344536.82,
          178141
         ],
         "yaxis": "y9"
        },
        {
         "line": {
          "color": "red",
          "dash": "dot"
         },
         "mode": "lines",
         "name": "Product 12 Trend",
         "type": "scatter",
         "x": [
          "2018-10-01T00:00:00",
          "2018-11-01T00:00:00",
          "2018-12-01T00:00:00",
          "2019-01-01T00:00:00",
          "2019-02-01T00:00:00",
          "2019-03-01T00:00:00",
          "2019-04-01T00:00:00",
          "2019-05-01T00:00:00",
          "2019-06-01T00:00:00",
          "2019-07-01T00:00:00",
          "2019-08-01T00:00:00",
          "2019-09-01T00:00:00",
          "2019-10-01T00:00:00",
          "2019-11-01T00:00:00",
          "2019-12-01T00:00:00",
          "2020-01-01T00:00:00",
          "2020-02-01T00:00:00",
          "2020-03-01T00:00:00",
          "2020-04-01T00:00:00",
          "2020-05-01T00:00:00",
          "2020-06-01T00:00:00",
          "2020-07-01T00:00:00",
          "2020-08-01T00:00:00",
          "2020-09-01T00:00:00",
          "2020-10-01T00:00:00",
          "2020-11-01T00:00:00",
          "2020-12-01T00:00:00",
          "2021-01-01T00:00:00",
          "2021-02-01T00:00:00",
          "2021-03-01T00:00:00",
          "2021-04-01T00:00:00",
          "2021-05-01T00:00:00",
          "2021-06-01T00:00:00",
          "2021-07-01T00:00:00",
          "2021-08-01T00:00:00",
          "2021-09-01T00:00:00",
          "2021-10-01T00:00:00",
          "2021-11-01T00:00:00",
          "2021-12-01T00:00:00",
          "2022-01-01T00:00:00",
          "2022-02-01T00:00:00",
          "2022-03-01T00:00:00",
          "2022-04-01T00:00:00"
         ],
         "xaxis": "x9",
         "y": [
          37214.711147964,
          44763.70672920346,
          52069.186323970556,
          59618.18190521002,
          67167.17748647928,
          73985.62510824203,
          81534.6206894815,
          88840.10028424859,
          96389.09586551785,
          103694.57546025515,
          111243.57104152441,
          118792.56662276387,
          126098.04621753097,
          133647.04179877043,
          140952.52139353752,
          148501.5169748068,
          156050.51255604625,
          163112.47616431117,
          170661.47174558043,
          177966.95134031773,
          185515.946921587,
          192821.42651632428,
          200370.42209759355,
          207919.417678833,
          215224.8972736001,
          222773.89285483956,
          230079.37244960666,
          237628.36803087592,
          245177.36361211538,
          251995.81123387814,
          259544.8068151474,
          266850.2864099145,
          274399.28199115396,
          281704.76158592105,
          289253.7571671605,
          296802.7527484298,
          304108.23234316707,
          311657.22792443633,
          318962.7075192034,
          326511.7031004429,
          334060.69868168235,
          340879.1463034749,
          348428.14188471437
         ],
         "yaxis": "y9"
        },
        {
         "line": {
          "color": "blue"
         },
         "mode": "lines+markers",
         "name": "Product 13 Sales",
         "type": "scatter",
         "x": [
          "2018-10-01T00:00:00",
          "2018-11-01T00:00:00",
          "2018-12-01T00:00:00",
          "2019-01-01T00:00:00",
          "2019-02-01T00:00:00",
          "2019-03-01T00:00:00",
          "2019-04-01T00:00:00",
          "2019-05-01T00:00:00",
          "2019-06-01T00:00:00",
          "2019-07-01T00:00:00",
          "2019-08-01T00:00:00",
          "2019-09-01T00:00:00",
          "2019-10-01T00:00:00",
          "2019-11-01T00:00:00",
          "2019-12-01T00:00:00",
          "2020-01-01T00:00:00",
          "2020-02-01T00:00:00",
          "2020-03-01T00:00:00",
          "2020-04-01T00:00:00",
          "2020-05-01T00:00:00",
          "2020-06-01T00:00:00",
          "2020-07-01T00:00:00",
          "2020-08-01T00:00:00",
          "2020-09-01T00:00:00",
          "2020-10-01T00:00:00",
          "2020-11-01T00:00:00",
          "2020-12-01T00:00:00",
          "2021-01-01T00:00:00",
          "2021-02-01T00:00:00",
          "2021-03-01T00:00:00",
          "2021-04-01T00:00:00",
          "2021-05-01T00:00:00",
          "2021-06-01T00:00:00",
          "2021-07-01T00:00:00",
          "2021-08-01T00:00:00",
          "2021-09-01T00:00:00",
          "2021-10-01T00:00:00",
          "2021-11-01T00:00:00",
          "2021-12-01T00:00:00",
          "2022-01-01T00:00:00",
          "2022-02-01T00:00:00",
          "2022-03-01T00:00:00",
          "2022-04-01T00:00:00"
         ],
         "xaxis": "x10",
         "y": [
          27666.1,
          68338.2,
          15655.18,
          27198.29,
          32638.63,
          11890,
          7514.85,
          2558.9,
          34849.21,
          43008.350000000006,
          22497.6,
          19601.050000000003,
          65754.55,
          43190.76,
          26729.760000000002,
          19519.59,
          13747.169999999998,
          23513.59,
          30716.11,
          3762.8199999999997,
          9612.8,
          6745.2,
          25689.64,
          15314.86,
          9524.88,
          20663.64,
          31216.71,
          10118.36,
          16729.8,
          63092.75,
          38125.2,
          4130,
          6015.04,
          8419.83,
          10814.57,
          28682.589999999997,
          30506.15,
          8136.92,
          24868.86,
          37972.81,
          33449.25,
          12149.4,
          17020.04
         ],
         "yaxis": "y10"
        },
        {
         "line": {
          "color": "red",
          "dash": "dot"
         },
         "mode": "lines",
         "name": "Product 13 Trend",
         "type": "scatter",
         "x": [
          "2018-10-01T00:00:00",
          "2018-11-01T00:00:00",
          "2018-12-01T00:00:00",
          "2019-01-01T00:00:00",
          "2019-02-01T00:00:00",
          "2019-03-01T00:00:00",
          "2019-04-01T00:00:00",
          "2019-05-01T00:00:00",
          "2019-06-01T00:00:00",
          "2019-07-01T00:00:00",
          "2019-08-01T00:00:00",
          "2019-09-01T00:00:00",
          "2019-10-01T00:00:00",
          "2019-11-01T00:00:00",
          "2019-12-01T00:00:00",
          "2020-01-01T00:00:00",
          "2020-02-01T00:00:00",
          "2020-03-01T00:00:00",
          "2020-04-01T00:00:00",
          "2020-05-01T00:00:00",
          "2020-06-01T00:00:00",
          "2020-07-01T00:00:00",
          "2020-08-01T00:00:00",
          "2020-09-01T00:00:00",
          "2020-10-01T00:00:00",
          "2020-11-01T00:00:00",
          "2020-12-01T00:00:00",
          "2021-01-01T00:00:00",
          "2021-02-01T00:00:00",
          "2021-03-01T00:00:00",
          "2021-04-01T00:00:00",
          "2021-05-01T00:00:00",
          "2021-06-01T00:00:00",
          "2021-07-01T00:00:00",
          "2021-08-01T00:00:00",
          "2021-09-01T00:00:00",
          "2021-10-01T00:00:00",
          "2021-11-01T00:00:00",
          "2021-12-01T00:00:00",
          "2022-01-01T00:00:00",
          "2022-02-01T00:00:00",
          "2022-03-01T00:00:00",
          "2022-04-01T00:00:00"
         ],
         "xaxis": "x10",
         "y": [
          28302.524565892294,
          28068.36863193568,
          27841.7661152035,
          27607.610181246884,
          27373.45424729027,
          27161.958565006964,
          26927.80263105035,
          26701.20011431817,
          26467.044180361554,
          26240.441663629375,
          26006.28572967276,
          25772.129795716144,
          25545.527278983966,
          25311.37134502735,
          25084.76882829517,
          24850.612894338556,
          24616.45696038194,
          24397.4078608742,
          24163.251926917583,
          23936.649410184473,
          23702.493476227857,
          23475.89095949568,
          23241.735025539063,
          23007.579091582447,
          22780.97657485027,
          22546.820640893653,
          22320.218124161474,
          22086.06219020486,
          21851.906256248243,
          21640.41057396494,
          21406.254640008323,
          21179.652123276144,
          20945.49618931953,
          20718.89367258735,
          20484.737738630734,
          20250.58180467412,
          20023.97928794194,
          19789.823353985325,
          19563.220837253146,
          19329.0649032956,
          19094.908969338983,
          18883.41328705568,
          18649.257353099063
         ],
         "yaxis": "y10"
        },
        {
         "line": {
          "color": "blue"
         },
         "mode": "lines+markers",
         "name": "Product 14 Sales",
         "type": "scatter",
         "x": [
          "2018-10-01T00:00:00",
          "2018-11-01T00:00:00",
          "2019-01-01T00:00:00",
          "2019-02-01T00:00:00",
          "2019-03-01T00:00:00",
          "2019-05-01T00:00:00",
          "2019-06-01T00:00:00",
          "2019-07-01T00:00:00",
          "2019-08-01T00:00:00",
          "2019-09-01T00:00:00",
          "2019-10-01T00:00:00",
          "2019-11-01T00:00:00",
          "2020-01-01T00:00:00",
          "2020-02-01T00:00:00",
          "2020-03-01T00:00:00",
          "2020-05-01T00:00:00",
          "2020-06-01T00:00:00",
          "2020-07-01T00:00:00",
          "2020-08-01T00:00:00",
          "2020-09-01T00:00:00",
          "2020-10-01T00:00:00",
          "2020-11-01T00:00:00",
          "2020-12-01T00:00:00",
          "2021-01-01T00:00:00",
          "2021-02-01T00:00:00",
          "2021-03-01T00:00:00",
          "2021-04-01T00:00:00",
          "2021-05-01T00:00:00",
          "2021-06-01T00:00:00",
          "2021-07-01T00:00:00",
          "2021-09-01T00:00:00",
          "2021-10-01T00:00:00",
          "2021-11-01T00:00:00",
          "2021-12-01T00:00:00",
          "2022-01-01T00:00:00",
          "2022-02-01T00:00:00",
          "2022-03-01T00:00:00",
          "2022-04-01T00:00:00"
         ],
         "xaxis": "x11",
         "y": [
          5770,
          17130,
          1686.4,
          19196.3,
          7535.25,
          17820,
          63017.71,
          20719.3,
          1602,
          12851.2,
          4230,
          2571.3,
          2955.22,
          10900,
          10325.15,
          32670,
          8756.45,
          14793,
          6919.4,
          2219.8,
          13799,
          1750,
          11772.45,
          3028,
          2966.82,
          15818.779999999999,
          5629,
          2183.85,
          8266.9,
          76161.44,
          6182,
          16534.2,
          5951.849999999999,
          17427.6,
          2820,
          4410,
          46100.24,
          2495
         ],
         "yaxis": "y11"
        },
        {
         "line": {
          "color": "red",
          "dash": "dot"
         },
         "mode": "lines",
         "name": "Product 14 Trend",
         "type": "scatter",
         "x": [
          "2018-10-01T00:00:00",
          "2018-11-01T00:00:00",
          "2019-01-01T00:00:00",
          "2019-02-01T00:00:00",
          "2019-03-01T00:00:00",
          "2019-05-01T00:00:00",
          "2019-06-01T00:00:00",
          "2019-07-01T00:00:00",
          "2019-08-01T00:00:00",
          "2019-09-01T00:00:00",
          "2019-10-01T00:00:00",
          "2019-11-01T00:00:00",
          "2020-01-01T00:00:00",
          "2020-02-01T00:00:00",
          "2020-03-01T00:00:00",
          "2020-05-01T00:00:00",
          "2020-06-01T00:00:00",
          "2020-07-01T00:00:00",
          "2020-08-01T00:00:00",
          "2020-09-01T00:00:00",
          "2020-10-01T00:00:00",
          "2020-11-01T00:00:00",
          "2020-12-01T00:00:00",
          "2021-01-01T00:00:00",
          "2021-02-01T00:00:00",
          "2021-03-01T00:00:00",
          "2021-04-01T00:00:00",
          "2021-05-01T00:00:00",
          "2021-06-01T00:00:00",
          "2021-07-01T00:00:00",
          "2021-09-01T00:00:00",
          "2021-10-01T00:00:00",
          "2021-11-01T00:00:00",
          "2021-12-01T00:00:00",
          "2022-01-01T00:00:00",
          "2022-02-01T00:00:00",
          "2022-03-01T00:00:00",
          "2022-04-01T00:00:00"
         ],
         "xaxis": "x11",
         "y": [
          12864.646917316422,
          12886.88859090599,
          12930.654464743508,
          12952.896138333075,
          12972.985391897906,
          13016.75126573554,
          13038.992939325108,
          13060.517139573058,
          13082.758813162625,
          13105.000486752193,
          13126.52468700026,
          13148.766360589827,
          13192.532234427461,
          13214.773908017029,
          13235.58063492336,
          13279.346508760995,
          13301.588182350562,
          13323.112382598512,
          13345.35405618808,
          13367.595729777764,
          13389.119930025714,
          13411.361603615282,
          13432.885803863232,
          13455.127477452916,
          13477.369151042483,
          13497.458404607198,
          13519.700078196882,
          13541.224278444832,
          13563.4659520344,
          13584.99015228235,
          13629.473499461601,
          13650.997699709551,
          13673.239373299119,
          13694.763573547185,
          13717.005247136753,
          13739.24692072632,
          13759.336174291151,
          13781.577847880719
         ],
         "yaxis": "y11"
        },
        {
         "line": {
          "color": "blue"
         },
         "mode": "lines+markers",
         "name": "Product 16 Sales",
         "type": "scatter",
         "x": [
          "2018-10-01T00:00:00",
          "2018-11-01T00:00:00",
          "2018-12-01T00:00:00",
          "2019-01-01T00:00:00",
          "2019-02-01T00:00:00",
          "2019-03-01T00:00:00",
          "2019-04-01T00:00:00",
          "2019-05-01T00:00:00",
          "2019-06-01T00:00:00",
          "2019-07-01T00:00:00",
          "2019-08-01T00:00:00",
          "2019-09-01T00:00:00",
          "2019-10-01T00:00:00",
          "2019-11-01T00:00:00",
          "2019-12-01T00:00:00",
          "2020-01-01T00:00:00",
          "2020-02-01T00:00:00",
          "2020-03-01T00:00:00",
          "2020-04-01T00:00:00",
          "2020-05-01T00:00:00",
          "2020-06-01T00:00:00",
          "2020-07-01T00:00:00",
          "2020-08-01T00:00:00",
          "2020-09-01T00:00:00",
          "2020-10-01T00:00:00",
          "2020-11-01T00:00:00",
          "2020-12-01T00:00:00",
          "2021-01-01T00:00:00",
          "2021-02-01T00:00:00",
          "2021-03-01T00:00:00",
          "2021-04-01T00:00:00",
          "2021-05-01T00:00:00",
          "2021-06-01T00:00:00",
          "2021-07-01T00:00:00",
          "2021-08-01T00:00:00",
          "2021-09-01T00:00:00",
          "2021-10-01T00:00:00",
          "2021-11-01T00:00:00",
          "2021-12-01T00:00:00",
          "2022-01-01T00:00:00",
          "2022-02-01T00:00:00",
          "2022-03-01T00:00:00",
          "2022-04-01T00:00:00"
         ],
         "xaxis": "x12",
         "y": [
          333196.87,
          1377694.32,
          4762524.66,
          942957.19,
          257765.04,
          2258352.2199999997,
          225864,
          353451.54,
          371512.38,
          266225.86,
          725678.3299999998,
          765605.16,
          285644.67,
          291844.03,
          335567.28,
          384800.46,
          82821.54000000001,
          160397.35,
          70530.7,
          195141.7,
          269150.4,
          409170.11,
          153870.44,
          209186.6,
          145276.08000000002,
          160941.78,
          260089.25,
          40360.08,
          117004.3,
          309564.27,
          125710.70999999999,
          219241.06,
          186607.11000000002,
          103935.84,
          323548.03,
          186586.24,
          141037.06,
          230129.08000000002,
          271111.39,
          91021.89,
          45696.76,
          98729.91,
          134071.24
         ],
         "yaxis": "y12"
        },
        {
         "line": {
          "color": "red",
          "dash": "dot"
         },
         "mode": "lines",
         "name": "Product 16 Trend",
         "type": "scatter",
         "x": [
          "2018-10-01T00:00:00",
          "2018-11-01T00:00:00",
          "2018-12-01T00:00:00",
          "2019-01-01T00:00:00",
          "2019-02-01T00:00:00",
          "2019-03-01T00:00:00",
          "2019-04-01T00:00:00",
          "2019-05-01T00:00:00",
          "2019-06-01T00:00:00",
          "2019-07-01T00:00:00",
          "2019-08-01T00:00:00",
          "2019-09-01T00:00:00",
          "2019-10-01T00:00:00",
          "2019-11-01T00:00:00",
          "2019-12-01T00:00:00",
          "2020-01-01T00:00:00",
          "2020-02-01T00:00:00",
          "2020-03-01T00:00:00",
          "2020-04-01T00:00:00",
          "2020-05-01T00:00:00",
          "2020-06-01T00:00:00",
          "2020-07-01T00:00:00",
          "2020-08-01T00:00:00",
          "2020-09-01T00:00:00",
          "2020-10-01T00:00:00",
          "2020-11-01T00:00:00",
          "2020-12-01T00:00:00",
          "2021-01-01T00:00:00",
          "2021-02-01T00:00:00",
          "2021-03-01T00:00:00",
          "2021-04-01T00:00:00",
          "2021-05-01T00:00:00",
          "2021-06-01T00:00:00",
          "2021-07-01T00:00:00",
          "2021-08-01T00:00:00",
          "2021-09-01T00:00:00",
          "2021-10-01T00:00:00",
          "2021-11-01T00:00:00",
          "2021-12-01T00:00:00",
          "2022-01-01T00:00:00",
          "2022-02-01T00:00:00",
          "2022-03-01T00:00:00",
          "2022-04-01T00:00:00"
         ],
         "xaxis": "x12",
         "y": [
          1031853.8387787342,
          1002885.6624270678,
          974851.943377018,
          945883.7670252323,
          916915.5906734467,
          890750.7862267494,
          861782.6098749638,
          833748.890824914,
          804780.7144732475,
          776746.9954230785,
          747778.8190714121,
          718810.6427196264,
          690776.9236695766,
          661808.747317791,
          633775.0282677412,
          604806.8519159555,
          575838.6755642891,
          548739.413815856,
          519771.2374640703,
          491737.51841402054,
          462769.3420622349,
          434735.6230121851,
          405767.44666051865,
          376799.270308733,
          348765.5512586832,
          319797.37490689754,
          291763.65585684776,
          262795.4795050621,
          233827.30315339565,
          207662.4987065792,
          178694.32235491276,
          150660.60330474377,
          121692.42695307732,
          93658.70790302753,
          64690.531551241875,
          35722.355199456215,
          7688.636149406433,
          -21279.540202379227,
          -49313.25925242901,
          -78281.43560409546,
          -107249.61195588112,
          -133414.41640257835,
          -162382.592754364
         ],
         "yaxis": "y12"
        },
        {
         "line": {
          "color": "blue"
         },
         "mode": "lines+markers",
         "name": "Product 20 Sales",
         "type": "scatter",
         "x": [
          "2018-10-01T00:00:00",
          "2018-11-01T00:00:00",
          "2018-12-01T00:00:00",
          "2019-01-01T00:00:00",
          "2019-02-01T00:00:00",
          "2019-03-01T00:00:00",
          "2019-04-01T00:00:00",
          "2019-05-01T00:00:00",
          "2019-06-01T00:00:00",
          "2019-07-01T00:00:00",
          "2019-08-01T00:00:00",
          "2019-09-01T00:00:00",
          "2019-10-01T00:00:00",
          "2019-11-01T00:00:00",
          "2020-01-01T00:00:00",
          "2020-03-01T00:00:00",
          "2020-04-01T00:00:00",
          "2020-05-01T00:00:00",
          "2020-06-01T00:00:00",
          "2020-07-01T00:00:00",
          "2020-08-01T00:00:00",
          "2020-09-01T00:00:00",
          "2020-10-01T00:00:00",
          "2020-11-01T00:00:00",
          "2020-12-01T00:00:00",
          "2021-02-01T00:00:00",
          "2021-03-01T00:00:00",
          "2021-04-01T00:00:00",
          "2021-05-01T00:00:00",
          "2021-06-01T00:00:00",
          "2021-07-01T00:00:00",
          "2021-08-01T00:00:00",
          "2021-10-01T00:00:00",
          "2021-11-01T00:00:00",
          "2021-12-01T00:00:00",
          "2022-02-01T00:00:00",
          "2022-03-01T00:00:00",
          "2022-04-01T00:00:00"
         ],
         "xaxis": "x13",
         "y": [
          4563.14,
          5798.139999999999,
          918.65,
          2399.18,
          620.66,
          3369.55,
          3635.26,
          944,
          772.94,
          577.6,
          284.4,
          671.1700000000001,
          1566,
          149,
          274.90999999999997,
          555,
          224,
          390,
          983.1,
          826.98,
          2688,
          2047.7,
          7355.75,
          2990.7,
          8485.6,
          1387,
          1076.6,
          8414,
          419.21,
          1766.6,
          842.9300000000001,
          377.22,
          151.49,
          928.8,
          156,
          589.5,
          2885.08,
          6280.629999999999
         ],
         "yaxis": "y13"
        },
        {
         "line": {
          "color": "red",
          "dash": "dot"
         },
         "mode": "lines",
         "name": "Product 20 Trend",
         "type": "scatter",
         "x": [
          "2018-10-01T00:00:00",
          "2018-11-01T00:00:00",
          "2018-12-01T00:00:00",
          "2019-01-01T00:00:00",
          "2019-02-01T00:00:00",
          "2019-03-01T00:00:00",
          "2019-04-01T00:00:00",
          "2019-05-01T00:00:00",
          "2019-06-01T00:00:00",
          "2019-07-01T00:00:00",
          "2019-08-01T00:00:00",
          "2019-09-01T00:00:00",
          "2019-10-01T00:00:00",
          "2019-11-01T00:00:00",
          "2020-01-01T00:00:00",
          "2020-03-01T00:00:00",
          "2020-04-01T00:00:00",
          "2020-05-01T00:00:00",
          "2020-06-01T00:00:00",
          "2020-07-01T00:00:00",
          "2020-08-01T00:00:00",
          "2020-09-01T00:00:00",
          "2020-10-01T00:00:00",
          "2020-11-01T00:00:00",
          "2020-12-01T00:00:00",
          "2021-02-01T00:00:00",
          "2021-03-01T00:00:00",
          "2021-04-01T00:00:00",
          "2021-05-01T00:00:00",
          "2021-06-01T00:00:00",
          "2021-07-01T00:00:00",
          "2021-08-01T00:00:00",
          "2021-10-01T00:00:00",
          "2021-11-01T00:00:00",
          "2021-12-01T00:00:00",
          "2022-02-01T00:00:00",
          "2022-03-01T00:00:00",
          "2022-04-01T00:00:00"
         ],
         "xaxis": "x13",
         "y": [
          1935.9612279673165,
          1942.2928250676196,
          1948.4201771001972,
          1954.7517742005002,
          1961.0833713008324,
          1966.802233197901,
          1973.133830298204,
          1979.2611823307525,
          1985.5927794310846,
          1991.7201314636332,
          1998.0517285639653,
          2004.3833256642683,
          2010.510677696846,
          2016.842274797149,
          2029.3012239300297,
          2041.5559279951558,
          2047.887525095488,
          2054.0148771280365,
          2060.3464742283686,
          2066.473826260917,
          2072.8054233612493,
          2079.1370204615523,
          2085.26437249413,
          2091.595969594433,
          2097.7233216269815,
          2110.3865158276167,
          2116.1053777246852,
          2122.4369748249883,
          2128.564326857566,
          2134.895923957869,
          2141.0232759904466,
          2147.3548730907496,
          2159.8138222236303,
          2166.1454193239624,
          2172.272771356511,
          2184.935965557146,
          2190.6548274542147,
          2196.9864245545177
         ],
         "yaxis": "y13"
        },
        {
         "line": {
          "color": "blue"
         },
         "mode": "lines+markers",
         "name": "Product 36 Sales",
         "type": "scatter",
         "x": [
          "2018-10-01T00:00:00",
          "2018-11-01T00:00:00",
          "2018-12-01T00:00:00",
          "2019-01-01T00:00:00",
          "2019-02-01T00:00:00",
          "2019-03-01T00:00:00",
          "2019-04-01T00:00:00",
          "2019-05-01T00:00:00",
          "2019-06-01T00:00:00",
          "2019-07-01T00:00:00",
          "2019-08-01T00:00:00",
          "2019-09-01T00:00:00",
          "2019-10-01T00:00:00",
          "2019-11-01T00:00:00",
          "2019-12-01T00:00:00",
          "2020-01-01T00:00:00",
          "2020-02-01T00:00:00",
          "2020-03-01T00:00:00",
          "2020-04-01T00:00:00",
          "2020-05-01T00:00:00",
          "2020-06-01T00:00:00",
          "2020-07-01T00:00:00",
          "2020-08-01T00:00:00",
          "2020-09-01T00:00:00",
          "2020-10-01T00:00:00",
          "2020-11-01T00:00:00",
          "2020-12-01T00:00:00",
          "2021-01-01T00:00:00",
          "2021-02-01T00:00:00",
          "2021-03-01T00:00:00",
          "2021-04-01T00:00:00",
          "2021-05-01T00:00:00",
          "2021-06-01T00:00:00",
          "2021-07-01T00:00:00",
          "2021-08-01T00:00:00",
          "2021-09-01T00:00:00",
          "2021-10-01T00:00:00",
          "2021-11-01T00:00:00",
          "2021-12-01T00:00:00",
          "2022-01-01T00:00:00",
          "2022-02-01T00:00:00",
          "2022-03-01T00:00:00",
          "2022-04-01T00:00:00"
         ],
         "xaxis": "x14",
         "y": [
          6474.6,
          21986.89,
          13924.52,
          15444.39,
          8051.15,
          7373.419999999999,
          4526.6,
          16905.32,
          17296.03,
          33334.41,
          1306,
          16582.55,
          1556.5,
          14921.72,
          5906.37,
          17727.88,
          11813.4,
          28300.82,
          27121.6,
          10075.7,
          146778.15,
          3849.6,
          12377.77,
          44867.100000000006,
          22372.49,
          4126.99,
          12105.42,
          3950.1,
          10454.4,
          11796,
          253519.03999999998,
          12775.490000000002,
          24733.07,
          17165.7,
          9233.4,
          26729.61,
          674,
          9449.77,
          48933.5,
          6014.39,
          29869.5,
          2564.85,
          17029.47
         ],
         "yaxis": "y14"
        },
        {
         "line": {
          "color": "red",
          "dash": "dot"
         },
         "mode": "lines",
         "name": "Product 36 Trend",
         "type": "scatter",
         "x": [
          "2018-10-01T00:00:00",
          "2018-11-01T00:00:00",
          "2018-12-01T00:00:00",
          "2019-01-01T00:00:00",
          "2019-02-01T00:00:00",
          "2019-03-01T00:00:00",
          "2019-04-01T00:00:00",
          "2019-05-01T00:00:00",
          "2019-06-01T00:00:00",
          "2019-07-01T00:00:00",
          "2019-08-01T00:00:00",
          "2019-09-01T00:00:00",
          "2019-10-01T00:00:00",
          "2019-11-01T00:00:00",
          "2019-12-01T00:00:00",
          "2020-01-01T00:00:00",
          "2020-02-01T00:00:00",
          "2020-03-01T00:00:00",
          "2020-04-01T00:00:00",
          "2020-05-01T00:00:00",
          "2020-06-01T00:00:00",
          "2020-07-01T00:00:00",
          "2020-08-01T00:00:00",
          "2020-09-01T00:00:00",
          "2020-10-01T00:00:00",
          "2020-11-01T00:00:00",
          "2020-12-01T00:00:00",
          "2021-01-01T00:00:00",
          "2021-02-01T00:00:00",
          "2021-03-01T00:00:00",
          "2021-04-01T00:00:00",
          "2021-05-01T00:00:00",
          "2021-06-01T00:00:00",
          "2021-07-01T00:00:00",
          "2021-08-01T00:00:00",
          "2021-09-01T00:00:00",
          "2021-10-01T00:00:00",
          "2021-11-01T00:00:00",
          "2021-12-01T00:00:00",
          "2022-01-01T00:00:00",
          "2022-02-01T00:00:00",
          "2022-03-01T00:00:00",
          "2022-04-01T00:00:00"
         ],
         "xaxis": "x14",
         "y": [
          14938.966938333586,
          15355.755355007946,
          15759.09898404777,
          16175.887400722131,
          16592.67581739463,
          16969.12987116538,
          17385.91828783974,
          17789.261916879565,
          18206.050333552063,
          18609.393962591887,
          19026.182379266247,
          19442.970795940608,
          19846.31442497857,
          20263.10284165293,
          20666.446470692754,
          21083.234887367114,
          21500.023304039612,
          21889.9221454449,
          22306.71056211926,
          22710.054191159084,
          23126.842607831582,
          23530.186236871406,
          23946.974653545767,
          24363.763070220128,
          24767.10669925809,
          25183.89511593245,
          25587.238744972274,
          26004.027161646634,
          26420.815578319132,
          26797.269632089883,
          27214.058048764244,
          27617.401677804068,
          28034.190094476566,
          28437.53372351639,
          28854.32214019075,
          29271.11055686511,
          29674.454185903072,
          30091.242602577433,
          30494.586231617257,
          30911.374648291618,
          31328.163064964116,
          31704.617118734866,
          32121.405535409227
         ],
         "yaxis": "y14"
        }
       ],
       "layout": {
        "annotations": [
         {
          "font": {
           "size": 16
          },
          "showarrow": false,
          "text": "Product 1",
          "x": 0.02642857142857143,
          "xanchor": "center",
          "xref": "paper",
          "y": 1,
          "yanchor": "bottom",
          "yref": "paper"
         },
         {
          "font": {
           "size": 16
          },
          "showarrow": false,
          "text": "Product 3",
          "x": 0.09928571428571428,
          "xanchor": "center",
          "xref": "paper",
          "y": 1,
          "yanchor": "bottom",
          "yref": "paper"
         },
         {
          "font": {
           "size": 16
          },
          "showarrow": false,
          "text": "Product 4",
          "x": 0.17214285714285715,
          "xanchor": "center",
          "xref": "paper",
          "y": 1,
          "yanchor": "bottom",
          "yref": "paper"
         },
         {
          "font": {
           "size": 16
          },
          "showarrow": false,
          "text": "Product 5",
          "x": 0.24500000000000002,
          "xanchor": "center",
          "xref": "paper",
          "y": 1,
          "yanchor": "bottom",
          "yref": "paper"
         },
         {
          "font": {
           "size": 16
          },
          "showarrow": false,
          "text": "Product 6",
          "x": 0.31785714285714284,
          "xanchor": "center",
          "xref": "paper",
          "y": 1,
          "yanchor": "bottom",
          "yref": "paper"
         },
         {
          "font": {
           "size": 16
          },
          "showarrow": false,
          "text": "Product 8",
          "x": 0.3907142857142858,
          "xanchor": "center",
          "xref": "paper",
          "y": 1,
          "yanchor": "bottom",
          "yref": "paper"
         },
         {
          "font": {
           "size": 16
          },
          "showarrow": false,
          "text": "Product 9",
          "x": 0.46357142857142863,
          "xanchor": "center",
          "xref": "paper",
          "y": 1,
          "yanchor": "bottom",
          "yref": "paper"
         },
         {
          "font": {
           "size": 16
          },
          "showarrow": false,
          "text": "Product 11",
          "x": 0.5364285714285715,
          "xanchor": "center",
          "xref": "paper",
          "y": 1,
          "yanchor": "bottom",
          "yref": "paper"
         },
         {
          "font": {
           "size": 16
          },
          "showarrow": false,
          "text": "Product 12",
          "x": 0.6092857142857144,
          "xanchor": "center",
          "xref": "paper",
          "y": 1,
          "yanchor": "bottom",
          "yref": "paper"
         },
         {
          "font": {
           "size": 16
          },
          "showarrow": false,
          "text": "Product 13",
          "x": 0.6821428571428572,
          "xanchor": "center",
          "xref": "paper",
          "y": 1,
          "yanchor": "bottom",
          "yref": "paper"
         },
         {
          "font": {
           "size": 16
          },
          "showarrow": false,
          "text": "Product 14",
          "x": 0.7550000000000001,
          "xanchor": "center",
          "xref": "paper",
          "y": 1,
          "yanchor": "bottom",
          "yref": "paper"
         },
         {
          "font": {
           "size": 16
          },
          "showarrow": false,
          "text": "Product 16",
          "x": 0.8278571428571428,
          "xanchor": "center",
          "xref": "paper",
          "y": 1,
          "yanchor": "bottom",
          "yref": "paper"
         },
         {
          "font": {
           "size": 16
          },
          "showarrow": false,
          "text": "Product 20",
          "x": 0.9007142857142858,
          "xanchor": "center",
          "xref": "paper",
          "y": 1,
          "yanchor": "bottom",
          "yref": "paper"
         },
         {
          "font": {
           "size": 16
          },
          "showarrow": false,
          "text": "Product 36",
          "x": 0.9735714285714285,
          "xanchor": "center",
          "xref": "paper",
          "y": 1,
          "yanchor": "bottom",
          "yref": "paper"
         }
        ],
        "height": 500,
        "showlegend": false,
        "template": {
         "data": {
          "bar": [
           {
            "error_x": {
             "color": "#2a3f5f"
            },
            "error_y": {
             "color": "#2a3f5f"
            },
            "marker": {
             "line": {
              "color": "#E5ECF6",
              "width": 0.5
             },
             "pattern": {
              "fillmode": "overlay",
              "size": 10,
              "solidity": 0.2
             }
            },
            "type": "bar"
           }
          ],
          "barpolar": [
           {
            "marker": {
             "line": {
              "color": "#E5ECF6",
              "width": 0.5
             },
             "pattern": {
              "fillmode": "overlay",
              "size": 10,
              "solidity": 0.2
             }
            },
            "type": "barpolar"
           }
          ],
          "carpet": [
           {
            "aaxis": {
             "endlinecolor": "#2a3f5f",
             "gridcolor": "white",
             "linecolor": "white",
             "minorgridcolor": "white",
             "startlinecolor": "#2a3f5f"
            },
            "baxis": {
             "endlinecolor": "#2a3f5f",
             "gridcolor": "white",
             "linecolor": "white",
             "minorgridcolor": "white",
             "startlinecolor": "#2a3f5f"
            },
            "type": "carpet"
           }
          ],
          "choropleth": [
           {
            "colorbar": {
             "outlinewidth": 0,
             "ticks": ""
            },
            "type": "choropleth"
           }
          ],
          "contour": [
           {
            "colorbar": {
             "outlinewidth": 0,
             "ticks": ""
            },
            "colorscale": [
             [
              0,
              "#0d0887"
             ],
             [
              0.1111111111111111,
              "#46039f"
             ],
             [
              0.2222222222222222,
              "#7201a8"
             ],
             [
              0.3333333333333333,
              "#9c179e"
             ],
             [
              0.4444444444444444,
              "#bd3786"
             ],
             [
              0.5555555555555556,
              "#d8576b"
             ],
             [
              0.6666666666666666,
              "#ed7953"
             ],
             [
              0.7777777777777778,
              "#fb9f3a"
             ],
             [
              0.8888888888888888,
              "#fdca26"
             ],
             [
              1,
              "#f0f921"
             ]
            ],
            "type": "contour"
           }
          ],
          "contourcarpet": [
           {
            "colorbar": {
             "outlinewidth": 0,
             "ticks": ""
            },
            "type": "contourcarpet"
           }
          ],
          "heatmap": [
           {
            "colorbar": {
             "outlinewidth": 0,
             "ticks": ""
            },
            "colorscale": [
             [
              0,
              "#0d0887"
             ],
             [
              0.1111111111111111,
              "#46039f"
             ],
             [
              0.2222222222222222,
              "#7201a8"
             ],
             [
              0.3333333333333333,
              "#9c179e"
             ],
             [
              0.4444444444444444,
              "#bd3786"
             ],
             [
              0.5555555555555556,
              "#d8576b"
             ],
             [
              0.6666666666666666,
              "#ed7953"
             ],
             [
              0.7777777777777778,
              "#fb9f3a"
             ],
             [
              0.8888888888888888,
              "#fdca26"
             ],
             [
              1,
              "#f0f921"
             ]
            ],
            "type": "heatmap"
           }
          ],
          "heatmapgl": [
           {
            "colorbar": {
             "outlinewidth": 0,
             "ticks": ""
            },
            "colorscale": [
             [
              0,
              "#0d0887"
             ],
             [
              0.1111111111111111,
              "#46039f"
             ],
             [
              0.2222222222222222,
              "#7201a8"
             ],
             [
              0.3333333333333333,
              "#9c179e"
             ],
             [
              0.4444444444444444,
              "#bd3786"
             ],
             [
              0.5555555555555556,
              "#d8576b"
             ],
             [
              0.6666666666666666,
              "#ed7953"
             ],
             [
              0.7777777777777778,
              "#fb9f3a"
             ],
             [
              0.8888888888888888,
              "#fdca26"
             ],
             [
              1,
              "#f0f921"
             ]
            ],
            "type": "heatmapgl"
           }
          ],
          "histogram": [
           {
            "marker": {
             "pattern": {
              "fillmode": "overlay",
              "size": 10,
              "solidity": 0.2
             }
            },
            "type": "histogram"
           }
          ],
          "histogram2d": [
           {
            "colorbar": {
             "outlinewidth": 0,
             "ticks": ""
            },
            "colorscale": [
             [
              0,
              "#0d0887"
             ],
             [
              0.1111111111111111,
              "#46039f"
             ],
             [
              0.2222222222222222,
              "#7201a8"
             ],
             [
              0.3333333333333333,
              "#9c179e"
             ],
             [
              0.4444444444444444,
              "#bd3786"
             ],
             [
              0.5555555555555556,
              "#d8576b"
             ],
             [
              0.6666666666666666,
              "#ed7953"
             ],
             [
              0.7777777777777778,
              "#fb9f3a"
             ],
             [
              0.8888888888888888,
              "#fdca26"
             ],
             [
              1,
              "#f0f921"
             ]
            ],
            "type": "histogram2d"
           }
          ],
          "histogram2dcontour": [
           {
            "colorbar": {
             "outlinewidth": 0,
             "ticks": ""
            },
            "colorscale": [
             [
              0,
              "#0d0887"
             ],
             [
              0.1111111111111111,
              "#46039f"
             ],
             [
              0.2222222222222222,
              "#7201a8"
             ],
             [
              0.3333333333333333,
              "#9c179e"
             ],
             [
              0.4444444444444444,
              "#bd3786"
             ],
             [
              0.5555555555555556,
              "#d8576b"
             ],
             [
              0.6666666666666666,
              "#ed7953"
             ],
             [
              0.7777777777777778,
              "#fb9f3a"
             ],
             [
              0.8888888888888888,
              "#fdca26"
             ],
             [
              1,
              "#f0f921"
             ]
            ],
            "type": "histogram2dcontour"
           }
          ],
          "mesh3d": [
           {
            "colorbar": {
             "outlinewidth": 0,
             "ticks": ""
            },
            "type": "mesh3d"
           }
          ],
          "parcoords": [
           {
            "line": {
             "colorbar": {
              "outlinewidth": 0,
              "ticks": ""
             }
            },
            "type": "parcoords"
           }
          ],
          "pie": [
           {
            "automargin": true,
            "type": "pie"
           }
          ],
          "scatter": [
           {
            "fillpattern": {
             "fillmode": "overlay",
             "size": 10,
             "solidity": 0.2
            },
            "type": "scatter"
           }
          ],
          "scatter3d": [
           {
            "line": {
             "colorbar": {
              "outlinewidth": 0,
              "ticks": ""
             }
            },
            "marker": {
             "colorbar": {
              "outlinewidth": 0,
              "ticks": ""
             }
            },
            "type": "scatter3d"
           }
          ],
          "scattercarpet": [
           {
            "marker": {
             "colorbar": {
              "outlinewidth": 0,
              "ticks": ""
             }
            },
            "type": "scattercarpet"
           }
          ],
          "scattergeo": [
           {
            "marker": {
             "colorbar": {
              "outlinewidth": 0,
              "ticks": ""
             }
            },
            "type": "scattergeo"
           }
          ],
          "scattergl": [
           {
            "marker": {
             "colorbar": {
              "outlinewidth": 0,
              "ticks": ""
             }
            },
            "type": "scattergl"
           }
          ],
          "scattermapbox": [
           {
            "marker": {
             "colorbar": {
              "outlinewidth": 0,
              "ticks": ""
             }
            },
            "type": "scattermapbox"
           }
          ],
          "scatterpolar": [
           {
            "marker": {
             "colorbar": {
              "outlinewidth": 0,
              "ticks": ""
             }
            },
            "type": "scatterpolar"
           }
          ],
          "scatterpolargl": [
           {
            "marker": {
             "colorbar": {
              "outlinewidth": 0,
              "ticks": ""
             }
            },
            "type": "scatterpolargl"
           }
          ],
          "scatterternary": [
           {
            "marker": {
             "colorbar": {
              "outlinewidth": 0,
              "ticks": ""
             }
            },
            "type": "scatterternary"
           }
          ],
          "surface": [
           {
            "colorbar": {
             "outlinewidth": 0,
             "ticks": ""
            },
            "colorscale": [
             [
              0,
              "#0d0887"
             ],
             [
              0.1111111111111111,
              "#46039f"
             ],
             [
              0.2222222222222222,
              "#7201a8"
             ],
             [
              0.3333333333333333,
              "#9c179e"
             ],
             [
              0.4444444444444444,
              "#bd3786"
             ],
             [
              0.5555555555555556,
              "#d8576b"
             ],
             [
              0.6666666666666666,
              "#ed7953"
             ],
             [
              0.7777777777777778,
              "#fb9f3a"
             ],
             [
              0.8888888888888888,
              "#fdca26"
             ],
             [
              1,
              "#f0f921"
             ]
            ],
            "type": "surface"
           }
          ],
          "table": [
           {
            "cells": {
             "fill": {
              "color": "#EBF0F8"
             },
             "line": {
              "color": "white"
             }
            },
            "header": {
             "fill": {
              "color": "#C8D4E3"
             },
             "line": {
              "color": "white"
             }
            },
            "type": "table"
           }
          ]
         },
         "layout": {
          "annotationdefaults": {
           "arrowcolor": "#2a3f5f",
           "arrowhead": 0,
           "arrowwidth": 1
          },
          "autotypenumbers": "strict",
          "coloraxis": {
           "colorbar": {
            "outlinewidth": 0,
            "ticks": ""
           }
          },
          "colorscale": {
           "diverging": [
            [
             0,
             "#8e0152"
            ],
            [
             0.1,
             "#c51b7d"
            ],
            [
             0.2,
             "#de77ae"
            ],
            [
             0.3,
             "#f1b6da"
            ],
            [
             0.4,
             "#fde0ef"
            ],
            [
             0.5,
             "#f7f7f7"
            ],
            [
             0.6,
             "#e6f5d0"
            ],
            [
             0.7,
             "#b8e186"
            ],
            [
             0.8,
             "#7fbc41"
            ],
            [
             0.9,
             "#4d9221"
            ],
            [
             1,
             "#276419"
            ]
           ],
           "sequential": [
            [
             0,
             "#0d0887"
            ],
            [
             0.1111111111111111,
             "#46039f"
            ],
            [
             0.2222222222222222,
             "#7201a8"
            ],
            [
             0.3333333333333333,
             "#9c179e"
            ],
            [
             0.4444444444444444,
             "#bd3786"
            ],
            [
             0.5555555555555556,
             "#d8576b"
            ],
            [
             0.6666666666666666,
             "#ed7953"
            ],
            [
             0.7777777777777778,
             "#fb9f3a"
            ],
            [
             0.8888888888888888,
             "#fdca26"
            ],
            [
             1,
             "#f0f921"
            ]
           ],
           "sequentialminus": [
            [
             0,
             "#0d0887"
            ],
            [
             0.1111111111111111,
             "#46039f"
            ],
            [
             0.2222222222222222,
             "#7201a8"
            ],
            [
             0.3333333333333333,
             "#9c179e"
            ],
            [
             0.4444444444444444,
             "#bd3786"
            ],
            [
             0.5555555555555556,
             "#d8576b"
            ],
            [
             0.6666666666666666,
             "#ed7953"
            ],
            [
             0.7777777777777778,
             "#fb9f3a"
            ],
            [
             0.8888888888888888,
             "#fdca26"
            ],
            [
             1,
             "#f0f921"
            ]
           ]
          },
          "colorway": [
           "#636efa",
           "#EF553B",
           "#00cc96",
           "#ab63fa",
           "#FFA15A",
           "#19d3f3",
           "#FF6692",
           "#B6E880",
           "#FF97FF",
           "#FECB52"
          ],
          "font": {
           "color": "#2a3f5f"
          },
          "geo": {
           "bgcolor": "white",
           "lakecolor": "white",
           "landcolor": "#E5ECF6",
           "showlakes": true,
           "showland": true,
           "subunitcolor": "white"
          },
          "hoverlabel": {
           "align": "left"
          },
          "hovermode": "closest",
          "mapbox": {
           "style": "light"
          },
          "paper_bgcolor": "white",
          "plot_bgcolor": "#E5ECF6",
          "polar": {
           "angularaxis": {
            "gridcolor": "white",
            "linecolor": "white",
            "ticks": ""
           },
           "bgcolor": "#E5ECF6",
           "radialaxis": {
            "gridcolor": "white",
            "linecolor": "white",
            "ticks": ""
           }
          },
          "scene": {
           "xaxis": {
            "backgroundcolor": "#E5ECF6",
            "gridcolor": "white",
            "gridwidth": 2,
            "linecolor": "white",
            "showbackground": true,
            "ticks": "",
            "zerolinecolor": "white"
           },
           "yaxis": {
            "backgroundcolor": "#E5ECF6",
            "gridcolor": "white",
            "gridwidth": 2,
            "linecolor": "white",
            "showbackground": true,
            "ticks": "",
            "zerolinecolor": "white"
           },
           "zaxis": {
            "backgroundcolor": "#E5ECF6",
            "gridcolor": "white",
            "gridwidth": 2,
            "linecolor": "white",
            "showbackground": true,
            "ticks": "",
            "zerolinecolor": "white"
           }
          },
          "shapedefaults": {
           "line": {
            "color": "#2a3f5f"
           }
          },
          "ternary": {
           "aaxis": {
            "gridcolor": "white",
            "linecolor": "white",
            "ticks": ""
           },
           "baxis": {
            "gridcolor": "white",
            "linecolor": "white",
            "ticks": ""
           },
           "bgcolor": "#E5ECF6",
           "caxis": {
            "gridcolor": "white",
            "linecolor": "white",
            "ticks": ""
           }
          },
          "title": {
           "x": 0.05
          },
          "xaxis": {
           "automargin": true,
           "gridcolor": "white",
           "linecolor": "white",
           "ticks": "",
           "title": {
            "standoff": 15
           },
           "zerolinecolor": "white",
           "zerolinewidth": 2
          },
          "yaxis": {
           "automargin": true,
           "gridcolor": "white",
           "linecolor": "white",
           "ticks": "",
           "title": {
            "standoff": 15
           },
           "zerolinecolor": "white",
           "zerolinewidth": 2
          }
         }
        },
        "title": {
         "text": "Positive Sales Trends by Product (Monthly)"
        },
        "width": 7000,
        "xaxis": {
         "anchor": "y",
         "domain": [
          0,
          0.05285714285714286
         ],
         "tickangle": -45,
         "title": {
          "text": "Year-Month"
         }
        },
        "xaxis10": {
         "anchor": "y10",
         "domain": [
          0.6557142857142858,
          0.7085714285714286
         ]
        },
        "xaxis11": {
         "anchor": "y11",
         "domain": [
          0.7285714285714286,
          0.7814285714285715
         ]
        },
        "xaxis12": {
         "anchor": "y12",
         "domain": [
          0.8014285714285715,
          0.8542857142857143
         ]
        },
        "xaxis13": {
         "anchor": "y13",
         "domain": [
          0.8742857142857143,
          0.9271428571428572
         ]
        },
        "xaxis14": {
         "anchor": "y14",
         "domain": [
          0.9471428571428572,
          1
         ]
        },
        "xaxis2": {
         "anchor": "y2",
         "domain": [
          0.07285714285714286,
          0.12571428571428572
         ]
        },
        "xaxis3": {
         "anchor": "y3",
         "domain": [
          0.1457142857142857,
          0.19857142857142857
         ]
        },
        "xaxis4": {
         "anchor": "y4",
         "domain": [
          0.21857142857142858,
          0.27142857142857146
         ]
        },
        "xaxis5": {
         "anchor": "y5",
         "domain": [
          0.2914285714285714,
          0.3442857142857143
         ]
        },
        "xaxis6": {
         "anchor": "y6",
         "domain": [
          0.3642857142857143,
          0.4171428571428572
         ]
        },
        "xaxis7": {
         "anchor": "y7",
         "domain": [
          0.43714285714285717,
          0.49000000000000005
         ]
        },
        "xaxis8": {
         "anchor": "y8",
         "domain": [
          0.51,
          0.5628571428571428
         ]
        },
        "xaxis9": {
         "anchor": "y9",
         "domain": [
          0.582857142857143,
          0.6357142857142858
         ]
        },
        "yaxis": {
         "anchor": "x",
         "domain": [
          0,
          1
         ],
         "title": {
          "text": "Total Positive Sales (EUR)"
         }
        },
        "yaxis10": {
         "anchor": "x10",
         "domain": [
          0,
          1
         ]
        },
        "yaxis11": {
         "anchor": "x11",
         "domain": [
          0,
          1
         ]
        },
        "yaxis12": {
         "anchor": "x12",
         "domain": [
          0,
          1
         ]
        },
        "yaxis13": {
         "anchor": "x13",
         "domain": [
          0,
          1
         ]
        },
        "yaxis14": {
         "anchor": "x14",
         "domain": [
          0,
          1
         ]
        },
        "yaxis2": {
         "anchor": "x2",
         "domain": [
          0,
          1
         ]
        },
        "yaxis3": {
         "anchor": "x3",
         "domain": [
          0,
          1
         ]
        },
        "yaxis4": {
         "anchor": "x4",
         "domain": [
          0,
          1
         ]
        },
        "yaxis5": {
         "anchor": "x5",
         "domain": [
          0,
          1
         ]
        },
        "yaxis6": {
         "anchor": "x6",
         "domain": [
          0,
          1
         ]
        },
        "yaxis7": {
         "anchor": "x7",
         "domain": [
          0,
          1
         ]
        },
        "yaxis8": {
         "anchor": "x8",
         "domain": [
          0,
          1
         ]
        },
        "yaxis9": {
         "anchor": "x9",
         "domain": [
          0,
          1
         ]
        }
       }
      }
     },
     "metadata": {},
     "output_type": "display_data"
    }
   ],
   "source": [
    "# linear trend line\n",
    "plot_sales_trends(grouped_positive_sales_prod_month, trend_type='linear')"
   ]
  },
  {
   "cell_type": "code",
   "execution_count": 683,
   "metadata": {},
   "outputs": [
    {
     "data": {
      "application/vnd.plotly.v1+json": {
       "config": {
        "plotlyServerURL": "https://plot.ly"
       },
       "data": [
        {
         "line": {
          "color": "blue"
         },
         "mode": "lines+markers",
         "name": "Product 1 Sales",
         "type": "scatter",
         "x": [
          "2018-10-01T00:00:00",
          "2018-11-01T00:00:00",
          "2018-12-01T00:00:00",
          "2019-01-01T00:00:00",
          "2019-02-01T00:00:00",
          "2019-03-01T00:00:00",
          "2019-04-01T00:00:00",
          "2019-05-01T00:00:00",
          "2019-06-01T00:00:00",
          "2019-07-01T00:00:00",
          "2019-08-01T00:00:00",
          "2019-09-01T00:00:00",
          "2019-10-01T00:00:00",
          "2019-11-01T00:00:00",
          "2019-12-01T00:00:00",
          "2020-01-01T00:00:00",
          "2020-02-01T00:00:00",
          "2020-03-01T00:00:00",
          "2020-04-01T00:00:00",
          "2020-05-01T00:00:00",
          "2020-06-01T00:00:00",
          "2020-07-01T00:00:00",
          "2020-08-01T00:00:00",
          "2020-09-01T00:00:00",
          "2020-10-01T00:00:00",
          "2020-11-01T00:00:00",
          "2020-12-01T00:00:00",
          "2021-01-01T00:00:00",
          "2021-02-01T00:00:00",
          "2021-03-01T00:00:00",
          "2021-04-01T00:00:00",
          "2021-05-01T00:00:00",
          "2021-06-01T00:00:00",
          "2021-07-01T00:00:00",
          "2021-08-01T00:00:00",
          "2021-09-01T00:00:00",
          "2021-10-01T00:00:00",
          "2021-11-01T00:00:00",
          "2021-12-01T00:00:00",
          "2022-01-01T00:00:00",
          "2022-02-01T00:00:00",
          "2022-03-01T00:00:00",
          "2022-04-01T00:00:00"
         ],
         "xaxis": "x",
         "y": [
          36098918.79,
          5140760,
          38116343.620000005,
          27807651.78,
          34854931.1,
          33892328.89,
          39728589.550000004,
          38963877.43,
          39196785.54,
          38012231.56,
          38176979.29,
          40759693.04,
          39281415.51,
          37366577.78,
          37861124.470000006,
          34246254.15,
          33564099.71,
          39218240.660000004,
          37987498.73,
          31400212.54,
          30932519.98,
          35212730.13,
          37482085.58,
          38879360.2,
          41468812.6,
          37643611.57,
          34838544.65,
          27180432.94,
          34631039.44,
          33476138.64,
          41318966.98,
          37788314.46,
          35807084.8,
          37151947.05,
          36310917.73,
          36404446.65,
          44551027.09,
          34243167.15,
          34017131.87,
          38033044.66,
          36354986.97,
          40224084.28,
          41136195.910000004
         ],
         "yaxis": "y"
        },
        {
         "line": {
          "color": "red",
          "dash": "dot"
         },
         "mode": "lines",
         "name": "Product 1 Trend",
         "type": "scatter",
         "x": [
          "2018-10-01T00:00:00",
          "2018-11-01T00:00:00",
          "2018-12-01T00:00:00",
          "2019-01-01T00:00:00",
          "2019-02-01T00:00:00",
          "2019-03-01T00:00:00",
          "2019-04-01T00:00:00",
          "2019-05-01T00:00:00",
          "2019-06-01T00:00:00",
          "2019-07-01T00:00:00",
          "2019-08-01T00:00:00",
          "2019-09-01T00:00:00",
          "2019-10-01T00:00:00",
          "2019-11-01T00:00:00",
          "2019-12-01T00:00:00",
          "2020-01-01T00:00:00",
          "2020-02-01T00:00:00",
          "2020-03-01T00:00:00",
          "2020-04-01T00:00:00",
          "2020-05-01T00:00:00",
          "2020-06-01T00:00:00",
          "2020-07-01T00:00:00",
          "2020-08-01T00:00:00",
          "2020-09-01T00:00:00",
          "2020-10-01T00:00:00",
          "2020-11-01T00:00:00",
          "2020-12-01T00:00:00",
          "2021-01-01T00:00:00",
          "2021-02-01T00:00:00",
          "2021-03-01T00:00:00",
          "2021-04-01T00:00:00",
          "2021-05-01T00:00:00",
          "2021-06-01T00:00:00",
          "2021-07-01T00:00:00",
          "2021-08-01T00:00:00",
          "2021-09-01T00:00:00",
          "2021-10-01T00:00:00",
          "2021-11-01T00:00:00",
          "2021-12-01T00:00:00",
          "2022-01-01T00:00:00",
          "2022-02-01T00:00:00",
          "2022-03-01T00:00:00",
          "2022-04-01T00:00:00"
         ],
         "xaxis": "x",
         "y": [
          36098918.79,
          20619839.395,
          26452007.47,
          23688251.8,
          33592975.5,
          32184970.590000004,
          36158616.513333336,
          37528265.29,
          39296417.50666667,
          38724298.17666667,
          38461998.79666666,
          38982967.96333333,
          39406029.28,
          39135895.443333335,
          38169705.92,
          36491318.800000004,
          35223826.11,
          35676198.17333334,
          36923279.699999996,
          36201983.97666667,
          33440077.083333332,
          32515154.21666667,
          34542445.23,
          37191391.97,
          39276752.79333334,
          39330594.79,
          37983656.27333333,
          33220863.05333333,
          32216672.343333334,
          31762537.00666667,
          36475381.68666667,
          37527806.693333335,
          38304788.74666667,
          36915782.10333333,
          36423316.52666666,
          36622437.14333334,
          39088797.156666666,
          38399546.96333334,
          37603775.370000005,
          35431114.56,
          36135054.5,
          38204038.63666666,
          39238422.38666667
         ],
         "yaxis": "y"
        },
        {
         "line": {
          "color": "blue"
         },
         "mode": "lines+markers",
         "name": "Product 3 Sales",
         "type": "scatter",
         "x": [
          "2018-10-01T00:00:00",
          "2018-11-01T00:00:00",
          "2018-12-01T00:00:00",
          "2019-01-01T00:00:00",
          "2019-02-01T00:00:00",
          "2019-03-01T00:00:00",
          "2019-04-01T00:00:00",
          "2019-05-01T00:00:00",
          "2019-06-01T00:00:00",
          "2019-07-01T00:00:00",
          "2019-08-01T00:00:00",
          "2019-09-01T00:00:00",
          "2019-10-01T00:00:00",
          "2019-11-01T00:00:00",
          "2019-12-01T00:00:00",
          "2020-01-01T00:00:00",
          "2020-02-01T00:00:00",
          "2020-03-01T00:00:00",
          "2020-04-01T00:00:00",
          "2020-05-01T00:00:00",
          "2020-06-01T00:00:00",
          "2020-07-01T00:00:00",
          "2020-08-01T00:00:00",
          "2020-09-01T00:00:00",
          "2020-10-01T00:00:00",
          "2020-11-01T00:00:00",
          "2020-12-01T00:00:00",
          "2021-01-01T00:00:00",
          "2021-02-01T00:00:00",
          "2021-03-01T00:00:00",
          "2021-04-01T00:00:00",
          "2021-05-01T00:00:00",
          "2021-06-01T00:00:00",
          "2021-07-01T00:00:00",
          "2021-08-01T00:00:00",
          "2021-09-01T00:00:00",
          "2021-10-01T00:00:00",
          "2021-11-01T00:00:00",
          "2021-12-01T00:00:00",
          "2022-01-01T00:00:00",
          "2022-02-01T00:00:00",
          "2022-03-01T00:00:00",
          "2022-04-01T00:00:00"
         ],
         "xaxis": "x2",
         "y": [
          8089465.960000001,
          11870270.2,
          8739307.86,
          10708075.280000001,
          10172826.74,
          11057255.219999999,
          12319225.05,
          12809906.5,
          11546452.19,
          13421550.83,
          11385124.1,
          16584171.89,
          11474630.719999999,
          13826060.48,
          11100259.09,
          11906935.89,
          10041616.85,
          12281991.559999999,
          12033590.25,
          10708811.08,
          13322084.26,
          12813823.290000001,
          11393931.08,
          15912964.07,
          10020637.2,
          15528904.46,
          9769385.94,
          3805995.46,
          16145077.36,
          14130525,
          13461271.93,
          10301967.41,
          13652981.05,
          13288996.05,
          12386832.61,
          15876042.96,
          13800028.270000001,
          18697989.22,
          12377048.080000002,
          13797765.87,
          15670940.04,
          14320304.55,
          12093696.8
         ],
         "yaxis": "y2"
        },
        {
         "line": {
          "color": "red",
          "dash": "dot"
         },
         "mode": "lines",
         "name": "Product 3 Trend",
         "type": "scatter",
         "x": [
          "2018-10-01T00:00:00",
          "2018-11-01T00:00:00",
          "2018-12-01T00:00:00",
          "2019-01-01T00:00:00",
          "2019-02-01T00:00:00",
          "2019-03-01T00:00:00",
          "2019-04-01T00:00:00",
          "2019-05-01T00:00:00",
          "2019-06-01T00:00:00",
          "2019-07-01T00:00:00",
          "2019-08-01T00:00:00",
          "2019-09-01T00:00:00",
          "2019-10-01T00:00:00",
          "2019-11-01T00:00:00",
          "2019-12-01T00:00:00",
          "2020-01-01T00:00:00",
          "2020-02-01T00:00:00",
          "2020-03-01T00:00:00",
          "2020-04-01T00:00:00",
          "2020-05-01T00:00:00",
          "2020-06-01T00:00:00",
          "2020-07-01T00:00:00",
          "2020-08-01T00:00:00",
          "2020-09-01T00:00:00",
          "2020-10-01T00:00:00",
          "2020-11-01T00:00:00",
          "2020-12-01T00:00:00",
          "2021-01-01T00:00:00",
          "2021-02-01T00:00:00",
          "2021-03-01T00:00:00",
          "2021-04-01T00:00:00",
          "2021-05-01T00:00:00",
          "2021-06-01T00:00:00",
          "2021-07-01T00:00:00",
          "2021-08-01T00:00:00",
          "2021-09-01T00:00:00",
          "2021-10-01T00:00:00",
          "2021-11-01T00:00:00",
          "2021-12-01T00:00:00",
          "2022-01-01T00:00:00",
          "2022-02-01T00:00:00",
          "2022-03-01T00:00:00",
          "2022-04-01T00:00:00"
         ],
         "xaxis": "x2",
         "y": [
          8089465.960000001,
          9979868.08,
          9566348.006666666,
          10439217.78,
          9873403.293333335,
          10646052.413333334,
          11183102.336666666,
          12062128.923333332,
          12225194.579999998,
          12592636.506666668,
          12117709.040000001,
          13796948.94,
          13147975.57,
          13961621.030000001,
          12133650.096666666,
          12277751.82,
          11016270.61,
          11410181.433333332,
          11452399.553333333,
          11674797.63,
          12021495.196666667,
          12281572.876666667,
          12509946.21,
          13373572.813333334,
          12442510.783333333,
          13820835.243333334,
          11772975.866666667,
          9701428.62,
          9906819.586666666,
          11360532.606666667,
          14578958.096666666,
          12631254.780000001,
          12472073.463333333,
          12414648.170000002,
          13109603.236666666,
          13850623.873333335,
          14020967.946666667,
          16124686.816666668,
          14958355.190000003,
          14957601.056666667,
          13948584.663333334,
          14596336.82,
          14028313.796666667
         ],
         "yaxis": "y2"
        },
        {
         "line": {
          "color": "blue"
         },
         "mode": "lines+markers",
         "name": "Product 4 Sales",
         "type": "scatter",
         "x": [
          "2018-10-01T00:00:00",
          "2018-11-01T00:00:00",
          "2018-12-01T00:00:00",
          "2019-01-01T00:00:00",
          "2019-02-01T00:00:00",
          "2019-03-01T00:00:00",
          "2019-04-01T00:00:00",
          "2019-05-01T00:00:00",
          "2019-06-01T00:00:00",
          "2019-07-01T00:00:00",
          "2019-08-01T00:00:00",
          "2019-09-01T00:00:00",
          "2019-10-01T00:00:00",
          "2019-11-01T00:00:00",
          "2019-12-01T00:00:00",
          "2020-01-01T00:00:00",
          "2020-02-01T00:00:00",
          "2020-03-01T00:00:00",
          "2020-04-01T00:00:00",
          "2020-05-01T00:00:00",
          "2020-06-01T00:00:00",
          "2020-07-01T00:00:00",
          "2020-08-01T00:00:00",
          "2020-09-01T00:00:00",
          "2020-10-01T00:00:00",
          "2020-11-01T00:00:00",
          "2020-12-01T00:00:00",
          "2021-01-01T00:00:00",
          "2021-02-01T00:00:00",
          "2021-03-01T00:00:00",
          "2021-04-01T00:00:00",
          "2021-05-01T00:00:00",
          "2021-06-01T00:00:00",
          "2021-07-01T00:00:00",
          "2021-08-01T00:00:00",
          "2021-09-01T00:00:00",
          "2021-10-01T00:00:00",
          "2021-11-01T00:00:00",
          "2021-12-01T00:00:00",
          "2022-01-01T00:00:00",
          "2022-02-01T00:00:00",
          "2022-03-01T00:00:00",
          "2022-04-01T00:00:00"
         ],
         "xaxis": "x3",
         "y": [
          397760.69,
          373352.33,
          436873.36,
          484435.48,
          620031.8,
          498766.86,
          428258.52,
          375671.57,
          190721.15,
          381343.41,
          303045.23,
          449113.22000000003,
          93978.25,
          298011.68,
          275968.15,
          219974.89,
          225314.22,
          197761.93,
          455693.41000000003,
          315488.98,
          329486.58,
          294401.19,
          172952.24,
          645058,
          332731.24,
          417133.31,
          303405.85,
          166532.61,
          807836.39,
          454530.24,
          298442.31,
          576541.19,
          831057.8200000001,
          436182.7,
          255407.75,
          323758.15,
          345909.79,
          290571.35,
          199921.82,
          283676.73,
          245405.49,
          406828.57,
          302778.06999999995
         ],
         "yaxis": "y3"
        },
        {
         "line": {
          "color": "red",
          "dash": "dot"
         },
         "mode": "lines",
         "name": "Product 4 Trend",
         "type": "scatter",
         "x": [
          "2018-10-01T00:00:00",
          "2018-11-01T00:00:00",
          "2018-12-01T00:00:00",
          "2019-01-01T00:00:00",
          "2019-02-01T00:00:00",
          "2019-03-01T00:00:00",
          "2019-04-01T00:00:00",
          "2019-05-01T00:00:00",
          "2019-06-01T00:00:00",
          "2019-07-01T00:00:00",
          "2019-08-01T00:00:00",
          "2019-09-01T00:00:00",
          "2019-10-01T00:00:00",
          "2019-11-01T00:00:00",
          "2019-12-01T00:00:00",
          "2020-01-01T00:00:00",
          "2020-02-01T00:00:00",
          "2020-03-01T00:00:00",
          "2020-04-01T00:00:00",
          "2020-05-01T00:00:00",
          "2020-06-01T00:00:00",
          "2020-07-01T00:00:00",
          "2020-08-01T00:00:00",
          "2020-09-01T00:00:00",
          "2020-10-01T00:00:00",
          "2020-11-01T00:00:00",
          "2020-12-01T00:00:00",
          "2021-01-01T00:00:00",
          "2021-02-01T00:00:00",
          "2021-03-01T00:00:00",
          "2021-04-01T00:00:00",
          "2021-05-01T00:00:00",
          "2021-06-01T00:00:00",
          "2021-07-01T00:00:00",
          "2021-08-01T00:00:00",
          "2021-09-01T00:00:00",
          "2021-10-01T00:00:00",
          "2021-11-01T00:00:00",
          "2021-12-01T00:00:00",
          "2022-01-01T00:00:00",
          "2022-02-01T00:00:00",
          "2022-03-01T00:00:00",
          "2022-04-01T00:00:00"
         ],
         "xaxis": "x3",
         "y": [
          397760.69,
          385556.51,
          402662.12666666665,
          431553.7233333333,
          513780.2133333334,
          534411.38,
          515685.72666666674,
          434232.31666666665,
          331550.41333333333,
          315912.04333333333,
          291703.26333333337,
          377833.95333333337,
          282045.56666666665,
          280367.7166666667,
          222652.69333333336,
          264651.5733333333,
          240419.08666666667,
          214350.34666666668,
          292923.1866666667,
          322981.44,
          366889.6566666667,
          313125.5833333333,
          265613.33666666667,
          370803.81,
          383580.49333333335,
          464974.18333333335,
          351090.1333333333,
          295690.59,
          425924.94999999995,
          476299.7466666666,
          520269.64666666667,
          443171.2466666666,
          568680.44,
          614593.9033333332,
          507549.4233333333,
          338449.53333333327,
          308358.5633333333,
          320079.76333333325,
          278800.9866666666,
          258056.63333333321,
          243001.3466666666,
          311970.26333333325,
          318337.3766666666
         ],
         "yaxis": "y3"
        },
        {
         "line": {
          "color": "blue"
         },
         "mode": "lines+markers",
         "name": "Product 5 Sales",
         "type": "scatter",
         "x": [
          "2018-10-01T00:00:00",
          "2018-11-01T00:00:00",
          "2018-12-01T00:00:00",
          "2019-01-01T00:00:00",
          "2019-02-01T00:00:00",
          "2019-03-01T00:00:00",
          "2019-04-01T00:00:00",
          "2019-05-01T00:00:00",
          "2019-06-01T00:00:00",
          "2019-07-01T00:00:00",
          "2019-08-01T00:00:00",
          "2019-09-01T00:00:00",
          "2019-10-01T00:00:00",
          "2019-11-01T00:00:00",
          "2019-12-01T00:00:00",
          "2020-01-01T00:00:00",
          "2020-02-01T00:00:00",
          "2020-03-01T00:00:00",
          "2020-04-01T00:00:00",
          "2020-05-01T00:00:00",
          "2020-06-01T00:00:00",
          "2020-07-01T00:00:00",
          "2020-08-01T00:00:00",
          "2020-09-01T00:00:00",
          "2020-10-01T00:00:00",
          "2020-11-01T00:00:00",
          "2020-12-01T00:00:00",
          "2021-01-01T00:00:00",
          "2021-02-01T00:00:00",
          "2021-03-01T00:00:00",
          "2021-04-01T00:00:00",
          "2021-05-01T00:00:00",
          "2021-06-01T00:00:00",
          "2021-07-01T00:00:00",
          "2021-08-01T00:00:00",
          "2021-09-01T00:00:00",
          "2021-10-01T00:00:00",
          "2021-11-01T00:00:00",
          "2021-12-01T00:00:00",
          "2022-01-01T00:00:00",
          "2022-02-01T00:00:00",
          "2022-03-01T00:00:00",
          "2022-04-01T00:00:00"
         ],
         "xaxis": "x4",
         "y": [
          2499061.19,
          8993944.040000001,
          6981080.57,
          8301428.77,
          6892520.619999999,
          11933851.57,
          5937614.8,
          11413781.149999999,
          13738550.540000001,
          11189764.23,
          7663012.4799999995,
          15155155.01,
          11652205.11,
          8104241.69,
          13554688.83,
          7358142.5200000005,
          12490321.48,
          9345967.24,
          7990825.32,
          9883214.77,
          15873931.87,
          5590877.71,
          11463705.639999999,
          14160091.05,
          4652772.4399999995,
          10164950.32,
          8845742.299999999,
          1405295.36,
          16652189.63,
          11146249.81,
          7426997.640000001,
          8794595.14,
          11687229.03,
          8323704.77,
          19524640.52,
          15878203.309999999,
          11739106.18,
          9651295.45,
          8732579.69,
          7836080.63,
          7713154.79,
          14739187.18,
          8889623.190000001
         ],
         "yaxis": "y4"
        },
        {
         "line": {
          "color": "red",
          "dash": "dot"
         },
         "mode": "lines",
         "name": "Product 5 Trend",
         "type": "scatter",
         "x": [
          "2018-10-01T00:00:00",
          "2018-11-01T00:00:00",
          "2018-12-01T00:00:00",
          "2019-01-01T00:00:00",
          "2019-02-01T00:00:00",
          "2019-03-01T00:00:00",
          "2019-04-01T00:00:00",
          "2019-05-01T00:00:00",
          "2019-06-01T00:00:00",
          "2019-07-01T00:00:00",
          "2019-08-01T00:00:00",
          "2019-09-01T00:00:00",
          "2019-10-01T00:00:00",
          "2019-11-01T00:00:00",
          "2019-12-01T00:00:00",
          "2020-01-01T00:00:00",
          "2020-02-01T00:00:00",
          "2020-03-01T00:00:00",
          "2020-04-01T00:00:00",
          "2020-05-01T00:00:00",
          "2020-06-01T00:00:00",
          "2020-07-01T00:00:00",
          "2020-08-01T00:00:00",
          "2020-09-01T00:00:00",
          "2020-10-01T00:00:00",
          "2020-11-01T00:00:00",
          "2020-12-01T00:00:00",
          "2021-01-01T00:00:00",
          "2021-02-01T00:00:00",
          "2021-03-01T00:00:00",
          "2021-04-01T00:00:00",
          "2021-05-01T00:00:00",
          "2021-06-01T00:00:00",
          "2021-07-01T00:00:00",
          "2021-08-01T00:00:00",
          "2021-09-01T00:00:00",
          "2021-10-01T00:00:00",
          "2021-11-01T00:00:00",
          "2021-12-01T00:00:00",
          "2022-01-01T00:00:00",
          "2022-02-01T00:00:00",
          "2022-03-01T00:00:00",
          "2022-04-01T00:00:00"
         ],
         "xaxis": "x4",
         "y": [
          2499061.19,
          5746502.615,
          6158028.600000001,
          8092151.126666668,
          7391676.653333333,
          9042600.32,
          8254662.329999999,
          9761749.173333332,
          10363315.496666664,
          12114031.973333335,
          10863775.75,
          11335977.24,
          11490124.199999997,
          11637200.603333334,
          11103711.876666667,
          9672357.68,
          11134384.276666665,
          9731477.08,
          9942371.346666666,
          9073335.776666665,
          11249323.986666664,
          10449341.45,
          10976171.739999998,
          10404891.466666667,
          10092189.709999999,
          9659271.270000001,
          7887821.6866666665,
          6805329.326666665,
          8967742.43,
          9734578.266666668,
          11741812.36,
          9122614.196666667,
          9302940.603333334,
          9601842.979999999,
          13178524.773333333,
          14575516.199999997,
          15713983.336666668,
          12422868.313333333,
          10040993.773333333,
          8739985.256666666,
          8093938.37,
          10096140.866666667,
          10447321.72
         ],
         "yaxis": "y4"
        },
        {
         "line": {
          "color": "blue"
         },
         "mode": "lines+markers",
         "name": "Product 6 Sales",
         "type": "scatter",
         "x": [
          "2018-10-01T00:00:00",
          "2018-11-01T00:00:00",
          "2018-12-01T00:00:00",
          "2019-01-01T00:00:00",
          "2019-02-01T00:00:00",
          "2019-03-01T00:00:00",
          "2019-04-01T00:00:00",
          "2019-05-01T00:00:00",
          "2019-06-01T00:00:00",
          "2019-07-01T00:00:00",
          "2019-08-01T00:00:00",
          "2019-09-01T00:00:00",
          "2019-10-01T00:00:00",
          "2019-11-01T00:00:00",
          "2019-12-01T00:00:00",
          "2020-01-01T00:00:00",
          "2020-02-01T00:00:00",
          "2020-03-01T00:00:00",
          "2020-04-01T00:00:00",
          "2020-05-01T00:00:00",
          "2020-06-01T00:00:00",
          "2020-07-01T00:00:00",
          "2020-08-01T00:00:00",
          "2020-09-01T00:00:00",
          "2020-10-01T00:00:00",
          "2020-11-01T00:00:00",
          "2020-12-01T00:00:00",
          "2021-01-01T00:00:00",
          "2021-02-01T00:00:00",
          "2021-03-01T00:00:00",
          "2021-04-01T00:00:00",
          "2021-05-01T00:00:00",
          "2021-06-01T00:00:00",
          "2021-07-01T00:00:00",
          "2021-08-01T00:00:00",
          "2021-09-01T00:00:00",
          "2021-10-01T00:00:00",
          "2021-11-01T00:00:00",
          "2021-12-01T00:00:00",
          "2022-01-01T00:00:00",
          "2022-02-01T00:00:00",
          "2022-03-01T00:00:00",
          "2022-04-01T00:00:00"
         ],
         "xaxis": "x5",
         "y": [
          369231.6,
          473046.95999999996,
          999472.6900000002,
          598874.1,
          542037.52,
          735604.23,
          277575.12,
          315978.77,
          282963.19,
          725411.99,
          212652.06,
          499147.73,
          581767.85,
          218154.2,
          913378.8,
          313876.65,
          724398.75,
          529808.94,
          782042.98,
          750367.7,
          530492.81,
          730187.6799999999,
          847092.87,
          316929.21,
          313535.91000000003,
          335130.74,
          332556.98,
          27472.940000000002,
          515644.63,
          625100.14,
          592478.95,
          566508.34,
          490262.94,
          499338.64,
          573378.11,
          949186.44,
          196463.81,
          386462.95999999996,
          190074.96,
          157670.31,
          391142.3,
          316558.08999999997,
          333705.61
         ],
         "yaxis": "y5"
        },
        {
         "line": {
          "color": "red",
          "dash": "dot"
         },
         "mode": "lines",
         "name": "Product 6 Trend",
         "type": "scatter",
         "x": [
          "2018-10-01T00:00:00",
          "2018-11-01T00:00:00",
          "2018-12-01T00:00:00",
          "2019-01-01T00:00:00",
          "2019-02-01T00:00:00",
          "2019-03-01T00:00:00",
          "2019-04-01T00:00:00",
          "2019-05-01T00:00:00",
          "2019-06-01T00:00:00",
          "2019-07-01T00:00:00",
          "2019-08-01T00:00:00",
          "2019-09-01T00:00:00",
          "2019-10-01T00:00:00",
          "2019-11-01T00:00:00",
          "2019-12-01T00:00:00",
          "2020-01-01T00:00:00",
          "2020-02-01T00:00:00",
          "2020-03-01T00:00:00",
          "2020-04-01T00:00:00",
          "2020-05-01T00:00:00",
          "2020-06-01T00:00:00",
          "2020-07-01T00:00:00",
          "2020-08-01T00:00:00",
          "2020-09-01T00:00:00",
          "2020-10-01T00:00:00",
          "2020-11-01T00:00:00",
          "2020-12-01T00:00:00",
          "2021-01-01T00:00:00",
          "2021-02-01T00:00:00",
          "2021-03-01T00:00:00",
          "2021-04-01T00:00:00",
          "2021-05-01T00:00:00",
          "2021-06-01T00:00:00",
          "2021-07-01T00:00:00",
          "2021-08-01T00:00:00",
          "2021-09-01T00:00:00",
          "2021-10-01T00:00:00",
          "2021-11-01T00:00:00",
          "2021-12-01T00:00:00",
          "2022-01-01T00:00:00",
          "2022-02-01T00:00:00",
          "2022-03-01T00:00:00",
          "2022-04-01T00:00:00"
         ],
         "xaxis": "x5",
         "y": [
          369231.6,
          421139.27999999997,
          613917.0833333334,
          690464.5833333334,
          713461.4366666666,
          625505.2833333333,
          518405.62333333335,
          443052.7066666667,
          292172.36000000004,
          441451.3166666667,
          407009.08,
          479070.5933333333,
          431189.2133333334,
          433023.26,
          571100.2833333333,
          481803.2166666668,
          650551.4,
          522694.7800000001,
          678750.2233333335,
          687406.54,
          687634.4966666667,
          670349.3966666668,
          702591.1200000001,
          631403.2533333333,
          492519.3300000001,
          321865.2866666668,
          327074.54333333345,
          231720.22000000006,
          291891.5166666668,
          389405.9033333334,
          577741.2400000001,
          594695.81,
          549750.0766666668,
          518703.3066666667,
          520993.23000000016,
          673967.7300000001,
          573009.4533333334,
          510704.4033333334,
          257667.24333333343,
          244736.07666666678,
          246295.85666666678,
          288456.90000000014,
          347135.33333333343
         ],
         "yaxis": "y5"
        },
        {
         "line": {
          "color": "blue"
         },
         "mode": "lines+markers",
         "name": "Product 8 Sales",
         "type": "scatter",
         "x": [
          "2018-10-01T00:00:00",
          "2018-11-01T00:00:00",
          "2018-12-01T00:00:00",
          "2019-01-01T00:00:00",
          "2019-02-01T00:00:00",
          "2019-03-01T00:00:00",
          "2019-04-01T00:00:00",
          "2019-05-01T00:00:00",
          "2019-06-01T00:00:00",
          "2019-07-01T00:00:00",
          "2019-08-01T00:00:00",
          "2019-09-01T00:00:00",
          "2019-10-01T00:00:00",
          "2019-11-01T00:00:00",
          "2019-12-01T00:00:00",
          "2020-01-01T00:00:00",
          "2020-02-01T00:00:00",
          "2020-03-01T00:00:00",
          "2020-04-01T00:00:00",
          "2020-05-01T00:00:00",
          "2020-06-01T00:00:00",
          "2020-07-01T00:00:00",
          "2020-08-01T00:00:00",
          "2020-09-01T00:00:00",
          "2020-10-01T00:00:00",
          "2020-11-01T00:00:00",
          "2020-12-01T00:00:00",
          "2021-01-01T00:00:00",
          "2021-02-01T00:00:00",
          "2021-03-01T00:00:00",
          "2021-04-01T00:00:00",
          "2021-05-01T00:00:00",
          "2021-06-01T00:00:00",
          "2021-07-01T00:00:00",
          "2021-08-01T00:00:00",
          "2021-09-01T00:00:00",
          "2021-10-01T00:00:00",
          "2021-11-01T00:00:00",
          "2021-12-01T00:00:00",
          "2022-01-01T00:00:00",
          "2022-02-01T00:00:00",
          "2022-03-01T00:00:00",
          "2022-04-01T00:00:00"
         ],
         "xaxis": "x6",
         "y": [
          586052.74,
          526792.77,
          271490.71,
          381400.15,
          368475.57,
          592288.36,
          418899.9,
          298806.83999999997,
          420707.73,
          366980.26,
          397537.2,
          1084685.92,
          111791.34,
          543893.42,
          507998.42000000004,
          323769.2,
          327179.83999999997,
          846245.78,
          302765.68,
          712746.38,
          647330.13,
          585870.47,
          917015.1799999999,
          1337657.62,
          153873.52,
          904436.89,
          1061969.46,
          305820.25999999995,
          1615468.03,
          900269.97,
          1071688.56,
          813653.21,
          1091239.79,
          1207554.52,
          1093379.99,
          2036579.98,
          356322.55,
          1142743.17,
          2655036.7800000003,
          1208090.29,
          1239171.41,
          1875688.63,
          1336220.96
         ],
         "yaxis": "y6"
        },
        {
         "line": {
          "color": "red",
          "dash": "dot"
         },
         "mode": "lines",
         "name": "Product 8 Trend",
         "type": "scatter",
         "x": [
          "2018-10-01T00:00:00",
          "2018-11-01T00:00:00",
          "2018-12-01T00:00:00",
          "2019-01-01T00:00:00",
          "2019-02-01T00:00:00",
          "2019-03-01T00:00:00",
          "2019-04-01T00:00:00",
          "2019-05-01T00:00:00",
          "2019-06-01T00:00:00",
          "2019-07-01T00:00:00",
          "2019-08-01T00:00:00",
          "2019-09-01T00:00:00",
          "2019-10-01T00:00:00",
          "2019-11-01T00:00:00",
          "2019-12-01T00:00:00",
          "2020-01-01T00:00:00",
          "2020-02-01T00:00:00",
          "2020-03-01T00:00:00",
          "2020-04-01T00:00:00",
          "2020-05-01T00:00:00",
          "2020-06-01T00:00:00",
          "2020-07-01T00:00:00",
          "2020-08-01T00:00:00",
          "2020-09-01T00:00:00",
          "2020-10-01T00:00:00",
          "2020-11-01T00:00:00",
          "2020-12-01T00:00:00",
          "2021-01-01T00:00:00",
          "2021-02-01T00:00:00",
          "2021-03-01T00:00:00",
          "2021-04-01T00:00:00",
          "2021-05-01T00:00:00",
          "2021-06-01T00:00:00",
          "2021-07-01T00:00:00",
          "2021-08-01T00:00:00",
          "2021-09-01T00:00:00",
          "2021-10-01T00:00:00",
          "2021-11-01T00:00:00",
          "2021-12-01T00:00:00",
          "2022-01-01T00:00:00",
          "2022-02-01T00:00:00",
          "2022-03-01T00:00:00",
          "2022-04-01T00:00:00"
         ],
         "xaxis": "x6",
         "y": [
          586052.74,
          556422.755,
          461445.4066666667,
          393227.8766666667,
          340455.4766666667,
          447388.0266666667,
          459887.94333333336,
          436665.0333333334,
          379471.49,
          362164.94333333336,
          395075.0633333333,
          616401.1266666666,
          531338.1533333333,
          580123.5599999999,
          387894.39333333337,
          458553.68,
          386315.82,
          499064.93999999994,
          492063.76666666666,
          620585.9466666667,
          554280.73,
          648648.9933333333,
          716738.5933333333,
          946847.7566666667,
          802848.7733333333,
          798656.0100000001,
          706759.9566666667,
          757408.87,
          994419.25,
          940519.4199999999,
          1195808.8533333335,
          928537.2466666667,
          992193.8533333334,
          1037482.5066666667,
          1130724.7666666666,
          1445838.1633333333,
          1162094.1733333333,
          1178548.5666666667,
          1384700.8333333333,
          1668623.4133333333,
          1700766.1600000001,
          1440983.4433333334,
          1483693.6666666667
         ],
         "yaxis": "y6"
        },
        {
         "line": {
          "color": "blue"
         },
         "mode": "lines+markers",
         "name": "Product 9 Sales",
         "type": "scatter",
         "x": [
          "2018-10-01T00:00:00",
          "2018-11-01T00:00:00",
          "2019-01-01T00:00:00",
          "2019-02-01T00:00:00",
          "2019-03-01T00:00:00",
          "2019-04-01T00:00:00",
          "2019-05-01T00:00:00",
          "2019-06-01T00:00:00",
          "2019-07-01T00:00:00",
          "2019-08-01T00:00:00",
          "2019-09-01T00:00:00",
          "2019-10-01T00:00:00",
          "2019-11-01T00:00:00",
          "2019-12-01T00:00:00",
          "2020-01-01T00:00:00",
          "2020-02-01T00:00:00",
          "2020-03-01T00:00:00",
          "2020-04-01T00:00:00",
          "2020-05-01T00:00:00",
          "2020-06-01T00:00:00",
          "2020-07-01T00:00:00",
          "2020-08-01T00:00:00",
          "2020-09-01T00:00:00",
          "2020-10-01T00:00:00",
          "2020-11-01T00:00:00",
          "2020-12-01T00:00:00",
          "2021-01-01T00:00:00",
          "2021-02-01T00:00:00",
          "2021-03-01T00:00:00",
          "2021-04-01T00:00:00",
          "2021-05-01T00:00:00",
          "2021-06-01T00:00:00",
          "2021-07-01T00:00:00",
          "2021-08-01T00:00:00",
          "2021-09-01T00:00:00",
          "2021-10-01T00:00:00",
          "2021-11-01T00:00:00",
          "2021-12-01T00:00:00",
          "2022-01-01T00:00:00",
          "2022-02-01T00:00:00",
          "2022-03-01T00:00:00",
          "2022-04-01T00:00:00"
         ],
         "xaxis": "x7",
         "y": [
          3219.32,
          1875.9,
          1487,
          3234.2799999999997,
          13050.61,
          9150.7,
          4614.08,
          4488.09,
          1766.4,
          6371.5,
          13930.26,
          555,
          24181.8,
          7611.36,
          7647.5,
          425.1,
          2233,
          1851.85,
          3764.12,
          7555.45,
          978.6400000000001,
          9907.2,
          2893.35,
          39546,
          2429.8,
          8606.5,
          625.5,
          10022.4,
          28108.88,
          16713.96,
          8026,
          7240.84,
          11295.75,
          432,
          9288,
          950,
          17018.58,
          14963.7,
          2093.2,
          930,
          4452.6,
          3285
         ],
         "yaxis": "y7"
        },
        {
         "line": {
          "color": "red",
          "dash": "dot"
         },
         "mode": "lines",
         "name": "Product 9 Trend",
         "type": "scatter",
         "x": [
          "2018-10-01T00:00:00",
          "2018-11-01T00:00:00",
          "2019-01-01T00:00:00",
          "2019-02-01T00:00:00",
          "2019-03-01T00:00:00",
          "2019-04-01T00:00:00",
          "2019-05-01T00:00:00",
          "2019-06-01T00:00:00",
          "2019-07-01T00:00:00",
          "2019-08-01T00:00:00",
          "2019-09-01T00:00:00",
          "2019-10-01T00:00:00",
          "2019-11-01T00:00:00",
          "2019-12-01T00:00:00",
          "2020-01-01T00:00:00",
          "2020-02-01T00:00:00",
          "2020-03-01T00:00:00",
          "2020-04-01T00:00:00",
          "2020-05-01T00:00:00",
          "2020-06-01T00:00:00",
          "2020-07-01T00:00:00",
          "2020-08-01T00:00:00",
          "2020-09-01T00:00:00",
          "2020-10-01T00:00:00",
          "2020-11-01T00:00:00",
          "2020-12-01T00:00:00",
          "2021-01-01T00:00:00",
          "2021-02-01T00:00:00",
          "2021-03-01T00:00:00",
          "2021-04-01T00:00:00",
          "2021-05-01T00:00:00",
          "2021-06-01T00:00:00",
          "2021-07-01T00:00:00",
          "2021-08-01T00:00:00",
          "2021-09-01T00:00:00",
          "2021-10-01T00:00:00",
          "2021-11-01T00:00:00",
          "2021-12-01T00:00:00",
          "2022-01-01T00:00:00",
          "2022-02-01T00:00:00",
          "2022-03-01T00:00:00",
          "2022-04-01T00:00:00"
         ],
         "xaxis": "x7",
         "y": [
          3219.32,
          2547.61,
          2194.0733333333333,
          2199.06,
          5923.963333333333,
          8478.53,
          8938.463333333335,
          6084.290000000001,
          3622.8566666666666,
          4208.663333333333,
          7356.053333333333,
          6952.253333333333,
          12889.019999999999,
          10782.72,
          13146.886666666667,
          5227.986666666667,
          3435.2000000000003,
          1503.3166666666666,
          2616.3233333333333,
          4390.473333333333,
          4099.403333333333,
          6147.096666666667,
          4593.0633333333335,
          17448.850000000002,
          14956.383333333337,
          16860.766666666666,
          3887.2666666666664,
          6418.133333333334,
          12918.926666666666,
          18281.746666666666,
          17616.28,
          10660.266666666666,
          8854.196666666667,
          6322.863333333334,
          7005.25,
          3556.6666666666665,
          9085.526666666667,
          10977.426666666666,
          11358.493333333334,
          5995.633333333334,
          2491.9333333333334,
          2889.2000000000003
         ],
         "yaxis": "y7"
        },
        {
         "line": {
          "color": "blue"
         },
         "mode": "lines+markers",
         "name": "Product 11 Sales",
         "type": "scatter",
         "x": [
          "2018-10-01T00:00:00",
          "2018-11-01T00:00:00",
          "2018-12-01T00:00:00",
          "2019-01-01T00:00:00",
          "2019-02-01T00:00:00",
          "2019-03-01T00:00:00",
          "2019-04-01T00:00:00",
          "2019-05-01T00:00:00",
          "2019-06-01T00:00:00",
          "2019-07-01T00:00:00",
          "2019-08-01T00:00:00",
          "2019-09-01T00:00:00",
          "2019-10-01T00:00:00",
          "2019-11-01T00:00:00",
          "2019-12-01T00:00:00",
          "2020-01-01T00:00:00",
          "2020-02-01T00:00:00",
          "2020-03-01T00:00:00",
          "2020-04-01T00:00:00",
          "2020-05-01T00:00:00",
          "2020-06-01T00:00:00",
          "2020-07-01T00:00:00",
          "2020-08-01T00:00:00",
          "2020-09-01T00:00:00",
          "2020-10-01T00:00:00",
          "2020-11-01T00:00:00",
          "2020-12-01T00:00:00",
          "2021-01-01T00:00:00",
          "2021-02-01T00:00:00",
          "2021-03-01T00:00:00",
          "2021-04-01T00:00:00",
          "2021-05-01T00:00:00",
          "2021-06-01T00:00:00",
          "2021-07-01T00:00:00",
          "2021-08-01T00:00:00",
          "2021-09-01T00:00:00",
          "2021-10-01T00:00:00",
          "2021-11-01T00:00:00",
          "2021-12-01T00:00:00",
          "2022-01-01T00:00:00",
          "2022-02-01T00:00:00",
          "2022-03-01T00:00:00",
          "2022-04-01T00:00:00"
         ],
         "xaxis": "x8",
         "y": [
          1021303.5,
          1898844.8,
          1226122,
          2216391.74,
          610456.6,
          957023.11,
          1484281.6,
          1066063.9,
          492133.2,
          585648.14,
          2921554.87,
          3749980.46,
          228130,
          1194770.75,
          1278545.62,
          584370,
          1233609.73,
          2969948.65,
          813303.01,
          842526.1,
          2246948,
          2105975.71,
          1521580.0699999998,
          3891447.7600000002,
          973839.23,
          488891.95999999996,
          1096370.71,
          18200,
          1978335.55,
          1660211.1600000001,
          1206734.3399999999,
          1994228.4,
          991872.24,
          2253079.74,
          2715460.08,
          3795389.85,
          173771.79,
          1832753.73,
          2645689.71,
          1075255.25,
          967190.3200000001,
          2284958.4000000004,
          1126856.25
         ],
         "yaxis": "y8"
        },
        {
         "line": {
          "color": "red",
          "dash": "dot"
         },
         "mode": "lines",
         "name": "Product 11 Trend",
         "type": "scatter",
         "x": [
          "2018-10-01T00:00:00",
          "2018-11-01T00:00:00",
          "2018-12-01T00:00:00",
          "2019-01-01T00:00:00",
          "2019-02-01T00:00:00",
          "2019-03-01T00:00:00",
          "2019-04-01T00:00:00",
          "2019-05-01T00:00:00",
          "2019-06-01T00:00:00",
          "2019-07-01T00:00:00",
          "2019-08-01T00:00:00",
          "2019-09-01T00:00:00",
          "2019-10-01T00:00:00",
          "2019-11-01T00:00:00",
          "2019-12-01T00:00:00",
          "2020-01-01T00:00:00",
          "2020-02-01T00:00:00",
          "2020-03-01T00:00:00",
          "2020-04-01T00:00:00",
          "2020-05-01T00:00:00",
          "2020-06-01T00:00:00",
          "2020-07-01T00:00:00",
          "2020-08-01T00:00:00",
          "2020-09-01T00:00:00",
          "2020-10-01T00:00:00",
          "2020-11-01T00:00:00",
          "2020-12-01T00:00:00",
          "2021-01-01T00:00:00",
          "2021-02-01T00:00:00",
          "2021-03-01T00:00:00",
          "2021-04-01T00:00:00",
          "2021-05-01T00:00:00",
          "2021-06-01T00:00:00",
          "2021-07-01T00:00:00",
          "2021-08-01T00:00:00",
          "2021-09-01T00:00:00",
          "2021-10-01T00:00:00",
          "2021-11-01T00:00:00",
          "2021-12-01T00:00:00",
          "2022-01-01T00:00:00",
          "2022-02-01T00:00:00",
          "2022-03-01T00:00:00",
          "2022-04-01T00:00:00"
         ],
         "xaxis": "x8",
         "y": [
          1021303.5,
          1460074.15,
          1382090.0999999999,
          1780452.8466666667,
          1350990.1133333335,
          1261290.4833333332,
          1017253.7699999999,
          1169122.8699999999,
          1014159.5666666665,
          714615.0799999997,
          1333112.0699999998,
          2419061.1566666663,
          2299888.4433333334,
          1724293.7366666663,
          900482.1233333332,
          1019228.7899999999,
          1032175.1166666666,
          1595976.1266666662,
          1672287.13,
          1541925.92,
          1300925.7033333331,
          1731816.6033333333,
          1958167.9266666665,
          2506334.513333333,
          2128955.6866666665,
          1784726.3166666667,
          853033.9666666664,
          534487.5566666665,
          1030968.7533333333,
          1218915.57,
          1615093.6833333333,
          1620391.2999999998,
          1397611.66,
          1746393.46,
          1986804.0199999998,
          2921309.89,
          2228207.2399999998,
          1933971.7899999998,
          1550738.41,
          1851232.8966666665,
          1562711.7599999998,
          1442467.99,
          1459668.3233333332
         ],
         "yaxis": "y8"
        },
        {
         "line": {
          "color": "blue"
         },
         "mode": "lines+markers",
         "name": "Product 12 Sales",
         "type": "scatter",
         "x": [
          "2018-10-01T00:00:00",
          "2018-11-01T00:00:00",
          "2018-12-01T00:00:00",
          "2019-01-01T00:00:00",
          "2019-02-01T00:00:00",
          "2019-03-01T00:00:00",
          "2019-04-01T00:00:00",
          "2019-05-01T00:00:00",
          "2019-06-01T00:00:00",
          "2019-07-01T00:00:00",
          "2019-08-01T00:00:00",
          "2019-09-01T00:00:00",
          "2019-10-01T00:00:00",
          "2019-11-01T00:00:00",
          "2019-12-01T00:00:00",
          "2020-01-01T00:00:00",
          "2020-02-01T00:00:00",
          "2020-03-01T00:00:00",
          "2020-04-01T00:00:00",
          "2020-05-01T00:00:00",
          "2020-06-01T00:00:00",
          "2020-07-01T00:00:00",
          "2020-08-01T00:00:00",
          "2020-09-01T00:00:00",
          "2020-10-01T00:00:00",
          "2020-11-01T00:00:00",
          "2020-12-01T00:00:00",
          "2021-01-01T00:00:00",
          "2021-02-01T00:00:00",
          "2021-03-01T00:00:00",
          "2021-04-01T00:00:00",
          "2021-05-01T00:00:00",
          "2021-06-01T00:00:00",
          "2021-07-01T00:00:00",
          "2021-08-01T00:00:00",
          "2021-09-01T00:00:00",
          "2021-10-01T00:00:00",
          "2021-11-01T00:00:00",
          "2021-12-01T00:00:00",
          "2022-01-01T00:00:00",
          "2022-02-01T00:00:00",
          "2022-03-01T00:00:00",
          "2022-04-01T00:00:00"
         ],
         "xaxis": "x9",
         "y": [
          28686.33,
          1070,
          17880.6,
          21484,
          34214.74,
          10118,
          21813.27,
          24468,
          44255.68,
          21318.48,
          19217,
          292490.4,
          140819.69,
          320942.27999999997,
          349515.29,
          213315.32,
          324443.35,
          190629.89,
          79632,
          153949.24,
          172712.88,
          110995.2,
          164108.2,
          168634.8,
          5395,
          445648.06000000006,
          271024.19,
          92754.01,
          287890.61,
          282688.33999999997,
          385267.16000000003,
          379881.93,
          327404.12,
          364134.84,
          144575.88,
          423432.68,
          217388.43,
          429825.32000000007,
          322647.82,
          149144.93,
          316478.3,
          344536.82,
          178141
         ],
         "yaxis": "y9"
        },
        {
         "line": {
          "color": "red",
          "dash": "dot"
         },
         "mode": "lines",
         "name": "Product 12 Trend",
         "type": "scatter",
         "x": [
          "2018-10-01T00:00:00",
          "2018-11-01T00:00:00",
          "2018-12-01T00:00:00",
          "2019-01-01T00:00:00",
          "2019-02-01T00:00:00",
          "2019-03-01T00:00:00",
          "2019-04-01T00:00:00",
          "2019-05-01T00:00:00",
          "2019-06-01T00:00:00",
          "2019-07-01T00:00:00",
          "2019-08-01T00:00:00",
          "2019-09-01T00:00:00",
          "2019-10-01T00:00:00",
          "2019-11-01T00:00:00",
          "2019-12-01T00:00:00",
          "2020-01-01T00:00:00",
          "2020-02-01T00:00:00",
          "2020-03-01T00:00:00",
          "2020-04-01T00:00:00",
          "2020-05-01T00:00:00",
          "2020-06-01T00:00:00",
          "2020-07-01T00:00:00",
          "2020-08-01T00:00:00",
          "2020-09-01T00:00:00",
          "2020-10-01T00:00:00",
          "2020-11-01T00:00:00",
          "2020-12-01T00:00:00",
          "2021-01-01T00:00:00",
          "2021-02-01T00:00:00",
          "2021-03-01T00:00:00",
          "2021-04-01T00:00:00",
          "2021-05-01T00:00:00",
          "2021-06-01T00:00:00",
          "2021-07-01T00:00:00",
          "2021-08-01T00:00:00",
          "2021-09-01T00:00:00",
          "2021-10-01T00:00:00",
          "2021-11-01T00:00:00",
          "2021-12-01T00:00:00",
          "2022-01-01T00:00:00",
          "2022-02-01T00:00:00",
          "2022-03-01T00:00:00",
          "2022-04-01T00:00:00"
         ],
         "xaxis": "x9",
         "y": [
          28686.33,
          14878.165,
          15878.976666666667,
          13478.199999999999,
          24526.446666666667,
          21938.91333333333,
          22048.67,
          18799.756666666668,
          30178.983333333334,
          30014.05333333333,
          28263.719999999998,
          111008.62666666666,
          150842.36333333334,
          251417.45666666667,
          270425.75333333336,
          294590.9633333333,
          295757.98666666663,
          242796.18666666665,
          198235.08,
          141403.71,
          135431.37333333332,
          145885.77333333335,
          149272.09333333335,
          147912.73333333334,
          112712.66666666667,
          206559.2866666667,
          240689.08333333334,
          269808.75333333336,
          217222.93666666668,
          221110.98666666666,
          318615.37,
          349279.1433333333,
          364184.4033333333,
          357140.2966666667,
          278704.9466666667,
          310714.4666666667,
          261798.99666666667,
          356882.1433333333,
          323287.19,
          300539.3566666667,
          262757.01666666666,
          270053.35000000003,
          279718.7066666667
         ],
         "yaxis": "y9"
        },
        {
         "line": {
          "color": "blue"
         },
         "mode": "lines+markers",
         "name": "Product 13 Sales",
         "type": "scatter",
         "x": [
          "2018-10-01T00:00:00",
          "2018-11-01T00:00:00",
          "2018-12-01T00:00:00",
          "2019-01-01T00:00:00",
          "2019-02-01T00:00:00",
          "2019-03-01T00:00:00",
          "2019-04-01T00:00:00",
          "2019-05-01T00:00:00",
          "2019-06-01T00:00:00",
          "2019-07-01T00:00:00",
          "2019-08-01T00:00:00",
          "2019-09-01T00:00:00",
          "2019-10-01T00:00:00",
          "2019-11-01T00:00:00",
          "2019-12-01T00:00:00",
          "2020-01-01T00:00:00",
          "2020-02-01T00:00:00",
          "2020-03-01T00:00:00",
          "2020-04-01T00:00:00",
          "2020-05-01T00:00:00",
          "2020-06-01T00:00:00",
          "2020-07-01T00:00:00",
          "2020-08-01T00:00:00",
          "2020-09-01T00:00:00",
          "2020-10-01T00:00:00",
          "2020-11-01T00:00:00",
          "2020-12-01T00:00:00",
          "2021-01-01T00:00:00",
          "2021-02-01T00:00:00",
          "2021-03-01T00:00:00",
          "2021-04-01T00:00:00",
          "2021-05-01T00:00:00",
          "2021-06-01T00:00:00",
          "2021-07-01T00:00:00",
          "2021-08-01T00:00:00",
          "2021-09-01T00:00:00",
          "2021-10-01T00:00:00",
          "2021-11-01T00:00:00",
          "2021-12-01T00:00:00",
          "2022-01-01T00:00:00",
          "2022-02-01T00:00:00",
          "2022-03-01T00:00:00",
          "2022-04-01T00:00:00"
         ],
         "xaxis": "x10",
         "y": [
          27666.1,
          68338.2,
          15655.18,
          27198.29,
          32638.63,
          11890,
          7514.85,
          2558.9,
          34849.21,
          43008.350000000006,
          22497.6,
          19601.050000000003,
          65754.55,
          43190.76,
          26729.760000000002,
          19519.59,
          13747.169999999998,
          23513.59,
          30716.11,
          3762.8199999999997,
          9612.8,
          6745.2,
          25689.64,
          15314.86,
          9524.88,
          20663.64,
          31216.71,
          10118.36,
          16729.8,
          63092.75,
          38125.2,
          4130,
          6015.04,
          8419.83,
          10814.57,
          28682.589999999997,
          30506.15,
          8136.92,
          24868.86,
          37972.81,
          33449.25,
          12149.4,
          17020.04
         ],
         "yaxis": "y10"
        },
        {
         "line": {
          "color": "red",
          "dash": "dot"
         },
         "mode": "lines",
         "name": "Product 13 Trend",
         "type": "scatter",
         "x": [
          "2018-10-01T00:00:00",
          "2018-11-01T00:00:00",
          "2018-12-01T00:00:00",
          "2019-01-01T00:00:00",
          "2019-02-01T00:00:00",
          "2019-03-01T00:00:00",
          "2019-04-01T00:00:00",
          "2019-05-01T00:00:00",
          "2019-06-01T00:00:00",
          "2019-07-01T00:00:00",
          "2019-08-01T00:00:00",
          "2019-09-01T00:00:00",
          "2019-10-01T00:00:00",
          "2019-11-01T00:00:00",
          "2019-12-01T00:00:00",
          "2020-01-01T00:00:00",
          "2020-02-01T00:00:00",
          "2020-03-01T00:00:00",
          "2020-04-01T00:00:00",
          "2020-05-01T00:00:00",
          "2020-06-01T00:00:00",
          "2020-07-01T00:00:00",
          "2020-08-01T00:00:00",
          "2020-09-01T00:00:00",
          "2020-10-01T00:00:00",
          "2020-11-01T00:00:00",
          "2020-12-01T00:00:00",
          "2021-01-01T00:00:00",
          "2021-02-01T00:00:00",
          "2021-03-01T00:00:00",
          "2021-04-01T00:00:00",
          "2021-05-01T00:00:00",
          "2021-06-01T00:00:00",
          "2021-07-01T00:00:00",
          "2021-08-01T00:00:00",
          "2021-09-01T00:00:00",
          "2021-10-01T00:00:00",
          "2021-11-01T00:00:00",
          "2021-12-01T00:00:00",
          "2022-01-01T00:00:00",
          "2022-02-01T00:00:00",
          "2022-03-01T00:00:00",
          "2022-04-01T00:00:00"
         ],
         "xaxis": "x10",
         "y": [
          27666.1,
          48002.149999999994,
          37219.82666666667,
          37063.89,
          25164.03333333334,
          23908.97333333334,
          17347.82666666667,
          7321.250000000005,
          14974.320000000005,
          26805.486666666675,
          33451.72,
          28369.00000000001,
          35951.06666666667,
          42848.786666666674,
          45225.02333333334,
          29813.37,
          19998.84,
          18926.783333333333,
          22658.956666666665,
          19330.84,
          14697.243333333332,
          6706.94,
          14015.88,
          15916.566666666666,
          16843.126666666667,
          15167.793333333335,
          20468.41,
          20666.236666666668,
          19354.95666666667,
          29980.303333333333,
          39315.916666666664,
          35115.98333333333,
          16090.08,
          6188.29,
          8416.48,
          15972.329999999996,
          23334.436666666665,
          22441.88666666667,
          21170.643333333337,
          23659.53,
          32096.97333333333,
          27857.153333333332,
          20872.896666666667
         ],
         "yaxis": "y10"
        },
        {
         "line": {
          "color": "blue"
         },
         "mode": "lines+markers",
         "name": "Product 14 Sales",
         "type": "scatter",
         "x": [
          "2018-10-01T00:00:00",
          "2018-11-01T00:00:00",
          "2019-01-01T00:00:00",
          "2019-02-01T00:00:00",
          "2019-03-01T00:00:00",
          "2019-05-01T00:00:00",
          "2019-06-01T00:00:00",
          "2019-07-01T00:00:00",
          "2019-08-01T00:00:00",
          "2019-09-01T00:00:00",
          "2019-10-01T00:00:00",
          "2019-11-01T00:00:00",
          "2020-01-01T00:00:00",
          "2020-02-01T00:00:00",
          "2020-03-01T00:00:00",
          "2020-05-01T00:00:00",
          "2020-06-01T00:00:00",
          "2020-07-01T00:00:00",
          "2020-08-01T00:00:00",
          "2020-09-01T00:00:00",
          "2020-10-01T00:00:00",
          "2020-11-01T00:00:00",
          "2020-12-01T00:00:00",
          "2021-01-01T00:00:00",
          "2021-02-01T00:00:00",
          "2021-03-01T00:00:00",
          "2021-04-01T00:00:00",
          "2021-05-01T00:00:00",
          "2021-06-01T00:00:00",
          "2021-07-01T00:00:00",
          "2021-09-01T00:00:00",
          "2021-10-01T00:00:00",
          "2021-11-01T00:00:00",
          "2021-12-01T00:00:00",
          "2022-01-01T00:00:00",
          "2022-02-01T00:00:00",
          "2022-03-01T00:00:00",
          "2022-04-01T00:00:00"
         ],
         "xaxis": "x11",
         "y": [
          5770,
          17130,
          1686.4,
          19196.3,
          7535.25,
          17820,
          63017.71,
          20719.3,
          1602,
          12851.2,
          4230,
          2571.3,
          2955.22,
          10900,
          10325.15,
          32670,
          8756.45,
          14793,
          6919.4,
          2219.8,
          13799,
          1750,
          11772.45,
          3028,
          2966.82,
          15818.779999999999,
          5629,
          2183.85,
          8266.9,
          76161.44,
          6182,
          16534.2,
          5951.849999999999,
          17427.6,
          2820,
          4410,
          46100.24,
          2495
         ],
         "yaxis": "y11"
        },
        {
         "line": {
          "color": "red",
          "dash": "dot"
         },
         "mode": "lines",
         "name": "Product 14 Trend",
         "type": "scatter",
         "x": [
          "2018-10-01T00:00:00",
          "2018-11-01T00:00:00",
          "2019-01-01T00:00:00",
          "2019-02-01T00:00:00",
          "2019-03-01T00:00:00",
          "2019-05-01T00:00:00",
          "2019-06-01T00:00:00",
          "2019-07-01T00:00:00",
          "2019-08-01T00:00:00",
          "2019-09-01T00:00:00",
          "2019-10-01T00:00:00",
          "2019-11-01T00:00:00",
          "2020-01-01T00:00:00",
          "2020-02-01T00:00:00",
          "2020-03-01T00:00:00",
          "2020-05-01T00:00:00",
          "2020-06-01T00:00:00",
          "2020-07-01T00:00:00",
          "2020-08-01T00:00:00",
          "2020-09-01T00:00:00",
          "2020-10-01T00:00:00",
          "2020-11-01T00:00:00",
          "2020-12-01T00:00:00",
          "2021-01-01T00:00:00",
          "2021-02-01T00:00:00",
          "2021-03-01T00:00:00",
          "2021-04-01T00:00:00",
          "2021-05-01T00:00:00",
          "2021-06-01T00:00:00",
          "2021-07-01T00:00:00",
          "2021-09-01T00:00:00",
          "2021-10-01T00:00:00",
          "2021-11-01T00:00:00",
          "2021-12-01T00:00:00",
          "2022-01-01T00:00:00",
          "2022-02-01T00:00:00",
          "2022-03-01T00:00:00",
          "2022-04-01T00:00:00"
         ],
         "xaxis": "x11",
         "y": [
          5770,
          11450,
          8195.466666666667,
          12670.9,
          9472.65,
          14850.516666666668,
          29457.653333333332,
          33852.33666666666,
          28446.336666666666,
          11724.166666666664,
          6227.733333333331,
          6550.833333333331,
          3252.173333333331,
          5475.506666666664,
          8060.123333333332,
          17965.05,
          17250.53333333333,
          18739.816666666666,
          10156.283333333331,
          7977.399999999998,
          7646.066666666665,
          5922.933333333332,
          9107.15,
          5516.816666666666,
          5922.423333333332,
          7271.199999999997,
          8138.199999999997,
          7877.209999999998,
          5359.916666666665,
          28870.73,
          30203.446666666667,
          32959.21333333333,
          9556.016666666666,
          13304.549999999997,
          8733.15,
          8219.199999999999,
          17776.746666666666,
          17668.413333333334
         ],
         "yaxis": "y11"
        },
        {
         "line": {
          "color": "blue"
         },
         "mode": "lines+markers",
         "name": "Product 16 Sales",
         "type": "scatter",
         "x": [
          "2018-10-01T00:00:00",
          "2018-11-01T00:00:00",
          "2018-12-01T00:00:00",
          "2019-01-01T00:00:00",
          "2019-02-01T00:00:00",
          "2019-03-01T00:00:00",
          "2019-04-01T00:00:00",
          "2019-05-01T00:00:00",
          "2019-06-01T00:00:00",
          "2019-07-01T00:00:00",
          "2019-08-01T00:00:00",
          "2019-09-01T00:00:00",
          "2019-10-01T00:00:00",
          "2019-11-01T00:00:00",
          "2019-12-01T00:00:00",
          "2020-01-01T00:00:00",
          "2020-02-01T00:00:00",
          "2020-03-01T00:00:00",
          "2020-04-01T00:00:00",
          "2020-05-01T00:00:00",
          "2020-06-01T00:00:00",
          "2020-07-01T00:00:00",
          "2020-08-01T00:00:00",
          "2020-09-01T00:00:00",
          "2020-10-01T00:00:00",
          "2020-11-01T00:00:00",
          "2020-12-01T00:00:00",
          "2021-01-01T00:00:00",
          "2021-02-01T00:00:00",
          "2021-03-01T00:00:00",
          "2021-04-01T00:00:00",
          "2021-05-01T00:00:00",
          "2021-06-01T00:00:00",
          "2021-07-01T00:00:00",
          "2021-08-01T00:00:00",
          "2021-09-01T00:00:00",
          "2021-10-01T00:00:00",
          "2021-11-01T00:00:00",
          "2021-12-01T00:00:00",
          "2022-01-01T00:00:00",
          "2022-02-01T00:00:00",
          "2022-03-01T00:00:00",
          "2022-04-01T00:00:00"
         ],
         "xaxis": "x12",
         "y": [
          333196.87,
          1377694.32,
          4762524.66,
          942957.19,
          257765.04,
          2258352.2199999997,
          225864,
          353451.54,
          371512.38,
          266225.86,
          725678.3299999998,
          765605.16,
          285644.67,
          291844.03,
          335567.28,
          384800.46,
          82821.54000000001,
          160397.35,
          70530.7,
          195141.7,
          269150.4,
          409170.11,
          153870.44,
          209186.6,
          145276.08000000002,
          160941.78,
          260089.25,
          40360.08,
          117004.3,
          309564.27,
          125710.70999999999,
          219241.06,
          186607.11000000002,
          103935.84,
          323548.03,
          186586.24,
          141037.06,
          230129.08000000002,
          271111.39,
          91021.89,
          45696.76,
          98729.91,
          134071.24
         ],
         "yaxis": "y12"
        },
        {
         "line": {
          "color": "red",
          "dash": "dot"
         },
         "mode": "lines",
         "name": "Product 16 Trend",
         "type": "scatter",
         "x": [
          "2018-10-01T00:00:00",
          "2018-11-01T00:00:00",
          "2018-12-01T00:00:00",
          "2019-01-01T00:00:00",
          "2019-02-01T00:00:00",
          "2019-03-01T00:00:00",
          "2019-04-01T00:00:00",
          "2019-05-01T00:00:00",
          "2019-06-01T00:00:00",
          "2019-07-01T00:00:00",
          "2019-08-01T00:00:00",
          "2019-09-01T00:00:00",
          "2019-10-01T00:00:00",
          "2019-11-01T00:00:00",
          "2019-12-01T00:00:00",
          "2020-01-01T00:00:00",
          "2020-02-01T00:00:00",
          "2020-03-01T00:00:00",
          "2020-04-01T00:00:00",
          "2020-05-01T00:00:00",
          "2020-06-01T00:00:00",
          "2020-07-01T00:00:00",
          "2020-08-01T00:00:00",
          "2020-09-01T00:00:00",
          "2020-10-01T00:00:00",
          "2020-11-01T00:00:00",
          "2020-12-01T00:00:00",
          "2021-01-01T00:00:00",
          "2021-02-01T00:00:00",
          "2021-03-01T00:00:00",
          "2021-04-01T00:00:00",
          "2021-05-01T00:00:00",
          "2021-06-01T00:00:00",
          "2021-07-01T00:00:00",
          "2021-08-01T00:00:00",
          "2021-09-01T00:00:00",
          "2021-10-01T00:00:00",
          "2021-11-01T00:00:00",
          "2021-12-01T00:00:00",
          "2022-01-01T00:00:00",
          "2022-02-01T00:00:00",
          "2022-03-01T00:00:00",
          "2022-04-01T00:00:00"
         ],
         "xaxis": "x12",
         "y": [
          333196.87,
          855445.595,
          2157805.283333333,
          2361058.723333333,
          1987748.963333333,
          1153024.8166666662,
          913993.753333333,
          945889.253333333,
          316942.63999999966,
          330396.59333333303,
          454472.18999999965,
          585836.4499999997,
          592309.3866666664,
          447697.9533333331,
          304351.993333333,
          337403.92333333305,
          267729.7599999997,
          209339.78333333306,
          104583.19666666636,
          142023.24999999968,
          178274.26666666637,
          291154.06999999966,
          277396.98333333305,
          257409.0499999997,
          169444.37333333303,
          171801.48666666637,
          188769.03666666636,
          153797.03666666636,
          139151.2099999997,
          155642.88333333304,
          184093.09333333303,
          218172.01333333305,
          177186.29333333301,
          169928.00333333304,
          204696.99333333303,
          204690.03666666636,
          217057.10999999972,
          185917.4599999997,
          214092.5099999997,
          197420.78666666636,
          135943.34666666636,
          78482.85333333303,
          92832.63666666635
         ],
         "yaxis": "y12"
        },
        {
         "line": {
          "color": "blue"
         },
         "mode": "lines+markers",
         "name": "Product 20 Sales",
         "type": "scatter",
         "x": [
          "2018-10-01T00:00:00",
          "2018-11-01T00:00:00",
          "2018-12-01T00:00:00",
          "2019-01-01T00:00:00",
          "2019-02-01T00:00:00",
          "2019-03-01T00:00:00",
          "2019-04-01T00:00:00",
          "2019-05-01T00:00:00",
          "2019-06-01T00:00:00",
          "2019-07-01T00:00:00",
          "2019-08-01T00:00:00",
          "2019-09-01T00:00:00",
          "2019-10-01T00:00:00",
          "2019-11-01T00:00:00",
          "2020-01-01T00:00:00",
          "2020-03-01T00:00:00",
          "2020-04-01T00:00:00",
          "2020-05-01T00:00:00",
          "2020-06-01T00:00:00",
          "2020-07-01T00:00:00",
          "2020-08-01T00:00:00",
          "2020-09-01T00:00:00",
          "2020-10-01T00:00:00",
          "2020-11-01T00:00:00",
          "2020-12-01T00:00:00",
          "2021-02-01T00:00:00",
          "2021-03-01T00:00:00",
          "2021-04-01T00:00:00",
          "2021-05-01T00:00:00",
          "2021-06-01T00:00:00",
          "2021-07-01T00:00:00",
          "2021-08-01T00:00:00",
          "2021-10-01T00:00:00",
          "2021-11-01T00:00:00",
          "2021-12-01T00:00:00",
          "2022-02-01T00:00:00",
          "2022-03-01T00:00:00",
          "2022-04-01T00:00:00"
         ],
         "xaxis": "x13",
         "y": [
          4563.14,
          5798.139999999999,
          918.65,
          2399.18,
          620.66,
          3369.55,
          3635.26,
          944,
          772.94,
          577.6,
          284.4,
          671.1700000000001,
          1566,
          149,
          274.90999999999997,
          555,
          224,
          390,
          983.1,
          826.98,
          2688,
          2047.7,
          7355.75,
          2990.7,
          8485.6,
          1387,
          1076.6,
          8414,
          419.21,
          1766.6,
          842.9300000000001,
          377.22,
          151.49,
          928.8,
          156,
          589.5,
          2885.08,
          6280.629999999999
         ],
         "yaxis": "y13"
        },
        {
         "line": {
          "color": "red",
          "dash": "dot"
         },
         "mode": "lines",
         "name": "Product 20 Trend",
         "type": "scatter",
         "x": [
          "2018-10-01T00:00:00",
          "2018-11-01T00:00:00",
          "2018-12-01T00:00:00",
          "2019-01-01T00:00:00",
          "2019-02-01T00:00:00",
          "2019-03-01T00:00:00",
          "2019-04-01T00:00:00",
          "2019-05-01T00:00:00",
          "2019-06-01T00:00:00",
          "2019-07-01T00:00:00",
          "2019-08-01T00:00:00",
          "2019-09-01T00:00:00",
          "2019-10-01T00:00:00",
          "2019-11-01T00:00:00",
          "2020-01-01T00:00:00",
          "2020-03-01T00:00:00",
          "2020-04-01T00:00:00",
          "2020-05-01T00:00:00",
          "2020-06-01T00:00:00",
          "2020-07-01T00:00:00",
          "2020-08-01T00:00:00",
          "2020-09-01T00:00:00",
          "2020-10-01T00:00:00",
          "2020-11-01T00:00:00",
          "2020-12-01T00:00:00",
          "2021-02-01T00:00:00",
          "2021-03-01T00:00:00",
          "2021-04-01T00:00:00",
          "2021-05-01T00:00:00",
          "2021-06-01T00:00:00",
          "2021-07-01T00:00:00",
          "2021-08-01T00:00:00",
          "2021-10-01T00:00:00",
          "2021-11-01T00:00:00",
          "2021-12-01T00:00:00",
          "2022-02-01T00:00:00",
          "2022-03-01T00:00:00",
          "2022-04-01T00:00:00"
         ],
         "xaxis": "x13",
         "y": [
          4563.14,
          5180.639999999999,
          3759.976666666667,
          3038.6566666666663,
          1312.83,
          2129.7966666666666,
          2541.8233333333333,
          2649.6033333333335,
          1784.0666666666668,
          764.8466666666667,
          544.98,
          511.0566666666667,
          840.5233333333334,
          795.39,
          663.3033333333333,
          326.30333333333334,
          351.3033333333333,
          389.6666666666667,
          532.3666666666667,
          733.36,
          1499.36,
          1854.2266666666667,
          4030.4833333333336,
          4131.383333333333,
          6277.350000000001,
          4287.766666666667,
          3649.7333333333336,
          3625.866666666667,
          3303.27,
          3533.27,
          1009.5799999999999,
          995.5833333333334,
          457.21333333333337,
          485.83666666666664,
          412.09666666666664,
          558.1,
          1210.1933333333334,
          3251.736666666666
         ],
         "yaxis": "y13"
        },
        {
         "line": {
          "color": "blue"
         },
         "mode": "lines+markers",
         "name": "Product 36 Sales",
         "type": "scatter",
         "x": [
          "2018-10-01T00:00:00",
          "2018-11-01T00:00:00",
          "2018-12-01T00:00:00",
          "2019-01-01T00:00:00",
          "2019-02-01T00:00:00",
          "2019-03-01T00:00:00",
          "2019-04-01T00:00:00",
          "2019-05-01T00:00:00",
          "2019-06-01T00:00:00",
          "2019-07-01T00:00:00",
          "2019-08-01T00:00:00",
          "2019-09-01T00:00:00",
          "2019-10-01T00:00:00",
          "2019-11-01T00:00:00",
          "2019-12-01T00:00:00",
          "2020-01-01T00:00:00",
          "2020-02-01T00:00:00",
          "2020-03-01T00:00:00",
          "2020-04-01T00:00:00",
          "2020-05-01T00:00:00",
          "2020-06-01T00:00:00",
          "2020-07-01T00:00:00",
          "2020-08-01T00:00:00",
          "2020-09-01T00:00:00",
          "2020-10-01T00:00:00",
          "2020-11-01T00:00:00",
          "2020-12-01T00:00:00",
          "2021-01-01T00:00:00",
          "2021-02-01T00:00:00",
          "2021-03-01T00:00:00",
          "2021-04-01T00:00:00",
          "2021-05-01T00:00:00",
          "2021-06-01T00:00:00",
          "2021-07-01T00:00:00",
          "2021-08-01T00:00:00",
          "2021-09-01T00:00:00",
          "2021-10-01T00:00:00",
          "2021-11-01T00:00:00",
          "2021-12-01T00:00:00",
          "2022-01-01T00:00:00",
          "2022-02-01T00:00:00",
          "2022-03-01T00:00:00",
          "2022-04-01T00:00:00"
         ],
         "xaxis": "x14",
         "y": [
          6474.6,
          21986.89,
          13924.52,
          15444.39,
          8051.15,
          7373.419999999999,
          4526.6,
          16905.32,
          17296.03,
          33334.41,
          1306,
          16582.55,
          1556.5,
          14921.72,
          5906.37,
          17727.88,
          11813.4,
          28300.82,
          27121.6,
          10075.7,
          146778.15,
          3849.6,
          12377.77,
          44867.100000000006,
          22372.49,
          4126.99,
          12105.42,
          3950.1,
          10454.4,
          11796,
          253519.03999999998,
          12775.490000000002,
          24733.07,
          17165.7,
          9233.4,
          26729.61,
          674,
          9449.77,
          48933.5,
          6014.39,
          29869.5,
          2564.85,
          17029.47
         ],
         "yaxis": "y14"
        },
        {
         "line": {
          "color": "red",
          "dash": "dot"
         },
         "mode": "lines",
         "name": "Product 36 Trend",
         "type": "scatter",
         "x": [
          "2018-10-01T00:00:00",
          "2018-11-01T00:00:00",
          "2018-12-01T00:00:00",
          "2019-01-01T00:00:00",
          "2019-02-01T00:00:00",
          "2019-03-01T00:00:00",
          "2019-04-01T00:00:00",
          "2019-05-01T00:00:00",
          "2019-06-01T00:00:00",
          "2019-07-01T00:00:00",
          "2019-08-01T00:00:00",
          "2019-09-01T00:00:00",
          "2019-10-01T00:00:00",
          "2019-11-01T00:00:00",
          "2019-12-01T00:00:00",
          "2020-01-01T00:00:00",
          "2020-02-01T00:00:00",
          "2020-03-01T00:00:00",
          "2020-04-01T00:00:00",
          "2020-05-01T00:00:00",
          "2020-06-01T00:00:00",
          "2020-07-01T00:00:00",
          "2020-08-01T00:00:00",
          "2020-09-01T00:00:00",
          "2020-10-01T00:00:00",
          "2020-11-01T00:00:00",
          "2020-12-01T00:00:00",
          "2021-01-01T00:00:00",
          "2021-02-01T00:00:00",
          "2021-03-01T00:00:00",
          "2021-04-01T00:00:00",
          "2021-05-01T00:00:00",
          "2021-06-01T00:00:00",
          "2021-07-01T00:00:00",
          "2021-08-01T00:00:00",
          "2021-09-01T00:00:00",
          "2021-10-01T00:00:00",
          "2021-11-01T00:00:00",
          "2021-12-01T00:00:00",
          "2022-01-01T00:00:00",
          "2022-02-01T00:00:00",
          "2022-03-01T00:00:00",
          "2022-04-01T00:00:00"
         ],
         "xaxis": "x14",
         "y": [
          6474.6,
          14230.744999999999,
          14128.669999999998,
          17118.600000000002,
          12473.353333333333,
          10289.653333333334,
          6650.389999999999,
          9601.779999999999,
          12909.316666666666,
          22511.920000000002,
          17312.146666666664,
          17074.320000000003,
          6481.683333333333,
          11020.256666666666,
          7461.53,
          12851.99,
          11815.883333333333,
          19280.7,
          22411.94,
          21832.70666666667,
          61325.15,
          53567.81666666666,
          54335.17333333333,
          20364.823333333337,
          26539.120000000006,
          23788.86,
          12868.300000000001,
          6727.503333333333,
          8836.64,
          8733.5,
          91923.14666666667,
          92696.84333333332,
          97009.2,
          18224.753333333334,
          17044.056666666667,
          17709.570000000003,
          12212.33666666667,
          12284.460000000001,
          19685.756666666668,
          21465.88666666667,
          28272.463333333333,
          12816.246666666666,
          16487.94
         ],
         "yaxis": "y14"
        }
       ],
       "layout": {
        "annotations": [
         {
          "font": {
           "size": 16
          },
          "showarrow": false,
          "text": "Product 1",
          "x": 0.02642857142857143,
          "xanchor": "center",
          "xref": "paper",
          "y": 1,
          "yanchor": "bottom",
          "yref": "paper"
         },
         {
          "font": {
           "size": 16
          },
          "showarrow": false,
          "text": "Product 3",
          "x": 0.09928571428571428,
          "xanchor": "center",
          "xref": "paper",
          "y": 1,
          "yanchor": "bottom",
          "yref": "paper"
         },
         {
          "font": {
           "size": 16
          },
          "showarrow": false,
          "text": "Product 4",
          "x": 0.17214285714285715,
          "xanchor": "center",
          "xref": "paper",
          "y": 1,
          "yanchor": "bottom",
          "yref": "paper"
         },
         {
          "font": {
           "size": 16
          },
          "showarrow": false,
          "text": "Product 5",
          "x": 0.24500000000000002,
          "xanchor": "center",
          "xref": "paper",
          "y": 1,
          "yanchor": "bottom",
          "yref": "paper"
         },
         {
          "font": {
           "size": 16
          },
          "showarrow": false,
          "text": "Product 6",
          "x": 0.31785714285714284,
          "xanchor": "center",
          "xref": "paper",
          "y": 1,
          "yanchor": "bottom",
          "yref": "paper"
         },
         {
          "font": {
           "size": 16
          },
          "showarrow": false,
          "text": "Product 8",
          "x": 0.3907142857142858,
          "xanchor": "center",
          "xref": "paper",
          "y": 1,
          "yanchor": "bottom",
          "yref": "paper"
         },
         {
          "font": {
           "size": 16
          },
          "showarrow": false,
          "text": "Product 9",
          "x": 0.46357142857142863,
          "xanchor": "center",
          "xref": "paper",
          "y": 1,
          "yanchor": "bottom",
          "yref": "paper"
         },
         {
          "font": {
           "size": 16
          },
          "showarrow": false,
          "text": "Product 11",
          "x": 0.5364285714285715,
          "xanchor": "center",
          "xref": "paper",
          "y": 1,
          "yanchor": "bottom",
          "yref": "paper"
         },
         {
          "font": {
           "size": 16
          },
          "showarrow": false,
          "text": "Product 12",
          "x": 0.6092857142857144,
          "xanchor": "center",
          "xref": "paper",
          "y": 1,
          "yanchor": "bottom",
          "yref": "paper"
         },
         {
          "font": {
           "size": 16
          },
          "showarrow": false,
          "text": "Product 13",
          "x": 0.6821428571428572,
          "xanchor": "center",
          "xref": "paper",
          "y": 1,
          "yanchor": "bottom",
          "yref": "paper"
         },
         {
          "font": {
           "size": 16
          },
          "showarrow": false,
          "text": "Product 14",
          "x": 0.7550000000000001,
          "xanchor": "center",
          "xref": "paper",
          "y": 1,
          "yanchor": "bottom",
          "yref": "paper"
         },
         {
          "font": {
           "size": 16
          },
          "showarrow": false,
          "text": "Product 16",
          "x": 0.8278571428571428,
          "xanchor": "center",
          "xref": "paper",
          "y": 1,
          "yanchor": "bottom",
          "yref": "paper"
         },
         {
          "font": {
           "size": 16
          },
          "showarrow": false,
          "text": "Product 20",
          "x": 0.9007142857142858,
          "xanchor": "center",
          "xref": "paper",
          "y": 1,
          "yanchor": "bottom",
          "yref": "paper"
         },
         {
          "font": {
           "size": 16
          },
          "showarrow": false,
          "text": "Product 36",
          "x": 0.9735714285714285,
          "xanchor": "center",
          "xref": "paper",
          "y": 1,
          "yanchor": "bottom",
          "yref": "paper"
         }
        ],
        "height": 500,
        "showlegend": false,
        "template": {
         "data": {
          "bar": [
           {
            "error_x": {
             "color": "#2a3f5f"
            },
            "error_y": {
             "color": "#2a3f5f"
            },
            "marker": {
             "line": {
              "color": "#E5ECF6",
              "width": 0.5
             },
             "pattern": {
              "fillmode": "overlay",
              "size": 10,
              "solidity": 0.2
             }
            },
            "type": "bar"
           }
          ],
          "barpolar": [
           {
            "marker": {
             "line": {
              "color": "#E5ECF6",
              "width": 0.5
             },
             "pattern": {
              "fillmode": "overlay",
              "size": 10,
              "solidity": 0.2
             }
            },
            "type": "barpolar"
           }
          ],
          "carpet": [
           {
            "aaxis": {
             "endlinecolor": "#2a3f5f",
             "gridcolor": "white",
             "linecolor": "white",
             "minorgridcolor": "white",
             "startlinecolor": "#2a3f5f"
            },
            "baxis": {
             "endlinecolor": "#2a3f5f",
             "gridcolor": "white",
             "linecolor": "white",
             "minorgridcolor": "white",
             "startlinecolor": "#2a3f5f"
            },
            "type": "carpet"
           }
          ],
          "choropleth": [
           {
            "colorbar": {
             "outlinewidth": 0,
             "ticks": ""
            },
            "type": "choropleth"
           }
          ],
          "contour": [
           {
            "colorbar": {
             "outlinewidth": 0,
             "ticks": ""
            },
            "colorscale": [
             [
              0,
              "#0d0887"
             ],
             [
              0.1111111111111111,
              "#46039f"
             ],
             [
              0.2222222222222222,
              "#7201a8"
             ],
             [
              0.3333333333333333,
              "#9c179e"
             ],
             [
              0.4444444444444444,
              "#bd3786"
             ],
             [
              0.5555555555555556,
              "#d8576b"
             ],
             [
              0.6666666666666666,
              "#ed7953"
             ],
             [
              0.7777777777777778,
              "#fb9f3a"
             ],
             [
              0.8888888888888888,
              "#fdca26"
             ],
             [
              1,
              "#f0f921"
             ]
            ],
            "type": "contour"
           }
          ],
          "contourcarpet": [
           {
            "colorbar": {
             "outlinewidth": 0,
             "ticks": ""
            },
            "type": "contourcarpet"
           }
          ],
          "heatmap": [
           {
            "colorbar": {
             "outlinewidth": 0,
             "ticks": ""
            },
            "colorscale": [
             [
              0,
              "#0d0887"
             ],
             [
              0.1111111111111111,
              "#46039f"
             ],
             [
              0.2222222222222222,
              "#7201a8"
             ],
             [
              0.3333333333333333,
              "#9c179e"
             ],
             [
              0.4444444444444444,
              "#bd3786"
             ],
             [
              0.5555555555555556,
              "#d8576b"
             ],
             [
              0.6666666666666666,
              "#ed7953"
             ],
             [
              0.7777777777777778,
              "#fb9f3a"
             ],
             [
              0.8888888888888888,
              "#fdca26"
             ],
             [
              1,
              "#f0f921"
             ]
            ],
            "type": "heatmap"
           }
          ],
          "heatmapgl": [
           {
            "colorbar": {
             "outlinewidth": 0,
             "ticks": ""
            },
            "colorscale": [
             [
              0,
              "#0d0887"
             ],
             [
              0.1111111111111111,
              "#46039f"
             ],
             [
              0.2222222222222222,
              "#7201a8"
             ],
             [
              0.3333333333333333,
              "#9c179e"
             ],
             [
              0.4444444444444444,
              "#bd3786"
             ],
             [
              0.5555555555555556,
              "#d8576b"
             ],
             [
              0.6666666666666666,
              "#ed7953"
             ],
             [
              0.7777777777777778,
              "#fb9f3a"
             ],
             [
              0.8888888888888888,
              "#fdca26"
             ],
             [
              1,
              "#f0f921"
             ]
            ],
            "type": "heatmapgl"
           }
          ],
          "histogram": [
           {
            "marker": {
             "pattern": {
              "fillmode": "overlay",
              "size": 10,
              "solidity": 0.2
             }
            },
            "type": "histogram"
           }
          ],
          "histogram2d": [
           {
            "colorbar": {
             "outlinewidth": 0,
             "ticks": ""
            },
            "colorscale": [
             [
              0,
              "#0d0887"
             ],
             [
              0.1111111111111111,
              "#46039f"
             ],
             [
              0.2222222222222222,
              "#7201a8"
             ],
             [
              0.3333333333333333,
              "#9c179e"
             ],
             [
              0.4444444444444444,
              "#bd3786"
             ],
             [
              0.5555555555555556,
              "#d8576b"
             ],
             [
              0.6666666666666666,
              "#ed7953"
             ],
             [
              0.7777777777777778,
              "#fb9f3a"
             ],
             [
              0.8888888888888888,
              "#fdca26"
             ],
             [
              1,
              "#f0f921"
             ]
            ],
            "type": "histogram2d"
           }
          ],
          "histogram2dcontour": [
           {
            "colorbar": {
             "outlinewidth": 0,
             "ticks": ""
            },
            "colorscale": [
             [
              0,
              "#0d0887"
             ],
             [
              0.1111111111111111,
              "#46039f"
             ],
             [
              0.2222222222222222,
              "#7201a8"
             ],
             [
              0.3333333333333333,
              "#9c179e"
             ],
             [
              0.4444444444444444,
              "#bd3786"
             ],
             [
              0.5555555555555556,
              "#d8576b"
             ],
             [
              0.6666666666666666,
              "#ed7953"
             ],
             [
              0.7777777777777778,
              "#fb9f3a"
             ],
             [
              0.8888888888888888,
              "#fdca26"
             ],
             [
              1,
              "#f0f921"
             ]
            ],
            "type": "histogram2dcontour"
           }
          ],
          "mesh3d": [
           {
            "colorbar": {
             "outlinewidth": 0,
             "ticks": ""
            },
            "type": "mesh3d"
           }
          ],
          "parcoords": [
           {
            "line": {
             "colorbar": {
              "outlinewidth": 0,
              "ticks": ""
             }
            },
            "type": "parcoords"
           }
          ],
          "pie": [
           {
            "automargin": true,
            "type": "pie"
           }
          ],
          "scatter": [
           {
            "fillpattern": {
             "fillmode": "overlay",
             "size": 10,
             "solidity": 0.2
            },
            "type": "scatter"
           }
          ],
          "scatter3d": [
           {
            "line": {
             "colorbar": {
              "outlinewidth": 0,
              "ticks": ""
             }
            },
            "marker": {
             "colorbar": {
              "outlinewidth": 0,
              "ticks": ""
             }
            },
            "type": "scatter3d"
           }
          ],
          "scattercarpet": [
           {
            "marker": {
             "colorbar": {
              "outlinewidth": 0,
              "ticks": ""
             }
            },
            "type": "scattercarpet"
           }
          ],
          "scattergeo": [
           {
            "marker": {
             "colorbar": {
              "outlinewidth": 0,
              "ticks": ""
             }
            },
            "type": "scattergeo"
           }
          ],
          "scattergl": [
           {
            "marker": {
             "colorbar": {
              "outlinewidth": 0,
              "ticks": ""
             }
            },
            "type": "scattergl"
           }
          ],
          "scattermapbox": [
           {
            "marker": {
             "colorbar": {
              "outlinewidth": 0,
              "ticks": ""
             }
            },
            "type": "scattermapbox"
           }
          ],
          "scatterpolar": [
           {
            "marker": {
             "colorbar": {
              "outlinewidth": 0,
              "ticks": ""
             }
            },
            "type": "scatterpolar"
           }
          ],
          "scatterpolargl": [
           {
            "marker": {
             "colorbar": {
              "outlinewidth": 0,
              "ticks": ""
             }
            },
            "type": "scatterpolargl"
           }
          ],
          "scatterternary": [
           {
            "marker": {
             "colorbar": {
              "outlinewidth": 0,
              "ticks": ""
             }
            },
            "type": "scatterternary"
           }
          ],
          "surface": [
           {
            "colorbar": {
             "outlinewidth": 0,
             "ticks": ""
            },
            "colorscale": [
             [
              0,
              "#0d0887"
             ],
             [
              0.1111111111111111,
              "#46039f"
             ],
             [
              0.2222222222222222,
              "#7201a8"
             ],
             [
              0.3333333333333333,
              "#9c179e"
             ],
             [
              0.4444444444444444,
              "#bd3786"
             ],
             [
              0.5555555555555556,
              "#d8576b"
             ],
             [
              0.6666666666666666,
              "#ed7953"
             ],
             [
              0.7777777777777778,
              "#fb9f3a"
             ],
             [
              0.8888888888888888,
              "#fdca26"
             ],
             [
              1,
              "#f0f921"
             ]
            ],
            "type": "surface"
           }
          ],
          "table": [
           {
            "cells": {
             "fill": {
              "color": "#EBF0F8"
             },
             "line": {
              "color": "white"
             }
            },
            "header": {
             "fill": {
              "color": "#C8D4E3"
             },
             "line": {
              "color": "white"
             }
            },
            "type": "table"
           }
          ]
         },
         "layout": {
          "annotationdefaults": {
           "arrowcolor": "#2a3f5f",
           "arrowhead": 0,
           "arrowwidth": 1
          },
          "autotypenumbers": "strict",
          "coloraxis": {
           "colorbar": {
            "outlinewidth": 0,
            "ticks": ""
           }
          },
          "colorscale": {
           "diverging": [
            [
             0,
             "#8e0152"
            ],
            [
             0.1,
             "#c51b7d"
            ],
            [
             0.2,
             "#de77ae"
            ],
            [
             0.3,
             "#f1b6da"
            ],
            [
             0.4,
             "#fde0ef"
            ],
            [
             0.5,
             "#f7f7f7"
            ],
            [
             0.6,
             "#e6f5d0"
            ],
            [
             0.7,
             "#b8e186"
            ],
            [
             0.8,
             "#7fbc41"
            ],
            [
             0.9,
             "#4d9221"
            ],
            [
             1,
             "#276419"
            ]
           ],
           "sequential": [
            [
             0,
             "#0d0887"
            ],
            [
             0.1111111111111111,
             "#46039f"
            ],
            [
             0.2222222222222222,
             "#7201a8"
            ],
            [
             0.3333333333333333,
             "#9c179e"
            ],
            [
             0.4444444444444444,
             "#bd3786"
            ],
            [
             0.5555555555555556,
             "#d8576b"
            ],
            [
             0.6666666666666666,
             "#ed7953"
            ],
            [
             0.7777777777777778,
             "#fb9f3a"
            ],
            [
             0.8888888888888888,
             "#fdca26"
            ],
            [
             1,
             "#f0f921"
            ]
           ],
           "sequentialminus": [
            [
             0,
             "#0d0887"
            ],
            [
             0.1111111111111111,
             "#46039f"
            ],
            [
             0.2222222222222222,
             "#7201a8"
            ],
            [
             0.3333333333333333,
             "#9c179e"
            ],
            [
             0.4444444444444444,
             "#bd3786"
            ],
            [
             0.5555555555555556,
             "#d8576b"
            ],
            [
             0.6666666666666666,
             "#ed7953"
            ],
            [
             0.7777777777777778,
             "#fb9f3a"
            ],
            [
             0.8888888888888888,
             "#fdca26"
            ],
            [
             1,
             "#f0f921"
            ]
           ]
          },
          "colorway": [
           "#636efa",
           "#EF553B",
           "#00cc96",
           "#ab63fa",
           "#FFA15A",
           "#19d3f3",
           "#FF6692",
           "#B6E880",
           "#FF97FF",
           "#FECB52"
          ],
          "font": {
           "color": "#2a3f5f"
          },
          "geo": {
           "bgcolor": "white",
           "lakecolor": "white",
           "landcolor": "#E5ECF6",
           "showlakes": true,
           "showland": true,
           "subunitcolor": "white"
          },
          "hoverlabel": {
           "align": "left"
          },
          "hovermode": "closest",
          "mapbox": {
           "style": "light"
          },
          "paper_bgcolor": "white",
          "plot_bgcolor": "#E5ECF6",
          "polar": {
           "angularaxis": {
            "gridcolor": "white",
            "linecolor": "white",
            "ticks": ""
           },
           "bgcolor": "#E5ECF6",
           "radialaxis": {
            "gridcolor": "white",
            "linecolor": "white",
            "ticks": ""
           }
          },
          "scene": {
           "xaxis": {
            "backgroundcolor": "#E5ECF6",
            "gridcolor": "white",
            "gridwidth": 2,
            "linecolor": "white",
            "showbackground": true,
            "ticks": "",
            "zerolinecolor": "white"
           },
           "yaxis": {
            "backgroundcolor": "#E5ECF6",
            "gridcolor": "white",
            "gridwidth": 2,
            "linecolor": "white",
            "showbackground": true,
            "ticks": "",
            "zerolinecolor": "white"
           },
           "zaxis": {
            "backgroundcolor": "#E5ECF6",
            "gridcolor": "white",
            "gridwidth": 2,
            "linecolor": "white",
            "showbackground": true,
            "ticks": "",
            "zerolinecolor": "white"
           }
          },
          "shapedefaults": {
           "line": {
            "color": "#2a3f5f"
           }
          },
          "ternary": {
           "aaxis": {
            "gridcolor": "white",
            "linecolor": "white",
            "ticks": ""
           },
           "baxis": {
            "gridcolor": "white",
            "linecolor": "white",
            "ticks": ""
           },
           "bgcolor": "#E5ECF6",
           "caxis": {
            "gridcolor": "white",
            "linecolor": "white",
            "ticks": ""
           }
          },
          "title": {
           "x": 0.05
          },
          "xaxis": {
           "automargin": true,
           "gridcolor": "white",
           "linecolor": "white",
           "ticks": "",
           "title": {
            "standoff": 15
           },
           "zerolinecolor": "white",
           "zerolinewidth": 2
          },
          "yaxis": {
           "automargin": true,
           "gridcolor": "white",
           "linecolor": "white",
           "ticks": "",
           "title": {
            "standoff": 15
           },
           "zerolinecolor": "white",
           "zerolinewidth": 2
          }
         }
        },
        "title": {
         "text": "Positive Sales Trends by Product (Monthly)"
        },
        "width": 7000,
        "xaxis": {
         "anchor": "y",
         "domain": [
          0,
          0.05285714285714286
         ],
         "tickangle": -45,
         "title": {
          "text": "Year-Month"
         }
        },
        "xaxis10": {
         "anchor": "y10",
         "domain": [
          0.6557142857142858,
          0.7085714285714286
         ]
        },
        "xaxis11": {
         "anchor": "y11",
         "domain": [
          0.7285714285714286,
          0.7814285714285715
         ]
        },
        "xaxis12": {
         "anchor": "y12",
         "domain": [
          0.8014285714285715,
          0.8542857142857143
         ]
        },
        "xaxis13": {
         "anchor": "y13",
         "domain": [
          0.8742857142857143,
          0.9271428571428572
         ]
        },
        "xaxis14": {
         "anchor": "y14",
         "domain": [
          0.9471428571428572,
          1
         ]
        },
        "xaxis2": {
         "anchor": "y2",
         "domain": [
          0.07285714285714286,
          0.12571428571428572
         ]
        },
        "xaxis3": {
         "anchor": "y3",
         "domain": [
          0.1457142857142857,
          0.19857142857142857
         ]
        },
        "xaxis4": {
         "anchor": "y4",
         "domain": [
          0.21857142857142858,
          0.27142857142857146
         ]
        },
        "xaxis5": {
         "anchor": "y5",
         "domain": [
          0.2914285714285714,
          0.3442857142857143
         ]
        },
        "xaxis6": {
         "anchor": "y6",
         "domain": [
          0.3642857142857143,
          0.4171428571428572
         ]
        },
        "xaxis7": {
         "anchor": "y7",
         "domain": [
          0.43714285714285717,
          0.49000000000000005
         ]
        },
        "xaxis8": {
         "anchor": "y8",
         "domain": [
          0.51,
          0.5628571428571428
         ]
        },
        "xaxis9": {
         "anchor": "y9",
         "domain": [
          0.582857142857143,
          0.6357142857142858
         ]
        },
        "yaxis": {
         "anchor": "x",
         "domain": [
          0,
          1
         ],
         "title": {
          "text": "Total Positive Sales (EUR)"
         }
        },
        "yaxis10": {
         "anchor": "x10",
         "domain": [
          0,
          1
         ]
        },
        "yaxis11": {
         "anchor": "x11",
         "domain": [
          0,
          1
         ]
        },
        "yaxis12": {
         "anchor": "x12",
         "domain": [
          0,
          1
         ]
        },
        "yaxis13": {
         "anchor": "x13",
         "domain": [
          0,
          1
         ]
        },
        "yaxis14": {
         "anchor": "x14",
         "domain": [
          0,
          1
         ]
        },
        "yaxis2": {
         "anchor": "x2",
         "domain": [
          0,
          1
         ]
        },
        "yaxis3": {
         "anchor": "x3",
         "domain": [
          0,
          1
         ]
        },
        "yaxis4": {
         "anchor": "x4",
         "domain": [
          0,
          1
         ]
        },
        "yaxis5": {
         "anchor": "x5",
         "domain": [
          0,
          1
         ]
        },
        "yaxis6": {
         "anchor": "x6",
         "domain": [
          0,
          1
         ]
        },
        "yaxis7": {
         "anchor": "x7",
         "domain": [
          0,
          1
         ]
        },
        "yaxis8": {
         "anchor": "x8",
         "domain": [
          0,
          1
         ]
        },
        "yaxis9": {
         "anchor": "x9",
         "domain": [
          0,
          1
         ]
        }
       }
      }
     },
     "metadata": {},
     "output_type": "display_data"
    }
   ],
   "source": [
    "plot_sales_trends(grouped_positive_sales_prod_month, trend_type='rolling')"
   ]
  },
  {
   "cell_type": "markdown",
   "metadata": {},
   "source": [
    "- Product 1: No clear trend.\n",
    "\n",
    "- Product 3: Highly volatile, but overall has an increasing trend - can be mearly due to inflation.\n",
    "\n",
    "- Product 4: Irregular pattern with no strong trend, suggesting it may be stationary.\n",
    "\n",
    "- Product 5: Irregular pattern with no strong trend, suggesting it may be stationary.\n",
    "\n",
    "- Product 6: decreasing trend with fluctuations.\n",
    "\n",
    "- Product 8: Increasing trend, with some spikes in September, decline in October. Likely seasonal.\n",
    "\n",
    "- Product 9: Irregular pattern with no strong trend, suggesting it may be stationary.\n",
    "\n",
    "- Product 11: Spikes in September, but no consistent trend. Likely seasonal and stationary.\n",
    "\n",
    "- Product 12: Growing trend, with fluctuations. Not strongly seasonal.\n",
    "\n",
    "- Product 13: No clear trend, likely stationary.\n",
    "\n",
    "- Product 14: No clear trend, likely stationary.\n",
    "\n",
    "- Product 16: Downward trend, possibly stationary.\n",
    "\n",
    "- Product 20: No clear trend, likely stationary.\n",
    "\n",
    "- Product 36: No clear trend, likely stationary."
   ]
  },
  {
   "cell_type": "markdown",
   "metadata": {},
   "source": [
    "To get a better understanding of the impact of Negative Sales' values in Positive Sales:"
   ]
  },
  {
   "cell_type": "code",
   "execution_count": null,
   "metadata": {},
   "outputs": [],
   "source": [
    "# Negative sales to absolute values\n",
    "negative_sales.loc[:, 'Sales_EUR'] = negative_sales['Sales_EUR'].abs()\n",
    "# Group by 'month_year' and 'Mapped_GCK' to calculate the sum of 'Sales_EUR'\n",
    "grouped_neg_abs_sales_prod_month = negative_sales.groupby(['month_year', 'Mapped_GCK'])['Sales_EUR'].sum().reset_index()\n",
    "grouped_neg_abs_sales_prod_month['month_year'] = grouped_neg_abs_sales_prod_month['month_year'].astype(str)"
   ]
  },
  {
   "cell_type": "code",
   "execution_count": null,
   "metadata": {},
   "outputs": [],
   "source": [
    "# Replacing missing month_year with 0, for categories that did not have negative sales in that month\n",
    "# Define the complete date range we want to include in the analysis\n",
    "full_date_range = pd.date_range(start='2018-10-01', end='2022-04-01', freq='MS').strftime('%Y-%m').tolist()\n",
    "\n",
    "# Get unique categories of 'Mapped_GCK'\n",
    "unique_categories = grouped_neg_abs_sales_prod_month['Mapped_GCK'].unique()\n",
    "\n",
    "# Create a full dataframe with all combinations of 'month_year' and 'Mapped_GCK'\n",
    "full_index = pd.MultiIndex.from_product([full_date_range, unique_categories], names=['month_year', 'Mapped_GCK'])\n",
    "full_df = pd.DataFrame(index=full_index).reset_index()\n",
    "\n",
    "# Merge the full dataframe with the original one\n",
    "grouped_neg_abs_sales_prod_month = full_df.merge(grouped_neg_abs_sales_prod_month, on=['month_year', 'Mapped_GCK'], how='left')\n",
    "\n",
    "# Fill missing values with 0\n",
    "grouped_neg_abs_sales_prod_month.fillna(0, inplace=True)"
   ]
  },
  {
   "cell_type": "code",
   "execution_count": 685,
   "metadata": {},
   "outputs": [],
   "source": [
    "# Convert 'month_year' to datetime format in both dataframes\n",
    "grouped_positive_sales_prod_month['month_year'] = pd.to_datetime(grouped_positive_sales_prod_month['month_year'])\n",
    "# Remove the day from 'month_year' in grouped_positive_sales_prod_month\n",
    "grouped_positive_sales_prod_month['month_year'] = grouped_positive_sales_prod_month['month_year'].dt.to_period('M')\n",
    "grouped_positive_sales_prod_month['month_year'] = grouped_positive_sales_prod_month['month_year'].astype(str)"
   ]
  },
  {
   "cell_type": "code",
   "execution_count": 690,
   "metadata": {},
   "outputs": [
    {
     "data": {
      "application/vnd.plotly.v1+json": {
       "config": {
        "plotlyServerURL": "https://plot.ly"
       },
       "data": [
        {
         "line": {
          "color": "blue"
         },
         "mode": "lines",
         "name": "Sales Difference - 1",
         "type": "scatter",
         "x": [
          "2018-10",
          "2018-11",
          "2018-12",
          "2019-01",
          "2019-02",
          "2019-03",
          "2019-04",
          "2019-05",
          "2019-06",
          "2019-07",
          "2019-08",
          "2019-09",
          "2019-10",
          "2019-11",
          "2019-12",
          "2020-01",
          "2020-02",
          "2020-03",
          "2020-04",
          "2020-05",
          "2020-06",
          "2020-07",
          "2020-08",
          "2020-09",
          "2020-10",
          "2020-11",
          "2020-12",
          "2021-01",
          "2021-02",
          "2021-03",
          "2021-04",
          "2021-05",
          "2021-06",
          "2021-07",
          "2021-08",
          "2021-09",
          "2021-10",
          "2021-11",
          "2021-12",
          "2022-01",
          "2022-02",
          "2022-03",
          "2022-04"
         ],
         "xaxis": "x",
         "y": [
          36098918.79,
          5140760,
          37889612.120000005,
          27728148.35,
          34793163.53,
          33856803.04,
          39688292.010000005,
          38897974.29,
          39106750.23,
          37912572.300000004,
          38042677.05,
          40602780.64,
          39012299.19,
          37323903.07,
          37701509.370000005,
          34116651.47,
          33505879.26,
          39064430.88,
          37981531.32,
          31400212.54,
          30896804.07,
          35212730.13,
          37482085.58,
          38879360.2,
          41453854.5,
          37643611.57,
          34816959.18,
          27180432.94,
          34630522.809999995,
          33476138.64,
          41257397.9,
          37760015.28,
          35801398.47,
          37130004.20999999,
          36310817.419999994,
          36278886.58,
          44483013.86000001,
          34187395.6,
          33950069.83,
          37942942.059999995,
          36293076.33,
          40220407.03,
          41053203.120000005
         ],
         "yaxis": "y"
        },
        {
         "line": {
          "color": "black",
          "dash": "dash"
         },
         "mode": "lines",
         "name": "Zero Line - 1",
         "type": "scatter",
         "x": [
          "2018-10",
          "2018-11",
          "2018-12",
          "2019-01",
          "2019-02",
          "2019-03",
          "2019-04",
          "2019-05",
          "2019-06",
          "2019-07",
          "2019-08",
          "2019-09",
          "2019-10",
          "2019-11",
          "2019-12",
          "2020-01",
          "2020-02",
          "2020-03",
          "2020-04",
          "2020-05",
          "2020-06",
          "2020-07",
          "2020-08",
          "2020-09",
          "2020-10",
          "2020-11",
          "2020-12",
          "2021-01",
          "2021-02",
          "2021-03",
          "2021-04",
          "2021-05",
          "2021-06",
          "2021-07",
          "2021-08",
          "2021-09",
          "2021-10",
          "2021-11",
          "2021-12",
          "2022-01",
          "2022-02",
          "2022-03",
          "2022-04"
         ],
         "xaxis": "x",
         "y": [
          0,
          0,
          0,
          0,
          0,
          0,
          0,
          0,
          0,
          0,
          0,
          0,
          0,
          0,
          0,
          0,
          0,
          0,
          0,
          0,
          0,
          0,
          0,
          0,
          0,
          0,
          0,
          0,
          0,
          0,
          0,
          0,
          0,
          0,
          0,
          0,
          0,
          0,
          0,
          0,
          0,
          0,
          0
         ],
         "yaxis": "y"
        },
        {
         "line": {
          "color": "blue"
         },
         "mode": "lines",
         "name": "Sales Difference - 3",
         "type": "scatter",
         "x": [
          "2018-10",
          "2018-11",
          "2018-12",
          "2019-01",
          "2019-02",
          "2019-03",
          "2019-04",
          "2019-05",
          "2019-06",
          "2019-07",
          "2019-08",
          "2019-09",
          "2019-10",
          "2019-11",
          "2019-12",
          "2020-01",
          "2020-02",
          "2020-03",
          "2020-04",
          "2020-05",
          "2020-06",
          "2020-07",
          "2020-08",
          "2020-09",
          "2020-10",
          "2020-11",
          "2020-12",
          "2021-01",
          "2021-02",
          "2021-03",
          "2021-04",
          "2021-05",
          "2021-06",
          "2021-07",
          "2021-08",
          "2021-09",
          "2021-10",
          "2021-11",
          "2021-12",
          "2022-01",
          "2022-02",
          "2022-03",
          "2022-04"
         ],
         "xaxis": "x2",
         "y": [
          8089465.960000001,
          11863001.51,
          8736859.389999999,
          10705300.63,
          10167796.86,
          11040544.569999998,
          12317479.75,
          12798945.18,
          11546452.19,
          13421550.83,
          11359418.299999999,
          16579668.110000001,
          11382774.45,
          13826060.48,
          11077603.56,
          11699896.34,
          10041616.85,
          12281515.459999999,
          12008066.85,
          10708632.18,
          13321842.36,
          12774946.290000001,
          11373503.08,
          15912683.17,
          10003848.44,
          15021617.790000001,
          9755535.99,
          3804319.7399999998,
          16136114.379999999,
          14128552.8,
          13461271.93,
          10298079.41,
          13650393.450000001,
          13288195.24,
          12385755.66,
          15874712.260000002,
          13797043.980000002,
          18686819.849999998,
          12376414.580000002,
          13754291.319999998,
          15665217.469999999,
          14320304.55,
          11999374.510000002
         ],
         "yaxis": "y2"
        },
        {
         "line": {
          "color": "black",
          "dash": "dash"
         },
         "mode": "lines",
         "name": "Zero Line - 3",
         "type": "scatter",
         "x": [
          "2018-10",
          "2018-11",
          "2018-12",
          "2019-01",
          "2019-02",
          "2019-03",
          "2019-04",
          "2019-05",
          "2019-06",
          "2019-07",
          "2019-08",
          "2019-09",
          "2019-10",
          "2019-11",
          "2019-12",
          "2020-01",
          "2020-02",
          "2020-03",
          "2020-04",
          "2020-05",
          "2020-06",
          "2020-07",
          "2020-08",
          "2020-09",
          "2020-10",
          "2020-11",
          "2020-12",
          "2021-01",
          "2021-02",
          "2021-03",
          "2021-04",
          "2021-05",
          "2021-06",
          "2021-07",
          "2021-08",
          "2021-09",
          "2021-10",
          "2021-11",
          "2021-12",
          "2022-01",
          "2022-02",
          "2022-03",
          "2022-04"
         ],
         "xaxis": "x2",
         "y": [
          0,
          0,
          0,
          0,
          0,
          0,
          0,
          0,
          0,
          0,
          0,
          0,
          0,
          0,
          0,
          0,
          0,
          0,
          0,
          0,
          0,
          0,
          0,
          0,
          0,
          0,
          0,
          0,
          0,
          0,
          0,
          0,
          0,
          0,
          0,
          0,
          0,
          0,
          0,
          0,
          0,
          0,
          0
         ],
         "yaxis": "y2"
        },
        {
         "line": {
          "color": "blue"
         },
         "mode": "lines",
         "name": "Sales Difference - 4",
         "type": "scatter",
         "x": [
          "2018-10",
          "2018-11",
          "2018-12",
          "2019-01",
          "2019-02",
          "2019-03",
          "2019-04",
          "2019-05",
          "2019-06",
          "2019-07",
          "2019-08",
          "2019-09",
          "2019-10",
          "2019-11",
          "2019-12",
          "2020-01",
          "2020-02",
          "2020-03",
          "2020-04",
          "2020-05",
          "2020-06",
          "2020-07",
          "2020-08",
          "2020-09",
          "2020-10",
          "2020-11",
          "2020-12",
          "2021-01",
          "2021-02",
          "2021-03",
          "2021-04",
          "2021-05",
          "2021-06",
          "2021-07",
          "2021-08",
          "2021-09",
          "2021-10",
          "2021-11",
          "2021-12",
          "2022-01",
          "2022-02",
          "2022-03",
          "2022-04"
         ],
         "xaxis": "x3",
         "y": [
          397760.69,
          371322.42000000004,
          430100.95999999996,
          484173.88,
          620031.8,
          491643.58999999997,
          426221.34,
          375671.57,
          190721.15,
          381274.95999999996,
          301973.43,
          443349.32,
          93226.32,
          298011.68,
          275968.15,
          218623.48,
          225262.14,
          197670.47999999998,
          387939.98000000004,
          315488.98,
          329430.96,
          294293.79,
          172952.24,
          645058,
          332603.83999999997,
          413558.14,
          303249.58999999997,
          165265.96999999997,
          807758.79,
          451955.41,
          295958.92,
          573707.2699999999,
          829442.3300000001,
          434669.61,
          255407.75,
          323380.87,
          344985.73,
          290506.87,
          199188.75,
          283630.81,
          245306.13,
          406399.83,
          302057.0399999999
         ],
         "yaxis": "y3"
        },
        {
         "line": {
          "color": "black",
          "dash": "dash"
         },
         "mode": "lines",
         "name": "Zero Line - 4",
         "type": "scatter",
         "x": [
          "2018-10",
          "2018-11",
          "2018-12",
          "2019-01",
          "2019-02",
          "2019-03",
          "2019-04",
          "2019-05",
          "2019-06",
          "2019-07",
          "2019-08",
          "2019-09",
          "2019-10",
          "2019-11",
          "2019-12",
          "2020-01",
          "2020-02",
          "2020-03",
          "2020-04",
          "2020-05",
          "2020-06",
          "2020-07",
          "2020-08",
          "2020-09",
          "2020-10",
          "2020-11",
          "2020-12",
          "2021-01",
          "2021-02",
          "2021-03",
          "2021-04",
          "2021-05",
          "2021-06",
          "2021-07",
          "2021-08",
          "2021-09",
          "2021-10",
          "2021-11",
          "2021-12",
          "2022-01",
          "2022-02",
          "2022-03",
          "2022-04"
         ],
         "xaxis": "x3",
         "y": [
          0,
          0,
          0,
          0,
          0,
          0,
          0,
          0,
          0,
          0,
          0,
          0,
          0,
          0,
          0,
          0,
          0,
          0,
          0,
          0,
          0,
          0,
          0,
          0,
          0,
          0,
          0,
          0,
          0,
          0,
          0,
          0,
          0,
          0,
          0,
          0,
          0,
          0,
          0,
          0,
          0,
          0,
          0
         ],
         "yaxis": "y3"
        },
        {
         "line": {
          "color": "blue"
         },
         "mode": "lines",
         "name": "Sales Difference - 5",
         "type": "scatter",
         "x": [
          "2018-10",
          "2018-11",
          "2018-12",
          "2019-01",
          "2019-02",
          "2019-03",
          "2019-04",
          "2019-05",
          "2019-06",
          "2019-07",
          "2019-08",
          "2019-09",
          "2019-10",
          "2019-11",
          "2019-12",
          "2020-01",
          "2020-02",
          "2020-03",
          "2020-04",
          "2020-05",
          "2020-06",
          "2020-07",
          "2020-08",
          "2020-09",
          "2020-10",
          "2020-11",
          "2020-12",
          "2021-01",
          "2021-02",
          "2021-03",
          "2021-04",
          "2021-05",
          "2021-06",
          "2021-07",
          "2021-08",
          "2021-09",
          "2021-10",
          "2021-11",
          "2021-12",
          "2022-01",
          "2022-02",
          "2022-03",
          "2022-04"
         ],
         "xaxis": "x4",
         "y": [
          2499061.19,
          8993944.040000001,
          6947507.3100000005,
          8233205.069999999,
          6879250.989999999,
          11914313.63,
          5714462.4799999995,
          11389673.259999998,
          13681879.16,
          11145039.030000001,
          7645745.289999999,
          15018604.629999999,
          11542647.469999999,
          8104241.69,
          13494692.75,
          7184359.3100000005,
          12424406.63,
          9232237.68,
          7990825.32,
          9872426.57,
          15873894.909999998,
          5590709.71,
          11463705.639999999,
          14160091.05,
          4647204.31,
          10164873.57,
          8845742.299999999,
          1405295.36,
          16650952.72,
          11102204.58,
          7085482.5200000005,
          8767595.73,
          11687229.03,
          8321886.38,
          19524640.52,
          15629190.799999999,
          11472426.01,
          9606371.139999999,
          8656479.639999999,
          7731408.33,
          7675455.55,
          14739187.18,
          8884607.530000001
         ],
         "yaxis": "y4"
        },
        {
         "line": {
          "color": "black",
          "dash": "dash"
         },
         "mode": "lines",
         "name": "Zero Line - 5",
         "type": "scatter",
         "x": [
          "2018-10",
          "2018-11",
          "2018-12",
          "2019-01",
          "2019-02",
          "2019-03",
          "2019-04",
          "2019-05",
          "2019-06",
          "2019-07",
          "2019-08",
          "2019-09",
          "2019-10",
          "2019-11",
          "2019-12",
          "2020-01",
          "2020-02",
          "2020-03",
          "2020-04",
          "2020-05",
          "2020-06",
          "2020-07",
          "2020-08",
          "2020-09",
          "2020-10",
          "2020-11",
          "2020-12",
          "2021-01",
          "2021-02",
          "2021-03",
          "2021-04",
          "2021-05",
          "2021-06",
          "2021-07",
          "2021-08",
          "2021-09",
          "2021-10",
          "2021-11",
          "2021-12",
          "2022-01",
          "2022-02",
          "2022-03",
          "2022-04"
         ],
         "xaxis": "x4",
         "y": [
          0,
          0,
          0,
          0,
          0,
          0,
          0,
          0,
          0,
          0,
          0,
          0,
          0,
          0,
          0,
          0,
          0,
          0,
          0,
          0,
          0,
          0,
          0,
          0,
          0,
          0,
          0,
          0,
          0,
          0,
          0,
          0,
          0,
          0,
          0,
          0,
          0,
          0,
          0,
          0,
          0,
          0,
          0
         ],
         "yaxis": "y4"
        },
        {
         "line": {
          "color": "blue"
         },
         "mode": "lines",
         "name": "Sales Difference - 6",
         "type": "scatter",
         "x": [
          "2018-10",
          "2018-11",
          "2018-12",
          "2019-01",
          "2019-02",
          "2019-03",
          "2019-04",
          "2019-05",
          "2019-06",
          "2019-07",
          "2019-08",
          "2019-09",
          "2019-10",
          "2019-11",
          "2019-12",
          "2020-01",
          "2020-02",
          "2020-03",
          "2020-04",
          "2020-05",
          "2020-06",
          "2020-07",
          "2020-08",
          "2020-09",
          "2020-10",
          "2020-11",
          "2020-12",
          "2021-01",
          "2021-02",
          "2021-03",
          "2021-04",
          "2021-05",
          "2021-06",
          "2021-07",
          "2021-08",
          "2021-09",
          "2021-10",
          "2021-11",
          "2021-12",
          "2022-01",
          "2022-02",
          "2022-03",
          "2022-04"
         ],
         "xaxis": "x5",
         "y": [
          369231.6,
          473046.95999999996,
          999472.6900000002,
          598874.1,
          542037.52,
          735604.23,
          277575.12,
          315978.77,
          282963.19,
          725411.99,
          206931.16999999998,
          499147.73,
          581767.85,
          181159.2,
          913378.8,
          -15202.959999999963,
          724398.75,
          529808.94,
          782042.98,
          750367.7,
          526425.18,
          730187.6799999999,
          847092.87,
          316929.21,
          313535.91000000003,
          335130.74,
          332556.98,
          27472.940000000002,
          515644.63,
          625100.14,
          592478.95,
          566508.34,
          490262.94,
          499338.64,
          529725.46,
          947905.3899999999,
          196463.81,
          386462.95999999996,
          190074.96,
          157670.31,
          391088.3,
          316132.20999999996,
          333705.61
         ],
         "yaxis": "y5"
        },
        {
         "line": {
          "color": "black",
          "dash": "dash"
         },
         "mode": "lines",
         "name": "Zero Line - 6",
         "type": "scatter",
         "x": [
          "2018-10",
          "2018-11",
          "2018-12",
          "2019-01",
          "2019-02",
          "2019-03",
          "2019-04",
          "2019-05",
          "2019-06",
          "2019-07",
          "2019-08",
          "2019-09",
          "2019-10",
          "2019-11",
          "2019-12",
          "2020-01",
          "2020-02",
          "2020-03",
          "2020-04",
          "2020-05",
          "2020-06",
          "2020-07",
          "2020-08",
          "2020-09",
          "2020-10",
          "2020-11",
          "2020-12",
          "2021-01",
          "2021-02",
          "2021-03",
          "2021-04",
          "2021-05",
          "2021-06",
          "2021-07",
          "2021-08",
          "2021-09",
          "2021-10",
          "2021-11",
          "2021-12",
          "2022-01",
          "2022-02",
          "2022-03",
          "2022-04"
         ],
         "xaxis": "x5",
         "y": [
          0,
          0,
          0,
          0,
          0,
          0,
          0,
          0,
          0,
          0,
          0,
          0,
          0,
          0,
          0,
          0,
          0,
          0,
          0,
          0,
          0,
          0,
          0,
          0,
          0,
          0,
          0,
          0,
          0,
          0,
          0,
          0,
          0,
          0,
          0,
          0,
          0,
          0,
          0,
          0,
          0,
          0,
          0
         ],
         "yaxis": "y5"
        },
        {
         "line": {
          "color": "blue"
         },
         "mode": "lines",
         "name": "Sales Difference - 8",
         "type": "scatter",
         "x": [
          "2018-10",
          "2018-11",
          "2018-12",
          "2019-01",
          "2019-02",
          "2019-03",
          "2019-04",
          "2019-05",
          "2019-06",
          "2019-07",
          "2019-08",
          "2019-09",
          "2019-10",
          "2019-11",
          "2019-12",
          "2020-01",
          "2020-02",
          "2020-03",
          "2020-04",
          "2020-05",
          "2020-06",
          "2020-07",
          "2020-08",
          "2020-09",
          "2020-10",
          "2020-11",
          "2020-12",
          "2021-01",
          "2021-02",
          "2021-03",
          "2021-04",
          "2021-05",
          "2021-06",
          "2021-07",
          "2021-08",
          "2021-09",
          "2021-10",
          "2021-11",
          "2021-12",
          "2022-01",
          "2022-02",
          "2022-03",
          "2022-04"
         ],
         "xaxis": "x6",
         "y": [
          586052.74,
          526292.77,
          271490.71,
          381400.15,
          368475.57,
          591288.36,
          418899.9,
          298806.83999999997,
          420707.73,
          366980.26,
          397537.2,
          1084685.92,
          111791.34,
          542923.42,
          491332.72000000003,
          323769.2,
          326973.93999999994,
          845857.76,
          302765.68,
          712746.38,
          599831.93,
          583157.61,
          916909.7599999999,
          1337657.62,
          153873.52,
          904436.89,
          1061969.46,
          305820.25999999995,
          1615468.03,
          899610.15,
          1070486.79,
          813607.01,
          1091239.79,
          1207554.52,
          1093379.99,
          2036355.01,
          356322.55,
          1140720.52,
          2655036.7800000003,
          1208090.29,
          1239171.41,
          1873520.38,
          1336220.96
         ],
         "yaxis": "y6"
        },
        {
         "line": {
          "color": "black",
          "dash": "dash"
         },
         "mode": "lines",
         "name": "Zero Line - 8",
         "type": "scatter",
         "x": [
          "2018-10",
          "2018-11",
          "2018-12",
          "2019-01",
          "2019-02",
          "2019-03",
          "2019-04",
          "2019-05",
          "2019-06",
          "2019-07",
          "2019-08",
          "2019-09",
          "2019-10",
          "2019-11",
          "2019-12",
          "2020-01",
          "2020-02",
          "2020-03",
          "2020-04",
          "2020-05",
          "2020-06",
          "2020-07",
          "2020-08",
          "2020-09",
          "2020-10",
          "2020-11",
          "2020-12",
          "2021-01",
          "2021-02",
          "2021-03",
          "2021-04",
          "2021-05",
          "2021-06",
          "2021-07",
          "2021-08",
          "2021-09",
          "2021-10",
          "2021-11",
          "2021-12",
          "2022-01",
          "2022-02",
          "2022-03",
          "2022-04"
         ],
         "xaxis": "x6",
         "y": [
          0,
          0,
          0,
          0,
          0,
          0,
          0,
          0,
          0,
          0,
          0,
          0,
          0,
          0,
          0,
          0,
          0,
          0,
          0,
          0,
          0,
          0,
          0,
          0,
          0,
          0,
          0,
          0,
          0,
          0,
          0,
          0,
          0,
          0,
          0,
          0,
          0,
          0,
          0,
          0,
          0,
          0,
          0
         ],
         "yaxis": "y6"
        },
        {
         "line": {
          "color": "blue"
         },
         "mode": "lines",
         "name": "Sales Difference - 9",
         "type": "scatter",
         "x": [
          "2018-10",
          "2018-11",
          "2019-01",
          "2019-02",
          "2019-03",
          "2019-04",
          "2019-05",
          "2019-06",
          "2019-07",
          "2019-08",
          "2019-09",
          "2019-10",
          "2019-11",
          "2019-12",
          "2020-01",
          "2020-02",
          "2020-03",
          "2020-04",
          "2020-05",
          "2020-06",
          "2020-07",
          "2020-08",
          "2020-09",
          "2020-10",
          "2020-11",
          "2020-12",
          "2021-01",
          "2021-02",
          "2021-03",
          "2021-04",
          "2021-05",
          "2021-06",
          "2021-07",
          "2021-08",
          "2021-09",
          "2021-10",
          "2021-11",
          "2021-12",
          "2022-01",
          "2022-02",
          "2022-03",
          "2022-04"
         ],
         "xaxis": "x7",
         "y": [
          3219.32,
          1875.9,
          1487,
          3234.2799999999997,
          13050.61,
          9119.650000000001,
          4614.08,
          4488.09,
          1766.4,
          6371.5,
          13930.26,
          555,
          24181.8,
          7611.36,
          7647.5,
          425.1,
          2233,
          1476.85,
          3764.12,
          7555.45,
          943.3900000000001,
          9907.2,
          2893.35,
          39510.75,
          -4358.099999999999,
          8606.5,
          625.5,
          10022.4,
          28108.88,
          16713.96,
          8026,
          7240.84,
          11295.75,
          432,
          9259.2,
          937.04,
          14035.580000000002,
          14935.2,
          2064.7,
          901.5,
          4452.6,
          3285
         ],
         "yaxis": "y7"
        },
        {
         "line": {
          "color": "black",
          "dash": "dash"
         },
         "mode": "lines",
         "name": "Zero Line - 9",
         "type": "scatter",
         "x": [
          "2018-10",
          "2018-11",
          "2019-01",
          "2019-02",
          "2019-03",
          "2019-04",
          "2019-05",
          "2019-06",
          "2019-07",
          "2019-08",
          "2019-09",
          "2019-10",
          "2019-11",
          "2019-12",
          "2020-01",
          "2020-02",
          "2020-03",
          "2020-04",
          "2020-05",
          "2020-06",
          "2020-07",
          "2020-08",
          "2020-09",
          "2020-10",
          "2020-11",
          "2020-12",
          "2021-01",
          "2021-02",
          "2021-03",
          "2021-04",
          "2021-05",
          "2021-06",
          "2021-07",
          "2021-08",
          "2021-09",
          "2021-10",
          "2021-11",
          "2021-12",
          "2022-01",
          "2022-02",
          "2022-03",
          "2022-04"
         ],
         "xaxis": "x7",
         "y": [
          0,
          0,
          0,
          0,
          0,
          0,
          0,
          0,
          0,
          0,
          0,
          0,
          0,
          0,
          0,
          0,
          0,
          0,
          0,
          0,
          0,
          0,
          0,
          0,
          0,
          0,
          0,
          0,
          0,
          0,
          0,
          0,
          0,
          0,
          0,
          0,
          0,
          0,
          0,
          0,
          0,
          0
         ],
         "yaxis": "y7"
        },
        {
         "line": {
          "color": "blue"
         },
         "mode": "lines",
         "name": "Sales Difference - 11",
         "type": "scatter",
         "x": [
          "2018-10",
          "2018-11",
          "2018-12",
          "2019-01",
          "2019-02",
          "2019-03",
          "2019-04",
          "2019-05",
          "2019-06",
          "2019-07",
          "2019-08",
          "2019-09",
          "2019-10",
          "2019-11",
          "2019-12",
          "2020-01",
          "2020-02",
          "2020-03",
          "2020-04",
          "2020-05",
          "2020-06",
          "2020-07",
          "2020-08",
          "2020-09",
          "2020-10",
          "2020-11",
          "2020-12",
          "2021-01",
          "2021-02",
          "2021-03",
          "2021-04",
          "2021-05",
          "2021-06",
          "2021-07",
          "2021-08",
          "2021-09",
          "2021-10",
          "2021-11",
          "2021-12",
          "2022-01",
          "2022-02",
          "2022-03",
          "2022-04"
         ],
         "xaxis": "x8",
         "y": [
          1021303.5,
          1898844.8,
          1226122,
          2216391.74,
          610456.6,
          493999.81,
          1484281.6,
          1066063.9,
          492133.2,
          585648.14,
          2898779.87,
          3749980.46,
          218976.78,
          1194770.75,
          1278545.62,
          584370,
          1233609.73,
          2969948.65,
          813303.01,
          842526.1,
          2246948,
          2105975.71,
          1521580.0699999998,
          3891447.7600000002,
          973837.23,
          488891.95999999996,
          1096370.71,
          18200,
          1978335.55,
          1660211.1600000001,
          1206734.3399999999,
          1994228.4,
          991872.24,
          2253079.74,
          2715460.08,
          3795389.85,
          173771.79,
          1832753.73,
          2645689.71,
          1054580.98,
          964672.3200000001,
          2284958.4000000004,
          1126268.66
         ],
         "yaxis": "y8"
        },
        {
         "line": {
          "color": "black",
          "dash": "dash"
         },
         "mode": "lines",
         "name": "Zero Line - 11",
         "type": "scatter",
         "x": [
          "2018-10",
          "2018-11",
          "2018-12",
          "2019-01",
          "2019-02",
          "2019-03",
          "2019-04",
          "2019-05",
          "2019-06",
          "2019-07",
          "2019-08",
          "2019-09",
          "2019-10",
          "2019-11",
          "2019-12",
          "2020-01",
          "2020-02",
          "2020-03",
          "2020-04",
          "2020-05",
          "2020-06",
          "2020-07",
          "2020-08",
          "2020-09",
          "2020-10",
          "2020-11",
          "2020-12",
          "2021-01",
          "2021-02",
          "2021-03",
          "2021-04",
          "2021-05",
          "2021-06",
          "2021-07",
          "2021-08",
          "2021-09",
          "2021-10",
          "2021-11",
          "2021-12",
          "2022-01",
          "2022-02",
          "2022-03",
          "2022-04"
         ],
         "xaxis": "x8",
         "y": [
          0,
          0,
          0,
          0,
          0,
          0,
          0,
          0,
          0,
          0,
          0,
          0,
          0,
          0,
          0,
          0,
          0,
          0,
          0,
          0,
          0,
          0,
          0,
          0,
          0,
          0,
          0,
          0,
          0,
          0,
          0,
          0,
          0,
          0,
          0,
          0,
          0,
          0,
          0,
          0,
          0,
          0,
          0
         ],
         "yaxis": "y8"
        },
        {
         "line": {
          "color": "blue"
         },
         "mode": "lines",
         "name": "Sales Difference - 12",
         "type": "scatter",
         "x": [
          "2018-10",
          "2018-11",
          "2018-12",
          "2019-01",
          "2019-02",
          "2019-03",
          "2019-04",
          "2019-05",
          "2019-06",
          "2019-07",
          "2019-08",
          "2019-09",
          "2019-10",
          "2019-11",
          "2019-12",
          "2020-01",
          "2020-02",
          "2020-03",
          "2020-04",
          "2020-05",
          "2020-06",
          "2020-07",
          "2020-08",
          "2020-09",
          "2020-10",
          "2020-11",
          "2020-12",
          "2021-01",
          "2021-02",
          "2021-03",
          "2021-04",
          "2021-05",
          "2021-06",
          "2021-07",
          "2021-08",
          "2021-09",
          "2021-10",
          "2021-11",
          "2021-12",
          "2022-01",
          "2022-02",
          "2022-03",
          "2022-04"
         ],
         "xaxis": "x9",
         "y": [
          28686.33,
          1070,
          17880.6,
          21484,
          34214.74,
          10118,
          21813.27,
          24468,
          44255.68,
          21318.48,
          19217,
          292490.4,
          140819.69,
          320942.27999999997,
          349515.29,
          213315.32,
          324443.35,
          185833.89,
          79632,
          153949.24,
          172712.88,
          110275.2,
          164108.2,
          168634.8,
          5395,
          445648.06000000006,
          271024.19,
          92754.01,
          287890.61,
          282688.33999999997,
          385267.16000000003,
          379881.93,
          326883.32,
          363685.44,
          143436.63,
          423432.68,
          217388.43,
          428753.94000000006,
          322647.82,
          147680.18,
          312165.51999999996,
          343523.42,
          178141
         ],
         "yaxis": "y9"
        },
        {
         "line": {
          "color": "black",
          "dash": "dash"
         },
         "mode": "lines",
         "name": "Zero Line - 12",
         "type": "scatter",
         "x": [
          "2018-10",
          "2018-11",
          "2018-12",
          "2019-01",
          "2019-02",
          "2019-03",
          "2019-04",
          "2019-05",
          "2019-06",
          "2019-07",
          "2019-08",
          "2019-09",
          "2019-10",
          "2019-11",
          "2019-12",
          "2020-01",
          "2020-02",
          "2020-03",
          "2020-04",
          "2020-05",
          "2020-06",
          "2020-07",
          "2020-08",
          "2020-09",
          "2020-10",
          "2020-11",
          "2020-12",
          "2021-01",
          "2021-02",
          "2021-03",
          "2021-04",
          "2021-05",
          "2021-06",
          "2021-07",
          "2021-08",
          "2021-09",
          "2021-10",
          "2021-11",
          "2021-12",
          "2022-01",
          "2022-02",
          "2022-03",
          "2022-04"
         ],
         "xaxis": "x9",
         "y": [
          0,
          0,
          0,
          0,
          0,
          0,
          0,
          0,
          0,
          0,
          0,
          0,
          0,
          0,
          0,
          0,
          0,
          0,
          0,
          0,
          0,
          0,
          0,
          0,
          0,
          0,
          0,
          0,
          0,
          0,
          0,
          0,
          0,
          0,
          0,
          0,
          0,
          0,
          0,
          0,
          0,
          0,
          0
         ],
         "yaxis": "y9"
        },
        {
         "line": {
          "color": "blue"
         },
         "mode": "lines",
         "name": "Sales Difference - 13",
         "type": "scatter",
         "x": [
          "2018-10",
          "2018-11",
          "2018-12",
          "2019-01",
          "2019-02",
          "2019-03",
          "2019-04",
          "2019-05",
          "2019-06",
          "2019-07",
          "2019-08",
          "2019-09",
          "2019-10",
          "2019-11",
          "2019-12",
          "2020-01",
          "2020-02",
          "2020-03",
          "2020-04",
          "2020-05",
          "2020-06",
          "2020-07",
          "2020-08",
          "2020-09",
          "2020-10",
          "2020-11",
          "2020-12",
          "2021-01",
          "2021-02",
          "2021-03",
          "2021-04",
          "2021-05",
          "2021-06",
          "2021-07",
          "2021-08",
          "2021-09",
          "2021-10",
          "2021-11",
          "2021-12",
          "2022-01",
          "2022-02",
          "2022-03",
          "2022-04"
         ],
         "xaxis": "x10",
         "y": [
          27666.1,
          68180,
          15655.18,
          27198.29,
          32638.63,
          11890,
          7488.54,
          2550.31,
          34849.21,
          43008.350000000006,
          22497.6,
          19601.050000000003,
          65754.55,
          43190.76,
          26729.760000000002,
          19519.59,
          13747.169999999998,
          23513.59,
          30716.11,
          3762.8199999999997,
          9612.8,
          6745.2,
          25689.64,
          15314.86,
          9524.88,
          20663.64,
          31216.71,
          10118.36,
          16729.8,
          63092.75,
          38125.2,
          4130,
          6015.04,
          8419.83,
          10814.57,
          28682.589999999997,
          30506.15,
          8136.92,
          24868.86,
          37972.81,
          33449.25,
          12149.4,
          17020.04
         ],
         "yaxis": "y10"
        },
        {
         "line": {
          "color": "black",
          "dash": "dash"
         },
         "mode": "lines",
         "name": "Zero Line - 13",
         "type": "scatter",
         "x": [
          "2018-10",
          "2018-11",
          "2018-12",
          "2019-01",
          "2019-02",
          "2019-03",
          "2019-04",
          "2019-05",
          "2019-06",
          "2019-07",
          "2019-08",
          "2019-09",
          "2019-10",
          "2019-11",
          "2019-12",
          "2020-01",
          "2020-02",
          "2020-03",
          "2020-04",
          "2020-05",
          "2020-06",
          "2020-07",
          "2020-08",
          "2020-09",
          "2020-10",
          "2020-11",
          "2020-12",
          "2021-01",
          "2021-02",
          "2021-03",
          "2021-04",
          "2021-05",
          "2021-06",
          "2021-07",
          "2021-08",
          "2021-09",
          "2021-10",
          "2021-11",
          "2021-12",
          "2022-01",
          "2022-02",
          "2022-03",
          "2022-04"
         ],
         "xaxis": "x10",
         "y": [
          0,
          0,
          0,
          0,
          0,
          0,
          0,
          0,
          0,
          0,
          0,
          0,
          0,
          0,
          0,
          0,
          0,
          0,
          0,
          0,
          0,
          0,
          0,
          0,
          0,
          0,
          0,
          0,
          0,
          0,
          0,
          0,
          0,
          0,
          0,
          0,
          0,
          0,
          0,
          0,
          0,
          0,
          0
         ],
         "yaxis": "y10"
        },
        {
         "line": {
          "color": "blue"
         },
         "mode": "lines",
         "name": "Sales Difference - 14",
         "type": "scatter",
         "x": [
          "2018-10",
          "2018-11",
          "2019-01",
          "2019-02",
          "2019-03",
          "2019-05",
          "2019-06",
          "2019-07",
          "2019-08",
          "2019-09",
          "2019-10",
          "2019-11",
          "2020-01",
          "2020-02",
          "2020-03",
          "2020-05",
          "2020-06",
          "2020-07",
          "2020-08",
          "2020-09",
          "2020-10",
          "2020-11",
          "2020-12",
          "2021-01",
          "2021-02",
          "2021-03",
          "2021-04",
          "2021-05",
          "2021-06",
          "2021-07",
          "2021-09",
          "2021-10",
          "2021-11",
          "2021-12",
          "2022-01",
          "2022-02",
          "2022-03",
          "2022-04"
         ],
         "xaxis": "x11",
         "y": [
          5770,
          17130,
          1686.4,
          19196.3,
          7535.25,
          17771.4,
          63017.71,
          20719.3,
          1602,
          12851.2,
          1378.5500000000002,
          2571.3,
          2955.22,
          10900,
          10325.15,
          32670,
          8756.45,
          14793,
          6919.4,
          2219.8,
          13799,
          1750,
          11772.45,
          3028,
          2966.82,
          15818.779999999999,
          5629,
          2183.85,
          8266.9,
          76161.44,
          -561.25,
          16534.2,
          5951.849999999999,
          17427.6,
          2820,
          4410,
          46100.24,
          1846.2
         ],
         "yaxis": "y11"
        },
        {
         "line": {
          "color": "black",
          "dash": "dash"
         },
         "mode": "lines",
         "name": "Zero Line - 14",
         "type": "scatter",
         "x": [
          "2018-10",
          "2018-11",
          "2019-01",
          "2019-02",
          "2019-03",
          "2019-05",
          "2019-06",
          "2019-07",
          "2019-08",
          "2019-09",
          "2019-10",
          "2019-11",
          "2020-01",
          "2020-02",
          "2020-03",
          "2020-05",
          "2020-06",
          "2020-07",
          "2020-08",
          "2020-09",
          "2020-10",
          "2020-11",
          "2020-12",
          "2021-01",
          "2021-02",
          "2021-03",
          "2021-04",
          "2021-05",
          "2021-06",
          "2021-07",
          "2021-09",
          "2021-10",
          "2021-11",
          "2021-12",
          "2022-01",
          "2022-02",
          "2022-03",
          "2022-04"
         ],
         "xaxis": "x11",
         "y": [
          0,
          0,
          0,
          0,
          0,
          0,
          0,
          0,
          0,
          0,
          0,
          0,
          0,
          0,
          0,
          0,
          0,
          0,
          0,
          0,
          0,
          0,
          0,
          0,
          0,
          0,
          0,
          0,
          0,
          0,
          0,
          0,
          0,
          0,
          0,
          0,
          0,
          0
         ],
         "yaxis": "y11"
        },
        {
         "line": {
          "color": "blue"
         },
         "mode": "lines",
         "name": "Sales Difference - 16",
         "type": "scatter",
         "x": [
          "2018-10",
          "2018-11",
          "2018-12",
          "2019-01",
          "2019-02",
          "2019-03",
          "2019-04",
          "2019-05",
          "2019-06",
          "2019-07",
          "2019-08",
          "2019-09",
          "2019-10",
          "2019-11",
          "2019-12",
          "2020-01",
          "2020-02",
          "2020-03",
          "2020-04",
          "2020-05",
          "2020-06",
          "2020-07",
          "2020-08",
          "2020-09",
          "2020-10",
          "2020-11",
          "2020-12",
          "2021-01",
          "2021-02",
          "2021-03",
          "2021-04",
          "2021-05",
          "2021-06",
          "2021-07",
          "2021-08",
          "2021-09",
          "2021-10",
          "2021-11",
          "2021-12",
          "2022-01",
          "2022-02",
          "2022-03",
          "2022-04"
         ],
         "xaxis": "x12",
         "y": [
          333196.87,
          1377694.32,
          4762524.66,
          942957.19,
          257765.04,
          2258352.2199999997,
          224501.9,
          353451.54,
          367425.38,
          266225.86,
          725678.3299999998,
          752884.16,
          285644.67,
          291844.03,
          66419.16000000003,
          384800.46,
          82821.54000000001,
          160397.35,
          70530.7,
          195141.7,
          269150.4,
          409170.11,
          153289.44,
          209186.6,
          145276.08000000002,
          160941.78,
          260089.25,
          40360.08,
          117004.3,
          309564.27,
          125710.70999999999,
          218701.06,
          186607.11000000002,
          103935.84,
          323548.03,
          186586.24,
          141037.06,
          230129.08000000002,
          271111.39,
          91021.89,
          45696.76,
          98729.91,
          134071.24
         ],
         "yaxis": "y12"
        },
        {
         "line": {
          "color": "black",
          "dash": "dash"
         },
         "mode": "lines",
         "name": "Zero Line - 16",
         "type": "scatter",
         "x": [
          "2018-10",
          "2018-11",
          "2018-12",
          "2019-01",
          "2019-02",
          "2019-03",
          "2019-04",
          "2019-05",
          "2019-06",
          "2019-07",
          "2019-08",
          "2019-09",
          "2019-10",
          "2019-11",
          "2019-12",
          "2020-01",
          "2020-02",
          "2020-03",
          "2020-04",
          "2020-05",
          "2020-06",
          "2020-07",
          "2020-08",
          "2020-09",
          "2020-10",
          "2020-11",
          "2020-12",
          "2021-01",
          "2021-02",
          "2021-03",
          "2021-04",
          "2021-05",
          "2021-06",
          "2021-07",
          "2021-08",
          "2021-09",
          "2021-10",
          "2021-11",
          "2021-12",
          "2022-01",
          "2022-02",
          "2022-03",
          "2022-04"
         ],
         "xaxis": "x12",
         "y": [
          0,
          0,
          0,
          0,
          0,
          0,
          0,
          0,
          0,
          0,
          0,
          0,
          0,
          0,
          0,
          0,
          0,
          0,
          0,
          0,
          0,
          0,
          0,
          0,
          0,
          0,
          0,
          0,
          0,
          0,
          0,
          0,
          0,
          0,
          0,
          0,
          0,
          0,
          0,
          0,
          0,
          0,
          0
         ],
         "yaxis": "y12"
        },
        {
         "line": {
          "color": "blue"
         },
         "mode": "lines",
         "name": "Sales Difference - 20",
         "type": "scatter",
         "x": [
          "2018-10",
          "2018-11",
          "2018-12",
          "2019-01",
          "2019-02",
          "2019-03",
          "2019-04",
          "2019-05",
          "2019-06",
          "2019-07",
          "2019-08",
          "2019-09",
          "2019-10",
          "2019-11",
          "2020-01",
          "2020-03",
          "2020-04",
          "2020-05",
          "2020-06",
          "2020-07",
          "2020-08",
          "2020-09",
          "2020-10",
          "2020-11",
          "2020-12",
          "2021-02",
          "2021-03",
          "2021-04",
          "2021-05",
          "2021-06",
          "2021-07",
          "2021-08",
          "2021-10",
          "2021-11",
          "2021-12",
          "2022-02",
          "2022-03",
          "2022-04"
         ],
         "xaxis": "x13",
         "y": [
          4563.14,
          5798.139999999999,
          918.65,
          2398.04,
          620.66,
          3369.55,
          3619.63,
          938.9,
          772.94,
          577.6,
          284.4,
          664.57,
          1566,
          149,
          274.90999999999997,
          555,
          224,
          390,
          983.1,
          826.98,
          2688,
          2047.7,
          7355.75,
          2979.54,
          8485.6,
          1387,
          1076.6,
          8414,
          419.21,
          1766.6,
          842.9300000000001,
          377.22,
          151.49,
          928.8,
          156,
          589.5,
          2885.08,
          6280.629999999999
         ],
         "yaxis": "y13"
        },
        {
         "line": {
          "color": "black",
          "dash": "dash"
         },
         "mode": "lines",
         "name": "Zero Line - 20",
         "type": "scatter",
         "x": [
          "2018-10",
          "2018-11",
          "2018-12",
          "2019-01",
          "2019-02",
          "2019-03",
          "2019-04",
          "2019-05",
          "2019-06",
          "2019-07",
          "2019-08",
          "2019-09",
          "2019-10",
          "2019-11",
          "2020-01",
          "2020-03",
          "2020-04",
          "2020-05",
          "2020-06",
          "2020-07",
          "2020-08",
          "2020-09",
          "2020-10",
          "2020-11",
          "2020-12",
          "2021-02",
          "2021-03",
          "2021-04",
          "2021-05",
          "2021-06",
          "2021-07",
          "2021-08",
          "2021-10",
          "2021-11",
          "2021-12",
          "2022-02",
          "2022-03",
          "2022-04"
         ],
         "xaxis": "x13",
         "y": [
          0,
          0,
          0,
          0,
          0,
          0,
          0,
          0,
          0,
          0,
          0,
          0,
          0,
          0,
          0,
          0,
          0,
          0,
          0,
          0,
          0,
          0,
          0,
          0,
          0,
          0,
          0,
          0,
          0,
          0,
          0,
          0,
          0,
          0,
          0,
          0,
          0,
          0
         ],
         "yaxis": "y13"
        },
        {
         "line": {
          "color": "blue"
         },
         "mode": "lines",
         "name": "Sales Difference - 36",
         "type": "scatter",
         "x": [
          "2018-10",
          "2018-11",
          "2018-12",
          "2019-01",
          "2019-02",
          "2019-03",
          "2019-04",
          "2019-05",
          "2019-06",
          "2019-07",
          "2019-08",
          "2019-09",
          "2019-10",
          "2019-11",
          "2019-12",
          "2020-01",
          "2020-02",
          "2020-03",
          "2020-04",
          "2020-05",
          "2020-06",
          "2020-07",
          "2020-08",
          "2020-09",
          "2020-10",
          "2020-11",
          "2020-12",
          "2021-01",
          "2021-02",
          "2021-03",
          "2021-04",
          "2021-05",
          "2021-06",
          "2021-07",
          "2021-08",
          "2021-09",
          "2021-10",
          "2021-11",
          "2021-12",
          "2022-01",
          "2022-02",
          "2022-03",
          "2022-04"
         ],
         "xaxis": "x14",
         "y": [
          6474.6,
          21617.61,
          13924.52,
          15444.39,
          8051.15,
          7373.419999999999,
          4280.25,
          16905.32,
          15516.22,
          33334.41,
          1306,
          16582.55,
          1556.5,
          14921.72,
          5906.37,
          11840.670000000002,
          11813.4,
          28300.82,
          27121.6,
          9649.300000000001,
          146778.15,
          3849.6,
          12377.77,
          44867.100000000006,
          22372.49,
          4126.99,
          12105.42,
          3950.1,
          10454.4,
          11436,
          253519.03999999998,
          12775.490000000002,
          24733.07,
          17159.27,
          9233.4,
          26729.61,
          674,
          5139.4800000000005,
          48933.5,
          6014.39,
          29869.5,
          2564.85,
          17029.47
         ],
         "yaxis": "y14"
        },
        {
         "line": {
          "color": "black",
          "dash": "dash"
         },
         "mode": "lines",
         "name": "Zero Line - 36",
         "type": "scatter",
         "x": [
          "2018-10",
          "2018-11",
          "2018-12",
          "2019-01",
          "2019-02",
          "2019-03",
          "2019-04",
          "2019-05",
          "2019-06",
          "2019-07",
          "2019-08",
          "2019-09",
          "2019-10",
          "2019-11",
          "2019-12",
          "2020-01",
          "2020-02",
          "2020-03",
          "2020-04",
          "2020-05",
          "2020-06",
          "2020-07",
          "2020-08",
          "2020-09",
          "2020-10",
          "2020-11",
          "2020-12",
          "2021-01",
          "2021-02",
          "2021-03",
          "2021-04",
          "2021-05",
          "2021-06",
          "2021-07",
          "2021-08",
          "2021-09",
          "2021-10",
          "2021-11",
          "2021-12",
          "2022-01",
          "2022-02",
          "2022-03",
          "2022-04"
         ],
         "xaxis": "x14",
         "y": [
          0,
          0,
          0,
          0,
          0,
          0,
          0,
          0,
          0,
          0,
          0,
          0,
          0,
          0,
          0,
          0,
          0,
          0,
          0,
          0,
          0,
          0,
          0,
          0,
          0,
          0,
          0,
          0,
          0,
          0,
          0,
          0,
          0,
          0,
          0,
          0,
          0,
          0,
          0,
          0,
          0,
          0,
          0
         ],
         "yaxis": "y14"
        }
       ],
       "layout": {
        "annotations": [
         {
          "font": {
           "size": 16
          },
          "showarrow": false,
          "text": "Product 1",
          "x": 0.029081632653061223,
          "xanchor": "center",
          "xref": "paper",
          "y": 1,
          "yanchor": "bottom",
          "yref": "paper"
         },
         {
          "font": {
           "size": 16
          },
          "showarrow": false,
          "text": "Product 3",
          "x": 0.10153061224489796,
          "xanchor": "center",
          "xref": "paper",
          "y": 1,
          "yanchor": "bottom",
          "yref": "paper"
         },
         {
          "font": {
           "size": 16
          },
          "showarrow": false,
          "text": "Product 4",
          "x": 0.17397959183673467,
          "xanchor": "center",
          "xref": "paper",
          "y": 1,
          "yanchor": "bottom",
          "yref": "paper"
         },
         {
          "font": {
           "size": 16
          },
          "showarrow": false,
          "text": "Product 5",
          "x": 0.2464285714285714,
          "xanchor": "center",
          "xref": "paper",
          "y": 1,
          "yanchor": "bottom",
          "yref": "paper"
         },
         {
          "font": {
           "size": 16
          },
          "showarrow": false,
          "text": "Product 6",
          "x": 0.31887755102040816,
          "xanchor": "center",
          "xref": "paper",
          "y": 1,
          "yanchor": "bottom",
          "yref": "paper"
         },
         {
          "font": {
           "size": 16
          },
          "showarrow": false,
          "text": "Product 8",
          "x": 0.39132653061224487,
          "xanchor": "center",
          "xref": "paper",
          "y": 1,
          "yanchor": "bottom",
          "yref": "paper"
         },
         {
          "font": {
           "size": 16
          },
          "showarrow": false,
          "text": "Product 9",
          "x": 0.4637755102040816,
          "xanchor": "center",
          "xref": "paper",
          "y": 1,
          "yanchor": "bottom",
          "yref": "paper"
         },
         {
          "font": {
           "size": 16
          },
          "showarrow": false,
          "text": "Product 11",
          "x": 0.5362244897959183,
          "xanchor": "center",
          "xref": "paper",
          "y": 1,
          "yanchor": "bottom",
          "yref": "paper"
         },
         {
          "font": {
           "size": 16
          },
          "showarrow": false,
          "text": "Product 12",
          "x": 0.6086734693877551,
          "xanchor": "center",
          "xref": "paper",
          "y": 1,
          "yanchor": "bottom",
          "yref": "paper"
         },
         {
          "font": {
           "size": 16
          },
          "showarrow": false,
          "text": "Product 13",
          "x": 0.6811224489795917,
          "xanchor": "center",
          "xref": "paper",
          "y": 1,
          "yanchor": "bottom",
          "yref": "paper"
         },
         {
          "font": {
           "size": 16
          },
          "showarrow": false,
          "text": "Product 14",
          "x": 0.7535714285714286,
          "xanchor": "center",
          "xref": "paper",
          "y": 1,
          "yanchor": "bottom",
          "yref": "paper"
         },
         {
          "font": {
           "size": 16
          },
          "showarrow": false,
          "text": "Product 16",
          "x": 0.8260204081632654,
          "xanchor": "center",
          "xref": "paper",
          "y": 1,
          "yanchor": "bottom",
          "yref": "paper"
         },
         {
          "font": {
           "size": 16
          },
          "showarrow": false,
          "text": "Product 20",
          "x": 0.898469387755102,
          "xanchor": "center",
          "xref": "paper",
          "y": 1,
          "yanchor": "bottom",
          "yref": "paper"
         },
         {
          "font": {
           "size": 16
          },
          "showarrow": false,
          "text": "Product 36",
          "x": 0.9709183673469388,
          "xanchor": "center",
          "xref": "paper",
          "y": 1,
          "yanchor": "bottom",
          "yref": "paper"
         }
        ],
        "height": 500,
        "showlegend": true,
        "template": {
         "data": {
          "bar": [
           {
            "error_x": {
             "color": "#2a3f5f"
            },
            "error_y": {
             "color": "#2a3f5f"
            },
            "marker": {
             "line": {
              "color": "#E5ECF6",
              "width": 0.5
             },
             "pattern": {
              "fillmode": "overlay",
              "size": 10,
              "solidity": 0.2
             }
            },
            "type": "bar"
           }
          ],
          "barpolar": [
           {
            "marker": {
             "line": {
              "color": "#E5ECF6",
              "width": 0.5
             },
             "pattern": {
              "fillmode": "overlay",
              "size": 10,
              "solidity": 0.2
             }
            },
            "type": "barpolar"
           }
          ],
          "carpet": [
           {
            "aaxis": {
             "endlinecolor": "#2a3f5f",
             "gridcolor": "white",
             "linecolor": "white",
             "minorgridcolor": "white",
             "startlinecolor": "#2a3f5f"
            },
            "baxis": {
             "endlinecolor": "#2a3f5f",
             "gridcolor": "white",
             "linecolor": "white",
             "minorgridcolor": "white",
             "startlinecolor": "#2a3f5f"
            },
            "type": "carpet"
           }
          ],
          "choropleth": [
           {
            "colorbar": {
             "outlinewidth": 0,
             "ticks": ""
            },
            "type": "choropleth"
           }
          ],
          "contour": [
           {
            "colorbar": {
             "outlinewidth": 0,
             "ticks": ""
            },
            "colorscale": [
             [
              0,
              "#0d0887"
             ],
             [
              0.1111111111111111,
              "#46039f"
             ],
             [
              0.2222222222222222,
              "#7201a8"
             ],
             [
              0.3333333333333333,
              "#9c179e"
             ],
             [
              0.4444444444444444,
              "#bd3786"
             ],
             [
              0.5555555555555556,
              "#d8576b"
             ],
             [
              0.6666666666666666,
              "#ed7953"
             ],
             [
              0.7777777777777778,
              "#fb9f3a"
             ],
             [
              0.8888888888888888,
              "#fdca26"
             ],
             [
              1,
              "#f0f921"
             ]
            ],
            "type": "contour"
           }
          ],
          "contourcarpet": [
           {
            "colorbar": {
             "outlinewidth": 0,
             "ticks": ""
            },
            "type": "contourcarpet"
           }
          ],
          "heatmap": [
           {
            "colorbar": {
             "outlinewidth": 0,
             "ticks": ""
            },
            "colorscale": [
             [
              0,
              "#0d0887"
             ],
             [
              0.1111111111111111,
              "#46039f"
             ],
             [
              0.2222222222222222,
              "#7201a8"
             ],
             [
              0.3333333333333333,
              "#9c179e"
             ],
             [
              0.4444444444444444,
              "#bd3786"
             ],
             [
              0.5555555555555556,
              "#d8576b"
             ],
             [
              0.6666666666666666,
              "#ed7953"
             ],
             [
              0.7777777777777778,
              "#fb9f3a"
             ],
             [
              0.8888888888888888,
              "#fdca26"
             ],
             [
              1,
              "#f0f921"
             ]
            ],
            "type": "heatmap"
           }
          ],
          "heatmapgl": [
           {
            "colorbar": {
             "outlinewidth": 0,
             "ticks": ""
            },
            "colorscale": [
             [
              0,
              "#0d0887"
             ],
             [
              0.1111111111111111,
              "#46039f"
             ],
             [
              0.2222222222222222,
              "#7201a8"
             ],
             [
              0.3333333333333333,
              "#9c179e"
             ],
             [
              0.4444444444444444,
              "#bd3786"
             ],
             [
              0.5555555555555556,
              "#d8576b"
             ],
             [
              0.6666666666666666,
              "#ed7953"
             ],
             [
              0.7777777777777778,
              "#fb9f3a"
             ],
             [
              0.8888888888888888,
              "#fdca26"
             ],
             [
              1,
              "#f0f921"
             ]
            ],
            "type": "heatmapgl"
           }
          ],
          "histogram": [
           {
            "marker": {
             "pattern": {
              "fillmode": "overlay",
              "size": 10,
              "solidity": 0.2
             }
            },
            "type": "histogram"
           }
          ],
          "histogram2d": [
           {
            "colorbar": {
             "outlinewidth": 0,
             "ticks": ""
            },
            "colorscale": [
             [
              0,
              "#0d0887"
             ],
             [
              0.1111111111111111,
              "#46039f"
             ],
             [
              0.2222222222222222,
              "#7201a8"
             ],
             [
              0.3333333333333333,
              "#9c179e"
             ],
             [
              0.4444444444444444,
              "#bd3786"
             ],
             [
              0.5555555555555556,
              "#d8576b"
             ],
             [
              0.6666666666666666,
              "#ed7953"
             ],
             [
              0.7777777777777778,
              "#fb9f3a"
             ],
             [
              0.8888888888888888,
              "#fdca26"
             ],
             [
              1,
              "#f0f921"
             ]
            ],
            "type": "histogram2d"
           }
          ],
          "histogram2dcontour": [
           {
            "colorbar": {
             "outlinewidth": 0,
             "ticks": ""
            },
            "colorscale": [
             [
              0,
              "#0d0887"
             ],
             [
              0.1111111111111111,
              "#46039f"
             ],
             [
              0.2222222222222222,
              "#7201a8"
             ],
             [
              0.3333333333333333,
              "#9c179e"
             ],
             [
              0.4444444444444444,
              "#bd3786"
             ],
             [
              0.5555555555555556,
              "#d8576b"
             ],
             [
              0.6666666666666666,
              "#ed7953"
             ],
             [
              0.7777777777777778,
              "#fb9f3a"
             ],
             [
              0.8888888888888888,
              "#fdca26"
             ],
             [
              1,
              "#f0f921"
             ]
            ],
            "type": "histogram2dcontour"
           }
          ],
          "mesh3d": [
           {
            "colorbar": {
             "outlinewidth": 0,
             "ticks": ""
            },
            "type": "mesh3d"
           }
          ],
          "parcoords": [
           {
            "line": {
             "colorbar": {
              "outlinewidth": 0,
              "ticks": ""
             }
            },
            "type": "parcoords"
           }
          ],
          "pie": [
           {
            "automargin": true,
            "type": "pie"
           }
          ],
          "scatter": [
           {
            "fillpattern": {
             "fillmode": "overlay",
             "size": 10,
             "solidity": 0.2
            },
            "type": "scatter"
           }
          ],
          "scatter3d": [
           {
            "line": {
             "colorbar": {
              "outlinewidth": 0,
              "ticks": ""
             }
            },
            "marker": {
             "colorbar": {
              "outlinewidth": 0,
              "ticks": ""
             }
            },
            "type": "scatter3d"
           }
          ],
          "scattercarpet": [
           {
            "marker": {
             "colorbar": {
              "outlinewidth": 0,
              "ticks": ""
             }
            },
            "type": "scattercarpet"
           }
          ],
          "scattergeo": [
           {
            "marker": {
             "colorbar": {
              "outlinewidth": 0,
              "ticks": ""
             }
            },
            "type": "scattergeo"
           }
          ],
          "scattergl": [
           {
            "marker": {
             "colorbar": {
              "outlinewidth": 0,
              "ticks": ""
             }
            },
            "type": "scattergl"
           }
          ],
          "scattermapbox": [
           {
            "marker": {
             "colorbar": {
              "outlinewidth": 0,
              "ticks": ""
             }
            },
            "type": "scattermapbox"
           }
          ],
          "scatterpolar": [
           {
            "marker": {
             "colorbar": {
              "outlinewidth": 0,
              "ticks": ""
             }
            },
            "type": "scatterpolar"
           }
          ],
          "scatterpolargl": [
           {
            "marker": {
             "colorbar": {
              "outlinewidth": 0,
              "ticks": ""
             }
            },
            "type": "scatterpolargl"
           }
          ],
          "scatterternary": [
           {
            "marker": {
             "colorbar": {
              "outlinewidth": 0,
              "ticks": ""
             }
            },
            "type": "scatterternary"
           }
          ],
          "surface": [
           {
            "colorbar": {
             "outlinewidth": 0,
             "ticks": ""
            },
            "colorscale": [
             [
              0,
              "#0d0887"
             ],
             [
              0.1111111111111111,
              "#46039f"
             ],
             [
              0.2222222222222222,
              "#7201a8"
             ],
             [
              0.3333333333333333,
              "#9c179e"
             ],
             [
              0.4444444444444444,
              "#bd3786"
             ],
             [
              0.5555555555555556,
              "#d8576b"
             ],
             [
              0.6666666666666666,
              "#ed7953"
             ],
             [
              0.7777777777777778,
              "#fb9f3a"
             ],
             [
              0.8888888888888888,
              "#fdca26"
             ],
             [
              1,
              "#f0f921"
             ]
            ],
            "type": "surface"
           }
          ],
          "table": [
           {
            "cells": {
             "fill": {
              "color": "#EBF0F8"
             },
             "line": {
              "color": "white"
             }
            },
            "header": {
             "fill": {
              "color": "#C8D4E3"
             },
             "line": {
              "color": "white"
             }
            },
            "type": "table"
           }
          ]
         },
         "layout": {
          "annotationdefaults": {
           "arrowcolor": "#2a3f5f",
           "arrowhead": 0,
           "arrowwidth": 1
          },
          "autotypenumbers": "strict",
          "coloraxis": {
           "colorbar": {
            "outlinewidth": 0,
            "ticks": ""
           }
          },
          "colorscale": {
           "diverging": [
            [
             0,
             "#8e0152"
            ],
            [
             0.1,
             "#c51b7d"
            ],
            [
             0.2,
             "#de77ae"
            ],
            [
             0.3,
             "#f1b6da"
            ],
            [
             0.4,
             "#fde0ef"
            ],
            [
             0.5,
             "#f7f7f7"
            ],
            [
             0.6,
             "#e6f5d0"
            ],
            [
             0.7,
             "#b8e186"
            ],
            [
             0.8,
             "#7fbc41"
            ],
            [
             0.9,
             "#4d9221"
            ],
            [
             1,
             "#276419"
            ]
           ],
           "sequential": [
            [
             0,
             "#0d0887"
            ],
            [
             0.1111111111111111,
             "#46039f"
            ],
            [
             0.2222222222222222,
             "#7201a8"
            ],
            [
             0.3333333333333333,
             "#9c179e"
            ],
            [
             0.4444444444444444,
             "#bd3786"
            ],
            [
             0.5555555555555556,
             "#d8576b"
            ],
            [
             0.6666666666666666,
             "#ed7953"
            ],
            [
             0.7777777777777778,
             "#fb9f3a"
            ],
            [
             0.8888888888888888,
             "#fdca26"
            ],
            [
             1,
             "#f0f921"
            ]
           ],
           "sequentialminus": [
            [
             0,
             "#0d0887"
            ],
            [
             0.1111111111111111,
             "#46039f"
            ],
            [
             0.2222222222222222,
             "#7201a8"
            ],
            [
             0.3333333333333333,
             "#9c179e"
            ],
            [
             0.4444444444444444,
             "#bd3786"
            ],
            [
             0.5555555555555556,
             "#d8576b"
            ],
            [
             0.6666666666666666,
             "#ed7953"
            ],
            [
             0.7777777777777778,
             "#fb9f3a"
            ],
            [
             0.8888888888888888,
             "#fdca26"
            ],
            [
             1,
             "#f0f921"
            ]
           ]
          },
          "colorway": [
           "#636efa",
           "#EF553B",
           "#00cc96",
           "#ab63fa",
           "#FFA15A",
           "#19d3f3",
           "#FF6692",
           "#B6E880",
           "#FF97FF",
           "#FECB52"
          ],
          "font": {
           "color": "#2a3f5f"
          },
          "geo": {
           "bgcolor": "white",
           "lakecolor": "white",
           "landcolor": "#E5ECF6",
           "showlakes": true,
           "showland": true,
           "subunitcolor": "white"
          },
          "hoverlabel": {
           "align": "left"
          },
          "hovermode": "closest",
          "mapbox": {
           "style": "light"
          },
          "paper_bgcolor": "white",
          "plot_bgcolor": "#E5ECF6",
          "polar": {
           "angularaxis": {
            "gridcolor": "white",
            "linecolor": "white",
            "ticks": ""
           },
           "bgcolor": "#E5ECF6",
           "radialaxis": {
            "gridcolor": "white",
            "linecolor": "white",
            "ticks": ""
           }
          },
          "scene": {
           "xaxis": {
            "backgroundcolor": "#E5ECF6",
            "gridcolor": "white",
            "gridwidth": 2,
            "linecolor": "white",
            "showbackground": true,
            "ticks": "",
            "zerolinecolor": "white"
           },
           "yaxis": {
            "backgroundcolor": "#E5ECF6",
            "gridcolor": "white",
            "gridwidth": 2,
            "linecolor": "white",
            "showbackground": true,
            "ticks": "",
            "zerolinecolor": "white"
           },
           "zaxis": {
            "backgroundcolor": "#E5ECF6",
            "gridcolor": "white",
            "gridwidth": 2,
            "linecolor": "white",
            "showbackground": true,
            "ticks": "",
            "zerolinecolor": "white"
           }
          },
          "shapedefaults": {
           "line": {
            "color": "#2a3f5f"
           }
          },
          "ternary": {
           "aaxis": {
            "gridcolor": "white",
            "linecolor": "white",
            "ticks": ""
           },
           "baxis": {
            "gridcolor": "white",
            "linecolor": "white",
            "ticks": ""
           },
           "bgcolor": "#E5ECF6",
           "caxis": {
            "gridcolor": "white",
            "linecolor": "white",
            "ticks": ""
           }
          },
          "title": {
           "x": 0.05
          },
          "xaxis": {
           "automargin": true,
           "gridcolor": "white",
           "linecolor": "white",
           "ticks": "",
           "title": {
            "standoff": 15
           },
           "zerolinecolor": "white",
           "zerolinewidth": 2
          },
          "yaxis": {
           "automargin": true,
           "gridcolor": "white",
           "linecolor": "white",
           "ticks": "",
           "title": {
            "standoff": 15
           },
           "zerolinecolor": "white",
           "zerolinewidth": 2
          }
         }
        },
        "title": {
         "text": "Impact of Negative values in Sales by Product"
        },
        "width": 4200,
        "xaxis": {
         "anchor": "y",
         "domain": [
          0,
          0.058163265306122446
         ]
        },
        "xaxis10": {
         "anchor": "y10",
         "domain": [
          0.6520408163265305,
          0.710204081632653
         ]
        },
        "xaxis11": {
         "anchor": "y11",
         "domain": [
          0.7244897959183674,
          0.7826530612244899
         ]
        },
        "xaxis12": {
         "anchor": "y12",
         "domain": [
          0.7969387755102041,
          0.8551020408163266
         ]
        },
        "xaxis13": {
         "anchor": "y13",
         "domain": [
          0.8693877551020408,
          0.9275510204081633
         ]
        },
        "xaxis14": {
         "anchor": "y14",
         "domain": [
          0.9418367346938776,
          1
         ]
        },
        "xaxis2": {
         "anchor": "y2",
         "domain": [
          0.07244897959183673,
          0.13061224489795917
         ]
        },
        "xaxis3": {
         "anchor": "y3",
         "domain": [
          0.14489795918367346,
          0.2030612244897959
         ]
        },
        "xaxis4": {
         "anchor": "y4",
         "domain": [
          0.2173469387755102,
          0.2755102040816326
         ]
        },
        "xaxis5": {
         "anchor": "y5",
         "domain": [
          0.2897959183673469,
          0.34795918367346934
         ]
        },
        "xaxis6": {
         "anchor": "y6",
         "domain": [
          0.3622448979591837,
          0.4204081632653061
         ]
        },
        "xaxis7": {
         "anchor": "y7",
         "domain": [
          0.4346938775510204,
          0.4928571428571428
         ]
        },
        "xaxis8": {
         "anchor": "y8",
         "domain": [
          0.5071428571428571,
          0.5653061224489796
         ]
        },
        "xaxis9": {
         "anchor": "y9",
         "domain": [
          0.5795918367346938,
          0.6377551020408163
         ]
        },
        "yaxis": {
         "anchor": "x",
         "domain": [
          0,
          1
         ]
        },
        "yaxis10": {
         "anchor": "x10",
         "domain": [
          0,
          1
         ]
        },
        "yaxis11": {
         "anchor": "x11",
         "domain": [
          0,
          1
         ]
        },
        "yaxis12": {
         "anchor": "x12",
         "domain": [
          0,
          1
         ]
        },
        "yaxis13": {
         "anchor": "x13",
         "domain": [
          0,
          1
         ]
        },
        "yaxis14": {
         "anchor": "x14",
         "domain": [
          0,
          1
         ]
        },
        "yaxis2": {
         "anchor": "x2",
         "domain": [
          0,
          1
         ]
        },
        "yaxis3": {
         "anchor": "x3",
         "domain": [
          0,
          1
         ]
        },
        "yaxis4": {
         "anchor": "x4",
         "domain": [
          0,
          1
         ]
        },
        "yaxis5": {
         "anchor": "x5",
         "domain": [
          0,
          1
         ]
        },
        "yaxis6": {
         "anchor": "x6",
         "domain": [
          0,
          1
         ]
        },
        "yaxis7": {
         "anchor": "x7",
         "domain": [
          0,
          1
         ]
        },
        "yaxis8": {
         "anchor": "x8",
         "domain": [
          0,
          1
         ]
        },
        "yaxis9": {
         "anchor": "x9",
         "domain": [
          0,
          1
         ]
        }
       }
      }
     },
     "metadata": {},
     "output_type": "display_data"
    }
   ],
   "source": [
    "# Merge datasets on 'month_year' and 'Mapped_GCK'\n",
    "merged_sales = pd.merge(\n",
    "    grouped_positive_sales_prod_month[['month_year', 'Mapped_GCK', 'Sales_EUR']],\n",
    "    grouped_neg_abs_sales_prod_month[['month_year', 'Mapped_GCK', 'Sales_EUR']],\n",
    "    on=['month_year', 'Mapped_GCK'],\n",
    "    suffixes=('_positive', '_negative')\n",
    ")\n",
    "\n",
    "# Calculate the difference between positive and negative sales\n",
    "merged_sales['Sales_EUR_diff'] = merged_sales['Sales_EUR_positive'] - merged_sales['Sales_EUR_negative']\n",
    "\n",
    "# Get unique product categories\n",
    "unique_products = merged_sales['Mapped_GCK'].unique()\n",
    "\n",
    "# Create subplot layout (1 row, multiple columns)\n",
    "fig = make_subplots(\n",
    "    rows=1, cols=len(unique_products),\n",
    "    subplot_titles=[f'Product {p}' for p in unique_products])\n",
    "\n",
    "# Loop through products and add subplots\n",
    "for i, product in enumerate(unique_products):\n",
    "    product_data = merged_sales[merged_sales['Mapped_GCK'] == product]\n",
    "\n",
    "    # Add single line for sales difference\n",
    "    fig.add_trace(go.Scatter(\n",
    "        x=product_data['month_year'], \n",
    "        y=product_data['Sales_EUR_diff'], \n",
    "        mode='lines', \n",
    "        name=f'Sales Difference - {product}', \n",
    "        line=dict(color='blue')\n",
    "    ), row=1, col=i+1)\n",
    "\n",
    "    fig.add_trace(go.Scatter(\n",
    "        x=product_data['month_year'], \n",
    "        y=[0] * len(product_data),\n",
    "        mode='lines',\n",
    "        name=f'Zero Line - {product}',\n",
    "        line=dict(color='black', dash='dash')\n",
    "    ), row=1, col=i+1)\n",
    "\n",
    "# Update layout for better visualization\n",
    "fig.update_layout(\n",
    "    title='Impact of Negative values in Sales by Product',\n",
    "    height=500, width=300 * len(unique_products),  # Adjust width dynamically\n",
    "    showlegend=True)\n",
    "\n",
    "# Show the figure\n",
    "fig.show()"
   ]
  },
  {
   "cell_type": "markdown",
   "metadata": {},
   "source": [
    "Products that have Negative Sales'values for certain months:\n",
    "- Product 6 (Jan 2020)\n",
    "- Product 9 (Nov 2020)\n",
    "- Product 14 (Sep 2021)\n",
    "\n",
    "**Product 1**: Negative values no sinificant effect on sales. Comparing this plot with the positive sales behavior, there is no visible change.\n",
    "\n",
    "**Product 3**: Negative values no sinificant effect on sales. Comparing this plot with the positive sales behavior, there is no visible change.\n",
    "\n",
    "**Product 4**: Negative values no sinificant effect on sales. Comparing this plot with the positive sales behavior, there is no visible change.\n",
    "\n",
    "**Product 5**: Negative values no sinificant effect on sales. Comparing this plot with the positive sales behavior, there is no visible change.\n",
    "\n",
    "**Product 6**: While it seems that most months sales values are not hugely affected by the negative values, there is an exception to the rule - **January 2020**. The sales in this month were not the highest, neither the lowest, which confirms the irregular behavior of negative values in this specific month. "
   ]
  },
  {
   "cell_type": "markdown",
   "metadata": {},
   "source": []
  }
 ],
 "metadata": {
  "kernelspec": {
   "display_name": "Python 3",
   "language": "python",
   "name": "python3"
  },
  "language_info": {
   "codemirror_mode": {
    "name": "ipython",
    "version": 3
   },
   "file_extension": ".py",
   "mimetype": "text/x-python",
   "name": "python",
   "nbconvert_exporter": "python",
   "pygments_lexer": "ipython3",
   "version": "3.11.5"
  }
 },
 "nbformat": 4,
 "nbformat_minor": 2
}
